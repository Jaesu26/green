{
 "cells": [
  {
   "cell_type": "markdown",
   "id": "athletic-surgery",
   "metadata": {},
   "source": [
    "# 깃허브 카테고리 설정"
   ]
  },
  {
   "cell_type": "markdown",
   "id": "regular-chain",
   "metadata": {},
   "source": [
    "- toc: true\n",
    "- branch: master\n",
    "- badges: true\n",
    "- comments: true\n",
    "- author: 한재수\n",
    "- categories: [python]"
   ]
  },
  {
   "cell_type": "markdown",
   "id": "cognitive-attitude",
   "metadata": {},
   "source": [
    "## 깃허브 카테고리"
   ]
  },
  {
   "cell_type": "markdown",
   "id": "cardiovascular-vegetarian",
   "metadata": {},
   "source": [
    "- toc: true\n",
    "- branch: master\n",
    "- badges: true\n",
    "- comments: true\n",
    "- author: 한재수\n",
    "- categories: [python]\n",
    "\n",
    "`-` 위에 내용을 아무곳에나 붙여 넣는다\n",
    "\n",
    "`-` categories에 해당하는 부분이 깃허브 홈페이지에서 tag에 보이는 부분이다."
   ]
  },
  {
   "cell_type": "code",
   "execution_count": 2,
   "id": "ready-ownership",
   "metadata": {},
   "outputs": [
    {
     "data": {
      "text/plain": [
       "2"
      ]
     },
     "execution_count": 2,
     "metadata": {},
     "output_type": "execute_result"
    }
   ],
   "source": [
    "1+1"
   ]
  },
  {
   "cell_type": "code",
   "execution_count": 3,
   "id": "numerous-paintball",
   "metadata": {},
   "outputs": [
    {
     "data": {
      "text/plain": [
       "4"
      ]
     },
     "execution_count": 3,
     "metadata": {},
     "output_type": "execute_result"
    }
   ],
   "source": [
    "2+2"
   ]
  },
  {
   "cell_type": "code",
   "execution_count": 4,
   "id": "comparable-martial",
   "metadata": {},
   "outputs": [
    {
     "data": {
      "text/plain": [
       "6"
      ]
     },
     "execution_count": 4,
     "metadata": {},
     "output_type": "execute_result"
    }
   ],
   "source": [
    "3+3"
   ]
  },
  {
   "cell_type": "code",
   "execution_count": null,
   "id": "loose-relations",
   "metadata": {},
   "outputs": [],
   "source": []
  }
 ],
 "metadata": {
  "kernelspec": {
   "display_name": "Python 3",
   "language": "python",
   "name": "python3"
  },
  "language_info": {
   "codemirror_mode": {
    "name": "ipython",
    "version": 3
   },
   "file_extension": ".py",
   "mimetype": "text/x-python",
   "name": "python",
   "nbconvert_exporter": "python",
   "pygments_lexer": "ipython3",
   "version": "3.8.8"
  }
 },
 "nbformat": 4,
 "nbformat_minor": 5
}
