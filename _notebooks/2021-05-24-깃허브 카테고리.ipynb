{
 "cells": [
  {
   "cell_type": "markdown",
   "id": "collected-switch",
   "metadata": {},
   "source": [
    "# 깃허브 카테고리 설정\n",
    "\n",
    "> \"깃허브 카테고리\"\n",
    "\n",
    "- toc: true\n",
    "- branch: master\n",
    "- badges: true\n",
    "- comments: true\n",
    "- author: 한재수\n",
    "- categories: [python]"
   ]
  },
  {
   "cell_type": "markdown",
   "id": "distant-plane",
   "metadata": {},
   "source": [
    "## 깃허브 카테고리"
   ]
  },
  {
   "cell_type": "markdown",
   "id": "chief-pound",
   "metadata": {},
   "source": [
    "  제목\n",
    " \n",
    "  \"부제목\"\n",
    "  \n",
    "  -toc: true\n",
    "  \n",
    "  -branch: master\n",
    "  \n",
    "  -badges: true\n",
    "  \n",
    "  -comments: true\n",
    "  \n",
    "  -author: 한재수\n",
    "  \n",
    "  -categories: [python]\n",
    "  \n",
    "\n",
    "`-` 위에 내용을 아무곳에나 붙여 넣는다. 부제목은 (>\"부제목\"), 제목은 (# 제목)\n",
    "\n",
    "`-` categories에 해당하는 부분이 깃허브 홈페이지에서 tag에 보이는 부분이다."
   ]
  },
  {
   "cell_type": "code",
   "execution_count": 2,
   "id": "heard-blink",
   "metadata": {},
   "outputs": [
    {
     "data": {
      "text/plain": [
       "2"
      ]
     },
     "execution_count": 2,
     "metadata": {},
     "output_type": "execute_result"
    }
   ],
   "source": [
    "1+1"
   ]
  },
  {
   "cell_type": "code",
   "execution_count": 3,
   "id": "unsigned-synthesis",
   "metadata": {},
   "outputs": [
    {
     "data": {
      "text/plain": [
       "4"
      ]
     },
     "execution_count": 3,
     "metadata": {},
     "output_type": "execute_result"
    }
   ],
   "source": [
    "2+2"
   ]
  },
  {
   "cell_type": "code",
   "execution_count": 4,
   "id": "transsexual-horizon",
   "metadata": {},
   "outputs": [
    {
     "data": {
      "text/plain": [
       "6"
      ]
     },
     "execution_count": 4,
     "metadata": {},
     "output_type": "execute_result"
    }
   ],
   "source": [
    "3+3"
   ]
  },
  {
   "cell_type": "code",
   "execution_count": null,
   "id": "violent-hudson",
   "metadata": {},
   "outputs": [],
   "source": []
  }
 ],
 "metadata": {
  "kernelspec": {
   "display_name": "Python 3",
   "language": "python",
   "name": "python3"
  },
  "language_info": {
   "codemirror_mode": {
    "name": "ipython",
    "version": 3
   },
   "file_extension": ".py",
   "mimetype": "text/x-python",
   "name": "python",
   "nbconvert_exporter": "python",
   "pygments_lexer": "ipython3",
   "version": "3.8.8"
  }
 },
 "nbformat": 4,
 "nbformat_minor": 5
}
