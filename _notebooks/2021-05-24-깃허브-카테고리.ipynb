{
 "cells": [
  {
   "cell_type": "markdown",
   "id": "hungarian-munich",
   "metadata": {},
   "source": [
    "# 깃허브 카테고리 설정(작성 중)\n",
    "\n",
    "> \"깃허브 카테고리\"\n",
    "\n",
    "- toc: true\n",
    "- branch: master\n",
    "- badges: true\n",
    "- comments: true\n",
    "- author: 한재수\n",
    "- categories: [python]"
   ]
  },
  {
   "cell_type": "markdown",
   "id": "honest-layout",
   "metadata": {},
   "source": [
    "## 깃허브 카테고리"
   ]
  },
  {
   "cell_type": "markdown",
   "id": "printable-wedding",
   "metadata": {},
   "source": [
    "  제목\n",
    " \n",
    "  \"부제목\"\n",
    "  \n",
    "  -toc: true\n",
    "  \n",
    "  -branch: master\n",
    "  \n",
    "  -badges: true\n",
    "  \n",
    "  -comments: true\n",
    "  \n",
    "  -author: 한재수\n",
    "  \n",
    "  -categories: [python]\n",
    "  \n",
    "\n",
    "`-` 위에 내용을 아무곳에나 붙여 넣는다. 부제목은 (>\"부제목\"), 제목은 (# 제목)\n",
    "\n",
    "`-` categories에 해당하는 부분이 깃허브 홈페이지에서 tag에 보이는 부분이다."
   ]
  },
  {
   "cell_type": "markdown",
   "id": "wound-increase",
   "metadata": {},
   "source": [
    "## 블로그 관리\n",
    "- 1_ 깃허브 가입하기\n",
    "- 2_ fastai/fastpages 사용\n",
    "- 3_ 깃허브 데스크탑 이용\n",
    "\n",
    "- (1) 주피터노트북으로 공부한다.\n",
    "- (2) 깃허브와 연결된 어떤 폴더(드랍박스 안의 green)에 공부한 내용을 넣는다.\n",
    "- (3) 깃허브 데스크탑이라는 프로그램을 이용하여 local(내 윈도우 컴퓨터)에서 remote (github)로 변경사항을 반영한다.\n",
    "- (4) 2~3분 뒤에 블로그 홈페이지에 반영된다.\n",
    "- (5) 공부한 내용을 편집없이 주피터 노트북 파일을 올리기만 하면 블로그에 올라가서 편하다. 필요에 따라 숨기기, 비밀 포스트도 만들 수 있다."
   ]
  },
  {
   "cell_type": "markdown",
   "id": "raising-strand",
   "metadata": {},
   "source": [
    "## 깃, 깃허브\n",
    "- 버전 관리 시스템\n",
    "- 서로 코드를 공유\n",
    "- 혼자 쓰면 개인 저장소.."
   ]
  },
  {
   "cell_type": "markdown",
   "id": "accessory-thesis",
   "metadata": {},
   "source": [
    "## 주피터노트북 --> remote --> page (안 올라갈 수 도 있다)\n",
    "\n",
    "- 깃허브 데스크탑 history에서 이제껏 했던 커밋을 볼 수 있다. 게다가 삭제된 파일을 복구할 수 도 있다.\n",
    "- 화면 캡쳐 프로그램으로 캡쳐를 함 --> 마크다운에서 캡쳐한 이미지를 ctrl+v하면 캡쳐한 이미지가 삽입된다.\n",
    "- 이미지 파일을 넣은 주피터 노트북 파일을 올리면 깃허브 notebook에는 올라가지만 블로그에는 올라가지 않는다."
   ]
  },
  {
   "cell_type": "markdown",
   "id": "rental-bernard",
   "metadata": {},
   "source": [
    "## 깃허브 데스크탑에서 오류가 났는데 모르겠다. gg"
   ]
  },
  {
   "cell_type": "markdown",
   "id": "endless-planning",
   "metadata": {},
   "source": [
    "## 마크다운 작성하면서 신기한 점을 하나 알아냈다.\n",
    "- 1 앞에 띄어쓰기 안됨\n",
    "- 2. `.` 하나를 붙였을 뿐인데 앞에 띄어쓰기가 된다???\n",
    "- 3 이유를 모르겠음.."
   ]
  },
  {
   "cell_type": "markdown",
   "id": "raising-chester",
   "metadata": {},
   "source": [
    "## 내가 알아낸 마크다운 용법"
   ]
  },
  {
   "cell_type": "markdown",
   "id": "raising-spouse",
   "metadata": {},
   "source": [
    "### 수식을 멋있게 표현하고 싶다면??"
   ]
  },
  {
   "cell_type": "markdown",
   "id": "green-premises",
   "metadata": {},
   "source": [
    "- `$`수식`$` 꼴로 나타낸다.\n",
    "- y = x + 1\n",
    "- $y = x +1$"
   ]
  },
  {
   "cell_type": "markdown",
   "id": "northern-problem",
   "metadata": {},
   "source": [
    "#### 밑 첨자 표현"
   ]
  },
  {
   "cell_type": "markdown",
   "id": "ranking-secret",
   "metadata": {},
   "source": [
    "- `$`수식`_`밑첨자`$`\n",
    "- x_1 + x_2 = x_3\n",
    "- $x_1 + x_2 = x_3$"
   ]
  },
  {
   "cell_type": "code",
   "execution_count": null,
   "id": "painted-romania",
   "metadata": {},
   "outputs": [],
   "source": []
  }
 ],
 "metadata": {
  "kernelspec": {
   "display_name": "Python 3",
   "language": "python",
   "name": "python3"
  },
  "language_info": {
   "codemirror_mode": {
    "name": "ipython",
    "version": 3
   },
   "file_extension": ".py",
   "mimetype": "text/x-python",
   "name": "python",
   "nbconvert_exporter": "python",
   "pygments_lexer": "ipython3",
   "version": "3.8.8"
  }
 },
 "nbformat": 4,
 "nbformat_minor": 5
}
