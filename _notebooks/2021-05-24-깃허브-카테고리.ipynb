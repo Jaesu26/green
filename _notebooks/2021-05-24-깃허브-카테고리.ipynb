{
 "cells": [
  {
   "cell_type": "markdown",
   "id": "subject-fleece",
   "metadata": {},
   "source": [
    "# 깃허브 카테고리 설정(작성 중?)\n",
    "\n",
    "> \"깃허브 카테고리\"\n",
    "\n",
    "- toc: true\n",
    "- branch: master\n",
    "- badges: true\n",
    "- comments: true\n",
    "- author: 한재수\n",
    "- categories: [python]"
   ]
  },
  {
   "cell_type": "markdown",
   "id": "coordinate-minnesota",
   "metadata": {},
   "source": [
    "## 깃허브 카테고리"
   ]
  },
  {
   "cell_type": "markdown",
   "id": "attempted-aquarium",
   "metadata": {},
   "source": [
    "  제목\n",
    " \n",
    "  \"부제목\"\n",
    "  \n",
    "  -toc: true\n",
    "  \n",
    "  -branch: master\n",
    "  \n",
    "  -badges: true\n",
    "  \n",
    "  -comments: true\n",
    "  \n",
    "  -author: 한재수\n",
    "  \n",
    "  -categories: [python]\n",
    "  \n",
    "\n",
    "`-` 위에 내용을 아무곳에나 붙여 넣는다. 부제목은 (>\"부제목\"), 제목은 (# 제목)\n",
    "\n",
    "`-` categories에 해당하는 부분이 깃허브 홈페이지에서 tag에 보이는 부분이다."
   ]
  },
  {
   "cell_type": "markdown",
   "id": "dependent-creativity",
   "metadata": {},
   "source": [
    "## 블로그 관리\n",
    "- 1_ 깃허브 가입하기\n",
    "- 2_ fastai/fastpages 사용\n",
    "- 3_ 깃허브 데스크탑 이용\n",
    "\n",
    "- (1) 주피터노트북으로 공부한다.\n",
    "- (2) 깃허브와 연결된 어떤 폴더(드랍박스 안의 green)에 공부한 내용을 넣는다.\n",
    "- (3) 깃허브 데스크탑이라는 프로그램을 이용하여 local(내 윈도우 컴퓨터)에서 remote (github)로 변경사항을 반영한다.\n",
    "- (4) 2~3분 뒤에 블로그 홈페이지에 반영된다.\n",
    "- (5) 공부한 내용을 편집없이 주피터 노트북 파일을 올리기만 하면 블로그에 올라가서 편하다. 필요에 따라 숨기기, 비밀 포스트도 만들 수 있다."
   ]
  },
  {
   "cell_type": "markdown",
   "id": "closing-harrison",
   "metadata": {},
   "source": [
    "## 마크다운 작성하면서 신기한 점을 하나 알아냈다.\n",
    "- 1 앞에 띄어쓰기 안됨\n",
    "- 2. `.` 하나를 붙였을 뿐인데 앞에 띄어쓰기가 된다???\n",
    "- 3 이유 모름.."
   ]
  },
  {
   "cell_type": "markdown",
   "id": "agricultural-buffalo",
   "metadata": {},
   "source": [
    "## 깃, 깃허브\n",
    "- 버전 관리 시스템\n",
    "- 서로 코드를 공유\n",
    "- 혼자 쓰면 개인 저장소.."
   ]
  },
  {
   "cell_type": "markdown",
   "id": "negative-plaintiff",
   "metadata": {},
   "source": [
    "## 주피터노트북 --> remote --> page (안 올라갈 수 도 있다)\n",
    "- "
   ]
  },
  {
   "cell_type": "code",
   "execution_count": null,
   "id": "sharing-armstrong",
   "metadata": {},
   "outputs": [],
   "source": []
  }
 ],
 "metadata": {
  "kernelspec": {
   "display_name": "Python 3",
   "language": "python",
   "name": "python3"
  },
  "language_info": {
   "codemirror_mode": {
    "name": "ipython",
    "version": 3
   },
   "file_extension": ".py",
   "mimetype": "text/x-python",
   "name": "python",
   "nbconvert_exporter": "python",
   "pygments_lexer": "ipython3",
   "version": "3.8.8"
  }
 },
 "nbformat": 4,
 "nbformat_minor": 5
}
