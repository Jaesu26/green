{
 "cells": [
  {
   "cell_type": "markdown",
   "id": "adolescent-directory",
   "metadata": {},
   "source": [
    "# 파이썬 기말시험\n",
    "\n",
    "> \"강화 시뮬레이션 (작성 완료)\"\n",
    "\n",
    "- toc: true\n",
    "- branch: master\n",
    "- badges: true\n",
    "- comments: true\n",
    "- author: 한재수\n",
    "- categories: [Python]"
   ]
  },
  {
   "cell_type": "markdown",
   "id": "0649901a-696d-4d47-b857-1dd20af43cce",
   "metadata": {},
   "source": [
    "`-` 문제 : [시험 문제](https://miruetoto.github.io/yechan/%ED%8C%8C%EC%9D%B4%EC%8D%AC/2021/06/13/2021%EB%85%84-1%ED%95%99%EA%B8%B0-%ED%8C%8C%EC%9D%B4%EC%8D%AC%EC%9E%85%EB%AC%B8-%EA%B8%B0%EB%A7%90%EA%B3%A0%EC%82%AC-%ED%8C%8C%EC%9D%B4%EC%8D%AC.html)"
   ]
  },
  {
   "cell_type": "code",
   "execution_count": 26,
   "id": "37b03284-f3a0-45b6-85a0-dcce39992a7d",
   "metadata": {},
   "outputs": [],
   "source": [
    "import pandas as pd\n",
    "import numpy as np"
   ]
  },
  {
   "cell_type": "markdown",
   "id": "ad427cb4-f4ea-4b72-821c-baffb3c5269a",
   "metadata": {},
   "source": [
    "## 1번 문제"
   ]
  },
  {
   "cell_type": "code",
   "execution_count": 46,
   "id": "veterinary-lighting",
   "metadata": {},
   "outputs": [],
   "source": [
    "class execution_sword():\n",
    "    \n",
    "    def __init__(self):\n",
    "        self.upgradestate = pd.DataFrame({'day0':[0] * 100})\n",
    "        self.prob = 0.3\n",
    "        self.day = 0\n",
    "        \n",
    "    def add_day(self):\n",
    "        self.day = self.day + 1  ## 날짜를 하루 더한다\n",
    "        \n",
    "    def attempt(self):\n",
    "        self.attemptresult = np.random.binomial(n = 1, p = self.prob, size = 100) \n",
    "           \n",
    "    def update(self):\n",
    "        self.upgradestate['day%s' % self.day] = np.minimum(self.upgradestate['day%s' % (self.day - 1)] + self.attemptresult, 5) ## +5이후로는 증가하지 않는다  \n",
    "        self.ratio = sum(self.upgradestate.loc[:, 'day%s' % self.day] == 5) / 100 \n",
    "        \n",
    "    def return_ratio(self):\n",
    "        return self.ratio ## ratio(성공한 사람 수 / 전체 사람 수)를 리턴한다"
   ]
  },
  {
   "cell_type": "code",
   "execution_count": 47,
   "id": "decent-grocery",
   "metadata": {
    "tags": []
   },
   "outputs": [
    {
     "data": {
      "text/plain": [
       "100.0"
      ]
     },
     "execution_count": 47,
     "metadata": {},
     "output_type": "execute_result"
    }
   ],
   "source": [
    "## 시뮬레이션\n",
    "#1-(1)\n",
    "test1 = execution_sword()\n",
    "\n",
    "for test1.day in range(1, 63):\n",
    "    test1.attempt()\n",
    "    test1.update()\n",
    "    \n",
    "100 * test1.ratio ## 62일후 100명중 몇명이 +5강화 상태인가?\n",
    "\n",
    "## 시뮬레이션 결과 100명이였다"
   ]
  },
  {
   "cell_type": "markdown",
   "id": "047c9f1f-696d-4045-979b-bb018261d262",
   "metadata": {},
   "source": [
    "`-` 위에처럼 `test.i`를 함수 외부에서 조작하는 것은 좋지 않다\n",
    "\n",
    "`-` 마찬가지로 test1 클래스의 멤버변수(ratio)에 직접 접근하는 것도 좋지 않다\n",
    "\n",
    "`-` 이를 조작할 수 있는 함수를 새로 만들고 코드를 다시 구현하자"
   ]
  },
  {
   "cell_type": "code",
   "execution_count": 24,
   "id": "8892b4d1-d37b-43c5-b1e0-ec9329e1b11b",
   "metadata": {},
   "outputs": [
    {
     "data": {
      "text/plain": [
       "100.0"
      ]
     },
     "execution_count": 24,
     "metadata": {},
     "output_type": "execute_result"
    }
   ],
   "source": [
    "test_1 = execution_sword()\n",
    "\n",
    "for k in range(1, 63):\n",
    "    test_1.add_day()\n",
    "    test_1.attempt()\n",
    "    test_1.update()\n",
    "    \n",
    "100 * test_1.return_ratio()"
   ]
  },
  {
   "cell_type": "markdown",
   "id": "a17de861-fa90-4217-8628-879d0eb3b210",
   "metadata": {},
   "source": [
    "## 2번 문제"
   ]
  },
  {
   "cell_type": "code",
   "execution_count": 43,
   "id": "crucial-destiny",
   "metadata": {},
   "outputs": [],
   "source": [
    "class execution_sword2(execution_sword):\n",
    "    \n",
    "    def __init__(self):\n",
    "        super().__init__() ## 함수 오버라이딩\n",
    "        self.prob = 0.7\n",
    "        self.failstate = pd.DataFrame({'day0':[0] * 100})\n",
    "        \n",
    "    def update(self):\n",
    "        super().update() ## 함수 오버라이딩\n",
    "        self.failstate['day%s' % self.day] = self.failstate['day%s' % (self.day - 1)] + (self.attemptresult == 0) * 1\n",
    "        \n",
    "        for j in range(100):\n",
    "            if self.upgradestate.iloc[j, self.day] == 0:\n",
    "                self.failstate.iloc[j, self.day] = self.failstate.iloc[j, self.day] - 1 \n",
    "            ## i-1번째 + 강화시도(0 or 1) = i번째\n",
    "            ## i, i-1번째 강화상태가 0이라는 의미는 i-1째에 시도한 강화가 실패했다는 의미\n",
    "            ## upgradestate가 0이라는 의미는 실패했다는 것이므로 실패횟수가 하나 쌓인다\n",
    "            ## +0에서는 실패횟수가 쌓이지 않으므로 failstate값을 하나 뺀다\n",
    "            \n",
    "            if (self.upgradestate.iloc[j, self.day] == 5) and (self.attemptresult[j] == 0):\n",
    "            ## i-1번째 + 강화시도(0 or 1) = i번째 \n",
    "            ## i번째가 +5강화이면서 i-1번째 시도한 강화가 실패라는 의미는\n",
    "            ## i-1번째가 +5강화였다는 의미이다. 그러므로 i번째 실패횟수가 +1 됐을것이다\n",
    "            ## +5강화에서는 강화를 도전하지 않을 것이다\n",
    "            ## 그러므로 i번째 실패횟수를 1을 감소시킨다\n",
    "                self.failstate.iloc[j, self.day] = self.failstate.iloc[j, self.day] - 1 \n",
    "            ## +5에서는 강화를 시도하지 않을것이므로 \n",
    "            ## 만약 실패했다면 failstate값을 하나 뺀다\n",
    "                \n",
    "    def reset(self): \n",
    "        for j in range(100):\n",
    "            if (self.upgradestate.iloc[j, self.day] > 0) and (self.upgradestate.iloc[j, self.day] < 5):     \n",
    "                if self.failstate.iloc[j, self.day] == 2:\n",
    "                    self.failstate.iloc[j, self.day] = 0\n",
    "                    self.upgradestate.iloc[j, self.day] = 0\n",
    "            ## 실패스택이 2라면 실패스택을 0으로 바꾸고 강화상태를 +0으로 바꾼다 \n",
    "            \n",
    "    def arrangeprobt(self):\n",
    "        if self.ratio >= 0.5:\n",
    "            self.prob = 0.9\n",
    "            \n",
    "        ## +5강 비율이 50%이상이라면 전체유저의 강화 성공확률을 90%로 바꾼다\n",
    "    \n",
    "    @property\n",
    "    def return_ratio(self):\n",
    "        return self.ratio  "
   ]
  },
  {
   "cell_type": "markdown",
   "id": "9d9de2f4-9e53-48dc-bc35-86bcbc6e31ef",
   "metadata": {},
   "source": [
    "`-` 위에서 `멤버변수 ratio`를 반환하는 `return_ratio`라는 함수를 만들었다\n",
    "\n",
    "`-` 그런데 전에는 `인스턴스.ratio`를 사용했는데 이제는 `인스턴스.return_ratio()`를 써야한다\n",
    "\n",
    "`-` 전에 사용하던 것처럼 값으로 쓰고싶다(괄호를 생략하여 메소드를 값처럼 사용하고 싶다)\n",
    "\n",
    "`-` `@property`를 사용!"
   ]
  },
  {
   "cell_type": "code",
   "execution_count": 44,
   "id": "verbal-crazy",
   "metadata": {},
   "outputs": [
    {
     "data": {
      "text/plain": [
       "100.0"
      ]
     },
     "execution_count": 44,
     "metadata": {},
     "output_type": "execute_result"
    }
   ],
   "source": [
    "## 시뮬레이션 \n",
    "#2-(1)\n",
    "test2 = execution_sword2()\n",
    "\n",
    "for k in range(1, 63):\n",
    "    test2.add_day()\n",
    "    test2.attempt()\n",
    "    test2.update()\n",
    "    test2.reset()\n",
    "    \n",
    "100 * test2.return_ratio  ## 괄호 생략 가능 ## 그런데 메소드 이름이 return_ratio라 괄호가 있는 것이 자연스러운 것 같음\n",
    "\n",
    "## 시뮬레이션 결과 100명이였다       "
   ]
  },
  {
   "cell_type": "code",
   "execution_count": 36,
   "id": "elder-dryer",
   "metadata": {},
   "outputs": [
    {
     "data": {
      "text/plain": [
       "99.0"
      ]
     },
     "execution_count": 36,
     "metadata": {},
     "output_type": "execute_result"
    }
   ],
   "source": [
    "## 시뮬레이션\n",
    "#2-(2)\n",
    "test3 = execution_sword2()\n",
    "\n",
    "for k in range(1, 32):\n",
    "    test3.add_day()\n",
    "    test3.attempt()\n",
    "    test3.update()\n",
    "    test3.reset()\n",
    "\n",
    "100 * test3.return_ratio  ## 31일후 100명중 몇명이 +5강화 상태인가?\n",
    "\n",
    "## 시뮬레이션 결과 99명이였다"
   ]
  },
  {
   "cell_type": "code",
   "execution_count": 45,
   "id": "introductory-marshall",
   "metadata": {},
   "outputs": [
    {
     "data": {
      "text/plain": [
       "100.0"
      ]
     },
     "execution_count": 45,
     "metadata": {},
     "output_type": "execute_result"
    }
   ],
   "source": [
    "## 시뮬레이션\n",
    "#2-(3)\n",
    "test4 = execution_sword2()\n",
    "\n",
    "for k in range(1, 63):\n",
    "    test4.add_day()\n",
    "    test4.attempt()\n",
    "    test4.update()\n",
    "    test4.reset()\n",
    "    test4.arrangeprobt()\n",
    "    \n",
    "100 * test4.return_ratio  ## 과반수가 +5강화 일때 성공확률을 0.9로 바꾼다, 62일후 100명중 몇명이 +5강화 상태인가?\n",
    "\n",
    "## 시뮬레이션 결과 100명이였다"
   ]
  },
  {
   "cell_type": "markdown",
   "id": "b8474d1a-e0f7-4ac8-bf3f-5b2a6478b257",
   "metadata": {},
   "source": [
    "## 3번 문제"
   ]
  },
  {
   "cell_type": "markdown",
   "id": "upper-finder",
   "metadata": {},
   "source": [
    "`-` 다음문장을 잘 읽고 참 거짓을 판단하여라 (10점)\n",
    "\n",
    "`1.` tuple은 원소의 값을 임의로 바꿀 수 있다 ---> 거짓\n",
    "\n",
    "`2.` class 에 정의된 함수(=메서드)는 self 만을 인자로 받을수 있다 ---> 거짓"
   ]
  },
  {
   "cell_type": "code",
   "execution_count": null,
   "id": "timely-ground",
   "metadata": {},
   "outputs": [],
   "source": []
  }
 ],
 "metadata": {
  "kernelspec": {
   "display_name": "Python 3 (ipykernel)",
   "language": "python",
   "name": "python3"
  },
  "language_info": {
   "codemirror_mode": {
    "name": "ipython",
    "version": 3
   },
   "file_extension": ".py",
   "mimetype": "text/x-python",
   "name": "python",
   "nbconvert_exporter": "python",
   "pygments_lexer": "ipython3",
   "version": "3.8.11"
  }
 },
 "nbformat": 4,
 "nbformat_minor": 5
}
