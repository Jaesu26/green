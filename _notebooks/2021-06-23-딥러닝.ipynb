{
 "cells": [
  {
   "cell_type": "markdown",
   "id": "accessory-stopping",
   "metadata": {},
   "source": [
    "# 파이썬 딥러닝\n",
    "\n",
    "> \"작성 중\"\n",
    "\n",
    "- toc: true\n",
    "- branch: master\n",
    "- badges: true\n",
    "- comments: true\n",
    "- author: 한재수\n",
    "- categories: [python]"
   ]
  },
  {
   "cell_type": "markdown",
   "id": "comic-circumstances",
   "metadata": {},
   "source": [
    "## 텐서플로"
   ]
  },
  {
   "cell_type": "markdown",
   "id": "responsible-lease",
   "metadata": {},
   "source": [
    "- 무지성 코드(예쩨 그대로 복붙 손으로)"
   ]
  },
  {
   "cell_type": "code",
   "execution_count": 1,
   "id": "acceptable-swing",
   "metadata": {},
   "outputs": [
    {
     "name": "stdout",
     "output_type": "stream",
     "text": [
      "tf.Tensor(\n",
      "[[1. 0.]\n",
      " [1. 0.]], shape=(2, 2), dtype=float32)\n"
     ]
    }
   ],
   "source": [
    "import tensorflow as tf\n",
    "W = tf.Variable(tf.ones(shape=(2,2)), name = \"W\")\n",
    "b = tf.Variable(tf.zeros(shape=(2)), name = \"b\")\n",
    "\n",
    "@tf.function\n",
    "def model(x):\n",
    "    return W * x + b\n",
    "out_a = model([1,0])\n",
    "\n",
    "print(out_a)"
   ]
  },
  {
   "cell_type": "markdown",
   "id": "strong-field",
   "metadata": {},
   "source": [
    "## 초평면(간단히)\n",
    "- 평면의 단면은 직선, 부피의 단면은 평면, 그 이상은???\n",
    "- 직선($ax + by + c = 0$)은 2차원의 초평면, 평면($ax + by + cz + d = 0$)은 3차원의 초평면\n",
    "- $a_1x_1 + a_2x_2 + a_3x_3 + a_4x_4 + c = 0$ 는 뭐라고 불러야 돼??? --> 4차원 공간에 그려짐\n",
    "- `평면`을 일반화하여 `초평면`을 만듦\n",
    "- n차원의 그려진 초평면 --> n-1차원 공간\n",
    "- 초평면은 공간을 분할하는 역할 --> 직선은 평면을 분할, 평면은 공간을 분할\n",
    "- **[$\\ast$]** `n차원의 초평면은 n차원을 분할` **[$\\ast$]**"
   ]
  },
  {
   "cell_type": "markdown",
   "id": "physical-indicator",
   "metadata": {},
   "source": [
    "## 퍼셉트론"
   ]
  },
  {
   "cell_type": "code",
   "execution_count": null,
   "id": "supposed-footage",
   "metadata": {},
   "outputs": [],
   "source": []
  }
 ],
 "metadata": {
  "kernelspec": {
   "display_name": "Python 3",
   "language": "python",
   "name": "python3"
  },
  "language_info": {
   "codemirror_mode": {
    "name": "ipython",
    "version": 3
   },
   "file_extension": ".py",
   "mimetype": "text/x-python",
   "name": "python",
   "nbconvert_exporter": "python",
   "pygments_lexer": "ipython3",
   "version": "3.8.8"
  }
 },
 "nbformat": 4,
 "nbformat_minor": 5
}
