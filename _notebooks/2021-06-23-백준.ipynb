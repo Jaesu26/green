{
 "cells": [
  {
   "cell_type": "markdown",
   "id": "imposed-murder",
   "metadata": {},
   "source": [
    "# 백준 문제풀기\n",
    "\n",
    "> \"단계별로 문제풀기(작성 중)\"\n",
    "\n",
    "- toc: true\n",
    "- branch: master\n",
    "- badges: true\n",
    "- comments: true\n",
    "- author: 한재수\n",
    "- categories: [python, algorithm]"
   ]
  },
  {
   "cell_type": "markdown",
   "id": "passive-render",
   "metadata": {},
   "source": [
    "---"
   ]
  },
  {
   "cell_type": "markdown",
   "id": "robust-medicine",
   "metadata": {},
   "source": [
    "## 백준 하면서 알아낸 점\n",
    "1. 같은 언어, 같은 코드여도 시간이 다를 수 있음\n",
    "\n",
    "2. 메모리도 다를 수 있음"
   ]
  },
  {
   "cell_type": "markdown",
   "id": "nuclear-warehouse",
   "metadata": {},
   "source": [
    "---"
   ]
  },
  {
   "cell_type": "markdown",
   "id": "potential-stuart",
   "metadata": {},
   "source": [
    "## 입출력과 사칙연산"
   ]
  },
  {
   "cell_type": "markdown",
   "id": "alpine-louisiana",
   "metadata": {},
   "source": [
    "### 사칙연산 출력"
   ]
  },
  {
   "cell_type": "code",
   "execution_count": 4,
   "id": "pacific-temple",
   "metadata": {},
   "outputs": [
    {
     "name": "stdin",
     "output_type": "stream",
     "text": [
      " 7 3\n"
     ]
    },
    {
     "name": "stdout",
     "output_type": "stream",
     "text": [
      "10\n",
      "4\n",
      "21\n",
      "2\n",
      "1\n"
     ]
    }
   ],
   "source": [
    "a, b = map(int, input().split())\n",
    "print(a+b)\n",
    "print(a-b)\n",
    "print(a*b)\n",
    "print(a//b)\n",
    "print(a%b)"
   ]
  },
  {
   "cell_type": "markdown",
   "id": "equipped-psychiatry",
   "metadata": {},
   "source": [
    "### A+B - 1"
   ]
  },
  {
   "cell_type": "code",
   "execution_count": 3,
   "id": "liquid-standard",
   "metadata": {},
   "outputs": [
    {
     "name": "stdin",
     "output_type": "stream",
     "text": [
      " 10 2\n"
     ]
    },
    {
     "name": "stdout",
     "output_type": "stream",
     "text": [
      "12\n"
     ]
    }
   ],
   "source": [
    "a, b = map(int, input().split())\n",
    "print(a+b)"
   ]
  },
  {
   "cell_type": "markdown",
   "id": "black-holiday",
   "metadata": {},
   "source": [
    "### 나머지\n",
    "- (A+B)%C는 ((A%C) + (B%C))%C 와 같을까?\n",
    "\n",
    "- (A×B)%C는 ((A%C) × (B%C))%C 와 같을까?\n",
    "\n",
    "- 세 수 A, B, C가 주어졌을 때, 위의 네 가지 값을 구하는 프로그램을 작성하시오."
   ]
  },
  {
   "cell_type": "code",
   "execution_count": 54,
   "id": "comic-worship",
   "metadata": {},
   "outputs": [
    {
     "name": "stdin",
     "output_type": "stream",
     "text": [
      " 5 8 4\n"
     ]
    },
    {
     "name": "stdout",
     "output_type": "stream",
     "text": [
      "1\n",
      "1\n",
      "0\n",
      "0\n"
     ]
    }
   ],
   "source": [
    "A, B, C = map(int, input().split())\n",
    "print((A+B)%C)\n",
    "print(((A%C) + (B%C))%C)\n",
    "print((A*B)%C)\n",
    "print(((A%C) * (B%C))%C)"
   ]
  },
  {
   "cell_type": "markdown",
   "id": "sufficient-nowhere",
   "metadata": {},
   "source": [
    "### 곱하기"
   ]
  },
  {
   "cell_type": "code",
   "execution_count": 64,
   "id": "minor-christian",
   "metadata": {},
   "outputs": [
    {
     "name": "stdin",
     "output_type": "stream",
     "text": [
      " 472\n",
      " 385\n"
     ]
    },
    {
     "name": "stdout",
     "output_type": "stream",
     "text": [
      "2360\n",
      "3776\n",
      "1416\n",
      "181720\n"
     ]
    }
   ],
   "source": [
    "a = str(input())\n",
    "b = str(input())\n",
    "result = ([int(a) * int(b[2-x]) for x in range(3)])\n",
    "for i in range(3):\n",
    "    print(result[i])\n",
    "    \n",
    "print(int(a)*int(b))"
   ]
  },
  {
   "cell_type": "markdown",
   "id": "compressed-jonathan",
   "metadata": {},
   "source": [
    "### 평균은 넘겠지 \n",
    "- 각 케이스마다 한 줄씩 평균을 넘는 학생들의 비율을 반올림하여 소수점 셋째 자리까지 출력한다."
   ]
  },
  {
   "cell_type": "code",
   "execution_count": 4,
   "id": "enclosed-hazard",
   "metadata": {},
   "outputs": [
    {
     "name": "stdin",
     "output_type": "stream",
     "text": [
      " 1\n",
      " 7 100 95 90 80 70 60 50\n"
     ]
    },
    {
     "name": "stdout",
     "output_type": "stream",
     "text": [
      "57.143%\n"
     ]
    }
   ],
   "source": [
    "C = int(input())\n",
    "for i in range(C):\n",
    "    line = list(map(int, input().split()))\n",
    "    mean = sum(line[1:]) / line[0]\n",
    "    over_mean = [x for x in range(1, len(line)) if line[x] > mean]\n",
    "    over_mean_percent = len(over_mean) * 100 / line[0]\n",
    "    \n",
    "    print('{:.3f}%'.format(over_mean_percent))\n",
    "    "
   ]
  },
  {
   "cell_type": "markdown",
   "id": "verified-cache",
   "metadata": {},
   "source": [
    "### 고양이 출력"
   ]
  },
  {
   "cell_type": "markdown",
   "id": "induced-regular",
   "metadata": {},
   "source": [
    "`-` 문자열은 `' '`로 둘러 싸임\n",
    "\n",
    "`-` `\\`를 출력하고 싶으면 `\\\\`\n",
    "\n",
    "`-` `'`을 출력하고 싶으면`\\'` 또는 문자열을 `\" \"`로 감싸기\n",
    "\n",
    "`-` 정규표현식의 일종임 --> 정규표현식 공부하기"
   ]
  },
  {
   "cell_type": "code",
   "execution_count": 28,
   "id": "ignored-vienna",
   "metadata": {},
   "outputs": [
    {
     "ename": "SyntaxError",
     "evalue": "EOL while scanning string literal (<ipython-input-28-eaac87876c3b>, line 1)",
     "output_type": "error",
     "traceback": [
      "\u001b[1;36m  File \u001b[1;32m\"<ipython-input-28-eaac87876c3b>\"\u001b[1;36m, line \u001b[1;32m1\u001b[0m\n\u001b[1;33m    print('\\')\u001b[0m\n\u001b[1;37m              ^\u001b[0m\n\u001b[1;31mSyntaxError\u001b[0m\u001b[1;31m:\u001b[0m EOL while scanning string literal\n"
     ]
    }
   ],
   "source": [
    "print('\\')"
   ]
  },
  {
   "cell_type": "code",
   "execution_count": 29,
   "id": "transsexual-probe",
   "metadata": {},
   "outputs": [
    {
     "name": "stdout",
     "output_type": "stream",
     "text": [
      "\\\n"
     ]
    }
   ],
   "source": [
    "print('\\\\')"
   ]
  },
  {
   "cell_type": "code",
   "execution_count": 33,
   "id": "touched-defense",
   "metadata": {},
   "outputs": [
    {
     "ename": "SyntaxError",
     "evalue": "EOF while scanning triple-quoted string literal (<ipython-input-33-c6d045ece466>, line 1)",
     "output_type": "error",
     "traceback": [
      "\u001b[1;36m  File \u001b[1;32m\"<ipython-input-33-c6d045ece466>\"\u001b[1;36m, line \u001b[1;32m1\u001b[0m\n\u001b[1;33m    print(''')\u001b[0m\n\u001b[1;37m              ^\u001b[0m\n\u001b[1;31mSyntaxError\u001b[0m\u001b[1;31m:\u001b[0m EOF while scanning triple-quoted string literal\n"
     ]
    }
   ],
   "source": [
    "print(''')"
   ]
  },
  {
   "cell_type": "code",
   "execution_count": 34,
   "id": "normal-usage",
   "metadata": {},
   "outputs": [
    {
     "name": "stdout",
     "output_type": "stream",
     "text": [
      "'\n"
     ]
    }
   ],
   "source": [
    "print('\\'')"
   ]
  },
  {
   "cell_type": "code",
   "execution_count": 41,
   "id": "modular-today",
   "metadata": {},
   "outputs": [
    {
     "name": "stdout",
     "output_type": "stream",
     "text": [
      "'\n"
     ]
    }
   ],
   "source": [
    "print(\"'\")"
   ]
  },
  {
   "cell_type": "code",
   "execution_count": 38,
   "id": "dressed-outreach",
   "metadata": {},
   "outputs": [
    {
     "name": "stdout",
     "output_type": "stream",
     "text": [
      "\\    /\\\n",
      " )  ( ')\n",
      "(  /  )\n",
      " \\(__)|\n"
     ]
    }
   ],
   "source": [
    "print('\\    /\\\\\\n )  ( \\')\\n(  /  )\\n \\(__)|')"
   ]
  },
  {
   "cell_type": "markdown",
   "id": "manual-physiology",
   "metadata": {},
   "source": [
    "### 강아지 "
   ]
  },
  {
   "cell_type": "markdown",
   "id": "natural-cinema",
   "metadata": {},
   "source": [
    "`-` 문자열에서 `\" \"`를 표현하고 싶으면 `' '`로 감싸기"
   ]
  },
  {
   "cell_type": "markdown",
   "id": "settled-amazon",
   "metadata": {},
   "source": [
    "`-` 또는 문자열을 `''' '''`로 감싸는 방법도 있음"
   ]
  },
  {
   "cell_type": "code",
   "execution_count": 46,
   "id": "abandoned-summary",
   "metadata": {},
   "outputs": [
    {
     "ename": "SyntaxError",
     "evalue": "EOF while scanning triple-quoted string literal (<ipython-input-46-3f29872ceae9>, line 1)",
     "output_type": "error",
     "traceback": [
      "\u001b[1;36m  File \u001b[1;32m\"<ipython-input-46-3f29872ceae9>\"\u001b[1;36m, line \u001b[1;32m1\u001b[0m\n\u001b[1;33m    print(\"\"\")\u001b[0m\n\u001b[1;37m              ^\u001b[0m\n\u001b[1;31mSyntaxError\u001b[0m\u001b[1;31m:\u001b[0m EOF while scanning triple-quoted string literal\n"
     ]
    }
   ],
   "source": [
    "print(\"\"\")"
   ]
  },
  {
   "cell_type": "code",
   "execution_count": 45,
   "id": "square-separate",
   "metadata": {},
   "outputs": [
    {
     "name": "stdout",
     "output_type": "stream",
     "text": [
      "\"\n"
     ]
    }
   ],
   "source": [
    "print('\"')"
   ]
  },
  {
   "cell_type": "code",
   "execution_count": 53,
   "id": "stretch-management",
   "metadata": {},
   "outputs": [
    {
     "name": "stdout",
     "output_type": "stream",
     "text": [
      "\n",
      "|\\_/|\n",
      "|q p|   /}\n",
      "( 0 )\"\"\"\\\n",
      "|\"^\"`    |\n",
      "||_/=\\\\__|\n",
      "\n"
     ]
    }
   ],
   "source": [
    "print('''\n",
    "|\\\\_/|\\n|q p|   /}\\n( 0 )\"\"\"\\\\\\n|\"^\"`    |\\n||_/=\\\\\\\\__|\n",
    "''')"
   ]
  },
  {
   "cell_type": "markdown",
   "id": "comic-blade",
   "metadata": {},
   "source": [
    "`-` ''' '''로 감쌀 때 앞의 ''' 앞에 r을 적으면 문자열을 원시 문자열로 처리함"
   ]
  },
  {
   "cell_type": "markdown",
   "id": "still-canvas",
   "metadata": {},
   "source": [
    "`-` `\\`를 표현하기 위해 `\\\\`로 하지 않고 그냥 역슬래시만 해도 가능"
   ]
  },
  {
   "cell_type": "code",
   "execution_count": 44,
   "id": "suffering-tracker",
   "metadata": {},
   "outputs": [
    {
     "name": "stdout",
     "output_type": "stream",
     "text": [
      "|\\_/|\n",
      "|q p|   /}\n",
      "( 0 )\"\"\"\\\n",
      "|\"^\"`    |\n",
      "||_/=\\\\__|\n"
     ]
    }
   ],
   "source": [
    "print('|\\\\_/|\\n|q p|   /}\\n( 0 )\"\"\"\\\\\\n|\"^\"`    |\\n||_/=\\\\\\\\__|')"
   ]
  },
  {
   "cell_type": "code",
   "execution_count": 51,
   "id": "incorporate-finance",
   "metadata": {},
   "outputs": [
    {
     "name": "stdout",
     "output_type": "stream",
     "text": [
      "|\\_/|\n",
      "|q p|   /}\n",
      "( 0 )\"\"\"\\\n",
      "|\"^\"`    |\n",
      "||_/=\\\\__|\n"
     ]
    }
   ],
   "source": [
    "print(r'''|\\_/|\n",
    "|q p|   /}\n",
    "( 0 )\"\"\"\\\n",
    "|\"^\"`    |\n",
    "||_/=\\\\__|''')"
   ]
  },
  {
   "cell_type": "markdown",
   "id": "unique-pollution",
   "metadata": {},
   "source": [
    "---"
   ]
  },
  {
   "cell_type": "markdown",
   "id": "informational-julian",
   "metadata": {},
   "source": [
    "## if문"
   ]
  },
  {
   "cell_type": "markdown",
   "id": "wooden-restoration",
   "metadata": {},
   "source": [
    "### 두 정수 A와 B가 주어졌을 때, A와 B를 비교하는 프로그램을 작성하시오."
   ]
  },
  {
   "cell_type": "code",
   "execution_count": 2,
   "id": "powered-producer",
   "metadata": {},
   "outputs": [
    {
     "name": "stdin",
     "output_type": "stream",
     "text": [
      " 10 2\n"
     ]
    },
    {
     "name": "stdout",
     "output_type": "stream",
     "text": [
      ">\n"
     ]
    }
   ],
   "source": [
    "A, B = map(int, input().split())\n",
    "if A>B:\n",
    "    print('>')\n",
    "elif A<B:\n",
    "    print('<')\n",
    "else:\n",
    "    print('==')"
   ]
  },
  {
   "cell_type": "markdown",
   "id": "adjacent-approval",
   "metadata": {},
   "source": [
    "### 시험 점수 출력"
   ]
  },
  {
   "cell_type": "code",
   "execution_count": 21,
   "id": "upper-bride",
   "metadata": {},
   "outputs": [
    {
     "name": "stdin",
     "output_type": "stream",
     "text": [
      " 100\n"
     ]
    },
    {
     "name": "stdout",
     "output_type": "stream",
     "text": [
      "A\n"
     ]
    }
   ],
   "source": [
    "def result(grade):\n",
    "    if grade >= 90 and grade <= 100:\n",
    "        print(\"A\")\n",
    "    elif grade >= 80 and grade <= 89:\n",
    "        print(\"B\")\n",
    "    elif grade >= 70 and grade <= 79:\n",
    "        print(\"C\")\n",
    "    elif grade >= 60 and grade <= 69:\n",
    "        print(\"D\")\n",
    "    else:\n",
    "        print(\"F\")\n",
    "grade = int(input())\n",
    "result(grade)    "
   ]
  },
  {
   "cell_type": "markdown",
   "id": "ethical-title",
   "metadata": {},
   "source": [
    "### 윤년 판단\n",
    "\n",
    "- 윤년은 연도가 4의 배수이면서, 100의 배수가 아닐 때 또는 400의 배수일 때이다.\n",
    "\n",
    "- 예를 들어, 2012년은 4의 배수이면서 100의 배수가 아니라서 윤년이다. 1900년은 100의 배수이고 400의 배수는 아니기 때문에 윤년이 아니다. 하지만, 2000년은 400의 배수이기 때문에 윤년이다."
   ]
  },
  {
   "cell_type": "code",
   "execution_count": 27,
   "id": "extreme-development",
   "metadata": {},
   "outputs": [
    {
     "name": "stdin",
     "output_type": "stream",
     "text": [
      " 2000\n"
     ]
    },
    {
     "name": "stdout",
     "output_type": "stream",
     "text": [
      "1\n"
     ]
    }
   ],
   "source": [
    "def leap_year(year):\n",
    "    if (year%4 ==0 and year%100 != 0) or year%400 == 0:\n",
    "        print(1)\n",
    "    else:\n",
    "        print(0)\n",
    "year = int(input())\n",
    "leap_year(year)"
   ]
  },
  {
   "cell_type": "markdown",
   "id": "opposite-solid",
   "metadata": {},
   "source": [
    "### 사분면 고르기\n",
    "- 첫 줄에는 정수 x가 주어진다. (−1000 ≤ x ≤ 1000; x ≠ 0) 다음 줄에는 정수 y가 주어진다. (−1000 ≤ y ≤ 1000; y ≠ 0)\n",
    "\n",
    "- 점 (x, y)의 사분면 번호(1, 2, 3, 4 중 하나)를 출력한다."
   ]
  },
  {
   "cell_type": "code",
   "execution_count": 40,
   "id": "prompt-bobby",
   "metadata": {},
   "outputs": [
    {
     "name": "stdin",
     "output_type": "stream",
     "text": [
      " 10\n",
      " -7\n"
     ]
    },
    {
     "name": "stdout",
     "output_type": "stream",
     "text": [
      "4\n"
     ]
    }
   ],
   "source": [
    "def quadrant(a,b):\n",
    "    if a>0 and b>0:\n",
    "        print(1)\n",
    "    elif a>0 and b<0:\n",
    "        print(4)\n",
    "    elif a<0 and b>0:\n",
    "        print(2)\n",
    "    elif a<0 and b<0:\n",
    "        print(3)\n",
    "x = int(input())\n",
    "y = int(input())\n",
    "quadrant(x, y)"
   ]
  },
  {
   "cell_type": "markdown",
   "id": "qualified-amateur",
   "metadata": {},
   "source": [
    "### 알람 시계\n",
    "- 45분 일찍 알람 설정하기"
   ]
  },
  {
   "cell_type": "code",
   "execution_count": 8,
   "id": "historic-scale",
   "metadata": {},
   "outputs": [
    {
     "name": "stdin",
     "output_type": "stream",
     "text": [
      " 0 25\n"
     ]
    },
    {
     "name": "stdout",
     "output_type": "stream",
     "text": [
      "23 40\n"
     ]
    }
   ],
   "source": [
    "h, m = map(int, input().split())\n",
    "if m >= 45:\n",
    "    print(h, m-45)\n",
    "elif h == 0: \n",
    "    print(23, m+15)\n",
    "else:\n",
    "    print(h-1, m+15)"
   ]
  },
  {
   "cell_type": "markdown",
   "id": "textile-decision",
   "metadata": {},
   "source": [
    "---"
   ]
  },
  {
   "cell_type": "markdown",
   "id": "robust-potential",
   "metadata": {},
   "source": [
    "## for문"
   ]
  },
  {
   "cell_type": "markdown",
   "id": "separate-captain",
   "metadata": {},
   "source": [
    "### 구구단"
   ]
  },
  {
   "cell_type": "code",
   "execution_count": 16,
   "id": "described-medicine",
   "metadata": {},
   "outputs": [
    {
     "name": "stdin",
     "output_type": "stream",
     "text": [
      " 4\n"
     ]
    },
    {
     "name": "stdout",
     "output_type": "stream",
     "text": [
      "4 * 1 = 4\n",
      "4 * 2 = 8\n",
      "4 * 3 = 12\n",
      "4 * 4 = 16\n",
      "4 * 5 = 20\n",
      "4 * 6 = 24\n",
      "4 * 7 = 28\n",
      "4 * 8 = 32\n",
      "4 * 9 = 36\n"
     ]
    }
   ],
   "source": [
    "n = int(input())\n",
    "for i in range(1,10):\n",
    "    print('%s * %s = %s' % (n, i, n*i))"
   ]
  },
  {
   "cell_type": "markdown",
   "id": "enhanced-guess",
   "metadata": {},
   "source": [
    "### A+B - 3\n",
    "- 첫째 줄에 테스트 케이스의 개수 T가 주어진다.\n",
    "\n",
    "- 각 테스트 케이스마다 A+B를 출력한다."
   ]
  },
  {
   "cell_type": "code",
   "execution_count": 21,
   "id": "permanent-watershed",
   "metadata": {},
   "outputs": [
    {
     "name": "stdin",
     "output_type": "stream",
     "text": [
      " 3\n",
      " 1 5\n"
     ]
    },
    {
     "name": "stdout",
     "output_type": "stream",
     "text": [
      "6\n"
     ]
    },
    {
     "name": "stdin",
     "output_type": "stream",
     "text": [
      " 2 8\n"
     ]
    },
    {
     "name": "stdout",
     "output_type": "stream",
     "text": [
      "10\n"
     ]
    },
    {
     "name": "stdin",
     "output_type": "stream",
     "text": [
      " 17 58\n"
     ]
    },
    {
     "name": "stdout",
     "output_type": "stream",
     "text": [
      "75\n"
     ]
    }
   ],
   "source": [
    "T = int(input())\n",
    "for i in range(T):\n",
    "    A, B = map(int, input().split())\n",
    "    print(A+B)"
   ]
  },
  {
   "cell_type": "markdown",
   "id": "damaged-composition",
   "metadata": {},
   "source": [
    "### 1부터 n까지 합\n",
    "- 반복문 있는 버전"
   ]
  },
  {
   "cell_type": "code",
   "execution_count": 23,
   "id": "prescribed-sauce",
   "metadata": {},
   "outputs": [
    {
     "name": "stdin",
     "output_type": "stream",
     "text": [
      " 10\n"
     ]
    },
    {
     "name": "stdout",
     "output_type": "stream",
     "text": [
      "55\n"
     ]
    }
   ],
   "source": [
    "n = int(input())\n",
    "sum = 0\n",
    "for i in range(1, n+1):\n",
    "    sum += i\n",
    "print(sum)    "
   ]
  },
  {
   "cell_type": "markdown",
   "id": "rapid-pixel",
   "metadata": {},
   "source": [
    "- 반복문 없는 버전"
   ]
  },
  {
   "cell_type": "code",
   "execution_count": 26,
   "id": "confident-physics",
   "metadata": {},
   "outputs": [
    {
     "name": "stdin",
     "output_type": "stream",
     "text": [
      " 10\n"
     ]
    },
    {
     "name": "stdout",
     "output_type": "stream",
     "text": [
      "55\n"
     ]
    }
   ],
   "source": [
    "n = int(input())\n",
    "print(int(n * (n+1) / 2))"
   ]
  },
  {
   "cell_type": "markdown",
   "id": "detected-bicycle",
   "metadata": {},
   "source": [
    "### `sys.stdin.readline()`\n",
    "- 본격적으로 for문 문제를 풀기 전에 주의해야 할 점이 있다. \n",
    "\n",
    "- 입출력 방식이 느리면 여러 줄을 입력받거나 출력할 때 시간초과가 날 수 있다는 점이다.\n",
    "\n",
    "- Python을 사용하고 있다면 input() 대신 sys.stdin.readline()을 사용할 수 있다. \n",
    "\n",
    "- 단, 이때는 맨 끝의 개행문자까지 같이 입력받기 때문에 문자열을 저장하고 싶을 경우 .rstrip()을 추가로 해 주는 것이 좋다."
   ]
  },
  {
   "cell_type": "code",
   "execution_count": 3,
   "id": "thirty-doubt",
   "metadata": {},
   "outputs": [
    {
     "name": "stdin",
     "output_type": "stream",
     "text": [
      " 10\n"
     ]
    },
    {
     "ename": "ValueError",
     "evalue": "not enough values to unpack (expected 2, got 0)",
     "output_type": "error",
     "traceback": [
      "\u001b[1;31m---------------------------------------------------------------------------\u001b[0m",
      "\u001b[1;31mValueError\u001b[0m                                Traceback (most recent call last)",
      "\u001b[1;32m<ipython-input-3-173fe188e1c6>\u001b[0m in \u001b[0;36m<module>\u001b[1;34m\u001b[0m\n\u001b[0;32m      2\u001b[0m \u001b[0mT\u001b[0m \u001b[1;33m=\u001b[0m \u001b[0mint\u001b[0m\u001b[1;33m(\u001b[0m\u001b[0minput\u001b[0m\u001b[1;33m(\u001b[0m\u001b[1;33m)\u001b[0m\u001b[1;33m)\u001b[0m\u001b[1;33m\u001b[0m\u001b[1;33m\u001b[0m\u001b[0m\n\u001b[0;32m      3\u001b[0m \u001b[1;32mfor\u001b[0m \u001b[0mi\u001b[0m \u001b[1;32min\u001b[0m \u001b[0mrange\u001b[0m\u001b[1;33m(\u001b[0m\u001b[0mT\u001b[0m\u001b[1;33m)\u001b[0m\u001b[1;33m:\u001b[0m\u001b[1;33m\u001b[0m\u001b[1;33m\u001b[0m\u001b[0m\n\u001b[1;32m----> 4\u001b[1;33m     \u001b[0mA\u001b[0m\u001b[1;33m,\u001b[0m \u001b[0mB\u001b[0m \u001b[1;33m=\u001b[0m \u001b[0mmap\u001b[0m\u001b[1;33m(\u001b[0m\u001b[0mint\u001b[0m\u001b[1;33m,\u001b[0m \u001b[0msys\u001b[0m\u001b[1;33m.\u001b[0m\u001b[0mstdin\u001b[0m\u001b[1;33m.\u001b[0m\u001b[0mreadline\u001b[0m\u001b[1;33m(\u001b[0m\u001b[1;33m)\u001b[0m\u001b[1;33m.\u001b[0m\u001b[0msplit\u001b[0m\u001b[1;33m(\u001b[0m\u001b[1;33m)\u001b[0m\u001b[1;33m)\u001b[0m\u001b[1;33m\u001b[0m\u001b[1;33m\u001b[0m\u001b[0m\n\u001b[0m\u001b[0;32m      5\u001b[0m     \u001b[0mprint\u001b[0m\u001b[1;33m(\u001b[0m\u001b[0mA\u001b[0m\u001b[1;33m+\u001b[0m\u001b[0mB\u001b[0m\u001b[1;33m)\u001b[0m\u001b[1;33m\u001b[0m\u001b[1;33m\u001b[0m\u001b[0m\n",
      "\u001b[1;31mValueError\u001b[0m: not enough values to unpack (expected 2, got 0)"
     ]
    }
   ],
   "source": [
    "import sys\n",
    "T = int(input())\n",
    "for i in range(T):\n",
    "    A, B = map(int, sys.stdin.readline().split())\n",
    "    print(A+B)"
   ]
  },
  {
   "cell_type": "markdown",
   "id": "prostate-accessory",
   "metadata": {},
   "source": [
    "`-` error 왜 뜨지?\n",
    "\n",
    "`-` `sys.stdin.readline()`를 쓸 때마다 에러가 난다."
   ]
  },
  {
   "cell_type": "markdown",
   "id": "mathematical-turkish",
   "metadata": {},
   "source": [
    "### 1부터 N까지 출력"
   ]
  },
  {
   "cell_type": "code",
   "execution_count": 1,
   "id": "floating-cyprus",
   "metadata": {},
   "outputs": [
    {
     "name": "stdin",
     "output_type": "stream",
     "text": [
      " 5\n"
     ]
    },
    {
     "name": "stdout",
     "output_type": "stream",
     "text": [
      "1\n",
      "2\n",
      "3\n",
      "4\n",
      "5\n"
     ]
    }
   ],
   "source": [
    "N = int(input())\n",
    "for i in range(1, N+1):\n",
    "    print(i)"
   ]
  },
  {
   "cell_type": "markdown",
   "id": "sudden-content",
   "metadata": {},
   "source": [
    "### N부터 1까지 출력"
   ]
  },
  {
   "cell_type": "code",
   "execution_count": 2,
   "id": "joined-polls",
   "metadata": {},
   "outputs": [
    {
     "name": "stdin",
     "output_type": "stream",
     "text": [
      " 5\n"
     ]
    },
    {
     "name": "stdout",
     "output_type": "stream",
     "text": [
      "5\n",
      "4\n",
      "3\n",
      "2\n",
      "1\n"
     ]
    }
   ],
   "source": [
    "N = int(input())\n",
    "for i in range(1, N+1):\n",
    "    print(N-i+1)"
   ]
  },
  {
   "cell_type": "markdown",
   "id": "illegal-registration",
   "metadata": {},
   "source": [
    "### A+B - 7\n",
    "- 각 테스트 케이스마다 \"Case #x: \"를 출력한 다음, A+B를 출력한다. 테스트 케이스 번호는 1부터 시작한다."
   ]
  },
  {
   "cell_type": "code",
   "execution_count": 6,
   "id": "complicated-devil",
   "metadata": {},
   "outputs": [
    {
     "name": "stdin",
     "output_type": "stream",
     "text": [
      " 3\n",
      " 1 5\n"
     ]
    },
    {
     "name": "stdout",
     "output_type": "stream",
     "text": [
      "Case #1: 6\n"
     ]
    },
    {
     "name": "stdin",
     "output_type": "stream",
     "text": [
      " 2 4\n"
     ]
    },
    {
     "name": "stdout",
     "output_type": "stream",
     "text": [
      "Case #2: 6\n"
     ]
    },
    {
     "name": "stdin",
     "output_type": "stream",
     "text": [
      " 1 7\n"
     ]
    },
    {
     "name": "stdout",
     "output_type": "stream",
     "text": [
      "Case #3: 8\n"
     ]
    }
   ],
   "source": [
    "import sys\n",
    "T = int(input())\n",
    "for i in range(1, T+1):\n",
    "    A, B = map(int, sys.stdin.readline().split())\n",
    "    print('Case #%s: %s' % (i, A+B))\n"
   ]
  },
  {
   "cell_type": "markdown",
   "id": "trying-philip",
   "metadata": {},
   "source": [
    "### 별 찍기 - 1\n",
    "\n",
    "- 문제 출처: [백준 2438번](https://www.acmicpc.net/problem/2438)"
   ]
  },
  {
   "cell_type": "code",
   "execution_count": 26,
   "id": "fiscal-direction",
   "metadata": {},
   "outputs": [
    {
     "name": "stdin",
     "output_type": "stream",
     "text": [
      " 5\n"
     ]
    },
    {
     "name": "stdout",
     "output_type": "stream",
     "text": [
      "*\n",
      "**\n",
      "***\n",
      "****\n",
      "*****\n"
     ]
    }
   ],
   "source": [
    "N = int(input())\n",
    "\n",
    "for i in range(1, N+1):\n",
    "    for j in range(i):\n",
    "        print('*', end = '')\n",
    "\n",
    "    print('\\n', end = '')"
   ]
  },
  {
   "cell_type": "markdown",
   "id": "blond-animal",
   "metadata": {},
   "source": [
    "## print함수 용법\n",
    "- print(출력할 객체, end = '함수가 종료될 때 실행하는 값')\n",
    "\n",
    "- print()함수에서 end값을 따로 지정하지 않으면 끝을 줄바꿈 문자로 한다."
   ]
  },
  {
   "cell_type": "code",
   "execution_count": 12,
   "id": "institutional-albuquerque",
   "metadata": {},
   "outputs": [
    {
     "name": "stdout",
     "output_type": "stream",
     "text": [
      "안녕~~~~하세요\n"
     ]
    }
   ],
   "source": [
    "print('안녕', end = '~~~~')\n",
    "print('하세요')"
   ]
  },
  {
   "cell_type": "code",
   "execution_count": 18,
   "id": "hispanic-hometown",
   "metadata": {},
   "outputs": [
    {
     "name": "stdin",
     "output_type": "stream",
     "text": [
      " 5\n"
     ]
    },
    {
     "name": "stdout",
     "output_type": "stream",
     "text": [
      "    *\n",
      "   **\n",
      "  ***\n",
      " ****\n",
      "*****\n"
     ]
    }
   ],
   "source": [
    "N = int(input())\n",
    "for i in range(N):\n",
    "    for j in range(1, N-i):\n",
    "        print(\" \", end = \"\")\n",
    "    for k in range(i+1):\n",
    "        print(\"*\", end = \"\")\n",
    "    print(\"\\n\", end = \"\")"
   ]
  },
  {
   "cell_type": "markdown",
   "id": "monthly-surgery",
   "metadata": {},
   "source": [
    "### X보다 작은 수\n",
    "- 첫째 줄에 N과 X가 주어진다. (1 ≤ N, X ≤ 10,000)\n",
    "\n",
    "- 둘째 줄에 수열 A를 이루는 정수 N개가 주어진다. 주어지는 정수는 모두 1보다 크거나 같고, 10,000보다 작거나 같은 정수이다.\n",
    "\n",
    "- X보다 작은 수를 입력받은 순서대로 공백으로 구분해 출력한다. X보다 작은 수는 적어도 하나 존재한다."
   ]
  },
  {
   "cell_type": "code",
   "execution_count": 38,
   "id": "mighty-breakdown",
   "metadata": {},
   "outputs": [
    {
     "name": "stdin",
     "output_type": "stream",
     "text": [
      " 3 5\n",
      " 1 0 7\n"
     ]
    },
    {
     "name": "stdout",
     "output_type": "stream",
     "text": [
      "1 0 "
     ]
    }
   ],
   "source": [
    "N, X = map(int, input().split())\n",
    "A = list(map(int, input().split()))\n",
    "for i in range(N):\n",
    "    if A[i] < X:\n",
    "        print(A[i], end = \" \")"
   ]
  },
  {
   "cell_type": "markdown",
   "id": "confirmed-trademark",
   "metadata": {},
   "source": [
    "---"
   ]
  },
  {
   "cell_type": "markdown",
   "id": "parental-terminal",
   "metadata": {},
   "source": [
    "## while문"
   ]
  },
  {
   "cell_type": "markdown",
   "id": "coupled-national",
   "metadata": {},
   "source": [
    "### A+B - 5\n",
    "- 입력의 마지막에는 0 두 개가 들어온다."
   ]
  },
  {
   "cell_type": "code",
   "execution_count": 3,
   "id": "increasing-contributor",
   "metadata": {},
   "outputs": [
    {
     "name": "stdin",
     "output_type": "stream",
     "text": [
      " 1 1\n"
     ]
    },
    {
     "name": "stdout",
     "output_type": "stream",
     "text": [
      "2\n"
     ]
    },
    {
     "name": "stdin",
     "output_type": "stream",
     "text": [
      " 0 4\n"
     ]
    },
    {
     "name": "stdout",
     "output_type": "stream",
     "text": [
      "4\n"
     ]
    },
    {
     "name": "stdin",
     "output_type": "stream",
     "text": [
      " 0 0\n"
     ]
    }
   ],
   "source": [
    "while True:\n",
    "    A,B = map(int, input().split())\n",
    "    if A==0 and B==0:\n",
    "        break\n",
    "    else:\n",
    "        print(A+B)\n",
    "    "
   ]
  },
  {
   "cell_type": "markdown",
   "id": "featured-council",
   "metadata": {},
   "source": [
    "### 더하기 사이클\n",
    "- 먼저 주어진 수가 10보다 작다면 앞에 0을 붙여 두 자리 수로 만들고, 각 자리의 숫자를 더한다. \n",
    "\n",
    "- 그 다음, 주어진 수의 가장 오른쪽 자리 수와 앞에서 구한 합의 가장 오른쪽 자리 수를 이어 붙이면 새로운 수를 만들 수 있다. \n",
    "\n",
    "- 26부터 시작한다. 2+6 = 8이다. 새로운 수는 68이다. 6+8 = 14이다. 새로운 수는 84이다. 8+4 = 12이다. 새로운 수는 42이다. 4+2 = 6이다. 새로운 수는 26이다.\n",
    "\n",
    "- 위의 예는 4번만에 원래 수로 돌아올 수 있다. 따라서 26의 사이클의 길이는 4이다.\n",
    "\n",
    "- N이 주어졌을 때, N의 사이클의 길이를 구하는 프로그램을 작성하시오.(0<=N<=99 인 정수)"
   ]
  },
  {
   "cell_type": "code",
   "execution_count": 26,
   "id": "metric-darkness",
   "metadata": {},
   "outputs": [
    {
     "name": "stdin",
     "output_type": "stream",
     "text": [
      " 1\n"
     ]
    },
    {
     "name": "stdout",
     "output_type": "stream",
     "text": [
      "60\n"
     ]
    }
   ],
   "source": [
    "n = N = int(input())\n",
    "N_cycle = 0\n",
    "while True:\n",
    "    if N < 10:\n",
    "        N = int(2*str(N))\n",
    "        N_cycle += 1\n",
    "    else:\n",
    "        N = int(str(N)[-1]+str(int(str(N)[0])+int(str(N)[-1]))[-1])\n",
    "        N_cycle += 1\n",
    "    \n",
    "    if N == n:\n",
    "        print(N_cycle)\n",
    "        break\n",
    "    "
   ]
  },
  {
   "cell_type": "markdown",
   "id": "confused-optics",
   "metadata": {},
   "source": [
    "---"
   ]
  },
  {
   "cell_type": "markdown",
   "id": "contrary-reasoning",
   "metadata": {},
   "source": [
    "## 함수"
   ]
  },
  {
   "cell_type": "markdown",
   "id": "flying-advertising",
   "metadata": {},
   "source": [
    "### N개의 합\n",
    "- 정수 n개가 주어졌을 때, n개의 합을 구하는 함수를 작성하시오."
   ]
  },
  {
   "cell_type": "code",
   "execution_count": 31,
   "id": "changed-product",
   "metadata": {},
   "outputs": [],
   "source": [
    "# for문 버전\n",
    "def solve1(a):\n",
    "    sum = 0\n",
    "    for i in range(len(a)):\n",
    "        sum += a[i]\n",
    "    return(sum)"
   ]
  },
  {
   "cell_type": "code",
   "execution_count": 33,
   "id": "latin-republican",
   "metadata": {},
   "outputs": [
    {
     "data": {
      "text/plain": [
       "10"
      ]
     },
     "execution_count": 33,
     "metadata": {},
     "output_type": "execute_result"
    }
   ],
   "source": [
    "a=[0,1,2,3,4]\n",
    "solve1(a)"
   ]
  },
  {
   "cell_type": "code",
   "execution_count": 34,
   "id": "unnecessary-edgar",
   "metadata": {},
   "outputs": [],
   "source": [
    "# 내장함수 sum()버전\n",
    "def solve2(a):\n",
    "    return(sum(a))"
   ]
  },
  {
   "cell_type": "code",
   "execution_count": 35,
   "id": "polyphonic-handy",
   "metadata": {},
   "outputs": [
    {
     "data": {
      "text/plain": [
       "10"
      ]
     },
     "execution_count": 35,
     "metadata": {},
     "output_type": "execute_result"
    }
   ],
   "source": [
    "a=[0,1,2,3,4]\n",
    "solve2(a)"
   ]
  },
  {
   "cell_type": "markdown",
   "id": "congressional-worship",
   "metadata": {},
   "source": [
    "### 셀프 넘버\n",
    "- 10,000보다 작거나 같은 셀프 넘버를 한 줄에 하나씩 증가하는 순서로 출력한다. "
   ]
  },
  {
   "cell_type": "code",
   "execution_count": 74,
   "id": "caroline-wireless",
   "metadata": {},
   "outputs": [],
   "source": [
    "z = set(range(1,10001)) - {x+sum([int(a) for a in str(x)]) for x in range(1,10001)}\n",
    "z = list(z)\n",
    "z.sort()\n",
    "for i in range(len(z)):\n",
    "    print(z[i])\n",
    "    \n",
    "# 출력이 너무 길어서 출력은 생략"
   ]
  },
  {
   "cell_type": "markdown",
   "id": "multiple-liability",
   "metadata": {},
   "source": [
    "### 한수\n",
    "- 어떤 양의 정수 X의 각 자리가 등차수열을 이룬다면, 그 수를 한수라고 한다. \n",
    "\n",
    "- 등차수열은 연속된 두 개의 수의 차이가 일정한 수열을 말한다.\n",
    "\n",
    "- N이 주어졌을 때, 1보다 크거나 같고, N보다 작거나 같은 한수의 개수를 출력하는 프로그램을 작성하시오. "
   ]
  },
  {
   "cell_type": "code",
   "execution_count": 22,
   "id": "alpine-austria",
   "metadata": {},
   "outputs": [
    {
     "name": "stdin",
     "output_type": "stream",
     "text": [
      " 700\n"
     ]
    },
    {
     "name": "stdout",
     "output_type": "stream",
     "text": [
      "129\n"
     ]
    }
   ],
   "source": [
    "N = int(input())\n",
    "def solve(a):  \n",
    "    if a < 100:\n",
    "        print(a)\n",
    "    else:\n",
    "        n = 99\n",
    "        for i in range(100, a+1):\n",
    "            if int(str(i)[1]) - int(str(i)[0]) == int(str(i)[2]) - int(str(i)[1]):\n",
    "                n += 1\n",
    "        print(n) \n",
    "solve(N)"
   ]
  },
  {
   "cell_type": "markdown",
   "id": "needed-quest",
   "metadata": {},
   "source": [
    "---"
   ]
  },
  {
   "cell_type": "markdown",
   "id": "particular-effects",
   "metadata": {},
   "source": [
    "## 재귀함수(중요함 아마도 그리고 헷갈림)\n",
    "`-` 재귀함수를 구상해보자.\n",
    "\n",
    "`-` 재귀함수는 관계가 중요하다.\n",
    "\n",
    "`-` 팩토리얼에서는 $fact(x)= x * fact(x-1)$ 관계가 성립한다.\n",
    "\n",
    "`-` $fact(0), fact(1)$ 은 1이다.\n",
    "\n",
    "`-` x가 0 또는 1일 때는 return을 1로 설정하고 나머지의 경우에는  $fact(x)= x * fact(x-1)$ 을 return한다면 재귀함수가 된다.\n",
    "\n",
    "`-` 즉, 기본값 [$fact(0 or 1)=1$] 을 알고 관계식 [$fact(x)= x * fact(x-1)$] 을 안다면 재귀함수로 구현할 수 있다."
   ]
  },
  {
   "cell_type": "markdown",
   "id": "worse-metallic",
   "metadata": {},
   "source": [
    "### 팩토리얼\n",
    "- 0보다 크거나 같은 정수 N이 주어진다. \n",
    "\n",
    "- 이때, 재귀함수를 이용하여 N!을 출력하는 프로그램을 작성하시오."
   ]
  },
  {
   "cell_type": "code",
   "execution_count": null,
   "id": "round-sauce",
   "metadata": {},
   "outputs": [],
   "source": [
    "N = int(input())\n",
    "def fact(x):\n",
    "    if x == 0 or x == 1:\n",
    "        return 1\n",
    "    else:\n",
    "        return x*fact(x-1)\n",
    "print(fact(N))"
   ]
  },
  {
   "cell_type": "markdown",
   "id": "korean-invasion",
   "metadata": {},
   "source": [
    "### 피보나치 수 5 \n",
    "- n이 주어졌을 때, n번째 피보나치 수를 구하는 프로그램을 작성하시오.\n",
    "\n",
    "- 0번째 피보나치 수는 0이고, 1번째 피보나치 수는 1이다. \n",
    "\n",
    "- 그 다음 2번째 부터는 바로 앞 두 피보나치 수의 합이 된다.\n",
    "\n",
    "- n은 20보다 작거나 같은 자연수"
   ]
  },
  {
   "cell_type": "code",
   "execution_count": 2,
   "id": "satisfactory-density",
   "metadata": {},
   "outputs": [
    {
     "name": "stdin",
     "output_type": "stream",
     "text": [
      " 10\n"
     ]
    },
    {
     "name": "stdout",
     "output_type": "stream",
     "text": [
      "55\n"
     ]
    }
   ],
   "source": [
    "N = int(input())\n",
    "def fibo(x):\n",
    "    if x == 0:\n",
    "        return 0\n",
    "    elif x == 1:\n",
    "        return 1\n",
    "    else:\n",
    "        return fibo(x-1) + fibo(x-2)\n",
    "print(fibo(N))"
   ]
  },
  {
   "cell_type": "markdown",
   "id": "extreme-theme",
   "metadata": {},
   "source": [
    "### 피보나치 수열 메모이제이션\n",
    "- 피보나치 재귀 함수의 경우 이미 구한 값을 구하기 위해 반복을 많이 해서 효율성이 떨어진다.\n",
    "\n",
    "- 재귀 함수가 효율적이지 못하다면 메모이제이션을 사용한다.\n",
    "\n",
    "- 재귀함수가 한 번 호출될 때마다 결과값을 저장하여 효율성을 높이는 것이 좋다. (메모이제이션)"
   ]
  },
  {
   "cell_type": "code",
   "execution_count": 7,
   "id": "instrumental-finance",
   "metadata": {},
   "outputs": [
    {
     "name": "stdin",
     "output_type": "stream",
     "text": [
      " 10\n"
     ]
    },
    {
     "name": "stdout",
     "output_type": "stream",
     "text": [
      "55\n"
     ]
    }
   ],
   "source": [
    "N = int(input())\n",
    "fibonacci = {0:0, 1:1} ## 메모이제이션을 위한 딕셔러니 선언\n",
    "\n",
    "def fibo(x):\n",
    "    if x in fibonacci:\n",
    "        return fibonacci[x]\n",
    "    \n",
    "    fibonacci[x] = fibo(x-1) + fibo(x-2)\n",
    "    \n",
    "    return fibonacci[x]\n",
    "\n",
    "print(fibo(N))"
   ]
  },
  {
   "cell_type": "markdown",
   "id": "critical-plastic",
   "metadata": {},
   "source": [
    "### 별 찍기(Pass)\n",
    "- N이 3의 거듭제곱(3, 9, 27, ...)이라고 할 때, 크기 N의 패턴은 N×N 정사각형 모양이다.\n",
    "\n",
    "- 크기 3의 패턴은 가운데에 공백이 있고, 가운데를 제외한 모든 칸에 별이 하나씩 있는 패턴이다.\n",
    "\n",
    "- N이 3보다 클 경우, 크기 N의 패턴은 공백으로 채워진 가운데의 (N/3)×(N/3) 정사각형을 크기 N/3의 패턴으로 둘러싼 형태이다. "
   ]
  },
  {
   "cell_type": "markdown",
   "id": "coordinated-shirt",
   "metadata": {},
   "source": [
    "### print('문자열')"
   ]
  },
  {
   "cell_type": "markdown",
   "id": "technical-mailman",
   "metadata": {},
   "source": [
    "- $\\star$ 과 $\\star$ 사이에 빈칸이 있다. 이유는 `,`(콤마) 때문이다. "
   ]
  },
  {
   "cell_type": "code",
   "execution_count": 90,
   "id": "urban-questionnaire",
   "metadata": {},
   "outputs": [
    {
     "name": "stdout",
     "output_type": "stream",
     "text": [
      "* *"
     ]
    }
   ],
   "source": [
    "print('*', '*', end = \"\")"
   ]
  },
  {
   "cell_type": "markdown",
   "id": "antique-retreat",
   "metadata": {},
   "source": [
    "- `,`(콤마)를 없애면 $\\star$ 과 $\\star$ 사이에 빈칸이 없다."
   ]
  },
  {
   "cell_type": "code",
   "execution_count": 91,
   "id": "accredited-bread",
   "metadata": {},
   "outputs": [
    {
     "name": "stdout",
     "output_type": "stream",
     "text": [
      "**"
     ]
    }
   ],
   "source": [
    "print('*' '*', end = \"\")"
   ]
  },
  {
   "cell_type": "code",
   "execution_count": 104,
   "id": "honest-feedback",
   "metadata": {},
   "outputs": [],
   "source": [
    "def star(x):\n",
    "    if x == 3:\n",
    "        return print('***\\n* *\\n***', end = \"\")\n",
    "    else:\n",
    "        return ## *자리에 star(x/3)대입하면 될 줄 알았는데..."
   ]
  },
  {
   "cell_type": "markdown",
   "id": "reserved-sussex",
   "metadata": {},
   "source": [
    "### 하노이 탑 이동 순서\n",
    "- 한 번에 한 개의 원판만을 다른 탑으로 옮길 수 있다.\n",
    "\n",
    "- 쌓아 놓은 원판은 항상 위의 것이 아래의 것보다 작아야 한다.\n",
    "\n",
    "- 첫째 줄에 옮긴 횟수 K를 출력한다.\n",
    "\n",
    "- 두 번째 줄부터 수행 과정을 출력한다. "
   ]
  },
  {
   "cell_type": "code",
   "execution_count": 36,
   "id": "comprehensive-advancement",
   "metadata": {},
   "outputs": [
    {
     "name": "stdin",
     "output_type": "stream",
     "text": [
      " 3\n"
     ]
    },
    {
     "name": "stdout",
     "output_type": "stream",
     "text": [
      "7\n",
      "1 3\n",
      "1 2\n",
      "3 2\n",
      "1 3\n",
      "2 1\n",
      "2 3\n",
      "1 3\n"
     ]
    }
   ],
   "source": [
    "N = int(input())\n",
    "\n",
    "def Hanoi(n,from_pos,to_pos,aux_pos):\n",
    "    if n==1:\n",
    "        print(from_pos,to_pos)\n",
    "    else:\n",
    "        Hanoi(n-1,from_pos,aux_pos,to_pos)\n",
    "        print(from_pos,to_pos) ## 가장 큰 원반을 목적지로 이동\n",
    "        Hanoi(n-1,aux_pos,to_pos,from_pos)\n",
    "        \n",
    "print(2**N-1)        \n",
    "Hanoi(N,1,3,2)"
   ]
  },
  {
   "cell_type": "markdown",
   "id": "loose-somewhere",
   "metadata": {},
   "source": [
    "---"
   ]
  },
  {
   "cell_type": "markdown",
   "id": "outstanding-tablet",
   "metadata": {},
   "source": [
    "## 문자열"
   ]
  },
  {
   "cell_type": "markdown",
   "id": "intensive-walnut",
   "metadata": {},
   "source": [
    "### 숫자의 합\n",
    "- N개의 숫자가 공백 없이 쓰여있다. 이 숫자를 모두 합해서 출력하는 프로그램을 작성하시오."
   ]
  },
  {
   "cell_type": "code",
   "execution_count": 69,
   "id": "secondary-gossip",
   "metadata": {},
   "outputs": [
    {
     "name": "stdin",
     "output_type": "stream",
     "text": [
      " 5\n",
      " 54321\n"
     ]
    },
    {
     "name": "stdout",
     "output_type": "stream",
     "text": [
      "15\n"
     ]
    }
   ],
   "source": [
    "N = int(input())\n",
    "num_str = str(input())\n",
    "num_str = num_str.replace('0',\"\")\n",
    "print(sum([int(num_str[x]) for x in range(len(num_str))]))"
   ]
  },
  {
   "cell_type": "markdown",
   "id": "formed-reservoir",
   "metadata": {},
   "source": [
    "`-` `map 함수 사용`"
   ]
  },
  {
   "cell_type": "code",
   "execution_count": 70,
   "id": "similar-virgin",
   "metadata": {},
   "outputs": [
    {
     "name": "stdin",
     "output_type": "stream",
     "text": [
      " 5\n",
      " 54321\n"
     ]
    },
    {
     "name": "stdout",
     "output_type": "stream",
     "text": [
      "15\n"
     ]
    }
   ],
   "source": [
    "N = int(input())\n",
    "num_str = str(input())\n",
    "print(sum(map(int, num_str)))"
   ]
  },
  {
   "cell_type": "markdown",
   "id": "moderate-kansas",
   "metadata": {},
   "source": [
    "### 단어의 개수\n",
    "- 영어 대소문자와 띄어쓰기만으로 이루어진 문자열이 주어진다. \n",
    "\n",
    "- 이 문자열에는 몇 개의 단어가 있을까? 이를 구하는 프로그램을 작성하시오. \n",
    "\n",
    "- 단, 한 단어가 여러 번 등장하면 등장한 횟수만큼 모두 세어야 한다."
   ]
  },
  {
   "cell_type": "code",
   "execution_count": 34,
   "id": "pretty-given",
   "metadata": {},
   "outputs": [
    {
     "name": "stdin",
     "output_type": "stream",
     "text": [
      " The Curious Case of Benjamin Button\n"
     ]
    },
    {
     "name": "stdout",
     "output_type": "stream",
     "text": [
      "6\n"
     ]
    }
   ],
   "source": [
    "string = str(input())\n",
    "s = string.split(' ')\n",
    "spaces = 0\n",
    "\n",
    "if s[0] == '':\n",
    "    spaces += 1\n",
    "if s[-1] == '':\n",
    "    spaces += 1\n",
    "    \n",
    "print(len(s) - spaces)"
   ]
  },
  {
   "cell_type": "markdown",
   "id": "rising-museum",
   "metadata": {},
   "source": [
    "`-` 어이없는 상황을 맞이함"
   ]
  },
  {
   "cell_type": "markdown",
   "id": "complicated-tuning",
   "metadata": {},
   "source": [
    "`-` 아래 코드는 틀린 코드임"
   ]
  },
  {
   "cell_type": "markdown",
   "id": "rotary-domestic",
   "metadata": {},
   "source": [
    "```python\n",
    "string = str(input())\n",
    "s = string.split(' ')\n",
    "spaces = 0\n",
    "\n",
    "if s[0] or s[-1] == '':\n",
    "    spaces += 1\n",
    "    \n",
    "print(len(s) - spaces)\n",
    "```"
   ]
  },
  {
   "cell_type": "markdown",
   "id": "treated-harvey",
   "metadata": {},
   "source": [
    "`-` input을 a = ' Mazatneunde Wae Teullyeoyo' 으로 하게 되면(' '은 빼고) 앞에 띄어쓰기가 있으므로 len(s) - 1 = 3이 출력되야 하는데 4가 출력됨"
   ]
  },
  {
   "cell_type": "code",
   "execution_count": 35,
   "id": "spatial-potato",
   "metadata": {},
   "outputs": [
    {
     "name": "stdin",
     "output_type": "stream",
     "text": [
      "  Mazatneunde Wae Teullyeoyo\n"
     ]
    },
    {
     "name": "stdout",
     "output_type": "stream",
     "text": [
      "4\n"
     ]
    }
   ],
   "source": [
    "string = str(input())\n",
    "s = string.split(' ')\n",
    "spaces = 0\n",
    "\n",
    "if s[0] or s[-1] == '':\n",
    "    spaces += 1\n",
    "    \n",
    "print(len(s) - spaces)"
   ]
  },
  {
   "cell_type": "markdown",
   "id": "black-nebraska",
   "metadata": {},
   "source": [
    "`-` 사실 위 코드에 문제가 없는 건 아님\n",
    "\n",
    "`-` 만약 앞 뒤 모두 띄어쓰기가 있다면?"
   ]
  },
  {
   "cell_type": "code",
   "execution_count": 36,
   "id": "regional-cooper",
   "metadata": {},
   "outputs": [
    {
     "name": "stdin",
     "output_type": "stream",
     "text": [
      "  Mazatneunde Wae Teullyeoyo \n"
     ]
    },
    {
     "name": "stdout",
     "output_type": "stream",
     "text": [
      "4\n"
     ]
    }
   ],
   "source": [
    "string = str(input())\n",
    "s = string.split(' ')\n",
    "spaces = 0\n",
    "\n",
    "if s[0] or s[-1] == '':\n",
    "    spaces += 1\n",
    "    \n",
    "print(len(s) - spaces)"
   ]
  },
  {
   "cell_type": "markdown",
   "id": "premium-jacob",
   "metadata": {},
   "source": [
    "`-` 4가 출력됨??"
   ]
  },
  {
   "cell_type": "code",
   "execution_count": 37,
   "id": "becoming-riding",
   "metadata": {},
   "outputs": [
    {
     "name": "stdin",
     "output_type": "stream",
     "text": [
      " Teullinika Teullyeotzi \n"
     ]
    },
    {
     "name": "stdout",
     "output_type": "stream",
     "text": [
      "2\n"
     ]
    }
   ],
   "source": [
    "string = str(input())\n",
    "s = string.split(' ')\n",
    "spaces = 0\n",
    "\n",
    "if s[0] or s[-1] == '':\n",
    "    spaces += 1\n",
    "    \n",
    "print(len(s) - spaces)"
   ]
  },
  {
   "cell_type": "markdown",
   "id": "tender-catering",
   "metadata": {},
   "source": [
    "`-` 웃긴게 뒤에만 띄어쓰기가 있는 경우에는 올바르게 출력함"
   ]
  },
  {
   "cell_type": "markdown",
   "id": "stuck-manchester",
   "metadata": {},
   "source": [
    "### 단어 공부\n",
    "- 알파벳 대소문자로 된 단어가 주어지면, 이 단어에서 가장 많이 사용된 알파벳이 무엇인지 알아내는 프로그램을 작성하시오. \n",
    "\n",
    "- 단, 대문자와 소문자를 구분하지 않는다."
   ]
  },
  {
   "cell_type": "markdown",
   "id": "correct-variable",
   "metadata": {},
   "source": [
    "`-` 처음에는 for문을 2개 사용해서 같은 원소가 몇 개인지 알아낼려고 했다\n",
    "\n",
    "`-` 그런데 문자열길이가 `백만`이라 for문을 2번 돌면 2초안에 통과를 못할 것 같았다\n",
    "\n",
    "`-` 그래서 for문을 2개 쓰는 대신 다른 방법을 생각했다\n",
    "\n",
    "`-` 문자열을 대문자로 바꾸고 A~Z까지 원소를 삭제한 후 문자열 길이를 비교해 몇 개가 있는지 파악하기로 했다.\n",
    "\n",
    "`-` 나중에 찾아보니 `count 함수`를 쓰면 더 쉽게 할 수 있다."
   ]
  },
  {
   "cell_type": "code",
   "execution_count": 27,
   "id": "wrong-hello",
   "metadata": {},
   "outputs": [
    {
     "name": "stdin",
     "output_type": "stream",
     "text": [
      " Mississipi\n"
     ]
    },
    {
     "name": "stdout",
     "output_type": "stream",
     "text": [
      "?\n"
     ]
    }
   ],
   "source": [
    "\n",
    "alphabet = str(input())\n",
    "alp = alphabet.upper()\n",
    "alpha_list = ['A', 'B', 'C', 'D', 'E', 'F', 'G', 'H', 'I', 'J', 'K', 'L', 'M', 'N', 'O', 'P', 'Q', 'R', 'S', 'T', 'U', 'V', 'W', 'X', 'Y', 'Z']\n",
    "lenghts = len(alphabet)\n",
    "max_alpha = []\n",
    "\n",
    "for i in alpha_list:\n",
    "    if i in alp:\n",
    "        a_len = len(alp.replace(i, ''))\n",
    "        \n",
    "        if a_len < lenghts:\n",
    "            lenghts = a_len\n",
    "            del max_alpha[:]\n",
    "            max_alpha.append(i)\n",
    "        \n",
    "        elif a_len == lenghts:\n",
    "            max_alpha.append(i)\n",
    "            \n",
    "if len(max_alpha) > 1:\n",
    "    print('?')\n",
    "    \n",
    "else:\n",
    "    print(max_alpha[0])        \n"
   ]
  },
  {
   "cell_type": "markdown",
   "id": "angry-drove",
   "metadata": {},
   "source": [
    "### 아스키 코드\n",
    "- 알파벳 소문자, 대문자, 숫자 0-9중 하나가 주어졌을 때, 주어진 글자의 아스키 코드값을 출력하는 프로그램을 작성하시오."
   ]
  },
  {
   "cell_type": "code",
   "execution_count": 3,
   "id": "union-interest",
   "metadata": {},
   "outputs": [
    {
     "name": "stdin",
     "output_type": "stream",
     "text": [
      " 0\n"
     ]
    },
    {
     "name": "stdout",
     "output_type": "stream",
     "text": [
      "48\n"
     ]
    }
   ],
   "source": [
    "input_ = str(input())\n",
    "print(ord(input_))"
   ]
  },
  {
   "cell_type": "markdown",
   "id": "color-voltage",
   "metadata": {},
   "source": [
    "### 알파벳 찾기\n",
    "- 알파벳 소문자로만 이루어진 단어 S가 주어진다.\n",
    "\n",
    "- 각각의 알파벳에 대해서, 단어에 포함되어 있는 경우에는 처음 등장하는 위치를, 포함되어 있지 않은 경우에는 -1을 출력하는 프로그램을 작성하시오."
   ]
  },
  {
   "cell_type": "code",
   "execution_count": 16,
   "id": "alpine-saying",
   "metadata": {},
   "outputs": [
    {
     "name": "stdin",
     "output_type": "stream",
     "text": [
      " baekjoon\n"
     ]
    },
    {
     "name": "stdout",
     "output_type": "stream",
     "text": [
      "1 0 -1 -1 2 -1 -1 -1 -1 4 3 -1 -1 7 5 -1 -1 -1 -1 -1 -1 -1 -1 -1 -1 -1 "
     ]
    }
   ],
   "source": [
    "S = str(input())\n",
    "for i in 'abcdefghijklmnopqrstuvwxyz':\n",
    "    find_ = S.find(i)\n",
    "    print(find_, end = \" \")"
   ]
  },
  {
   "cell_type": "markdown",
   "id": "blind-remainder",
   "metadata": {},
   "source": [
    "### 문자열 반복\n",
    "- 문자열 S를 입력받은 후에, 각 문자를 R번 반복해 새 문자열 P를 만든 후 출력하는 프로그램을 작성하시오."
   ]
  },
  {
   "cell_type": "code",
   "execution_count": 36,
   "id": "latin-round",
   "metadata": {},
   "outputs": [
    {
     "name": "stdin",
     "output_type": "stream",
     "text": [
      " 1\n",
      " 5 /HTP\n"
     ]
    },
    {
     "name": "stdout",
     "output_type": "stream",
     "text": [
      "/////HHHHHTTTTTPPPPP\n"
     ]
    }
   ],
   "source": [
    "T = int(input())\n",
    "\n",
    "for i in range(T):\n",
    "    R, S = map(str, input().split())\n",
    "    R = int(R)\n",
    "    string = ''\n",
    "    print(''.join([string + (S[j] * R) for j in range(len(S))]))\n",
    "\n"
   ]
  },
  {
   "cell_type": "markdown",
   "id": "chicken-carolina",
   "metadata": {},
   "source": [
    "### 상수\n",
    "- 상근이의 동생 상수는 수학을 정말 못한다. 상수는 숫자를 읽는데 문제가 있다. \n",
    "\n",
    "- 이렇게 수학을 못하는 상수를 위해서 상근이는 수의 크기를 비교하는 문제를 내주었다. \n",
    "\n",
    "- 상근이는 세 자리 수 두 개를 칠판에 써주었다. 그 다음에 크기가 큰 수를 말해보라고 했다.\n",
    "\n",
    "- 상수는 수를 다른 사람과 다르게 거꾸로 읽는다. 예를 들어, 734와 893을 칠판에 적었다면, 상수는 이 수를 437과 398로 읽는다. \n",
    "\n",
    "- 따라서, 상수는 두 수중 큰 수인 437을 큰 수라고 말할 것이다. 두 수가 주어졌을 때, 상수의 대답을 출력하는 프로그램을 작성하시오."
   ]
  },
  {
   "cell_type": "code",
   "execution_count": 47,
   "id": "norwegian-trading",
   "metadata": {},
   "outputs": [
    {
     "name": "stdin",
     "output_type": "stream",
     "text": [
      " 734 893\n"
     ]
    },
    {
     "name": "stdout",
     "output_type": "stream",
     "text": [
      "437\n"
     ]
    }
   ],
   "source": [
    "a, b = map(str, input().split())\n",
    "\n",
    "rev_a = int(a[2] + a[1] + a[0])\n",
    "rev_b = int(b[2] + b[1] + b[0])\n",
    "\n",
    "if rev_a > rev_b:\n",
    "    print(rev_a)\n",
    "else:\n",
    "    print(rev_b)"
   ]
  },
  {
   "cell_type": "markdown",
   "id": "living-forum",
   "metadata": {},
   "source": [
    "### 크로아티아 알파벳 \n",
    "- 문제 출처: [백준 2941번](https://www.acmicpc.net/problem/2941)"
   ]
  },
  {
   "cell_type": "markdown",
   "id": "female-aurora",
   "metadata": {},
   "source": [
    "`-` 아니 디버깅하고 있었다가 예제 모두 맞춰서 이제 됐나? 싶어서 제출 했더니 정답임.. 근데 왜 맞지??\n",
    "\n",
    "`-` 왜 정답인지 생각해 봤음\n",
    "\n",
    "`-` 내 코드를 보면 `ddz=z=` 가 입력되면 `dz=`: 1개, `z=`: 2개임\n",
    "\n",
    "`-` `z=` 원래 1개여야 맞지만 `dz=`에 있는 `z=`을 `z=`에 포함시켜 2개임\n",
    "\n",
    "`-` `그래서 total_num이 원래보다 +1이 됐음`\n",
    "\n",
    "`-` 정상 출력은 total_num + len(S) - 2 * total_num임\n",
    "\n",
    "`-` 2를 곱한 이유는 알파벳 1개당 길이가 2여서임('dz='제외)\n",
    "\n",
    "`-` 근데 사실 출력이 잘못됨. 왜냐하면 'dz='의 길이는 3이기 때문 --> `출력값이 'dz=' 하나당 1씩 부족함`\n",
    "\n",
    "`-` 그런데 'dz=' 에 'z='이 포함돼서 +1이 되어 -1과 +1이 서로 상쇄됨\n",
    "\n",
    "`-` 그래서 정답을 출력함, 노리고 한 건 아니지만 어부지리로 맞춘셈"
   ]
  },
  {
   "cell_type": "code",
   "execution_count": 102,
   "id": "artistic-franklin",
   "metadata": {},
   "outputs": [
    {
     "name": "stdin",
     "output_type": "stream",
     "text": [
      " ddz=z=\n"
     ]
    },
    {
     "name": "stdout",
     "output_type": "stream",
     "text": [
      "3\n"
     ]
    }
   ],
   "source": [
    "S = str(input())\n",
    "s_len = len(S)\n",
    "total_num = (s_len - len(S.replace('dz=',''))) // 3\n",
    "\n",
    "for i in ['c=', 'c-', 'd-', 'lj', 'nj', 's=', 'z=']:\n",
    "    total_num += (s_len - len(S.replace(i, ''))) // 2\n",
    "    \n",
    "print(len(S) - total_num)"
   ]
  },
  {
   "cell_type": "markdown",
   "id": "alternative-mount",
   "metadata": {},
   "source": [
    "`-` 아래는 다른 사람이 작성한 코드를 보고 영감을 받아 작성한 코드임\n",
    "\n",
    "`-` 위에서 문제점은 `dz=`에 `z=`이 포함된것이다\n",
    "\n",
    "`-` 만약 'dz='을 없앤다면 괜찮을까? --> 그렇지 않음\n",
    "\n",
    "`-` 만약 `ddz=z=`이면 'dz='을 없애도 'dz='이 남게 된다\n",
    "\n",
    "`-` 만약 'dz='을 없애는 대신에 다른 문자로 바꾼다면? 예컨데 알파벳이 아닌 다른 문자\n",
    "\n",
    "`-` 'dz='을 `*` 로 바꾼다면 `ddz=z=` --> `d*z=`이 되어 제대로 개수를 셀 수 있음\n",
    "\n",
    "`-` 또 다른 장점은 이제 더 이상 알파벳의 개수를 셀 때 `//2 or //3` 을 하지 않아도 됨\n",
    "\n",
    "`-` 왜냐하면 크로아티아 알파벳을 `한 자리 문자`로 바꿨기 때문임\n",
    "\n",
    "`-` 모두 길이가 1이므로 바꾼 후에 최종 문자열의 길이를 출력하면 됨"
   ]
  },
  {
   "cell_type": "code",
   "execution_count": 106,
   "id": "rational-allah",
   "metadata": {},
   "outputs": [
    {
     "name": "stdin",
     "output_type": "stream",
     "text": [
      " ddz=z=\n"
     ]
    },
    {
     "name": "stdout",
     "output_type": "stream",
     "text": [
      "3\n"
     ]
    }
   ],
   "source": [
    "S = input()\n",
    "for i in ['c=', 'c-', 'dz=', 'd-', 'lj', 'nj', 's=', 'z=']:\n",
    "    S = S.replace(i, '*')\n",
    "print(len(S))"
   ]
  },
  {
   "cell_type": "markdown",
   "id": "official-treat",
   "metadata": {},
   "source": [
    "### 그대로 출력하기\n",
    "- 문제 출처: [백준 11718번](https://www.acmicpc.net/problem/11718)"
   ]
  },
  {
   "cell_type": "code",
   "execution_count": 1,
   "id": "floating-overview",
   "metadata": {},
   "outputs": [
    {
     "name": "stdout",
     "output_type": "stream",
     "text": [
      "Hello world!\n"
     ]
    }
   ],
   "source": [
    "while 1:\n",
    "    try:\n",
    "        print(input())\n",
    "        \n",
    "    except:\n",
    "        break"
   ]
  },
  {
   "cell_type": "markdown",
   "id": "neutral-cream",
   "metadata": {},
   "source": [
    "### 그대로 출력하기2\n",
    "- 문제 출처: [백준 11719번](https://www.acmicpc.net/problem/11719)\n",
    "\n",
    "`-` 그대로 출력하기 문제와 동일한 코드로 해결됨"
   ]
  },
  {
   "cell_type": "code",
   "execution_count": 1,
   "id": "necessary-brunei",
   "metadata": {},
   "outputs": [
    {
     "name": "stdout",
     "output_type": "stream",
     "text": [
      "Hello world!\n"
     ]
    }
   ],
   "source": [
    "while True:\n",
    "    try:\n",
    "        print(input())\n",
    "        \n",
    "    except:\n",
    "        break"
   ]
  },
  {
   "cell_type": "markdown",
   "id": "demanding-joyce",
   "metadata": {},
   "source": [
    "### UCPC는 무엇의 약자일까?\n",
    "- 문제 출처: [백준 15904번](https://www.acmicpc.net/problem/15904)"
   ]
  },
  {
   "cell_type": "code",
   "execution_count": 53,
   "id": "engaging-energy",
   "metadata": {},
   "outputs": [
    {
     "name": "stdin",
     "output_type": "stream",
     "text": [
      " Union of Computer Programming Contest club contest\n"
     ]
    },
    {
     "name": "stdout",
     "output_type": "stream",
     "text": [
      "I love UCPC\n"
     ]
    }
   ],
   "source": [
    "words = input()\n",
    "cnt = 0\n",
    "\n",
    "for i in range(len(words)):\n",
    "    if cnt == 0 and words[i] == 'U':\n",
    "        cnt += 1\n",
    "    \n",
    "    elif cnt == 1 and words[i] == 'C':\n",
    "        cnt += 1\n",
    "        \n",
    "    elif cnt == 2 and words[i] == 'P':\n",
    "        cnt += 1\n",
    "        \n",
    "    elif cnt == 3 and words[i] == 'C':\n",
    "        cnt += 1 \n",
    "\n",
    "if cnt == 4:\n",
    "    print('I love UCPC')\n",
    "    \n",
    "else:\n",
    "    print('I hate UCPC')"
   ]
  },
  {
   "cell_type": "markdown",
   "id": "worldwide-herald",
   "metadata": {},
   "source": [
    "---"
   ]
  },
  {
   "cell_type": "markdown",
   "id": "intended-search",
   "metadata": {},
   "source": [
    "## 브루트 포스(brute force)\n",
    "`-` 완전탐색 알고리즘으로 가능한 모든 경우의 수를 탐색한다. --> 100%확률로 정답 출력 "
   ]
  },
  {
   "cell_type": "markdown",
   "id": "statutory-herald",
   "metadata": {},
   "source": [
    "### 블랙잭\n",
    "- 기존 룰: 카드의 합이 21을 넘지 않는 한도 내에서, 카드의 합을 최대한 크게 만드는 게임이다.\n",
    "\n",
    "- 변형 룰: N장의 카드에 써져 있는 숫자가 주어졌을 때, M을 넘지 않으면서 M에 최대한 가까운 카드 3장의 합을 구해 출력하시오."
   ]
  },
  {
   "cell_type": "code",
   "execution_count": 181,
   "id": "interstate-processor",
   "metadata": {},
   "outputs": [
    {
     "name": "stdin",
     "output_type": "stream",
     "text": [
      " 5 21\n",
      " 5 6 7 8 9\n"
     ]
    },
    {
     "name": "stdout",
     "output_type": "stream",
     "text": [
      "21\n"
     ]
    }
   ],
   "source": [
    "N, M = map(int,input().split())\n",
    "card = list(map(int,input().split()))\n",
    "\n",
    "def blackjack(card,length,Max):\n",
    "    card_list=[]\n",
    "    for i in range(N):\n",
    "        for j in range(N):\n",
    "            for k in range(N):\n",
    "                if i != j and j != k and i != k:\n",
    "                    if card[i]+card[j]+card[k] <= Max:\n",
    "                        card_list.append(card[i]+card[j]+card[k])\n",
    "    print(max(card_list))\n",
    "\n",
    "blackjack(card,N,M)  ## 아쉬운점: for문3번사용 --> O(n^3)"
   ]
  },
  {
   "cell_type": "markdown",
   "id": "thorough-creator",
   "metadata": {},
   "source": [
    "### 분해합\n",
    "- 어떤 자연수 N이 있을 때, 그 자연수 N의 분해합은 N과 N을 이루는 각 자리수의 합을 의미한다. \n",
    "\n",
    "- 어떤 자연수 M의 분해합이 N인 경우, M을 N의 생성자라 한다. \n",
    "\n",
    "- 예를 들어, 245의 분해합은 256(=245+2+4+5)이 된다. \n",
    "\n",
    "- 따라서 245는 256의 생성자가 된다. 물론, 어떤 자연수의 경우에는 생성자가 없을 수도 있다. \n",
    "\n",
    "- 반대로, 생성자가 여러 개인 자연수도 있을 수 있다.\n",
    "\n",
    "- 자연수 N이 주어졌을 때, N의 가장 작은 생성자를 구해내는 프로그램을 작성하시오."
   ]
  },
  {
   "cell_type": "code",
   "execution_count": 19,
   "id": "oriented-journal",
   "metadata": {},
   "outputs": [
    {
     "name": "stdin",
     "output_type": "stream",
     "text": [
      " 216\n"
     ]
    },
    {
     "name": "stdout",
     "output_type": "stream",
     "text": [
      "198\n"
     ]
    }
   ],
   "source": [
    "N = int(input())\n",
    "def solve(x):\n",
    "    list=[]\n",
    "    for i in range(1, x+1):\n",
    "        generator = i + sum([int(str(i)[j]) for j in range(len(str(i)))])\n",
    "        if generator == x:\n",
    "            list.append(i)\n",
    "            \n",
    "    if len(list) > 0:\n",
    "        return(min(list))\n",
    "    else:\n",
    "        return 0\n",
    "    \n",
    "print(solve(N))\n"
   ]
  },
  {
   "cell_type": "markdown",
   "id": "brilliant-lounge",
   "metadata": {},
   "source": [
    "### 임의의 숫자의 (각 자릿수 + 자기 자신)"
   ]
  },
  {
   "cell_type": "code",
   "execution_count": 1,
   "id": "general-folks",
   "metadata": {},
   "outputs": [
    {
     "data": {
      "text/plain": [
       "12360"
      ]
     },
     "execution_count": 1,
     "metadata": {},
     "output_type": "execute_result"
    }
   ],
   "source": [
    "x=12345\n",
    "sum([int(str(x)[i]) for i in range(len(str(x)))])+x   ### 리스트 컴프리헨션"
   ]
  },
  {
   "cell_type": "markdown",
   "id": "distinguished-kenya",
   "metadata": {},
   "source": [
    "### 반올림 오차(백준 문제 아님 + 무조건 읽으세요) "
   ]
  },
  {
   "cell_type": "markdown",
   "id": "tutorial-durham",
   "metadata": {},
   "source": [
    "`-` 문제를 풀다보면 나누기 연산을 할 때가 있다\n",
    "\n",
    "`-` 만약 나누기연산과 몫 연산의 결과가 같다면 무조건 몫 연산자를 쓰자 ---> 10 / 5 = 10 // 5\n",
    "\n",
    "`-` 왜????\n",
    "\n",
    "`-` 0.1 + 0.2 = 0.3 일까? ---> no\n",
    "\n",
    "`-` ???? 정말로?"
   ]
  },
  {
   "cell_type": "code",
   "execution_count": 10,
   "id": "exposed-antibody",
   "metadata": {},
   "outputs": [
    {
     "data": {
      "text/plain": [
       "0.30000000000000004"
      ]
     },
     "execution_count": 10,
     "metadata": {},
     "output_type": "execute_result"
    }
   ],
   "source": [
    "0.1 + 0.2"
   ]
  },
  {
   "cell_type": "markdown",
   "id": "median-motion",
   "metadata": {},
   "source": [
    "`-` 정말로 0.1 + 0.2 = 0.3이 아님"
   ]
  },
  {
   "cell_type": "code",
   "execution_count": 11,
   "id": "detected-coach",
   "metadata": {},
   "outputs": [
    {
     "data": {
      "text/plain": [
       "False"
      ]
     },
     "execution_count": 11,
     "metadata": {},
     "output_type": "execute_result"
    }
   ],
   "source": [
    "0.1 + 0.2 == 0.3"
   ]
  },
  {
   "cell_type": "markdown",
   "id": "preceding-dinner",
   "metadata": {},
   "source": [
    "`-` 하나 더: 1.2 * 3 = 3.6 일까? ---> no"
   ]
  },
  {
   "cell_type": "code",
   "execution_count": 12,
   "id": "affecting-brooks",
   "metadata": {},
   "outputs": [
    {
     "data": {
      "text/plain": [
       "3.5999999999999996"
      ]
     },
     "execution_count": 12,
     "metadata": {},
     "output_type": "execute_result"
    }
   ],
   "source": [
    "1.2 * 3"
   ]
  },
  {
   "cell_type": "code",
   "execution_count": 13,
   "id": "refined-communications",
   "metadata": {},
   "outputs": [
    {
     "data": {
      "text/plain": [
       "False"
      ]
     },
     "execution_count": 13,
     "metadata": {},
     "output_type": "execute_result"
    }
   ],
   "source": [
    "1.2 * 3 == 3.6"
   ]
  },
  {
   "cell_type": "markdown",
   "id": "variable-cooper",
   "metadata": {},
   "source": [
    "`-` 밑에 문제인 IQ Test도 틀린 이유가 몫 연산자를 쓰지 않고 나누기 연산자를 사용한 것이다\n",
    "\n",
    "`-` 위에서 확인한 봐와 같이 반올림 오차 때문에 float형은 불안정하므로 몫 연산자를 사용하는 것이 무조건 안전하다"
   ]
  },
  {
   "cell_type": "markdown",
   "id": "editorial-drive",
   "metadata": {},
   "source": [
    "### IQ Test(밑에 상황 때문에 반례 찾아 봤음) + 맞는 것 같은데 계속 틀림..., 그래서 다른 사람 코드 봤는데 왜 틀렸는지 모르겠음 + 알아냈다\n",
    "\n",
    "- IQ Test의 문제 중에는 공통된 패턴을 찾는 문제가 있다. 수열이 주어졌을 때 다음 수를 찾는 문제이다.\n",
    "\n",
    "- 예를 들어 1, 2, 3, 4, 5가 주어졌다. 다음 수는 무엇인가? 당연히 답은 6이다. \n",
    "\n",
    "- 약간 더 어려운 문제를 보면 3, 6, 12, 24, 48이 주어졌을 때 다음 수는 무엇인가? 역시 답은 96이다.\n",
    "\n",
    "- 이제 제일 어려운 문제를 보자.\n",
    "\n",
    "- 1, 4, 13, 40이 주어졌을 때 다음 수는 무엇일까? 답은 121이다.\n",
    "\n",
    "- 그 이유는 항상 다음 수는 앞 수 * 3 + 1이기 때문이다.\n",
    "\n",
    "- 은진이는 위의 3문제를 모두 풀지 못했으므로 자동으로 풀어주는 프로그램을 작성하기로 했다.\n",
    "\n",
    "- 항상 모든 답은 구하는 규칙은 앞 수 * a + b이다. 그리고 a와 b는 정수이다.\n",
    "\n",
    "- 수 N개가 주어졌을 때 규칙에 맞는 다음 수를 구하는 프로그램을 작성하시오."
   ]
  },
  {
   "cell_type": "markdown",
   "id": "angry-signature",
   "metadata": {},
   "source": [
    "`-` N은 2여도 1, 1 과 같이 답이 있을 수 있다.\n",
    "\n",
    "`-` 일반적으로 N = 2이면 다음 수는 여러개이다,\n",
    "\n",
    "`-` $1, 2$ --> 다음 수 $3(a=0, b=1)$ or $-8(a=-10, b=12)$ 등등\n",
    "\n",
    "`-` a, b 둘다 0일 수 도 있음"
   ]
  },
  {
   "cell_type": "markdown",
   "id": "expanded-alarm",
   "metadata": {},
   "source": [
    "`-` 스파게티 코드 + 틀렸습니다"
   ]
  },
  {
   "cell_type": "markdown",
   "id": "mature-piano",
   "metadata": {},
   "source": [
    "```python\n",
    "N = int(input())\n",
    "\n",
    "N_list = list(map(int, input().split()))\n",
    "\n",
    "def sequence_rule(x):\n",
    "    if len(x) == 2 and x[0] != x[1]:\n",
    "        return 'A'\n",
    "    elif len(x) == 2 and x[0] == x[1]:\n",
    "        return x[0]\n",
    "    \n",
    "    if len(x) == 1:\n",
    "        return 'A'\n",
    "    \n",
    "    if x[0] == x[1] == x[2] :\n",
    "        a = 0\n",
    "    elif x[1] == x[0]  and x[1] != x[2]:\n",
    "        return 'B'\n",
    "    else:\n",
    "        a = (x[2] - x[1]) / (x[1] - x[0])\n",
    "        \n",
    "    b = x[1] - a * x[0]\n",
    "    \n",
    "    for i in range(len(x) - 1):\n",
    "        if a * x[i] + b != x[i+1]:\n",
    "            return 'B'\n",
    "        elif x[i+1] == 0:  ## 이 부분이 문제였다. x[i+1] == 0이면 그 뒤는 확인 안하고 return 0 실행\n",
    "            return 0\n",
    "    \n",
    "    return int(a * x[-1] + b)\n",
    "\n",
    "print(sequence_rule(N_list))\n",
    "```   "
   ]
  },
  {
   "cell_type": "markdown",
   "id": "intimate-lexington",
   "metadata": {},
   "source": [
    "`-` 위에 있는 코드를 정리하자\n",
    "\n",
    "`-` 틀렸습니다\n",
    "\n",
    "`-` `exit(0)` --> python 프로그램 종료\n",
    "\n",
    "`-` `exit(0)`써서 코드 짤려했는데 복잡하고 틀렸다고 처리돼서 다른 방법을 찾아 떠났음\n",
    "\n",
    "`-` 이 파일을 둘러보다가 예전에 왜 틀렸는지 모르겠던 기억에 맞은 사람 코드랑 비교해봄 \n",
    "\n",
    "`-`  내 코드: a = (x[1] - x[2]) / (x[0] - x[1])\n",
    "\n",
    "`-` 맞은 사람 코드: a = (x[1] - x[2]) // (x[0] - x[1])\n",
    "\n",
    "`-` 나누기 연산자 대신에 몫 연산자를 사용했음 ---> 뭔 차이인데?\n",
    "\n",
    "`-` 10/5 = 2.0이지만 10//5 = 2 ---> 그래서 왜?? ---> 출력을 보면 소수점이 없어야 함 ---> 하지만 나는 소수점이 있으므로 틀림\n",
    "\n",
    "`-` 근데 그 이유가 아니었다 ---> return (int(a * x[-1] + b)) 이므로 int형이다 ---> 소수점 없다는 의미 ---> 그럼 왜 나누기 연산자 쓰면 틀리고 몫 연산자 쓰면 맞음?? ---> 그러게?\n",
    "\n",
    "`-` 아마 float형이 불안정해서 그럴 것이다 ---> 그래서 안전하게 나누기 대신 몫 연산자를 쓰는 것이 좋음 ---> 결과가 같을때 만: 10 / 5 = 10 // 5\n",
    "\n",
    "`-` 밑에 있는 코드는 17%부근에서 틀렸습니다로 처리됨 + 내 제출들을 보면 런타임에러(NameError)가 많이 있음 ---> 이유: if len(x) == 1: 에서 return할 때 'A'가 아닌 A라고 했음\n",
    "\n",
    "`-` 'A'라고 해도 17%부근에서 틀렸음\n",
    "\n",
    "`-` 하지만 나누기 연산자 대신에 몫 연산자를 쓰고 정답처리 됐음"
   ]
  },
  {
   "cell_type": "markdown",
   "id": "dietary-tradition",
   "metadata": {},
   "source": [
    "- 틀린 코드"
   ]
  },
  {
   "cell_type": "code",
   "execution_count": 7,
   "id": "atmospheric-mouth",
   "metadata": {},
   "outputs": [
    {
     "name": "stdin",
     "output_type": "stream",
     "text": [
      " 3\n",
      " 1 5 9\n"
     ]
    },
    {
     "name": "stdout",
     "output_type": "stream",
     "text": [
      "13\n"
     ]
    }
   ],
   "source": [
    "N = int(input())\n",
    "\n",
    "N_list = list(map(int, input().split()))\n",
    "\n",
    "def sequence_rule2(x):\n",
    "    if len(x) == 1:\n",
    "        return 'A'\n",
    "        \n",
    "    elif len(x) == 2 and x[0] == x[1]:\n",
    "        return x[1]\n",
    "    \n",
    "    elif len(x) == 2 and x[0] != x[1]:\n",
    "        return 'A'\n",
    "    \n",
    "    elif x[0] == x[1]:  ## a=1, b=0 or a=0, b=x[0]\n",
    "        a = 0\n",
    "    \n",
    "    else:\n",
    "        a = (x[1] - x[2]) / (x[0] - x[1])\n",
    "        \n",
    "    b = x[1] - a * x[0]\n",
    "    \n",
    "    for i in range(len(x) - 1):\n",
    "        if a * x[i] + b != x[i+1]:\n",
    "            return 'B'\n",
    "         \n",
    "    return int(a * x[-1] + b)\n",
    "    \n",
    "print(sequence_rule2(N_list))\n",
    "        "
   ]
  },
  {
   "cell_type": "markdown",
   "id": "noble-pioneer",
   "metadata": {},
   "source": [
    "- 맞은 코드"
   ]
  },
  {
   "cell_type": "code",
   "execution_count": 3,
   "id": "invisible-wilson",
   "metadata": {},
   "outputs": [
    {
     "name": "stdin",
     "output_type": "stream",
     "text": [
      " 3\n",
      " 1 5 9\n"
     ]
    },
    {
     "name": "stdout",
     "output_type": "stream",
     "text": [
      "13\n"
     ]
    }
   ],
   "source": [
    "N = int(input())\n",
    "\n",
    "N_list = list(map(int, input().split()))\n",
    "\n",
    "def sequence_rule2(x):\n",
    "    if len(x) == 1:\n",
    "        return 'A'\n",
    "    \n",
    "    elif len(x) == 2 and x[0] == x[1]:\n",
    "        return x[1]\n",
    "    \n",
    "    elif len(x) == 2 and x[0] != x[1]:\n",
    "        return 'A'\n",
    "    \n",
    "    elif x[0] == x[1]:  ## a=1, b=0 or a=0, b=x[0]\n",
    "        a = 0\n",
    "    \n",
    "    else:\n",
    "        a = (x[2] - x[1]) // (x[1] - x[0])\n",
    "        \n",
    "    b = x[1] - a * x[0]\n",
    "    \n",
    "    for i in range(len(x) - 1):\n",
    "        if a * x[i] + b != x[i+1]:\n",
    "            return 'B'\n",
    "    \n",
    "    return int(a * x[-1] + b)\n",
    "         \n",
    "print(sequence_rule2(N_list))"
   ]
  },
  {
   "cell_type": "markdown",
   "id": "controlled-analyst",
   "metadata": {},
   "source": [
    "`-` `continue` --> 아래 코드를 실행하지 않고 건너뜀"
   ]
  },
  {
   "cell_type": "code",
   "execution_count": 176,
   "id": "wound-office",
   "metadata": {},
   "outputs": [
    {
     "name": "stdout",
     "output_type": "stream",
     "text": [
      "1\n",
      "3\n",
      "5\n",
      "7\n",
      "9\n"
     ]
    }
   ],
   "source": [
    "for i in range(10):       # 0부터 99까지 증가하면서 100번 반복\n",
    "    if i % 2 == 0:         # i를 2로 나누었을 때 나머지가 0면 짝수\n",
    "        continue           # 아래 코드를 실행하지 않고 건너뜀\n",
    "    print(i)"
   ]
  },
  {
   "cell_type": "markdown",
   "id": "increasing-approval",
   "metadata": {},
   "source": [
    "`-` 맞았습니다(3시간 걸림 힘들다)\n",
    "\n",
    "`-` 위에 있는 틀린 코드와 밑의 코드는 무슨 차이일까... ---> 나누기 연산자와 몫 연산자의 차이"
   ]
  },
  {
   "cell_type": "code",
   "execution_count": 178,
   "id": "attended-orchestra",
   "metadata": {},
   "outputs": [
    {
     "name": "stdin",
     "output_type": "stream",
     "text": [
      " 4\n",
      " 1 4 13 40\n"
     ]
    },
    {
     "name": "stdout",
     "output_type": "stream",
     "text": [
      "121\n"
     ]
    }
   ],
   "source": [
    "N = int(input())\n",
    "\n",
    "x = list(map(int, input().split()))\n",
    "\n",
    "\n",
    "if N == 1:\n",
    "    print('A')\n",
    "    \n",
    "elif N == 2:\n",
    "    if x[0] == x[1]:\n",
    "        print(x[0])\n",
    "    \n",
    "    else:\n",
    "        print('A')\n",
    "        \n",
    "else:\n",
    "    if x[0] == x[1]:  ## a=1, b=0 or a=0, b=x[0]\n",
    "        a = 0\n",
    "        b = x[1]\n",
    "    \n",
    "    else:\n",
    "        a = (x[2] - x[1]) // (x[1] - x[0])\n",
    "        b = x[1] - x[0] * a\n",
    "    \n",
    "    result = True\n",
    "    \n",
    "    for i in range(N - 1):\n",
    "        if x[i] * a + b == x[i+1]:\n",
    "            continue\n",
    "        else:\n",
    "            result = False\n",
    "    if result:\n",
    "        print(a * x[-1] + b)\n",
    "    else:\n",
    "        print('B')\n",
    "         "
   ]
  },
  {
   "cell_type": "markdown",
   "id": "confident-radar",
   "metadata": {},
   "source": [
    "### 영화감독 숌\n",
    "- 종말의 숫자란 어떤 수에 6이 적어도 3개이상 연속으로 들어가는 수를 말한다. \n",
    "\n",
    "- 제일 작은 종말의 숫자는 666이고, 그 다음으로 큰 수는 1666, 2666, 3666, .... 과 같다.\n",
    "\n",
    "- 숌이 만든 ($N\\leq10000$)번째 영화의 제목에 들어간 숫자를 출력하는 프로그램을 작성하시오. "
   ]
  },
  {
   "cell_type": "markdown",
   "id": "resident-boulder",
   "metadata": {},
   "source": [
    "`-` $N\\leq 10000$ --> 계산 결과 영화제목은 최대 7자리\n",
    "\n",
    "`-` 7자리 수까지 666을 포함하는 수를 모두 생성한 후 오름차순으로 정렬\n",
    "\n",
    "`-` 문제점: 666xxx 같은 수를 표현한다고 치자 --> 이때 xxx = 010이라면 자연수가 아니므로 010을 수로 표현할 수 없음\n",
    "\n",
    "`-` 666xxx --> 66600x + 6660xx\n",
    "\n",
    "`-` 하지만 좋은 방법이 떠오름\n",
    "\n",
    "`-` 666xxx --> 66yxxx , `y = 6`이므로 yxxx => range(6000,7000)\n",
    "\n",
    "`-` 위와 같이 표현하면 666010도 표현 가능!"
   ]
  },
  {
   "cell_type": "code",
   "execution_count": 21,
   "id": "underlying-technology",
   "metadata": {},
   "outputs": [
    {
     "name": "stdin",
     "output_type": "stream",
     "text": [
      " 2\n"
     ]
    },
    {
     "name": "stdout",
     "output_type": "stream",
     "text": [
      "1666\n"
     ]
    }
   ],
   "source": [
    "import math\n",
    "\n",
    "result = [666]\n",
    "\n",
    "result.extend([int(str(i) + '666') for i in range(1, 3000)])                              ## x666, xy666, xyy666, 1yyy666, 2yyy666 --> 앞으로 나오는 x는 자연수, y는 0포함 \n",
    "result.extend([int('66' + str(i)) for i in range(6000,7000)])                             ## 666yyy\n",
    "result.extend([int('66' + str(i)) for i in range(600, 700)])                              ## 666yy\n",
    "result.extend([int('666' + str(i)) for i in range(10)])                                   ## 666y\n",
    "\n",
    "result.extend([int(str(i) + '66' + str(j)) for i in range(1, 30) for j in range(600, 700)])  ## x666yy, 1y666yy, 2y666yy\n",
    "result.extend([int(str(i) + '66' + str(j)) for i in range(1, 100) for j in range(60, 70)])   ## x666y, xy666y   \n",
    "\n",
    "result.extend([int(str(i) + '66' + str(j)) for i in range(1, 3) for j in range(6000, 7000)])   ## 1666yyy, 2666yyy\n",
    "result.extend([int(str(i) + '666' + str(j)) for i in range(100, 300) for j in range(10)])      ## 1yy666y, 2yy666y\n",
    "result.extend([int(str(i) + '666') for i in range(1000, 3000)])                                ## 1yyy666, 2yyy666 \n",
    " \n",
    "result = list(set(result))\n",
    "result.sort()\n",
    "\n",
    "N = int(input())\n",
    "\n",
    "print(result[N-1])\n"
   ]
  },
  {
   "cell_type": "markdown",
   "id": "republican-burton",
   "metadata": {},
   "source": [
    "`-` 다른 사람 아이디어 보고 만든 코드 --> 내 코드보다 코드 길이가 10배 짧아서 10배 좋다고 생각할라 했는데 시간이 너무 오래 걸리네? --> 내 실수인 걸로 할라 했는데 숏코딩 보니까 다른 사람도 시간이 오래 걸렸다.\n",
    "\n",
    "`-` 종말의 수는 $10000$개가 최대이므로 아무거 커도 $3000000$ 이하이다.\n",
    "\n",
    "`-` $3000000$까지의 숫자 중 $666$을 포함하면 새로운 리스트에 포함한다."
   ]
  },
  {
   "cell_type": "code",
   "execution_count": 20,
   "id": "stupid-contribution",
   "metadata": {},
   "outputs": [
    {
     "name": "stdin",
     "output_type": "stream",
     "text": [
      " 2\n"
     ]
    },
    {
     "name": "stdout",
     "output_type": "stream",
     "text": [
      "1666\n"
     ]
    }
   ],
   "source": [
    "result = []\n",
    "result.extend([int(str(i)) for i in range(666,3000000) if str(i).find('666') != -1])\n",
    "\n",
    "N = int(input())\n",
    "print(result[N-1])\n"
   ]
  },
  {
   "cell_type": "markdown",
   "id": "electrical-window",
   "metadata": {},
   "source": [
    "`-` 숏코딩으로 만들었음(가독성 쓰레기)"
   ]
  },
  {
   "cell_type": "code",
   "execution_count": 1,
   "id": "alone-botswana",
   "metadata": {},
   "outputs": [
    {
     "name": "stdin",
     "output_type": "stream",
     "text": [
      " 2\n"
     ]
    },
    {
     "name": "stdout",
     "output_type": "stream",
     "text": [
      "1666\n"
     ]
    }
   ],
   "source": [
    "print([i for i in range(9**7)if'666'in str(i)][int(input())-1])"
   ]
  },
  {
   "cell_type": "markdown",
   "id": "active-salem",
   "metadata": {},
   "source": [
    "### 체스판 다시 칠하기\n",
    "- $8\\times8$ 크기의 체스판으로 잘라낸 후에 몇 개의 정사각형을 다시 칠한다.\n",
    "- 다시 칠해야 하는 정사각형의 최소 개수를 구하는 프로그램을 작성하시오."
   ]
  },
  {
   "cell_type": "markdown",
   "id": "bulgarian-grocery",
   "metadata": {},
   "source": [
    "`-` 밑에 있는 코드 왜 틀림???????????????\n",
    "\n",
    "`-` W로 채워진 8$\\times$8 체스판을 input 하면 답이 32가 나와야 하는데 chess1, chess2 = 24, 25가 나온다.(원인 불명)\n",
    "\n",
    "`-` 아 왜 틀렸냐고... 안해 다른 거 할 거야"
   ]
  },
  {
   "cell_type": "markdown",
   "id": "micro-formation",
   "metadata": {},
   "source": [
    "```python\n",
    "N, M = map(int, input().split())\n",
    "data = []\n",
    "for i in range(N):\n",
    "    data.append(list(input()))\n",
    "    \n",
    "def chess(n, m):\n",
    "    \n",
    "    x, y = 0, 7\n",
    "    chess_list = []\n",
    "    \n",
    "    while x < n - 7 and y < n:\n",
    "        a, b  = 0, 7\n",
    "        \n",
    "        while a < m - 7 and b < m:\n",
    "            chess1, chess2 = 0, 0\n",
    "            \n",
    "            for i in range(x, y):\n",
    "    \n",
    "                for j in range(a, b):\n",
    "                    \n",
    "                    if (a + x) % 2 ==0:\n",
    "                        if (i + j) % 2 == 0:  \n",
    "                            if data[i][j] == 'B':\n",
    "                                chess1 += 1\n",
    "                            \n",
    "                            else:\n",
    "                                chess2 += 1\n",
    "            \n",
    "                        if (i + j) % 2 == 1:\n",
    "                            if data[i][j] == 'B':\n",
    "                                chess2 += 1\n",
    "                            \n",
    "                            else:\n",
    "                                chess1 += 1\n",
    "                                \n",
    "                    else:\n",
    "                        if (i + j) % 2 == 0:  \n",
    "                            if data[i][j] == 'B':\n",
    "                                chess2 += 1\n",
    "                            \n",
    "                            else:\n",
    "                                chess1 += 1\n",
    "            \n",
    "                        if (i + j) % 2 == 1:\n",
    "                            if data[i][j] == 'B':\n",
    "                                chess1 += 1\n",
    "                            \n",
    "                            else:\n",
    "                                chess2 += 1\n",
    "                                          \n",
    "            chess_list.extend([chess1, chess2])    \n",
    "            a += 1\n",
    "            b += 1\n",
    "        \n",
    "        x += 1\n",
    "        y += 1\n",
    "    \n",
    "    print(chess_list)\n",
    "\n",
    "chess(N, M)\n",
    "```    \n",
    "`-` `input` \n",
    "\n",
    "8, 8\n",
    "\n",
    "WWWWWWWW\n",
    "\n",
    "WWWWWWWW\n",
    "\n",
    "WWWWWWWW\n",
    "\n",
    "WWWWWWWW\n",
    "\n",
    "WWWWWWWW\n",
    "\n",
    "WWWWWWWW\n",
    "\n",
    "WWWWWWWW\n",
    "\n",
    "WWWWWWWW\n",
    "\n",
    "`-` output\n",
    "\n",
    "[24, 25]"
   ]
  },
  {
   "cell_type": "markdown",
   "id": "greatest-jimmy",
   "metadata": {},
   "source": [
    "### 덩치(7568번)"
   ]
  },
  {
   "cell_type": "code",
   "execution_count": 50,
   "id": "rural-exchange",
   "metadata": {},
   "outputs": [
    {
     "name": "stdin",
     "output_type": "stream",
     "text": [
      " 5\n",
      " 55 185\n",
      " 58 183\n",
      " 88 186\n",
      " 60 175\n",
      " 46 155\n"
     ]
    },
    {
     "name": "stdout",
     "output_type": "stream",
     "text": [
      "2 2 1 2 5 "
     ]
    }
   ],
   "source": [
    "N = int(input())\n",
    "\n",
    "body = []\n",
    "for i in range(N):\n",
    "    body.append(list(map(int,input().split())))\n",
    "\n",
    "for i in range(N):\n",
    "    rank = 1\n",
    "    \n",
    "    for j in range(N):    \n",
    "        if body[i][0] < body[j][0] and body[i][1] < body[j][1]:\n",
    "            rank += 1\n",
    "        \n",
    "    print(rank, end = \" \")"
   ]
  },
  {
   "cell_type": "code",
   "execution_count": 44,
   "id": "automotive-triangle",
   "metadata": {},
   "outputs": [
    {
     "name": "stdout",
     "output_type": "stream",
     "text": [
      "(1, 2, 3)\n"
     ]
    }
   ],
   "source": [
    "a=['1','2','3']\n",
    "x=' '.join(a)\n",
    "a=1,2,3\n",
    "print(a)"
   ]
  },
  {
   "cell_type": "markdown",
   "id": "continuous-merchandise",
   "metadata": {},
   "source": [
    "---"
   ]
  },
  {
   "cell_type": "markdown",
   "id": "hollywood-spanish",
   "metadata": {},
   "source": [
    "## 소수"
   ]
  },
  {
   "cell_type": "markdown",
   "id": "endless-civilization",
   "metadata": {},
   "source": [
    "### 아파트 임대(5615번) --> 시간 초과 pass"
   ]
  },
  {
   "cell_type": "markdown",
   "id": "charming-reducing",
   "metadata": {},
   "source": [
    "- 아파트 면적은 $2xy+x+y = k$ --> 2k+1 = (2x+1)(2y+1) , $x,y$는 양의 정수\n",
    "\n",
    "- 즉, 아파트 면적을 k라 할 때 2k+1은 합성수이다.\n",
    "\n",
    "- 만약, $2k+1$이 소수라면 잘못된 아파트 면적이다."
   ]
  },
  {
   "cell_type": "markdown",
   "id": "operational-montana",
   "metadata": {},
   "source": [
    "#### 소수 판별\n",
    "```python\n",
    "def Is_prime_number(a):\n",
    "    from math import sqrt\n",
    "    for i in range(2,int(sqrt(a)+1)):\n",
    "        if a%i==0:\n",
    "            return True\n",
    "        else:\n",
    "            return False\n",
    "```   "
   ]
  },
  {
   "cell_type": "markdown",
   "id": "vertical-theory",
   "metadata": {},
   "source": [
    "```python\n",
    "from math import sqrt\n",
    "\n",
    "def Is_prime_number(a):\n",
    "    for i in range(2, int(sqrt(a))+1):\n",
    "        if a % i == 0:\n",
    "            return False\n",
    "        else:\n",
    "            return True\n",
    "        \n",
    "def apart(n):\n",
    "    sum = 0\n",
    "    for i in range(n):\n",
    "        x = int(input())\n",
    "        if Is_prime_number(2*x+1) == True:\n",
    "            sum +=1\n",
    "    return(sum)\n",
    "\n",
    "N = int(input())\n",
    "\n",
    "apart(N)\n",
    "```\n",
    "\n",
    "`-` `error`: 이렇게 코드를 짜면 N에 어떤 수를 대입해도 `if Is_prime_number(2*x+1) == True` 부분이 항상 참이여서 `sum += 1`이 실행된다.(원인불명)"
   ]
  },
  {
   "cell_type": "markdown",
   "id": "improved-edmonton",
   "metadata": {},
   "source": [
    "```python\n",
    "from math import sqrt\n",
    "\n",
    "def Is_prime_number(a):\n",
    "    for i in range(2, int(sqrt(a))+1):\n",
    "        if a % i == 0:\n",
    "            return 0\n",
    "        else:\n",
    "            return 1\n",
    "        \n",
    "def apart(n):\n",
    "    sum = 0\n",
    "    for i in range(n):\n",
    "        x = int(input())\n",
    "        if Is_prime_number(2*x+1) == 1:\n",
    "            sum += 1\n",
    "    return(sum)\n",
    "\n",
    "N = int(input())\n",
    "\n",
    "apart(N)\n",
    "```\n",
    "`-` `error`: 이렇게 코드를 짜면 N에 어떤 수를 대입해도 `if Is_prime_number(2*x+1) == True` 부분이 항상 참이여서 `sum += 1`이 실행된다.(마찬가지로 원인불명)\n"
   ]
  },
  {
   "cell_type": "markdown",
   "id": "knowing-advertising",
   "metadata": {},
   "source": [
    "`-` 아파트 임대 --> 시간 초과 코드"
   ]
  },
  {
   "cell_type": "code",
   "execution_count": 55,
   "id": "expensive-capacity",
   "metadata": {},
   "outputs": [
    {
     "name": "stdin",
     "output_type": "stream",
     "text": [
      " 10\n",
      " 4\n",
      " 7\n",
      " 9\n",
      " 10\n",
      " 12\n",
      " 13\n",
      " 16\n",
      " 17\n",
      " 19\n",
      " 20\n"
     ]
    },
    {
     "data": {
      "text/plain": [
       "2"
      ]
     },
     "execution_count": 55,
     "metadata": {},
     "output_type": "execute_result"
    }
   ],
   "source": [
    "import sys\n",
    "from math import sqrt \n",
    "\n",
    "def Is_prime_number(a):\n",
    "    for i in range(2, int(sqrt(a))+1):\n",
    "        if a % i == 0:\n",
    "            return False\n",
    "    return True\n",
    "        \n",
    "def apart(n):\n",
    "    sum = 0\n",
    "    for i in range(n):\n",
    "        x = int(sys.stdin.readline())\n",
    "        if Is_prime_number(2*x+1) == 1:\n",
    "            sum += 1\n",
    "    return(sum)\n",
    "\n",
    "N = int(input())\n",
    "\n",
    "apart(N)\n"
   ]
  },
  {
   "cell_type": "markdown",
   "id": "environmental-jackson",
   "metadata": {},
   "source": [
    "#### 소수판정 의문점"
   ]
  },
  {
   "cell_type": "markdown",
   "id": "eastern-possibility",
   "metadata": {},
   "source": [
    "```python\n",
    "def is_prime_number(x):\n",
    "    # 2부터 x의 제곱근까지의 모든 수를 확인하며\n",
    "    for i in range(2, int(sqrt(x)) + 1):\n",
    "        # x가 해당 수로 나누어떨어진다면\n",
    "        if x % i == 0:\n",
    "            return False # 소수가 아님\n",
    "    return True # 소수임\n",
    "```    \n",
    "`-` 위에 코드는 문제가 없다.$\\,$ x에 2나 3을 넣어도 잘 작동함."
   ]
  },
  {
   "cell_type": "markdown",
   "id": "basic-membrane",
   "metadata": {},
   "source": [
    "```python\n",
    "def is_prime_number(x):\n",
    "    # 2부터 x의 제곱근까지의 모든 수를 확인하며\n",
    "    for i in range(2, int(sqrt(x)) + 1):\n",
    "        # x가 해당 수로 나누어떨어진다면\n",
    "        if x % i == 0:\n",
    "            return False # 소수가 아님\n",
    "        else:\n",
    "            return True # 소수임\n",
    "```    \n",
    "`-` 위에 코드는 문제가 있다. x에 2나 3을 넣으면 return이 없다.\n",
    "\n",
    "`-` 아마 2나 3을 넣으면 `range(2,1)` 이 돼서 그럴 것이다."
   ]
  },
  {
   "cell_type": "markdown",
   "id": "rough-model",
   "metadata": {},
   "source": [
    "### 파이썬 코드 실행 시간 측정"
   ]
  },
  {
   "cell_type": "markdown",
   "id": "continental-trail",
   "metadata": {},
   "source": [
    "```python\n",
    "import time\n",
    "\n",
    "start = time.time() ## 시작 시간 저장\n",
    "\n",
    "## -----작업 코드-----\n",
    "\n",
    "print(\"time :\", time.time() - start)\n",
    "```"
   ]
  },
  {
   "cell_type": "markdown",
   "id": "decimal-association",
   "metadata": {},
   "source": [
    "### 소수 찾기1\n",
    "- 주어진 수 N개 중에서 소수가 몇 개인지 찾아서 출력하는 프로그램을 작성하시오."
   ]
  },
  {
   "cell_type": "code",
   "execution_count": 9,
   "id": "streaming-villa",
   "metadata": {},
   "outputs": [
    {
     "name": "stdin",
     "output_type": "stream",
     "text": [
      " 4\n",
      " 1 3 5 7\n"
     ]
    },
    {
     "name": "stdout",
     "output_type": "stream",
     "text": [
      "3\n"
     ]
    }
   ],
   "source": [
    "\n",
    "N = int(input())\n",
    "\n",
    "def Is_prime_num(x):\n",
    "    if x == 1:\n",
    "        return False\n",
    "    \n",
    "    for i in range(2, int(x**0.5) + 1):\n",
    "        if x % i == 0:\n",
    "            return False\n",
    "        \n",
    "    return True\n",
    "\n",
    "prime_num = 0 \n",
    "\n",
    "num_list = list(map(int, input().split()))\n",
    "\n",
    "for i in range(N):\n",
    "    if Is_prime_num(num_list[i]) == True:\n",
    "        prime_num += 1\n",
    "\n",
    "print(prime_num)\n",
    "        "
   ]
  },
  {
   "cell_type": "markdown",
   "id": "muslim-design",
   "metadata": {},
   "source": [
    "### 소수 찾기2\n",
    "- 자연수 M과 N이 주어질 때 M이상 N이하의 자연수 중 소수인 것을 모두 골라 이들 소수의 합과 최솟값을 찾는 프로그램을 작성하시오.\n",
    "\n",
    "- 만약 N과 M사이에 소수가 없다면 1을 출력하시오."
   ]
  },
  {
   "cell_type": "code",
   "execution_count": 16,
   "id": "broke-devil",
   "metadata": {},
   "outputs": [
    {
     "name": "stdin",
     "output_type": "stream",
     "text": [
      " 60\n",
      " 100\n"
     ]
    },
    {
     "name": "stdout",
     "output_type": "stream",
     "text": [
      "620\n",
      "61\n"
     ]
    }
   ],
   "source": [
    "N = int(input())\n",
    "M = int(input())\n",
    "\n",
    "def Is_prime_num(x):\n",
    "    if x == 1:\n",
    "        return False\n",
    "    \n",
    "    for i in range(2, int(x**0.5)+1):\n",
    "        if x % i == 0:\n",
    "            return False\n",
    "    return True\n",
    "\n",
    "prime_list = []\n",
    "for j in range(N, M+1):\n",
    "    if Is_prime_num(j) == True:\n",
    "        prime_list.append(j)\n",
    "\n",
    "if len(prime_list) == 0:\n",
    "    print(-1)\n",
    "else:\n",
    "    print(sum(prime_list))\n",
    "    print(min(prime_list))\n",
    "    "
   ]
  },
  {
   "cell_type": "markdown",
   "id": "instructional-annotation",
   "metadata": {},
   "source": [
    "### 에라토스테네스의 체를 통한 소수 찾기(소수 찾기2 다른 풀이)"
   ]
  },
  {
   "cell_type": "markdown",
   "id": "sporting-negotiation",
   "metadata": {},
   "source": [
    "`-` N과M은 10000이하의 자연수 이므로 미리 에라토스테네스의 체를 통해 소수를 구해놓자 "
   ]
  },
  {
   "cell_type": "code",
   "execution_count": 19,
   "id": "medical-anniversary",
   "metadata": {},
   "outputs": [
    {
     "name": "stdin",
     "output_type": "stream",
     "text": [
      " 60\n",
      " 100\n"
     ]
    },
    {
     "name": "stdout",
     "output_type": "stream",
     "text": [
      "620\n",
      "61\n"
     ]
    }
   ],
   "source": [
    "N = int(input())\n",
    "M = int(input())\n",
    "\n",
    "n = 10000\n",
    "m = int(n**0.5)\n",
    "prime_list = [False, False] + [True] * (n-1)\n",
    "\n",
    "for i in range(2, m+1):\n",
    "    if prime_list[i] == True:\n",
    "        for j in range(2*i, n+1, i):\n",
    "            prime_list[j] = False\n",
    "            \n",
    "prime_num_list = [ x for x in range(N, M+1) if prime_list[x] == True]\n",
    "\n",
    "if len(prime_num_list) == 0:\n",
    "    print(-1)\n",
    "\n",
    "else:\n",
    "    print(sum(prime_num_list))\n",
    "    print(min(prime_num_list))\n",
    "    "
   ]
  },
  {
   "cell_type": "markdown",
   "id": "breathing-album",
   "metadata": {},
   "source": [
    "```python\n",
    "if prime_list[i] == True:\n",
    "```\n",
    "`-` 위 부분은 아래와 같이 해도 됨\n",
    "```python\n",
    "if prime_list[i]:\n",
    "```\n",
    "```python \n",
    "prime_list[i] 자체가 True or False임\n",
    "```"
   ]
  },
  {
   "cell_type": "markdown",
   "id": "contemporary-panic",
   "metadata": {},
   "source": [
    "### 소인수분해\n",
    "- 정수 N이 주어졌을 때, 소인수분해하는 프로그램을 작성하시오."
   ]
  },
  {
   "cell_type": "code",
   "execution_count": 66,
   "id": "continuous-stations",
   "metadata": {},
   "outputs": [
    {
     "name": "stdin",
     "output_type": "stream",
     "text": [
      " 1001\n"
     ]
    },
    {
     "name": "stdout",
     "output_type": "stream",
     "text": [
      "7\n",
      "11\n",
      "13\n"
     ]
    }
   ],
   "source": [
    "\n",
    "import sys\n",
    "n = 3164\n",
    "m = int(n**0.5)\n",
    "prime_nums = [False, False] + [True]*(n-1)\n",
    "\n",
    "for i in range(2, m+1):\n",
    "    if prime_nums[i] == True:\n",
    "        for j in range(2*i, n+1, i):\n",
    "            prime_nums[j] = False\n",
    "            \n",
    "N = int(input())\n",
    "M = int(N**0.5)\n",
    "\n",
    "\n",
    "def factorization_into_primes(x): \n",
    "    if x == 1:\n",
    "        sys.exit(0)\n",
    "        \n",
    "    stack = 0\n",
    "    mul = 1\n",
    "    for k in range(2, M+1):\n",
    "        if prime_nums[k] == False:\n",
    "            continue\n",
    "        \n",
    "        else:\n",
    "            l = x/k\n",
    "            while l == int(l):\n",
    "                print(k)\n",
    "                mul *= k\n",
    "                stack += 1\n",
    "                l = l/k\n",
    "\n",
    "    if stack == 0:\n",
    "        print(x)\n",
    "\n",
    "    elif mul != N:\n",
    "        print(int(x/mul))\n",
    "\n"
   ]
  },
  {
   "cell_type": "markdown",
   "id": "essential-sally",
   "metadata": {},
   "source": [
    "### 소수 구하기\n",
    "- M이상 N이하의 소수를 모두 출력하는 프로그램을 작성하시오."
   ]
  },
  {
   "cell_type": "code",
   "execution_count": 7,
   "id": "usual-german",
   "metadata": {},
   "outputs": [
    {
     "name": "stdin",
     "output_type": "stream",
     "text": [
      " 3 16\n"
     ]
    },
    {
     "name": "stdout",
     "output_type": "stream",
     "text": [
      "3\n",
      "5\n",
      "7\n",
      "11\n",
      "13\n"
     ]
    }
   ],
   "source": [
    "n = 1000000\n",
    "m = int(n**0.5)\n",
    "prime_num_list = [False, False] + [True]*(n-1)\n",
    "\n",
    "for i in range(2, m+1):\n",
    "    if prime_num_list[i] == True:\n",
    "        \n",
    "        for j in range(2*i, n+1, i):\n",
    "            prime_num_list[j] = False\n",
    "            \n",
    "M, N = map(int, input().split())\n",
    "\n",
    "prime_num = [x for x in range(M, N+1) if prime_num_list[x] == True]\n",
    "\n",
    "for k in range(len(prime_num)):\n",
    "    print(prime_num[k])\n",
    "          "
   ]
  },
  {
   "cell_type": "markdown",
   "id": "chemical-installation",
   "metadata": {},
   "source": [
    "### 베르트랑 공준\n",
    "- 베르트랑 공준은 임의의 자연수 n에 대하여, n보다 크고, 2n보다 작거나 같은 소수는 적어도 하나 존재한다는 내용을 담고 있다.\n",
    "\n",
    "- 예를 들어, 10보다 크고, 20보다 작거나 같은 소수는 4개가 있다. (11, 13, 17, 19) 또, 14보다 크고, 28보다 작거나 같은 소수는 3개가 있다. (17,19, 23)\n",
    "\n",
    "- 자연수 n이 주어졌을 때, n보다 크고, 2n보다 작거나 같은 소수의 개수를 구하는 프로그램을 작성하시오. "
   ]
  },
  {
   "cell_type": "code",
   "execution_count": 25,
   "id": "banner-princeton",
   "metadata": {},
   "outputs": [
    {
     "name": "stdin",
     "output_type": "stream",
     "text": [
      " 1\n"
     ]
    },
    {
     "name": "stdout",
     "output_type": "stream",
     "text": [
      "1\n"
     ]
    },
    {
     "name": "stdin",
     "output_type": "stream",
     "text": [
      " 10\n"
     ]
    },
    {
     "name": "stdout",
     "output_type": "stream",
     "text": [
      "4\n"
     ]
    },
    {
     "name": "stdin",
     "output_type": "stream",
     "text": [
      " 13\n"
     ]
    },
    {
     "name": "stdout",
     "output_type": "stream",
     "text": [
      "3\n"
     ]
    },
    {
     "name": "stdin",
     "output_type": "stream",
     "text": [
      " 100\n"
     ]
    },
    {
     "name": "stdout",
     "output_type": "stream",
     "text": [
      "21\n"
     ]
    },
    {
     "name": "stdin",
     "output_type": "stream",
     "text": [
      " 1000\n"
     ]
    },
    {
     "name": "stdout",
     "output_type": "stream",
     "text": [
      "135\n"
     ]
    },
    {
     "name": "stdin",
     "output_type": "stream",
     "text": [
      " 10000\n"
     ]
    },
    {
     "name": "stdout",
     "output_type": "stream",
     "text": [
      "1033\n"
     ]
    },
    {
     "name": "stdin",
     "output_type": "stream",
     "text": [
      " 100000\n"
     ]
    },
    {
     "name": "stdout",
     "output_type": "stream",
     "text": [
      "8392\n"
     ]
    },
    {
     "name": "stdin",
     "output_type": "stream",
     "text": [
      " 0\n"
     ]
    }
   ],
   "source": [
    "\n",
    "n = 123456 * 2\n",
    "m = int(n**0.5)\n",
    "prime_nums = [False, False] + [True]*(n-1)\n",
    "\n",
    "for i in range(2, m+1):\n",
    "    if prime_nums[i] == True:\n",
    "        \n",
    "        for j in range(2*i, n+1, i):\n",
    "            prime_nums[j] = False\n",
    "            \n",
    "def prime_number(num):\n",
    "    print(len([x for x in range(num+1, 2*num+1) if prime_nums[x] == True])) \n",
    "                  \n",
    "while True:\n",
    "    n = int(input())   \n",
    "    if n == 0:\n",
    "        break\n",
    "    prime_number(n)\n",
    "    "
   ]
  },
  {
   "cell_type": "markdown",
   "id": "tested-thesaurus",
   "metadata": {},
   "source": [
    "### 골드바흐의 추측\n",
    "- 짝수를 두 소수의 합으로 나타내는 표현을 그 수의 골드바흐 파티션이라고 한다. \n",
    "\n",
    "- 2보다 큰 짝수 n이 주어졌을 때, n의 골드바흐 파티션을 출력하는 프로그램을 작성하시오.\n",
    "\n",
    "- 만약 가능한 n의 골드바흐 파티션이 여러 가지인 경우에는 두 소수의 차이가 가장 작은 것을 출력한다."
   ]
  },
  {
   "cell_type": "markdown",
   "id": "opponent-volume",
   "metadata": {},
   "source": [
    "`-` 신기한점\n",
    "\n",
    "```python\n",
    "n = 10000\n",
    "m = int(n**0.5)\n",
    "prime_num_list = [False, False] + [True]*(n-1)\n",
    "\n",
    "for i in range(2, m+1):\n",
    "    if prime_num_list[i] == True:\n",
    "        \n",
    "        for j in range(2*i, n+1, i):\n",
    "            prime_num_list[j] = False\n",
    "\n",
    "prime_num = [x for x in range(2, n+1) if prime_num_list[x] == True]\n",
    "\n",
    "### 여기까지 동일\n",
    "\n",
    "last_prime_num = [x for x in range(2, 5000) if prime_num_list[x] == True].reverse()\n",
    "type(last_prime_num)\n",
    "```\n",
    "`-` 위의 코드에서 `type(last_prime_num)`의 결과는 `Nonetype`임\n",
    "\n",
    "```python\n",
    "### 동일 부분 생략\n",
    "\n",
    "last_prime_num = [x for x in range(2, 5000) if prime_num_list[x] == True]\n",
    "last_prime_num.reverse()\n",
    "type(last_prime_num)\n",
    "```\n",
    "`-` 위의 코드에서 `type(last_prime_num)`의 결과는 `list`임\n",
    "\n",
    "`-` 무슨 차이일까?"
   ]
  },
  {
   "cell_type": "code",
   "execution_count": 71,
   "id": "promotional-friday",
   "metadata": {},
   "outputs": [
    {
     "name": "stdin",
     "output_type": "stream",
     "text": [
      " 1\n",
      " 12\n"
     ]
    },
    {
     "name": "stdout",
     "output_type": "stream",
     "text": [
      "5 7\n"
     ]
    }
   ],
   "source": [
    "\n",
    "n = 10000\n",
    "m = int(n**0.5)\n",
    "prime_num_list = [False, False] + [True]*(n-1)\n",
    "\n",
    "for i in range(2, m+1):\n",
    "    if prime_num_list[i] == True:\n",
    "        \n",
    "        for j in range(2*i, n+1, i):\n",
    "            prime_num_list[j] = False\n",
    "\n",
    "prime_num = [x for x in range(2, n+1) if prime_num_list[x] == True]\n",
    "\n",
    "\n",
    "last_prime_num = [x for x in range(2, 5000) if prime_num_list[x] == True]\n",
    "last_prime_num.reverse()\n",
    "p = len(prime_num)\n",
    "\n",
    "T = int(input())\n",
    "for i in range(T):\n",
    "    N = int(input())\n",
    "    \n",
    "    for j in range(N//2, N+1):\n",
    "        if j in prime_num and N - j in prime_num:\n",
    "            print(N - j, j)\n",
    "            break\n",
    "            "
   ]
  },
  {
   "cell_type": "markdown",
   "id": "annoying-estate",
   "metadata": {},
   "source": [
    "`-` 위의 코드는 시간이 매우 오래 걸리는 쓰레기임"
   ]
  },
  {
   "cell_type": "markdown",
   "id": "banned-posting",
   "metadata": {},
   "source": [
    "`-` 새로 만들었음"
   ]
  },
  {
   "cell_type": "markdown",
   "id": "attempted-surrey",
   "metadata": {},
   "source": [
    "`-` 시간이 $\\frac{1}{4}$ 이 됐다: 2344ms --> 556ms"
   ]
  },
  {
   "cell_type": "code",
   "execution_count": 78,
   "id": "massive-minneapolis",
   "metadata": {},
   "outputs": [
    {
     "name": "stdin",
     "output_type": "stream",
     "text": [
      " 1\n",
      " 12\n"
     ]
    },
    {
     "name": "stdout",
     "output_type": "stream",
     "text": [
      "5 7\n"
     ]
    }
   ],
   "source": [
    "\n",
    "n = 10000\n",
    "m = int(n**0.5)\n",
    "prime_num_list = [False, False] + [True]*(n-1)\n",
    "\n",
    "for i in range(2, m+1):\n",
    "    if prime_num_list[i]:\n",
    "        \n",
    "        for j in range(2*i, n+1, i):\n",
    "            prime_num_list[j] = False\n",
    "\n",
    "T = int(input())\n",
    "for i in range(T):\n",
    "    N = int(sys.)\n",
    "    \n",
    "    for j in range(N//2, N+1):\n",
    "        if prime_num_list[j] and prime_num_list[N - j]:\n",
    "            print(N - j, j)\n",
    "            break\n",
    "            "
   ]
  },
  {
   "cell_type": "markdown",
   "id": "going-oregon",
   "metadata": {},
   "source": [
    "`-` 더 줄이고 싶다\n",
    "\n",
    "`-` 시간이 96ms로 단축됨\n",
    "\n",
    "`-` [$\\star\\star\\star$] 여러번 반복하여 입력을 받는 경우에는 `input()` 대신 `sys.stdin.readline()` 사용 [$\\star\\star\\star$]"
   ]
  },
  {
   "cell_type": "markdown",
   "id": "union-slovak",
   "metadata": {},
   "source": [
    "---"
   ]
  },
  {
   "cell_type": "markdown",
   "id": "indonesian-respect",
   "metadata": {},
   "source": [
    "## 기본 수학1 (시간 초과 주의)"
   ]
  },
  {
   "cell_type": "markdown",
   "id": "earlier-julian",
   "metadata": {},
   "source": [
    "### 달팽이는 올라가고 싶다.\n",
    "- 땅 위에 달팽이가 있다. 이 달팽이는 높이가 V미터인 나무 막대를 올라갈 것이다.\n",
    "\n",
    "- 달팽이는 낮에 A미터 올라갈 수 있다. 하지만, 밤에 잠을 자는 동안 B미터 미끄러진다. 또, 정상에 올라간 후에는 미끄러지지 않는다.\n",
    "\n",
    "- 달팽이가 나무 막대를 모두 올라가려면, 며칠이 걸리는지 구하는 프로그램을 작성하시오."
   ]
  },
  {
   "cell_type": "markdown",
   "id": "charming-concert",
   "metadata": {},
   "source": [
    "`-` 달팽이는 올라가고 싶다 --> 시간 초과 코드(while 반복문 사용)"
   ]
  },
  {
   "cell_type": "code",
   "execution_count": 6,
   "id": "marine-blanket",
   "metadata": {},
   "outputs": [
    {
     "name": "stdin",
     "output_type": "stream",
     "text": [
      " 5 1 100\n"
     ]
    },
    {
     "name": "stdout",
     "output_type": "stream",
     "text": [
      "25\n"
     ]
    }
   ],
   "source": [
    "A, B, V = map(int,input().split())  ### 시간 초과\n",
    "\n",
    "day = 1\n",
    "h = 0\n",
    "\n",
    "while 1:\n",
    "    h += A\n",
    "    \n",
    "    if h >= V:\n",
    "        break   \n",
    "        \n",
    "    h -= B\n",
    "    day += 1 \n",
    "    \n",
    "print(day)    "
   ]
  },
  {
   "cell_type": "markdown",
   "id": "linear-potter",
   "metadata": {},
   "source": [
    "`-` 달팽이는 올라가고 싶다 --> 시간 초과 해결한 코드(한 줄 수식)"
   ]
  },
  {
   "cell_type": "code",
   "execution_count": 7,
   "id": "bright-definition",
   "metadata": {},
   "outputs": [
    {
     "name": "stdin",
     "output_type": "stream",
     "text": [
      " 5 1 100\n"
     ]
    },
    {
     "name": "stdout",
     "output_type": "stream",
     "text": [
      "25\n"
     ]
    }
   ],
   "source": [
    "import math\n",
    "A, B, V = map(int,input().split())  ### 시간 초과 해결\n",
    "print(math.ceil((V-A)/(A-B))+1)"
   ]
  },
  {
   "cell_type": "markdown",
   "id": "derived-translation",
   "metadata": {},
   "source": [
    "### 손익분기점\n",
    "- A는 고정 비용, B는 가변 비용, C는 수익, k는 판매량\n",
    "\n",
    "- $C*k > A + B*k$ --> $k > \\frac{A}{C-B}$"
   ]
  },
  {
   "cell_type": "code",
   "execution_count": 35,
   "id": "modular-wealth",
   "metadata": {},
   "outputs": [
    {
     "name": "stdin",
     "output_type": "stream",
     "text": [
      " 3 2 1\n"
     ]
    },
    {
     "name": "stdout",
     "output_type": "stream",
     "text": [
      "-1\n"
     ]
    }
   ],
   "source": [
    "A, B, C = map(int, input().split())\n",
    "if abs(C-B) < 0.5:   ### C == B 여부를 판단\n",
    "    print(-1)\n",
    "    \n",
    "elif int(A/(C-B)) < 0:\n",
    "    print(-1)\n",
    "\n",
    "else:\n",
    "    print(int(A/(C-B)) + 1)"
   ]
  },
  {
   "cell_type": "markdown",
   "id": "present-tribe",
   "metadata": {},
   "source": [
    "`-` 위에 코드보다 더 간결한 코드\n",
    "\n",
    "`-` A에 관계없이 B >= C이면 손익분기점이 없다."
   ]
  },
  {
   "cell_type": "code",
   "execution_count": 36,
   "id": "personalized-recall",
   "metadata": {},
   "outputs": [
    {
     "name": "stdin",
     "output_type": "stream",
     "text": [
      " 1000 70 170\n"
     ]
    },
    {
     "name": "stdout",
     "output_type": "stream",
     "text": [
      "11\n"
     ]
    }
   ],
   "source": [
    "A, B, C = map(int, input().split())\n",
    "if B >= C:   ### C == B 여부를 판단\n",
    "    print(-1)   \n",
    "else:\n",
    "    print(int(A/(C-B)) + 1)"
   ]
  },
  {
   "cell_type": "markdown",
   "id": "marked-carnival",
   "metadata": {},
   "source": [
    "### Fly me to the Alpha Centauri\n",
    "- 시작할 땐 1만큼 도착할 때도 1만큼 이동\n",
    "\n",
    "- k만큼 이동한 후에 k-1 or k or k+1 만큼 이동 가능"
   ]
  },
  {
   "cell_type": "markdown",
   "id": "sustainable-deadline",
   "metadata": {},
   "source": [
    "`-` 이동 횟수를 최소화할려면?\n",
    "\n",
    "`-` $x지점(출발=0)\\to{1}\\to{2}\\to{3}\\to\\dots\\to{n}\\to{n-1}\\to\\dots\\to{2}\\to{1}\\to{y지점}(도착=0)$\n",
    "\n",
    "`-` $이동\\,거리 = \\sum_{i=1}^{n}{k} + \\sum_{i=1}^{n-1}{k} = \\frac{n(n+1)}{2} + \\frac{(n-1)n}{2} = n^2$ \n",
    "\n",
    "`-` $y-x = n^2$\n",
    "\n",
    "`-` $이동\\,횟수 = 화살표의\\,개수 = n+(n-1)=2n-1$\n",
    "\n",
    "`-` 즉 $n^2$의 거리를 이동하기 위한 최소한의 이동 횟수는 $2n-1$이다.\n",
    "\n",
    "`-` 바꿔말하면 $2n-1$번의 이동으로 갈 수 있는 최대 거리는 $n^2$이다."
   ]
  },
  {
   "cell_type": "markdown",
   "id": "exclusive-racing",
   "metadata": {},
   "source": [
    "`-` 위에 방법에 기반하여 정리를 해봤다.\n",
    "\n",
    "`-` 위에서는 이동 거리가 $n^2$에 대해서 고려했다. 하지만 이동 거리가 제곱수가 아닐 수 도 있다.\n",
    "\n",
    "`-` 예로 이동 거리가 110이면 이동 횟수는 $\\sqrt{100} \\leq \\sqrt{110} \\leq \\sqrt{121}$ 이므로 10 or 11 or 12이다.\n",
    "\n",
    "`-` $n^2 = 1+1+2+2+\\dots+(n-1)+(n-1)+n$ 이다.\n",
    "\n",
    "`-` 100 과 121의 차이는 21 = 10 + 11 --> 100은 이동 횟수 $2n-1=19$, 101$\\sim$110 은 $2n=20$, 111$\\sim$121은 $2n+1=21$이다."
   ]
  },
  {
   "cell_type": "code",
   "execution_count": 1,
   "id": "acting-point",
   "metadata": {},
   "outputs": [
    {
     "name": "stdin",
     "output_type": "stream",
     "text": [
      " 3\n",
      " 0 3\n"
     ]
    },
    {
     "name": "stdout",
     "output_type": "stream",
     "text": [
      "3\n"
     ]
    },
    {
     "name": "stdin",
     "output_type": "stream",
     "text": [
      " 1 5\n"
     ]
    },
    {
     "name": "stdout",
     "output_type": "stream",
     "text": [
      "3\n"
     ]
    },
    {
     "name": "stdin",
     "output_type": "stream",
     "text": [
      " 45 50\n"
     ]
    },
    {
     "name": "stdout",
     "output_type": "stream",
     "text": [
      "4\n"
     ]
    }
   ],
   "source": [
    "T = int(input())\n",
    "\n",
    "for i in range(T):\n",
    "    x, y = map(int, input().split())\n",
    "    n = y - x\n",
    "    \n",
    "    m = int(n**0.5)\n",
    "    \n",
    "    if n**0.5 == m:\n",
    "        print(2*m - 1)\n",
    "    \n",
    "    elif n - m**2 <= m:\n",
    "        print(2*m)\n",
    "    \n",
    "    else:\n",
    "        print(2*m + 1)\n",
    "        "
   ]
  },
  {
   "cell_type": "markdown",
   "id": "toxic-archive",
   "metadata": {},
   "source": [
    "### 설탕 배달"
   ]
  },
  {
   "cell_type": "markdown",
   "id": "ancient-breeding",
   "metadata": {},
   "source": [
    "- 상근이는 요즘 설탕공장에서 설탕을 배달하고 있다. 상근이는 지금 사탕가게에 설탕을 정확하게 N킬로그램을 배달해야 한다. \n",
    "\n",
    "- 설탕공장에서 만드는 설탕은 봉지에 담겨져 있다. 봉지는 3킬로그램 봉지와 5킬로그램 봉지가 있다.\n",
    "\n",
    "- 상근이는 귀찮기 때문에, 최대한 적은 봉지를 들고 가려고 한다. \n",
    "\n",
    "- 예를 들어, 18킬로그램 설탕을 배달해야 할 때, 3킬로그램 봉지 6개를 가져가도 된다.\n",
    "\n",
    "- 하지만 5킬로그램 3개와 3킬로그램 1개를 배달하면, 더 적은 개수의 봉지를 배달할 수 있다.\n",
    "\n",
    "- 상근이가 설탕을 정확하게 N킬로그램 배달해야 할 때, 봉지 몇 개를 가져가면 되는지 그 수를 구하는 프로그램을 작성하시오.\n",
    "\n",
    "- 만약, 정확하게 N킬로그램을 만들 수 없다면 -1을 출력한다."
   ]
  },
  {
   "cell_type": "markdown",
   "id": "cultural-interstate",
   "metadata": {},
   "source": [
    "`-` 봉지를 최소화 해야 한다. --> 5kg 봉지를 최대한 많이 써야 한다.\n",
    "\n",
    "`-` 설탕의 무게를 5로 나눈다.\n",
    "\n",
    "`-` 만약 5로 나눠지면 끝이다. 그러지 않다면 5kg 봉지를 하나씩 줄여나가고 나머지를 3kg 봉지로 담는다.\n",
    "\n",
    "`-` 5kg 봉지를 하나씩 줄이다가 0이 됐다면 전부 3kg 봉지를 사용한다.\n",
    "\n",
    "`-` 그래도 안된다면 정확하게 Nkg을 만드는 것이 불가능하므로 -1을 출력한다."
   ]
  },
  {
   "cell_type": "markdown",
   "id": "secret-stability",
   "metadata": {},
   "source": [
    "```python\n",
    "N = int(input())\n",
    "\n",
    "def sugar(n):\n",
    "    k = n//5\n",
    "    l = n % 5\n",
    "    if l == 0:\n",
    "        return k\n",
    "    \n",
    "    else:\n",
    "        n = n - k*5\n",
    "        if n % 3 ==0:\n",
    "            return k + 1\n",
    "        \n",
    "        else:\n",
    "            n = n - (k-1)*5\n",
    "            if n % 3 ==0:\n",
    "                return k - 1 + n//3\n",
    "            \n",
    "            else:\n",
    "                n = n - (k-2)*5\n",
    "                if n % 3 == 0:\n",
    "                    return k - 2 + n//3\n",
    "                \n",
    "                else:\n",
    "                    n = n -(k-3)*5\n",
    "                    if n % 3 ==0:\n",
    "                        return k - 3 + n//3\n",
    "                    \n",
    "                    else:\n",
    "                        \n",
    "                        ......\n",
    "                        \n",
    "                        if n < 0:\n",
    "                            return -1\n",
    "            \n",
    "```   \n",
    "- 이런식으로 전개될 것이다."
   ]
  },
  {
   "cell_type": "code",
   "execution_count": 1,
   "id": "recorded-permit",
   "metadata": {},
   "outputs": [
    {
     "name": "stdin",
     "output_type": "stream",
     "text": [
      " 1001\n"
     ]
    },
    {
     "name": "stdout",
     "output_type": "stream",
     "text": [
      "201\n"
     ]
    }
   ],
   "source": [
    "N = int(input())\n",
    "\n",
    "def sugar(n):\n",
    "    k = n // 5\n",
    "    l = n % 5\n",
    "    \n",
    "    for i in range(k+1):\n",
    "        if l == 0:\n",
    "            return k\n",
    "            break\n",
    "        elif l % 3 == 0:\n",
    "            return k + l // 3\n",
    "            break\n",
    "        else:\n",
    "            l += 5\n",
    "            k -= 1\n",
    "    \n",
    "    return -1\n",
    "    \n",
    "print(sugar(N))\n",
    "        \n",
    "    "
   ]
  },
  {
   "cell_type": "markdown",
   "id": "killing-barrier",
   "metadata": {},
   "source": [
    "`-` 코드를 둘러보던 중 위의 코드가 비효율적이라 느껴졌다\n",
    "\n",
    "`-` 왜냐하면 `for문`에서 `if l == 0:` 은 처음 한 번 해서 False이면 영원히 False이다 --> `else: l += 5` 때문\n",
    "\n",
    "`-` 하지만 for문 안에 있어서 `k+1`번 쓸모없는 행위를 반복해야 한다.\n",
    "\n",
    "`-` 그래서 아래와 같이 수정했다\n",
    "\n",
    "`-` 그런데 시간이 64ms 에서 72ms가 됐다???"
   ]
  },
  {
   "cell_type": "code",
   "execution_count": 1,
   "id": "extended-desperate",
   "metadata": {},
   "outputs": [
    {
     "name": "stdin",
     "output_type": "stream",
     "text": [
      " 1001\n"
     ]
    },
    {
     "name": "stdout",
     "output_type": "stream",
     "text": [
      "201\n"
     ]
    }
   ],
   "source": [
    "N = int(input())\n",
    "\n",
    "def sugar(n):\n",
    "    k = n // 5\n",
    "    l = n % 5\n",
    "    \n",
    "    if l == 0:\n",
    "        return k\n",
    "    \n",
    "    for i in range(k+1):\n",
    "        if l % 3 == 0:\n",
    "            return k + l // 3\n",
    "            break\n",
    "        else:\n",
    "            l += 5\n",
    "            k -= 1\n",
    "    \n",
    "    return -1\n",
    "    \n",
    "print(sugar(N))\n",
    "        "
   ]
  },
  {
   "cell_type": "markdown",
   "id": "acoustic-diabetes",
   "metadata": {},
   "source": [
    "### print 와 return 의 차이(간단히)\n",
    "`-` return 은 종료문이다. 함수에서 return을 만나면 함수가 종료된다.\n",
    "\n",
    "`-` 그렇기에 return이 여러개여도 하나만 반환된다.\n",
    "\n",
    "`-` 여러 값을 반환하고 싶다면 return a,b,c, $\\dots$ \n",
    "\n",
    "`-` print()는 그렇지 않다.\n",
    "\n",
    "`-` 위에 설탕배달 코드에서 return을 print()로 바꾼다면 항상 -1을 출력하지만\n",
    "\n",
    "`-` return이기 때문에 `return k` or `return k + l//3`이 실행되지 않을 때만 `return -1`이 실행된다."
   ]
  },
  {
   "cell_type": "markdown",
   "id": "adapted-renewal",
   "metadata": {},
   "source": [
    "### 분수찾기"
   ]
  },
  {
   "cell_type": "markdown",
   "id": "rising-trash",
   "metadata": {},
   "source": [
    "- 이와 같이 나열된 분수들을 1/1 -> 1/2 -> 2/1 -> 3/1 -> 2/2 -> … 과 같은 지그재그 순서로 차례대로 1번, 2번, 3번, 4번, 5번, … 분수라고 하자.\n",
    "\n",
    "- X가 주어졌을 때, X번째 분수를 구하는 프로그램을 작성하시오."
   ]
  },
  {
   "cell_type": "markdown",
   "id": "corporate-massachusetts",
   "metadata": {},
   "source": [
    "`-` `분모 + 분자 = n + 1`인 분수가 `n개` 있다.\n",
    "\n",
    "`-` 분모 + 분자가 `2`인 분수가 `1개`, `3`인 분수가 `2개`, `4`인 분수가 `3개`, $\\dots$, `n+1`인 분수가 `n개`\n",
    "\n",
    "`-` 분모 + 분자가 $n+1$인 끝점: $1+2+3+\\dots+n-2+n-1+n$ "
   ]
  },
  {
   "cell_type": "code",
   "execution_count": 86,
   "id": "injured-reviewer",
   "metadata": {},
   "outputs": [
    {
     "name": "stdin",
     "output_type": "stream",
     "text": [
      " 11\n"
     ]
    },
    {
     "name": "stdout",
     "output_type": "stream",
     "text": [
      "4\n",
      "10\n",
      "4\n",
      "15\n",
      "5/1\n"
     ]
    }
   ],
   "source": [
    "\n",
    "x = int(input())\n",
    "n = int((x * 2) ** 0.5)\n",
    "k = n * (n + 1) // 2\n",
    "a = k - x\n",
    "\n",
    "if a < 0:\n",
    "    n += 1\n",
    "    k += n\n",
    "    a = k - x  \n",
    "\n",
    "if n % 2 == 0:\n",
    "    print(str(n-a)+'/'+str(1+a))\n",
    "    \n",
    "else:\n",
    "    print(str(1+a)+'/'+str(n-a))"
   ]
  },
  {
   "cell_type": "markdown",
   "id": "contained-presence",
   "metadata": {},
   "source": [
    "### 수학은 비대면강의입니다(19532번) "
   ]
  },
  {
   "cell_type": "markdown",
   "id": "broke-envelope",
   "metadata": {},
   "source": [
    "`-` 백준은 내부 라이브러리만 사용 가능, `numpy`는 외부 라이브러리라 사용 불가능"
   ]
  },
  {
   "cell_type": "markdown",
   "id": "wrong-native",
   "metadata": {},
   "source": [
    "```python\n",
    "import numpy as np\n",
    "\n",
    "a, b, c, d, e, f = map(int, input().split())\n",
    "\n",
    "array1 = np.array([[a, b], [d, e]])  \n",
    "array2 = np.array([c, f])\n",
    "\n",
    "x, y = np.linalg.inv(array1) @ array2\n",
    "print(round(x), round(y))\n",
    "```"
   ]
  },
  {
   "cell_type": "markdown",
   "id": "natural-style",
   "metadata": {},
   "source": [
    "`-` 연립 일차 방정식을 행렬을 통해 풀어 보자"
   ]
  },
  {
   "cell_type": "code",
   "execution_count": 6,
   "id": "social-mason",
   "metadata": {},
   "outputs": [
    {
     "name": "stdin",
     "output_type": "stream",
     "text": [
      " 2 5 8 3 -4 -11\n"
     ]
    },
    {
     "name": "stdout",
     "output_type": "stream",
     "text": [
      "-1 2\n"
     ]
    }
   ],
   "source": [
    "a, b, c, d, e, f = map(int, input().split())\n",
    "\n",
    "det = a * e - b * d\n",
    "print(round((e * c - f *b ) / det), round((a * f - c * d) / det))\n",
    "\n"
   ]
  },
  {
   "cell_type": "markdown",
   "id": "structured-stick",
   "metadata": {},
   "source": [
    "### 부녀회장이 될테야\n",
    "- 아파트에 거주를 하려면 조건이 있는데\n",
    "\n",
    "- a층의 b호에 살려면 자신의 아래(a-1)층의 1호부터 b호까지 사람들의 수의 합만큼 사람들을 데려와 살아야 한다\n",
    "\n",
    "- 아파트에는 0층부터 있고 각층에는 1호부터 있으며, 0층의 i호에는 i명이 산다"
   ]
  },
  {
   "cell_type": "markdown",
   "id": "nervous-identity",
   "metadata": {},
   "source": [
    "`-` a층의 b호 사람 수 = a층의 b-1호 사람 수 + a-1층의 b호 사람 수\n",
    "\n",
    "`-` 기본적으로 생각하면 0층 b호에는 n명이 살고 a층 1호에는 1명이 a층 2호에는 a+2명이 산다.\n",
    "\n",
    "`-` 점화식을 알고 있으므로 재귀 함수를 사용했음\n",
    "\n",
    "`-` 호출을 여러 번 해야해서 좋지 않음\n",
    "\n",
    "`-` 시간 초과에 걸림"
   ]
  },
  {
   "cell_type": "code",
   "execution_count": 40,
   "id": "valid-cigarette",
   "metadata": {},
   "outputs": [
    {
     "name": "stdin",
     "output_type": "stream",
     "text": [
      " 1\n",
      " 14\n",
      " 14\n"
     ]
    },
    {
     "name": "stdout",
     "output_type": "stream",
     "text": [
      "37442160\n"
     ]
    }
   ],
   "source": [
    "\n",
    "def apart(a, b):\n",
    "    \n",
    "    if a == 0:\n",
    "        return b\n",
    "    \n",
    "    if b == 1:\n",
    "        return 1\n",
    "    \n",
    "    return apart(a, b - 1) + apart(a - 1, b)    \n",
    "    \n",
    "    \n",
    "T = int(input())\n",
    "\n",
    "for i in range(T):\n",
    "    k = int(input())\n",
    "    n = int(input())\n",
    "    print(apart(k, n))\n",
    "    "
   ]
  },
  {
   "cell_type": "markdown",
   "id": "about-accommodation",
   "metadata": {},
   "source": [
    "`-` 이미 구한 층,호수 사람 수는 기록하는 방법 사용(메모이제이션)\n",
    "\n",
    "`-` 똑같이 시간 초과"
   ]
  },
  {
   "cell_type": "code",
   "execution_count": 38,
   "id": "statistical-afghanistan",
   "metadata": {},
   "outputs": [
    {
     "name": "stdin",
     "output_type": "stream",
     "text": [
      " 1\n",
      " 14\n",
      " 14\n"
     ]
    },
    {
     "name": "stdout",
     "output_type": "stream",
     "text": [
      "37442160\n"
     ]
    }
   ],
   "source": [
    "\n",
    "List = [[0] * 14 for _ in range(15)] \n",
    "List[0] = [x for x in range(1, 15)]\n",
    "for i in range(len(List)):\n",
    "    List[i][0] = 1\n",
    "for j in range(len(List)):\n",
    "    List[j][1] = j + 2\n",
    "    \n",
    "def apart(a, b):\n",
    "    if List[a][b - 1] != 0:\n",
    "        return List[a][b - 1]\n",
    "    \n",
    "    return apart(a, b - 1) + apart(a - 1, b)    \n",
    "    \n",
    "    \n",
    "T = int(input())\n",
    "\n",
    "for i in range(T):\n",
    "    k = int(input())\n",
    "    n = int(input())\n",
    "    print(apart(k, n))\n",
    "    \n"
   ]
  },
  {
   "cell_type": "markdown",
   "id": "refined-wages",
   "metadata": {},
   "source": [
    "`-` 난 위의 코드가 메모이제이션인 것 같았다.\n",
    "\n",
    "`-` 근데 처음 짠 코드와 다른 게 없었다. 메모이제이션이 아닌 가 보다.\n",
    "\n",
    "`-` 수학으로 풀려면 계차수열을 사용해야 하는데 복잡해 보인다.\n",
    "\n",
    "`-` 그래서 이번에는 처음부터 아파트를 채워놓고 시작하는 방법을 사용했다.\n",
    "\n",
    "`-` 층과 호수를 입력하면 채워진 아파트에서 그 층과 호수에 사는 사람 수를 출력한다.\n",
    "\n",
    "`-` 최대 사람수가 사는 14층 14호를 입력하면 첫 번째와 두 번째 코드는 2초 정도 걸렸는데 이 코드는 바로 출력된다.\n",
    "\n",
    "`-` 시간 초과 해결"
   ]
  },
  {
   "cell_type": "code",
   "execution_count": 48,
   "id": "artistic-exhaust",
   "metadata": {},
   "outputs": [
    {
     "name": "stdin",
     "output_type": "stream",
     "text": [
      " 1\n",
      " 14\n",
      " 14\n"
     ]
    },
    {
     "name": "stdout",
     "output_type": "stream",
     "text": [
      "37442160\n"
     ]
    }
   ],
   "source": [
    "apart = [[0] * 14 for _ in range(15)] \n",
    "apart[0] = [x for x in range(1, 15)]\n",
    "\n",
    "x = len(apart) \n",
    "\n",
    "for i in range(x):\n",
    "    apart[i][0] = 1\n",
    "for j in range(x):\n",
    "    apart[j][1] = j + 2\n",
    "\n",
    "for i in range(1, x):\n",
    "    for j in range(1, x - 1):\n",
    "        apart[i][j] = apart[i][j-1] + apart[i - 1][j]\n",
    "    \n",
    "T = int(input())\n",
    "\n",
    "for i in range(T):\n",
    "    k = int(input())\n",
    "    n = int(input())\n",
    "    print(apart[k][n - 1])\n",
    "    "
   ]
  },
  {
   "cell_type": "markdown",
   "id": "concerned-meter",
   "metadata": {},
   "source": [
    "---"
   ]
  },
  {
   "cell_type": "markdown",
   "id": "signal-fairy",
   "metadata": {},
   "source": [
    "## 기본 수학 2 -- 기하"
   ]
  },
  {
   "cell_type": "markdown",
   "id": "early-calibration",
   "metadata": {},
   "source": [
    "### 터렛(참고해서 풀었음)\n",
    "- 두 원의 중심과 반지름이 각각 주어졌을 때 교점의 개수를 출력하시오"
   ]
  },
  {
   "cell_type": "markdown",
   "id": "lasting-protection",
   "metadata": {},
   "source": [
    "`-` 두 점에서 만나는 경우 \n",
    "```python\n",
    "r1 + r2 > d and abs(r1 - r2) < d\n",
    "```\n",
    "`-` 두 원의 위치관계 참고 : [https://mathbang.net/101](https://mathbang.net/101)"
   ]
  },
  {
   "cell_type": "code",
   "execution_count": 92,
   "id": "interpreted-privilege",
   "metadata": {},
   "outputs": [
    {
     "name": "stdin",
     "output_type": "stream",
     "text": [
      " 3\n",
      " 0 0 13 40 0 37\n"
     ]
    },
    {
     "name": "stdout",
     "output_type": "stream",
     "text": [
      "2\n"
     ]
    },
    {
     "name": "stdin",
     "output_type": "stream",
     "text": [
      " 0 0 3 0 7 4\n"
     ]
    },
    {
     "name": "stdout",
     "output_type": "stream",
     "text": [
      "1\n"
     ]
    },
    {
     "name": "stdin",
     "output_type": "stream",
     "text": [
      " 1 1 1 1 1 5\n"
     ]
    },
    {
     "name": "stdout",
     "output_type": "stream",
     "text": [
      "0\n"
     ]
    }
   ],
   "source": [
    "T = int(input())\n",
    "for i in range(T):\n",
    "    x1, y1, r1, x2, y2, r2 = map(int, input().split())\n",
    "    d = ((x1 - x2)**2 + (y1 - y2)**2)**0.5\n",
    "    \n",
    "    if d == 0:\n",
    "        if r1 == r2:\n",
    "            print(-1)\n",
    "        else:\n",
    "            print(0)\n",
    "            \n",
    "    elif r1 + r2 < d:\n",
    "        print(0)\n",
    "    \n",
    "    elif r1 + r2 > d and abs(r1 -r2) < d:\n",
    "        print(2)\n",
    "        \n",
    "    elif r1 + r2 == d:\n",
    "        print(1)\n",
    "        \n",
    "    elif abs(r2 - r1) == d:\n",
    "        print(1)\n",
    "        \n",
    "    elif abs(r2 - r1) > d:\n",
    "        print(0)\n",
    "        "
   ]
  },
  {
   "cell_type": "markdown",
   "id": "traditional-single",
   "metadata": {},
   "source": [
    "### 택시 기하학\n",
    "- 택시 기하학에서 두 점 $T_1(x_1,y_1)$, $T_2(x_2,y_2)$ 사이의 거리는 다음과 같이 구할 수 있다.\n",
    "\n",
    "- $D(T_1, T_2) = |x_1 - x_2| + |y_1 - y_2|$\n",
    "\n",
    "- 첫째 줄에는 유클리드 기하학에서 반지름이 R인 원의 넓이를, 둘째 줄에는 택시 기하학에서 반지름이 R인 원의 넓이를 출력한다."
   ]
  },
  {
   "cell_type": "markdown",
   "id": "concerned-building",
   "metadata": {},
   "source": [
    "`-` 반지름이 $R$일 때 원은 $|x_1 - x_2| + |y_1 - y_2| = R$의 자취임\n",
    "\n",
    "`-` 이를 그려본면 택시 기하학에서 원은 마름모임을 쉽게 알 수 있음\n",
    "\n",
    "`-` 넓이는 $\\frac{2R\\times 2R}{2} = 2R^2$"
   ]
  },
  {
   "cell_type": "code",
   "execution_count": 103,
   "id": "synthetic-symbol",
   "metadata": {},
   "outputs": [
    {
     "name": "stdin",
     "output_type": "stream",
     "text": [
      " 21\n"
     ]
    },
    {
     "name": "stdout",
     "output_type": "stream",
     "text": [
      "1385.4423602330987\n",
      "882\n"
     ]
    }
   ],
   "source": [
    "import math\n",
    "R = int(input())\n",
    "π = math.pi\n",
    "print(π*R**2)\n",
    "print(2*R**2)"
   ]
  },
  {
   "cell_type": "markdown",
   "id": "restricted-basis",
   "metadata": {},
   "source": [
    "---"
   ]
  },
  {
   "cell_type": "markdown",
   "id": "fitted-center",
   "metadata": {},
   "source": [
    "## 정렬"
   ]
  },
  {
   "cell_type": "markdown",
   "id": "visible-attack",
   "metadata": {},
   "source": [
    "### 수 정렬하기 1\n",
    "- N개의 수가 주어졌을 때, 이를 오름차순으로 정렬하는 프로그램을 작성하시오."
   ]
  },
  {
   "cell_type": "markdown",
   "id": "emotional-curve",
   "metadata": {},
   "source": [
    "`-` 선택 정렬"
   ]
  },
  {
   "cell_type": "code",
   "execution_count": 4,
   "id": "wired-saudi",
   "metadata": {},
   "outputs": [
    {
     "name": "stdin",
     "output_type": "stream",
     "text": [
      " 5\n",
      " 5\n",
      " 2\n",
      " 3\n",
      " 4\n",
      " 1\n"
     ]
    },
    {
     "name": "stdout",
     "output_type": "stream",
     "text": [
      "1\n",
      "2\n",
      "3\n",
      "4\n",
      "5\n"
     ]
    }
   ],
   "source": [
    "N = int(input())\n",
    "List = []\n",
    "\n",
    "for i in range(N):\n",
    "    num = int(input())\n",
    "    List.append(num)\n",
    "\n",
    "n = len(List)\n",
    "\n",
    "for j in range(n):\n",
    "    min_idx = j\n",
    "    \n",
    "    for k in range(j + 1, n):\n",
    "        if List[k] < List[min_idx]:\n",
    "            min_idx = k\n",
    "            \n",
    "    List[j], List[min_idx] = List[min_idx], List[j]\n",
    "    \n",
    "    print(List[j])"
   ]
  },
  {
   "cell_type": "markdown",
   "id": "willing-undergraduate",
   "metadata": {},
   "source": [
    "`-` 내장 함수 `?.sort()`"
   ]
  },
  {
   "cell_type": "code",
   "execution_count": 5,
   "id": "exciting-durham",
   "metadata": {},
   "outputs": [
    {
     "name": "stdin",
     "output_type": "stream",
     "text": [
      " 5\n",
      " 5\n",
      " 4\n",
      " 3\n",
      " 1\n",
      " 2\n"
     ]
    },
    {
     "name": "stdout",
     "output_type": "stream",
     "text": [
      "1\n",
      "2\n",
      "3\n",
      "4\n",
      "5\n"
     ]
    }
   ],
   "source": [
    "N = int(input())\n",
    "List = []\n",
    "\n",
    "for i in range(N):\n",
    "    num = int(input())\n",
    "    List.append(num)\n",
    "\n",
    "List.sort()\n",
    "\n",
    "for j in range(len(List)):\n",
    "    print(List[j])"
   ]
  },
  {
   "cell_type": "markdown",
   "id": "chicken-draft",
   "metadata": {},
   "source": [
    "### 수 정렬하기 2\n",
    "- N개의 수가 주어졌을 때, 이를 오름차순으로 정렬하는 프로그램을 작성하시오."
   ]
  },
  {
   "cell_type": "markdown",
   "id": "numeric-archives",
   "metadata": {},
   "source": [
    "`-` 아래의 병합 정렬 코드는 시간초과임\n",
    "\n",
    "`-` 왜냐하면 리스트의 길이가 매우 긴데 재귀 함수를 사용했기 때문\n",
    "\n",
    "`-` 재귀 함수 호출이 매우 많이 일어나서 시간이 오래 걸림\n",
    "\n",
    "`-` 그래서 재귀 함수 없는 코드로 짜봤는데 시간 초과 --> 그냥 파이썬이 느림\n",
    "\n",
    "`-` pop(0)이 문제였음 --> $O(N)$\n",
    "\n",
    "`-` 그래서 pop()를 안쓰고 코드를 구성"
   ]
  },
  {
   "cell_type": "markdown",
   "id": "roman-wildlife",
   "metadata": {},
   "source": [
    "```python\n",
    "N = int(input())\n",
    "\n",
    "unsorted_list = []\n",
    "for i in range(N):\n",
    "    unsorted_list.append(int(input()))\n",
    "    \n",
    "def merge_sort(x):\n",
    "    if len(x) <= 1:\n",
    "        return x\n",
    "    \n",
    "    mid = len(x) // 2\n",
    "    left = x[:mid]\n",
    "    right = x[mid:]\n",
    "    \n",
    "    left1 = merge_sort(left)\n",
    "    right1 = merge_sort(right)\n",
    "    return merge(left1, right1)\n",
    "\n",
    "def merge(left, right):\n",
    "    sorted_list = []\n",
    "    \n",
    "    while left and right:\n",
    "        if left[0] < right[0]:\n",
    "            sorted_list.append(left.pop(0))\n",
    "        else:\n",
    "            sorted_list.append(right.pop(0))\n",
    "            \n",
    "    while left:\n",
    "        sorted_list.append(left.pop(0))\n",
    "        \n",
    "    while right:\n",
    "        sorted_list.append(right.pop(0))\n",
    "        \n",
    "    return sorted_list\n",
    "\n",
    "sort_list = merge_sort(unsorted_list)\n",
    "\n",
    "for i in range(N):\n",
    "    print(sort_list[i])\n",
    "```    "
   ]
  },
  {
   "cell_type": "markdown",
   "id": "exciting-cambodia",
   "metadata": {},
   "source": [
    "`-` python은 시간 초과여서 pypy3로 제출해서 맞춤\n",
    "\n",
    "`-` 위 코드는 pypy3로 제출해도 시간 초과임"
   ]
  },
  {
   "cell_type": "code",
   "execution_count": 1,
   "id": "competitive-attitude",
   "metadata": {},
   "outputs": [
    {
     "name": "stdin",
     "output_type": "stream",
     "text": [
      " 5\n",
      " 5\n",
      " 4\n",
      " 3\n",
      " 2\n",
      " 1\n"
     ]
    },
    {
     "name": "stdout",
     "output_type": "stream",
     "text": [
      "1\n",
      "2\n",
      "3\n",
      "4\n",
      "5\n"
     ]
    }
   ],
   "source": [
    "N = int(input())\n",
    "\n",
    "unsorted_list = []\n",
    "for i in range(N):\n",
    "    unsorted_list.append(int(input()))\n",
    "    \n",
    "def mergeSort(x): ## 나누기\n",
    "    n = len(x)\n",
    "    if n <= 1:\n",
    "        return x\n",
    "    \n",
    "    mid = n // 2\n",
    "    left = x[:mid] ## mid를 기준으로 왼쪽\n",
    "    right = x[mid:] ## mid를 기준으로 오른쪽\n",
    "    \n",
    "    next_left = mergeSort(left) ## 재귀적으로 나누기\n",
    "    next_right = mergeSort(right) ## 재귀적으로 나누기\n",
    "    \n",
    "    return merge(next_left, next_right)\n",
    "\n",
    "\n",
    "def merge(left, right): ## 병합하기\n",
    "    i = 0 \n",
    "    j = 0\n",
    "    sorted_list = list()  \n",
    "    \n",
    "    while i < len(left) and j < len(right): ## left와 right중 더 작은 값 넣기\n",
    "        if left[i] < right[j]:\n",
    "            sorted_list.append(left[i])\n",
    "            i += 1\n",
    "        else:\n",
    "            sorted_list.append(right[j])\n",
    "            j += 1\n",
    "            \n",
    "    ## left와 right 중 남은 값을 넣어주기    \n",
    "    while i < len(left):\n",
    "        sorted_list.append(left[i])\n",
    "        i += 1\n",
    "        \n",
    "    while j < len(right):\n",
    "        sorted_list.append(right[j])\n",
    "        j += 1\n",
    "        \n",
    "    return sorted_list\n",
    "   \n",
    "sort_list = mergeSort(unsorted_list)\n",
    "\n",
    "for i in range(N):\n",
    "    print(sort_list[i])"
   ]
  },
  {
   "cell_type": "markdown",
   "id": "executive-reservoir",
   "metadata": {},
   "source": [
    "### 수 정렬하기 3\n",
    "- N개의 수가 주어졌을 때, 이를 오름차순으로 정렬하는 프로그램을 작성하시오.\n",
    "\n",
    "- N은 최대 10000000, 10000보다 작거나 같은 자연수\n",
    "\n",
    "- 수 정렬하기 2와 다르게 메모리 제한이 있다. "
   ]
  },
  {
   "cell_type": "markdown",
   "id": "addressed-singles",
   "metadata": {},
   "source": [
    "`-` 수 정렬하기 2에서 사용했던 코드는 메모리 제한에 걸림\n",
    "\n",
    "`-` 힌트를 보고 생각했음\n",
    "\n",
    "`-` 그런데 생각해보면 메모리가 8MB 이다\n",
    "\n",
    "`-` N이 최대 10000000이면 short형(2byte, c언어)를 쓰더라도 20000000byte로 20MB이다 --> 메모리 초과\n",
    "\n",
    "`-` 근데 N이 10000000이라고 하면 적어도 어느 자연수 하나는 1000번 이상 등장함(비둘기집 원리)\n",
    "\n",
    "`-` 그러면 1~10000까지 번호를 새긴 깡통을 만들어두고 input으로 등장한 숫자와 같은 번호의 깡통에 투표를 하는 매커니즘으로 생각하면 어떨까\n",
    "\n",
    "`-` [0]*10001인 리스트를 만듦. 등장한 숫자가 i라면 list의 i번째 요소의 값을 1씩 증가시킴\n",
    "\n",
    "`-` 최종적으로 리스트의 처음 인덱스부터 끝까지 value만큼 출력한다\n",
    "\n",
    "`-` 10000000크기의 list를 만드는 대신에 10000크기의 list를 만듦 --> 메모리 소비 줄임\n",
    "\n",
    "`-` input() 대신 sys.stdin.readline() 사용, 근데 왜 나는 sys.stdin.readline()가 error가 날까... --> 그래서 사용을 안하는 버릇생김 \n",
    "\n",
    "`-` Test는 input()으로 해도 제출은 sys.stdin.readline()로 하는 습관 가지기"
   ]
  },
  {
   "cell_type": "markdown",
   "id": "mighty-remark",
   "metadata": {},
   "source": [
    "- 이 코드는 메모리 초과임\n",
    "\n",
    "`-` arr[i] = 0이어도 뒤에 for문을 실행한다\n",
    "\n",
    "`-` arr[i] = 0이면 pass 하도록 아래와 같이 코드를 바꿨다"
   ]
  },
  {
   "cell_type": "code",
   "execution_count": 15,
   "id": "operating-ethernet",
   "metadata": {},
   "outputs": [
    {
     "name": "stdin",
     "output_type": "stream",
     "text": [
      " 5\n",
      " 1\n",
      " 5\n",
      " 5\n",
      " 2\n",
      " 4\n"
     ]
    },
    {
     "name": "stdout",
     "output_type": "stream",
     "text": [
      "1\n",
      "2\n",
      "4\n",
      "5\n",
      "5\n"
     ]
    }
   ],
   "source": [
    "import sys\n",
    "arr = [0] * 10001\n",
    "\n",
    "N = int(input())\n",
    "for i in range(N):\n",
    "    arr[int(sys.stdin.readline())] += 1\n",
    "\n",
    "for i in range(1, 10001):\n",
    "    for j in range(arr[i]):\n",
    "        print(i)\n"
   ]
  },
  {
   "cell_type": "markdown",
   "id": "monthly-estimate",
   "metadata": {},
   "source": [
    "`-` 문제를 보니 카운팅 정렬로 해결하는 문제였다 --> 카운팅 정렬 공부해야지"
   ]
  },
  {
   "cell_type": "markdown",
   "id": "julian-encyclopedia",
   "metadata": {},
   "source": [
    "### 통계학\n",
    "- 수를 처리하는 것은 통계학에서 상당히 중요한 일이다. 통계학에서 N개의 수를 대표하는 기본 통계값에는 다음과 같은 것들이 있다. 단, N은 홀수라고 가정하자.\n",
    "\n",
    "- 산술평균 : N개의 수들의 합을 N으로 나눈 값\n",
    "\n",
    "- 중앙값 : N개의 수들을 증가하는 순서로 나열했을 경우 그 중앙에 위치하는 값\n",
    "\n",
    "- 최빈값 : N개의 수들 중 가장 많이 나타나는 값\n",
    "\n",
    "- 범위 : N개의 수들 중 최댓값과 최솟값의 차이\n",
    "\n",
    "- N개의 수가 주어졌을 때, 네 가지 기본 통계값을 구하는 프로그램을 작성하시오."
   ]
  },
  {
   "cell_type": "markdown",
   "id": "extended-technical",
   "metadata": {},
   "source": [
    "`-` 이 코드는 잘못된 코드임. while문에서 빠져나오지 못함\n",
    "\n",
    "`-` 처음에는 while문만 보다가 while문은 이상한점이 없어서 처음부터 다시 봤음\n",
    "\n",
    "`-` 처음에 입력을 받는 부분이 잘못됨. 양수와 음수를 구별하는 if-else코드가 for문안에 들어가야 한다\n",
    "\n",
    "`-` 그렇지 않으면 입력을 받아 저장하는 x가 counting되지 않음\n",
    "\n",
    "`-` 또 문제가 있음 while문에서 k+1을 쓰면 무한loop에 빠지고 4001을 써야함(이유는 자고 일어나서..)\n",
    "\n",
    "`-` 이유를 찾았다\n",
    "```python\n",
    "for k in range(neg_nums[i]):\n",
    "            val_sum -= i\n",
    "```\n",
    "\n",
    "`-` for문에 변수로 k를 사용해서 k값이 4000에서 다른값으로 변한 것 --> 변수명 안겹치게 하기\n",
    "\n",
    "`-` 또 문제가 있다\n",
    "\n",
    "`-` 중앙값이 제대로 출력되지 않음. 입력으로 1, 3, 8, -2, 2를 주어졌을 때 중앙값으로 8이 출력됨\n",
    "\n",
    "`-` while문에서 num < mid일 때만 수행하라고 했는데 왜지?? num이 mid보다 커져도 for문이 계속 작동하여 median = 8을 store함\n",
    "\n",
    "`-` 이유를 알고보니까 이런 거임. 내가 일을 시키는 입장인데 내가 주는 업무를 수행하는데 12시간 넘으면 쉬라고 명령함\n",
    "\n",
    "`-` 근데 업무로 일 40시간 하기를 시킴..\n",
    "\n",
    "`-` while문에서는 num < mid이면 탈출하라고 했음. True일 동안 for i in range(4001)을 수행해야 함\n",
    "\n",
    "`-` 근데 시킨 업무가 range(4001)여서 i가 0 부터 4000이 될동안 num도 mid보다 커지지만 일단 시킨 업무가 for i in range(4001)이라 멈출 수 없고 다 끝낸 뒤 num >= min여서 while문 탈출\n",
    "\n",
    "`-` 또 문제가 있음...\n",
    "\n",
    "`-` 파이썬 round()를 하면 대부분 잘 작동함 근데 -1.5, -3.5같이 -?.5 (?은 홀수)의 경우에 제대로 값을 반환하지 않음\n",
    "\n",
    "`-` 또 2.5, 4.5 같이 ?.5(?은 짝수)의 경우 제대로 값을 반환하지 않음\n",
    "\n",
    "`-` -1.5를 반올림하면 -1이 맞지만 round(-1.5)는 -2를 return한다. 또 2.5를 반올림하면 2가 맞지만 round(2.5)는 2를 return한다\n",
    "\n",
    "`-` 파이썬에서는 반올림 자리가 5인 경우, 앞자리가 홀수면 올림, 짝수면 버림을 한다. 이를 고려해주어야 한다\n",
    "\n",
    "`-` 진짜 마지막으로 에러가 하나 있었다\n",
    "\n",
    "`-` 범위를 구하는 곳에서 오류가 있었는데 입력으로 0, 0, 0, -1, -2 가 주어지면 2가 출력되야 하지만 1이 출력됐다\n",
    "\n",
    "`-` 왜냐하면 양수로 0이 입력됐지만 max_pos = 0이기 때문\n",
    "\n",
    "`-` 그래서 양수는 입력되지 않았다고 판단하여 -1 - (-2) = 1을 범위로 output함"
   ]
  },
  {
   "cell_type": "markdown",
   "id": "antique-mount",
   "metadata": {},
   "source": [
    "```python\n",
    "N = int(input())\n",
    "k = 4000\n",
    "pos_nums = [0] * (k+1) \n",
    "neg_nums = [0] * (k+1)\n",
    "\n",
    "for _ in range(N):\n",
    "    x = int(input())\n",
    "if x >= 0:\n",
    "    pos_nums[x] += 1\n",
    "    \n",
    "else:\n",
    "    neg_nums[-x] += 1\n",
    "\n",
    "val_sum = 0\n",
    "min_pos = 0\n",
    "max_neg = 0\n",
    "max_pos = 0\n",
    "min_neg = 0\n",
    "\n",
    "for i in range(k+1):\n",
    "    if pos_nums[i] != 0:\n",
    "        max_pos = i\n",
    "        if min_pos == 0:\n",
    "            min_pos += i\n",
    "        for j in range(pos_nums[i]):\n",
    "            val_sum += i\n",
    "            \n",
    "for i in range(k+1):            \n",
    "    if neg_nums[i] != 0:\n",
    "        min_neg = -i\n",
    "        if max_neg == 0:\n",
    "            max_neg -= i\n",
    "        for k in range(neg_nums[i]):\n",
    "            val_sum -= i\n",
    "            \n",
    "mean = val_sum / N\n",
    "num_pos = sum(pos_nums)\n",
    "num_neg = sum(neg_nums)\n",
    "\n",
    "mid = (N + 1) // 2\n",
    "num = 0\n",
    "\n",
    "if num_pos >= num_neg:\n",
    "    mid -= num_neg\n",
    "    while num < mid:\n",
    "        for i in range(k+1):\n",
    "            if pos_nums[i] != 0:\n",
    "                for j in range(pos_nums[i]):\n",
    "                    num += 1 \n",
    "                median = i\n",
    "            \n",
    "else:\n",
    "    mid -= num_pos\n",
    "    while num < mid:\n",
    "        for i in range(k+1):\n",
    "            if neg_nums[i] != 0:\n",
    "                for j in range(neg_nums[i]):\n",
    "                    num += 1\n",
    "                median = -i\n",
    "\n",
    "range_ = 0\n",
    "if max_pos != 0 and min_neg != 0:\n",
    "    range_ = max_pos - min_neg\n",
    "    \n",
    "elif max_pos == 0:\n",
    "    range_ = max_neg - min_neg\n",
    "    \n",
    "elif min_neg == 0:\n",
    "    range_ = max_pos - min_pos\n",
    "    \n",
    "mode = []\n",
    "\n",
    "freq = max(pos_nums + neg_nums) \n",
    "\n",
    "for i in range(k+1):\n",
    "    if pos_nums[i] == freq:\n",
    "        mode.append(i)\n",
    "    if neg_nums[i] == freq:\n",
    "        mode.append(-i)\n",
    "\n",
    "if mode:\n",
    "    mode.remove(min(mode))\n",
    "    mode_ = min(mode)\n",
    "    \n",
    "else:\n",
    "    mode_ = min(mode)\n",
    "    \n",
    "print(mean)\n",
    "print(median)\n",
    "print(mode)\n",
    "print(range_)\n",
    "```"
   ]
  },
  {
   "cell_type": "markdown",
   "id": "bound-choir",
   "metadata": {},
   "source": [
    "`-` 위에서 잘못된 부분을 디버깅한 코드\n",
    "\n",
    "`-` 디버깅은 print()를 사용했는데 나중에 이에 대해 다뤄보자\n",
    "\n",
    "`-` 시간 초과 --> input() 말고 sys.stdin.readline()써야함\n",
    "\n",
    "`-` 입력구문을 바꾸니 맞았다\n",
    "\n",
    "`-` 디버깅하느라 힘들었음"
   ]
  },
  {
   "cell_type": "code",
   "execution_count": 93,
   "id": "qualified-requirement",
   "metadata": {},
   "outputs": [
    {
     "name": "stdin",
     "output_type": "stream",
     "text": [
      " 5\n",
      " 1\n",
      " 3\n",
      " 8\n",
      " -2\n",
      " 2\n"
     ]
    },
    {
     "name": "stdout",
     "output_type": "stream",
     "text": [
      "2\n",
      "2\n",
      "1\n",
      "10\n"
     ]
    }
   ],
   "source": [
    "\n",
    "N = int(input())\n",
    "k = 4000\n",
    "pos_nums = [0] * (k+1) \n",
    "neg_nums = [0] * (k+1)\n",
    "\n",
    "for _ in range(N):\n",
    "    x = int(input())\n",
    "    \n",
    "    if x >= 0:\n",
    "        pos_nums[x] += 1\n",
    "    else:\n",
    "        neg_nums[-x] += 1\n",
    "    \n",
    "val_sum = 0\n",
    "min_pos = []\n",
    "max_neg = 0\n",
    "max_pos = 0\n",
    "min_neg = 0\n",
    "\n",
    "for i in range(k+1):\n",
    "    if pos_nums[i] != 0:\n",
    "        max_pos = i\n",
    "        if len(min_pos) < 1:\n",
    "            min_pos.append(i)\n",
    "        for j in range(pos_nums[i]):\n",
    "            val_sum += i\n",
    "            \n",
    "for i in range(1, k+1):            \n",
    "    if neg_nums[i] != 0:\n",
    "        min_neg = -i\n",
    "        if max_neg == 0:\n",
    "            max_neg -= i\n",
    "        for m in range(neg_nums[i]):\n",
    "            val_sum -= i\n",
    "\n",
    "## 산술평균\n",
    "\n",
    "def round2(number):\n",
    "    if number >= 0:\n",
    "        if number - int(number) >= 0.5:\n",
    "            a = 1\n",
    "        else:\n",
    "            a = 0\n",
    "        return int(number) + a\n",
    "    \n",
    "    else:\n",
    "        if int(number) - number > 0.5:\n",
    "            a = -1\n",
    "        else:\n",
    "            a = 0\n",
    "        return int(number) + a\n",
    "    \n",
    "mean = round2(val_sum / N)\n",
    "\n",
    "## 중앙값\n",
    "num_pos = sum(pos_nums)\n",
    "num_neg = sum(neg_nums)\n",
    "mid = (N + 1) // 2\n",
    "num = 0\n",
    "\n",
    "if num_pos >= num_neg:\n",
    "    mid -= num_neg\n",
    "    for i in range(k+1):\n",
    "        if pos_nums[i] != 0:\n",
    "            for j in range(pos_nums[i]):\n",
    "                num += 1 \n",
    "            median = i\n",
    "            if num >= mid:\n",
    "                break\n",
    "                \n",
    "else:\n",
    "    mid -= num_pos\n",
    "    for i in range(k+1):\n",
    "        if neg_nums[i] != 0:\n",
    "            for j in range(neg_nums[i]):\n",
    "                num += 1\n",
    "            median = -i\n",
    "            if num >= mid:\n",
    "                break\n",
    "\n",
    "## 범위\n",
    "range_ = 0\n",
    "if min_pos and min_neg != 0:\n",
    "    range_ = max_pos - min_neg\n",
    "    \n",
    "elif len(min_pos) < 1:\n",
    "    range_ = max_neg - min_neg\n",
    "    \n",
    "elif min_neg == 0:\n",
    "    range_ = max_pos - min_pos[0]\n",
    "\n",
    "## 최빈값    \n",
    "mode = []\n",
    "freq = max(pos_nums + neg_nums) \n",
    "\n",
    "for i in range(4001):\n",
    "    if pos_nums[i] == freq:\n",
    "        \n",
    "        mode.append(i)\n",
    "    if neg_nums[i] == freq:\n",
    "        mode.append(-i)\n",
    "\n",
    "if len(mode) > 1:\n",
    "    mode.remove(min(mode))\n",
    "    mode_ = min(mode)\n",
    "    \n",
    "else: \n",
    "    mode_ = min(mode)\n",
    "    \n",
    "print(mean)\n",
    "print(median)\n",
    "print(mode_)\n",
    "print(range_)\n"
   ]
  },
  {
   "cell_type": "markdown",
   "id": "patent-edward",
   "metadata": {},
   "source": [
    "### 나이순 정렬\n",
    "- 문제 출처: [백준 10814번](https://www.acmicpc.net/problem/10814)"
   ]
  },
  {
   "cell_type": "code",
   "execution_count": 9,
   "id": "dress-prototype",
   "metadata": {},
   "outputs": [
    {
     "name": "stdin",
     "output_type": "stream",
     "text": [
      " 3\n",
      " 21 Junkyu\n",
      " 21 Dohyun\n",
      " 20 Sunyoung\n"
     ]
    },
    {
     "name": "stdout",
     "output_type": "stream",
     "text": [
      "20 Sunyoung\n",
      "21 Junkyu\n",
      "21 Dohyun\n"
     ]
    }
   ],
   "source": [
    "N = int(input())\n",
    "data = []\n",
    "\n",
    "for i in range(N):\n",
    "    member = list(input().split()) + [i]\n",
    "    member[0] = int(member[0])\n",
    "    data.append(member)\n",
    "    \n",
    "data.sort(key = lambda x: (x[0], x[2]))\n",
    "\n",
    "for j in range(N):\n",
    "    print(data[j][0], data[j][1])"
   ]
  },
  {
   "cell_type": "markdown",
   "id": "featured-remark",
   "metadata": {},
   "source": [
    "---"
   ]
  },
  {
   "cell_type": "markdown",
   "id": "express-studio",
   "metadata": {},
   "source": [
    "## 그리디 알고리즘 "
   ]
  },
  {
   "cell_type": "markdown",
   "id": "split-superior",
   "metadata": {},
   "source": [
    "### 동전 0\n",
    "- 준규가 가지고 있는 동전은 총 N종류이고, 각각의 동전을 매우 많이 가지고 있다.\n",
    "\n",
    "- 동전을 적절히 사용해서 그 가치의 합을 K로 만들려고 한다. \n",
    "\n",
    "- 이때 필요한 동전 개수의 최솟값을 구하는 프로그램을 작성하시오.\n",
    "\n",
    "- 동전의 가치 Ai가 오름차순으로 주어진다. (1 ≤ Ai ≤ 1,000,000, A1 = 1, i ≥ 2인 경우에 Ai는 Ai-1의 배수)"
   ]
  },
  {
   "cell_type": "code",
   "execution_count": 2,
   "id": "institutional-latest",
   "metadata": {},
   "outputs": [
    {
     "name": "stdin",
     "output_type": "stream",
     "text": [
      " 10 4790\n",
      " 1\n",
      " 5\n",
      " 10\n",
      " 50\n",
      " 100\n",
      " 500\n",
      " 1000\n",
      " 5000\n",
      " 10000\n",
      " 50000\n"
     ]
    },
    {
     "name": "stdout",
     "output_type": "stream",
     "text": [
      "12\n"
     ]
    }
   ],
   "source": [
    "N , K = map(int, input().split())\n",
    "\n",
    "coins = []\n",
    "for i in range(N):\n",
    "    coins.append(int(input()))\n",
    "\n",
    "num = [K]    \n",
    "for j in range(N - 1):\n",
    "    val = coins[j+1] / coins[j]\n",
    "    replace = num[j] // val\n",
    "    num[j] -= replace * val\n",
    "    num.append(replace)\n",
    "    \n",
    "print(int(sum(num)))\n",
    "    "
   ]
  },
  {
   "cell_type": "markdown",
   "id": "starting-generic",
   "metadata": {},
   "source": [
    "### 잃어버린 괄호\n",
    "- 세준이는 양수와 +, -, 그리고 괄호를 가지고 식을 만들고 난 후 괄호를 모두 지웠다. \n",
    "\n",
    "- 그리고 나서 세준이는 괄호를 적절히 쳐서 이 식의 값을 최소로 만들려고 한다."
   ]
  },
  {
   "cell_type": "markdown",
   "id": "ongoing-saudi",
   "metadata": {},
   "source": [
    "`-` 한번만 `minus 기호`가 나오면 그 뒤에 수는 모두 빼기로 만들 수 있음"
   ]
  },
  {
   "cell_type": "markdown",
   "id": "statutory-thompson",
   "metadata": {},
   "source": [
    "`-` 50 - 70 + 80 + 90 --> 50 - (70 + 80 + 90)"
   ]
  },
  {
   "cell_type": "markdown",
   "id": "wrapped-desert",
   "metadata": {},
   "source": [
    "`-` `join()`, `split()`, `replace()`, `map()` 함수 사용"
   ]
  },
  {
   "cell_type": "code",
   "execution_count": 202,
   "id": "stuffed-minneapolis",
   "metadata": {},
   "outputs": [
    {
     "name": "stdin",
     "output_type": "stream",
     "text": [
      " 00000+00000+00000+00000+00000+0\n"
     ]
    },
    {
     "name": "stdout",
     "output_type": "stream",
     "text": [
      "0\n"
     ]
    }
   ],
   "source": [
    "string = str(input())\n",
    "s1 = string.split('-')\n",
    "s2 = s1[0]\n",
    "s2 = s2.split('+')\n",
    "s2 = list(map(int, s2))\n",
    "\n",
    "s3 = s1[1:]\n",
    "if  len(s3) > 0:\n",
    "    s3 = '-'.join(s3)\n",
    "    s3 = s3.replace('-', '+')\n",
    "    s3 = s3.split('+')\n",
    "    s3 = list(map(int, s3))\n",
    "    print(sum(s2) - sum(s3))\n",
    "    \n",
    "else: \n",
    "    print(sum(s2))"
   ]
  },
  {
   "cell_type": "markdown",
   "id": "interpreted-register",
   "metadata": {},
   "source": [
    "### ATM\n",
    "- 문제 출처: [백준 11399번](https://www.acmicpc.net/problem/11399)\n",
    "\n",
    "- 인하은행에는 ATM이 1대밖에 없다.\n",
    "\n",
    "- 줄을 서 있는 사람의 수 N과 각 사람이 돈을 인출하는데 걸리는 시간 $P_i$가 주어졌다.\n",
    "\n",
    "- 각 사람이 돈을 인출하는데 필요한 시간의 합의 최솟값을 구하는 프로그램을 작성하시오."
   ]
  },
  {
   "cell_type": "markdown",
   "id": "seventh-gnome",
   "metadata": {},
   "source": [
    "`-` times를 sort()함수를 통해 오름차순으로 정렬\n",
    "\n",
    "`-` 최소값 $=$ 첫 번째 원소 $\\times$ N $+$ 두 번째 원소 $\\times$ (N-1) $+ \\dots +$ 마지막 원소 $\\times$ 1"
   ]
  },
  {
   "cell_type": "code",
   "execution_count": 1,
   "id": "figured-advocate",
   "metadata": {},
   "outputs": [
    {
     "name": "stdin",
     "output_type": "stream",
     "text": [
      " 5\n",
      " 3 1 4 3 2\n"
     ]
    },
    {
     "name": "stdout",
     "output_type": "stream",
     "text": [
      "32\n"
     ]
    }
   ],
   "source": [
    "N = int(input())\n",
    "times = list(map(int, input().split()))\n",
    "times.sort()\n",
    "print(sum([times[i] * (N - i) for i in range(N)]))"
   ]
  },
  {
   "cell_type": "markdown",
   "id": "protected-villa",
   "metadata": {},
   "source": [
    "### 주유소\n",
    "- 설명이 길어서 링크를 남긴다.\n",
    "\n",
    "- 문제 출처: [백준 13305번](https://www.acmicpc.net/problem/13305](https://www.acmicpc.net/problem/13305)"
   ]
  },
  {
   "cell_type": "markdown",
   "id": "russian-screw",
   "metadata": {},
   "source": [
    "`-` 현재 주유소 가격보다 더 싼 주유소가 있는 곳 까지의 거리만큼만 구매하여 더 싼 주유소까지 감\n",
    "\n",
    "`-` 정확히는 현재 주유소 가격보다 더 싼 주유소 중 가장 거리가 가까운 주유소\n",
    "\n",
    "`-` 더 싼 주유소 까지 갔으면 그 주유소보다 더 싼 주유소가 있는 곳 까지의 거리만큼만 구매하여 더 싼 주유소까지 감\n",
    "\n",
    "`-` 만약 더 싼 곳이 없으면 목표지점까지 남은 거리 만큼 기름을 구매 \n",
    "\n",
    "`-` 이를 도착할 때 까지 반복함\n",
    "\n",
    "`-` 백준 문제 예시를 보자\n",
    "\n",
    "1. 기름 가격이 현재 5원 보다 더 싼 곳은 2원이므로 5원에서 2원까지 거리인 2km를 갈 수 있을 정도만 기름을 구매함(2L 구매)\n",
    "\n",
    "2. 현재 2원 보다 더 싼 곳은 1원이므로 2원에서 1원까지 거리인 4km를 갈 수 있을 정도만 기름을 구매함(4L 구매)\n",
    "\n",
    "3. 목표 지점에 도착했으므로 끝 "
   ]
  },
  {
   "cell_type": "code",
   "execution_count": 25,
   "id": "rural-korea",
   "metadata": {},
   "outputs": [
    {
     "name": "stdin",
     "output_type": "stream",
     "text": [
      " 4\n",
      " 3 3 4\n",
      " 1 1 1 1\n"
     ]
    },
    {
     "name": "stdout",
     "output_type": "stream",
     "text": [
      "10\n"
     ]
    }
   ],
   "source": [
    "N = int(input())\n",
    "lengths = list(map(int, input().split()))\n",
    "oils = list(map(int, input().split()))\n",
    "\n",
    "idx = 0\n",
    "costs = 0\n",
    "\n",
    "for i in range(1, len(oils)):\n",
    "    if oils[i] <= oils[idx]:\n",
    "        costs += oils[idx] * lengths[i - 1]\n",
    "        idx = i\n",
    "    \n",
    "    else:\n",
    "        costs += oils[idx] * lengths[i - 1]\n",
    "        \n",
    "print(costs)"
   ]
  },
  {
   "cell_type": "markdown",
   "id": "hidden-politics",
   "metadata": {},
   "source": [
    "`-` 아래는 더 간결한 코드(중복 부분 제거)"
   ]
  },
  {
   "cell_type": "code",
   "execution_count": 26,
   "id": "vietnamese-bulgaria",
   "metadata": {},
   "outputs": [
    {
     "name": "stdin",
     "output_type": "stream",
     "text": [
      " 4\n",
      " 3 3 4\n",
      " 1 1 1 1\n"
     ]
    },
    {
     "name": "stdout",
     "output_type": "stream",
     "text": [
      "10\n"
     ]
    }
   ],
   "source": [
    "N = int(input())\n",
    "lengths = list(map(int, input().split()))\n",
    "oils = list(map(int, input().split()))\n",
    "\n",
    "idx = 0\n",
    "costs = 0\n",
    "\n",
    "for i in range(1, len(oils)):\n",
    "    costs += oils[idx] * lengths[i - 1]\n",
    "    \n",
    "    if oils[i] <= oils[idx]:\n",
    "        idx = i\n",
    "        \n",
    "print(costs)"
   ]
  },
  {
   "cell_type": "markdown",
   "id": "experimental-consent",
   "metadata": {},
   "source": [
    "### 주유소 문제 디버깅 "
   ]
  },
  {
   "cell_type": "markdown",
   "id": "designing-client",
   "metadata": {},
   "source": [
    "`-` 아래는 잘못된 코드임"
   ]
  },
  {
   "cell_type": "markdown",
   "id": "circular-newark",
   "metadata": {},
   "source": [
    "```python\n",
    "N = int(input())\n",
    "lengths = list(map(int, input().split()))\n",
    "oils = list(map(int, input().split()))\n",
    "\n",
    "idx = 0\n",
    "costs = 0\n",
    "\n",
    "for i in range(1, len(oils)):\n",
    "    if oils[i] <= oils[idx]:\n",
    "        costs += oils[idx] * lengths[idx]\n",
    "        idx = i\n",
    "    \n",
    "    else:\n",
    "        costs += oils[idx] * lengths[i - 1]\n",
    "        \n",
    "print(costs)\n",
    "```\n",
    "`-` 아래 코드가 잘못됨\n",
    "```python\n",
    "costs += oils[idx] * lengths[idx]\n",
    "```\n",
    "`-` 아래 코드로 수정해야함\n",
    "```python\n",
    "lengths[idx] --> lengths[i - 1]\n",
    "```"
   ]
  },
  {
   "cell_type": "markdown",
   "id": "double-convenience",
   "metadata": {},
   "source": [
    "`-` 디버깅 하면서 느낀점 : 다양한 상황을 고려하고 [$\\star$]`종이에 쓰면서`[$\\star$] 어떻게 흘러가는지 분석하자"
   ]
  },
  {
   "cell_type": "markdown",
   "id": "binary-bracelet",
   "metadata": {},
   "source": [
    "### 회의실 배정\n",
    "- 한 개의 회의실이 있는데 이를 사용하고자 하는 N개의 회의에 대하여 회의실 사용표를 만들려고 한다. \n",
    "\n",
    "- 각 회의 I에 대해 시작시간과 끝나는 시간이 주어져 있고, 각 회의가 겹치지 않게 하면서 회의실을 사용할 수 있는 회의의 최대 개수를 찾아보자. \n",
    "\n",
    "- 단, 회의는 한번 시작하면 중간에 중단될 수 없으며 한 회의가 끝나는 것과 동시에 다음 회의가 시작될 수 있다. \n",
    "\n",
    "- 회의의 시작시간과 끝나는 시간이 같을 수도 있다. 이 경우에는 시작하자마자 끝나는 것으로 생각하면 된다."
   ]
  },
  {
   "cell_type": "markdown",
   "id": "acute-medium",
   "metadata": {},
   "source": [
    "`-` 가장 빨리 끝나는 회의를 배정하는 것이 best임, 시작 시간과 종료 시간이 같은 것이 있을 수 있으므로 종료 시간이 같다면 먼저 시작하는 것을 앞에 배정함\n",
    "\n",
    "`-` 그 회의를 마치고 다음 회의를 고를 때 마찬가지로 가장 빨리 끝나는 회의를 배정함 \n",
    "\n",
    "`-` 이를 반복하면 된다\n",
    "\n",
    "`-` [1, 1]과 [0, 1]이 있다면 [0, 1]을 배정하고 [1, 1]을 해야한다. 순서를 바꾸면 1개가 최대임\n",
    "\n",
    "`-` 처음에는 종료 시간만 고려해서 틀림 --> 디버깅을 합시다\n",
    "\n",
    "`-` 그래서 생각한 것이 \"아!, 시작 시간과 종료 시간 간격이 짧은 것이 더 좋겠지([5, 8]보단 [6, 8]더 좋을 거야)\"라고 했음\n",
    "\n",
    "`-` 그래서 종료 시간 기준으로 오름차순 정렬한 후 시작 시간 기준으로 내림차순 정렬을 했다. 하지만 위에서 다룬 [1, 1]과 [0, 1]의 상황에 의해 틀림\n",
    "\n",
    "`-` 종료 시간기준으로 오름차순 정렬한 후 이를 시작 시간 기준으로 오름차순 정렬해야 함 --> 맞았습니다"
   ]
  },
  {
   "cell_type": "code",
   "execution_count": 20,
   "id": "industrial-detail",
   "metadata": {},
   "outputs": [
    {
     "name": "stdin",
     "output_type": "stream",
     "text": [
      " 11\n",
      " 1 4\n",
      " 3 5\n",
      " 0 6\n",
      " 5 7\n",
      " 3 8\n",
      " 5 9\n",
      " 6 10\n",
      " 8 11\n",
      " 8 12\n",
      " 2 13\n",
      " 12 14\n"
     ]
    },
    {
     "name": "stdout",
     "output_type": "stream",
     "text": [
      "4\n"
     ]
    }
   ],
   "source": [
    "meeting_time = []\n",
    "N = int(input())\n",
    "for i in range(N):\n",
    "    meeting_time.append(list(map(int, input().split())))\n",
    "    \n",
    "meeting_num = 1\n",
    "meeting_time.sort(key = lambda finish_time: (finish_time[1], finish_time[0])) ## 종료 시간을 기준으로 오름차순 정렬한 것을 시작 시간을 기준으로 오름차순 정렬\n",
    "fir_meeting = meeting_time[0]\n",
    "\n",
    "for i in range(1, N):\n",
    "    if meeting_time[i][0] >= fir_meeting[1]:\n",
    "        meeting_num += 1\n",
    "        fir_meeting = meeting_time[i]\n",
    "\n",
    "print(meeting_num)"
   ]
  },
  {
   "cell_type": "markdown",
   "id": "mathematical-adventure",
   "metadata": {},
   "source": [
    "### A $\\to$ B \n",
    "- 문제 출처: [백준 16953번](https://www.acmicpc.net/problem/16953)"
   ]
  },
  {
   "cell_type": "markdown",
   "id": "prostate-hypothetical",
   "metadata": {},
   "source": [
    "`-` 미로찾기 할 때 출발지점에서 시작하는 것보다 도착지점에서 시작하는 것이 미로 탈출을 더 쉽게 만듦\n",
    "\n",
    "`-` 이런 느낌으로 접근하자\n",
    "\n",
    "`-` A에서 B를 만드는 것 보다 역으로 B에서 A를 만든다고 생각하는 거임\n",
    "\n",
    "`-` 만약 B가 x자리수인데 x자리 숫자가 1이라면 A에서 B를 만드는 과정에서 A가 x-1자리인 순간이 있었고 그 때 마지막 자리에 1을 추가하는 연산을 했음을 알 수 있음\n",
    "\n",
    "`-` 이런식으로 생각하면 만약 B의 x자리의 숫자가 1이 아닌 홀수다 ---> A 에서 B를 만드는 것이 불가능\n",
    "\n",
    "`-` 만약 B의 x자리의 숫자가 짝수다 ---> 일단 B를 2로 나누자\n",
    "\n",
    "`-` 위에서 한 것을 반복하면 됨 \n",
    "\n",
    "`-` 그리디 알고리즘으로 풀었는데 BFS로도 풀 수 있다고 함 ---> 나중에 그래프 탐색 문제도 풀어보자"
   ]
  },
  {
   "cell_type": "code",
   "execution_count": 47,
   "id": "dental-recruitment",
   "metadata": {},
   "outputs": [
    {
     "name": "stdin",
     "output_type": "stream",
     "text": [
      " 2 162\n"
     ]
    },
    {
     "name": "stdout",
     "output_type": "stream",
     "text": [
      "5\n"
     ]
    }
   ],
   "source": [
    "A, B = map(int, input().split())\n",
    "num = 1\n",
    "\n",
    "while B != A:\n",
    "    if str(B)[-1] == '1' and B > A:\n",
    "        B = int(str(B)[:-1])\n",
    "        num += 1\n",
    "        \n",
    "    elif B % 2 == 1 or B < A:\n",
    "        num = -1\n",
    "        break\n",
    "        \n",
    "    else:\n",
    "        B = B // 2\n",
    "        num += 1\n",
    "        \n",
    "print(num)"
   ]
  },
  {
   "cell_type": "markdown",
   "id": "alpha-image",
   "metadata": {},
   "source": [
    "### 카드 합체 놀이\n",
    "- 문제 출처: [백준 15903번](https://www.acmicpc.net/problem/15903)"
   ]
  },
  {
   "cell_type": "markdown",
   "id": "acting-transparency",
   "metadata": {},
   "source": [
    "`-` 가장 작은 카드 2장을 뽑아서 더한 값으로 초기화 함\n",
    "\n",
    "`-` 또 다시 전체 카드 중에서 가장 작은 카드 2장을 뽑아서 더한 값으로 초기화 함\n",
    "\n",
    "`-` 위를 반복하면 됨\n",
    "\n",
    "`-` 힙(Heap)자료 구조로 풀 수 있다고 함 ---> 공부하기"
   ]
  },
  {
   "cell_type": "code",
   "execution_count": 6,
   "id": "chief-administrator",
   "metadata": {},
   "outputs": [
    {
     "name": "stdin",
     "output_type": "stream",
     "text": [
      " 3 1\n",
      " 3 2 6\n"
     ]
    },
    {
     "name": "stdout",
     "output_type": "stream",
     "text": [
      "16\n"
     ]
    }
   ],
   "source": [
    "n, m = map(int, input().split())\n",
    "cards = list(map(int, input().split()))\n",
    "cards.sort()\n",
    "cnt = 0\n",
    "\n",
    "while cnt < m:\n",
    "    cards[0] = cards[1] = cards[0] + cards[1]\n",
    "    cards.sort()\n",
    "    cnt += 1\n",
    "\n",
    "print(sum(cards))"
   ]
  },
  {
   "cell_type": "markdown",
   "id": "effective-black",
   "metadata": {},
   "source": [
    "---"
   ]
  },
  {
   "cell_type": "markdown",
   "id": "chicken-excerpt",
   "metadata": {},
   "source": [
    "## 정수론 및 조합론 "
   ]
  },
  {
   "cell_type": "markdown",
   "id": "protecting-slovakia",
   "metadata": {},
   "source": [
    "### 이항 계수 2 "
   ]
  },
  {
   "cell_type": "markdown",
   "id": "spiritual-aggregate",
   "metadata": {},
   "source": [
    "- 자연수 N과 정수 K가 주어졌을 때 이항 계수 $\\binom{N}{K}$를 10,007로 나눈 나머지를 구하는 프로그램을 작성하시오."
   ]
  },
  {
   "cell_type": "markdown",
   "id": "upset-plate",
   "metadata": {},
   "source": [
    "`-` $ _{n}\\rm C_{k}\\;=\\; _{n-1}\\rm C_{k-1}\\;+\\;_{n-1}\\rm C_{k}$\n",
    "\n",
    "`-` n명 중 k명을 선택하는 방법 = 일단 나를 k명에 포함하고 나머지 n-1명 중 k-1명을 선택하는 방법 + 나를 k명에서 제외하고 나머지 n-1명 중 k명을 선택하는 방법\n",
    "\n",
    "`-` 메모이제이션 활용"
   ]
  },
  {
   "cell_type": "markdown",
   "id": "organized-professor",
   "metadata": {},
   "source": [
    "`-` 아래 코드는 수를 곱하고 나누고 하는 과정에서 오차가 발생함(이유 알 것 같음)"
   ]
  },
  {
   "cell_type": "code",
   "execution_count": 34,
   "id": "stock-recording",
   "metadata": {},
   "outputs": [
    {
     "name": "stdin",
     "output_type": "stream",
     "text": [
      " 1000 500\n"
     ]
    },
    {
     "name": "stdout",
     "output_type": "stream",
     "text": [
      "270288240945436736896419468186285475891156693372573153808127299354545159392842888344379470775469423606583114895222426893312341135200171386904964166401328583914403638232447354301148995510201690344719626632436541851159067180652764129719441081806265387434048424366211327146525860903129335008845962936320\n"
     ]
    }
   ],
   "source": [
    "N, K = map(int, input().split())\n",
    "if K > N - K:\n",
    "    K = N - K\n",
    "\n",
    "def binom(n, k):\n",
    "    frac = 1    \n",
    "    if k == 0:\n",
    "        return frac\n",
    "    \n",
    "    for i in range(k):\n",
    "        frac *= (n - i)\n",
    "        frac /= (k - i)\n",
    "    \n",
    "    return frac\n",
    "    \n",
    "print(binom(N, K))    \n",
    "    "
   ]
  },
  {
   "cell_type": "markdown",
   "id": "numerous-partner",
   "metadata": {},
   "source": [
    "`-` 아래코드는 메모이제이션으로 구현했다\n",
    "\n",
    "`-` 계산해보면 알겠지만 $_{1000}\\rm C_{500}$은 매우$\\times 100$ 큰 수이다. 300자리임\n",
    "\n",
    "`-` 그래서 $_{1000}\\rm C_{500}$를 계산할 때 위와같이 구하면 곱하고 나누는 과정에서 소수점 오차가 발생하고 이는 결과적으로 밑의 코드와 다른 값을 출력하게 된다\n",
    "\n",
    "`-` 메모이제이션을 안 쓴 코드와 쓴 코드로 구한 $_{1000}\\rm C_{500}$ 값을 비교하면 다른 것을 알 수 있다\n",
    "\n",
    "`-` 아래 코드는 오류 발생(만약 위의 코드가 오차없이 답을 구한다면 똑같이 오류 발생) --> 재귀 깊이에 관한 오류\n",
    "\n",
    "`-` 백준에서 정한 파이썬 재귀 깊이는 1000이다. 즉, 같은 함수를 1000번 이상 호출하면 오류가 난다\n",
    "\n",
    "`-` 그래서 오류가 나지 않으려면 재귀 깊이를 sys.setrecursionlimit()를 통해 바꾸던가 해야함\n",
    "\n",
    "`-` 오류가 발생한 이유를 알았으니 아래 코드를 다시 수정함"
   ]
  },
  {
   "cell_type": "code",
   "execution_count": 33,
   "id": "separated-cambridge",
   "metadata": {},
   "outputs": [
    {
     "name": "stdin",
     "output_type": "stream",
     "text": [
      " 1000 500\n"
     ]
    },
    {
     "name": "stdout",
     "output_type": "stream",
     "text": [
      "270288240945436569515614693625975275496152008446548287007392875106625428705522193898612483924502370165362606085021546104802209750050679917549894219699518475423665484263751733356162464079737887344364574161119497604571044985756287880514600994219426752366915856603136862602484428109296905863799821216320\n"
     ]
    }
   ],
   "source": [
    "import sys\n",
    "sys.setrecursionlimit(10**6)\n",
    "\n",
    "N, K = map(int, input().split())\n",
    "if K > N - K:\n",
    "    K = N - K\n",
    "\n",
    "binom_list = [[-1] * 501 for _ in range(1001)]\n",
    "\n",
    "def binom(n, k):\n",
    "    if binom_list[n][k] != -1:\n",
    "        return binom_list[n][k]\n",
    "    \n",
    "    elif n < k:\n",
    "        return 0\n",
    "    \n",
    "    elif k == 0:\n",
    "        return 1\n",
    "    \n",
    "    elif n == 1:\n",
    "        return 1\n",
    "    \n",
    "    binom_list[n][k] = binom(n-1, k) + binom(n-1, k-1)\n",
    "    \n",
    "    return binom_list[n][k]\n",
    "    \n",
    "print(binom(N, K))    "
   ]
  },
  {
   "cell_type": "markdown",
   "id": "fourth-second",
   "metadata": {},
   "source": [
    "`-` 사실 재귀함수를 사용하지 않고 첫 번째 코드를 수정하는 것으로도 정답을 맞출 수 있다"
   ]
  },
  {
   "cell_type": "markdown",
   "id": "sticky-garbage",
   "metadata": {},
   "source": [
    "`-` 문제는 `/(나누기)` 이다 `/` 대신 `//(몫 구하기)`를 사용하면 해결된다\n",
    "\n",
    "`-` `/(나누기 연산자)`는 큰 값을 계산할 때 오차에 취약하다 \n",
    "\n",
    "`-` 그래서 // 를 쓰는 것이 좋다. 물론 /와 // 결과가 같을 때 ex) 10 / 2 = 10 // 2"
   ]
  },
  {
   "cell_type": "markdown",
   "id": "commercial-idaho",
   "metadata": {},
   "source": [
    "`-` 밑의 코드 결과는 메모이제이션을 사용한 코드와 같은 것을 알 수 있다"
   ]
  },
  {
   "cell_type": "code",
   "execution_count": 40,
   "id": "referenced-guarantee",
   "metadata": {},
   "outputs": [
    {
     "name": "stdin",
     "output_type": "stream",
     "text": [
      " 1000 500\n"
     ]
    },
    {
     "name": "stdout",
     "output_type": "stream",
     "text": [
      "270288240945436569515614693625975275496152008446548287007392875106625428705522193898612483924502370165362606085021546104802209750050679917549894219699518475423665484263751733356162464079737887344364574161119497604571044985756287880514600994219426752366915856603136862602484428109296905863799821216320\n"
     ]
    }
   ],
   "source": [
    "N, K = map(int, input().split())\n",
    "if K > N - K:\n",
    "    K = N - K\n",
    "\n",
    "def binom(n, k):\n",
    "    frac = 1    \n",
    "    \n",
    "    for i in range(k):\n",
    "        frac *= (n - i)\n",
    "\n",
    "    for i in range(k):\n",
    "        frac //= (k - i)\n",
    "    \n",
    "    return frac\n",
    "    \n",
    "print(binom(N, K))    \n",
    "    "
   ]
  },
  {
   "cell_type": "markdown",
   "id": "upper-clause",
   "metadata": {},
   "source": [
    "---"
   ]
  },
  {
   "cell_type": "markdown",
   "id": "adaptive-mystery",
   "metadata": {},
   "source": [
    "## 동적 계획법"
   ]
  },
  {
   "cell_type": "markdown",
   "id": "noticed-blowing",
   "metadata": {},
   "source": [
    "### 피보나치 함수\n",
    "- 문제가 길어서 출처를 남김: [백준 피보나치 함수 문제](https://www.acmicpc.net/problem/1003)"
   ]
  },
  {
   "cell_type": "markdown",
   "id": "outdoor-royalty",
   "metadata": {},
   "source": [
    "`-` 직접 0과 1이 몇번 출력되는지 계산해도 된다\n",
    "\n",
    "`-` 근데 규칙을 보면 출력되는 횟수의 합이 피보나치 수열을 따름\n",
    "\n",
    "`-` 그리고 0이 출력되는 횟수가 1이 출력되는 횟수보다 1이 더 작다 (fibo(3) 이상 부터)\n",
    "\n",
    "`-` fibo(1) = 5이므로 0은 5 // 2 번 1은 5 - 5 // 2번 출력됨"
   ]
  },
  {
   "cell_type": "markdown",
   "id": "useful-brunswick",
   "metadata": {},
   "source": [
    "```python\n",
    "T = int(input())\n",
    "\n",
    "def fibo(n):\n",
    "    fir_fibo = 0\n",
    "    sec_fibo = 1\n",
    "    \n",
    "    for i in range(n):\n",
    "        next_fibo = fir_fibo + sec_fibo\n",
    "        fir_fibo = sec_fibo\n",
    "        sec_fibo = next_fibo\n",
    "        \n",
    "    return next_fibo\n",
    "\n",
    "for i in range(T):\n",
    "    N = int(input())\n",
    "    \n",
    "    if N == 0:\n",
    "        print(1, 0)\n",
    "    \n",
    "    elif N == 1:\n",
    "        print(0, 1)\n",
    "        \n",
    "    elif N > 1:\n",
    "        fibo_N = fibo(N)\n",
    "        print(fibo_N // 2, fibo_N - (fibo_N // 2))\n",
    "```        "
   ]
  },
  {
   "cell_type": "markdown",
   "id": "sublime-works",
   "metadata": {},
   "source": [
    "`-` 위의 코드는 틀렸다\n",
    "\n",
    "`-` 계산해보니 0출력 횟수와 1출력 횟수 차이는 1이 아니었음\n",
    "\n",
    "`-` fibo(5)의 경우 0은 3번, 1은 5번 출력함\n",
    "\n",
    "`-` fibo(n)일 떄 0은 fibo(n-1)번 1은 fibo(n)번 출력함 (n > 1)"
   ]
  },
  {
   "cell_type": "code",
   "execution_count": 42,
   "id": "voluntary-actor",
   "metadata": {},
   "outputs": [
    {
     "name": "stdin",
     "output_type": "stream",
     "text": [
      " 3\n",
      " 0\n"
     ]
    },
    {
     "name": "stdout",
     "output_type": "stream",
     "text": [
      "1 0\n"
     ]
    },
    {
     "name": "stdin",
     "output_type": "stream",
     "text": [
      " 1\n"
     ]
    },
    {
     "name": "stdout",
     "output_type": "stream",
     "text": [
      "0 1\n"
     ]
    },
    {
     "name": "stdin",
     "output_type": "stream",
     "text": [
      " 3\n"
     ]
    },
    {
     "name": "stdout",
     "output_type": "stream",
     "text": [
      "1 2\n"
     ]
    }
   ],
   "source": [
    "T = int(input())\n",
    "\n",
    "def fibo(n):\n",
    "    if n <= 1:\n",
    "        return n\n",
    "    \n",
    "    fir_fibo = 0\n",
    "    sec_fibo = 1\n",
    "    \n",
    "    for i in range(n-1):\n",
    "        next_fibo = fir_fibo + sec_fibo\n",
    "        fir_fibo = sec_fibo\n",
    "        sec_fibo = next_fibo\n",
    "        \n",
    "    return next_fibo\n",
    "\n",
    "for i in range(T):\n",
    "    N = int(input())\n",
    "    \n",
    "    if N == 0:\n",
    "        print(1, 0)\n",
    "    \n",
    "    elif N == 1:\n",
    "        print(0, 1)\n",
    "        \n",
    "    elif N > 1:\n",
    "        print(fibo(N-1), fibo(N))\n",
    "       "
   ]
  },
  {
   "cell_type": "markdown",
   "id": "prospective-billion",
   "metadata": {},
   "source": [
    "### 신나는 함수 실행\n",
    "- 문제 출처: [백준 9184번](https://www.acmicpc.net/problem/9184)"
   ]
  },
  {
   "cell_type": "code",
   "execution_count": 24,
   "id": "lesbian-smart",
   "metadata": {},
   "outputs": [
    {
     "name": "stdin",
     "output_type": "stream",
     "text": [
      " 1 1 1\n"
     ]
    },
    {
     "name": "stdout",
     "output_type": "stream",
     "text": [
      "w(1, 1, 1) = 2\n"
     ]
    },
    {
     "name": "stdin",
     "output_type": "stream",
     "text": [
      " 2 2 2\n"
     ]
    },
    {
     "name": "stdout",
     "output_type": "stream",
     "text": [
      "w(2, 2, 2) = 4\n"
     ]
    },
    {
     "name": "stdin",
     "output_type": "stream",
     "text": [
      " 10 4 6\n"
     ]
    },
    {
     "name": "stdout",
     "output_type": "stream",
     "text": [
      "w(10, 4, 6) = 523\n"
     ]
    },
    {
     "name": "stdin",
     "output_type": "stream",
     "text": [
      " 50 50 50\n"
     ]
    },
    {
     "name": "stdout",
     "output_type": "stream",
     "text": [
      "w(50, 50, 50) = 1048576\n"
     ]
    },
    {
     "name": "stdin",
     "output_type": "stream",
     "text": [
      " -1 7 18\n"
     ]
    },
    {
     "name": "stdout",
     "output_type": "stream",
     "text": [
      "w(-1, 7, 18) = 1\n"
     ]
    },
    {
     "name": "stdin",
     "output_type": "stream",
     "text": [
      " -1 -1 -1\n"
     ]
    }
   ],
   "source": [
    "w_dict = {(0,0,0):1}\n",
    "\n",
    "def w(a, b, c):\n",
    "    if (a, b, c) in w_dict:\n",
    "        return w_dict[(a, b, c)]\n",
    "    \n",
    "    if a <= 0 or b <= 0 or c <= 0:\n",
    "        return 1\n",
    "\n",
    "    elif a > 20 or b > 20 or c > 20:\n",
    "        return w(20, 20, 20)\n",
    "\n",
    "    elif a < b and b < c:\n",
    "        w_dict[(a, b, c)] = w(a, b, c-1) + w(a, b-1, c-1) - w(a, b-1, c)\n",
    "\n",
    "    else:\n",
    "        w_dict[(a, b, c)] =  w(a-1, b, c) + w(a-1, b-1, c) + w(a-1, b, c-1) - w(a-1, b-1, c-1)\n",
    "    \n",
    "    return w_dict[(a, b, c)]\n",
    "\n",
    "while True:\n",
    "    A, B, C = map(int, input().split())\n",
    "    \n",
    "    if A == B == C == -1:\n",
    "        break\n",
    "    \n",
    "    print('w(%s, %s, %s) = %s' % (A, B, C, w(A, B, C)))"
   ]
  },
  {
   "cell_type": "markdown",
   "id": "thermal-christopher",
   "metadata": {},
   "source": [
    "### 파도반 수열\n",
    "- 문제 출처: [백준 9461번](https://www.acmicpc.net/problem/9461)"
   ]
  },
  {
   "cell_type": "markdown",
   "id": "resistant-firewall",
   "metadata": {},
   "source": [
    "`-` 점화식: $f(n) = f(n-2)+f(n-3)$"
   ]
  },
  {
   "cell_type": "code",
   "execution_count": 25,
   "id": "finnish-subdivision",
   "metadata": {},
   "outputs": [
    {
     "name": "stdin",
     "output_type": "stream",
     "text": [
      " 2\n",
      " 6\n"
     ]
    },
    {
     "name": "stdout",
     "output_type": "stream",
     "text": [
      "3\n"
     ]
    },
    {
     "name": "stdin",
     "output_type": "stream",
     "text": [
      " 12\n"
     ]
    },
    {
     "name": "stdout",
     "output_type": "stream",
     "text": [
      "16\n"
     ]
    }
   ],
   "source": [
    "padoban_sequence_dict = {1:1, 2:1, 3:1}\n",
    "\n",
    "def padoban_sequence(n):\n",
    "    if n in padoban_sequence_dict:\n",
    "        return padoban_sequence_dict[n]\n",
    "    \n",
    "    padoban_sequence_dict[n] = padoban_sequence(n-3) + padoban_sequence(n-2)\n",
    "    \n",
    "    return  padoban_sequence_dict[n]\n",
    "\n",
    "T = int(input())\n",
    "for _ in range(T):\n",
    "    N = int(input())\n",
    "    print(padoban_sequence(N))"
   ]
  },
  {
   "cell_type": "markdown",
   "id": "architectural-teens",
   "metadata": {},
   "source": [
    "### 01타일\n",
    "- 문제 출처: [백준 1904번](https://www.acmicpc.net/problem/1904)"
   ]
  },
  {
   "cell_type": "markdown",
   "id": "periodic-container",
   "metadata": {},
   "source": [
    "`-` 점화식 노가다로 구했음 --> 만약 노가다로 찾을 수 없는 문제를 해결해야 한다면...\n",
    "\n",
    "`-` 피보나치 수열의 점화식과 동일함\n",
    "\n",
    "`-` 점화식: $f(n) = f(n-1) + f(n-2)$"
   ]
  },
  {
   "cell_type": "markdown",
   "id": "successful-radio",
   "metadata": {},
   "source": [
    "- 이 코드는 재귀함수를 사용해 top-down으로 구현함\n",
    "\n",
    "`-` RecursionError 발생 --> 재귀 깊이 초과\n",
    "\n",
    "`-` 그래서 재귀 깊이를 크게 하려고 했는데 조건을 보니 N이 최대 $10^6$ 이다\n",
    "\n",
    "`-` 그래서 그냥 bottom-up방식으로 코드를 짜기로 함\n",
    "\n",
    "`-` 재귀 깊이를 크게 했더니 --> 시간 초과"
   ]
  },
  {
   "cell_type": "markdown",
   "id": "higher-patio",
   "metadata": {},
   "source": [
    "- top-down 코드"
   ]
  },
  {
   "cell_type": "code",
   "execution_count": 31,
   "id": "bizarre-malaysia",
   "metadata": {},
   "outputs": [
    {
     "name": "stdin",
     "output_type": "stream",
     "text": [
      " 4\n"
     ]
    },
    {
     "name": "stdout",
     "output_type": "stream",
     "text": [
      "5\n"
     ]
    }
   ],
   "source": [
    "\n",
    "tile_dict = {1:1, 2:2}\n",
    "\n",
    "def tile(n):\n",
    "    if n in tile_dict:\n",
    "        return tile_dict[n]\n",
    "    \n",
    "    tile_dict[n] = tile(n-1) + tile(n-2)\n",
    "    \n",
    "    return tile_dict[n]\n",
    "\n",
    "N = int(input())\n",
    "print((tile(N) % 15746))\n",
    "    "
   ]
  },
  {
   "cell_type": "markdown",
   "id": "sensitive-labor",
   "metadata": {},
   "source": [
    "- bottom-up 코드"
   ]
  },
  {
   "cell_type": "markdown",
   "id": "proprietary-comparative",
   "metadata": {},
   "source": [
    "`-` 메모리 초과 --> 왜? 이유 모름 "
   ]
  },
  {
   "cell_type": "code",
   "execution_count": 42,
   "id": "occupational-employee",
   "metadata": {},
   "outputs": [
    {
     "name": "stdin",
     "output_type": "stream",
     "text": [
      " 4\n"
     ]
    },
    {
     "name": "stdout",
     "output_type": "stream",
     "text": [
      "5\n"
     ]
    }
   ],
   "source": [
    "N = int(input())\n",
    "x = 10**6\n",
    "tile_list = [1, 1, 2] + [0]*(x-2)\n",
    "\n",
    "for i in range(3, N+1):\n",
    "    tile_list[i] = tile_list[i-1] + tile_list[i-2]\n",
    "\n",
    "print((tile_list[N] % 15746))"
   ]
  },
  {
   "cell_type": "markdown",
   "id": "incorrect-local",
   "metadata": {},
   "source": [
    "`-` 그래서 다른 방법으로 코드 구현했음"
   ]
  },
  {
   "cell_type": "markdown",
   "id": "italic-diversity",
   "metadata": {},
   "source": [
    "`-` 시간 초과(0.75초) --> 왜?"
   ]
  },
  {
   "cell_type": "code",
   "execution_count": 52,
   "id": "productive-federation",
   "metadata": {},
   "outputs": [
    {
     "name": "stdin",
     "output_type": "stream",
     "text": [
      " 4\n"
     ]
    },
    {
     "name": "stdout",
     "output_type": "stream",
     "text": [
      "5\n"
     ]
    }
   ],
   "source": [
    "N = int(input())\n",
    "\n",
    "if N <= 2:\n",
    "    print(N)\n",
    "    \n",
    "else:\n",
    "    fir = 1\n",
    "    sec = 2\n",
    "    for i in range(N-2):\n",
    "        next_ = fir + sec\n",
    "        fir = sec\n",
    "        sec = next_\n",
    "    print(next_ % 15746)"
   ]
  },
  {
   "cell_type": "markdown",
   "id": "going-alarm",
   "metadata": {},
   "source": [
    "`-` 참고: [https://m.blog.naver.com/hankrah/221863365092](https://m.blog.naver.com/hankrah/221863365092)\n",
    "\n",
    "`-` map()함수 사용\n",
    "\n",
    "`-` 메모리 초과 --> append() 때문인 듯"
   ]
  },
  {
   "cell_type": "code",
   "execution_count": 56,
   "id": "previous-hotel",
   "metadata": {},
   "outputs": [
    {
     "name": "stdin",
     "output_type": "stream",
     "text": [
      " 4\n"
     ]
    },
    {
     "data": {
      "text/plain": [
       "5"
      ]
     },
     "execution_count": 56,
     "metadata": {},
     "output_type": "execute_result"
    }
   ],
   "source": [
    "N = int(input())\n",
    "\n",
    "def fibonacci(n):\n",
    "    fibo = [1, 2]\n",
    "    [*map(lambda _: fibo.append(sum(fibo[-2:])), range(2, n))]  ## tuple unpacking\n",
    "    return fibo[n-1]\n",
    "\n",
    "print(fibonacci(N) % 15746)"
   ]
  },
  {
   "cell_type": "markdown",
   "id": "novel-novelty",
   "metadata": {},
   "source": [
    "`-` 아래 코드는 정답임\n",
    "\n",
    "`-` 일단 재귀 함수로 구현한 top-down방식은 시간이 오래걸린다\n",
    "\n",
    "`-` 그러므로 bottom-up 방식을 사용했다\n",
    "\n",
    "`-` 근데 메모리초과가 발생했다 --> 이유가 뭐지??\n",
    "\n",
    "`-` 처음엔 몰랐는데 생각해보니 나는 숫자를 다 계산한 다음에 15746으로 나눈 나머지를 구했다\n",
    "\n",
    "`-` N = 1000000 이라면 백만번째 피보나치 항의 값을 구하는 것인데 수가 얼마나 크나면 겁나 큼 --> 수가 너무 커서 메모리 터짐\n",
    "\n",
    "`-` 그래서 N 번째 피보나치 수열을 구한 뒤에 15746으로 나누지 않고 15746으로 나눈 값들을 더해나갔다 --> 이게 왜 성립함??\n",
    "\n",
    "`-` 편의를 위해 15746대신 7000을 쓰자\n",
    "\n",
    "`-` 다음은 피보나치 수열의 점화식과 같은 형태임\n",
    "\n",
    "`-` 10000 + 20000 = 30000, 20000 + 30000 = 50000\n",
    "\n",
    "`-` 일단 최종 결과인 50000을 7000으로 나눈 나머지는 1000 이다\n",
    "\n",
    "`-` 30000을 7000으로 나눈 나머지는 2000이다. 그러면 20000 + 30000 에서 30000 대신 2000을 써도 식이 성립할까?\n",
    "\n",
    "`-` 20000 + 2000 = 22000, 22000을 7000으로 나눈 나머지는 1000 이다 --> 식이 성립함\n",
    "\n",
    "`-` 왜 성립하냐면 50000을 7000으로 나눌 것인데 50000을 20000과 30000으로 쪼갤 수 있음\n",
    "\n",
    "`-` (20000 + 30000) % 7000은 20000을 7000으로 나눈 나머지와 30000을 7000으로 나눈 나머지를 더한 것임 --> 근데 더한 값이 7000보다 클 수 도 있으니 더한 값을 7000으로 또 나눠준다\n",
    "\n",
    "`-` 동그란 케잌으로 생각하자 한 번에 7000만큼의 케잌을 조각내어 퍼갈 수 있음(피자 8등분 하듯이 50000중에 7000만큼 조각 케잌 모양으로 퍼감) \n",
    "\n",
    "`-` 케잌크기가 50000이라면 7번 퍼가면 1000이 남는다\n",
    "\n",
    "`-` 근데 50000을 20000과 30000으로 나눈뒤에(50000만 크기의 동그란 케잌을 각각 20000, 30000크기인 반원형 케잌으로 cut) 20000에서 7000만큼 퍼가고 30000에서 7000만큼 퍼가도 된다\n",
    "\n",
    "`-` 20000에서 퍼가고 남은 케잌 조각과 30000에서 퍼가고 남은 케잌 조각을 합쳐서 다시 케잌을 만들고 이 케잌에서 7000을 퍼가면 결과적으로 50000에서 7000을 퍼간것과 동일함"
   ]
  },
  {
   "cell_type": "code",
   "execution_count": 57,
   "id": "following-travel",
   "metadata": {},
   "outputs": [
    {
     "name": "stdin",
     "output_type": "stream",
     "text": [
      " 4\n"
     ]
    },
    {
     "name": "stdout",
     "output_type": "stream",
     "text": [
      "5\n"
     ]
    }
   ],
   "source": [
    "N = int(input())\n",
    "x = 10**6\n",
    "tile_list = [0]*(x+1)\n",
    "tile_list[1] = 1\n",
    "tile_list[2] = 2\n",
    "\n",
    "\n",
    "for i in range(3, N+1):\n",
    "    tile_list[i] = (tile_list[i-1] + tile_list[i-2]) % 15746\n",
    "    \n",
    "print(tile_list[N])"
   ]
  },
  {
   "cell_type": "markdown",
   "id": "radical-experiment",
   "metadata": {},
   "source": [
    "### RGB거리\n",
    "- 문제 출처: [백준 1149번](https://www.acmicpc.net/problem/1149)"
   ]
  },
  {
   "cell_type": "markdown",
   "id": "aggregate-greece",
   "metadata": {},
   "source": [
    "`-` N = 10이라면 10개를 최소 비용으로 칠하는 방법은 9개까지 칠하는 방법이 여러개 있음(일단 $dp[9]$라고 하자) + 10번째 칠하는 방법은 3가지\n",
    "\n",
    "`-` $dp[9]+P_{10}$의 최소값이 $dp[10]$이 된다\n",
    "\n",
    "`-` 일반화하면 $min(dp[i-1]+P_i) = dp[i]$ --> 아닌듯\n",
    "\n",
    "`-` `위의 논리`는 `그리디 알고리즘`이다. 항상 최소가 되는 비용을 선택하면 전체적으로도 비용이 최소가 되기를 바라는 것이다 --> 하지만 틀렸다\n",
    "\n",
    "`-` $dp[10]$은 10개까지 색칠하는 여러 방법 => $min(dp[10]+P_{11}) \\to dp[11]$\n",
    "\n",
    "`-` $dp[11]$은 최소값 -> 100원이라 하자, 다음으로 싼게 110원\n",
    "\n",
    "`-` $dp[11]+P_{12} \\to dp[12]$ 이미 $dp[11]$이 최소값 --> 100원을 골라서 $dp[12]$는 200원임 다른건 뭐냐? 1원이 있고 1000원, 근데 1원은 이미 고른 색이어서 못 고름 \n",
    "\n",
    "`-` $dp[12]$는 200이 아니라 111원임 $dp[11]$이 최소지만 $dp[12]$는 최소가 아니었음 \n",
    "\n",
    "`-` 그럼 남음 방법 뭐임??\n",
    "\n",
    "`-` $dp[11]$을 최소값으로 골랐지만 $dp[12]$가 최소가 아닌 이유는 중복되는 색깔을 선택하지 못하기 때문\n",
    "\n",
    "`-` 그러면 $dp[11]$을 전체의 최소값으로 선택하지 말고 색깔마다 최소값을 고르자 --> 11번째 색이 각각 (빨,초,파)인 경우에 최소값을 구하자 --> 총 3가지가 존재함\n",
    "\n",
    "`-` 이제 $dp[12]$는 어떻게 구하냐면 $dp[11]$과 $P_{12}$의 조합이 총 6가지 존재\n",
    "\n",
    "`-` 6개 중에서 12번째 색이 빨, 파, 초가 존재하는데 각각 2개씩 있다 --> 각각 2개 중에서 더 적은 비용을 고른다\n",
    "\n",
    "`-` 그러면 이제 12번째 색이 빨, 파, 초 일때의 전체 비용의 최소값이 존재 --> $dp[12]$는 색깔별로 존재하니까 총 3개\n",
    "\n",
    "`-` 위와 같은 논리로 마지막 N번째까지 최소비용으로 선택하면 된다"
   ]
  },
  {
   "cell_type": "markdown",
   "id": "contrary-correlation",
   "metadata": {},
   "source": [
    "- 처음 짠 코드 \n",
    "\n",
    "`-` 이상한 값을 출력함\n",
    "\n",
    "`-` $dp[i+1][0]$의 의미는 i번째 색깔로 0을 선택했다는 의미임 --> 즉 house_prices[i][0] 이어야함\n",
    "\n",
    "`-` 근데 house_prices가 0이 아니라 $dp[i]$의 값을 0으로 선택했음 --> $dp[i][0]$ 이라면 $dp[i+1]$은 1 or 2이다. 0이 아님\n",
    "\n",
    "`-` 틀렸습니다 "
   ]
  },
  {
   "cell_type": "code",
   "execution_count": 15,
   "id": "single-heart",
   "metadata": {},
   "outputs": [
    {
     "name": "stdin",
     "output_type": "stream",
     "text": [
      " 3\n",
      " 26 40 83\n",
      " 49 60 57\n",
      " 13 89 99\n"
     ]
    },
    {
     "name": "stdout",
     "output_type": "stream",
     "text": [
      "102\n"
     ]
    }
   ],
   "source": [
    "N = int(input())\n",
    "\n",
    "house_prices = []\n",
    "\n",
    "for _ in range(N):\n",
    "    house_prices.append(list(map(int, input().split())))\n",
    "    \n",
    "dp = [[0]*3 for _ in range(1001)]\n",
    "dp[1] = house_prices[0]\n",
    "for i in range(1, N):\n",
    "    dp[i+1][0] = min(dp[i][0] + house_prices[i][1], dp[i][0] + house_prices[i][2])\n",
    "    dp[i+1][1] = min(dp[i][1] + house_prices[i][0], dp[i][1] + house_prices[i][2])\n",
    "    dp[i+1][2] = min(dp[i][2] + house_prices[i][0], dp[i][2] + house_prices[i][1])\n",
    "\n",
    "print(min(dp[N]))\n"
   ]
  },
  {
   "cell_type": "markdown",
   "id": "roman-motel",
   "metadata": {},
   "source": [
    "- 디버깅한 코드\n",
    "\n",
    "`-` 맞았습니다"
   ]
  },
  {
   "cell_type": "code",
   "execution_count": 14,
   "id": "statistical-shannon",
   "metadata": {},
   "outputs": [
    {
     "name": "stdin",
     "output_type": "stream",
     "text": [
      " 3\n",
      " 26 40 83\n",
      " 49 60 57\n",
      " 13 89 99\n"
     ]
    },
    {
     "name": "stdout",
     "output_type": "stream",
     "text": [
      "96\n"
     ]
    }
   ],
   "source": [
    "N = int(input())\n",
    "\n",
    "house_prices = []\n",
    "\n",
    "for _ in range(N):\n",
    "    house_prices.append(list(map(int, input().split())))\n",
    "    \n",
    "dp = [[0]*3 for _ in range(1001)]\n",
    "dp[1] = house_prices[0]\n",
    "for i in range(1, N):\n",
    "    dp[i+1][0] = min(dp[i][1] + house_prices[i][0], dp[i][2] + house_prices[i][0])\n",
    "    dp[i+1][1] = min(dp[i][0] + house_prices[i][1], dp[i][2] + house_prices[i][1])\n",
    "    dp[i+1][2] = min(dp[i][0] + house_prices[i][2], dp[i][1] + house_prices[i][2])\n",
    "print(min(dp[N]))"
   ]
  },
  {
   "cell_type": "markdown",
   "id": "multiple-publication",
   "metadata": {},
   "source": [
    "### 정수 삼각형\n",
    "- 문제 출처: [백준 1932번](https://www.acmicpc.net/problem/1932)"
   ]
  },
  {
   "cell_type": "markdown",
   "id": "aquatic-texas",
   "metadata": {},
   "source": [
    "`-` 위의 RGB 문제와 같은 매커니즘이다\n",
    "\n",
    "`-` 그리디 알고리즘으로 접근하면 주어진 조건하에 항상 최대값을 골라야 하지만 항상 최대값을 고른다고 전체가 최대가 되는 것이 아니다(선택에 제약이 있기 때문: 인접한 곳만 선택 가능)\n",
    "\n",
    "`-` 현재 n층 i번째에 위치하고 있다면 n+1층으로 내려갈 때 n+1층의 i번째 or i+1번째만 선택 가능\n",
    "\n",
    "`-` N = 4일 때 $dp[4]$는 무엇일까?\n",
    "\n",
    "`-` 4층은 칸이 4개가 존재 --> 이를 인덱스로 생각하면 0\\~3\n",
    "\n",
    "`-` 그러면 4층의 0번째, 4층의 1번째, 4층의 2번째, 4층의 3번째까지 가는 방법이 각각 여러개가 있을 것이다(대각선상에 존재하는 경우는 1개)\n",
    "\n",
    "`-` 그러면 각각 그 중에서 최대값을 선택함 --> 4층의 0번째까지 가는 방법 중 최대값, 4층의 1번째까지 가는 방법 중 최대값 ... --> 총 4개 존재함: 인덱스가 4개 이므로\n",
    "\n",
    "`-` 그 4가지 방법 중 최대값이 4층까지 가는 방법 중 가장 큰 값이다"
   ]
  },
  {
   "cell_type": "code",
   "execution_count": 19,
   "id": "toxic-moisture",
   "metadata": {},
   "outputs": [
    {
     "name": "stdin",
     "output_type": "stream",
     "text": [
      " 5\n",
      " 7\n",
      " 3 8 \n",
      " 8 1 0\n",
      " 2 7 4 4 \n",
      " 4 5 2 6 5\n"
     ]
    },
    {
     "name": "stdout",
     "output_type": "stream",
     "text": [
      "30\n"
     ]
    }
   ],
   "source": [
    "N = int(input())\n",
    "\n",
    "triangle = []\n",
    "\n",
    "for _ in range(N):\n",
    "    triangle.append(list(map(int, input().split())))\n",
    "    \n",
    "dp = [[0]*x for x in range(1,501)]\n",
    "\n",
    "dp[0][0] = triangle[0][0] ## 0층 꼭짓점\n",
    "\n",
    "## 1층은 왼쪽 대각선과 오른쪽 대각선만 존재하고 대각선 사이에는 데이터가 없어서 따로 처리했음\n",
    "\n",
    "if N > 1:\n",
    "    dp[1][0] = triangle[1][0] + dp[0][0] ## 왼쪽 대각선\n",
    "    dp[1][1] = triangle[1][1] + dp[0][0] ## 오른쪽 대각선\n",
    "\n",
    "for i in range(1, N-1):\n",
    "    for k in range(1, i+1):\n",
    "        dp[i+1][0] = dp[i][0] + triangle[i+1][0]  ## 왼쪽 대각선\n",
    "        dp[i+1][k] = max(dp[i][k-1]+triangle[i+1][k] , dp[i][k]+triangle[i+1][k]) ## 대각선 사이\n",
    "        dp[i+1][i+1] = dp[i][i] + triangle[i+1][i+1] ## 오른쪽 대각선\n",
    "        \n",
    "print(max(dp[N-1]))"
   ]
  },
  {
   "cell_type": "markdown",
   "id": "noble-picture",
   "metadata": {},
   "source": [
    "`-` 재채점 되어서 확인했더니 틀렸습니다 ---> N = 1일 때를 고려하지 않아 indexerror 발생\n",
    "\n",
    "`-` N = 1일 때를 고려하도록 수정했음 ---> 맞았습니다"
   ]
  },
  {
   "cell_type": "markdown",
   "id": "focal-reception",
   "metadata": {},
   "source": [
    "### 계단 오르기\n",
    "- 문제 출처: [백준 2579번](https://www.acmicpc.net/problem/2579)"
   ]
  },
  {
   "cell_type": "markdown",
   "id": "tribal-senate",
   "metadata": {},
   "source": [
    "`-` 계단은 최대 300개, 칸 마다 점수는 10000이하의 자연수\n",
    "\n",
    "`-` 도착 지점은 무조건 밟아야 한다\n",
    "\n",
    "`-` 그래서 출발 지점부터 시작하지말고 도착 지점부터 시작한다고 생각했음\n",
    "\n",
    "`-` $dp[i]$ --> 마지막으로 밟은 지점이 step의 i번째 인덱스일 때 점수가 최대가 되도록 하는 경로\n",
    "\n",
    "`-` $dp[i] = max(step[i] + dp[i-2] , step[i] + dp[i-1])$ --> 아닌듯, 연속해서 3번 밟을 수 없음. $step[i] + dp[i-2]$는 상관없지만 $step[i] + dp[i-1]$는 상관있음   \n",
    "\n",
    "`-` $dp[i] = max(step[i] + step[i-1] + dp[i-3]) , max(step[i] + step[i-2] + dp[i-3])$\n",
    "\n",
    "`-` i번째 계단을 밟는데 i-1번째 계단과 i-2번째 계단을 밟았는지 밟지않았는지가 중요하다\n",
    "\n",
    "`-` 만약 i-1번째와 i-2번째 계단을 둘다 밟았다면 i번째 계단을 밟을 수 없다\n",
    "\n",
    "`-` 만약 i-1번째나 i-2번째 계단 중 한 곳만 밟았다면 i번째 계단을 밟을 수 있다\n",
    "\n",
    "`-` 만약 i-1번째나 i-2번째 계단을 둘다 밟지 않았으면 i번째 계단을 밟을 수 없다\n",
    "\n",
    "`-` 하나하나씩 써보자\n",
    "\n",
    "`-` $dp[0]$ = 도착 지점의 점수\n",
    "\n",
    "`-` $dp[1] = step[1]$ (0번쨰 계단 안밟음) , $step[1] + dp[0]$ (0번째 계단 밟음)\n",
    "\n",
    "`-` $dp[2] = step[2] + dp[0]$ (1번쨰 계단 안밟음, 0번째 계단 밟음), $step[2] + dp[1] (= step[1])$ (1번째 계단 밟음, 0번째 계단 안밟음)\n",
    "\n",
    "`-` $dp[3] = step[3] + dp[2] (= step[2] + dp[0])$ (2번쨰 계단 밟음, 1번째 계단 안밟음), $step[3] + dp[1] (= step[3] + dp[1] = max(step[1], step[1] + dp[0])$ (2번쨰 계단 안밟음, 1번째 계단 밟음) \n",
    "\n",
    "`-` 위에 틀린 부분이 있음, 규칙상 0번째 계단(도착 지점)은 무조건 밟아야 하는데 $dp[1](= step[1])$, $dp[2](= step[2] + step[1])$ 은 0번째 계단을 밟지 않았으므로 제외해야 함"
   ]
  },
  {
   "cell_type": "code",
   "execution_count": 57,
   "id": "coastal-wealth",
   "metadata": {},
   "outputs": [
    {
     "name": "stdin",
     "output_type": "stream",
     "text": [
      " 6\n",
      " 10\n",
      " 20\n",
      " 15\n",
      " 25\n",
      " 10\n",
      " 20\n"
     ]
    },
    {
     "name": "stdout",
     "output_type": "stream",
     "text": [
      "75\n"
     ]
    }
   ],
   "source": [
    "N = int(input())\n",
    "\n",
    "step = []\n",
    "for _ in range(N):\n",
    "    step.append(int(input()))\n",
    "\n",
    "step.reverse() ## 도착부터 시작할거임 --> 미로찾기할 때 출발부터 시작안하고 도착부터 시작하듯이\n",
    "\n",
    "dp = [[0] * 2 for _ in range(300)] ## dp[i][0] => i-1번째를 밟고 i-2번째를 안밟음, dp[i][1] => i-1번째를 안밟고 i-2번째를 밟음\n",
    "\n",
    "dp[0][0] = step[0]\n",
    "dp[0][1] = step[0]\n",
    "\n",
    "if N >= 2:\n",
    "    dp[1][0] = step[1] + step[0]\n",
    "    dp[1][1] = -(3*10**6) ## 0번째 계단은 무조건 밟아야 하는데 dp[1][1]은 0번째 계단을 안 밟음 --> 그래서 의도적으로 dp[1][1]을 경유하면 절대로 최대값이 나오지 안도록 값을 조정함\n",
    "\n",
    "if N >= 3:\n",
    "    dp[2][0] = -(3*10**6) ## dp[1][1]과 마찬가지임\n",
    "    dp[2][1] = step[2] + step[0]\n",
    "    \n",
    "for i in range(3, N):\n",
    "    dp[i][0] = step[i] + dp[i-1][1]\n",
    "    dp[i][1] = step[i] + max(dp[i-2][0], dp[i-2][1])\n",
    "    \n",
    "print(max(dp[N-1][0], dp[N-1][1], dp[N-2][0], dp[N-2][1])) ## 출발지점을 밟는 길과 밟지 않는 길 중에서 점수 획득이 가장 높은 것을 선택"
   ]
  },
  {
   "cell_type": "markdown",
   "id": "declared-irish",
   "metadata": {},
   "source": [
    "### 1로 만들기\n",
    "- 문제 출처: [백준 1463번](https://www.acmicpc.net/problem/1463)\n",
    "\n",
    "`-` 일단 내 생각: 3으로 나누는 것이 수를 1로 만드는데 가장 효과적이라 생각했음\n",
    "\n",
    "`-` 그래서 일단 3으로 나눈다 --> 만약 3으로 나눠지지 않는다면??\n",
    "\n",
    "`-` 만약 1을 뺀 값이 3으로 나눠지면 1을 뺀다 --> 그렇지 않다면 2로 나눈다 --> 만약 2로도 나눠지지 않는다면?\n",
    "\n",
    "`-` 1을 뺀다\n",
    "\n",
    "`-` 만약 2의 거듭제곱수이면 2로만 나누기\n",
    "\n",
    "`-` 틀렸습니다"
   ]
  },
  {
   "cell_type": "markdown",
   "id": "hindu-hungary",
   "metadata": {},
   "source": [
    "```python\n",
    "num = N = int(input())\n",
    "numbers = [0]*(1+10**6)\n",
    "\n",
    "power_of_2 = {}\n",
    "i = 2\n",
    "j = 1\n",
    "\n",
    "while i < 10**6:\n",
    "    power_of_2[i] = j\n",
    "    j += 1\n",
    "    i *= 2\n",
    "\n",
    "while True:\n",
    "    if num < 2:\n",
    "        break\n",
    "    \n",
    "    if num in power_of_2:\n",
    "        numbers[1] = numbers[num] + power_of_2[num]\n",
    "        break\n",
    "        \n",
    "    if num % 3 == 0:\n",
    "        now_num = num // 3\n",
    "        \n",
    "        if numbers[now_num] == 0:\n",
    "            numbers[now_num] += 1 + numbers[num]\n",
    "            \n",
    "        elif numbers[now_num] > 0:\n",
    "            numbers[now_num] = min(numbers[num] + 1, numbers[now_num])\n",
    "            \n",
    "        num = now_num\n",
    "        continue\n",
    "        \n",
    "    elif (num-1) % 3 == 0:\n",
    "        now_num = num - 1\n",
    "        \n",
    "        if numbers[now_num] == 0:\n",
    "            numbers[now_num] += 1 + numbers[num]\n",
    "            \n",
    "        elif numbers[now_num] > 0:\n",
    "            numbers[now_num] = min(numbers[num] + 1, numbers[now_num])\n",
    "            \n",
    "        num = now_num\n",
    "        continue\n",
    "        \n",
    "    elif num % 2 == 0:\n",
    "        now_num = num // 2\n",
    "        \n",
    "        if numbers[now_num] == 0:\n",
    "            numbers[now_num] += 1 + numbers[num]\n",
    "            \n",
    "        elif numbers[now_num] > 0:\n",
    "            numbers[now_num] = min(numbers[num] + 1, numbers[now_num])\n",
    "            \n",
    "        num = now_num\n",
    "        continue\n",
    "       \n",
    "        \n",
    "    else:\n",
    "        now_num = num - 1\n",
    "        \n",
    "        if numbers[now_num] == 0:\n",
    "            numbers[now_num] += 1 + numbers[num]\n",
    "            \n",
    "        elif numbers[now_num] > 0:\n",
    "            numbers[now_num] = min(numbers[num] + 1, numbers[now_num])\n",
    "            \n",
    "        num = now_num\n",
    "        \n",
    "    if num < 2:\n",
    "        break\n",
    "    \n",
    "print(numbers[1])    \n",
    "```"
   ]
  },
  {
   "cell_type": "markdown",
   "id": "single-walnut",
   "metadata": {},
   "source": [
    "`-` 만약 number가 소인수로 2와 3만을 가지는 시점이 온다면?\n",
    "\n",
    "`-` $number = 2^a\\cdot 3^b$ \n",
    "\n",
    "`-` 1까지 만드려면 2로 a번 나누고 3으로 b번 나누면 됨 --> a+b번 필요함\n",
    "\n",
    "`-` 그냥 모든 경우를 고려한다면?\n",
    "\n",
    "`-` N이 주어지면 N을 3으로 나누고 2로 나누고 1을 뺀다\n",
    "\n",
    "`-` 각각에 대해서 또 다시 3으로 나누고 2로 나누고 1을 뺀다\n",
    "\n",
    "`-` 이를 1이 될 때까지 반복\n",
    "\n",
    "`-` 음... 어떻게 함? 재귀로?\n",
    "\n",
    "`-` 디버깅 중...\n",
    "\n",
    "`-` 근데 위와 같이 하면 $N = 10^6$일 때 연산횟수가 커서 시간초과가 발생할 것 같음"
   ]
  },
  {
   "cell_type": "markdown",
   "id": "given-database",
   "metadata": {},
   "source": [
    "```python\n",
    "\n",
    "## 시간초과 ##\n",
    "N = int(input())\n",
    "numbers = [0]*(1+10**6)\n",
    "\n",
    "def divide3(x):\n",
    "    if x == 1:\n",
    "        return numbers[1]\n",
    "        \n",
    "    if x % 3 == 0:\n",
    "        if numbers[x // 3] == 0:\n",
    "            numbers[x // 3] += (numbers[x] + 1)\n",
    "            \n",
    "        else:\n",
    "            numbers[x // 3] = min(numbers[x] + 1, numbers[x // 3])\n",
    "                                  \n",
    "        x //= 3 \n",
    "        divide3(x)\n",
    "        \n",
    "    if x % 2 == 0:\n",
    "        divide2(x)\n",
    "        \n",
    "    sub1(x)\n",
    "    \n",
    "         \n",
    "def divide2(y): \n",
    "    if y == 1:\n",
    "        return numbers[1]\n",
    "    \n",
    "    if y % 2 == 0:\n",
    "        if numbers[y // 2] == 0:\n",
    "            numbers[y // 2] += (numbers[y] + 1)\n",
    "            \n",
    "        else:\n",
    "            numbers[y // 2] = min(numbers[y] + 1, numbers[y // 2])\n",
    "                                  \n",
    "        y //= 2 \n",
    "        divide2(y)\n",
    "        \n",
    "    if y % 3 == 0:\n",
    "        divide3(y)\n",
    "        \n",
    "    sub1(y)\n",
    "    \n",
    "        \n",
    "def sub1(z):\n",
    "    if z == 1:\n",
    "        return numbers[1]\n",
    "    \n",
    "    if z > 1:\n",
    "        if numbers[z-1] == 0:\n",
    "            numbers[z-1] += (numbers[z] + 1)\n",
    "            \n",
    "        else:\n",
    "            numbers[z-1] = min(numbers[z] + 1, numbers[z-1])\n",
    "                                  \n",
    "        z -= 1 \n",
    "    \n",
    "    if z % 3 == 0:\n",
    "        divide3(z)\n",
    "            \n",
    "    if z % 2 == 0:\n",
    "        divide2(z)\n",
    "        \n",
    "    sub1(z)\n",
    "    \n",
    "divide3(N)\n",
    "divide2(N)\n",
    "sub1(N)\n",
    "\n",
    "print(numbers[1])\n",
    "```"
   ]
  },
  {
   "cell_type": "markdown",
   "id": "vulnerable-oracle",
   "metadata": {},
   "source": [
    "`-` 굳이 1을 빼야할까?\n",
    "\n",
    "`-` 2나 3으로 나눠지지 않을 때만 1을 빼는 것이 좋을 것 같음\n",
    "\n",
    "`-` 하지만 10에 경우 위와 같이 하면 10 - 5 - 4 - 2 - 1\n",
    "\n",
    "`-` 정답은 10 - 9 - 3 - 1\n",
    "\n",
    "`-` 만약 1을 뺀 값이 $2^a\\cdot 3^b$ 꼴이라면 1을 빼자"
   ]
  },
  {
   "cell_type": "markdown",
   "id": "referenced-directory",
   "metadata": {},
   "source": [
    "- 이것도 틀리면 질문검색 볼거임\n",
    "\n",
    "`-` 5%에서 틀렸습니다...."
   ]
  },
  {
   "cell_type": "markdown",
   "id": "particular-diamond",
   "metadata": {},
   "source": [
    "```python\n",
    "num = N = int(input())\n",
    "numbers = [0]*(1+10**6)\n",
    "\n",
    "mul_2_3 = {}\n",
    "\n",
    "power_of_2 = {}\n",
    "i = 2\n",
    "j = 1\n",
    "\n",
    "while i < 10**6:\n",
    "    power_of_2[i] = j\n",
    "    j += 1\n",
    "    i *= 2\n",
    "    \n",
    "power_of_3 = {}\n",
    "i = 3\n",
    "j = 1\n",
    "\n",
    "while i < 10**6:\n",
    "    power_of_3[i] = j\n",
    "    j += 1\n",
    "    i *= 3\n",
    "    \n",
    "for i in range(1,13):\n",
    "    for j in range(1,20):\n",
    "        if list(power_of_3.keys())[i-1] * list(power_of_2.keys())[j-1] < 10**6:\n",
    "            mul_2_3[list(power_of_3.keys())[i-1] * list(power_of_2.keys())[j-1]] = i+j \n",
    "\n",
    "mul_2_3.update(power_of_2)\n",
    "mul_2_3.update(power_of_3)\n",
    "\n",
    "while True:\n",
    "    if num < 2:\n",
    "        break\n",
    "    \n",
    "    if num in mul_2_3:\n",
    "        numbers[1] = numbers[num] + mul_2_3[num]\n",
    "        break\n",
    "        \n",
    "    if num % 3 == 0:\n",
    "        now_num = num // 3\n",
    "        \n",
    "        if numbers[now_num] == 0:\n",
    "            numbers[now_num] += 1 + numbers[num]\n",
    "            \n",
    "        elif numbers[now_num] > 0:\n",
    "            numbers[now_num] = min(numbers[num] + 1, numbers[now_num])\n",
    "            \n",
    "        num = now_num\n",
    "        continue\n",
    "        \n",
    "    elif (num-1) in mul_2_3:\n",
    "        now_num = num - 1\n",
    "        \n",
    "        if numbers[now_num] == 0:\n",
    "            numbers[now_num] += 1 + numbers[num]\n",
    "            \n",
    "        elif numbers[now_num] > 0:\n",
    "            numbers[now_num] = min(numbers[num] + 1, numbers[now_num])\n",
    "            \n",
    "        num = now_num\n",
    "        continue\n",
    "        \n",
    "    elif num % 2 == 0:\n",
    "        now_num = num // 2\n",
    "        \n",
    "        if numbers[now_num] == 0:\n",
    "            numbers[now_num] += 1 + numbers[num]\n",
    "            \n",
    "        elif numbers[now_num] > 0:\n",
    "            numbers[now_num] = min(numbers[num] + 1, numbers[now_num])\n",
    "            \n",
    "        num = now_num\n",
    "        continue\n",
    "       \n",
    "        \n",
    "    else:\n",
    "        now_num = num - 1\n",
    "        \n",
    "        if numbers[now_num] == 0:\n",
    "            numbers[now_num] += 1 + numbers[num]\n",
    "            \n",
    "        elif numbers[now_num] > 0:\n",
    "            numbers[now_num] = min(numbers[num] + 1, numbers[now_num])\n",
    "            \n",
    "        num = now_num\n",
    "        \n",
    "    if num < 2:\n",
    "        break\n",
    "    \n",
    "print(numbers[1])    \n",
    "```"
   ]
  },
  {
   "cell_type": "markdown",
   "id": "median-projection",
   "metadata": {},
   "source": [
    "`-` 질문검색 보고 옴 ---> 모든 경우를 탐색해 보자\n",
    "\n",
    "`-` 맞았습니다!!!\n",
    "\n",
    "`-` 위에서는 어렵게 생각했는지 모든 경우를 탐색하는 코드를 각각의 경우에 대해서 설계했는데 밑에서는 i의 값을 1씩 줄여나가면서 3가지 경우에 대해 탐색하도록 코드를 구성했음"
   ]
  },
  {
   "cell_type": "code",
   "execution_count": 38,
   "id": "nonprofit-continent",
   "metadata": {},
   "outputs": [
    {
     "name": "stdin",
     "output_type": "stream",
     "text": [
      " 11\n"
     ]
    },
    {
     "name": "stdout",
     "output_type": "stream",
     "text": [
      "4\n"
     ]
    }
   ],
   "source": [
    "i = N = int(input())\n",
    "dp = [0]*(1+10**6)\n",
    "\n",
    "while i > 1:\n",
    "    if i % 3 == 0:\n",
    "        if dp[i // 3] == 0:\n",
    "            dp[i // 3] += (1 + dp[i])\n",
    "            \n",
    "        else:\n",
    "            dp[i // 3] = min(dp[i] + 1, dp[i // 3])\n",
    "            \n",
    "    if i % 2 == 0:\n",
    "        if dp[i // 2] == 0:\n",
    "            dp[i // 2] += (1 + dp[i])\n",
    "            \n",
    "        else:\n",
    "            dp[i // 2] = min(dp[i] + 1, dp[i // 2])\n",
    "            \n",
    " \n",
    "    if dp[i-1] == 0:\n",
    "        dp[i-1] += (1 + dp[i])\n",
    "            \n",
    "    else:\n",
    "        dp[i-1] = min(dp[i] + 1, dp[i-1])\n",
    "    \n",
    "    i -= 1\n",
    "    \n",
    "print(dp[1])"
   ]
  },
  {
   "cell_type": "markdown",
   "id": "equal-criminal",
   "metadata": {},
   "source": [
    "### 쉬운 계단 수\n",
    "- 문제 출처: [백준10844번](https://www.acmicpc.net/problem/10844)"
   ]
  },
  {
   "cell_type": "markdown",
   "id": "serial-titanium",
   "metadata": {},
   "source": [
    "`-` N = 1일 때 9, N = 2일 때 17\n",
    "\n",
    "`-` N = 3일 때 32이었음(내가 손수 구함)\n",
    "\n",
    "`-` 다음과 같은 규칙이 바로 생각났음 ---> $dp[i+1] = 2\\times dp[i] - 2^{i-1}$ \n",
    "\n",
    "`-` 위 규칙에 따르면 N = 4일 때 60인데 손수 구할 용기가 안나서 검증없이 바로 코드로 구현함\n",
    "\n",
    "`-` ^^ 틀렸습니다\n",
    "\n",
    "`-` i가 어느 정도 커지면 음수가 된다\n",
    "\n",
    "`-` 규칙을 바꿔봄 ---> $dp[i+1] = 2\\times dp[i] - i$ \n",
    "\n",
    "`-` 일단 위의 규칙은 음수가 될 일은 절대 없음\n",
    "\n",
    "`-` 위 규칙에 따르면 N = 4일 때 61인데 손수 구할 용기가 안나서 검증없이 바로 코드로 구현함\n",
    "\n",
    "`-` 틀렸습니다 ^^\n",
    "\n",
    "`-` 이제  N = 4일 때 dp를 구해보자 ---> 손수 구해보니 N = 4일 때 61임 !!!! ---> 규칙이 틀렸나?\n",
    "\n",
    "`-` 일단 직관적으로 생각하면 $dp[i] = 2^{i-1}*9$\n",
    "\n",
    "`-` 왜냐하면 옆 자릿수와 차이가 1이여야 하므로 +1 or -1임 즉 2가지 경우이므로 2를 계속 곱하고 숫자가 1\\~9까지 9개이므로 9를 곱합\n",
    "\n",
    "`-` 하지만 9에 경우 -1은 가능하지만 +1은 없음 또 0에 경우 +1은 가능하지만 -1은 존재하지 않는다 ---> 차이만큼 빼줘야함\n",
    "\n",
    "`-` 위에 기반하면 N = 1: 9 - 0, N = 2: 18 - 1, N = 3: 36 - 4, N = 4: 72 - 11 ---> 규칙이 보이지 않음\n",
    "\n",
    "`-` 그리고 또 2자리는 1자리에 기반하여 만들고 3자리는 2자리에 기반하여 만듦 ex) 23 --> 232 or 234, 232 --> 2321 or 2323\n",
    "\n",
    "`-` N = 5일 때 118인지 확인할까?"
   ]
  },
  {
   "cell_type": "markdown",
   "id": "italian-election",
   "metadata": {},
   "source": [
    "```python\n",
    "N = int(input())\n",
    "dp = [0]*101\n",
    "dp[1] = 9\n",
    "\n",
    "for i in range(1, 100):\n",
    "    dp[i+1] = (2*dp[i] - i) % 1000000000\n",
    "    \n",
    "print(dp[N])\n",
    "```"
   ]
  },
  {
   "cell_type": "markdown",
   "id": "perfect-berkeley",
   "metadata": {},
   "source": [
    "`-` 질문검색 보고옴\n",
    "\n",
    "`-` 코드 대충 봐보니 i-1번째에 기반하여 i번째를 만드는 것 같았음\n",
    "\n",
    "`-` 끝자리가 0이나 9인 경우에는 다음 자리에 올 수 있는 숫자가 1개 뿐이므로 이를 고려하여 코드를 구성하자\n",
    "\n",
    "`-` 아니면 끝자리가 0\\~9 까지 10개이므로 배열을 10칸으로 만들자\n",
    "\n",
    "`-` $dp[i][j]$의 의미는 자릿수가 i인데 끝자리가 j인 경우임"
   ]
  },
  {
   "cell_type": "code",
   "execution_count": 103,
   "id": "turkish-palace",
   "metadata": {},
   "outputs": [
    {
     "name": "stdin",
     "output_type": "stream",
     "text": [
      " 5\n"
     ]
    },
    {
     "name": "stdout",
     "output_type": "stream",
     "text": [
      "116\n"
     ]
    }
   ],
   "source": [
    "N = int(input())\n",
    "dp = [[0]*10 for _ in range(101)]\n",
    "\n",
    "for k in range(1, 10):\n",
    "    dp[1][k] = 1\n",
    "    \n",
    "    \n",
    "for i in range(1, 100):\n",
    "    for j in range(10):\n",
    "        if j == 0:\n",
    "            dp[i+1][j] = dp[i][j+1] % 1000000000\n",
    "            \n",
    "        elif j == 9:\n",
    "            dp[i+1][j] = dp[i][j-1] % 1000000000\n",
    "            \n",
    "        else:\n",
    "            dp[i+1][j] = (dp[i][j+1] + dp[i][j-1]) % 1000000000\n",
    "            \n",
    "print(sum(dp[N]) % 1000000000)"
   ]
  },
  {
   "cell_type": "markdown",
   "id": "japanese-married",
   "metadata": {},
   "source": [
    "`-` 흐음 질문검색에서 아이디어를 가져온거라 정답을 맞춘게 맞춘게 아님\n",
    "\n",
    "`-` 옛날이었으면 풀었을 듯... 요새 안하다보니 감이 떨어짐"
   ]
  },
  {
   "cell_type": "markdown",
   "id": "specified-breach",
   "metadata": {},
   "source": [
    "### 포도주 시식\n",
    "- 문제 출처: [백준 2156번](https://www.acmicpc.net/problem/2156)\n",
    "\n",
    "`-` 문제를 보자마자 전에 풀었던 [계단오르기](https://www.acmicpc.net/problem/2579)와 유사하다고 생각이 들었음\n",
    "\n",
    "`-` $dp[i]$는 두 종류가 있음 ---> i-1번째 와인을 마신 경우와 i-1번째 와인을 마시지 않은 경우 ---> 두 경우 중 최대값이 $dp[i]$임\n",
    "\n",
    "`-` $dp[i][1] = wines[i] + dp[i-1][0]$\n",
    "\n",
    "`-` $dp[i][0] = max(wines[i] + dp[i-2][0], wines[i] + dp[i-2][1], wines[i] + dp[i-3][1])$\n",
    "\n",
    "`-` $dp[i][0]$은 i-1번째 와인을 마시지 않은 경우\n",
    "\n",
    "`-` $dp[i][1]$는 i-1번째 와인을 마신 경우"
   ]
  },
  {
   "cell_type": "code",
   "execution_count": 16,
   "id": "union-agreement",
   "metadata": {},
   "outputs": [
    {
     "name": "stdin",
     "output_type": "stream",
     "text": [
      " 6\n",
      " 6\n",
      " 10\n",
      " 13\n",
      " 9\n",
      " 8\n",
      " 1\n"
     ]
    },
    {
     "name": "stdout",
     "output_type": "stream",
     "text": [
      "33\n"
     ]
    }
   ],
   "source": [
    "N = int(input())\n",
    "dp = [[0] * 2 for __ in range(10001)]\n",
    "wines = [0]\n",
    "\n",
    "for _ in range(N):\n",
    "    wine = int(input())\n",
    "    wines.append(wine)\n",
    "    \n",
    "dp[1][0] = wines[1]\n",
    "dp[1][1] = wines[1] + wines[0]\n",
    "\n",
    "if N > 1:\n",
    "    dp[2][0] = wines[2] \n",
    "    dp[2][1] = wines[2] + wines[1]\n",
    "\n",
    "    \n",
    "for i in range(3, N+1):\n",
    "    dp[i][0] = max(wines[i] + dp[i-2][0], wines[i] + dp[i-2][1], wines[i] + dp[i-3][1])\n",
    "                   \n",
    "    dp[i][1] = wines[i] + dp[i-1][0] \n",
    "\n",
    "print(max(dp[N][0], dp[N][1], dp[N-1][1]))"
   ]
  },
  {
   "cell_type": "markdown",
   "id": "formal-lighting",
   "metadata": {},
   "source": [
    "### 가장 긴 증가하는 부분 수열\n",
    "- 문제 출처: [백준 11053번](https://www.acmicpc.net/problem/11053)"
   ]
  },
  {
   "cell_type": "markdown",
   "id": "biblical-kazakhstan",
   "metadata": {},
   "source": [
    "`-` 모르겠다 공부 ㄱㄱ\n",
    "\n",
    "`-` 공부하고 왔음\n",
    "\n",
    "`-` 수열A: 10, 20, 30, 11, 12, 13, 14, 40, 15, 16 이런 수열이 있다고 해보자\n",
    "\n",
    "`-` 위에서 다룬 수열을 A라고 해보자 \n",
    "\n",
    "`-` A[6] = 13, dp[6] = 4이다. dp[6] = 4라는 뜻은 A[6]이 마지막 원소이고 만약 수열A가 A[5]까지만 존재했다면 가장 긴 증가하는 부분 수열의 길이는 3이라는 의미이다\n",
    "\n",
    "`-` A[6]을 추가하는데 되도록이면 증가하는 부분 수열의 길이가 크면 좋음 ---> A[6]이 마지막 원소가 될 수 있는 여러개의 증가하는 부분 수열 중에서 길이가 가장 긴 것에 A[6]을 추가해야 함\n",
    "\n",
    "`-` 즉 dp[1]에서 dp[5]중에서 가장 큰 값에다 A[6]을 추가하여 새로운 dp[6]을 만듦 ---> `dp[i]는 i번째 인덱스 값을 수열의 마지막 원소로 가지는 증가하는 부분 수열 중 가장 길이가 긴 것`\n",
    "\n",
    "`-` 가장 긴 증가하는 부분 수열 점화식: $dp[n] = max(dp[i], dp[j], \\dots, dp[k]) + 1, \\quad (A[n] > A[i], A[j],\\dots,A[k]])$"
   ]
  },
  {
   "cell_type": "code",
   "execution_count": 47,
   "id": "alike-controversy",
   "metadata": {},
   "outputs": [
    {
     "name": "stdin",
     "output_type": "stream",
     "text": [
      " 16\n",
      " 1 8 3 9 2 2 4 1 6 4 10 10 9 7 7 6\n"
     ]
    },
    {
     "name": "stdout",
     "output_type": "stream",
     "text": [
      "5\n"
     ]
    }
   ],
   "source": [
    "N = int(input())\n",
    "dp = [0] * 1001\n",
    "\n",
    "data = list(map(int, input().split()))\n",
    "arr = [0] + data\n",
    "    \n",
    "for i in range(1, N+1):\n",
    "    for j in range(i):\n",
    "        if arr[i] > arr[j]:\n",
    "            dp[i] = max(dp[j] + 1, dp[i])\n",
    "\n",
    "print(max(dp))\n"
   ]
  },
  {
   "cell_type": "markdown",
   "id": "demographic-transportation",
   "metadata": {},
   "source": [
    "### 가장 긴 바이토닉 부분 수열\n",
    "- 문제 출처: [백준 11054번](https://www.acmicpc.net/problem/11054)"
   ]
  },
  {
   "cell_type": "markdown",
   "id": "french-standard",
   "metadata": {},
   "source": [
    "`-` 질문 검색에서 아이디어 참고함\n",
    "\n",
    "`-` 증가하는 부분 수열 + 감소하는 부분 수열 - 1(겹치는 부분)의 최댓값을 구하자\n",
    "\n",
    "`-` dp_up[n]은 n를 마지막 원소로 가지는 증가하는 부분 수열 중 길이가 가장 긴 것\n",
    "\n",
    "`-` dp_down[n]은 n를 첫번째 원소로 가지는 감소하는 부분 수열 중 길이가 가장 긴 것"
   ]
  },
  {
   "cell_type": "code",
   "execution_count": 38,
   "id": "outer-opinion",
   "metadata": {},
   "outputs": [
    {
     "name": "stdin",
     "output_type": "stream",
     "text": [
      " 10\n",
      " 1 5 2 1 4 3 4 5 2 1\n"
     ]
    },
    {
     "name": "stdout",
     "output_type": "stream",
     "text": [
      "7\n"
     ]
    }
   ],
   "source": [
    "N = int(input())\n",
    "dp_up = [0] * 1001\n",
    "dp_down = [1] * 1001\n",
    "\n",
    "data = list(map(int, input().split()))\n",
    "arr = [0] + data\n",
    "\n",
    "## 가징 긴 바이토닉 부분 수열\n",
    "\n",
    "for i in range(1, N+1):\n",
    "    for j in range(i):\n",
    "        if arr[i] > arr[j]:\n",
    "            dp_up[i] = max(dp_up[j] + 1, dp_up[i])\n",
    "\n",
    "for i in range(N, 0, -1):\n",
    "    for j in range(N, i, -1):\n",
    "        if arr[i] > arr[j]:\n",
    "            dp_down[i] = max(dp_down[j] + 1, dp_down[i])\n",
    "\n",
    "print(max(list(map(lambda x, y: x+y, dp_up, dp_down)))-1)"
   ]
  },
  {
   "cell_type": "markdown",
   "id": "animated-motivation",
   "metadata": {},
   "source": [
    "`-` 위에서 사용한 lambda 함수 간단히 참고"
   ]
  },
  {
   "cell_type": "code",
   "execution_count": 45,
   "id": "industrial-worship",
   "metadata": {},
   "outputs": [
    {
     "name": "stdout",
     "output_type": "stream",
     "text": [
      "10\n"
     ]
    }
   ],
   "source": [
    "a = [1, 2, 3, 4, 5]\n",
    "b = [10, 1 ,2, 3, 4]\n",
    "\n",
    "print(max(list(map(lambda x, y: x+y, a, b)))-1)"
   ]
  },
  {
   "cell_type": "markdown",
   "id": "biological-prophet",
   "metadata": {},
   "source": [
    "`-` 서로 동일한 index위치에 있는 값을 더한 후 최대값 - 1을 출력"
   ]
  },
  {
   "cell_type": "markdown",
   "id": "different-period",
   "metadata": {},
   "source": [
    "`-` 리스트 길이가 다르다면? "
   ]
  },
  {
   "cell_type": "code",
   "execution_count": 46,
   "id": "beneficial-economy",
   "metadata": {},
   "outputs": [
    {
     "name": "stdout",
     "output_type": "stream",
     "text": [
      "12\n"
     ]
    }
   ],
   "source": [
    "a = [1, 2, 3, 4, 5]\n",
    "b = [1 ,2, 10]\n",
    "\n",
    "print(max(list(map(lambda x, y: x+y, a, b)))-1)"
   ]
  },
  {
   "cell_type": "markdown",
   "id": "behind-corrections",
   "metadata": {},
   "source": [
    "`-` b는 길이가 3이어서 a의 4와 5 원소는 고려되지 않음"
   ]
  },
  {
   "cell_type": "markdown",
   "id": "pacific-buyer",
   "metadata": {},
   "source": [
    "### 전깃줄\n",
    "- 문제 출처: [백준 2565번](https://www.acmicpc.net/problem/2565)"
   ]
  },
  {
   "cell_type": "markdown",
   "id": "floppy-battery",
   "metadata": {},
   "source": [
    "`-` A와 B는 연결되어 있으므로 세트임\n",
    "\n",
    "`-` 우선 A, B에 대해 오름차순 정렬을 함(A, B 순서 바뀌어도 ok) ---> 전깃줄이 전봇대에 연결되는 위치는 전봇대 위에서부터 차례대로 번호가 매겨지므로\n",
    "\n",
    "`-` dp[n]은 n번째 전깃줄이 마지막에 위치하는 LIS임\n",
    "\n",
    "`-` n번째의 전깃줄은 n-1번째 전깃줄에 대해 A, B 각각 숫자가 커야함\n",
    "\n",
    "`-` dp 최대값을 구한 후 N에서 빼면 제거해야 할 전깃줄의 개수임"
   ]
  },
  {
   "cell_type": "code",
   "execution_count": 105,
   "id": "joint-trail",
   "metadata": {},
   "outputs": [
    {
     "name": "stdin",
     "output_type": "stream",
     "text": [
      " 8\n",
      " 1 8\n",
      " 3 9\n",
      " 2 2\n",
      " 4 1\n",
      " 6 4\n",
      " 10 10\n",
      " 9 7\n",
      " 7 6\n"
     ]
    },
    {
     "name": "stdout",
     "output_type": "stream",
     "text": [
      "3\n"
     ]
    }
   ],
   "source": [
    "N = int(input())\n",
    "arr = [[0, 0]]\n",
    "dp = [0] * 101\n",
    "\n",
    "for _ in range(N):\n",
    "    arr.append(list(map(int, input().split())))  \n",
    "\n",
    "arr1 = sorted(arr, key = lambda x: (x[0], x[1]))\n",
    "\n",
    "for i in range(1, N+1):\n",
    "    for j in range(i):\n",
    "        if arr1[i][0] > arr1[j][0] and arr1[i][1]> arr1[j][1]:\n",
    "            dp[i] = max(dp[j] + 1, dp[i])\n",
    "            \n",
    "print(N - max(dp))    "
   ]
  },
  {
   "cell_type": "markdown",
   "id": "unexpected-wisconsin",
   "metadata": {},
   "source": [
    "### 피보나치 수 2\n",
    "- 문제 출처: [백준 2748번](https://www.acmicpc.net/problem/2748)\n",
    "\n",
    "`-` n은 90보다 작거나 같은 자연수 "
   ]
  },
  {
   "cell_type": "code",
   "execution_count": 2,
   "id": "married-brick",
   "metadata": {},
   "outputs": [
    {
     "name": "stdin",
     "output_type": "stream",
     "text": [
      " 10\n"
     ]
    },
    {
     "name": "stdout",
     "output_type": "stream",
     "text": [
      "55\n"
     ]
    }
   ],
   "source": [
    "N = int(input())\n",
    "\n",
    "first_fibo = 0\n",
    "second_fibo = 1\n",
    "\n",
    "for i in range(N):\n",
    "    next_fibo = first_fibo + second_fibo\n",
    "    first_fibo = second_fibo  \n",
    "    second_fibo = next_fibo \n",
    "    \n",
    "print(first_fibo)"
   ]
  },
  {
   "cell_type": "markdown",
   "id": "broad-camcorder",
   "metadata": {},
   "source": [
    "### 피보나치 수 3\n",
    "- 문제 출처: [백준 2749번](https://www.acmicpc.net/problem/2749)"
   ]
  },
  {
   "cell_type": "markdown",
   "id": "instructional-cause",
   "metadata": {},
   "source": [
    "`-` n은 1,000,000,000,000,000,000보다 작거나 같은 자연수\n",
    "\n",
    "`-` 아래와 같은 bottom-up 방식은 시간초과임"
   ]
  },
  {
   "cell_type": "code",
   "execution_count": 4,
   "id": "sensitive-complement",
   "metadata": {},
   "outputs": [
    {
     "name": "stdin",
     "output_type": "stream",
     "text": [
      " 1000\n"
     ]
    },
    {
     "name": "stdout",
     "output_type": "stream",
     "text": [
      "228875\n"
     ]
    }
   ],
   "source": [
    "N = int(input())\n",
    "\n",
    "first_fibo = 0\n",
    "second_fibo = 1\n",
    "\n",
    "for i in range(N):\n",
    "    next_fibo = (first_fibo + second_fibo) % 1000000\n",
    "    first_fibo = second_fibo % 1000000\n",
    "    second_fibo = next_fibo % 1000000\n",
    "    \n",
    "print(first_fibo)"
   ]
  },
  {
   "cell_type": "markdown",
   "id": "orange-liability",
   "metadata": {},
   "source": [
    "`-` 곰곰이 생각해보니 n이 최대 100경이라 for문 써도 컴퓨터 터지고 배열로 만들어도 컴퓨터 터짐\n",
    "\n",
    "`-` 피보나치 수열의 일반항이 생각나서 검색해봄\n",
    "\n",
    "`-` 근데 n이 너무 커서 overflow 때문에 불가능"
   ]
  },
  {
   "cell_type": "markdown",
   "id": "surgical-pixel",
   "metadata": {},
   "source": [
    "`-` 위의 방법을 사용하지 않으면 어떻게 푸는지 모르겠어서 질문 검색을 보니 `피사노 주기` 를 이용하여 푼다고 한다\n",
    "\n",
    "`-` 참고: [피보나치 수를 구하는 여러가지 방법](https://www.acmicpc.net/blog/view/28)\n",
    "\n",
    "`-` 아무튼 그래서 피사노 주기를 통해서 문제를 해결함"
   ]
  },
  {
   "cell_type": "code",
   "execution_count": 11,
   "id": "individual-uncle",
   "metadata": {},
   "outputs": [
    {
     "name": "stdin",
     "output_type": "stream",
     "text": [
      " 1000\n"
     ]
    },
    {
     "name": "stdout",
     "output_type": "stream",
     "text": [
      "228875\n"
     ]
    }
   ],
   "source": [
    "N = int(input())\n",
    "\n",
    "m = 10**6\n",
    "P = 15 * (10**5)\n",
    "M = N % P\n",
    "\n",
    "fibo = {0:0, 1:1}\n",
    "\n",
    "for i in range(M):\n",
    "    fibo[i+2] = (fibo[i] % m + fibo[i+1] % m) % m\n",
    "\n",
    "print(fibo[M])"
   ]
  },
  {
   "cell_type": "markdown",
   "id": "hindu-burke",
   "metadata": {},
   "source": [
    "### 피보나치 수 4\n",
    "- 문제 출처: [백준 10826번](https://www.acmicpc.net/problem/10826)\n",
    "\n",
    "`-` n은 10000보다 작거나 같은 자연수"
   ]
  },
  {
   "cell_type": "code",
   "execution_count": 10,
   "id": "economic-travel",
   "metadata": {},
   "outputs": [
    {
     "name": "stdin",
     "output_type": "stream",
     "text": [
      " 10\n"
     ]
    },
    {
     "name": "stdout",
     "output_type": "stream",
     "text": [
      "55\n"
     ]
    }
   ],
   "source": [
    "N = int(input())\n",
    "\n",
    "dp = [0] * 10001\n",
    "dp[1] = 1\n",
    "\n",
    "for i in range(N-1):\n",
    "    dp[i+2] = dp[i] + dp[i+1]\n",
    "\n",
    "print(dp[N])"
   ]
  },
  {
   "cell_type": "markdown",
   "id": "framed-cylinder",
   "metadata": {},
   "source": [
    "### LCS\n",
    "- 문제 출처: [백준 9251번](https://www.acmicpc.net/problem/9251)"
   ]
  },
  {
   "cell_type": "code",
   "execution_count": null,
   "id": "immune-uganda",
   "metadata": {},
   "outputs": [],
   "source": []
  },
  {
   "cell_type": "markdown",
   "id": "protecting-civilian",
   "metadata": {},
   "source": [
    "### 연속합\n",
    "- 문제 출처: [백준 1912번](https://www.acmicpc.net/problem/1912)"
   ]
  },
  {
   "cell_type": "code",
   "execution_count": null,
   "id": "presidential-executive",
   "metadata": {},
   "outputs": [],
   "source": []
  },
  {
   "cell_type": "markdown",
   "id": "still-sherman",
   "metadata": {},
   "source": [
    "### 평범한 배낭\n",
    "- 문제 출처: [백준 12865번](https://www.acmicpc.net/problem/12865)"
   ]
  },
  {
   "cell_type": "code",
   "execution_count": null,
   "id": "perfect-invitation",
   "metadata": {},
   "outputs": [],
   "source": []
  },
  {
   "cell_type": "markdown",
   "id": "clinical-secretary",
   "metadata": {},
   "source": [
    "---"
   ]
  },
  {
   "cell_type": "markdown",
   "id": "adequate-numbers",
   "metadata": {},
   "source": [
    "## 구현 "
   ]
  },
  {
   "cell_type": "markdown",
   "id": "coral-basketball",
   "metadata": {},
   "source": [
    "### 빗물\n",
    "- 문제 출처: [백준 14719번](https://www.acmicpc.net/problem/14719)"
   ]
  },
  {
   "cell_type": "markdown",
   "id": "marked-stock",
   "metadata": {},
   "source": [
    "`-` $n$번째 블록의 높이를 $x$라 해보자\n",
    "\n",
    "`-` 만약 $x$이상인 높이 $y$가 $n+α$번째에 있다면 그 사이에 빗물을 $x$높이 까지 담을 수 있음\n",
    "\n",
    "`-` 만약 $x$이상인 높이가 없다면?? ---> 탐색하는 방향을 거꾸로 하면 된다(처음 $\\to$ 끝 대신 끝 $\\to$ 처음)\n",
    "\n",
    "`-` 그렇게 되면 처음에 탐색했을 때와 반대로 되므로 똑같이 크거나 같은 블록을 찾아 나가면 된다\n",
    "\n",
    "`-` 처음 $\\to$ 끝 탐색과 끝 $\\to$ 처음 탐색을 할 때 서로 겹치는 부분이 없을 것 같지만 높이가 같은 경우에는 겹치게 되므로 이에 대해서는 한번만 고려하자\n",
    "\n",
    "`-` 위에 설명만 들으면 어려울 것 같으니 예를 들어보자\n",
    "\n",
    "`-` 시작 ---> 끝\n",
    "\n",
    "`-` 블록의 높이가 3 1 2 3 3 1 1 2 라 하면 처음부터 탐색하므로 시작 블록 높이는 3이다\n",
    "\n",
    "`-` 3보다 크거나 같은 블록을 찾아 헤매다니니 4번째에 3이 존재함 ---> 빗물을 3만큼 담을 수 있음\n",
    "\n",
    "`-` 이제 블록의 기준이 바뀜 (3 ---> 3)\n",
    "\n",
    "`-` 이제 또 다시 3보다 크거나 같은 블록을 헤매다니자 ---> 3이 존재함 ---> 빗물을 0만큼 담음\n",
    "\n",
    "`-` 3보다 큰 블록이 없음 ---> 하지만 그렇다고 빗물을 못담는것이 아니다 3과 2사이에 빗물을 2만큼 담을 수 있다 ---> 이런 경우를 고려하기 위해 이제 탐색 방향을 바꾸자\n",
    "\n",
    "`-` 끝 ---> 시작\n",
    "\n",
    "`-` 시작 블록 높이는 2이다\n",
    "\n",
    "`-` 2보다 크거나 같은 블록은 3가 있음 ---> 빗물을 2만큼 담음\n",
    "\n",
    "`-` 이제 블록의 높이 기준이 3으로 바뀜\n",
    "\n",
    "`-` 3보다 크거나 같은 블록이 바로 앞에 있음 ---> 빗물을 0만큼 담음\n",
    "\n",
    "`-` 이제 다시 3보다 크거나 같은 블록을 찾자 ---> 마지막 블록의 높이가 3이다 ---> 빗물을 3만큼 담음\n",
    "\n",
    "`-` 결과를 보자\n",
    "\n",
    "`-` 두가지 경우를 더하면 결과로 8이 나오지만 사실 정답은 5인데 왜냐하면 3 1 2 3 부분이 두 가지 모두에서 고려되어 빗물이 추가로 더해졌기 때문이다\n",
    "\n",
    "`-` 이렇기에 시작 ---> 끝 탐색에서 크거나 같은 경우를 고려했다면 끝 ---> 시작 탐색에서는 큰 경우만 고려해야 함 \n",
    "\n",
    "`-` 만약 끝 ---> 시작 탐색에서 크거나 같은 경우를 고려했다면 시작 ---> 끝 탐색에서는 큰 경우만 고려"
   ]
  },
  {
   "cell_type": "code",
   "execution_count": 1,
   "id": "animal-london",
   "metadata": {},
   "outputs": [
    {
     "name": "stdin",
     "output_type": "stream",
     "text": [
      " 4 8\n",
      " 3 1 2 3 4 1 1 2\n"
     ]
    },
    {
     "name": "stdout",
     "output_type": "stream",
     "text": [
      "5\n"
     ]
    }
   ],
   "source": [
    "h, w = map(int, input().split())\n",
    "blocks = list(map(int, input().split()))\n",
    "\n",
    "## 시작 ---> 끝 탐색\n",
    "start1 = blocks[0]\n",
    "idx1 = 0\n",
    "water1 = 0\n",
    "\n",
    "for i in range(1, w):\n",
    "    \n",
    "    if blocks[i] >= start1:\n",
    "        for j in range(idx1+1, i):\n",
    "            water1 += start1 - blocks[j] \n",
    "            \n",
    "        idx1 = i\n",
    "        start1 = blocks[i]\n",
    "\n",
    "        \n",
    "## 끝 ---> 시작 탐색\n",
    "blocks1 = blocks.reverse()\n",
    "start2 = blocks[0]\n",
    "idx2 = 0\n",
    "water2 = 0\n",
    "\n",
    "for i in range(1, w):\n",
    "    \n",
    "    if blocks[i] > start2:\n",
    "        for j in range(idx2+1, i):\n",
    "            water2 += start2 - blocks[j] \n",
    "            \n",
    "        idx2 = i\n",
    "        start2 = blocks[i]\n",
    "        \n",
    "print(water1 + water2)"
   ]
  },
  {
   "cell_type": "markdown",
   "id": "invalid-hello",
   "metadata": {},
   "source": [
    "---"
   ]
  },
  {
   "cell_type": "markdown",
   "id": "static-fancy",
   "metadata": {},
   "source": [
    "## 스택(stack) "
   ]
  },
  {
   "cell_type": "markdown",
   "id": "secondary-vessel",
   "metadata": {},
   "source": [
    "### 스택\n",
    "- 문제 출처: [백준 10828번](https://www.acmicpc.net/problem/10828)"
   ]
  },
  {
   "cell_type": "markdown",
   "id": "acquired-luther",
   "metadata": {},
   "source": [
    "`-` 스택(stack)은 선입후출 구조임 ---> 한쪽이 막힌 원기둥에 공을 넣는다고 생각하자 ---> 처음 넣은 공을 빼려면 이제껏 넣어던 공을 모두 빼야 빼낼 수 있음"
   ]
  },
  {
   "cell_type": "code",
   "execution_count": 61,
   "id": "interpreted-hardware",
   "metadata": {},
   "outputs": [
    {
     "name": "stdin",
     "output_type": "stream",
     "text": [
      " 14\n",
      " push 1\n",
      " push 2\n",
      " top\n",
      " size\n",
      " empty\n",
      " pop\n",
      " pop\n",
      " pop\n",
      " size\n",
      " empty\n",
      " pop\n",
      " push 3\n",
      " empty\n",
      " top\n"
     ]
    },
    {
     "name": "stdout",
     "output_type": "stream",
     "text": [
      "2\n",
      "2\n",
      "0\n",
      "2\n",
      "1\n",
      "-1\n",
      "0\n",
      "1\n",
      "-1\n",
      "0\n",
      "3\n"
     ]
    }
   ],
   "source": [
    "N = int(input())\n",
    "stack = []\n",
    "\n",
    "def push(num):\n",
    "    stack.append()\n",
    "    \n",
    "def pop():\n",
    "    if stack:\n",
    "        print(stack.pop())\n",
    "        \n",
    "    else:\n",
    "        print(-1)\n",
    "    \n",
    "def size():\n",
    "    print(len(stack))\n",
    "    \n",
    "def empty():\n",
    "    if stack:\n",
    "        print(0)\n",
    "        \n",
    "    else:\n",
    "        print(1)\n",
    "        \n",
    "def top():\n",
    "    if stack:\n",
    "        print(stack[-1])\n",
    "        \n",
    "    else:\n",
    "        print(-1)\n",
    "        \n",
    "orders = []\n",
    "for _ in range(N):\n",
    "    orders.append(input().split())\n",
    "    \n",
    "for i in range(N):\n",
    "    if orders[i][0] == 'push':\n",
    "        x = str(orders[i][-1])\n",
    "        xx = 'push' + '(' + x + ')'\n",
    "        xxx = ''.join(xx)  \n",
    "        eval(xxx)\n",
    "        \n",
    "    else:\n",
    "        y = orders[i][0] + '()'\n",
    "        eval(y)"
   ]
  },
  {
   "cell_type": "code",
   "execution_count": null,
   "id": "recorded-rally",
   "metadata": {},
   "outputs": [],
   "source": []
  }
 ],
 "metadata": {
  "kernelspec": {
   "display_name": "Python 3",
   "language": "python",
   "name": "python3"
  },
  "language_info": {
   "codemirror_mode": {
    "name": "ipython",
    "version": 3
   },
   "file_extension": ".py",
   "mimetype": "text/x-python",
   "name": "python",
   "nbconvert_exporter": "python",
   "pygments_lexer": "ipython3",
   "version": "3.8.8"
  }
 },
 "nbformat": 4,
 "nbformat_minor": 5
}
