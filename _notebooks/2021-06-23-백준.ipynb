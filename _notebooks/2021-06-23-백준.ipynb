{
 "cells": [
  {
   "cell_type": "markdown",
   "id": "structural-exposure",
   "metadata": {},
   "source": [
    "# 백준 문제풀기\n",
    "\n",
    "> \"단계별로 문제풀기(작성 중)\"\n",
    "\n",
    "- toc: true\n",
    "- branch: master\n",
    "- badges: true\n",
    "- comments: true\n",
    "- author: 한재수\n",
    "- categories: [python, algorithm]"
   ]
  },
  {
   "cell_type": "markdown",
   "id": "static-fundamental",
   "metadata": {},
   "source": [
    "---"
   ]
  },
  {
   "cell_type": "markdown",
   "id": "fundamental-standing",
   "metadata": {},
   "source": [
    "## 백준 하면서 알아낸 점\n",
    "1. 같은 언어, 같은 코드여도 시간이 다를 수 있음"
   ]
  },
  {
   "cell_type": "markdown",
   "id": "sapphire-muslim",
   "metadata": {},
   "source": [
    "---"
   ]
  },
  {
   "cell_type": "markdown",
   "id": "elegant-input",
   "metadata": {},
   "source": [
    "## 입출력과 사칙연산"
   ]
  },
  {
   "cell_type": "markdown",
   "id": "indoor-hunger",
   "metadata": {},
   "source": [
    "### 두 자연수 A와 B가 주어진다. 이때, A+B, A-B, A*B, A/B(몫), A%B(나머지)를 출력하는 프로그램을 작성하시오. "
   ]
  },
  {
   "cell_type": "code",
   "execution_count": 4,
   "id": "accepted-publicity",
   "metadata": {},
   "outputs": [
    {
     "name": "stdin",
     "output_type": "stream",
     "text": [
      " 7 3\n"
     ]
    },
    {
     "name": "stdout",
     "output_type": "stream",
     "text": [
      "10\n",
      "4\n",
      "21\n",
      "2\n",
      "1\n"
     ]
    }
   ],
   "source": [
    "a, b = map(int, input().split())\n",
    "print(a+b)\n",
    "print(a-b)\n",
    "print(a*b)\n",
    "print(a//b)\n",
    "print(a%b)"
   ]
  },
  {
   "cell_type": "markdown",
   "id": "hollow-introduction",
   "metadata": {},
   "source": [
    "### 두 정수 A와 B를 입력받은 다음, A+B를 출력하는 프로그램을 작성하시오."
   ]
  },
  {
   "cell_type": "code",
   "execution_count": 3,
   "id": "unique-bibliography",
   "metadata": {},
   "outputs": [
    {
     "name": "stdin",
     "output_type": "stream",
     "text": [
      " 10 2\n"
     ]
    },
    {
     "name": "stdout",
     "output_type": "stream",
     "text": [
      "12\n"
     ]
    }
   ],
   "source": [
    "a, b = map(int, input().split())\n",
    "print(a+b)"
   ]
  },
  {
   "cell_type": "markdown",
   "id": "potential-visitor",
   "metadata": {},
   "source": [
    "### 나머지\n",
    "- (A+B)%C는 ((A%C) + (B%C))%C 와 같을까?\n",
    "\n",
    "- (A×B)%C는 ((A%C) × (B%C))%C 와 같을까?\n",
    "\n",
    "- 세 수 A, B, C가 주어졌을 때, 위의 네 가지 값을 구하는 프로그램을 작성하시오."
   ]
  },
  {
   "cell_type": "code",
   "execution_count": 54,
   "id": "separate-extraction",
   "metadata": {},
   "outputs": [
    {
     "name": "stdin",
     "output_type": "stream",
     "text": [
      " 5 8 4\n"
     ]
    },
    {
     "name": "stdout",
     "output_type": "stream",
     "text": [
      "1\n",
      "1\n",
      "0\n",
      "0\n"
     ]
    }
   ],
   "source": [
    "A, B, C = map(int, input().split())\n",
    "print((A+B)%C)\n",
    "print(((A%C) + (B%C))%C)\n",
    "print((A*B)%C)\n",
    "print(((A%C) * (B%C))%C)"
   ]
  },
  {
   "cell_type": "markdown",
   "id": "parliamentary-yesterday",
   "metadata": {},
   "source": [
    "### 곱하기"
   ]
  },
  {
   "cell_type": "code",
   "execution_count": 64,
   "id": "incorporated-moldova",
   "metadata": {},
   "outputs": [
    {
     "name": "stdin",
     "output_type": "stream",
     "text": [
      " 472\n",
      " 385\n"
     ]
    },
    {
     "name": "stdout",
     "output_type": "stream",
     "text": [
      "2360\n",
      "3776\n",
      "1416\n",
      "181720\n"
     ]
    }
   ],
   "source": [
    "a = str(input())\n",
    "b = str(input())\n",
    "result = ([int(a) * int(b[2-x]) for x in range(3)])\n",
    "for i in range(3):\n",
    "    print(result[i])\n",
    "    \n",
    "print(int(a)*int(b))"
   ]
  },
  {
   "cell_type": "markdown",
   "id": "approximate-foster",
   "metadata": {},
   "source": [
    "### 평균은 넘겠지 \n",
    "- 각 케이스마다 한 줄씩 평균을 넘는 학생들의 비율을 반올림하여 소수점 셋째 자리까지 출력한다."
   ]
  },
  {
   "cell_type": "code",
   "execution_count": 4,
   "id": "single-contribution",
   "metadata": {},
   "outputs": [
    {
     "name": "stdin",
     "output_type": "stream",
     "text": [
      " 1\n",
      " 7 100 95 90 80 70 60 50\n"
     ]
    },
    {
     "name": "stdout",
     "output_type": "stream",
     "text": [
      "57.143%\n"
     ]
    }
   ],
   "source": [
    "C = int(input())\n",
    "for i in range(C):\n",
    "    line = list(map(int, input().split()))\n",
    "    mean = sum(line[1:]) / line[0]\n",
    "    over_mean = [x for x in range(1, len(line)) if line[x] > mean]\n",
    "    over_mean_percent = len(over_mean) * 100 / line[0]\n",
    "    \n",
    "    print('{:.3f}%'.format(over_mean_percent))\n",
    "    "
   ]
  },
  {
   "cell_type": "markdown",
   "id": "french-diameter",
   "metadata": {},
   "source": [
    "### 고양이 출력"
   ]
  },
  {
   "cell_type": "markdown",
   "id": "native-blame",
   "metadata": {},
   "source": [
    "`-` 문자열은 `' '`로 둘러 싸임\n",
    "\n",
    "`-` `\\`를 출력하고 싶으면 `\\\\`\n",
    "\n",
    "`-` `'`을 출력하고 싶으면`\\'` 또는 문자열을 `\" \"`로 감싸기\n",
    "\n",
    "`-` 정규표현식의 일종임 --> 정규표현식 공부하기"
   ]
  },
  {
   "cell_type": "code",
   "execution_count": 28,
   "id": "comprehensive-simple",
   "metadata": {},
   "outputs": [
    {
     "ename": "SyntaxError",
     "evalue": "EOL while scanning string literal (<ipython-input-28-eaac87876c3b>, line 1)",
     "output_type": "error",
     "traceback": [
      "\u001b[1;36m  File \u001b[1;32m\"<ipython-input-28-eaac87876c3b>\"\u001b[1;36m, line \u001b[1;32m1\u001b[0m\n\u001b[1;33m    print('\\')\u001b[0m\n\u001b[1;37m              ^\u001b[0m\n\u001b[1;31mSyntaxError\u001b[0m\u001b[1;31m:\u001b[0m EOL while scanning string literal\n"
     ]
    }
   ],
   "source": [
    "print('\\')"
   ]
  },
  {
   "cell_type": "code",
   "execution_count": 29,
   "id": "described-bargain",
   "metadata": {},
   "outputs": [
    {
     "name": "stdout",
     "output_type": "stream",
     "text": [
      "\\\n"
     ]
    }
   ],
   "source": [
    "print('\\\\')"
   ]
  },
  {
   "cell_type": "code",
   "execution_count": 33,
   "id": "crazy-bench",
   "metadata": {},
   "outputs": [
    {
     "ename": "SyntaxError",
     "evalue": "EOF while scanning triple-quoted string literal (<ipython-input-33-c6d045ece466>, line 1)",
     "output_type": "error",
     "traceback": [
      "\u001b[1;36m  File \u001b[1;32m\"<ipython-input-33-c6d045ece466>\"\u001b[1;36m, line \u001b[1;32m1\u001b[0m\n\u001b[1;33m    print(''')\u001b[0m\n\u001b[1;37m              ^\u001b[0m\n\u001b[1;31mSyntaxError\u001b[0m\u001b[1;31m:\u001b[0m EOF while scanning triple-quoted string literal\n"
     ]
    }
   ],
   "source": [
    "print(''')"
   ]
  },
  {
   "cell_type": "code",
   "execution_count": 34,
   "id": "descending-privilege",
   "metadata": {},
   "outputs": [
    {
     "name": "stdout",
     "output_type": "stream",
     "text": [
      "'\n"
     ]
    }
   ],
   "source": [
    "print('\\'')"
   ]
  },
  {
   "cell_type": "code",
   "execution_count": 41,
   "id": "metallic-religion",
   "metadata": {},
   "outputs": [
    {
     "name": "stdout",
     "output_type": "stream",
     "text": [
      "'\n"
     ]
    }
   ],
   "source": [
    "print(\"'\")"
   ]
  },
  {
   "cell_type": "code",
   "execution_count": 38,
   "id": "approximate-deposit",
   "metadata": {},
   "outputs": [
    {
     "name": "stdout",
     "output_type": "stream",
     "text": [
      "\\    /\\\n",
      " )  ( ')\n",
      "(  /  )\n",
      " \\(__)|\n"
     ]
    }
   ],
   "source": [
    "print('\\    /\\\\\\n )  ( \\')\\n(  /  )\\n \\(__)|')"
   ]
  },
  {
   "cell_type": "markdown",
   "id": "outer-renaissance",
   "metadata": {},
   "source": [
    "### 강아지 "
   ]
  },
  {
   "cell_type": "markdown",
   "id": "appointed-impossible",
   "metadata": {},
   "source": [
    "`-` 문자열에서 `\" \"`를 표현하고 싶으면 `' '`로 감싸기"
   ]
  },
  {
   "cell_type": "markdown",
   "id": "extra-vienna",
   "metadata": {},
   "source": [
    "`-` 또는 문자열을 `''' '''`로 감싸는 방법도 있음"
   ]
  },
  {
   "cell_type": "code",
   "execution_count": 46,
   "id": "undefined-copper",
   "metadata": {},
   "outputs": [
    {
     "ename": "SyntaxError",
     "evalue": "EOF while scanning triple-quoted string literal (<ipython-input-46-3f29872ceae9>, line 1)",
     "output_type": "error",
     "traceback": [
      "\u001b[1;36m  File \u001b[1;32m\"<ipython-input-46-3f29872ceae9>\"\u001b[1;36m, line \u001b[1;32m1\u001b[0m\n\u001b[1;33m    print(\"\"\")\u001b[0m\n\u001b[1;37m              ^\u001b[0m\n\u001b[1;31mSyntaxError\u001b[0m\u001b[1;31m:\u001b[0m EOF while scanning triple-quoted string literal\n"
     ]
    }
   ],
   "source": [
    "print(\"\"\")"
   ]
  },
  {
   "cell_type": "code",
   "execution_count": 45,
   "id": "worldwide-contribution",
   "metadata": {},
   "outputs": [
    {
     "name": "stdout",
     "output_type": "stream",
     "text": [
      "\"\n"
     ]
    }
   ],
   "source": [
    "print('\"')"
   ]
  },
  {
   "cell_type": "code",
   "execution_count": 53,
   "id": "naughty-tower",
   "metadata": {},
   "outputs": [
    {
     "name": "stdout",
     "output_type": "stream",
     "text": [
      "\n",
      "|\\_/|\n",
      "|q p|   /}\n",
      "( 0 )\"\"\"\\\n",
      "|\"^\"`    |\n",
      "||_/=\\\\__|\n",
      "\n"
     ]
    }
   ],
   "source": [
    "print('''\n",
    "|\\\\_/|\\n|q p|   /}\\n( 0 )\"\"\"\\\\\\n|\"^\"`    |\\n||_/=\\\\\\\\__|\n",
    "''')"
   ]
  },
  {
   "cell_type": "markdown",
   "id": "usual-sarah",
   "metadata": {},
   "source": [
    "`-` ''' '''로 감쌀 때 앞의 ''' 앞에 r을 적으면 문자열을 원시 문자열로 처리함"
   ]
  },
  {
   "cell_type": "markdown",
   "id": "hired-selection",
   "metadata": {},
   "source": [
    "`-` `\\`를 표현하기 위해 `\\\\`로 하지 않고 그냥 역슬래시만 해도 가능"
   ]
  },
  {
   "cell_type": "code",
   "execution_count": 44,
   "id": "consolidated-connecticut",
   "metadata": {},
   "outputs": [
    {
     "name": "stdout",
     "output_type": "stream",
     "text": [
      "|\\_/|\n",
      "|q p|   /}\n",
      "( 0 )\"\"\"\\\n",
      "|\"^\"`    |\n",
      "||_/=\\\\__|\n"
     ]
    }
   ],
   "source": [
    "print('|\\\\_/|\\n|q p|   /}\\n( 0 )\"\"\"\\\\\\n|\"^\"`    |\\n||_/=\\\\\\\\__|')"
   ]
  },
  {
   "cell_type": "code",
   "execution_count": 51,
   "id": "present-cloud",
   "metadata": {},
   "outputs": [
    {
     "name": "stdout",
     "output_type": "stream",
     "text": [
      "|\\_/|\n",
      "|q p|   /}\n",
      "( 0 )\"\"\"\\\n",
      "|\"^\"`    |\n",
      "||_/=\\\\__|\n"
     ]
    }
   ],
   "source": [
    "print(r'''|\\_/|\n",
    "|q p|   /}\n",
    "( 0 )\"\"\"\\\n",
    "|\"^\"`    |\n",
    "||_/=\\\\__|''')"
   ]
  },
  {
   "cell_type": "markdown",
   "id": "cultural-robertson",
   "metadata": {},
   "source": [
    "---"
   ]
  },
  {
   "cell_type": "markdown",
   "id": "atlantic-slave",
   "metadata": {},
   "source": [
    "## if문"
   ]
  },
  {
   "cell_type": "markdown",
   "id": "czech-thousand",
   "metadata": {},
   "source": [
    "### 두 정수 A와 B가 주어졌을 때, A와 B를 비교하는 프로그램을 작성하시오."
   ]
  },
  {
   "cell_type": "code",
   "execution_count": 2,
   "id": "bigger-report",
   "metadata": {},
   "outputs": [
    {
     "name": "stdin",
     "output_type": "stream",
     "text": [
      " 10 2\n"
     ]
    },
    {
     "name": "stdout",
     "output_type": "stream",
     "text": [
      ">\n"
     ]
    }
   ],
   "source": [
    "A, B = map(int, input().split())\n",
    "if A>B:\n",
    "    print('>')\n",
    "elif A<B:\n",
    "    print('<')\n",
    "else:\n",
    "    print('==')"
   ]
  },
  {
   "cell_type": "markdown",
   "id": "julian-selling",
   "metadata": {},
   "source": [
    "### 시험 점수를 입력받아 90 ~ 100점은 A, 80 ~ 89점은 B, 70 ~ 79점은 C, 60 ~ 69점은 D, 나머지 점수는 F를 출력하는 프로그램을 작성하시오."
   ]
  },
  {
   "cell_type": "code",
   "execution_count": 21,
   "id": "antique-wilson",
   "metadata": {},
   "outputs": [
    {
     "name": "stdin",
     "output_type": "stream",
     "text": [
      " 100\n"
     ]
    },
    {
     "name": "stdout",
     "output_type": "stream",
     "text": [
      "A\n"
     ]
    }
   ],
   "source": [
    "def result(grade):\n",
    "    if grade >= 90 and grade <= 100:\n",
    "        print(\"A\")\n",
    "    elif grade >= 80 and grade <= 89:\n",
    "        print(\"B\")\n",
    "    elif grade >= 70 and grade <= 79:\n",
    "        print(\"C\")\n",
    "    elif grade >= 60 and grade <= 69:\n",
    "        print(\"D\")\n",
    "    else:\n",
    "        print(\"F\")\n",
    "grade = int(input())\n",
    "result(grade)    "
   ]
  },
  {
   "cell_type": "markdown",
   "id": "chicken-ordinary",
   "metadata": {},
   "source": [
    "### 연도가 주어졌을 때, 윤년이면 1, 아니면 0을 출력하는 프로그램을 작성하시오.\n",
    "\n",
    "- 윤년은 연도가 4의 배수이면서, 100의 배수가 아닐 때 또는 400의 배수일 때이다.\n",
    "\n",
    "- 예를 들어, 2012년은 4의 배수이면서 100의 배수가 아니라서 윤년이다. 1900년은 100의 배수이고 400의 배수는 아니기 때문에 윤년이 아니다. 하지만, 2000년은 400의 배수이기 때문에 윤년이다."
   ]
  },
  {
   "cell_type": "code",
   "execution_count": 27,
   "id": "cardiac-diamond",
   "metadata": {},
   "outputs": [
    {
     "name": "stdin",
     "output_type": "stream",
     "text": [
      " 2000\n"
     ]
    },
    {
     "name": "stdout",
     "output_type": "stream",
     "text": [
      "1\n"
     ]
    }
   ],
   "source": [
    "def leap_year(year):\n",
    "    if (year%4 ==0 and year%100 != 0) or year%400 == 0:\n",
    "        print(1)\n",
    "    else:\n",
    "        print(0)\n",
    "year = int(input())\n",
    "leap_year(year)"
   ]
  },
  {
   "cell_type": "markdown",
   "id": "armed-conservative",
   "metadata": {},
   "source": [
    "### 사분면 고르기\n",
    "- 첫 줄에는 정수 x가 주어진다. (−1000 ≤ x ≤ 1000; x ≠ 0) 다음 줄에는 정수 y가 주어진다. (−1000 ≤ y ≤ 1000; y ≠ 0)\n",
    "\n",
    "- 점 (x, y)의 사분면 번호(1, 2, 3, 4 중 하나)를 출력한다."
   ]
  },
  {
   "cell_type": "code",
   "execution_count": 40,
   "id": "outdoor-syracuse",
   "metadata": {},
   "outputs": [
    {
     "name": "stdin",
     "output_type": "stream",
     "text": [
      " 10\n",
      " -7\n"
     ]
    },
    {
     "name": "stdout",
     "output_type": "stream",
     "text": [
      "4\n"
     ]
    }
   ],
   "source": [
    "def quadrant(a,b):\n",
    "    if a>0 and b>0:\n",
    "        print(1)\n",
    "    elif a>0 and b<0:\n",
    "        print(4)\n",
    "    elif a<0 and b>0:\n",
    "        print(2)\n",
    "    elif a<0 and b<0:\n",
    "        print(3)\n",
    "x = int(input())\n",
    "y = int(input())\n",
    "quadrant(x, y)"
   ]
  },
  {
   "cell_type": "markdown",
   "id": "hairy-index",
   "metadata": {},
   "source": [
    "### 알람 시계\n",
    "- 45분 일찍 알람 설정하기"
   ]
  },
  {
   "cell_type": "code",
   "execution_count": 8,
   "id": "minus-median",
   "metadata": {},
   "outputs": [
    {
     "name": "stdin",
     "output_type": "stream",
     "text": [
      " 0 25\n"
     ]
    },
    {
     "name": "stdout",
     "output_type": "stream",
     "text": [
      "23 40\n"
     ]
    }
   ],
   "source": [
    "h, m = map(int, input().split())\n",
    "if m >= 45:\n",
    "    print(h, m-45)\n",
    "elif h == 0: \n",
    "    print(23, m+15)\n",
    "else:\n",
    "    print(h-1, m+15)"
   ]
  },
  {
   "cell_type": "markdown",
   "id": "periodic-devil",
   "metadata": {},
   "source": [
    "---"
   ]
  },
  {
   "cell_type": "markdown",
   "id": "later-award",
   "metadata": {},
   "source": [
    "## for문"
   ]
  },
  {
   "cell_type": "markdown",
   "id": "senior-encyclopedia",
   "metadata": {},
   "source": [
    "### N을 입력받은 뒤, 구구단 N단을 출력하는 프로그램을 작성하시오. 출력 형식에 맞춰서 출력하면 된다."
   ]
  },
  {
   "cell_type": "code",
   "execution_count": 16,
   "id": "fiscal-veteran",
   "metadata": {},
   "outputs": [
    {
     "name": "stdin",
     "output_type": "stream",
     "text": [
      " 4\n"
     ]
    },
    {
     "name": "stdout",
     "output_type": "stream",
     "text": [
      "4 * 1 = 4\n",
      "4 * 2 = 8\n",
      "4 * 3 = 12\n",
      "4 * 4 = 16\n",
      "4 * 5 = 20\n",
      "4 * 6 = 24\n",
      "4 * 7 = 28\n",
      "4 * 8 = 32\n",
      "4 * 9 = 36\n"
     ]
    }
   ],
   "source": [
    "n = int(input())\n",
    "for i in range(1,10):\n",
    "    print('%s * %s = %s' % (n, i, n*i))"
   ]
  },
  {
   "cell_type": "markdown",
   "id": "numerical-senator",
   "metadata": {},
   "source": [
    "### 두 정수 A와 B를 입력받은 다음, A+B를 출력하는 프로그램을 작성하시오.\n",
    "- 첫째 줄에 테스트 케이스의 개수 T가 주어진다.\n",
    "\n",
    "- 각 테스트 케이스마다 A+B를 출력한다."
   ]
  },
  {
   "cell_type": "code",
   "execution_count": 21,
   "id": "animated-verse",
   "metadata": {},
   "outputs": [
    {
     "name": "stdin",
     "output_type": "stream",
     "text": [
      " 3\n",
      " 1 5\n"
     ]
    },
    {
     "name": "stdout",
     "output_type": "stream",
     "text": [
      "6\n"
     ]
    },
    {
     "name": "stdin",
     "output_type": "stream",
     "text": [
      " 2 8\n"
     ]
    },
    {
     "name": "stdout",
     "output_type": "stream",
     "text": [
      "10\n"
     ]
    },
    {
     "name": "stdin",
     "output_type": "stream",
     "text": [
      " 17 58\n"
     ]
    },
    {
     "name": "stdout",
     "output_type": "stream",
     "text": [
      "75\n"
     ]
    }
   ],
   "source": [
    "T = int(input())\n",
    "for i in range(T):\n",
    "    A, B = map(int, input().split())\n",
    "    print(A+B)"
   ]
  },
  {
   "cell_type": "markdown",
   "id": "approximate-combining",
   "metadata": {},
   "source": [
    "### n이 주어졌을 때, 1부터 n까지 합을 구하는 프로그램을 작성하시오.\n",
    "- 반복문 있는 버전"
   ]
  },
  {
   "cell_type": "code",
   "execution_count": 23,
   "id": "functional-brisbane",
   "metadata": {},
   "outputs": [
    {
     "name": "stdin",
     "output_type": "stream",
     "text": [
      " 10\n"
     ]
    },
    {
     "name": "stdout",
     "output_type": "stream",
     "text": [
      "55\n"
     ]
    }
   ],
   "source": [
    "n = int(input())\n",
    "sum = 0\n",
    "for i in range(1, n+1):\n",
    "    sum += i\n",
    "print(sum)    "
   ]
  },
  {
   "cell_type": "markdown",
   "id": "separated-ceramic",
   "metadata": {},
   "source": [
    "- 반복문 없는 버전"
   ]
  },
  {
   "cell_type": "code",
   "execution_count": 26,
   "id": "accurate-madison",
   "metadata": {},
   "outputs": [
    {
     "name": "stdin",
     "output_type": "stream",
     "text": [
      " 10\n"
     ]
    },
    {
     "name": "stdout",
     "output_type": "stream",
     "text": [
      "55\n"
     ]
    }
   ],
   "source": [
    "n = int(input())\n",
    "print(int(n * (n+1) / 2))"
   ]
  },
  {
   "cell_type": "markdown",
   "id": "whole-edinburgh",
   "metadata": {},
   "source": [
    "### `sys.stdin.readline()`\n",
    "- 본격적으로 for문 문제를 풀기 전에 주의해야 할 점이 있다. \n",
    "\n",
    "- 입출력 방식이 느리면 여러 줄을 입력받거나 출력할 때 시간초과가 날 수 있다는 점이다.\n",
    "\n",
    "- Python을 사용하고 있다면 input() 대신 sys.stdin.readline()을 사용할 수 있다. \n",
    "\n",
    "- 단, 이때는 맨 끝의 개행문자까지 같이 입력받기 때문에 문자열을 저장하고 싶을 경우 .rstrip()을 추가로 해 주는 것이 좋다."
   ]
  },
  {
   "cell_type": "code",
   "execution_count": 3,
   "id": "national-mercy",
   "metadata": {},
   "outputs": [
    {
     "name": "stdin",
     "output_type": "stream",
     "text": [
      " 10\n"
     ]
    },
    {
     "ename": "ValueError",
     "evalue": "not enough values to unpack (expected 2, got 0)",
     "output_type": "error",
     "traceback": [
      "\u001b[1;31m---------------------------------------------------------------------------\u001b[0m",
      "\u001b[1;31mValueError\u001b[0m                                Traceback (most recent call last)",
      "\u001b[1;32m<ipython-input-3-173fe188e1c6>\u001b[0m in \u001b[0;36m<module>\u001b[1;34m\u001b[0m\n\u001b[0;32m      2\u001b[0m \u001b[0mT\u001b[0m \u001b[1;33m=\u001b[0m \u001b[0mint\u001b[0m\u001b[1;33m(\u001b[0m\u001b[0minput\u001b[0m\u001b[1;33m(\u001b[0m\u001b[1;33m)\u001b[0m\u001b[1;33m)\u001b[0m\u001b[1;33m\u001b[0m\u001b[1;33m\u001b[0m\u001b[0m\n\u001b[0;32m      3\u001b[0m \u001b[1;32mfor\u001b[0m \u001b[0mi\u001b[0m \u001b[1;32min\u001b[0m \u001b[0mrange\u001b[0m\u001b[1;33m(\u001b[0m\u001b[0mT\u001b[0m\u001b[1;33m)\u001b[0m\u001b[1;33m:\u001b[0m\u001b[1;33m\u001b[0m\u001b[1;33m\u001b[0m\u001b[0m\n\u001b[1;32m----> 4\u001b[1;33m     \u001b[0mA\u001b[0m\u001b[1;33m,\u001b[0m \u001b[0mB\u001b[0m \u001b[1;33m=\u001b[0m \u001b[0mmap\u001b[0m\u001b[1;33m(\u001b[0m\u001b[0mint\u001b[0m\u001b[1;33m,\u001b[0m \u001b[0msys\u001b[0m\u001b[1;33m.\u001b[0m\u001b[0mstdin\u001b[0m\u001b[1;33m.\u001b[0m\u001b[0mreadline\u001b[0m\u001b[1;33m(\u001b[0m\u001b[1;33m)\u001b[0m\u001b[1;33m.\u001b[0m\u001b[0msplit\u001b[0m\u001b[1;33m(\u001b[0m\u001b[1;33m)\u001b[0m\u001b[1;33m)\u001b[0m\u001b[1;33m\u001b[0m\u001b[1;33m\u001b[0m\u001b[0m\n\u001b[0m\u001b[0;32m      5\u001b[0m     \u001b[0mprint\u001b[0m\u001b[1;33m(\u001b[0m\u001b[0mA\u001b[0m\u001b[1;33m+\u001b[0m\u001b[0mB\u001b[0m\u001b[1;33m)\u001b[0m\u001b[1;33m\u001b[0m\u001b[1;33m\u001b[0m\u001b[0m\n",
      "\u001b[1;31mValueError\u001b[0m: not enough values to unpack (expected 2, got 0)"
     ]
    }
   ],
   "source": [
    "import sys\n",
    "T = int(input())\n",
    "for i in range(T):\n",
    "    A, B = map(int, sys.stdin.readline().split())\n",
    "    print(A+B)"
   ]
  },
  {
   "cell_type": "markdown",
   "id": "governmental-three",
   "metadata": {},
   "source": [
    "`-` error 왜 뜨지?\n",
    "\n",
    "`-` `sys.stdin.readline()`를 쓸 때마다 에러가 난다."
   ]
  },
  {
   "cell_type": "markdown",
   "id": "infrared-rating",
   "metadata": {},
   "source": [
    "### 자연수 N이 주어졌을 때, 1부터 N까지 한 줄에 하나씩 출력하는 프로그램을 작성하시오."
   ]
  },
  {
   "cell_type": "code",
   "execution_count": 1,
   "id": "necessary-wales",
   "metadata": {},
   "outputs": [
    {
     "name": "stdin",
     "output_type": "stream",
     "text": [
      " 5\n"
     ]
    },
    {
     "name": "stdout",
     "output_type": "stream",
     "text": [
      "1\n",
      "2\n",
      "3\n",
      "4\n",
      "5\n"
     ]
    }
   ],
   "source": [
    "N = int(input())\n",
    "for i in range(1, N+1):\n",
    "    print(i)"
   ]
  },
  {
   "cell_type": "markdown",
   "id": "established-customer",
   "metadata": {},
   "source": [
    "### 자연수 N이 주어졌을 때, N부터 1까지 한 줄에 하나씩 출력하는 프로그램을 작성하시오."
   ]
  },
  {
   "cell_type": "code",
   "execution_count": 2,
   "id": "employed-nature",
   "metadata": {},
   "outputs": [
    {
     "name": "stdin",
     "output_type": "stream",
     "text": [
      " 5\n"
     ]
    },
    {
     "name": "stdout",
     "output_type": "stream",
     "text": [
      "5\n",
      "4\n",
      "3\n",
      "2\n",
      "1\n"
     ]
    }
   ],
   "source": [
    "N = int(input())\n",
    "for i in range(1, N+1):\n",
    "    print(N-i+1)"
   ]
  },
  {
   "cell_type": "markdown",
   "id": "visible-consultation",
   "metadata": {},
   "source": [
    "### 두 정수 A와 B를 입력받은 다음, A+B를 출력하는 프로그램을 작성하시오.\n",
    "- 각 테스트 케이스마다 \"Case #x: \"를 출력한 다음, A+B를 출력한다. 테스트 케이스 번호는 1부터 시작한다."
   ]
  },
  {
   "cell_type": "code",
   "execution_count": 6,
   "id": "environmental-belarus",
   "metadata": {},
   "outputs": [
    {
     "name": "stdin",
     "output_type": "stream",
     "text": [
      " 3\n",
      " 1 5\n"
     ]
    },
    {
     "name": "stdout",
     "output_type": "stream",
     "text": [
      "Case #1: 6\n"
     ]
    },
    {
     "name": "stdin",
     "output_type": "stream",
     "text": [
      " 2 4\n"
     ]
    },
    {
     "name": "stdout",
     "output_type": "stream",
     "text": [
      "Case #2: 6\n"
     ]
    },
    {
     "name": "stdin",
     "output_type": "stream",
     "text": [
      " 1 7\n"
     ]
    },
    {
     "name": "stdout",
     "output_type": "stream",
     "text": [
      "Case #3: 8\n"
     ]
    }
   ],
   "source": [
    "import sys\n",
    "T = int(input())\n",
    "for i in range(1, T+1):\n",
    "    A, B = map(int, sys.stdin.readline().split())\n",
    "    print('Case #%s: %s' % (i, A+B))\n"
   ]
  },
  {
   "cell_type": "markdown",
   "id": "psychological-bernard",
   "metadata": {},
   "source": [
    "### 첫째 줄에는 별 1개, 둘째 줄에는 별 2개, N번째 줄에는 별 N개를 찍는 문제\n",
    "\n",
    "- 하지만, 오른쪽을 기준으로 정렬한 별(예제 참고)을 출력하시오."
   ]
  },
  {
   "cell_type": "markdown",
   "id": "rough-wisdom",
   "metadata": {},
   "source": [
    "## print함수 용법\n",
    "- print(출력할 객체, end = '함수가 종료될 때 실행하는 값')\n",
    "\n",
    "- print()함수에서 end값을 따로 지정하지 않으면 끝을 줄바꿈 문자로 한다."
   ]
  },
  {
   "cell_type": "code",
   "execution_count": 12,
   "id": "suitable-figure",
   "metadata": {},
   "outputs": [
    {
     "name": "stdout",
     "output_type": "stream",
     "text": [
      "안녕~~~~하세요\n"
     ]
    }
   ],
   "source": [
    "print('안녕', end = '~~~~')\n",
    "print('하세요')"
   ]
  },
  {
   "cell_type": "code",
   "execution_count": 18,
   "id": "suspected-aviation",
   "metadata": {},
   "outputs": [
    {
     "name": "stdin",
     "output_type": "stream",
     "text": [
      " 5\n"
     ]
    },
    {
     "name": "stdout",
     "output_type": "stream",
     "text": [
      "    *\n",
      "   **\n",
      "  ***\n",
      " ****\n",
      "*****\n"
     ]
    }
   ],
   "source": [
    "N = int(input())\n",
    "for i in range(N):\n",
    "    for j in range(1, N-i):\n",
    "        print(\" \", end = \"\")\n",
    "    for k in range(i+1):\n",
    "        print(\"*\", end = \"\")\n",
    "    print(\"\\n\", end = \"\")"
   ]
  },
  {
   "cell_type": "markdown",
   "id": "headed-bracelet",
   "metadata": {},
   "source": [
    "### 정수 N개로 이루어진 수열 A와 정수 X가 주어진다. 이때, A에서 X보다 작은 수를 모두 출력하는 프로그램을 작성하시오.\n",
    "- 첫째 줄에 N과 X가 주어진다. (1 ≤ N, X ≤ 10,000)\n",
    "\n",
    "- 둘째 줄에 수열 A를 이루는 정수 N개가 주어진다. 주어지는 정수는 모두 1보다 크거나 같고, 10,000보다 작거나 같은 정수이다.\n",
    "\n",
    "- X보다 작은 수를 입력받은 순서대로 공백으로 구분해 출력한다. X보다 작은 수는 적어도 하나 존재한다."
   ]
  },
  {
   "cell_type": "code",
   "execution_count": 38,
   "id": "unauthorized-catalyst",
   "metadata": {},
   "outputs": [
    {
     "name": "stdin",
     "output_type": "stream",
     "text": [
      " 3 5\n",
      " 1 0 7\n"
     ]
    },
    {
     "name": "stdout",
     "output_type": "stream",
     "text": [
      "1 0 "
     ]
    }
   ],
   "source": [
    "N, X = map(int, input().split())\n",
    "A = list(map(int, input().split()))\n",
    "for i in range(N):\n",
    "    if A[i] < X:\n",
    "        print(A[i], end = \" \")"
   ]
  },
  {
   "cell_type": "markdown",
   "id": "athletic-buffer",
   "metadata": {},
   "source": [
    "---"
   ]
  },
  {
   "cell_type": "markdown",
   "id": "charged-gentleman",
   "metadata": {},
   "source": [
    "## while문"
   ]
  },
  {
   "cell_type": "markdown",
   "id": "corrected-painting",
   "metadata": {},
   "source": [
    "### 두 정수 A와 B를 입력받은 다음, A+B를 출력하는 프로그램을 작성하시오.\n",
    "- 입력의 마지막에는 0 두 개가 들어온다."
   ]
  },
  {
   "cell_type": "code",
   "execution_count": 3,
   "id": "floppy-title",
   "metadata": {},
   "outputs": [
    {
     "name": "stdin",
     "output_type": "stream",
     "text": [
      " 1 1\n"
     ]
    },
    {
     "name": "stdout",
     "output_type": "stream",
     "text": [
      "2\n"
     ]
    },
    {
     "name": "stdin",
     "output_type": "stream",
     "text": [
      " 0 4\n"
     ]
    },
    {
     "name": "stdout",
     "output_type": "stream",
     "text": [
      "4\n"
     ]
    },
    {
     "name": "stdin",
     "output_type": "stream",
     "text": [
      " 0 0\n"
     ]
    }
   ],
   "source": [
    "while True:\n",
    "    A,B = map(int, input().split())\n",
    "    if A==0 and B==0:\n",
    "        break\n",
    "    else:\n",
    "        print(A+B)\n",
    "    "
   ]
  },
  {
   "cell_type": "markdown",
   "id": "radical-luther",
   "metadata": {},
   "source": [
    "### 더하기 사이클\n",
    "- 먼저 주어진 수가 10보다 작다면 앞에 0을 붙여 두 자리 수로 만들고, 각 자리의 숫자를 더한다. \n",
    "\n",
    "- 그 다음, 주어진 수의 가장 오른쪽 자리 수와 앞에서 구한 합의 가장 오른쪽 자리 수를 이어 붙이면 새로운 수를 만들 수 있다. \n",
    "\n",
    "- 26부터 시작한다. 2+6 = 8이다. 새로운 수는 68이다. 6+8 = 14이다. 새로운 수는 84이다. 8+4 = 12이다. 새로운 수는 42이다. 4+2 = 6이다. 새로운 수는 26이다.\n",
    "\n",
    "- 위의 예는 4번만에 원래 수로 돌아올 수 있다. 따라서 26의 사이클의 길이는 4이다.\n",
    "\n",
    "- N이 주어졌을 때, N의 사이클의 길이를 구하는 프로그램을 작성하시오.(0<=N<=99 인 정수)"
   ]
  },
  {
   "cell_type": "code",
   "execution_count": 26,
   "id": "direct-stranger",
   "metadata": {},
   "outputs": [
    {
     "name": "stdin",
     "output_type": "stream",
     "text": [
      " 1\n"
     ]
    },
    {
     "name": "stdout",
     "output_type": "stream",
     "text": [
      "60\n"
     ]
    }
   ],
   "source": [
    "n = N = int(input())\n",
    "N_cycle = 0\n",
    "while True:\n",
    "    if N < 10:\n",
    "        N = int(2*str(N))\n",
    "        N_cycle += 1\n",
    "    else:\n",
    "        N = int(str(N)[-1]+str(int(str(N)[0])+int(str(N)[-1]))[-1])\n",
    "        N_cycle += 1\n",
    "    \n",
    "    if N == n:\n",
    "        print(N_cycle)\n",
    "        break\n",
    "    "
   ]
  },
  {
   "cell_type": "markdown",
   "id": "confirmed-check",
   "metadata": {},
   "source": [
    "---"
   ]
  },
  {
   "cell_type": "markdown",
   "id": "answering-wonder",
   "metadata": {},
   "source": [
    "## 함수"
   ]
  },
  {
   "cell_type": "markdown",
   "id": "pursuant-fairy",
   "metadata": {},
   "source": [
    "### N개의 합\n",
    "- 정수 n개가 주어졌을 때, n개의 합을 구하는 함수를 작성하시오."
   ]
  },
  {
   "cell_type": "code",
   "execution_count": 31,
   "id": "generous-lighter",
   "metadata": {},
   "outputs": [],
   "source": [
    "# for문 버전\n",
    "def solve1(a):\n",
    "    sum = 0\n",
    "    for i in range(len(a)):\n",
    "        sum += a[i]\n",
    "    return(sum)"
   ]
  },
  {
   "cell_type": "code",
   "execution_count": 33,
   "id": "square-georgia",
   "metadata": {},
   "outputs": [
    {
     "data": {
      "text/plain": [
       "10"
      ]
     },
     "execution_count": 33,
     "metadata": {},
     "output_type": "execute_result"
    }
   ],
   "source": [
    "a=[0,1,2,3,4]\n",
    "solve1(a)"
   ]
  },
  {
   "cell_type": "code",
   "execution_count": 34,
   "id": "naughty-davis",
   "metadata": {},
   "outputs": [],
   "source": [
    "# 내장함수 sum()버전\n",
    "def solve2(a):\n",
    "    return(sum(a))"
   ]
  },
  {
   "cell_type": "code",
   "execution_count": 35,
   "id": "democratic-throat",
   "metadata": {},
   "outputs": [
    {
     "data": {
      "text/plain": [
       "10"
      ]
     },
     "execution_count": 35,
     "metadata": {},
     "output_type": "execute_result"
    }
   ],
   "source": [
    "a=[0,1,2,3,4]\n",
    "solve2(a)"
   ]
  },
  {
   "cell_type": "markdown",
   "id": "unable-active",
   "metadata": {},
   "source": [
    "### 셀프 넘버\n",
    "- 10,000보다 작거나 같은 셀프 넘버를 한 줄에 하나씩 증가하는 순서로 출력한다. "
   ]
  },
  {
   "cell_type": "code",
   "execution_count": 74,
   "id": "arbitrary-month",
   "metadata": {},
   "outputs": [],
   "source": [
    "z = set(range(1,10001)) - {x+sum([int(a) for a in str(x)]) for x in range(1,10001)}\n",
    "z = list(z)\n",
    "z.sort()\n",
    "for i in range(len(z)):\n",
    "    print(z[i])\n",
    "    \n",
    "# 출력이 너무 길어서 출력은 생략"
   ]
  },
  {
   "cell_type": "markdown",
   "id": "changing-notebook",
   "metadata": {},
   "source": [
    "### 한수\n",
    "- 어떤 양의 정수 X의 각 자리가 등차수열을 이룬다면, 그 수를 한수라고 한다. \n",
    "\n",
    "- 등차수열은 연속된 두 개의 수의 차이가 일정한 수열을 말한다.\n",
    "\n",
    "- N이 주어졌을 때, 1보다 크거나 같고, N보다 작거나 같은 한수의 개수를 출력하는 프로그램을 작성하시오. "
   ]
  },
  {
   "cell_type": "code",
   "execution_count": 22,
   "id": "confirmed-active",
   "metadata": {},
   "outputs": [
    {
     "name": "stdin",
     "output_type": "stream",
     "text": [
      " 700\n"
     ]
    },
    {
     "name": "stdout",
     "output_type": "stream",
     "text": [
      "129\n"
     ]
    }
   ],
   "source": [
    "N = int(input())\n",
    "def solve(a):  \n",
    "    if a < 100:\n",
    "        print(a)\n",
    "    else:\n",
    "        n = 99\n",
    "        for i in range(100, a+1):\n",
    "            if int(str(i)[1]) - int(str(i)[0]) == int(str(i)[2]) - int(str(i)[1]):\n",
    "                n += 1\n",
    "        print(n) \n",
    "solve(N)"
   ]
  },
  {
   "cell_type": "markdown",
   "id": "local-chemistry",
   "metadata": {},
   "source": [
    "---"
   ]
  },
  {
   "cell_type": "markdown",
   "id": "consecutive-venture",
   "metadata": {},
   "source": [
    "## 재귀함수(중요함 아마도 그리고 헷갈림)\n",
    "`-` 재귀함수를 구상해보자.\n",
    "\n",
    "`-` 재귀함수는 관계가 중요하다.\n",
    "\n",
    "`-` 팩토리얼에서는 $fact(x)= x * fact(x-1)$ 관계가 성립한다.\n",
    "\n",
    "`-` $fact(0), fact(1)$ 은 1이다.\n",
    "\n",
    "`-` x가 0 또는 1일 때는 return을 1로 설정하고 나머지의 경우에는  $fact(x)= x * fact(x-1)$ 을 return한다면 재귀함수가 된다.\n",
    "\n",
    "`-` 즉, 기본값 [$fact(0 or 1)=1$] 을 알고 관계식 [$fact(x)= x * fact(x-1)$] 을 안다면 재귀함수로 구현할 수 있다."
   ]
  },
  {
   "cell_type": "markdown",
   "id": "southeast-hacker",
   "metadata": {},
   "source": [
    "### 팩토리얼\n",
    "- 0보다 크거나 같은 정수 N이 주어진다. \n",
    "\n",
    "- 이때, 재귀함수를 이용하여 N!을 출력하는 프로그램을 작성하시오."
   ]
  },
  {
   "cell_type": "code",
   "execution_count": null,
   "id": "ongoing-crash",
   "metadata": {},
   "outputs": [],
   "source": [
    "N = int(input())\n",
    "def fact(x):\n",
    "    if x == 0 or x == 1:\n",
    "        return 1\n",
    "    else:\n",
    "        return x*fact(x-1)\n",
    "print(fact(N))"
   ]
  },
  {
   "cell_type": "markdown",
   "id": "acute-specific",
   "metadata": {},
   "source": [
    "### 피보나치 수열 \n",
    "- n이 주어졌을 때, n번째 피보나치 수를 구하는 프로그램을 작성하시오.\n",
    "\n",
    "- 0번째 피보나치 수는 0이고, 1번째 피보나치 수는 1이다. \n",
    "\n",
    "- 그 다음 2번째 부터는 바로 앞 두 피보나치 수의 합이 된다."
   ]
  },
  {
   "cell_type": "code",
   "execution_count": 2,
   "id": "worthy-acceptance",
   "metadata": {},
   "outputs": [
    {
     "name": "stdin",
     "output_type": "stream",
     "text": [
      " 10\n"
     ]
    },
    {
     "name": "stdout",
     "output_type": "stream",
     "text": [
      "55\n"
     ]
    }
   ],
   "source": [
    "N = int(input())\n",
    "def fibo(x):\n",
    "    if x == 0:\n",
    "        return 0\n",
    "    elif x == 1:\n",
    "        return 1\n",
    "    else:\n",
    "        return fibo(x-1) + fibo(x-2)\n",
    "print(fibo(N))"
   ]
  },
  {
   "cell_type": "markdown",
   "id": "possible-adrian",
   "metadata": {},
   "source": [
    "### 피보나치 수열 메모이제이션\n",
    "- 피보나치 재귀 함수의 경우 이미 구한 값을 구하기 위해 반복을 많이 해서 효율성이 떨어진다.\n",
    "\n",
    "- 재귀 함수가 효율적이지 못하다면 메모이제이션을 사용한다.\n",
    "\n",
    "- 재귀함수가 한 번 호출될 때마다 결과값을 저장하여 효율성을 높이는 것이 좋다. (메모이제이션)"
   ]
  },
  {
   "cell_type": "code",
   "execution_count": 7,
   "id": "complimentary-testing",
   "metadata": {},
   "outputs": [
    {
     "name": "stdin",
     "output_type": "stream",
     "text": [
      " 10\n"
     ]
    },
    {
     "name": "stdout",
     "output_type": "stream",
     "text": [
      "55\n"
     ]
    }
   ],
   "source": [
    "N = int(input())\n",
    "fibonacci = {0:0, 1:1} ## 메모이제이션을 위한 딕셔러니 선언\n",
    "\n",
    "def fibo(x):\n",
    "    if x in fibonacci:\n",
    "        return fibonacci[x]\n",
    "    \n",
    "    fibonacci[x] = fibo(x-1) + fibo(x-2)\n",
    "    \n",
    "    return fibonacci[x]\n",
    "\n",
    "print(fibo(N))"
   ]
  },
  {
   "cell_type": "markdown",
   "id": "incoming-advisory",
   "metadata": {},
   "source": [
    "### 별 찍기(Pass)\n",
    "- N이 3의 거듭제곱(3, 9, 27, ...)이라고 할 때, 크기 N의 패턴은 N×N 정사각형 모양이다.\n",
    "\n",
    "- 크기 3의 패턴은 가운데에 공백이 있고, 가운데를 제외한 모든 칸에 별이 하나씩 있는 패턴이다.\n",
    "\n",
    "- N이 3보다 클 경우, 크기 N의 패턴은 공백으로 채워진 가운데의 (N/3)×(N/3) 정사각형을 크기 N/3의 패턴으로 둘러싼 형태이다. "
   ]
  },
  {
   "cell_type": "markdown",
   "id": "marked-blast",
   "metadata": {},
   "source": [
    "### print('문자열')"
   ]
  },
  {
   "cell_type": "markdown",
   "id": "perceived-actress",
   "metadata": {},
   "source": [
    "- $\\star$ 과 $\\star$ 사이에 빈칸이 있다. 이유는 `,`(콤마) 때문이다. "
   ]
  },
  {
   "cell_type": "code",
   "execution_count": 90,
   "id": "surface-clearing",
   "metadata": {},
   "outputs": [
    {
     "name": "stdout",
     "output_type": "stream",
     "text": [
      "* *"
     ]
    }
   ],
   "source": [
    "print('*', '*', end = \"\")"
   ]
  },
  {
   "cell_type": "markdown",
   "id": "behind-simulation",
   "metadata": {},
   "source": [
    "- `,`(콤마)를 없애면 $\\star$ 과 $\\star$ 사이에 빈칸이 없다."
   ]
  },
  {
   "cell_type": "code",
   "execution_count": 91,
   "id": "flexible-detection",
   "metadata": {},
   "outputs": [
    {
     "name": "stdout",
     "output_type": "stream",
     "text": [
      "**"
     ]
    }
   ],
   "source": [
    "print('*' '*', end = \"\")"
   ]
  },
  {
   "cell_type": "code",
   "execution_count": 104,
   "id": "established-purchase",
   "metadata": {},
   "outputs": [],
   "source": [
    "def star(x):\n",
    "    if x == 3:\n",
    "        return print('***\\n* *\\n***', end = \"\")\n",
    "    else:\n",
    "        return ## *자리에 star(x/3)대입하면 될 줄 알았는데..."
   ]
  },
  {
   "cell_type": "markdown",
   "id": "painted-knowing",
   "metadata": {},
   "source": [
    "### 하노이 탑 이동 순서\n",
    "- 한 번에 한 개의 원판만을 다른 탑으로 옮길 수 있다.\n",
    "\n",
    "- 쌓아 놓은 원판은 항상 위의 것이 아래의 것보다 작아야 한다.\n",
    "\n",
    "- 첫째 줄에 옮긴 횟수 K를 출력한다.\n",
    "\n",
    "- 두 번째 줄부터 수행 과정을 출력한다. "
   ]
  },
  {
   "cell_type": "code",
   "execution_count": 36,
   "id": "published-header",
   "metadata": {},
   "outputs": [
    {
     "name": "stdin",
     "output_type": "stream",
     "text": [
      " 3\n"
     ]
    },
    {
     "name": "stdout",
     "output_type": "stream",
     "text": [
      "7\n",
      "1 3\n",
      "1 2\n",
      "3 2\n",
      "1 3\n",
      "2 1\n",
      "2 3\n",
      "1 3\n"
     ]
    }
   ],
   "source": [
    "N = int(input())\n",
    "\n",
    "def Hanoi(n,from_pos,to_pos,aux_pos):\n",
    "    if n==1:\n",
    "        print(from_pos,to_pos)\n",
    "    else:\n",
    "        Hanoi(n-1,from_pos,aux_pos,to_pos)\n",
    "        print(from_pos,to_pos) ## 가장 큰 원반을 목적지로 이동\n",
    "        Hanoi(n-1,aux_pos,to_pos,from_pos)\n",
    "        \n",
    "print(2**N-1)        \n",
    "Hanoi(N,1,3,2)"
   ]
  },
  {
   "cell_type": "markdown",
   "id": "impossible-annotation",
   "metadata": {},
   "source": [
    "---"
   ]
  },
  {
   "cell_type": "markdown",
   "id": "patient-henry",
   "metadata": {},
   "source": [
    "## 문자열"
   ]
  },
  {
   "cell_type": "markdown",
   "id": "republican-visibility",
   "metadata": {},
   "source": [
    "### 숫자의 합\n",
    "- N개의 숫자가 공백 없이 쓰여있다. 이 숫자를 모두 합해서 출력하는 프로그램을 작성하시오."
   ]
  },
  {
   "cell_type": "code",
   "execution_count": 69,
   "id": "handled-climate",
   "metadata": {},
   "outputs": [
    {
     "name": "stdin",
     "output_type": "stream",
     "text": [
      " 5\n",
      " 54321\n"
     ]
    },
    {
     "name": "stdout",
     "output_type": "stream",
     "text": [
      "15\n"
     ]
    }
   ],
   "source": [
    "N = int(input())\n",
    "num_str = str(input())\n",
    "num_str = num_str.replace('0',\"\")\n",
    "print(sum([int(num_str[x]) for x in range(len(num_str))]))"
   ]
  },
  {
   "cell_type": "markdown",
   "id": "funded-aquarium",
   "metadata": {},
   "source": [
    "`-` `map 함수 사용`"
   ]
  },
  {
   "cell_type": "code",
   "execution_count": 70,
   "id": "linear-recruitment",
   "metadata": {},
   "outputs": [
    {
     "name": "stdin",
     "output_type": "stream",
     "text": [
      " 5\n",
      " 54321\n"
     ]
    },
    {
     "name": "stdout",
     "output_type": "stream",
     "text": [
      "15\n"
     ]
    }
   ],
   "source": [
    "N = int(input())\n",
    "num_str = str(input())\n",
    "print(sum(map(int, num_str)))"
   ]
  },
  {
   "cell_type": "markdown",
   "id": "sapphire-nowhere",
   "metadata": {},
   "source": [
    "### 단어의 개수\n",
    "- 영어 대소문자와 띄어쓰기만으로 이루어진 문자열이 주어진다. \n",
    "\n",
    "- 이 문자열에는 몇 개의 단어가 있을까? 이를 구하는 프로그램을 작성하시오. \n",
    "\n",
    "- 단, 한 단어가 여러 번 등장하면 등장한 횟수만큼 모두 세어야 한다."
   ]
  },
  {
   "cell_type": "code",
   "execution_count": 34,
   "id": "french-solomon",
   "metadata": {},
   "outputs": [
    {
     "name": "stdin",
     "output_type": "stream",
     "text": [
      " The Curious Case of Benjamin Button\n"
     ]
    },
    {
     "name": "stdout",
     "output_type": "stream",
     "text": [
      "6\n"
     ]
    }
   ],
   "source": [
    "string = str(input())\n",
    "s = string.split(' ')\n",
    "spaces = 0\n",
    "\n",
    "if s[0] == '':\n",
    "    spaces += 1\n",
    "if s[-1] == '':\n",
    "    spaces += 1\n",
    "    \n",
    "print(len(s) - spaces)"
   ]
  },
  {
   "cell_type": "markdown",
   "id": "dietary-participant",
   "metadata": {},
   "source": [
    "`-` 어이없는 상황을 맞이함"
   ]
  },
  {
   "cell_type": "markdown",
   "id": "ordered-connecticut",
   "metadata": {},
   "source": [
    "`-` 아래 코드는 틀린 코드임"
   ]
  },
  {
   "cell_type": "markdown",
   "id": "featured-milan",
   "metadata": {},
   "source": [
    "```python\n",
    "string = str(input())\n",
    "s = string.split(' ')\n",
    "spaces = 0\n",
    "\n",
    "if s[0] or s[-1] == '':\n",
    "    spaces += 1\n",
    "    \n",
    "print(len(s) - spaces)\n",
    "```"
   ]
  },
  {
   "cell_type": "markdown",
   "id": "annual-pledge",
   "metadata": {},
   "source": [
    "`-` input을 a = ' Mazatneunde Wae Teullyeoyo' 으로 하게 되면(' '은 빼고) 앞에 띄어쓰기가 있으므로 len(s) - 1 = 3이 출력되야 하는데 4가 출력됨"
   ]
  },
  {
   "cell_type": "code",
   "execution_count": 35,
   "id": "mineral-secondary",
   "metadata": {},
   "outputs": [
    {
     "name": "stdin",
     "output_type": "stream",
     "text": [
      "  Mazatneunde Wae Teullyeoyo\n"
     ]
    },
    {
     "name": "stdout",
     "output_type": "stream",
     "text": [
      "4\n"
     ]
    }
   ],
   "source": [
    "string = str(input())\n",
    "s = string.split(' ')\n",
    "spaces = 0\n",
    "\n",
    "if s[0] or s[-1] == '':\n",
    "    spaces += 1\n",
    "    \n",
    "print(len(s) - spaces)"
   ]
  },
  {
   "cell_type": "markdown",
   "id": "polished-makeup",
   "metadata": {},
   "source": [
    "`-` 사실 위 코드에 문제가 없는 건 아님\n",
    "\n",
    "`-` 만약 앞 뒤 모두 띄어쓰기가 있다면?"
   ]
  },
  {
   "cell_type": "code",
   "execution_count": 36,
   "id": "printable-accountability",
   "metadata": {},
   "outputs": [
    {
     "name": "stdin",
     "output_type": "stream",
     "text": [
      "  Mazatneunde Wae Teullyeoyo \n"
     ]
    },
    {
     "name": "stdout",
     "output_type": "stream",
     "text": [
      "4\n"
     ]
    }
   ],
   "source": [
    "string = str(input())\n",
    "s = string.split(' ')\n",
    "spaces = 0\n",
    "\n",
    "if s[0] or s[-1] == '':\n",
    "    spaces += 1\n",
    "    \n",
    "print(len(s) - spaces)"
   ]
  },
  {
   "cell_type": "markdown",
   "id": "extreme-medium",
   "metadata": {},
   "source": [
    "`-` 4가 출력됨??"
   ]
  },
  {
   "cell_type": "code",
   "execution_count": 37,
   "id": "orange-grill",
   "metadata": {},
   "outputs": [
    {
     "name": "stdin",
     "output_type": "stream",
     "text": [
      " Teullinika Teullyeotzi \n"
     ]
    },
    {
     "name": "stdout",
     "output_type": "stream",
     "text": [
      "2\n"
     ]
    }
   ],
   "source": [
    "string = str(input())\n",
    "s = string.split(' ')\n",
    "spaces = 0\n",
    "\n",
    "if s[0] or s[-1] == '':\n",
    "    spaces += 1\n",
    "    \n",
    "print(len(s) - spaces)"
   ]
  },
  {
   "cell_type": "markdown",
   "id": "controlled-killing",
   "metadata": {},
   "source": [
    "`-` 웃긴게 뒤에만 띄어쓰기가 있는 경우에는 올바르게 출력함"
   ]
  },
  {
   "cell_type": "markdown",
   "id": "respective-madagascar",
   "metadata": {},
   "source": [
    "### 단어 공부\n",
    "- 알파벳 대소문자로 된 단어가 주어지면, 이 단어에서 가장 많이 사용된 알파벳이 무엇인지 알아내는 프로그램을 작성하시오. \n",
    "\n",
    "- 단, 대문자와 소문자를 구분하지 않는다."
   ]
  },
  {
   "cell_type": "markdown",
   "id": "abandoned-canvas",
   "metadata": {},
   "source": [
    "`-` 처음에는 for문을 2개 사용해서 같은 원소가 몇 개인지 알아낼려고 했다\n",
    "\n",
    "`-` 그런데 문자열길이가 `백만`이라 for문을 2번 돌면 2초안에 통과를 못할 것 같았다\n",
    "\n",
    "`-` 그래서 for문을 2개 쓰는 대신 다른 방법을 생각했다\n",
    "\n",
    "`-` 문자열을 대문자로 바꾸고 A~Z까지 원소를 삭제한 후 문자열 길이를 비교해 몇 개가 있는지 파악하기로 했다.\n",
    "\n",
    "`-` 나중에 찾아보니 `count 함수`를 쓰면 더 쉽게 할 수 있다."
   ]
  },
  {
   "cell_type": "code",
   "execution_count": 27,
   "id": "prospective-garden",
   "metadata": {},
   "outputs": [
    {
     "name": "stdin",
     "output_type": "stream",
     "text": [
      " Mississipi\n"
     ]
    },
    {
     "name": "stdout",
     "output_type": "stream",
     "text": [
      "?\n"
     ]
    }
   ],
   "source": [
    "\n",
    "alphabet = str(input())\n",
    "alp = alphabet.upper()\n",
    "alpha_list = ['A', 'B', 'C', 'D', 'E', 'F', 'G', 'H', 'I', 'J', 'K', 'L', 'M', 'N', 'O', 'P', 'Q', 'R', 'S', 'T', 'U', 'V', 'W', 'X', 'Y', 'Z']\n",
    "lenghts = len(alphabet)\n",
    "max_alpha = []\n",
    "\n",
    "for i in alpha_list:\n",
    "    if i in alp:\n",
    "        a_len = len(alp.replace(i, ''))\n",
    "        \n",
    "        if a_len < lenghts:\n",
    "            lenghts = a_len\n",
    "            del max_alpha[:]\n",
    "            max_alpha.append(i)\n",
    "        \n",
    "        elif a_len == lenghts:\n",
    "            max_alpha.append(i)\n",
    "            \n",
    "if len(max_alpha) > 1:\n",
    "    print('?')\n",
    "    \n",
    "else:\n",
    "    print(max_alpha[0])        \n"
   ]
  },
  {
   "cell_type": "markdown",
   "id": "major-stephen",
   "metadata": {},
   "source": [
    "### 아스키 코드\n",
    "- 알파벳 소문자, 대문자, 숫자 0-9중 하나가 주어졌을 때, 주어진 글자의 아스키 코드값을 출력하는 프로그램을 작성하시오."
   ]
  },
  {
   "cell_type": "code",
   "execution_count": 3,
   "id": "electrical-million",
   "metadata": {},
   "outputs": [
    {
     "name": "stdin",
     "output_type": "stream",
     "text": [
      " 0\n"
     ]
    },
    {
     "name": "stdout",
     "output_type": "stream",
     "text": [
      "48\n"
     ]
    }
   ],
   "source": [
    "input_ = str(input())\n",
    "print(ord(input_))"
   ]
  },
  {
   "cell_type": "markdown",
   "id": "divine-lover",
   "metadata": {},
   "source": [
    "## 알파벳 찾기\n",
    "- 알파벳 소문자로만 이루어진 단어 S가 주어진다.\n",
    "\n",
    "- 각각의 알파벳에 대해서, 단어에 포함되어 있는 경우에는 처음 등장하는 위치를, 포함되어 있지 않은 경우에는 -1을 출력하는 프로그램을 작성하시오."
   ]
  },
  {
   "cell_type": "code",
   "execution_count": 16,
   "id": "floppy-stake",
   "metadata": {},
   "outputs": [
    {
     "name": "stdin",
     "output_type": "stream",
     "text": [
      " baekjoon\n"
     ]
    },
    {
     "name": "stdout",
     "output_type": "stream",
     "text": [
      "1 0 -1 -1 2 -1 -1 -1 -1 4 3 -1 -1 7 5 -1 -1 -1 -1 -1 -1 -1 -1 -1 -1 -1 "
     ]
    }
   ],
   "source": [
    "S = str(input())\n",
    "for i in 'abcdefghijklmnopqrstuvwxyz':\n",
    "    find_ = S.find(i)\n",
    "    print(find_, end = \" \")"
   ]
  },
  {
   "cell_type": "markdown",
   "id": "animal-kuwait",
   "metadata": {},
   "source": [
    "## 문자열 반복\n",
    "- 문자열 S를 입력받은 후에, 각 문자를 R번 반복해 새 문자열 P를 만든 후 출력하는 프로그램을 작성하시오."
   ]
  },
  {
   "cell_type": "code",
   "execution_count": 36,
   "id": "normal-memory",
   "metadata": {},
   "outputs": [
    {
     "name": "stdin",
     "output_type": "stream",
     "text": [
      " 1\n",
      " 5 /HTP\n"
     ]
    },
    {
     "name": "stdout",
     "output_type": "stream",
     "text": [
      "/////HHHHHTTTTTPPPPP\n"
     ]
    }
   ],
   "source": [
    "T = int(input())\n",
    "\n",
    "for i in range(T):\n",
    "    R, S = map(str, input().split())\n",
    "    R = int(R)\n",
    "    string = ''\n",
    "    print(''.join([string + (S[j] * R) for j in range(len(S))]))\n",
    "\n"
   ]
  },
  {
   "cell_type": "markdown",
   "id": "worst-syntax",
   "metadata": {},
   "source": [
    "## 상수\n",
    "- 상근이의 동생 상수는 수학을 정말 못한다. 상수는 숫자를 읽는데 문제가 있다. \n",
    "\n",
    "- 이렇게 수학을 못하는 상수를 위해서 상근이는 수의 크기를 비교하는 문제를 내주었다. \n",
    "\n",
    "- 상근이는 세 자리 수 두 개를 칠판에 써주었다. 그 다음에 크기가 큰 수를 말해보라고 했다.\n",
    "\n",
    "- 상수는 수를 다른 사람과 다르게 거꾸로 읽는다. 예를 들어, 734와 893을 칠판에 적었다면, 상수는 이 수를 437과 398로 읽는다. \n",
    "\n",
    "- 따라서, 상수는 두 수중 큰 수인 437을 큰 수라고 말할 것이다. 두 수가 주어졌을 때, 상수의 대답을 출력하는 프로그램을 작성하시오."
   ]
  },
  {
   "cell_type": "code",
   "execution_count": 47,
   "id": "hollow-excuse",
   "metadata": {},
   "outputs": [
    {
     "name": "stdin",
     "output_type": "stream",
     "text": [
      " 734 893\n"
     ]
    },
    {
     "name": "stdout",
     "output_type": "stream",
     "text": [
      "437\n"
     ]
    }
   ],
   "source": [
    "a, b = map(str, input().split())\n",
    "\n",
    "rev_a = int(a[2] + a[1] + a[0])\n",
    "rev_b = int(b[2] + b[1] + b[0])\n",
    "\n",
    "if rev_a > rev_b:\n",
    "    print(rev_a)\n",
    "else:\n",
    "    print(rev_b)"
   ]
  },
  {
   "cell_type": "markdown",
   "id": "split-quantity",
   "metadata": {},
   "source": [
    "## 크로아티아 알파벳 \n",
    "- 문제 출처: [https://www.acmicpc.net/problem/2941](https://www.acmicpc.net/problem/2941)"
   ]
  },
  {
   "cell_type": "markdown",
   "id": "informed-fountain",
   "metadata": {},
   "source": [
    "`-` 아니 디버깅하고 있었다가 예제 모두 맞춰서 이제 됐나? 싶어서 제출 했더니 정답임.. 근데 왜 맞지??\n",
    "\n",
    "`-` 왜 정답인지 생각해 봤음\n",
    "\n",
    "`-` 내 코드를 보면 `ddz=z=` 가 입력되면 `dz=`: 1개, `z=`: 2개임\n",
    "\n",
    "`-` `z=` 원래 1개여야 맞지만 `dz=`에 있는 `z=`을 `z=`에 포함시켜 2개임\n",
    "\n",
    "`-` `그래서 total_num이 원래보다 +1이 됐음`\n",
    "\n",
    "`-` 정상 출력은 total_num + len(S) - 2 * total_num임\n",
    "\n",
    "`-` 2를 곱한 이유는 알파벳 1개당 길이가 2여서임('dz='제외)\n",
    "\n",
    "`-` 근데 사실 출력이 잘못됨. 왜냐하면 'dz='의 길이는 3이기 때문 --> `출력값이 'dz=' 하나당 1씩 부족함`\n",
    "\n",
    "`-` 그런데 'dz=' 에 'z='이 포함돼서 +1이 되어 -1과 +1이 서로 상쇄됨\n",
    "\n",
    "`-` 그래서 정답을 출력함, 노리고 한 건 아니지만 어부지리로 맞춘셈"
   ]
  },
  {
   "cell_type": "code",
   "execution_count": 102,
   "id": "medium-tobago",
   "metadata": {},
   "outputs": [
    {
     "name": "stdin",
     "output_type": "stream",
     "text": [
      " ddz=z=\n"
     ]
    },
    {
     "name": "stdout",
     "output_type": "stream",
     "text": [
      "3\n"
     ]
    }
   ],
   "source": [
    "S = str(input())\n",
    "s_len = len(S)\n",
    "total_num = (s_len - len(S.replace('dz=',''))) // 3\n",
    "\n",
    "for i in ['c=', 'c-', 'd-', 'lj', 'nj', 's=', 'z=']:\n",
    "    total_num += (s_len - len(S.replace(i, ''))) // 2\n",
    "    \n",
    "print(len(S) - total_num)"
   ]
  },
  {
   "cell_type": "markdown",
   "id": "hybrid-burlington",
   "metadata": {},
   "source": [
    "`-` 아래는 다른 사람이 작성한 코드를 보고 영감을 받아 작성한 코드임\n",
    "\n",
    "`-` 위에서 문제점은 `dz=`에 `z=`이 포함된것이다\n",
    "\n",
    "`-` 만약 'dz='을 없앤다면 괜찮을까? --> 그렇지 않음\n",
    "\n",
    "`-` 만약 `ddz=z=`이면 'dz='을 없애도 'dz='이 남게 된다\n",
    "\n",
    "`-` 만약 'dz='을 없애는 대신에 다른 문자로 바꾼다면? 예컨데 알파벳이 아닌 다른 문자\n",
    "\n",
    "`-` 'dz='을 `*` 로 바꾼다면 `ddz=z=` --> `d*z=`이 되어 제대로 개수를 셀 수 있음\n",
    "\n",
    "`-` 또 다른 장점은 이제 더 이상 알파벳의 개수를 셀 때 `//2 or //3` 을 하지 않아도 됨\n",
    "\n",
    "`-` 왜냐하면 크로아티아 알파벳을 `한 자리 문자`로 바꿨기 때문임\n",
    "\n",
    "`-` 모두 길이가 1이므로 바꾼 후에 최종 문자열의 길이를 출력하면 됨"
   ]
  },
  {
   "cell_type": "code",
   "execution_count": 106,
   "id": "cooperative-trademark",
   "metadata": {},
   "outputs": [
    {
     "name": "stdin",
     "output_type": "stream",
     "text": [
      " ddz=z=\n"
     ]
    },
    {
     "name": "stdout",
     "output_type": "stream",
     "text": [
      "3\n"
     ]
    }
   ],
   "source": [
    "S = input()\n",
    "for i in ['c=', 'c-', 'dz=', 'd-', 'lj', 'nj', 's=', 'z=']:\n",
    "    S = S.replace(i, '*')\n",
    "print(len(S))"
   ]
  },
  {
   "cell_type": "markdown",
   "id": "announced-receipt",
   "metadata": {},
   "source": [
    "---"
   ]
  },
  {
   "cell_type": "markdown",
   "id": "renewable-taste",
   "metadata": {},
   "source": [
    "## 브루트 포스(brute force)\n",
    "`-` 완전탐색 알고리즘으로 가능한 모든 경우의 수를 탐색한다. --> 100%확률로 정답 출력 "
   ]
  },
  {
   "cell_type": "markdown",
   "id": "following-spokesman",
   "metadata": {},
   "source": [
    "### 블랙잭\n",
    "- 기존 룰: 카드의 합이 21을 넘지 않는 한도 내에서, 카드의 합을 최대한 크게 만드는 게임이다.\n",
    "\n",
    "- 변형 룰: N장의 카드에 써져 있는 숫자가 주어졌을 때, M을 넘지 않으면서 M에 최대한 가까운 카드 3장의 합을 구해 출력하시오."
   ]
  },
  {
   "cell_type": "code",
   "execution_count": 181,
   "id": "alpha-documentation",
   "metadata": {},
   "outputs": [
    {
     "name": "stdin",
     "output_type": "stream",
     "text": [
      " 5 21\n",
      " 5 6 7 8 9\n"
     ]
    },
    {
     "name": "stdout",
     "output_type": "stream",
     "text": [
      "21\n"
     ]
    }
   ],
   "source": [
    "N, M = map(int,input().split())\n",
    "card = list(map(int,input().split()))\n",
    "\n",
    "def blackjack(card,length,Max):\n",
    "    card_list=[]\n",
    "    for i in range(N):\n",
    "        for j in range(N):\n",
    "            for k in range(N):\n",
    "                if i != j and j != k and i != k:\n",
    "                    if card[i]+card[j]+card[k] <= Max:\n",
    "                        card_list.append(card[i]+card[j]+card[k])\n",
    "    print(max(card_list))\n",
    "\n",
    "blackjack(card,N,M)  ## 아쉬운점: for문3번사용 --> O(n^3)"
   ]
  },
  {
   "cell_type": "markdown",
   "id": "short-macedonia",
   "metadata": {},
   "source": [
    "### 분해합\n",
    "- 어떤 자연수 N이 있을 때, 그 자연수 N의 분해합은 N과 N을 이루는 각 자리수의 합을 의미한다. \n",
    "\n",
    "- 어떤 자연수 M의 분해합이 N인 경우, M을 N의 생성자라 한다. \n",
    "\n",
    "- 예를 들어, 245의 분해합은 256(=245+2+4+5)이 된다. \n",
    "\n",
    "- 따라서 245는 256의 생성자가 된다. 물론, 어떤 자연수의 경우에는 생성자가 없을 수도 있다. \n",
    "\n",
    "- 반대로, 생성자가 여러 개인 자연수도 있을 수 있다.\n",
    "\n",
    "- 자연수 N이 주어졌을 때, N의 가장 작은 생성자를 구해내는 프로그램을 작성하시오."
   ]
  },
  {
   "cell_type": "code",
   "execution_count": 19,
   "id": "superb-magazine",
   "metadata": {},
   "outputs": [
    {
     "name": "stdin",
     "output_type": "stream",
     "text": [
      " 216\n"
     ]
    },
    {
     "name": "stdout",
     "output_type": "stream",
     "text": [
      "198\n"
     ]
    }
   ],
   "source": [
    "N = int(input())\n",
    "def solve(x):\n",
    "    list=[]\n",
    "    for i in range(1, x+1):\n",
    "        generator = i + sum([int(str(i)[j]) for j in range(len(str(i)))])\n",
    "        if generator == x:\n",
    "            list.append(i)\n",
    "            \n",
    "    if len(list) > 0:\n",
    "        return(min(list))\n",
    "    else:\n",
    "        return 0\n",
    "    \n",
    "print(solve(N))\n"
   ]
  },
  {
   "cell_type": "markdown",
   "id": "specified-stereo",
   "metadata": {},
   "source": [
    "### 임의의 숫자의 (각 자릿수 + 자기 자신)"
   ]
  },
  {
   "cell_type": "code",
   "execution_count": 1,
   "id": "municipal-actress",
   "metadata": {},
   "outputs": [
    {
     "data": {
      "text/plain": [
       "12360"
      ]
     },
     "execution_count": 1,
     "metadata": {},
     "output_type": "execute_result"
    }
   ],
   "source": [
    "x=12345\n",
    "sum([int(str(x)[i]) for i in range(len(str(x)))])+x   ### 리스트 컴프리헨션"
   ]
  },
  {
   "cell_type": "markdown",
   "id": "british-studio",
   "metadata": {},
   "source": [
    "### IQ Test(밑에 상황 때문에 반례 찾아 봤음) + 맞는 것 같은데 계속 틀림..., 그래서 다른 사람 코드 봤는데 왜 틀렸는지 모르겠음.\n",
    "\n",
    "- IQ Test의 문제 중에는 공통된 패턴을 찾는 문제가 있다. 수열이 주어졌을 때 다음 수를 찾는 문제이다.\n",
    "\n",
    "- 예를 들어 1, 2, 3, 4, 5가 주어졌다. 다음 수는 무엇인가? 당연히 답은 6이다. \n",
    "\n",
    "- 약간 더 어려운 문제를 보면 3, 6, 12, 24, 48이 주어졌을 때 다음 수는 무엇인가? 역시 답은 96이다.\n",
    "\n",
    "- 이제 제일 어려운 문제를 보자.\n",
    "\n",
    "- 1, 4, 13, 40이 주어졌을 때 다음 수는 무엇일까? 답은 121이다.\n",
    "\n",
    "- 그 이유는 항상 다음 수는 앞 수 * 3 + 1이기 때문이다.\n",
    "\n",
    "- 은진이는 위의 3문제를 모두 풀지 못했으므로 자동으로 풀어주는 프로그램을 작성하기로 했다.\n",
    "\n",
    "- 항상 모든 답은 구하는 규칙은 앞 수 * a + b이다. 그리고 a와 b는 정수이다.\n",
    "\n",
    "- 수 N개가 주어졌을 때 규칙에 맞는 다음 수를 구하는 프로그램을 작성하시오."
   ]
  },
  {
   "cell_type": "markdown",
   "id": "proprietary-proxy",
   "metadata": {},
   "source": [
    "`-` N은 2여도 1, 1 과 같이 답이 있을 수 있다.\n",
    "\n",
    "`-` 일반적으로 N = 2이면 다음 수는 여러개이다,\n",
    "\n",
    "`-` $1, 2$ --> 다음 수 $3(a=0, b=1)$ or $-8(a=-10, b=12)$ 등등\n",
    "\n",
    "`-` a, b 둘다 0일 수 도 있음"
   ]
  },
  {
   "cell_type": "markdown",
   "id": "seventh-supplement",
   "metadata": {},
   "source": [
    "`-` 스파게티 코드 + 틀렸습니다"
   ]
  },
  {
   "cell_type": "markdown",
   "id": "dominant-dinner",
   "metadata": {},
   "source": [
    "```python\n",
    "N = int(input())\n",
    "\n",
    "N_list = list(map(int, input().split()))\n",
    "\n",
    "def sequence_rule(x):\n",
    "    if len(x) == 2 and x[0] != x[1]:\n",
    "        return 'A'\n",
    "    elif len(x) == 2 and x[0] == x[1]:\n",
    "        return x[0]\n",
    "    \n",
    "    if len(x) == 1:\n",
    "        return 'A'\n",
    "    \n",
    "    if x[0] == x[1] == x[2] :\n",
    "        a = 0\n",
    "    elif x[1] == x[0]  and x[1] != x[2]:\n",
    "        return 'B'\n",
    "    else:\n",
    "        a = (x[2] - x[1]) / (x[1] - x[0])\n",
    "        \n",
    "    b = x[1] - a * x[0]\n",
    "    \n",
    "    for i in range(len(x) - 1):\n",
    "        if a * x[i] + b != x[i+1]:\n",
    "            return 'B'\n",
    "        elif x[i+1] == 0:  ## 이 부분이 문제였다. x[i+1] == 0이면 그 뒤는 확인 안하고 return 0 실행\n",
    "            return 0\n",
    "    \n",
    "    return int(a * x[-1] + b)\n",
    "\n",
    "print(sequence_rule(N_list))\n",
    "```   "
   ]
  },
  {
   "cell_type": "markdown",
   "id": "geographic-understanding",
   "metadata": {},
   "source": [
    "`-` 위에 있는 코드를 정리하자\n",
    "\n",
    "`-` 틀렸습니다\n",
    "\n",
    "`-` `exit(0)` --> python 프로그램 종료"
   ]
  },
  {
   "cell_type": "code",
   "execution_count": 7,
   "id": "severe-basis",
   "metadata": {},
   "outputs": [
    {
     "name": "stdin",
     "output_type": "stream",
     "text": [
      " 3\n",
      " 1 5 9\n"
     ]
    },
    {
     "name": "stdout",
     "output_type": "stream",
     "text": [
      "13\n"
     ]
    }
   ],
   "source": [
    "N = int(input())\n",
    "\n",
    "N_list = list(map(int, input().split()))\n",
    "\n",
    "def sequence_rule2(x):\n",
    "    if len(x) == 1:\n",
    "        return A\n",
    "        \n",
    "    elif len(x) == 2 and x[0] == x[1]:\n",
    "        return x[1]\n",
    "    \n",
    "    elif len(x) == 2 and x[0] != x[1]:\n",
    "        return 'A'\n",
    "    \n",
    "    elif x[0] == x[1]:  ## a=1, b=0 or a=0, b=x[0]\n",
    "        a = 0\n",
    "    \n",
    "    else:\n",
    "        a = (x[1] - x[2]) / (x[0] - x[1])\n",
    "        \n",
    "    b = x[1] - x[0] * a\n",
    "    \n",
    "    for i in range(len(x) - 1):\n",
    "        if a * x[i] + b != x[i+1]:\n",
    "            return 'B'\n",
    "         \n",
    "    return (int(a * x[-1] + b))\n",
    "    \n",
    "print(sequence_rule2(N_list))\n",
    "         \n",
    "\n",
    "        "
   ]
  },
  {
   "cell_type": "markdown",
   "id": "proprietary-cathedral",
   "metadata": {},
   "source": [
    "`-` `continue` --> 아래 코드를 실행하지 않고 건너뜀"
   ]
  },
  {
   "cell_type": "code",
   "execution_count": 176,
   "id": "useful-fundamentals",
   "metadata": {},
   "outputs": [
    {
     "name": "stdout",
     "output_type": "stream",
     "text": [
      "1\n",
      "3\n",
      "5\n",
      "7\n",
      "9\n"
     ]
    }
   ],
   "source": [
    "for i in range(10):       # 0부터 99까지 증가하면서 100번 반복\n",
    "    if i % 2 == 0:         # i를 2로 나누었을 때 나머지가 0면 짝수\n",
    "        continue           # 아래 코드를 실행하지 않고 건너뜀\n",
    "    print(i)"
   ]
  },
  {
   "cell_type": "markdown",
   "id": "recovered-factor",
   "metadata": {},
   "source": [
    "`-` 맞았습니다(3시간 걸림 힘들다)\n",
    "\n",
    "`-` 위의 코드와 밑의 코드는 무슨 차이일까..."
   ]
  },
  {
   "cell_type": "code",
   "execution_count": 178,
   "id": "extra-rouge",
   "metadata": {},
   "outputs": [
    {
     "name": "stdin",
     "output_type": "stream",
     "text": [
      " 4\n",
      " 1 4 13 40\n"
     ]
    },
    {
     "name": "stdout",
     "output_type": "stream",
     "text": [
      "121\n"
     ]
    }
   ],
   "source": [
    "N = int(input())\n",
    "\n",
    "x = list(map(int, input().split()))\n",
    "\n",
    "\n",
    "if N == 1:\n",
    "    print('A')\n",
    "    \n",
    "elif N == 2:\n",
    "    if x[0] == x[1]:\n",
    "        print(x[0])\n",
    "    \n",
    "    else:\n",
    "        print('A')\n",
    "        \n",
    "else:\n",
    "    if x[0] == x[1]:  ## a=1, b=0 or a=0, b=x[0]\n",
    "        a = 0\n",
    "        b = x[1]\n",
    "    \n",
    "    else:\n",
    "        a = (x[2] - x[1]) // (x[1] - x[0])\n",
    "        b = x[1] - x[0] * a\n",
    "    \n",
    "    result = True\n",
    "    \n",
    "    for i in range(N - 1):\n",
    "        if x[i] * a + b == x[i+1]:\n",
    "            continue\n",
    "        else:\n",
    "            result = False\n",
    "    if result:\n",
    "        print(a * x[-1] + b)\n",
    "    else:\n",
    "        print('B')\n",
    "         "
   ]
  },
  {
   "cell_type": "markdown",
   "id": "sacred-tracker",
   "metadata": {},
   "source": [
    "### 영화감독 숌\n",
    "- 종말의 숫자란 어떤 수에 6이 적어도 3개이상 연속으로 들어가는 수를 말한다. \n",
    "\n",
    "- 제일 작은 종말의 숫자는 666이고, 그 다음으로 큰 수는 1666, 2666, 3666, .... 과 같다.\n",
    "\n",
    "- 숌이 만든 ($N\\leq10000$)번째 영화의 제목에 들어간 숫자를 출력하는 프로그램을 작성하시오. "
   ]
  },
  {
   "cell_type": "markdown",
   "id": "spiritual-terrorism",
   "metadata": {},
   "source": [
    "`-` $N\\leq 10000$ --> 계산 결과 영화제목은 최대 7자리\n",
    "\n",
    "`-` 7자리 수까지 666을 포함하는 수를 모두 생성한 후 오름차순으로 정렬\n",
    "\n",
    "`-` 문제점: 666xxx 같은 수를 표현한다고 치자 --> 이때 xxx = 010이라면 자연수가 아니므로 010을 수로 표현할 수 없음\n",
    "\n",
    "`-` 666xxx --> 66600x + 6660xx\n",
    "\n",
    "`-` 하지만 좋은 방법이 떠오름\n",
    "\n",
    "`-` 666xxx --> 66yxxx , `y = 6`이므로 yxxx => range(6000,7000)\n",
    "\n",
    "`-` 위와 같이 표현하면 666010도 표현 가능!"
   ]
  },
  {
   "cell_type": "code",
   "execution_count": 21,
   "id": "acting-muslim",
   "metadata": {},
   "outputs": [
    {
     "name": "stdin",
     "output_type": "stream",
     "text": [
      " 2\n"
     ]
    },
    {
     "name": "stdout",
     "output_type": "stream",
     "text": [
      "1666\n"
     ]
    }
   ],
   "source": [
    "import math\n",
    "\n",
    "result = [666]\n",
    "\n",
    "result.extend([int(str(i) + '666') for i in range(1, 3000)])                              ## x666, xy666, xyy666, 1yyy666, 2yyy666 --> 앞으로 나오는 x는 자연수, y는 0포함 \n",
    "result.extend([int('66' + str(i)) for i in range(6000,7000)])                             ## 666yyy\n",
    "result.extend([int('66' + str(i)) for i in range(600, 700)])                              ## 666yy\n",
    "result.extend([int('666' + str(i)) for i in range(10)])                                   ## 666y\n",
    "\n",
    "result.extend([int(str(i) + '66' + str(j)) for i in range(1, 30) for j in range(600, 700)])  ## x666yy, 1y666yy, 2y666yy\n",
    "result.extend([int(str(i) + '66' + str(j)) for i in range(1, 100) for j in range(60, 70)])   ## x666y, xy666y   \n",
    "\n",
    "result.extend([int(str(i) + '66' + str(j)) for i in range(1, 3) for j in range(6000, 7000)])   ## 1666yyy, 2666yyy\n",
    "result.extend([int(str(i) + '666' + str(j)) for i in range(100, 300) for j in range(10)])      ## 1yy666y, 2yy666y\n",
    "result.extend([int(str(i) + '666') for i in range(1000, 3000)])                                ## 1yyy666, 2yyy666 \n",
    " \n",
    "result = list(set(result))\n",
    "result.sort()\n",
    "\n",
    "N = int(input())\n",
    "\n",
    "print(result[N-1])\n"
   ]
  },
  {
   "cell_type": "markdown",
   "id": "constitutional-grave",
   "metadata": {},
   "source": [
    "`-` 다른 사람 아이디어 보고 만든 코드 --> 내 코드보다 코드 길이가 10배 짧아서 10배 좋다고 생각할라 했는데 시간이 너무 오래 걸리네? --> 내 실수인 걸로 할라 했는데 숏코딩 보니까 다른 사람도 시간이 오래 걸렸다.\n",
    "\n",
    "`-` 종말의 수는 $10000$개가 최대이므로 아무거 커도 $3000000$ 이하이다.\n",
    "\n",
    "`-` $3000000$까지의 숫자 중 $666$을 포함하면 새로운 리스트에 포함한다."
   ]
  },
  {
   "cell_type": "code",
   "execution_count": 20,
   "id": "silent-provincial",
   "metadata": {},
   "outputs": [
    {
     "name": "stdin",
     "output_type": "stream",
     "text": [
      " 2\n"
     ]
    },
    {
     "name": "stdout",
     "output_type": "stream",
     "text": [
      "1666\n"
     ]
    }
   ],
   "source": [
    "result = []\n",
    "result.extend([int(str(i)) for i in range(666,3000000) if str(i).find('666') != -1])\n",
    "\n",
    "N = int(input())\n",
    "print(result[N-1])\n"
   ]
  },
  {
   "cell_type": "markdown",
   "id": "athletic-worry",
   "metadata": {},
   "source": [
    "`-` 숏코딩으로 만들었음(가독성 쓰레기)"
   ]
  },
  {
   "cell_type": "code",
   "execution_count": 1,
   "id": "progressive-picking",
   "metadata": {},
   "outputs": [
    {
     "name": "stdin",
     "output_type": "stream",
     "text": [
      " 2\n"
     ]
    },
    {
     "name": "stdout",
     "output_type": "stream",
     "text": [
      "1666\n"
     ]
    }
   ],
   "source": [
    "print([i for i in range(9**7)if'666'in str(i)][int(input())-1])"
   ]
  },
  {
   "cell_type": "markdown",
   "id": "functioning-durham",
   "metadata": {},
   "source": [
    "### 체스판 다시 칠하기\n",
    "- $8\\times8$ 크기의 체스판으로 잘라낸 후에 몇 개의 정사각형을 다시 칠한다.\n",
    "- 다시 칠해야 하는 정사각형의 최소 개수를 구하는 프로그램을 작성하시오."
   ]
  },
  {
   "cell_type": "markdown",
   "id": "unexpected-biography",
   "metadata": {},
   "source": [
    "`-` 밑에 있는 코드 왜 틀림???????????????\n",
    "\n",
    "`-` W로 채워진 8$\\times$8 체스판을 input 하면 답이 32가 나와야 하는데 chess1, chess2 = 24, 25가 나온다.(원인 불명)\n",
    "\n",
    "`-` 아 왜 틀렸냐고... 안해 다른 거 할 거야"
   ]
  },
  {
   "cell_type": "markdown",
   "id": "immune-restriction",
   "metadata": {},
   "source": [
    "```python\n",
    "N, M = map(int, input().split())\n",
    "data = []\n",
    "for i in range(N):\n",
    "    data.append(list(input()))\n",
    "    \n",
    "def chess(n, m):\n",
    "    \n",
    "    x, y = 0, 7\n",
    "    chess_list = []\n",
    "    \n",
    "    while x < n - 7 and y < n:\n",
    "        a, b  = 0, 7\n",
    "        \n",
    "        while a < m - 7 and b < m:\n",
    "            chess1, chess2 = 0, 0\n",
    "            \n",
    "            for i in range(x, y):\n",
    "    \n",
    "                for j in range(a, b):\n",
    "                    \n",
    "                    if (a + x) % 2 ==0:\n",
    "                        if (i + j) % 2 == 0:  \n",
    "                            if data[i][j] == 'B':\n",
    "                                chess1 += 1\n",
    "                            \n",
    "                            else:\n",
    "                                chess2 += 1\n",
    "            \n",
    "                        if (i + j) % 2 == 1:\n",
    "                            if data[i][j] == 'B':\n",
    "                                chess2 += 1\n",
    "                            \n",
    "                            else:\n",
    "                                chess1 += 1\n",
    "                                \n",
    "                    else:\n",
    "                        if (i + j) % 2 == 0:  \n",
    "                            if data[i][j] == 'B':\n",
    "                                chess2 += 1\n",
    "                            \n",
    "                            else:\n",
    "                                chess1 += 1\n",
    "            \n",
    "                        if (i + j) % 2 == 1:\n",
    "                            if data[i][j] == 'B':\n",
    "                                chess1 += 1\n",
    "                            \n",
    "                            else:\n",
    "                                chess2 += 1\n",
    "                                          \n",
    "            chess_list.extend([chess1, chess2])    \n",
    "            a += 1\n",
    "            b += 1\n",
    "        \n",
    "        x += 1\n",
    "        y += 1\n",
    "    \n",
    "    print(chess_list)\n",
    "\n",
    "chess(N, M)\n",
    "```    \n",
    "`-` `input` \n",
    "\n",
    "8, 8\n",
    "\n",
    "WWWWWWWW\n",
    "\n",
    "WWWWWWWW\n",
    "\n",
    "WWWWWWWW\n",
    "\n",
    "WWWWWWWW\n",
    "\n",
    "WWWWWWWW\n",
    "\n",
    "WWWWWWWW\n",
    "\n",
    "WWWWWWWW\n",
    "\n",
    "WWWWWWWW\n",
    "\n",
    "`-` output\n",
    "\n",
    "[24, 25]"
   ]
  },
  {
   "cell_type": "markdown",
   "id": "prompt-somalia",
   "metadata": {},
   "source": [
    "### 덩치(7568번)"
   ]
  },
  {
   "cell_type": "code",
   "execution_count": 50,
   "id": "injured-break",
   "metadata": {},
   "outputs": [
    {
     "name": "stdin",
     "output_type": "stream",
     "text": [
      " 5\n",
      " 55 185\n",
      " 58 183\n",
      " 88 186\n",
      " 60 175\n",
      " 46 155\n"
     ]
    },
    {
     "name": "stdout",
     "output_type": "stream",
     "text": [
      "2 2 1 2 5 "
     ]
    }
   ],
   "source": [
    "N = int(input())\n",
    "\n",
    "body = []\n",
    "for i in range(N):\n",
    "    body.append(list(map(int,input().split())))\n",
    "\n",
    "for i in range(N):\n",
    "    rank = 1\n",
    "    \n",
    "    for j in range(N):    \n",
    "        if body[i][0] < body[j][0] and body[i][1] < body[j][1]:\n",
    "            rank += 1\n",
    "        \n",
    "    print(rank, end = \" \")"
   ]
  },
  {
   "cell_type": "code",
   "execution_count": 44,
   "id": "decimal-abuse",
   "metadata": {},
   "outputs": [
    {
     "name": "stdout",
     "output_type": "stream",
     "text": [
      "(1, 2, 3)\n"
     ]
    }
   ],
   "source": [
    "a=['1','2','3']\n",
    "x=' '.join(a)\n",
    "a=1,2,3\n",
    "print(a)"
   ]
  },
  {
   "cell_type": "markdown",
   "id": "banned-arbor",
   "metadata": {},
   "source": [
    "---"
   ]
  },
  {
   "cell_type": "markdown",
   "id": "hawaiian-hours",
   "metadata": {},
   "source": [
    "## 소수"
   ]
  },
  {
   "cell_type": "markdown",
   "id": "twenty-contract",
   "metadata": {},
   "source": [
    "### 아파트 임대(5615번) --> 시간 초과 pass"
   ]
  },
  {
   "cell_type": "markdown",
   "id": "casual-brain",
   "metadata": {},
   "source": [
    "- 아파트 면적은 $2xy+x+y = k$ --> 2k+1 = (2x+1)(2y+1) , $x,y$는 양의 정수\n",
    "\n",
    "- 즉, 아파트 면적을 k라 할 때 2k+1은 합성수이다.\n",
    "\n",
    "- 만약, $2k+1$이 소수라면 잘못된 아파트 면적이다."
   ]
  },
  {
   "cell_type": "markdown",
   "id": "proved-parallel",
   "metadata": {},
   "source": [
    "#### 소수 판별\n",
    "```python\n",
    "def Is_prime_number(a):\n",
    "    from math import sqrt\n",
    "    for i in range(2,int(sqrt(a)+1)):\n",
    "        if a%i==0:\n",
    "            return True\n",
    "        else:\n",
    "            return False\n",
    "```   "
   ]
  },
  {
   "cell_type": "markdown",
   "id": "guided-version",
   "metadata": {},
   "source": [
    "```python\n",
    "from math import sqrt\n",
    "\n",
    "def Is_prime_number(a):\n",
    "    for i in range(2, int(sqrt(a))+1):\n",
    "        if a % i == 0:\n",
    "            return False\n",
    "        else:\n",
    "            return True\n",
    "        \n",
    "def apart(n):\n",
    "    sum = 0\n",
    "    for i in range(n):\n",
    "        x = int(input())\n",
    "        if Is_prime_number(2*x+1) == True:\n",
    "            sum +=1\n",
    "    return(sum)\n",
    "\n",
    "N = int(input())\n",
    "\n",
    "apart(N)\n",
    "```\n",
    "\n",
    "`-` `error`: 이렇게 코드를 짜면 N에 어떤 수를 대입해도 `if Is_prime_number(2*x+1) == True` 부분이 항상 참이여서 `sum += 1`이 실행된다.(원인불명)"
   ]
  },
  {
   "cell_type": "markdown",
   "id": "figured-intervention",
   "metadata": {},
   "source": [
    "```python\n",
    "from math import sqrt\n",
    "\n",
    "def Is_prime_number(a):\n",
    "    for i in range(2, int(sqrt(a))+1):\n",
    "        if a % i == 0:\n",
    "            return 0\n",
    "        else:\n",
    "            return 1\n",
    "        \n",
    "def apart(n):\n",
    "    sum = 0\n",
    "    for i in range(n):\n",
    "        x = int(input())\n",
    "        if Is_prime_number(2*x+1) == 1:\n",
    "            sum += 1\n",
    "    return(sum)\n",
    "\n",
    "N = int(input())\n",
    "\n",
    "apart(N)\n",
    "```\n",
    "`-` `error`: 이렇게 코드를 짜면 N에 어떤 수를 대입해도 `if Is_prime_number(2*x+1) == True` 부분이 항상 참이여서 `sum += 1`이 실행된다.(마찬가지로 원인불명)\n"
   ]
  },
  {
   "cell_type": "markdown",
   "id": "voluntary-tumor",
   "metadata": {},
   "source": [
    "`-` 아파트 임대 --> 시간 초과 코드"
   ]
  },
  {
   "cell_type": "code",
   "execution_count": 55,
   "id": "weird-method",
   "metadata": {},
   "outputs": [
    {
     "name": "stdin",
     "output_type": "stream",
     "text": [
      " 10\n",
      " 4\n",
      " 7\n",
      " 9\n",
      " 10\n",
      " 12\n",
      " 13\n",
      " 16\n",
      " 17\n",
      " 19\n",
      " 20\n"
     ]
    },
    {
     "data": {
      "text/plain": [
       "2"
      ]
     },
     "execution_count": 55,
     "metadata": {},
     "output_type": "execute_result"
    }
   ],
   "source": [
    "import sys\n",
    "from math import sqrt \n",
    "\n",
    "def Is_prime_number(a):\n",
    "    for i in range(2, int(sqrt(a))+1):\n",
    "        if a % i == 0:\n",
    "            return False\n",
    "    return True\n",
    "        \n",
    "def apart(n):\n",
    "    sum = 0\n",
    "    for i in range(n):\n",
    "        x = int(sys.stdin.readline())\n",
    "        if Is_prime_number(2*x+1) == 1:\n",
    "            sum += 1\n",
    "    return(sum)\n",
    "\n",
    "N = int(input())\n",
    "\n",
    "apart(N)\n"
   ]
  },
  {
   "cell_type": "markdown",
   "id": "attended-adrian",
   "metadata": {},
   "source": [
    "#### 소수판정 의문점"
   ]
  },
  {
   "cell_type": "markdown",
   "id": "foreign-volleyball",
   "metadata": {},
   "source": [
    "```python\n",
    "def is_prime_number(x):\n",
    "    # 2부터 x의 제곱근까지의 모든 수를 확인하며\n",
    "    for i in range(2, int(sqrt(x)) + 1):\n",
    "        # x가 해당 수로 나누어떨어진다면\n",
    "        if x % i == 0:\n",
    "            return False # 소수가 아님\n",
    "    return True # 소수임\n",
    "```    \n",
    "`-` 위에 코드는 문제가 없다.$\\,$ x에 2나 3을 넣어도 잘 작동함."
   ]
  },
  {
   "cell_type": "markdown",
   "id": "radical-seating",
   "metadata": {},
   "source": [
    "```python\n",
    "def is_prime_number(x):\n",
    "    # 2부터 x의 제곱근까지의 모든 수를 확인하며\n",
    "    for i in range(2, int(sqrt(x)) + 1):\n",
    "        # x가 해당 수로 나누어떨어진다면\n",
    "        if x % i == 0:\n",
    "            return False # 소수가 아님\n",
    "        else:\n",
    "            return True # 소수임\n",
    "```    \n",
    "`-` 위에 코드는 문제가 있다. x에 2나 3을 넣으면 return이 없다.\n",
    "\n",
    "`-` 아마 2나 3을 넣으면 `range(2,1)` 이 돼서 그럴 것이다."
   ]
  },
  {
   "cell_type": "markdown",
   "id": "purple-lyric",
   "metadata": {},
   "source": [
    "### 파이썬 코드 실행 시간 측정"
   ]
  },
  {
   "cell_type": "markdown",
   "id": "communist-delhi",
   "metadata": {},
   "source": [
    "```python\n",
    "import time\n",
    "\n",
    "start = time.time() ## 시작 시간 저장\n",
    "\n",
    "## -----작업 코드-----\n",
    "\n",
    "print(\"time :\", time.time() - start)\n",
    "```"
   ]
  },
  {
   "cell_type": "markdown",
   "id": "flexible-roberts",
   "metadata": {},
   "source": [
    "### 소수 찾기1\n",
    "- 주어진 수 N개 중에서 소수가 몇 개인지 찾아서 출력하는 프로그램을 작성하시오."
   ]
  },
  {
   "cell_type": "code",
   "execution_count": 9,
   "id": "comparable-finland",
   "metadata": {},
   "outputs": [
    {
     "name": "stdin",
     "output_type": "stream",
     "text": [
      " 4\n",
      " 1 3 5 7\n"
     ]
    },
    {
     "name": "stdout",
     "output_type": "stream",
     "text": [
      "3\n"
     ]
    }
   ],
   "source": [
    "\n",
    "N = int(input())\n",
    "\n",
    "def Is_prime_num(x):\n",
    "    if x == 1:\n",
    "        return False\n",
    "    \n",
    "    for i in range(2, int(x**0.5) + 1):\n",
    "        if x % i == 0:\n",
    "            return False\n",
    "        \n",
    "    return True\n",
    "\n",
    "prime_num = 0 \n",
    "\n",
    "num_list = list(map(int, input().split()))\n",
    "\n",
    "for i in range(N):\n",
    "    if Is_prime_num(num_list[i]) == True:\n",
    "        prime_num += 1\n",
    "\n",
    "print(prime_num)\n",
    "        "
   ]
  },
  {
   "cell_type": "markdown",
   "id": "photographic-priest",
   "metadata": {},
   "source": [
    "### 소수 찾기2\n",
    "- 자연수 M과 N이 주어질 때 M이상 N이하의 자연수 중 소수인 것을 모두 골라 이들 소수의 합과 최솟값을 찾는 프로그램을 작성하시오.\n",
    "\n",
    "- 만약 N과 M사이에 소수가 없다면 1을 출력하시오."
   ]
  },
  {
   "cell_type": "code",
   "execution_count": 16,
   "id": "beginning-species",
   "metadata": {},
   "outputs": [
    {
     "name": "stdin",
     "output_type": "stream",
     "text": [
      " 60\n",
      " 100\n"
     ]
    },
    {
     "name": "stdout",
     "output_type": "stream",
     "text": [
      "620\n",
      "61\n"
     ]
    }
   ],
   "source": [
    "N = int(input())\n",
    "M = int(input())\n",
    "\n",
    "def Is_prime_num(x):\n",
    "    if x == 1:\n",
    "        return False\n",
    "    \n",
    "    for i in range(2, int(x**0.5)+1):\n",
    "        if x % i == 0:\n",
    "            return False\n",
    "    return True\n",
    "\n",
    "prime_list = []\n",
    "for j in range(N, M+1):\n",
    "    if Is_prime_num(j) == True:\n",
    "        prime_list.append(j)\n",
    "\n",
    "if len(prime_list) == 0:\n",
    "    print(-1)\n",
    "else:\n",
    "    print(sum(prime_list))\n",
    "    print(min(prime_list))\n",
    "    "
   ]
  },
  {
   "cell_type": "markdown",
   "id": "leading-intervention",
   "metadata": {},
   "source": [
    "### 에라토스테네스의 체를 통한 소수 찾기(소수 찾기2 다른 풀이)"
   ]
  },
  {
   "cell_type": "markdown",
   "id": "helpful-sweden",
   "metadata": {},
   "source": [
    "`-` N과M은 10000이하의 자연수 이므로 미리 에라토스테네스의 체를 통해 소수를 구해놓자 "
   ]
  },
  {
   "cell_type": "code",
   "execution_count": 19,
   "id": "fatty-chocolate",
   "metadata": {},
   "outputs": [
    {
     "name": "stdin",
     "output_type": "stream",
     "text": [
      " 60\n",
      " 100\n"
     ]
    },
    {
     "name": "stdout",
     "output_type": "stream",
     "text": [
      "620\n",
      "61\n"
     ]
    }
   ],
   "source": [
    "N = int(input())\n",
    "M = int(input())\n",
    "\n",
    "n = 10000\n",
    "m = int(n**0.5)\n",
    "prime_list = [False, False] + [True] * (n-1)\n",
    "\n",
    "for i in range(2, m+1):\n",
    "    if prime_list[i] == True:\n",
    "        for j in range(2*i, n+1, i):\n",
    "            prime_list[j] = False\n",
    "            \n",
    "prime_num_list = [ x for x in range(N, M+1) if prime_list[x] == True]\n",
    "\n",
    "if len(prime_num_list) == 0:\n",
    "    print(-1)\n",
    "\n",
    "else:\n",
    "    print(sum(prime_num_list))\n",
    "    print(min(prime_num_list))\n",
    "    "
   ]
  },
  {
   "cell_type": "markdown",
   "id": "amateur-rover",
   "metadata": {},
   "source": [
    "```python\n",
    "if prime_list[i] == True:\n",
    "```\n",
    "`-` 위 부분은 아래와 같이 해도 됨\n",
    "```python\n",
    "if prime_list[i]:\n",
    "```\n",
    "```python \n",
    "prime_list[i] 자체가 True or False임\n",
    "```"
   ]
  },
  {
   "cell_type": "markdown",
   "id": "broken-november",
   "metadata": {},
   "source": [
    "### 소인수분해\n",
    "- 정수 N이 주어졌을 때, 소인수분해하는 프로그램을 작성하시오."
   ]
  },
  {
   "cell_type": "code",
   "execution_count": 66,
   "id": "bearing-aquatic",
   "metadata": {},
   "outputs": [
    {
     "name": "stdin",
     "output_type": "stream",
     "text": [
      " 1001\n"
     ]
    },
    {
     "name": "stdout",
     "output_type": "stream",
     "text": [
      "7\n",
      "11\n",
      "13\n"
     ]
    }
   ],
   "source": [
    "\n",
    "import sys\n",
    "n = 3164\n",
    "m = int(n**0.5)\n",
    "prime_nums = [False, False] + [True]*(n-1)\n",
    "\n",
    "for i in range(2, m+1):\n",
    "    if prime_nums[i] == True:\n",
    "        for j in range(2*i, n+1, i):\n",
    "            prime_nums[j] = False\n",
    "            \n",
    "N = int(input())\n",
    "M = int(N**0.5)\n",
    "\n",
    "\n",
    "def factorization_into_primes(x): \n",
    "    if x == 1:\n",
    "        sys.exit(0)\n",
    "        \n",
    "    stack = 0\n",
    "    mul = 1\n",
    "    for k in range(2, M+1):\n",
    "        if prime_nums[k] == False:\n",
    "            continue\n",
    "        \n",
    "        else:\n",
    "            l = x/k\n",
    "            while l == int(l):\n",
    "                print(k)\n",
    "                mul *= k\n",
    "                stack += 1\n",
    "                l = l/k\n",
    "\n",
    "    if stack == 0:\n",
    "        print(x)\n",
    "\n",
    "    elif mul != N:\n",
    "        print(int(x/mul))\n",
    "\n"
   ]
  },
  {
   "cell_type": "markdown",
   "id": "quantitative-width",
   "metadata": {},
   "source": [
    "### 소수 구하기\n",
    "- M이상 N이하의 소수를 모두 출력하는 프로그램을 작성하시오."
   ]
  },
  {
   "cell_type": "code",
   "execution_count": 7,
   "id": "chronic-clinic",
   "metadata": {},
   "outputs": [
    {
     "name": "stdin",
     "output_type": "stream",
     "text": [
      " 3 16\n"
     ]
    },
    {
     "name": "stdout",
     "output_type": "stream",
     "text": [
      "3\n",
      "5\n",
      "7\n",
      "11\n",
      "13\n"
     ]
    }
   ],
   "source": [
    "n = 1000000\n",
    "m = int(n**0.5)\n",
    "prime_num_list = [False, False] + [True]*(n-1)\n",
    "\n",
    "for i in range(2, m+1):\n",
    "    if prime_num_list[i] == True:\n",
    "        \n",
    "        for j in range(2*i, n+1, i):\n",
    "            prime_num_list[j] = False\n",
    "            \n",
    "M, N = map(int, input().split())\n",
    "\n",
    "prime_num = [x for x in range(M, N+1) if prime_num_list[x] == True]\n",
    "\n",
    "for k in range(len(prime_num)):\n",
    "    print(prime_num[k])\n",
    "          "
   ]
  },
  {
   "cell_type": "markdown",
   "id": "subjective-tradition",
   "metadata": {},
   "source": [
    "### 베르트랑 공준\n",
    "- 베르트랑 공준은 임의의 자연수 n에 대하여, n보다 크고, 2n보다 작거나 같은 소수는 적어도 하나 존재한다는 내용을 담고 있다.\n",
    "\n",
    "- 예를 들어, 10보다 크고, 20보다 작거나 같은 소수는 4개가 있다. (11, 13, 17, 19) 또, 14보다 크고, 28보다 작거나 같은 소수는 3개가 있다. (17,19, 23)\n",
    "\n",
    "- 자연수 n이 주어졌을 때, n보다 크고, 2n보다 작거나 같은 소수의 개수를 구하는 프로그램을 작성하시오. "
   ]
  },
  {
   "cell_type": "code",
   "execution_count": 25,
   "id": "ordered-refund",
   "metadata": {},
   "outputs": [
    {
     "name": "stdin",
     "output_type": "stream",
     "text": [
      " 1\n"
     ]
    },
    {
     "name": "stdout",
     "output_type": "stream",
     "text": [
      "1\n"
     ]
    },
    {
     "name": "stdin",
     "output_type": "stream",
     "text": [
      " 10\n"
     ]
    },
    {
     "name": "stdout",
     "output_type": "stream",
     "text": [
      "4\n"
     ]
    },
    {
     "name": "stdin",
     "output_type": "stream",
     "text": [
      " 13\n"
     ]
    },
    {
     "name": "stdout",
     "output_type": "stream",
     "text": [
      "3\n"
     ]
    },
    {
     "name": "stdin",
     "output_type": "stream",
     "text": [
      " 100\n"
     ]
    },
    {
     "name": "stdout",
     "output_type": "stream",
     "text": [
      "21\n"
     ]
    },
    {
     "name": "stdin",
     "output_type": "stream",
     "text": [
      " 1000\n"
     ]
    },
    {
     "name": "stdout",
     "output_type": "stream",
     "text": [
      "135\n"
     ]
    },
    {
     "name": "stdin",
     "output_type": "stream",
     "text": [
      " 10000\n"
     ]
    },
    {
     "name": "stdout",
     "output_type": "stream",
     "text": [
      "1033\n"
     ]
    },
    {
     "name": "stdin",
     "output_type": "stream",
     "text": [
      " 100000\n"
     ]
    },
    {
     "name": "stdout",
     "output_type": "stream",
     "text": [
      "8392\n"
     ]
    },
    {
     "name": "stdin",
     "output_type": "stream",
     "text": [
      " 0\n"
     ]
    }
   ],
   "source": [
    "\n",
    "n = 123456 * 2\n",
    "m = int(n**0.5)\n",
    "prime_nums = [False, False] + [True]*(n-1)\n",
    "\n",
    "for i in range(2, m+1):\n",
    "    if prime_nums[i] == True:\n",
    "        \n",
    "        for j in range(2*i, n+1, i):\n",
    "            prime_nums[j] = False\n",
    "            \n",
    "def prime_number(num):\n",
    "    print(len([x for x in range(num+1, 2*num+1) if prime_nums[x] == True])) \n",
    "                  \n",
    "while True:\n",
    "    n = int(input())   \n",
    "    if n == 0:\n",
    "        break\n",
    "    prime_number(n)\n",
    "    "
   ]
  },
  {
   "cell_type": "markdown",
   "id": "secondary-defendant",
   "metadata": {},
   "source": [
    "### 골드바흐의 추측\n",
    "- 짝수를 두 소수의 합으로 나타내는 표현을 그 수의 골드바흐 파티션이라고 한다. \n",
    "\n",
    "- 2보다 큰 짝수 n이 주어졌을 때, n의 골드바흐 파티션을 출력하는 프로그램을 작성하시오.\n",
    "\n",
    "- 만약 가능한 n의 골드바흐 파티션이 여러 가지인 경우에는 두 소수의 차이가 가장 작은 것을 출력한다."
   ]
  },
  {
   "cell_type": "markdown",
   "id": "renewable-shelter",
   "metadata": {},
   "source": [
    "`-` 신기한점\n",
    "\n",
    "```python\n",
    "n = 10000\n",
    "m = int(n**0.5)\n",
    "prime_num_list = [False, False] + [True]*(n-1)\n",
    "\n",
    "for i in range(2, m+1):\n",
    "    if prime_num_list[i] == True:\n",
    "        \n",
    "        for j in range(2*i, n+1, i):\n",
    "            prime_num_list[j] = False\n",
    "\n",
    "prime_num = [x for x in range(2, n+1) if prime_num_list[x] == True]\n",
    "\n",
    "### 여기까지 동일\n",
    "\n",
    "last_prime_num = [x for x in range(2, 5000) if prime_num_list[x] == True].reverse()\n",
    "type(last_prime_num)\n",
    "```\n",
    "`-` 위의 코드에서 `type(last_prime_num)`의 결과는 `Nonetype`임\n",
    "\n",
    "```python\n",
    "### 동일 부분 생략\n",
    "\n",
    "last_prime_num = [x for x in range(2, 5000) if prime_num_list[x] == True]\n",
    "last_prime_num.reverse()\n",
    "type(last_prime_num)\n",
    "```\n",
    "`-` 위의 코드에서 `type(last_prime_num)`의 결과는 `list`임\n",
    "\n",
    "`-` 무슨 차이일까?"
   ]
  },
  {
   "cell_type": "code",
   "execution_count": 71,
   "id": "cooperative-polish",
   "metadata": {},
   "outputs": [
    {
     "name": "stdin",
     "output_type": "stream",
     "text": [
      " 1\n",
      " 12\n"
     ]
    },
    {
     "name": "stdout",
     "output_type": "stream",
     "text": [
      "5 7\n"
     ]
    }
   ],
   "source": [
    "\n",
    "n = 10000\n",
    "m = int(n**0.5)\n",
    "prime_num_list = [False, False] + [True]*(n-1)\n",
    "\n",
    "for i in range(2, m+1):\n",
    "    if prime_num_list[i] == True:\n",
    "        \n",
    "        for j in range(2*i, n+1, i):\n",
    "            prime_num_list[j] = False\n",
    "\n",
    "prime_num = [x for x in range(2, n+1) if prime_num_list[x] == True]\n",
    "\n",
    "\n",
    "last_prime_num = [x for x in range(2, 5000) if prime_num_list[x] == True]\n",
    "last_prime_num.reverse()\n",
    "p = len(prime_num)\n",
    "\n",
    "T = int(input())\n",
    "for i in range(T):\n",
    "    N = int(input())\n",
    "    \n",
    "    for j in range(N//2, N+1):\n",
    "        if j in prime_num and N - j in prime_num:\n",
    "            print(N - j, j)\n",
    "            break\n",
    "            "
   ]
  },
  {
   "cell_type": "markdown",
   "id": "sporting-language",
   "metadata": {},
   "source": [
    "`-` 위의 코드는 시간이 매우 오래 걸리는 쓰레기임"
   ]
  },
  {
   "cell_type": "markdown",
   "id": "returning-jersey",
   "metadata": {},
   "source": [
    "`-` 새로 만들었음"
   ]
  },
  {
   "cell_type": "markdown",
   "id": "scenic-arrangement",
   "metadata": {},
   "source": [
    "`-` 시간이 $\\frac{1}{4}$ 이 됐다: 2344ms --> 556ms"
   ]
  },
  {
   "cell_type": "code",
   "execution_count": 78,
   "id": "irish-honolulu",
   "metadata": {},
   "outputs": [
    {
     "name": "stdin",
     "output_type": "stream",
     "text": [
      " 1\n",
      " 12\n"
     ]
    },
    {
     "name": "stdout",
     "output_type": "stream",
     "text": [
      "5 7\n"
     ]
    }
   ],
   "source": [
    "\n",
    "n = 10000\n",
    "m = int(n**0.5)\n",
    "prime_num_list = [False, False] + [True]*(n-1)\n",
    "\n",
    "for i in range(2, m+1):\n",
    "    if prime_num_list[i]:\n",
    "        \n",
    "        for j in range(2*i, n+1, i):\n",
    "            prime_num_list[j] = False\n",
    "\n",
    "T = int(input())\n",
    "for i in range(T):\n",
    "    N = int(sys.)\n",
    "    \n",
    "    for j in range(N//2, N+1):\n",
    "        if prime_num_list[j] and prime_num_list[N - j]:\n",
    "            print(N - j, j)\n",
    "            break\n",
    "            "
   ]
  },
  {
   "cell_type": "markdown",
   "id": "foreign-access",
   "metadata": {},
   "source": [
    "`-` 더 줄이고 싶다\n",
    "\n",
    "`-` 시간이 96ms로 단축됨\n",
    "\n",
    "`-` [$\\star\\star\\star$] 여러번 반복하여 입력을 받는 경우에는 `input()` 대신 `sys.stdin.readline()` 사용 [$\\star\\star\\star$]"
   ]
  },
  {
   "cell_type": "markdown",
   "id": "exceptional-analyst",
   "metadata": {},
   "source": [
    "---"
   ]
  },
  {
   "cell_type": "markdown",
   "id": "answering-dutch",
   "metadata": {},
   "source": [
    "## 기본 수학1 (시간 초과 주의)"
   ]
  },
  {
   "cell_type": "markdown",
   "id": "opposite-newsletter",
   "metadata": {},
   "source": [
    "### 달팽이는 올라가고 싶다.\n",
    "- 땅 위에 달팽이가 있다. 이 달팽이는 높이가 V미터인 나무 막대를 올라갈 것이다.\n",
    "\n",
    "- 달팽이는 낮에 A미터 올라갈 수 있다. 하지만, 밤에 잠을 자는 동안 B미터 미끄러진다. 또, 정상에 올라간 후에는 미끄러지지 않는다.\n",
    "\n",
    "- 달팽이가 나무 막대를 모두 올라가려면, 며칠이 걸리는지 구하는 프로그램을 작성하시오."
   ]
  },
  {
   "cell_type": "markdown",
   "id": "simplified-bargain",
   "metadata": {},
   "source": [
    "`-` 달팽이는 올라가고 싶다 --> 시간 초과 코드(while 반복문 사용)"
   ]
  },
  {
   "cell_type": "code",
   "execution_count": 6,
   "id": "polished-morris",
   "metadata": {},
   "outputs": [
    {
     "name": "stdin",
     "output_type": "stream",
     "text": [
      " 5 1 100\n"
     ]
    },
    {
     "name": "stdout",
     "output_type": "stream",
     "text": [
      "25\n"
     ]
    }
   ],
   "source": [
    "A, B, V = map(int,input().split())  ### 시간 초과\n",
    "\n",
    "day = 1\n",
    "h = 0\n",
    "\n",
    "while 1:\n",
    "    h += A\n",
    "    \n",
    "    if h >= V:\n",
    "        break   \n",
    "        \n",
    "    h -= B\n",
    "    day += 1 \n",
    "    \n",
    "print(day)    "
   ]
  },
  {
   "cell_type": "markdown",
   "id": "unique-pennsylvania",
   "metadata": {},
   "source": [
    "`-` 달팽이는 올라가고 싶다 --> 시간 초과 해결한 코드(한 줄 수식)"
   ]
  },
  {
   "cell_type": "code",
   "execution_count": 7,
   "id": "frozen-aside",
   "metadata": {},
   "outputs": [
    {
     "name": "stdin",
     "output_type": "stream",
     "text": [
      " 5 1 100\n"
     ]
    },
    {
     "name": "stdout",
     "output_type": "stream",
     "text": [
      "25\n"
     ]
    }
   ],
   "source": [
    "import math\n",
    "A, B, V = map(int,input().split())  ### 시간 초과 해결\n",
    "print(math.ceil((V-A)/(A-B))+1)"
   ]
  },
  {
   "cell_type": "markdown",
   "id": "proper-grill",
   "metadata": {},
   "source": [
    "### 손익분기점\n",
    "- A는 고정 비용, B는 가변 비용, C는 수익, k는 판매량\n",
    "\n",
    "- $C*k > A + B*k$ --> $k > \\frac{A}{C-B}$"
   ]
  },
  {
   "cell_type": "code",
   "execution_count": 35,
   "id": "grand-heater",
   "metadata": {},
   "outputs": [
    {
     "name": "stdin",
     "output_type": "stream",
     "text": [
      " 3 2 1\n"
     ]
    },
    {
     "name": "stdout",
     "output_type": "stream",
     "text": [
      "-1\n"
     ]
    }
   ],
   "source": [
    "A, B, C = map(int, input().split())\n",
    "if abs(C-B) < 0.5:   ### C == B 여부를 판단\n",
    "    print(-1)\n",
    "    \n",
    "elif int(A/(C-B)) < 0:\n",
    "    print(-1)\n",
    "\n",
    "else:\n",
    "    print(int(A/(C-B)) + 1)"
   ]
  },
  {
   "cell_type": "markdown",
   "id": "incredible-forwarding",
   "metadata": {},
   "source": [
    "`-` 위에 코드보다 더 간결한 코드\n",
    "\n",
    "`-` A에 관계없이 B >= C이면 손익분기점이 없다."
   ]
  },
  {
   "cell_type": "code",
   "execution_count": 36,
   "id": "fixed-clothing",
   "metadata": {},
   "outputs": [
    {
     "name": "stdin",
     "output_type": "stream",
     "text": [
      " 1000 70 170\n"
     ]
    },
    {
     "name": "stdout",
     "output_type": "stream",
     "text": [
      "11\n"
     ]
    }
   ],
   "source": [
    "A, B, C = map(int, input().split())\n",
    "if B >= C:   ### C == B 여부를 판단\n",
    "    print(-1)   \n",
    "else:\n",
    "    print(int(A/(C-B)) + 1)"
   ]
  },
  {
   "cell_type": "markdown",
   "id": "mental-lancaster",
   "metadata": {},
   "source": [
    "### Fly me to the Alpha Centauri\n",
    "- 시작할 땐 1만큼 도착할 때도 1만큼 이동\n",
    "\n",
    "- k만큼 이동한 후에 k-1 or k or k+1 만큼 이동 가능"
   ]
  },
  {
   "cell_type": "markdown",
   "id": "dependent-cement",
   "metadata": {},
   "source": [
    "`-` 이동 횟수를 최소화할려면?\n",
    "\n",
    "`-` $x지점(출발=0)\\to{1}\\to{2}\\to{3}\\to\\dots\\to{n}\\to{n-1}\\to\\dots\\to{2}\\to{1}\\to{y지점}(도착=0)$\n",
    "\n",
    "`-` $이동\\,거리 = \\sum_{i=1}^{n}{k} + \\sum_{i=1}^{n-1}{k} = \\frac{n(n+1)}{2} + \\frac{(n-1)n}{2} = n^2$ \n",
    "\n",
    "`-` $y-x = n^2$\n",
    "\n",
    "`-` $이동\\,횟수 = 화살표의\\,개수 = n+(n-1)=2n-1$\n",
    "\n",
    "`-` 즉 $n^2$의 거리를 이동하기 위한 최소한의 이동 횟수는 $2n-1$이다.\n",
    "\n",
    "`-` 바꿔말하면 $2n-1$번의 이동으로 갈 수 있는 최대 거리는 $n^2$이다."
   ]
  },
  {
   "cell_type": "markdown",
   "id": "confirmed-distinction",
   "metadata": {},
   "source": [
    "`-` 위에 방법에 기반하여 정리를 해봤다.\n",
    "\n",
    "`-` 위에서는 이동 거리가 $n^2$에 대해서 고려했다. 하지만 이동 거리가 제곱수가 아닐 수 도 있다.\n",
    "\n",
    "`-` 예로 이동 거리가 110이면 이동 횟수는 $\\sqrt{100} \\leq \\sqrt{110} \\leq \\sqrt{121}$ 이므로 10 or 11 or 12이다.\n",
    "\n",
    "`-` $n^2 = 1+1+2+2+\\dots+(n-1)+(n-1)+n$ 이다.\n",
    "\n",
    "`-` 100 과 121의 차이는 21 = 10 + 11 --> 100은 이동 횟수 $2n-1=19$, 101$\\sim$110 은 $2n=20$, 111$\\sim$121은 $2n+1=21$이다."
   ]
  },
  {
   "cell_type": "code",
   "execution_count": 1,
   "id": "champion-trash",
   "metadata": {},
   "outputs": [
    {
     "name": "stdin",
     "output_type": "stream",
     "text": [
      " 3\n",
      " 0 3\n"
     ]
    },
    {
     "name": "stdout",
     "output_type": "stream",
     "text": [
      "3\n"
     ]
    },
    {
     "name": "stdin",
     "output_type": "stream",
     "text": [
      " 1 5\n"
     ]
    },
    {
     "name": "stdout",
     "output_type": "stream",
     "text": [
      "3\n"
     ]
    },
    {
     "name": "stdin",
     "output_type": "stream",
     "text": [
      " 45 50\n"
     ]
    },
    {
     "name": "stdout",
     "output_type": "stream",
     "text": [
      "4\n"
     ]
    }
   ],
   "source": [
    "T = int(input())\n",
    "\n",
    "for i in range(T):\n",
    "    x, y = map(int, input().split())\n",
    "    n = y - x\n",
    "    \n",
    "    m = int(n**0.5)\n",
    "    \n",
    "    if n**0.5 == m:\n",
    "        print(2*m - 1)\n",
    "    \n",
    "    elif n - m**2 <= m:\n",
    "        print(2*m)\n",
    "    \n",
    "    else:\n",
    "        print(2*m + 1)\n",
    "        "
   ]
  },
  {
   "cell_type": "markdown",
   "id": "wanted-genetics",
   "metadata": {},
   "source": [
    "### 설탕 배달"
   ]
  },
  {
   "cell_type": "markdown",
   "id": "endless-title",
   "metadata": {},
   "source": [
    "- 상근이는 요즘 설탕공장에서 설탕을 배달하고 있다. 상근이는 지금 사탕가게에 설탕을 정확하게 N킬로그램을 배달해야 한다. \n",
    "\n",
    "- 설탕공장에서 만드는 설탕은 봉지에 담겨져 있다. 봉지는 3킬로그램 봉지와 5킬로그램 봉지가 있다.\n",
    "\n",
    "- 상근이는 귀찮기 때문에, 최대한 적은 봉지를 들고 가려고 한다. \n",
    "\n",
    "- 예를 들어, 18킬로그램 설탕을 배달해야 할 때, 3킬로그램 봉지 6개를 가져가도 된다.\n",
    "\n",
    "- 하지만 5킬로그램 3개와 3킬로그램 1개를 배달하면, 더 적은 개수의 봉지를 배달할 수 있다.\n",
    "\n",
    "- 상근이가 설탕을 정확하게 N킬로그램 배달해야 할 때, 봉지 몇 개를 가져가면 되는지 그 수를 구하는 프로그램을 작성하시오.\n",
    "\n",
    "- 만약, 정확하게 N킬로그램을 만들 수 없다면 -1을 출력한다."
   ]
  },
  {
   "cell_type": "markdown",
   "id": "transsexual-healthcare",
   "metadata": {},
   "source": [
    "`-` 봉지를 최소화 해야 한다. --> 5kg 봉지를 최대한 많이 써야 한다.\n",
    "\n",
    "`-` 설탕의 무게를 5로 나눈다.\n",
    "\n",
    "`-` 만약 5로 나눠지면 끝이다. 그러지 않다면 5kg 봉지를 하나씩 줄여나가고 나머지를 3kg 봉지로 담는다.\n",
    "\n",
    "`-` 5kg 봉지를 하나씩 줄이다가 0이 됐다면 전부 3kg 봉지를 사용한다.\n",
    "\n",
    "`-` 그래도 안된다면 정확하게 Nkg을 만드는 것이 불가능하므로 -1을 출력한다."
   ]
  },
  {
   "cell_type": "markdown",
   "id": "center-problem",
   "metadata": {},
   "source": [
    "```python\n",
    "N = int(input())\n",
    "\n",
    "def sugar(n):\n",
    "    k = n//5\n",
    "    l = n % 5\n",
    "    if l == 0:\n",
    "        return k\n",
    "    \n",
    "    else:\n",
    "        n = n - k*5\n",
    "        if n % 3 ==0:\n",
    "            return k + 1\n",
    "        \n",
    "        else:\n",
    "            n = n - (k-1)*5\n",
    "            if n % 3 ==0:\n",
    "                return k - 1 + n//3\n",
    "            \n",
    "            else:\n",
    "                n = n - (k-2)*5\n",
    "                if n % 3 == 0:\n",
    "                    return k - 2 + n//3\n",
    "                \n",
    "                else:\n",
    "                    n = n -(k-3)*5\n",
    "                    if n % 3 ==0:\n",
    "                        return k - 3 + n//3\n",
    "                    \n",
    "                    else:\n",
    "                        \n",
    "                        ......\n",
    "                        \n",
    "                        if n < 0:\n",
    "                            return -1\n",
    "            \n",
    "```   \n",
    "- 이런식으로 전개될 것이다."
   ]
  },
  {
   "cell_type": "code",
   "execution_count": 1,
   "id": "present-confidentiality",
   "metadata": {},
   "outputs": [
    {
     "name": "stdin",
     "output_type": "stream",
     "text": [
      " 1001\n"
     ]
    },
    {
     "name": "stdout",
     "output_type": "stream",
     "text": [
      "201\n"
     ]
    }
   ],
   "source": [
    "N = int(input())\n",
    "\n",
    "def sugar(n):\n",
    "    k = n // 5\n",
    "    l = n % 5\n",
    "    \n",
    "    for i in range(k+1):\n",
    "        if l == 0:\n",
    "            return k\n",
    "            break\n",
    "        elif l % 3 == 0:\n",
    "            return k + l // 3\n",
    "            break\n",
    "        else:\n",
    "            l += 5\n",
    "            k -= 1\n",
    "    \n",
    "    return -1\n",
    "    \n",
    "print(sugar(N))\n",
    "        \n",
    "    "
   ]
  },
  {
   "cell_type": "markdown",
   "id": "medical-outside",
   "metadata": {},
   "source": [
    "`-` 코드를 둘러보던 중 위의 코드가 비효율적이라 느껴졌다\n",
    "\n",
    "`-` 왜냐하면 `for문`에서 `if l == 0:` 은 처음 한 번 해서 False이면 영원히 False이다 --> `else: l += 5` 때문\n",
    "\n",
    "`-` 하지만 for문 안에 있어서 `k+1`번 쓸모없는 행위를 반복해야 한다.\n",
    "\n",
    "`-` 그래서 아래와 같이 수정했다\n",
    "\n",
    "`-` 그런데 시간이 64ms 에서 72ms가 됐다???"
   ]
  },
  {
   "cell_type": "code",
   "execution_count": 1,
   "id": "working-blend",
   "metadata": {},
   "outputs": [
    {
     "name": "stdin",
     "output_type": "stream",
     "text": [
      " 1001\n"
     ]
    },
    {
     "name": "stdout",
     "output_type": "stream",
     "text": [
      "201\n"
     ]
    }
   ],
   "source": [
    "N = int(input())\n",
    "\n",
    "def sugar(n):\n",
    "    k = n // 5\n",
    "    l = n % 5\n",
    "    \n",
    "    if l == 0:\n",
    "        return k\n",
    "    \n",
    "    for i in range(k+1):\n",
    "        if l % 3 == 0:\n",
    "            return k + l // 3\n",
    "            break\n",
    "        else:\n",
    "            l += 5\n",
    "            k -= 1\n",
    "    \n",
    "    return -1\n",
    "    \n",
    "print(sugar(N))\n",
    "        "
   ]
  },
  {
   "cell_type": "markdown",
   "id": "structured-memory",
   "metadata": {},
   "source": [
    "### print 와 return 의 차이(간단히)\n",
    "`-` return 은 종료문이다. 함수에서 return을 만나면 함수가 종료된다.\n",
    "\n",
    "`-` 그렇기에 return이 여러개여도 하나만 반환된다.\n",
    "\n",
    "`-` 여러 값을 반환하고 싶다면 return a,b,c, $\\dots$ \n",
    "\n",
    "`-` print()는 그렇지 않다.\n",
    "\n",
    "`-` 위에 설탕배달 코드에서 return을 print()로 바꾼다면 항상 -1을 출력하지만\n",
    "\n",
    "`-` return이기 때문에 `return k` or `return k + l//3`이 실행되지 않을 때만 `return -1`이 실행된다."
   ]
  },
  {
   "cell_type": "markdown",
   "id": "hidden-salvation",
   "metadata": {},
   "source": [
    "### 분수찾기"
   ]
  },
  {
   "cell_type": "markdown",
   "id": "received-symposium",
   "metadata": {},
   "source": [
    "- 이와 같이 나열된 분수들을 1/1 -> 1/2 -> 2/1 -> 3/1 -> 2/2 -> … 과 같은 지그재그 순서로 차례대로 1번, 2번, 3번, 4번, 5번, … 분수라고 하자.\n",
    "\n",
    "- X가 주어졌을 때, X번째 분수를 구하는 프로그램을 작성하시오."
   ]
  },
  {
   "cell_type": "markdown",
   "id": "double-italic",
   "metadata": {},
   "source": [
    "`-` `분모 + 분자 = n + 1`인 분수가 `n개` 있다.\n",
    "\n",
    "`-` 분모 + 분자가 `2`인 분수가 `1개`, `3`인 분수가 `2개`, `4`인 분수가 `3개`, $\\dots$, `n+1`인 분수가 `n개`\n",
    "\n",
    "`-` 분모 + 분자가 $n+1$인 끝점: $1+2+3+\\dots+n-2+n-1+n$ "
   ]
  },
  {
   "cell_type": "code",
   "execution_count": 86,
   "id": "thrown-athletics",
   "metadata": {},
   "outputs": [
    {
     "name": "stdin",
     "output_type": "stream",
     "text": [
      " 11\n"
     ]
    },
    {
     "name": "stdout",
     "output_type": "stream",
     "text": [
      "4\n",
      "10\n",
      "4\n",
      "15\n",
      "5/1\n"
     ]
    }
   ],
   "source": [
    "\n",
    "x = int(input())\n",
    "n = int((x * 2) ** 0.5)\n",
    "k = n * (n + 1) // 2\n",
    "a = k - x\n",
    "\n",
    "if a < 0:\n",
    "    n += 1\n",
    "    k += n\n",
    "    a = k - x  \n",
    "\n",
    "if n % 2 == 0:\n",
    "    print(str(n-a)+'/'+str(1+a))\n",
    "    \n",
    "else:\n",
    "    print(str(1+a)+'/'+str(n-a))"
   ]
  },
  {
   "cell_type": "markdown",
   "id": "premier-board",
   "metadata": {},
   "source": [
    "### 수학은 비대면강의입니다(19532번) "
   ]
  },
  {
   "cell_type": "markdown",
   "id": "toxic-singing",
   "metadata": {},
   "source": [
    "`-` 백준은 내부 라이브러리만 사용 가능, `numpy`는 외부 라이브러리라 사용 불가능"
   ]
  },
  {
   "cell_type": "markdown",
   "id": "conventional-shepherd",
   "metadata": {},
   "source": [
    "```python\n",
    "import numpy as np\n",
    "\n",
    "a, b, c, d, e, f = map(int, input().split())\n",
    "\n",
    "array1 = np.array([[a, b], [d, e]])  \n",
    "array2 = np.array([c, f])\n",
    "\n",
    "x, y = np.linalg.inv(array1) @ array2\n",
    "print(round(x), round(y))\n",
    "```"
   ]
  },
  {
   "cell_type": "markdown",
   "id": "protective-brighton",
   "metadata": {},
   "source": [
    "`-` 연립 일차 방정식을 행렬을 통해 풀어 보자"
   ]
  },
  {
   "cell_type": "code",
   "execution_count": 6,
   "id": "applicable-google",
   "metadata": {},
   "outputs": [
    {
     "name": "stdin",
     "output_type": "stream",
     "text": [
      " 2 5 8 3 -4 -11\n"
     ]
    },
    {
     "name": "stdout",
     "output_type": "stream",
     "text": [
      "-1 2\n"
     ]
    }
   ],
   "source": [
    "a, b, c, d, e, f = map(int, input().split())\n",
    "\n",
    "det = a * e - b * d\n",
    "print(round((e * c - f *b ) / det), round((a * f - c * d) / det))\n",
    "\n"
   ]
  },
  {
   "cell_type": "markdown",
   "id": "industrial-scholar",
   "metadata": {},
   "source": [
    "### 부녀회장이 될테야\n",
    "- 아파트에 거주를 하려면 조건이 있는데\n",
    "\n",
    "- a층의 b호에 살려면 자신의 아래(a-1)층의 1호부터 b호까지 사람들의 수의 합만큼 사람들을 데려와 살아야 한다\n",
    "\n",
    "- 아파트에는 0층부터 있고 각층에는 1호부터 있으며, 0층의 i호에는 i명이 산다"
   ]
  },
  {
   "cell_type": "markdown",
   "id": "protected-pickup",
   "metadata": {},
   "source": [
    "`-` a층의 b호 사람 수 = a층의 b-1호 사람 수 + a-1층의 b호 사람 수\n",
    "\n",
    "`-` 기본적으로 생각하면 0층 b호에는 n명이 살고 a층 1호에는 1명이 a층 2호에는 a+2명이 산다.\n",
    "\n",
    "`-` 점화식을 알고 있으므로 재귀 함수를 사용했음\n",
    "\n",
    "`-` 호출을 여러 번 해야해서 좋지 않음\n",
    "\n",
    "`-` 시간 초과에 걸림"
   ]
  },
  {
   "cell_type": "code",
   "execution_count": 40,
   "id": "elegant-topic",
   "metadata": {},
   "outputs": [
    {
     "name": "stdin",
     "output_type": "stream",
     "text": [
      " 1\n",
      " 14\n",
      " 14\n"
     ]
    },
    {
     "name": "stdout",
     "output_type": "stream",
     "text": [
      "37442160\n"
     ]
    }
   ],
   "source": [
    "\n",
    "def apart(a, b):\n",
    "    \n",
    "    if a == 0:\n",
    "        return b\n",
    "    \n",
    "    if b == 1:\n",
    "        return 1\n",
    "    \n",
    "    return apart(a, b - 1) + apart(a - 1, b)    \n",
    "    \n",
    "    \n",
    "T = int(input())\n",
    "\n",
    "for i in range(T):\n",
    "    k = int(input())\n",
    "    n = int(input())\n",
    "    print(apart(k, n))\n",
    "    "
   ]
  },
  {
   "cell_type": "markdown",
   "id": "general-happiness",
   "metadata": {},
   "source": [
    "`-` 이미 구한 층,호수 사람 수는 기록하는 방법 사용(메모이제이션)\n",
    "\n",
    "`-` 똑같이 시간 초과"
   ]
  },
  {
   "cell_type": "code",
   "execution_count": 38,
   "id": "serious-namibia",
   "metadata": {},
   "outputs": [
    {
     "name": "stdin",
     "output_type": "stream",
     "text": [
      " 1\n",
      " 14\n",
      " 14\n"
     ]
    },
    {
     "name": "stdout",
     "output_type": "stream",
     "text": [
      "37442160\n"
     ]
    }
   ],
   "source": [
    "\n",
    "List = [[0] * 14 for _ in range(15)] \n",
    "List[0] = [x for x in range(1, 15)]\n",
    "for i in range(len(List)):\n",
    "    List[i][0] = 1\n",
    "for j in range(len(List)):\n",
    "    List[j][1] = j + 2\n",
    "    \n",
    "def apart(a, b):\n",
    "    if List[a][b - 1] != 0:\n",
    "        return List[a][b - 1]\n",
    "    \n",
    "    return apart(a, b - 1) + apart(a - 1, b)    \n",
    "    \n",
    "    \n",
    "T = int(input())\n",
    "\n",
    "for i in range(T):\n",
    "    k = int(input())\n",
    "    n = int(input())\n",
    "    print(apart(k, n))\n",
    "    \n"
   ]
  },
  {
   "cell_type": "markdown",
   "id": "raising-invalid",
   "metadata": {},
   "source": [
    "`-` 난 위의 코드가 메모이제이션인 것 같았다.\n",
    "\n",
    "`-` 근데 처음 짠 코드와 다른 게 없었다. 메모이제이션이 아닌 가 보다.\n",
    "\n",
    "`-` 수학으로 풀려면 계차수열을 사용해야 하는데 복잡해 보인다.\n",
    "\n",
    "`-` 그래서 이번에는 처음부터 아파트를 채워놓고 시작하는 방법을 사용했다.\n",
    "\n",
    "`-` 층과 호수를 입력하면 채워진 아파트에서 그 층과 호수에 사는 사람 수를 출력한다.\n",
    "\n",
    "`-` 최대 사람수가 사는 14층 14호를 입력하면 첫 번째와 두 번째 코드는 2초 정도 걸렸는데 이 코드는 바로 출력된다.\n",
    "\n",
    "`-` 시간 초과 해결"
   ]
  },
  {
   "cell_type": "code",
   "execution_count": 48,
   "id": "enclosed-photographer",
   "metadata": {},
   "outputs": [
    {
     "name": "stdin",
     "output_type": "stream",
     "text": [
      " 1\n",
      " 14\n",
      " 14\n"
     ]
    },
    {
     "name": "stdout",
     "output_type": "stream",
     "text": [
      "37442160\n"
     ]
    }
   ],
   "source": [
    "apart = [[0] * 14 for _ in range(15)] \n",
    "apart[0] = [x for x in range(1, 15)]\n",
    "\n",
    "x = len(apart) \n",
    "\n",
    "for i in range(x):\n",
    "    apart[i][0] = 1\n",
    "for j in range(x):\n",
    "    apart[j][1] = j + 2\n",
    "\n",
    "for i in range(1, x):\n",
    "    for j in range(1, x - 1):\n",
    "        apart[i][j] = apart[i][j-1] + apart[i - 1][j]\n",
    "    \n",
    "T = int(input())\n",
    "\n",
    "for i in range(T):\n",
    "    k = int(input())\n",
    "    n = int(input())\n",
    "    print(apart[k][n - 1])\n",
    "    "
   ]
  },
  {
   "cell_type": "markdown",
   "id": "several-celtic",
   "metadata": {},
   "source": [
    "---"
   ]
  },
  {
   "cell_type": "markdown",
   "id": "executive-roman",
   "metadata": {},
   "source": [
    "## 기본 수학 2 -- 기하"
   ]
  },
  {
   "cell_type": "markdown",
   "id": "planned-disease",
   "metadata": {},
   "source": [
    "### 터렛(참고해서 풀었음)\n",
    "- 두 원의 중심과 반지름이 각각 주어졌을 때 교점의 개수를 출력하시오"
   ]
  },
  {
   "cell_type": "markdown",
   "id": "korean-entrepreneur",
   "metadata": {},
   "source": [
    "`-` 두 점에서 만나는 경우 \n",
    "```python\n",
    "r1 + r2 > d and abs(r1 - r2) < d\n",
    "```\n",
    "`-` 두 원의 위치관계 참고 : [https://mathbang.net/101](https://mathbang.net/101)"
   ]
  },
  {
   "cell_type": "code",
   "execution_count": 92,
   "id": "threatened-roberts",
   "metadata": {},
   "outputs": [
    {
     "name": "stdin",
     "output_type": "stream",
     "text": [
      " 3\n",
      " 0 0 13 40 0 37\n"
     ]
    },
    {
     "name": "stdout",
     "output_type": "stream",
     "text": [
      "2\n"
     ]
    },
    {
     "name": "stdin",
     "output_type": "stream",
     "text": [
      " 0 0 3 0 7 4\n"
     ]
    },
    {
     "name": "stdout",
     "output_type": "stream",
     "text": [
      "1\n"
     ]
    },
    {
     "name": "stdin",
     "output_type": "stream",
     "text": [
      " 1 1 1 1 1 5\n"
     ]
    },
    {
     "name": "stdout",
     "output_type": "stream",
     "text": [
      "0\n"
     ]
    }
   ],
   "source": [
    "T = int(input())\n",
    "for i in range(T):\n",
    "    x1, y1, r1, x2, y2, r2 = map(int, input().split())\n",
    "    d = ((x1 - x2)**2 + (y1 - y2)**2)**0.5\n",
    "    \n",
    "    if d == 0:\n",
    "        if r1 == r2:\n",
    "            print(-1)\n",
    "        else:\n",
    "            print(0)\n",
    "            \n",
    "    elif r1 + r2 < d:\n",
    "        print(0)\n",
    "    \n",
    "    elif r1 + r2 > d and abs(r1 -r2) < d:\n",
    "        print(2)\n",
    "        \n",
    "    elif r1 + r2 == d:\n",
    "        print(1)\n",
    "        \n",
    "    elif abs(r2 - r1) == d:\n",
    "        print(1)\n",
    "        \n",
    "    elif abs(r2 - r1) > d:\n",
    "        print(0)\n",
    "        "
   ]
  },
  {
   "cell_type": "markdown",
   "id": "hindu-paris",
   "metadata": {},
   "source": [
    "### 택시 기하학\n",
    "- 택시 기하학에서 두 점 $T_1(x_1,y_1)$, $T_2(x_2,y_2)$ 사이의 거리는 다음과 같이 구할 수 있다.\n",
    "\n",
    "- $D(T_1, T_2) = |x_1 - x_2| + |y_1 - y_2|$\n",
    "\n",
    "- 첫째 줄에는 유클리드 기하학에서 반지름이 R인 원의 넓이를, 둘째 줄에는 택시 기하학에서 반지름이 R인 원의 넓이를 출력한다."
   ]
  },
  {
   "cell_type": "markdown",
   "id": "exclusive-circular",
   "metadata": {},
   "source": [
    "`-` 반지름이 $R$일 때 원은 $|x_1 - x_2| + |y_1 - y_2| = R$의 자취임\n",
    "\n",
    "`-` 이를 그려본면 택시 기하학에서 원은 마름모임을 쉽게 알 수 있음\n",
    "\n",
    "`-` 넓이는 $\\frac{2R\\times 2R}{2} = 2R^2$"
   ]
  },
  {
   "cell_type": "code",
   "execution_count": 103,
   "id": "dramatic-shell",
   "metadata": {},
   "outputs": [
    {
     "name": "stdin",
     "output_type": "stream",
     "text": [
      " 21\n"
     ]
    },
    {
     "name": "stdout",
     "output_type": "stream",
     "text": [
      "1385.4423602330987\n",
      "882\n"
     ]
    }
   ],
   "source": [
    "import math\n",
    "R = int(input())\n",
    "π = math.pi\n",
    "print(π*R**2)\n",
    "print(2*R**2)"
   ]
  },
  {
   "cell_type": "markdown",
   "id": "outer-reply",
   "metadata": {},
   "source": [
    "---"
   ]
  },
  {
   "cell_type": "markdown",
   "id": "complimentary-orleans",
   "metadata": {},
   "source": [
    "## 정렬"
   ]
  },
  {
   "cell_type": "markdown",
   "id": "early-career",
   "metadata": {},
   "source": [
    "### 수 정렬하기\n",
    "- N개의 수가 주어졌을 때, 이를 오름차순으로 정렬하는 프로그램을 작성하시오."
   ]
  },
  {
   "cell_type": "markdown",
   "id": "measured-omega",
   "metadata": {},
   "source": [
    "`-` 선택 정렬"
   ]
  },
  {
   "cell_type": "code",
   "execution_count": 4,
   "id": "accepting-positive",
   "metadata": {},
   "outputs": [
    {
     "name": "stdin",
     "output_type": "stream",
     "text": [
      " 5\n",
      " 5\n",
      " 2\n",
      " 3\n",
      " 4\n",
      " 1\n"
     ]
    },
    {
     "name": "stdout",
     "output_type": "stream",
     "text": [
      "1\n",
      "2\n",
      "3\n",
      "4\n",
      "5\n"
     ]
    }
   ],
   "source": [
    "N = int(input())\n",
    "List = []\n",
    "\n",
    "for i in range(N):\n",
    "    num = int(input())\n",
    "    List.append(num)\n",
    "\n",
    "n = len(List)\n",
    "\n",
    "for j in range(n):\n",
    "    min_idx = j\n",
    "    \n",
    "    for k in range(j + 1, n):\n",
    "        if List[k] < List[min_idx]:\n",
    "            min_idx = k\n",
    "            \n",
    "    List[j], List[min_idx] = List[min_idx], List[j]\n",
    "    \n",
    "    print(List[j])"
   ]
  },
  {
   "cell_type": "markdown",
   "id": "seven-parish",
   "metadata": {},
   "source": [
    "`-` 내장 함수 `?.sort()`"
   ]
  },
  {
   "cell_type": "code",
   "execution_count": 5,
   "id": "serious-colors",
   "metadata": {},
   "outputs": [
    {
     "name": "stdin",
     "output_type": "stream",
     "text": [
      " 5\n",
      " 5\n",
      " 4\n",
      " 3\n",
      " 1\n",
      " 2\n"
     ]
    },
    {
     "name": "stdout",
     "output_type": "stream",
     "text": [
      "1\n",
      "2\n",
      "3\n",
      "4\n",
      "5\n"
     ]
    }
   ],
   "source": [
    "N = int(input())\n",
    "List = []\n",
    "\n",
    "for i in range(N):\n",
    "    num = int(input())\n",
    "    List.append(num)\n",
    "\n",
    "List.sort()\n",
    "\n",
    "for j in range(len(List)):\n",
    "    print(List[j])"
   ]
  },
  {
   "cell_type": "markdown",
   "id": "arbitrary-sweet",
   "metadata": {},
   "source": [
    "---"
   ]
  },
  {
   "cell_type": "markdown",
   "id": "tight-working",
   "metadata": {},
   "source": [
    "## 그리디 알고리즘 "
   ]
  },
  {
   "cell_type": "markdown",
   "id": "analyzed-cotton",
   "metadata": {},
   "source": [
    "### 동전 0\n",
    "- 준규가 가지고 있는 동전은 총 N종류이고, 각각의 동전을 매우 많이 가지고 있다.\n",
    "\n",
    "- 동전을 적절히 사용해서 그 가치의 합을 K로 만들려고 한다. \n",
    "\n",
    "- 이때 필요한 동전 개수의 최솟값을 구하는 프로그램을 작성하시오.\n",
    "\n",
    "- 동전의 가치 Ai가 오름차순으로 주어진다. (1 ≤ Ai ≤ 1,000,000, A1 = 1, i ≥ 2인 경우에 Ai는 Ai-1의 배수)"
   ]
  },
  {
   "cell_type": "code",
   "execution_count": 2,
   "id": "concerned-builder",
   "metadata": {},
   "outputs": [
    {
     "name": "stdin",
     "output_type": "stream",
     "text": [
      " 10 4790\n",
      " 1\n",
      " 5\n",
      " 10\n",
      " 50\n",
      " 100\n",
      " 500\n",
      " 1000\n",
      " 5000\n",
      " 10000\n",
      " 50000\n"
     ]
    },
    {
     "name": "stdout",
     "output_type": "stream",
     "text": [
      "12\n"
     ]
    }
   ],
   "source": [
    "N , K = map(int, input().split())\n",
    "\n",
    "coins = []\n",
    "for i in range(N):\n",
    "    coins.append(int(input()))\n",
    "\n",
    "num = [K]    \n",
    "for j in range(N - 1):\n",
    "    val = coins[j+1] / coins[j]\n",
    "    replace = num[j] // val\n",
    "    num[j] -= replace * val\n",
    "    num.append(replace)\n",
    "    \n",
    "print(int(sum(num)))\n",
    "    "
   ]
  },
  {
   "cell_type": "markdown",
   "id": "retired-elephant",
   "metadata": {},
   "source": [
    "### 잃어버린 괄호\n",
    "- 세준이는 양수와 +, -, 그리고 괄호를 가지고 식을 만들고 난 후 괄호를 모두 지웠다. \n",
    "\n",
    "- 그리고 나서 세준이는 괄호를 적절히 쳐서 이 식의 값을 최소로 만들려고 한다."
   ]
  },
  {
   "cell_type": "markdown",
   "id": "offshore-controversy",
   "metadata": {},
   "source": [
    "`-` 한번만 `minus 기호`가 나오면 그 뒤에 수는 모두 빼기로 만들 수 있음"
   ]
  },
  {
   "cell_type": "markdown",
   "id": "romance-situation",
   "metadata": {},
   "source": [
    "`-` 50 - 70 + 80 + 90 --> 50 - (70 + 80 + 90)"
   ]
  },
  {
   "cell_type": "markdown",
   "id": "rough-musician",
   "metadata": {},
   "source": [
    "`-` `join()`, `split()`, `replace()`, `map()` 함수 사용"
   ]
  },
  {
   "cell_type": "code",
   "execution_count": 202,
   "id": "undefined-shell",
   "metadata": {},
   "outputs": [
    {
     "name": "stdin",
     "output_type": "stream",
     "text": [
      " 00000+00000+00000+00000+00000+0\n"
     ]
    },
    {
     "name": "stdout",
     "output_type": "stream",
     "text": [
      "0\n"
     ]
    }
   ],
   "source": [
    "string = str(input())\n",
    "s1 = string.split('-')\n",
    "s2 = s1[0]\n",
    "s2 = s2.split('+')\n",
    "s2 = list(map(int, s2))\n",
    "\n",
    "s3 = s1[1:]\n",
    "if  len(s3) > 0:\n",
    "    s3 = '-'.join(s3)\n",
    "    s3 = s3.replace('-', '+')\n",
    "    s3 = s3.split('+')\n",
    "    s3 = list(map(int, s3))\n",
    "    print(sum(s2) - sum(s3))\n",
    "    \n",
    "else: \n",
    "    print(sum(s2))"
   ]
  },
  {
   "cell_type": "markdown",
   "id": "cardiac-portrait",
   "metadata": {},
   "source": [
    "### ATM\n",
    "- 인하은행에는 ATM이 1대밖에 없다.\n",
    "\n",
    "- 줄을 서 있는 사람의 수 N과 각 사람이 돈을 인출하는데 걸리는 시간 Pi가 주어졌다.\n",
    "\n",
    "- 각 사람이 돈을 인출하는데 필요한 시간의 합의 최솟값을 구하는 프로그램을 작성하시오."
   ]
  },
  {
   "cell_type": "markdown",
   "id": "excited-webcam",
   "metadata": {},
   "source": [
    "`-` times를 sort()함수를 통해 오름차순으로 정렬\n",
    "\n",
    "`-` 최소값 $=$ 첫 번째 원소 $\\times$ N $+$ 두 번째 원소 $\\times$ (N-1) $+ \\dots +$ 마지막 원소 $\\times$ 1"
   ]
  },
  {
   "cell_type": "code",
   "execution_count": 1,
   "id": "seventh-bandwidth",
   "metadata": {},
   "outputs": [
    {
     "name": "stdin",
     "output_type": "stream",
     "text": [
      " 5\n",
      " 3 1 4 3 2\n"
     ]
    },
    {
     "name": "stdout",
     "output_type": "stream",
     "text": [
      "32\n"
     ]
    }
   ],
   "source": [
    "N = int(input())\n",
    "times = list(map(int, input().split()))\n",
    "times.sort()\n",
    "print(sum([times[i] * (N - i) for i in range(N)]))"
   ]
  },
  {
   "cell_type": "markdown",
   "id": "excessive-gazette",
   "metadata": {},
   "source": [
    "### 주유소\n",
    "- 설명이 길어서 링크를 남긴다.\n",
    "\n",
    "- [https://www.acmicpc.net/problem/13305](https://www.acmicpc.net/problem/13305)"
   ]
  },
  {
   "cell_type": "markdown",
   "id": "sudden-water",
   "metadata": {},
   "source": [
    "`-` 현재 주유소 가격보다 더 싼 주유소가 있는 곳 까지의 거리만큼만 구매하여 더 싼 주유소까지 감\n",
    "\n",
    "`-` 정확히는 현재 주유소 가격보다 더 싼 주유소 중 가장 가격이 큰 주유소\n",
    "\n",
    "`-` 더 싼 주유소 까지 갔으면 그 주유소보다 더 싼 주유소가 있는 곳 까지의 거리만큼만 구매하여 더 싼 주유소까지 감\n",
    "\n",
    "`-` 만약 더 싼 곳이 없으면 목표지점까지 남은 거리 만큼 기름을 구매 \n",
    "\n",
    "`-` 이를 도착할 때 까지 반복함\n",
    "\n",
    "`-` 백준 문제 예시를 보자\n",
    "\n",
    "1. 기름 가격이 현재 5원 보다 더 싼 곳은 2원이므로 5원에서 2원까지 거리인 2km를 갈 수 있을 정도만 기름을 구매함(2L 구매)\n",
    "\n",
    "2. 현재 2원 보다 더 싼 곳은 1원이므로 2원에서 1원까지 거리인 4km를 갈 수 있을 정도만 기름을 구매함(4L 구매)\n",
    "\n",
    "3. 목표 지점에 도착했으므로 끝 "
   ]
  },
  {
   "cell_type": "code",
   "execution_count": 25,
   "id": "heard-organization",
   "metadata": {},
   "outputs": [
    {
     "name": "stdin",
     "output_type": "stream",
     "text": [
      " 4\n",
      " 3 3 4\n",
      " 1 1 1 1\n"
     ]
    },
    {
     "name": "stdout",
     "output_type": "stream",
     "text": [
      "10\n"
     ]
    }
   ],
   "source": [
    "N = int(input())\n",
    "lengths = list(map(int, input().split()))\n",
    "oils = list(map(int, input().split()))\n",
    "\n",
    "idx = 0\n",
    "costs = 0\n",
    "\n",
    "for i in range(1, len(oils)):\n",
    "    if oils[i] <= oils[idx]:\n",
    "        costs += oils[idx] * lengths[i - 1]\n",
    "        idx = i\n",
    "    \n",
    "    else:\n",
    "        costs += oils[idx] * lengths[i - 1]\n",
    "        \n",
    "print(costs)"
   ]
  },
  {
   "cell_type": "markdown",
   "id": "announced-snapshot",
   "metadata": {},
   "source": [
    "`-` 아래는 더 간결한 코드(중복 부분 제거)"
   ]
  },
  {
   "cell_type": "code",
   "execution_count": 26,
   "id": "flying-arrest",
   "metadata": {},
   "outputs": [
    {
     "name": "stdin",
     "output_type": "stream",
     "text": [
      " 4\n",
      " 3 3 4\n",
      " 1 1 1 1\n"
     ]
    },
    {
     "name": "stdout",
     "output_type": "stream",
     "text": [
      "10\n"
     ]
    }
   ],
   "source": [
    "N = int(input())\n",
    "lengths = list(map(int, input().split()))\n",
    "oils = list(map(int, input().split()))\n",
    "\n",
    "idx = 0\n",
    "costs = 0\n",
    "\n",
    "for i in range(1, len(oils)):\n",
    "    costs += oils[idx] * lengths[i - 1]\n",
    "    \n",
    "    if oils[i] <= oils[idx]:\n",
    "        idx = i\n",
    "        \n",
    "print(costs)"
   ]
  },
  {
   "cell_type": "markdown",
   "id": "fifty-summer",
   "metadata": {},
   "source": [
    "### 주유소 문제 디버깅 "
   ]
  },
  {
   "cell_type": "markdown",
   "id": "heavy-thomas",
   "metadata": {},
   "source": [
    "`-` 아래는 잘못된 코드임"
   ]
  },
  {
   "cell_type": "markdown",
   "id": "designing-discretion",
   "metadata": {},
   "source": [
    "```python\n",
    "N = int(input())\n",
    "lengths = list(map(int, input().split()))\n",
    "oils = list(map(int, input().split()))\n",
    "\n",
    "idx = 0\n",
    "costs = 0\n",
    "\n",
    "for i in range(1, len(oils)):\n",
    "    if oils[i] <= oils[idx]:\n",
    "        costs += oils[idx] * lengths[idx]\n",
    "        idx = i\n",
    "    \n",
    "    else:\n",
    "        costs += oils[idx] * lengths[i - 1]\n",
    "        \n",
    "print(costs)\n",
    "```\n",
    "`-` 아래 코드가 잘못됨\n",
    "```python\n",
    "costs += oils[idx] * lengths[idx]\n",
    "```\n",
    "`-` 아래 코드로 수정해야함\n",
    "```python\n",
    "lengths[idx] --> lengths[i - 1]\n",
    "```"
   ]
  },
  {
   "cell_type": "markdown",
   "id": "convertible-oliver",
   "metadata": {},
   "source": [
    "`-` 디버깅 하면서 느낀점 : 다양한 상황을 고려하고 [$\\star$]`종이에 쓰면서`[$\\star$] 어떻게 흘러가는지 분석하자"
   ]
  },
  {
   "cell_type": "markdown",
   "id": "casual-charger",
   "metadata": {},
   "source": [
    "### 회의실 배정(언젠간 풀거임) \n",
    "- 한 개의 회의실이 있는데 이를 사용하고자 하는 N개의 회의에 대하여 회의실 사용표를 만들려고 한다. \n",
    "\n",
    "- 각 회의 I에 대해 시작시간과 끝나는 시간이 주어져 있고, 각 회의가 겹치지 않게 하면서 회의실을 사용할 수 있는 회의의 최대 개수를 찾아보자. \n",
    "\n",
    "- 단, 회의는 한번 시작하면 중간에 중단될 수 없으며 한 회의가 끝나는 것과 동시에 다음 회의가 시작될 수 있다. \n",
    "\n",
    "- 회의의 시작시간과 끝나는 시간이 같을 수도 있다. 이 경우에는 시작하자마자 끝나는 것으로 생각하면 된다."
   ]
  },
  {
   "cell_type": "code",
   "execution_count": null,
   "id": "actual-vision",
   "metadata": {},
   "outputs": [],
   "source": []
  }
 ],
 "metadata": {
  "kernelspec": {
   "display_name": "Python 3",
   "language": "python",
   "name": "python3"
  },
  "language_info": {
   "codemirror_mode": {
    "name": "ipython",
    "version": 3
   },
   "file_extension": ".py",
   "mimetype": "text/x-python",
   "name": "python",
   "nbconvert_exporter": "python",
   "pygments_lexer": "ipython3",
   "version": "3.8.8"
  }
 },
 "nbformat": 4,
 "nbformat_minor": 5
}
