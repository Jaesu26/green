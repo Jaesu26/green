{
 "cells": [
  {
   "cell_type": "markdown",
   "id": "stable-straight",
   "metadata": {},
   "source": [
    "# 백준 문제풀기(작성 중)\n",
    "\n",
    "> \"단계별로 문제풀기\"\n",
    "\n",
    "- toc: true\n",
    "- branch: master\n",
    "- badges: true\n",
    "- comments: true\n",
    "- author: 한재수\n",
    "- categories: [python]"
   ]
  },
  {
   "cell_type": "markdown",
   "id": "continued-color",
   "metadata": {},
   "source": [
    "## 사칙연산"
   ]
  },
  {
   "cell_type": "markdown",
   "id": "artistic-fitness",
   "metadata": {},
   "source": [
    "### 두 자연수 A와 B가 주어진다. 이때, A+B, A-B, A*B, A/B(몫), A%B(나머지)를 출력하는 프로그램을 작성하시오. "
   ]
  },
  {
   "cell_type": "code",
   "execution_count": 4,
   "id": "swiss-politics",
   "metadata": {},
   "outputs": [
    {
     "name": "stdin",
     "output_type": "stream",
     "text": [
      " 7 3\n"
     ]
    },
    {
     "name": "stdout",
     "output_type": "stream",
     "text": [
      "10\n",
      "4\n",
      "21\n",
      "2\n",
      "1\n"
     ]
    }
   ],
   "source": [
    "a, b = map(int, input().split())\n",
    "print(a+b)\n",
    "print(a-b)\n",
    "print(a*b)\n",
    "print(a//b)\n",
    "print(a%b)"
   ]
  },
  {
   "cell_type": "markdown",
   "id": "ancient-sword",
   "metadata": {},
   "source": [
    "### 두 정수 A와 B를 입력받은 다음, A+B를 출력하는 프로그램을 작성하시오."
   ]
  },
  {
   "cell_type": "code",
   "execution_count": 3,
   "id": "registered-hunter",
   "metadata": {},
   "outputs": [
    {
     "name": "stdin",
     "output_type": "stream",
     "text": [
      " 10 2\n"
     ]
    },
    {
     "name": "stdout",
     "output_type": "stream",
     "text": [
      "12\n"
     ]
    }
   ],
   "source": [
    "a, b = map(int, input().split())\n",
    "print(a+b)"
   ]
  },
  {
   "cell_type": "markdown",
   "id": "painted-cathedral",
   "metadata": {},
   "source": [
    "## if문"
   ]
  },
  {
   "cell_type": "markdown",
   "id": "rolled-galaxy",
   "metadata": {},
   "source": [
    "### 두 정수 A와 B가 주어졌을 때, A와 B를 비교하는 프로그램을 작성하시오."
   ]
  },
  {
   "cell_type": "code",
   "execution_count": 2,
   "id": "desirable-blood",
   "metadata": {},
   "outputs": [
    {
     "name": "stdin",
     "output_type": "stream",
     "text": [
      " 10 2\n"
     ]
    },
    {
     "name": "stdout",
     "output_type": "stream",
     "text": [
      ">\n"
     ]
    }
   ],
   "source": [
    "A, B = map(int, input().split())\n",
    "if A>B:\n",
    "    print('>')\n",
    "elif A<B:\n",
    "    print('<')\n",
    "else:\n",
    "    print('==')"
   ]
  },
  {
   "cell_type": "markdown",
   "id": "responsible-logan",
   "metadata": {},
   "source": [
    "### 시험 점수를 입력받아 90 ~ 100점은 A, 80 ~ 89점은 B, 70 ~ 79점은 C, 60 ~ 69점은 D, 나머지 점수는 F를 출력하는 프로그램을 작성하시오."
   ]
  },
  {
   "cell_type": "code",
   "execution_count": 21,
   "id": "broad-thompson",
   "metadata": {},
   "outputs": [
    {
     "name": "stdin",
     "output_type": "stream",
     "text": [
      " 100\n"
     ]
    },
    {
     "name": "stdout",
     "output_type": "stream",
     "text": [
      "A\n"
     ]
    }
   ],
   "source": [
    "def result(grade):\n",
    "    if grade >= 90 and grade <= 100:\n",
    "        print(\"A\")\n",
    "    elif grade >= 80 and grade <= 89:\n",
    "        print(\"B\")\n",
    "    elif grade >= 70 and grade <= 79:\n",
    "        print(\"C\")\n",
    "    elif grade >= 60 and grade <= 69:\n",
    "        print(\"D\")\n",
    "    else:\n",
    "        print(\"F\")\n",
    "grade = int(input())\n",
    "result(grade)    "
   ]
  },
  {
   "cell_type": "markdown",
   "id": "latest-request",
   "metadata": {},
   "source": [
    "### 연도가 주어졌을 때, 윤년이면 1, 아니면 0을 출력하는 프로그램을 작성하시오.\n",
    "\n",
    "- 윤년은 연도가 4의 배수이면서, 100의 배수가 아닐 때 또는 400의 배수일 때이다.\n",
    "\n",
    "- 예를 들어, 2012년은 4의 배수이면서 100의 배수가 아니라서 윤년이다. 1900년은 100의 배수이고 400의 배수는 아니기 때문에 윤년이 아니다. 하지만, 2000년은 400의 배수이기 때문에 윤년이다."
   ]
  },
  {
   "cell_type": "code",
   "execution_count": 27,
   "id": "solid-sister",
   "metadata": {},
   "outputs": [
    {
     "name": "stdin",
     "output_type": "stream",
     "text": [
      " 2000\n"
     ]
    },
    {
     "name": "stdout",
     "output_type": "stream",
     "text": [
      "1\n"
     ]
    }
   ],
   "source": [
    "def leap_year(year):\n",
    "    if (year%4 ==0 and year%100 != 0) or year%400 == 0:\n",
    "        print(1)\n",
    "    else:\n",
    "        print(0)\n",
    "year = int(input())\n",
    "leap_year(year)"
   ]
  },
  {
   "cell_type": "markdown",
   "id": "settled-plaza",
   "metadata": {},
   "source": [
    "### 사분면 고르기\n",
    "- 첫 줄에는 정수 x가 주어진다. (−1000 ≤ x ≤ 1000; x ≠ 0) 다음 줄에는 정수 y가 주어진다. (−1000 ≤ y ≤ 1000; y ≠ 0)\n",
    "- 점 (x, y)의 사분면 번호(1, 2, 3, 4 중 하나)를 출력한다."
   ]
  },
  {
   "cell_type": "code",
   "execution_count": 40,
   "id": "instant-brooklyn",
   "metadata": {},
   "outputs": [
    {
     "name": "stdin",
     "output_type": "stream",
     "text": [
      " 10\n",
      " -7\n"
     ]
    },
    {
     "name": "stdout",
     "output_type": "stream",
     "text": [
      "4\n"
     ]
    }
   ],
   "source": [
    "def quadrant(a,b):\n",
    "    if a>0 and b>0:\n",
    "        print(1)\n",
    "    elif a>0 and b<0:\n",
    "        print(4)\n",
    "    elif a<0 and b>0:\n",
    "        print(2)\n",
    "    elif a<0 and b<0:\n",
    "        print(3)\n",
    "x = int(input())\n",
    "y = int(input())\n",
    "quadrant(x, y)"
   ]
  },
  {
   "cell_type": "markdown",
   "id": "equal-nevada",
   "metadata": {},
   "source": [
    "### 알람 시계\n",
    "- 45분 일찍 알람 설정하기"
   ]
  },
  {
   "cell_type": "code",
   "execution_count": 8,
   "id": "earned-announcement",
   "metadata": {},
   "outputs": [
    {
     "name": "stdin",
     "output_type": "stream",
     "text": [
      " 0 25\n"
     ]
    },
    {
     "name": "stdout",
     "output_type": "stream",
     "text": [
      "23 40\n"
     ]
    }
   ],
   "source": [
    "h, m = map(int, input().split())\n",
    "if m >= 45:\n",
    "    print(h, m-45)\n",
    "elif h == 0: \n",
    "    print(23, m+15)\n",
    "else:\n",
    "    print(h-1, m+15)"
   ]
  },
  {
   "cell_type": "markdown",
   "id": "chicken-worthy",
   "metadata": {},
   "source": [
    "## for문"
   ]
  },
  {
   "cell_type": "markdown",
   "id": "arctic-converter",
   "metadata": {},
   "source": [
    "### N을 입력받은 뒤, 구구단 N단을 출력하는 프로그램을 작성하시오. 출력 형식에 맞춰서 출력하면 된다."
   ]
  },
  {
   "cell_type": "code",
   "execution_count": 16,
   "id": "restricted-election",
   "metadata": {},
   "outputs": [
    {
     "name": "stdin",
     "output_type": "stream",
     "text": [
      " 4\n"
     ]
    },
    {
     "name": "stdout",
     "output_type": "stream",
     "text": [
      "4 * 1 = 4\n",
      "4 * 2 = 8\n",
      "4 * 3 = 12\n",
      "4 * 4 = 16\n",
      "4 * 5 = 20\n",
      "4 * 6 = 24\n",
      "4 * 7 = 28\n",
      "4 * 8 = 32\n",
      "4 * 9 = 36\n"
     ]
    }
   ],
   "source": [
    "n = int(input())\n",
    "for i in range(1,10):\n",
    "    print('%s * %s = %s' % (n, i, n*i))"
   ]
  },
  {
   "cell_type": "markdown",
   "id": "informative-coffee",
   "metadata": {},
   "source": [
    "### 두 정수 A와 B를 입력받은 다음, A+B를 출력하는 프로그램을 작성하시오.\n",
    "- 첫째 줄에 테스트 케이스의 개수 T가 주어진다.\n",
    "- 각 테스트 케이스마다 A+B를 출력한다."
   ]
  },
  {
   "cell_type": "code",
   "execution_count": 21,
   "id": "worse-volleyball",
   "metadata": {},
   "outputs": [
    {
     "name": "stdin",
     "output_type": "stream",
     "text": [
      " 3\n",
      " 1 5\n"
     ]
    },
    {
     "name": "stdout",
     "output_type": "stream",
     "text": [
      "6\n"
     ]
    },
    {
     "name": "stdin",
     "output_type": "stream",
     "text": [
      " 2 8\n"
     ]
    },
    {
     "name": "stdout",
     "output_type": "stream",
     "text": [
      "10\n"
     ]
    },
    {
     "name": "stdin",
     "output_type": "stream",
     "text": [
      " 17 58\n"
     ]
    },
    {
     "name": "stdout",
     "output_type": "stream",
     "text": [
      "75\n"
     ]
    }
   ],
   "source": [
    "T = int(input())\n",
    "for i in range(T):\n",
    "    A, B = map(int, input().split())\n",
    "    print(A+B)"
   ]
  },
  {
   "cell_type": "markdown",
   "id": "curious-collar",
   "metadata": {},
   "source": [
    "### n이 주어졌을 때, 1부터 n까지 합을 구하는 프로그램을 작성하시오.\n",
    "- 반복문 있는 버전"
   ]
  },
  {
   "cell_type": "code",
   "execution_count": 23,
   "id": "developmental-incentive",
   "metadata": {},
   "outputs": [
    {
     "name": "stdin",
     "output_type": "stream",
     "text": [
      " 10\n"
     ]
    },
    {
     "name": "stdout",
     "output_type": "stream",
     "text": [
      "55\n"
     ]
    }
   ],
   "source": [
    "n = int(input())\n",
    "sum = 0\n",
    "for i in range(1, n+1):\n",
    "    sum += i\n",
    "print(sum)    "
   ]
  },
  {
   "cell_type": "markdown",
   "id": "wanted-newfoundland",
   "metadata": {},
   "source": [
    "- 반복문 없는 버전"
   ]
  },
  {
   "cell_type": "code",
   "execution_count": 26,
   "id": "defensive-equity",
   "metadata": {},
   "outputs": [
    {
     "name": "stdin",
     "output_type": "stream",
     "text": [
      " 10\n"
     ]
    },
    {
     "name": "stdout",
     "output_type": "stream",
     "text": [
      "55\n"
     ]
    }
   ],
   "source": [
    "n = int(input())\n",
    "print(int(n * (n+1) / 2))"
   ]
  },
  {
   "cell_type": "markdown",
   "id": "cloudy-cornell",
   "metadata": {},
   "source": [
    "### `sys.stdin.readline()`\n",
    "- 본격적으로 for문 문제를 풀기 전에 주의해야 할 점이 있다. \n",
    "- 입출력 방식이 느리면 여러 줄을 입력받거나 출력할 때 시간초과가 날 수 있다는 점이다.\n",
    "- Python을 사용하고 있다면 input() 대신 sys.stdin.readline()을 사용할 수 있다. \n",
    "- 단, 이때는 맨 끝의 개행문자까지 같이 입력받기 때문에 문자열을 저장하고 싶을 경우 .rstrip()을 추가로 해 주는 것이 좋다."
   ]
  },
  {
   "cell_type": "code",
   "execution_count": 3,
   "id": "minute-scholar",
   "metadata": {},
   "outputs": [
    {
     "name": "stdin",
     "output_type": "stream",
     "text": [
      " 10\n"
     ]
    },
    {
     "ename": "ValueError",
     "evalue": "not enough values to unpack (expected 2, got 0)",
     "output_type": "error",
     "traceback": [
      "\u001b[1;31m---------------------------------------------------------------------------\u001b[0m",
      "\u001b[1;31mValueError\u001b[0m                                Traceback (most recent call last)",
      "\u001b[1;32m<ipython-input-3-173fe188e1c6>\u001b[0m in \u001b[0;36m<module>\u001b[1;34m\u001b[0m\n\u001b[0;32m      2\u001b[0m \u001b[0mT\u001b[0m \u001b[1;33m=\u001b[0m \u001b[0mint\u001b[0m\u001b[1;33m(\u001b[0m\u001b[0minput\u001b[0m\u001b[1;33m(\u001b[0m\u001b[1;33m)\u001b[0m\u001b[1;33m)\u001b[0m\u001b[1;33m\u001b[0m\u001b[1;33m\u001b[0m\u001b[0m\n\u001b[0;32m      3\u001b[0m \u001b[1;32mfor\u001b[0m \u001b[0mi\u001b[0m \u001b[1;32min\u001b[0m \u001b[0mrange\u001b[0m\u001b[1;33m(\u001b[0m\u001b[0mT\u001b[0m\u001b[1;33m)\u001b[0m\u001b[1;33m:\u001b[0m\u001b[1;33m\u001b[0m\u001b[1;33m\u001b[0m\u001b[0m\n\u001b[1;32m----> 4\u001b[1;33m     \u001b[0mA\u001b[0m\u001b[1;33m,\u001b[0m \u001b[0mB\u001b[0m \u001b[1;33m=\u001b[0m \u001b[0mmap\u001b[0m\u001b[1;33m(\u001b[0m\u001b[0mint\u001b[0m\u001b[1;33m,\u001b[0m \u001b[0msys\u001b[0m\u001b[1;33m.\u001b[0m\u001b[0mstdin\u001b[0m\u001b[1;33m.\u001b[0m\u001b[0mreadline\u001b[0m\u001b[1;33m(\u001b[0m\u001b[1;33m)\u001b[0m\u001b[1;33m.\u001b[0m\u001b[0msplit\u001b[0m\u001b[1;33m(\u001b[0m\u001b[1;33m)\u001b[0m\u001b[1;33m)\u001b[0m\u001b[1;33m\u001b[0m\u001b[1;33m\u001b[0m\u001b[0m\n\u001b[0m\u001b[0;32m      5\u001b[0m     \u001b[0mprint\u001b[0m\u001b[1;33m(\u001b[0m\u001b[0mA\u001b[0m\u001b[1;33m+\u001b[0m\u001b[0mB\u001b[0m\u001b[1;33m)\u001b[0m\u001b[1;33m\u001b[0m\u001b[1;33m\u001b[0m\u001b[0m\n",
      "\u001b[1;31mValueError\u001b[0m: not enough values to unpack (expected 2, got 0)"
     ]
    }
   ],
   "source": [
    "import sys\n",
    "T = int(input())\n",
    "for i in range(T):\n",
    "    A, B = map(int, sys.stdin.readline().split())\n",
    "    print(A+B)"
   ]
  },
  {
   "cell_type": "markdown",
   "id": "posted-indianapolis",
   "metadata": {},
   "source": [
    "- error 왜 뜨지?\n",
    "- `sys.stdin.readline()`를 쓸 때마다 에러가 난다."
   ]
  },
  {
   "cell_type": "markdown",
   "id": "photographic-bottle",
   "metadata": {},
   "source": [
    "### 자연수 N이 주어졌을 때, 1부터 N까지 한 줄에 하나씩 출력하는 프로그램을 작성하시오."
   ]
  },
  {
   "cell_type": "code",
   "execution_count": 1,
   "id": "embedded-stress",
   "metadata": {},
   "outputs": [
    {
     "name": "stdin",
     "output_type": "stream",
     "text": [
      " 5\n"
     ]
    },
    {
     "name": "stdout",
     "output_type": "stream",
     "text": [
      "1\n",
      "2\n",
      "3\n",
      "4\n",
      "5\n"
     ]
    }
   ],
   "source": [
    "N = int(input())\n",
    "for i in range(1, N+1):\n",
    "    print(i)"
   ]
  },
  {
   "cell_type": "markdown",
   "id": "comfortable-maple",
   "metadata": {},
   "source": [
    "### 자연수 N이 주어졌을 때, N부터 1까지 한 줄에 하나씩 출력하는 프로그램을 작성하시오."
   ]
  },
  {
   "cell_type": "code",
   "execution_count": 2,
   "id": "wicked-dominant",
   "metadata": {},
   "outputs": [
    {
     "name": "stdin",
     "output_type": "stream",
     "text": [
      " 5\n"
     ]
    },
    {
     "name": "stdout",
     "output_type": "stream",
     "text": [
      "5\n",
      "4\n",
      "3\n",
      "2\n",
      "1\n"
     ]
    }
   ],
   "source": [
    "N = int(input())\n",
    "for i in range(1, N+1):\n",
    "    print(N-i+1)"
   ]
  },
  {
   "cell_type": "markdown",
   "id": "rising-korea",
   "metadata": {},
   "source": [
    "### 두 정수 A와 B를 입력받은 다음, A+B를 출력하는 프로그램을 작성하시오.\n",
    "- 각 테스트 케이스마다 \"Case #x: \"를 출력한 다음, A+B를 출력한다. 테스트 케이스 번호는 1부터 시작한다."
   ]
  },
  {
   "cell_type": "code",
   "execution_count": 6,
   "id": "scheduled-monitor",
   "metadata": {},
   "outputs": [
    {
     "name": "stdin",
     "output_type": "stream",
     "text": [
      " 3\n",
      " 1 5\n"
     ]
    },
    {
     "name": "stdout",
     "output_type": "stream",
     "text": [
      "Case #1: 6\n"
     ]
    },
    {
     "name": "stdin",
     "output_type": "stream",
     "text": [
      " 2 4\n"
     ]
    },
    {
     "name": "stdout",
     "output_type": "stream",
     "text": [
      "Case #2: 6\n"
     ]
    },
    {
     "name": "stdin",
     "output_type": "stream",
     "text": [
      " 1 7\n"
     ]
    },
    {
     "name": "stdout",
     "output_type": "stream",
     "text": [
      "Case #3: 8\n"
     ]
    }
   ],
   "source": [
    "import sys\n",
    "T = int(input())\n",
    "for i in range(1, T+1):\n",
    "    A, B = map(int, sys.stdin.readline().split())\n",
    "    print('Case #%s: %s' % (i, A+B))\n"
   ]
  },
  {
   "cell_type": "markdown",
   "id": "sound-concord",
   "metadata": {},
   "source": [
    "### 첫째 줄에는 별 1개, 둘째 줄에는 별 2개, N번째 줄에는 별 N개를 찍는 문제\n",
    "\n",
    "- 하지만, 오른쪽을 기준으로 정렬한 별(예제 참고)을 출력하시오."
   ]
  },
  {
   "cell_type": "markdown",
   "id": "revised-apollo",
   "metadata": {},
   "source": [
    "## print함수 용법\n",
    "- print(출력할 객체, end = '함수가 종료될 때 실행하는 값')\n",
    "- print()함수에서 end값을 따로 지정하지 않으면 끝을 줄바꿈 문자로 한다."
   ]
  },
  {
   "cell_type": "code",
   "execution_count": 12,
   "id": "unusual-authority",
   "metadata": {},
   "outputs": [
    {
     "name": "stdout",
     "output_type": "stream",
     "text": [
      "안녕~~~~하세요\n"
     ]
    }
   ],
   "source": [
    "print('안녕', end = '~~~~')\n",
    "print('하세요')"
   ]
  },
  {
   "cell_type": "code",
   "execution_count": 18,
   "id": "natural-error",
   "metadata": {},
   "outputs": [
    {
     "name": "stdin",
     "output_type": "stream",
     "text": [
      " 5\n"
     ]
    },
    {
     "name": "stdout",
     "output_type": "stream",
     "text": [
      "    *\n",
      "   **\n",
      "  ***\n",
      " ****\n",
      "*****\n"
     ]
    }
   ],
   "source": [
    "N = int(input())\n",
    "for i in range(N):\n",
    "    for j in range(1, N-i):\n",
    "        print(\" \", end = \"\")\n",
    "    for k in range(i+1):\n",
    "        print(\"*\", end = \"\")\n",
    "    print(\"\\n\", end = \"\")"
   ]
  },
  {
   "cell_type": "markdown",
   "id": "offshore-wrapping",
   "metadata": {},
   "source": [
    "### 정수 N개로 이루어진 수열 A와 정수 X가 주어진다. 이때, A에서 X보다 작은 수를 모두 출력하는 프로그램을 작성하시오.\n",
    "- 첫째 줄에 N과 X가 주어진다. (1 ≤ N, X ≤ 10,000)\n",
    "- 둘째 줄에 수열 A를 이루는 정수 N개가 주어진다. 주어지는 정수는 모두 1보다 크거나 같고, 10,000보다 작거나 같은 정수이다.\n",
    "- X보다 작은 수를 입력받은 순서대로 공백으로 구분해 출력한다. X보다 작은 수는 적어도 하나 존재한다."
   ]
  },
  {
   "cell_type": "code",
   "execution_count": 38,
   "id": "round-coverage",
   "metadata": {},
   "outputs": [
    {
     "name": "stdin",
     "output_type": "stream",
     "text": [
      " 3 5\n",
      " 1 0 7\n"
     ]
    },
    {
     "name": "stdout",
     "output_type": "stream",
     "text": [
      "1 0 "
     ]
    }
   ],
   "source": [
    "N, X = map(int, input().split())\n",
    "A = list(map(int, input().split()))\n",
    "for i in range(N):\n",
    "    if A[i] < X:\n",
    "        print(A[i], end = \" \")"
   ]
  },
  {
   "cell_type": "markdown",
   "id": "flying-revolution",
   "metadata": {},
   "source": [
    "## while문"
   ]
  },
  {
   "cell_type": "markdown",
   "id": "composed-directive",
   "metadata": {},
   "source": [
    "### 두 정수 A와 B를 입력받은 다음, A+B를 출력하는 프로그램을 작성하시오.\n",
    "- 입력의 마지막에는 0 두 개가 들어온다."
   ]
  },
  {
   "cell_type": "code",
   "execution_count": 3,
   "id": "entitled-reserve",
   "metadata": {},
   "outputs": [
    {
     "name": "stdin",
     "output_type": "stream",
     "text": [
      " 1 1\n"
     ]
    },
    {
     "name": "stdout",
     "output_type": "stream",
     "text": [
      "2\n"
     ]
    },
    {
     "name": "stdin",
     "output_type": "stream",
     "text": [
      " 0 4\n"
     ]
    },
    {
     "name": "stdout",
     "output_type": "stream",
     "text": [
      "4\n"
     ]
    },
    {
     "name": "stdin",
     "output_type": "stream",
     "text": [
      " 0 0\n"
     ]
    }
   ],
   "source": [
    "while True:\n",
    "    A,B = map(int, input().split())\n",
    "    if A==0 and B==0:\n",
    "        break\n",
    "    else:\n",
    "        print(A+B)\n",
    "    "
   ]
  },
  {
   "cell_type": "markdown",
   "id": "flying-tours",
   "metadata": {},
   "source": [
    "### 더하기 사이클\n",
    "- 먼저 주어진 수가 10보다 작다면 앞에 0을 붙여 두 자리 수로 만들고, 각 자리의 숫자를 더한다. \n",
    "- 그 다음, 주어진 수의 가장 오른쪽 자리 수와 앞에서 구한 합의 가장 오른쪽 자리 수를 이어 붙이면 새로운 수를 만들 수 있다. \n",
    "- 다음 예를 보자.\n",
    "- 26부터 시작한다. 2+6 = 8이다. 새로운 수는 68이다. 6+8 = 14이다. 새로운 수는 84이다. 8+4 = 12이다. 새로운 수는 42이다. 4+2 = 6이다. 새로운 수는 26이다.\n",
    "- 위의 예는 4번만에 원래 수로 돌아올 수 있다. 따라서 26의 사이클의 길이는 4이다.\n",
    "- N이 주어졌을 때, N의 사이클의 길이를 구하는 프로그램을 작성하시오.(0<=N<=99 인 정수)"
   ]
  },
  {
   "cell_type": "code",
   "execution_count": 26,
   "id": "sexual-custody",
   "metadata": {},
   "outputs": [
    {
     "name": "stdin",
     "output_type": "stream",
     "text": [
      " 1\n"
     ]
    },
    {
     "name": "stdout",
     "output_type": "stream",
     "text": [
      "60\n"
     ]
    }
   ],
   "source": [
    "n = N = int(input())\n",
    "N_cycle = 0\n",
    "while True:\n",
    "    if N < 10:\n",
    "        N = int(2*str(N))\n",
    "        N_cycle += 1\n",
    "    else:\n",
    "        N = int(str(N)[-1]+str(int(str(N)[0])+int(str(N)[-1]))[-1])\n",
    "        N_cycle += 1\n",
    "    \n",
    "    if N == n:\n",
    "        print(N_cycle)\n",
    "        break\n",
    "    "
   ]
  },
  {
   "cell_type": "markdown",
   "id": "northern-foster",
   "metadata": {},
   "source": [
    "## 함수"
   ]
  },
  {
   "cell_type": "markdown",
   "id": "radio-herald",
   "metadata": {},
   "source": [
    "### N개의 합\n",
    "- 정수 n개가 주어졌을 때, n개의 합을 구하는 함수를 작성하시오."
   ]
  },
  {
   "cell_type": "code",
   "execution_count": 31,
   "id": "furnished-lottery",
   "metadata": {},
   "outputs": [],
   "source": [
    "# for문 버전\n",
    "def solve1(a):\n",
    "    sum = 0\n",
    "    for i in range(len(a)):\n",
    "        sum += a[i]\n",
    "    return(sum)"
   ]
  },
  {
   "cell_type": "code",
   "execution_count": 33,
   "id": "electric-tsunami",
   "metadata": {},
   "outputs": [
    {
     "data": {
      "text/plain": [
       "10"
      ]
     },
     "execution_count": 33,
     "metadata": {},
     "output_type": "execute_result"
    }
   ],
   "source": [
    "a=[0,1,2,3,4]\n",
    "solve1(a)"
   ]
  },
  {
   "cell_type": "code",
   "execution_count": 34,
   "id": "brave-violin",
   "metadata": {},
   "outputs": [],
   "source": [
    "# 내장함수 sum()버전\n",
    "def solve2(a):\n",
    "    return(sum(a))"
   ]
  },
  {
   "cell_type": "code",
   "execution_count": 35,
   "id": "alert-endorsement",
   "metadata": {},
   "outputs": [
    {
     "data": {
      "text/plain": [
       "10"
      ]
     },
     "execution_count": 35,
     "metadata": {},
     "output_type": "execute_result"
    }
   ],
   "source": [
    "a=[0,1,2,3,4]\n",
    "solve2(a)"
   ]
  },
  {
   "cell_type": "markdown",
   "id": "optional-chinese",
   "metadata": {},
   "source": [
    "### 셀프 넘버\n",
    "- 10,000보다 작거나 같은 셀프 넘버를 한 줄에 하나씩 증가하는 순서로 출력한다. "
   ]
  },
  {
   "cell_type": "code",
   "execution_count": 74,
   "id": "passive-enough",
   "metadata": {},
   "outputs": [],
   "source": [
    "z = set(range(1,10001)) - {x+sum([int(a) for a in str(x)]) for x in range(1,10001)}\n",
    "z = list(z)\n",
    "z.sort()\n",
    "for i in range(len(z)):\n",
    "    print(z[i])\n",
    "    \n",
    "# 출력이 너무 길어서 출력은 생략"
   ]
  },
  {
   "cell_type": "markdown",
   "id": "organic-pearl",
   "metadata": {},
   "source": [
    "### 한수\n",
    "- 어떤 양의 정수 X의 각 자리가 등차수열을 이룬다면, 그 수를 한수라고 한다. \n",
    "- 등차수열은 연속된 두 개의 수의 차이가 일정한 수열을 말한다.\n",
    "- N이 주어졌을 때, 1보다 크거나 같고, N보다 작거나 같은 한수의 개수를 출력하는 프로그램을 작성하시오. "
   ]
  },
  {
   "cell_type": "code",
   "execution_count": 22,
   "id": "discrete-kelly",
   "metadata": {},
   "outputs": [
    {
     "name": "stdin",
     "output_type": "stream",
     "text": [
      " 700\n"
     ]
    },
    {
     "name": "stdout",
     "output_type": "stream",
     "text": [
      "129\n"
     ]
    }
   ],
   "source": [
    "N = int(input())\n",
    "def solve(a):  \n",
    "    if a < 100:\n",
    "        print(a)\n",
    "    else:\n",
    "        n = 99\n",
    "        for i in range(100, a+1):\n",
    "            if int(str(i)[1]) - int(str(i)[0]) == int(str(i)[2]) - int(str(i)[1]):\n",
    "                n += 1\n",
    "        print(n) \n",
    "solve(N)"
   ]
  },
  {
   "cell_type": "markdown",
   "id": "mighty-thirty",
   "metadata": {},
   "source": [
    "## 재귀함수(중요함 아마도 그리고 헷갈림)\n",
    "`-` 재귀함수를 구상해보자.\n",
    "\n",
    "`-` 재귀함수는 관계가 중요하다.\n",
    "\n",
    "`-` 팩토리얼에서는 $fact(x)= x * fact(x)$ 관계가 성립한다.\n",
    "\n",
    "`-` $fact(0), fact(1)$ 은 1이다.\n",
    "\n",
    "`-` x가 0 또는 1일 때는 return을 1로 설정하고 나머지의 경우에는  $fact(x)= x * fact(x)$ 을 return한다면 재귀함수가 된다.\n",
    "\n",
    "`-` 즉, 기본값 [$fact(0 or 1)=1$] 을 알고 관계식 [$fact(x)= x * fact(x)$] 을 안다면 재귀함수로 구현할 수 있다."
   ]
  },
  {
   "cell_type": "markdown",
   "id": "particular-civilian",
   "metadata": {},
   "source": [
    "### 팩토리얼\n",
    "- 0보다 크거나 같은 정수 N이 주어진다. \n",
    "- 이때, 재귀함수를 이용하여 N!을 출력하는 프로그램을 작성하시오."
   ]
  },
  {
   "cell_type": "code",
   "execution_count": null,
   "id": "behind-cleanup",
   "metadata": {},
   "outputs": [],
   "source": [
    "N = int(input())\n",
    "def fact(x):\n",
    "    if x == 0 or x == 1:\n",
    "        return 1\n",
    "    else:\n",
    "        return x*fact(x-1)\n",
    "print(fact(N))"
   ]
  },
  {
   "cell_type": "markdown",
   "id": "complete-punch",
   "metadata": {},
   "source": [
    "### 피보나치 수열 \n",
    "- n이 주어졌을 때, n번째 피보나치 수를 구하는 프로그램을 작성하시오.\n",
    "- 0번째 피보나치 수는 0이고, 1번째 피보나치 수는 1이다. \n",
    "- 그 다음 2번째 부터는 바로 앞 두 피보나치 수의 합이 된다."
   ]
  },
  {
   "cell_type": "code",
   "execution_count": 2,
   "id": "twenty-alpha",
   "metadata": {},
   "outputs": [
    {
     "name": "stdin",
     "output_type": "stream",
     "text": [
      " 10\n"
     ]
    },
    {
     "name": "stdout",
     "output_type": "stream",
     "text": [
      "55\n"
     ]
    }
   ],
   "source": [
    "N = int(input())\n",
    "def fibo(x):\n",
    "    if x == 0:\n",
    "        return 0\n",
    "    elif x == 1:\n",
    "        return 1\n",
    "    else:\n",
    "        return fibo(x-1) + fibo(x-2)\n",
    "print(fibo(N))"
   ]
  },
  {
   "cell_type": "markdown",
   "id": "restricted-classic",
   "metadata": {},
   "source": [
    "### 별 찍기(Pass)\n",
    "- N이 3의 거듭제곱(3, 9, 27, ...)이라고 할 때, 크기 N의 패턴은 N×N 정사각형 모양이다.\n",
    "- 크기 3의 패턴은 가운데에 공백이 있고, 가운데를 제외한 모든 칸에 별이 하나씩 있는 패턴이다.\n",
    "- N이 3보다 클 경우, 크기 N의 패턴은 공백으로 채워진 가운데의 (N/3)×(N/3) 정사각형을 크기 N/3의 패턴으로 둘러싼 형태이다. "
   ]
  },
  {
   "cell_type": "markdown",
   "id": "associate-warren",
   "metadata": {},
   "source": [
    "### print('문자열')"
   ]
  },
  {
   "cell_type": "markdown",
   "id": "fresh-blocking",
   "metadata": {},
   "source": [
    "- $\\star$ 과 $\\star$ 사이에 빈칸이 있다. 이유는 `,`(콤마) 때문이다. "
   ]
  },
  {
   "cell_type": "code",
   "execution_count": 90,
   "id": "mechanical-source",
   "metadata": {},
   "outputs": [
    {
     "name": "stdout",
     "output_type": "stream",
     "text": [
      "* *"
     ]
    }
   ],
   "source": [
    "print('*', '*', end = \"\")"
   ]
  },
  {
   "cell_type": "markdown",
   "id": "preliminary-surname",
   "metadata": {},
   "source": [
    "- `,`(콤마)를 없애면 $\\star$ 과 $\\star$ 사이에 빈칸이 없다."
   ]
  },
  {
   "cell_type": "code",
   "execution_count": 91,
   "id": "little-switch",
   "metadata": {},
   "outputs": [
    {
     "name": "stdout",
     "output_type": "stream",
     "text": [
      "**"
     ]
    }
   ],
   "source": [
    "print('*' '*', end = \"\")"
   ]
  },
  {
   "cell_type": "code",
   "execution_count": 104,
   "id": "imported-faith",
   "metadata": {},
   "outputs": [],
   "source": [
    "def star(x):\n",
    "    if x == 3:\n",
    "        return print('***\\n* *\\n***', end = \"\")\n",
    "    else:\n",
    "        return ## *자리에 star(x/3)대입하면 될 줄 알았는데..."
   ]
  },
  {
   "cell_type": "markdown",
   "id": "arbitrary-rochester",
   "metadata": {},
   "source": [
    "### 하노이 탑 이동 순서\n",
    "- 한 번에 한 개의 원판만을 다른 탑으로 옮길 수 있다.\n",
    "- 쌓아 놓은 원판은 항상 위의 것이 아래의 것보다 작아야 한다.\n",
    "- 첫째 줄에 옮긴 횟수 K를 출력한다.\n",
    "- 두 번째 줄부터 수행 과정을 출력한다. "
   ]
  },
  {
   "cell_type": "code",
   "execution_count": 36,
   "id": "dominican-senator",
   "metadata": {},
   "outputs": [
    {
     "name": "stdin",
     "output_type": "stream",
     "text": [
      " 3\n"
     ]
    },
    {
     "name": "stdout",
     "output_type": "stream",
     "text": [
      "7\n",
      "1 3\n",
      "1 2\n",
      "3 2\n",
      "1 3\n",
      "2 1\n",
      "2 3\n",
      "1 3\n"
     ]
    }
   ],
   "source": [
    "N = int(input())\n",
    "\n",
    "def Hanoi(n,from_pos,to_pos,aux_pos):\n",
    "    if n==1:\n",
    "        print(from_pos,to_pos)\n",
    "    else:\n",
    "        Hanoi(n-1,from_pos,aux_pos,to_pos)\n",
    "        print(from_pos,to_pos) ## 가장 큰 원반을 목적지로 이동\n",
    "        Hanoi(n-1,aux_pos,to_pos,from_pos)\n",
    "        \n",
    "print(2**N-1)        \n",
    "Hanoi(N,1,3,2)"
   ]
  },
  {
   "cell_type": "markdown",
   "id": "temporal-raising",
   "metadata": {},
   "source": [
    "## 브루트 포스(brute force)\n",
    "`-` 완전탐색 알고리즘으로 가능한 모든 경우의 수를 탐색한다. --> 100%확률로 정답 출력 "
   ]
  },
  {
   "cell_type": "markdown",
   "id": "bronze-least",
   "metadata": {},
   "source": [
    "### 블랙잭\n",
    "- 기존 룰: 카드의 합이 21을 넘지 않는 한도 내에서, 카드의 합을 최대한 크게 만드는 게임이다.\n",
    "- 변형 룰: N장의 카드에 써져 있는 숫자가 주어졌을 때, M을 넘지 않으면서 M에 최대한 가까운 카드 3장의 합을 구해 출력하시오."
   ]
  },
  {
   "cell_type": "code",
   "execution_count": 56,
   "id": "still-recipe",
   "metadata": {},
   "outputs": [
    {
     "name": "stdin",
     "output_type": "stream",
     "text": [
      " 5 21 \n",
      " 5 6 7 8 9\n"
     ]
    },
    {
     "name": "stdout",
     "output_type": "stream",
     "text": [
      "21\n"
     ]
    }
   ],
   "source": [
    "N, M = map(int,input().split())\n",
    "card = list(map(int,input().split()))\n",
    "\n",
    "def blackjack(card,length,Max):\n",
    "    card_list=[]\n",
    "    for i in range(N):\n",
    "        for j in range(N):\n",
    "            for k in range(N):\n",
    "                if i != j and j != k and i != k:\n",
    "                    if card[i]+card[j]+card[k] <= Max:\n",
    "                        card_list.append(card[i]+card[j]+card[k])\n",
    "    print(max(card_list))\n",
    "\n",
    "blackjack(card,N,M)  ## 아쉬운점: for문3번사용"
   ]
  },
  {
   "cell_type": "markdown",
   "id": "acquired-minute",
   "metadata": {},
   "source": [
    "### 분해합\n",
    "- 어떤 자연수 N이 있을 때, 그 자연수 N의 분해합은 N과 N을 이루는 각 자리수의 합을 의미한다. \n",
    "- 어떤 자연수 M의 분해합이 N인 경우, M을 N의 생성자라 한다. \n",
    "- 예를 들어, 245의 분해합은 256(=245+2+4+5)이 된다. \n",
    "- 따라서 245는 256의 생성자가 된다. 물론, 어떤 자연수의 경우에는 생성자가 없을 수도 있다. \n",
    "- 반대로, 생성자가 여러 개인 자연수도 있을 수 있다.\n",
    "- 자연수 N이 주어졌을 때, N의 가장 작은 생성자를 구해내는 프로그램을 작성하시오."
   ]
  },
  {
   "cell_type": "code",
   "execution_count": 19,
   "id": "absent-restaurant",
   "metadata": {},
   "outputs": [
    {
     "name": "stdin",
     "output_type": "stream",
     "text": [
      " 216\n"
     ]
    },
    {
     "name": "stdout",
     "output_type": "stream",
     "text": [
      "198\n"
     ]
    }
   ],
   "source": [
    "N = int(input())\n",
    "def solve(x):\n",
    "    list=[]\n",
    "    for i in range(1, x+1):\n",
    "        generator = i + sum([int(str(i)[j]) for j in range(len(str(i)))])\n",
    "        if generator == x:\n",
    "            list.append(i)\n",
    "            \n",
    "    if len(list) > 0:\n",
    "        return(min(list))\n",
    "    else:\n",
    "        return 0\n",
    "    \n",
    "print(solve(N))\n"
   ]
  },
  {
   "cell_type": "markdown",
   "id": "conditional-gnome",
   "metadata": {},
   "source": [
    "### 임의의 숫자의 (각 자릿수 + 자기 자신)"
   ]
  },
  {
   "cell_type": "code",
   "execution_count": 1,
   "id": "numeric-shaft",
   "metadata": {},
   "outputs": [
    {
     "data": {
      "text/plain": [
       "12360"
      ]
     },
     "execution_count": 1,
     "metadata": {},
     "output_type": "execute_result"
    }
   ],
   "source": [
    "x=12345\n",
    "sum([int(str(x)[i]) for i in range(len(str(x)))])+x   ### 리스트 컴프리헨션"
   ]
  },
  {
   "cell_type": "markdown",
   "id": "valid-bachelor",
   "metadata": {},
   "source": [
    "## 소수"
   ]
  },
  {
   "cell_type": "markdown",
   "id": "undefined-reference",
   "metadata": {},
   "source": [
    "### 아파트 임대(5615번) --> 시간 초과 pass"
   ]
  },
  {
   "cell_type": "markdown",
   "id": "assigned-tobago",
   "metadata": {},
   "source": [
    "- 아파트 면적은 $2xy+x+y = k$ --> 2k+1 = (2x+1)(2y+1) , $x,y$는 양의 정수\n",
    "- 즉, 아파트 면적을 k라 할 때 2k+1은 합성수이다.\n",
    "- 만약, $2k+1$이 소수라면 잘못된 아파트 면적이다."
   ]
  },
  {
   "cell_type": "markdown",
   "id": "fantastic-drove",
   "metadata": {},
   "source": [
    "#### 소수 판별\n",
    "```python\n",
    "def Is_prime_number(a):\n",
    "    from math import sqrt\n",
    "    for i in range(2,int(sqrt(a)+1)):\n",
    "        if a%i==0:\n",
    "            return True\n",
    "        else:\n",
    "            return False\n",
    "```   "
   ]
  },
  {
   "cell_type": "markdown",
   "id": "coral-commerce",
   "metadata": {},
   "source": [
    "```python\n",
    "from math import sqrt\n",
    "\n",
    "def Is_prime_number(a):\n",
    "    for i in range(2, int(sqrt(a))+1):\n",
    "        if a % i == 0:\n",
    "            return False\n",
    "        else:\n",
    "            return True\n",
    "        \n",
    "def apart(n):\n",
    "    sum = 0\n",
    "    for i in range(n):\n",
    "        x = int(input())\n",
    "        if Is_prime_number(2*x+1) == True:\n",
    "            sum +=1\n",
    "    return(sum)\n",
    "\n",
    "N = int(input())\n",
    "\n",
    "apart(N)\n",
    "```\n",
    "\n",
    "`-` `error`: 이렇게 코드를 짜면 N에 어떤 수를 대입해도 `if Is_prime_number(2*x+1) == True` 부분이 항상 참이여서 `sum += 1`이 실행된다.(원인불명)"
   ]
  },
  {
   "cell_type": "markdown",
   "id": "national-replication",
   "metadata": {},
   "source": [
    "```python\n",
    "from math import sqrt\n",
    "\n",
    "def Is_prime_number(a):\n",
    "    for i in range(2, int(sqrt(a))+1):\n",
    "        if a % i == 0:\n",
    "            return 0\n",
    "        else:\n",
    "            return 1\n",
    "        \n",
    "def apart(n):\n",
    "    sum = 0\n",
    "    for i in range(n):\n",
    "        x = int(input())\n",
    "        if Is_prime_number(2*x+1) == 1:\n",
    "            sum += 1\n",
    "    return(sum)\n",
    "\n",
    "N = int(input())\n",
    "\n",
    "apart(N)\n",
    "```\n",
    "`-` `error`: 이렇게 코드를 짜면 N에 어떤 수를 대입해도 `if Is_prime_number(2*x+1) == True` 부분이 항상 참이여서 `sum += 1`이 실행된다.(마찬가지로 원인불명)\n"
   ]
  },
  {
   "cell_type": "markdown",
   "id": "diagnostic-details",
   "metadata": {},
   "source": [
    "`-` 아파트 임대 --> 시간 초과 코드"
   ]
  },
  {
   "cell_type": "code",
   "execution_count": 55,
   "id": "structured-prince",
   "metadata": {},
   "outputs": [
    {
     "name": "stdin",
     "output_type": "stream",
     "text": [
      " 10\n",
      " 4\n",
      " 7\n",
      " 9\n",
      " 10\n",
      " 12\n",
      " 13\n",
      " 16\n",
      " 17\n",
      " 19\n",
      " 20\n"
     ]
    },
    {
     "data": {
      "text/plain": [
       "2"
      ]
     },
     "execution_count": 55,
     "metadata": {},
     "output_type": "execute_result"
    }
   ],
   "source": [
    "import sys\n",
    "from math import sqrt \n",
    "\n",
    "def Is_prime_number(a):\n",
    "    for i in range(2, int(sqrt(a))+1):\n",
    "        if a % i == 0:\n",
    "            return False\n",
    "    return True\n",
    "        \n",
    "def apart(n):\n",
    "    sum = 0\n",
    "    for i in range(n):\n",
    "        x = int(sys.stdin.readline())\n",
    "        if Is_prime_number(2*x+1) == 1:\n",
    "            sum += 1\n",
    "    return(sum)\n",
    "\n",
    "N = int(input())\n",
    "\n",
    "apart(N)\n"
   ]
  },
  {
   "cell_type": "markdown",
   "id": "circular-panel",
   "metadata": {},
   "source": [
    "#### 소수판정 의문점"
   ]
  },
  {
   "cell_type": "markdown",
   "id": "electric-thousand",
   "metadata": {},
   "source": [
    "```python\n",
    "def is_prime_number(x):\n",
    "    # 2부터 x의 제곱근까지의 모든 수를 확인하며\n",
    "    for i in range(2, int(sqrt(x)) + 1):\n",
    "        # x가 해당 수로 나누어떨어진다면\n",
    "        if x % i == 0:\n",
    "            return False # 소수가 아님\n",
    "    return True # 소수임\n",
    "```    \n",
    "`-` 위에 코드는 문제가 없다. x에 2나 3을 넣어도 잘 작동함."
   ]
  },
  {
   "cell_type": "markdown",
   "id": "listed-julian",
   "metadata": {},
   "source": [
    "```python\n",
    "def is_prime_number(x):\n",
    "    # 2부터 x의 제곱근까지의 모든 수를 확인하며\n",
    "    for i in range(2, int(sqrt(x)) + 1):\n",
    "        # x가 해당 수로 나누어떨어진다면\n",
    "        if x % i == 0:\n",
    "            return False # 소수가 아님\n",
    "        else:\n",
    "            return True # 소수임\n",
    "```    \n",
    "`-` 위에 코드는 문제가 있다. x에 2나 3을 넣으면 return이 없다."
   ]
  },
  {
   "cell_type": "markdown",
   "id": "turned-bleeding",
   "metadata": {},
   "source": [
    "## 파이썬 코드 실행 시간 측정"
   ]
  },
  {
   "cell_type": "markdown",
   "id": "caroline-digest",
   "metadata": {},
   "source": [
    "```python\n",
    "import time\n",
    "\n",
    "start = time.time() ## 시작 시간 저장\n",
    "\n",
    "## -----작업 코드-----\n",
    "\n",
    "print(\"time :\", time.time() - start)\n",
    "```"
   ]
  },
  {
   "cell_type": "markdown",
   "id": "organizational-windows",
   "metadata": {},
   "source": [
    "## 기본 수학1 (시간 초과 주의)"
   ]
  },
  {
   "cell_type": "markdown",
   "id": "abroad-state",
   "metadata": {},
   "source": [
    "### 달팽이는 올라가고 싶다.\n",
    "- 땅 위에 달팽이가 있다. 이 달팽이는 높이가 V미터인 나무 막대를 올라갈 것이다.\n",
    "\n",
    "- 달팽이는 낮에 A미터 올라갈 수 있다. 하지만, 밤에 잠을 자는 동안 B미터 미끄러진다. 또, 정상에 올라간 후에는 미끄러지지 않는다.\n",
    "\n",
    "- 달팽이가 나무 막대를 모두 올라가려면, 며칠이 걸리는지 구하는 프로그램을 작성하시오."
   ]
  },
  {
   "cell_type": "markdown",
   "id": "running-westminster",
   "metadata": {},
   "source": [
    "`-` 달팽이는 올라가고 싶다 --> 시간 초과 코드(while 반복문 사용)"
   ]
  },
  {
   "cell_type": "code",
   "execution_count": 6,
   "id": "correct-artist",
   "metadata": {},
   "outputs": [
    {
     "name": "stdin",
     "output_type": "stream",
     "text": [
      " 5 1 100\n"
     ]
    },
    {
     "name": "stdout",
     "output_type": "stream",
     "text": [
      "25\n"
     ]
    }
   ],
   "source": [
    "A, B, V = map(int,input().split())  ### 시간 초과\n",
    "\n",
    "day = 1\n",
    "h = 0\n",
    "\n",
    "while 1:\n",
    "    h += A\n",
    "    \n",
    "    if h >= V:\n",
    "        break   \n",
    "        \n",
    "    h -= B\n",
    "    day += 1 \n",
    "    \n",
    "print(day)    "
   ]
  },
  {
   "cell_type": "markdown",
   "id": "conditional-strengthening",
   "metadata": {},
   "source": [
    "`-` 달팽이는 올라가고 싶다 --> 시간 초과 해결한 코드(한 줄 수식)"
   ]
  },
  {
   "cell_type": "code",
   "execution_count": 7,
   "id": "southeast-industry",
   "metadata": {},
   "outputs": [
    {
     "name": "stdin",
     "output_type": "stream",
     "text": [
      " 5 1 100\n"
     ]
    },
    {
     "name": "stdout",
     "output_type": "stream",
     "text": [
      "25\n"
     ]
    }
   ],
   "source": [
    "import math\n",
    "A, B, V = map(int,input().split())  ### 시간 초과 해결\n",
    "print(math.ceil((V-A)/(A-B))+1)"
   ]
  },
  {
   "cell_type": "markdown",
   "id": "unexpected-novel",
   "metadata": {},
   "source": [
    "### 손익분기점\n",
    "- A는 고정 비용, B는 가변 비용, C는 수익, k는 판매량\n",
    "- $C*k > A + B*k$ --> $k > \\frac{A}{C-B}$"
   ]
  },
  {
   "cell_type": "code",
   "execution_count": 35,
   "id": "olympic-kitchen",
   "metadata": {},
   "outputs": [
    {
     "name": "stdin",
     "output_type": "stream",
     "text": [
      " 3 2 1\n"
     ]
    },
    {
     "name": "stdout",
     "output_type": "stream",
     "text": [
      "-1\n"
     ]
    }
   ],
   "source": [
    "A, B, C = map(int, input().split())\n",
    "if abs(C-B) < 0.5:   ### C == B 여부를 판단\n",
    "    print(-1)\n",
    "    \n",
    "elif int(A/(C-B)) < 0:\n",
    "    print(-1)\n",
    "\n",
    "else:\n",
    "    print(int(A/(C-B)) + 1)"
   ]
  },
  {
   "cell_type": "markdown",
   "id": "engaged-london",
   "metadata": {},
   "source": [
    "`-` 위에 코드보다 더 간결한 코드\n",
    "\n",
    "`-` A에 관계없이 B >= C이면 손익분기점이 없다."
   ]
  },
  {
   "cell_type": "code",
   "execution_count": 36,
   "id": "confident-maldives",
   "metadata": {},
   "outputs": [
    {
     "name": "stdin",
     "output_type": "stream",
     "text": [
      " 1000 70 170\n"
     ]
    },
    {
     "name": "stdout",
     "output_type": "stream",
     "text": [
      "11\n"
     ]
    }
   ],
   "source": [
    "A, B, C = map(int, input().split())\n",
    "if B >= C:   ### C == B 여부를 판단\n",
    "    print(-1)   \n",
    "else:\n",
    "    print(int(A/(C-B)) + 1)"
   ]
  },
  {
   "cell_type": "markdown",
   "id": "extra-manufacturer",
   "metadata": {},
   "source": [
    "### Fly me to the Alpha Centauri\n",
    "- 시작할 땐 1만큼 도착할 때도 1만큼 이동\n",
    "- k만큼 이동한 후에 k-1 or k or k+1 만큼 이동 가능"
   ]
  },
  {
   "cell_type": "markdown",
   "id": "planned-duncan",
   "metadata": {},
   "source": [
    "`-` 이동 횟수를 최소화할려면?\n",
    "\n",
    "`-` $x지점(출발=0)\\to{1}\\to{2}\\to{3}\\to\\dots\\to{n}\\to{n-1}\\to\\dots\\to{2}\\to{1}\\to{y지점}(도착=0)$\n",
    "\n",
    "`-` $이동\\,거리 = \\sum_{i=1}^{n}{k} + \\sum_{i=1}^{n-1}{k} = \\frac{n(n+1)}{2} + \\frac{(n-1)n}{2} = n^2$ \n",
    "\n",
    "`-` $y-x = n^2$\n",
    "\n",
    "`-` $이동\\,횟수 = 화살표의\\,개수 = n+(n-1)=2n-1$\n",
    "\n",
    "`-` 즉 $n^2$의 거리를 이동하기 위한 최소한의 이동 횟수는 $2n-1$이다.\n",
    "\n",
    "`-` 바꿔말하면 $2n-1$번의 이동으로 갈 수 있는 최대 거리는 $n^2$이다."
   ]
  },
  {
   "cell_type": "markdown",
   "id": "solved-aviation",
   "metadata": {},
   "source": [
    "`-` 위에 방법에 기반하여 정리를 해봤다.\n",
    "\n",
    "`-` 위에서는 이동 거리가 $n^2$에 대해서 고려했다. 하지만 이동 거리가 제곱수가 아닐 수 도 있다.\n",
    "\n",
    "`-` 예로 이동 거리가 110이면 이동 횟수는 $\\sqrt{100} \\leq \\sqrt{110} \\leq \\sqrt{121}$ 이므로 10 or 11 or 12이다.\n",
    "\n",
    "`-` $n^2 = 1+1+2+2+\\dots+(n-1)+(n-1)+n$ 이다.\n",
    "\n",
    "`-` 100 과 121의 차이는 21 = 10 + 11 --> 100은 이동 횟수 $2n-1=19$, 101$\\sim$110 은 $2n=20$, 111$\\sim$121은 $2n+1=21$이다."
   ]
  },
  {
   "cell_type": "code",
   "execution_count": 1,
   "id": "focal-reflection",
   "metadata": {},
   "outputs": [
    {
     "name": "stdin",
     "output_type": "stream",
     "text": [
      " 3\n",
      " 0 3\n"
     ]
    },
    {
     "name": "stdout",
     "output_type": "stream",
     "text": [
      "3\n"
     ]
    },
    {
     "name": "stdin",
     "output_type": "stream",
     "text": [
      " 1 5\n"
     ]
    },
    {
     "name": "stdout",
     "output_type": "stream",
     "text": [
      "3\n"
     ]
    },
    {
     "name": "stdin",
     "output_type": "stream",
     "text": [
      " 45 50\n"
     ]
    },
    {
     "name": "stdout",
     "output_type": "stream",
     "text": [
      "4\n"
     ]
    }
   ],
   "source": [
    "T = int(input())\n",
    "\n",
    "for i in range(T):\n",
    "    x, y = map(int, input().split())\n",
    "    n = y - x\n",
    "    \n",
    "    m = int(n**0.5)\n",
    "    \n",
    "    if n**0.5 == m:\n",
    "        print(2*m - 1)\n",
    "    \n",
    "    elif n - m**2 <= m:\n",
    "        print(2*m)\n",
    "    \n",
    "    else:\n",
    "        print(2*m + 1)\n",
    "        "
   ]
  },
  {
   "cell_type": "markdown",
   "id": "conscious-monday",
   "metadata": {},
   "source": [
    "### 설탕 배달"
   ]
  },
  {
   "cell_type": "markdown",
   "id": "discrete-reset",
   "metadata": {},
   "source": [
    "- 상근이는 요즘 설탕공장에서 설탕을 배달하고 있다. 상근이는 지금 사탕가게에 설탕을 정확하게 N킬로그램을 배달해야 한다. \n",
    "\n",
    "- 설탕공장에서 만드는 설탕은 봉지에 담겨져 있다. 봉지는 3킬로그램 봉지와 5킬로그램 봉지가 있다.\n",
    "\n",
    "- 상근이는 귀찮기 때문에, 최대한 적은 봉지를 들고 가려고 한다. \n",
    "\n",
    "- 예를 들어, 18킬로그램 설탕을 배달해야 할 때, 3킬로그램 봉지 6개를 가져가도 된다.\n",
    "\n",
    "- 하지만 5킬로그램 3개와 3킬로그램 1개를 배달하면, 더 적은 개수의 봉지를 배달할 수 있다.\n",
    "\n",
    "- 상근이가 설탕을 정확하게 N킬로그램 배달해야 할 때, 봉지 몇 개를 가져가면 되는지 그 수를 구하는 프로그램을 작성하시오.\n",
    "\n",
    "- 만약, 정확하게 N킬로그램을 만들 수 없다면 -1을 출력한다."
   ]
  },
  {
   "cell_type": "markdown",
   "id": "favorite-triangle",
   "metadata": {},
   "source": [
    "`-` 봉지를 최소화 해야 한다. --> 5kg 봉지를 최대한 많이 써야 한다.\n",
    "\n",
    "`-` 설탕의 무게를 5로 나눈다.\n",
    "\n",
    "`-` 만약 5로 나눠지면 끝이다. 그러지 않다면 5kg 봉지를 하나씩 줄여나가고 나머지를 3kg 봉지로 담는다.\n",
    "\n",
    "`-` 5kg 봉지를 하나씩 줄이다가 0이 됐다면 전부 3kg 봉지를 사용한다.\n",
    "\n",
    "`-` 그래도 안된다면 정확하게 Nkg을 만드는 것이 불가능하므로 -1을 출력한다."
   ]
  },
  {
   "cell_type": "markdown",
   "id": "suffering-reader",
   "metadata": {},
   "source": [
    "```python\n",
    "N = int(input())\n",
    "\n",
    "def sugar(n):\n",
    "    k = n//5\n",
    "    l = n % 5\n",
    "    if l == 0:\n",
    "        return k\n",
    "    \n",
    "    else:\n",
    "        n = n - k*5\n",
    "        if n % 3 ==0:\n",
    "            return k + 1\n",
    "        \n",
    "        else:\n",
    "            n = n - (k-1)*5\n",
    "            if n % 3 ==0:\n",
    "                return k - 1 + n//3\n",
    "            \n",
    "            else:\n",
    "                n = n - (k-2)*5\n",
    "                if n % 3 == 0:\n",
    "                    return k - 2 + n//3\n",
    "                \n",
    "                else:\n",
    "                    n = n -(k-3)*5\n",
    "                    if n % 3 ==0:\n",
    "                        return k - 3 + n//3\n",
    "                    \n",
    "                    else:\n",
    "                        \n",
    "                        ......\n",
    "                        \n",
    "                        if n < 0:\n",
    "                            return -1\n",
    "            \n",
    "```   \n",
    "- 이런식으로 전개될 것이다."
   ]
  },
  {
   "cell_type": "code",
   "execution_count": null,
   "id": "rental-marina",
   "metadata": {},
   "outputs": [],
   "source": []
  }
 ],
 "metadata": {
  "kernelspec": {
   "display_name": "Python 3",
   "language": "python",
   "name": "python3"
  },
  "language_info": {
   "codemirror_mode": {
    "name": "ipython",
    "version": 3
   },
   "file_extension": ".py",
   "mimetype": "text/x-python",
   "name": "python",
   "nbconvert_exporter": "python",
   "pygments_lexer": "ipython3",
   "version": "3.8.8"
  }
 },
 "nbformat": 4,
 "nbformat_minor": 5
}
