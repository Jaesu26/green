{
 "cells": [
  {
   "cell_type": "markdown",
   "id": "impressive-night",
   "metadata": {},
   "source": [
    "# 마크다운 용법\n",
    "\n",
    "> \"작성 완료\"\n",
    "\n",
    "- toc: true\n",
    "- branch: master\n",
    "- badges: true\n",
    "- comments: true\n",
    "- author: 한재수\n",
    "- categories: [python, github, markdown, jupyter, latex]"
   ]
  },
  {
   "cell_type": "markdown",
   "id": "vertical-today",
   "metadata": {},
   "source": [
    "## fastpages 카테고리\n",
    "\n",
    "`-` _notebook 폴더안에 파일을 만드는데 아래와 같은 형식을 준수하자"
   ]
  },
  {
   "cell_type": "markdown",
   "id": "pleased-component",
   "metadata": {},
   "source": [
    "  제목\n",
    " \n",
    "  \"부제목\"\n",
    "  \n",
    "  -toc: true\n",
    "  \n",
    "  -branch: master\n",
    "  \n",
    "  -badges: true\n",
    "  \n",
    "  -comments: true\n",
    "  \n",
    "  -author: 한재수\n",
    "  \n",
    "  -categories: [python]\n",
    "  \n",
    "\n",
    "`-` 위에 내용을 아무곳에나 붙여 넣는다. 부제목은 (>\"부제목\"), 제목은 (# 제목)\n",
    "\n",
    "`-` categories에 해당하는 부분이 깃허브 홈페이지에서 tag에 보이는 부분이다.\n",
    "\n",
    "`-` categories 에서 [ ] 안에 여러개를 추가 할 수 있다. ex) [python, R, CSS]"
   ]
  },
  {
   "cell_type": "markdown",
   "id": "framed-douglas",
   "metadata": {},
   "source": [
    "## 블로그 관리\n",
    "`1.` 깃허브 가입하기\n",
    "\n",
    "`2.` fastai/fastpages 사용\n",
    "\n",
    "`3.` 깃허브 데스크탑 이용\n",
    "\n",
    "`(1)` 주피터노트북으로 공부한다\n",
    "\n",
    "`(2)` 깃허브와 연결된 어떤 폴더(드랍박스 안의 green)에 공부한 내용을 넣는다\n",
    "\n",
    "`(3)` 깃허브 데스크탑이라는 프로그램을 이용하여 local(내 윈도우 컴퓨터)에서 remote (github)로 변경사항을 반영한다\n",
    "\n",
    "`(4)` 2~3분 뒤에 블로그 홈페이지에 반영된다\n",
    "\n",
    "`(5)` 공부한 내용을 편집없이 주피터 노트북 파일을 올리기만 하면 블로그에 올라가서 편하다 필요에 따라 숨기기, 비밀 포스트도 만들 수 있다\n",
    "\n",
    "`-` 수식을 제대로 입력했는데 블로그에서는 raw 수식 내용이 그대로 보인다면 text{ ... }안에 내용이 수식과 일반 텍스트로 심하게 혼용이 되어 있는지 보자\n",
    "\n",
    "`-` 일반 텍스트는 text{ }안에 적고 수식은 밖에 적으면 해결됨 ---> 삽질해서 확인함"
   ]
  },
  {
   "cell_type": "markdown",
   "id": "indoor-wyoming",
   "metadata": {},
   "source": [
    "## 깃, 깃허브\n",
    "`-` 버전 관리 시스템\n",
    "\n",
    "`-` 서로 코드를 공유\n",
    "\n",
    "`-` 혼자 쓰면 개인 저장소.."
   ]
  },
  {
   "cell_type": "markdown",
   "id": "sustained-cocktail",
   "metadata": {},
   "source": [
    "## 주피터 노트북"
   ]
  },
  {
   "cell_type": "markdown",
   "id": "tribal-savannah",
   "metadata": {},
   "source": [
    "### 유용한 키\n",
    "`-` 삭제한 셀 복원 ---> Edit - Undo cell operation or `Esc 후 z키 입력`\n",
    "\n",
    "`-` 삭제한 코드 복원 ---> `Ctrl + z`\n",
    "\n",
    "`-` 주석처리 단축키 ---> `Ctrl + /` (여러줄을 동시에 처리할려면 마우스로 스크롤하기)"
   ]
  },
  {
   "cell_type": "markdown",
   "id": "functioning-startup",
   "metadata": {},
   "source": [
    "### 주피터 노트북 ---> remote ---> page (안 올라갈 수 도 있다)\n",
    "\n",
    "`-` 깃허브 데스크탑 history에서 이제껏 했던 커밋을 볼 수 있다. 게다가 삭제된 파일을 복구할 수 도 있다.\n",
    "\n",
    "`-` 화면 캡쳐 프로그램으로 캡쳐를 함 ---> 마크다운에서 캡쳐한 이미지를 ctrl+v하면 캡쳐한 이미지가 삽입된다.\n",
    "\n",
    "`-` 이미지 파일을 넣은 주피터 노트북 파일을 올리면 깃허브 notebook에는 올라가지만 블로그에는 올라가지 않는다."
   ]
  },
  {
   "cell_type": "markdown",
   "id": "demographic-sheffield",
   "metadata": {},
   "source": [
    "### 링크 삽입\n",
    "`-` 보통 링크 삽입은 `[label](link)`의 형식임\n",
    "\n",
    "`-` 그런데`link`에 `)`기호가 있으면 링크 연결에 문제가 있을 수 도 있음\n",
    "\n",
    "`-` `[label][key]`\n",
    "\n",
    "`-` `[key]: link`\n",
    "\n",
    "`-` 위와 같이 해도 링크 연결에 문제가 없고 위의 문제도 해결 가능함\n",
    "\n",
    "`-` 참고: [링크 연결](https://stackoverflow.com/questions/41345160/display-link-url-in-markdown)"
   ]
  },
  {
   "cell_type": "markdown",
   "id": "qualified-month",
   "metadata": {},
   "source": [
    "### 수식 기호 표현\n",
    "`-` 3.141592를 변수에 저장하고 싶음\n",
    "\n",
    "`-` pi = 3.141592 \n",
    "\n",
    "`-` 그런데 pi 대신에 $\\pi$를 사용하고 싶다면??\n",
    "\n",
    "`-` `code셀`에서 `\\pi`를 입력한 후 `Tab`을 누르면 됨"
   ]
  },
  {
   "cell_type": "code",
   "execution_count": 1,
   "id": "solid-spare",
   "metadata": {},
   "outputs": [],
   "source": [
    "pi = 3.141592\n",
    "π = 3.141592"
   ]
  },
  {
   "cell_type": "code",
   "execution_count": 2,
   "id": "bulgarian-tyler",
   "metadata": {},
   "outputs": [
    {
     "data": {
      "text/plain": [
       "3.141592"
      ]
     },
     "execution_count": 2,
     "metadata": {},
     "output_type": "execute_result"
    }
   ],
   "source": [
    "pi"
   ]
  },
  {
   "cell_type": "code",
   "execution_count": 3,
   "id": "exact-twenty",
   "metadata": {},
   "outputs": [
    {
     "data": {
      "text/plain": [
       "3.141592"
      ]
     },
     "execution_count": 3,
     "metadata": {},
     "output_type": "execute_result"
    }
   ],
   "source": [
    "π"
   ]
  },
  {
   "cell_type": "markdown",
   "id": "failing-forestry",
   "metadata": {},
   "source": [
    "### 셀의 양끝으로 이동 "
   ]
  },
  {
   "cell_type": "markdown",
   "id": "sapphire-istanbul",
   "metadata": {},
   "source": [
    "`-` 키보드 `위` 키를 누르면 `셀의 오른쪽 끝`으로 이동함\n",
    "\n",
    "`-` 키보드 `아래` 키를 누르면 `셀의 왼쪽 끝`으로 이동함"
   ]
  },
  {
   "cell_type": "markdown",
   "id": "consolidated-clark",
   "metadata": {},
   "source": [
    "## 수식을 멋있게 표현하고 싶다면??"
   ]
  },
  {
   "cell_type": "markdown",
   "id": "alleged-shoot",
   "metadata": {},
   "source": [
    "`-` `$`수식`$` 꼴로 나타낸다.\n",
    "\n",
    "`-` y = x^2 + 1\n",
    "\n",
    "`-` $y = x^2 +1$"
   ]
  },
  {
   "cell_type": "markdown",
   "id": "amber-hampshire",
   "metadata": {},
   "source": [
    "### 밑 첨자 표현"
   ]
  },
  {
   "cell_type": "markdown",
   "id": "serial-inside",
   "metadata": {},
   "source": [
    "`-` `$`수식`_`밑첨자`$`\n",
    "\n",
    "`-` x_1 + x_2 = x_3\n",
    "\n",
    "`-` $x_1 + x_2 = x_3$"
   ]
  },
  {
   "cell_type": "markdown",
   "id": "possible-program",
   "metadata": {},
   "source": [
    "### $\\sum$ 표현 "
   ]
  },
  {
   "cell_type": "markdown",
   "id": "serial-print",
   "metadata": {},
   "source": [
    "`-` `\\limits` 옵션을 통해 $\\sum$의 시작과 끝의 위치를 $\\sum$의 바로 위와 아래로 지정가능\n",
    "\n",
    "`-` $\\sum_{n=1}^{\\infty}\\frac{1}{n^2}$\n",
    "\n",
    "`-` $\\sum\\limits_{n=1}^{\\infty}\\frac{1}{n^2}$\n",
    "\n",
    "`-` `\\mathop`로 여러개의 \\sum을 \\{ \\}로 감싸주면 글씨를 가운데에 표현 가능\n",
    "\n",
    "`-` $2\\mathop{\\sum\\sum}\\limits_{j<k}Cov(X_j,X_k)$ ---> \\mathop{\\sum\\sum}\\limits_{j<k}"
   ]
  },
  {
   "cell_type": "markdown",
   "id": "under-heather",
   "metadata": {},
   "source": [
    "### 백터 표현\n",
    "`-` 벡터 표현하기: 화살표, 볼드체\n",
    "\n",
    "`-` $X$는 변수\n",
    "\n",
    "`-` $\\boldsymbol{X},\\;\\mathbf{X},\\; \\vec{~X~}$는 벡터"
   ]
  },
  {
   "cell_type": "markdown",
   "id": "metric-salmon",
   "metadata": {},
   "source": [
    "### 위아래로 중괄호 표현"
   ]
  },
  {
   "cell_type": "markdown",
   "id": "indie-premiere",
   "metadata": {},
   "source": [
    "`-` `\\overbrace`를 통해 위로 중괄호를 표현함\n",
    "\n",
    "`-` $x+x+x+\\dots+x+x,\\;x$를 $n$번 더함\n",
    "\n",
    "`-` `\\underbrace`를 통해 아래로 중괄호를 표현함\n",
    "\n",
    "`-` $x\\times x\\times x\\times\\dots\\times x\\times x,\\;x$를 $n$번 곱함"
   ]
  },
  {
   "cell_type": "markdown",
   "id": "sustainable-syntax",
   "metadata": {},
   "source": [
    "`-` $\\overbrace{x + \\cdots + x}^{n\\rm\\ times}$\n",
    "\n",
    "`-` $\\underbrace{x \\times \\cdots \\times x}_{n\\rm\\ times}$"
   ]
  },
  {
   "cell_type": "markdown",
   "id": "danish-research",
   "metadata": {},
   "source": [
    "### 점찍기 "
   ]
  },
  {
   "cell_type": "markdown",
   "id": "indoor-population",
   "metadata": {},
   "source": [
    "`-` `s` 제외하면 점 하나만 찍힘, `s` 포함하면 점 세개 찍힌다\n",
    "\n",
    "`-` `\\dots` ---> $\\dots$\n",
    "\n",
    "`-` `\\cdots` ---> $\\cdots$\n",
    "\n",
    "`-` `\\ddots` ---> $\\ddots$\n",
    "\n",
    "`-` `\\vdots` ---> $\\vdots$"
   ]
  },
  {
   "cell_type": "markdown",
   "id": "chronic-genesis",
   "metadata": {},
   "source": [
    "### 괄호 크게 만들기 "
   ]
  },
  {
   "cell_type": "markdown",
   "id": "popular-stationery",
   "metadata": {},
   "source": [
    "`-` \\big \\Big \\bigg \\Bigg 을 통해 괄호를 크게 만들 수 있음\n",
    "\n",
    "`-` $\\big( \\Big( \\bigg( \\Bigg($\n",
    "\n",
    "`-` $\\big[ \\Big[ \\bigg[ \\Bigg[$\n",
    "\n",
    "`-` $\\big\\{ \\Big\\{ \\bigg\\{ \\Bigg\\{ $\n",
    "\n",
    "`-` 참고로 수식안에 들어가는 기호로서 중괄호 표현은 \\\\{ 이다"
   ]
  },
  {
   "cell_type": "markdown",
   "id": "sunset-wings",
   "metadata": {},
   "source": [
    "### 글씨 크기 조절 \n",
    "\n",
    "`-` link : https://ko.overleaf.com/learn/latex/Font_sizes,_families,_and_styles"
   ]
  },
  {
   "cell_type": "markdown",
   "id": "romantic-battlefield",
   "metadata": {},
   "source": [
    "### 개행 간격 조절\n",
    "\n",
    "`-` link : https://tex.stackexchange.com/questions/494582/spacing-of-newline-and\n",
    "\n",
    "`-` 참고로 주피터노트북에서 보이는 간격이랑 블로그에서 보이는 간격이 다름"
   ]
  },
  {
   "cell_type": "markdown",
   "id": "cb6105a2-904e-4e61-94bd-d34f8fdcb742",
   "metadata": {},
   "source": [
    "### 수식 색깔 바꾸기\n",
    "\n",
    "`-` <span style = \"color:red\"> $x^2+1$ </span>, <span style = \"color:blue\"> $(x+1)^2$ </span>\n",
    "\n",
    "`-` ref : https://stackoverflow.com/questions/35465557/how-to-apply-color-in-markdown"
   ]
  },
  {
   "cell_type": "markdown",
   "id": "perfect-swift",
   "metadata": {},
   "source": [
    "### 문자 위에 문자 표시\n",
    "\n",
    "`-` ${H_0}^{\\sim}$ ---> {H_0}^{\\sim}\n",
    "\n",
    "`-` $\\overset{\\sim}{H_0}$ ---> \\overset{\\sim}{H_0}\n",
    "\n",
    "`-` ref : https://tex.stackexchange.com/questions/43335/how-to-write-is-distributed-as-under-a-certain-hypothesis"
   ]
  },
  {
   "cell_type": "markdown",
   "id": "metallic-level",
   "metadata": {},
   "source": [
    "### 수식의 시작 위치를 동일하게 하고 싶다면?\n",
    "\n",
    "$$\\frac{\\partial \\boldsymbol L}{\\partial \\beta_0}  = -\\frac{1}{\\sigma^2}\\sum\\limits^{n}_{i=1}(y_i-\\beta_0-\\beta_1 x_i)=0\\\\\n",
    "\\frac{\\partial \\boldsymbol L}{\\partial \\beta_1}  = \\frac{1}{\\sigma^2}\\sum\\limits^{n}_{i=1}x_i(y_i-\\beta_0-\\beta_1 x_i)=0\\\\\n",
    "\\frac{\\partial \\boldsymbol L}{\\partial \\beta_1}  = -\\frac{n}{2\\sigma^2}+\\frac{1}{2\\sigma^4}\\sum\\limits^{n}_{i=1}x_i(y_i-\\beta_0-\\beta_1 x_i)=0$$\n",
    "\n",
    "`-` `\\begin{aligned} 와 \\end{aligned}`를 사용하면 된다\n",
    "\n",
    "$$\\begin{aligned}\\frac{\\partial \\boldsymbol L}{\\partial \\beta_0} & = -\\frac{1}{\\sigma^2}\\sum\\limits^{n}_{i=1}(y_i-\\beta_0-\\beta_1 x_i)=0 \\\\\n",
    "\\frac{\\partial \\boldsymbol L}{\\partial \\beta_1} & = \\frac{1}{\\sigma^2}\\sum\\limits^{n}_{i=1}x_i(y_i-\\beta_0-\\beta_1 x_i)=0 \\\\\n",
    "\\frac{\\partial \\boldsymbol L}{\\partial \\beta_1} & = -\\frac{n}{2\\sigma^2}+\\frac{1}{2\\sigma^4}\\sum\\limits^{n}_{i=1}x_i(y_i-\\beta_0-\\beta_1 x_i)=0\\end{aligned}$$\n",
    "\n",
    "`-` ref: https://stackoverflow.com/questions/28353127/how-to-change-alignment-of-displayed-equations-in-ipython-notebook\n",
    "\n",
    "`-` 방정식 끝에 라벨 매기기(R markdown): [Hyperlink](http://daplus.net/latex-%EC%A0%95%EB%A0%AC-%ED%99%98%EA%B2%BD%EC%97%90%EC%84%9C-%EA%B0%81-%EB%B0%A9%EC%A0%95%EC%8B%9D%EC%97%90-%EB%A0%88%EC%9D%B4%EB%B8%94%EC%9D%84-%EC%A7%80%EC%A0%95%ED%95%98%EB%8A%94-%EB%B0%A9/)"
   ]
  },
  {
   "cell_type": "markdown",
   "id": "handmade-printing",
   "metadata": {},
   "source": [
    "## 유용한 `latex`"
   ]
  },
  {
   "cell_type": "markdown",
   "id": "violent-indie",
   "metadata": {},
   "source": [
    "### \\boldsymbol\n",
    "`-` applies to nearly all symbols, not just letters and numbers\n",
    "\n",
    "`-` ex) $\\boldsymbol{A}\\,A$"
   ]
  },
  {
   "cell_type": "markdown",
   "id": "spectacular-closure",
   "metadata": {},
   "source": [
    "### \\bf\n",
    "`-`  Used to turn on boldface; affects uppercase and lowercase letters, and digits\n",
    "\n",
    "`-` ex) ${\\bf 123}\\,{123}$\n",
    "\n",
    "`-` ex) ${\\bf A}\\,{A}$"
   ]
  },
  {
   "cell_type": "markdown",
   "id": "presidential-financing",
   "metadata": {},
   "source": [
    "### \\therefore"
   ]
  },
  {
   "cell_type": "markdown",
   "id": "varying-excellence",
   "metadata": {},
   "source": [
    "`-` `\\therefore`를 통해 삼각형 모양 점3개를 만듦\n",
    "\n",
    "`-` $\\therefore 1+1= \\text{힘든 삶}$"
   ]
  },
  {
   "cell_type": "markdown",
   "id": "sustained-illinois",
   "metadata": {},
   "source": [
    "### \\bigcup "
   ]
  },
  {
   "cell_type": "markdown",
   "id": "capable-topic",
   "metadata": {},
   "source": [
    "`-` 집합열을 포현할 때 합집합 기호의 밑과 위에 시작과 끝을 표시하고 싶다면 `\\bigcup`과 `limits`를 사용하자\n",
    "\n",
    "`-` $\\cup_{i=1}^{\\infty} A_i$ ---> \\cup_{i=1}^{\\infty} A_i\n",
    "\n",
    "`-` $\\bigcup_{i=1}^{\\infty} A_i$ ---> \\bigcup_{i=1}^{\\infty} A_i\n",
    "\n",
    "`-` $\\bigcup\\limits_{i=1}^{\\infty} A_i$ ---> \\bigcup\\limits_{i=1}^{\\infty} A_i"
   ]
  },
  {
   "cell_type": "markdown",
   "id": "searching-oregon",
   "metadata": {},
   "source": [
    "### \\cfrac\n",
    "\n",
    "`-` 일반적인 \\frac과의 차이점은 글씨의 크기임\n",
    "\n",
    "`-` $P(A|B) = \\frac{P(A\\cap B)}{P(B)}$ ---> \\frac\n",
    "\n",
    "`-` $P(A|B) = \\cfrac{P(A\\cap B)}{P(B)}$ ---> \\cfrac"
   ]
  },
  {
   "cell_type": "markdown",
   "id": "vital-bouquet",
   "metadata": {
    "jp-MarkdownHeadingCollapsed": true,
    "tags": []
   },
   "source": [
    "### \\mid\n",
    "\n",
    "`-` 수직선을 그려줌 ---> 조건부 확률 표현할 때 사용\n",
    "\n",
    "`-` $P(A|B) = \\cfrac{P(A\\cap B)}{P(B)}$ ---> |\n",
    "\n",
    "`-` $P(A\\mid B) = \\cfrac{P(A\\cap B)}{P(B)}$ ---> \\mid"
   ]
  },
  {
   "cell_type": "markdown",
   "id": "103fc5a3-5cb4-4f56-8382-d17f0f15a85c",
   "metadata": {
    "tags": []
   },
   "source": [
    "### \\xrightarrow\n",
    "\n",
    "`-` 오른쪽방향의 화살표를 그려주는데 화살표위에 글씨를 적을 수 있다!\n",
    "\n",
    "`-` 확률변수의 수렴을 표현할 때 사용할 수 있음\n",
    "\n",
    "`-` $X_n{\\xrightarrow{p}} X$ ---> X_n{\\xrightarrow{p}} X : 확률수렴\n",
    "\n",
    "`-` 그런데 화살표길이가 더 길었으면 좋겠다\n",
    "\n",
    "`-` 그럴땐 `~` 기호를 이용하면 된다\n",
    "\n",
    "`-` $X_n{\\xrightarrow{~~p~~}} X$ ---> X_n{\\xrightarrow{\\~~p\\~~}} X\n",
    "\n",
    "`-` 아래처럼 할 수 도 있음 \n",
    "\n",
    "`-` $X_n \\overset{p}{\\longrightarrow}X$ ---> X_n \\overset{p}{\\longrightarrow}X"
   ]
  },
  {
   "cell_type": "markdown",
   "id": "4b7eebb5-8834-4567-ade4-1c2cff90fcdf",
   "metadata": {},
   "source": [
    "### \\operatorname\n",
    "\n",
    "`-` 이탤릭체인 글씨체를 변경\n",
    "\n",
    "`-` $\\underset{x}{argmin}f(x)$ ---> \\underset{x}{argmin}f(x)\n",
    "\n",
    "`-` $\\underset{x}{\\operatorname{argmin}}f(x)$ ---> \\underset{x}{\\operatorname{argmin}}f(x)"
   ]
  },
  {
   "cell_type": "markdown",
   "id": "engaged-nutrition",
   "metadata": {},
   "source": [
    "## 매우 유용한 사이트\n",
    "`-` <Jupyter 노트북에서 `Markdown` 및 `LaTeX`을 작성하는 방법 알아보기 ---> [https://ichi.pro/ko/jupyter-noteubug-eseo-markdown-mich-latexleul-jagseonghaneun-bangbeob-al-abogi-18246612521469](https://ichi.pro/ko/jupyter-noteubug-eseo-markdown-mich-latexleul-jagseonghaneun-bangbeob-al-abogi-18246612521469)\n",
    "\n",
    "`-` `latex command` 총 정리 ---> [https://www.tutorialspoint.com/tex_commands/percentage.htm](https://www.tutorialspoint.com/tex_commands/percentage.htm)"
   ]
  },
  {
   "cell_type": "code",
   "execution_count": null,
   "id": "green-accused",
   "metadata": {},
   "outputs": [],
   "source": []
  }
 ],
 "metadata": {
  "kernelspec": {
   "display_name": "Python 3 (ipykernel)",
   "language": "python",
   "name": "python3"
  },
  "language_info": {
   "codemirror_mode": {
    "name": "ipython",
    "version": 3
   },
   "file_extension": ".py",
   "mimetype": "text/x-python",
   "name": "python",
   "nbconvert_exporter": "python",
   "pygments_lexer": "ipython3",
   "version": "3.8.11"
  }
 },
 "nbformat": 4,
 "nbformat_minor": 5
}
