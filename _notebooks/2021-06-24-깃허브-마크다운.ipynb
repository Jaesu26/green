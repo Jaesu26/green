{
 "cells": [
  {
   "cell_type": "markdown",
   "id": "skilled-first",
   "metadata": {},
   "source": [
    "# 깃허브 마크다운\n",
    "\n",
    "> \"작성 완료\"\n",
    "\n",
    "- toc: true\n",
    "- branch: master\n",
    "- badges: true\n",
    "- comments: true\n",
    "- author: 한재수\n",
    "- categories: [python, github, markdown, jupyter]"
   ]
  },
  {
   "cell_type": "markdown",
   "id": "indoor-comedy",
   "metadata": {},
   "source": [
    "## 깃허브 카테고리"
   ]
  },
  {
   "cell_type": "markdown",
   "id": "human-salvation",
   "metadata": {},
   "source": [
    "  제목\n",
    " \n",
    "  \"부제목\"\n",
    "  \n",
    "  -toc: true\n",
    "  \n",
    "  -branch: master\n",
    "  \n",
    "  -badges: true\n",
    "  \n",
    "  -comments: true\n",
    "  \n",
    "  -author: 한재수\n",
    "  \n",
    "  -categories: [python]\n",
    "  \n",
    "\n",
    "`-` 위에 내용을 아무곳에나 붙여 넣는다. 부제목은 (>\"부제목\"), 제목은 (# 제목)\n",
    "\n",
    "`-` categories에 해당하는 부분이 깃허브 홈페이지에서 tag에 보이는 부분이다.\n",
    "\n",
    "`-` categories 에서 [ ] 안에 여러개를 추가 할 수 있다. ex) [python, R, CSS]"
   ]
  },
  {
   "cell_type": "markdown",
   "id": "classified-cambridge",
   "metadata": {},
   "source": [
    "## 블로그 관리\n",
    "- 1_ 깃허브 가입하기\n",
    "- 2_ fastai/fastpages 사용\n",
    "- 3_ 깃허브 데스크탑 이용\n",
    "\n",
    "- (1) 주피터노트북으로 공부한다.\n",
    "- (2) 깃허브와 연결된 어떤 폴더(드랍박스 안의 green)에 공부한 내용을 넣는다.\n",
    "- (3) 깃허브 데스크탑이라는 프로그램을 이용하여 local(내 윈도우 컴퓨터)에서 remote (github)로 변경사항을 반영한다.\n",
    "- (4) 2~3분 뒤에 블로그 홈페이지에 반영된다.\n",
    "- (5) 공부한 내용을 편집없이 주피터 노트북 파일을 올리기만 하면 블로그에 올라가서 편하다. 필요에 따라 숨기기, 비밀 포스트도 만들 수 있다."
   ]
  },
  {
   "cell_type": "markdown",
   "id": "latin-figure",
   "metadata": {},
   "source": [
    "## 깃, 깃허브\n",
    "`-` 버전 관리 시스템\n",
    "\n",
    "`-` 서로 코드를 공유\n",
    "\n",
    "`-` 혼자 쓰면 개인 저장소.."
   ]
  },
  {
   "cell_type": "markdown",
   "id": "liked-stylus",
   "metadata": {},
   "source": [
    "## 주피터 노트북"
   ]
  },
  {
   "cell_type": "markdown",
   "id": "demonstrated-retrieval",
   "metadata": {},
   "source": [
    "### 유용한 키\n",
    "`-` 삭제한 셀 복원 --> Edit - Undo cell operation or `Esc 후 z키 입력`\n",
    "\n",
    "`-` 삭제한 코드 복원 --> `Ctrl + z`"
   ]
  },
  {
   "cell_type": "markdown",
   "id": "solar-ferry",
   "metadata": {},
   "source": [
    "### 주피터 노트북 --> remote --> page (안 올라갈 수 도 있다)\n",
    "\n",
    "`-` 깃허브 데스크탑 history에서 이제껏 했던 커밋을 볼 수 있다. 게다가 삭제된 파일을 복구할 수 도 있다.\n",
    "\n",
    "`-` 화면 캡쳐 프로그램으로 캡쳐를 함 --> 마크다운에서 캡쳐한 이미지를 ctrl+v하면 캡쳐한 이미지가 삽입된다.\n",
    "\n",
    "`-` 이미지 파일을 넣은 주피터 노트북 파일을 올리면 깃허브 notebook에는 올라가지만 블로그에는 올라가지 않는다."
   ]
  },
  {
   "cell_type": "markdown",
   "id": "fantastic-emission",
   "metadata": {},
   "source": [
    "### 링크 삽입\n",
    "`-` 보통 링크 삽입은 `[label](link)`의 형식임\n",
    "\n",
    "`-` 그런데`link`에 `)`기호가 있으면 링크 연결에 문제가 있을 수 도 있음\n",
    "\n",
    "`-` `[label][key]`\n",
    "\n",
    "`-` `[key]: link`\n",
    "\n",
    "`-` 위와 같이 해도 링크 연결에 문제가 없고 위의 문제도 해결 가능함\n",
    "\n",
    "`-` 참고: [링크 연결](https://stackoverflow.com/questions/41345160/display-link-url-in-markdown)"
   ]
  },
  {
   "cell_type": "markdown",
   "id": "narrow-ghana",
   "metadata": {},
   "source": [
    "### 수식 기호 표현\n",
    "`-` 3.141592를 변수에 저장하고 싶음\n",
    "\n",
    "`-` pi = 3.141592 \n",
    "\n",
    "`-` 그런데 pi 대신에 $\\pi$를 사용하고 싶다면??\n",
    "\n",
    "`-` `code셀`에서 `\\pi`를 입력한 후 `Tab`을 누르면 됨"
   ]
  },
  {
   "cell_type": "code",
   "execution_count": 1,
   "id": "powered-toilet",
   "metadata": {},
   "outputs": [],
   "source": [
    "pi = 3.141592\n",
    "π = 3.141592"
   ]
  },
  {
   "cell_type": "code",
   "execution_count": 2,
   "id": "indie-armor",
   "metadata": {},
   "outputs": [
    {
     "data": {
      "text/plain": [
       "3.141592"
      ]
     },
     "execution_count": 2,
     "metadata": {},
     "output_type": "execute_result"
    }
   ],
   "source": [
    "pi"
   ]
  },
  {
   "cell_type": "code",
   "execution_count": 3,
   "id": "greek-burning",
   "metadata": {},
   "outputs": [
    {
     "data": {
      "text/plain": [
       "3.141592"
      ]
     },
     "execution_count": 3,
     "metadata": {},
     "output_type": "execute_result"
    }
   ],
   "source": [
    "π"
   ]
  },
  {
   "cell_type": "markdown",
   "id": "passive-border",
   "metadata": {},
   "source": [
    "## 깃허브 데스크탑에서 오류가 났는데 모르겠다. gg --> 해결 완료\n",
    "`-` 삭제하고 다시 처음부터 시작했다."
   ]
  },
  {
   "cell_type": "markdown",
   "id": "honest-computer",
   "metadata": {},
   "source": [
    "## 수식을 멋있게 표현하고 싶다면??"
   ]
  },
  {
   "cell_type": "markdown",
   "id": "proof-seven",
   "metadata": {},
   "source": [
    "`-` `$`수식`$` 꼴로 나타낸다.\n",
    "\n",
    "`-` y = x^2 + 1\n",
    "\n",
    "`-` $y = x^2 +1$"
   ]
  },
  {
   "cell_type": "markdown",
   "id": "dedicated-hopkins",
   "metadata": {},
   "source": [
    "### 밑 첨자 표현"
   ]
  },
  {
   "cell_type": "markdown",
   "id": "aquatic-remainder",
   "metadata": {},
   "source": [
    "`-` `$`수식`_`밑첨자`$`\n",
    "\n",
    "`-` x_1 + x_2 = x_3\n",
    "\n",
    "`-` $x_1 + x_2 = x_3$"
   ]
  },
  {
   "cell_type": "markdown",
   "id": "joined-choir",
   "metadata": {},
   "source": [
    "### $\\sum$ 표현 "
   ]
  },
  {
   "cell_type": "markdown",
   "id": "center-nickname",
   "metadata": {},
   "source": [
    "`-` `\\limits` 옵션을 통해 $\\sum$의 시작과 끝의 위치를 $\\sum$의 바로 위와 아래로 지정가능\n",
    "\n",
    "`-` $\\sum_{n=1}^{\\infty}\\frac{1}{n^2}$\n",
    "\n",
    "`-` $\\sum\\limits_{n=1}^{\\infty}\\frac{1}{n^2}$"
   ]
  },
  {
   "cell_type": "markdown",
   "id": "activated-inspection",
   "metadata": {},
   "source": [
    "### 백터 표현\n",
    "`-` 벡터 표현하기: 화살표, 볼드체\n",
    "\n",
    "`-` $X$는 변수\n",
    "\n",
    "`-` $\\boldsymbol{X},\\; \\vec{X}$는 벡터"
   ]
  },
  {
   "cell_type": "markdown",
   "id": "defined-plane",
   "metadata": {},
   "source": [
    "### 위로 중괄호 표현"
   ]
  },
  {
   "cell_type": "markdown",
   "id": "quality-sarah",
   "metadata": {},
   "source": [
    "`-` `\\overbrace`를 통해 위로 중괄호를 표현함\n",
    "\n",
    "`-` $x+x+x+\\dots+x+x,\\;x$를 $n$번 더함"
   ]
  },
  {
   "cell_type": "markdown",
   "id": "empirical-gothic",
   "metadata": {},
   "source": [
    "`-` $\\overbrace{x + \\cdots + x}^{n\\rm\\ times}$"
   ]
  },
  {
   "cell_type": "markdown",
   "id": "municipal-truck",
   "metadata": {},
   "source": [
    "### 점찍기 "
   ]
  },
  {
   "cell_type": "markdown",
   "id": "careful-elephant",
   "metadata": {},
   "source": [
    "`-` `s` 제외하면 점 하나만 찍힘, `s` 포함하면 점 세개 찍힌다\n",
    "\n",
    "`-` `\\dots` ---> $\\dots$\n",
    "\n",
    "`-` `\\cdots` ---> $\\cdots$\n",
    "\n",
    "`-` `\\ddots` ---> $\\ddots$"
   ]
  },
  {
   "cell_type": "markdown",
   "id": "round-rogers",
   "metadata": {},
   "source": [
    "## 유용한 `latex`"
   ]
  },
  {
   "cell_type": "markdown",
   "id": "operational-insurance",
   "metadata": {},
   "source": [
    "### \\boldsymbol\n",
    "`-` applies to nearly all symbols, not just letters and numbers\n",
    "\n",
    "`-` ex) $\\boldsymbol{A}\\,A$"
   ]
  },
  {
   "cell_type": "markdown",
   "id": "annual-championship",
   "metadata": {},
   "source": [
    "### \\bf\n",
    "`-`  Used to turn on boldface; affects uppercase and lowercase letters, and digits\n",
    "\n",
    "`-` ex) ${\\bf 123}\\,{123}$"
   ]
  },
  {
   "cell_type": "markdown",
   "id": "unlike-pledge",
   "metadata": {},
   "source": [
    "### \\therefore"
   ]
  },
  {
   "cell_type": "markdown",
   "id": "descending-procedure",
   "metadata": {},
   "source": [
    "`-` `\\therefore`를 통해 삼각형 모양 점3개를 만듦\n",
    "\n",
    "`-` $\\therefore 1+1= \\text{힘든 삶}$"
   ]
  },
  {
   "cell_type": "markdown",
   "id": "exotic-creator",
   "metadata": {},
   "source": [
    "## 매우 유용한 마크다운 사이트\n",
    "`-` <Jupyter 노트북에서 `Markdown` 및 `LaTeX`를 작성하는 방법 알아보기> --> [https://ichi.pro/ko/jupyter-noteubug-eseo-markdown-mich-latexleul-jagseonghaneun-bangbeob-al-abogi-18246612521469](https://ichi.pro/ko/jupyter-noteubug-eseo-markdown-mich-latexleul-jagseonghaneun-bangbeob-al-abogi-18246612521469)\n",
    "\n",
    "`-` `latex command` 총 정리 --> [https://www.tutorialspoint.com/tex_commands/percentage.htm](https://www.tutorialspoint.com/tex_commands/percentage.htm)"
   ]
  },
  {
   "cell_type": "code",
   "execution_count": null,
   "id": "trying-brass",
   "metadata": {},
   "outputs": [],
   "source": []
  }
 ],
 "metadata": {
  "kernelspec": {
   "display_name": "Python 3",
   "language": "python",
   "name": "python3"
  },
  "language_info": {
   "codemirror_mode": {
    "name": "ipython",
    "version": 3
   },
   "file_extension": ".py",
   "mimetype": "text/x-python",
   "name": "python",
   "nbconvert_exporter": "python",
   "pygments_lexer": "ipython3",
   "version": "3.8.8"
  }
 },
 "nbformat": 4,
 "nbformat_minor": 5
}
