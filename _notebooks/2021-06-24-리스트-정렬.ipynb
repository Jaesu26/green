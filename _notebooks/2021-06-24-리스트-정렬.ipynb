{
 "cells": [
  {
   "cell_type": "markdown",
   "id": "honest-philippines",
   "metadata": {},
   "source": [
    "# 리스트(작성 중?)\n",
    "\n",
    "> \"리스트 처리\"\n",
    "\n",
    "- toc: true\n",
    "- branch: master\n",
    "- badges: true\n",
    "- comments: true\n",
    "- author: 한재수\n",
    "- categories: [python]"
   ]
  },
  {
   "cell_type": "markdown",
   "id": "hawaiian-turner",
   "metadata": {},
   "source": [
    "## 리스트 정렬"
   ]
  },
  {
   "cell_type": "markdown",
   "id": "seasonal-dutch",
   "metadata": {},
   "source": [
    "### `list`.sort()함수, sorted()함수\n",
    "- ?.sort()함수는 list형태인 `?` 의 요소를 오름차순으로 정렬한다.\n",
    "- ?.sort(reverse = True)함수는 내림차순으로 정렬한다.\n",
    "- ?.sort()함수와 sorted()함수는 거의 같다.\n",
    "- ?.sort()함수는 ?의 속성을 바꾸지만 sorted()함수는 ?의 속성을 바꾸지 않는다. (a.append()와 + 연산의 차이)"
   ]
  },
  {
   "cell_type": "code",
   "execution_count": 1,
   "id": "educated-postage",
   "metadata": {},
   "outputs": [
    {
     "data": {
      "text/plain": [
       "[1, 5, 2, 3, 7, 4]"
      ]
     },
     "execution_count": 1,
     "metadata": {},
     "output_type": "execute_result"
    }
   ],
   "source": [
    "a=[1,5,2,3,7,4]\n",
    "a"
   ]
  },
  {
   "cell_type": "code",
   "execution_count": 4,
   "id": "reserved-brook",
   "metadata": {},
   "outputs": [
    {
     "data": {
      "text/plain": [
       "[1, 2, 3, 4, 5, 7]"
      ]
     },
     "execution_count": 4,
     "metadata": {},
     "output_type": "execute_result"
    }
   ],
   "source": [
    "a.sort()\n",
    "a"
   ]
  },
  {
   "cell_type": "code",
   "execution_count": 5,
   "id": "frank-subscription",
   "metadata": {},
   "outputs": [
    {
     "data": {
      "text/plain": [
       "[7, 5, 4, 3, 2, 1]"
      ]
     },
     "execution_count": 5,
     "metadata": {},
     "output_type": "execute_result"
    }
   ],
   "source": [
    "a.sort(reverse = True)\n",
    "a"
   ]
  },
  {
   "cell_type": "markdown",
   "id": "danish-quantum",
   "metadata": {},
   "source": [
    "- sort(), sorted()의 key 옵션에 지정된 함수의 결과에따라 정렬한다.\n",
    "-  lambda함수(익명 함수) 사용 --> `lambda` `매개변수`: `결과`"
   ]
  },
  {
   "cell_type": "code",
   "execution_count": 6,
   "id": "desperate-writer",
   "metadata": {},
   "outputs": [
    {
     "name": "stdout",
     "output_type": "stream",
     "text": [
      "[(0, 2), (0, 1), (1, 5), (1, 3), (1, 2), (2, 8)]\n"
     ]
    }
   ],
   "source": [
    "b = [(1, 2), (0, 2), (1, 3), (1, 5), (0, 1), (2, 8)]\n",
    "c = sorted(b, key = lambda x: (x[0], -x[1])) ## x[1]앞에 있는 '-'기호는 현재정렬순서와 반대로이다. \n",
    "print(c)                                     ##첫 번째 원소는 오름차순, 두 번째 원소는 내림차순으로 정렬"
   ]
  },
  {
   "cell_type": "markdown",
   "id": "excessive-harvard",
   "metadata": {},
   "source": [
    "### reverse()함수\n",
    "- ?.reverse()함수는 list형태인 `?` 의 요소를 역순으로 정렬한다."
   ]
  },
  {
   "cell_type": "code",
   "execution_count": 7,
   "id": "atmospheric-peninsula",
   "metadata": {},
   "outputs": [
    {
     "name": "stdout",
     "output_type": "stream",
     "text": [
      "[4, 7, 3, 2, 5, 1]\n"
     ]
    }
   ],
   "source": [
    "d = [1,5,2,3,7,4]\n",
    "d.reverse()\n",
    "print(d)"
   ]
  },
  {
   "cell_type": "markdown",
   "id": "compact-array",
   "metadata": {},
   "source": [
    "## 리스트 초기화"
   ]
  },
  {
   "cell_type": "markdown",
   "id": "front-queen",
   "metadata": {},
   "source": [
    "### 1차원 리스트"
   ]
  },
  {
   "cell_type": "code",
   "execution_count": 8,
   "id": "alternate-coordination",
   "metadata": {},
   "outputs": [
    {
     "data": {
      "text/plain": [
       "[]"
      ]
     },
     "execution_count": 8,
     "metadata": {},
     "output_type": "execute_result"
    }
   ],
   "source": [
    "a = [] ## 빈 리스트로 초기화\n",
    "a"
   ]
  },
  {
   "cell_type": "markdown",
   "id": "actual-mambo",
   "metadata": {},
   "source": [
    "```python\n",
    "A = [x] * n\n",
    "```\n",
    "$A = [x, x, x, ..., x, x] -->$ $x$가 $n$개인 $1$차원 리스트"
   ]
  },
  {
   "cell_type": "code",
   "execution_count": 11,
   "id": "photographic-conditions",
   "metadata": {},
   "outputs": [
    {
     "data": {
      "text/plain": [
       "[0, 0, 0, 0, 0, 0, 0, 0, 0, 0]"
      ]
     },
     "execution_count": 11,
     "metadata": {},
     "output_type": "execute_result"
    }
   ],
   "source": [
    "a = [0]*10 ## 0리스트로 초기화\n",
    "a"
   ]
  },
  {
   "cell_type": "markdown",
   "id": "exclusive-yeast",
   "metadata": {},
   "source": [
    "### 2차원 리스트"
   ]
  },
  {
   "cell_type": "code",
   "execution_count": 14,
   "id": "fixed-westminster",
   "metadata": {},
   "outputs": [],
   "source": [
    "n = 5\n",
    "list = [[0] * n for _ in range(n)] ## 0으로 채원진 2차원 리스트"
   ]
  },
  {
   "cell_type": "code",
   "execution_count": 15,
   "id": "thirty-consequence",
   "metadata": {},
   "outputs": [
    {
     "data": {
      "text/plain": [
       "[[0, 0, 0, 0, 0],\n",
       " [0, 0, 0, 0, 0],\n",
       " [0, 0, 0, 0, 0],\n",
       " [0, 0, 0, 0, 0],\n",
       " [0, 0, 0, 0, 0]]"
      ]
     },
     "execution_count": 15,
     "metadata": {},
     "output_type": "execute_result"
    }
   ],
   "source": [
    "list"
   ]
  },
  {
   "cell_type": "code",
   "execution_count": 18,
   "id": "together-regular",
   "metadata": {},
   "outputs": [],
   "source": [
    "list[0][0] = 123"
   ]
  },
  {
   "cell_type": "code",
   "execution_count": 19,
   "id": "returning-consideration",
   "metadata": {},
   "outputs": [
    {
     "data": {
      "text/plain": [
       "[[123, 0, 0, 0, 0],\n",
       " [0, 0, 0, 0, 0],\n",
       " [0, 0, 0, 0, 0],\n",
       " [0, 0, 0, 0, 0],\n",
       " [0, 0, 0, 0, 0]]"
      ]
     },
     "execution_count": 19,
     "metadata": {},
     "output_type": "execute_result"
    }
   ],
   "source": [
    "list"
   ]
  },
  {
   "cell_type": "markdown",
   "id": "wicked-fairy",
   "metadata": {},
   "source": [
    "- ??\n",
    "```python\n",
    "List = [[0] * 5 for _ in range(5)\n",
    "```\n",
    "그런데 ` _ ` 는 뭐지?"
   ]
  },
  {
   "cell_type": "markdown",
   "id": "perceived-kentucky",
   "metadata": {},
   "source": [
    "- 사실 `_` 자리에 다른 것이 들어가도 된다. 이를 테면 `i`"
   ]
  },
  {
   "cell_type": "code",
   "execution_count": 22,
   "id": "minimal-lucas",
   "metadata": {},
   "outputs": [
    {
     "data": {
      "text/plain": [
       "[0, 0, 0, 0, 0]"
      ]
     },
     "execution_count": 22,
     "metadata": {},
     "output_type": "execute_result"
    }
   ],
   "source": [
    "x = [0*i for i in range(5)]\n",
    "x"
   ]
  },
  {
   "cell_type": "markdown",
   "id": "forbidden-allah",
   "metadata": {},
   "source": [
    "- 위에 List에서 `_` 대신에 `i`를 넣는다고 생각하자.\n",
    "```python\n",
    "List = [[0] * 5 for i in range(5)\n",
    "```"
   ]
  },
  {
   "cell_type": "markdown",
   "id": "mathematical-headset",
   "metadata": {},
   "source": [
    "- 위에 리스트인 `x` 에서는 `i`가 리스트 안에 `0`을 `몇 개` 생성할 지 정하는 변수였다.\n",
    "- 위에 리스트인 `List` 에서는 `i`가 무슨 역할을 하지?? "
   ]
  },
  {
   "cell_type": "markdown",
   "id": "damaged-issue",
   "metadata": {},
   "source": [
    "- 아무역할도 하지 않는다.\n",
    "- 0을 5개 생성하고 이를 5번 반복한다.\n",
    "- `List`를 정의할 때 부터 정해졌다.\n",
    "- `i`는 그저 for문을 쓰기 위해 필요함 --> range(5)의 값을 받아낼 변수가 필요함\n",
    "- 그래서 `i` 자리에 오는 변수는 아무짝에도 쓸모가 없다. \n",
    "- 아무 의미가 없어서 그냥 아무 의미 없어보이는 기호인 `_`를 쓴다.(내 생각)"
   ]
  }
 ],
 "metadata": {
  "kernelspec": {
   "display_name": "Python 3",
   "language": "python",
   "name": "python3"
  },
  "language_info": {
   "codemirror_mode": {
    "name": "ipython",
    "version": 3
   },
   "file_extension": ".py",
   "mimetype": "text/x-python",
   "name": "python",
   "nbconvert_exporter": "python",
   "pygments_lexer": "ipython3",
   "version": "3.8.8"
  }
 },
 "nbformat": 4,
 "nbformat_minor": 5
}
