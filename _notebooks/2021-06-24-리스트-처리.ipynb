{
 "cells": [
  {
   "cell_type": "markdown",
   "id": "veterinary-present",
   "metadata": {},
   "source": [
    "# 리스트 처리\n",
    "\n",
    "> \"작성 완료\"\n",
    "\n",
    "- toc: true\n",
    "- branch: master\n",
    "- badges: true\n",
    "- comments: true\n",
    "- author: 한재수\n",
    "- categories: [python]"
   ]
  },
  {
   "cell_type": "markdown",
   "id": "mighty-intervention",
   "metadata": {},
   "source": [
    "## 리스트 정렬"
   ]
  },
  {
   "cell_type": "markdown",
   "id": "fundamental-comedy",
   "metadata": {},
   "source": [
    "### `list`.sort()함수, sorted()함수\n",
    "`-` ?.sort()함수는 list형태인 `?` 의 요소를 오름차순으로 정렬한다.\n",
    "\n",
    "`-` ?.sort(reverse = True)함수는 내림차순으로 정렬한다.\n",
    "\n",
    "`-` ?.sort()함수와 sorted()함수는 거의 같다.\n",
    "\n",
    "`-` ?.sort()함수는 ?의 속성을 바꾸지만 sorted()함수는 ?의 속성을 바꾸지 않는다. (a.append()와 + 연산의 차이)"
   ]
  },
  {
   "cell_type": "code",
   "execution_count": 1,
   "id": "combined-dover",
   "metadata": {},
   "outputs": [
    {
     "data": {
      "text/plain": [
       "[1, 5, 2, 3, 7, 4]"
      ]
     },
     "execution_count": 1,
     "metadata": {},
     "output_type": "execute_result"
    }
   ],
   "source": [
    "a=[1,5,2,3,7,4]\n",
    "a"
   ]
  },
  {
   "cell_type": "code",
   "execution_count": 4,
   "id": "sacred-mystery",
   "metadata": {},
   "outputs": [
    {
     "data": {
      "text/plain": [
       "[1, 2, 3, 4, 5, 7]"
      ]
     },
     "execution_count": 4,
     "metadata": {},
     "output_type": "execute_result"
    }
   ],
   "source": [
    "a.sort()\n",
    "a"
   ]
  },
  {
   "cell_type": "code",
   "execution_count": 5,
   "id": "geographic-machine",
   "metadata": {},
   "outputs": [
    {
     "data": {
      "text/plain": [
       "[7, 5, 4, 3, 2, 1]"
      ]
     },
     "execution_count": 5,
     "metadata": {},
     "output_type": "execute_result"
    }
   ],
   "source": [
    "a.sort(reverse = True)\n",
    "a"
   ]
  },
  {
   "cell_type": "markdown",
   "id": "liable-antique",
   "metadata": {},
   "source": [
    "`-` sort(), sorted()의 key 옵션에 지정된 함수의 결과에따라 정렬한다.\n",
    "\n",
    "`-`  lambda함수(익명 함수) 사용 --> `lambda` `매개변수`: `결과`"
   ]
  },
  {
   "cell_type": "code",
   "execution_count": 6,
   "id": "solar-reasoning",
   "metadata": {},
   "outputs": [
    {
     "name": "stdout",
     "output_type": "stream",
     "text": [
      "[(0, 2), (0, 1), (1, 5), (1, 3), (1, 2), (2, 8)]\n"
     ]
    }
   ],
   "source": [
    "b = [(1, 2), (0, 2), (1, 3), (1, 5), (0, 1), (2, 8)]\n",
    "c = sorted(b, key = lambda x: (x[0], -x[1])) ## x[1]앞에 있는 '-'기호는 현재정렬순서와 반대로이다. \n",
    "print(c)                                     ##첫 번째 원소는 오름차순, 두 번째 원소는 내림차순으로 정렬"
   ]
  },
  {
   "cell_type": "markdown",
   "id": "unlikely-contribution",
   "metadata": {},
   "source": [
    "### reverse()함수\n",
    "`-` ?.reverse()함수는 list형태인 `?` 의 요소를 역순으로 정렬한다."
   ]
  },
  {
   "cell_type": "code",
   "execution_count": 7,
   "id": "centered-thing",
   "metadata": {},
   "outputs": [
    {
     "name": "stdout",
     "output_type": "stream",
     "text": [
      "[4, 7, 3, 2, 5, 1]\n"
     ]
    }
   ],
   "source": [
    "d = [1,5,2,3,7,4]\n",
    "d.reverse()\n",
    "print(d)"
   ]
  },
  {
   "cell_type": "markdown",
   "id": "interracial-championship",
   "metadata": {},
   "source": [
    "## 리스트 초기화"
   ]
  },
  {
   "cell_type": "markdown",
   "id": "nasty-decimal",
   "metadata": {},
   "source": [
    "### 1차원 리스트"
   ]
  },
  {
   "cell_type": "code",
   "execution_count": 8,
   "id": "graphic-alignment",
   "metadata": {},
   "outputs": [
    {
     "data": {
      "text/plain": [
       "[]"
      ]
     },
     "execution_count": 8,
     "metadata": {},
     "output_type": "execute_result"
    }
   ],
   "source": [
    "a = [] ## 빈 리스트로 초기화\n",
    "a"
   ]
  },
  {
   "cell_type": "markdown",
   "id": "medieval-individual",
   "metadata": {},
   "source": [
    "```python\n",
    "A = [x] * n\n",
    "```\n",
    "$A = [x, x, x, ..., x, x] -->$ $x$가 $n$개인 $1$차원 리스트"
   ]
  },
  {
   "cell_type": "code",
   "execution_count": 11,
   "id": "behind-shannon",
   "metadata": {},
   "outputs": [
    {
     "data": {
      "text/plain": [
       "[0, 0, 0, 0, 0, 0, 0, 0, 0, 0]"
      ]
     },
     "execution_count": 11,
     "metadata": {},
     "output_type": "execute_result"
    }
   ],
   "source": [
    "a = [0]*10 ## 0리스트로 초기화\n",
    "a"
   ]
  },
  {
   "cell_type": "markdown",
   "id": "creative-corporation",
   "metadata": {},
   "source": [
    "### 2차원 리스트"
   ]
  },
  {
   "cell_type": "code",
   "execution_count": 14,
   "id": "greek-banks",
   "metadata": {},
   "outputs": [],
   "source": [
    "n = 5\n",
    "list = [[0] * n for _ in range(n)] ## 0으로 채원진 2차원 리스트"
   ]
  },
  {
   "cell_type": "code",
   "execution_count": 15,
   "id": "forbidden-translation",
   "metadata": {},
   "outputs": [
    {
     "data": {
      "text/plain": [
       "[[0, 0, 0, 0, 0],\n",
       " [0, 0, 0, 0, 0],\n",
       " [0, 0, 0, 0, 0],\n",
       " [0, 0, 0, 0, 0],\n",
       " [0, 0, 0, 0, 0]]"
      ]
     },
     "execution_count": 15,
     "metadata": {},
     "output_type": "execute_result"
    }
   ],
   "source": [
    "list"
   ]
  },
  {
   "cell_type": "code",
   "execution_count": 18,
   "id": "brown-entity",
   "metadata": {},
   "outputs": [],
   "source": [
    "list[0][0] = 123"
   ]
  },
  {
   "cell_type": "code",
   "execution_count": 19,
   "id": "divine-chinese",
   "metadata": {},
   "outputs": [
    {
     "data": {
      "text/plain": [
       "[[123, 0, 0, 0, 0],\n",
       " [0, 0, 0, 0, 0],\n",
       " [0, 0, 0, 0, 0],\n",
       " [0, 0, 0, 0, 0],\n",
       " [0, 0, 0, 0, 0]]"
      ]
     },
     "execution_count": 19,
     "metadata": {},
     "output_type": "execute_result"
    }
   ],
   "source": [
    "list"
   ]
  },
  {
   "cell_type": "markdown",
   "id": "turned-companion",
   "metadata": {},
   "source": [
    "`-` ??\n",
    "```python\n",
    "List = [[0] * 5 for _ in range(5)\n",
    "```\n",
    "그런데 ` _ ` 는 뭐지?"
   ]
  },
  {
   "cell_type": "markdown",
   "id": "roman-species",
   "metadata": {},
   "source": [
    "`-` 사실 `_` 자리에 다른 것이 들어가도 된다. 이를 테면 `i`"
   ]
  },
  {
   "cell_type": "code",
   "execution_count": 22,
   "id": "generous-arrival",
   "metadata": {},
   "outputs": [
    {
     "data": {
      "text/plain": [
       "[0, 0, 0, 0, 0]"
      ]
     },
     "execution_count": 22,
     "metadata": {},
     "output_type": "execute_result"
    }
   ],
   "source": [
    "x = [0*i for i in range(5)]\n",
    "x"
   ]
  },
  {
   "cell_type": "markdown",
   "id": "interim-spanking",
   "metadata": {},
   "source": [
    "`-` 위에 List에서 `_` 대신에 `i`를 넣는다고 생각하자.\n",
    "```python\n",
    "List = [[0] * 5 for i in range(5)\n",
    "```"
   ]
  },
  {
   "cell_type": "markdown",
   "id": "young-dealing",
   "metadata": {},
   "source": [
    "`-` 위에 리스트인 `x` 에서는 `i`가 리스트 안에 `0`을 `몇 개` 생성할 지 정하는 변수였다.\n",
    "\n",
    "`-` 위에 리스트인 `List` 에서는 `i`가 무슨 역할을 하지?? "
   ]
  },
  {
   "cell_type": "markdown",
   "id": "proof-making",
   "metadata": {},
   "source": [
    "`-` 아무역할도 하지 않는다.\n",
    "\n",
    "`-` 0을 5개 생성하고 이를 5번 반복한다.\n",
    "\n",
    "`-` `List`를 정의할 때 부터 정해졌다.\n",
    "\n",
    "`-` `i`는 그저 for문을 쓰기 위해 필요함 --> range(5)의 값을 받아낼 변수가 필요하다.\n",
    "\n",
    "`-` 그래서 `i` 자리에 오는 변수는 아무짝에도 쓸모가 없다. \n",
    "\n",
    "`-` 아무 의미가 없어서 그냥 아무 의미 없어보이는 기호인 `_`를 쓴다.(내 생각)"
   ]
  },
  {
   "cell_type": "markdown",
   "id": "unnecessary-horse",
   "metadata": {},
   "source": [
    "## 리스트 추가"
   ]
  },
  {
   "cell_type": "markdown",
   "id": "sufficient-swing",
   "metadata": {},
   "source": [
    "### `?.append()`\n",
    "\n",
    "`-` `?` --> 리스트\n",
    "\n",
    "`-` 마지막(`?[-1]`) 위치에 하나의 원소 추가"
   ]
  },
  {
   "cell_type": "code",
   "execution_count": 13,
   "id": "related-payment",
   "metadata": {},
   "outputs": [
    {
     "data": {
      "text/plain": [
       "[1]"
      ]
     },
     "execution_count": 13,
     "metadata": {},
     "output_type": "execute_result"
    }
   ],
   "source": [
    "a = []\n",
    "a.append(1)\n",
    "a"
   ]
  },
  {
   "cell_type": "markdown",
   "id": "graduate-astrology",
   "metadata": {},
   "source": [
    "### `?.insert(i, v)`\n",
    "\n",
    "`-` `i` 위치에 `v` 원소 추가"
   ]
  },
  {
   "cell_type": "code",
   "execution_count": 14,
   "id": "biblical-vacation",
   "metadata": {},
   "outputs": [
    {
     "data": {
      "text/plain": [
       "[1, 2, 3, 4, 5, 6, 7]"
      ]
     },
     "execution_count": 14,
     "metadata": {},
     "output_type": "execute_result"
    }
   ],
   "source": [
    "b = [1,2,3,5,6,7]\n",
    "b.insert(3,4)\n",
    "b"
   ]
  },
  {
   "cell_type": "markdown",
   "id": "civic-appendix",
   "metadata": {},
   "source": [
    "### `?.extend()`\n",
    "\n",
    "`-` 마지막(`?[-1]`) 위치에 리스트 추가"
   ]
  },
  {
   "cell_type": "code",
   "execution_count": 17,
   "id": "elementary-montgomery",
   "metadata": {},
   "outputs": [
    {
     "data": {
      "text/plain": [
       "[1, 2, 3, 4, 5, 6, 7, 8]"
      ]
     },
     "execution_count": 17,
     "metadata": {},
     "output_type": "execute_result"
    }
   ],
   "source": [
    "c = [1,2,3,4,5]\n",
    "c.extend([6,7,8])\n",
    "c"
   ]
  },
  {
   "cell_type": "markdown",
   "id": "architectural-object",
   "metadata": {},
   "source": [
    "## 문자열 포함여부"
   ]
  },
  {
   "cell_type": "markdown",
   "id": "applicable-anderson",
   "metadata": {},
   "source": [
    "### `?.find(\"문자열\")`\n",
    "`-` `?`에 `문자열`이 존재하면 가장 앞에 원소의 시작 인덱스 값을 반환하며 존재하지 않으면 -1값을 반환"
   ]
  },
  {
   "cell_type": "code",
   "execution_count": 1,
   "id": "hybrid-photograph",
   "metadata": {},
   "outputs": [],
   "source": [
    "day = \"2021-07-03\""
   ]
  },
  {
   "cell_type": "code",
   "execution_count": 2,
   "id": "driven-general",
   "metadata": {},
   "outputs": [
    {
     "data": {
      "text/plain": [
       "0"
      ]
     },
     "execution_count": 2,
     "metadata": {},
     "output_type": "execute_result"
    }
   ],
   "source": [
    "day.find('2021')"
   ]
  },
  {
   "cell_type": "code",
   "execution_count": 3,
   "id": "perceived-punch",
   "metadata": {},
   "outputs": [
    {
     "data": {
      "text/plain": [
       "4"
      ]
     },
     "execution_count": 3,
     "metadata": {},
     "output_type": "execute_result"
    }
   ],
   "source": [
    "day.find('-')"
   ]
  },
  {
   "cell_type": "code",
   "execution_count": 4,
   "id": "filled-ultimate",
   "metadata": {},
   "outputs": [
    {
     "data": {
      "text/plain": [
       "-1"
      ]
     },
     "execution_count": 4,
     "metadata": {},
     "output_type": "execute_result"
    }
   ],
   "source": [
    "day.find('2222')"
   ]
  },
  {
   "cell_type": "markdown",
   "id": "printable-viking",
   "metadata": {},
   "source": [
    "## `\"문자열\" in ? , \"문자열\" not in ?`\n",
    "`-` `?`에 `문자열`이 존재하면 True 반환, 존재하지 않으면 False 반환, not in에 경우는 반대로"
   ]
  },
  {
   "cell_type": "code",
   "execution_count": 5,
   "id": "yellow-small",
   "metadata": {},
   "outputs": [],
   "source": [
    "day = \"2021-07-03\""
   ]
  },
  {
   "cell_type": "code",
   "execution_count": 6,
   "id": "reliable-norfolk",
   "metadata": {},
   "outputs": [
    {
     "data": {
      "text/plain": [
       "True"
      ]
     },
     "execution_count": 6,
     "metadata": {},
     "output_type": "execute_result"
    }
   ],
   "source": [
    "'2021' in day"
   ]
  },
  {
   "cell_type": "code",
   "execution_count": 8,
   "id": "monetary-intelligence",
   "metadata": {},
   "outputs": [
    {
     "data": {
      "text/plain": [
       "False"
      ]
     },
     "execution_count": 8,
     "metadata": {},
     "output_type": "execute_result"
    }
   ],
   "source": [
    "'-' not in day"
   ]
  },
  {
   "cell_type": "code",
   "execution_count": 9,
   "id": "confirmed-apparatus",
   "metadata": {},
   "outputs": [
    {
     "data": {
      "text/plain": [
       "False"
      ]
     },
     "execution_count": 9,
     "metadata": {},
     "output_type": "execute_result"
    }
   ],
   "source": [
    "'2222' in day"
   ]
  },
  {
   "cell_type": "code",
   "execution_count": 10,
   "id": "indonesian-endorsement",
   "metadata": {},
   "outputs": [],
   "source": [
    "list = ['1011', '2022', 'day', 'model']"
   ]
  },
  {
   "cell_type": "code",
   "execution_count": 11,
   "id": "intended-spirit",
   "metadata": {},
   "outputs": [
    {
     "data": {
      "text/plain": [
       "True"
      ]
     },
     "execution_count": 11,
     "metadata": {},
     "output_type": "execute_result"
    }
   ],
   "source": [
    "'2022' in list"
   ]
  },
  {
   "cell_type": "code",
   "execution_count": 12,
   "id": "balanced-provider",
   "metadata": {},
   "outputs": [
    {
     "data": {
      "text/plain": [
       "False"
      ]
     },
     "execution_count": 12,
     "metadata": {},
     "output_type": "execute_result"
    }
   ],
   "source": [
    "'day' not in list"
   ]
  },
  {
   "cell_type": "code",
   "execution_count": 14,
   "id": "helpful-announcement",
   "metadata": {},
   "outputs": [
    {
     "data": {
      "text/plain": [
       "False"
      ]
     },
     "execution_count": 14,
     "metadata": {},
     "output_type": "execute_result"
    }
   ],
   "source": [
    "'month' in list"
   ]
  },
  {
   "cell_type": "code",
   "execution_count": null,
   "id": "waiting-church",
   "metadata": {},
   "outputs": [],
   "source": []
  }
 ],
 "metadata": {
  "kernelspec": {
   "display_name": "Python 3",
   "language": "python",
   "name": "python3"
  },
  "language_info": {
   "codemirror_mode": {
    "name": "ipython",
    "version": 3
   },
   "file_extension": ".py",
   "mimetype": "text/x-python",
   "name": "python",
   "nbconvert_exporter": "python",
   "pygments_lexer": "ipython3",
   "version": "3.8.8"
  }
 },
 "nbformat": 4,
 "nbformat_minor": 5
}
