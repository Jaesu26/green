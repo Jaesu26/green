{
 "cells": [
  {
   "cell_type": "markdown",
   "id": "aerial-thread",
   "metadata": {},
   "source": [
    "# 리스트 함수\n",
    "\n",
    "> \"작성 완료\"\n",
    "\n",
    "- toc: true\n",
    "- branch: master\n",
    "- badges: true\n",
    "- comments: true\n",
    "- author: 한재수\n",
    "- categories: [python]"
   ]
  },
  {
   "cell_type": "markdown",
   "id": "departmental-plant",
   "metadata": {},
   "source": [
    "## 리스트 정렬"
   ]
  },
  {
   "cell_type": "markdown",
   "id": "alone-miller",
   "metadata": {},
   "source": [
    "### `list`.sort()함수, sorted()함수\n",
    "`-` ?.sort()함수는 list형태인 `?` 의 요소를 오름차순으로 정렬한다\n",
    "\n",
    "`-` ?.sort(reverse = True)함수는 내림차순으로 정렬한다\n",
    "\n",
    "`-` ?.sort()함수와 sorted()함수는 거의 같다\n",
    "\n",
    "`-` ?.sort()함수는 ?의 속성을 바꾸지만 sorted()함수는 ?의 속성을 바꾸지 않는다 (a.append()와 + 연산의 차이)"
   ]
  },
  {
   "cell_type": "code",
   "execution_count": 1,
   "id": "ethical-johnson",
   "metadata": {},
   "outputs": [
    {
     "data": {
      "text/plain": [
       "[1, 5, 2, 3, 7, 4]"
      ]
     },
     "execution_count": 1,
     "metadata": {},
     "output_type": "execute_result"
    }
   ],
   "source": [
    "a=[1,5,2,3,7,4]\n",
    "a"
   ]
  },
  {
   "cell_type": "code",
   "execution_count": 4,
   "id": "atmospheric-wallace",
   "metadata": {},
   "outputs": [
    {
     "data": {
      "text/plain": [
       "[1, 2, 3, 4, 5, 7]"
      ]
     },
     "execution_count": 4,
     "metadata": {},
     "output_type": "execute_result"
    }
   ],
   "source": [
    "a.sort()\n",
    "a"
   ]
  },
  {
   "cell_type": "code",
   "execution_count": 5,
   "id": "aquatic-exclusion",
   "metadata": {},
   "outputs": [
    {
     "data": {
      "text/plain": [
       "[7, 5, 4, 3, 2, 1]"
      ]
     },
     "execution_count": 5,
     "metadata": {},
     "output_type": "execute_result"
    }
   ],
   "source": [
    "a.sort(reverse = True)\n",
    "a"
   ]
  },
  {
   "cell_type": "markdown",
   "id": "lightweight-words",
   "metadata": {},
   "source": [
    "`-` sort(), sorted()의 key 옵션에 지정된 함수의 결과에따라 정렬한다\n",
    "\n",
    "`-`  lambda함수(익명 함수) 사용 --> `lambda` `매개변수`: `결과`"
   ]
  },
  {
   "cell_type": "code",
   "execution_count": 6,
   "id": "talented-preservation",
   "metadata": {},
   "outputs": [
    {
     "name": "stdout",
     "output_type": "stream",
     "text": [
      "[(0, 2), (0, 1), (1, 5), (1, 3), (1, 2), (2, 8)]\n"
     ]
    }
   ],
   "source": [
    "b = [(1, 2), (0, 2), (1, 3), (1, 5), (0, 1), (2, 8)]\n",
    "c = sorted(b, key = lambda x: (x[0], -x[1])) ## x[1]앞에 있는 '-'기호는 현재정렬순서와 반대로이다\n",
    "print(c)                                     ##첫 번째 원소는 오름차순, 두 번째 원소는 내림차순으로 정렬"
   ]
  },
  {
   "cell_type": "markdown",
   "id": "official-professor",
   "metadata": {},
   "source": [
    "### reverse()함수\n",
    "`-` ?.reverse()함수는 list형태인 `?` 의 요소를 역순으로 정렬한다"
   ]
  },
  {
   "cell_type": "code",
   "execution_count": 7,
   "id": "creative-electron",
   "metadata": {},
   "outputs": [
    {
     "name": "stdout",
     "output_type": "stream",
     "text": [
      "[4, 7, 3, 2, 5, 1]\n"
     ]
    }
   ],
   "source": [
    "d = [1,5,2,3,7,4]\n",
    "d.reverse()\n",
    "print(d)"
   ]
  },
  {
   "cell_type": "markdown",
   "id": "animal-promotion",
   "metadata": {},
   "source": [
    "### reversed()함수"
   ]
  },
  {
   "cell_type": "markdown",
   "id": "virgin-passion",
   "metadata": {},
   "source": [
    "`-` reversed()함수는 요소를 역순으로 정렬해 반환한다\n",
    "\n",
    "`-` 반환값을 그대로 사용하지 않고 list()나 tuple()함수를 통해 사용한다"
   ]
  },
  {
   "cell_type": "code",
   "execution_count": 13,
   "id": "peaceful-judgment",
   "metadata": {},
   "outputs": [
    {
     "data": {
      "text/plain": [
       "<list_reverseiterator at 0x2185ce99e20>"
      ]
     },
     "execution_count": 13,
     "metadata": {},
     "output_type": "execute_result"
    }
   ],
   "source": [
    "d = [1,5,2,3,7,4]\n",
    "reversed(d)"
   ]
  },
  {
   "cell_type": "code",
   "execution_count": 10,
   "id": "solved-dinner",
   "metadata": {},
   "outputs": [
    {
     "data": {
      "text/plain": [
       "(4, 7, 3, 2, 5, 1)"
      ]
     },
     "execution_count": 10,
     "metadata": {},
     "output_type": "execute_result"
    }
   ],
   "source": [
    "d = [1,5,2,3,7,4]\n",
    "tuple(reversed(d))"
   ]
  },
  {
   "cell_type": "markdown",
   "id": "strange-broadcasting",
   "metadata": {},
   "source": [
    "## 리스트 초기화"
   ]
  },
  {
   "cell_type": "markdown",
   "id": "genuine-miniature",
   "metadata": {},
   "source": [
    "### 1차원 리스트"
   ]
  },
  {
   "cell_type": "code",
   "execution_count": 8,
   "id": "pending-coach",
   "metadata": {},
   "outputs": [
    {
     "data": {
      "text/plain": [
       "[]"
      ]
     },
     "execution_count": 8,
     "metadata": {},
     "output_type": "execute_result"
    }
   ],
   "source": [
    "a = [] ## 빈 리스트로 초기화\n",
    "a"
   ]
  },
  {
   "cell_type": "markdown",
   "id": "tight-barrier",
   "metadata": {},
   "source": [
    "```python\n",
    "A = [x] * n\n",
    "```\n",
    "$A = [x, x, x, ..., x, x] -->$ $x$가 $n$개인 $1$차원 리스트"
   ]
  },
  {
   "cell_type": "code",
   "execution_count": 11,
   "id": "future-navigator",
   "metadata": {},
   "outputs": [
    {
     "data": {
      "text/plain": [
       "[0, 0, 0, 0, 0, 0, 0, 0, 0, 0]"
      ]
     },
     "execution_count": 11,
     "metadata": {},
     "output_type": "execute_result"
    }
   ],
   "source": [
    "a = [0]*10 ## 0리스트로 초기화\n",
    "a"
   ]
  },
  {
   "cell_type": "markdown",
   "id": "curious-marketing",
   "metadata": {},
   "source": [
    "### 2차원 리스트"
   ]
  },
  {
   "cell_type": "code",
   "execution_count": 14,
   "id": "starting-playlist",
   "metadata": {},
   "outputs": [],
   "source": [
    "n = 5\n",
    "list = [[0] * n for _ in range(n)] ## 0으로 채원진 2차원 리스트"
   ]
  },
  {
   "cell_type": "code",
   "execution_count": 15,
   "id": "running-style",
   "metadata": {},
   "outputs": [
    {
     "data": {
      "text/plain": [
       "[[0, 0, 0, 0, 0],\n",
       " [0, 0, 0, 0, 0],\n",
       " [0, 0, 0, 0, 0],\n",
       " [0, 0, 0, 0, 0],\n",
       " [0, 0, 0, 0, 0]]"
      ]
     },
     "execution_count": 15,
     "metadata": {},
     "output_type": "execute_result"
    }
   ],
   "source": [
    "list"
   ]
  },
  {
   "cell_type": "code",
   "execution_count": 18,
   "id": "immune-headline",
   "metadata": {},
   "outputs": [],
   "source": [
    "list[0][0] = 123"
   ]
  },
  {
   "cell_type": "code",
   "execution_count": 19,
   "id": "compliant-report",
   "metadata": {},
   "outputs": [
    {
     "data": {
      "text/plain": [
       "[[123, 0, 0, 0, 0],\n",
       " [0, 0, 0, 0, 0],\n",
       " [0, 0, 0, 0, 0],\n",
       " [0, 0, 0, 0, 0],\n",
       " [0, 0, 0, 0, 0]]"
      ]
     },
     "execution_count": 19,
     "metadata": {},
     "output_type": "execute_result"
    }
   ],
   "source": [
    "list"
   ]
  },
  {
   "cell_type": "markdown",
   "id": "complex-yemen",
   "metadata": {},
   "source": [
    "`-` ??\n",
    "```python\n",
    "List = [[0] * 5 for _ in range(5)\n",
    "```\n",
    "그런데 ` _ ` 는 뭐지?"
   ]
  },
  {
   "cell_type": "markdown",
   "id": "pleased-infrared",
   "metadata": {},
   "source": [
    "`-` 사실 `_` 자리에 다른 것이 들어가도 된다 이를 테면 `i`"
   ]
  },
  {
   "cell_type": "code",
   "execution_count": 22,
   "id": "colonial-cigarette",
   "metadata": {},
   "outputs": [
    {
     "data": {
      "text/plain": [
       "[0, 0, 0, 0, 0]"
      ]
     },
     "execution_count": 22,
     "metadata": {},
     "output_type": "execute_result"
    }
   ],
   "source": [
    "x = [0*i for i in range(5)]\n",
    "x"
   ]
  },
  {
   "cell_type": "markdown",
   "id": "least-unemployment",
   "metadata": {},
   "source": [
    "`-` 위에 List에서 `_` 대신에 `i`를 넣는다고 생각하자\n",
    "```python\n",
    "List = [[0] * 5 for i in range(5)\n",
    "```"
   ]
  },
  {
   "cell_type": "markdown",
   "id": "functioning-excess",
   "metadata": {},
   "source": [
    "`-` 위에 리스트인 `x` 에서는 `i`가 리스트 안에 `0`을 `몇 개` 생성할 지 정하는 변수였다\n",
    "\n",
    "`-` 위에 리스트인 `List` 에서는 `i`가 무슨 역할을 하지?? "
   ]
  },
  {
   "cell_type": "markdown",
   "id": "surprising-hamburg",
   "metadata": {},
   "source": [
    "`-` 아무역할도 하지 않는다\n",
    "\n",
    "`-` 0을 5개 생성하고 이를 5번 반복한다\n",
    "\n",
    "`-` `List`를 정의할 때 부터 정해졌다\n",
    "\n",
    "`-` `i`는 그저 for문을 쓰기 위해 필요함 --> range(5)의 값을 받아낼 변수가 필요하다\n",
    "\n",
    "`-` 그래서 `i` 자리에 오는 변수는 아무짝에도 쓸모가 없다\n",
    "\n",
    "`-` 아무 의미가 없어서 그냥 아무 의미 없어보이는 기호인 `_`를 쓴다(내 생각)"
   ]
  },
  {
   "cell_type": "markdown",
   "id": "aquatic-density",
   "metadata": {},
   "source": [
    "## 리스트 추가"
   ]
  },
  {
   "cell_type": "markdown",
   "id": "agricultural-commission",
   "metadata": {},
   "source": [
    "### `?.append()`\n",
    "\n",
    "`-` `?` --> 리스트\n",
    "\n",
    "`-` 마지막(`?[-1]`) 위치에 하나의 원소 추가"
   ]
  },
  {
   "cell_type": "code",
   "execution_count": 13,
   "id": "taken-contents",
   "metadata": {},
   "outputs": [
    {
     "data": {
      "text/plain": [
       "[1]"
      ]
     },
     "execution_count": 13,
     "metadata": {},
     "output_type": "execute_result"
    }
   ],
   "source": [
    "a = []\n",
    "a.append(1)\n",
    "a"
   ]
  },
  {
   "cell_type": "markdown",
   "id": "killing-holocaust",
   "metadata": {},
   "source": [
    "### `?.insert(i, v)`\n",
    "\n",
    "`-` `i` 위치에 `v` 원소 추가"
   ]
  },
  {
   "cell_type": "code",
   "execution_count": 14,
   "id": "coordinate-employer",
   "metadata": {},
   "outputs": [
    {
     "data": {
      "text/plain": [
       "[1, 2, 3, 4, 5, 6, 7]"
      ]
     },
     "execution_count": 14,
     "metadata": {},
     "output_type": "execute_result"
    }
   ],
   "source": [
    "b = [1,2,3,5,6,7]\n",
    "b.insert(3,4)\n",
    "b"
   ]
  },
  {
   "cell_type": "markdown",
   "id": "labeled-planner",
   "metadata": {},
   "source": [
    "### `?.extend()`\n",
    "\n",
    "`-` 마지막(`?[-1]`) 위치에 리스트 추가"
   ]
  },
  {
   "cell_type": "code",
   "execution_count": 17,
   "id": "northern-virus",
   "metadata": {},
   "outputs": [
    {
     "data": {
      "text/plain": [
       "[1, 2, 3, 4, 5, 6, 7, 8]"
      ]
     },
     "execution_count": 17,
     "metadata": {},
     "output_type": "execute_result"
    }
   ],
   "source": [
    "c = [1,2,3,4,5]\n",
    "c.extend([6,7,8])\n",
    "c"
   ]
  },
  {
   "cell_type": "markdown",
   "id": "round-province",
   "metadata": {},
   "source": [
    "### `?.pop()`\n",
    "`-` pop(i)는 리스트의 i번째 요소를 돌려주고 그 요소는 삭제, pop( ) = pop(-1)"
   ]
  },
  {
   "cell_type": "code",
   "execution_count": 1,
   "id": "induced-breath",
   "metadata": {},
   "outputs": [
    {
     "name": "stdout",
     "output_type": "stream",
     "text": [
      "5\n",
      "[1, 2, 3, 4]\n"
     ]
    }
   ],
   "source": [
    "d = [1, 2, 3, 4 ,5]\n",
    "x = d.pop()\n",
    "print(x)\n",
    "print(d)"
   ]
  },
  {
   "cell_type": "markdown",
   "id": "premium-accuracy",
   "metadata": {},
   "source": [
    "### `arr[::] 용법`\n",
    "`-` arr[A:B:C] ---> index A부터 index B(포함X)까지 C간격으로 arr 생성\n",
    "\n",
    "`-` A가 none이면 처음부터 B가 none이면 끝까지 C가 none이면 1만큼"
   ]
  },
  {
   "cell_type": "code",
   "execution_count": 3,
   "id": "wired-minority",
   "metadata": {},
   "outputs": [
    {
     "data": {
      "text/plain": [
       "[0, 1, 2, 3, 4, 5, 6, 7, 8, 9]"
      ]
     },
     "execution_count": 3,
     "metadata": {},
     "output_type": "execute_result"
    }
   ],
   "source": [
    "arr = list(range(10))\n",
    "arr"
   ]
  },
  {
   "cell_type": "code",
   "execution_count": 6,
   "id": "acceptable-visibility",
   "metadata": {},
   "outputs": [
    {
     "data": {
      "text/plain": [
       "[1, 3, 5, 7]"
      ]
     },
     "execution_count": 6,
     "metadata": {},
     "output_type": "execute_result"
    }
   ],
   "source": [
    "arr[1:9:2]"
   ]
  },
  {
   "cell_type": "code",
   "execution_count": 7,
   "id": "korean-lending",
   "metadata": {},
   "outputs": [
    {
     "data": {
      "text/plain": [
       "[0, 3, 6, 9]"
      ]
     },
     "execution_count": 7,
     "metadata": {},
     "output_type": "execute_result"
    }
   ],
   "source": [
    "arr[:10:3]"
   ]
  },
  {
   "cell_type": "code",
   "execution_count": 8,
   "id": "diagnostic-messenger",
   "metadata": {},
   "outputs": [
    {
     "data": {
      "text/plain": [
       "[1, 3, 5, 7, 9]"
      ]
     },
     "execution_count": 8,
     "metadata": {},
     "output_type": "execute_result"
    }
   ],
   "source": [
    "arr[1::2]"
   ]
  },
  {
   "cell_type": "code",
   "execution_count": 10,
   "id": "continued-vinyl",
   "metadata": {},
   "outputs": [
    {
     "data": {
      "text/plain": [
       "[1, 2, 3, 4]"
      ]
     },
     "execution_count": 10,
     "metadata": {},
     "output_type": "execute_result"
    }
   ],
   "source": [
    "arr[1:5:]"
   ]
  },
  {
   "cell_type": "code",
   "execution_count": 11,
   "id": "indoor-bennett",
   "metadata": {},
   "outputs": [
    {
     "data": {
      "text/plain": [
       "[5, 6, 7, 8, 9]"
      ]
     },
     "execution_count": 11,
     "metadata": {},
     "output_type": "execute_result"
    }
   ],
   "source": [
    "arr[5::]"
   ]
  },
  {
   "cell_type": "code",
   "execution_count": 12,
   "id": "generous-moldova",
   "metadata": {},
   "outputs": [
    {
     "data": {
      "text/plain": [
       "[0, 1, 2]"
      ]
     },
     "execution_count": 12,
     "metadata": {},
     "output_type": "execute_result"
    }
   ],
   "source": [
    "arr[:3:]"
   ]
  },
  {
   "cell_type": "code",
   "execution_count": 13,
   "id": "equipped-coast",
   "metadata": {},
   "outputs": [
    {
     "data": {
      "text/plain": [
       "[0, 4, 8]"
      ]
     },
     "execution_count": 13,
     "metadata": {},
     "output_type": "execute_result"
    }
   ],
   "source": [
    "arr[::4]"
   ]
  },
  {
   "cell_type": "code",
   "execution_count": 14,
   "id": "ruled-catalyst",
   "metadata": {},
   "outputs": [
    {
     "data": {
      "text/plain": [
       "[0, 1, 2, 3, 4, 5, 6, 7, 8, 9]"
      ]
     },
     "execution_count": 14,
     "metadata": {},
     "output_type": "execute_result"
    }
   ],
   "source": [
    "arr[::]"
   ]
  },
  {
   "cell_type": "markdown",
   "id": "electronic-disney",
   "metadata": {},
   "source": [
    "## 리스트 삭제"
   ]
  },
  {
   "cell_type": "markdown",
   "id": "deadly-copper",
   "metadata": {},
   "source": [
    "### `?.remove(x)`\n",
    "`-` 리스트에서 x원소를 삭제\n",
    "\n",
    "`-` 삭제할 원소가 없을 시 error"
   ]
  },
  {
   "cell_type": "code",
   "execution_count": 1,
   "id": "reported-gathering",
   "metadata": {},
   "outputs": [
    {
     "name": "stdout",
     "output_type": "stream",
     "text": [
      "[2, 3, 4, 5, 6]\n"
     ]
    }
   ],
   "source": [
    "a = [1,2,3,4,5,6]\n",
    "a.remove(1)\n",
    "print(a)"
   ]
  },
  {
   "cell_type": "code",
   "execution_count": 2,
   "id": "documentary-interview",
   "metadata": {},
   "outputs": [
    {
     "ename": "ValueError",
     "evalue": "list.remove(x): x not in list",
     "output_type": "error",
     "traceback": [
      "\u001b[1;31m---------------------------------------------------------------------------\u001b[0m",
      "\u001b[1;31mValueError\u001b[0m                                Traceback (most recent call last)",
      "\u001b[1;32m<ipython-input-2-72b3315abecc>\u001b[0m in \u001b[0;36m<module>\u001b[1;34m\u001b[0m\n\u001b[1;32m----> 1\u001b[1;33m \u001b[0ma\u001b[0m\u001b[1;33m.\u001b[0m\u001b[0mremove\u001b[0m\u001b[1;33m(\u001b[0m\u001b[1;36m10\u001b[0m\u001b[1;33m)\u001b[0m\u001b[1;33m\u001b[0m\u001b[1;33m\u001b[0m\u001b[0m\n\u001b[0m",
      "\u001b[1;31mValueError\u001b[0m: list.remove(x): x not in list"
     ]
    }
   ],
   "source": [
    "a.remove(10)"
   ]
  },
  {
   "cell_type": "markdown",
   "id": "framed-ridge",
   "metadata": {},
   "source": [
    "## 문자열 포함여부"
   ]
  },
  {
   "cell_type": "markdown",
   "id": "knowing-integration",
   "metadata": {},
   "source": [
    "### `?.find(\"문자열\")`\n",
    "`-` `?`에 `문자열`이 존재하면 가장 앞에 원소의 시작 인덱스 값을 반환하며 존재하지 않으면 -1값을 반환"
   ]
  },
  {
   "cell_type": "code",
   "execution_count": 1,
   "id": "attractive-plaza",
   "metadata": {},
   "outputs": [],
   "source": [
    "day = \"2021-07-03\""
   ]
  },
  {
   "cell_type": "code",
   "execution_count": 2,
   "id": "moral-guitar",
   "metadata": {},
   "outputs": [
    {
     "data": {
      "text/plain": [
       "0"
      ]
     },
     "execution_count": 2,
     "metadata": {},
     "output_type": "execute_result"
    }
   ],
   "source": [
    "day.find('2021')"
   ]
  },
  {
   "cell_type": "code",
   "execution_count": 3,
   "id": "geological-leather",
   "metadata": {},
   "outputs": [
    {
     "data": {
      "text/plain": [
       "4"
      ]
     },
     "execution_count": 3,
     "metadata": {},
     "output_type": "execute_result"
    }
   ],
   "source": [
    "day.find('-')"
   ]
  },
  {
   "cell_type": "code",
   "execution_count": 4,
   "id": "stopped-hospital",
   "metadata": {},
   "outputs": [
    {
     "data": {
      "text/plain": [
       "-1"
      ]
     },
     "execution_count": 4,
     "metadata": {},
     "output_type": "execute_result"
    }
   ],
   "source": [
    "day.find('2222')"
   ]
  },
  {
   "cell_type": "markdown",
   "id": "genetic-berkeley",
   "metadata": {},
   "source": [
    "## `\"문자열\" in ? , \"문자열\" not in ?`\n",
    "`-` `?`에 `문자열`이 존재하면 True 반환, 존재하지 않으면 False 반환, not in에 경우는 반대로"
   ]
  },
  {
   "cell_type": "code",
   "execution_count": 5,
   "id": "serious-upset",
   "metadata": {},
   "outputs": [],
   "source": [
    "day = \"2021-07-03\""
   ]
  },
  {
   "cell_type": "code",
   "execution_count": 6,
   "id": "fabulous-hungarian",
   "metadata": {},
   "outputs": [
    {
     "data": {
      "text/plain": [
       "True"
      ]
     },
     "execution_count": 6,
     "metadata": {},
     "output_type": "execute_result"
    }
   ],
   "source": [
    "'2021' in day"
   ]
  },
  {
   "cell_type": "code",
   "execution_count": 8,
   "id": "sunrise-copyright",
   "metadata": {},
   "outputs": [
    {
     "data": {
      "text/plain": [
       "False"
      ]
     },
     "execution_count": 8,
     "metadata": {},
     "output_type": "execute_result"
    }
   ],
   "source": [
    "'-' not in day"
   ]
  },
  {
   "cell_type": "code",
   "execution_count": 9,
   "id": "female-providence",
   "metadata": {},
   "outputs": [
    {
     "data": {
      "text/plain": [
       "False"
      ]
     },
     "execution_count": 9,
     "metadata": {},
     "output_type": "execute_result"
    }
   ],
   "source": [
    "'2222' in day"
   ]
  },
  {
   "cell_type": "code",
   "execution_count": 10,
   "id": "isolated-belgium",
   "metadata": {},
   "outputs": [],
   "source": [
    "list = ['1011', '2022', 'day', 'model']"
   ]
  },
  {
   "cell_type": "code",
   "execution_count": 11,
   "id": "tamil-participant",
   "metadata": {},
   "outputs": [
    {
     "data": {
      "text/plain": [
       "True"
      ]
     },
     "execution_count": 11,
     "metadata": {},
     "output_type": "execute_result"
    }
   ],
   "source": [
    "'2022' in list"
   ]
  },
  {
   "cell_type": "code",
   "execution_count": 12,
   "id": "personal-label",
   "metadata": {},
   "outputs": [
    {
     "data": {
      "text/plain": [
       "False"
      ]
     },
     "execution_count": 12,
     "metadata": {},
     "output_type": "execute_result"
    }
   ],
   "source": [
    "'day' not in list"
   ]
  },
  {
   "cell_type": "code",
   "execution_count": 14,
   "id": "herbal-mattress",
   "metadata": {},
   "outputs": [
    {
     "data": {
      "text/plain": [
       "False"
      ]
     },
     "execution_count": 14,
     "metadata": {},
     "output_type": "execute_result"
    }
   ],
   "source": [
    "'month' in list"
   ]
  },
  {
   "cell_type": "markdown",
   "id": "great-grove",
   "metadata": {},
   "source": [
    "## enumerate 함수 \n",
    "\n",
    "`-` for문을 사용할 때 인덱스를 같이 출력할 수 있음\n",
    "\n",
    "`-` 참고: [파이썬 for문](https://realpython.com/python-enumerate/)"
   ]
  },
  {
   "cell_type": "code",
   "execution_count": 1,
   "id": "sunrise-retrieval",
   "metadata": {},
   "outputs": [
    {
     "name": "stdout",
     "output_type": "stream",
     "text": [
      "0 A\n",
      "1 B\n",
      "2 C\n"
     ]
    }
   ],
   "source": [
    "cards = ['A', 'B', 'C']\n",
    "\n",
    "for i in range(len(cards)):\n",
    "    print(i, cards[i])"
   ]
  },
  {
   "cell_type": "code",
   "execution_count": 2,
   "id": "polyphonic-fruit",
   "metadata": {},
   "outputs": [
    {
     "name": "stdout",
     "output_type": "stream",
     "text": [
      "(0, 'A')\n",
      "(1, 'B')\n",
      "(2, 'C')\n"
     ]
    }
   ],
   "source": [
    "for value in enumerate(cards):\n",
    "    print(value)"
   ]
  },
  {
   "cell_type": "markdown",
   "id": "collectible-albania",
   "metadata": {},
   "source": [
    "`-` enumerate 함수는 인덱스와 원소로 이루어진 tuple을 생성함\n",
    "\n",
    "`-` 만약 인덱스와 원소를 다른 변수로 만들고 싶다면 tuple unpacking을 사용하면 됨"
   ]
  },
  {
   "cell_type": "code",
   "execution_count": 3,
   "id": "compressed-pakistan",
   "metadata": {},
   "outputs": [
    {
     "name": "stdout",
     "output_type": "stream",
     "text": [
      "0 A\n",
      "1 B\n",
      "2 C\n"
     ]
    }
   ],
   "source": [
    "for idx, card in enumerate(cards):\n",
    "    print(idx, card)"
   ]
  },
  {
   "cell_type": "markdown",
   "id": "faced-freight",
   "metadata": {},
   "source": [
    "## zip 함수 \n",
    "\n",
    "`-` zip 함수는 iterable한 객체들을 인자로 받아 각각의 원소를 tuple로 접근가능한 iterator를 만듦\n",
    "\n",
    "`-` 참고: [python zip function](https://www.w3schools.com/python/ref_func_zip.asp)"
   ]
  },
  {
   "cell_type": "code",
   "execution_count": 4,
   "id": "ordered-remove",
   "metadata": {},
   "outputs": [
    {
     "data": {
      "text/plain": [
       "<zip at 0x28632cc8e40>"
      ]
     },
     "execution_count": 4,
     "metadata": {},
     "output_type": "execute_result"
    }
   ],
   "source": [
    "a = (\"John\", \"Charles\", \"Mike\")\n",
    "b = (\"Jenny\", \"Christy\", \"Monica\")\n",
    "\n",
    "zip(a, b)"
   ]
  },
  {
   "cell_type": "code",
   "execution_count": 5,
   "id": "declared-begin",
   "metadata": {},
   "outputs": [
    {
     "data": {
      "text/plain": [
       "[('John', 'Jenny'), ('Charles', 'Christy'), ('Mike', 'Monica')]"
      ]
     },
     "execution_count": 5,
     "metadata": {},
     "output_type": "execute_result"
    }
   ],
   "source": [
    "list(zip(a, b))"
   ]
  },
  {
   "cell_type": "code",
   "execution_count": 6,
   "id": "coastal-rider",
   "metadata": {},
   "outputs": [
    {
     "data": {
      "text/plain": [
       "(('John', 'Jenny'), ('Charles', 'Christy'), ('Mike', 'Monica'))"
      ]
     },
     "execution_count": 6,
     "metadata": {},
     "output_type": "execute_result"
    }
   ],
   "source": [
    "tuple(zip(a, b))"
   ]
  },
  {
   "cell_type": "code",
   "execution_count": null,
   "id": "public-prompt",
   "metadata": {},
   "outputs": [],
   "source": []
  }
 ],
 "metadata": {
  "kernelspec": {
   "display_name": "Python 3",
   "language": "python",
   "name": "python3"
  },
  "language_info": {
   "codemirror_mode": {
    "name": "ipython",
    "version": 3
   },
   "file_extension": ".py",
   "mimetype": "text/x-python",
   "name": "python",
   "nbconvert_exporter": "python",
   "pygments_lexer": "ipython3",
   "version": "3.8.8"
  }
 },
 "nbformat": 4,
 "nbformat_minor": 5
}
