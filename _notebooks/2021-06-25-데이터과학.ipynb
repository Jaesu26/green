{
 "cells": [
  {
   "cell_type": "markdown",
   "id": "protected-breeding",
   "metadata": {},
   "source": [
    "# 데이터과학\n",
    "\n",
    "> \"작성 중\"\n",
    "\n",
    "- toc: true\n",
    "- branch: master\n",
    "- badges: true\n",
    "- comments: true\n",
    "- author: 한재수\n",
    "- categories: [python]"
   ]
  },
  {
   "cell_type": "markdown",
   "id": "concrete-majority",
   "metadata": {},
   "source": [
    "## 선형회귀"
   ]
  },
  {
   "cell_type": "markdown",
   "id": "fundamental-penalty",
   "metadata": {},
   "source": [
    "### 회귀모형\n",
    "- $y_i=\\beta_0+\\beta_1 x_{1}+\\epsilon_i$\n",
    "- $y_i$는 관측값, $\\beta_0$는 절편, $\\beta_1$은 기울기, $\\epsilon_i$는 오차항 { $\\mathbb{N}\\sim(0,\\sigma^2$) }\n",
    "- $\\sum_{i=1}^{n}\\epsilon_i^2 = \\sum_{i=1}^{n} (y_i-\\beta_0-\\beta_1 x_{1})^2$ 을 최소화하는 $\\beta_0,\\beta_1$을 추정한다. --> **최소제곱추정**"
   ]
  },
  {
   "cell_type": "markdown",
   "id": "reverse-electronics",
   "metadata": {},
   "source": [
    "### 함수의 최소값 \n",
    "- 함수 $f(x)$가 있다고 하자. 이 함수의 최소값을 알고 싶다. --> `미분`\n",
    "- convex fuction (볼록 함수 --> 아래로 볼록)는 임의의 두 점 $x_1,x_2$와 [0,1] 사이의 값 t에 대해 $f(tx_1+(1-t)x_2)\\geq tf(x_1)+(1-t)f(x_2)$가 항상 성립하는 함수이다.\n",
    "- $f''(x) > 0$이면 $f(x)$는 아래로 볼록하다."
   ]
  },
  {
   "cell_type": "markdown",
   "id": "first-biography",
   "metadata": {},
   "source": [
    "1. 함수를 두 번 미분한다.\n",
    "2. $f''(x)>0$이면 볼록함수이다. --> $f'(x)=0$을 만족할 때 $f(x)$의 극소값(=최소값)이므로 $f(x)$가 최소이다. "
   ]
  },
  {
   "cell_type": "markdown",
   "id": "hybrid-athens",
   "metadata": {},
   "source": [
    "### 회귀모형 계수 추정"
   ]
  },
  {
   "cell_type": "markdown",
   "id": "cheap-swimming",
   "metadata": {},
   "source": [
    "1. $\n",
    "\\bf L = \\sum_{i=1}^{n}\\boldsymbol{\\epsilon_i}^2 = \\boldsymbol{\\epsilon}^{\\top}\\boldsymbol{\\epsilon} = (y - X\\boldsymbol{\\beta})^\\top(Y - X\\boldsymbol{\\beta})\\\\\n",
    "\\,\\,\\,\\, = (y^{\\top} - \\boldsymbol{\\beta}^{\\top}X^{\\top})(y - \\boldsymbol{\\beta}X) = y^{\\top}y - y^{\\top}X\\boldsymbol{\\beta} - \\boldsymbol{\\beta}^{\\top}X^{\\top}y + \\beta^{\\top}X^{\\top}X\\boldsymbol{\\beta}$\n",
    "\n",
    "2. $\\frac{\\partial L}{\\partial \\beta} = 0 - 2\\bf X^{\\top}y + 2X^{\\top}X\\boldsymbol{\\beta} = 0$\n",
    "\n",
    "3. $\\bf X^{\\top}y = X^{\\top}X\\boldsymbol{\\beta} \\Leftrightarrow \\boldsymbol{\\hat\\beta} = \\big(\\bf X^{\\top}X\\big)^{-1}X^{\\top}y $\n"
   ]
  },
  {
   "cell_type": "markdown",
   "id": "joined-organization",
   "metadata": {},
   "source": [
    "`-` 의문점: 만약$\\big(\\bf X^{\\top}X\\big)^{-1}$이 존재하지 않는다면? "
   ]
  },
  {
   "cell_type": "code",
   "execution_count": null,
   "id": "related-computer",
   "metadata": {},
   "outputs": [],
   "source": []
  }
 ],
 "metadata": {
  "kernelspec": {
   "display_name": "Python 3",
   "language": "python",
   "name": "python3"
  },
  "language_info": {
   "codemirror_mode": {
    "name": "ipython",
    "version": 3
   },
   "file_extension": ".py",
   "mimetype": "text/x-python",
   "name": "python",
   "nbconvert_exporter": "python",
   "pygments_lexer": "ipython3",
   "version": "3.8.8"
  }
 },
 "nbformat": 4,
 "nbformat_minor": 5
}
