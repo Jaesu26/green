{
 "cells": [
  {
   "cell_type": "markdown",
   "id": "advanced-brighton",
   "metadata": {},
   "source": [
    "# 데이터과학\n",
    "\n",
    "> \"작성 중\"\n",
    "\n",
    "- toc: true\n",
    "- branch: master\n",
    "- badges: true\n",
    "- comments: true\n",
    "- author: 한재수\n",
    "- categories: [python, statistics]"
   ]
  },
  {
   "cell_type": "markdown",
   "id": "chief-commercial",
   "metadata": {},
   "source": [
    "## 선형회귀"
   ]
  },
  {
   "cell_type": "markdown",
   "id": "prostate-outside",
   "metadata": {},
   "source": [
    "### 회귀모형\n",
    "`-` $y_i=\\beta_0+\\beta_1 x_{1}+\\epsilon_i$\n",
    "\n",
    "`-` $y_i$는 관측값, $\\beta_0$는 절편, $\\beta_1$은 기울기, $\\epsilon_i$는 오차항 { $\\mathbb{N}\\sim(0,\\sigma^2$) }\n",
    "\n",
    "`-` $\\sum_{i=1}^{n}\\epsilon_i^2 = \\sum_{i=1}^{n} (y_i-\\beta_0-\\beta_1 x_{1})^2$ 을 최소화하는 $\\beta_0,\\beta_1$을 추정한다 --> `최소제곱추정`"
   ]
  },
  {
   "cell_type": "markdown",
   "id": "together-struggle",
   "metadata": {},
   "source": [
    "### 함수의 최소값 \n",
    "`-` 함수 $f(x)$가 있다고 하자. 이 함수의 최소값을 알고 싶다 --> `미분`\n",
    "\n",
    "`-` convex fuction (볼록 함수 --> 아래로 볼록)는 임의의 두 점 $x_1,x_2$와 [0,1] 사이의 값 t에 대해 $f(tx_1+(1-t)x_2)\\geq tf(x_1)+(1-t)f(x_2)$가 항상 성립하는 함수이다\n",
    "\n",
    "`-` $f''(x) > 0$이면 $f(x)$는 아래로 볼록하다"
   ]
  },
  {
   "cell_type": "markdown",
   "id": "lesbian-colony",
   "metadata": {},
   "source": [
    "1. 함수를 두 번 미분한다\n",
    "2. $f''(x)>0$이면 볼록함수이다. --> $f'(x)=0$을 만족할 때 $f(x)$의 극소값(=최소값)이므로 $f(x)$가 최소이다"
   ]
  },
  {
   "cell_type": "markdown",
   "id": "prostate-appraisal",
   "metadata": {},
   "source": [
    "### 회귀모형 계수 추정"
   ]
  },
  {
   "cell_type": "markdown",
   "id": "portuguese-analysis",
   "metadata": {},
   "source": [
    "1. $\\bf L = \\sum_{i=1}^{n}\\boldsymbol{\\epsilon_i}^2 = \\boldsymbol{\\epsilon}^{\\top}\\boldsymbol{\\epsilon} = (y - X\\boldsymbol{\\beta})^\\top(Y - X\\boldsymbol{\\beta})\\\\\n",
    "\\,\\,\\,\\, = (y^{\\top} - \\boldsymbol{\\beta}^{\\top}X^{\\top})(y - \\boldsymbol{\\beta}X) = y^{\\top}y - y^{\\top}X\\boldsymbol{\\beta} - \\boldsymbol{\\beta}^{\\top}X^{\\top}y + \\boldsymbol\\beta^{\\top}X^{\\top}X\\boldsymbol{\\beta}$\n",
    "2. $\\frac{\\partial \\bf L}{\\partial \\boldsymbol\\beta} = \\bf 0 - 2\\bf X^{\\top}y + 2X^{\\top}X\\boldsymbol{\\beta} = 0$\n",
    "\n",
    "\n",
    "3. $\\bf X^{\\top}y = X^{\\top}X\\boldsymbol{\\beta} \\Leftrightarrow \\boldsymbol{\\hat\\beta} = \\big(\\bf X^{\\top}X\\big)^{-1}X^{\\top}y $\n"
   ]
  },
  {
   "cell_type": "markdown",
   "id": "grateful-picking",
   "metadata": {},
   "source": [
    "`-` 의문점: 만약$\\big(\\bf X^{\\top}X\\big)^{-1}$이 존재하지 않는다면? "
   ]
  },
  {
   "cell_type": "markdown",
   "id": "entitled-angle",
   "metadata": {},
   "source": [
    "### 상관관계\n",
    "`-`  두 개의 양적 변수의 연관강도나 방향을 요약하는 수치 통계량\n",
    "\n",
    "`-` 상관관계는 두 변수 사이의 선형 관계에 대한 정보임"
   ]
  },
  {
   "cell_type": "markdown",
   "id": "voluntary-keeping",
   "metadata": {},
   "source": [
    "#### 상관계수"
   ]
  },
  {
   "cell_type": "markdown",
   "id": "equipped-logic",
   "metadata": {},
   "source": [
    "`-` 상관관계의 정도를 나타냄\n",
    "\n",
    "`-` 모집단 상관계수: $\\rho$\n",
    "\n",
    "`-` 표본 상관계수: $r$"
   ]
  },
  {
   "cell_type": "markdown",
   "id": "exempt-adapter",
   "metadata": {},
   "source": [
    "##### 상관계수 특징\n",
    "\n",
    "1. 상관계수는 항상 $-1\\leq r \\leq 1$\n",
    "\n",
    "2. $r$의 부호가 두 변수 관계의 방향(음수: 음의 관계, 양수: 양의 관계)\n",
    "\n",
    "3. $r$이 $-1$ or $+1$에 가까울수록 선형 관계가 강함, $0$에 가까우면 선형 관계가 없음\n",
    "\n",
    "4. $r$이 $0$이라고 두 변수사이의 관계가 없는 것이 아니라 `선형 관계`가 없다는 의미 --> `곡선 관계`일 수 도 있음\n",
    "\n",
    "5. 상관계수 $r$은 단위가 없음. 각 변수의 척도와도 무관\n",
    "\n",
    "6. 상관계수는 대칭적 --> $x$와$y$의 상관계수 $=$ $y$와$x$의 상관계수 "
   ]
  },
  {
   "cell_type": "code",
   "execution_count": null,
   "id": "saved-thong",
   "metadata": {},
   "outputs": [],
   "source": []
  }
 ],
 "metadata": {
  "kernelspec": {
   "display_name": "Python 3",
   "language": "python",
   "name": "python3"
  },
  "language_info": {
   "codemirror_mode": {
    "name": "ipython",
    "version": 3
   },
   "file_extension": ".py",
   "mimetype": "text/x-python",
   "name": "python",
   "nbconvert_exporter": "python",
   "pygments_lexer": "ipython3",
   "version": "3.8.8"
  }
 },
 "nbformat": 4,
 "nbformat_minor": 5
}
