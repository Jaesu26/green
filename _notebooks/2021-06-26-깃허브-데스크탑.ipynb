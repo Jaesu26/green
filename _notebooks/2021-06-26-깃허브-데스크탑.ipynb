{
 "cells": [
  {
   "cell_type": "markdown",
   "id": "affecting-hamilton",
   "metadata": {},
   "source": [
    "# 깃허브 데스크탑\n",
    "\n",
    "> \"작성 완료\"\n",
    "\n",
    "- toc: true\n",
    "- branch: master\n",
    "- badges: true\n",
    "- comments: true\n",
    "- author: 한재수\n",
    "- categories: [python, github]"
   ]
  },
  {
   "cell_type": "markdown",
   "id": "smart-nelson",
   "metadata": {},
   "source": [
    "## 깃허브 데스크탑 이용해서 커밋하기"
   ]
  },
  {
   "cell_type": "markdown",
   "id": "certain-system",
   "metadata": {},
   "source": [
    "1. 처음에 레포지토리 선택할 때 정보를 저장할 폴더 경로를 선택한다\n",
    "\n",
    "2. 나의 경우에는 `\"C:/Users/한재수/github_desktop/green\"` 이다\n",
    "\n",
    "3. green폴더에 가보면 notebooks폴더가 있는데 거기서 작업한 주피터 노트북 파일은 깃허브 데스크탑 changes에 표시된다\n",
    "\n",
    "4. 커밋할 파일 하나를 클릭하고 하단에 메시지를 같이 남긴다\n",
    "\n",
    "5. 변동 내역 메시지를 작성하고 커밋을 했으면 마지막으로 푸쉬를 한다\n",
    "\n",
    "6. 깃허브에 변동 내역이 저장된다"
   ]
  },
  {
   "cell_type": "markdown",
   "id": "designing-scout",
   "metadata": {},
   "source": [
    "`-` 아무 것도 변경하지 않고 save만 해도 깃허브 데스크탑 changes에서 감지된다\n",
    "\n",
    "`-` 아무 것도 변경하지 않았는데 커밋이 된다는 의미... --> 아무짝에도 쓸모 없다. --> 이런 경우에는 커밋을 하지 말고 냅두자\n",
    "\n",
    "`-` 파일이 제대로 푸쉬가 안됐다면? --> 깃허브 _notebook 파일에 있는 history를 보자 \n",
    "\n",
    "`-` 만약 빨간색으로 $\\times$표시가 되어있다면 클릭 --> error메시지를 볼 수 있음 --> 이를 보고 오류 수정 하면 됨"
   ]
  },
  {
   "cell_type": "markdown",
   "id": "turkish-carol",
   "metadata": {},
   "source": [
    "## 작업 공간\n",
    "`-` 이제부터 작업은 나의 깃허브 레포지토리(green) 저장 폴더인 green에 있는 notebooks에서 해야 한다\n",
    "\n",
    "`-` 만약 `\"C:/Users/한재수/github_desktop/green/notebooks\"` 에서 작업하지 않으면 깃허브 데스크탑 changes에 기록되지 않는다 --> 망함"
   ]
  },
  {
   "cell_type": "markdown",
   "id": "significant-sigma",
   "metadata": {},
   "source": [
    "## Liquid Exception: Liquid syntax error 해결"
   ]
  },
  {
   "cell_type": "markdown",
   "id": "utility-sodium",
   "metadata": {},
   "source": [
    "`-` {% raw %}Jekyll에서 사용되는 liquid는 {{ 와 }}를 escape 문자로 사용 ---> {{ 또는 }}이 있으면 error\n",
    "\n",
    "`-` 해결 방법 ---> 여는 중괄호 앞에 \\{\\% raw \\%\\}를 닫는 중괄호 뒤에 \\{\\% endraw \\%\\}를 추가함\n",
    "\n",
    "`-` 참고: [Liquid syntax error 해결](http://jmjeong.com/escape-in-liquid-syntax/){% endraw %}"
   ]
  },
  {
   "cell_type": "code",
   "execution_count": null,
   "id": "unexpected-catch",
   "metadata": {},
   "outputs": [],
   "source": []
  }
 ],
 "metadata": {
  "kernelspec": {
   "display_name": "Python 3",
   "language": "python",
   "name": "python3"
  },
  "language_info": {
   "codemirror_mode": {
    "name": "ipython",
    "version": 3
   },
   "file_extension": ".py",
   "mimetype": "text/x-python",
   "name": "python",
   "nbconvert_exporter": "python",
   "pygments_lexer": "ipython3",
   "version": "3.8.8"
  }
 },
 "nbformat": 4,
 "nbformat_minor": 5
}
