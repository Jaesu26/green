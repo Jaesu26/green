{
 "cells": [
  {
   "cell_type": "markdown",
   "id": "configured-clerk",
   "metadata": {},
   "source": [
    "# 확률 분포\n",
    "\n",
    "> \"작성 중\"\n",
    "\n",
    "- toc: true\n",
    "- branch: master\n",
    "- badges: true\n",
    "- comments: true\n",
    "- author: 한재수\n",
    "- categories: [python, statistics]"
   ]
  },
  {
   "cell_type": "markdown",
   "id": "daily-domestic",
   "metadata": {},
   "source": [
    "# 확률 분포란?"
   ]
  },
  {
   "cell_type": "markdown",
   "id": "lonely-promise",
   "metadata": {},
   "source": [
    "`-` 확률 분포(probability distribution)는 확률 변수가 특정한 값을 가질 확률을 나타내는 함수를 의미한다 --> 출처: [확률 분포](https://ko.wikipedia.org/wiki/%ED%99%95%EB%A5%A0_%EB%B6%84%ED%8F%AC)"
   ]
  },
  {
   "cell_type": "markdown",
   "id": "lasting-duration",
   "metadata": {},
   "source": [
    "## 그렇다면 확률 변수란?"
   ]
  },
  {
   "cell_type": "markdown",
   "id": "moral-award",
   "metadata": {},
   "source": [
    "`-` 확률변수(Random Variable)란 `무작위 실험`을 했을 때, `특정 확률`로 발생하는 각각의 결과를 `수치`로 표현한 변수\n",
    "\n",
    "`-` `무작위 실험` --> 동전 던지기\n",
    "\n",
    "`-` `특정 확률` --> 앞면이 나올 확률 $\\frac{1}{2}$, 뒷면이 나올 확률 $\\frac{1}{2}$\n",
    "\n",
    "`-` `수치` --> 앞면 = $1$, 뒷면 = $2$"
   ]
  },
  {
   "cell_type": "markdown",
   "id": "latest-particular",
   "metadata": {},
   "source": [
    "# 연속 확률 분포\n",
    "`-` 연속 확률 변수가 가지는 확률 분포\n",
    "\n",
    "`-` 이산 확률 변수는 확률을 $P(X=x)$와 같이 표현 가능, 연속 확률 변수는 불가능\n",
    "\n",
    "`-` 연속 확률 변수는 확률을 $P(A\\leq X\\leq B)$로 표현 가능"
   ]
  },
  {
   "cell_type": "markdown",
   "id": "polish-vector",
   "metadata": {},
   "source": [
    "## 정규분포"
   ]
  },
  {
   "cell_type": "markdown",
   "id": "terminal-society",
   "metadata": {},
   "source": [
    "`-` 정규 분포는 수집된 자료의 분포를 근사하는 데에 자주 사용됨\n",
    "\n",
    "`-` 중심극한정리에 의하여 독립적인 확률변수들의 평균은 정규 분포에 가까워지는 성질이 있기 때문임\n",
    "\n",
    "`-` 신뢰구간이나 가설검정 등의 모델에서 사용\n",
    "\n",
    "`-` 기호로는 $N \\sim (\\mu, \\sigma^{2})$\n",
    "\n",
    "`-` 정규분포의 기댓값, 중앙값, 최빈값은 $\\mu$, 분산은 $\\sigma^{2}$ \n",
    "\n",
    "`-` 표준정규분포는 평균이 0, 표준편차가 1인 경우임 --> $N \\sim (0, 1)$\n",
    "\n",
    "`-` 정규분포에서 $\\mu\\pm2\\sigma$에 전체 데이터 중 $95\\%$가 존재"
   ]
  },
  {
   "cell_type": "markdown",
   "id": "extended-snowboard",
   "metadata": {},
   "source": [
    "### 표준화 "
   ]
  },
  {
   "cell_type": "markdown",
   "id": "touched-composition",
   "metadata": {},
   "source": [
    "`-` 정규 분포 밀도 함수에서 $Z =$ <big>$\\frac{X - \\mu}{\\sigma}$</big> 를 통해 $X$(원점수)를 $Z$($z$점수) 표준화하여 표준정규분포(z-분포)를 얻을 수 있다"
   ]
  },
  {
   "cell_type": "markdown",
   "id": "genetic-zoning",
   "metadata": {},
   "source": [
    "### 정규분포의 확률 밀도 함수(PDF)"
   ]
  },
  {
   "cell_type": "markdown",
   "id": "loaded-hughes",
   "metadata": {},
   "source": [
    "$f(x) = \\frac{1}{\\sqrt{2\\pi\\sigma^{2}}}e^{-\\frac{(x-m)^{2}}{2\\sigma^{2}}}$"
   ]
  },
  {
   "cell_type": "markdown",
   "id": "hollywood-liquid",
   "metadata": {},
   "source": [
    "### 정규분포 plot "
   ]
  },
  {
   "cell_type": "markdown",
   "id": "chicken-gateway",
   "metadata": {},
   "source": [
    "```python\n",
    "import numpy as np\n",
    "\n",
    "np.random.normal(loc, scale, size)\n",
    "```\n",
    "\n",
    "`-` loc는 평균, scale은 표준편차, size는 표본의 수\n",
    "\n",
    "```python\n",
    "np.random.normal(loc = 0, scale = 1, size = 1000)\n",
    "```"
   ]
  },
  {
   "cell_type": "markdown",
   "id": "wicked-ordinary",
   "metadata": {},
   "source": [
    "`-` `np.random.normal(loc = 0, scale = 1, size = 1000)`을 히스토그램으로 나타내면?"
   ]
  },
  {
   "cell_type": "code",
   "execution_count": 1,
   "id": "accurate-disposal",
   "metadata": {},
   "outputs": [
    {
     "data": {
      "image/png": "[encoded data removed]",
      "text/plain": [
       "<Figure size 432x288 with 1 Axes>"
      ]
     },
     "metadata": {
      "needs_background": "light"
     },
     "output_type": "display_data"
    }
   ],
   "source": [
    "import numpy as np\n",
    "import matplotlib.pyplot as plt\n",
    "\n",
    "np.random.seed(1)\n",
    "sample = np.random.normal(loc = 0, scale = 1, size = 1000)\n",
    "\n",
    "plt.hist(sample)\n",
    "plt.title('np.random.normal(loc = 0, scale = 1, size = 1000)')\n",
    "plt.show()"
   ]
  },
  {
   "cell_type": "markdown",
   "id": "downtown-couple",
   "metadata": {},
   "source": [
    "## 균일 분포"
   ]
  },
  {
   "cell_type": "markdown",
   "id": "gothic-contest",
   "metadata": {},
   "source": [
    "`-` 모든 확률 변수에 대하여 구간 내에서 `균일한 확률`을 가짐\n",
    "\n",
    "`-` 임의의 구간 내에서 균일한 확률을 가지기에 난수 생성기로 쓰임\n",
    "\n",
    "`-` 이산 확률 변수에서도 가능"
   ]
  },
  {
   "cell_type": "markdown",
   "id": "reverse-dependence",
   "metadata": {},
   "source": [
    "### 균일 분포의 확률 밀도 함수"
   ]
  },
  {
   "cell_type": "markdown",
   "id": "tough-japan",
   "metadata": {},
   "source": [
    "$f(x) = \\begin{cases}\n",
    "\\frac{1}{b-a} & \\text{for $x \\in [a,b]$}\\\\\n",
    "0 & \\text{otherwise}\n",
    "\\end{cases}\n",
    "$"
   ]
  },
  {
   "cell_type": "markdown",
   "id": "noticed-update",
   "metadata": {},
   "source": [
    "`-` $f(x)$는 구간 $[a,b]$에서 균등한 확률을 가짐 "
   ]
  },
  {
   "cell_type": "markdown",
   "id": "technological-payday",
   "metadata": {},
   "source": [
    "### 균일 분포의 기댓값과 분산"
   ]
  },
  {
   "cell_type": "markdown",
   "id": "super-cardiff",
   "metadata": {},
   "source": [
    "`-` $E(X) = \\frac{a+b}{2}$\n",
    "\n",
    "`-` $Var(X) = \\frac{(b-a)^{2}}{12}$"
   ]
  },
  {
   "cell_type": "markdown",
   "id": "thermal-portal",
   "metadata": {},
   "source": [
    "### 균일 분포 plot"
   ]
  },
  {
   "cell_type": "markdown",
   "id": "monthly-subdivision",
   "metadata": {},
   "source": [
    "```python\n",
    "import numpy as np\n",
    "\n",
    "np.random.uniform(low, high, size)\n",
    "```\n",
    "\n",
    "`-` low는 출력값의 최소 경계, high은 출력값의 최대 경계, size는 표본의 수\n",
    "\n",
    "```python\n",
    "np.random.uniform(low = 0, high = 1, size = 1000)\n",
    "```"
   ]
  },
  {
   "cell_type": "markdown",
   "id": "meaning-lesbian",
   "metadata": {},
   "source": [
    "`-` `np.random.uniform(low = 0, high = 1, size = 1000)`을 히스토그램으로 나타내면?"
   ]
  },
  {
   "cell_type": "code",
   "execution_count": 4,
   "id": "wound-administrator",
   "metadata": {},
   "outputs": [
    {
     "data": {
      "image/png": "[encoded data removed]",
      "text/plain": [
       "<Figure size 432x288 with 1 Axes>"
      ]
     },
     "metadata": {
      "needs_background": "light"
     },
     "output_type": "display_data"
    }
   ],
   "source": [
    "import numpy as np\n",
    "import matplotlib.pyplot as plt\n",
    "\n",
    "np.random.seed(1)\n",
    "sample = np.random.uniform(low = 0, high = 1, size = 1000)\n",
    "\n",
    "plt.hist(sample)\n",
    "plt.title('np.random.normal(loc = 0, scale = 1, size = 1000)')\n",
    "plt.show()"
   ]
  },
  {
   "cell_type": "markdown",
   "id": "controlled-consortium",
   "metadata": {},
   "source": [
    "## 카이제곱 분포($x^2$분포)"
   ]
  },
  {
   "cell_type": "markdown",
   "id": "random-colombia",
   "metadata": {},
   "source": [
    "`-` $k$개의 `서로 독립`인 `표준 정규 확률변수`를 `각각 제곱`하여 합해 얻어진 분포\n",
    "\n",
    "`-` 이때 $k$는 자유도이며 카이제곱 분포의 매개변수\n",
    "\n",
    "`-` 분산의 퍼진 정도를 분포로 보여줌\n",
    "\n",
    "`-` 모분산을 구하거나 적합도 검정, 독립성/동질성 검정 등의 모델에서 사용\n",
    "\n",
    "`-` $k$개의 독립적이고 표준정규분포를 따르는 확률변수 $Z_1,\\dots,Z_k$가 있을 때 자유도 $k$의 카이제곱 분포는 \n",
    "\n",
    "`-` 확률변수 $Q = \\sum^{k}_{i=1}Z{_i}{^2}$의 분포임\n",
    "\n",
    "`-` 따라서 $Q \\sim X{_k}{^i}$\n",
    "\n",
    "`-` 참고: [카이제곱 분포](https://ko.wikipedia.org/wiki/%EC%B9%B4%EC%9D%B4%EC%A0%9C%EA%B3%B1_%EB%B6%84%ED%8F%AC)"
   ]
  },
  {
   "cell_type": "markdown",
   "id": "automotive-science",
   "metadata": {},
   "source": [
    "### 카이제곱 분포의 확률 밀도 함수"
   ]
  },
  {
   "cell_type": "markdown",
   "id": "negative-privacy",
   "metadata": {},
   "source": [
    "$f(x; k) = \\frac{1}{2^\\frac{k}{2}\\Gamma(\\frac{k}{2})}x^{\\frac{k}{2}-1}e^{-\\frac{x}{2}}$"
   ]
  },
  {
   "cell_type": "markdown",
   "id": "olive-leone",
   "metadata": {},
   "source": [
    "`-` $\\Gamma(\\frac{k}{2})$는 감마함수이다"
   ]
  },
  {
   "cell_type": "markdown",
   "id": "magnetic-drawing",
   "metadata": {},
   "source": [
    "### 카이제곱 분포의 기댓값과 분산\n",
    "`-` $E(X) = k$\n",
    "\n",
    "`-` $Var(X) = 2k$"
   ]
  },
  {
   "cell_type": "markdown",
   "id": "hearing-corruption",
   "metadata": {},
   "source": [
    "### 카이제곱 분포 plot "
   ]
  },
  {
   "cell_type": "markdown",
   "id": "chemical-detail",
   "metadata": {},
   "source": [
    "```python\n",
    "import numpy as np\n",
    "\n",
    "np.random.chisquare(df, size)\n",
    "```\n",
    "\n",
    "`-` df는 자유도, size는 표본의 수\n",
    "\n",
    "```python\n",
    "np.random.chisquare(df = 10, size = 1000)\n",
    "```"
   ]
  },
  {
   "cell_type": "markdown",
   "id": "cutting-domain",
   "metadata": {},
   "source": [
    "`-` `np.random.chisquare(df = 10, size = 1000)`를 히스토그램으로 나타내면?"
   ]
  },
  {
   "cell_type": "code",
   "execution_count": 7,
   "id": "stunning-forward",
   "metadata": {},
   "outputs": [
    {
     "data": {
      "image/png": "[encoded data removed]",
      "text/plain": [
       "<Figure size 432x288 with 1 Axes>"
      ]
     },
     "metadata": {
      "needs_background": "light"
     },
     "output_type": "display_data"
    }
   ],
   "source": [
    "import numpy as np\n",
    "import matplotlib.pyplot as plt\n",
    "\n",
    "np.random.seed(1)\n",
    "sample = np.random.chisquare(df = 10, size = 1000)\n",
    "\n",
    "plt.hist(sample)\n",
    "plt.title('np.random.chisquare(df = 10, size = 1000)')\n",
    "plt.show()"
   ]
  },
  {
   "cell_type": "markdown",
   "id": "ancient-analysis",
   "metadata": {},
   "source": [
    "`-` `자유도(df)`를 바꿔볼까?\n",
    "\n",
    "`-` `df = 5`"
   ]
  },
  {
   "cell_type": "code",
   "execution_count": 9,
   "id": "occasional-invasion",
   "metadata": {},
   "outputs": [
    {
     "data": {
      "image/png": "[encoded data removed]",
      "text/plain": [
       "<Figure size 432x288 with 1 Axes>"
      ]
     },
     "metadata": {
      "needs_background": "light"
     },
     "output_type": "display_data"
    }
   ],
   "source": [
    "np.random.seed(1)\n",
    "sample = np.random.chisquare(df = 5, size = 1000)\n",
    "\n",
    "plt.hist(sample)\n",
    "plt.title('np.random.chisquare(df = 5 , size = 1000)')\n",
    "plt.show()"
   ]
  },
  {
   "cell_type": "markdown",
   "id": "alive-seating",
   "metadata": {},
   "source": [
    "`-` `df = 1`\n",
    "\n",
    "`-` 표준정규분포의 제곱은 자유도가 1인 카이제곱 분포를 따름\n",
    "\n",
    "`-` $V = (\\frac{X-\\mu}{\\sigma})^{2} \\sim X^{2}(1)$\n",
    "    \n",
    "`-` 표본을 10000개 뽑아 둘을 비교해보자!    "
   ]
  },
  {
   "cell_type": "code",
   "execution_count": 15,
   "id": "hidden-organization",
   "metadata": {},
   "outputs": [
    {
     "data": {
      "image/png": "[encoded data removed]",
      "text/plain": [
       "<Figure size 432x288 with 1 Axes>"
      ]
     },
     "metadata": {
      "needs_background": "light"
     },
     "output_type": "display_data"
    }
   ],
   "source": [
    "np.random.seed(2)\n",
    "sample = np.random.chisquare(df = 1, size = 10000)\n",
    "\n",
    "plt.hist(sample)\n",
    "plt.title('np.random.chisquare(df = 1 , size = 10000)')\n",
    "plt.show()"
   ]
  },
  {
   "cell_type": "code",
   "execution_count": 14,
   "id": "indoor-elite",
   "metadata": {},
   "outputs": [
    {
     "data": {
      "image/png": "[encoded data removed]",
      "text/plain": [
       "<Figure size 432x288 with 1 Axes>"
      ]
     },
     "metadata": {
      "needs_background": "light"
     },
     "output_type": "display_data"
    }
   ],
   "source": [
    "np.random.seed(2)\n",
    "sample = np.random.normal(loc = 0, scale = 1, size = 10000)\n",
    "sample = sample**2\n",
    "\n",
    "plt.hist(sample)\n",
    "plt.title('square of a standard normal distribution')\n",
    "plt.show()"
   ]
  },
  {
   "cell_type": "markdown",
   "id": "junior-think",
   "metadata": {},
   "source": [
    "`-` 두 분포가 거의 동일하다\n",
    "\n",
    "`-` `표준정규분포의 제곱`은 `자유도가 1인 카이제곱 분포`를 따른다는 것을 확인할 수 있다"
   ]
  },
  {
   "cell_type": "markdown",
   "id": "arabic-america",
   "metadata": {},
   "source": [
    "## 지수 분포\n",
    "`-` 사건이 서로 독립적일 때, 일정 시간동안 발생하는 사건의 횟수가 포아송 분포를 따른다면, 다음 사건이 일어날 때까지 대기 시간은 지수분포를 따른다([지수 분포](https://ko.wikipedia.org/wiki/%EC%A7%80%EC%88%98_%EB%B6%84%ED%8F%AC))\n",
    "\n",
    "`-` 기하 분포와 유사함\n",
    "\n",
    "`-` 감마 분포에서 $\\alpha = 1$일 때의 특수한 경우임(감마 분포 참고)"
   ]
  },
  {
   "cell_type": "markdown",
   "id": "sacred-remark",
   "metadata": {},
   "source": [
    "### 지수 분포의 무기억성\n",
    "`-` 기하 분포의 무기억성과 같은 내용임\n",
    "\n",
    "`-` $P(A|B)$ --> 사건 B가 발생한 상황에서 사건 A가 발생할 확률\n",
    "\n",
    "`-` $P(X>s+t|X>t) = P(X>s)$\n",
    "\n",
    "`-` 핸드폰의 고장률이 지수 분포를 따른다면 내가 핸드폰을 처음 구매하고 1년안에 고장날 확률 = 핸드폰을 5년 사용한 시점에서 1년 안에 고장날 확률  \n",
    "\n",
    "`-` 물론 현실은 핸드폰을 5년 사용한 후에 고장날 확률이 더 크다\n",
    "\n",
    "`-` 지수 분포는 무기억 성질을 갖는 유일한 연속 확률 분포"
   ]
  },
  {
   "cell_type": "markdown",
   "id": "minute-serum",
   "metadata": {},
   "source": [
    "### 지수 분포의 확률 밀도 함수 "
   ]
  },
  {
   "cell_type": "markdown",
   "id": "second-entity",
   "metadata": {},
   "source": [
    "$f(x; \\beta) = \\frac{1}{\\beta}e^{-\\frac{x}{\\beta}},\\; x > 0$"
   ]
  },
  {
   "cell_type": "markdown",
   "id": "metropolitan-dispute",
   "metadata": {},
   "source": [
    "`-` 위의 확률 밀도 함수는 감마 분포의 확률 밀도 함수에서 $\\alpha = 1$을 대입한 결과이다\n",
    "\n",
    "`-` 여기서 $\\beta$는 사건 사이의 평균 시간인데 포아송 분포의 모수인 $\\lambda$는 단위 시간당 사건의 평균 발생 횟수이다\n",
    "\n",
    "`-` 위의 지수 분포 설명에서 사건의 횟수가 포아송 분포를 따를 때를 전제로 대기 시간은 지수 분포를 따른다고 했다\n",
    "\n",
    "`-` 그렇기에 여기서는 위의 확률 밀도 함수 대신 포아송 분포의 모수인 $\\lambda = \\frac{1}{\\beta}$ 를 통해 지수 분포의 확률 밀도 함수를 나타내기로 함\n",
    "\n",
    "`-` 위아래 확률 밀도 함수 둘 다 맞는 표현임, 그런데 numpy.random.exponential이 위의 확률 밀도 함수를 사용하므로 위의 확률 밀도 함수를 기억하는 것이 좋을 것 같음"
   ]
  },
  {
   "cell_type": "markdown",
   "id": "partial-croatia",
   "metadata": {},
   "source": [
    "$f(x; \\lambda) = \\lambda e^{-\\lambda x}, \\; x>0$"
   ]
  },
  {
   "cell_type": "markdown",
   "id": "attractive-sauce",
   "metadata": {},
   "source": [
    "### 지수 분포의 기댓값과 분산\n",
    "`-` $E(X) = \\frac{1}{\\lambda}$\n",
    "\n",
    "`-` $Var(X) = \\frac{1}{\\lambda^{2}}$"
   ]
  },
  {
   "cell_type": "markdown",
   "id": "ambient-spanish",
   "metadata": {},
   "source": [
    "`-` 기댓값은 어찌보면 당연한데 단위 시간 동안 사건이 $\\lambda$번 발생한다면 대기 시간은 $\\frac{1}{\\lambda}$여야 $\\lambda \\times \\frac{1}{\\lambda} = 1\\text{(단위 시간)}$이 성립한다"
   ]
  },
  {
   "cell_type": "markdown",
   "id": "comparable-april",
   "metadata": {},
   "source": [
    "### 지수 분포 plot"
   ]
  },
  {
   "cell_type": "markdown",
   "id": "severe-telescope",
   "metadata": {},
   "source": [
    "`-` 사건이 발생하고 다음 사건이 발생하기 까지의 대기 시간에 대한 확률 분포\n",
    "\n",
    "`-` numpy.random.exponential의 확률 밀도 함수는 $f(x; \\beta) = \\frac{1}{\\beta}e^{-\\frac{x}{\\beta}},\\; x > 0$임 ([numpy 지수 함수](https://numpy.org/doc/stable/reference/random/generated/numpy.random.exponential.html))\n",
    "```python\n",
    "import numpy as np\n",
    "\n",
    "np.random.exponential(scale, size)\n",
    "```\n",
    "\n",
    "`-` scale은 $\\beta$ = 대기 시간, size는 표본의 수\n",
    "\n",
    "```python\n",
    "np.random.exponential(scale = 2, size = 1000)\n",
    "```\n",
    "`-` 우리 집 앞에서 1시간당 평균 0.5명이 넘어진다 --> $\\lambda\\text{(사건의 빈도)} = 0.5$이므로 대기 시간 $\\beta\\text{(대기 시간)} = 2$ \n",
    "\n",
    "`-` 다시말하면 우리 집 앞에서 한 명이 넘어지고 다음 사람이 넘어지기 까지 2시간이 걸린다\n",
    "\n",
    "`-` 이때 한 사람이 넘어지고 다음 사람이 넘어지기 까지 걸리는 대기 시간에 대한 분포를 그려보자"
   ]
  },
  {
   "cell_type": "markdown",
   "id": "opposite-madonna",
   "metadata": {},
   "source": [
    "`-` `np.random.exponential(scale = 2, size = 1000)`를 히스토그램으로 나타내보면?"
   ]
  },
  {
   "cell_type": "code",
   "execution_count": 2,
   "id": "historical-rugby",
   "metadata": {},
   "outputs": [
    {
     "data": {
      "image/png": "[encoded data removed]",
      "text/plain": [
       "<Figure size 432x288 with 1 Axes>"
      ]
     },
     "metadata": {
      "needs_background": "light"
     },
     "output_type": "display_data"
    }
   ],
   "source": [
    "import numpy as np\n",
    "import matplotlib.pyplot as plt\n",
    "\n",
    "np.random.seed(1)\n",
    "sample = np.random.exponential(scale = 2, size = 1000)\n",
    "\n",
    "plt.hist(sample)\n",
    "plt.title('np.random.exponential(scale = 2, size = 1000)')\n",
    "plt.show()"
   ]
  },
  {
   "cell_type": "markdown",
   "id": "independent-breeding",
   "metadata": {},
   "source": [
    "## 감마 분포\n",
    "`-` 감마 분포는 지수 분포나 푸아송 분포 등의 매개변수에 대한 켤레 사전 확률 분포\n",
    "\n",
    "`-` 이에 따라 베이즈 확률론에서 사전 확률 분포로 사용\n",
    "\n",
    "`-` $\\alpha$개의 사건이 일어날 때까지 걸리는 대기 시간에 대한 분포\n",
    "\n",
    "`-` 지수 분포를 한 번의 사건이 아닌 여러 개의 사건으로 확장\n",
    "\n",
    "`-` 지수 분포의 모수가$\\beta$ --> $\\beta$ = 사건 사이의 평균 시간\n",
    "\n",
    "`-` 모수가 $\\beta$인 지수 분포를 따르는 확률 변수 X가 $\\alpha$개가 있고 각 확률 변수 X는 i.i.d를 따름 --> 이 확률 변수의 합은 모수가 $\\alpha, \\beta$인 감마 분포를 따름\n",
    "\n",
    "`-` [감마 분포 참고](https://ko.wikipedia.org/wiki/%EA%B0%90%EB%A7%88_%EB%B6%84%ED%8F%AC)"
   ]
  },
  {
   "cell_type": "markdown",
   "id": "former-tactics",
   "metadata": {},
   "source": [
    "### 감마함수(Gamma Function)\n",
    "`-` 복소수 범위까지 일반화 된 팩토리얼(!)"
   ]
  },
  {
   "cell_type": "markdown",
   "id": "liquid-sigma",
   "metadata": {},
   "source": [
    "$\\Gamma(\\alpha) = \\int_{0}^{\\infty}x^{\\alpha-1}e^{-x}dx,\\,\\alpha \\geq 0$"
   ]
  },
  {
   "cell_type": "markdown",
   "id": "veterinary-representation",
   "metadata": {},
   "source": [
    "#### 감마함수 성질"
   ]
  },
  {
   "cell_type": "markdown",
   "id": "micro-rally",
   "metadata": {},
   "source": [
    "`-` $\\Gamma(\\alpha+1) = \\alpha\\Gamma(\\alpha)$\n",
    "\n",
    "`-` $\\Gamma(n) = (n-1)!,\\, n \\in \\mathbb{N}$\n",
    "\n",
    "`-` $\\Gamma(\\frac{1}{2}) = \\sqrt{\\pi}$"
   ]
  },
  {
   "cell_type": "markdown",
   "id": "departmental-authentication",
   "metadata": {},
   "source": [
    "### 감마 분포의 확률 밀도 함수"
   ]
  },
  {
   "cell_type": "markdown",
   "id": "secure-dimension",
   "metadata": {},
   "source": [
    "$f(x; \\alpha,\\beta) = \\frac{1}{\\beta^{\\alpha}\\Gamma(\\alpha)}x^{\\alpha - 1}e^{-\\frac{x}{\\beta}},(x,\\alpha, \\beta \\geq 0)$"
   ]
  },
  {
   "cell_type": "markdown",
   "id": "stone-effectiveness",
   "metadata": {},
   "source": [
    "`-` 확률 변수 $X$가 감마 분포를 따른 다면 $X \\sim Gamma(\\alpha,\\beta)$\n",
    "\n",
    "`-` 발생하기 까지의 평균$\\beta = \\frac{1}{\\lambda}$의 시간이 소요되는 어떤 사건이 $\\alpha$번 발생하는데 걸리는 시간 $X$에 대한 확률 분포\n",
    "\n",
    "`-` $\\lambda$는 포아송 분포의 모수로 단위 시간당 사건의 평균 발생 횟수\n",
    "\n",
    "`-` $\\alpha = 1$일 때 $\\lambda = \\frac{1}{\\beta}$인 지수 분포를 따름\n",
    "\n",
    "`-` $X\\sim Gamma(1,\\beta) \\Leftrightarrow exp(\\frac{1}{\\beta})$"
   ]
  },
  {
   "cell_type": "markdown",
   "id": "alternative-contribution",
   "metadata": {},
   "source": [
    "### 감마 분포의 기댓값과 분산 "
   ]
  },
  {
   "cell_type": "markdown",
   "id": "honey-edwards",
   "metadata": {},
   "source": [
    "`-` $E(X) = \\alpha\\beta$\n",
    "\n",
    "`-` $Var(X) = \\alpha\\beta^{2}$"
   ]
  },
  {
   "cell_type": "markdown",
   "id": "moving-empire",
   "metadata": {},
   "source": [
    "### 감마 분포 plot "
   ]
  },
  {
   "cell_type": "markdown",
   "id": "likely-superintendent",
   "metadata": {},
   "source": [
    "`-` $\\alpha$는 형태 모수(shape parameter), $\\beta$는 척도 모수(scale parameter)\n",
    "\n",
    "`-` 사건이 발생하고 다음 사건이 발생하기 까지의 평균 대기 시간이 $\\beta$일 때 $\\alpha$번의 사건이 발생하는데 걸리는 시간에 대한 확률 분포\n",
    "```python\n",
    "import numpy as np\n",
    "\n",
    "np.random.gamma(shape, scale, size)\n",
    "```\n",
    "\n",
    "`-` shape는 $\\alpha$, scale은$\\beta$, size는 표본의 수\n",
    "\n",
    "```python\n",
    "np.random.gamma(shape = 2, scale = 2, size = 1000)\n",
    "```\n",
    "`-` 우리 집 앞에서 1시간당 평균 0.5명이 넘어진다 --> $\\lambda = 0.5$이므로 $\\beta = 2$ \n",
    "\n",
    "`-` 다시말하면 우리 집 앞에서 한 명이 넘어지고 다음 사람이 넘어지기 까지 평균 2시간이 걸린다\n",
    "\n",
    "`-` 이때 2명의 사람이 넘어지기 까지 걸리는 시간에 대한 분포를 그려보자"
   ]
  },
  {
   "cell_type": "markdown",
   "id": "sustainable-chamber",
   "metadata": {},
   "source": [
    "`-` `np.random.gamma(shape = 2, scale = 2, size = 1000)`를 히스토그램으로 나타내보면?"
   ]
  },
  {
   "cell_type": "code",
   "execution_count": 1,
   "id": "approximate-liquid",
   "metadata": {},
   "outputs": [
    {
     "data": {
      "image/png": "[encoded data removed]",
      "text/plain": [
       "<Figure size 432x288 with 1 Axes>"
      ]
     },
     "metadata": {
      "needs_background": "light"
     },
     "output_type": "display_data"
    }
   ],
   "source": [
    "import numpy as np\n",
    "import matplotlib.pyplot as plt\n",
    "\n",
    "np.random.seed(1)\n",
    "sample = np.random.gamma(shape = 2, scale = 2, size = 1000)\n",
    "\n",
    "plt.hist(sample)\n",
    "plt.title('np.random.gamma(shape = 2, scale = 2, size = 1000)')\n",
    "plt.show()"
   ]
  },
  {
   "cell_type": "markdown",
   "id": "surgical-utilization",
   "metadata": {},
   "source": [
    "`-` 위에서 지수 분포는 감마 분포에서 $\\alpha = 1$인 특수한 경우라고 했음\n",
    "\n",
    "`-` 진짜로 동일한지 $\\beta = 4$인 지수 분포와 $\\alpha = 1,\\beta = 4$인 감마 분포를 히스토그램을 그려 비교하자"
   ]
  },
  {
   "cell_type": "code",
   "execution_count": 12,
   "id": "registered-state",
   "metadata": {},
   "outputs": [
    {
     "data": {
      "image/png": "[encoded data removed]",
      "text/plain": [
       "<Figure size 1008x288 with 2 Axes>"
      ]
     },
     "metadata": {
      "needs_background": "light"
     },
     "output_type": "display_data"
    }
   ],
   "source": [
    "np.random.seed(1)\n",
    "sample1 = np.random.gamma(shape = 1, scale = 4, size = 1000)\n",
    "sample2 = np.random.exponential(scale = 4, size = 1000)\n",
    "\n",
    "fig, ax = plt.subplots(1, 2, figsize = (14, 4))\n",
    "\n",
    "ax[0].hist(sample1)\n",
    "ax[1].hist(sample2)\n",
    "\n",
    "ax[0].set_title('np.random.gamma(shape = 2, scale = 4, size = 1000)')\n",
    "ax[1].set_title('np.random.exponential(scale = 4, size = 1000)')\n",
    "\n",
    "plt.show()"
   ]
  },
  {
   "cell_type": "markdown",
   "id": "parental-president",
   "metadata": {},
   "source": [
    "`-` 히스토그램을 통해 비교하니 $\\alpha = 1$인 감마 분포는 지수 분포와 동일함을 알 수 있다"
   ]
  },
  {
   "cell_type": "markdown",
   "id": "labeled-marsh",
   "metadata": {},
   "source": [
    "### $\\alpha$와$\\beta$에 따른 감마 분포 모양(추가 예정)"
   ]
  },
  {
   "cell_type": "markdown",
   "id": "living-headset",
   "metadata": {},
   "source": [
    "`-` $\\alpha$는 형태 모수로 $\\alpha$가 커질수록 그래프의 모양이 종모양에 가까워짐\n",
    "\n",
    "`-` $\\beta$는 척도 모수로 $\\beta$가 커질수록 그래프가 퍼짐"
   ]
  },
  {
   "cell_type": "markdown",
   "id": "dense-chrome",
   "metadata": {},
   "source": [
    "`-` 그래프 추가 예정"
   ]
  },
  {
   "cell_type": "markdown",
   "id": "occupational-western",
   "metadata": {},
   "source": [
    "## t 분포\n",
    "`-` 표본평균$\\bar{X}$을 이용해 정규분포의 평균을 해석 --> 모집단이 정규분포를 따를 때\n",
    "\n",
    "`-` 표준화한 표본평균의 분포: 모표준편차를 알고 있음($\\frac{x-\\mu}{\\sqrt{\\frac{\\sigma}{n}}}$) --> 정규분포, 모표준편차를 모르고 표본표준편차를 알고 있음($\\frac{x-\\bar{x}}{\\sqrt{\\frac{s}{n}}}$) --> t분포\n",
    "\n",
    "`-` 다음의 확률 분포로 정의 --> $\\frac{Z}{\\sqrt{\\frac{V}{\\nu}}}$\n",
    "\n",
    "`-` $Z$는 표준정규분포, $V$는 자유도$\\nu$인 카이제곱 분포\n",
    "\n",
    "`-` `자유도`가 `커질수록` `표준정규분포`에 `가까워짐` (중심극한정리와 무관) --> 보통 표본 크기 $n\\geq30$이면 표준정규분포와 가깝다고 한다\n",
    "\n",
    "`-` [$\\star$]표본크기가 커지면 표준정규분포에 가까워짐[$\\star$] --> 표본 크기가 커진다는 것은 모집단에 가까워진다는 의미이므로 표본표준편차도 모표준편차에 가까워짐\n",
    "\n",
    "`-` [t분포 참고](https://ko.wikipedia.org/wiki/%EC%8A%A4%ED%8A%9C%EB%8D%98%ED%8A%B8_t_%EB%B6%84%ED%8F%AC)"
   ]
  },
  {
   "cell_type": "markdown",
   "id": "amazing-lesbian",
   "metadata": {},
   "source": [
    "### t 분포의 확률 밀도 함수 "
   ]
  },
  {
   "cell_type": "markdown",
   "id": "sublime-latino",
   "metadata": {},
   "source": [
    "$f(x) = \\frac{\\Gamma(\\frac{\\nu + 1}{2})}{\\sqrt{\\nu\\pi}\\Gamma(\\frac{\\nu}{2})}(1+\\frac{x^2}{\\nu})^{-(\\frac{\\nu+1}{2})}$"
   ]
  },
  {
   "cell_type": "markdown",
   "id": "bacterial-diesel",
   "metadata": {},
   "source": [
    "### t 분포의 기댓값과 분산 "
   ]
  },
  {
   "cell_type": "markdown",
   "id": "pursuant-heading",
   "metadata": {},
   "source": [
    "`-` $E(X) = 0,\\; \\nu > 1$\n",
    "\n",
    "`-` $Var(X) = \\frac{\\nu}{\\nu-2}\\,(\\nu>2),\\;\\infty\\,(1<v\\leq2)$"
   ]
  },
  {
   "cell_type": "markdown",
   "id": "characteristic-dancing",
   "metadata": {},
   "source": [
    "### t 분포 plot "
   ]
  },
  {
   "cell_type": "markdown",
   "id": "ongoing-czech",
   "metadata": {},
   "source": [
    "```python\n",
    "import numpy as np\n",
    "np.random.standard_t(df, size)\n",
    "```\n",
    "`-` df는 자유도, size는 표본의 수\n",
    "```python\n",
    "np.random.standard_t(5, 1000)\n",
    "```\n",
    "`-` `np.random.standard_t(5, 1000)`를 히스토그램으로 나타내보면?"
   ]
  },
  {
   "cell_type": "code",
   "execution_count": 3,
   "id": "sensitive-bishop",
   "metadata": {},
   "outputs": [
    {
     "data": {
      "image/png": "[encoded data removed]",
      "text/plain": [
       "<Figure size 432x288 with 1 Axes>"
      ]
     },
     "metadata": {
      "needs_background": "light"
     },
     "output_type": "display_data"
    }
   ],
   "source": [
    "import numpy as np\n",
    "import matplotlib.pyplot as plt\n",
    "\n",
    "np.random.seed(1)\n",
    "sample = np.random.standard_t(5, 1000)\n",
    "\n",
    "plt.hist(sample)\n",
    "plt.title('np.random.standard_t(5, 1000)')\n",
    "plt.show()"
   ]
  },
  {
   "cell_type": "markdown",
   "id": "executed-payday",
   "metadata": {},
   "source": [
    "`-` $x = 0$을 기준으로 대칭임 \n",
    "\n",
    "`-` 자유도가 5이므로 표본 크기는 6\n",
    "\n",
    "`-` 모표준편차 대신 표본표준편차를 알고 표본 크기가 6일 때 표준화한 표본 평균($\\frac{x-\\bar{x}}{\\sqrt{\\frac{s}{n}}}$)에 대한 분포\n",
    "\n",
    "`-` t분포는 표준정규분포보다 꼬리 부근에 밀도가 높음 --> 모표준편차 대신 표본표준편차를 사용하기 때문 --> 표본의 특성상 추출할 때마다 다르므로 변동성이 있음"
   ]
  },
  {
   "cell_type": "markdown",
   "id": "psychological-stuff",
   "metadata": {},
   "source": [
    "## F 분포(작성 예정) "
   ]
  },
  {
   "cell_type": "code",
   "execution_count": null,
   "id": "stainless-chamber",
   "metadata": {},
   "outputs": [],
   "source": []
  },
  {
   "cell_type": "markdown",
   "id": "dying-seminar",
   "metadata": {},
   "source": [
    "## 베타 분포(작성 예정) "
   ]
  },
  {
   "cell_type": "code",
   "execution_count": null,
   "id": "widespread-pavilion",
   "metadata": {},
   "outputs": [],
   "source": []
  },
  {
   "cell_type": "markdown",
   "id": "arranged-maine",
   "metadata": {},
   "source": [
    "# 이산 확률 분포\n",
    "`-` 이산 확률 변수가 가지는 확률 분포"
   ]
  },
  {
   "cell_type": "markdown",
   "id": "sitting-schema",
   "metadata": {},
   "source": [
    "## 베르누이 시행"
   ]
  },
  {
   "cell_type": "markdown",
   "id": "administrative-lecture",
   "metadata": {},
   "source": [
    "`-` 임의의 결과가 `성공` 또는 `실패`와 같이 가능한 결과가 `2 가지`"
   ]
  },
  {
   "cell_type": "markdown",
   "id": "random-devon",
   "metadata": {},
   "source": [
    "### 베르누이 시행 조건"
   ]
  },
  {
   "cell_type": "markdown",
   "id": "lovely-network",
   "metadata": {},
   "source": [
    "`-` 각 시행의 결과는 상호 배타적인 두 사건(성공 or 실패)으로 구분\n",
    "\n",
    "`-` 성공 확률 p, 실패 확률 q일 때, $p+q=1$\n",
    "\n",
    "`-` 각 시행은 독립적"
   ]
  },
  {
   "cell_type": "markdown",
   "id": "elect-piano",
   "metadata": {},
   "source": [
    "## 이항 분포"
   ]
  },
  {
   "cell_type": "markdown",
   "id": "varied-python",
   "metadata": {},
   "source": [
    "`-` 서로 독립이고 동일한 베르누이 분포를 따르는 확률변수$X_1,\\dots,X_n$을 모두 합한 것 --> $X = \\sum\\limits_{i=1}^{n}X_i$\n",
    "\n",
    "`-` 성공 확률이 p인 베르누이 시행을 독립적으로 n번 반복했을 때 성공 횟수 X는 이항 분포를 따름\n",
    "\n",
    "`-` 기호로는 $X \\sim B(n,p)$\n",
    "\n",
    "`-` 독립적 시행 --> 각 시행은 서로 영향을 주지 않음\n",
    "\n"
   ]
  },
  {
   "cell_type": "markdown",
   "id": "characteristic-flash",
   "metadata": {},
   "source": [
    "### 이항 분포의 확률 질량 함수(PMF)"
   ]
  },
  {
   "cell_type": "markdown",
   "id": "alternate-disposition",
   "metadata": {},
   "source": [
    "$f(x) \\,=\\, _{n}\\rm C_{x}\\,p^{x}\\,(1-p)^{n-x} \\,=\\, \\binom{n}{x}\\,p^{k}\\,(1-p)^{n-x}$"
   ]
  },
  {
   "cell_type": "markdown",
   "id": "excessive-colombia",
   "metadata": {},
   "source": [
    "`-` 성공 확률 $p$인 베르누이 시행을 $n$번 시행하여 그 중 $x$번을 성공할 확률 질량 함수\n",
    "\n",
    "`-` 베르누이 분포는 이항 분포에서 $n=1$일 때이다"
   ]
  },
  {
   "cell_type": "markdown",
   "id": "boolean-jacob",
   "metadata": {},
   "source": [
    "### 이항분포의 기댓값과 분산\n",
    "`-` $E(X) = np$\n",
    "\n",
    "`-` $Var(X) = np(1-p)$"
   ]
  },
  {
   "cell_type": "markdown",
   "id": "knowing-figure",
   "metadata": {},
   "source": [
    "### 이항 분포 plot"
   ]
  },
  {
   "cell_type": "markdown",
   "id": "attractive-brisbane",
   "metadata": {},
   "source": [
    "```python\n",
    "import numpy as np\n",
    "\n",
    "np.random.binomial(n, p, size)\n",
    "```\n",
    "\n",
    "`-` $n$은 표본 크기, $p$는 성공 확률, size는 표본의 수\n",
    "\n",
    "```python\n",
    "np.random.binomial(n = 50, p = 0.5, size = 1000)\n",
    "```\n",
    "\n",
    "`-` 성공 확률이 `p = 0.5`인 베르누이 시행을 `n = 50`번 반복하는 것을 표본 하나로 두고 표본을 `size = 1000`번 추출한다\n",
    "\n",
    "`-` 동전 던지기($p=0.5$)를 $n$ = $50$번 시행하여 앞면이 나온 횟수($X=0,1,2,\\dots,49,50$)를 하나의 표본이라 할 때 표본을 $size = 1000$번 추출한다"
   ]
  },
  {
   "cell_type": "markdown",
   "id": "coated-denmark",
   "metadata": {},
   "source": [
    "`-` `np.random.binomial(n = 10, p = 0.5, size = 1000)`을 히스토그램으로 나타내면?\n",
    "\n",
    "`-` $np \\geq 5$ 이면 이항분포를 정규분포로 근사할 수 있다"
   ]
  },
  {
   "cell_type": "code",
   "execution_count": 11,
   "id": "specified-junction",
   "metadata": {},
   "outputs": [
    {
     "data": {
      "image/png": "[encoded data removed]",
      "text/plain": [
       "<Figure size 432x288 with 1 Axes>"
      ]
     },
     "metadata": {
      "needs_background": "light"
     },
     "output_type": "display_data"
    }
   ],
   "source": [
    "import numpy as np\n",
    "import matplotlib.pyplot as plt\n",
    "\n",
    "np.random.seed(1)\n",
    "sample = np.random.binomial(n = 10, p = 0.5, size = 1000)\n",
    "\n",
    "plt.hist(sample)\n",
    "plt.title('np.random.binomial(n = 10, p = 0.5, size = 100)')\n",
    "plt.show()"
   ]
  },
  {
   "cell_type": "markdown",
   "id": "mature-manufacturer",
   "metadata": {},
   "source": [
    "## 포아송 분포\n",
    "`-` 단위 시간, 단위 공간 안에 어떤 사건이 몇 번 발생할 것인지를 표현하는 이산 확률 분포 \n",
    "\n",
    "`-` 포아송 분포의 모수($\\lambda$)는 단위 시간에서 사건의 평균 발생 횟수"
   ]
  },
  {
   "cell_type": "markdown",
   "id": "engaging-belle",
   "metadata": {},
   "source": [
    "### 포아송 분포 전제 조건\n",
    "`-` 독립성: 1시간 동안 우리 집 앞에서 넘어진 사람 수와 친구 집앞에서 넘어진 사람 수는 독립이다\n",
    "\n",
    "`-` 일정성: 1시간 동안 평균 3명이 넘어졌다면 2시간 동안에는 평균 6명이 넘어진다\n",
    "\n",
    "`-` 비집락성: 우리 집 앞에서 같은 시간에 두 명 이상이 넘어질 확률은 0이다"
   ]
  },
  {
   "cell_type": "markdown",
   "id": "defensive-header",
   "metadata": {},
   "source": [
    "### 포아송 분포의 확률 질량 함수"
   ]
  },
  {
   "cell_type": "markdown",
   "id": "received-folks",
   "metadata": {},
   "source": [
    "$f(x) = \\frac{e^{-\\lambda}\\lambda^{x}}{x!}$"
   ]
  },
  {
   "cell_type": "markdown",
   "id": "requested-melbourne",
   "metadata": {},
   "source": [
    "`-` $x$는 단위 시간에서 사건의 발생 횟수, $\\lambda$는 단위 시간에서 사건의 평균 발생 횟수\n",
    "\n",
    "`-` $\\lambda = 10$, $x = 7$ --> 단위 시간에서 사건의 평균 10번 발생할 때 7번 발생할 확률은?\n",
    "\n",
    "`-` 우리 집 앞에서 1시간에 사람이 평균적으로 10명이 넘어진다고 한다. 이 때 1시간에 사람이 5명 넘어질 확률은?\n",
    "\n",
    "`-` $\\lambda = 10,\\, x = 5 \\longrightarrow f(5) = \\frac{e^{-10}\\,10^5}{5!} = 0.03783327480207071$"
   ]
  },
  {
   "cell_type": "markdown",
   "id": "seventh-runner",
   "metadata": {},
   "source": [
    "### 포아송 분포의 기댓값과 분산\n",
    "`-` $E(X) = \\lambda$\n",
    "\n",
    "`-` $Var(X) = \\lambda$"
   ]
  },
  {
   "cell_type": "markdown",
   "id": "ongoing-coral",
   "metadata": {},
   "source": [
    "### 포아송 분포 plot"
   ]
  },
  {
   "cell_type": "markdown",
   "id": "incomplete-dollar",
   "metadata": {},
   "source": [
    "```python\n",
    "import numpy\n",
    "\n",
    "np.random.poisson(lam ,size)\n",
    "```\n",
    "\n",
    "`-` $\\lambda$는 모수, size는 표본의 수\n",
    "```python\n",
    "np.random.poisson(lam = 10 ,size = 1000)\n",
    "```\n",
    "\n",
    "`-` 단위 시간에서 사건이 평균 10번 발생할 때 (`lam = 10`) 단위 시간에서 사건이 몇 번 발생하는지를 하나의 표본이라 할 때 `size = 1000`번 표본을 추출한다\n",
    "\n",
    "`-` 우리 집 앞에서 1시간당 평균 10명이 넘어질 때($\\lambda=10$) 1시간당 몇 명 넘어지는지($x = 0,1,2,\\dots,10,11,\\dots$)를 $size = 1000$번 기록한다"
   ]
  },
  {
   "cell_type": "markdown",
   "id": "competitive-annotation",
   "metadata": {},
   "source": [
    "`-` `np.random.poisson(lam = 10, size = 1000)`을 히스토그램으로 나타내면?"
   ]
  },
  {
   "cell_type": "code",
   "execution_count": 30,
   "id": "specific-rough",
   "metadata": {},
   "outputs": [
    {
     "data": {
      "image/png": "[encoded data removed]",
      "text/plain": [
       "<Figure size 432x288 with 1 Axes>"
      ]
     },
     "metadata": {
      "needs_background": "light"
     },
     "output_type": "display_data"
    }
   ],
   "source": [
    "import numpy as np\n",
    "import matplotlib.pyplot as plt\n",
    "\n",
    "np.random.seed(1)\n",
    "sample = np.random.poisson(lam = 10, size = 1000)\n",
    "\n",
    "plt.hist(sample)\n",
    "plt.title('np.random.poisson(lam = 10, size = 1000)')\n",
    "plt.show()"
   ]
  },
  {
   "cell_type": "markdown",
   "id": "atlantic-transmission",
   "metadata": {},
   "source": [
    "`-` $\\lambda$를 바꿔볼까? --> 우리 집 앞에서 1시간당 평균 4명이 넘어진다면??"
   ]
  },
  {
   "cell_type": "code",
   "execution_count": 27,
   "id": "immediate-purple",
   "metadata": {},
   "outputs": [
    {
     "data": {
      "image/png": "[encoded data removed]",
      "text/plain": [
       "<Figure size 432x288 with 1 Axes>"
      ]
     },
     "metadata": {
      "needs_background": "light"
     },
     "output_type": "display_data"
    }
   ],
   "source": [
    "np.random.seed(1)\n",
    "sample = np.random.poisson(lam = 4, size = 1000)\n",
    "\n",
    "plt.hist(sample)\n",
    "plt.title('np.random.poisson(lam = 4, size = 1000)')\n",
    "plt.show()"
   ]
  },
  {
   "cell_type": "markdown",
   "id": "ideal-cowboy",
   "metadata": {},
   "source": [
    "## 기하 분포"
   ]
  },
  {
   "cell_type": "markdown",
   "id": "chinese-shape",
   "metadata": {},
   "source": [
    "`-` 어떤 확률변수 X가 성공 확률이 p인 베르누이 시행에서 처음 성공까지 시도한 횟수라고 할 때 X는 성공 확률  p인 기하분포를 따른다\n",
    "\n",
    "`-` `처음 성공할 때까지 걸린 시도 횟수` X가 확률 변수이다"
   ]
  },
  {
   "cell_type": "markdown",
   "id": "latter-decline",
   "metadata": {},
   "source": [
    "### 기하 분포의 무기억성\n",
    "`-` $P(X=x+k|X>k)=P(X=x)$\n",
    "\n",
    "`-` 성공 확률 p인 베르누이 시행을 현재 k번 시도 했다\n",
    "\n",
    "`-` 하지만 아직 까지 성공하지 못했다\n",
    "\n",
    "`-` 내가 여태까지 k번 실패했으니까 성공확률이 올라갈까?? --> 답은 `No`\n",
    "\n",
    "`-` 내가 이제껏 시도한 횟수와 관계없이 성공할 확률은 p로 동일하다\n",
    "\n",
    "`-` 쉽게 말하자면 내가 순백의 주문서10%를 바르고 있는 중이다\n",
    "\n",
    "`-` 여태까지 50장을 발랐는데도 성공하지 못했다\n",
    "\n",
    "`-` 하지만 확률은 그대로 10%이고 기댓값도 10번으로 동일하다\n",
    "\n",
    "`-` 즉, 처음에 순백의 주문서를 성공시키기 위한 기대되는 시도 횟수는 10번이다\n",
    "\n",
    "`-` 50번을 실패했지만 여전히 순백의 주문서를 성공시키기 위한 기대되는 시도 횟수는 10번이다......"
   ]
  },
  {
   "cell_type": "markdown",
   "id": "together-tower",
   "metadata": {},
   "source": [
    "### 기하 분포의 확률 질량 함수"
   ]
  },
  {
   "cell_type": "markdown",
   "id": "fatal-martial",
   "metadata": {},
   "source": [
    "$f(x) = (1-p)^{x-1}p, \\; x = 1, 2, 3,\\dots$"
   ]
  },
  {
   "cell_type": "markdown",
   "id": "pleased-beijing",
   "metadata": {},
   "source": [
    "`-` 성공 확률이 $p$일 때 $x-1$번 째 시도까지는 모두 실패하고 $x$번 째 시도에 성공할 확률 질량 함수"
   ]
  },
  {
   "cell_type": "markdown",
   "id": "sporting-qualification",
   "metadata": {},
   "source": [
    "### 기하 분포의 기댓값과 분산 "
   ]
  },
  {
   "cell_type": "markdown",
   "id": "verified-conference",
   "metadata": {},
   "source": [
    "`-` $E(X) = \\frac{1}{p}$\n",
    "\n",
    "`-` $Var(X) = \\frac{1-p}{p^2}$"
   ]
  },
  {
   "cell_type": "markdown",
   "id": "peripheral-poverty",
   "metadata": {},
   "source": [
    "### 기하 분포 plot "
   ]
  },
  {
   "cell_type": "markdown",
   "id": "inside-consistency",
   "metadata": {},
   "source": [
    "```python\n",
    "import numpy\n",
    "\n",
    "np.random.geometric(p ,size)\n",
    "```\n",
    "\n",
    "`-` $p$는 베르누이 시행에서 성공 확률, size는 표본의 수\n",
    "\n",
    "```python\n",
    "np.random.geometric(p = 0.1, size = 1000)\n",
    "```\n",
    "\n",
    "`-` 성공 확률이 `p = 0.1`인 `베르누이 시행`을 `성공할 때까지` 시도하는 것을 `size = 1000`번 반복한다\n",
    "\n",
    "`-` 순백의 주문서($p=0.1$)를 성공할 때까지 시도하여 순백의 주문서가 적용될 때까지 걸린 시도 횟수($X=1,2,\\dots$)를 $size = 1000$번 기록한다\n",
    "\n",
    "`-` `np.random.geometric(p = 0.1, size = 1000)`을 히스토그램으로 나타내면?"
   ]
  },
  {
   "cell_type": "code",
   "execution_count": 2,
   "id": "corporate-annotation",
   "metadata": {},
   "outputs": [
    {
     "data": {
      "image/png": "[encoded data removed]",
      "text/plain": [
       "<Figure size 432x288 with 1 Axes>"
      ]
     },
     "metadata": {
      "needs_background": "light"
     },
     "output_type": "display_data"
    }
   ],
   "source": [
    "import numpy as np\n",
    "import matplotlib.pyplot as plt\n",
    "\n",
    "np.random.seed(1)\n",
    "sample = np.random.geometric(p = 0.1, size = 1000)\n",
    "\n",
    "plt.hist(sample)\n",
    "plt.title('np.random.geometric(p = 0.1, size = 1000)')\n",
    "plt.show()"
   ]
  },
  {
   "cell_type": "markdown",
   "id": "vertical-publication",
   "metadata": {},
   "source": [
    "## 초기하 분포(작성 예정) "
   ]
  },
  {
   "cell_type": "code",
   "execution_count": null,
   "id": "smooth-dispute",
   "metadata": {},
   "outputs": [],
   "source": []
  },
  {
   "cell_type": "markdown",
   "id": "residential-paragraph",
   "metadata": {},
   "source": [
    "## 음이항 분포(작성 예정) "
   ]
  },
  {
   "cell_type": "code",
   "execution_count": null,
   "id": "played-strike",
   "metadata": {},
   "outputs": [],
   "source": []
  }
 ],
 "metadata": {
  "kernelspec": {
   "display_name": "Python 3",
   "language": "python",
   "name": "python3"
  },
  "language_info": {
   "codemirror_mode": {
    "name": "ipython",
    "version": 3
   },
   "file_extension": ".py",
   "mimetype": "text/x-python",
   "name": "python",
   "nbconvert_exporter": "python",
   "pygments_lexer": "ipython3",
   "version": "3.8.8"
  }
 },
 "nbformat": 4,
 "nbformat_minor": 5
}
