{
 "cells": [
  {
   "cell_type": "markdown",
   "id": "innocent-riverside",
   "metadata": {},
   "source": [
    "# 확률 분포\n",
    "\n",
    "> \"작성 중\"\n",
    "\n",
    "- toc: true\n",
    "- branch: master\n",
    "- badges: true\n",
    "- comments: true\n",
    "- author: 한재수\n",
    "- categories: [python]"
   ]
  },
  {
   "cell_type": "markdown",
   "id": "vital-belarus",
   "metadata": {},
   "source": [
    "## 확률 분포란?"
   ]
  },
  {
   "cell_type": "markdown",
   "id": "accepting-assets",
   "metadata": {},
   "source": [
    "`-` 확률 분포(probability distribution)는 확률 변수가 특정한 값을 가질 확률을 나타내는 함수를 의미한다. --> 출처: [https://ko.wikipedia.org/wiki/%ED%99%95%EB%A5%A0_%EB%B6%84%ED%8F%AC](https://ko.wikipedia.org/wiki/%ED%99%95%EB%A5%A0_%EB%B6%84%ED%8F%AC)"
   ]
  },
  {
   "cell_type": "markdown",
   "id": "vertical-arena",
   "metadata": {},
   "source": [
    "### 그렇다면 확률 변수란?"
   ]
  },
  {
   "cell_type": "markdown",
   "id": "banned-atlas",
   "metadata": {},
   "source": [
    "`-` 확률변수(Random Variable)란 `무작위 실험`을 했을 때, `특정 확률`로 발생하는 각각의 결과를 `수치`로 표현한 변수\n",
    "\n",
    "`-` `무작위 실험` --> 동전 던지기\n",
    "\n",
    "`-` `특정 확률` --> 앞면이 나올 확률 $\\frac{1}{2}$, 뒷면이 나올 확률 $\\frac{1}{2}$\n",
    "\n",
    "`-` `수치` --> 앞면 = $1$, 뒷면 = $2$"
   ]
  },
  {
   "cell_type": "markdown",
   "id": "institutional-creator",
   "metadata": {},
   "source": [
    "## 연속 확률 분포\n",
    "`-` 연속 확률 변수가 가지는 확률 분포\n",
    "\n",
    "`-` 이산 확률 변수는 확률을 $P(X=x)$와 같이 표현 가능, 연속 확률 변수는 불가능\n",
    "\n",
    "`-` 연속 확률 변수는 확률을 $P(A\\leq X\\leq B)$로 표현 가능"
   ]
  },
  {
   "cell_type": "markdown",
   "id": "laughing-league",
   "metadata": {},
   "source": [
    "### 정규분포"
   ]
  },
  {
   "cell_type": "markdown",
   "id": "silent-imperial",
   "metadata": {},
   "source": [
    "`-` 정규 분포는 수집된 자료의 분포를 근사하는 데에 자주 사용됨\n",
    "\n",
    "`-` 중심극한정리에 의하여 독립적인 확률변수들의 평균은 정규 분포에 가까워지는 성질이 있기 때문임\n",
    "\n",
    "`-` 기호로는 $N \\sim (\\mu, \\sigma^{2})$\n",
    "\n",
    "`-` 정규분포의 기댓값, 중앙값, 최빈값은 $\\mu$, 분산은 $\\sigma^{2}$ \n",
    "\n",
    "`-` 표준정규분포는 평균이 0, 표준편차가 1인 경우임 --> $N \\sim (0, 1)$\n",
    "\n",
    "`-` 정규분포에서 $\\mu\\pm2\\sigma$에 전체 데이터 중 $95\\%$가 존재"
   ]
  },
  {
   "cell_type": "markdown",
   "id": "given-skating",
   "metadata": {},
   "source": [
    "#### 표준화 "
   ]
  },
  {
   "cell_type": "markdown",
   "id": "regular-antigua",
   "metadata": {},
   "source": [
    "`-` 정규 분포 밀도 함수에서 $Z =$ <big>$\\frac{X - \\mu}{\\sigma}$</big> 를 통해 $X$(원점수)를 $Z$($z$점수) 표준화하여 표준정규분포(z-분포)를 얻을 수 있다."
   ]
  },
  {
   "cell_type": "markdown",
   "id": "altered-halifax",
   "metadata": {},
   "source": [
    "#### 정규분포의 확률 밀도 함수(PDF)"
   ]
  },
  {
   "cell_type": "markdown",
   "id": "intensive-northern",
   "metadata": {},
   "source": [
    "$f(x) = \\frac{1}{\\sqrt{2\\pi\\sigma^{2}}}e^{-\\frac{(x-m)^{2}}{2\\sigma^{2}}}$"
   ]
  },
  {
   "cell_type": "markdown",
   "id": "international-needle",
   "metadata": {},
   "source": [
    "#### 정규분포 plot "
   ]
  },
  {
   "cell_type": "markdown",
   "id": "cardiovascular-financing",
   "metadata": {},
   "source": [
    "```python\n",
    "import numpy as np\n",
    "\n",
    "np.random.normal(loc, scale, size)\n",
    "```\n",
    "\n",
    "`-` loc는 평균, scale은 표준편차, size는 반복 횟수\n",
    "\n",
    "```python\n",
    "np.random.normal(loc = 0, scale = 1, size = 1000)\n",
    "```"
   ]
  },
  {
   "cell_type": "markdown",
   "id": "administrative-myrtle",
   "metadata": {},
   "source": [
    "`-` `np.random.normal(loc = 0, scale = 1, size = 1000)`을 히스토그램으로 나타내면?"
   ]
  },
  {
   "cell_type": "code",
   "execution_count": 1,
   "id": "editorial-turning",
   "metadata": {},
   "outputs": [
    {
     "data": {
      "image/png": "[encoded data removed]",
      "text/plain": [
       "<Figure size 432x288 with 1 Axes>"
      ]
     },
     "metadata": {
      "needs_background": "light"
     },
     "output_type": "display_data"
    }
   ],
   "source": [
    "import numpy as np\n",
    "import matplotlib.pyplot as plt\n",
    "\n",
    "np.random.seed(1)\n",
    "sample = np.random.normal(loc = 0, scale = 1, size = 1000)\n",
    "\n",
    "plt.hist(sample)\n",
    "plt.title('np.random.normal(loc = 0, scale = 1, size = 1000)')\n",
    "plt.show()"
   ]
  },
  {
   "cell_type": "markdown",
   "id": "indonesian-calgary",
   "metadata": {},
   "source": [
    "### 균일 분포"
   ]
  },
  {
   "cell_type": "markdown",
   "id": "functional-terror",
   "metadata": {},
   "source": [
    "`-` 모든 확률 변수에 대하여 구간 내에서 `균일한 확률`을 가짐\n",
    "\n",
    "`-` 임의의 구간 내에서 균일한 확률을 가지기에 난수 생성기로 쓰임\n",
    "\n",
    "`-` 이산 확률 변수에서도 가능"
   ]
  },
  {
   "cell_type": "markdown",
   "id": "outdoor-pearl",
   "metadata": {},
   "source": [
    "#### 균일 분포의 확률 밀도 함수"
   ]
  },
  {
   "cell_type": "markdown",
   "id": "limited-abraham",
   "metadata": {},
   "source": [
    "$f(x) = \\begin{cases}\n",
    "\\frac{1}{b-a} & \\text{for $x \\in [a,b]$}\\\\\n",
    "0 & \\text{otherwise}\n",
    "\\end{cases}\n",
    "$"
   ]
  },
  {
   "cell_type": "markdown",
   "id": "turned-optimization",
   "metadata": {},
   "source": [
    "`-` $f(x)$는 구간 $[a,b]$에서 균등한 확률을 가짐 "
   ]
  },
  {
   "cell_type": "markdown",
   "id": "educational-module",
   "metadata": {},
   "source": [
    "#### 균일 분포의 기댓값과 분산"
   ]
  },
  {
   "cell_type": "markdown",
   "id": "extensive-citation",
   "metadata": {},
   "source": [
    "`-` 기댓값 = $\\frac{a+b}{2}$\n",
    "\n",
    "`-` 분산 = $\\frac{(b-a)^{2}}{12}$"
   ]
  },
  {
   "cell_type": "markdown",
   "id": "sublime-consultation",
   "metadata": {},
   "source": [
    "#### 균일 분포 plot"
   ]
  },
  {
   "cell_type": "markdown",
   "id": "registered-score",
   "metadata": {},
   "source": [
    "```python\n",
    "import numpy as np\n",
    "\n",
    "np.random.uniform(low, high, size)\n",
    "```\n",
    "\n",
    "`-` low는 출력값의 최소 경계, high은 출력값의 최대 경계, size는 반복 횟수\n",
    "\n",
    "```python\n",
    "np.random.uniform(low = 0, high = 1, size = 1000)\n",
    "```"
   ]
  },
  {
   "cell_type": "markdown",
   "id": "smoking-excerpt",
   "metadata": {},
   "source": [
    "`-` `np.random.uniform(low = 0, high = 1, size = 1000)`을 히스토그램으로 나타내면?"
   ]
  },
  {
   "cell_type": "code",
   "execution_count": 4,
   "id": "hairy-bottle",
   "metadata": {},
   "outputs": [
    {
     "data": {
      "image/png": "[encoded data removed]",
      "text/plain": [
       "<Figure size 432x288 with 1 Axes>"
      ]
     },
     "metadata": {
      "needs_background": "light"
     },
     "output_type": "display_data"
    }
   ],
   "source": [
    "import numpy as np\n",
    "import matplotlib.pyplot as plt\n",
    "\n",
    "np.random.seed(1)\n",
    "sample = np.random.uniform(low = 0, high = 1, size = 1000)\n",
    "\n",
    "plt.hist(sample)\n",
    "plt.title('np.random.normal(loc = 0, scale = 1, size = 1000)')\n",
    "plt.show()"
   ]
  },
  {
   "cell_type": "markdown",
   "id": "occasional-maintenance",
   "metadata": {},
   "source": [
    "## 이산 확률 분포\n",
    "- 이산 확률 변수가 가지는 확률 분포"
   ]
  },
  {
   "cell_type": "markdown",
   "id": "sitting-expression",
   "metadata": {},
   "source": [
    "### 베르누이 시행"
   ]
  },
  {
   "cell_type": "markdown",
   "id": "imperial-commonwealth",
   "metadata": {},
   "source": [
    "`-` 임의의 결과가 `성공` 또는 `실패`와 같이 가능한 결과가 `2 가지`"
   ]
  },
  {
   "cell_type": "markdown",
   "id": "removable-index",
   "metadata": {},
   "source": [
    "#### 베르누이 시행 조건"
   ]
  },
  {
   "cell_type": "markdown",
   "id": "short-penny",
   "metadata": {},
   "source": [
    "`-` 각 시행의 결과는 상호 배타적인 두 사건(성공 or 실패)으로 구분\n",
    "\n",
    "`-` 성공 확률 p, 실패 확률 q일 때, $p+q=1$\n",
    "\n",
    "`-` 각 시행은 독립적"
   ]
  },
  {
   "cell_type": "markdown",
   "id": "southern-relationship",
   "metadata": {},
   "source": [
    "### 이항 분포"
   ]
  },
  {
   "cell_type": "markdown",
   "id": "interim-crisis",
   "metadata": {},
   "source": [
    "`-` 성공 확률이 p인 베르누이 시행을 독립적으로 n번 반복했을 때 성공 횟수 X는 이항 분포를 따름\n",
    "\n",
    "`-` 기호로는 $X \\sim B(n,p)$\n",
    "\n",
    "`-` 독립적 시행 --> 각 시행은 서로 영향을 주지 않음\n",
    "\n"
   ]
  },
  {
   "cell_type": "markdown",
   "id": "genuine-minnesota",
   "metadata": {},
   "source": [
    "#### 이항 분포의 확률 질량 함수(PMF)"
   ]
  },
  {
   "cell_type": "markdown",
   "id": "recovered-novel",
   "metadata": {},
   "source": [
    "$f(x) \\,=\\, _{n}\\rm C_{x}\\,p^{x}\\,p^{n-x} \\,=\\, \\binom{n}{x}\\,p^{k}\\,p^{n-x}$ "
   ]
  },
  {
   "cell_type": "markdown",
   "id": "bound-workshop",
   "metadata": {},
   "source": [
    "`-` 성공 확률 $p$인 베르누이 시행을 $n$번 시행하여 그 중 $x$번을 성공할 확률 질량 함수\n",
    "\n",
    "`-` 베르누이 분포는 이항 분포에서 $n=1$일 때이다."
   ]
  },
  {
   "cell_type": "markdown",
   "id": "naked-introduction",
   "metadata": {},
   "source": [
    "#### 이항분포의 기댓값과 분산\n",
    "`-` 기댓값 = $np$\n",
    "\n",
    "`-` 분산 = $np(1-p)$"
   ]
  },
  {
   "cell_type": "markdown",
   "id": "veterinary-medline",
   "metadata": {},
   "source": [
    "#### 이항 분포 plot"
   ]
  },
  {
   "cell_type": "markdown",
   "id": "super-barrier",
   "metadata": {},
   "source": [
    "```python\n",
    "import numpy as np\n",
    "\n",
    "np.random.binomial(n, p, size)\n",
    "```\n",
    "\n",
    "`-` $n$은 표본 크기, $p$는 성공 확률, size는 반복 횟수\n",
    "\n",
    "```python\n",
    "np.random.binomial(n = 50, p = 0.5, size = 1000)\n",
    "```\n",
    "\n",
    "`-` 성공 확률이 `p = 0.5`인 베르누이 시행을 `n = 50`번 반복하는 것을 `size = 1000`번 반복한다. \n",
    "\n",
    "`-` 동전 던지기($p=0.5$)를 $n$ = $50$번 시행하여 앞면이 나온 횟수($X=0,1,2,\\dots,49,50$)를 $size = 1000$번 기록한다."
   ]
  },
  {
   "cell_type": "markdown",
   "id": "apart-phenomenon",
   "metadata": {},
   "source": [
    "`-` `np.random.binomial(n = 10, p = 0.5, size = 1000)`을 히스토그램으로 나타내면?\n",
    "\n",
    "`-` $np \\geq 5$ 이면 이항분포를 정규분포로 근사할 수 있다."
   ]
  },
  {
   "cell_type": "code",
   "execution_count": 11,
   "id": "entitled-improvement",
   "metadata": {},
   "outputs": [
    {
     "data": {
      "image/png": "[encoded data removed]",
      "text/plain": [
       "<Figure size 432x288 with 1 Axes>"
      ]
     },
     "metadata": {
      "needs_background": "light"
     },
     "output_type": "display_data"
    }
   ],
   "source": [
    "import numpy as np\n",
    "import matplotlib.pyplot as plt\n",
    "\n",
    "np.random.seed(1)\n",
    "sample = np.random.binomial(n = 10, p = 0.5, size = 1000)\n",
    "\n",
    "plt.hist(sample)\n",
    "plt.title('np.random.binomial(n = 10, p = 0.5, size = 100)')\n",
    "plt.show()"
   ]
  },
  {
   "cell_type": "markdown",
   "id": "immediate-carroll",
   "metadata": {},
   "source": [
    "### 포아송 분포\n",
    "`-` 단위 시간, 단위 공간 안에 어떤 사건이 몇 번 발생할 것인지를 표현하는 이산 확률 분포 \n",
    "\n",
    "`-` 포아송 분포의 모수($\\lambda$)는 단위 시간에서 사건의 평균 발생 횟수"
   ]
  },
  {
   "cell_type": "markdown",
   "id": "authentic-owner",
   "metadata": {},
   "source": [
    "#### 포아송 분포 전제 조건\n",
    "`-` 독립성: 1시간 동안 우리 집앞에서 넘어진 사람 수와 친구 집앞에서 넘어진 사람 수는 독립이다.\n",
    "\n",
    "`-` 일정성: 1시간 동안 평균 3명이 넘어졌다면 2시간 동안에는 평균 6명이 넘어진다.\n",
    "\n",
    "`-` 비집락성: 우리 집앞에서 같은 시간에 두 명 이상이 넘어질 확률은 0이다."
   ]
  },
  {
   "cell_type": "markdown",
   "id": "informal-hospital",
   "metadata": {},
   "source": [
    "#### 포아송 분포의 확률 질량 함수"
   ]
  },
  {
   "cell_type": "markdown",
   "id": "assumed-korea",
   "metadata": {},
   "source": [
    "$f(x) = \\frac{e^{-\\lambda}\\lambda^{x}}{x!}$"
   ]
  },
  {
   "cell_type": "markdown",
   "id": "naughty-brooks",
   "metadata": {},
   "source": [
    "`-` $x$는 단위 시간에서 사건의 발생 횟수, $\\lambda$는 단위 시간에서 사건의 평균 발생 횟수\n",
    "\n",
    "`-` $\\lambda = 10$, $x = 7$ --> 단위 시간에서 사건의 평균 10번 발생할 때 7번 발생할 확률은?\n",
    "\n",
    "`-` 우리 집앞에서 1시간에 사람이 평균적으로 10명이 넘어진다고 한다. 이 때 1시간에 사람이 5명 넘어질 확률은?\n",
    "\n",
    "`-` $\\lambda = 10,\\, x = 5 \\longrightarrow f(5) = \\frac{e^{-10}\\,10^5}{5!} = 0.03783327480207071$"
   ]
  },
  {
   "cell_type": "markdown",
   "id": "cordless-limitation",
   "metadata": {},
   "source": [
    "#### 포아송 분포의 기댓값과 분산\n",
    "`-` 기댓값 = $\\lambda$\n",
    "\n",
    "`-` 분산 = $\\lambda$"
   ]
  },
  {
   "cell_type": "markdown",
   "id": "understanding-chocolate",
   "metadata": {},
   "source": [
    "#### 포아송 분포 plot"
   ]
  },
  {
   "cell_type": "markdown",
   "id": "velvet-benchmark",
   "metadata": {},
   "source": [
    "```python\n",
    "import numpy\n",
    "\n",
    "np.random.poisson(lam ,size)\n",
    "```\n",
    "\n",
    "`-` $\\lambda$는 모수, size는 반복 횟수\n",
    "\n",
    "```python\n",
    "np.random.poisson(lam = 10 ,size = 1000)\n",
    "```\n",
    "\n",
    "`-` 단위 시간에서 사건이 평균 10번 발생할 때 (`lam = 10`) 단위 시간에서 사건이 몇 번 발생하는지를 `size = 1000`번 반복한다. \n",
    "\n",
    "`-` 우리 집앞에서 1시간당 평균 10명이 넘어질 때($\\lambda=10$) 1시간당 몇 명 넘어지는지($x = 0,1,2,\\dots,10,11,\\dots$)를 $size = 1000$번 기록한다."
   ]
  },
  {
   "cell_type": "markdown",
   "id": "revised-destination",
   "metadata": {},
   "source": [
    "`-` `np.random.poisson(lam = 10, size = 1000)`을 히스토그램으로 나타내면?"
   ]
  },
  {
   "cell_type": "code",
   "execution_count": 30,
   "id": "smoking-fever",
   "metadata": {},
   "outputs": [
    {
     "data": {
      "image/png": "[encoded data removed]",
      "text/plain": [
       "<Figure size 432x288 with 1 Axes>"
      ]
     },
     "metadata": {
      "needs_background": "light"
     },
     "output_type": "display_data"
    }
   ],
   "source": [
    "import numpy as np\n",
    "import matplotlib.pyplot as plt\n",
    "\n",
    "np.random.seed(1)\n",
    "sample = np.random.poisson(lam = 10, size = 1000)\n",
    "\n",
    "plt.hist(sample)\n",
    "plt.title('np.random.poisson(lam = 10, size = 1000)')\n",
    "plt.show()"
   ]
  },
  {
   "cell_type": "markdown",
   "id": "short-differential",
   "metadata": {},
   "source": [
    "`-` $\\lambda$를 바꿔볼까? --> 우리 집앞에서 1시간당 평균 4명이 넘어진다면??"
   ]
  },
  {
   "cell_type": "code",
   "execution_count": 27,
   "id": "local-democrat",
   "metadata": {},
   "outputs": [
    {
     "data": {
      "image/png": "[encoded data removed]",
      "text/plain": [
       "<Figure size 432x288 with 1 Axes>"
      ]
     },
     "metadata": {
      "needs_background": "light"
     },
     "output_type": "display_data"
    }
   ],
   "source": [
    "np.random.seed(1)\n",
    "sample = np.random.poisson(lam = 4, size = 1000)\n",
    "\n",
    "plt.hist(sample)\n",
    "plt.title('np.random.poisson(lam = 4, size = 1000)')\n",
    "plt.show()"
   ]
  },
  {
   "cell_type": "code",
   "execution_count": null,
   "id": "professional-governor",
   "metadata": {},
   "outputs": [],
   "source": []
  }
 ],
 "metadata": {
  "kernelspec": {
   "display_name": "Python 3",
   "language": "python",
   "name": "python3"
  },
  "language_info": {
   "codemirror_mode": {
    "name": "ipython",
    "version": 3
   },
   "file_extension": ".py",
   "mimetype": "text/x-python",
   "name": "python",
   "nbconvert_exporter": "python",
   "pygments_lexer": "ipython3",
   "version": "3.8.8"
  }
 },
 "nbformat": 4,
 "nbformat_minor": 5
}
