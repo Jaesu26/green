{
 "cells": [
  {
   "cell_type": "markdown",
   "id": "asian-novelty",
   "metadata": {},
   "source": [
    "# 확률 분포\n",
    "\n",
    "> \"작성 중\"\n",
    "\n",
    "- toc: true\n",
    "- branch: master\n",
    "- badges: true\n",
    "- comments: true\n",
    "- author: 한재수\n",
    "- categories: [python, statistics]"
   ]
  },
  {
   "cell_type": "markdown",
   "id": "passing-insider",
   "metadata": {},
   "source": [
    "`-` 2학기에 수리통계학 배움\n",
    "\n",
    "`-` 내용 추가 + 확률 밀도 함수 유도 과정 추가 + 증명 안하고 넘어갔던 부분 추가 예정\n",
    "\n",
    "`-` 만약 수리통계학에 없는 내용이라면? ---> . . . . . ."
   ]
  },
  {
   "cell_type": "markdown",
   "id": "surgical-murder",
   "metadata": {},
   "source": [
    "# 확률 분포란?"
   ]
  },
  {
   "cell_type": "markdown",
   "id": "orange-harvey",
   "metadata": {},
   "source": [
    "`-` 확률 분포(probability distribution)는 확률 변수가 특정한 값을 가질 확률을 나타내는 함수를 의미한다 --> 출처: [확률 분포](https://ko.wikipedia.org/wiki/%ED%99%95%EB%A5%A0_%EB%B6%84%ED%8F%AC)"
   ]
  },
  {
   "cell_type": "markdown",
   "id": "genuine-allocation",
   "metadata": {},
   "source": [
    "## 그렇다면 확률 변수란?"
   ]
  },
  {
   "cell_type": "markdown",
   "id": "still-dallas",
   "metadata": {},
   "source": [
    "`-` 확률변수(Random Variable)란 `무작위 실험`을 했을 때, `특정 확률`로 발생하는 각각의 결과를 `수치`로 표현한 변수\n",
    "\n",
    "`-` `무작위 실험` --> 동전 던지기\n",
    "\n",
    "`-` `특정 확률` --> 앞면이 나올 확률 $\\frac{1}{2}$, 뒷면이 나올 확률 $\\frac{1}{2}$\n",
    "\n",
    "`-` `수치` --> 앞면 = $1$, 뒷면 = $2$"
   ]
  },
  {
   "cell_type": "markdown",
   "id": "acknowledged-relations",
   "metadata": {},
   "source": [
    "# 연속 확률 분포\n",
    "\n",
    "`-` 연속 확률 변수가 가지는 확률 분포\n",
    "\n",
    "`-` 이산 확률 변수는 확률을 $[\\star]P(X=x)[\\star]$와 같이 표현 가능, 연속 확률 변수는 불가능\n",
    "\n",
    "`-` 연속 확률 변수는 확률을 $[\\star]P(A\\leq X\\leq B)[\\star]$로 표현 가능"
   ]
  },
  {
   "cell_type": "markdown",
   "id": "derived-parking",
   "metadata": {},
   "source": [
    "## 정규분포"
   ]
  },
  {
   "cell_type": "markdown",
   "id": "third-seeking",
   "metadata": {},
   "source": [
    "`-` 정규 분포는 수집된 자료의 분포를 근사하는 데에 자주 사용됨\n",
    "\n",
    "`-` 중심극한정리에 의하여 독립적인 확률변수들의 평균은 정규 분포에 가까워지는 성질이 있기 때문임\n",
    "\n",
    "`-` 신뢰구간이나 가설검정 등의 모델에서 사용\n",
    "\n",
    "`-` 기호로는 $N \\sim (\\mu, \\sigma^{2})$\n",
    "\n",
    "`-` 정규분포의 기댓값, 중앙값, 최빈값은 $\\mu$, 분산은 $\\sigma^{2}$ \n",
    "\n",
    "`-` 표준정규분포는 평균이 0, 표준편차가 1인 경우임 --> $N \\sim (0, 1)$\n",
    "\n",
    "`-` 정규분포에서 $\\mu\\pm2\\sigma$에 전체 데이터 중 $95\\%$가 존재"
   ]
  },
  {
   "cell_type": "markdown",
   "id": "nutritional-possible",
   "metadata": {},
   "source": [
    "### 표준화 "
   ]
  },
  {
   "cell_type": "markdown",
   "id": "running-division",
   "metadata": {},
   "source": [
    "`-` 정규 분포 밀도 함수에서 $Z =$ <big>$\\frac{X - \\mu}{\\sigma}$</big> 를 통해 $X$(원점수)를 $Z$($z$점수) 표준화하여 표준정규분포(z-분포)를 얻을 수 있다"
   ]
  },
  {
   "cell_type": "markdown",
   "id": "collaborative-undergraduate",
   "metadata": {},
   "source": [
    "### 정규분포의 확률 밀도 함수(PDF)"
   ]
  },
  {
   "cell_type": "markdown",
   "id": "emotional-valuable",
   "metadata": {},
   "source": [
    "$f(x) = \\frac{1}{\\sqrt{2\\pi\\sigma^{2}}}e^{-\\frac{(x-m)^{2}}{2\\sigma^{2}}}$"
   ]
  },
  {
   "cell_type": "markdown",
   "id": "diverse-black",
   "metadata": {},
   "source": [
    "### 정규분포 plot "
   ]
  },
  {
   "cell_type": "markdown",
   "id": "grateful-milton",
   "metadata": {},
   "source": [
    "```python\n",
    "import numpy as np\n",
    "\n",
    "np.random.normal(loc, scale, size)\n",
    "```\n",
    "\n",
    "`-` loc는 평균, scale은 표준편차, size는 표본의 수\n",
    "\n",
    "```python\n",
    "np.random.normal(loc = 0, scale = 1, size = 1000)\n",
    "```"
   ]
  },
  {
   "cell_type": "markdown",
   "id": "failing-proxy",
   "metadata": {},
   "source": [
    "`-` `np.random.normal(loc = 0, scale = 1, size = 1000)`을 히스토그램으로 나타내면?"
   ]
  },
  {
   "cell_type": "code",
   "execution_count": 1,
   "id": "improved-superior",
   "metadata": {},
   "outputs": [
    {
     "data": {
      "image/png": "[encoded data removed]",
      "text/plain": [
       "<Figure size 432x288 with 1 Axes>"
      ]
     },
     "metadata": {
      "needs_background": "light"
     },
     "output_type": "display_data"
    }
   ],
   "source": [
    "import numpy as np\n",
    "import matplotlib.pyplot as plt\n",
    "\n",
    "np.random.seed(1)\n",
    "sample = np.random.normal(loc = 0, scale = 1, size = 1000)\n",
    "\n",
    "plt.hist(sample)\n",
    "plt.title('np.random.normal(loc = 0, scale = 1, size = 1000)')\n",
    "plt.show()"
   ]
  },
  {
   "cell_type": "markdown",
   "id": "molecular-seafood",
   "metadata": {},
   "source": [
    "## 균일 분포"
   ]
  },
  {
   "cell_type": "markdown",
   "id": "discrete-hurricane",
   "metadata": {},
   "source": [
    "`-` 모든 확률 변수에 대하여 구간 내에서 `균일한 확률`을 가짐\n",
    "\n",
    "`-` 임의의 구간 내에서 균일한 확률을 가지기에 난수 생성기로 쓰임\n",
    "\n",
    "`-` 이산 확률 변수에서도 가능"
   ]
  },
  {
   "cell_type": "markdown",
   "id": "registered-democracy",
   "metadata": {},
   "source": [
    "### 균일 분포의 확률 밀도 함수"
   ]
  },
  {
   "cell_type": "markdown",
   "id": "gorgeous-negotiation",
   "metadata": {},
   "source": [
    "$f(x) = \\begin{cases}\n",
    "\\frac{1}{b-a} & \\text{for $x \\in [a,b]$}\\\\\n",
    "0 & \\text{otherwise}\n",
    "\\end{cases}\n",
    "$"
   ]
  },
  {
   "cell_type": "markdown",
   "id": "beginning-medication",
   "metadata": {},
   "source": [
    "`-` $f(x)$는 구간 $[a,b]$에서 균등한 확률을 가짐 "
   ]
  },
  {
   "cell_type": "markdown",
   "id": "dietary-nursing",
   "metadata": {},
   "source": [
    "### 균일 분포의 기댓값과 분산"
   ]
  },
  {
   "cell_type": "markdown",
   "id": "tropical-meeting",
   "metadata": {},
   "source": [
    "`-` $E(X) = \\frac{a+b}{2}$\n",
    "\n",
    "`-` $Var(X) = \\frac{(b-a)^{2}}{12}$"
   ]
  },
  {
   "cell_type": "markdown",
   "id": "elementary-fighter",
   "metadata": {},
   "source": [
    "### 균일 분포 plot"
   ]
  },
  {
   "cell_type": "markdown",
   "id": "brutal-karaoke",
   "metadata": {},
   "source": [
    "```python\n",
    "import numpy as np\n",
    "\n",
    "np.random.uniform(low, high, size)\n",
    "```\n",
    "\n",
    "`-` low는 출력값의 최소 경계, high은 출력값의 최대 경계, size는 표본의 수\n",
    "\n",
    "```python\n",
    "np.random.uniform(low = 0, high = 1, size = 1000)\n",
    "```"
   ]
  },
  {
   "cell_type": "markdown",
   "id": "alternative-generator",
   "metadata": {},
   "source": [
    "`-` `np.random.uniform(low = 0, high = 1, size = 1000)`을 히스토그램으로 나타내면?"
   ]
  },
  {
   "cell_type": "code",
   "execution_count": 4,
   "id": "violent-bulgarian",
   "metadata": {},
   "outputs": [
    {
     "data": {
      "image/png": "[encoded data removed]",
      "text/plain": [
       "<Figure size 432x288 with 1 Axes>"
      ]
     },
     "metadata": {
      "needs_background": "light"
     },
     "output_type": "display_data"
    }
   ],
   "source": [
    "import numpy as np\n",
    "import matplotlib.pyplot as plt\n",
    "\n",
    "np.random.seed(1)\n",
    "sample = np.random.uniform(low = 0, high = 1, size = 1000)\n",
    "\n",
    "plt.hist(sample)\n",
    "plt.title('np.random.normal(loc = 0, scale = 1, size = 1000)')\n",
    "plt.show()"
   ]
  },
  {
   "cell_type": "markdown",
   "id": "standard-drink",
   "metadata": {},
   "source": [
    "## 카이제곱 분포($x^2$분포)"
   ]
  },
  {
   "cell_type": "markdown",
   "id": "elect-medline",
   "metadata": {},
   "source": [
    "`-` $k$개의 `서로 독립`인 `표준 정규 확률변수`를 `각각 제곱`하여 합해 얻어진 분포\n",
    "\n",
    "`-` 이때 $k$는 자유도이며 카이제곱 분포의 매개변수\n",
    "\n",
    "`-` 분산의 퍼진 정도를 분포로 보여줌\n",
    "\n",
    "`-` 모분산을 구하거나 적합도 검정, 독립성/동질성 검정 등의 모델에서 사용\n",
    "\n",
    "`-` $k$개의 독립적이고 표준정규분포를 따르는 확률변수 $Z_1,\\dots,Z_k$가 있을 때 자유도 $k$의 카이제곱 분포는 \n",
    "\n",
    "`-` 확률변수 $Q = \\sum^{k}_{i=1}Z{_i}{^2}$의 분포임\n",
    "\n",
    "`-` 따라서 $Q \\sim X{_k}{^i}$\n",
    "\n",
    "`-` 참고: [카이제곱 분포](https://ko.wikipedia.org/wiki/%EC%B9%B4%EC%9D%B4%EC%A0%9C%EA%B3%B1_%EB%B6%84%ED%8F%AC)"
   ]
  },
  {
   "cell_type": "markdown",
   "id": "ideal-livestock",
   "metadata": {},
   "source": [
    "### 카이제곱 분포의 확률 밀도 함수"
   ]
  },
  {
   "cell_type": "markdown",
   "id": "handy-privilege",
   "metadata": {},
   "source": [
    "$f(x; k) = \\frac{1}{2^\\frac{k}{2}\\Gamma(\\frac{k}{2})}x^{\\frac{k}{2}-1}e^{-\\frac{x}{2}}$"
   ]
  },
  {
   "cell_type": "markdown",
   "id": "capital-aerospace",
   "metadata": {},
   "source": [
    "`-` $\\Gamma(\\frac{k}{2})$는 감마함수이다"
   ]
  },
  {
   "cell_type": "markdown",
   "id": "developing-terminology",
   "metadata": {},
   "source": [
    "### 카이제곱 분포의 기댓값과 분산\n",
    "`-` $E(X) = k$\n",
    "\n",
    "`-` $Var(X) = 2k$"
   ]
  },
  {
   "cell_type": "markdown",
   "id": "conservative-large",
   "metadata": {},
   "source": [
    "### 카이제곱 분포 plot "
   ]
  },
  {
   "cell_type": "markdown",
   "id": "overall-fossil",
   "metadata": {},
   "source": [
    "```python\n",
    "import numpy as np\n",
    "\n",
    "np.random.chisquare(df, size)\n",
    "```\n",
    "\n",
    "`-` df는 자유도, size는 표본의 수\n",
    "\n",
    "```python\n",
    "np.random.chisquare(df = 10, size = 1000)\n",
    "```"
   ]
  },
  {
   "cell_type": "markdown",
   "id": "bored-manner",
   "metadata": {},
   "source": [
    "`-` `np.random.chisquare(df = 10, size = 1000)`를 히스토그램으로 나타내면?"
   ]
  },
  {
   "cell_type": "code",
   "execution_count": 7,
   "id": "piano-banking",
   "metadata": {},
   "outputs": [
    {
     "data": {
      "image/png": "[encoded data removed]",
      "text/plain": [
       "<Figure size 432x288 with 1 Axes>"
      ]
     },
     "metadata": {
      "needs_background": "light"
     },
     "output_type": "display_data"
    }
   ],
   "source": [
    "import numpy as np\n",
    "import matplotlib.pyplot as plt\n",
    "\n",
    "np.random.seed(1)\n",
    "sample = np.random.chisquare(df = 10, size = 1000)\n",
    "\n",
    "plt.hist(sample)\n",
    "plt.title('np.random.chisquare(df = 10, size = 1000)')\n",
    "plt.show()"
   ]
  },
  {
   "cell_type": "markdown",
   "id": "gentle-rebel",
   "metadata": {},
   "source": [
    "`-` `자유도(df)`를 바꿔볼까?\n",
    "\n",
    "`-` `df = 5`"
   ]
  },
  {
   "cell_type": "code",
   "execution_count": 9,
   "id": "caring-piano",
   "metadata": {},
   "outputs": [
    {
     "data": {
      "image/png": "[encoded data removed]",
      "text/plain": [
       "<Figure size 432x288 with 1 Axes>"
      ]
     },
     "metadata": {
      "needs_background": "light"
     },
     "output_type": "display_data"
    }
   ],
   "source": [
    "np.random.seed(1)\n",
    "sample = np.random.chisquare(df = 5, size = 1000)\n",
    "\n",
    "plt.hist(sample)\n",
    "plt.title('np.random.chisquare(df = 5 , size = 1000)')\n",
    "plt.show()"
   ]
  },
  {
   "cell_type": "markdown",
   "id": "induced-liberia",
   "metadata": {},
   "source": [
    "`-` `df = 1`\n",
    "\n",
    "`-` 표준정규분포의 제곱은 자유도가 1인 카이제곱 분포를 따름\n",
    "\n",
    "`-` $V = (\\frac{X-\\mu}{\\sigma})^{2} \\sim X^{2}(1)$\n",
    "    \n",
    "`-` 표본을 10000개 뽑아 둘을 비교해보자!    "
   ]
  },
  {
   "cell_type": "code",
   "execution_count": 15,
   "id": "educated-vault",
   "metadata": {},
   "outputs": [
    {
     "data": {
      "image/png": "[encoded data removed]",
      "text/plain": [
       "<Figure size 432x288 with 1 Axes>"
      ]
     },
     "metadata": {
      "needs_background": "light"
     },
     "output_type": "display_data"
    }
   ],
   "source": [
    "np.random.seed(2)\n",
    "sample = np.random.chisquare(df = 1, size = 10000)\n",
    "\n",
    "plt.hist(sample)\n",
    "plt.title('np.random.chisquare(df = 1 , size = 10000)')\n",
    "plt.show()"
   ]
  },
  {
   "cell_type": "code",
   "execution_count": 14,
   "id": "automated-tract",
   "metadata": {},
   "outputs": [
    {
     "data": {
      "image/png": "[encoded data removed]",
      "text/plain": [
       "<Figure size 432x288 with 1 Axes>"
      ]
     },
     "metadata": {
      "needs_background": "light"
     },
     "output_type": "display_data"
    }
   ],
   "source": [
    "np.random.seed(2)\n",
    "sample = np.random.normal(loc = 0, scale = 1, size = 10000)\n",
    "sample = sample**2\n",
    "\n",
    "plt.hist(sample)\n",
    "plt.title('square of a standard normal distribution')\n",
    "plt.show()"
   ]
  },
  {
   "cell_type": "markdown",
   "id": "judicial-budget",
   "metadata": {},
   "source": [
    "`-` 두 분포가 거의 동일하다\n",
    "\n",
    "`-` `표준정규분포의 제곱`은 `자유도가 1인 카이제곱 분포`를 따른다는 것을 확인할 수 있다"
   ]
  },
  {
   "cell_type": "markdown",
   "id": "prime-alfred",
   "metadata": {},
   "source": [
    "## 지수 분포\n",
    "`-` 사건이 서로 독립적일 때, 일정 시간동안 발생하는 사건의 횟수가 포아송 분포를 따른다면, 다음 사건이 일어날 때까지 대기 시간은 지수분포를 따른다([지수 분포](https://ko.wikipedia.org/wiki/%EC%A7%80%EC%88%98_%EB%B6%84%ED%8F%AC))\n",
    "\n",
    "`-` 기하 분포에서 베르누이 시행 횟수$n$이 많아지고 성공 확률 $p$가 작아지면 지수 분포로 수렴\n",
    "\n",
    "`-` 감마 분포에서 $\\alpha = 1$일 때의 특수한 경우임(감마 분포 참고)"
   ]
  },
  {
   "cell_type": "markdown",
   "id": "metallic-spencer",
   "metadata": {},
   "source": [
    "### 지수 분포의 무기억성\n",
    "`-` 기하 분포의 무기억성과 같은 내용임\n",
    "\n",
    "`-` $P(A|B)$ --> 사건 B가 발생한 상황에서 사건 A가 발생할 확률\n",
    "\n",
    "`-` $P(X>s+t|X>t) = P(X>s)$\n",
    "\n",
    "`-` 핸드폰의 고장률이 지수 분포를 따른다면 내가 핸드폰을 처음 구매하고 1년안에 고장날 확률 = 핸드폰을 5년 사용한 시점에서 1년 안에 고장날 확률  \n",
    "\n",
    "`-` 물론 현실은 핸드폰을 5년 사용한 후에 고장날 확률이 더 크다\n",
    "\n",
    "`-` 지수 분포는 무기억 성질을 갖는 유일한 연속 확률 분포"
   ]
  },
  {
   "cell_type": "markdown",
   "id": "biological-confidence",
   "metadata": {},
   "source": [
    "### 지수 분포의 확률 밀도 함수 "
   ]
  },
  {
   "cell_type": "markdown",
   "id": "dress-praise",
   "metadata": {},
   "source": [
    "$f(x; \\beta) = \\frac{1}{\\beta}e^{-\\frac{x}{\\beta}},\\; x > 0$"
   ]
  },
  {
   "cell_type": "markdown",
   "id": "expanded-ghost",
   "metadata": {},
   "source": [
    "`-` 위의 확률 밀도 함수는 감마 분포의 확률 밀도 함수에서 $\\alpha = 1$을 대입한 결과이다\n",
    "\n",
    "`-` 여기서 $\\beta$는 사건 사이의 평균 시간인데 포아송 분포의 모수인 $\\lambda$는 단위 시간당 사건의 평균 발생 횟수이다\n",
    "\n",
    "`-` 위의 지수 분포 설명에서 사건의 횟수가 포아송 분포를 따를 때를 전제로 대기 시간은 지수 분포를 따른다고 했다\n",
    "\n",
    "`-` 그렇기에 여기서는 위의 확률 밀도 함수 대신 포아송 분포의 모수인 $\\lambda = \\frac{1}{\\beta}$ 를 통해 지수 분포의 확률 밀도 함수를 나타내기로 함\n",
    "\n",
    "`-` 위아래 확률 밀도 함수 둘 다 맞는 표현임, 그런데 numpy.random.exponential이 위의 확률 밀도 함수를 사용하므로 위의 확률 밀도 함수를 기억하는 것이 좋을 것 같음"
   ]
  },
  {
   "cell_type": "markdown",
   "id": "dated-dating",
   "metadata": {},
   "source": [
    "$f(x; \\lambda) = \\lambda e^{-\\lambda x}, \\; x>0$"
   ]
  },
  {
   "cell_type": "markdown",
   "id": "exact-allah",
   "metadata": {},
   "source": [
    "### 지수 분포의 기댓값과 분산\n",
    "`-` $E(X) = \\frac{1}{\\lambda}$\n",
    "\n",
    "`-` $Var(X) = \\frac{1}{\\lambda^{2}}$"
   ]
  },
  {
   "cell_type": "markdown",
   "id": "synthetic-delaware",
   "metadata": {},
   "source": [
    "`-` 기댓값은 어찌보면 당연한데 단위 시간 동안 사건이 $\\lambda$번 발생한다면 대기 시간은 $\\frac{1}{\\lambda}$여야 $\\lambda \\times \\frac{1}{\\lambda} = 1\\text{(단위 시간)}$이 성립한다"
   ]
  },
  {
   "cell_type": "markdown",
   "id": "bored-offense",
   "metadata": {},
   "source": [
    "### 지수 분포 plot"
   ]
  },
  {
   "cell_type": "markdown",
   "id": "residential-vietnamese",
   "metadata": {},
   "source": [
    "`-` 사건이 발생하고 다음 사건이 발생하기 까지의 대기 시간에 대한 확률 분포\n",
    "\n",
    "`-` numpy.random.exponential의 확률 밀도 함수는 $f(x; \\beta) = \\frac{1}{\\beta}e^{-\\frac{x}{\\beta}},\\; x > 0$임 ([numpy 지수 함수](https://numpy.org/doc/stable/reference/random/generated/numpy.random.exponential.html))\n",
    "```python\n",
    "import numpy as np\n",
    "\n",
    "np.random.exponential(scale, size)\n",
    "```\n",
    "\n",
    "`-` scale은 $\\beta$ = 대기 시간, size는 표본의 수\n",
    "\n",
    "```python\n",
    "np.random.exponential(scale = 2, size = 1000)\n",
    "```\n",
    "`-` 우리 집 앞에서 1시간당 평균 0.5명이 넘어진다 --> $\\lambda\\text{(사건의 빈도)} = 0.5$이므로 대기 시간 $\\beta\\text{(대기 시간)} = 2$ \n",
    "\n",
    "`-` 다시말하면 우리 집 앞에서 한 명이 넘어지고 다음 사람이 넘어지기 까지 2시간이 걸린다\n",
    "\n",
    "`-` 이때 한 사람이 넘어지고 다음 사람이 넘어지기 까지 걸리는 대기 시간에 대한 분포를 그려보자"
   ]
  },
  {
   "cell_type": "markdown",
   "id": "dynamic-client",
   "metadata": {},
   "source": [
    "`-` `np.random.exponential(scale = 2, size = 1000)`를 히스토그램으로 나타내보면?"
   ]
  },
  {
   "cell_type": "code",
   "execution_count": 2,
   "id": "endless-ground",
   "metadata": {},
   "outputs": [
    {
     "data": {
      "image/png": "[encoded data removed]",
      "text/plain": [
       "<Figure size 432x288 with 1 Axes>"
      ]
     },
     "metadata": {
      "needs_background": "light"
     },
     "output_type": "display_data"
    }
   ],
   "source": [
    "import numpy as np\n",
    "import matplotlib.pyplot as plt\n",
    "\n",
    "np.random.seed(1)\n",
    "sample = np.random.exponential(scale = 2, size = 1000)\n",
    "\n",
    "plt.hist(sample)\n",
    "plt.title('np.random.exponential(scale = 2, size = 1000)')\n",
    "plt.show()"
   ]
  },
  {
   "cell_type": "markdown",
   "id": "oriented-third",
   "metadata": {},
   "source": [
    "## 감마 분포\n",
    "`-` 감마 분포는 지수 분포나 푸아송 분포 등의 매개변수에 대한 켤레 사전 확률 분포\n",
    "\n",
    "`-` 이에 따라 베이즈 확률론에서 사전 확률 분포로 사용\n",
    "\n",
    "`-` $\\alpha$개의 사건이 일어날 때까지 걸리는 대기 시간에 대한 분포\n",
    "\n",
    "`-` 지수 분포를 한 번의 사건이 아닌 여러 개의 사건으로 확장\n",
    "\n",
    "`-` 지수 분포의 모수가$\\beta$ --> $\\beta$ = 사건 사이의 평균 시간\n",
    "\n",
    "`-` 모수가 $\\beta$인 지수 분포를 따르는 확률 변수 X가 $\\alpha$개가 있고 각 확률 변수 X는 i.i.d를 따름 --> 이 확률 변수의 합은 모수가 $\\alpha, \\beta$인 감마 분포를 따름\n",
    "\n",
    "`-` 참고: [감마 분포](https://ko.wikipedia.org/wiki/%EA%B0%90%EB%A7%88_%EB%B6%84%ED%8F%AC)"
   ]
  },
  {
   "cell_type": "markdown",
   "id": "precious-clone",
   "metadata": {},
   "source": [
    "### 감마함수(Gamma Function)\n",
    "`-` 복소수 범위까지 일반화 된 팩토리얼(!)"
   ]
  },
  {
   "cell_type": "markdown",
   "id": "dependent-benjamin",
   "metadata": {},
   "source": [
    "$\\Gamma(\\alpha) = \\int_{0}^{\\infty}x^{\\alpha-1}e^{-x}dx,\\,\\alpha \\geq 0$"
   ]
  },
  {
   "cell_type": "markdown",
   "id": "absent-budget",
   "metadata": {},
   "source": [
    "#### 감마함수 성질"
   ]
  },
  {
   "cell_type": "markdown",
   "id": "stupid-animation",
   "metadata": {},
   "source": [
    "`-` $\\Gamma(\\alpha+1) = \\alpha\\Gamma(\\alpha)$\n",
    "\n",
    "`-` $\\Gamma(n) = (n-1)!,\\, n \\in \\mathbb{N}$\n",
    "\n",
    "`-` $\\Gamma(\\frac{1}{2}) = \\sqrt{\\pi}$"
   ]
  },
  {
   "cell_type": "markdown",
   "id": "norwegian-castle",
   "metadata": {},
   "source": [
    "### 감마 분포의 확률 밀도 함수"
   ]
  },
  {
   "cell_type": "markdown",
   "id": "demonstrated-width",
   "metadata": {},
   "source": [
    "$f(x; \\alpha,\\beta) = \\frac{1}{\\beta^{\\alpha}\\Gamma(\\alpha)}x^{\\alpha - 1}e^{-\\frac{x}{\\beta}},(x,\\alpha, \\beta \\geq 0)$"
   ]
  },
  {
   "cell_type": "markdown",
   "id": "precious-carnival",
   "metadata": {},
   "source": [
    "`-` 확률 변수 $X$가 감마 분포를 따른 다면 $X \\sim Gamma(\\alpha,\\beta)$\n",
    "\n",
    "`-` 발생하기 까지의 평균$\\beta = \\frac{1}{\\lambda}$의 시간이 소요되는 어떤 사건이 $\\alpha$번 발생하는데 걸리는 시간 $X$에 대한 확률 분포\n",
    "\n",
    "`-` $\\lambda$는 포아송 분포의 모수로 단위 시간당 사건의 평균 발생 횟수\n",
    "\n",
    "`-` $\\alpha = 1$일 때 $\\lambda = \\frac{1}{\\beta}$인 지수 분포를 따름\n",
    "\n",
    "`-` $X\\sim Gamma(1,\\beta) \\Leftrightarrow exp(\\frac{1}{\\beta})$"
   ]
  },
  {
   "cell_type": "markdown",
   "id": "pretty-swedish",
   "metadata": {},
   "source": [
    "### 감마 분포의 기댓값과 분산 "
   ]
  },
  {
   "cell_type": "markdown",
   "id": "charged-spouse",
   "metadata": {},
   "source": [
    "`-` $E(X) = \\alpha\\beta$\n",
    "\n",
    "`-` $Var(X) = \\alpha\\beta^{2}$"
   ]
  },
  {
   "cell_type": "markdown",
   "id": "geographic-jewel",
   "metadata": {},
   "source": [
    "### 감마 분포 plot "
   ]
  },
  {
   "cell_type": "markdown",
   "id": "pregnant-identifier",
   "metadata": {},
   "source": [
    "`-` $\\alpha$는 형태 모수(shape parameter), $\\beta$는 척도 모수(scale parameter)\n",
    "\n",
    "`-` 사건이 발생하고 다음 사건이 발생하기 까지의 평균 대기 시간이 $\\beta$일 때 $\\alpha$번의 사건이 발생하는데 걸리는 시간에 대한 확률 분포\n",
    "```python\n",
    "import numpy as np\n",
    "\n",
    "np.random.gamma(shape, scale, size)\n",
    "```\n",
    "\n",
    "`-` shape는 $\\alpha$, scale은$\\beta$, size는 표본의 수\n",
    "\n",
    "```python\n",
    "np.random.gamma(shape = 2, scale = 2, size = 1000)\n",
    "```\n",
    "`-` 우리 집 앞에서 1시간당 평균 0.5명이 넘어진다 --> $\\lambda = 0.5$이므로 $\\beta = 2$ \n",
    "\n",
    "`-` 다시말하면 우리 집 앞에서 한 명이 넘어지고 다음 사람이 넘어지기 까지 평균 2시간이 걸린다\n",
    "\n",
    "`-` 이때 2명의 사람이 넘어지기 까지 걸리는 시간에 대한 분포를 그려보자"
   ]
  },
  {
   "cell_type": "markdown",
   "id": "alike-measure",
   "metadata": {},
   "source": [
    "`-` `np.random.gamma(shape = 2, scale = 2, size = 1000)`를 히스토그램으로 나타내보면?"
   ]
  },
  {
   "cell_type": "code",
   "execution_count": 1,
   "id": "killing-particle",
   "metadata": {},
   "outputs": [
    {
     "data": {
      "image/png": "[encoded data removed]",
      "text/plain": [
       "<Figure size 432x288 with 1 Axes>"
      ]
     },
     "metadata": {
      "needs_background": "light"
     },
     "output_type": "display_data"
    }
   ],
   "source": [
    "import numpy as np\n",
    "import matplotlib.pyplot as plt\n",
    "\n",
    "np.random.seed(1)\n",
    "sample = np.random.gamma(shape = 2, scale = 2, size = 1000)\n",
    "\n",
    "plt.hist(sample)\n",
    "plt.title('np.random.gamma(shape = 2, scale = 2, size = 1000)')\n",
    "plt.show()"
   ]
  },
  {
   "cell_type": "markdown",
   "id": "conceptual-treat",
   "metadata": {},
   "source": [
    "`-` 위에서 지수 분포는 감마 분포에서 $\\alpha = 1$인 특수한 경우라고 했음\n",
    "\n",
    "`-` 진짜로 동일한지 $\\beta = 4$인 지수 분포와 $\\alpha = 1,\\beta = 4$인 감마 분포를 히스토그램을 그려 비교하자"
   ]
  },
  {
   "cell_type": "code",
   "execution_count": 12,
   "id": "bronze-turkish",
   "metadata": {},
   "outputs": [
    {
     "data": {
      "image/png": "[encoded data removed]",
      "text/plain": [
       "<Figure size 1008x288 with 2 Axes>"
      ]
     },
     "metadata": {
      "needs_background": "light"
     },
     "output_type": "display_data"
    }
   ],
   "source": [
    "np.random.seed(1)\n",
    "sample1 = np.random.gamma(shape = 1, scale = 4, size = 1000)\n",
    "sample2 = np.random.exponential(scale = 4, size = 1000)\n",
    "\n",
    "fig, ax = plt.subplots(1, 2, figsize = (14, 4))\n",
    "\n",
    "ax[0].hist(sample1)\n",
    "ax[1].hist(sample2)\n",
    "\n",
    "ax[0].set_title('np.random.gamma(shape = 2, scale = 4, size = 1000)')\n",
    "ax[1].set_title('np.random.exponential(scale = 4, size = 1000)')\n",
    "\n",
    "plt.show()"
   ]
  },
  {
   "cell_type": "markdown",
   "id": "departmental-process",
   "metadata": {},
   "source": [
    "`-` 히스토그램을 통해 비교하니 $\\alpha = 1$인 감마 분포는 지수 분포와 동일함을 알 수 있다"
   ]
  },
  {
   "cell_type": "markdown",
   "id": "comparative-fossil",
   "metadata": {},
   "source": [
    "### $\\alpha$와$\\beta$에 따른 감마 분포 모양"
   ]
  },
  {
   "cell_type": "markdown",
   "id": "transsexual-pricing",
   "metadata": {},
   "source": [
    "`-` $\\alpha$는 형태 모수로 $\\alpha$가 커질수록 그래프의 모양이 종모양에 가까워짐\n",
    "\n",
    "`-` $\\beta$는 척도 모수로 $\\beta$가 커질수록 그래프가 퍼짐"
   ]
  },
  {
   "cell_type": "markdown",
   "id": "working-variable",
   "metadata": {},
   "source": [
    "`-` shape는 $\\alpha$, scale은 $\\beta$, loc은 위치 매개변수\n",
    "\n",
    "`-` [scipy.stats.gamma 참고](https://het.as.utexas.edu/HET/Software/Scipy/generated/scipy.stats.gamma.html)"
   ]
  },
  {
   "cell_type": "markdown",
   "id": "shaped-homeless",
   "metadata": {},
   "source": [
    "#### $\\alpha$ 변화 $\\beta$ 고정\n",
    "`-` $\\alpha$(사건 발생 횟수)가 커질수록 그래프가 종모양에 가까워짐"
   ]
  },
  {
   "cell_type": "code",
   "execution_count": 27,
   "id": "finnish-surface",
   "metadata": {},
   "outputs": [
    {
     "data": {
      "image/png": "[encoded data removed]",
      "text/plain": [
       "<Figure size 1008x504 with 1 Axes>"
      ]
     },
     "metadata": {
      "needs_background": "light"
     },
     "output_type": "display_data"
    }
   ],
   "source": [
    "import numpy as np\n",
    "import matplotlib.pyplot as plt\n",
    "from scipy.stats import gamma\n",
    "\n",
    "loc = 0\n",
    "scale = 0.5\n",
    "\n",
    "x = np.linspace(0, 12, 1000)\n",
    "\n",
    "plt.figure(figsize = (14, 7)) \n",
    "\n",
    "for shape in np.arange(2, 11, 2):\n",
    "    plt.plot(x, gamma(shape, loc, scale).pdf(x), label = 'α = ' + str(shape))\n",
    "\n",
    "plt.title(\"Gamma distribution(α = 2, 4, 6, 8, 10, β = 0.5)\")\n",
    "plt.xlabel(\"$x$\")\n",
    "plt.ylabel(\"$f(x)$\")\n",
    "plt.grid()\n",
    "plt.legend()\n",
    "plt.show()"
   ]
  },
  {
   "cell_type": "markdown",
   "id": "expected-paragraph",
   "metadata": {},
   "source": [
    "#### $\\alpha$ 고정 $\\beta$ 변화\n",
    "`-` $\\beta$(대기 시간)가 커질수록 그래프가 넓게 퍼짐"
   ]
  },
  {
   "cell_type": "code",
   "execution_count": 28,
   "id": "charming-registrar",
   "metadata": {},
   "outputs": [
    {
     "data": {
      "image/png": "[encoded data removed]",
      "text/plain": [
       "<Figure size 1008x504 with 1 Axes>"
      ]
     },
     "metadata": {
      "needs_background": "light"
     },
     "output_type": "display_data"
    }
   ],
   "source": [
    "loc = 0\n",
    "shape = 3\n",
    "\n",
    "x = np.linspace(0, 16, 1000)\n",
    "\n",
    "plt.figure(figsize = (14, 7)) \n",
    "\n",
    "for scale in np.arange(0.4, 2.1, 0.4):\n",
    "    plt.plot(x, gamma(shape, loc, scale).pdf(x), label = 'β = ' + str(round(scale, 1)))\n",
    "\n",
    "plt.title(\"Gamma distribution(α = 3, β = 0.4, 0.8, 1.2, 1.6, 2.0)\")\n",
    "plt.xlabel(\"$x$\")\n",
    "plt.ylabel(\"$f(x)$\")\n",
    "plt.grid()\n",
    "plt.legend()\n",
    "plt.show()"
   ]
  },
  {
   "cell_type": "markdown",
   "id": "serious-algorithm",
   "metadata": {},
   "source": [
    "## t 분포\n",
    "`-` 표본평균$\\bar{X}$을 이용해 정규분포의 평균을 해석 --> 모집단이 정규분포를 따를 때\n",
    "\n",
    "`-` 표준화한 표본평균의 분포: 모표준편차를 알고 있음($\\frac{x-\\mu}{\\sqrt{\\frac{\\sigma}{n}}}$) --> 정규분포, 모표준편차를 모르고 표본표준편차를 알고 있음($\\frac{x-\\bar{x}}{\\sqrt{\\frac{s}{n}}}$) --> t분포\n",
    "\n",
    "`-` 다음의 확률 분포로 정의 --> $\\frac{Z}{\\sqrt{\\frac{V}{\\nu}}}$\n",
    "\n",
    "`-` $Z$는 표준정규분포, $V$는 자유도$\\nu$인 카이제곱 분포\n",
    "\n",
    "`-` `자유도`가 `커질수록` `표준정규분포`에 `가까워짐` (중심극한정리와 무관) --> 보통 표본 크기 $n\\geq30$이면 표준정규분포와 가깝다고 한다\n",
    "\n",
    "`-` [$\\star$]표본크기가 커지면 표준정규분포에 가까워짐[$\\star$] --> 표본 크기가 커진다는 것은 모집단에 가까워진다는 의미이므로 표본표준편차도 모표준편차에 가까워짐\n",
    "\n",
    "`-` 참고: [t분포](https://ko.wikipedia.org/wiki/%EC%8A%A4%ED%8A%9C%EB%8D%98%ED%8A%B8_t_%EB%B6%84%ED%8F%AC)"
   ]
  },
  {
   "cell_type": "markdown",
   "id": "caroline-excellence",
   "metadata": {},
   "source": [
    "### t 분포의 확률 밀도 함수 "
   ]
  },
  {
   "cell_type": "markdown",
   "id": "married-teens",
   "metadata": {},
   "source": [
    "$f(x) = \\frac{\\Gamma(\\frac{\\nu + 1}{2})}{\\sqrt{\\nu\\pi}\\Gamma(\\frac{\\nu}{2})}(1+\\frac{x^2}{\\nu})^{-(\\frac{\\nu+1}{2})}$"
   ]
  },
  {
   "cell_type": "markdown",
   "id": "forward-gateway",
   "metadata": {},
   "source": [
    "### t 분포의 기댓값과 분산 "
   ]
  },
  {
   "cell_type": "markdown",
   "id": "interesting-budget",
   "metadata": {},
   "source": [
    "`-` $E(X) = 0,\\; \\nu > 1$\n",
    "\n",
    "`-` $Var(X) = \\frac{\\nu}{\\nu-2}\\,(\\nu>2),\\;\\infty\\,(1<v\\leq2)$"
   ]
  },
  {
   "cell_type": "markdown",
   "id": "tamil-algebra",
   "metadata": {},
   "source": [
    "### t 분포 plot "
   ]
  },
  {
   "cell_type": "markdown",
   "id": "future-fever",
   "metadata": {},
   "source": [
    "```python\n",
    "import numpy as np\n",
    "np.random.standard_t(df, size)\n",
    "```\n",
    "`-` df는 자유도, size는 표본의 수\n",
    "```python\n",
    "np.random.standard_t(df = 5, size = 1000)\n",
    "```\n",
    "`-` `np.random.standard_t(df = 5, size = 1000)`를 히스토그램으로 나타내보면?"
   ]
  },
  {
   "cell_type": "code",
   "execution_count": 3,
   "id": "daily-compatibility",
   "metadata": {},
   "outputs": [
    {
     "data": {
      "image/png": "[encoded data removed]",
      "text/plain": [
       "<Figure size 432x288 with 1 Axes>"
      ]
     },
     "metadata": {
      "needs_background": "light"
     },
     "output_type": "display_data"
    }
   ],
   "source": [
    "import numpy as np\n",
    "import matplotlib.pyplot as plt\n",
    "\n",
    "np.random.seed(1)\n",
    "sample = np.random.standard_t(df = 5, size = 1000)\n",
    "\n",
    "plt.hist(sample)\n",
    "plt.title('np.random.standard_t(df = 5, size = 1000)')\n",
    "plt.show()"
   ]
  },
  {
   "cell_type": "markdown",
   "id": "experimental-direction",
   "metadata": {},
   "source": [
    "`-` $x = 0$을 기준으로 대칭임 \n",
    "\n",
    "`-` 자유도가 5이므로 표본 크기는 6\n",
    "\n",
    "`-` 모표준편차 대신 표본표준편차를 알고 표본 크기가 6일 때 표준화한 표본 평균($\\frac{x-\\bar{x}}{\\sqrt{\\frac{s}{n}}}$)에 대한 분포\n",
    "\n",
    "`-` t분포는 표준정규분포보다 꼬리 부근에 밀도가 높음 --> 모표준편차 대신 표본표준편차를 사용하기 때문 --> 표본의 특성상 추출할 때마다 다르므로 변동성이 있음"
   ]
  },
  {
   "cell_type": "markdown",
   "id": "excellent-intellectual",
   "metadata": {},
   "source": [
    "## F 분포"
   ]
  },
  {
   "cell_type": "markdown",
   "id": "bound-skill",
   "metadata": {},
   "source": [
    "`-` F 검정과 분산분석(ANOVA)등에서 주로 사용됨\n",
    "\n",
    "`-` 카이제곱 분포가 한 집단의 분산에 대해 다뤘다면 F 분포는 두 집단의 분산에 대해 다룸\n",
    "\n",
    "`-` 두 확률변수 $V_1, V_2$가 각각 자유도가 $\\nu_1,\\nu_2$이고 서로 독립인 카이제곱 분포를 따를 때 다음의 확률변수 F는 자유도가 ($\\nu_1,\\nu_2$)인 F-분포를 따름\n",
    "\n",
    "`-` 적률생성함수가 존재하지 않음\n",
    "\n",
    "`-` $F = \\frac{\\frac{V_1}{\\nu_1}}{\\frac{V_2}{\\nu_2}} \\sim F(\\nu_1,\\nu_2)$\n",
    "\n",
    "`-` 참고: [F 분포](https://ko.wikipedia.org/wiki/F_%EB%B6%84%ED%8F%AC)"
   ]
  },
  {
   "cell_type": "markdown",
   "id": "cubic-coverage",
   "metadata": {},
   "source": [
    "### F 분포 성질\n",
    "`-` 분자와 분모의 자유도가 뒤바뀐 F 분포 성질: $F_{\\nu_1,\\nu_2,\\alpha} = \\frac{1}{F_{\\nu_2,\\nu_1,\\alpha}}$\n",
    "\n",
    "`-` t 분포를 제곱하면 분자와 분모의 자유도가 각각 1, $\\nu$인 F분포가 된다\n",
    "\n",
    "`-` $t = \\frac{Z}{\\sqrt{\\frac{U}{\\nu}}} \\sim t_{\\nu}$"
   ]
  },
  {
   "cell_type": "markdown",
   "id": "covered-private",
   "metadata": {},
   "source": [
    "### F 분포의 확률 밀도 함수 "
   ]
  },
  {
   "cell_type": "markdown",
   "id": "protected-concern",
   "metadata": {},
   "source": [
    "$f(x) = \\frac{\\Gamma(\\frac{\\nu_1+\\nu_2}{2})(\\frac{\\nu_1}{\\nu_2})^{\\frac{\\nu_1}{2}}x^{\\frac{\\nu_1}{2}-1}}{\\Gamma(\\frac{\\nu_1}{2})\\Gamma(\\frac{\\nu_2}{2})(1+\\frac{\\nu_1}{\\nu_2}x)^{\\frac{\\nu_1+\\nu_2}{2}}}$"
   ]
  },
  {
   "cell_type": "markdown",
   "id": "dietary-twist",
   "metadata": {},
   "source": [
    "### F 분포의 기댓값과 분산"
   ]
  },
  {
   "cell_type": "markdown",
   "id": "clear-reality",
   "metadata": {},
   "source": [
    "`-` $E(X)=\\frac{\\nu_2}{\\nu_2-2},\\;\\nu_2>2$\n",
    "\n",
    "`-` $Var(X)=\\frac{2{\\nu_{2}}^{2}(\\nu_1+\\nu_2-2)}{\\nu_1(\\nu_2-2)^{2}(\\nu_2-4)}, \\; \\nu_2>4$"
   ]
  },
  {
   "cell_type": "markdown",
   "id": "wireless-guinea",
   "metadata": {},
   "source": [
    "### F 분포 plot"
   ]
  },
  {
   "cell_type": "markdown",
   "id": "rolled-strike",
   "metadata": {},
   "source": [
    "```python\n",
    "import numpy as np\n",
    "np.random.f(dfnum, dfden, size)\n",
    "```\n",
    "`-` dfnum은 분자의 자유도, dfden은 분모의 자유도, size는 표본의 수\n",
    "```python\n",
    "np.random.f(dfnum = 1, dfden = 10, size = 1000)\n",
    "```\n",
    "`-` `np.random.f(dfnum = 1, dfden = 5, size = 1000)`를 히스토그램으로 나타내보면?"
   ]
  },
  {
   "cell_type": "code",
   "execution_count": 4,
   "id": "applied-compound",
   "metadata": {},
   "outputs": [
    {
     "data": {
      "image/png": "[encoded data removed]",
      "text/plain": [
       "<Figure size 432x288 with 1 Axes>"
      ]
     },
     "metadata": {
      "needs_background": "light"
     },
     "output_type": "display_data"
    }
   ],
   "source": [
    "import numpy as np\n",
    "import matplotlib.pyplot as plt\n",
    "\n",
    "np.random.seed(1)\n",
    "sample = np.random.f(dfnum = 1, dfden = 10, size = 1000)\n",
    "\n",
    "plt.hist(sample)\n",
    "plt.title('np.random.f(dfnum = 1, dfden = 10, size = 1000)')\n",
    "plt.show()"
   ]
  },
  {
   "cell_type": "markdown",
   "id": "ideal-netherlands",
   "metadata": {},
   "source": [
    "## 베타 분포"
   ]
  },
  {
   "cell_type": "markdown",
   "id": "preliminary-shame",
   "metadata": {},
   "source": [
    "`-` 제한된 범위$[0, 1]$에서 확률적인 모델링에 적합함(ex: 비율)\n",
    "\n",
    "`-` 두개의 매개변수 $\\alpha, \\beta$에 따라 그래프의 모양이 다양함\n",
    "\n",
    "`-` 베타 분포는 확률에 대한 확률분포 --> 베이즈안 통계학에서 이항 분포의 켤레 사전 분포로 사용됨\n",
    "\n",
    "`-` 베이지안 방법 ---> 모수를 확률변수로 생각하여 사전 정보를 활용해 모수를 추정함\n",
    "\n",
    "`-` 이항 분포에서는 성공 확률 $p$가 고정이고 성공 횟수($n-x=$ 실패횟수)가 확률변수인데 베타 분포에서는 성공 횟수($\\alpha-1$)와 실패 횟수($\\beta-1$)이 고정이고 성공 확률이 확률변수임\n",
    "\n",
    "`-` 베타 분포에서 $\\alpha =1,\\beta=1$이면 균일분포와 동일함 ---> $\\alpha=1,\\beta=1$이면 성공 횟수와 실패 횟수 둘다$0$이므로 성공확률을 특정할 수 없어서 균일분포 모양을 띄움\n",
    "\n",
    "`-` 참고: [베타 분포](https://soohee410.github.io/beta_dist)"
   ]
  },
  {
   "cell_type": "markdown",
   "id": "steady-milton",
   "metadata": {},
   "source": [
    "### 베타 함수\n",
    "`-` 베타 분포의 확률 밀도 함수의 적분값을 1로 만드는 상수\n",
    "\n",
    "`-` 이항 계수를 실수범위까지 확장한 것\n",
    "\n",
    "$B(\\alpha, \\beta)= \\int_{0}^{1}x^{\\alpha -1}(1-x)^{\\beta - 1}dx = \\frac{\\Gamma(\\alpha)\\Gamma(\\beta)}{\\Gamma(\\alpha + \\beta)}$"
   ]
  },
  {
   "cell_type": "markdown",
   "id": "relative-fever",
   "metadata": {},
   "source": [
    "### 베타 분포의 확률 밀도 함수"
   ]
  },
  {
   "cell_type": "markdown",
   "id": "stretch-translation",
   "metadata": {},
   "source": [
    "$f(x)=\\frac{1}{B(\\alpha, \\beta)}x^{\\alpha-1}(1-x)^{\\beta-1}, \\quad 0\\leq x \\leq1, \\;(\\alpha , \\beta>0)$"
   ]
  },
  {
   "cell_type": "markdown",
   "id": "stone-interpretation",
   "metadata": {},
   "source": [
    "### 베타 분포의 기댓값과 분산"
   ]
  },
  {
   "cell_type": "markdown",
   "id": "stylish-yorkshire",
   "metadata": {},
   "source": [
    "`-` $E(X)=\\frac{\\alpha}{\\alpha + \\beta}$\n",
    "\n",
    "`-` $Var(X)=\\frac{\\alpha\\beta}{(\\alpha+\\beta)^{2}(\\alpha+\\beta+1)}$\n",
    "\n",
    "`-` $Arg\\; max \\;f(x) = \\frac{\\alpha-1}{\\alpha +\\beta - 2},\\; (\\alpha, \\beta > 1)$\n",
    "\n",
    "`-` 최빈값은 성공횟수($\\alpha-1$)와 실패횟수($\\beta-1$)에 대한 성공률(= 성공횟수($\\alpha-1$) / 성공횟수($\\alpha-1$) + 실패횟수($\\beta-1$))"
   ]
  },
  {
   "cell_type": "markdown",
   "id": "advanced-institute",
   "metadata": {},
   "source": [
    "### 베타 분포와 이항 분포"
   ]
  },
  {
   "cell_type": "markdown",
   "id": "specified-density",
   "metadata": {},
   "source": [
    "`-` 베타 분포는 확률에 대한 확률분포라고 했음\n",
    "\n",
    "`-` 예시를 들어서 설명하자\n",
    "\n",
    "`-` 게임을 하는 중임 ---> 동전이 있는데 앞면이 나오면 이김 ---> 그런데 앞면과 뒷면이 나올 확률을 알지 못함\n",
    "\n",
    "`-` 연습으로 동전을 10번 던져봤더니 앞면이 3번 뒷면이 7번 나왔음 ---> 앞면이 나와야 이기므로 앞면이 나올 확률이 뒷면이 나올 확률 보다 높으면 좋겠음\n",
    "\n",
    "`-` 위에 상황에서 앞면이 나올 확률이 0.5보다 클 확률은 얼마일까? ---> 확률에 대한 확률분포\n",
    "\n",
    "- $P(X>0.5) = 1-P(X<0.5)\\\\\n",
    "=1-\\int_{0}^{0.5}\\frac{\\Gamma(12)}{\\Gamma(4)\\Gamma(8)}x^{4-1}(1-x)^{8-1}dx\\\\\n",
    "=1-\\int_{0}^{0.5}\\binom{12}{4}x^{4-1}(1-x)^{8-1}dx \\\\\n",
    "=\\,???$"
   ]
  },
  {
   "cell_type": "markdown",
   "id": "olympic-instrumentation",
   "metadata": {},
   "source": [
    "`-` 적분하기가 힘들다\n",
    "\n",
    "`-` R의 pbeta() 함수로 구해보자"
   ]
  },
  {
   "cell_type": "code",
   "execution_count": 21,
   "id": "industrial-delicious",
   "metadata": {},
   "outputs": [
    {
     "name": "stderr",
     "output_type": "stream",
     "text": [
      "C:\\anaconda3\\envs\\py38r40\\lib\\site-packages\\rpy2\\robjects\\packages.py:366: UserWarning: The symbol 'quartz' is not in this R namespace/package.\n",
      "  warnings.warn(\n"
     ]
    }
   ],
   "source": [
    "import rpy2\n",
    "import os\n",
    "\n",
    "os.environ['R_HOME']='C:/anaconda3/envs/py38r40/lib/R' \n",
    "%load_ext rpy2.ipython"
   ]
  },
  {
   "cell_type": "code",
   "execution_count": 29,
   "id": "entitled-venice",
   "metadata": {},
   "outputs": [
    {
     "name": "stdout",
     "output_type": "stream",
     "text": [
      "[1] 0.1132812\n"
     ]
    }
   ],
   "source": [
    "%%R\n",
    "1 - pbeta(0.5, shape1 = 4, shape2 = 8)"
   ]
  },
  {
   "cell_type": "markdown",
   "id": "responsible-digest",
   "metadata": {},
   "source": [
    "`-` 앞면이 3번 뒷면이 7번 나왔을 때 앞면이 나올 확률이 0.5보다 클 확률은 0.1132812이다 ---> 약 11%\n",
    "\n",
    "`-` 아무래도 게임에서 이기기는 힘들어 보인다\n",
    "\n",
    "`-` 그런데 위의 식에서 3번째 줄을 보면 이항 분포가 보인다\n",
    "\n",
    "`-` 성공확률의 거듭제곱과 실패확률의 거듭제곱은 이항분포의 확률 질량 함수에서도 존재함\n",
    "\n",
    "`-` 베타 분포에서는 확률변수 $X$가 성공 확률인 반면 이항 분포에서는 확률변수 $X$가 성공 횟수임\n",
    "\n",
    "`-` 베타 분포: $\\frac{1}{B(\\alpha, \\beta)}x^{\\alpha-1}(1-x)^{\\beta-1},\\;$ $x$는 성공 확률\n",
    "\n",
    "`-` 이항 분포: $\\binom{n}{x}\\,p^{k}\\,(1-p)^{n-x},\\;$ $x$는 성공 횟수\n",
    "\n",
    "`-` 이렇기에 이항 분포의 모수를 추정하는데 베타 분포가 사전 분포로 사용된다"
   ]
  },
  {
   "cell_type": "markdown",
   "id": "balanced-graphics",
   "metadata": {},
   "source": [
    "### 베타 분포 plot\n",
    "`-` `scipy.stats.beta()`를 통해 다양한 베타 분포를 그려보자"
   ]
  },
  {
   "cell_type": "code",
   "execution_count": 16,
   "id": "sunrise-consumption",
   "metadata": {},
   "outputs": [
    {
     "data": {
      "image/png": "[encoded data removed]",
      "text/plain": [
       "<Figure size 504x360 with 1 Axes>"
      ]
     },
     "metadata": {
      "needs_background": "light"
     },
     "output_type": "display_data"
    }
   ],
   "source": [
    "import numpy as np\n",
    "import matplotlib.pyplot as plt\n",
    "from scipy.stats import beta\n",
    "\n",
    "x = np.linspace(0, 1, 1000)\n",
    "\n",
    "beta_pdf1 = beta(a = 0.5, b = 0.5).pdf(x)\n",
    "beta_pdf2 = beta(a = 5, b = 1).pdf(x)\n",
    "beta_pdf3 = beta(a = 1, b = 3).pdf(x)\n",
    "beta_pdf4 = beta(a = 2, b = 2).pdf(x)\n",
    "beta_pdf5 = beta(a = 2, b = 5).pdf(x)\n",
    "\n",
    "plt.figure(figsize = (7, 5))\n",
    "\n",
    "plt.plot(x, beta_pdf1, label = 'α = 0.5, β = 0.5')\n",
    "plt.plot(x, beta_pdf2, label = 'α = 5, β = 1')\n",
    "plt.plot(x, beta_pdf3, label = 'α = 1, β = 3')\n",
    "plt.plot(x, beta_pdf4, label = 'α = 2, β = 2')\n",
    "plt.plot(x, beta_pdf5, label = 'α = 2, β = 5')\n",
    "\n",
    "plt.xlabel('rate of success(x)')\n",
    "plt.ylabel('Beta pdf')\n",
    "plt.title('Beta distribution')\n",
    "plt.grid()\n",
    "plt.legend()\n",
    "plt.show()"
   ]
  },
  {
   "cell_type": "markdown",
   "id": "atomic-father",
   "metadata": {},
   "source": [
    "`-` $x$축은 성공확률이어서 0과 1사이임\n",
    "\n",
    "`-` $y$축 자체가 확률이 아니라 $\\int_{a}^{b}f(x)dx$가 확률이고 $y$축은 $f(x)$임\n",
    "\n",
    "`-` $\\alpha = 1, \\beta \\geq 1$이면 성공횟수는 0인데 실패횟수는 존재하므로 성공확률 $x$가 낮을 수록 함수값이 큼\n",
    "\n",
    "`-` $\\alpha \\geq 1, \\beta = 1$이면 성공횟수는 존재하는데 실패횟수는 0이므로 성공확률 $x$가 높을 수록 함수값이 큼 \n",
    "\n",
    "`-` $\\alpha > 1, \\beta > 1$이면 기댓값 부근에서 함수값이 크다 + $\\alpha+\\beta$가 커지고 $\\alpha$와 $\\beta$가 비슷하면 정규분포에 근사 가능\n",
    "\n",
    "`-` $\\alpha < 1, \\beta < 1$이면 $x$가 0 과 1에 극단적으로 치우침"
   ]
  },
  {
   "cell_type": "markdown",
   "id": "searching-marking",
   "metadata": {},
   "source": [
    "# 이산 확률 분포\n",
    "`-` 이산 확률 변수가 가지는 확률 분포"
   ]
  },
  {
   "cell_type": "markdown",
   "id": "miniature-horse",
   "metadata": {},
   "source": [
    "## 베르누이 시행"
   ]
  },
  {
   "cell_type": "markdown",
   "id": "vocational-natural",
   "metadata": {},
   "source": [
    "`-` 임의의 결과가 `성공` 또는 `실패`와 같이 가능한 결과가 `2 가지`"
   ]
  },
  {
   "cell_type": "markdown",
   "id": "political-webmaster",
   "metadata": {},
   "source": [
    "### 베르누이 시행 조건"
   ]
  },
  {
   "cell_type": "markdown",
   "id": "artistic-cornell",
   "metadata": {},
   "source": [
    "`-` 각 시행의 결과는 상호 배타적인 두 사건(성공 or 실패)으로 구분\n",
    "\n",
    "`-` 성공 확률 $p$, 실패 확률 $q$일 때, $p+q=1$\n",
    "\n",
    "`-` 각 시행은 독립적"
   ]
  },
  {
   "cell_type": "markdown",
   "id": "tracked-charity",
   "metadata": {},
   "source": [
    "## 이항 분포"
   ]
  },
  {
   "cell_type": "markdown",
   "id": "completed-fitting",
   "metadata": {},
   "source": [
    "`-` 서로 독립이고 동일한 베르누이 분포를 따르는 확률변수$X_1,\\dots,X_n$을 모두 합한 것 --> $X = \\sum\\limits_{i=1}^{n}X_i$\n",
    "\n",
    "`-` 성공 확률이 $p$인 베르누이 시행을 독립적으로 $n$번 반복했을 때 성공 횟수 $X$는 이항 분포를 따름\n",
    "\n",
    "`-` 기호로는 $X \\sim B(n,p)$\n",
    "\n",
    "`-` 독립적 시행 --> 각 시행은 서로 영향을 주지 않음"
   ]
  },
  {
   "cell_type": "markdown",
   "id": "fewer-interface",
   "metadata": {},
   "source": [
    "### 이항 분포의 확률 질량 함수(PMF)"
   ]
  },
  {
   "cell_type": "markdown",
   "id": "fewer-vintage",
   "metadata": {},
   "source": [
    "$f(x) \\,=\\, _{n}\\rm C_{x}\\,p^{x}\\,(1-p)^{n-x} \\,=\\, \\binom{n}{x}\\,p^{k}\\,(1-p)^{n-x}$"
   ]
  },
  {
   "cell_type": "markdown",
   "id": "collectible-blocking",
   "metadata": {},
   "source": [
    "`-` 성공 확률 $p$인 베르누이 시행을 $n$번 시행하여 그 중 $x$번을 성공할 확률 질량 함수\n",
    "\n",
    "`-` 베르누이 분포는 이항 분포에서 $n=1$일 때이다"
   ]
  },
  {
   "cell_type": "markdown",
   "id": "linear-webmaster",
   "metadata": {},
   "source": [
    "### 이항분포의 기댓값과 분산\n",
    "`-` $E(X) = np$\n",
    "\n",
    "`-` $Var(X) = np(1-p)$"
   ]
  },
  {
   "cell_type": "markdown",
   "id": "danish-young",
   "metadata": {},
   "source": [
    "### 이항 분포 plot"
   ]
  },
  {
   "cell_type": "markdown",
   "id": "moderate-discipline",
   "metadata": {},
   "source": [
    "```python\n",
    "import numpy as np\n",
    "\n",
    "np.random.binomial(n, p, size)\n",
    "```\n",
    "\n",
    "`-` $n$은 표본 크기, $p$는 성공 확률, size는 표본의 수\n",
    "\n",
    "```python\n",
    "np.random.binomial(n = 50, p = 0.5, size = 1000)\n",
    "```\n",
    "\n",
    "`-` 성공 확률이 `p = 0.5`인 베르누이 시행을 `n = 50`번 반복하는 것을 표본 하나로 두고 표본을 `size = 1000`번 추출한다\n",
    "\n",
    "`-` 동전 던지기($p=0.5$)를 $n$ = $50$번 시행하여 앞면이 나온 횟수($X=0,1,2,\\dots,49,50$)를 하나의 표본이라 할 때 표본을 $size = 1000$번 추출한다"
   ]
  },
  {
   "cell_type": "markdown",
   "id": "infectious-delta",
   "metadata": {},
   "source": [
    "`-` `np.random.binomial(n = 10, p = 0.5, size = 1000)`을 히스토그램으로 나타내면?\n",
    "\n",
    "`-` $np \\geq 5$ 이면 이항분포를 정규분포로 근사할 수 있다"
   ]
  },
  {
   "cell_type": "code",
   "execution_count": 2,
   "id": "protected-seven",
   "metadata": {},
   "outputs": [
    {
     "data": {
      "image/png": "[encoded data removed]",
      "text/plain": [
       "<Figure size 432x288 with 1 Axes>"
      ]
     },
     "metadata": {
      "needs_background": "light"
     },
     "output_type": "display_data"
    }
   ],
   "source": [
    "import numpy as np\n",
    "import matplotlib.pyplot as plt\n",
    "\n",
    "np.random.seed(1)\n",
    "sample = np.random.binomial(n = 10, p = 0.5, size = 1000)\n",
    "\n",
    "plt.hist(sample)\n",
    "plt.title('np.random.binomial(n = 10, p = 0.5, size = 1000)')\n",
    "plt.show()"
   ]
  },
  {
   "cell_type": "markdown",
   "id": "educational-overall",
   "metadata": {},
   "source": [
    "## 포아송 분포\n",
    "`-` 단위 시간, 단위 공간 안에 어떤 사건이 몇 번 발생할 것인지를 표현하는 이산 확률 분포 \n",
    "\n",
    "`-` 이항 분포에서 시행횟수$n$이 매우 크고 성공 확률$p$가 매우 작은 경우 성공횟수는 포아송 분포로 근사 가능 ---> 나중에 증명\n",
    "\n",
    "`-` 음이항 분포에서 성공횟수$x$가 매우 크고 실패 확률$p$가 매우 작은 경우 실패횟수는 포아송 분포로 근사 가능 ---> 나중에 증명\n",
    "\n",
    "`-` 포아송 분포의 모수($\\lambda$)는 단위 시간에서 사건의 평균 발생 횟수"
   ]
  },
  {
   "cell_type": "markdown",
   "id": "earlier-finland",
   "metadata": {},
   "source": [
    "### 포아송 분포 전제 조건\n",
    "`-` 독립성: 1시간 동안 우리 집 앞에서 넘어진 사람 수와 친구 집앞에서 넘어진 사람 수는 독립이다\n",
    "\n",
    "`-` 일정성: 1시간 동안 평균 3명이 넘어졌다면 2시간 동안에는 평균 6명이 넘어진다\n",
    "\n",
    "`-` 비집락성: 우리 집 앞에서 같은 시간에 두 명 이상이 넘어질 확률은 0이다"
   ]
  },
  {
   "cell_type": "markdown",
   "id": "immediate-communication",
   "metadata": {},
   "source": [
    "### 포아송 분포의 확률 질량 함수"
   ]
  },
  {
   "cell_type": "markdown",
   "id": "double-necessity",
   "metadata": {},
   "source": [
    "$f(x) = \\frac{e^{-\\lambda}\\lambda^{x}}{x!}$"
   ]
  },
  {
   "cell_type": "markdown",
   "id": "referenced-ribbon",
   "metadata": {},
   "source": [
    "`-` $x$는 단위 시간에서 사건의 발생 횟수, $\\lambda$는 단위 시간에서 사건의 평균 발생 횟수\n",
    "\n",
    "`-` $\\lambda = 10$, $x = 7$ --> 단위 시간에서 사건의 평균 10번 발생할 때 7번 발생할 확률은?\n",
    "\n",
    "`-` 우리 집 앞에서 1시간에 사람이 평균적으로 10명이 넘어진다고 한다. 이 때 1시간에 사람이 5명 넘어질 확률은?\n",
    "\n",
    "`-` $\\lambda = 10,\\, x = 5 \\longrightarrow f(5) = \\frac{e^{-10}\\,10^5}{5!} = 0.03783327480207071$"
   ]
  },
  {
   "cell_type": "markdown",
   "id": "failing-publicity",
   "metadata": {},
   "source": [
    "### 포아송 분포의 기댓값과 분산\n",
    "`-` $E(X) = \\lambda$\n",
    "\n",
    "`-` $Var(X) = \\lambda$\n",
    "\n",
    "`-` `평균`과 `분산`이 `같으므로` `평균이 클수록` `그래프`가 `더 넓게 퍼진다`"
   ]
  },
  {
   "cell_type": "markdown",
   "id": "urban-cherry",
   "metadata": {},
   "source": [
    "### 포아송 분포 plot"
   ]
  },
  {
   "cell_type": "markdown",
   "id": "sharing-cooper",
   "metadata": {},
   "source": [
    "```python\n",
    "import numpy\n",
    "\n",
    "np.random.poisson(lam, size)\n",
    "```\n",
    "\n",
    "`-` $\\lambda$는 모수, size는 표본의 수\n",
    "```python\n",
    "np.random.poisson(lam = 10, size = 1000)\n",
    "```\n",
    "\n",
    "`-` 단위 시간에서 사건이 평균 10번 발생할 때 (`lam = 10`) 단위 시간에서 사건이 몇 번 발생하는지를 하나의 표본이라 할 때 `size = 1000`번 표본을 추출한다\n",
    "\n",
    "`-` 우리 집 앞에서 1시간당 평균 10명이 넘어질 때($\\lambda=10$) 1시간당 몇 명 넘어지는지($x = 0,1,2,\\dots,10,11,\\dots$)를 $size = 1000$번 기록한다"
   ]
  },
  {
   "cell_type": "markdown",
   "id": "cleared-midwest",
   "metadata": {},
   "source": [
    "`-` `np.random.poisson(lam = 10, size = 1000)`을 히스토그램으로 나타내면?"
   ]
  },
  {
   "cell_type": "code",
   "execution_count": 30,
   "id": "adult-operations",
   "metadata": {},
   "outputs": [
    {
     "data": {
      "image/png": "[encoded data removed]",
      "text/plain": [
       "<Figure size 432x288 with 1 Axes>"
      ]
     },
     "metadata": {
      "needs_background": "light"
     },
     "output_type": "display_data"
    }
   ],
   "source": [
    "import numpy as np\n",
    "import matplotlib.pyplot as plt\n",
    "\n",
    "np.random.seed(1)\n",
    "sample = np.random.poisson(lam = 10, size = 1000)\n",
    "\n",
    "plt.hist(sample)\n",
    "plt.title('np.random.poisson(lam = 10, size = 1000)')\n",
    "plt.show()"
   ]
  },
  {
   "cell_type": "markdown",
   "id": "iraqi-benjamin",
   "metadata": {},
   "source": [
    "`-` $\\lambda$를 바꿔볼까? --> 우리 집 앞에서 1시간당 평균 4명이 넘어진다면??"
   ]
  },
  {
   "cell_type": "code",
   "execution_count": 27,
   "id": "awful-archives",
   "metadata": {},
   "outputs": [
    {
     "data": {
      "image/png": "[encoded data removed]",
      "text/plain": [
       "<Figure size 432x288 with 1 Axes>"
      ]
     },
     "metadata": {
      "needs_background": "light"
     },
     "output_type": "display_data"
    }
   ],
   "source": [
    "np.random.seed(1)\n",
    "sample = np.random.poisson(lam = 4, size = 1000)\n",
    "\n",
    "plt.hist(sample)\n",
    "plt.title('np.random.poisson(lam = 4, size = 1000)')\n",
    "plt.show()"
   ]
  },
  {
   "cell_type": "markdown",
   "id": "generous-forwarding",
   "metadata": {},
   "source": [
    "## 기하 분포"
   ]
  },
  {
   "cell_type": "markdown",
   "id": "hairy-athletics",
   "metadata": {},
   "source": [
    "`-` 어떤 확률변수 $X$가 성공 확률이 $p$인 베르누이 시행에서 처음 성공까지 시도한 횟수라고 할 때 $X$는 성공 확률 $p$인 기하분포를 따른다\n",
    "\n",
    "`-` `처음 성공할 때까지 걸린 시도 횟수` X가 확률 변수이다"
   ]
  },
  {
   "cell_type": "markdown",
   "id": "emerging-contemporary",
   "metadata": {},
   "source": [
    "### 기하 분포의 무기억성\n",
    "`-` $P(X=x+k|X>k)=P(X=x)$\n",
    "\n",
    "`-` 성공 확률 p인 베르누이 시행을 현재 k번 시도 했다\n",
    "\n",
    "`-` 하지만 아직 까지 성공하지 못했다\n",
    "\n",
    "`-` 내가 여태까지 k번 실패했으니까 성공확률이 올라갈까?? --> 답은 `No`\n",
    "\n",
    "`-` 내가 이제껏 시도한 횟수와 관계없이 성공할 확률은 p로 동일하다\n",
    "\n",
    "`-` 쉽게 말하자면 내가 순백의 주문서10%를 바르고 있는 중이다\n",
    "\n",
    "`-` 여태까지 50장을 발랐는데도 성공하지 못했다\n",
    "\n",
    "`-` 하지만 확률은 그대로 10%이고 기댓값도 10번으로 동일하다\n",
    "\n",
    "`-` 즉, 처음에 순백의 주문서를 성공시키기 위한 기대되는 시도 횟수는 10번이다\n",
    "\n",
    "`-` 50번을 실패했지만 여전히 순백의 주문서를 성공시키기 위한 기대되는 시도 횟수는 10번이다......"
   ]
  },
  {
   "cell_type": "markdown",
   "id": "qualified-restoration",
   "metadata": {},
   "source": [
    "### 기하 분포의 확률 질량 함수"
   ]
  },
  {
   "cell_type": "markdown",
   "id": "excellent-yacht",
   "metadata": {},
   "source": [
    "$f(x) = (1-p)^{x-1}p, \\; x = 1, 2, 3,\\dots$"
   ]
  },
  {
   "cell_type": "markdown",
   "id": "sudden-parking",
   "metadata": {},
   "source": [
    "`-` 성공 확률이 $p$일 때 $x-1$번 째 시도까지는 모두 실패하고 $x$번 째 시도에 성공할 확률 질량 함수"
   ]
  },
  {
   "cell_type": "markdown",
   "id": "occupational-council",
   "metadata": {},
   "source": [
    "### 기하 분포의 기댓값과 분산 "
   ]
  },
  {
   "cell_type": "markdown",
   "id": "blank-venue",
   "metadata": {},
   "source": [
    "`-` $E(X) = \\frac{1}{p}$\n",
    "\n",
    "`-` $Var(X) = \\frac{1-p}{p^2}$"
   ]
  },
  {
   "cell_type": "markdown",
   "id": "robust-parliament",
   "metadata": {},
   "source": [
    "### 기하 분포 plot "
   ]
  },
  {
   "cell_type": "markdown",
   "id": "special-allen",
   "metadata": {},
   "source": [
    "```python\n",
    "import numpy\n",
    "\n",
    "np.random.geometric(p, size)\n",
    "```\n",
    "\n",
    "`-` $p$는 베르누이 시행에서 성공 확률, size는 표본의 수\n",
    "\n",
    "```python\n",
    "np.random.geometric(p = 0.1, size = 1000)\n",
    "```\n",
    "\n",
    "`-` 성공 확률이 `p = 0.1`인 `베르누이 시행`을 `성공할 때까지` 시도하는 것을 `size = 1000`번 반복한다\n",
    "\n",
    "`-` 순백의 주문서($p=0.1$)를 성공할 때까지 시도하여 순백의 주문서가 적용될 때까지 걸린 시도 횟수($X=1,2,\\dots$)를 $size = 1000$번 기록한다\n",
    "\n",
    "`-` `np.random.geometric(p = 0.1, size = 1000)`을 히스토그램으로 나타내면?"
   ]
  },
  {
   "cell_type": "code",
   "execution_count": 2,
   "id": "received-blowing",
   "metadata": {},
   "outputs": [
    {
     "data": {
      "image/png": "[encoded data removed]",
      "text/plain": [
       "<Figure size 432x288 with 1 Axes>"
      ]
     },
     "metadata": {
      "needs_background": "light"
     },
     "output_type": "display_data"
    }
   ],
   "source": [
    "import numpy as np\n",
    "import matplotlib.pyplot as plt\n",
    "\n",
    "np.random.seed(1)\n",
    "sample = np.random.geometric(p = 0.1, size = 1000)\n",
    "\n",
    "plt.hist(sample)\n",
    "plt.title('np.random.geometric(p = 0.1, size = 1000)')\n",
    "plt.show()"
   ]
  },
  {
   "cell_type": "markdown",
   "id": "needed-cloud",
   "metadata": {},
   "source": [
    "## 음이항 분포"
   ]
  },
  {
   "cell_type": "markdown",
   "id": "behavioral-saver",
   "metadata": {},
   "source": [
    "`-` 확률변수 $X$를 성공 확률이 $p$인 베르누이 시행을 반복하여 $k$번째 성공이 나올 때 까지 시행횟수라 하면 확률변수 $X$는 음이항 분포를 따름\n",
    "\n",
    "`-` 기하분포는 $k=1$인 음이항 분포"
   ]
  },
  {
   "cell_type": "markdown",
   "id": "genuine-purpose",
   "metadata": {},
   "source": [
    "### 음이항 분포의 확률 질량 함수"
   ]
  },
  {
   "cell_type": "markdown",
   "id": "separate-tourism",
   "metadata": {},
   "source": [
    "$f(x) \\,=\\, _{x-1}\\rm C_{k-1}\\,p^{k}\\,(1-p)^{x-k} \\,=\\, \\binom{x-1}{k-1}\\,p^{k}\\,(1-p)^{x-k}$"
   ]
  },
  {
   "cell_type": "markdown",
   "id": "focal-angel",
   "metadata": {},
   "source": [
    "`-` $x-1$번째 시도까지 성공횟수 $k-1$번였다가 $x$번째 시도에서 성공하여 성공횟수는 $k$가 되었음"
   ]
  },
  {
   "cell_type": "markdown",
   "id": "three-cooperation",
   "metadata": {},
   "source": [
    "### 음이항 분포의 기댓값과 분산"
   ]
  },
  {
   "cell_type": "markdown",
   "id": "premium-pantyhose",
   "metadata": {},
   "source": [
    "`-` $E(X) = \\frac{k}{p}$\n",
    "\n",
    "`-` $Var(X) = \\frac{k(1-p)}{p^2}$"
   ]
  },
  {
   "cell_type": "markdown",
   "id": "executive-spiritual",
   "metadata": {},
   "source": [
    "### 음이항 분포 plot "
   ]
  },
  {
   "cell_type": "markdown",
   "id": "rough-institution",
   "metadata": {},
   "source": [
    "```python\n",
    "import numpy\n",
    "\n",
    "np.random.negative_binomial(n, p, size)\n",
    "```\n",
    "\n",
    "`-` $n$은 성공횟수, $p$는 베르누이 시행에서 성공 확률, size는 표본의 수\n",
    "\n",
    "```python\n",
    "np.random.negative_binomial(n = 5, p = 0.1, size = 1000)\n",
    "```\n",
    "\n",
    "`-` 성공 확률이 `p = 0.1`인 `베르누이 시행`을 `5번 성공할 때까지` 시도하는 것을 `size = 1000`번 반복한다\n",
    "\n",
    "`-` 순백의 주문서($p=0.1$)를 5번 성공할 때까지 시도하여 순백의 주문서가 5번 적용될 때까지 걸린 시도 횟수($X=5,6,\\dots$)를 $size = 1000$번 기록한다\n",
    "\n",
    "`-` `np.random.negative_binomial(n = 5, p = 0.1, size = 1000)`을 히스토그램으로 나타내면?"
   ]
  },
  {
   "cell_type": "code",
   "execution_count": 3,
   "id": "bound-lying",
   "metadata": {},
   "outputs": [
    {
     "data": {
      "image/png": "[encoded data removed]",
      "text/plain": [
       "<Figure size 432x288 with 1 Axes>"
      ]
     },
     "metadata": {
      "needs_background": "light"
     },
     "output_type": "display_data"
    }
   ],
   "source": [
    "import numpy as np\n",
    "import matplotlib.pyplot as plt\n",
    "\n",
    "np.random.seed(1)\n",
    "sample = np.random.negative_binomial(n = 5, p = 0.1, size = 1000)\n",
    "\n",
    "plt.hist(sample)\n",
    "plt.title('np.random.negative_binomial(n = 5, p = 0.1, size = 1000)')\n",
    "plt.show()"
   ]
  },
  {
   "cell_type": "markdown",
   "id": "catholic-parker",
   "metadata": {},
   "source": [
    "`-` 위에서 기하 분포는 음이항 분포에서 $k = 1$인 특수한 경우라고 했음\n",
    "\n",
    "`-` 진짜로 동일한지 $p = 0.4$인 기하 분포와 $p = 0.4, k = 1$인 음이항 분포를 히스토그램을 그려 비교하자"
   ]
  },
  {
   "cell_type": "code",
   "execution_count": 12,
   "id": "separated-luxembourg",
   "metadata": {},
   "outputs": [
    {
     "data": {
      "image/png": "[encoded data removed]",
      "text/plain": [
       "<Figure size 1008x288 with 2 Axes>"
      ]
     },
     "metadata": {
      "needs_background": "light"
     },
     "output_type": "display_data"
    }
   ],
   "source": [
    "np.random.seed(1)\n",
    "sample1 = np.random.geometric(p = 0.4, size = 1000)\n",
    "sample2 = np.random.negative_binomial(n = 1, p = 0.4, size = 1000)\n",
    "\n",
    "fig, ax = plt.subplots(1, 2, figsize = (14, 4))\n",
    "\n",
    "ax[0].hist(sample1)\n",
    "ax[1].hist(sample2)\n",
    "\n",
    "ax[0].set_title('np.random.geomaric(p = 0.3, size = 1000)')\n",
    "ax[1].set_title('np.random.negative_binomial(n = 1, p = 0.3, size = 1000)')\n",
    "\n",
    "plt.show()"
   ]
  },
  {
   "cell_type": "markdown",
   "id": "valid-tournament",
   "metadata": {},
   "source": [
    "`-` 히스토그램을 통해 비교하니 $k= 1$인 음이항 분포는 기하 분포와 동일함을 알 수 있다"
   ]
  },
  {
   "cell_type": "markdown",
   "id": "developed-fiction",
   "metadata": {},
   "source": [
    "## 초기하 분포"
   ]
  },
  {
   "cell_type": "markdown",
   "id": "occupied-seattle",
   "metadata": {},
   "source": [
    "`-` $k$개의 성공과 $N-k$개의 실패로 이루어진 크기가 $N$인 유한모집단에서 크기가 $n$인 표본을 뽑고 이 중 성공의 개수를 $X$라 할 때 확률변수$X$는 초기하 분포를 따름\n",
    "\n",
    "`-` $N, k\\to\\infty$이고 $\\frac{k}{N} \\to p$이면 초기하 분포를 이항 분포로 근사 가능\n",
    "\n",
    "`-` 비복원추출을 하기에 각각의 시행이 서로 영향을 미치므로 독립적 시행이 아님 ---> 베르누이 시행과의 차이점\n",
    "\n",
    "`-` 샘플링 검사 시에 복원추출을 하지 않고 비복원 추출을 하기 때문에 초기하 분포를 주로 사용함"
   ]
  },
  {
   "cell_type": "markdown",
   "id": "qualified-australia",
   "metadata": {},
   "source": [
    "### 초기하 분포의 확률 질량 함수"
   ]
  },
  {
   "cell_type": "markdown",
   "id": "average-boutique",
   "metadata": {},
   "source": [
    "$f(x) = \\frac{_{k}\\,\\rm C\\,_{x}\\;\\times\\; _{N-k}\\;\\rm C\\,_{n-x}}{_{N}\\,\\rm C\\,_{n}} $"
   ]
  },
  {
   "cell_type": "markdown",
   "id": "creative-gibson",
   "metadata": {},
   "source": [
    "`-` $N$개 중 $n$개를 뽑는 방법 중에서 성공 $k$개에서 $x$개의 성공을 뽑고 실패 $N-k$개에서 $n-x$개의 실패를 뽑을 확률"
   ]
  },
  {
   "cell_type": "markdown",
   "id": "occupational-alloy",
   "metadata": {},
   "source": [
    "### 초기하 분포의 기댓값과 분산"
   ]
  },
  {
   "cell_type": "markdown",
   "id": "native-rendering",
   "metadata": {},
   "source": [
    "`-` $E(X)=n\\cdot\\frac{k}{N}$\n",
    "\n",
    "`-` $Var(X)= n\\cdot\\frac{k}{N}\\cdot\\frac{N-k}{N}\\cdot\\frac{N-n}{N-1}$\n",
    "\n",
    "`-` 이항분포의 기댓값과 분산과 유사함 \n",
    "\n",
    "`-` n은 표본크기,  $\\frac{k}{N}$은 성공확률, $\\frac{N-k}{N}$은 실패확률\n",
    "\n",
    "`-` $\\frac{N-n}{N-1}$은 유한모집단수정항으로 $n$는 대체로 1보다 크므로 유한모집단수정항도 1보다 작음 ---> 이항분포보다 분산이 더 작음"
   ]
  },
  {
   "cell_type": "markdown",
   "id": "certain-present",
   "metadata": {},
   "source": [
    "### 초기하 분포 plot"
   ]
  },
  {
   "cell_type": "markdown",
   "id": "appreciated-chocolate",
   "metadata": {},
   "source": [
    "```python\n",
    "import numpy\n",
    "\n",
    "np.random.hypergeometric(ngood, nbad, nsample, size)\n",
    "```\n",
    "\n",
    "`-` $ngood(=k)$은 유한모집단중 성공횟수, $nbad(=N-k)$는 유한모집단중 실패횟수, $nsample(=n)$은 표본크기, size는 표본의 수\n",
    "\n",
    "```python\n",
    "np.random.hypergeometric(ngood = 700, nbad = 300, nsample = 100, size = 1000)\n",
    "```\n",
    "\n",
    "`-` 성공횟수 `ngood = 700`개와 실패횟수 `nbad = 300`개로 구성된 크기가 1000인 유한모집단($N$)에서 샘플 `nsample = 100`개를 `비복원추출`하여 나온 성공횟수 $x$를 `size = 1000`번 반복한다\n",
    "\n",
    "`-` 당첨용지 700개($ngood = 700$)와 꽝용지 300개($nbad = 300$)로 구성된 로또용지 1000개(유한모집단의 크기$N$)중에서 100개($nsample = 100$)를 비복원추출하여 나온 성공횟수를 $size = 1000$번 기록한다\n",
    "\n",
    "`-` `np.random.hypergeometric(ngood = 700, nbad = 300, nsample = 100, size = 1000)`을 히스토그램으로 나타내면?"
   ]
  },
  {
   "cell_type": "code",
   "execution_count": 2,
   "id": "blessed-joint",
   "metadata": {},
   "outputs": [
    {
     "data": {
      "image/png": "[encoded data removed]",
      "text/plain": [
       "<Figure size 432x288 with 1 Axes>"
      ]
     },
     "metadata": {
      "needs_background": "light"
     },
     "output_type": "display_data"
    }
   ],
   "source": [
    "import numpy as np\n",
    "import matplotlib.pyplot as plt\n",
    "\n",
    "np.random.seed(1)\n",
    "sample = np.random.hypergeometric(ngood = 700, nbad = 300, nsample = 100, size = 1000)\n",
    "\n",
    "plt.hist(sample)\n",
    "plt.title('np.random.hypergeometric(ngood = 700, nbad = 300, nsample = 100, size = 1000)')\n",
    "plt.show()"
   ]
  },
  {
   "cell_type": "markdown",
   "id": "bulgarian-statement",
   "metadata": {},
   "source": [
    "`-` 이항분포와 유사해 보임"
   ]
  },
  {
   "cell_type": "markdown",
   "id": "alive-meaning",
   "metadata": {},
   "source": [
    "## 다항 분포(작성 예정)"
   ]
  },
  {
   "cell_type": "code",
   "execution_count": null,
   "id": "abroad-xerox",
   "metadata": {},
   "outputs": [],
   "source": []
  },
  {
   "cell_type": "markdown",
   "id": "fitting-adrian",
   "metadata": {},
   "source": [
    "# 독립항등분포(independent and identically distributed, iid) (작성 예정)"
   ]
  },
  {
   "cell_type": "markdown",
   "id": "cutting-yeast",
   "metadata": {},
   "source": [
    "`-` 확률변수가 여러 개 있을 때 $(X_1 , X_2 ,\\dots , X_n)$ 이들이 상호독립적이며 모두 동일한 확률분포 $f(x)$를 가진다면 $i.i.d$이다"
   ]
  },
  {
   "cell_type": "markdown",
   "id": "chronic-module",
   "metadata": {},
   "source": [
    "`-` $i.i.d$가 깨지는 경우 "
   ]
  },
  {
   "cell_type": "markdown",
   "id": "hispanic-advocacy",
   "metadata": {},
   "source": [
    "## 이분산성(Heteroskedasticity)"
   ]
  },
  {
   "cell_type": "code",
   "execution_count": null,
   "id": "earlier-suspect",
   "metadata": {},
   "outputs": [],
   "source": []
  },
  {
   "cell_type": "markdown",
   "id": "alleged-finder",
   "metadata": {},
   "source": [
    "## 내생성(Endogeneity) "
   ]
  },
  {
   "cell_type": "code",
   "execution_count": null,
   "id": "coated-rough",
   "metadata": {},
   "outputs": [],
   "source": []
  },
  {
   "cell_type": "markdown",
   "id": "micro-custom",
   "metadata": {},
   "source": [
    "## 다중공선성(Multicollinearity) "
   ]
  },
  {
   "cell_type": "code",
   "execution_count": null,
   "id": "unlimited-decision",
   "metadata": {},
   "outputs": [],
   "source": []
  }
 ],
 "metadata": {
  "kernelspec": {
   "display_name": "Python 3",
   "language": "python",
   "name": "python3"
  },
  "language_info": {
   "codemirror_mode": {
    "name": "ipython",
    "version": 3
   },
   "file_extension": ".py",
   "mimetype": "text/x-python",
   "name": "python",
   "nbconvert_exporter": "python",
   "pygments_lexer": "ipython3",
   "version": "3.8.8"
  }
 },
 "nbformat": 4,
 "nbformat_minor": 5
}
