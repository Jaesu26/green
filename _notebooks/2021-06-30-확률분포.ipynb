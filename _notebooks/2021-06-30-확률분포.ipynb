{
 "cells": [
  {
   "cell_type": "markdown",
   "id": "capital-layout",
   "metadata": {},
   "source": [
    "# 확률 분포\n",
    "\n",
    "> \"작성 중\"\n",
    "\n",
    "- toc: true\n",
    "- branch: master\n",
    "- badges: true\n",
    "- comments: true\n",
    "- author: 한재수\n",
    "- categories: [python]"
   ]
  },
  {
   "cell_type": "markdown",
   "id": "dangerous-dating",
   "metadata": {},
   "source": [
    "## 확률 분포란?"
   ]
  },
  {
   "cell_type": "markdown",
   "id": "dangerous-mills",
   "metadata": {},
   "source": [
    "`-` 확률 분포(probability distribution)는 확률 변수가 특정한 값을 가질 확률을 나타내는 함수를 의미한다. --> 출처: [https://ko.wikipedia.org/wiki/%ED%99%95%EB%A5%A0_%EB%B6%84%ED%8F%AC](https://ko.wikipedia.org/wiki/%ED%99%95%EB%A5%A0_%EB%B6%84%ED%8F%AC)"
   ]
  },
  {
   "cell_type": "markdown",
   "id": "competitive-potato",
   "metadata": {},
   "source": [
    "### 그렇다면 확률 변수란?"
   ]
  },
  {
   "cell_type": "markdown",
   "id": "italian-republican",
   "metadata": {},
   "source": [
    "`-` 확률변수(Random Variable)란 `무작위 실험`을 했을 때, `특정 확률`로 발생하는 각각의 결과를 `수치`로 표현한 변수\n",
    "\n",
    "`-` `무작위 실험` --> 동전 던지기\n",
    "\n",
    "`-` `특정 확률` --> 앞면이 나올 확률 $\\frac{1}{2}$, 뒷면이 나올 확률 $\\frac{1}{2}$\n",
    "\n",
    "`-` `수치` --> 앞면 = $1$, 뒷면 = $2$"
   ]
  },
  {
   "cell_type": "markdown",
   "id": "sustainable-stock",
   "metadata": {},
   "source": [
    "## 연속 확률 분포\n",
    "- 연속 확률 변수가 가지는 확률 분포"
   ]
  },
  {
   "cell_type": "markdown",
   "id": "laughing-stuart",
   "metadata": {},
   "source": [
    "### 정규분포"
   ]
  },
  {
   "cell_type": "code",
   "execution_count": 3,
   "id": "labeled-current",
   "metadata": {},
   "outputs": [
    {
     "data": {
      "text/plain": [
       "4782969"
      ]
     },
     "execution_count": 3,
     "metadata": {},
     "output_type": "execute_result"
    }
   ],
   "source": [
    "9**7"
   ]
  },
  {
   "cell_type": "code",
   "execution_count": null,
   "id": "cultural-necklace",
   "metadata": {},
   "outputs": [],
   "source": []
  },
  {
   "cell_type": "code",
   "execution_count": null,
   "id": "dependent-phrase",
   "metadata": {},
   "outputs": [],
   "source": []
  },
  {
   "cell_type": "code",
   "execution_count": null,
   "id": "fewer-provider",
   "metadata": {},
   "outputs": [],
   "source": []
  },
  {
   "cell_type": "code",
   "execution_count": null,
   "id": "concrete-triumph",
   "metadata": {},
   "outputs": [],
   "source": []
  },
  {
   "cell_type": "code",
   "execution_count": null,
   "id": "daily-mission",
   "metadata": {},
   "outputs": [],
   "source": []
  },
  {
   "cell_type": "code",
   "execution_count": null,
   "id": "mysterious-development",
   "metadata": {},
   "outputs": [],
   "source": []
  },
  {
   "cell_type": "code",
   "execution_count": null,
   "id": "impressed-volunteer",
   "metadata": {},
   "outputs": [],
   "source": []
  },
  {
   "cell_type": "code",
   "execution_count": null,
   "id": "legal-walnut",
   "metadata": {},
   "outputs": [],
   "source": []
  },
  {
   "cell_type": "code",
   "execution_count": null,
   "id": "sized-court",
   "metadata": {},
   "outputs": [],
   "source": []
  },
  {
   "cell_type": "code",
   "execution_count": null,
   "id": "hundred-sigma",
   "metadata": {},
   "outputs": [],
   "source": []
  },
  {
   "cell_type": "code",
   "execution_count": null,
   "id": "handmade-nothing",
   "metadata": {},
   "outputs": [],
   "source": []
  },
  {
   "cell_type": "code",
   "execution_count": null,
   "id": "solar-sending",
   "metadata": {},
   "outputs": [],
   "source": []
  },
  {
   "cell_type": "markdown",
   "id": "musical-belle",
   "metadata": {},
   "source": [
    "## 이산 확률 분포\n",
    "- 이산 확률 변수가 가지는 확률 분포"
   ]
  },
  {
   "cell_type": "markdown",
   "id": "powered-devil",
   "metadata": {},
   "source": [
    "### 베르누이 시행"
   ]
  },
  {
   "cell_type": "markdown",
   "id": "prospective-threshold",
   "metadata": {},
   "source": [
    "`-` 임의의 결과가 `성공` 또는 `실패`와 같이 가능한 결과가 `2 가지`"
   ]
  },
  {
   "cell_type": "markdown",
   "id": "dramatic-budapest",
   "metadata": {},
   "source": [
    "#### 베르누이 시행 조건"
   ]
  },
  {
   "cell_type": "markdown",
   "id": "hearing-temperature",
   "metadata": {},
   "source": [
    "`-` 각 시행의 결과는 상호 배타적인 두 사건(성공 or 실패)으로 구분\n",
    "\n",
    "`-` 성공 확률 p, 실패 확률 q일 때, $p+q=1$\n",
    "\n",
    "`-` 각 시행은 독립적"
   ]
  },
  {
   "cell_type": "markdown",
   "id": "circular-keeping",
   "metadata": {},
   "source": [
    "### 이항 분포"
   ]
  },
  {
   "cell_type": "markdown",
   "id": "abstract-scout",
   "metadata": {},
   "source": [
    "`-` 성공 확률이 p인 베르누이 시행을 독립적으로 n번 반복했을 때 성공 횟수 X는 이항 분포를 따름\n",
    "\n",
    "`-` 기호로는 $X\\sim B(n,p)$\n",
    "\n",
    "`-` 독립적 시행 --> 각 시행은 서로 영향을 주지 않음\n",
    "\n"
   ]
  },
  {
   "cell_type": "markdown",
   "id": "handmade-scottish",
   "metadata": {},
   "source": [
    "#### 이항 분포의 확률 질량 함수(PMF)"
   ]
  },
  {
   "cell_type": "markdown",
   "id": "purple-aggregate",
   "metadata": {},
   "source": [
    "$f(x)\\, =\\, _{n}\\rm C_{x}\\,p^{x}\\,p^{n-x}\\,=\\binom{n}{x}\\,p^{k}\\,p^{n-x}$ "
   ]
  },
  {
   "cell_type": "markdown",
   "id": "graduate-pickup",
   "metadata": {},
   "source": [
    "`-` 성공 확률 $p$인 베르누이 시행을 $n$번 시행하여 그 중 $x$번을 성공할 확률 질량 함수\n",
    "\n",
    "`-` 베르누이 분포는 이항 분포에서 $n=1$일 때이다."
   ]
  },
  {
   "cell_type": "markdown",
   "id": "crucial-lebanon",
   "metadata": {},
   "source": [
    "#### 이항분포의 기댓값과 분산\n",
    "`-` 기댓값 = $np$\n",
    "\n",
    "`-` 분산 = $np(1-p)$"
   ]
  },
  {
   "cell_type": "markdown",
   "id": "strong-parliament",
   "metadata": {},
   "source": [
    "```python\n",
    "import numpy as np\n",
    "\n",
    "np.random.binomial(n, p, size)\n",
    "```\n",
    "\n",
    "`-` $n$은 표본 크기, $p$는 성공 확률, size는 반복 횟수\n",
    "\n",
    "```python\n",
    "np.random.binomial(n = 50, p = 0.5, size = 1000)\n",
    "```\n",
    "\n",
    "`-` 성공 확률이 `p = 0.5`인 베르누이 시행을 `n = 50`번 반복하는 것을 `size = 1000`번 반복한다. \n",
    "\n",
    "`-` 동전 던지기($p=0.5$)를 $n$ = $50$번 시행하여 앞면이 나온 횟수($X=0,1,2,\\dots,49,50$)를 $size = 1000$번 기록한다."
   ]
  },
  {
   "cell_type": "markdown",
   "id": "written-insider",
   "metadata": {},
   "source": [
    "`-` `np.random.binomial(n = 10, p = 0.5, size = 1000)`을 히스토그램으로 나타내면?\n",
    "\n",
    "`-` $np \\geq 5$ 이면 이항분포를 정규분포로 근사할 수 있다."
   ]
  },
  {
   "cell_type": "code",
   "execution_count": 11,
   "id": "native-arrow",
   "metadata": {},
   "outputs": [
    {
     "data": {
      "image/png": "[encoded data removed]",
      "text/plain": [
       "<Figure size 432x288 with 1 Axes>"
      ]
     },
     "metadata": {
      "needs_background": "light"
     },
     "output_type": "display_data"
    }
   ],
   "source": [
    "import numpy as np\n",
    "import matplotlib.pyplot as plt\n",
    "\n",
    "np.random.seed(1)\n",
    "sample = np.random.binomial(n = 10, p = 0.5, size = 1000)\n",
    "\n",
    "plt.hist(sample)\n",
    "plt.title('np.random.binomial(n = 10, p = 0.5, size = 100)')\n",
    "plt.show()"
   ]
  },
  {
   "cell_type": "markdown",
   "id": "collect-insertion",
   "metadata": {},
   "source": [
    "### 포아송 분포\n",
    "`-` 단위 시간, 단위 공간 안에 어떤 사건이 몇 번 발생할 것인지를 표현하는 이산 확률 분포 \n",
    "\n",
    "`-` 포아송 분포의 모수($\\lambda$)는 단위 시간에서 사건의 평균 발생 횟수"
   ]
  },
  {
   "cell_type": "markdown",
   "id": "grave-curtis",
   "metadata": {},
   "source": [
    "#### 포아송 분포 전제 조건\n",
    "`-` 독립성: 1시간 동안 우리 집앞에서 넘어진 사람 수와 친구 집앞에서 넘어진 사람 수는 독립이다.\n",
    "\n",
    "`-` 일정성: 1시간 동안 평균 3명이 넘어졌다면 2시간 동안에는 평균 6명이 넘어진다.\n",
    "\n",
    "`-` 비집락성: 우리 집앞에서 같은 시간에 두 명 이상이 넘어질 확률은 0이다."
   ]
  },
  {
   "cell_type": "markdown",
   "id": "above-mother",
   "metadata": {},
   "source": [
    "#### 포아송 분포의 확률 질량 함수"
   ]
  },
  {
   "cell_type": "markdown",
   "id": "acting-apple",
   "metadata": {},
   "source": [
    "$f(x) = \\frac{e^{-\\lambda}\\lambda^{x}}{x!}$"
   ]
  },
  {
   "cell_type": "markdown",
   "id": "charitable-lambda",
   "metadata": {},
   "source": [
    "`-` $x$는 단위 시간에서 사건의 발생 횟수, $\\lambda$는 단위 시간에서 사건의 평균 발생 횟수\n",
    "\n",
    "`-` $\\lambda = 10$, $x = 7$ --> 단위 시간에서 사건의 평균 10번 발생할 때 7번 발생할 확률은?\n",
    "\n",
    "`-` 우리 집앞에서 1시간에 사람이 평균적으로 10명이 넘어진다고 한다. 이 때 1시간에 사람이 5명 넘어질 확률은?\n",
    "\n",
    "`-` $\\lambda = 10, x = 5$ --> $f(5) = \\frac{e^{-10}\\,10^5}{5!} = 0.03783327480207071$"
   ]
  },
  {
   "cell_type": "markdown",
   "id": "suitable-porcelain",
   "metadata": {},
   "source": [
    "#### 포아송 분포의 기댓값과 분산\n",
    "`-` 기댓값 = $\\lambda$\n",
    "\n",
    "`-` 분산 = $\\lambda$"
   ]
  },
  {
   "cell_type": "markdown",
   "id": "meaning-turner",
   "metadata": {},
   "source": [
    "```python\n",
    "import numpy\n",
    "\n",
    "np.random.poisson(lam ,size)\n",
    "```\n",
    "\n",
    "`-` $\\lambda$는 모수, size는 반복 횟수\n",
    "\n",
    "```python\n",
    "np.random.poisson(lam = 10 ,size = 1000)\n",
    "```\n",
    "\n",
    "`-` 단위 시간에서 사건이 평균 10번 발생할 때 (`lam = 10`) 단위 시간에서 사건이 몇 번 발생하는지를 `size = 1000`번 반복한다. \n",
    "\n",
    "`-` 우리 집앞에서 1시간당 평균 10명이 넘어질 때($\\lambda=10$) 1시간당 몇 명 넘어지는지($x = 0,1,2,\\dots,10,11,\\dots$)를 $size = 1000$번 기록한다."
   ]
  },
  {
   "cell_type": "markdown",
   "id": "daily-replacement",
   "metadata": {},
   "source": [
    "`-` `np.random.poisson(lam = 10, size = 1000)`을 히스토그램으로 나타내면?"
   ]
  },
  {
   "cell_type": "code",
   "execution_count": 30,
   "id": "timely-postcard",
   "metadata": {},
   "outputs": [
    {
     "data": {
      "image/png": "[encoded data removed]",
      "text/plain": [
       "<Figure size 432x288 with 1 Axes>"
      ]
     },
     "metadata": {
      "needs_background": "light"
     },
     "output_type": "display_data"
    }
   ],
   "source": [
    "import numpy as np\n",
    "import matplotlib.pyplot as plt\n",
    "\n",
    "np.random.seed(1)\n",
    "sample = np.random.poisson(lam = 10, size = 1000)\n",
    "\n",
    "plt.hist(sample)\n",
    "plt.title('np.random.poisson(lam = 10, size = 1000)')\n",
    "plt.show()"
   ]
  },
  {
   "cell_type": "markdown",
   "id": "pressing-popularity",
   "metadata": {},
   "source": [
    "`-` $\\lambda$를 바꿔볼까? --> 우리 집앞에서 1시간당 평균 4명이 넘어진다면??"
   ]
  },
  {
   "cell_type": "code",
   "execution_count": 27,
   "id": "incoming-emergency",
   "metadata": {},
   "outputs": [
    {
     "data": {
      "image/png": "[encoded data removed]",
      "text/plain": [
       "<Figure size 432x288 with 1 Axes>"
      ]
     },
     "metadata": {
      "needs_background": "light"
     },
     "output_type": "display_data"
    }
   ],
   "source": [
    "np.random.seed(1)\n",
    "sample = np.random.poisson(lam = 4, size = 1000)\n",
    "\n",
    "plt.hist(sample)\n",
    "plt.title('np.random.poisson(lam = 4, size = 1000)')\n",
    "plt.show()"
   ]
  },
  {
   "cell_type": "code",
   "execution_count": null,
   "id": "raised-chaos",
   "metadata": {},
   "outputs": [],
   "source": []
  }
 ],
 "metadata": {
  "kernelspec": {
   "display_name": "Python 3",
   "language": "python",
   "name": "python3"
  },
  "language_info": {
   "codemirror_mode": {
    "name": "ipython",
    "version": 3
   },
   "file_extension": ".py",
   "mimetype": "text/x-python",
   "name": "python",
   "nbconvert_exporter": "python",
   "pygments_lexer": "ipython3",
   "version": "3.8.8"
  }
 },
 "nbformat": 4,
 "nbformat_minor": 5
}
