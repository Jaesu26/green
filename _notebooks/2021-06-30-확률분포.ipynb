{
 "cells": [
  {
   "cell_type": "markdown",
   "id": "assumed-fifth",
   "metadata": {},
   "source": [
    "# 이산 확률 분포(작성 중)\n",
    "\n",
    "> \"여러가지 이산 확률 분포\"\n",
    "\n",
    "- toc: true\n",
    "- branch: master\n",
    "- badges: true\n",
    "- comments: true\n",
    "- author: 한재수\n",
    "- categories: [python]"
   ]
  },
  {
   "cell_type": "markdown",
   "id": "bottom-express",
   "metadata": {},
   "source": [
    "## 확률 분포란?"
   ]
  },
  {
   "cell_type": "markdown",
   "id": "civilian-wheel",
   "metadata": {},
   "source": [
    "`-` 확률 분포(probability distribution)는 확률 변수가 특정한 값을 가질 확률을 나타내는 함수를 의미한다. --> 출처: [https://ko.wikipedia.org/wiki/%ED%99%95%EB%A5%A0_%EB%B6%84%ED%8F%AC](https://ko.wikipedia.org/wiki/%ED%99%95%EB%A5%A0_%EB%B6%84%ED%8F%AC)"
   ]
  },
  {
   "cell_type": "markdown",
   "id": "broke-silver",
   "metadata": {},
   "source": [
    "### 그렇다면 확률 변수란?"
   ]
  },
  {
   "cell_type": "markdown",
   "id": "opening-oregon",
   "metadata": {},
   "source": [
    "`-` 확률변수(Random Variable)란 `무작위 실험`을 했을 때, `특정 확률`로 발생하는 각각의 결과를 `수치`로 표현한 변수\n",
    "\n",
    "`-` `무작위 실험` --> 동전 던지기\n",
    "\n",
    "`-` `특정 확률` --> 앞면이 나올 확률 $\\frac{1}{2}$, 뒷면이 나올 확률 $\\frac{1}{2}$\n",
    "\n",
    "`-` `수치` --> 앞면 = $1$, 뒷면 = $2$"
   ]
  },
  {
   "cell_type": "markdown",
   "id": "collective-safety",
   "metadata": {},
   "source": [
    "## 이산 확률 분포\n",
    "- 이산 확률 변수가 가지는 확률 분포"
   ]
  },
  {
   "cell_type": "markdown",
   "id": "manual-salon",
   "metadata": {},
   "source": [
    "### 베르누이 시행"
   ]
  },
  {
   "cell_type": "markdown",
   "id": "minimal-manhattan",
   "metadata": {},
   "source": [
    "`-` 임의의 결과가 `성공` 또는 `실패`와 같이 가능한 결과가 `2 가지`"
   ]
  },
  {
   "cell_type": "markdown",
   "id": "competent-timing",
   "metadata": {},
   "source": [
    "#### 베르누이 시행 조건"
   ]
  },
  {
   "cell_type": "markdown",
   "id": "opposite-unknown",
   "metadata": {},
   "source": [
    "`-` 각 시행의 결과는 상호 배타적인 두 사건(성공 or 실패)으로 구분\n",
    "\n",
    "`-` 성공 확률 p, 실패 확률 q일 때, $p+q=1$\n",
    "\n",
    "`-` 각 시행은 독립적"
   ]
  },
  {
   "cell_type": "markdown",
   "id": "involved-microphone",
   "metadata": {},
   "source": [
    "### 이항 분포"
   ]
  },
  {
   "cell_type": "markdown",
   "id": "modified-concern",
   "metadata": {},
   "source": [
    "`-` 성공 확률이 p인 베르누이 시행을 독립적으로 n번 반복했을 때 성공 횟수 X는 이항 분포를 따름\n",
    "\n",
    "`-` 기호로는 $X\\sim B(n,p)$\n",
    "\n",
    "`-` 독립적 시행 --> 각 시행은 서로 영향을 주지 않음\n",
    "\n"
   ]
  },
  {
   "cell_type": "markdown",
   "id": "threatened-cherry",
   "metadata": {},
   "source": [
    "#### 이항 분포의 확률 질량 함수(PMF)"
   ]
  },
  {
   "cell_type": "markdown",
   "id": "included-catch",
   "metadata": {},
   "source": [
    "$f(x)\\, =\\, _{n}\\rm C_{x}\\,p^{x}\\,p^{n-x}\\,=\\binom{n}{x}\\,p^{k}\\,p^{n-x}$"
   ]
  },
  {
   "cell_type": "markdown",
   "id": "catholic-flexibility",
   "metadata": {},
   "source": [
    "`-` 성공 확률 $p$인 베르누이 시행을 $n$번 시행하여 그 중 $x$번을 성공할 확률 질량 함수\n",
    "\n",
    "`-` 베르누이 분포는 이항 분포에서 $n=1$일 때이다."
   ]
  },
  {
   "cell_type": "markdown",
   "id": "skilled-decision",
   "metadata": {},
   "source": [
    "```python\n",
    "import numpy as np\n",
    "\n",
    "np.random.binomial(n, p, size)\n",
    "```\n",
    "\n",
    "`-` $n$은 표본 크기, $p$는 성공 확률, size는 반복 횟수\n",
    "\n",
    "```python\n",
    "np.random.binomial(n = 50, p = 0.5, size = 1000)\n",
    "```\n",
    "`-` 성공 확률이 `p = 0.5`인 베르누이 시행을 `n = 50`번 반복하는 것을 `size = 1000`번 반복한다. \n",
    "\n",
    "`-` 동전 던지기($p=0.5$)를 $n$ = $50$번 시행하여 앞면이 나온 횟수($X=0,1,2,\\dots,49,50$)를 $size = 1000$번 기록한다."
   ]
  },
  {
   "cell_type": "markdown",
   "id": "remarkable-spoke",
   "metadata": {},
   "source": [
    "`-` `np.random.binomial(n = 10, p = 0.5, size = 100)`을 히스토그램으로 나타내면?"
   ]
  },
  {
   "cell_type": "code",
   "execution_count": 14,
   "id": "executive-pierre",
   "metadata": {},
   "outputs": [
    {
     "data": {
      "image/png": "[encoded data removed]",
      "text/plain": [
       "<Figure size 432x288 with 1 Axes>"
      ]
     },
     "metadata": {
      "needs_background": "light"
     },
     "output_type": "display_data"
    }
   ],
   "source": [
    "import numpy as np\n",
    "import matplotlib.pyplot as plt\n",
    "\n",
    "sample = np.random.binomial(n = 10, p = 0.5, size = 1000)\n",
    "\n",
    "plt.hist(sample)\n",
    "plt.show()"
   ]
  },
  {
   "cell_type": "code",
   "execution_count": null,
   "id": "catholic-contribution",
   "metadata": {},
   "outputs": [],
   "source": []
  }
 ],
 "metadata": {
  "kernelspec": {
   "display_name": "Python 3",
   "language": "python",
   "name": "python3"
  },
  "language_info": {
   "codemirror_mode": {
    "name": "ipython",
    "version": 3
   },
   "file_extension": ".py",
   "mimetype": "text/x-python",
   "name": "python",
   "nbconvert_exporter": "python",
   "pygments_lexer": "ipython3",
   "version": "3.8.8"
  }
 },
 "nbformat": 4,
 "nbformat_minor": 5
}
