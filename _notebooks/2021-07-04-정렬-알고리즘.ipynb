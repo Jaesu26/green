{
 "cells": [
  {
   "cell_type": "markdown",
   "id": "greatest-essay",
   "metadata": {},
   "source": [
    "# 정렬 알고리즘\n",
    "\n",
    "> \"작성 중\"\n",
    "\n",
    "- toc: true\n",
    "- branch: master\n",
    "- badges: true\n",
    "- comments: true\n",
    "- author: 한재수\n",
    "- categories: [python, algorithm]"
   ]
  },
  {
   "cell_type": "markdown",
   "id": "frequent-syracuse",
   "metadata": {},
   "source": [
    "`-` 데이터를 오름차순으로 정렬해보자!"
   ]
  },
  {
   "cell_type": "markdown",
   "id": "protected-sailing",
   "metadata": {},
   "source": [
    "## 선택 정렬\n",
    "\n",
    "`-` 가장 작은 수를 첫 번째 인덱스로 선택 그 다음으로 작은 수를 두 번째 인덱스로 선택\n",
    "\n",
    "`-` 이런식으로 가장 큰 수까지 마지막 인덱스로 선택하면 정렬 끝"
   ]
  },
  {
   "cell_type": "markdown",
   "id": "reasonable-challenge",
   "metadata": {},
   "source": [
    "### 선택 정렬 알고리즘"
   ]
  },
  {
   "cell_type": "markdown",
   "id": "foreign-array",
   "metadata": {},
   "source": [
    "`1` 크기가 $n$인 정렬되지 않은 리스트가 있다\n",
    "```python\n",
    "List = [5, 8, 7, 1, 2]\n",
    "```\n",
    "`2` 첫 번째 인덱스와 나머지 $n - 1$개의 수를 비교하여 가장 작은 수와 위치를 바꾼다\n",
    "\n",
    "`3` 5와 비교하여 1이 가장 작으므로 5와 1의 위치를 바꾼다\n",
    "```python\n",
    "List = [1, 8, 7, 5, 2]\n",
    "```\n",
    "`4` 이제 두 번째 인덱스와 나머지$n - 2$개의 수를 비교하여 남은 수 중 가장 작은 수와 위치를 바꾼다\n",
    "\n",
    "`5` 8과 비교하여 2가 가장 작으므로 8과 2의 위치를 바꾼다\n",
    "```python\n",
    "List = [1, 2, 7, 5, 8]\n",
    "```\n",
    "`6` 이런 식으로 $n-1$번째 인덱스와 나머지 1개의 수를 비교하여 오름차순 정렬을 마친다\n",
    "```python\n",
    "List = [1, 2, 5, 7, 8]\n",
    "```\n"
   ]
  },
  {
   "cell_type": "markdown",
   "id": "assured-cause",
   "metadata": {},
   "source": [
    "### 선택 정렬 알고리즘 코드 구현"
   ]
  },
  {
   "cell_type": "code",
   "execution_count": 18,
   "id": "numerous-timer",
   "metadata": {},
   "outputs": [
    {
     "name": "stdout",
     "output_type": "stream",
     "text": [
      "[1, 8, 7, 5, 2]\n",
      "[1, 2, 7, 5, 8]\n",
      "[1, 2, 5, 7, 8]\n",
      "[1, 2, 5, 7, 8]\n"
     ]
    }
   ],
   "source": [
    "List = [5, 8, 7, 1, 2]\n",
    "n = len(List)\n",
    "\n",
    "for i in range(n - 1):\n",
    "    min_idx = i\n",
    "    \n",
    "    for j in range(i + 1, n):   \n",
    "        if List[j] < List[min_idx]:\n",
    "            min_idx = j\n",
    "            \n",
    "    List[i], List[min_idx] = List[min_idx], List[i]\n",
    "    \n",
    "    print(List)\n",
    "        "
   ]
  },
  {
   "cell_type": "markdown",
   "id": "subjective-comparative",
   "metadata": {},
   "source": [
    "## 버블 정렬"
   ]
  },
  {
   "cell_type": "markdown",
   "id": "impressive-growing",
   "metadata": {},
   "source": [
    "`-` 연속된 인덱스를 비교하여 더 큰 값을 오른쪽으로 보냄\n",
    "\n",
    "`-` 한 사이클을 돌면 가장 큰 값이 맨 뒤에 위치\n",
    "\n",
    "`-` 사이클마다 남은 수 중 가장 큰 값이 뒤에 위치함"
   ]
  },
  {
   "cell_type": "markdown",
   "id": "diagnostic-oliver",
   "metadata": {},
   "source": [
    "### 버블 정렬 알고리즘"
   ]
  },
  {
   "cell_type": "markdown",
   "id": "refined-intellectual",
   "metadata": {},
   "source": [
    "`1` 크기가 $n$인 정렬되지 않은 리스트가 있다\n",
    "```python\n",
    "List = [5, 8, 7, 1, 2]\n",
    "```\n",
    "`2` 첫 번째 인덱스와 두 번째 인덱스를 비교하여 더 큰값을 오른쪽에 위치시킨다\n",
    "\n",
    "`3` 5와 8을 비교하면 8이 더 크므로 8을 오른쪽을 보낸다\n",
    "```python\n",
    "List = [5, 8, 7, 1, 2]\n",
    "```\n",
    "`4` 이제 두 번째 인덱스와 세 번째 인덱스를 비교한다\n",
    "\n",
    "`5` 8과 7을 비교하면 8이 더 크므로 8을 오른쪽으로 보낸다\n",
    "```python\n",
    "List = [5, 7, 8, 1, 2]\n",
    "```\n",
    "`6` 이런식으로 한 사이클을 돌면 8이 마지막에 위치한다\n",
    "```python\n",
    "List = [5, 7, 1, 2, 8]\n",
    "```\n",
    "`7` 다시 사이클을 돌면 7이 8 왼쪽에 위치한다\n",
    "```python\n",
    "List = [5, 1, 2, 7, 8]\n",
    "```\n",
    "`8` 이런식으로 $n - 1$ 번의 사이클을 돌면 자료가 오름차순으로 정렬된다\n",
    "```python\n",
    "List = [1, 2, 5, 7 ,8]\n",
    "```"
   ]
  },
  {
   "cell_type": "markdown",
   "id": "stuffed-olympus",
   "metadata": {},
   "source": [
    "### 버블 정렬 알고리즘 코드 구현"
   ]
  },
  {
   "cell_type": "code",
   "execution_count": 3,
   "id": "absolute-organ",
   "metadata": {},
   "outputs": [
    {
     "name": "stdout",
     "output_type": "stream",
     "text": [
      "[5, 7, 1, 2, 8]\n",
      "[5, 1, 2, 7, 8]\n",
      "[1, 2, 5, 7, 8]\n",
      "[1, 2, 5, 7, 8]\n"
     ]
    }
   ],
   "source": [
    "List = [5, 8, 7, 1, 2]\n",
    "n = len(List)\n",
    "\n",
    "for i in range(n - 1, 0, -1):\n",
    "    \n",
    "    for j in range(i):\n",
    "        if List[j + 1] < List[j]:\n",
    "            \n",
    "            List[j + 1], List[j] = List[j], List[j + 1]\n",
    "    \n",
    "    print(List)"
   ]
  },
  {
   "cell_type": "markdown",
   "id": "novel-concord",
   "metadata": {},
   "source": [
    "## 삽입 정렬\n",
    "`-` 자료 배열의 모든 요소를 앞에서부터 차례대로 이미 정렬된 배열 부분과 비교함\n",
    "\n",
    "`-` 자신의 위치를 찾아 삽입함\n",
    "\n",
    "`-` 일반적으로 선택 정렬, 버블 정렬 보다 빠름"
   ]
  },
  {
   "cell_type": "markdown",
   "id": "opposite-transportation",
   "metadata": {},
   "source": [
    "### 삽입 정렬 알고리즘"
   ]
  },
  {
   "cell_type": "markdown",
   "id": "seventh-trace",
   "metadata": {},
   "source": [
    "`1` 크기가 $n$인 정렬되지 않은 리스트가 있다\n",
    "```python\n",
    "List = [5, 8, 7, 1, 2]\n",
    "```\n",
    "`2` 두 번째 원소를 부분 리스트에서 적절한 위치에 삽입\n",
    "```python\n",
    "List = [5, 8, 7, 1, 2]\n",
    "```\n",
    "`3` 5와 8을 비교하면 8이 더 크므로 8을 오른쪽을 보낸다\n",
    "```python\n",
    "List = [5, 8, 7, 1, 2]\n",
    "```\n",
    "`4` 세 번째 원소를 부분 리스트에서 적절한 위치에 삽입\n",
    "\n",
    "`5` 7과 8을 비교하면 8이 더 크고 5와 7을 비교하면 7이 더 크므로 5와 8사이에 위치한다\n",
    "```python\n",
    "List = [5, 7, 8, 1, 2]\n",
    "```\n",
    "`6` 네 번째 원소를 부분 리스트에서 적절한 위치에 삽입\n",
    "\n",
    "`7` 1이 부분 리스트 중 가장 작으므로 맨 앞에 삽입\n",
    "```python\n",
    "List = [1, 5, 7, 8, 2]\n",
    "```\n",
    "`8` 마지막 원소를 부분 리스트에서 적절한 위치에 삽입\n",
    "\n",
    "`9` 2는 부분 리스트 중 1 다음으로 작으므로 1 오른쪽에 삽입\n",
    "```python\n",
    "List = [1, 2, 5, 7, 8]\n",
    "```"
   ]
  },
  {
   "cell_type": "markdown",
   "id": "underlying-postcard",
   "metadata": {},
   "source": [
    "### 삽입 정렬 알고리즘 코드 구현"
   ]
  },
  {
   "cell_type": "code",
   "execution_count": 20,
   "id": "crazy-scene",
   "metadata": {},
   "outputs": [
    {
     "name": "stdout",
     "output_type": "stream",
     "text": [
      "[5, 8, 7, 1, 2]\n",
      "[5, 7, 8, 1, 2]\n",
      "[1, 5, 7, 8, 2]\n",
      "[1, 2, 5, 7, 8]\n"
     ]
    }
   ],
   "source": [
    "List = [5, 8, 7, 1, 2]\n",
    "n = len(List)\n",
    "\n",
    "for i in range(1, n):\n",
    "    j = i - 1\n",
    "    key = List[i]\n",
    "    while List[j] > key and j >= 0:\n",
    "        List[j+1] = List[j]\n",
    "        j = j - 1\n",
    "    List[j+1] = key\n",
    "    print(List)"
   ]
  },
  {
   "cell_type": "markdown",
   "id": "hungry-southeast",
   "metadata": {},
   "source": [
    "## 병합 정렬 \n",
    "`-` 리스트 안에 있는 요소들을 왼쪽, 오른쪽 두 그룹으로 나눔\n",
    "\n",
    "`-` 각 그룹을 또 왼쪽, 오른쪽 두 그룹으로 나눔, 이를 요소가 1개 남을 때까지 반복함\n",
    "\n",
    "`-` 나누어진 두 개의 리스트를 병합함\n",
    "\n",
    "`-` 이를 정렬될 때까지 반복함"
   ]
  },
  {
   "cell_type": "markdown",
   "id": "quality-formula",
   "metadata": {},
   "source": [
    "### 병합 정렬 알고리즘 \n",
    "`1` 크기가 $n$인 정렬되지 않은 리스트가 있다\n",
    "```python\n",
    "List = [5, 8, 7, 1, 2, 3, 9, 4]\n",
    "```\n",
    "`2` 그룹을 두 그룹으로 나눈다\n",
    "```python\n",
    "[5, 8, 7, 1], [2, 3, 9, 4]\n",
    "```\n",
    "`3` 각 그룹을 두 그룹으로 나눈다\n",
    "```python\n",
    "[5, 8], [7, 1], [2, 3], [9, 4]\n",
    "```\n",
    "`4` 이를 요소가 1개 남을 때까지 반복한다\n",
    "```python\n",
    "[5], [8], [7], [1], [2], [3], [9], [4]\n",
    "```\n",
    "`5` 이제 나눈 순서의 역순으로 두 그룹씩 오름차순으로 병합한다\n",
    "```python\n",
    "[5, 8], [1, 7], [2, 3], [4, 9]\n",
    "```\n",
    "`6` 이를 정렬이 끝날 때까지 반복한다\n",
    "```python\n",
    "[1, 5, 7, 8], [2, 3, 4, 9]\n",
    "```\n",
    "```python\n",
    "List = [1, 2, 3, 4, 5, 7, 8, 9]\n",
    "```"
   ]
  },
  {
   "cell_type": "markdown",
   "id": "pacific-myrtle",
   "metadata": {},
   "source": [
    "### 병합 정렬 알고리즘 코드 구현(재귀O)\n",
    "`-` 위의 병합 정렬 알고리즘을 보면 두 그룹으로 나누고 병합하는 과정을 반복한다\n",
    "\n",
    "`-` 그렇기에 재귀 함수를 사용하여 구현했음 --> `리스트의 길이가 클 경우 많은 재귀 함수 호출이 이루어지기에 시간이 매우 오래걸림`\n",
    "\n",
    "`-` 먼저 left, right로 나눈 후 나눠진 left를 가지고 또 left, right로 나눈다\n",
    "\n",
    "`-` left를 나누는 것이 끝나면 이제서야 right를 가지고 left, right로 나눈다 \n",
    "\n",
    "`-` 참고(설명 good): [https://lsjsj92.tistory.com/468](https://lsjsj92.tistory.com/468)"
   ]
  },
  {
   "cell_type": "code",
   "execution_count": 33,
   "id": "complex-ethics",
   "metadata": {},
   "outputs": [
    {
     "name": "stdout",
     "output_type": "stream",
     "text": [
      "[5] [8]\n",
      "[7] [1]\n",
      "[5, 8] [1, 7]\n",
      "[2] [3]\n",
      "[9] [4]\n",
      "[2, 3] [4, 9]\n",
      "[1, 5, 7, 8] [2, 3, 4, 9]\n",
      "[1, 2, 3, 4, 5, 7, 8, 9]\n"
     ]
    }
   ],
   "source": [
    "List = [5, 8, 7, 1, 2, 3, 9, 4]\n",
    "\n",
    "def merge_sort(x): ## 나누기\n",
    "    n = len(x)\n",
    "    if n <= 1:\n",
    "        return x\n",
    "    \n",
    "    mid = n // 2\n",
    "    left = x[:mid] ## mid를 기준으로 왼쪽\n",
    "    right = x[mid:] ## mid를 기준으로 오른쪽\n",
    "    \n",
    "    left1 = merge_sort(left) ## 재귀적으로 나누기\n",
    "    right1 = merge_sort(right) ## 재귀적으로 나누기\n",
    "    print(left1, right1)\n",
    "    \n",
    "    return(merge(left1, right1))\n",
    "\n",
    "\n",
    "def merge(left, right): ## 병합하기\n",
    "    sorted_list = []  \n",
    "    \n",
    "    while left and right: \n",
    "        if left[0] < right[0]:\n",
    "            sorted_list.append(left.pop(0))\n",
    "        else:\n",
    "            sorted_list.append(right.pop(0))\n",
    "        \n",
    "        \n",
    "    while left:\n",
    "        sorted_list.append(left.pop(0))\n",
    "        \n",
    "    while right:\n",
    "        sorted_list.append(right.pop(0))\n",
    "        \n",
    "    return sorted_list\n",
    "   \n",
    "print(merge_sort(List)) "
   ]
  },
  {
   "cell_type": "markdown",
   "id": "white-energy",
   "metadata": {},
   "source": [
    "### 병합 정렬 알고리즘 코드 구현(재귀X)"
   ]
  },
  {
   "cell_type": "markdown",
   "id": "valued-collar",
   "metadata": {},
   "source": [
    "출처: [비재귀적 병합 정렬 알고리즘 코드](https://www.geeksforgeeks.org/iterative-merge-sort/)"
   ]
  },
  {
   "cell_type": "markdown",
   "id": "sufficient-night",
   "metadata": {},
   "source": [
    "```python\n",
    "# Iterative Merge sort (Bottom Up)\n",
    " \n",
    "# Iterative mergesort function to\n",
    "# sort arr[0...n-1]\n",
    " \n",
    "# perform bottom up merge\n",
    "def mergeSort(a):\n",
    "    # start with least partition size of 2^0 = 1\n",
    "    width = 1   \n",
    "    n = len(a)                                         \n",
    "    # subarray size grows by powers of 2\n",
    "    # since growth of loop condition is exponential,\n",
    "    # time consumed is logarithmic (log2n)\n",
    "    while (width < n):\n",
    "        # always start from leftmost\n",
    "        l=0;\n",
    "        while (l < n):\n",
    "            r = min(l+(width*2-1), n-1)\n",
    "            m = (l+r)//2\n",
    "            # final merge should consider\n",
    "            # unmerged sublist if input arr\n",
    "            # size is not power of 2\n",
    "            if (width>n//2):       \n",
    "                m = r-(n%width)  \n",
    "            merge(a, l, m, r)\n",
    "            l += width*2\n",
    "        # Increasing sub array size by powers of 2\n",
    "        width *= 2\n",
    "    return a\n",
    "   \n",
    "# Merge Function\n",
    "def merge(a, l, m, r):\n",
    "    n1 = m - l + 1\n",
    "    n2 = r - m\n",
    "    L = [0] * n1\n",
    "    R = [0] * n2\n",
    "    for i in range(0, n1):\n",
    "        L[i] = a[l + i]\n",
    "    for i in range(0, n2):\n",
    "        R[i] = a[m + i + 1]\n",
    " \n",
    "    i, j, k = 0, 0, l\n",
    "    while i < n1 and j < n2:\n",
    "        if L[i] > R[j]:\n",
    "            a[k] = R[j]\n",
    "            j += 1\n",
    "        else:\n",
    "            a[k] = L[i]\n",
    "            i += 1\n",
    "        k += 1\n",
    " \n",
    "    while i < n1:\n",
    "        a[k] = L[i]\n",
    "        i += 1\n",
    "        k += 1\n",
    " \n",
    "    while j < n2:\n",
    "        a[k] = R[j]\n",
    "        j += 1\n",
    "        k += 1\n",
    "        \n",
    "```"
   ]
  },
  {
   "cell_type": "code",
   "execution_count": null,
   "id": "technological-staff",
   "metadata": {},
   "outputs": [],
   "source": []
  }
 ],
 "metadata": {
  "kernelspec": {
   "display_name": "Python 3",
   "language": "python",
   "name": "python3"
  },
  "language_info": {
   "codemirror_mode": {
    "name": "ipython",
    "version": 3
   },
   "file_extension": ".py",
   "mimetype": "text/x-python",
   "name": "python",
   "nbconvert_exporter": "python",
   "pygments_lexer": "ipython3",
   "version": "3.8.8"
  }
 },
 "nbformat": 4,
 "nbformat_minor": 5
}
