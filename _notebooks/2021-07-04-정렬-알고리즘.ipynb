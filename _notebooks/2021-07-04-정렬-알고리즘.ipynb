{
 "cells": [
  {
   "cell_type": "markdown",
   "id": "subject-mapping",
   "metadata": {},
   "source": [
    "# 정렬 알고리즘\n",
    "\n",
    "> \"작성 중\"\n",
    "\n",
    "- toc: true\n",
    "- branch: master\n",
    "- badges: true\n",
    "- comments: true\n",
    "- author: 한재수\n",
    "- categories: [python, algorithm]"
   ]
  },
  {
   "cell_type": "markdown",
   "id": "blocked-choir",
   "metadata": {},
   "source": [
    "`-` 데이터를 오름차순으로 정렬해보자!"
   ]
  },
  {
   "cell_type": "markdown",
   "id": "facial-pursuit",
   "metadata": {},
   "source": [
    "## 선택 정렬\n",
    "\n",
    "`-` 가장 작은 수를 첫 번째 인덱스로 선택 그 다음으로 작은 수를 두 번째 인덱스로 선택\n",
    "\n",
    "`-` 이런식으로 가장 큰 수까지 마지막 인덱스로 선택하면 정렬 끝"
   ]
  },
  {
   "cell_type": "markdown",
   "id": "pacific-store",
   "metadata": {},
   "source": [
    "### 선택 정렬 알고리즘"
   ]
  },
  {
   "cell_type": "markdown",
   "id": "approved-excerpt",
   "metadata": {},
   "source": [
    "`1` 크기가 $n$인 정렬되지 않은 리스트가 있다.\n",
    "```python\n",
    "List = [5, 8, 7, 1, 2]\n",
    "```\n",
    "`2` 첫 번째 인덱스와 나머지 $n - 1$개의 수를 비교하여 가장 작은 수와 위치를 바꾼다.\n",
    "\n",
    "`3` 5와 비교하여 1이 가장 작으므로 5와 1의 위치를 바꾼다.\n",
    "```python\n",
    "List = [1, 8, 7, 5, 2]\n",
    "```\n",
    "`4` 이제 두 번째 인덱스와 나머지$n - 2$개의 수를 비교하여 남은 수 중 가장 작은 수와 위치를 바꾼다.\n",
    "\n",
    "`5` 8과 비교하여 2가 가장 작으므로 8과 2의 위치를 바꾼다.\n",
    "```python\n",
    "List = [1, 2, 7, 5, 8]\n",
    "```\n",
    "`6` 이런 식으로 $n-1$번째 인덱스와 나머지 1개의 수를 비교하여 오름차순 정렬을 마친다.\n",
    "```python\n",
    "List = [1, 2, 5, 7, 8]\n",
    "```\n"
   ]
  },
  {
   "cell_type": "markdown",
   "id": "affected-seattle",
   "metadata": {},
   "source": [
    "### 선택 정렬 알고리즘 코드 구현"
   ]
  },
  {
   "cell_type": "code",
   "execution_count": 18,
   "id": "nervous-relation",
   "metadata": {},
   "outputs": [
    {
     "name": "stdout",
     "output_type": "stream",
     "text": [
      "[1, 8, 7, 5, 2]\n",
      "[1, 2, 7, 5, 8]\n",
      "[1, 2, 5, 7, 8]\n",
      "[1, 2, 5, 7, 8]\n"
     ]
    }
   ],
   "source": [
    "List = [5, 8, 7, 1, 2]\n",
    "n = len(List)\n",
    "\n",
    "for i in range(n - 1):\n",
    "    min_idx = i\n",
    "    \n",
    "    for j in range(i + 1, n):   \n",
    "        if List[j] < List[min_idx]:\n",
    "            min_idx = j\n",
    "            \n",
    "    List[i], List[min_idx] = List[min_idx], List[i]\n",
    "    \n",
    "    print(List)\n",
    "        "
   ]
  },
  {
   "cell_type": "markdown",
   "id": "positive-brazilian",
   "metadata": {},
   "source": [
    "## 버블 정렬"
   ]
  },
  {
   "cell_type": "markdown",
   "id": "sharing-wrist",
   "metadata": {},
   "source": [
    "`-` 연속된 인덱스를 비교하여 더 큰 값을 오른쪽으로 보냄\n",
    "\n",
    "`-` 한 사이클을 돌면 가장 큰 값이 맨 뒤에 위치\n",
    "\n",
    "`-` 사이클마다 남은 수 중 가장 큰 값이 뒤에 위치함"
   ]
  },
  {
   "cell_type": "markdown",
   "id": "strong-trainer",
   "metadata": {},
   "source": [
    "### 버블 정렬 알고리즘"
   ]
  },
  {
   "cell_type": "markdown",
   "id": "valued-anatomy",
   "metadata": {},
   "source": [
    "`1` 크기가 $n$인 정렬되지 않은 리스트가 있다.\n",
    "```python\n",
    "List = [5, 8, 7, 1, 2]\n",
    "```\n",
    "`2` 첫 번째 인덱스와 두 번째 인덱스를 비교하여 더 큰값을 오른쪽에 위치시킨다.\n",
    "```python\n",
    "List = [5, 8, 7, 1, 2]\n",
    "```\n",
    "`3` 5와 8을 비교하면 8이 더 크므로 8을 오른쪽을 보낸다.\n",
    "```python\n",
    "List = [5, 8, 7, 1, 2]\n",
    "```\n",
    "`4` 이제 두 번째 인덱스와 세 번째 인덱스를 비교한다.\n",
    "\n",
    "`5` 8과 7을 비교하면 8이 더 크므로 8을 오른쪽으로 보낸다.\n",
    "```python\n",
    "List = [5, 7, 8, 1, 2]\n",
    "```\n",
    "`6` 이런식으로 한 사이클을 돌면 8이 마지막에 위치한다.\n",
    "```python\n",
    "List = [5, 7, 1, 2, 8]\n",
    "```\n",
    "`7` 다시 사이클을 돌면 7이 8 왼쪽에 위치한다.\n",
    "```python\n",
    "List = [5, 1, 2, 7, 8]\n",
    "```\n",
    "`8` 이런식으로 $n - 1$ 번의 사이클을 돌면 자료가 오름차순으로 정렬된다.\n",
    "```python\n",
    "List = [1, 2, 5, 7 ,8]\n",
    "```"
   ]
  },
  {
   "cell_type": "markdown",
   "id": "possible-breach",
   "metadata": {},
   "source": [
    "### 버블 정렬 알고리즘 코드 구현"
   ]
  },
  {
   "cell_type": "code",
   "execution_count": 22,
   "id": "hydraulic-begin",
   "metadata": {},
   "outputs": [
    {
     "name": "stdout",
     "output_type": "stream",
     "text": [
      "[5, 7, 1, 2, 8]\n",
      "[5, 1, 2, 7, 8]\n",
      "[1, 2, 5, 7, 8]\n",
      "[1, 2, 5, 7, 8]\n"
     ]
    }
   ],
   "source": [
    "List = [5, 8, 7, 1, 2]\n",
    "n = len(List)\n",
    "\n",
    "for i in range(n - 1, 0, -1):\n",
    "    \n",
    "    for j in range(i):\n",
    "        if List[j + 1] < List[j]:\n",
    "            \n",
    "            List[j + 1], List[j] = List[j], List[j + 1]\n",
    "    \n",
    "    print(List)"
   ]
  },
  {
   "cell_type": "code",
   "execution_count": null,
   "id": "environmental-process",
   "metadata": {},
   "outputs": [],
   "source": []
  }
 ],
 "metadata": {
  "kernelspec": {
   "display_name": "Python 3",
   "language": "python",
   "name": "python3"
  },
  "language_info": {
   "codemirror_mode": {
    "name": "ipython",
    "version": 3
   },
   "file_extension": ".py",
   "mimetype": "text/x-python",
   "name": "python",
   "nbconvert_exporter": "python",
   "pygments_lexer": "ipython3",
   "version": "3.8.8"
  }
 },
 "nbformat": 4,
 "nbformat_minor": 5
}
