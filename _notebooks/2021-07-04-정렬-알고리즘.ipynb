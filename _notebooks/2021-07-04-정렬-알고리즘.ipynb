{
 "cells": [
  {
   "cell_type": "markdown",
   "id": "american-speech",
   "metadata": {},
   "source": [
    "# 정렬 알고리즘\n",
    "\n",
    "> \"작성 중\"\n",
    "\n",
    "- toc: true\n",
    "- branch: master\n",
    "- badges: true\n",
    "- comments: true\n",
    "- author: 한재수\n",
    "- categories: [python, algorithm]"
   ]
  },
  {
   "cell_type": "markdown",
   "id": "preliminary-parade",
   "metadata": {},
   "source": [
    "`-` 데이터를 오름차순으로 정렬해보자!"
   ]
  },
  {
   "cell_type": "markdown",
   "id": "forty-fabric",
   "metadata": {},
   "source": [
    "# $O(N^2)$ 정렬"
   ]
  },
  {
   "cell_type": "markdown",
   "id": "collaborative-cutting",
   "metadata": {},
   "source": [
    "## 선택 정렬 (Selection sort)\n",
    "\n",
    "`-` 가장 작은 수를 첫 번째 인덱스로 선택 그 다음으로 작은 수를 두 번째 인덱스로 선택\n",
    "\n",
    "`-` 이런식으로 가장 큰 수까지 마지막 인덱스로 선택하면 정렬 끝"
   ]
  },
  {
   "cell_type": "markdown",
   "id": "ideal-review",
   "metadata": {},
   "source": [
    "### 선택 정렬 알고리즘"
   ]
  },
  {
   "cell_type": "markdown",
   "id": "hired-removal",
   "metadata": {},
   "source": [
    "`1` 크기가 $n$인 정렬되지 않은 리스트가 있다\n",
    "```python\n",
    "List = [5, 8, 7, 1, 2]\n",
    "```\n",
    "`2` 첫 번째 인덱스와 나머지 $n - 1$개의 수를 비교하여 가장 작은 수와 위치를 바꾼다\n",
    "\n",
    "`3` 5와 비교하여 1이 가장 작으므로 5와 1의 위치를 바꾼다\n",
    "```python\n",
    "List = [1, 8, 7, 5, 2]\n",
    "```\n",
    "`4` 이제 두 번째 인덱스와 나머지$n - 2$개의 수를 비교하여 남은 수 중 가장 작은 수와 위치를 바꾼다\n",
    "\n",
    "`5` 8과 비교하여 2가 가장 작으므로 8과 2의 위치를 바꾼다\n",
    "```python\n",
    "List = [1, 2, 7, 5, 8]\n",
    "```\n",
    "`6` 이런 식으로 $n-1$번째 인덱스와 나머지 1개의 수를 비교하여 오름차순 정렬을 마친다\n",
    "```python\n",
    "List = [1, 2, 5, 7, 8]\n",
    "```\n"
   ]
  },
  {
   "cell_type": "markdown",
   "id": "heated-folks",
   "metadata": {},
   "source": [
    "### 선택 정렬 알고리즘 코드 구현"
   ]
  },
  {
   "cell_type": "code",
   "execution_count": 9,
   "id": "strategic-approach",
   "metadata": {},
   "outputs": [
    {
     "name": "stdout",
     "output_type": "stream",
     "text": [
      "[1, 8, 7, 5, 2]\n",
      "[1, 2, 7, 5, 8]\n",
      "[1, 2, 5, 7, 8]\n",
      "[1, 2, 5, 7, 8]\n"
     ]
    }
   ],
   "source": [
    "List = [5, 8, 7, 1, 2]\n",
    "n = len(List)\n",
    "\n",
    "for i in range(n - 1):\n",
    "    min_idx = i\n",
    "    \n",
    "    for j in range(i + 1, n):   \n",
    "        if List[j] < List[min_idx]:\n",
    "            min_idx = j\n",
    "            \n",
    "    List[i], List[min_idx] = List[min_idx], List[i]\n",
    "    print(List)     "
   ]
  },
  {
   "cell_type": "markdown",
   "id": "imperial-facing",
   "metadata": {},
   "source": [
    "## 버블 정렬 (Bubble sort)"
   ]
  },
  {
   "cell_type": "markdown",
   "id": "broken-planet",
   "metadata": {},
   "source": [
    "`-` 연속된 인덱스를 비교하여 더 큰 값을 오른쪽으로 보냄\n",
    "\n",
    "`-` 한 사이클을 돌면 가장 큰 값이 맨 뒤에 위치\n",
    "\n",
    "`-` 사이클마다 남은 수 중 가장 큰 값이 뒤에 위치함"
   ]
  },
  {
   "cell_type": "markdown",
   "id": "immediate-heart",
   "metadata": {},
   "source": [
    "### 버블 정렬 알고리즘"
   ]
  },
  {
   "cell_type": "markdown",
   "id": "human-premises",
   "metadata": {},
   "source": [
    "`1` 크기가 $n$인 정렬되지 않은 리스트가 있다\n",
    "```python\n",
    "List = [5, 8, 7, 1, 2]\n",
    "```\n",
    "`2` 첫 번째 인덱스와 두 번째 인덱스를 비교하여 더 큰값을 오른쪽에 위치시킨다\n",
    "\n",
    "`3` 5와 8을 비교하면 8이 더 크므로 8을 오른쪽을 보낸다\n",
    "```python\n",
    "List = [5, 8, 7, 1, 2]\n",
    "```\n",
    "`4` 이제 두 번째 인덱스와 세 번째 인덱스를 비교한다\n",
    "\n",
    "`5` 8과 7을 비교하면 8이 더 크므로 8을 오른쪽으로 보낸다\n",
    "```python\n",
    "List = [5, 7, 8, 1, 2]\n",
    "```\n",
    "`6` 이런식으로 한 사이클을 돌면 8이 마지막에 위치한다\n",
    "```python\n",
    "List = [5, 7, 1, 2, 8]\n",
    "```\n",
    "`7` 다시 사이클을 돌면 7이 8 왼쪽에 위치한다\n",
    "```python\n",
    "List = [5, 1, 2, 7, 8]\n",
    "```\n",
    "`8` 이런식으로 $n - 1$ 번의 사이클을 돌면 자료가 오름차순으로 정렬된다\n",
    "```python\n",
    "List = [1, 2, 5, 7 ,8]\n",
    "```"
   ]
  },
  {
   "cell_type": "markdown",
   "id": "romance-privacy",
   "metadata": {},
   "source": [
    "### 버블 정렬 알고리즘 코드 구현"
   ]
  },
  {
   "cell_type": "code",
   "execution_count": 8,
   "id": "higher-teens",
   "metadata": {},
   "outputs": [
    {
     "name": "stdout",
     "output_type": "stream",
     "text": [
      "[5, 7, 1, 2, 8]\n",
      "[5, 1, 2, 7, 8]\n",
      "[1, 2, 5, 7, 8]\n",
      "[1, 2, 5, 7, 8]\n"
     ]
    }
   ],
   "source": [
    "List = [5, 8, 7, 1, 2]\n",
    "n = len(List)\n",
    "\n",
    "for i in range(n - 1, 0, -1):\n",
    "    for j in range(i):\n",
    "        if List[j + 1] < List[j]:\n",
    "            List[j + 1], List[j] = List[j], List[j + 1]\n",
    "    \n",
    "    print(List)"
   ]
  },
  {
   "cell_type": "markdown",
   "id": "international-timing",
   "metadata": {},
   "source": [
    "## 삽입 정렬 (Insertion sort)\n",
    "\n",
    "`-` 자료 배열의 모든 요소를 앞에서부터 차례대로 이미 정렬된 배열 부분과 비교함\n",
    "\n",
    "`-` 자신의 위치를 찾아 삽입함\n",
    "\n",
    "`-` 일반적으로 선택 정렬, 버블 정렬 보다 빠름"
   ]
  },
  {
   "cell_type": "markdown",
   "id": "intimate-winner",
   "metadata": {},
   "source": [
    "### 삽입 정렬 알고리즘"
   ]
  },
  {
   "cell_type": "markdown",
   "id": "static-coffee",
   "metadata": {},
   "source": [
    "`1` 크기가 $n$인 정렬되지 않은 리스트가 있다\n",
    "```python\n",
    "List = [5, 8, 7, 1, 2]\n",
    "```\n",
    "`2` 두 번째 원소를 부분 리스트에서 적절한 위치에 삽입\n",
    "```python\n",
    "List = [5, 8, 7, 1, 2]\n",
    "```\n",
    "`3` 5와 8을 비교하면 8이 더 크므로 8을 오른쪽을 보낸다\n",
    "```python\n",
    "List = [5, 8, 7, 1, 2]\n",
    "```\n",
    "`4` 세 번째 원소를 부분 리스트에서 적절한 위치에 삽입\n",
    "\n",
    "`5` 7과 8을 비교하면 8이 더 크고 5와 7을 비교하면 7이 더 크므로 5와 8사이에 위치한다\n",
    "```python\n",
    "List = [5, 7, 8, 1, 2]\n",
    "```\n",
    "`6` 네 번째 원소를 부분 리스트에서 적절한 위치에 삽입\n",
    "\n",
    "`7` 1이 부분 리스트 중 가장 작으므로 맨 앞에 삽입\n",
    "```python\n",
    "List = [1, 5, 7, 8, 2]\n",
    "```\n",
    "`8` 마지막 원소를 부분 리스트에서 적절한 위치에 삽입\n",
    "\n",
    "`9` 2는 부분 리스트 중 1 다음으로 작으므로 1 오른쪽에 삽입\n",
    "```python\n",
    "List = [1, 2, 5, 7, 8]\n",
    "```"
   ]
  },
  {
   "cell_type": "markdown",
   "id": "another-mother",
   "metadata": {},
   "source": [
    "### 삽입 정렬 알고리즘 코드 구현"
   ]
  },
  {
   "cell_type": "code",
   "execution_count": 20,
   "id": "forbidden-exercise",
   "metadata": {},
   "outputs": [
    {
     "name": "stdout",
     "output_type": "stream",
     "text": [
      "[5, 8, 7, 1, 2]\n",
      "[5, 7, 8, 1, 2]\n",
      "[1, 5, 7, 8, 2]\n",
      "[1, 2, 5, 7, 8]\n"
     ]
    }
   ],
   "source": [
    "List = [5, 8, 7, 1, 2]\n",
    "n = len(List)\n",
    "\n",
    "for i in range(1, n):\n",
    "    j = i - 1\n",
    "    key = List[i]\n",
    "    while List[j] > key and j >= 0:\n",
    "        List[j + 1] = List[j]\n",
    "        j = j - 1\n",
    "    List[j + 1] = key\n",
    "    print(List)"
   ]
  },
  {
   "cell_type": "markdown",
   "id": "defined-context",
   "metadata": {},
   "source": [
    "# $O(N\\log N)$ 정렬"
   ]
  },
  {
   "cell_type": "markdown",
   "id": "precious-attention",
   "metadata": {},
   "source": [
    "## 병합 정렬 (Merge sort)\n",
    "\n",
    "`-` 리스트 안에 있는 요소들을 왼쪽, 오른쪽 두 그룹으로 나눔\n",
    "\n",
    "`-` 각 그룹을 또 왼쪽, 오른쪽 두 그룹으로 나눔, 이를 요소가 1개 남을 때까지 반복함\n",
    "\n",
    "`-` 나누어진 두 개의 리스트를 병합함\n",
    "\n",
    "`-` 이를 정렬될 때까지 반복함"
   ]
  },
  {
   "cell_type": "markdown",
   "id": "quantitative-tunnel",
   "metadata": {
    "jp-MarkdownHeadingCollapsed": true,
    "tags": []
   },
   "source": [
    "### 병합 정렬 알고리즘 \n",
    "`1` 크기가 $n$인 정렬되지 않은 리스트가 있다\n",
    "```python\n",
    "List = [5, 8, 7, 1, 2, 3, 9, 4]\n",
    "```\n",
    "`2` 그룹을 두 그룹으로 나눈다\n",
    "```python\n",
    "[5, 8, 7, 1], [2, 3, 9, 4]\n",
    "```\n",
    "`3` 각 그룹을 두 그룹으로 나눈다\n",
    "```python\n",
    "[5, 8], [7, 1], [2, 3], [9, 4]\n",
    "```\n",
    "`4` 이를 요소가 1개 남을 때까지 반복한다\n",
    "```python\n",
    "[5], [8], [7], [1], [2], [3], [9], [4]\n",
    "```\n",
    "`5` 이제 나눈 순서의 역순으로 두 그룹씩 오름차순으로 병합한다\n",
    "```python\n",
    "[5, 8], [1, 7], [2, 3], [4, 9]\n",
    "```\n",
    "`6` 이를 정렬이 끝날 때까지 반복한다\n",
    "```python\n",
    "[1, 5, 7, 8], [2, 3, 4, 9]\n",
    "```\n",
    "```python\n",
    "List = [1, 2, 3, 4, 5, 7, 8, 9]\n",
    "```"
   ]
  },
  {
   "cell_type": "markdown",
   "id": "temporal-colorado",
   "metadata": {},
   "source": [
    "### 병합 정렬 알고리즘 코드 구현\n",
    "`-` 위의 병합 정렬 알고리즘을 보면 두 그룹으로 나누고 병합하는 과정을 반복한다\n",
    "\n",
    "`-` 그렇기에 재귀 함수를 사용하여 구현했음 ---> `리스트의 길이가 클 경우 많은 재귀 함수 호출이 이루어지기에 시간이 매우 오래걸림`(내 생각)\n",
    "\n",
    "`-` 먼저 left, right로 나눈 후 나눠진 left를 가지고 또 left, right로 나눈다\n",
    "\n",
    "`-` left를 나누는 것이 끝나면 이제서야 right를 가지고 left, right로 나눈다 "
   ]
  },
  {
   "cell_type": "markdown",
   "id": "brave-rover",
   "metadata": {},
   "source": [
    "- 이 코드는 아래 코드보다 느림\n",
    "\n",
    "`-` `list.pop(0)`은 $O(N)$임\n",
    "\n",
    "```python\n",
    "List = [5, 8, 7, 1, 2, 3, 9, 4]\n",
    "\n",
    "def mergeSort(x):\n",
    "    if len(x) <= 1:\n",
    "        return x\n",
    "    \n",
    "    mid = len(x) // 2\n",
    "    left = x[:mid]\n",
    "    right = x[mid:]\n",
    "    \n",
    "    next_left = mergeSort(left)\n",
    "    next_right = mergeSort(right)\n",
    "    return merge(next_left, next_right)\n",
    "\n",
    "def merge(left, right):\n",
    "    sorted_list = []\n",
    "    \n",
    "    while left and right:\n",
    "        if left[0] < right[0]:\n",
    "            sorted_list.append(left.pop(0))\n",
    "        else:\n",
    "            sorted_list.append(right.pop(0))\n",
    "            \n",
    "    while left:\n",
    "        sorted_list.append(left.pop(0))\n",
    "        \n",
    "    while right:\n",
    "        sorted_list.append(right.pop(0))\n",
    "        \n",
    "    return sorted_list\n",
    "\n",
    "mergeSort(List)\n",
    "```"
   ]
  },
  {
   "cell_type": "markdown",
   "id": "speaking-texture",
   "metadata": {},
   "source": [
    "`-` 그래서 `pop(0)` 함수를 사용하지 않음"
   ]
  },
  {
   "cell_type": "markdown",
   "id": "armed-hampton",
   "metadata": {},
   "source": [
    "`-` 아래의 코드가 이해가 잘 안될 수 있다\n",
    "\n",
    "`-` 그래서 어떻게 split하고 merge가 되는지 알아보기로 하자\n",
    "\n",
    "`-` 밑의 출력을 보니 처음으로 `merge()`에 대입된 left와 right는 `[5]`와 `[8]`임을 알 수 있다\n",
    "\n",
    "`-` 처음으로 넣은 값은 `[5, 8, 7, 1, 2, 3, 9, 4]`인데 신기하다\n",
    "\n",
    "`-` 자세히 살펴보자"
   ]
  },
  {
   "cell_type": "code",
   "execution_count": 10,
   "id": "lonely-utility",
   "metadata": {},
   "outputs": [
    {
     "name": "stdout",
     "output_type": "stream",
     "text": [
      "return 횟수 1\n",
      "[5]\n",
      "[8]\n",
      "return 횟수 2\n",
      "[7]\n",
      "[1]\n",
      "return 횟수 3\n",
      "[5, 8]\n",
      "[1, 7]\n",
      "return 횟수 4\n",
      "[2]\n",
      "[3]\n",
      "return 횟수 5\n",
      "[9]\n",
      "[4]\n",
      "return 횟수 6\n",
      "[2, 3]\n",
      "[4, 9]\n",
      "return 횟수 7\n",
      "[1, 5, 7, 8]\n",
      "[2, 3, 4, 9]\n",
      "\n",
      "정렬된 배열: [1, 2, 3, 4, 5, 7, 8, 9]\n"
     ]
    }
   ],
   "source": [
    "List = [5, 8, 7, 1, 2, 3, 9, 4]\n",
    "k = 0\n",
    "\n",
    "def merge_sort(x): ## 나누기\n",
    "    n = len(x)\n",
    "    if n <= 1:\n",
    "        return x\n",
    "    \n",
    "    mid = n // 2\n",
    "    left = x[:mid] ## mid를 기준으로 왼쪽\n",
    "    right = x[mid:] ## mid를 기준으로 오른쪽\n",
    "    \n",
    "    next_left = merge_sort(left) ## 재귀적으로 나누기\n",
    "    next_right = merge_sort(right) ## 재귀적으로 나누기\n",
    "    \n",
    "    global k\n",
    "    k += 1\n",
    "    print('return 횟수 %s' %k)\n",
    "    \n",
    "    return merge(next_left, next_right)\n",
    "\n",
    "\n",
    "def merge(left, right): ## 병합하기\n",
    "    i = 0 \n",
    "    j = 0\n",
    "    sorted_list = list()  \n",
    "    \n",
    "    print(left)\n",
    "    print(right)\n",
    "    \n",
    "    while i < len(left) and j < len(right): ## left와 right중 더 작은 값 넣기\n",
    "        if left[i] <= right[j]:\n",
    "            sorted_list.append(left[i])\n",
    "            i += 1\n",
    "        else:\n",
    "            sorted_list.append(right[j])\n",
    "            j += 1\n",
    "            \n",
    "    ## left와 right 중 남은 값을 넣어주기    \n",
    "    while i < len(left):\n",
    "        sorted_list.append(left[i])\n",
    "        i += 1\n",
    "        \n",
    "    while j < len(right):\n",
    "        sorted_list.append(right[j])\n",
    "        j += 1\n",
    "        \n",
    "    return sorted_list\n",
    "   \n",
    "print('\\n정렬된 배열:', merge_sort(List)) "
   ]
  },
  {
   "cell_type": "markdown",
   "id": "portuguese-foster",
   "metadata": {},
   "source": [
    "`-` 우선 mergeSort 함수에서 return은 총 7번 일어남을 알 수 있다"
   ]
  },
  {
   "cell_type": "markdown",
   "id": "touched-blues",
   "metadata": {},
   "source": [
    "`-` 각 상황에서 어떤일이 일어나는지 알아보자\n",
    "\n",
    "`1.` 우리는 `print(mergeSort(List))`를 통해 mergeSort 함수에 List라는 input을 넣었다\n",
    "\n",
    "`2.` mergeSort에는 `[5, 8, 7, 1, 2, 3, 9, 4]`이 대입됐다\n",
    "\n",
    "`3.` left는 `[5, 8, 7, 1]`, right는 `[2, 3, 9, 4]`이다\n",
    "\n",
    "`4.` next_left는 `mergeSort([5, 8, 7, 1])`, next_right는 `mergeSort([2, 3, 9, 4])`이다\n",
    "\n",
    "`5.` `merge(next_left, next_right)`값을 return한다\n",
    "\n",
    "`6.` 근데 `merge(next_left, next_right)`를 return하려고 보니까 next_left, next_right 값을 알아야한다\n",
    "\n",
    "`7.` 4번으로 돌아가서 보면 `mergeSort([5, 8, 7, 1])`와 `mergeSort([2, 3, 9, 4])`를 구해야 한다 ---> 그럼 구하면 되지\n",
    "\n",
    "`8.` mergeSort에 `[5, 8, 7, 1]`이 대입된다\n",
    "\n",
    "`9.` 그러면 `mergeSort([5, 8, 7, 1])`는 `merge(mergeSort([5, 8]), mergeSort([7, 1]))`를 return한다\n",
    "\n",
    "`10.` 근데 `mergeSort([5, 8])`, `mergeSort([7, 1])`값은 뭐지?? ---> 이것도 구해야 한다\n",
    "\n",
    "`11.` `mergeSort([5, 8])`을 구하면 next_left = `[5]`, next_right = `[8]`이다\n",
    "\n",
    "`12.` `merge(next_left, next_right)`는 `merge([5], [8])`이 되고 드디어 `merge`함수에 left와 right가 대입된다 ---> 그래서 처음 left와 right로 출력된 값이 `[5]`와 `[8]`이었던 것: `return1`\n",
    "\n",
    "`13.` `merge([5], [8])`은 `[5,8]`인 sorted_list를 return한다 ---> `mergeSort([5, 8])`은 `[5, 8]`을 return한다 즉, `mergeSort([5, 8]) = [5, 8]`\n",
    "\n",
    "`14.` 이제 `mergeSort([5, 8])`를 구했으니 `mergeSort([7, 1])`값을 구할 차례이다\n",
    "\n",
    "`15.` `mergeSort([7, 1])`은 `merge([7], [1])`이고 `[1, 7]`을 return한다 ---> `mergeSort([7, 1]) = [1, 7]`: `return2`\n",
    "\n",
    "`16.` 이제 8번을 보자. 8번은 `merge([5, 8, 7, 1])`이고 `merge(mergeSort([5, 8]), mergeSort([7, 1]))`를 return한다\n",
    "\n",
    "`17.` 이때는 `mergeSort([5, 8])`와 `mergeSort([7, 1])`를 모르는 상태였지만 이제는 구해서 알고 있다\n",
    "\n",
    "`18.` `merge([5, 8], [1, 7])`을 구해보면 sorted_list로 `[1, 5, 7, 8]`을 return한다: `return3`\n",
    "\n",
    "`19.` 이제 `mergeSort([2, 3, 9, 4])`을 구할 차례이다. 이는 위에서 한 방식대로 따라하면 된다\n",
    "\n",
    "`20.` 결과적으로 `print(mergeSort(List))`는 `[1, 2, 3, 4, 5, 7, 8, 9]`을 출력하게 된다"
   ]
  },
  {
   "cell_type": "markdown",
   "id": "ignored-establishment",
   "metadata": {},
   "source": [
    "`-` 메모리 아끼는 병합 정렬 참고: [https://www.daleseo.com/sort-merge/](https://www.daleseo.com/sort-merge/)"
   ]
  },
  {
   "cell_type": "markdown",
   "id": "aa86e52b-160e-48e1-8493-41f5962983f6",
   "metadata": {},
   "source": [
    "## 퀵 정렬 (Quick sort)"
   ]
  },
  {
   "cell_type": "markdown",
   "id": "ab8a82a9-5429-4776-960c-4fb1b5d3ce6f",
   "metadata": {},
   "source": [
    "`-` 피벗을 하나 정하고 피벗을 기준으로 왼쪽에는 피벗보다 작거나 같은 원소가 오른쪽에는 피벗보다 큰 원소가 위치하도록 배열을 변경한다\n",
    "\n",
    "`-` 위에서 나눠진 왼쪽 배열과 오른쪽 배열에 대해서도 위의 연산을 재귀적으로 반복한다"
   ]
  },
  {
   "cell_type": "markdown",
   "id": "0dbc5856-a0e7-42c3-a695-0d2c5bd4e38b",
   "metadata": {
    "tags": []
   },
   "source": [
    "### 퀵 정렬 알고리즘 \n",
    "\n",
    "`1` 크기가 $n$인 정렬되지 않은 리스트가 있다\n",
    "```python\n",
    "List = [5, 8, 7, 1, 3, 2, 9, 4]\n",
    "```\n",
    "`2` 피벗을 하나 정한다 (마지막 원소를 피벗으로 정하겠다)\n",
    "\n",
    "`3` 피벗을 기준으로 왼쪽에는 피벗보다 작은 값만 오른쪽에는 피벗보다 큰 값만 있도록 배열을 변경한다\n",
    "```python\n",
    "[{1, 3, 2}, {4}, {8, 7, 9, 5}] ## { }는 이해를 돕기 위해 표시한 것\n",
    "```\n",
    "`4` 이를 왼쪽 배열과 오른쪽 배열에도 원소가 하나 남을 때까지 재귀적으로 반복한다\n",
    "```python\n",
    "[1, 2, 3, 4, 5, 7, 8, 9]\n",
    "```"
   ]
  },
  {
   "cell_type": "markdown",
   "id": "a9a84dff-196d-4196-80f7-260e2a5db532",
   "metadata": {},
   "source": [
    "## 퀵 정렬 알고리즘 코드 구현"
   ]
  },
  {
   "cell_type": "code",
   "execution_count": 24,
   "id": "cb8e9c1f-6de0-4a68-9bb9-80052f47efbc",
   "metadata": {},
   "outputs": [],
   "source": [
    "def partition(arr, left, right):\n",
    "    ## left는 입력된 배열의 가장 왼쪽 인덱스. right는 가장 오른쪽 인덱스\n",
    "    pivot = arr[right] ## 피벗은 주어진 배열(arr[left:right+1], 끝 값 포함 X)에서 마지막 위치(right)의 원소이다\n",
    "    i = left - 1 ## 피벗보다 작은 값을 넣을 배열의 위치(인덱스) \n",
    "    for j in range(left, right): ## 피벗을 제외한 배열의 인덱스(left~right-1)\n",
    "        if arr[j] <= pivot: ## 피벗보다 작거나 같은 경우\n",
    "            i += 1 ## 값을 하나 넣을 거니까 배열의 위치에 +1\n",
    "            arr[i], arr[j] = arr[j], arr[i] ## 피벗보다 작은 값을 i 인덱스의 값과 swap 한다(메모리 절약을 위해 새로운 list를 안 만듦 ---> in-place algorithm) \n",
    "            print(f'현재 배열의 상태: {arr}') ## 배열이 정렬되는 과정을 확인하자\n",
    "\n",
    "    ## for문이 끝나면 입력된 배열이 다음과 같다 ---> [pivot보다 작거나 같은 값, (p) pivot보다 큰 값, pivot]\n",
    "    ## 이제 pivot을 (p) 위치에 있는 값과 swap 하면 된다\n",
    "    ## 여기서 (p)의 인덱스는 i + 1이다\n",
    "    arr[i + 1], arr[right] = arr[right], arr[i + 1] \n",
    "    \n",
    "    return i + 1 ## 피벗의 인덱스를 리턴한다\n",
    "\n",
    "def quick_sort(arr, left, right):\n",
    "    if left < right:\n",
    "        pivot_idx = partition(arr, left, right) ## 피벗을 기준으로 왼쪽에는 작거나 같은 값을 오른쪽에는 큰 값이 위치하도록 한다 \n",
    "        quick_sort(arr, left, pivot_idx - 1) ## 다시 왼쪽 배열에 대해서 partition \n",
    "        quick_sort(arr, pivot_idx + 1, right) ## 다시 오른쪽 배열에 대해서 partition"
   ]
  },
  {
   "cell_type": "code",
   "execution_count": 26,
   "id": "cbb19ac9-db28-4c78-8a65-f3b8cd0a29bc",
   "metadata": {},
   "outputs": [
    {
     "name": "stdout",
     "output_type": "stream",
     "text": [
      "현재 배열의 상태: [1, 8, 7, 5, 3, 2, 9, 4]\n",
      "현재 배열의 상태: [1, 3, 7, 5, 8, 2, 9, 4]\n",
      "현재 배열의 상태: [1, 3, 2, 5, 8, 7, 9, 4]\n",
      "현재 배열의 상태: [1, 3, 2, 4, 8, 7, 9, 5]\n",
      "현재 배열의 상태: [1, 2, 3, 4, 5, 7, 9, 8]\n",
      "정렬된 배열: [1, 2, 3, 4, 5, 7, 8, 9]\n"
     ]
    }
   ],
   "source": [
    "List = [5, 8, 7, 1, 3, 2, 9, 4]\n",
    "quick_sort(List, 0, len(List) - 1)\n",
    "print(f'정렬된 배열: {List}')"
   ]
  },
  {
   "cell_type": "markdown",
   "id": "c5f93e35-7e23-4a15-bac6-d5362b30058e",
   "metadata": {},
   "source": [
    "`-` 참고: in-place algorithm 이란?\n",
    "\n",
    "`-` 주어진 배열 외에 사용하는 메모리 양을 나타내는 공간복잡도가 $O(1)$임을 의미한다"
   ]
  },
  {
   "cell_type": "markdown",
   "id": "signed-helping",
   "metadata": {},
   "source": [
    "# $O(N)$ 정렬"
   ]
  },
  {
   "cell_type": "markdown",
   "id": "enhanced-concrete",
   "metadata": {},
   "source": [
    "## 계수 정렬\n",
    "`-` 카운팅 정렬이라고도 한다\n",
    "\n",
    "`-` 양수만 가능, 값의 범위가 크면 안됨(메모리 크기를 넘기면 안됨)\n",
    "\n",
    "`-` 수의 범위가 작다면`(입력으로 주어지는 값들의 개수: 0 ~ 1이라고 수의 범위가 작은 것이 아님... 0 ~ 1사이의 수는 무한개이다)` 카운팅 정렬을 통해 빠르게 정렬할 수 있음\n",
    "\n",
    "`-` 비교 정렬이 아님 ---> 위의 코드들은 다른 요소값과 비교하는데 카운팅 정렬은 비교없이 데이터를 정렬함\n",
    "\n",
    "`-` 입력으로 주어지는 input의 개수는 큰데 주어지는 값의 개수가 적다면 메모리 관점에서 효율적이다\n",
    "\n",
    "`-` 예로 input이 최대1억개인데 값이 1 \\~ 10까지라면 위에서 다룬 정렬은 1억크기의 배열이 필요하지만 카운팅 정렬에 경우는 크기가 10인 배열을 만들면 된다\n",
    "\n",
    "`-` 하지만, 최대 수를 기준으로 배열을 만든다(최대값이 100인 경우 크기가 100인 리스트 생성)\n",
    "\n",
    "`-` 그렇기에 `[0, 1, 1, 1, 100]`인 리스트를 정렬한다고 보면 숫자는 3개 뿐이지만 최대값이 100이므로 크기가 100인 리스트를 만들어야 한다 ---> 심한 메모리 낭비"
   ]
  },
  {
   "cell_type": "markdown",
   "id": "exotic-fiction",
   "metadata": {},
   "source": [
    "### 계수 정렬 알고리즘 "
   ]
  },
  {
   "cell_type": "markdown",
   "id": "personalized-champagne",
   "metadata": {},
   "source": [
    "`1` 최대 값이 k인 크기가 $n$인 정렬되지 않은 리스트가 있다\n",
    "```python\n",
    "List = [5, 8, 7, 1, 1, 3, 9]\n",
    "```\n",
    "`2` k = 10 이라고 가정하자. [0] * (k+1) 리스트를 만든다 --> 파이썬에서 인덱스는 0부터 시작하기 때문\n",
    "```python\n",
    "count = [0, 0, 0, 0, 0, 0, 0, 0, 0, 0, 0]\n",
    "```\n",
    "`3` List 요소의 값을 x라 하면 count[x]의 값을 +1 해준다\n",
    "```python\n",
    "count = [0, 2, 0, 1, 0, 1, 0, 1, 1, 1, 0]\n",
    "```\n",
    "`4` count 리스트에서 자기(x) 앞에 몇개의 숫자가 있는지를 바탕으로 x의 위치를 결정하여 정렬한다. 예로 3의 경우 자기 앞에 숫자 2개가 있으므로 3번째이다\n",
    "```python\n",
    "List = [1, 1, 3, 5, 7, 8, 9]\n",
    "```"
   ]
  },
  {
   "cell_type": "markdown",
   "id": "exact-monitoring",
   "metadata": {},
   "source": [
    "### 계수 정렬 알고리즘 코드 구현"
   ]
  },
  {
   "cell_type": "code",
   "execution_count": 34,
   "id": "precise-independence",
   "metadata": {},
   "outputs": [
    {
     "name": "stdout",
     "output_type": "stream",
     "text": [
      "[1, 1, 3, 5, 7, 8, 9]\n"
     ]
    }
   ],
   "source": [
    "List = [5, 8, 7, 1, 1, 3, 9] \n",
    "\n",
    "def counting_sort(arr):\n",
    "    count = [0] * (max(arr) + 1)\n",
    "    sorted_list = [0] * len(arr) \n",
    "    \n",
    "    for i in arr:\n",
    "        count[i] += 1\n",
    "        ## arr에 있는 수를 몇개인지 카운팅함\n",
    "        \n",
    "    for j in range(1, max(arr) + 1):\n",
    "        count[j] += count[j - 1]\n",
    "        ## count[j] 앞에 몇 개의 숫자가 있는지 저장\n",
    "        ## count[5] = 10이라면 5가 x번 등장했다고 할 때 5앞에 10-x개의 숫자가 있다는 의미이므로 sorted_list[10-x : x]에 5가 위치한다. (x 번째 포함 no, x-1번째 까지)\n",
    "        \n",
    "    for k in range(len(arr)):\n",
    "        sorted_list[count[arr[k]] - 1] = arr[k] ## 인덱스는 0부터 시작하므로 -1을 해줌\n",
    "        count[arr[k]] -= 1\n",
    "    \n",
    "    return sorted_list\n",
    "\n",
    "print(counting_sort(List))"
   ]
  },
  {
   "cell_type": "code",
   "execution_count": null,
   "id": "incredible-conviction",
   "metadata": {},
   "outputs": [],
   "source": []
  }
 ],
 "metadata": {
  "kernelspec": {
   "display_name": "Python 3 (ipykernel)",
   "language": "python",
   "name": "python3"
  },
  "language_info": {
   "codemirror_mode": {
    "name": "ipython",
    "version": 3
   },
   "file_extension": ".py",
   "mimetype": "text/x-python",
   "name": "python",
   "nbconvert_exporter": "python",
   "pygments_lexer": "ipython3",
   "version": "3.8.11"
  }
 },
 "nbformat": 4,
 "nbformat_minor": 5
}
