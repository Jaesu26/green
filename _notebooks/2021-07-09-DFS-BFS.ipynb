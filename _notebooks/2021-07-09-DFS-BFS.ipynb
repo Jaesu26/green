{
 "cells": [
  {
   "cell_type": "markdown",
   "id": "frequent-google",
   "metadata": {},
   "source": [
    "# DFS와 BFS 알고리즘\n",
    "\n",
    "> \"작성 완료\"\n",
    "\n",
    "- toc: true\n",
    "- branch: master\n",
    "- badges: true\n",
    "- comments: true\n",
    "- author: 한재수\n",
    "- categories: [python, algorithm]"
   ]
  },
  {
   "cell_type": "markdown",
   "id": "directed-mayor",
   "metadata": {},
   "source": [
    "# 깊이 우선 탐색(Depth First Search, DFS)\n",
    "`-` 모든 정점을 한번만 방문\n",
    "\n",
    "`-` 시작 노드에서 다음 분기로 넘어가기 전에 해당 분기를 완벽하게 탐색\n",
    "\n",
    "`-` `방문할 노드`와 `방문한 노드`를 기준으로 탐색\n",
    "\n",
    "`-` 특정 노드가 `방문할 노드` --> `탐색`, `방문한 노드` --> `지나감`\n",
    "\n",
    "`-` 그래프나 트리는 `dictionary`로 생성\n",
    "\n",
    "`-` `stack 구조` 와 `재귀 함수`로 구현 가능"
   ]
  },
  {
   "cell_type": "markdown",
   "id": "progressive-fitting",
   "metadata": {},
   "source": [
    "## DFS 장점\n",
    "`-` 단지 현 경로상의 노드들만을 기억하면 되므로 저장공간의 수요가 비교적 적음\n",
    "\n",
    "`-` 목표노드가 깊은 단계에 있을 경우 해를 빨리 구함"
   ]
  },
  {
   "cell_type": "markdown",
   "id": "hidden-impression",
   "metadata": {},
   "source": [
    "## DFS 단점\n",
    "`-` 해가 없는 경로에 깊이 빠질 가능성 존재\n",
    "\n",
    "`-` 얻어진 해가 최단 경로가 된다는 보장이 없음 --> 목표에 이르는 경로가 다수일 때 해에 다다르면 탐색을 끝내버림 --> 이때 얻어진 해는 최적이 아닐 수 있음"
   ]
  },
  {
   "cell_type": "markdown",
   "id": "strategic-validity",
   "metadata": {},
   "source": [
    "- DFS 참고: [깊이 우선 탐색](https://ko.wikipedia.org/wiki/%EA%B9%8A%EC%9D%B4_%EC%9A%B0%EC%84%A0_%ED%83%90%EC%83%89)"
   ]
  },
  {
   "cell_type": "markdown",
   "id": "bright-reproduction",
   "metadata": {},
   "source": [
    "## DFS 코드 구현"
   ]
  },
  {
   "cell_type": "markdown",
   "id": "surrounded-chart",
   "metadata": {},
   "source": [
    "`-` tree 구조\n",
    "\n",
    "`-` stack 자료 구조 활용: 후입선출(한쪽면이 막힌 원통)\n",
    "\n",
    "`-` 노드: [A], [B], [C], [D], [E], [F], [G], [H], [I], [J]\n",
    "\n",
    "`-` 분기: [A, B, E], [A, B, F, I], [A, C, G], [A, D, H, I]"
   ]
  },
  {
   "cell_type": "code",
   "execution_count": 2,
   "id": "collect-timing",
   "metadata": {},
   "outputs": [],
   "source": [
    "tree = {'A': ['B', 'C', 'D'], ## A는 B, C, D와 연결됨\n",
    "        'B': ['A', 'E', 'F'], ## B는 A, E, F와 연결됨\n",
    "        'C': ['A', 'G'],      ## C는 A, G와 연결됨\n",
    "        'D': ['A', 'H'],      ## D는 A, H와 연결됨\n",
    "        'E': ['B'],           ## E는 B와 연결됨\n",
    "        'F': ['B', 'I'],      ## F는 B, I와 연결됨\n",
    "        'G': ['C'],           ## G는 C와 연결됨\n",
    "        'H': ['D', 'J'],      ## H는 D, J와 연결됨\n",
    "        'I': ['F'],           ## I는 F와 연결됨\n",
    "        'J': ['H']}           ## J는 H와 연결됨 \n"
   ]
  },
  {
   "cell_type": "markdown",
   "id": "activated-overhead",
   "metadata": {},
   "source": [
    "### 리스트 활용\n",
    "`-` 파이썬에서 리스트는 stack구조여서 DFS에 활용 가능\n",
    "\n",
    "`-` `list.pop(i)`은 성능이 떨어짐, i번째 이후 원소들을 한 칸씩 앞으로 땡겨야하기 때문 --> $O(N)$ \n",
    "\n",
    "`-` 비고: $O(N-i) \\to O(N)$ 최악의 경우(0번째 인덱스)\n",
    "\n",
    "`-` `list.pop()`은 마지막 원소만 pop하므로 $O(1)$ \n",
    "\n",
    "`-` `list.pop()`--> 맨 마지막에 넣었던 노드를 가져옴: `stack구조`와 동일(후입선출)"
   ]
  },
  {
   "cell_type": "code",
   "execution_count": 8,
   "id": "expired-details",
   "metadata": {},
   "outputs": [
    {
     "name": "stdout",
     "output_type": "stream",
     "text": [
      "['A']\n",
      "['D', 'C', 'B']\n",
      "-------------------------------------------------------\n",
      "['A', 'B']\n",
      "['D', 'C', 'F', 'E', 'A']\n",
      "-------------------------------------------------------\n",
      "['A', 'B']\n",
      "['D', 'C', 'F', 'E']\n",
      "-------------------------------------------------------\n",
      "['A', 'B', 'E']\n",
      "['D', 'C', 'F', 'B']\n",
      "-------------------------------------------------------\n",
      "['A', 'B', 'E']\n",
      "['D', 'C', 'F']\n",
      "-------------------------------------------------------\n",
      "['A', 'B', 'E', 'F']\n",
      "['D', 'C', 'I', 'B']\n",
      "-------------------------------------------------------\n",
      "['A', 'B', 'E', 'F']\n",
      "['D', 'C', 'I']\n",
      "-------------------------------------------------------\n",
      "['A', 'B', 'E', 'F', 'I']\n",
      "['D', 'C', 'F']\n",
      "-------------------------------------------------------\n",
      "['A', 'B', 'E', 'F', 'I']\n",
      "['D', 'C']\n",
      "-------------------------------------------------------\n",
      "['A', 'B', 'E', 'F', 'I', 'C']\n",
      "['D', 'G', 'A']\n",
      "-------------------------------------------------------\n",
      "['A', 'B', 'E', 'F', 'I', 'C']\n",
      "['D', 'G']\n",
      "-------------------------------------------------------\n",
      "['A', 'B', 'E', 'F', 'I', 'C', 'G']\n",
      "['D', 'C']\n",
      "-------------------------------------------------------\n",
      "['A', 'B', 'E', 'F', 'I', 'C', 'G']\n",
      "['D']\n",
      "-------------------------------------------------------\n",
      "['A', 'B', 'E', 'F', 'I', 'C', 'G', 'D']\n",
      "['H', 'A']\n",
      "-------------------------------------------------------\n",
      "['A', 'B', 'E', 'F', 'I', 'C', 'G', 'D']\n",
      "['H']\n",
      "-------------------------------------------------------\n",
      "['A', 'B', 'E', 'F', 'I', 'C', 'G', 'D', 'H']\n",
      "['J', 'D']\n",
      "-------------------------------------------------------\n",
      "['A', 'B', 'E', 'F', 'I', 'C', 'G', 'D', 'H']\n",
      "['J']\n",
      "-------------------------------------------------------\n",
      "['A', 'B', 'E', 'F', 'I', 'C', 'G', 'D', 'H', 'J']\n",
      "['H']\n",
      "-------------------------------------------------------\n",
      "['A', 'B', 'E', 'F', 'I', 'C', 'G', 'D', 'H', 'J']\n",
      "[]\n",
      "-------------------------------------------------------\n"
     ]
    },
    {
     "data": {
      "text/plain": [
       "['A', 'B', 'E', 'F', 'I', 'C', 'G', 'D', 'H', 'J']"
      ]
     },
     "execution_count": 8,
     "metadata": {},
     "output_type": "execute_result"
    }
   ],
   "source": [
    "def DFS_list(graph, start_node):\n",
    "    visited = [] ## 방문한 노드\n",
    "    stack = [] ## 방문할 노드\n",
    "    stack.append(start_node) ## 방문할 노드에 시작 노드 추가\n",
    "\n",
    "    while stack:  ## 방문할 노드가 있다면(리스트에 원소가 있으면 True)\n",
    "        node = stack.pop() ## 마지막 노드 추가(스택 구조 사용) \n",
    "        \n",
    "        if node not in visited:  ## 만약 아직 방문한 노드가 아니라면\n",
    "            visited.append(node)  ## 이제 방문했으니까 방문한 노드에 추가\n",
    "            stack.extend(reversed(graph[node])) ## 방문한 노드에 연결된 노드를 탐색해보자\n",
    "            \n",
    "        print(visited)\n",
    "        print(stack)\n",
    "        print('-------------------------------------------------------') ## 방문과정 확인\n",
    "    \n",
    "    return visited ## 방문한 노드를 반환\n",
    "\n",
    "DFS_list(tree, 'A') ## 마지막은 return 값\n"
   ]
  },
  {
   "cell_type": "markdown",
   "id": "metric-utilization",
   "metadata": {},
   "source": [
    "`-` return 결과를 보면 DFS 방식임을 알 수 있다"
   ]
  },
  {
   "cell_type": "markdown",
   "id": "assured-collector",
   "metadata": {},
   "source": [
    "### 해시 테이블 활용"
   ]
  },
  {
   "cell_type": "markdown",
   "id": "governmental-intranet",
   "metadata": {},
   "source": [
    "`-` `if node not in visited:` --> `visited`가 `list`인 경우 $O(N)$의 시간복잡도를 가짐\n",
    "\n",
    "`-` visited도 `해시 테이블`(`key: value` 관계인 자료형: 파이썬의 `dictionary`)로 구현하면 $O(1)$로 효율$\\uparrow$\n",
    "\n",
    "`-` 해시 테이블에 관한 좋은 영상"
   ]
  },
  {
   "cell_type": "markdown",
   "id": "65c8a2e4-d2a6-4f4a-b005-00ca21167d39",
   "metadata": {},
   "source": [
    "> youtube: https://www.youtube.com/watch?v=HraOg7W3VAM"
   ]
  },
  {
   "cell_type": "code",
   "execution_count": 12,
   "id": "optional-convergence",
   "metadata": {},
   "outputs": [
    {
     "data": {
      "text/plain": [
       "['A', 'B', 'E', 'F', 'I', 'C', 'G', 'D', 'H', 'J']"
      ]
     },
     "execution_count": 12,
     "metadata": {},
     "output_type": "execute_result"
    }
   ],
   "source": [
    "def DFS_Hash_Table(graph, start_node):\n",
    "    visited = {} ## 방문한 노드\n",
    "    stack = [] ## 방문할 노드\n",
    "    stack.append(start_node) ## 방문할 노드에 시작 노드 추가\n",
    "\n",
    "    while stack:  ## 방문할 노드가 있다면(리스트에 원소가 있으면 True)\n",
    "        node = stack.pop() ## 마지막 노드 추가(스택 구조 사용) \n",
    "        \n",
    "        if node not in visited:  ## 만약 아직 방문한 노드가 아니라면\n",
    "            visited[node] = True  ## 이제 방문했으니까 방문한 노드에 추가\n",
    "            stack.extend(reversed(graph[node])) ## 방문한 노드에 연결된 노드를 탐색해보자\n",
    "            \n",
    "    return list(visited.keys()) ## 방문한 노드를 반환\n",
    "\n",
    "DFS_list(tree, 'A') ## 마지막은 return 값"
   ]
  },
  {
   "cell_type": "markdown",
   "id": "elegant-haiti",
   "metadata": {},
   "source": [
    "`-` list를 활용한 코드와 return 결과는 동일하다\n",
    "\n",
    "`-` 시간복잡도면에서 list를 활용한 것 보다 Hash Table을 사용한 것이 성능이 우월하다\n",
    "\n",
    "`-` return 결과를 보면 DFS 방식임을 알 수 있다"
   ]
  },
  {
   "cell_type": "markdown",
   "id": "overall-vintage",
   "metadata": {},
   "source": [
    "### 재귀함수 활용"
   ]
  },
  {
   "cell_type": "code",
   "execution_count": 16,
   "id": "further-career",
   "metadata": {},
   "outputs": [
    {
     "data": {
      "text/plain": [
       "['A', 'B', 'E', 'F', 'I', 'C', 'G', 'D', 'H', 'J']"
      ]
     },
     "execution_count": 16,
     "metadata": {},
     "output_type": "execute_result"
    }
   ],
   "source": [
    "def DFS_recursive(graph, start_node, visited = {}):\n",
    "    visited[start_node] = True\n",
    " \n",
    "    for node in graph[start_node]:\n",
    "        \n",
    "        if node not in visited:\n",
    "            DFS_recursive(graph, node, visited)\n",
    "            \n",
    "            ## 간단히 설명 -> 처음 시작 노드는 'A' -> 'A'를 visited에 추가 'A'의 node는 ['B', 'C', 'D']\n",
    "            ## -> 'B'는 아직 방문 안했음 -> 재귀함수 실행 -> 'B'를 start_node로 하여 visited에 추가 ->'B'의 node는 ['A', E', 'F']\n",
    "            ## -> 'A'는 이미 방문했음 -> pass\n",
    "            ## -> 'E'는 아직 방문 안했음 -> 재귀함수 실행 -> 'E'를 start_node로 하여 visited에 추가 -> 'E'의 node는 ['B']\n",
    "            ## -> 'B'는 이미 방문했음 -> pass\n",
    "            ## -> 'B'의 node로 'A', 'E' 방문 했고 이제 'F'만 남았음\n",
    "            ## -> 'F'는 아직 방문 안했음 -> 재귀함수 실행 -> 'F'를 start_node로 하여 visited에 추가 -> 'F'의 node는 ['B', 'I']\n",
    "            ## -> 'B'는 이미 방문했음 -> pass\n",
    "            ## -> 'I'는 아직 방문 안했음 -> 재귀함수 실행 -> 'I'를 start_node로 하여 visited에 추가 -> 'I'의 node는 [F]\n",
    "            ## -> 'F'는 이미 방문했음 -> pass\n",
    "            ## -> 'A'의 node인 ['B', 'C', 'D']중 'B'를 방문 끝냈으므로 'B'를 탐색했던 것처럼 나머지 'C'와 'D'도 탐색하면 끝임\n",
    "            \n",
    "    return list(visited.keys())\n",
    "\n",
    "DFS_recursive(tree, 'A')"
   ]
  },
  {
   "cell_type": "markdown",
   "id": "future-detective",
   "metadata": {},
   "source": [
    "`-` 재귀함수를 사용하여 방문한 노드를 visited에 추가한다"
   ]
  },
  {
   "cell_type": "markdown",
   "id": "directed-joining",
   "metadata": {},
   "source": [
    "`-` return 결과를 보면 DFS 방식임을 알 수 있다"
   ]
  },
  {
   "cell_type": "markdown",
   "id": "bacterial-stuart",
   "metadata": {},
   "source": [
    "# 너비 우선 탐색(Breadth First Search, BFS)"
   ]
  },
  {
   "cell_type": "markdown",
   "id": "sacred-jones",
   "metadata": {},
   "source": [
    "`-` 모든 정점을 한번만 방문\n",
    "\n",
    "`-` 시작 노드에서 인접한 다음 분기로 넘어가면서 탐색\n",
    "\n",
    "`-` 넘어갈 분기가 없으면 하위 노드를 탐색\n",
    "\n",
    "`-` `방문할 노드`와 `방문한 노드`를 기준으로 탐색\n",
    "\n",
    "`-` 특정 노드가 `방문할 노드` --> `탐색`, `방문한 노드` --> `지나감`\n",
    "\n",
    "`-` 그래프나 트리는 `dictionary`로 생성\n",
    "\n",
    "`-` `queue 구조`로 구현 가능"
   ]
  },
  {
   "cell_type": "markdown",
   "id": "physical-regression",
   "metadata": {},
   "source": [
    "## BFS 장점"
   ]
  },
  {
   "cell_type": "markdown",
   "id": "fewer-hungarian",
   "metadata": {},
   "source": [
    "`-` 출발노드에서 목표노드까지의 최단 길이 경로를 보장"
   ]
  },
  {
   "cell_type": "markdown",
   "id": "french-visibility",
   "metadata": {},
   "source": [
    "## BFS 단점"
   ]
  },
  {
   "cell_type": "markdown",
   "id": "acting-costume",
   "metadata": {},
   "source": [
    "`-` 경로가 매우 길 경우에는 탐색 가지가 급격히 증가함에 따라 보다 많은 기억 공간을 필요\n",
    "\n",
    "`-` 해가 존재하지 않는다면 유한 그래프(finite graph)의 경우에는 모든 그래프를 탐색한 후에 실패로 끝남\n",
    "\n",
    "`-` 무한 그래프(infinite graph)의 경우에는 결코 해를 찾지도 못하고, 끝내지도 못함"
   ]
  },
  {
   "cell_type": "markdown",
   "id": "vietnamese-aspect",
   "metadata": {},
   "source": [
    "- BFS 참고: [너비 우선 탐색](https://ko.wikipedia.org/wiki/%EB%84%88%EB%B9%84_%EC%9A%B0%EC%84%A0_%ED%83%90%EC%83%89)"
   ]
  },
  {
   "cell_type": "markdown",
   "id": "thorough-giving",
   "metadata": {},
   "source": [
    "## BFS 코드 구현"
   ]
  },
  {
   "cell_type": "markdown",
   "id": "stylish-disposal",
   "metadata": {},
   "source": [
    "`-` tree 구조\n",
    "\n",
    "`-` queue 자료 구조 활용: 선입선출(양쪽 면이 뚫린 원통)\n",
    "\n",
    "`-` 노드: [A], [B], [C], [D], [E], [F], [G], [H], [I], [J]\n",
    "\n",
    "`-` 분기: [A, B, E], [A, B, F, I], [A, C, G], [A, D, H, I]"
   ]
  },
  {
   "cell_type": "markdown",
   "id": "executed-sword",
   "metadata": {},
   "source": [
    "### deque 활용 "
   ]
  },
  {
   "cell_type": "markdown",
   "id": "japanese-condition",
   "metadata": {},
   "source": [
    "`-` 성능이 좋음 --> $O(1)$\n",
    "\n",
    "`-` 사용: from collections import deque\n",
    "\n",
    "`-` 만약 queue = list()라면 queue.pop(0)을 해야함 --> $O(N)$\n",
    "\n",
    "`-` deque를 사용하여 queue.pop(0)대신 queue.popleft( ) 사용 --> $O(1)$\n",
    "\n",
    "`-` DFS와 마찬가지로 visited는 해시 테이블로 구현"
   ]
  },
  {
   "cell_type": "code",
   "execution_count": 17,
   "id": "unnecessary-circle",
   "metadata": {},
   "outputs": [
    {
     "name": "stdout",
     "output_type": "stream",
     "text": [
      "['A']\n",
      "deque(['B', 'C', 'D'])\n",
      "-------------------------------------------------------\n",
      "['A', 'B']\n",
      "deque(['C', 'D', 'A', 'E', 'F'])\n",
      "-------------------------------------------------------\n",
      "['A', 'B', 'C']\n",
      "deque(['D', 'A', 'E', 'F', 'A', 'G'])\n",
      "-------------------------------------------------------\n",
      "['A', 'B', 'C', 'D']\n",
      "deque(['A', 'E', 'F', 'A', 'G', 'A', 'H'])\n",
      "-------------------------------------------------------\n",
      "['A', 'B', 'C', 'D']\n",
      "deque(['E', 'F', 'A', 'G', 'A', 'H'])\n",
      "-------------------------------------------------------\n",
      "['A', 'B', 'C', 'D', 'E']\n",
      "deque(['F', 'A', 'G', 'A', 'H', 'B'])\n",
      "-------------------------------------------------------\n",
      "['A', 'B', 'C', 'D', 'E', 'F']\n",
      "deque(['A', 'G', 'A', 'H', 'B', 'B', 'I'])\n",
      "-------------------------------------------------------\n",
      "['A', 'B', 'C', 'D', 'E', 'F']\n",
      "deque(['G', 'A', 'H', 'B', 'B', 'I'])\n",
      "-------------------------------------------------------\n",
      "['A', 'B', 'C', 'D', 'E', 'F', 'G']\n",
      "deque(['A', 'H', 'B', 'B', 'I', 'C'])\n",
      "-------------------------------------------------------\n",
      "['A', 'B', 'C', 'D', 'E', 'F', 'G']\n",
      "deque(['H', 'B', 'B', 'I', 'C'])\n",
      "-------------------------------------------------------\n",
      "['A', 'B', 'C', 'D', 'E', 'F', 'G', 'H']\n",
      "deque(['B', 'B', 'I', 'C', 'D', 'J'])\n",
      "-------------------------------------------------------\n",
      "['A', 'B', 'C', 'D', 'E', 'F', 'G', 'H']\n",
      "deque(['B', 'I', 'C', 'D', 'J'])\n",
      "-------------------------------------------------------\n",
      "['A', 'B', 'C', 'D', 'E', 'F', 'G', 'H']\n",
      "deque(['I', 'C', 'D', 'J'])\n",
      "-------------------------------------------------------\n",
      "['A', 'B', 'C', 'D', 'E', 'F', 'G', 'H', 'I']\n",
      "deque(['C', 'D', 'J', 'F'])\n",
      "-------------------------------------------------------\n",
      "['A', 'B', 'C', 'D', 'E', 'F', 'G', 'H', 'I']\n",
      "deque(['D', 'J', 'F'])\n",
      "-------------------------------------------------------\n",
      "['A', 'B', 'C', 'D', 'E', 'F', 'G', 'H', 'I']\n",
      "deque(['J', 'F'])\n",
      "-------------------------------------------------------\n",
      "['A', 'B', 'C', 'D', 'E', 'F', 'G', 'H', 'I', 'J']\n",
      "deque(['F', 'H'])\n",
      "-------------------------------------------------------\n",
      "['A', 'B', 'C', 'D', 'E', 'F', 'G', 'H', 'I', 'J']\n",
      "deque(['H'])\n",
      "-------------------------------------------------------\n",
      "['A', 'B', 'C', 'D', 'E', 'F', 'G', 'H', 'I', 'J']\n",
      "deque([])\n",
      "-------------------------------------------------------\n"
     ]
    },
    {
     "data": {
      "text/plain": [
       "['A', 'B', 'C', 'D', 'E', 'F', 'G', 'H', 'I', 'J']"
      ]
     },
     "execution_count": 17,
     "metadata": {},
     "output_type": "execute_result"
    }
   ],
   "source": [
    "def BFS_queue(graph, start_node):\n",
    "    from collections import deque ## deque패키지 import\n",
    "    visited = {} ## 방문한 노드\n",
    "    queue = deque() ## 방문할 노드\n",
    "    queue.append(start_node) ## 방문할 노드에 시작 노드 추가\n",
    "\n",
    "    while queue:  ## 방문할 노드가 있다면(리스트에 원소가 있으면 True)\n",
    "        node = queue.popleft() ## 첫번째 노드 추가(큐 구조 사용) \n",
    "        \n",
    "        if node not in visited:  ## 만약 아직 방문한 노드가 아니라면\n",
    "            visited[node] = True  ## 이제 방문했으니까 방문한 노드에 추가\n",
    "            queue.extend(graph[node]) ## 방문한 노드에 연결된 노드를 탐색해보자\n",
    "       \n",
    "        print(list(visited.keys()))\n",
    "        print(queue)\n",
    "        print('-------------------------------------------------------') ## 방문과정 확인\n",
    "\n",
    "    return list(visited.keys()) ## 방문한 노드를 반환\n",
    "\n",
    "BFS_queue(tree, 'A')"
   ]
  },
  {
   "cell_type": "markdown",
   "id": "promising-partner",
   "metadata": {},
   "source": [
    "`-` return 결과를 보면 BFS 방식임을 알 수 있다"
   ]
  }
 ],
 "metadata": {
  "kernelspec": {
   "display_name": "Python 3 (ipykernel)",
   "language": "python",
   "name": "python3"
  },
  "language_info": {
   "codemirror_mode": {
    "name": "ipython",
    "version": 3
   },
   "file_extension": ".py",
   "mimetype": "text/x-python",
   "name": "python",
   "nbconvert_exporter": "python",
   "pygments_lexer": "ipython3",
   "version": "3.8.11"
  }
 },
 "nbformat": 4,
 "nbformat_minor": 5
}
