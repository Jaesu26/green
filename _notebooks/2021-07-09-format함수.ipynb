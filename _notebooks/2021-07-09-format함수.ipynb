{
 "cells": [
  {
   "cell_type": "markdown",
   "id": "collect-softball",
   "metadata": {},
   "source": [
    "# format 함수\n",
    "\n",
    "> \"작성 완료\"\n",
    "\n",
    "- toc: true\n",
    "- branch: master\n",
    "- badges: true\n",
    "- comments: true\n",
    "- author: 한재수\n",
    "- categories: [python]"
   ]
  },
  {
   "cell_type": "markdown",
   "id": "formed-circular",
   "metadata": {},
   "source": [
    "## format 함수"
   ]
  },
  {
   "cell_type": "markdown",
   "id": "competent-lighting",
   "metadata": {},
   "source": [
    "`-` 문자열을 포매팅(formatting)하는데 사용\n",
    "\n",
    "`-` 포매팅: 문자열의 원하는 위치에 특정 변수를 삽입\n",
    "\n",
    "`-` 아래 예제를 보자"
   ]
  },
  {
   "cell_type": "code",
   "execution_count": 1,
   "id": "robust-things",
   "metadata": {},
   "outputs": [
    {
     "data": {
      "text/plain": [
       "'이름:홍길동,나이:21,성별:남'"
      ]
     },
     "execution_count": 1,
     "metadata": {},
     "output_type": "execute_result"
    }
   ],
   "source": [
    "'이름:{},나이:{},성별:{}'.format('홍길동','21','남')"
   ]
  },
  {
   "cell_type": "markdown",
   "id": "developed-croatia",
   "metadata": {},
   "source": [
    "`-` 순서대로 `홍길동`, `21`, `남`이 `{}`에 삽입됨"
   ]
  },
  {
   "cell_type": "markdown",
   "id": "lonely-shooting",
   "metadata": {},
   "source": [
    "`-` 구구단도 쉽게 출력할 수 있음"
   ]
  },
  {
   "cell_type": "code",
   "execution_count": 4,
   "id": "preceding-tissue",
   "metadata": {},
   "outputs": [
    {
     "name": "stdout",
     "output_type": "stream",
     "text": [
      "2 X 1 = 2\n",
      "2 X 2 = 4\n",
      "2 X 3 = 6\n",
      "2 X 4 = 8\n",
      "2 X 5 = 10\n",
      "2 X 6 = 12\n",
      "2 X 7 = 14\n",
      "2 X 8 = 16\n",
      "2 X 9 = 18\n"
     ]
    }
   ],
   "source": [
    "i = 2\n",
    "for j in range(1, 10):\n",
    "    print('{} X {} = {}'.format(i, j, i*j))"
   ]
  },
  {
   "cell_type": "markdown",
   "id": "printable-crystal",
   "metadata": {},
   "source": [
    "### [$\\star$]소수점 자릿수 표현[$\\star$]"
   ]
  },
  {
   "cell_type": "markdown",
   "id": "agricultural-beaver",
   "metadata": {},
   "source": [
    "`-` 알고리즘 문제를 풀다보면 특정 소수점 자릿수까지 출력을 요구할 때가 있음\n",
    "\n",
    "`-` 계산 결과를 소수점 셋째 자리 까지 표현하려면?"
   ]
  },
  {
   "cell_type": "code",
   "execution_count": 9,
   "id": "naval-possibility",
   "metadata": {},
   "outputs": [
    {
     "data": {
      "text/plain": [
       "3.3333333333333335"
      ]
     },
     "execution_count": 9,
     "metadata": {},
     "output_type": "execute_result"
    }
   ],
   "source": [
    "a = 10\n",
    "b = 3\n",
    "a / b"
   ]
  },
  {
   "cell_type": "markdown",
   "id": "minor-mother",
   "metadata": {},
   "source": [
    "`-` 소수점 셋째 짜리 까지 표현하고 싶음\n",
    "\n",
    "`-` format 함수 사용!"
   ]
  },
  {
   "cell_type": "code",
   "execution_count": 21,
   "id": "preceding-internet",
   "metadata": {},
   "outputs": [
    {
     "name": "stdout",
     "output_type": "stream",
     "text": [
      "3.333\n"
     ]
    }
   ],
   "source": [
    "a = 10\n",
    "b = 3\n",
    "print('{:.3f}'.format(a / b))"
   ]
  },
  {
   "cell_type": "markdown",
   "id": "color-partnership",
   "metadata": {},
   "source": [
    "`-` round 함수도 되는데?\n",
    "\n",
    "`-` `round(x, a)` --> x를 소수점 a번째 까지 나타냄"
   ]
  },
  {
   "cell_type": "code",
   "execution_count": 14,
   "id": "beginning-arcade",
   "metadata": {},
   "outputs": [
    {
     "data": {
      "text/plain": [
       "3.333"
      ]
     },
     "execution_count": 14,
     "metadata": {},
     "output_type": "execute_result"
    }
   ],
   "source": [
    "a = 10\n",
    "b = 3\n",
    "round(a / b, 3)"
   ]
  },
  {
   "cell_type": "markdown",
   "id": "terminal-standard",
   "metadata": {},
   "source": [
    "`-` 아래와 같은 경우는?"
   ]
  },
  {
   "cell_type": "code",
   "execution_count": 16,
   "id": "extreme-alfred",
   "metadata": {},
   "outputs": [
    {
     "data": {
      "text/plain": [
       "5.0"
      ]
     },
     "execution_count": 16,
     "metadata": {},
     "output_type": "execute_result"
    }
   ],
   "source": [
    "a = 10\n",
    "b = 2\n",
    "a / b"
   ]
  },
  {
   "cell_type": "markdown",
   "id": "whole-nowhere",
   "metadata": {},
   "source": [
    "`-` format 함수"
   ]
  },
  {
   "cell_type": "code",
   "execution_count": 20,
   "id": "entertaining-directive",
   "metadata": {},
   "outputs": [
    {
     "name": "stdout",
     "output_type": "stream",
     "text": [
      "5.000\n"
     ]
    }
   ],
   "source": [
    "a = 10\n",
    "b = 2\n",
    "print('{:.3f}'.format(a / b))"
   ]
  },
  {
   "cell_type": "markdown",
   "id": "subjective-exhibition",
   "metadata": {},
   "source": [
    "`-` round 함수"
   ]
  },
  {
   "cell_type": "code",
   "execution_count": 19,
   "id": "wicked-alliance",
   "metadata": {},
   "outputs": [
    {
     "data": {
      "text/plain": [
       "5.0"
      ]
     },
     "execution_count": 19,
     "metadata": {},
     "output_type": "execute_result"
    }
   ],
   "source": [
    "a = 10\n",
    "b = 2\n",
    "round(a / b, 3)"
   ]
  },
  {
   "cell_type": "markdown",
   "id": "extra-veteran",
   "metadata": {},
   "source": [
    "`-` format 함수는 소수점 셋째 자리까지 나타낸 반면 round 함수는 첫째 자리까지 나타냄"
   ]
  },
  {
   "cell_type": "markdown",
   "id": "geological-scottish",
   "metadata": {},
   "source": [
    "`-` 결론: 원하는 자릿수 까지 나타내려면 round 함수 대신 format 함수를 쓰자"
   ]
  }
 ],
 "metadata": {
  "kernelspec": {
   "display_name": "Python 3",
   "language": "python",
   "name": "python3"
  },
  "language_info": {
   "codemirror_mode": {
    "name": "ipython",
    "version": 3
   },
   "file_extension": ".py",
   "mimetype": "text/x-python",
   "name": "python",
   "nbconvert_exporter": "python",
   "pygments_lexer": "ipython3",
   "version": "3.8.8"
  }
 },
 "nbformat": 4,
 "nbformat_minor": 5
}
