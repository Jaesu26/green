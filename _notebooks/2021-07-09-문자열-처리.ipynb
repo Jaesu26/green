{
 "cells": [
  {
   "cell_type": "markdown",
   "id": "crude-brief",
   "metadata": {},
   "source": [
    "# 문자열 처리\n",
    "\n",
    "> \"작성 완료\"\n",
    "\n",
    "- toc: true\n",
    "- branch: master\n",
    "- badges: true\n",
    "- comments: true\n",
    "- author: 한재수\n",
    "- categories: [python]"
   ]
  },
  {
   "cell_type": "markdown",
   "id": "micro-mentor",
   "metadata": {},
   "source": [
    "## format 함수"
   ]
  },
  {
   "cell_type": "markdown",
   "id": "revised-meter",
   "metadata": {},
   "source": [
    "`-` 문자열을 포매팅(formatting)하는데 사용\n",
    "\n",
    "`-` 포매팅: 문자열의 원하는 위치에 특정 변수를 삽입\n",
    "\n",
    "`-` 아래 예제를 보자"
   ]
  },
  {
   "cell_type": "code",
   "execution_count": 1,
   "id": "detected-fraction",
   "metadata": {},
   "outputs": [
    {
     "data": {
      "text/plain": [
       "'이름:홍길동,나이:21,성별:남'"
      ]
     },
     "execution_count": 1,
     "metadata": {},
     "output_type": "execute_result"
    }
   ],
   "source": [
    "'이름:{},나이:{},성별:{}'.format('홍길동','21','남')"
   ]
  },
  {
   "cell_type": "markdown",
   "id": "sexual-closer",
   "metadata": {},
   "source": [
    "`-` 순서대로 `홍길동`, `21`, `남`이 `{}`에 삽입됨"
   ]
  },
  {
   "cell_type": "markdown",
   "id": "rural-clear",
   "metadata": {},
   "source": [
    "`-` 구구단도 쉽게 출력할 수 있음"
   ]
  },
  {
   "cell_type": "code",
   "execution_count": 4,
   "id": "polyphonic-paintball",
   "metadata": {},
   "outputs": [
    {
     "name": "stdout",
     "output_type": "stream",
     "text": [
      "2 X 1 = 2\n",
      "2 X 2 = 4\n",
      "2 X 3 = 6\n",
      "2 X 4 = 8\n",
      "2 X 5 = 10\n",
      "2 X 6 = 12\n",
      "2 X 7 = 14\n",
      "2 X 8 = 16\n",
      "2 X 9 = 18\n"
     ]
    }
   ],
   "source": [
    "i = 2\n",
    "for j in range(1, 10):\n",
    "    print('{} X {} = {}'.format(i, j, i*j))"
   ]
  },
  {
   "cell_type": "markdown",
   "id": "consecutive-brunei",
   "metadata": {},
   "source": [
    "### [$\\star$]소수점 자릿수 표현[$\\star$]"
   ]
  },
  {
   "cell_type": "markdown",
   "id": "corresponding-instrument",
   "metadata": {},
   "source": [
    "`-` 알고리즘 문제를 풀다보면 특정 소수점 자릿수까지 출력을 요구할 때가 있음\n",
    "\n",
    "`-` 계산 결과를 소수점 셋째 자리 까지 표현하려면?"
   ]
  },
  {
   "cell_type": "code",
   "execution_count": 9,
   "id": "orange-arrival",
   "metadata": {},
   "outputs": [
    {
     "data": {
      "text/plain": [
       "3.3333333333333335"
      ]
     },
     "execution_count": 9,
     "metadata": {},
     "output_type": "execute_result"
    }
   ],
   "source": [
    "a = 10\n",
    "b = 3\n",
    "a / b"
   ]
  },
  {
   "cell_type": "markdown",
   "id": "everyday-estimate",
   "metadata": {},
   "source": [
    "`-` 소수점 셋째 짜리 까지 표현하고 싶음\n",
    "\n",
    "`-` format 함수 사용!"
   ]
  },
  {
   "cell_type": "code",
   "execution_count": 21,
   "id": "lonely-establishment",
   "metadata": {},
   "outputs": [
    {
     "name": "stdout",
     "output_type": "stream",
     "text": [
      "3.333\n"
     ]
    }
   ],
   "source": [
    "a = 10\n",
    "b = 3\n",
    "print('{:.3f}'.format(a / b))"
   ]
  },
  {
   "cell_type": "markdown",
   "id": "completed-punch",
   "metadata": {},
   "source": [
    "`-` round 함수도 되는데?\n",
    "\n",
    "`-` `round(x, a)` --> x를 소수점 a번째 까지 나타냄"
   ]
  },
  {
   "cell_type": "code",
   "execution_count": 14,
   "id": "pressing-holder",
   "metadata": {},
   "outputs": [
    {
     "data": {
      "text/plain": [
       "3.333"
      ]
     },
     "execution_count": 14,
     "metadata": {},
     "output_type": "execute_result"
    }
   ],
   "source": [
    "a = 10\n",
    "b = 3\n",
    "round(a / b, 3)"
   ]
  },
  {
   "cell_type": "markdown",
   "id": "naval-program",
   "metadata": {},
   "source": [
    "`-` 아래와 같은 경우는?"
   ]
  },
  {
   "cell_type": "code",
   "execution_count": 16,
   "id": "vietnamese-clothing",
   "metadata": {},
   "outputs": [
    {
     "data": {
      "text/plain": [
       "5.0"
      ]
     },
     "execution_count": 16,
     "metadata": {},
     "output_type": "execute_result"
    }
   ],
   "source": [
    "a = 10\n",
    "b = 2\n",
    "a / b"
   ]
  },
  {
   "cell_type": "markdown",
   "id": "powerful-person",
   "metadata": {},
   "source": [
    "`-` format 함수"
   ]
  },
  {
   "cell_type": "code",
   "execution_count": 20,
   "id": "worse-evening",
   "metadata": {},
   "outputs": [
    {
     "name": "stdout",
     "output_type": "stream",
     "text": [
      "5.000\n"
     ]
    }
   ],
   "source": [
    "a = 10\n",
    "b = 2\n",
    "print('{:.3f}'.format(a / b))"
   ]
  },
  {
   "cell_type": "markdown",
   "id": "negative-statement",
   "metadata": {},
   "source": [
    "`-` round 함수"
   ]
  },
  {
   "cell_type": "code",
   "execution_count": 19,
   "id": "provincial-makeup",
   "metadata": {},
   "outputs": [
    {
     "data": {
      "text/plain": [
       "5.0"
      ]
     },
     "execution_count": 19,
     "metadata": {},
     "output_type": "execute_result"
    }
   ],
   "source": [
    "a = 10\n",
    "b = 2\n",
    "round(a / b, 3)"
   ]
  },
  {
   "cell_type": "markdown",
   "id": "lasting-causing",
   "metadata": {},
   "source": [
    "`-` format 함수는 소수점 셋째 자리까지 나타낸 반면 round 함수는 첫째 자리까지 나타냄"
   ]
  },
  {
   "cell_type": "markdown",
   "id": "joined-police",
   "metadata": {},
   "source": [
    "`-` 결론: 원하는 자릿수 까지 나타내려면 round 함수 대신 format 함수를 쓰자"
   ]
  },
  {
   "cell_type": "markdown",
   "id": "eligible-thirty",
   "metadata": {},
   "source": [
    "## join 함수"
   ]
  },
  {
   "cell_type": "markdown",
   "id": "together-huntington",
   "metadata": {},
   "source": [
    "`-` 문자열로 이루어진 리스트를 기준 문자열로 합쳐 문자열로 만듦\n",
    "\n",
    "`-` `'구분자'.join(list)`\n",
    "\n",
    "`-` `구분자`에는 `문자열`, `list`에는 `문자열을 원소로 가지는 리스트`가 들어감"
   ]
  },
  {
   "cell_type": "code",
   "execution_count": 5,
   "id": "fuzzy-danish",
   "metadata": {},
   "outputs": [],
   "source": [
    "a = ['12', '45', '48']"
   ]
  },
  {
   "cell_type": "code",
   "execution_count": 6,
   "id": "determined-appreciation",
   "metadata": {},
   "outputs": [
    {
     "data": {
      "text/plain": [
       "'12-45-48'"
      ]
     },
     "execution_count": 6,
     "metadata": {},
     "output_type": "execute_result"
    }
   ],
   "source": [
    "'-'.join(a)"
   ]
  },
  {
   "cell_type": "code",
   "execution_count": 7,
   "id": "official-contribution",
   "metadata": {},
   "outputs": [
    {
     "data": {
      "text/plain": [
       "'124548'"
      ]
     },
     "execution_count": 7,
     "metadata": {},
     "output_type": "execute_result"
    }
   ],
   "source": [
    "''.join(a)"
   ]
  },
  {
   "cell_type": "markdown",
   "id": "analyzed-revision",
   "metadata": {},
   "source": [
    "## replace 함수"
   ]
  },
  {
   "cell_type": "markdown",
   "id": "compressed-cabinet",
   "metadata": {},
   "source": [
    "`-` 특정 문자를 다른 문자로 대체\n",
    "\n",
    "`-` `'문자열'.replace('기존 문자', '바꿀 문자')`"
   ]
  },
  {
   "cell_type": "code",
   "execution_count": 11,
   "id": "serial-august",
   "metadata": {},
   "outputs": [],
   "source": [
    "a = 'hello world'"
   ]
  },
  {
   "cell_type": "code",
   "execution_count": 12,
   "id": "painful-mobile",
   "metadata": {},
   "outputs": [
    {
     "data": {
      "text/plain": [
       "'Hello world'"
      ]
     },
     "execution_count": 12,
     "metadata": {},
     "output_type": "execute_result"
    }
   ],
   "source": [
    "a.replace('h', 'H')"
   ]
  },
  {
   "cell_type": "code",
   "execution_count": 13,
   "id": "external-coffee",
   "metadata": {},
   "outputs": [
    {
     "data": {
      "text/plain": [
       "'!h!e!l!l!o! !w!o!r!l!d!'"
      ]
     },
     "execution_count": 13,
     "metadata": {},
     "output_type": "execute_result"
    }
   ],
   "source": [
    "a.replace('', '!')"
   ]
  },
  {
   "cell_type": "markdown",
   "id": "informative-gabriel",
   "metadata": {},
   "source": [
    "`-` 문자열에서는 빈칸도 하나의 문자로 취급"
   ]
  },
  {
   "cell_type": "markdown",
   "id": "based-merchandise",
   "metadata": {},
   "source": [
    "## split 함수\n",
    "`-` 문자열을 구분자를 기준으로 쪼갬\n",
    "\n",
    "`-` `'문자열'.split('구분자')`"
   ]
  },
  {
   "cell_type": "code",
   "execution_count": 14,
   "id": "eight-witch",
   "metadata": {},
   "outputs": [],
   "source": [
    "a = '!h!e!l!l!o! !w!o!r!l!d!'"
   ]
  },
  {
   "cell_type": "code",
   "execution_count": 15,
   "id": "multiple-corner",
   "metadata": {},
   "outputs": [
    {
     "data": {
      "text/plain": [
       "['', 'h', 'e', 'l', 'l', 'o', ' ', 'w', 'o', 'r', 'l', 'd', '']"
      ]
     },
     "execution_count": 15,
     "metadata": {},
     "output_type": "execute_result"
    }
   ],
   "source": [
    "a.split('!')"
   ]
  },
  {
   "cell_type": "markdown",
   "id": "infrared-finland",
   "metadata": {},
   "source": [
    "## upper 함수\n",
    "`-` 문자열에서 모든 소문자를 대문자로 바꿈\n",
    "\n",
    "`-` `'문자열'.upper('구분자')`"
   ]
  },
  {
   "cell_type": "code",
   "execution_count": 1,
   "id": "certain-central",
   "metadata": {},
   "outputs": [],
   "source": [
    "a = 'hello world'"
   ]
  },
  {
   "cell_type": "code",
   "execution_count": 2,
   "id": "extended-stevens",
   "metadata": {},
   "outputs": [
    {
     "data": {
      "text/plain": [
       "'HELLO WORLD'"
      ]
     },
     "execution_count": 2,
     "metadata": {},
     "output_type": "execute_result"
    }
   ],
   "source": [
    "a.upper()"
   ]
  },
  {
   "cell_type": "markdown",
   "id": "wicked-exercise",
   "metadata": {},
   "source": [
    "## lower 함수\n",
    "`-` 문자열에서 모든 대문자를 소문자로 바꿈\n",
    "\n",
    "`-` `'문자열'.lower('구분자')`"
   ]
  },
  {
   "cell_type": "code",
   "execution_count": 3,
   "id": "brutal-apollo",
   "metadata": {},
   "outputs": [],
   "source": [
    "a = 'HELLO WORLD'"
   ]
  },
  {
   "cell_type": "code",
   "execution_count": 4,
   "id": "effective-iraqi",
   "metadata": {},
   "outputs": [
    {
     "data": {
      "text/plain": [
       "'hello world'"
      ]
     },
     "execution_count": 4,
     "metadata": {},
     "output_type": "execute_result"
    }
   ],
   "source": [
    "a.lower()"
   ]
  },
  {
   "cell_type": "markdown",
   "id": "federal-practitioner",
   "metadata": {},
   "source": [
    "## count 함수\n",
    "`-` 문자열에서 특정 문자 or 문자열의 개수를 반환함\n",
    "\n",
    "`-` `'문자열'.count('찾는 문자', 시작 인덱스, 끝 인덱스)`\n",
    "\n",
    "`-` 시작 인덱스 $\\leq$ 문자열 $<$ 끝 인덱스"
   ]
  },
  {
   "cell_type": "code",
   "execution_count": 1,
   "id": "light-canvas",
   "metadata": {},
   "outputs": [],
   "source": [
    "a = 'HELLO WORLD'"
   ]
  },
  {
   "cell_type": "code",
   "execution_count": 2,
   "id": "legendary-graph",
   "metadata": {},
   "outputs": [
    {
     "data": {
      "text/plain": [
       "3"
      ]
     },
     "execution_count": 2,
     "metadata": {},
     "output_type": "execute_result"
    }
   ],
   "source": [
    "a.count('L')"
   ]
  },
  {
   "cell_type": "code",
   "execution_count": 3,
   "id": "satellite-burlington",
   "metadata": {},
   "outputs": [
    {
     "data": {
      "text/plain": [
       "2"
      ]
     },
     "execution_count": 3,
     "metadata": {},
     "output_type": "execute_result"
    }
   ],
   "source": [
    "a.count('L', 0, 9)"
   ]
  },
  {
   "cell_type": "code",
   "execution_count": 4,
   "id": "integral-pillow",
   "metadata": {},
   "outputs": [
    {
     "data": {
      "text/plain": [
       "3"
      ]
     },
     "execution_count": 4,
     "metadata": {},
     "output_type": "execute_result"
    }
   ],
   "source": [
    "a.count('L', 0, 10)"
   ]
  },
  {
   "cell_type": "code",
   "execution_count": null,
   "id": "organic-preservation",
   "metadata": {},
   "outputs": [],
   "source": []
  }
 ],
 "metadata": {
  "kernelspec": {
   "display_name": "Python 3",
   "language": "python",
   "name": "python3"
  },
  "language_info": {
   "codemirror_mode": {
    "name": "ipython",
    "version": 3
   },
   "file_extension": ".py",
   "mimetype": "text/x-python",
   "name": "python",
   "nbconvert_exporter": "python",
   "pygments_lexer": "ipython3",
   "version": "3.8.8"
  }
 },
 "nbformat": 4,
 "nbformat_minor": 5
}
