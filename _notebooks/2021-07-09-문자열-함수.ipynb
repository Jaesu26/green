{
 "cells": [
  {
   "cell_type": "markdown",
   "id": "physical-birthday",
   "metadata": {},
   "source": [
    "# 문자열 처리\n",
    "\n",
    "> \"작성 완료\"\n",
    "\n",
    "- toc: true\n",
    "- branch: master\n",
    "- badges: true\n",
    "- comments: true\n",
    "- author: 한재수\n",
    "- categories: [Python]"
   ]
  },
  {
   "cell_type": "markdown",
   "id": "fifteen-effectiveness",
   "metadata": {},
   "source": [
    "## format 함수"
   ]
  },
  {
   "cell_type": "markdown",
   "id": "excellent-visitor",
   "metadata": {},
   "source": [
    "`-` 문자열을 포매팅(formatting)하는데 사용\n",
    "\n",
    "`-` 포매팅: 문자열의 원하는 위치에 특정 변수를 삽입\n",
    "\n",
    "`-` 아래 예제를 보자"
   ]
  },
  {
   "cell_type": "code",
   "execution_count": 1,
   "id": "adjacent-reality",
   "metadata": {},
   "outputs": [
    {
     "data": {
      "text/plain": [
       "'이름:홍길동,나이:21,성별:남'"
      ]
     },
     "execution_count": 1,
     "metadata": {},
     "output_type": "execute_result"
    }
   ],
   "source": [
    "\"이름:{},나이:{},성별:{}\".format(\"홍길동\", \"21\", \"남\")"
   ]
  },
  {
   "cell_type": "markdown",
   "id": "satisfactory-perception",
   "metadata": {},
   "source": [
    "`-` 순서대로 `홍길동`, `21`, `남`이 `{}`에 삽입됨"
   ]
  },
  {
   "cell_type": "markdown",
   "id": "gross-gross",
   "metadata": {},
   "source": [
    "`-` 구구단도 쉽게 출력할 수 있음"
   ]
  },
  {
   "cell_type": "code",
   "execution_count": 2,
   "id": "stylish-suite",
   "metadata": {},
   "outputs": [
    {
     "name": "stdout",
     "output_type": "stream",
     "text": [
      "2 X 1 = 2\n",
      "2 X 2 = 4\n",
      "2 X 3 = 6\n",
      "2 X 4 = 8\n",
      "2 X 5 = 10\n",
      "2 X 6 = 12\n",
      "2 X 7 = 14\n",
      "2 X 8 = 16\n",
      "2 X 9 = 18\n"
     ]
    }
   ],
   "source": [
    "i = 2\n",
    "for j in range(1, 10):\n",
    "    print(\"{} X {} = {}\".format(i, j, i * j))"
   ]
  },
  {
   "cell_type": "markdown",
   "id": "organized-dayton",
   "metadata": {},
   "source": [
    "### [$\\star$]소수점 자릿수 표현[$\\star$]"
   ]
  },
  {
   "cell_type": "markdown",
   "id": "considerable-vegetable",
   "metadata": {},
   "source": [
    "`-` 알고리즘 문제를 풀다보면 특정 소수점 자릿수까지 출력을 요구할 때가 있음\n",
    "\n",
    "`-` 계산 결과를 소수점 셋째 자리 까지 표현하려면?"
   ]
  },
  {
   "cell_type": "code",
   "execution_count": 9,
   "id": "working-stick",
   "metadata": {},
   "outputs": [
    {
     "data": {
      "text/plain": [
       "3.3333333333333335"
      ]
     },
     "execution_count": 9,
     "metadata": {},
     "output_type": "execute_result"
    }
   ],
   "source": [
    "a = 10\n",
    "b = 3\n",
    "a / b"
   ]
  },
  {
   "cell_type": "markdown",
   "id": "bacterial-deviation",
   "metadata": {},
   "source": [
    "`-` 소수점 셋째 짜리 까지 표현하고 싶음\n",
    "\n",
    "`-` format 함수 사용!"
   ]
  },
  {
   "cell_type": "code",
   "execution_count": 3,
   "id": "medical-burden",
   "metadata": {},
   "outputs": [
    {
     "name": "stdout",
     "output_type": "stream",
     "text": [
      "3.333\n"
     ]
    }
   ],
   "source": [
    "a = 10\n",
    "b = 3\n",
    "print(\"{:.3f}\".format(a / b))"
   ]
  },
  {
   "cell_type": "markdown",
   "id": "distant-banana",
   "metadata": {},
   "source": [
    "`-` round 함수도 되는데?\n",
    "\n",
    "`-` `round(x, a)` ---> x를 소수점 a번째 까지 나타냄"
   ]
  },
  {
   "cell_type": "code",
   "execution_count": 4,
   "id": "tribal-strengthening",
   "metadata": {},
   "outputs": [
    {
     "data": {
      "text/plain": [
       "3.333"
      ]
     },
     "execution_count": 4,
     "metadata": {},
     "output_type": "execute_result"
    }
   ],
   "source": [
    "a = 10\n",
    "b = 3\n",
    "round(a / b, 3)"
   ]
  },
  {
   "cell_type": "markdown",
   "id": "average-template",
   "metadata": {},
   "source": [
    "`-` 아래와 같은 경우는?"
   ]
  },
  {
   "cell_type": "code",
   "execution_count": 16,
   "id": "lasting-blink",
   "metadata": {},
   "outputs": [
    {
     "data": {
      "text/plain": [
       "5.0"
      ]
     },
     "execution_count": 16,
     "metadata": {},
     "output_type": "execute_result"
    }
   ],
   "source": [
    "a = 10\n",
    "b = 2\n",
    "a / b"
   ]
  },
  {
   "cell_type": "markdown",
   "id": "green-medicaid",
   "metadata": {},
   "source": [
    "`-` format 함수"
   ]
  },
  {
   "cell_type": "code",
   "execution_count": 5,
   "id": "preliminary-scenario",
   "metadata": {},
   "outputs": [
    {
     "name": "stdout",
     "output_type": "stream",
     "text": [
      "5.000\n"
     ]
    }
   ],
   "source": [
    "a = 10\n",
    "b = 2\n",
    "print(\"{:.3f}\".format(a / b))"
   ]
  },
  {
   "cell_type": "markdown",
   "id": "acting-composer",
   "metadata": {},
   "source": [
    "`-` round 함수"
   ]
  },
  {
   "cell_type": "code",
   "execution_count": 19,
   "id": "brazilian-merchant",
   "metadata": {},
   "outputs": [
    {
     "data": {
      "text/plain": [
       "5.0"
      ]
     },
     "execution_count": 19,
     "metadata": {},
     "output_type": "execute_result"
    }
   ],
   "source": [
    "a = 10\n",
    "b = 2\n",
    "round(a / b, 3)"
   ]
  },
  {
   "cell_type": "markdown",
   "id": "universal-roommate",
   "metadata": {},
   "source": [
    "`-` format 함수는 소수점 셋째 자리까지 나타낸 반면 round 함수는 첫째 자리까지 나타냄"
   ]
  },
  {
   "cell_type": "markdown",
   "id": "alpine-mouse",
   "metadata": {},
   "source": [
    "- round 함수를 사용할 때 주의할 점\n",
    "\n",
    "`-` 파이썬에서는 사사오입의 원칙을 따라 반올림할 자리가 5이면 반올림을 할 때 짝수면 내림, 홀수면 올림 한다"
   ]
  },
  {
   "cell_type": "code",
   "execution_count": 3,
   "id": "wound-retention",
   "metadata": {},
   "outputs": [
    {
     "data": {
      "text/plain": [
       "2"
      ]
     },
     "execution_count": 3,
     "metadata": {},
     "output_type": "execute_result"
    }
   ],
   "source": [
    "round(2.5)"
   ]
  },
  {
   "cell_type": "code",
   "execution_count": 4,
   "id": "marine-characteristic",
   "metadata": {},
   "outputs": [
    {
     "data": {
      "text/plain": [
       "-2"
      ]
     },
     "execution_count": 4,
     "metadata": {},
     "output_type": "execute_result"
    }
   ],
   "source": [
    "round(-1.5)"
   ]
  },
  {
   "cell_type": "markdown",
   "id": "convertible-restriction",
   "metadata": {},
   "source": [
    "`-` 오사오입의 원칙으로 반올림 하려면? ---> 함수를 따로 만들자"
   ]
  },
  {
   "cell_type": "code",
   "execution_count": 6,
   "id": "directed-assumption",
   "metadata": {},
   "outputs": [],
   "source": [
    "def round2(number):\n",
    "    if number >= 0:\n",
    "        if number - int(number) >= 0.5:\n",
    "            a = 1\n",
    "        else:\n",
    "            a = 0\n",
    "        return int(number) + a\n",
    "    else:\n",
    "        if int(number) - number > 0.5:\n",
    "            a = -1\n",
    "        else:\n",
    "            a = 0\n",
    "        return int(number) + a   "
   ]
  },
  {
   "cell_type": "code",
   "execution_count": 7,
   "id": "metropolitan-massage",
   "metadata": {},
   "outputs": [
    {
     "data": {
      "text/plain": [
       "3"
      ]
     },
     "execution_count": 7,
     "metadata": {},
     "output_type": "execute_result"
    }
   ],
   "source": [
    "round2(2.5)"
   ]
  },
  {
   "cell_type": "code",
   "execution_count": 8,
   "id": "casual-pierre",
   "metadata": {},
   "outputs": [
    {
     "data": {
      "text/plain": [
       "-1"
      ]
     },
     "execution_count": 8,
     "metadata": {},
     "output_type": "execute_result"
    }
   ],
   "source": [
    "round2(-1.5)"
   ]
  },
  {
   "cell_type": "markdown",
   "id": "fluid-transsexual",
   "metadata": {},
   "source": [
    "`-` 사사오입의 원칙으로 반올림을 하는 이유는 데이터의 대부분이 .5로 끝나는 자료라면 이를 반올림하면 0.5만큼의 오차가 생기기 때문\n",
    "\n",
    "`-` 결론: 원하는 자릿수 까지 나타내려면 round 함수 대신 format 함수를 쓰자"
   ]
  },
  {
   "cell_type": "markdown",
   "id": "miniature-chaos",
   "metadata": {},
   "source": [
    "## join 함수"
   ]
  },
  {
   "cell_type": "markdown",
   "id": "awful-railway",
   "metadata": {},
   "source": [
    "`-` 문자열로 이루어진 리스트를 기준 문자열로 합쳐 문자열로 만듦\n",
    "\n",
    "`-` `구분자.join(list)`\n",
    "\n",
    "`-` `구분자`에는 `문자열`, `list`에는 `문자열을 원소로 가지는 리스트`가 들어감"
   ]
  },
  {
   "cell_type": "code",
   "execution_count": 9,
   "id": "white-lexington",
   "metadata": {},
   "outputs": [],
   "source": [
    "a = [\"12\", \"45\", \"48\"]"
   ]
  },
  {
   "cell_type": "code",
   "execution_count": 10,
   "id": "urban-translation",
   "metadata": {},
   "outputs": [
    {
     "data": {
      "text/plain": [
       "'12-45-48'"
      ]
     },
     "execution_count": 10,
     "metadata": {},
     "output_type": "execute_result"
    }
   ],
   "source": [
    "\"-\".join(a)"
   ]
  },
  {
   "cell_type": "code",
   "execution_count": 11,
   "id": "whole-watch",
   "metadata": {},
   "outputs": [
    {
     "data": {
      "text/plain": [
       "'124548'"
      ]
     },
     "execution_count": 11,
     "metadata": {},
     "output_type": "execute_result"
    }
   ],
   "source": [
    "\"\".join(a)"
   ]
  },
  {
   "cell_type": "markdown",
   "id": "upper-postcard",
   "metadata": {},
   "source": [
    "## replace 함수"
   ]
  },
  {
   "cell_type": "markdown",
   "id": "assumed-venezuela",
   "metadata": {},
   "source": [
    "`-` 특정 문자를 다른 문자로 대체\n",
    "\n",
    "`-` `문자열.replace(기존 문자, 바꿀 문자)`"
   ]
  },
  {
   "cell_type": "code",
   "execution_count": 12,
   "id": "spoken-communications",
   "metadata": {},
   "outputs": [],
   "source": [
    "a = \"hello world\""
   ]
  },
  {
   "cell_type": "code",
   "execution_count": 13,
   "id": "celtic-regression",
   "metadata": {},
   "outputs": [
    {
     "data": {
      "text/plain": [
       "'Hello world'"
      ]
     },
     "execution_count": 13,
     "metadata": {},
     "output_type": "execute_result"
    }
   ],
   "source": [
    "a.replace(\"h\", \"H\")"
   ]
  },
  {
   "cell_type": "code",
   "execution_count": 14,
   "id": "beautiful-humanity",
   "metadata": {},
   "outputs": [
    {
     "data": {
      "text/plain": [
       "'!h!e!l!l!o! !w!o!r!l!d!'"
      ]
     },
     "execution_count": 14,
     "metadata": {},
     "output_type": "execute_result"
    }
   ],
   "source": [
    "a.replace(\"\", \"!\")"
   ]
  },
  {
   "cell_type": "markdown",
   "id": "joined-vegetarian",
   "metadata": {},
   "source": [
    "`-` 문자열에서는 빈칸도 하나의 문자로 취급"
   ]
  },
  {
   "cell_type": "markdown",
   "id": "reasonable-documentary",
   "metadata": {},
   "source": [
    "## split 함수\n",
    "\n",
    "`-` 문자열을 구분자를 기준으로 쪼갬\n",
    "\n",
    "`-` `문자열.split(구분자)`"
   ]
  },
  {
   "cell_type": "code",
   "execution_count": 15,
   "id": "brilliant-thomas",
   "metadata": {},
   "outputs": [],
   "source": [
    "a = \"!h!e!l!l!o! !w!o!r!l!d!\""
   ]
  },
  {
   "cell_type": "code",
   "execution_count": 16,
   "id": "analyzed-outline",
   "metadata": {},
   "outputs": [
    {
     "data": {
      "text/plain": [
       "['', 'h', 'e', 'l', 'l', 'o', ' ', 'w', 'o', 'r', 'l', 'd', '']"
      ]
     },
     "execution_count": 16,
     "metadata": {},
     "output_type": "execute_result"
    }
   ],
   "source": [
    "a.split(\"!\")"
   ]
  },
  {
   "cell_type": "markdown",
   "id": "other-father",
   "metadata": {},
   "source": [
    "## upper 함수\n",
    "\n",
    "`-` 문자열에서 모든 소문자를 대문자로 바꿈\n",
    "\n",
    "`-` `문자열.upper(구분자)`"
   ]
  },
  {
   "cell_type": "code",
   "execution_count": 17,
   "id": "cathedral-rachel",
   "metadata": {},
   "outputs": [],
   "source": [
    "a = \"hello world\""
   ]
  },
  {
   "cell_type": "code",
   "execution_count": 18,
   "id": "republican-rally",
   "metadata": {},
   "outputs": [
    {
     "data": {
      "text/plain": [
       "'HELLO WORLD'"
      ]
     },
     "execution_count": 18,
     "metadata": {},
     "output_type": "execute_result"
    }
   ],
   "source": [
    "a.upper()"
   ]
  },
  {
   "cell_type": "markdown",
   "id": "5a44fa8e-8b08-472f-b5c6-6c8e0bd5ce0d",
   "metadata": {
    "tags": []
   },
   "source": [
    "## str.isupper()"
   ]
  },
  {
   "cell_type": "markdown",
   "id": "7c86039d-4df6-4bcd-a4ce-ae1b110d02ae",
   "metadata": {},
   "source": [
    "`-` str이 대문자로만 이루어져 있으면 True를 아니면 False를 반환"
   ]
  },
  {
   "cell_type": "code",
   "execution_count": 19,
   "id": "22d9b3b0-f1bc-4d31-b2ce-8edf83b7cd39",
   "metadata": {},
   "outputs": [],
   "source": [
    "string = \"ABC\"\n",
    "string2 = \"AbC\""
   ]
  },
  {
   "cell_type": "code",
   "execution_count": 20,
   "id": "249ebcee-f13f-48d5-80b9-05601d6f8f93",
   "metadata": {},
   "outputs": [
    {
     "data": {
      "text/plain": [
       "True"
      ]
     },
     "execution_count": 20,
     "metadata": {},
     "output_type": "execute_result"
    }
   ],
   "source": [
    "string.isupper()"
   ]
  },
  {
   "cell_type": "code",
   "execution_count": 21,
   "id": "2da6207e-6be0-4fef-b648-6aab89174e05",
   "metadata": {},
   "outputs": [
    {
     "data": {
      "text/plain": [
       "False"
      ]
     },
     "execution_count": 21,
     "metadata": {},
     "output_type": "execute_result"
    }
   ],
   "source": [
    "string2.isupper()"
   ]
  },
  {
   "cell_type": "markdown",
   "id": "novel-workplace",
   "metadata": {},
   "source": [
    "## lower 함수\n",
    "\n",
    "`-` 문자열에서 모든 대문자를 소문자로 바꿈\n",
    "\n",
    "`-` `문자열.lower(구분자)`"
   ]
  },
  {
   "cell_type": "code",
   "execution_count": 22,
   "id": "alternate-vector",
   "metadata": {},
   "outputs": [],
   "source": [
    "a = \"HELLO WORLD\""
   ]
  },
  {
   "cell_type": "code",
   "execution_count": 23,
   "id": "intimate-webcam",
   "metadata": {},
   "outputs": [
    {
     "data": {
      "text/plain": [
       "'hello world'"
      ]
     },
     "execution_count": 23,
     "metadata": {},
     "output_type": "execute_result"
    }
   ],
   "source": [
    "a.lower()"
   ]
  },
  {
   "cell_type": "markdown",
   "id": "21f6aa9d-7128-44ab-b557-c8c4223e778f",
   "metadata": {
    "tags": []
   },
   "source": [
    "## str.islower()"
   ]
  },
  {
   "cell_type": "markdown",
   "id": "801cbf0a-4e8d-46e4-9584-3511bc52587c",
   "metadata": {},
   "source": [
    "`-` str이 소문자로만 이루어져 있으면 True를 아니면 False를 반환"
   ]
  },
  {
   "cell_type": "code",
   "execution_count": 24,
   "id": "037f664f-f75e-4ba8-a1d8-b2256131ade5",
   "metadata": {},
   "outputs": [],
   "source": [
    "string = \"abc\"\n",
    "string2 = \"aBc\""
   ]
  },
  {
   "cell_type": "code",
   "execution_count": 25,
   "id": "32700c71-68a4-47ae-a604-07480616bb97",
   "metadata": {},
   "outputs": [
    {
     "data": {
      "text/plain": [
       "True"
      ]
     },
     "execution_count": 25,
     "metadata": {},
     "output_type": "execute_result"
    }
   ],
   "source": [
    "string.islower()"
   ]
  },
  {
   "cell_type": "code",
   "execution_count": 26,
   "id": "c2db482d-c58d-45bf-83b5-cd8c52883b31",
   "metadata": {},
   "outputs": [
    {
     "data": {
      "text/plain": [
       "False"
      ]
     },
     "execution_count": 26,
     "metadata": {},
     "output_type": "execute_result"
    }
   ],
   "source": [
    "string2.islower()"
   ]
  },
  {
   "cell_type": "markdown",
   "id": "inclusive-portfolio",
   "metadata": {},
   "source": [
    "## count 함수\n",
    "\n",
    "`-` 문자열에서 특정 문자 또는 문자열의 개수를 반환함\n",
    "\n",
    "`-` `문자열.count(찾는 문자, 시작 인덱스, 끝 인덱스)`\n",
    "\n",
    "`-` 시작 인덱스 $\\leq$ 문자열 $<$ 끝 인덱스"
   ]
  },
  {
   "cell_type": "code",
   "execution_count": 27,
   "id": "assumed-headquarters",
   "metadata": {},
   "outputs": [],
   "source": [
    "a = \"HELLO WORLD\""
   ]
  },
  {
   "cell_type": "code",
   "execution_count": 28,
   "id": "interpreted-chess",
   "metadata": {},
   "outputs": [
    {
     "data": {
      "text/plain": [
       "3"
      ]
     },
     "execution_count": 28,
     "metadata": {},
     "output_type": "execute_result"
    }
   ],
   "source": [
    "a.count(\"L\")"
   ]
  },
  {
   "cell_type": "code",
   "execution_count": 29,
   "id": "stupid-truth",
   "metadata": {},
   "outputs": [
    {
     "data": {
      "text/plain": [
       "2"
      ]
     },
     "execution_count": 29,
     "metadata": {},
     "output_type": "execute_result"
    }
   ],
   "source": [
    "a.count(\"L\", 0, 9)"
   ]
  },
  {
   "cell_type": "code",
   "execution_count": 30,
   "id": "coordinate-folder",
   "metadata": {},
   "outputs": [
    {
     "data": {
      "text/plain": [
       "3"
      ]
     },
     "execution_count": 30,
     "metadata": {},
     "output_type": "execute_result"
    }
   ],
   "source": [
    "a.count(\"L\", 0, 10)"
   ]
  },
  {
   "cell_type": "markdown",
   "id": "serious-hollow",
   "metadata": {},
   "source": [
    "## chr 함수\n",
    "\n",
    "`-` 아스키 코드를 문자로 변환함\n",
    "\n",
    "`-` `chr(아스키코드)`\n",
    "\n",
    "`-` 아스키 코드 참고: [https://ko.wikipedia.org/wiki/ASCII](https://ko.wikipedia.org/wiki/ASCII)"
   ]
  },
  {
   "cell_type": "code",
   "execution_count": 1,
   "id": "future-luxury",
   "metadata": {},
   "outputs": [
    {
     "data": {
      "text/plain": [
       "'A'"
      ]
     },
     "execution_count": 1,
     "metadata": {},
     "output_type": "execute_result"
    }
   ],
   "source": [
    "chr(65)"
   ]
  },
  {
   "cell_type": "markdown",
   "id": "smaller-mercury",
   "metadata": {},
   "source": [
    "## ord 함수\n",
    "\n",
    "`-` 문자를 아스키 코드로 변환함\n",
    "\n",
    "`-` ord(문자)"
   ]
  },
  {
   "cell_type": "code",
   "execution_count": 31,
   "id": "ahead-heavy",
   "metadata": {},
   "outputs": [
    {
     "data": {
      "text/plain": [
       "65"
      ]
     },
     "execution_count": 31,
     "metadata": {},
     "output_type": "execute_result"
    }
   ],
   "source": [
    "ord(\"A\")"
   ]
  },
  {
   "cell_type": "code",
   "execution_count": null,
   "id": "french-buffer",
   "metadata": {},
   "outputs": [],
   "source": []
  }
 ],
 "metadata": {
  "kernelspec": {
   "display_name": "Python 3 (ipykernel)",
   "language": "python",
   "name": "python3"
  },
  "language_info": {
   "codemirror_mode": {
    "name": "ipython",
    "version": 3
   },
   "file_extension": ".py",
   "mimetype": "text/x-python",
   "name": "python",
   "nbconvert_exporter": "python",
   "pygments_lexer": "ipython3",
   "version": "3.8.11"
  }
 },
 "nbformat": 4,
 "nbformat_minor": 5
}
