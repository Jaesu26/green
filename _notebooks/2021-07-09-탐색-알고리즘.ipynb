{
 "cells": [
  {
   "cell_type": "markdown",
   "id": "clean-wagon",
   "metadata": {},
   "source": [
    "# 탐색 알고리즘\n",
    "\n",
    "> \"작성 중\"\n",
    "\n",
    "- toc: true\n",
    "- branch: master\n",
    "- badges: true\n",
    "- comments: true\n",
    "- author: 한재수\n",
    "- categories: [python, algorithm]"
   ]
  },
  {
   "cell_type": "markdown",
   "id": "presidential-jason",
   "metadata": {},
   "source": [
    "## 깊이 우선 탐색(Depth First Search, DFS)\n",
    "`-` 모든 정점을 한번만 방문\n",
    "\n",
    "`-` 시작 노드에서 다음 분기로 넘어가기 전에 해당 분기를 완벽하게 탐색\n",
    "\n",
    "`-` `방문할 노드`와 `방문한 노드`를 기준으로 탐색\n",
    "\n",
    "`-` 특정 노드가 `방문할 노드` --> `탐색`, `방문한 노드`면 --> `지나감`\n",
    "\n",
    "`-` 그래프나 트리는 `dictionary`로 생성\n",
    "\n",
    "`-` `스택 구조` or `재귀 함수`로 구현 가능"
   ]
  },
  {
   "cell_type": "markdown",
   "id": "proper-latin",
   "metadata": {},
   "source": [
    "### DFS 장점\n",
    "`-` 단지 현 경로상의 노드들만을 기억하면 되므로 저장공간의 수요가 비교적 적음\n",
    "\n",
    "`-` 목표노드가 깊은 단계에 있을 경우 해를 빨리 구함"
   ]
  },
  {
   "cell_type": "markdown",
   "id": "extreme-worst",
   "metadata": {},
   "source": [
    "### DFS 단점\n",
    "`-` 해가 없는 경로에 깊이 빠질 가능성 존재\n",
    "\n",
    "`-` 얻어진 해가 최단 경로가 된다는 보장이 없음 --> 목표에 이르는 경로가 다수일 때 해에 다다르면 탐색을 끝내버림 --> 이때 얻어진 해는 최적이 아닐 수 있음"
   ]
  },
  {
   "cell_type": "markdown",
   "id": "extensive-works",
   "metadata": {},
   "source": [
    "- DFS 참고: [https://ko.wikipedia.org/wiki/%EA%B9%8A%EC%9D%B4_%EC%9A%B0%EC%84%A0_%ED%83%90%EC%83%89](https://ko.wikipedia.org/wiki/%EA%B9%8A%EC%9D%B4_%EC%9A%B0%EC%84%A0_%ED%83%90%EC%83%89)"
   ]
  },
  {
   "cell_type": "markdown",
   "id": "atlantic-notion",
   "metadata": {},
   "source": [
    "### DFS 코드 구현(스택)"
   ]
  },
  {
   "cell_type": "markdown",
   "id": "canadian-gnome",
   "metadata": {},
   "source": [
    "`-` tree 구조\n",
    "\n",
    "`-` 노드: [A], [B], [C], [D], [E], [F], [G], [H], [I], [J]\n",
    "\n",
    "`-` 분기: [A, B, E], [A, B, F, I], [A, C, G], [A, D, H, I]"
   ]
  },
  {
   "cell_type": "code",
   "execution_count": 18,
   "id": "gross-costs",
   "metadata": {},
   "outputs": [],
   "source": [
    "tree = {'A': ['B', 'C', 'D'],\n",
    "        'B': ['A', 'E', 'F'],\n",
    "        'C': ['A', 'G'],\n",
    "        'D': ['A', 'H'],\n",
    "        'E': ['B'],\n",
    "        'F': ['B', 'I'],\n",
    "        'G': ['C'],\n",
    "        'H': ['D', 'J'],\n",
    "        'I': ['F'],\n",
    "        'J': ['H']}\n"
   ]
  },
  {
   "cell_type": "markdown",
   "id": "precious-finger",
   "metadata": {},
   "source": [
    "#### 리스트 활용\n",
    "`-` `list.pop()`은 성능이 떨어짐 --> $O(n)$"
   ]
  },
  {
   "cell_type": "code",
   "execution_count": 28,
   "id": "stretch-output",
   "metadata": {},
   "outputs": [
    {
     "name": "stdout",
     "output_type": "stream",
     "text": [
      "['A']\n",
      "['D', 'C', 'B']\n",
      "-------------------------------------------------------\n",
      "['A', 'B']\n",
      "['D', 'C', 'F', 'E', 'A']\n",
      "-------------------------------------------------------\n",
      "['A', 'B']\n",
      "['D', 'C', 'F', 'E']\n",
      "-------------------------------------------------------\n",
      "['A', 'B', 'E']\n",
      "['D', 'C', 'F', 'B']\n",
      "-------------------------------------------------------\n",
      "['A', 'B', 'E']\n",
      "['D', 'C', 'F']\n",
      "-------------------------------------------------------\n",
      "['A', 'B', 'E', 'F']\n",
      "['D', 'C', 'I', 'B']\n",
      "-------------------------------------------------------\n",
      "['A', 'B', 'E', 'F']\n",
      "['D', 'C', 'I']\n",
      "-------------------------------------------------------\n",
      "['A', 'B', 'E', 'F', 'I']\n",
      "['D', 'C', 'F']\n",
      "-------------------------------------------------------\n",
      "['A', 'B', 'E', 'F', 'I']\n",
      "['D', 'C']\n",
      "-------------------------------------------------------\n",
      "['A', 'B', 'E', 'F', 'I', 'C']\n",
      "['D', 'G', 'A']\n",
      "-------------------------------------------------------\n",
      "['A', 'B', 'E', 'F', 'I', 'C']\n",
      "['D', 'G']\n",
      "-------------------------------------------------------\n",
      "['A', 'B', 'E', 'F', 'I', 'C', 'G']\n",
      "['D', 'C']\n",
      "-------------------------------------------------------\n",
      "['A', 'B', 'E', 'F', 'I', 'C', 'G']\n",
      "['D']\n",
      "-------------------------------------------------------\n",
      "['A', 'B', 'E', 'F', 'I', 'C', 'G', 'D']\n",
      "['H', 'A']\n",
      "-------------------------------------------------------\n",
      "['A', 'B', 'E', 'F', 'I', 'C', 'G', 'D']\n",
      "['H']\n",
      "-------------------------------------------------------\n",
      "['A', 'B', 'E', 'F', 'I', 'C', 'G', 'D', 'H']\n",
      "['J', 'D']\n",
      "-------------------------------------------------------\n",
      "['A', 'B', 'E', 'F', 'I', 'C', 'G', 'D', 'H']\n",
      "['J']\n",
      "-------------------------------------------------------\n",
      "['A', 'B', 'E', 'F', 'I', 'C', 'G', 'D', 'H', 'J']\n",
      "['H']\n",
      "-------------------------------------------------------\n",
      "['A', 'B', 'E', 'F', 'I', 'C', 'G', 'D', 'H', 'J']\n",
      "[]\n",
      "-------------------------------------------------------\n"
     ]
    },
    {
     "data": {
      "text/plain": [
       "['A', 'B', 'E', 'F', 'I', 'C', 'G', 'D', 'H', 'J']"
      ]
     },
     "execution_count": 28,
     "metadata": {},
     "output_type": "execute_result"
    }
   ],
   "source": [
    "def DFS_list(graph, start_node):\n",
    "    visited = [] ## 방문한 노드\n",
    "    will_visit = [] ## 방문할 노드\n",
    "    will_visit.append(start_node) ## 방문할 노드에 시작 노드 추가\n",
    "\n",
    "    while will_visit:  ## 방문할 노드가 있다면(리스트에 원소가 있으면 True)\n",
    "        node = will_visit.pop() ## 마지막 노드 추가(스택 구조 사용) \n",
    "        \n",
    "        if node not in visited:  ## 만약 아직 방문한 노드가 아니라면\n",
    "            visited.append(node)  ## 이제 방문했으니까 방문한 노드에 추가\n",
    "            will_visit.extend(reversed(graph[node])) ## 방문한 노드에 연결된 노드를 탐색해보자\n",
    "            \n",
    "        print(visited)\n",
    "        print(will_visit)\n",
    "        print('-------------------------------------------------------') ## 방문과정 확인\n",
    "    \n",
    "    return visited ## 방문한 노드를 반환\n",
    "\n",
    "DFS_list(tree, 'A') ## 마지막은 return 값\n"
   ]
  },
  {
   "cell_type": "markdown",
   "id": "humanitarian-begin",
   "metadata": {},
   "source": [
    "#### deque 활용 "
   ]
  },
  {
   "cell_type": "markdown",
   "id": "voluntary-usage",
   "metadata": {},
   "source": [
    "`-` 성능이 좋음 --> $O(1)$\n",
    "\n",
    "`-` 사용: from collections import deque\n",
    "\n",
    "`-` visit도 dictionary를 사용하여 해시로 구현하면 $O(1)$로 효율$\\uparrow$(추가 예정)"
   ]
  },
  {
   "cell_type": "code",
   "execution_count": 38,
   "id": "religious-scope",
   "metadata": {},
   "outputs": [
    {
     "name": "stdout",
     "output_type": "stream",
     "text": [
      "['A']\n",
      "deque(['B', 'C', 'D'])\n",
      "-------------------------------------------------------\n",
      "['A', 'B']\n",
      "deque(['C', 'D', 'A', 'E', 'F'])\n",
      "-------------------------------------------------------\n",
      "['A', 'B', 'C']\n",
      "deque(['D', 'A', 'E', 'F', 'A', 'G'])\n",
      "-------------------------------------------------------\n",
      "['A', 'B', 'C', 'D']\n",
      "deque(['A', 'E', 'F', 'A', 'G', 'A', 'H'])\n",
      "-------------------------------------------------------\n",
      "['A', 'B', 'C', 'D']\n",
      "deque(['E', 'F', 'A', 'G', 'A', 'H'])\n",
      "-------------------------------------------------------\n",
      "['A', 'B', 'C', 'D', 'E']\n",
      "deque(['F', 'A', 'G', 'A', 'H', 'B'])\n",
      "-------------------------------------------------------\n",
      "['A', 'B', 'C', 'D', 'E', 'F']\n",
      "deque(['A', 'G', 'A', 'H', 'B', 'B', 'I'])\n",
      "-------------------------------------------------------\n",
      "['A', 'B', 'C', 'D', 'E', 'F']\n",
      "deque(['G', 'A', 'H', 'B', 'B', 'I'])\n",
      "-------------------------------------------------------\n",
      "['A', 'B', 'C', 'D', 'E', 'F', 'G']\n",
      "deque(['A', 'H', 'B', 'B', 'I', 'C'])\n",
      "-------------------------------------------------------\n",
      "['A', 'B', 'C', 'D', 'E', 'F', 'G']\n",
      "deque(['H', 'B', 'B', 'I', 'C'])\n",
      "-------------------------------------------------------\n",
      "['A', 'B', 'C', 'D', 'E', 'F', 'G', 'H']\n",
      "deque(['B', 'B', 'I', 'C', 'D', 'J'])\n",
      "-------------------------------------------------------\n",
      "['A', 'B', 'C', 'D', 'E', 'F', 'G', 'H']\n",
      "deque(['B', 'I', 'C', 'D', 'J'])\n",
      "-------------------------------------------------------\n",
      "['A', 'B', 'C', 'D', 'E', 'F', 'G', 'H']\n",
      "deque(['I', 'C', 'D', 'J'])\n",
      "-------------------------------------------------------\n",
      "['A', 'B', 'C', 'D', 'E', 'F', 'G', 'H', 'I']\n",
      "deque(['C', 'D', 'J', 'F'])\n",
      "-------------------------------------------------------\n",
      "['A', 'B', 'C', 'D', 'E', 'F', 'G', 'H', 'I']\n",
      "deque(['D', 'J', 'F'])\n",
      "-------------------------------------------------------\n",
      "['A', 'B', 'C', 'D', 'E', 'F', 'G', 'H', 'I']\n",
      "deque(['J', 'F'])\n",
      "-------------------------------------------------------\n",
      "['A', 'B', 'C', 'D', 'E', 'F', 'G', 'H', 'I', 'J']\n",
      "deque(['F', 'H'])\n",
      "-------------------------------------------------------\n",
      "['A', 'B', 'C', 'D', 'E', 'F', 'G', 'H', 'I', 'J']\n",
      "deque(['H'])\n",
      "-------------------------------------------------------\n",
      "['A', 'B', 'C', 'D', 'E', 'F', 'G', 'H', 'I', 'J']\n",
      "deque([])\n",
      "-------------------------------------------------------\n"
     ]
    },
    {
     "data": {
      "text/plain": [
       "['A', 'B', 'C', 'D', 'E', 'F', 'G', 'H', 'I', 'J']"
      ]
     },
     "execution_count": 38,
     "metadata": {},
     "output_type": "execute_result"
    }
   ],
   "source": [
    "def DFS_deque(graph, start_node):\n",
    "    from collections import deque ## deque패키지 import\n",
    "    visited = [] ## 방문한 노드\n",
    "    will_visit = deque() ## 방문할 노드\n",
    "    will_visit.append(start_node) ## 방문할 노드에 시작 노드 추가\n",
    "\n",
    "    while will_visit:  ## 방문할 노드가 있다면(리스트에 원소가 있으면 True)\n",
    "        node = will_visit.popleft() ## 마지막 노드 추가(스택 구조 사용) \n",
    "        \n",
    "        if node not in visited:  ## 만약 아직 방문한 노드가 아니라면\n",
    "            visited.append(node)  ## 이제 방문했으니까 방문한 노드에 추가\n",
    "            will_visit.extend(graph[node]) ## 방문한 노드에 연결된 노드를 탐색해보자\n",
    "       \n",
    "        print(visited)\n",
    "        print(will_visit)\n",
    "        print('-------------------------------------------------------') ## 방문과정 확인\n",
    "\n",
    "    return visited ## 방문한 노드를 반환\n",
    "\n",
    "DFS_deque(tree, 'A')"
   ]
  },
  {
   "cell_type": "markdown",
   "id": "global-frank",
   "metadata": {},
   "source": [
    "### 재귀함수 활용"
   ]
  },
  {
   "cell_type": "code",
   "execution_count": null,
   "id": "polished-bulgaria",
   "metadata": {},
   "outputs": [],
   "source": []
  },
  {
   "cell_type": "markdown",
   "id": "exciting-hazard",
   "metadata": {},
   "source": [
    "## 너비 우선 탐색(Breadth First Search, BFS)"
   ]
  },
  {
   "cell_type": "code",
   "execution_count": null,
   "id": "needed-medium",
   "metadata": {},
   "outputs": [],
   "source": []
  },
  {
   "cell_type": "markdown",
   "id": "subjective-planet",
   "metadata": {},
   "source": [
    "## 백트래킹((backtracking)"
   ]
  },
  {
   "cell_type": "code",
   "execution_count": null,
   "id": "cheap-brown",
   "metadata": {},
   "outputs": [],
   "source": []
  }
 ],
 "metadata": {
  "kernelspec": {
   "display_name": "Python 3",
   "language": "python",
   "name": "python3"
  },
  "language_info": {
   "codemirror_mode": {
    "name": "ipython",
    "version": 3
   },
   "file_extension": ".py",
   "mimetype": "text/x-python",
   "name": "python",
   "nbconvert_exporter": "python",
   "pygments_lexer": "ipython3",
   "version": "3.8.8"
  }
 },
 "nbformat": 4,
 "nbformat_minor": 5
}
