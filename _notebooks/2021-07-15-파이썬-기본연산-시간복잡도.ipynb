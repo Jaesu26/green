{
 "cells": [
  {
   "cell_type": "markdown",
   "id": "enclosed-parameter",
   "metadata": {},
   "source": [
    "# 파이썬 기본 연산 시간 복잡도(Big O)\n",
    "\n",
    "> \"작성 중\"\n",
    "\n",
    "- toc: true\n",
    "- branch: master\n",
    "- badges: true\n",
    "- comments: true\n",
    "- author: 한재수\n",
    "- categories: [python, algorithm]"
   ]
  },
  {
   "cell_type": "markdown",
   "id": "contrary-manufacturer",
   "metadata": {},
   "source": [
    "## 시간 복잡도\n",
    "`-` 컴퓨터 프로그램의 입력값과 연산 수행 시간의 함수 관계\n",
    "\n",
    "`-` 보통 Big O 표기법으로 나타냄"
   ]
  },
  {
   "cell_type": "markdown",
   "id": "wooden-cowboy",
   "metadata": {},
   "source": [
    "## Big O 표기법 "
   ]
  },
  {
   "cell_type": "markdown",
   "id": "circular-beijing",
   "metadata": {},
   "source": [
    "`-` 알고리즘의 시간 복잡도를 나타내는 척도"
   ]
  },
  {
   "cell_type": "markdown",
   "id": "scientific-coordinate",
   "metadata": {},
   "source": [
    "## 연산 시간 복잡도\n",
    "`-` 자료형별 연산의 시간 복잡도를 나타내자"
   ]
  },
  {
   "cell_type": "markdown",
   "id": "parallel-blink",
   "metadata": {},
   "source": [
    "### 리스트(list)"
   ]
  },
  {
   "cell_type": "markdown",
   "id": "substantial-donor",
   "metadata": {},
   "source": [
    "`-` l은 리스트(list)\n",
    "\n",
    "`-` k는 상수\n",
    "\n",
    "`-` 참고: [파이썬 자료형별 연산 시간 복잡도](https://www.ics.uci.edu/~pattis/ICS-33/lectures/complexitypython.txt)"
   ]
  },
  {
   "cell_type": "markdown",
   "id": "occupied-windows",
   "metadata": {},
   "source": [
    "                               \n",
    "|Operation     | Example      | Complexity Class    | Notes|\n",
    "|:-:|:-:|:-:|:-:|\n",
    "|index         | l[i]         | $O(1)$\t     ||\n",
    "|store         | l[i] = 0     | $O(1)$\t     |store는 변수 저장| \n",
    "|length        | len(l)       | $O(1)$\t     ||\n",
    "|append        | l.append(5)  | $O(1)$\t     ||\n",
    "|pop\t      | l.pop()      | $O(1)$\t     | same as l.pop(-1)|\n",
    "|clear         | l.clear()    | $O(1)$\t     | similar to l = []|\n",
    "|slice         | l[a:b]       | $O(b-a)$\t     | $l[1:5]\\to O(l)$, $l[ : ]\\to O(len(l)-0)=O(N)$|\n",
    "|extend        | l.extend(...)| $O(len(\\dots))$   | depends only on len of extension|\n",
    "|construction  | list(...)    | $O(len(\\dots))$   | depends on length of ... iterable|\n",
    "|check ==, !=  | l1 == l2     | $O(N)$          ||\n",
    "|insert        | l[a:b] = ... | $O(N)$\t     | |\n",
    "|delete        | del l[i]     |$O(N)$\t     | depends on i; O(N) in worst case|\n",
    "|containment   | x in/not in l| $O(N)$     | linearly searches list |\n",
    "|copy          | l.copy()     | $O(N)$\t     | Same as l[:] which is O(N)|\n",
    "|remove        | l.remove(...)| $O(N)$     | |\n",
    "|pop\t      | l.pop(i)     | $O(N)$     | O(N-i): l.pop(0):O(N) (see above)|\n",
    "|extreme value | min(l)/max(l)| $O(N)$\t     | linearly searches list for value|\n",
    "|reverse\t      | l.reverse()  | $O(N)$   ||\n",
    "|iteration     | for v in l:  | $O(N)$         | Worst: no return/break in loop|\n",
    "|sort          | l.sort()     | $O(N Log N)$    | key/reverse mostly does not change|\n",
    "|multiply      | k * l          | $O(kN)$        | $5*l$ is $O(N)$: $len(l)*l$ is $O(N^2)$|"
   ]
  },
  {
   "cell_type": "code",
   "execution_count": null,
   "id": "traditional-questionnaire",
   "metadata": {},
   "outputs": [],
   "source": []
  }
 ],
 "metadata": {
  "kernelspec": {
   "display_name": "Python 3",
   "language": "python",
   "name": "python3"
  },
  "language_info": {
   "codemirror_mode": {
    "name": "ipython",
    "version": 3
   },
   "file_extension": ".py",
   "mimetype": "text/x-python",
   "name": "python",
   "nbconvert_exporter": "python",
   "pygments_lexer": "ipython3",
   "version": "3.8.8"
  }
 },
 "nbformat": 4,
 "nbformat_minor": 5
}
