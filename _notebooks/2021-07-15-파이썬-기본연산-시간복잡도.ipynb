{
 "cells": [
  {
   "cell_type": "markdown",
   "id": "fuzzy-tennis",
   "metadata": {},
   "source": [
    "# 파이썬 기본 연산 시간 복잡도 (Big O)\n",
    "\n",
    "> \"작성 완료\"\n",
    "\n",
    "- toc: true\n",
    "- branch: master\n",
    "- badges: true\n",
    "- comments: true\n",
    "- author: 한재수\n",
    "- categories: [Python, Algorithm]"
   ]
  },
  {
   "cell_type": "markdown",
   "id": "coated-advice",
   "metadata": {},
   "source": [
    "## 시간 복잡도\n",
    "`-` 컴퓨터 프로그램의 입력값과 연산 수행 시간의 함수 관계\n",
    "\n",
    "`-` 보통 Big O 표기법으로 나타냄"
   ]
  },
  {
   "cell_type": "markdown",
   "id": "oriental-pitch",
   "metadata": {},
   "source": [
    "## Big O 표기법 "
   ]
  },
  {
   "cell_type": "markdown",
   "id": "proved-covering",
   "metadata": {},
   "source": [
    "`-` 알고리즘의 시간 복잡도를 나타내는 척도\n",
    "\n",
    "`-` 두 함수 $f$와 $g\\,(g>0)$에 대해 상수 $k<\\infty$가 존재해서 $x\\in A \\subset \\mathbb{R}$인 $x$에 대하여 $\\left|\\frac{f(x)}{g(x)}\\right|<K$이면 $f(x)=O(g(x))$임\n",
    "\n",
    "`-` 쉽게 말하면 $f$는 $g$로부터 일정수준 이상 벗어날 수 없다는 뜻($f$나 $g$나 비슷비슷하다)\n",
    "\n",
    "`-` $f(x) = 2x, \\,g(x) = x$이면 $\\left|\\frac{f(x)}{g(x)}\\right| = 2<\\infty$이므로 $f(x) = O(g(x))$임 ---> $f$나 $g$나 비슷함\n",
    "\n",
    "`-` 만약 $h(x) = x^2$이면 $\\left|\\frac{h(x)}{g(x)}\\right| = |x|$이고 $x\\to \\infty$이면 $\\left|\\frac{h(x)}{g(x)}\\right| \\to \\infty$이므로 $h(x) \\neq O(g(x))$임 ---> $h$와 $g$는 급이 다름"
   ]
  },
  {
   "cell_type": "markdown",
   "id": "ideal-flood",
   "metadata": {},
   "source": [
    "## 연산 시간 복잡도\n",
    "`-` 자료형별 연산의 시간 복잡도를 나타내자"
   ]
  },
  {
   "cell_type": "markdown",
   "id": "humanitarian-holocaust",
   "metadata": {},
   "source": [
    "### 리스트 (List)"
   ]
  },
  {
   "cell_type": "markdown",
   "id": "detailed-turner",
   "metadata": {},
   "source": [
    "`-` l은 리스트 (list)\n",
    "\n",
    "`-` k는 상수\n",
    "\n",
    "`-` 참고: [파이썬 자료형별 연산 시간 복잡도](https://www.ics.uci.edu/~pattis/ICS-33/lectures/complexitypython.txt)"
   ]
  },
  {
   "cell_type": "markdown",
   "id": "whole-milton",
   "metadata": {},
   "source": [
    "                               \n",
    "|Operation     | Example      | Complexity Class    | Notes|\n",
    "|:-:|:-:|:-:|:-:|\n",
    "|index         | l[n]         | $O(1)$\t     ||\n",
    "|store         | l[n] = 0     | $O(1)$\t     |store는 변수 저장| \n",
    "|length        | len(l)       | $O(1)$\t     ||\n",
    "|append        | l.append(5)  | $O(1)$\t     ||\n",
    "|pop       | l.pop()      | $O(1)$\t     | same as l.pop(-1)|\n",
    "|clear         | l.clear()    | $O(1)$\t     | similar to l = []|\n",
    "|slice         | l[a:b]       | $O(b-a)$\t     | $l[1:5]\\to O(l)$, $l[\\;\\; :\\;\\; ]\\to O(len(l)-0)=O(N)$|\n",
    "|extend        | l.extend(...)| $O(len(\\dots))$   | depends only on len of extension|\n",
    "|construction  | list(...)    | $O(len(\\dots))$   | depends on length of ... iterable|\n",
    "|check ==, !=  | l1 == l2     | $O(N)$          ||\n",
    "|insert        | l[a:b] = ... | $O(N)$\t     | |\n",
    "|delete        | del l[n]     |$O(N)$\t     | depends on $n$; $O(N)$ in worst case|\n",
    "|containment   | x in/not in l| $O(N)$     | linearly searches list |\n",
    "|copy          | l.copy()     | $O(N)$     | Same as $l[\\;\\;:\\;\\;]$ which is $O(N)$|\n",
    "|remove        | l.remove(...)| $O(N)$     | |\n",
    "|pop      | l.pop(n)     | $O(N)$     | $O(N-i)$: l.pop(0): $O(N)$ (see above)|\n",
    "|extreme value | min(l)/max(l)| $O(N)$\t     | linearly searches list for value|\n",
    "|reverse      | l.reverse()  | $O(N)$   ||\n",
    "|iteration     | for v in l:  | $O(N)$         | Worst: no return/break in loop|\n",
    "|sort          | l.sort()     | $O(N Log N)$    | key/reverse mostly does not change|\n",
    "|multiply      | $k \\times l$          | $O(kN)$        | $5\\times l$ is $O(N)$: $len(l)\\times l$ is $O(N^2)$|"
   ]
  },
  {
   "cell_type": "markdown",
   "id": "animated-ideal",
   "metadata": {},
   "source": [
    "### 집합 (Set)\n",
    "\n",
    "`-` s는 집합 (set)\n",
    "\n",
    "`-` 리스트에 비해 시간 복잡도가 작음"
   ]
  },
  {
   "cell_type": "markdown",
   "id": "surprised-prevention",
   "metadata": {},
   "source": [
    "\n",
    "                              \n",
    "|Operation     | Example      | Complexity Class   | Notes|\n",
    "|:-:|:-:|:-:|:-:|\n",
    "|Length        | len(s)       | $O(1)$\t   ||\n",
    "|Add            | s.add(5)     | $O(1)$     ||\n",
    "|Containment   | x in/not in s| $O(1)$     | compare to list/tuple - $O(N)$ |\n",
    "|Remove        | s.remove(..) | $O(1)$     | compare to list/tuple - $O(N)$ |\n",
    "|Discard       | s.discard(..)| $O(1)$\t    | |\n",
    "|Pop           | s.pop()      | $O(1)$\t    | popped value \"randomly\" selected|\n",
    "|Clear         | s.clear()    | $O(1)$\t    | similar to s = set()|\n",
    "|Construction  | set(...)     | $O(len(...))$   | depends on length of ... iterable|\n",
    "|check ==, !=  | s != t       | $O(len(s))$    | same as $len(t)$; False in $O(1)$ if the lengths are different   | \t      \t     \t       \t\t       \n",
    "|<=/<          | s <= t           | $O(len(s))$ | issubset|\n",
    "|>=/>          | s >= t          | $O(len(t))$ | issuperset s <= t == t >= s|\n",
    "|Union         | s \\| t        | $O(len(s)$+$len(t))$ ||\n",
    "|Intersection  | s & t            | $O(len(s)$+$len(t))$ ||\n",
    "|Difference    | s - t         | $O(len(s)$+$len(t))$ ||\n",
    "|Symmetric Diff| s ^ t        | $O(len(s)$+$len(t))$ ||\n",
    "|Iteration     | for v in s:   | $O(N)$     | Worst: no return/break in loop|\n",
    "|Copy          | s.copy()     | $O(N)$ \t  ||"
   ]
  },
  {
   "cell_type": "markdown",
   "id": "weekly-proportion",
   "metadata": {},
   "source": [
    "### 해시 테이블 (Dictionary)\n",
    "\n",
    "`-` d는 해시 테이블 (dict)\n",
    "\n",
    "`-` 시간 복잡도가 대부분 $O(1)$이다\n",
    "\n",
    "`-` 같은 함수라면 리스트 대신 딕셔너리를 사용하는 것이 시간 복잡도 면에서 우월함"
   ]
  },
  {
   "cell_type": "markdown",
   "id": "smoking-context",
   "metadata": {},
   "source": [
    "\n",
    "|Operation     | Example      |  Complexity Class         | Notes|\n",
    "|:-:|:-:|:-:|:-:|\n",
    "|Index         | d[k]         | $O(1)$\t     ||\n",
    "|Store         | d[k] = v     | $O(1)$\t     ||\n",
    "|Length        | len(d)       | $O(1)$\t     ||\n",
    "|Delete        | del d[k]     | $O(1)$     ||\n",
    "|get/setdefault| d.get(k)     |$O(1)$     ||\n",
    "|Pop           | d.pop(k)     | $O(1)$   | |\n",
    "|Pop item      | d.popitem()  |$O(1)$     | popped item \"randomly\" selected|\n",
    "|Clear         | d.clear()    | $O(1)$\t     | similar to s = {} or = dict()|\n",
    "|View          | d.keys()     | $O(1)$     | same for d.values()|\n",
    "|Construction  | dict(...)    | $O(len(...))$   | depends # (key,value) 2-tuples|\n",
    "|Iteration     | for k in d:  | $O(N)$          | all forms: keys, values, items, Worst: no return/break in loop|"
   ]
  },
  {
   "cell_type": "code",
   "execution_count": null,
   "id": "81b943af-d583-49e5-ba71-b8c85297204e",
   "metadata": {},
   "outputs": [],
   "source": []
  }
 ],
 "metadata": {
  "kernelspec": {
   "display_name": "Python 3 (ipykernel)",
   "language": "python",
   "name": "python3"
  },
  "language_info": {
   "codemirror_mode": {
    "name": "ipython",
    "version": 3
   },
   "file_extension": ".py",
   "mimetype": "text/x-python",
   "name": "python",
   "nbconvert_exporter": "python",
   "pygments_lexer": "ipython3",
   "version": "3.8.11"
  }
 },
 "nbformat": 4,
 "nbformat_minor": 5
}
