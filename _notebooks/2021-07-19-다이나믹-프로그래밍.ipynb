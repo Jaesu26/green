{
 "cells": [
  {
   "cell_type": "markdown",
   "id": "spatial-silly",
   "metadata": {},
   "source": [
    "# 동적 계획법\n",
    "\n",
    "> \"작성 완료\"\n",
    "\n",
    "- toc: true\n",
    "- branch: master\n",
    "- badges: true\n",
    "- comments: true\n",
    "- author: 한재수\n",
    "- categories: [python, algorithm]"
   ]
  },
  {
   "cell_type": "markdown",
   "id": "surprised-purchase",
   "metadata": {},
   "source": [
    "# 동적 계획법"
   ]
  },
  {
   "cell_type": "markdown",
   "id": "japanese-feedback",
   "metadata": {},
   "source": [
    "`-` 다이나믹 프로그래밍 참고: [동적 계획법](https://galid1.tistory.com/507)"
   ]
  },
  {
   "cell_type": "markdown",
   "id": "marked-kitty",
   "metadata": {},
   "source": [
    "`-` 다이나믹 프로그래밍((Dynamic Programming)으로도 불림"
   ]
  },
  {
   "cell_type": "markdown",
   "id": "binary-accreditation",
   "metadata": {},
   "source": [
    "`-` 큰 문제를 작은 문제로 나눠서 푸는 방법"
   ]
  },
  {
   "cell_type": "markdown",
   "id": "removed-dylan",
   "metadata": {},
   "source": [
    "`-` 분할 정복과 유사하지만.."
   ]
  },
  {
   "cell_type": "markdown",
   "id": "attached-lawrence",
   "metadata": {},
   "source": [
    "| |동적 계획법 |분할 정복 |\n",
    "|:---:|:---:|:---:|    \n",
    "|공통점| 큰 문제를 작은 문제로 나눠서 해결|큰 문제를 작은 문제로 나눠서 해결 |\n",
    "|차이점|작은 문제가 반복됨    |작은 문제가 반복되지 않음|"
   ]
  },
  {
   "cell_type": "markdown",
   "id": "greek-volleyball",
   "metadata": {},
   "source": [
    "`-` 나중에 분할 정복에 대해서도 다뤄보자"
   ]
  },
  {
   "cell_type": "markdown",
   "id": "subject-agency",
   "metadata": {},
   "source": [
    "## 다이나믹 프로그래밍 조건"
   ]
  },
  {
   "cell_type": "markdown",
   "id": "sacred-inflation",
   "metadata": {},
   "source": [
    "1. 작은 문제들의 반복\n",
    "\n",
    "2. 같은 문제는 구할 때마다 정답이 같음"
   ]
  },
  {
   "cell_type": "markdown",
   "id": "communist-photograph",
   "metadata": {},
   "source": [
    "## 다이나믹 프로그래밍 구현"
   ]
  },
  {
   "cell_type": "markdown",
   "id": "quantitative-market",
   "metadata": {},
   "source": [
    "`-` 모든 작은 문제는 단 한번만 풀어야 함\n",
    "\n",
    "`-` 정답을 구한 작은 문제는 어딘가에 저장\n",
    "\n",
    "`-` 큰 문제를 해결할 때 미리 구한 작은 문제의 정답을 사용"
   ]
  },
  {
   "cell_type": "markdown",
   "id": "placed-postage",
   "metadata": {},
   "source": [
    "- 피보나치 수열을 다이나믹 프로그래밍으로 구현해보자"
   ]
  },
  {
   "cell_type": "markdown",
   "id": "lined-elimination",
   "metadata": {},
   "source": [
    "### Top-down "
   ]
  },
  {
   "cell_type": "markdown",
   "id": "plastic-tablet",
   "metadata": {},
   "source": [
    "`-` 큰 문제를 해결할 때 작은 문제가 해결되지 않았으면 작은 문제를 해결하여 큰 문제를 해결\n",
    "\n",
    "`-` 재귀 함수로 구현하는 경우가 대부분 Top-down 방법"
   ]
  },
  {
   "cell_type": "markdown",
   "id": "liberal-lambda",
   "metadata": {},
   "source": [
    "`-` 메모이제이션 기법 사용 --> 미리 구한 작은 문제의 정답을 어딘가에 저장"
   ]
  },
  {
   "cell_type": "code",
   "execution_count": 13,
   "id": "governmental-chance",
   "metadata": {},
   "outputs": [],
   "source": [
    "fibonacci = {0:0, 1:1} ## 메모이제이션을 위한 딕셔러니 선언 ## 리스트도 가능\n",
    "\n",
    "def fibo_top_down(n):\n",
    "    if n in fibonacci:\n",
    "        return fibonacci[n]\n",
    "    \n",
    "    fibonacci[n] = fibo(n-1) + fibo(n-2)\n",
    "    \n",
    "    return fibonacci[n]\n"
   ]
  },
  {
   "cell_type": "code",
   "execution_count": 14,
   "id": "color-frost",
   "metadata": {},
   "outputs": [
    {
     "data": {
      "text/plain": [
       "55"
      ]
     },
     "execution_count": 14,
     "metadata": {},
     "output_type": "execute_result"
    }
   ],
   "source": [
    "fibo_top_down(10)"
   ]
  },
  {
   "cell_type": "markdown",
   "id": "challenging-messaging",
   "metadata": {},
   "source": [
    "### Bottom-up "
   ]
  },
  {
   "cell_type": "markdown",
   "id": "aware-underground",
   "metadata": {},
   "source": [
    "`-` 작은 문제부터 차근차근 해결하여 큰 문제를 해결"
   ]
  },
  {
   "cell_type": "code",
   "execution_count": 21,
   "id": "played-serve",
   "metadata": {},
   "outputs": [],
   "source": [
    "def fibo_bottom_up1(n):\n",
    "    if n <= 1:\n",
    "        return n\n",
    "    \n",
    "    fir_fibo = 0\n",
    "    sec_fibo = 1\n",
    "    \n",
    "    for _ in range(n-1):\n",
    "        next_fibo = fir_fibo + sec_fibo  ## 2번째 피보나치 값 = 0번째 피보나치 값 + 1번째 피보나치 값(n번째 피보나치 값 = n-2번째 피보나치 값 + n-1번째 피보나치 값)\n",
    "        fir_fibo = sec_fibo ## 0번째 피보나치 값을 1번째 피보나치 값으로 업데이트\n",
    "        sec_fibo = next_fibo ## 1번째 피보나치 값을 2번째 피보나치 값으로 업데이트 \n",
    "        ## 다시 for문 시작으로 돌아가서 1번째 피보나치 값과 2번째 피보나치 값을 통해 3번째 피보나치 값을 구함(이를 n-1번 반복)\n",
    "        \n",
    "        ## for 문의 역할은 점화식을 통해 0번째와 1번째의 피보나치 값을 가지고 n번째의 피보나치 값을 구한다\n",
    "        \n",
    "    return next_fibo"
   ]
  },
  {
   "cell_type": "code",
   "execution_count": 20,
   "id": "demographic-portsmouth",
   "metadata": {},
   "outputs": [
    {
     "data": {
      "text/plain": [
       "55"
      ]
     },
     "execution_count": 20,
     "metadata": {},
     "output_type": "execute_result"
    }
   ],
   "source": [
    "fibo_bottom_up1(10)"
   ]
  },
  {
   "cell_type": "markdown",
   "id": "stuck-vatican",
   "metadata": {},
   "source": [
    "`-` 또 다른 방법\n",
    "\n",
    "`-` 미리 dp라는 list를 생성"
   ]
  },
  {
   "cell_type": "code",
   "execution_count": 38,
   "id": "written-somewhere",
   "metadata": {},
   "outputs": [],
   "source": [
    "x = 100 ## 문제 조건에 맞춰서\n",
    "\n",
    "dp = [-1] * x\n",
    "\n",
    "def fibo_bottom_up2(n):\n",
    "    dp[0] = 0\n",
    "    dp[1] = 1\n",
    "    \n",
    "    for i in range(2, n+1):\n",
    "        dp[i] = dp[i-1] + dp[i-2]\n",
    "    \n",
    "    return dp[n]\n",
    "    "
   ]
  },
  {
   "cell_type": "code",
   "execution_count": 39,
   "id": "dutch-better",
   "metadata": {},
   "outputs": [
    {
     "data": {
      "text/plain": [
       "55"
      ]
     },
     "execution_count": 39,
     "metadata": {},
     "output_type": "execute_result"
    }
   ],
   "source": [
    "fibo_bottom_up2(10)"
   ]
  },
  {
   "cell_type": "markdown",
   "id": "approved-partner",
   "metadata": {},
   "source": [
    "`-` bottom-up 방식으로 구현한 위의 두개 코드의 차이점은?\n",
    "\n",
    "`-` fibo(9)와 fibo(10)을 구할 때 처음 코드는 fibo_bottom_up1(9)과 fibo_bottom_up1(10) 총 함수를 2번 사용\n",
    "\n",
    "`-` 사실 fibo_bottom_up1(10)을 구했다면 fibo_bottom_up1(9)도 당연히 알지만 각각을 따로 두 번 구했다\n",
    "\n",
    "`-` 첫번째 코드의 경우 다이나믹 프로그래밍은 이미 구한 작은 문제 정답은 또 구하지 않기로 했지만 그렇지 않은 모습\n",
    "\n",
    "`-` 하지만 두번째 코드는 fibo_bottom_up2(10)을 구했다면 dp[0] \\~ dp[10]까지 값이 채워져 있기에 fibo_bottom_up2(9)를 하지 않고 dp[9]를 통해 fibo(9)를 구할 수 있음\n",
    "\n",
    "`-` 결론: 두번째 코드 쓰세요"
   ]
  }
 ],
 "metadata": {
  "kernelspec": {
   "display_name": "Python 3",
   "language": "python",
   "name": "python3"
  },
  "language_info": {
   "codemirror_mode": {
    "name": "ipython",
    "version": 3
   },
   "file_extension": ".py",
   "mimetype": "text/x-python",
   "name": "python",
   "nbconvert_exporter": "python",
   "pygments_lexer": "ipython3",
   "version": "3.8.8"
  }
 },
 "nbformat": 4,
 "nbformat_minor": 5
}
