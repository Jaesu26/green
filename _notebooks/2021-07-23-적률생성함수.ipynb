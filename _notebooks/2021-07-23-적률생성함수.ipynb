{
 "cells": [
  {
   "cell_type": "markdown",
   "id": "cultural-tension",
   "metadata": {},
   "source": [
    "# 적률생성함수\n",
    "\n",
    "> \"작성 중\"\n",
    "\n",
    "- toc: true\n",
    "- branch: master\n",
    "- badges: true\n",
    "- comments: true\n",
    "- author: 한재수\n",
    "- categories: [python, statistics]"
   ]
  },
  {
   "cell_type": "markdown",
   "id": "collective-pendant",
   "metadata": {},
   "source": [
    "# 적률이란"
   ]
  },
  {
   "cell_type": "markdown",
   "id": "basic-equilibrium",
   "metadata": {},
   "source": [
    "`-` 확률변수의 특징을 설명\n",
    "\n",
    "`-` 확률변수 $X$의 $k$차 중심적률(central moment)을 $\\mu_{k}$라 하면 $\\mu_{k} = E[(X-\\mu)^{k}]$\n",
    "\n",
    "`-` $\\mu_{1} = E(X) - \\mu = 0$ --> 확률변수 $X$의 $1$차 중심적률은 $0$\n",
    "\n",
    "`-` $\\mu_{2} = E[(X-\\mu)^{2}]$ --> 확률변수 $X$의 $2$차 중심적률은 분산\n",
    "\n",
    "`-` 일반적인 확률 변수 $X$의 적률(moment)은 비중심(non-central)적률을 나타냄 $\\longrightarrow$ $\\mu'_{k} = E[X^k]$\n",
    "\n",
    "`-` $\\mu'_{1} = \\mu$\n",
    "\n",
    "`-` $\\sigma^{2} = \\mu_{2} = \\mu'_{2} - (\\mu'_{1})^{2}$ \n",
    "\n",
    "`-` 모평균$\\mu$는 확률변수 $X$의 1차 비중심적률\n",
    "\n",
    "`-` 모분산$\\sigma^{2}$은 확률변수 $X$의 2차 비중심적률에서 1차 비중심적률의 제곱을 뺀 값\n",
    "\n",
    "`-` 참고 자료: [통계수학 강의](http://book.interpark.com/product/BookDisplay.do?_method=detail&sc.shopNo=0000400000&sc.prdNo=234955367&pis1=book&pis2=product) "
   ]
  },
  {
   "cell_type": "markdown",
   "id": "twelve-shark",
   "metadata": {},
   "source": [
    "# 적률생성함수(moment generating function, mgf)"
   ]
  },
  {
   "cell_type": "markdown",
   "id": "organized-reproduction",
   "metadata": {},
   "source": [
    "`-` 특정 확률 분포의 적률을 생성하는 함수\n",
    "\n",
    "`-` 적률을 계산하려면 연속확률변수의 경우 적분을 하게 되는데 어렵거나 불가능한 경우도 있음 ---> 적률생성함수를 통해 계산 가능 \n",
    "\n",
    "`-` 임의의 확률변수 $X$의 기댓값이 존재한다면 $X$의 적률생성함수 $M_{X}(t) = E(e^{tX}),\\; t \\in \\mathbb{R}$ \n",
    "\n",
    "`-` $M_{X}(t) = E(e^{tX}) = \\begin{cases}\\text{이산확률변수 : }\\sum\\limits_{x}e^{tx}f(x) \\\\ \\text{연속확률변수 : }\\int_{-\\infty}^{\\infty}e^{tx}f(x)dx\\end{cases}$\n",
    "\n",
    "`-` 만약 확률변수 $X$의 기댓값을 구하는데 $X$가 아니라 $x$가 사용되네??라고 생각하면 구글창에 확률변수의 기댓값 검색해서 공부하세요\n",
    "\n",
    "`-` 사실 $x$말고 $k$라고 하든지 $a$라고 하든지 다른 변수를 사용해도 됨 ---> 마치 적분할 때 $\\int x \\,dx = \\int t\\, dt = \\int a \\,da$ 인 것 처럼\n",
    "\n",
    "`-` 참고: $X$는 확률변수, $x$는 확률변수 $X$가 가지는 값 ---> 이산확률변수는 $P(X=x)$, 연속확률변수는 $P(A\\leq X\\leq B)$\n",
    "\n",
    "`-` 적률생성함수는 항상 존재하는 것이 아님 ---> 1. $e^{tX}$가 $t=0$근방에서 적분이 가능해야 함 $\\;\\;$ 2. $\\forall\\, t \\in \\mathbb{R},\\;\\;E(e^{tX}) < \\infty $"
   ]
  },
  {
   "cell_type": "markdown",
   "id": "cellular-nothing",
   "metadata": {},
   "source": [
    "## 적률생성함수 특징\n",
    "`-` 두 확률변수의 mgf가 일치하면 두 확률변수는 같은 분포를 가짐\n",
    "\n",
    "`-` 적률생성함수를 $k$번 미분하고 $t=0$을 대입하면 확률변수 $X$의 $k$차 비중심 적률이다 --> 왜???"
   ]
  },
  {
   "cell_type": "markdown",
   "id": "bulgarian-recruitment",
   "metadata": {},
   "source": [
    "### 적률생성함수 k번 미분 $\\longrightarrow$ k차 비중심 적률"
   ]
  },
  {
   "cell_type": "markdown",
   "id": "spread-growing",
   "metadata": {},
   "source": [
    "`-` $M_{X}(t) = E(e^{tX})$\n",
    "\n",
    "`-` $\\frac{d^{k}M_{X}(0)}{dt^{k}} = E(X^{k})$\n",
    "\n",
    "`-` 매클로린 급수를 사용하자\n",
    "\n",
    "`-` $e^{tX} = \\sum\\limits_{k = 0}^{\\infty}\\frac{X^k}{k!}(e^{tX})^{(k)}(0) = \\frac{t^{0}}{0!}X^{0}+\\frac{t^1}{1!}X^1+\\frac{t^2}{2!}X^2+\\frac{t^3}{3!}X^3+\\dots$\n",
    "\n",
    "`-` 양변에 기댓값을 취하면...\n",
    "\n",
    "`-` $M_X(t)=E(e^{tX}) = 1 + tE(X) + \\frac{t^2}{2!}E(X^2) + \\frac{t^3}{3!}E(X^3)+\\dots$\n",
    "\n",
    "`-` 이제 양변을 t에 대해 미분하자\n",
    "\n",
    "`-` $\\frac{dM_X(t)}{dt} = 0 + E(X) + tE(X^2) + \\frac{t^2}{2}E(X^3)+\\dots$\n",
    "\n",
    "`-` 이제 $t=0$을 대입하면...\n",
    "\n",
    "`-` $\\frac{dM_X(0)}{dt} = E(X)$ --> 1번 미분하니 1차 적률이 구해짐\n",
    "\n",
    "`-` 그럼 한 번 더 미분하면 2차 적률? --> ㅇㅇ\n",
    "\n",
    "`-` $\\frac{d^2M_X(t)}{dt^2} = 0 + 0 + E(X^2) + tE(X^3)+\\dots$   \n",
    "\n",
    "`-` 참고: $E(X)$는 $t$에 대하여 상수임 \n",
    "\n",
    "`-` 이제 $t=0$을 대입하면\n",
    "\n",
    "`-` $\\frac{d^2M_X(0)}{dt^2} = E(X^2)$\n",
    "\n",
    "`-` 정말로 2번 미분하니 2차 적률이 구해졌다.."
   ]
  },
  {
   "cell_type": "markdown",
   "id": "pointed-indian",
   "metadata": {},
   "source": [
    "- 확률 분포에 대해 정리할 때 기댓값과 분산을 과정없이 결과만 적었었음\n",
    "\n",
    "- 적률생성함수를 통해 여러가지 확률 분포의 기댓값과 분산을 구해보자"
   ]
  },
  {
   "cell_type": "markdown",
   "id": "flying-queue",
   "metadata": {},
   "source": [
    "## 균일 분포의 적률생성함수 "
   ]
  },
  {
   "cell_type": "markdown",
   "id": "atmospheric-arrival",
   "metadata": {},
   "source": [
    "`-` 균일 분포의 확률 밀도 함수: $f(x) = \\frac{1}{b-a}$ \n",
    "\n",
    "\n",
    "`-` 균일 분포의 적률생성함수 \n",
    "\n",
    "- $M_X(t) = E(e^{tX}) \\\\= \\int_{a}^{b}e^{tx}\\frac{1}{b-a}dx \\longrightarrow \\text{확률변수$X$가 $a$부터 $b$까지의 값을 가진다는 뜻} \\\\ = \\frac{1}{b-a}\\left[\\frac{1}{t}e^{tx}\\right]_{a}^{b} \\\\= \\frac{e^{t}(e^{b}-e^{a})}{t(b-a)}$\n",
    "\n",
    "`-` 균일 분포의 기댓값 --> 적률생성함수를 통해 구하는 것보다 1차 적률의 정의를 통해 구하는 것이 더 쉬움\n",
    "\n",
    "- $E(X) = \\int_{a}^{b}\\frac{1}{b-a}x \\;dx \\\\ = \\frac{1}{b-a}\\left[\\frac{x^2}{2}\\right]_{a}^{b} \\\\= \\frac{b^{2}-a^{2}}{2(b-a)} \\\\= \\frac{a+b}{2}$\n",
    "\n",
    "`-` 균일 분포의 분산 --> 적률의 정의를 통해 구하자 --> 우선 2차 비중심 적률을 구하자\n",
    "\n",
    "- $E(X^2) = \\int_{a}^{b}\\frac{1}{b-a}x^2 \\;dx \\\\ = \\frac{1}{b-a}\\left[\\frac{x^3}{3}\\right]_{a}^{b} \\\\= \\frac{b^{3}-a^{3}}{3(b-a)} \\\\= \\frac{a^2+ab+b^2}{3}$ \n",
    "\n",
    "- $Var(X) = E(X^2) - [E(X)]^2 \\\\= \\frac{a^2+ab+b^2}{3} - (\\frac{a+b}{2})^2 \\\\= \\frac{4(a^2+ab+b^2) \\,- 3(a^2+2ab+b^2)}{12} \\\\= \\frac{(b-a)^2}{12}$"
   ]
  },
  {
   "cell_type": "markdown",
   "id": "facial-boating",
   "metadata": {},
   "source": [
    "## 기하 분포의 적률생성함수"
   ]
  },
  {
   "cell_type": "markdown",
   "id": "pregnant-intranet",
   "metadata": {},
   "source": [
    "`-` 기하 분포의 확률 질량 함수: $f(x) = q^{x-1}p, \\; q=1-p,\\; x = 1, 2, 3,\\dots$\n",
    "\n",
    "`-` 첫째항이 $a$, 공비가 $r$인 무한등비수열의 합: $\\frac{a}{1-r}, \\; |r|<1$"
   ]
  },
  {
   "cell_type": "markdown",
   "id": "continuous-security",
   "metadata": {},
   "source": [
    "`-` 기하 분포의 적률생성함수\n",
    "- $M_X(t) = E(e^{tX}) \\\\\n",
    "= \\sum\\limits_{x=1}^{\\infty}e^{tx}q^{x-1}p \\\\\n",
    "= \\frac{p}{q}\\sum\\limits_{x=1}^{\\infty}(qe^{t})^{x}\\\\\n",
    "= \\frac{pqe^t}{q(1-qe^t)} , \\; 0 \\leq qe^t < 1 \\\\\n",
    "= \\frac{pe^t}{1-qe^t}$"
   ]
  },
  {
   "cell_type": "markdown",
   "id": "later-booth",
   "metadata": {},
   "source": [
    "`-` 기하 분포의 기댓값\n",
    "\n",
    "`-` 몫의 미분: $[\\frac{f(x)}{g(x)}]' = \\frac{f'(x)g(x)-f(x)g'(x)}{(g(x))^2}$\n",
    "- $E(X) = \\frac{dM_X(t)}{dt} \\\\\n",
    "= \\frac{pe^{t}(1-qe^t)-pe^{t}(-qe^t)}{(1-qe^t)^2} \\\\\n",
    "= \\frac{pe^t}{(1-qe^t)^2} ,\\; \\text{$t=0$ 대입}\\\\\n",
    "= \\frac{p}{(1-q)^2} \\\\\n",
    "= \\frac{1}{p}$"
   ]
  },
  {
   "cell_type": "markdown",
   "id": "inner-rebel",
   "metadata": {},
   "source": [
    "`-` 기하 분포의 분산\n",
    "- $E(X^2) = \\frac{d^2M_X(t)}{dt^2}\\\\\n",
    "= \\frac{pe^{t}(1-qe^t)^2- 2pe^{t}(1-qe^{t})(-qe^t)}{(1-qe^t)^4}\\\\\n",
    "= \\frac{pe^{t}(1-qe^t)((1-qe^t)+2qe^t)}{(1-qe^t)^4}\\\\\n",
    "= \\frac{pe^{t}(1+qe^t)}{(1-qe^t)^3},\\; \\text{$t=0$ 대입} \\\\\n",
    "= \\frac{p(1+q)}{(1-q)^3}\\\\\n",
    "= \\frac{1+q}{p^2}$\n",
    "\n",
    "- $Var(X) = E(X^2) - [E(X)]^2 \\\\\n",
    "= \\frac{1+q}{p^2} - (\\frac{1}{p})^2\\\\\n",
    "= \\frac{q}{p^2}$"
   ]
  },
  {
   "cell_type": "markdown",
   "id": "color-trade",
   "metadata": {},
   "source": [
    "## 이항 분포의 적률생성함수 "
   ]
  },
  {
   "cell_type": "markdown",
   "id": "following-venezuela",
   "metadata": {},
   "source": [
    "`-` 이항 분포의 확률 질량 함수: $f(x) \\,=\\, _{n}\\rm C_{x}\\,p^{x}\\,(1-p)^{n-x}$"
   ]
  },
  {
   "cell_type": "markdown",
   "id": "protected-option",
   "metadata": {},
   "source": [
    "`-` 이항 분포는 서로 독립이고 동일한 베르누이 분포를 따르는 확률변수들을 n개 합한 것임\n",
    "\n",
    "`-` 베르누이 분포의 확률 질량 함수 $f(x) = p^{x}(1-p)^{1-x}, \\; x = 0, 1$\n",
    "\n",
    "`-` 베르누이 분포의 기댓값\n",
    "- $E(X) = \\sum\\limits_{x=0}^{1}xp^{x}(1-p)^{1-x}\\\\\n",
    "= 0\\cdot (1-p) + 1\\cdot p \\\\\n",
    "= p$"
   ]
  },
  {
   "cell_type": "markdown",
   "id": "killing-poster",
   "metadata": {},
   "source": [
    "`-` 베르누이 분포의 분산\n",
    "- $E(X^2) = \\sum\\limits_{x=0}^{1}x^2p^x(1-p)^{1-x}\\\\\n",
    "= 0\\cdot (1-p) + 1\\cdot p \\\\\n",
    "= p$\n",
    "\n",
    "- $Var(X) = E(X^2)-[E(X)]^2\\\\\n",
    "= p - p^2\\\\\n",
    "= p(1-p)$"
   ]
  },
  {
   "cell_type": "markdown",
   "id": "signed-facial",
   "metadata": {},
   "source": [
    "`-` 확률변수 $X, Y$에 대해 $E(X + Y)= E(X) + E(Y)$\n",
    "\n",
    "`-` 확률변수 $X, Y$가 독립이면 $Var(X + Y) = Var(X) + Var(Y)$\n",
    "\n",
    "`-` 참고: [확률변수의 합 특징](https://datascienceschool.net/02%20mathematics/07.03%20%EB%B6%84%EC%82%B0%EA%B3%BC%20%ED%91%9C%EC%A4%80%ED%8E%B8%EC%B0%A8.html)\n",
    "\n",
    "`-` 이항 분포의 기댓값 --> 이항 분포의 정의를 통해 구함: 베르누이 분포를 따르는 확률변수들의 합\n",
    "- $E(X) = E(\\sum\\limits_{i=1}^{n}X_i) = \\sum\\limits_{i=1}^{n}E(X_i)\\\\\n",
    "= E(X_1) + E(X_2) + \\dots+E(X_{n-1})+E(X_n)\\\\\n",
    "= \\overbrace{p + \\dots + p}^{n \\rm\\ times} = np$"
   ]
  },
  {
   "cell_type": "markdown",
   "id": "french-essay",
   "metadata": {},
   "source": [
    "`-` 이항 분포의 분산 --> 기댓값과 마찬가지\n",
    "- $Var(X) = Var(\\sum\\limits_{i=1}^{n}X_i) = \\sum\\limits_{i=1}^{n}Var(X_i)\\\\\n",
    "= Var(X_1)+Var(X_2)+\\dots+Var(X_{n-1})+Var(X_n)\\\\\n",
    "= \\overbrace{p(1-p)+\\dots+p(1-p)}^{n \\rm\\ times} = np(1-p)$"
   ]
  },
  {
   "cell_type": "markdown",
   "id": "exact-cradle",
   "metadata": {},
   "source": [
    "`-` 이항 정리\n",
    "- $(x+y)^n = \\sum\\limits_{k=0}^{n}\\binom{n}{k}x^{n-k}y^{k}$\n",
    "\n",
    "`-` 이항 분포의 적률생성함수\n",
    "- $M_{X}(t) = E(e^{tX})\\\\\n",
    "= \\sum\\limits_{x=0}^{n}\\binom{n}{x}e^{tx}p^{x}\\,(1-p)^{n-x}\\\\\n",
    "= \\sum\\limits_{x=0}^{n}\\binom{n}{x}(pe^{t})^{x}\\,(1-p)^{n-x}\\\\\n",
    "= (1-p+pe^{t})^n$"
   ]
  },
  {
   "cell_type": "markdown",
   "id": "unable-cooking",
   "metadata": {},
   "source": [
    "`-` 이항 분포의 기댓값 --> 적률생성함수 미분해서 구하기\n",
    "\n",
    "`-` 합성함수의 미분\n",
    "- $[f(g(x))]' = g'(x)f'(g(x))$"
   ]
  },
  {
   "cell_type": "markdown",
   "id": "sensitive-organizer",
   "metadata": {},
   "source": [
    "- $E(X) = \\frac{dM_X(t)}{dt} \\\\\n",
    "= npe^t(1-p+pe^t)^{n-1},\\;\\text{$t=0$ 대입}\\\\\n",
    "= np$"
   ]
  },
  {
   "cell_type": "markdown",
   "id": "senior-plaza",
   "metadata": {},
   "source": [
    "`-` 곱의 미분\n",
    "- $[f(x)g(x)]'=f'(x)g(x)+f(x)g'(x)$\n",
    "\n",
    "`-` 이항 분포의 분산 --> 적률생성함수 미분해서 구하기\n",
    "- $E(X^2) = \\frac{d^2M_X(t)}{dt^2}\\\\\n",
    "= npe^{t}\\cdot(1-p+pe^t)^{n-1}+npe^{t}\\cdot (n-1)pe^{t}(1-p+pe^{t})^{n-2},\\; \\text{$t=0$ 대입}\\\\\n",
    "=np+np^{2}(n-1)\\\\\n",
    "= np-np^2+n^2p^2$\n",
    "\n",
    "- $Var(X) = E(X^2)-[E(X)]^2\\\\\n",
    "= np-np^2+n^2p^2-(np)^2\\\\\n",
    "= np-np^2\\\\\n",
    "=np(1-p)$"
   ]
  },
  {
   "cell_type": "markdown",
   "id": "quality-thomson",
   "metadata": {},
   "source": [
    "## 포아송 분포의 적률생성함수 "
   ]
  },
  {
   "cell_type": "markdown",
   "id": "positive-reward",
   "metadata": {},
   "source": [
    "`-` 테일러 급수 공부해라 구더기야 + 극좌표계도(희망) 하기 싫어..............................................."
   ]
  },
  {
   "cell_type": "markdown",
   "id": "qualified-short",
   "metadata": {},
   "source": [
    "`-` 테일러 급수: 초월함수를 특정 값의 근방에서 멱함수로 근사시킴 --> 개사기임"
   ]
  },
  {
   "cell_type": "markdown",
   "id": "found-madonna",
   "metadata": {},
   "source": [
    "`-` $a$에서 $f$의 `테일러 급수`\n",
    "- $f(x) = \\sum\\limits_{n=0}^{\\infty}\\frac{f^{(n)}(a)}{n!}(x-a)^{n}\\\\\n",
    "= f(a) + \\frac{f'(a)}{1!}(x-a)+\\frac{f''(a)}{2!}(x-a)^2+\\frac{f'''(a)}{3!}(x-a)^3+\\cdots$"
   ]
  },
  {
   "cell_type": "markdown",
   "id": "numerous-penalty",
   "metadata": {},
   "source": [
    "`-` $a=0$인 특별한 경우 `매클로린 급수`라고 함\n",
    "- $f(x) = \\sum\\limits_{n=0}^{\\infty}\\frac{f^{(n)}(0)}{n!}x^n\\\\\n",
    "= f(0) + \\frac{f'(0)}{1!}x+\\frac{f''(0)}{2!}x^2+\\frac{f'''(0)}{3!}x^3+\\cdots$"
   ]
  },
  {
   "cell_type": "markdown",
   "id": "alleged-nevada",
   "metadata": {},
   "source": [
    "`-` $e^x$의 매클로린 급수\n",
    "- $e^x = \\sum\\limits^{\\infty}_{n=0}\\frac{x^n}{n!}$"
   ]
  },
  {
   "cell_type": "markdown",
   "id": "loving-encyclopedia",
   "metadata": {},
   "source": [
    "`-` 포아송 분포의 확률 질량 함수: $f(x) = \\frac{e^{-\\lambda}\\lambda^{x}}{x!}$"
   ]
  },
  {
   "cell_type": "markdown",
   "id": "unlimited-phrase",
   "metadata": {},
   "source": [
    "`-` 포아송 분포의 적률생성함수\n",
    "- $M_X(t) = E(e^{tX})\\\\\n",
    "= \\sum\\limits_{x=0}^{\\infty}e^{tx}\\frac{e^{-\\lambda}\\lambda^{x}}{x!}\\\\\n",
    "=e^{-\\lambda}\\sum\\limits_{x=0}^{\\infty}\\frac{(\\lambda e^{t})^{x}}{x!} \\;\\;\\; \\text{$\\therefore\\lambda e^t \\to x,\\;x \\to n$ 으로 바꾸면 $e^x$의 매클로린 급수이다}\\\\\n",
    "= e^{-\\lambda}\\cdot e^{\\lambda e^{t}}\\\\\n",
    "= e^{\\lambda(e^{t}-1)}\n",
    "$"
   ]
  },
  {
   "cell_type": "markdown",
   "id": "cultural-fantasy",
   "metadata": {},
   "source": [
    "`-` 포아송 분포의 기댓값\n",
    "\n",
    "`-` $e^{-\\lambda}$ 는 변수가 아니므로 $e^{\\lambda e^{t}}$ 에 대해서만 미분하면 된다\n",
    "\n",
    "`-` $y =e^{t}, \\; \\frac{d}{dy}(y) = e^{t}$\n",
    "\n",
    "- $E(X) = \\frac{dM_X(t)}{dt} \\\\\n",
    "=e^{-\\lambda}\\cdot(e^{\\lambda y})' \\\\\n",
    "= e^{-\\lambda}\\cdot\\lambda e^{\\lambda y}\\cdot \\frac{d}{dy}(y) \\\\\n",
    "= e^{-\\lambda}\\cdot\\lambda e^{\\lambda e^{t}}\\cdot e^{t},\\; \\text{$t=0$ 대입}\\\\\n",
    "= \\lambda \\cdot e^{-\\lambda}\\cdot e^{\\lambda}\\\\\n",
    "= \\lambda$"
   ]
  },
  {
   "cell_type": "markdown",
   "id": "artificial-government",
   "metadata": {},
   "source": [
    "`-` 포아송 분포의 분산\n",
    "- $E(X^2) = \\frac{d^2M_X(t)}{dt^2}\\\\\n",
    "= \\lambda e^{-\\lambda}\\cdot([\\lambda e^{\\lambda e^{t}}\\cdot e^{t}]\\cdot [e^{t}] + [e^{\\lambda e^{t}}]\\cdot[e^{t}]), \\; \\text{$t=0$ 대입}\\\\\n",
    "= \\lambda e^{-\\lambda}(\\lambda e^{\\lambda}+e^{\\lambda})\\\\\n",
    "= \\lambda^{2}+\\lambda$ \n",
    "\n",
    "- $Var(X) = E(X^2)-[E(X)]^{2}\\\\\n",
    "= \\lambda^{2}+\\lambda - \\lambda^{2}\\\\\n",
    "= \\lambda$"
   ]
  },
  {
   "cell_type": "markdown",
   "id": "adapted-circumstances",
   "metadata": {},
   "source": [
    "## 지수 분포의 적률생성함수 "
   ]
  },
  {
   "cell_type": "markdown",
   "id": "adaptive-winner",
   "metadata": {},
   "source": [
    "`-` 지수 분포의 확률 밀도 함수: $f(x) = \\lambda e^{-\\lambda x}, \\; x>0$ \n",
    "\n",
    "`-` $\\lambda$는 포아송 분포의 모수로 단위 시간당 사건의 평균 발생 횟수"
   ]
  },
  {
   "cell_type": "markdown",
   "id": "controversial-guide",
   "metadata": {},
   "source": [
    "`-` 지수 분포의 적률생성함수 \n",
    "- $M_{X}(t) = E(e^{tX})\\\\\n",
    "= \\int_{0}^{\\infty}e^{tx}\\cdot\\lambda e^{-\\lambda x}\\,dx\\\\\n",
    "= \\lambda\\int_{0}^{\\infty}e^{tx}\\cdot e^{-\\lambda x}\\,dx\\\\\n",
    "= \\lambda\\int_{0}^{\\infty}e^{(t-\\lambda)x}\\,dx\\\\\n",
    "= \\frac{\\lambda}{t-\\lambda}\\cdot\\left[e^{(t-\\lambda) x}\\right]_{0}^{\\infty}, \\;\\;\\;(t<\\lambda)\\\\\n",
    "= \\frac{\\lambda}{\\lambda - t}\n",
    "$\n"
   ]
  },
  {
   "cell_type": "markdown",
   "id": "dietary-builder",
   "metadata": {},
   "source": [
    "`-` 지수 분포의 기댓값\n",
    "- $E(X) = \\frac{dM_X(t)}{dt} \\\\\n",
    "= \\frac{\\lambda}{(\\lambda - t)^2}, \\; \\text{$t=0$ 대입}\\\\\n",
    "= \\frac{1}{\\lambda}$"
   ]
  },
  {
   "cell_type": "markdown",
   "id": "restricted-potential",
   "metadata": {},
   "source": [
    "`-` 지수 분포의 분산"
   ]
  },
  {
   "cell_type": "markdown",
   "id": "lucky-smell",
   "metadata": {},
   "source": [
    "- $E(X^2) = \\frac{d^2M_X(t)}{dt^2}\\\\\n",
    "= -\\frac{-2\\lambda(\\lambda-t) }{(\\lambda-t)^4}\\\\\n",
    "= \\frac{2\\lambda}{(\\lambda - t)^3}, \\;\\text{$t=0$ 대입}\\\\\n",
    "= \\frac{2}{\\lambda^2}$\n",
    "\n",
    "- $Var(X) = E(X^2) - [E(X)]^2\\\\\n",
    "= \\frac{2}{\\lambda^2} - (\\frac{1}{\\lambda})^2\\\\\n",
    "= \\frac{1}{\\lambda^2}$"
   ]
  },
  {
   "cell_type": "code",
   "execution_count": null,
   "id": "three-battlefield",
   "metadata": {},
   "outputs": [],
   "source": []
  }
 ],
 "metadata": {
  "kernelspec": {
   "display_name": "Python 3",
   "language": "python",
   "name": "python3"
  },
  "language_info": {
   "codemirror_mode": {
    "name": "ipython",
    "version": 3
   },
   "file_extension": ".py",
   "mimetype": "text/x-python",
   "name": "python",
   "nbconvert_exporter": "python",
   "pygments_lexer": "ipython3",
   "version": "3.8.8"
  }
 },
 "nbformat": 4,
 "nbformat_minor": 5
}
