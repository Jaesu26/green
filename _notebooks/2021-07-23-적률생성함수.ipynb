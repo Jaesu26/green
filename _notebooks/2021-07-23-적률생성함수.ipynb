{
 "cells": [
  {
   "cell_type": "markdown",
   "id": "unlike-alpha",
   "metadata": {},
   "source": [
    "# 적률생성함수\n",
    "\n",
    "> \"작성 중\"\n",
    "\n",
    "- toc: true\n",
    "- branch: master\n",
    "- badges: true\n",
    "- comments: true\n",
    "- author: 한재수\n",
    "- categories: [statistics]"
   ]
  },
  {
   "cell_type": "markdown",
   "id": "juvenile-metro",
   "metadata": {},
   "source": [
    "# 적률이란"
   ]
  },
  {
   "cell_type": "markdown",
   "id": "special-theology",
   "metadata": {},
   "source": [
    "`-` 확률변수의 특징을 설명\n",
    "\n",
    "`-` 확률변수 $X$의 $k$차 중심적률(central moment)을 $\\mu_{k}$라 하면 $\\mu_{k} = E[(X-\\mu)^{k}]$\n",
    "\n",
    "`-` $\\mu_{1} = E(X) - \\mu = 0$ ---> 확률변수 $X$의 $1$차 중심적률은 $0$\n",
    "\n",
    "`-` $\\mu_{2} = E[(X-\\mu)^{2}]$ ---> 확률변수 $X$의 $2$차 중심적률은 분산\n",
    "\n",
    "`-` $\\mu_{3} = E[(X-\\mu)^{3}]$ ---> 확률변수 $X$의 $3$차 중심적률은 왜도\n",
    "\n",
    "`-` $\\mu_{4} = E[(X-\\mu)^{4}]$ ---> 확률변수 $X$의 $4$차 중심적률은 첨도\n",
    "\n",
    "`-` 일반적인 확률 변수 $X$의 적률(moment)은 비중심(non-central)적률을 나타냄 $\\longrightarrow$ $\\mu'_{k} = E[X^k]$\n",
    "\n",
    "`-` $\\mu'_{k} = E[X^k] = \\begin{cases}\\text{이산확률변수 : }\\sum\\limits_{x}x^{k}f(x) \\\\ \\text{연속확률변수 : }\\int_{-\\infty}^{\\infty}x^{k}f(x)dx\\end{cases}$\n",
    "\n",
    "`-` $\\mu'_{1} = \\mu$\n",
    "\n",
    "`-` $\\sigma^{2} = \\mu_{2} = \\mu'_{2} - (\\mu'_{1})^{2}$ \n",
    "\n",
    "`-` 모평균$\\mu$는 확률변수 $X$의 1차 비중심적률\n",
    "\n",
    "`-` 모분산$\\sigma^{2}$은 확률변수 $X$의 2차 비중심적률에서 1차 비중심적률의 제곱을 뺀 값\n",
    "\n",
    "`-` 참고 자료: [통계수학 강의](http://book.interpark.com/product/BookDisplay.do?_method=detail&sc.shopNo=0000400000&sc.prdNo=234955367&pis1=book&pis2=product) "
   ]
  },
  {
   "cell_type": "markdown",
   "id": "stone-vessel",
   "metadata": {},
   "source": [
    "# 적률생성함수(moment generating function, mgf)"
   ]
  },
  {
   "cell_type": "markdown",
   "id": "hispanic-oliver",
   "metadata": {},
   "source": [
    "`-` 특정 확률 분포의 적률을 생성하는 함수\n",
    "\n",
    "`-` 적률을 계산하려면 연속확률변수의 경우 적분을 하게 되는데 어렵거나 불가능한 경우도 있음 ---> 적률생성함수를 통해 계산 가능 \n",
    "\n",
    "`-` 임의의 확률변수 $X$의 기댓값이 존재한다면 $X$의 적률생성함수 $M_{X}(t) = E(e^{tX}),\\; t \\in \\mathbb{R}$ \n",
    "\n",
    "`-` $M_{X}(t) = E(e^{tX}) = \\begin{cases}\\text{이산확률변수 : }\\sum\\limits_{x}e^{tx}f(x) \\\\ \\text{연속확률변수 : }\\int_{-\\infty}^{\\infty}e^{tx}f(x)dx\\end{cases}$\n",
    "\n",
    "`-` 만약 확률변수 $X$의 기댓값을 구하는데 $X$가 아니라 $x$가 사용되네??라고 생각하면 구글창에 확률변수의 기댓값 검색해서 공부하세요\n",
    "\n",
    "`-` 사실 $x$말고 $k$라고 하든지 $a$라고 하든지 다른 변수를 사용해도 됨 ---> 마치 적분할 때 $\\int x \\,dx = \\int t\\, dt = \\int a \\,da$ 인 것 처럼\n",
    "\n",
    "`-` 참고: $X$는 확률변수, $x$는 확률변수 $X$가 가지는 값 ---> 이산확률변수는 $P(X=x)$, 연속확률변수는 $P(A\\leq X\\leq B)$\n",
    "\n",
    "`-` 적률생성함수는 항상 존재하는 것이 아님 ---> 1. $e^{tX}$가 $t=0$근방에서 적분이 가능해야 함 $\\;\\;$ 2. $\\forall\\, t \\in \\mathbb{R},\\;\\;E(e^{tX}) < \\infty $"
   ]
  },
  {
   "cell_type": "markdown",
   "id": "fourth-burton",
   "metadata": {},
   "source": [
    "## 적률생성함수 특징\n",
    "`-` 두 확률변수의 mgf가 일치하면 두 확률변수는 같은 분포를 가짐\n",
    "\n",
    "`-` 적률생성함수를 $k$번 미분하고 $t=0$을 대입하면 확률변수 $X$의 $k$차 비중심 적률이다 ---> 왜???"
   ]
  },
  {
   "cell_type": "markdown",
   "id": "instant-brake",
   "metadata": {},
   "source": [
    "### 적률생성함수 k번 미분 $\\longrightarrow$ k차 비중심 적률"
   ]
  },
  {
   "cell_type": "markdown",
   "id": "august-dubai",
   "metadata": {},
   "source": [
    "`-` $M_{X}(t) = E(e^{tX})$\n",
    "\n",
    "`-` $\\frac{d^{k}M_{X}(0)}{dt^{k}} = E(X^{k})$\n",
    "\n",
    "`-` 매클로린 급수를 사용하자\n",
    "\n",
    "`-` $e^{tX} = \\sum\\limits_{k = 0}^{\\infty}\\frac{X^k}{k!}(e^{tX})^{(k)}(0) = \\frac{t^{0}}{0!}X^{0}+\\frac{t^1}{1!}X^1+\\frac{t^2}{2!}X^2+\\frac{t^3}{3!}X^3+\\dots$\n",
    "\n",
    "`-` 양변에 기댓값을 취하면...\n",
    "\n",
    "`-` $M_X(t)=E(e^{tX}) = 1 + tE(X) + \\frac{t^2}{2!}E(X^2) + \\frac{t^3}{3!}E(X^3)+\\dots$\n",
    "\n",
    "`-` 이제 양변을 t에 대해 미분하자\n",
    "\n",
    "`-` $\\frac{dM_X(t)}{dt} = 0 + E(X) + tE(X^2) + \\frac{t^2}{2}E(X^3)+\\dots$\n",
    "\n",
    "`-` 이제 $t=0$을 대입하면...\n",
    "\n",
    "`-` $\\frac{dM_X(0)}{dt} = E(X)$ --> 1번 미분하니 1차 적률이 구해짐\n",
    "\n",
    "`-` 그럼 한 번 더 미분하면 2차 적률? --> ㅇㅇ\n",
    "\n",
    "`-` $\\frac{d^2M_X(t)}{dt^2} = 0 + 0 + E(X^2) + tE(X^3)+\\dots$   \n",
    "\n",
    "`-` 참고: $E(X)$는 $t$에 대하여 상수임 \n",
    "\n",
    "`-` 이제 $t=0$을 대입하면\n",
    "\n",
    "`-` $\\frac{d^2M_X(0)}{dt^2} = E(X^2)$\n",
    "\n",
    "`-` 정말로 2번 미분하니 2차 적률이 구해졌다.."
   ]
  },
  {
   "cell_type": "markdown",
   "id": "deadly-karma",
   "metadata": {},
   "source": [
    "- 확률 분포에 대해 정리할 때 기댓값과 분산을 과정없이 결과만 적었었음\n",
    "\n",
    "- 적률생성함수를 통해 여러가지 확률 분포의 기댓값과 분산을 구해보자"
   ]
  },
  {
   "cell_type": "markdown",
   "id": "demographic-booking",
   "metadata": {},
   "source": [
    "## 균일 분포의 적률생성함수 "
   ]
  },
  {
   "cell_type": "markdown",
   "id": "rising-coverage",
   "metadata": {},
   "source": [
    "`-` 균일 분포의 확률 밀도 함수: $f(x) = \\frac{1}{b-a}$ \n",
    "\n",
    "\n",
    "`-` 균일 분포의 적률생성함수 \n",
    "\n",
    "- $M_X(t) = E(e^{tX}) \\\\= \\int_{a}^{b}e^{tx}\\frac{1}{b-a}dx \\longrightarrow \\text{확률변수$X$가 $a$부터 $b$까지의 값을 가진다는 뜻} \\\\ = \\frac{1}{b-a}\\left[\\frac{1}{t}e^{tx}\\right]_{a}^{b} \\\\= \\frac{e^{t}(e^{b}-e^{a})}{t(b-a)}$\n",
    "\n",
    "`-` 균일 분포의 기댓값 ---> 적률생성함수를 통해 구하는 것보다 1차 적률의 정의를 통해 구하는 것이 더 쉬움\n",
    "\n",
    "- $E(X) = \\int_{a}^{b}\\frac{1}{b-a}x \\;dx \\\\ = \\frac{1}{b-a}\\left[\\frac{x^2}{2}\\right]_{a}^{b} \\\\= \\frac{b^{2}-a^{2}}{2(b-a)} \\\\= \\frac{a+b}{2}$\n",
    "\n",
    "`-` 균일 분포의 분산 ---> 적률의 정의를 통해 구하자 ---> 우선 2차 비중심 적률을 구하자\n",
    "\n",
    "- $E(X^2) = \\int_{a}^{b}\\frac{1}{b-a}x^2 \\;dx \\\\ = \\frac{1}{b-a}\\left[\\frac{x^3}{3}\\right]_{a}^{b} \\\\= \\frac{b^{3}-a^{3}}{3(b-a)} \\\\= \\frac{a^2+ab+b^2}{3}$ \n",
    "\n",
    "- $Var(X) = E(X^2) - [E(X)]^2 \\\\= \\frac{a^2+ab+b^2}{3} - \\big(\\frac{a+b}{2}\\big)^2 \\\\= \\frac{4(a^2+ab+b^2) \\,- 3(a^2+2ab+b^2)}{12} \\\\= \\frac{(b-a)^2}{12}$"
   ]
  },
  {
   "cell_type": "markdown",
   "id": "favorite-kidney",
   "metadata": {},
   "source": [
    "## 기하 분포의 적률생성함수"
   ]
  },
  {
   "cell_type": "markdown",
   "id": "gothic-edwards",
   "metadata": {},
   "source": [
    "`-` 기하 분포의 확률 질량 함수: $f(x) = q^{x-1}p, \\; q=1-p,\\; x = 1, 2, 3,\\dots$\n",
    "\n",
    "`-` 첫째항이 $a$, 공비가 $r$인 무한등비수열의 합: $\\frac{a}{1-r}, \\; |r|<1$"
   ]
  },
  {
   "cell_type": "markdown",
   "id": "statistical-extra",
   "metadata": {},
   "source": [
    "`-` 기하 분포의 적률생성함수\n",
    "- $M_X(t) = E(e^{tX}) \\\\\n",
    "= \\sum\\limits_{x=1}^{\\infty}e^{tx}q^{x-1}p \\\\\n",
    "= \\frac{p}{q}\\sum\\limits_{x=1}^{\\infty}(qe^{t})^{x}\\\\\n",
    "= \\frac{pqe^t}{q(1-qe^t)} , \\; 0 \\leq qe^t < 1 \\\\\n",
    "= \\frac{pe^t}{1-qe^t}$"
   ]
  },
  {
   "cell_type": "markdown",
   "id": "italic-option",
   "metadata": {},
   "source": [
    "`-` 기하 분포의 기댓값\n",
    "\n",
    "`-` 몫의 미분: $\\big\\{\\frac{f(x)}{g(x)}\\big\\}' = \\frac{f'(x)g(x)-f(x)g'(x)}{(g(x))^2}$\n",
    "- $E(X) = \\frac{dM_X(t)}{dt} \\\\\n",
    "= \\frac{pe^{t}(1-qe^t)-pe^{t}(-qe^t)}{(1-qe^t)^2} \\\\\n",
    "= \\frac{pe^t}{(1-qe^t)^2} ,\\; \\text{$t=0$ 대입}\\\\\n",
    "= \\frac{p}{(1-q)^2} \\\\\n",
    "= \\frac{1}{p}$"
   ]
  },
  {
   "cell_type": "markdown",
   "id": "lesser-compatibility",
   "metadata": {},
   "source": [
    "`-` 기하 분포의 분산\n",
    "- $E(X^2) = \\frac{d^2M_X(t)}{dt^2}\\\\\n",
    "= \\frac{pe^{t}(1-qe^t)^2- 2pe^{t}(1-qe^{t})(-qe^t)}{(1-qe^t)^4}\\\\\n",
    "= \\frac{pe^{t}(1-qe^t)((1-qe^t)+2qe^t)}{(1-qe^t)^4}\\\\\n",
    "= \\frac{pe^{t}(1+qe^t)}{(1-qe^t)^3},\\; \\text{$t=0$ 대입} \\\\\n",
    "= \\frac{p(1+q)}{(1-q)^3}\\\\\n",
    "= \\frac{1+q}{p^2}$\n",
    "\n",
    "- $Var(X) = E(X^2) - [E(X)]^2 \\\\\n",
    "= \\frac{1+q}{p^2} - \\big(\\frac{1}{p}\\big)^2\\\\\n",
    "= \\frac{q}{p^2}$"
   ]
  },
  {
   "cell_type": "markdown",
   "id": "polished-victim",
   "metadata": {},
   "source": [
    "## 이항 분포의 적률생성함수 "
   ]
  },
  {
   "cell_type": "markdown",
   "id": "casual-machine",
   "metadata": {},
   "source": [
    "`-` 이항 분포의 확률 질량 함수: $f(x) \\,=\\, _{n}\\rm C_{x}\\,p^{x}\\,(1-p)^{n-x}$"
   ]
  },
  {
   "cell_type": "markdown",
   "id": "irish-album",
   "metadata": {},
   "source": [
    "`-` 이항 분포는 서로 독립이고 동일한 베르누이 분포를 따르는 확률변수들을 n개 합한 것임\n",
    "\n",
    "`-` 베르누이 분포의 확률 질량 함수 $f(x) = p^{x}(1-p)^{1-x}, \\; x = 0, 1$\n",
    "\n",
    "`-` 베르누이 분포의 기댓값\n",
    "- $E(X) = \\sum\\limits_{x=0}^{1}xp^{x}(1-p)^{1-x}\\\\\n",
    "= 0\\cdot (1-p) + 1\\cdot p \\\\\n",
    "= p$"
   ]
  },
  {
   "cell_type": "markdown",
   "id": "living-eleven",
   "metadata": {},
   "source": [
    "`-` 베르누이 분포의 분산\n",
    "- $E(X^2) = \\sum\\limits_{x=0}^{1}x^2p^x(1-p)^{1-x}\\\\\n",
    "= 0\\cdot (1-p) + 1\\cdot p \\\\\n",
    "= p$\n",
    "\n",
    "- $Var(X) = E(X^2)-[E(X)]^2\\\\\n",
    "= p - p^2\\\\\n",
    "= p(1-p)$"
   ]
  },
  {
   "cell_type": "markdown",
   "id": "hazardous-religion",
   "metadata": {},
   "source": [
    "`-` 확률변수 $X, Y$에 대해 $E(X + Y)= E(X) + E(Y)$\n",
    "\n",
    "`-` 확률변수 $X, Y$가 독립이면 $Var(X + Y) = Var(X) + Var(Y)$\n",
    "\n",
    "`-` 참고: [확률변수의 합 특징](https://datascienceschool.net/02%20mathematics/07.03%20%EB%B6%84%EC%82%B0%EA%B3%BC%20%ED%91%9C%EC%A4%80%ED%8E%B8%EC%B0%A8.html)\n",
    "\n",
    "`-` 이항 분포의 기댓값 ---> 이항 분포의 정의를 통해 구함: 베르누이 분포를 따르는 확률변수들의 합\n",
    "- $E(X) = E\\bigg(\\sum\\limits_{i=1}^{n}X_i\\bigg) = \\sum\\limits_{i=1}^{n}E(X_i)\\\\\n",
    "= E(X_1) + E(X_2) + \\dots+E(X_{n-1})+E(X_n)\\\\\n",
    "= \\overbrace{p + \\dots + p}^{n \\rm\\ times} = np$"
   ]
  },
  {
   "cell_type": "markdown",
   "id": "respective-excitement",
   "metadata": {},
   "source": [
    "`-` 이항 분포의 분산 --> 기댓값과 마찬가지\n",
    "- $Var(X) = Var\\bigg(\\sum\\limits_{i=1}^{n}X_i\\bigg) = \\sum\\limits_{i=1}^{n}Var(X_i)\\\\\n",
    "= Var(X_1)+Var(X_2)+\\dots+Var(X_{n-1})+Var(X_n)\\\\\n",
    "= \\overbrace{p(1-p)+\\dots+p(1-p)}^{n \\rm\\ times} = np(1-p)$"
   ]
  },
  {
   "cell_type": "markdown",
   "id": "acceptable-checkout",
   "metadata": {},
   "source": [
    "`-` 이항 정리\n",
    "- $(x+y)^n = \\sum\\limits_{k=0}^{n}\\binom{n}{k}x^{n-k}y^{k}$\n",
    "\n",
    "`-` 이항 분포의 적률생성함수\n",
    "- $M_{X}(t) = E(e^{tX})\\\\\n",
    "= \\sum\\limits_{x=0}^{n}\\binom{n}{x}e^{tx}p^{x}\\,(1-p)^{n-x}\\\\\n",
    "= \\sum\\limits_{x=0}^{n}\\binom{n}{x}(pe^{t})^{x}\\,(1-p)^{n-x}\\\\\n",
    "= (1-p+pe^{t})^n$"
   ]
  },
  {
   "cell_type": "markdown",
   "id": "fabulous-second",
   "metadata": {},
   "source": [
    "`-` 이항 분포의 기댓값 ---> 적률생성함수 미분해서 구하기\n",
    "\n",
    "`-` 합성함수의 미분\n",
    "- $\\big\\{f(g(x))\\big\\}' = g'(x)f'(g(x))$"
   ]
  },
  {
   "cell_type": "markdown",
   "id": "special-diving",
   "metadata": {},
   "source": [
    "- $E(X) = \\frac{dM_X(t)}{dt} \\\\\n",
    "= npe^t(1-p+pe^t)^{n-1},\\;\\text{$t=0$ 대입}\\\\\n",
    "= np$"
   ]
  },
  {
   "cell_type": "markdown",
   "id": "funded-right",
   "metadata": {},
   "source": [
    "`-` 곱의 미분\n",
    "- $\\big\\{f(x)g(x)\\big\\}'=f'(x)g(x)+f(x)g'(x)$\n",
    "\n",
    "`-` 이항 분포의 분산 ---> 적률생성함수 미분해서 구하기\n",
    "- $E(X^2) = \\frac{d^2M_X(t)}{dt^2}\\\\\n",
    "= npe^{t}\\cdot(1-p+pe^t)^{n-1}+npe^{t}\\cdot (n-1)pe^{t}(1-p+pe^{t})^{n-2},\\; \\text{$t=0$ 대입}\\\\\n",
    "=np+np^{2}(n-1)\\\\\n",
    "= np-np^2+n^2p^2$\n",
    "\n",
    "- $Var(X) = E(X^2)-[E(X)]^2\\\\\n",
    "= np-np^2+n^2p^2-(np)^2\\\\\n",
    "= np-np^2\\\\\n",
    "=np(1-p)$"
   ]
  },
  {
   "cell_type": "markdown",
   "id": "continuing-forestry",
   "metadata": {},
   "source": [
    "## 포아송 분포의 적률생성함수 "
   ]
  },
  {
   "cell_type": "markdown",
   "id": "sealed-modification",
   "metadata": {},
   "source": [
    "`-` 테일러 급수 공부해라 구더기야 + 극좌표계도(희망) 하기 싫어..............................................."
   ]
  },
  {
   "cell_type": "markdown",
   "id": "characteristic-province",
   "metadata": {},
   "source": [
    "`-` 테일러 급수: 초월함수를 특정 값의 근방에서 멱함수로 근사시킴 ---> 개사기임"
   ]
  },
  {
   "cell_type": "markdown",
   "id": "cellular-symbol",
   "metadata": {},
   "source": [
    "`-` $a$에서 $f$의 `테일러 급수`\n",
    "- $f(x) = \\sum\\limits_{n=0}^{\\infty}\\frac{f^{(n)}(a)}{n!}(x-a)^{n}\\\\\n",
    "= f(a) + \\frac{f'(a)}{1!}(x-a)+\\frac{f''(a)}{2!}(x-a)^2+\\frac{f'''(a)}{3!}(x-a)^3+\\cdots$"
   ]
  },
  {
   "cell_type": "markdown",
   "id": "static-there",
   "metadata": {},
   "source": [
    "`-` $a=0$인 특별한 경우 `매클로린 급수`라고 함\n",
    "- $f(x) = \\sum\\limits_{n=0}^{\\infty}\\frac{f^{(n)}(0)}{n!}x^n\\\\\n",
    "= f(0) + \\frac{f'(0)}{1!}x+\\frac{f''(0)}{2!}x^2+\\frac{f'''(0)}{3!}x^3+\\cdots$"
   ]
  },
  {
   "cell_type": "markdown",
   "id": "twelve-citizenship",
   "metadata": {},
   "source": [
    "`-` $e^x$의 매클로린 급수\n",
    "- $e^x = \\sum\\limits^{\\infty}_{n=0}\\frac{x^n}{n!}$"
   ]
  },
  {
   "cell_type": "markdown",
   "id": "according-michigan",
   "metadata": {},
   "source": [
    "`-` 포아송 분포의 확률 질량 함수: $f(x) = \\frac{e^{-\\lambda}\\lambda^{x}}{x!}$"
   ]
  },
  {
   "cell_type": "markdown",
   "id": "normal-sustainability",
   "metadata": {},
   "source": [
    "`-` 포아송 분포의 적률생성함수\n",
    "- $M_X(t) = E(e^{tX})\\\\\n",
    "= \\sum\\limits_{x=0}^{\\infty}e^{tx}\\frac{e^{-\\lambda}\\lambda^{x}}{x!}\\\\\n",
    "=e^{-\\lambda}\\sum\\limits_{x=0}^{\\infty}\\frac{(\\lambda e^{t})^{x}}{x!} \\quad \\text{$\\therefore\\lambda e^t \\to x,\\;x \\to n$ 으로 바꾸면 $e^x$의 매클로린 급수이다}\\\\\n",
    "= e^{-\\lambda}\\cdot e^{\\lambda e^{t}}\\\\\n",
    "= e^{\\lambda(e^{t}-1)}\n",
    "$"
   ]
  },
  {
   "cell_type": "markdown",
   "id": "immediate-indonesian",
   "metadata": {},
   "source": [
    "`-` 포아송 분포의 기댓값\n",
    "\n",
    "`-` $e^{-\\lambda}$ 는 변수가 아니므로 $e^{\\lambda e^{t}}$ 에 대해서만 미분하면 된다\n",
    "\n",
    "`-` $y =e^{t}, \\; \\frac{d}{dy}(y) = e^{t}$\n",
    "\n",
    "- $E(X) = \\frac{dM_X(t)}{dt} \\\\\n",
    "=e^{-\\lambda}\\cdot(e^{\\lambda y})' \\\\\n",
    "= e^{-\\lambda}\\cdot\\lambda e^{\\lambda y}\\cdot \\frac{d}{dy}(y) \\\\\n",
    "= e^{-\\lambda}\\cdot\\lambda e^{\\lambda e^{t}}\\cdot e^{t},\\; \\text{$t=0$ 대입}\\\\\n",
    "= \\lambda \\cdot e^{-\\lambda}\\cdot e^{\\lambda}\\\\\n",
    "= \\lambda$"
   ]
  },
  {
   "cell_type": "markdown",
   "id": "analyzed-margin",
   "metadata": {},
   "source": [
    "`-` 포아송 분포의 분산\n",
    "- $E(X^2) = \\frac{d^2M_X(t)}{dt^2}\\\\\n",
    "= \\lambda e^{-\\lambda}\\cdot\\big([\\lambda e^{\\lambda e^{t}}\\cdot e^{t}]\\cdot [e^{t}] + [e^{\\lambda e^{t}}]\\cdot[e^{t}]\\big), \\; \\text{$t=0$ 대입}\\\\\n",
    "= \\lambda e^{-\\lambda}(\\lambda e^{\\lambda}+e^{\\lambda})\\\\\n",
    "= \\lambda^{2}+\\lambda$ \n",
    "\n",
    "- $Var(X) = E(X^2)-[E(X)]^{2}\\\\\n",
    "= \\lambda^{2}+\\lambda - \\lambda^{2}\\\\\n",
    "= \\lambda$"
   ]
  },
  {
   "cell_type": "markdown",
   "id": "collectible-harbor",
   "metadata": {},
   "source": [
    "## 지수 분포의 적률생성함수 "
   ]
  },
  {
   "cell_type": "markdown",
   "id": "ruled-establishment",
   "metadata": {},
   "source": [
    "`-` 지수 분포의 확률 밀도 함수: $f(x) = \\lambda e^{-\\lambda x}, \\; x>0$ \n",
    "\n",
    "`-` $\\lambda$는 포아송 분포의 모수로 단위 시간당 사건의 평균 발생 횟수"
   ]
  },
  {
   "cell_type": "markdown",
   "id": "arabic-advancement",
   "metadata": {},
   "source": [
    "`-` 지수 분포의 적률생성함수 \n",
    "- $M_{X}(t) = E(e^{tX})\\\\\n",
    "= \\int_{0}^{\\infty}e^{tx}\\cdot\\lambda e^{-\\lambda x}\\,dx\\\\\n",
    "= \\lambda\\int_{0}^{\\infty}e^{tx}\\cdot e^{-\\lambda x}\\,dx\\\\\n",
    "= \\lambda\\int_{0}^{\\infty}e^{(t-\\lambda)x}\\,dx\\\\\n",
    "= \\frac{\\lambda}{t-\\lambda}\\cdot\\left[e^{(t-\\lambda) x}\\right]_{0}^{\\infty}, \\;\\;\\;(t<\\lambda)\\\\\n",
    "= \\frac{\\lambda}{\\lambda - t}\n",
    "$\n"
   ]
  },
  {
   "cell_type": "markdown",
   "id": "reported-cement",
   "metadata": {},
   "source": [
    "`-` 지수 분포의 기댓값\n",
    "- $E(X) = \\frac{dM_X(t)}{dt} \\\\\n",
    "= \\frac{\\lambda}{(\\lambda - t)^2}, \\; \\text{$t=0$ 대입}\\\\\n",
    "= \\frac{1}{\\lambda}$"
   ]
  },
  {
   "cell_type": "markdown",
   "id": "figured-carrier",
   "metadata": {},
   "source": [
    "`-` 지수 분포의 분산"
   ]
  },
  {
   "cell_type": "markdown",
   "id": "appreciated-evolution",
   "metadata": {},
   "source": [
    "- $E(X^2) = \\frac{d^2M_X(t)}{dt^2}\\\\\n",
    "= -\\frac{-2\\lambda(\\lambda-t) }{(\\lambda-t)^4}\\\\\n",
    "= \\frac{2\\lambda}{(\\lambda - t)^3}, \\;\\text{$t=0$ 대입}\\\\\n",
    "= \\frac{2}{\\lambda^2}$\n",
    "\n",
    "- $Var(X) = E(X^2) - [E(X)]^2\\\\\n",
    "= \\frac{2}{\\lambda^2} - \\big(\\frac{1}{\\lambda}\\big)^2\\\\\n",
    "= \\frac{1}{\\lambda^2}$"
   ]
  },
  {
   "cell_type": "markdown",
   "id": "directed-aaron",
   "metadata": {},
   "source": [
    "## 베타 분포의 적률생성함수"
   ]
  },
  {
   "cell_type": "markdown",
   "id": "finished-joseph",
   "metadata": {},
   "source": [
    "`-` 베타 분포의 확률 밀도 함수: $f(x)=\\frac{1}{B(\\alpha, \\beta)}x^{\\alpha-1}(1-x)^{\\beta-1}, \\quad 0\\leq x \\leq1, \\;(\\alpha , \\beta>0)$"
   ]
  },
  {
   "cell_type": "markdown",
   "id": "indirect-decade",
   "metadata": {},
   "source": [
    "`-` 베타 분포의 적률생성함수\n",
    "\n",
    "- 어려워서 나중에 수리통계학에서 배우면 하는걸로 합시다"
   ]
  },
  {
   "cell_type": "markdown",
   "id": "square-phone",
   "metadata": {},
   "source": [
    "`-` 베타 분포의 기댓값 ---> 적률생성함수를 통해 구하는 것보다 1차 적률의 정의를 통해 구하는 것이 더 쉬움\n",
    "\n",
    "`-` 베타 분포의 $f(x)$를 적분하면 $1$이다\n",
    "\n",
    "`-` 그런데 $f(x)$가 아닌 $xf(x)$를 적분함 ---> $x^{\\alpha-1} \\to x^{\\alpha}$\n",
    "\n",
    "`-` 원래는 성공횟수가 ${\\alpha-1}$, 실패횟수가${\\beta-1}$인 베타분포인데 성공횟수가 ${\\alpha}$, 실패횟수가${\\beta-1}$로 바뀌었음\n",
    "\n",
    "`-` 그런데 어자피 베타분포는 확률 밀도 함수이므로 정의역구간을 적분하면 $1$이므로 상관없다 ---> 하지만 바뀐 베타분포의 상수(베타 함수)가 아닌 기존 베타분포의 상수가 곱해져있는데???\n",
    "\n",
    "`-` 어자피 상수는 적분에 영향을 주지 못하니까 상수항은 임의로 맞춰주면 된다\n",
    "\n",
    "- $E(X) = \\int_{0}^{1}x\\frac{1}{B(\\alpha, \\beta)}x^{\\alpha-1}(1-x)^{\\beta-1}\\;dx\\\\\n",
    "=\\frac{1}{B(\\alpha, \\beta)}\\int_{0}^{1}x^{\\alpha}(1-x)^{\\beta-1}\\;dx \\quad \\text{$\\therefore\\frac{1}{B(\\alpha+1, \\beta)}$을 곱해주어 베타 분포를 만들자}\\\\\n",
    "=\\frac{B(\\alpha+1, \\beta)}{B(\\alpha, \\beta)}\\int_{0}^{1}\\frac{1}{B(\\alpha+1, \\beta)}x^{\\alpha}(1-x)^{\\beta-1}\\;dx \\\\\n",
    "=\\frac{B(\\alpha+1, \\beta)}{B(\\alpha, \\beta)}\\cdot 1\\\\\n",
    "=\\frac{\\Gamma(\\alpha + \\beta)}{\\Gamma(\\alpha)\\Gamma(\\beta)}\\cdot\\frac{\\Gamma(\\alpha+1)\\Gamma(\\beta)}{\\Gamma(\\alpha + \\beta+1)}\\quad \\text{$\\therefore$ 감마함수의 성질: $\\Gamma(\\alpha+1) = \\alpha\\Gamma(\\alpha)$}\\\\\n",
    "=\\frac{\\Gamma(\\alpha + \\beta)}{\\Gamma(\\alpha)\\Gamma(\\beta)}\\cdot\\frac{\\alpha\\Gamma(\\alpha)\\Gamma(\\beta)}{(\\alpha+\\beta)\\Gamma(\\alpha + \\beta)}\\\\\n",
    "=\\frac{\\alpha}{\\alpha+\\beta}$"
   ]
  },
  {
   "cell_type": "markdown",
   "id": "dirty-horse",
   "metadata": {},
   "source": [
    "`-` 베타 분포의 분산 ---> 적률의 정의를 통해 구하자 ---> 우선 2차 비중심 적률을 구하자\n",
    "\n",
    "`-` 베타 분포의 기댓값을 구할 때와 같은 방법을 사용하자\n",
    "\n",
    "- $E(X^2) = \\int_{0}^{1}x^{2}\\frac{1}{B(\\alpha, \\beta)}x^{\\alpha-1}(1-x)^{\\beta-1}\\;dx\\\\\n",
    "=\\frac{1}{B(\\alpha, \\beta)}\\int_{0}^{1}x^{\\alpha+1}(1-x)^{\\beta-1}\\;dx \\quad \\text{$\\therefore\\frac{1}{B(\\alpha+2, \\beta)}$을 곱해주어 베타 분포를 만들자}\\\\\n",
    "=\\frac{B(\\alpha+2, \\beta)}{B(\\alpha, \\beta)}\\int_{0}^{1}\\frac{1}{B(\\alpha+2, \\beta)}x^{\\alpha+1}(1-x)^{\\beta-1}\\;dx \\\\\n",
    "=\\frac{B(\\alpha+2, \\beta)}{B(\\alpha, \\beta)}\\cdot 1\\\\\n",
    "=\\frac{\\Gamma(\\alpha + \\beta)}{\\Gamma(\\alpha)\\Gamma(\\beta)}\\cdot\\frac{\\Gamma(\\alpha+2)\\Gamma(\\beta)}{\\Gamma(\\alpha + \\beta+2)}\\quad \\text{$\\therefore\\Gamma(\\alpha+1) = \\alpha\\Gamma(\\alpha)$}\\\\\n",
    "=\\frac{\\Gamma(\\alpha + \\beta)}{\\Gamma(\\alpha)\\Gamma(\\beta)}\\cdot\\frac{\\alpha(\\alpha+1)\\Gamma(\\alpha)\\Gamma(\\beta)}{(\\alpha+\\beta+1)(\\alpha+\\beta)\\Gamma(\\alpha + \\beta)}\\\\\n",
    "=\\frac{\\alpha(\\alpha+1)}{(\\alpha+\\beta)(\\alpha+\\beta+1)}$\n",
    "\n",
    "- $Var(X) = E(X^2) - [E(X)]^2\\\\\n",
    "=\\frac{\\alpha(\\alpha+1)}{(\\alpha+\\beta)(\\alpha+\\beta+1)} - \\big(\\frac{\\alpha}{\\alpha+\\beta}\\big)^{2}\\\\\n",
    "= \\frac{\\alpha}{\\alpha+\\beta}\\big(\\frac{\\alpha+1}{\\alpha+\\beta+1}-\\frac{\\alpha}{\\alpha+\\beta}\\big)\\\\\n",
    "=\\frac{\\alpha}{\\alpha+\\beta}\\big(\\frac{(\\alpha+1)(\\alpha+\\beta)}{(\\alpha+\\beta)(\\alpha+\\beta+1)}-\\frac{\\alpha(\\alpha+\\beta+1)}{(\\alpha+\\beta)(\\alpha+\\beta+1)}\\big)\\\\\n",
    "=\\frac{\\alpha}{\\alpha+\\beta}\\cdot\\frac{\\beta}{(\\alpha+\\beta)(\\alpha+\\beta+1)}\\\\\n",
    "=\\frac{\\alpha\\beta}{(\\alpha+\\beta)^{2}(\\alpha+\\beta+1)}$"
   ]
  },
  {
   "cell_type": "markdown",
   "id": "going-planner",
   "metadata": {},
   "source": [
    "## 감마 분포의 적률생성함수 "
   ]
  },
  {
   "cell_type": "markdown",
   "id": "worst-palmer",
   "metadata": {},
   "source": [
    "`-` 감마 분포의 확률 밀도 함수: $f(x) = \\frac{1}{\\beta^{\\alpha}\\Gamma(\\alpha)}x^{\\alpha - 1}e^{-\\frac{x}{\\beta}},(x,\\alpha, \\beta \\geq 0)$\n",
    "\n",
    "`-` 감마 함수: $\\Gamma(\\alpha) = \\int_{0}^{\\infty}x^{\\alpha-1}e^{-x}dx,\\,\\alpha \\geq 0$\n",
    "\n",
    "`-` 감마 함수를 살짝 변형하면 $\\int_{0}^{\\infty}\\frac{1}{\\Gamma(\\alpha)}x^{\\alpha-1}e^{-x}dx = 1$\n",
    "\n",
    "`-` 위의 식을 감마 분포의 적률생성함수를 구하는데 사용할 것임"
   ]
  },
  {
   "cell_type": "markdown",
   "id": "breathing-function",
   "metadata": {},
   "source": [
    "`-` 감마 분포의 적률생성함수 ---> $t=0$ 근방임을 잊지말자\n",
    "\n",
    "- $M_X(t) = E(e^{tX})\\\\ \n",
    "= \\int_{0}^{\\infty}\\frac{1}{\\beta^{\\alpha}\\Gamma(\\alpha)}x^{\\alpha - 1}e^{-\\frac{x}{\\beta}}e^{tx}\\;dx\\quad \\text{$\\therefore$ 감마함수의 적분을 이용하기 위해 치환}\\\\\n",
    "= \\frac{1}{\\beta^\\alpha}\\int_{0}^{\\infty}\\frac{1}{\\Gamma(\\alpha)}x^{\\alpha - 1}e^{\\big(t-\\frac{1}{\\beta}\\big)x}\\;dx \\quad \\text{$\\therefore\\big(t-\\frac{1}{\\beta}\\big)x=-y,\\; dx=\\frac{\\beta}{1-\\beta t}dy$}\\\\\n",
    "= \\frac{1}{\\beta^\\alpha}\\int_{0}^{\\infty}\\frac{1}{\\Gamma(\\alpha)}\\big(\\frac{\\beta}{1-\\beta t}y\\big)^{\\alpha - 1}e^{-y}\\frac{\\beta}{1-\\beta t}\\;dy \\quad \\text{$\\therefore x=\\frac{\\beta}{1-\\beta t}y,\\;x=0\\to y=0,\\;x=\\infty\\to y=\\infty,\\;\\big(t<\\frac{1}{\\beta}\\big)$}\\\\\n",
    "= \\frac{1}{\\beta^\\alpha}\\big(\\frac{\\beta}{1-\\beta t}\\big)^{\\alpha}\\int_{0}^{\\infty}\\frac{1}{\\Gamma(\\alpha)}y^{\\alpha - 1}e^{-y}\\;dy\\quad\\text{$\\therefore \\int_{0}^{\\infty}\\frac{1}{\\Gamma(\\alpha)}y^{\\alpha-1}e^{-y}dy = 1$, 위에 참고}\\\\\n",
    "=\\big(\\frac{1}{1-\\beta t}\\big)^{\\alpha}, \\quad t<\\frac{1}{\\beta}\n",
    "$"
   ]
  },
  {
   "cell_type": "markdown",
   "id": "internal-grade",
   "metadata": {},
   "source": [
    "`-` 감마 분포의 기댓값\n",
    "{% raw %}\n",
    "- $E(X) = \\frac{dM_X(t)}{dt} \\\\\n",
    "=\\alpha\\big(\\frac{1}{1-\\beta t}\\big)^{\\alpha-1}\\cdot\\frac{d}{dt}\\big(\\frac{1}{1-\\beta t}\\big)\\\\\n",
    "=\\alpha\\big(\\frac{1}{1-\\beta t}\\big)^{\\alpha-1}\\cdot\\frac{\\beta}{(1-\\beta t)^2}\\\\\n",
    "=\\frac{\\alpha\\beta}{(1-\\beta t)^{\\alpha+1}},\\; \\text{$t=0$ 대입}\\\\\n",
    "=\\alpha\\beta\n",
    "$\n",
    "{% endraw %}"
   ]
  },
  {
   "cell_type": "markdown",
   "id": "fatty-catalog",
   "metadata": {},
   "source": [
    "`-` 감마 분포의 분산\n",
    "{% raw %}\n",
    "- $E(X^2) = \\frac{d^2M_X(t)}{dt^2}\\\\\n",
    "= \\alpha\\beta\\frac{\\beta(\\alpha+1)(1-\\beta t)^{\\alpha}}{(1-\\beta t)^{2\\alpha+2}}\\\\\n",
    "= \\frac{\\alpha\\beta^{2}(\\alpha+1)}{(1-\\beta t)^{\\alpha+2}}, \\;\\text{$t=0$ 대입}\\\\\n",
    "= \\alpha\\beta^{2}(\\alpha+1)$\n",
    "\n",
    "- $Var(X) = E(X^2) - [E(X)]^2\\\\\n",
    "= \\alpha\\beta^{2}(\\alpha+1) - (\\alpha\\beta)^{2}\\\\\n",
    "= \\alpha\\beta^{2}(\\alpha+1)-\\alpha^2\\beta^2\\\\\n",
    "= \\alpha\\beta^2$\n",
    "{% endraw %}"
   ]
  },
  {
   "cell_type": "markdown",
   "id": "broad-bouquet",
   "metadata": {},
   "source": [
    "## 카이제곱 분포의 적률생성함수"
   ]
  },
  {
   "cell_type": "markdown",
   "id": "desperate-gates",
   "metadata": {},
   "source": [
    "`-` 카이제곱 분포의 확률 밀도 함수: $f(x) = \\frac{1}{2^\\frac{k}{2}\\Gamma\\big(\\frac{k}{2}\\big)}x^{\\frac{k}{2}-1}e^{-\\frac{x}{2}}$\n",
    "\n",
    "`-` $k$는 자유도\n",
    "\n",
    "`-` 감마 분포에서 $\\alpha=\\frac{k}{2}, \\beta = 2$인 경우 카이제곱 분포라고 했음\n",
    "\n",
    "`-` 그렇기에 감마분포의 평균, 분산, 적률생성함수에 $\\alpha=\\frac{k}{2}, \\beta = 2$를 대입하여 카이제곱 분포의 평균, 분산, 적률생섬함수를 구할 수 있음(내 생각)"
   ]
  },
  {
   "cell_type": "markdown",
   "id": "vertical-words",
   "metadata": {},
   "source": [
    "`-` 카이제곱 분포의 적률생성함수\n",
    "\n",
    "- $M_X(t) = \\big(\\frac{1}{1-\\beta t}\\big)^{\\alpha}, \\quad t<\\frac{1}{\\beta},\\quad \\text{$\\alpha=\\frac{k}{2}, \\beta = 2$ 대입}\\\\\n",
    "=\\big(\\frac{1}{1-2t}\\big)^\\frac{k}{2}$"
   ]
  },
  {
   "cell_type": "markdown",
   "id": "prospective-privilege",
   "metadata": {},
   "source": [
    "`-` 카이제곱 분포의 기댓값\n",
    "\n",
    "- $E(X) = \\alpha\\beta= k,\\quad\\text{$\\alpha=\\frac{k}{2}, \\beta = 2$ 대입} $"
   ]
  },
  {
   "cell_type": "markdown",
   "id": "sapphire-filter",
   "metadata": {},
   "source": [
    "`-` 카이제곱 분포의 분산\n",
    "- $Var(X) = \\alpha\\beta^2=2k,\\quad\\text{$\\alpha=\\frac{k}{2}, \\beta = 2$ 대입} $"
   ]
  },
  {
   "cell_type": "markdown",
   "id": "stone-guyana",
   "metadata": {},
   "source": [
    "`-` 이렇게 적고보니 너무 양심이 없는 것 같아 나중에 감마분포를 통해 구하지 않는 방법 추가 예정"
   ]
  },
  {
   "cell_type": "markdown",
   "id": "compatible-jesus",
   "metadata": {},
   "source": [
    "## 정규 분포의 적률생성함수"
   ]
  },
  {
   "cell_type": "markdown",
   "id": "engaging-dynamics",
   "metadata": {},
   "source": [
    "{% raw %}\n",
    "`-` 정규 분포의 확률 밀도 함수: $f(x) = \\frac{1}{\\sqrt{2\\pi\\sigma^{2}}}e^{-\\frac{(x-\\mu)^{2}}{2\\sigma^{2}}}$\n",
    "{% endraw %}"
   ]
  },
  {
   "cell_type": "markdown",
   "id": "consistent-camel",
   "metadata": {},
   "source": [
    "`-` 완전제곱식 생성: $x^2-ax=\\big(x-\\frac{a}{2}\\big)^2-\\frac{a^2}{4}$"
   ]
  },
  {
   "cell_type": "markdown",
   "id": "intense-craps",
   "metadata": {},
   "source": [
    "`-` 정규 분포의 적률생성함수\n",
    "{% raw %}\n",
    "- $M_X(t) = E(e^{tX})\\\\ \n",
    "= \\int_{-\\infty}^{\\infty}e^{tx}\\frac{1}{\\sqrt{2\\pi\\sigma^{2}}}e^{-\\frac{(x-\\mu)^{2}}{2\\sigma^{2}}}\\;dx\\\\\n",
    "=\\int_{-\\infty}^{\\infty}\\frac{1}{\\sqrt{2\\pi\\sigma^{2}}}e^{-\\frac{x^2-2(\\mu+\\sigma^{2}t)x+\\mu^2}{2\\sigma^{2}}}\\;dx\\\\\n",
    "=\\int_{-\\infty}^{\\infty}\\frac{1}{\\sqrt{2\\pi\\sigma^{2}}}e^{-\\frac{(x-\\mu-\\sigma^{2}t)^2-(\\mu+\\sigma^2t)^2+\\mu^2}{2\\sigma^{2}}}\\;dx\\\\\n",
    "=e^{\\mu t+\\frac{\\sigma^2 t^2}{2}}\\int_{-\\infty}^{\\infty}\\frac{1}{\\sqrt{2\\pi\\sigma^{2}}}e^{-\\frac{(x-\\mu-\\sigma^{2}t)^2}{2\\sigma^2}}\\;dx\\qquad\\text{$\\therefore$ 평균이 $\\mu+\\sigma^{2}t$이고 표준편차가 $\\sigma$인 정규분포이므로 적분값은 $1$}\\\\\n",
    "=e^{\\mu t+\\frac{\\sigma^2 t^2}{2}}$\n",
    "{% endraw %}"
   ]
  },
  {
   "cell_type": "markdown",
   "id": "chicken-sample",
   "metadata": {},
   "source": [
    "`-` 정규 분포의 기댓값\n",
    "{% raw %}\n",
    "- $E(X) = \\frac{dM_X(t)}{dt} \\\\\n",
    "= (\\mu + \\sigma^2 t)e^{\\mu t+\\frac{\\sigma^2 t^2}{2}}, \\; \\text{$t=0$ 대입}\\\\\n",
    "=\\mu$\n",
    "{% endraw %}"
   ]
  },
  {
   "cell_type": "markdown",
   "id": "sized-cinema",
   "metadata": {},
   "source": [
    "`-` 정규 분포의 분산\n",
    "{% raw %}\n",
    "- $E(X^2) = \\frac{d^2M_X(t)}{dt^2}\\\\\n",
    "=\\sigma^{2}e^{\\mu t+\\frac{\\sigma^2 t^2}{2}}+(\\mu+\\sigma^2 t)^2e^{\\mu t+\\frac{\\sigma^2 t^2}{2}}, \\;\\text{$t=0$ 대입}\\\\\n",
    "=\\sigma^2+\\mu^2$\n",
    "\n",
    "- $Var(X)=E(X^2)-[E(X)]^2\\\\\n",
    "=\\sigma^2+\\mu^2-(\\mu)^2\\\\\n",
    "=\\sigma^2$\n",
    "{% endraw %}"
   ]
  },
  {
   "cell_type": "code",
   "execution_count": null,
   "id": "brutal-wright",
   "metadata": {},
   "outputs": [],
   "source": []
  }
 ],
 "metadata": {
  "kernelspec": {
   "display_name": "Python 3",
   "language": "python",
   "name": "python3"
  },
  "language_info": {
   "codemirror_mode": {
    "name": "ipython",
    "version": 3
   },
   "file_extension": ".py",
   "mimetype": "text/x-python",
   "name": "python",
   "nbconvert_exporter": "python",
   "pygments_lexer": "ipython3",
   "version": "3.8.8"
  }
 },
 "nbformat": 4,
 "nbformat_minor": 5
}
