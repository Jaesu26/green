{
 "cells": [
  {
   "cell_type": "markdown",
   "id": "efficient-publication",
   "metadata": {},
   "source": [
    "# 적률생성함수\n",
    "\n",
    "> \"작성 중\"\n",
    "\n",
    "- toc: true\n",
    "- branch: master\n",
    "- badges: true\n",
    "- comments: true\n",
    "- author: 한재수\n",
    "- categories: [python, statistics]"
   ]
  },
  {
   "cell_type": "markdown",
   "id": "differential-israeli",
   "metadata": {},
   "source": [
    "# 적률이란"
   ]
  },
  {
   "cell_type": "markdown",
   "id": "noble-director",
   "metadata": {},
   "source": [
    "`-` 확률변수의 특징을 설명\n",
    "\n",
    "`-` 확률변수 $X$의 $k$차 중심적률(central moment)을 $\\mu_{k}$라 하면 $\\mu_{k} = E[(X-\\mu)^{k}]$\n",
    "\n",
    "`-` $\\mu_{1} = E(X) - \\mu = 0$ --> 확률변수 $X$의 $1$차 중심적률은 $0$\n",
    "\n",
    "`-` $\\mu_{2} = E[(X-\\mu)^{2}]$ --> 확률변수 $X$의 $2$차 중심적률은 분산\n",
    "\n",
    "`-` 일반적인 확률 변수 $X$의 적률(moment)은 비중심(non-central)적률을 나타냄 $\\longrightarrow$ $\\mu'_{k} = E[X^k]$\n",
    "\n",
    "`-` $\\mu'_{1} = \\mu$\n",
    "\n",
    "`-` $\\sigma^{2} = \\mu_{2} = \\mu'_{2} - (\\mu'_{1})^{2}$ \n",
    "\n",
    "`-` 모평균$\\mu$는 확률변수 $X$의 1차 비중심적률\n",
    "\n",
    "`-` 모분산$\\sigma^{2}$은 확률변수 $X$의 2차 비중심적률에서 1차 비중심적률의 제곱을 뺀 값\n",
    "\n",
    "`-` 참고 자료: [통계수학 강의](http://book.interpark.com/product/BookDisplay.do?_method=detail&sc.shopNo=0000400000&sc.prdNo=234955367&pis1=book&pis2=product) "
   ]
  },
  {
   "cell_type": "markdown",
   "id": "bottom-christmas",
   "metadata": {},
   "source": [
    "# 적률생성함수(moment generating function, mgf)"
   ]
  },
  {
   "cell_type": "markdown",
   "id": "north-chemical",
   "metadata": {},
   "source": [
    "`-` 특정 확률 분포의 적률을 생성하는 함수\n",
    "\n",
    "`-` 적률을 계산하려면 연속확률변수의 경우 적분을 하게 되는데 어렵거나 불가능한 경우도 있음 --> 적률생성함수를 통해 계산 가능 \n",
    "\n",
    "`-` 임의의 확률변수 $X$의 기댓값이 존재한다면 $X$의 적률생성함수 $M_{X}(t) = E(e^{tX}),\\; t \\in \\mathbb{R}$ \n",
    "\n",
    "`-` $M_{X}(t) = E(e^{tX}) = \\begin{cases}\\text{이산확률변수 : }\\sum\\limits_{x}e^{tx}f(x) \\\\ \\text{연속확률변수 : }\\int_{-\\infty}^{\\infty}e^{tx}f(x)dx\\end{cases}$\n",
    "\n",
    "`-` 적률생성함수는 항상 존재하는 것이 아님 --> $e^{tX}$가 $t=0$근방에서 적분이 가능해야 함 "
   ]
  },
  {
   "cell_type": "markdown",
   "id": "hawaiian-latex",
   "metadata": {},
   "source": [
    "## 적률생성함수 특징\n",
    "`-` 두 확률변수의 mgf가 일치하면 두 확률변수는 같은 분포를 가짐\n",
    "\n",
    "`-` 적률생성함수를 $k$번 미분하고 $t=0$을 대입하면 확률변수 $X$의 $k$차 비중심 적률이다 --> 왜???"
   ]
  },
  {
   "cell_type": "markdown",
   "id": "juvenile-definition",
   "metadata": {},
   "source": [
    "### 적률생성함수 k번 미분 $\\longrightarrow$ k차 비중심 적률"
   ]
  },
  {
   "cell_type": "markdown",
   "id": "identical-economics",
   "metadata": {},
   "source": [
    "`-` $M_{x}(t) = E(e^{tx})$\n",
    "\n",
    "`-` $\\frac{d^{k}M_{x}(0)}{dt^{k}} = E(X^{k})$\n",
    "\n",
    "`-` 매클로린 급수를 사용하자\n",
    "\n",
    "`-` $e^{tx} = \\sum\\limits_{k = 0}^{\\infty}\\frac{x^k}{k!}(e^{tx})^{(k)}(0) = \\frac{t^{0}}{0!}x^{0}+\\frac{t^1}{1!}x^1+\\frac{t^2}{2!}x^2+\\frac{t^3}{3!}x^3+\\dots$\n",
    "\n",
    "`-` 양변에 기댓값을 취하면...\n",
    "\n",
    "`-` $M_x(t)=E(e^{tx}) = 1 + tE(x) + \\frac{t^2}{2!}E(x^2) + \\frac{t^3}{3!}E(x^3)+\\dots$\n",
    "\n",
    "`-` 이제 양변을 t에 대해 미분하자\n",
    "\n",
    "`-` $\\frac{dM_x(t)}{dt} = 0 + E(x) + tE(x^2) + \\frac{t^2}{2}E(x^3)+\\dots$\n",
    "\n",
    "`-` 이제 $t=0$을 대입하면...\n",
    "\n",
    "`-` $\\frac{dM_x(0)}{dt} = E(x)$ --> 1번 미분하니 1차 적률이 구해짐\n",
    "\n",
    "`-` 그럼 한 번 더 미분하면 2차 적률? --> ㅇㅇ\n",
    "\n",
    "`-` $\\frac{d^2M_x(t)}{dt^2} = 0 + 0 + E(x^2) + tE(x^3)+\\dots$   \n",
    "\n",
    "`-` 참고: $E(x)$는 $t$에 대하여 상수임 \n",
    "\n",
    "`-` 이제 $t=0$을 대입하면\n",
    "\n",
    "`-` $\\frac{d^2M_x(0)}{dt^2} = E(x^2)$\n",
    "\n",
    "`-` 정말로 2번 미분하니 2차 적률이 구해졌다.."
   ]
  },
  {
   "cell_type": "markdown",
   "id": "outdoor-latino",
   "metadata": {},
   "source": [
    "- 확률 분포에 대해 정리할 때 기댓값과 분산을 과정없이 결과만 적었었음\n",
    "\n",
    "- 적률생성함수를 통해 여러가지 확률 분포의 기댓값과 분산을 구해보자"
   ]
  },
  {
   "cell_type": "markdown",
   "id": "worthy-navigator",
   "metadata": {},
   "source": [
    "## 균일 분포의 적률생성함수 "
   ]
  },
  {
   "cell_type": "markdown",
   "id": "hearing-joshua",
   "metadata": {},
   "source": [
    "`-` 균일 분포의 확률 밀도 함수: $f(x) = \\frac{1}{b-a}$ \n",
    "\n",
    "\n",
    "`-` 균일 분포의 적률생성함수 \n",
    "\n",
    "- $M_x(t) = E(e^{tx}) \\\\= \\int_{a}^{b}e^{tx}\\frac{1}{b-a}dx \\\\ = \\frac{1}{b-a}\\left[\\frac{1}{t}e^{tx}\\right]_{a}^{b} \\\\= \\frac{e^{t}(e^{b}-e^{a})}{t(b-a)}$\n",
    "\n",
    "`-` 균일 분포의 기댓값 --> 적률생성함수를 통해 구하는 것보다 적률의 정의를 통해 구하는 것이 더 쉬움\n",
    "\n",
    "- $E(X) = \\int_{a}^{b}\\frac{1}{b-a}x \\;dt \\\\ = \\frac{1}{b-a}\\left[\\frac{x^2}{2}\\right]_{a}^{b} \\\\= \\frac{b^{2}-a^{2}}{2(b-a)} \\\\= \\frac{a+b}{2}$\n",
    "\n",
    "`-` 균일 분포의 분산 --> 기댓값과 마찬가지 --> 우선 2차 비중심 적률을 구하자\n",
    "\n",
    "- $E(X^2) = \\int_{a}^{b}\\frac{1}{b-a}x^2 \\;dt \\\\ = \\frac{1}{b-a}\\left[\\frac{x^3}{3}\\right]_{a}^{b} \\\\= \\frac{b^{3}-a^{3}}{3(b-a)} \\\\= \\frac{a^2+ab+b^2}{3}$ \n",
    "\n",
    "- $Var(X) = E(X^2) - [E(X)]^2 \\\\= \\frac{a^2+ab+b^2}{3} - (\\frac{a+b}{2})^2 \\\\= \\frac{4(a^2+ab+b^2) \\,- 3(a^2+2ab+b^2)}{12} \\\\= \\frac{(b-a)^2}{12}$"
   ]
  },
  {
   "cell_type": "markdown",
   "id": "informal-mention",
   "metadata": {},
   "source": [
    "## 기하 분포의 적률생성함수"
   ]
  },
  {
   "cell_type": "markdown",
   "id": "needed-dubai",
   "metadata": {},
   "source": [
    "`-` 기하 분포의 확률 질량 함수: $f(x) = (1-p)^{x}p, \\; x = 1, 2, \\dots$"
   ]
  },
  {
   "cell_type": "code",
   "execution_count": null,
   "id": "chemical-kansas",
   "metadata": {},
   "outputs": [],
   "source": []
  }
 ],
 "metadata": {
  "kernelspec": {
   "display_name": "Python 3",
   "language": "python",
   "name": "python3"
  },
  "language_info": {
   "codemirror_mode": {
    "name": "ipython",
    "version": 3
   },
   "file_extension": ".py",
   "mimetype": "text/x-python",
   "name": "python",
   "nbconvert_exporter": "python",
   "pygments_lexer": "ipython3",
   "version": "3.8.8"
  }
 },
 "nbformat": 4,
 "nbformat_minor": 5
}
