{
 "cells": [
  {
   "cell_type": "markdown",
   "id": "banned-gender",
   "metadata": {},
   "source": [
    "# 변수 이름\n",
    "\n",
    "> \"작성 중\"\n",
    "\n",
    "- toc: true\n",
    "- branch: master\n",
    "- badges: true\n",
    "- comments: true\n",
    "- author: 한재수\n",
    "- hide: true\n",
    "- categories: [Variable Name]"
   ]
  },
  {
   "cell_type": "markdown",
   "id": "bacterial-eleven",
   "metadata": {},
   "source": [
    "## 변수 줄임말\n",
    "`-` 변수를 줄임말로 쓸 때가 있는데 뭐인지 헷갈리는 변수를 정리할 거임\n",
    "\n",
    "`-` 나중에 변수 줄임말 말고도 변수명을 어떻게 정할지에 대한 내용도 정리할 수 도 있음"
   ]
  },
  {
   "cell_type": "markdown",
   "id": "natural-economics",
   "metadata": {},
   "source": [
    "`-` `rtn ---> return`\n",
    "\n",
    "`-` `tmp ---> temporary`\n",
    "\n",
    "`-` `num ---> number`\n",
    "\n",
    "`-` `lib ---> library`\n",
    "\n",
    "`-` `lin ---> linear`\n",
    "\n",
    "`-` `rv ---> random variable`\n",
    "\n",
    "`-` `aes ---> aesthetic`\n",
    "\n",
    "`-` `axes ---> axis(축)의 복수형`\n",
    "\n",
    "`-` `param(s) ---> parameter(s)`\n",
    "\n",
    "`-` `loc ---> location`\n",
    "\n",
    "`-` `pch ---> point character`\n",
    "\n",
    "`-` `fig ---> figure`\n",
    "\n",
    "`-` `ax ---> axes`\n",
    "\n",
    "`-` `alg ---> algebra(대수학)`\n",
    "\n",
    "`-` `cnt ---> count`\n",
    "\n",
    "`-` `ec ---> edgecolor`\n",
    "\n",
    "`-` `fc ---> facecolor`\n",
    "\n",
    "`-` `h ---> horizontal`\n",
    "\n",
    "`-` `v ---> vertical`\n",
    "\n",
    "`-` `cpy ---> copy`\n",
    "\n",
    "`-` `tb ---> table`\n",
    "\n",
    "`-` `autopct ---> autopercentage`\n",
    "\n",
    "`-` `ptr ---> pointer`"
   ]
  },
  {
   "cell_type": "markdown",
   "id": "linear-nigeria",
   "metadata": {},
   "source": [
    "## 변수 줄임말은 아니지만 아무튼 줄임말임 "
   ]
  },
  {
   "cell_type": "markdown",
   "id": "helpful-broad",
   "metadata": {},
   "source": [
    "`-` `WLLN ---> Weak Law of Large Numbers(큰 수의 약한 법칙)`\n",
    "\n",
    "`-` `MLE ---> maximum likelihood estimate(최대우도추정량)`"
   ]
  },
  {
   "cell_type": "markdown",
   "id": "invisible-olive",
   "metadata": {},
   "source": [
    "## 변수 이름 짓기 "
   ]
  },
  {
   "cell_type": "markdown",
   "id": "knowing-bruce",
   "metadata": {},
   "source": [
    "`-` `모음`을 `생략`하여 짓기 count ---> cnt, return ---> rtn\n",
    "\n",
    "`-` 임시 변수는 `_` 붙이기 ---> tmp_\n",
    "\n",
    "`-` 클래스 내부 객체이름 앞에 `_`를 붙이면 인스턴스 객체에 `.`을 붙이고 `tab`을 눌러서 확인하지 못함(`dir` 함수를 써야한다)"
   ]
  },
  {
   "cell_type": "code",
   "execution_count": null,
   "id": "opening-portugal",
   "metadata": {},
   "outputs": [],
   "source": []
  }
 ],
 "metadata": {
  "kernelspec": {
   "display_name": "Python 3 (ipykernel)",
   "language": "python",
   "name": "python3"
  },
  "language_info": {
   "codemirror_mode": {
    "name": "ipython",
    "version": 3
   },
   "file_extension": ".py",
   "mimetype": "text/x-python",
   "name": "python",
   "nbconvert_exporter": "python",
   "pygments_lexer": "ipython3",
   "version": "3.8.11"
  }
 },
 "nbformat": 4,
 "nbformat_minor": 5
}
