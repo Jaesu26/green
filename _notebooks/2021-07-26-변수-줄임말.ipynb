{
 "cells": [
  {
   "cell_type": "markdown",
   "id": "ignored-triangle",
   "metadata": {},
   "source": [
    "# 변수 줄임말\n",
    "\n",
    "> \"작성 중\"\n",
    "\n",
    "- toc: true\n",
    "- branch: master\n",
    "- badges: true\n",
    "- comments: true\n",
    "- author: 한재수\n",
    "- categories: [python]"
   ]
  },
  {
   "cell_type": "markdown",
   "id": "attractive-north",
   "metadata": {},
   "source": [
    "## 변수 줄임말\n",
    "`-` 변수를 줄임말로 쓸 때가 있는데 뭐인지 헷갈리는 변수를 정리할 거임\n",
    "\n",
    "`-` 나중에 변수 줄임말 말고도 변수명을 어떻게 정할지에 대한 내용도 정리할 수 도 있음"
   ]
  },
  {
   "cell_type": "markdown",
   "id": "proof-breeding",
   "metadata": {},
   "source": [
    "`-` `rtn ---> return`\n",
    "\n",
    "`-` `tmp ---> temporary variable`\n",
    "\n",
    "`-` `num ---> number`\n",
    "\n",
    "`-` `lib ---> library`\n",
    "\n",
    "`-` `lin ---> linear`\n",
    "\n",
    "`-` `rv ---> random variable`\n",
    "\n",
    "`-` `aes ---> aesthetic`\n",
    "\n",
    "`-` `axes ---> axis(축)의 복수형`\n",
    "\n",
    "`-` `param(s) ---> parameter`\n",
    "\n",
    "`-` `loc ---> location`"
   ]
  },
  {
   "cell_type": "code",
   "execution_count": null,
   "id": "fossil-liberty",
   "metadata": {},
   "outputs": [],
   "source": []
  }
 ],
 "metadata": {
  "kernelspec": {
   "display_name": "Python 3",
   "language": "python",
   "name": "python3"
  },
  "language_info": {
   "codemirror_mode": {
    "name": "ipython",
    "version": 3
   },
   "file_extension": ".py",
   "mimetype": "text/x-python",
   "name": "python",
   "nbconvert_exporter": "python",
   "pygments_lexer": "ipython3",
   "version": "3.8.8"
  }
 },
 "nbformat": 4,
 "nbformat_minor": 5
}
