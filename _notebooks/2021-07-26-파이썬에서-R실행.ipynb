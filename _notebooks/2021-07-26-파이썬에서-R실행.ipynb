{
 "cells": [
  {
   "cell_type": "markdown",
   "id": "automotive-routine",
   "metadata": {},
   "source": [
    "# 파이썬에서 R실행\n",
    "\n",
    "> \"작성 완료\"\n",
    "\n",
    "- toc: true\n",
    "- branch: master\n",
    "- badges: true\n",
    "- comments: true\n",
    "- author: 한재수\n",
    "- categories: [Python, R]"
   ]
  },
  {
   "cell_type": "markdown",
   "id": "linear-identification",
   "metadata": {},
   "source": [
    "## 파이썬에서 R실행하기 "
   ]
  },
  {
   "cell_type": "markdown",
   "id": "agricultural-mayor",
   "metadata": {},
   "source": [
    "`1.` [아나콘다](https://www.anaconda.com/products/individual)에 접속한 후 Anaconda Installers에서 64-Bit Graphical Installer(477MB)설치\n",
    "\n",
    "`2.` Anaconda Prompt (anaconda3) 실행\n",
    "\n",
    "`3.` 아래와 같이 입력\n",
    "\n",
    "```\n",
    "(base) C:\\Users\\한재수> conda create -n py38r40 python=3.8\n",
    "\n",
    "(base) C:\\Users\\한재수> conda activate py38r40\n",
    "\n",
    "(py38r40) C:\\Users\\한재수> conda install jupyter lab\n",
    "\n",
    "(py38r40) C:\\Users\\한재수> pip install rpy2\n",
    "\n",
    "(py38r40) C:\\Users\\한재수> R\n",
    "```\n",
    "\n",
    "`4.` R에서 아래와 같이 입력\n",
    "\n",
    "```\n",
    "\\> install.packages(\"IRcernel\")\n",
    "\n",
    "\\> IRcernel::installspec()\n",
    "\n",
    "\\> R.home() ## 나오는 경로 복사\n",
    "\n",
    "\\> q() ## R 종료\n",
    "```\n",
    "\n",
    "`5.` 다시 프롬프트로 돌아와서 주피터랩 실행\n",
    "\n",
    "```\n",
    "(py38r40) C:\\Users\\한재수> jupyter lab\n",
    "```\n",
    "\n",
    "`6.` R세팅은 끝났고 파이썬에서 R을 사용하려면 아래와 같이 입력(주피터랩 킬 때마다 한 번씩만 입력)\n",
    "\n",
    "```python\n",
    "import os\n",
    "\n",
    "os.environ['R_HOME']='C:/anaconda3/envs/py38r40/lib/R' ## R.HOME 에서 복사한 경로\n",
    "\n",
    "import rpy2 \n",
    "\n",
    "%load_ext rpy2.ipython\n",
    "```\n",
    "\n",
    "`7.` R사용\n",
    "\n",
    "셀 마다 %R or %%R 입력하여 사용"
   ]
  },
  {
   "cell_type": "code",
   "execution_count": 1,
   "id": "united-silver",
   "metadata": {},
   "outputs": [],
   "source": [
    "import os"
   ]
  },
  {
   "cell_type": "code",
   "execution_count": 2,
   "id": "antique-improvement",
   "metadata": {},
   "outputs": [],
   "source": [
    "os.environ['R_HOME']='C:/anaconda3/envs/py38r40/lib/R' ## R.HOME 에서 복사한 경로"
   ]
  },
  {
   "cell_type": "code",
   "execution_count": 3,
   "id": "accredited-warner",
   "metadata": {},
   "outputs": [],
   "source": [
    "import rpy2"
   ]
  },
  {
   "cell_type": "code",
   "execution_count": 4,
   "id": "otherwise-house",
   "metadata": {},
   "outputs": [
    {
     "name": "stderr",
     "output_type": "stream",
     "text": [
      "C:\\anaconda3\\envs\\py38r40\\lib\\site-packages\\rpy2\\robjects\\packages.py:366: UserWarning: The symbol 'quartz' is not in this R namespace/package.\n",
      "  warnings.warn(\n"
     ]
    }
   ],
   "source": [
    "%load_ext rpy2.ipython"
   ]
  },
  {
   "cell_type": "code",
   "execution_count": 9,
   "id": "alone-commander",
   "metadata": {},
   "outputs": [
    {
     "name": "stdout",
     "output_type": "stream",
     "text": [
      "[1] 1 2 3\n",
      "[1, 2, 3]\n"
     ]
    }
   ],
   "source": [
    "%R q <- c(1, 2, 3)\n",
    "%R print(q)\n",
    "\n",
    "Q = [1, 2, 3]\n",
    "print(Q)"
   ]
  },
  {
   "cell_type": "code",
   "execution_count": 9,
   "id": "sunrise-electric",
   "metadata": {},
   "outputs": [
    {
     "name": "stdout",
     "output_type": "stream",
     "text": [
      "\n",
      "Call:\n",
      "lm(formula = y ~ x)\n",
      "\n",
      "Residuals:\n",
      "    Min      1Q  Median      3Q     Max \n",
      "-6.3741 -4.4232  0.9096  3.2796  6.4840 \n",
      "\n",
      "Coefficients:\n",
      "            Estimate Std. Error t value Pr(>|t|)\n",
      "(Intercept)   2.9958     3.4644   0.865    0.420\n",
      "x             1.0473     0.5469   1.915    0.104\n",
      "\n",
      "Residual standard error: 5.185 on 6 degrees of freedom\n",
      "Multiple R-squared:  0.3793,\tAdjusted R-squared:  0.2759 \n",
      "F-statistic: 3.667 on 1 and 6 DF,  p-value: 0.104\n",
      "\n"
     ]
    }
   ],
   "source": [
    "%%R\n",
    "x <- c(1, 2, 3, 4, 5, 8, 9, 11)\n",
    "y <- c(5, 1, 7, 12, 11, 5, 7, 21)\n",
    "model <- lm(y ~ x)\n",
    "summary(model)"
   ]
  },
  {
   "cell_type": "markdown",
   "id": "gothic-oregon",
   "metadata": {},
   "source": [
    "`-` %R -i 을 통해 파이썬에서 정의한 변수를 R에서 사용할 수 있음"
   ]
  },
  {
   "cell_type": "code",
   "execution_count": 6,
   "id": "average-jones",
   "metadata": {},
   "outputs": [],
   "source": [
    "import numpy as np\n",
    "data = np.random.rand(50)\n",
    "\n",
    "%R -i data"
   ]
  },
  {
   "cell_type": "code",
   "execution_count": 7,
   "id": "frank-calendar",
   "metadata": {},
   "outputs": [
    {
     "data": {
      "image/png": "[encoded data removed]"
     },
     "metadata": {},
     "output_type": "display_data"
    }
   ],
   "source": [
    "%%R\n",
    "hist(data)"
   ]
  },
  {
   "cell_type": "code",
   "execution_count": null,
   "id": "academic-amsterdam",
   "metadata": {},
   "outputs": [],
   "source": []
  }
 ],
 "metadata": {
  "kernelspec": {
   "display_name": "Python 3 (ipykernel)",
   "language": "python",
   "name": "python3"
  },
  "language_info": {
   "codemirror_mode": {
    "name": "ipython",
    "version": 3
   },
   "file_extension": ".py",
   "mimetype": "text/x-python",
   "name": "python",
   "nbconvert_exporter": "python",
   "pygments_lexer": "ipython3",
   "version": "3.8.11"
  }
 },
 "nbformat": 4,
 "nbformat_minor": 5
}
