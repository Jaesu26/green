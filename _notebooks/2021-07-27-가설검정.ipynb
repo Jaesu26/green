{
 "cells": [
  {
   "cell_type": "markdown",
   "id": "physical-settle",
   "metadata": {},
   "source": [
    "# 가설검정\n",
    "\n",
    "> \"작성 중\"\n",
    "\n",
    "- toc: true\n",
    "- branch: master\n",
    "- badges: true\n",
    "- comments: true\n",
    "- author: 한재수\n",
    "- categories: [python, R, statistics]"
   ]
  },
  {
   "cell_type": "markdown",
   "id": "parallel-henry",
   "metadata": {},
   "source": [
    "`-` 대표적인 확률분포에 대한 간단한 정리를 마친 후 작성할 예정임 ---> 시작\n",
    "\n",
    "`-` 참고: Statistics: Unlocking the power of data, Robin Lock 외 4인"
   ]
  },
  {
   "cell_type": "markdown",
   "id": "postal-function",
   "metadata": {},
   "source": [
    "# 중심극한정리(central limit theorem)"
   ]
  },
  {
   "cell_type": "markdown",
   "id": "isolated-scenario",
   "metadata": {},
   "source": [
    "`-` 동일한 확률분포를 가진 독립확률변수 $n$개의 평균의 분포는 충분히 크다면($n\\geq 30$이면) 정규분포에 가까워짐\n",
    "\n",
    "`-` 앞으로 많은 가설검정에서 사용될 예정\n",
    "\n",
    "`-` 증명 링크 : https://en.wikipedia.org/wiki/Central_limit_theorem#Proof_of_classical_CLT"
   ]
  },
  {
   "cell_type": "markdown",
   "id": "ddd4331f-85b7-4719-ac58-da1d31877219",
   "metadata": {},
   "source": [
    "# 붓스트랩과 p-값"
   ]
  },
  {
   "cell_type": "markdown",
   "id": "888a8e8a-f57c-4d3e-afaa-3f53c1afba0c",
   "metadata": {},
   "source": [
    "`-` 뒤에서 설명할 내용들에 붓스트랩과 p-값의 개념이 쓰여서 알고가자\n",
    "\n",
    "`-` 이를 위해 간단한 예시를 들어보자\n",
    "\n",
    "`-` 전북대학교 학생들의 평균 맥박수가 모종의 이유로 궁금하다고 해보자(표본조사론 프로젝트? ㅋㅋ)\n",
    "\n",
    "`-` 제일 먼저 떠오르는 생각은 전북대학교 학생들을 전부 불러모아 맥박을 측정하고 이를 평균내는 것이다\n",
    "\n",
    "`-` 확실한 방법이지만 일일이 맥박을 어느 세월에 측정할 것인가...\n",
    "\n",
    "`-` 그래서 생각한 방법이 모든 학생의 맥박을 측정하는 대신에 일부 학생들의 맥박만 측정하여 평균을 내는 것이다\n",
    "\n",
    "`-` ??? : 일부 학생들의 맥박 평균과 전체 학생들의 맥박 평균이 같은지 어떻게 확신함??\n",
    "\n",
    "`-` 국이나 찌개등의 간을 볼 때 조금만 먹어보고 짠지 싱거운지 판단하는데 이는 음식에 간이 골고루 배도록 잘 섞어주었기 때문이다\n",
    "\n",
    "`-` 만약 간이 골고루 배어있지 않으면 위의 판단은 틀릴 수 있다\n",
    "\n",
    "`-` 마찬가지로 학생들을 골고루 잘 선택한다면(?) 일부 학생들의 맥박을 가지고 전체 학생들을 대표할 수 있을 것이다  \n",
    "\n",
    "`-` 골고루 잘 선택하는 방법에는 학생들에게 1번부터 차례차례 번호를 부여하고 시스템을 통해 50개의 번호를 뽑는 것이 있다 "
   ]
  },
  {
   "cell_type": "code",
   "execution_count": 7,
   "id": "86ba725d-dfe1-48e9-b9c6-e5b80111a696",
   "metadata": {},
   "outputs": [
    {
     "data": {
      "image/png": "[encoded data removed]",
      "text/plain": [
       "<Figure size 432x288 with 1 Axes>"
      ]
     },
     "metadata": {
      "needs_background": "light"
     },
     "output_type": "display_data"
    }
   ],
   "source": [
    "#collapse\n",
    "import numpy as np\n",
    "import matplotlib\n",
    "import matplotlib.pyplot as plt\n",
    "matplotlib.rcParams['font.family'] = 'Malgun Gothic' # 한글이 깨지지 않도록 설정\n",
    "matplotlib.rcParams['axes.unicode_minus'] = False    # 한글이 깨지지 않도록 설정\n",
    "\n",
    "np.random.seed(42)\n",
    "blood_pressure = np.random.normal(85, 15, 10000) ## 모집단\n",
    "plt.hist(blood_pressure, bins=30)\n",
    "plt.title('전북대학교 학생들의 맥박수 분포', fontsize=15)\n",
    "plt.show()"
   ]
  },
  {
   "cell_type": "markdown",
   "id": "bce7001d-8076-4c5c-9b8e-485c3831e054",
   "metadata": {},
   "source": [
    "`-` 전체 전북대학교 학생들의 맥박(모집단)을 일일이 측정하기 힘드니 임의의로 50명의 학생만 뽑아 맥박을 측정하고 평균을 내자\n",
    "\n",
    "`-` 모집단은 평균이 85, 표준편차가 15인 정규분포를 따른다고 가정하자"
   ]
  },
  {
   "cell_type": "code",
   "execution_count": 8,
   "id": "b36d6e9b-0808-4e9d-8720-67a25587bb10",
   "metadata": {},
   "outputs": [
    {
     "name": "stdout",
     "output_type": "stream",
     "text": [
      "50명의 평균 맥박수는 85.9입니다\n"
     ]
    }
   ],
   "source": [
    "sample = np.random.choice(blood_pressure, size=50, replace=False)\n",
    "print(f'50명의 평균 맥박수는 {np.round(np.mean(sample), 1)}입니다')"
   ]
  },
  {
   "cell_type": "markdown",
   "id": "cf4cf756-b791-4087-b29d-55e75d05a688",
   "metadata": {},
   "source": [
    "`-` 50명을 무작위로 뽑아 맥박을 재고 이를 평균내보니 85.9가 나왔다\n",
    "\n",
    "`-` 그러면 이제 전북대학교 전체 학생들의 평균 맥박수가 85.9라고 할 수 있을까?\n",
    "\n",
    "`-` 안타깝게도 그럴 수 없는데 무작위로 50명을 다시 뽑으면 당연하게도 다른 결과가 나오기 때문이다"
   ]
  },
  {
   "cell_type": "code",
   "execution_count": 9,
   "id": "a2b69a6c-b768-49c4-9ee6-3cbe059eb24e",
   "metadata": {},
   "outputs": [
    {
     "name": "stdout",
     "output_type": "stream",
     "text": [
      "50명의 평균 맥박수는 83.9입니다\n"
     ]
    }
   ],
   "source": [
    "sample = np.random.choice(blood_pressure, size=50, replace=False)\n",
    "print(f'50명의 평균 맥박수는 {np.round(np.mean(sample), 1)}입니다')"
   ]
  },
  {
   "cell_type": "markdown",
   "id": "a93d91e9-b8d6-4712-b43d-d016c54052f5",
   "metadata": {},
   "source": [
    "`-` 이번에는 평균이 83.9이다"
   ]
  },
  {
   "cell_type": "markdown",
   "id": "e8456e50-5737-4a68-b131-c98b075f527a",
   "metadata": {},
   "source": [
    "`-` 위의 결과로부터 2가지 문제점이 생겼다\n",
    "\n",
    "`-` `첫 번째는 평균 맥박수를 85.9로 해야될지 83.9로 해야될지 모르겠다는 것이고`\n",
    "\n",
    "`-` `두 번째는 매번 50명씩 학생들의 맥박을 재는것도 쉬운일은 아니라는 것이다`\n",
    "\n",
    "`-` 일단 첫 번째 문제는 전체 전북대학교 학생들의 평균 맥박수(모평균=모집단의 평균)를 점추정이 아닌 구간추정을 하면 된다\n",
    "\n",
    "`-` 즉, 모평균을 85.9, 83.9와 같이 하나의 값으로 나타내지 말고 정확히 몇인지는 모르지만 아마도 83에서 87사이인 것 같다와 같은 방식으로 나타내는 것이다  \n",
    "\n",
    "`-` 그러면 구간은 어떻게 정할 것인지? ---> 50명씩 학생들을 무작위로 뽑아 맥박을 재고 이를 평균낸다 ---> 이를 엄청 많이 반복하자 ---> 표본평균의 분포(표집분포)\n",
    "\n",
    "`-` 그리고 최소값과 최대값을 기준으로 삼자!\n",
    "\n",
    "`-` 1000번 정도 반복해보자"
   ]
  },
  {
   "cell_type": "code",
   "execution_count": 10,
   "id": "eb674a6c-2b44-4013-b301-878c771860e7",
   "metadata": {},
   "outputs": [
    {
     "data": {
      "image/png": "[encoded data removed]",
      "text/plain": [
       "<Figure size 432x288 with 1 Axes>"
      ]
     },
     "metadata": {
      "needs_background": "light"
     },
     "output_type": "display_data"
    }
   ],
   "source": [
    "#collapse\n",
    "np.random.seed(42)\n",
    "samples = [np.mean(np.random.choice(blood_pressure, size=50, replace=False)) for i in range(1000)]\n",
    "plt.hist(samples, bins=30)\n",
    "plt.title('50명의 맥박수 평균의 분포', fontsize=15) \n",
    "plt.show()"
   ]
  },
  {
   "cell_type": "code",
   "execution_count": 11,
   "id": "43a0bbcd-a29f-4eed-bd6c-66fbe5d9960e",
   "metadata": {},
   "outputs": [
    {
     "name": "stdout",
     "output_type": "stream",
     "text": [
      "구간의 최소값은 78.6이고 최대값은 92.3입니다\n"
     ]
    }
   ],
   "source": [
    "print(f'구간의 최소값은 {np.round(np.min(samples), 1)}이고 최대값은 {np.round(np.max(samples), 1)}입니다')"
   ]
  },
  {
   "cell_type": "markdown",
   "id": "feb57f41-d15a-456b-a227-fc7ce36848cb",
   "metadata": {},
   "source": [
    "`-` `아마도` 전북대학교 학생들의 평균 맥박수는 78.6에서 92.3인 것 같다\n",
    "\n",
    "`-` 그런데 구간의 경계를 굳이 최소값과 최대값으로 할 필요는 없다\n",
    "\n",
    "`-` 예컨대 83과 87사이로 해도 된다\n",
    "\n",
    "`-` 구간의 폭이 좁으면 정확도는 떨어지지만 그만큼 쓸모가 있고 구간의 넓으면 정확도는 높아지지만 쓸모가 없다\n",
    "\n",
    "`-` 평균 맥박수가 0에서 200사이라고 한다면 정확하지만 쓸모가 없다...\n",
    "\n",
    "`-` 한편, 정규분포인 경우 중심(평균)에서 표준편차의 2배 거리안에 95%의 데이터가 존재한다\n",
    "\n",
    "`-` 중심극한정리에 의해 표본크기가 30보다 큰 50이므로 표본평균의 분포(표집분포)는 정규분포를 따른다\n",
    "\n",
    "`-` 구간을 정한다는 것은 위에서 언급한 `\"아마도(= 믿음의 크기)\"`를 정한다는 것과 다름이 없다(구간이 넓으면 믿음의 크기가 커지고 좁으면 반대니까)\n",
    "\n",
    "`-` 구간을 표집분포의 평균에서 표집분포의 표준편차(`표준오차`)의 2배 거리 내부로 정하면 어떨까?(95%의 데이터가 존재)\n",
    "\n",
    "`-` 위에서 구한 1000개의 표본평균 중에서 95%나 구간안에 속한다!(정확도 높고 쓸모 있음)\n",
    "\n",
    "`-` 그리고 이러한 구간을 `신뢰구간`이라고 표현한다\n",
    "\n",
    "`-` 여기서는 95% 신뢰구간!"
   ]
  },
  {
   "cell_type": "code",
   "execution_count": 17,
   "id": "7928e54d-3b18-419b-925f-73a39a285fa5",
   "metadata": {},
   "outputs": [
    {
     "name": "stdout",
     "output_type": "stream",
     "text": [
      "표집분포의 평균은 85.0이고 표준오차는 2.1입니다\n"
     ]
    }
   ],
   "source": [
    "samples_mean = np.round(np.mean(samples), 1)\n",
    "samples_std = np.round(np.std(samples, ddof=1), 1)\n",
    "print(f'표집분포의 평균은 {samples_mean}이고 표준오차는 {samples_std}입니다')"
   ]
  },
  {
   "cell_type": "markdown",
   "id": "0f22cc43-62b4-40e3-a551-3a7c9110488f",
   "metadata": {},
   "source": [
    "`-` 95% 신뢰구간은 표집분포의 평균에서 표준오차의 2배 거리 내부이므로 다음과 같다"
   ]
  },
  {
   "cell_type": "code",
   "execution_count": 26,
   "id": "0ac7ca56-c93a-4faa-b1fa-16c4a33d4e01",
   "metadata": {},
   "outputs": [
    {
     "name": "stdout",
     "output_type": "stream",
     "text": [
      "전북대학교 학생들의 평균 맥박수에 대한 95% 신뢰구간은 (80.8, 89.2) 입니다\n"
     ]
    }
   ],
   "source": [
    "print(f'전북대학교 학생들의 평균 맥박수에 대한 95% 신뢰구간은 ({samples_mean - 2*samples_std}, {samples_mean + 2*samples_std}) 입니다')"
   ]
  },
  {
   "cell_type": "markdown",
   "id": "e2e78b34-8aaa-4278-8a50-d874b55a1825",
   "metadata": {},
   "source": [
    "`-` 전북대학교 학생들의 평균 맥박수의 95% 신뢰구간을 구했다!\n",
    "\n",
    "`-` 누군가가 전북대학교 학생들의 평균 맥박수에 몇인지 물어본다면 답변할 수 있다!\n",
    "\n",
    "`-` 전북대학교 학생들의 평균 맥박수가 몇이죠?? ---> 정확히는 모르지만 80.8에서 89.2사이에 존재함을 95% 신뢰합니다!\n",
    "\n",
    "`-` 신뢰한다는 표현이 현재로는 애매하게 느껴지지만 일단은 넘어가자\n",
    "\n",
    "`-` 드디어 전북대학교 학생들의 평균 맥박수가 어느정도인지 말할 수 있게 되었다\n",
    "\n",
    "`-` 그런데 심각한 문제점이 하나 있다\n",
    "\n",
    "`-` 위에서 말한 두 번째 문제점이다\n",
    "\n",
    "`-` `두 번째 문제점 : 매번 50명씩 학생들의 맥박을 재는것도 쉬운일은 아니다`\n",
    "\n",
    "`-` 위에서 신뢰구간을 구하기 위해 50명의 맥박수를 재는 일을 1000번이나 반복했다\n",
    "\n",
    "`-` 총 50000명의 맥박수를 측정함...\n",
    "\n",
    "`-` 우리가 처음에 전북대학교 학생들의 평균 맥박수를 구하기 위해 접근한 방식을 사용하면\n",
    "\n",
    "`-` 50000명씩 맥박수를 재지 않고 50명의 맥박수만 재는 것으로 신뢰구간을 구할 수 있다\n",
    "\n",
    "`-` `처음 접근한 방식 : 학생들을 골고루 잘 선택한다면(?) 일부 학생들의 맥박을 가지고 전체 학생들을 대표할 수 있을 것이다`  \n",
    "\n",
    "`-` 우리는 무작위로 50명의 학생들을 골랐다 ---> 정말 무작위로 학생들을 골랐다면 이들이 전체를 대표할 수 있을것이다 \n",
    "\n",
    "`-` 다르게 생각해보면 `전체 학생들은 무작위로 고른 50명의 학생들을 복제한 것으로 판단할 수 있다!`\n",
    "\n",
    "`-` 내용 추가 중"
   ]
  },
  {
   "cell_type": "markdown",
   "id": "starting-butterfly",
   "metadata": {},
   "source": [
    "# 평균에 대한 추론 \n",
    "`-` 양적 자료에서 관심 있는 모수는 종종 모집단 평균 $\\mu$이다\n",
    "\n",
    "`-` ex) 우리나라 사람들의 평균 맥박수가 어느정도 되는지 궁금함 ---> 평균에 대한 가설검증"
   ]
  },
  {
   "cell_type": "markdown",
   "id": "graphic-scratch",
   "metadata": {},
   "source": [
    "## 표본 평균에 대한 중심극한정리 \n",
    "`-` 평균이 $\\mu$이고 표준편차가 $\\alpha$인 모집단에서 표본 크기 $n$이 충분히 클 때 표본 평균의 분포는 근사적으로 평균이 $\\mu$이고 표준편차는 $\\cfrac{\\alpha}{\\sqrt{n}}$인 정규분포를 따름\n",
    "\n",
    "`-` 하지만 위의 내용을 그대로 사용할 수 없음\n",
    "\n",
    "1. 모집단의 표준편차 $\\alpha$를 모른다 ---> 표본의 표준편차 $s$를 $\\alpha$대신 사용\n",
    "\n",
    "2. 추정된 표준오차 $\\cfrac{s}{\\sqrt{n}}$에 기반하여 표준화한 통계량의 분포는 표준정규분포를 따르지 않음 ---> t 분포를 따름([t 분포 참고](https://ko.wikipedia.org/wiki/%EC%8A%A4%ED%8A%9C%EB%8D%98%ED%8A%B8_t_%EB%B6%84%ED%8F%AC))"
   ]
  },
  {
   "cell_type": "markdown",
   "id": "durable-leader",
   "metadata": {},
   "source": [
    "## 표본의 표준편차를 사용할 때 표본 평균의 분포 \n",
    "`-` 평균이 $\\mu$인 모집단에서 표본 크기 $n$인 무작위 표본을 뽑을 때 표본 평균의 분포는 중심이 $\\mu$이고 표준오차는 $\\cfrac{s}{\\sqrt{n}}$으로 추정\n",
    "\n",
    "`-` 표본 평균을 표준화하면 자유도 $n-1$인 t 분포를 근사적으로 따름\n",
    "\n",
    "`-` 표본 크기 $n$이 커질수록 t분포는 표준정규분포와 가까워짐"
   ]
  },
  {
   "cell_type": "code",
   "execution_count": 4,
   "id": "common-brunei",
   "metadata": {},
   "outputs": [
    {
     "data": {
      "image/png": "[encoded data removed]",
      "text/plain": [
       "<Figure size 720x432 with 1 Axes>"
      ]
     },
     "metadata": {
      "needs_background": "light"
     },
     "output_type": "display_data"
    }
   ],
   "source": [
    "#collapse\n",
    "import numpy as np\n",
    "import scipy as sp\n",
    "import scipy.stats\n",
    "import matplotlib.pyplot as plt\n",
    "\n",
    "x = np.linspace(-5, 5, 100)\n",
    "rv_norm = sp.stats.norm(loc=0, scale=1)\n",
    "rv_t10 = sp.stats.t(df=10)\n",
    "rv_t5 = sp.stats.t(df=5)\n",
    "rv_t1 = sp.stats.t(df=1)\n",
    "\n",
    "norm_pdf = rv_norm.pdf(x)\n",
    "t10_pdf = rv_t10.pdf(x)\n",
    "t5_pdf = rv_t5.pdf(x)\n",
    "t1_pdf = rv_t1.pdf(x)\n",
    "\n",
    "legend = ['z-dist', 't(df=1)', 't(df=5)', 't(df=10)']\n",
    "\n",
    "plt.figure(figsize = (10, 6)) \n",
    "plt.plot(x, norm_pdf)\n",
    "plt.plot(x, t1_pdf)\n",
    "plt.plot(x, t5_pdf)\n",
    "plt.plot(x, t10_pdf)\n",
    "\n",
    "plt.title(\"z-dist, t-dist(df=1, 5, 10)\")\n",
    "plt.xlabel(\"$x$\")\n",
    "plt.ylabel(\"$p(x)$\")\n",
    "plt.grid()\n",
    "plt.legend(legend)\n",
    "plt.show()"
   ]
  },
  {
   "cell_type": "markdown",
   "id": "technological-energy",
   "metadata": {},
   "source": [
    "`-` 위의 plot을 보면 자유도가 커질수록 t분포가 표준정규분포에 가까워짐을 알 수 있음\n",
    "\n",
    "`-` 나중에 plot그리는데 사용되는 lib와 사용법 추가 예정"
   ]
  },
  {
   "cell_type": "markdown",
   "id": "pressed-spring",
   "metadata": {},
   "source": [
    "## t 분포 사용 조건 "
   ]
  },
  {
   "cell_type": "markdown",
   "id": "senior-amazon",
   "metadata": {},
   "source": [
    "`-` 표본 크기 $n\\geq 30$이면 문제 없음\n",
    "\n",
    "`-` 만약 표본 크기 $n$이 작다면? ---> 모집단이 정규분포를 따라야 함\n",
    "\n",
    "`-` 근데 모집단이 정규분포 따르는지 모른다 ---> 대신에 표본이 정규분포를 따르는지 확인하자 ---> shapiro.test 실시\n",
    "\n",
    "`-` 표본에 이상점이 있거나 비대칭이면 t 분포 사용$\\times$ \n",
    "\n",
    "`-` 표본이 정규분포를 따르는 것 같다 ---> $\\bar{x}$의 분포는 정규분포를 따른다 ---> t-test 실시해도 괜찮다"
   ]
  },
  {
   "cell_type": "markdown",
   "id": "impaired-partner",
   "metadata": {},
   "source": [
    "## 평균에 대한 t검정 "
   ]
  },
  {
   "cell_type": "markdown",
   "id": "colonial-oxford",
   "metadata": {},
   "source": [
    "`-` 영가설 $H_0:\\mu=\\mu_0$를 검정하는 t-통계량은 다음과 같음\n",
    "\n",
    "`-` $t=\\cfrac{\\bar{x}-\\mu_0}{\\frac{s}{\\sqrt{n}}}$\n",
    "\n",
    "`-` $\\bar{x}$는 표본 평균, $s$는 표본에서 계산한 표준편차\n",
    "\n",
    "`-` p-값을 통해 영가설을 기각할지 기각하지 못하는지를 결정 ---> 가설검정 용어(영가설, p-값 등등)에 대해 나중에 정리 예정\n",
    "\n",
    "`-` 검증의 p-값은 자유도가 $n-1$인 t분포에서 대안가설에 적절한 꼬리쪽의 비율을 계산"
   ]
  },
  {
   "cell_type": "markdown",
   "id": "asian-jamaica",
   "metadata": {},
   "source": [
    "### 평균에 대한 t검정 예제 "
   ]
  },
  {
   "cell_type": "markdown",
   "id": "lined-recall",
   "metadata": {},
   "source": [
    "- 문제"
   ]
  },
  {
   "cell_type": "markdown",
   "id": "forward-logic",
   "metadata": {},
   "source": [
    "`-` 사람의 평균 체온이 $36.5^{°}\\mathrm{C}$인지 검정하기 위해 건강한 사람 50명의 체온을 재었다\n",
    "\n",
    "`-` 임의로 데이터를 설정하여 평균 체온 데이터는 평균이 36.3, 표준편차는 0.5인 정규분포에서 추출했음 \n",
    "\n",
    "`-` 임의로 뽑은 표본을 살펴보니 $\\bar{x} = 36.35,\\;s=0.5$이다\n",
    "\n",
    "`-` 위의 데이터는 사람의 평균 체온이 $36.5^{°}\\mathrm{C}$와는 다르다는 증거인지 유의수준 $\\alpha=0.05$ 에서 검정하자"
   ]
  },
  {
   "cell_type": "markdown",
   "id": "average-canadian",
   "metadata": {},
   "source": [
    "- 해결 과정"
   ]
  },
  {
   "cell_type": "markdown",
   "id": "ancient-girlfriend",
   "metadata": {},
   "source": [
    "`-` $H_0:\\mu=36.5,\\;H_a:\\mu\\neq36.5$  \n",
    "\n",
    "`-` 표본 크기가 충분하고 표본에 대한 히스토그램을 보면 정규분포를 따르는 것으로 보인다 "
   ]
  },
  {
   "cell_type": "code",
   "execution_count": 25,
   "id": "unexpected-marble",
   "metadata": {},
   "outputs": [
    {
     "name": "stdout",
     "output_type": "stream",
     "text": [
      "The rpy2.ipython extension is already loaded. To reload it, use:\n",
      "  %reload_ext rpy2.ipython\n"
     ]
    }
   ],
   "source": [
    "import rpy2\n",
    "import os\n",
    "\n",
    "os.environ['R_HOME']='C:/anaconda3/envs/py38r40/lib/R' \n",
    "%load_ext rpy2.ipython"
   ]
  },
  {
   "cell_type": "code",
   "execution_count": 21,
   "id": "global-sherman",
   "metadata": {},
   "outputs": [
    {
     "data": {
      "image/png": "[encoded data removed]",
      "text/plain": [
       "<Figure size 432x288 with 1 Axes>"
      ]
     },
     "metadata": {
      "needs_background": "light"
     },
     "output_type": "display_data"
    }
   ],
   "source": [
    "import matplotlib.pyplot as plt\n",
    "import numpy as np\n",
    "\n",
    "## 예시 샘플\n",
    "np.random.seed(2021)\n",
    "sample = np.random.normal(loc = 36.3, scale = 0.5, size = 50)\n",
    "\n",
    "plt.hist(sample)\n",
    "plt.title('body heat data')\n",
    "plt.show()\n",
    "\n",
    "%R -i sample"
   ]
  },
  {
   "cell_type": "markdown",
   "id": "worldwide-blast",
   "metadata": {},
   "source": [
    "`-` 샤피로 윌크 검정을 통해 정규성을 정확히 확인하자"
   ]
  },
  {
   "cell_type": "code",
   "execution_count": 25,
   "id": "foster-filling",
   "metadata": {},
   "outputs": [
    {
     "name": "stdout",
     "output_type": "stream",
     "text": [
      "\n",
      "\tShapiro-Wilk normality test\n",
      "\n",
      "data:  sample\n",
      "W = 0.98456, p-value = 0.7524\n",
      "\n"
     ]
    }
   ],
   "source": [
    "%%R\n",
    "shapiro.test(sample)"
   ]
  },
  {
   "cell_type": "markdown",
   "id": "suburban-marina",
   "metadata": {},
   "source": [
    "`-` p-값이 크므로 영가설(표본은 정규분포를 따름)을 기각할 수 없으므로 표본의 정규성을 가정"
   ]
  },
  {
   "cell_type": "markdown",
   "id": "contemporary-august",
   "metadata": {},
   "source": [
    "`-` t통계량을 직접 구해도 됨 ---> $t=\\cfrac{\\bar{x}-\\mu_0}{\\frac{s}{\\sqrt{n}}} = \\cfrac{36.35-36.5}{\\frac{0.5}{\\sqrt{50}}}=-2.12$\n",
    "\n",
    "`-` 하지만 매번 직접 구하기 귀찮으므로 R을 통해 구해보도록 하자 + p-값도 구해줌\n",
    "\n",
    "`-` 사실 파이썬으로도 가능하지만 내가 모르는 관계로 R로 하고 나중에 따로 공부하자"
   ]
  },
  {
   "cell_type": "code",
   "execution_count": 15,
   "id": "freelance-thursday",
   "metadata": {},
   "outputs": [
    {
     "name": "stdout",
     "output_type": "stream",
     "text": [
      "[1] 36.35498\n",
      "[1] 0.5006206\n"
     ]
    }
   ],
   "source": [
    "%%R\n",
    "print(mean(sample)) ## 평균\n",
    "print(sd(sample)) ## 분산"
   ]
  },
  {
   "cell_type": "code",
   "execution_count": 16,
   "id": "detected-cotton",
   "metadata": {},
   "outputs": [
    {
     "name": "stdout",
     "output_type": "stream",
     "text": [
      "\n",
      "\tOne Sample t-test\n",
      "\n",
      "data:  sample\n",
      "t = -2.0483, df = 49, p-value = 0.04591\n",
      "alternative hypothesis: true mean is not equal to 36.5\n",
      "95 percent confidence interval:\n",
      " 36.21271 36.49726\n",
      "sample estimates:\n",
      "mean of x \n",
      " 36.35498 \n",
      "\n"
     ]
    }
   ],
   "source": [
    "%%R\n",
    "t.test(sample, mu = 36.5, alternative = 'two.sided', conf.level = 0.95)"
   ]
  },
  {
   "cell_type": "markdown",
   "id": "signal-citizen",
   "metadata": {},
   "source": [
    "`-` p-값을 보면 0.04591로 유의수준인 0.05보다 작음 ---> 영가설을 기각한다\n",
    "\n",
    "`-` 따라서 표본에 따르면 사람의 평균 체온은 $36.5^{°}\\mathrm{C}$와 다르다고 할 수 있다\n",
    "\n",
    "`-` 임의로 만든 표본은 평균이 36.3인 정규분포에서 추출한 것이므로 올바르게 추론한 것을 알 수 있음"
   ]
  },
  {
   "cell_type": "markdown",
   "id": "domestic-naples",
   "metadata": {},
   "source": [
    "## 평균 차이 분포 \n",
    "`-` 단일 평균에 대한 t검정과 차이점은 표본이 하나인가 둘인가이다\n",
    "\n",
    "`-` 평균 차이에 대한 t검정에서 관심있는 모수는 $\\mu_1 - \\mu_2$이다\n",
    "\n",
    "`-` 평균이 $\\mu_1$과 $\\mu_2$인 모집단에서 표본크기가 $n_1$과 $n_2$인 무작위 표본을 얻었을 때 표본 평균 차이 $\\bar{x_1}-\\bar{x_2}$의 분포는 중심이 모집단 평균 차이$\\mu_1-\\mu_2$이고 표준오차는 {% raw %} $\\sqrt{\\frac{{s_1}^{2}}{n_1}+\\frac{{s_2}^2}{n_2}}$이다{% endraw %}\n",
    "\n",
    "`-` 표본 평균 차이를 표준화한 값은 t분포를 따르며 자유도는 근사적으로 $n_1+n_2-2$\n",
    "\n",
    "`-` $n_1 <30$ or $n_2<30$인 경우 표본 크기가 작으며 이 경우에는 모집단이 정규분포를 따라야 함\n",
    "\n",
    "`-` 평균 차이를 검정할 땐 두 집단이 서로 독립인지 아닌지가 중요함 ---> 독립여부에 따라 검정 방법이 달라짐\n",
    "\n",
    "`-` 여기서는 독립표본에 대해 얘기할 것 임\n",
    "\n",
    "`-` 두 집단의 분산의 동질성이 중요함 ---> 평균 차이 검정을 하기 전에 분산의 동질성 검정을 수행함\n",
    "\n",
    "`-` 분산이 같은 경우 student's t-test를 사용하고 분산이 다른 경우 Welch's t test사용함"
   ]
  },
  {
   "cell_type": "markdown",
   "id": "eastern-hometown",
   "metadata": {},
   "source": [
    "## 평균 차이에 대한 t검정\n",
    "`-` 영가설 $H_0:\\mu_1-\\mu_2=0$를 검정하는 t-통계량은 다음과 같음\n",
    "\n",
    "`-` {% raw %}$t=\\cfrac{(\\bar{x_1}-\\bar{x_2})-0}{\\sqrt{\\frac{{s_1}^2}{n_1}+\\frac{{s_2}^2}{n_2}}}${% endraw %}\n",
    "\n",
    "`-` $\\bar{x_1}$과 $\\bar{x_2}$는 표본 평균, $s_1$과 $s_2$는 표본의 표준편차"
   ]
  },
  {
   "cell_type": "markdown",
   "id": "limiting-recruitment",
   "metadata": {},
   "source": [
    "### 평균 차이에 대한 t검정 예제"
   ]
  },
  {
   "cell_type": "markdown",
   "id": "specific-filter",
   "metadata": {},
   "source": [
    "- 문제"
   ]
  },
  {
   "cell_type": "markdown",
   "id": "blessed-precipitation",
   "metadata": {},
   "source": [
    "`-` 남자의 평균 체온$(\\bar{x_1})$과 여자의 평균 체온$(\\bar{x_2})$이 다른지 검정하기 위해 각각 건강한 사람 50명의 체온을 재었다\n",
    "\n",
    "`-` 임의로 데이터를 설정하여 남자의 평균 체온 데이터는 평균이 36.5, 표준편차는 0.4인 정규분포에서 추출했음 \n",
    "\n",
    "`-` 임의로 데이터를 설정하여 여자의 평균 체온 데이터는 평균이 36.45, 표준편차는 0.5인 정규분포에서 추출했음 \n",
    "\n",
    "`-` 임의로 뽑은 표본을 보니 $\\bar{x_1} = 36.54,\\;\\bar{x_2} = 36.5,\\; s_1=0.4,\\;s_2=0.53$이다\n",
    "\n",
    "`-` 위의 데이터는 남자와 여자의 평균 체온이 서로 다르다는 증거인지 유의수준 $\\alpha=0.05$ 에서 검정하자"
   ]
  },
  {
   "cell_type": "markdown",
   "id": "prepared-honey",
   "metadata": {},
   "source": [
    "- 해결 과정"
   ]
  },
  {
   "cell_type": "markdown",
   "id": "protective-import",
   "metadata": {},
   "source": [
    "`-` $H_0:\\mu_1-\\mu_2 = 0,\\;H_a:\\mu_1\\neq\\mu_2$  \n",
    "        \n",
    "`-` 표본 크기가 충분하고 표본에 대한 히스토그램을 보면 정규분포를 따르는 것으로 보인다 \n",
    "\n",
    "`-` 남자 모집단과 여자 모집단에서 표본을 추출했으므로 두 표본은 서로 독립이다"
   ]
  },
  {
   "cell_type": "code",
   "execution_count": 1,
   "id": "answering-builder",
   "metadata": {},
   "outputs": [
    {
     "name": "stderr",
     "output_type": "stream",
     "text": [
      "C:\\anaconda3\\envs\\py38r40\\lib\\site-packages\\rpy2\\robjects\\packages.py:366: UserWarning: The symbol 'quartz' is not in this R namespace/package.\n",
      "  warnings.warn(\n"
     ]
    }
   ],
   "source": [
    "import rpy2\n",
    "import os\n",
    "\n",
    "os.environ['R_HOME']='C:/anaconda3/envs/py38r40/lib/R' \n",
    "%load_ext rpy2.ipython"
   ]
  },
  {
   "cell_type": "code",
   "execution_count": 7,
   "id": "pointed-hayes",
   "metadata": {},
   "outputs": [
    {
     "data": {
      "image/png": "[encoded data removed]",
      "text/plain": [
       "<Figure size 720x288 with 2 Axes>"
      ]
     },
     "metadata": {
      "needs_background": "light"
     },
     "output_type": "display_data"
    }
   ],
   "source": [
    "import matplotlib.pyplot as plt\n",
    "import numpy as np\n",
    "\n",
    "## 예시 샘플\n",
    "np.random.seed(2021)\n",
    "man_heat = np.random.normal(loc = 36.5, scale = 0.4, size = 50)\n",
    "woman_heat = np.random.normal(loc = 36.45, scale = 0.5, size = 50)\n",
    "\n",
    "fig, ax = plt.subplots(1, 2, figsize = (10, 4))\n",
    "\n",
    "ax[0].hist(man_heat)\n",
    "ax[1].hist(woman_heat)\n",
    "\n",
    "ax[0].set_title('man body heat data')\n",
    "ax[1].set_title('woman body heat data')\n",
    "\n",
    "plt.show()\n",
    "\n",
    "%R -i man_heat,woman_heat"
   ]
  },
  {
   "cell_type": "markdown",
   "id": "fifteen-friendship",
   "metadata": {},
   "source": [
    "`-` 두 표본이 정규성을 따르는지 정확히 확인하자"
   ]
  },
  {
   "cell_type": "code",
   "execution_count": 26,
   "id": "brief-arcade",
   "metadata": {},
   "outputs": [
    {
     "name": "stdout",
     "output_type": "stream",
     "text": [
      "\n",
      "\tShapiro-Wilk normality test\n",
      "\n",
      "data:  man_heat\n",
      "W = 0.98456, p-value = 0.7524\n",
      "\n"
     ]
    }
   ],
   "source": [
    "%%R\n",
    "shapiro.test(man_heat)"
   ]
  },
  {
   "cell_type": "code",
   "execution_count": 27,
   "id": "aware-there",
   "metadata": {},
   "outputs": [
    {
     "name": "stdout",
     "output_type": "stream",
     "text": [
      "\n",
      "\tShapiro-Wilk normality test\n",
      "\n",
      "data:  woman_heat\n",
      "W = 0.96223, p-value = 0.1102\n",
      "\n"
     ]
    }
   ],
   "source": [
    "%%R\n",
    "shapiro.test(woman_heat)"
   ]
  },
  {
   "cell_type": "markdown",
   "id": "rotary-soldier",
   "metadata": {},
   "source": [
    "`-` 둘다 p-값이 크므로 정규성을 가정하자"
   ]
  },
  {
   "cell_type": "markdown",
   "id": "tender-twelve",
   "metadata": {},
   "source": [
    "`-` 평균 차이 검정을 하기전에 우선 두 표본의 분산이 동일한지 검정하자\n",
    "\n",
    "`-` var.test는 두 집단의 분산이 동일한지 비교함 ratio(두 집단 분산의 비율)이 1이 아니라면 두 집단의 분산이 다르다는 증거임"
   ]
  },
  {
   "cell_type": "code",
   "execution_count": 18,
   "id": "durable-atmosphere",
   "metadata": {},
   "outputs": [
    {
     "name": "stdout",
     "output_type": "stream",
     "text": [
      "[1] 36.54399\n",
      "[1] 0.4004965\n",
      "[1] 36.52622\n",
      "[1] 0.5260057\n"
     ]
    }
   ],
   "source": [
    "%%R\n",
    "print(mean(man_heat))\n",
    "print(sd(man_heat))\n",
    "print(mean(woman_heat))\n",
    "print(sd(woman_heat))"
   ]
  },
  {
   "cell_type": "code",
   "execution_count": 19,
   "id": "transparent-bacon",
   "metadata": {},
   "outputs": [
    {
     "name": "stdout",
     "output_type": "stream",
     "text": [
      "\n",
      "\tF test to compare two variances\n",
      "\n",
      "data:  man_heat and woman_heat\n",
      "F = 0.57972, num df = 49, denom df = 49, p-value = 0.05916\n",
      "alternative hypothesis: true ratio of variances is not equal to 1\n",
      "95 percent confidence interval:\n",
      " 0.3289758 1.0215715\n",
      "sample estimates:\n",
      "ratio of variances \n",
      "         0.5797175 \n",
      "\n"
     ]
    }
   ],
   "source": [
    "%%R\n",
    "var.test(man_heat, woman_heat, ratio = 1, alternative = \"two.sided\", conf.level = 0.95)"
   ]
  },
  {
   "cell_type": "markdown",
   "id": "interesting-miniature",
   "metadata": {},
   "source": [
    "`-` 두 집단의 분산이 같은지 검정하니 p-값이 0.05보다 크기 때문에 다르다고 할만한 충분한 증거가 없으므로 동일하다 가정함\n",
    "\n",
    "`-` 분산이 각각 0.4와 0.5인 집단에서 표본을 추출하여 원래는 분산이 다르지만 표본크기가 작기 때문에 0.1의 차이를 판단하지 못하였음\n",
    "\n",
    "`-` 아무튼 var.test 결과는 분산이 동일하다 나왔으므로 두 집단의 분산이 동일하다 생각하고 평균 차이를 검정하자"
   ]
  },
  {
   "cell_type": "code",
   "execution_count": 20,
   "id": "finite-premium",
   "metadata": {},
   "outputs": [
    {
     "name": "stdout",
     "output_type": "stream",
     "text": [
      "\n",
      "\tTwo Sample t-test\n",
      "\n",
      "data:  man_heat and woman_heat\n",
      "t = 0.19001, df = 98, p-value = 0.8497\n",
      "alternative hypothesis: true difference in means is not equal to 0\n",
      "95 percent confidence interval:\n",
      " -0.1677758  0.2033056\n",
      "sample estimates:\n",
      "mean of x mean of y \n",
      " 36.54399  36.52622 \n",
      "\n"
     ]
    }
   ],
   "source": [
    "%%R\n",
    "t.test(man_heat, woman_heat, alternative = 'two.sided', var.equal = T, conf.level = 0.95)"
   ]
  },
  {
   "cell_type": "markdown",
   "id": "secret-version",
   "metadata": {},
   "source": [
    "`-` 검정결과를 보면 p-값이 0.05보다 크므로 영가설을 기각하지 못함 ---> 남자와 여자의 평균체온을 다르다고 할 수 없음"
   ]
  },
  {
   "cell_type": "markdown",
   "id": "abstract-joshua",
   "metadata": {},
   "source": [
    "`-` 실제 데이터는 평균이 36.5와 36.45로 다르지만 표본의 크기가 충분하지 않아 이를 잡아내지 못함\n",
    "\n",
    "`-` 표본 크기가 50이 아니라 더욱 커진다면 위의 차이를 알아낼 수 있음"
   ]
  },
  {
   "cell_type": "markdown",
   "id": "committed-carpet",
   "metadata": {},
   "source": [
    "## 대응표본에 대한 평균 차이 t검정"
   ]
  },
  {
   "cell_type": "markdown",
   "id": "welcome-mobile",
   "metadata": {},
   "source": [
    "`-` 위에서 두 개의 개별 표본일 때 평균 차이 검정을 했음\n",
    "\n",
    "`-` 하지만 자료가 짝으로 주어졌다면 위와 동일한 방법으로 검정을 수행하면 안됨\n",
    "\n",
    "`-` 짝 자료 ---> 동일한 피실험체를 두 가지 다른 조건에서 측정한 데이터 ex) 개별 사람의 왼손과 오른손 악력, 약을 복용하기 전과 후의 혈압\n",
    "\n",
    "`-` 조건이 동일하다면 동일한 피실험체가 아니어도 가능함 ---> ex) 일란성 쌍둥이의 IQ\n",
    "\n",
    "`-` 짝 자료에 대한 평균 차이 검정은 우선 각 짝 자료의 차이를 계산한 후 차이에 대한 평균 $\\bar{x_d}$, 표준편차 $s_d$, 표본 크기 $n_d$를 계산\n",
    "\n",
    "`-` {% raw %}$t =\\cfrac{\\bar{x_d} - 0}{\\frac{s_d}{\\sqrt{n_d}}}${% endraw %}를 자유도가  $n_d-1$인 t분포에서 검정함"
   ]
  },
  {
   "cell_type": "markdown",
   "id": "pacific-dominican",
   "metadata": {},
   "source": [
    "### 대응 표본에 대한 평균 차이 t검정 예제"
   ]
  },
  {
   "cell_type": "markdown",
   "id": "modular-polls",
   "metadata": {},
   "source": [
    "- 문제"
   ]
  },
  {
   "cell_type": "markdown",
   "id": "fifteen-andrew",
   "metadata": {},
   "source": [
    "`-` 소설을 읽을 때 스토리 스포일러를 포함한 경우와 그렇지 않은 경우에 대해 즐거움의 등급(점수)차이가 있는지 유의수준 $\\alpha=0.05$ 에서 검정하자\n",
    "\n",
    "`-` 등급이 높을 수록 스토리가 더 재밌었다는 것을 의미함\n",
    "\n",
    "`-` 12개 스토리의 각 버전은 최소 30명이 읽고 1~10등급으로 등급을 매겼음\n",
    "\n",
    "`-` 스포일러 유 ---> 4.7, 5.1, 7.9, 7.0, 7.1, 7.2, 7.1, 7.2, 4.8, 5.2, 4.6, 6.7\n",
    "\n",
    "`-` 스포일러 무 ---> 3.8, 4.9, 7.4, 7.1, 6.2, 6.1, 6.7, 7.0, 4.3, 5.0, 4.1, 6.1"
   ]
  },
  {
   "cell_type": "markdown",
   "id": "reported-pottery",
   "metadata": {},
   "source": [
    "- 해결 과정"
   ]
  },
  {
   "cell_type": "markdown",
   "id": "advised-examination",
   "metadata": {},
   "source": [
    "`-` 12개의 스토리를 동일한 조건(무작위 샘플링)을 지닌 사람이 두 가지 처리(스포일러 유무)를 받아 읽고 등급을 평가함 ---> 대응 표본"
   ]
  },
  {
   "cell_type": "code",
   "execution_count": 1,
   "id": "executive-olive",
   "metadata": {},
   "outputs": [
    {
     "name": "stderr",
     "output_type": "stream",
     "text": [
      "C:\\anaconda3\\envs\\py38r40\\lib\\site-packages\\rpy2\\robjects\\packages.py:366: UserWarning: The symbol 'quartz' is not in this R namespace/package.\n",
      "  warnings.warn(\n"
     ]
    }
   ],
   "source": [
    "import rpy2\n",
    "import os\n",
    "\n",
    "os.environ['R_HOME']='C:/anaconda3/envs/py38r40/lib/R' \n",
    "%load_ext rpy2.ipython"
   ]
  },
  {
   "cell_type": "code",
   "execution_count": 2,
   "id": "straight-ranking",
   "metadata": {},
   "outputs": [
    {
     "name": "stdout",
     "output_type": "stream",
     "text": [
      "--- Please select a CRAN mirror for use in this session ---\n"
     ]
    },
    {
     "name": "stderr",
     "output_type": "stream",
     "text": [
      "R[write to console]: trying URL 'https://cran.seoul.go.kr/bin/windows/contrib/4.0/ggplot2_3.3.5.zip'\n",
      "\n",
      "R[write to console]: Content type 'application/zip'\n",
      "R[write to console]:  length 4129414 bytes (3.9 MB)\n",
      "\n",
      "R[write to console]: downloaded 3.9 MB\n",
      "\n",
      "\n"
     ]
    },
    {
     "name": "stdout",
     "output_type": "stream",
     "text": [
      "package 'ggplot2' successfully unpacked and MD5 sums checked\n",
      "\n",
      "The downloaded binary packages are in\n",
      "\tC:\\tmp\\Rtmp0OKRvu\\downloaded_packages\n"
     ]
    }
   ],
   "source": [
    "%%R\n",
    "install.packages('ggplot2')\n",
    "library(ggplot2)"
   ]
  },
  {
   "cell_type": "code",
   "execution_count": 15,
   "id": "silver-monkey",
   "metadata": {},
   "outputs": [
    {
     "data": {
      "image/png": "[encoded data removed]"
     },
     "metadata": {},
     "output_type": "display_data"
    }
   ],
   "source": [
    "%%R\n",
    "with_spoiler <- c(4.7, 5.1, 7.9, 7.0, 7.1, 7.2, 7.1, 7.2, 4.8, 5.2, 4.6, 6.7)\n",
    "original <- c(3.8, 4.9, 7.4, 7.1, 6.2, 6.1, 6.7, 7.0, 4.3, 5.0, 4.1, 6.1)\n",
    "diff <- with_spoiler - original\n",
    "diff_df <- as.data.frame(diff)\n",
    "\n",
    "ggplot(diff_df, aes(x = diff)) + xlab('Difference') + geom_dotplot(binwidth = 0.1)"
   ]
  },
  {
   "cell_type": "markdown",
   "id": "injured-connecticut",
   "metadata": {},
   "source": [
    "`-` 짝 자료 차이에 대한 점도표를 보면 정규분포를 부정할 만한 비대칭이나 이상점은 없어보임"
   ]
  },
  {
   "cell_type": "code",
   "execution_count": 12,
   "id": "amazing-utilization",
   "metadata": {},
   "outputs": [
    {
     "name": "stdout",
     "output_type": "stream",
     "text": [
      "\n",
      "\tShapiro-Wilk normality test\n",
      "\n",
      "data:  diff\n",
      "W = 0.95506, p-value = 0.7116\n",
      "\n"
     ]
    }
   ],
   "source": [
    "%%R\n",
    "shapiro.test(diff)"
   ]
  },
  {
   "cell_type": "markdown",
   "id": "proved-hamilton",
   "metadata": {},
   "source": [
    "`-` 샤피로 윌크 검정도 해보니 정규분포임을 가정해도 괜찮아 보임"
   ]
  },
  {
   "cell_type": "code",
   "execution_count": 13,
   "id": "located-palace",
   "metadata": {},
   "outputs": [
    {
     "name": "stdout",
     "output_type": "stream",
     "text": [
      "\n",
      "\tPaired t-test\n",
      "\n",
      "data:  with_spoiler and original\n",
      "t = 4.8997, df = 11, p-value = 0.0004719\n",
      "alternative hypothesis: true difference in means is not equal to 0\n",
      "95 percent confidence interval:\n",
      " 0.2708052 0.7125281\n",
      "sample estimates:\n",
      "mean of the differences \n",
      "              0.4916667 \n",
      "\n"
     ]
    }
   ],
   "source": [
    "%%R\n",
    "t.test(with_spoiler, original, paired = T, alternative = 'two.sided', conf.level = 0.95)"
   ]
  },
  {
   "cell_type": "markdown",
   "id": "smooth-kentucky",
   "metadata": {},
   "source": [
    "`-` R에서 대응 표본에 대한 검정을 하려면 `paried = T` 옵션을 적용한다\n",
    "\n",
    "`-` p-값이 0.0004719로 매우 작으므로 영가설을 기각하자 ---> 스포일러 유무에 따른 재미의 등급은 차이가 있다!"
   ]
  },
  {
   "cell_type": "markdown",
   "id": "640ff2c5-3d1c-4386-bf12-3c952ec7b599",
   "metadata": {},
   "source": [
    "# 모분산에 대한 추론\n",
    "\n",
    "`-` 모집단이 얼마나 퍼져있는지에 대해 궁금할 수 있음\n",
    "\n",
    "`-` ex) 공장에서 생산하는 과자의 무게\n",
    "\n",
    "`-` 과자의 무게 변동이 큰지 작은지에 대한 검정이 모분산에 대한 검정이다"
   ]
  },
  {
   "cell_type": "markdown",
   "id": "64367faf-4330-4aed-867b-4d9a7e947505",
   "metadata": {},
   "source": [
    "## 단일 모분산에 대한 검정"
   ]
  },
  {
   "cell_type": "markdown",
   "id": "f2a43d16-199f-4b41-b0d7-1cb9a5667fd4",
   "metadata": {},
   "source": [
    "`-` 우선 단일 모분산에 대한 검정에는 $\\chi^2$분포가 사용됨 ---> 왜?\n",
    "\n",
    "`-` 카이제곱분포를 떠올려보면 다음과 같음\n",
    "\n",
    "`-` $n$개의 서로 독립인 확률표본이 평균 $\\mu$ 분산 $\\sigma^2$인 정규분포에서 추출되었다고 하자\n",
    "\n",
    "`-` 모평균이 알려져 있지 않은 상황에서는 $\\mu$ 대신 $\\bar{X}$를 사용함\n",
    "\n",
    "$$\\begin{aligned}\\sum Z_{i}^{2}&=\\left(\\cfrac{X_1-\\bar{X_n}}{\\sigma}\\right)^2 + \\left(\\cfrac{X_2-\\bar{X_n}}{\\sigma}\\right)^2+\\cdots+\\left(\\cfrac{X_n-\\bar{X_n}}{\\sigma}\\right)^2\\\\\n",
    "&=\\cfrac{1}{\\sigma^2}\\sum(X_i-\\bar{X_n})^2\\\\[10pt]\n",
    "&=\\chi^2_{n-1}\\end{aligned}$$"
   ]
  },
  {
   "cell_type": "markdown",
   "id": "e8576cf9-a5d1-46c5-8fae-95cc5f9f4651",
   "metadata": {},
   "source": [
    "`-` 그런데 $s^2=\\cfrac{1}{n-1}\\sum(X_i-\\bar{X_n})^2$ 이므로 $\\chi^2_{n-1}=\\cfrac{(n-1)s^2}{\\sigma^2}$ 이다"
   ]
  },
  {
   "cell_type": "markdown",
   "id": "5b34dfb2-ff5f-42d5-b942-a5f469df11c0",
   "metadata": {},
   "source": [
    "`-` 따라서 $\\cfrac{(n-1)s^2}{\\sigma^2}$의 표본분포는 자유도가 $n-1$인 $\\chi^2_{n-1}$분포를 하고 있다"
   ]
  },
  {
   "cell_type": "markdown",
   "id": "43a97586-c16c-4786-99bd-e55ee6c5b361",
   "metadata": {},
   "source": [
    "`-` $X^2$분포가 어떻게 생겼는지 그래프를 그려서 확인해보자"
   ]
  },
  {
   "cell_type": "code",
   "execution_count": 7,
   "id": "4f121174-0e1d-4478-a747-bbe7e2266e0c",
   "metadata": {},
   "outputs": [
    {
     "data": {
      "image/png": "[encoded data removed]",
      "text/plain": [
       "<Figure size 1008x504 with 1 Axes>"
      ]
     },
     "metadata": {
      "needs_background": "light"
     },
     "output_type": "display_data"
    }
   ],
   "source": [
    "#collapse\n",
    "import numpy as np\n",
    "import matplotlib.pyplot as plt \n",
    "from scipy.stats import chi2\n",
    "\n",
    "fig, ax = plt.subplots(figsize = (14, 7))\n",
    "x = np.linspace(0, 8, 1000)\n",
    "\n",
    "for df in np.arange(1, 6):\n",
    "    ax.plot(x, chi2(df).pdf(x), label = 'k = ' + str(df))\n",
    "\n",
    "major_xticks = np.arange(0.0, 9.0, 2.0)\n",
    "minor_xticks = np.arange(0.5, 8.0, 0.5)\n",
    "major_yticks = np.arange(0, 1.2, 0.2)\n",
    "minor_yticks = np.arange(0.05, 1.0, 0.05)\n",
    "\n",
    "ax.set_title(\"$X^2$ distribution(df = 1, 2, 3, 4, 5)\", fontsize = 20)\n",
    "ax.set_ylim(0, 1)\n",
    "ax.set_xlim(0, 8)\n",
    "ax.set_xticks(major_xticks)\n",
    "ax.set_xticks(minor_xticks, minor = True)\n",
    "ax.set_yticks(major_yticks)\n",
    "ax.set_yticks(minor_yticks, minor = True)\n",
    "ax.set_xlabel(\"$x$\", fontsize = 14)\n",
    "ax.set_ylabel(\"$f(x)$\", fontsize = 14, rotation = 0, labelpad = 20)\n",
    "ax.tick_params(axis = 'both', labelsize = 15, length = 10, direction = 'in')\n",
    "ax.tick_params(axis = 'both', which = 'minor', length = 5, direction = 'in')\n",
    "ax.grid()\n",
    "ax.legend()\n",
    "plt.show()"
   ]
  },
  {
   "cell_type": "markdown",
   "id": "af7561ec-e044-40d3-9693-b83c7302c96c",
   "metadata": {},
   "source": [
    "`-` 정규분포와 t분포와 다르게 오른쪽으로 꼬리가 긴 분포이다"
   ]
  },
  {
   "cell_type": "markdown",
   "id": "41b5e4cd-9ce7-403a-9c7f-b88fef0f26e2",
   "metadata": {},
   "source": [
    "`-` $\\cfrac{(n-1)s^2}{\\sigma^2}$의 표본분포는 위의 그래프처럼 자유도에 따라 달라짐"
   ]
  },
  {
   "cell_type": "markdown",
   "id": "72c9f173-b5cf-40af-b207-4f21dcce3d3b",
   "metadata": {},
   "source": [
    "`-` 단일모분산을 검정하는 검정통계량은 다음과 같음\n",
    "\n",
    "$$\\chi^2_{n-1}=\\cfrac{(n-1)s^2}{\\sigma^2}$$\n",
    "\n",
    "`-` 가설 $H_0 : \\sigma^2 = \\sigma_0^2$ 에 대한 검정은 대안가설 부호에 따라 다름\n",
    "\n",
    "$$\\begin{aligned}H_a &: \\sigma^2>\\sigma_0^2\\longrightarrow \\chi^2<\\chi^{2}_{\\alpha}\\\\\n",
    "H_a &: \\sigma^2<\\sigma_0^2\\longrightarrow \\chi^2>\\chi^2_{1-\\alpha}\\\\\n",
    "H_a &: \\sigma^2\\neq\\sigma_0^2\\longrightarrow \\chi^2<\\chi^2_{1-\\frac{\\alpha}{2}}\\; or\\; \\chi^2>\\chi^2_{\\frac{\\alpha}{2}}\\end{aligned}$$"
   ]
  },
  {
   "cell_type": "markdown",
   "id": "e6e0ea1a-d3df-4ad0-a94a-92f2d6fd2e62",
   "metadata": {},
   "source": [
    "`-` 이때 $\\chi^2_{\\alpha}$은 분포의 오른쪽 확률이 $\\alpha$임을 나타낸다"
   ]
  },
  {
   "cell_type": "markdown",
   "id": "c5377f83-afb8-44e5-b64b-e17bbd875c1a",
   "metadata": {},
   "source": [
    "`-` 위가 성립하면 귀무가설 $H_0$를 기각한다"
   ]
  },
  {
   "cell_type": "markdown",
   "id": "415330f7-dcb9-4f0a-a7dd-6ad08139e4ed",
   "metadata": {},
   "source": [
    "### 단일 모분산에 대한 검정 예제"
   ]
  },
  {
   "cell_type": "markdown",
   "id": "af2b646a-2be0-4f17-8e88-78eda001dc29",
   "metadata": {},
   "source": [
    "`-` 임의로 샘플을 만들고 모분산에 대해 검정해보자"
   ]
  },
  {
   "cell_type": "code",
   "execution_count": 105,
   "id": "8fea5052-4158-42d4-808e-348686689a0e",
   "metadata": {},
   "outputs": [],
   "source": [
    "import numpy as np\n",
    "\n",
    "np.random.seed(2021)\n",
    "data = np.random.normal(0, 2, 10) "
   ]
  },
  {
   "cell_type": "markdown",
   "id": "78ddaf40-f040-4d1b-85a1-ad8028825215",
   "metadata": {},
   "source": [
    "`-` 평균이 0이고 분산이 4인 정규분포에서 10개의 샘플을 뽑았다\n",
    "\n",
    "`-` 샘플을 가지고 $\\alpha = 0.05$에서 모분산이 3를 넘는지 검정해보자\n",
    "\n",
    "$$H_0 :  \\sigma^2 = 3\\\\\n",
    "H_a : \\sigma^2 > 3$$ "
   ]
  },
  {
   "cell_type": "code",
   "execution_count": 111,
   "id": "a30a51d3-b35d-4032-baa7-e3e6d659aa91",
   "metadata": {},
   "outputs": [],
   "source": [
    "var_0 = 3\n",
    "n = len(data)\n",
    "df = n - 1\n",
    "s = np.std(data, ddof = 1)\n",
    "chi_square = (n-1) * (s**2) / var_0 ## 검정통계량"
   ]
  },
  {
   "cell_type": "code",
   "execution_count": 114,
   "id": "f39391ab-6269-4f12-ae90-496884673b36",
   "metadata": {},
   "outputs": [
    {
     "data": {
      "text/plain": [
       "1.5249196358322268"
      ]
     },
     "execution_count": 114,
     "metadata": {},
     "output_type": "execute_result"
    }
   ],
   "source": [
    "s ## 표분편차는 1.52"
   ]
  },
  {
   "cell_type": "markdown",
   "id": "2541567e-fd45-4220-99b5-415ed8265504",
   "metadata": {},
   "source": [
    "`-` 검정통계량(chi2)이 $\\chi^2_{0.05}$ 보다 크면 영가설을 기각할 수 있다"
   ]
  },
  {
   "cell_type": "code",
   "execution_count": 117,
   "id": "2f9fb11d-ca24-441d-bf21-b94a57157654",
   "metadata": {},
   "outputs": [],
   "source": [
    "from scipy.stats import chi2\n",
    "\n",
    "X_square = chi2.ppf(0.95, df) ## 카이제곱분포의 오른쪽 영역이 0.05(왼쪽 영어은 0.95)가 되게하는 x 값 ## 누적분포의 역함수(ppf)를 통해 구한다"
   ]
  },
  {
   "cell_type": "code",
   "execution_count": 118,
   "id": "568d3139-d6a2-46a5-9120-b0e5eb0f9292",
   "metadata": {},
   "outputs": [
    {
     "data": {
      "text/plain": [
       "16.918977604620448"
      ]
     },
     "execution_count": 118,
     "metadata": {},
     "output_type": "execute_result"
    }
   ],
   "source": [
    "X_square"
   ]
  },
  {
   "cell_type": "code",
   "execution_count": 119,
   "id": "5dc3de6a-aa82-4ee8-a41c-910106b43868",
   "metadata": {},
   "outputs": [
    {
     "data": {
      "text/plain": [
       "6.9761396872400745"
      ]
     },
     "execution_count": 119,
     "metadata": {},
     "output_type": "execute_result"
    }
   ],
   "source": [
    "chi_square"
   ]
  },
  {
   "cell_type": "code",
   "execution_count": 120,
   "id": "2c4e5670-6d31-4aa3-bd15-7cc7021ac096",
   "metadata": {},
   "outputs": [
    {
     "data": {
      "text/plain": [
       "False"
      ]
     },
     "execution_count": 120,
     "metadata": {},
     "output_type": "execute_result"
    }
   ],
   "source": [
    "X_square < chi_square"
   ]
  },
  {
   "cell_type": "markdown",
   "id": "ac23f274-15ba-41ff-99c2-0d0707a4d1e9",
   "metadata": {},
   "source": [
    "`-` 검정통계량이 기각역보다 크지 않으므로 영가설을 기각할 수 없다\n",
    "\n",
    "`-` 따라서 모분산은 3보다 크다고 말할 수 없다"
   ]
  },
  {
   "cell_type": "markdown",
   "id": "384fe57d-9fb9-4451-b862-f8284e5d7270",
   "metadata": {},
   "source": [
    "`-` 분산이 4인 정규분포에서 샘플을 뽑았지만 영가설을 기각하지 못했음\n",
    "\n",
    "`-` 표본크기가 10으로 작아 변동성이 커 샘플의 분산이 2.32 이기 때문임\n",
    "\n",
    "`-` 표본크기가 더 크다면 영가설을 기각할 수 있을 것이다"
   ]
  },
  {
   "cell_type": "markdown",
   "id": "ca20c7ad-6922-4b61-abc4-5a7ccef932c1",
   "metadata": {
    "tags": []
   },
   "source": [
    "## 두 모집단분산 차이에 대한 검정"
   ]
  },
  {
   "cell_type": "markdown",
   "id": "264b3deb-deb3-45b2-bb4e-85b17a1da4b8",
   "metadata": {},
   "source": [
    "`-` 두 모집단의 분산을 비교하는데에는 F분포를 사용함 ---> 왜?"
   ]
  },
  {
   "cell_type": "code",
   "execution_count": null,
   "id": "ae895255-afc5-4d4a-9982-f6a3d2010b92",
   "metadata": {},
   "outputs": [],
   "source": []
  }
 ],
 "metadata": {
  "kernelspec": {
   "display_name": "Python 3 (ipykernel)",
   "language": "python",
   "name": "python3"
  },
  "language_info": {
   "codemirror_mode": {
    "name": "ipython",
    "version": 3
   },
   "file_extension": ".py",
   "mimetype": "text/x-python",
   "name": "python",
   "nbconvert_exporter": "python",
   "pygments_lexer": "ipython3",
   "version": "3.8.11"
  }
 },
 "nbformat": 4,
 "nbformat_minor": 5
}
