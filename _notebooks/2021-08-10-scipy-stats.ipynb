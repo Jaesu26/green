{
 "cells": [
  {
   "cell_type": "markdown",
   "id": "finnish-insight",
   "metadata": {},
   "source": [
    "# 파이썬 scipy.stats \n",
    "\n",
    "> \"작성 중\"\n",
    "\n",
    "- toc: true\n",
    "- branch: master\n",
    "- badges: true\n",
    "- comments: true\n",
    "- author: 한재수\n",
    "- categories: [python, statistics]"
   ]
  },
  {
   "cell_type": "markdown",
   "id": "reduced-victorian",
   "metadata": {},
   "source": [
    "`-` 확률분포를 scipy.stats를 통해 그리는데 익숙하지 않아 파이썬 라이브러리인 scipy.stats에 대해 공부할거임\n",
    "\n",
    "`-` 참고: [scipy.stats](https://docs.scipy.org/doc/scipy/reference/stats.html)\n",
    "\n",
    "`-` 참고: [scipy 확률분포](https://datascienceschool.net/02%20mathematics/08.01%20%EC%82%AC%EC%9D%B4%ED%8C%8C%EC%9D%B4%EB%A5%BC%20%EC%9D%B4%EC%9A%A9%ED%95%9C%20%ED%99%95%EB%A5%A0%EB%B6%84%ED%8F%AC%20%EB%B6%84%EC%84%9D.html)"
   ]
  },
  {
   "cell_type": "markdown",
   "id": "statewide-abortion",
   "metadata": {},
   "source": [
    "# 확률분포 클래스\n",
    "`-` scipy.stats를 통해 확률분포를 그려보자\n",
    "\n",
    "`-` 우선 확률분포에 대한 클래스 객체를 생성해야 함\n",
    "\n",
    "`-` 각 확률분포의 파라미터는 `scipy.stats.이름`을 통해 확인하자\n",
    "\n",
    "|종류|이름|확률분포|\n",
    "|:-:|:-:|:-:|\n",
    "|이산 |bernoulli |베르누이 분포|\n",
    "|이산|binom |이항 분포|\n",
    "|이산|poisson|포아송 분포|\n",
    "|이산|geom|기하 분포|\n",
    "|이산|nbinom|음이항 분포|\n",
    "|이산|hypergeom|초기하 분포|\n",
    "|이산 |multinomial |다항 분포|\n",
    "|연속 |norm |정규 분포|\n",
    "|연속 | uniform|균일 분포|\n",
    "|연속|expon|지수 분포|\n",
    "|연속 |gamma |감마 분포|\n",
    "|연속 |t |t 분포|\n",
    "| 연속|chi2 |카이제곱 분포|\n",
    "| 연속|f |f 분포|\n",
    "|연속 |beta |베타 분포|"
   ]
  },
  {
   "cell_type": "markdown",
   "id": "controlled-class",
   "metadata": {},
   "source": [
    "# 모수 지정 \n",
    "`-` 확률분포의 모수는 종류별로 다르므로 문서를 참고하자\n",
    "\n",
    "`-` 하지만 대부분 확률분포가 공통적으로 가지는 모수가 있음\n",
    "\n",
    "|모수 이름|의미|\n",
    "|:-:|:-:|\n",
    "|loc|기댓값|\n",
    "|scale|표준편차|"
   ]
  },
  {
   "cell_type": "markdown",
   "id": "comic-boring",
   "metadata": {},
   "source": [
    "# 확률분포 methods\n",
    "`-` 확률분포 클래스 객체가 가지는 method가 있음\n",
    "\n",
    "`-` 정규분포를 예로 들어 ppf에 대한 설명을 해보면 norm.ppf(0.5)는 정규분포에서 $50$분위수에 해당하는 $x$값으로 $0$이다 \n",
    "\n",
    "|메서드|기능|\n",
    "|:-:|:-:|\n",
    "|pmf|확률질량함수|\n",
    "|pdf|확률밀도함수|\n",
    "|cdf |누적분포함수 |\n",
    "|ppf |누적분포함수의 역함수(백분위 함수) |\n",
    "| sf|생존함수 = 1 $-$ 누적분포함수 |\n",
    "|isf |생존함수의 역함수 |\n",
    "|rvs |무작위 표본 생성 |"
   ]
  },
  {
   "cell_type": "markdown",
   "id": "current-vulnerability",
   "metadata": {},
   "source": [
    "# 확률분포 plot \n",
    "`-` 대표로 정규분포를 그려보자\n",
    "\n",
    "`-` 참고: [scipy.stats.norm](https://docs.scipy.org/doc/scipy/reference/generated/scipy.stats.norm.html)"
   ]
  },
  {
   "cell_type": "code",
   "execution_count": 2,
   "id": "sustained-architecture",
   "metadata": {},
   "outputs": [
    {
     "data": {
      "image/png": "[encoded data removed]",
      "text/plain": [
       "<Figure size 432x288 with 1 Axes>"
      ]
     },
     "metadata": {
      "needs_background": "light"
     },
     "output_type": "display_data"
    }
   ],
   "source": [
    "from scipy.stats import norm\n",
    "import numpy as np\n",
    "import matplotlib.pyplot as plt\n",
    "\n",
    "fig, ax = plt.subplots(1, 1)\n",
    "xx = np.linspace(norm.ppf(0.001), norm.ppf(0.999), 1000)\n",
    "std_norm_rvs = norm.rvs(size = 1000, random_state = 1114)\n",
    "\n",
    "ax.plot(xx, norm.pdf(xx), color = 'red', alpha = 0.6, lw = 5, label = 'norm pdf')\n",
    "ax.hist(std_norm_rvs, density = True, bins = 20, color = 'blue', histtype = 'stepfilled', alpha = 0.6,  label = 'norm hist')\n",
    "ax.legend()\n",
    "ax.set_title('standard normal distribution')\n",
    "\n",
    "plt.show()"
   ]
  },
  {
   "cell_type": "code",
   "execution_count": null,
   "id": "superior-employer",
   "metadata": {},
   "outputs": [],
   "source": []
  }
 ],
 "metadata": {
  "kernelspec": {
   "display_name": "Python 3",
   "language": "python",
   "name": "python3"
  },
  "language_info": {
   "codemirror_mode": {
    "name": "ipython",
    "version": 3
   },
   "file_extension": ".py",
   "mimetype": "text/x-python",
   "name": "python",
   "nbconvert_exporter": "python",
   "pygments_lexer": "ipython3",
   "version": "3.8.8"
  }
 },
 "nbformat": 4,
 "nbformat_minor": 5
}
