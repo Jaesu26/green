{
 "cells": [
  {
   "cell_type": "markdown",
   "id": "academic-roman",
   "metadata": {},
   "source": [
    "# R 프로그래밍\n",
    "\n",
    "> \"작성 중\"\n",
    "\n",
    "- toc: true\n",
    "- branch: master\n",
    "- badges: true\n",
    "- comments: true\n",
    "- author: 한재수\n",
    "- categories: [R]"
   ]
  },
  {
   "cell_type": "markdown",
   "id": "common-flush",
   "metadata": {},
   "source": [
    "참고: R 프로그래밍 - 허명회 지음"
   ]
  },
  {
   "cell_type": "markdown",
   "id": "becoming-baptist",
   "metadata": {},
   "source": [
    "`-` R 프로그래밍에 대해 복습할 겸 간단히 정리 + 파이썬에서 할 필요없이 그냥 처음부터 R로 만들었으면 됐음......"
   ]
  },
  {
   "cell_type": "markdown",
   "id": "resistant-processor",
   "metadata": {},
   "source": [
    "# 2장 - 벡터(vector)\n",
    "`-` 데이터 컨테이너의 기본형"
   ]
  },
  {
   "cell_type": "markdown",
   "id": "liquid-anatomy",
   "metadata": {},
   "source": [
    "## 벡터"
   ]
  },
  {
   "cell_type": "code",
   "execution_count": 4,
   "id": "deadly-swing",
   "metadata": {},
   "outputs": [],
   "source": [
    "#hide\n",
    "import os\n",
    "os.environ['R_HOME']='C:/anaconda3/envs/py38r40/lib/R' "
   ]
  },
  {
   "cell_type": "code",
   "execution_count": 5,
   "id": "adapted-chapter",
   "metadata": {},
   "outputs": [
    {
     "name": "stdout",
     "output_type": "stream",
     "text": [
      "The rpy2.ipython extension is already loaded. To reload it, use:\n",
      "  %reload_ext rpy2.ipython\n"
     ]
    }
   ],
   "source": [
    "import rpy2\n",
    "%load_ext rpy2.ipython"
   ]
  },
  {
   "cell_type": "code",
   "execution_count": 2,
   "id": "ignored-victor",
   "metadata": {},
   "outputs": [
    {
     "name": "stdout",
     "output_type": "stream",
     "text": [
      "[1] TRUE\n"
     ]
    }
   ],
   "source": [
    "%%R\n",
    "x <- 1\n",
    "is.vector(x)"
   ]
  },
  {
   "cell_type": "markdown",
   "id": "green-diameter",
   "metadata": {},
   "source": [
    "`-` x는 `길이가 1인 벡터 = 스칼라`"
   ]
  },
  {
   "cell_type": "code",
   "execution_count": 6,
   "id": "sexual-consolidation",
   "metadata": {},
   "outputs": [
    {
     "name": "stdout",
     "output_type": "stream",
     "text": [
      "[1] 3.141593\n",
      "[1] 3.141592653589793\n"
     ]
    }
   ],
   "source": [
    "%%R \n",
    "print(pi)\n",
    "print(pi, 16)"
   ]
  },
  {
   "cell_type": "markdown",
   "id": "oriental-vinyl",
   "metadata": {},
   "source": [
    "`-` π는 숫자가 예약되어 있는 스칼라"
   ]
  },
  {
   "cell_type": "code",
   "execution_count": 10,
   "id": "anonymous-power",
   "metadata": {},
   "outputs": [
    {
     "name": "stdout",
     "output_type": "stream",
     "text": [
      "     [,1] [,2] [,3]\n",
      "[1,]    1    2    3\n",
      "[2,]    4    5    6\n",
      "[3,]    7    8    9\n",
      "[4,]   10   11   12\n"
     ]
    }
   ],
   "source": [
    "%%R\n",
    "M <- matrix(1:12, nrow = 4, ncol = 3, byrow = T)\n",
    "M"
   ]
  },
  {
   "cell_type": "markdown",
   "id": "golden-detector",
   "metadata": {},
   "source": [
    "`-` M은 행렬 ---> 벡터의 2차원 배열"
   ]
  },
  {
   "cell_type": "markdown",
   "id": "brazilian-sustainability",
   "metadata": {},
   "source": [
    "## 인덱싱 "
   ]
  },
  {
   "cell_type": "code",
   "execution_count": 18,
   "id": "numeric-dodge",
   "metadata": {},
   "outputs": [
    {
     "name": "stdout",
     "output_type": "stream",
     "text": [
      "[1] 5\n"
     ]
    }
   ],
   "source": [
    "%%R\n",
    "f <- c(1, 1, 2, 3, 5, 8, 13, 21)\n",
    "f[5]"
   ]
  },
  {
   "cell_type": "code",
   "execution_count": 20,
   "id": "academic-laundry",
   "metadata": {},
   "outputs": [
    {
     "name": "stdout",
     "output_type": "stream",
     "text": [
      "[1] 1 1 2 3 5\n"
     ]
    }
   ],
   "source": [
    "%%R\n",
    "f[1:5]"
   ]
  },
  {
   "cell_type": "code",
   "execution_count": 21,
   "id": "corresponding-jacket",
   "metadata": {},
   "outputs": [
    {
     "name": "stdout",
     "output_type": "stream",
     "text": [
      "[1]  1  2  5  8 13 21\n"
     ]
    }
   ],
   "source": [
    "%%R\n",
    "f[-c(1,4)]"
   ]
  },
  {
   "cell_type": "code",
   "execution_count": 22,
   "id": "noble-criticism",
   "metadata": {},
   "outputs": [
    {
     "name": "stdout",
     "output_type": "stream",
     "text": [
      "[1] 1 1 3\n"
     ]
    }
   ],
   "source": [
    "%%R\n",
    "f[c(1,2,4)]"
   ]
  },
  {
   "cell_type": "markdown",
   "id": "accessory-workshop",
   "metadata": {},
   "source": [
    "## seq()와 rep() 함수\n",
    "`-` seq(a, b, by = c)는 a부터 b까지 c간격으로 등차수열 생성"
   ]
  },
  {
   "cell_type": "code",
   "execution_count": 23,
   "id": "refined-meeting",
   "metadata": {},
   "outputs": [
    {
     "name": "stdout",
     "output_type": "stream",
     "text": [
      "[1]  0.0  2.5  5.0  7.5 10.0\n"
     ]
    }
   ],
   "source": [
    "%%R\n",
    "seq(0, 10, 2.5)"
   ]
  },
  {
   "cell_type": "markdown",
   "id": "seasonal-addition",
   "metadata": {},
   "source": [
    "`-`  seq(a, b, length = n)는 a부터 b까지 길이가 n인 일정 간격 수열을 생성"
   ]
  },
  {
   "cell_type": "code",
   "execution_count": 25,
   "id": "available-throat",
   "metadata": {},
   "outputs": [
    {
     "name": "stdout",
     "output_type": "stream",
     "text": [
      " [1]  0  1  2  3  4  5  6  7  8  9 10\n"
     ]
    }
   ],
   "source": [
    "%%R\n",
    "seq(0, 10, length = 11)"
   ]
  },
  {
   "cell_type": "markdown",
   "id": "extended-albert",
   "metadata": {},
   "source": [
    "`-` rep(x, times = k)는 x의 각 요소가 k의 각 요소씩 반복된 벡터"
   ]
  },
  {
   "cell_type": "code",
   "execution_count": 27,
   "id": "presidential-recorder",
   "metadata": {},
   "outputs": [
    {
     "name": "stdout",
     "output_type": "stream",
     "text": [
      "[1] NA NA NA NA NA\n"
     ]
    }
   ],
   "source": [
    "%%R\n",
    "rep(NA, 5)"
   ]
  },
  {
   "cell_type": "code",
   "execution_count": 29,
   "id": "democratic-cookie",
   "metadata": {},
   "outputs": [
    {
     "name": "stdout",
     "output_type": "stream",
     "text": [
      "[1] 1 2 1 2 1 2\n"
     ]
    }
   ],
   "source": [
    "%%R\n",
    "rep(c(1, 2), 3)"
   ]
  },
  {
   "cell_type": "code",
   "execution_count": 30,
   "id": "parental-remark",
   "metadata": {},
   "outputs": [
    {
     "name": "stdout",
     "output_type": "stream",
     "text": [
      "[1] 1 1 1 2 2 3\n"
     ]
    }
   ],
   "source": [
    "%%R\n",
    "rep(c(1, 2, 3), c(3, 2, 1))"
   ]
  },
  {
   "cell_type": "markdown",
   "id": "loaded-culture",
   "metadata": {},
   "source": [
    "`-` rep(x, each = k)는 x의 각 요소가 각각 k번 반복된 벡터"
   ]
  },
  {
   "cell_type": "code",
   "execution_count": 32,
   "id": "recreational-value",
   "metadata": {},
   "outputs": [
    {
     "name": "stdout",
     "output_type": "stream",
     "text": [
      "[1] 1 1 1 2 2 2\n"
     ]
    }
   ],
   "source": [
    "%%R\n",
    "rep(c(1, 2), each = 3)"
   ]
  },
  {
   "cell_type": "markdown",
   "id": "laughing-separate",
   "metadata": {},
   "source": [
    "## 필터링 \n",
    "`-` 조건에 부합하는 데이터 값만 추출"
   ]
  },
  {
   "cell_type": "code",
   "execution_count": 33,
   "id": "extensive-finnish",
   "metadata": {},
   "outputs": [
    {
     "name": "stdout",
     "output_type": "stream",
     "text": [
      "[1] 1 3 5 7 9\n"
     ]
    }
   ],
   "source": [
    "%%R\n",
    "x <- 1:10\n",
    "x[x %% 2 == 1]"
   ]
  },
  {
   "cell_type": "code",
   "execution_count": 35,
   "id": "mobile-start",
   "metadata": {},
   "outputs": [
    {
     "name": "stdout",
     "output_type": "stream",
     "text": [
      "[1]  2  4  6  8 10\n"
     ]
    }
   ],
   "source": [
    "%%R\n",
    "subset(x, x %% 2 == 0)"
   ]
  },
  {
   "cell_type": "markdown",
   "id": "brutal-australian",
   "metadata": {},
   "source": [
    "## ifelse() 함수 \n",
    "`-` ifelse(x, yes, no)는 x가 True이면 yes를 값으로 하고 False이면 no를 값으로 배출"
   ]
  },
  {
   "cell_type": "code",
   "execution_count": 36,
   "id": "pacific-natural",
   "metadata": {},
   "outputs": [
    {
     "name": "stdout",
     "output_type": "stream",
     "text": [
      "       x x1\n",
      " [1,]  1  2\n",
      " [2,]  2  2\n",
      " [3,]  3  6\n",
      " [4,]  4  4\n",
      " [5,]  5 10\n",
      " [6,]  6  6\n",
      " [7,]  7 14\n",
      " [8,]  8  8\n",
      " [9,]  9 18\n",
      "[10,] 10 10\n"
     ]
    }
   ],
   "source": [
    "%%R\n",
    "x <- 1:10\n",
    "x1 <- ifelse(x %% 2 == 0, x, 2*x)\n",
    "cbind(x, x1)"
   ]
  },
  {
   "cell_type": "markdown",
   "id": "identical-boston",
   "metadata": {},
   "source": [
    "## names() 함수 \n",
    "`-` names(x)는 벡터x의 개별 요소에 이름을 부여함"
   ]
  },
  {
   "cell_type": "code",
   "execution_count": 71,
   "id": "valid-longer",
   "metadata": {},
   "outputs": [
    {
     "name": "stdout",
     "output_type": "stream",
     "text": [
      "[1] 5 4 3 4 5 6\n"
     ]
    }
   ],
   "source": [
    "%%R\n",
    "era <- c(5, 4 ,3, 4 ,5, 6)\n",
    "era"
   ]
  },
  {
   "cell_type": "markdown",
   "id": "peripheral-myanmar",
   "metadata": {},
   "source": [
    "`-` paste()함수는 2개의 문자열 벡터를 sep인수로 붙인다"
   ]
  },
  {
   "cell_type": "code",
   "execution_count": 72,
   "id": "reasonable-macro",
   "metadata": {},
   "outputs": [
    {
     "name": "stdout",
     "output_type": "stream",
     "text": [
      "y-2001 y-2002 y-2003 y-2004 y-2005 y-2006 \n",
      "     5      4      3      4      5      6 \n"
     ]
    }
   ],
   "source": [
    "%%R\n",
    "names(era) <- paste(\"y\", 2001:2006, sep = \"-\")\n",
    "era"
   ]
  },
  {
   "cell_type": "markdown",
   "id": "composite-robin",
   "metadata": {},
   "source": [
    "# 3장 - 행렬(matrix) \n",
    "`-` $p$개의 길이 $n$인 벡터를 열에 배치함"
   ]
  },
  {
   "cell_type": "markdown",
   "id": "general-assistant",
   "metadata": {},
   "source": [
    "## 행렬 "
   ]
  },
  {
   "cell_type": "code",
   "execution_count": 37,
   "id": "different-broadcasting",
   "metadata": {},
   "outputs": [
    {
     "name": "stdout",
     "output_type": "stream",
     "text": [
      "           [,1]        [,2]       [,3]\n",
      "[1,] -0.5272115 -0.09766999  0.9157430\n",
      "[2,] -0.4910666  0.27630674 -0.4863826\n",
      "[3,] -0.7199871 -1.37864849 -0.1378880\n",
      "[4,] -0.2978141  1.21144373 -1.1352895\n",
      "[5,] -0.9412001 -1.05635910  1.0677189\n",
      "[6,] -0.4909131  0.92592424 -1.8697058\n"
     ]
    }
   ],
   "source": [
    "%%R\n",
    "n <- 100\n",
    "p <- 3\n",
    "x <- rnorm(n*p)\n",
    "A <- matrix(x, nrow = n, ncol = p)\n",
    "A[1:6, ]"
   ]
  },
  {
   "cell_type": "markdown",
   "id": "dangerous-fundamentals",
   "metadata": {},
   "source": [
    "`-` 콤마(,)앞은 행, 콤마(,)뒤는 열"
   ]
  },
  {
   "cell_type": "code",
   "execution_count": 38,
   "id": "logical-morris",
   "metadata": {},
   "outputs": [
    {
     "name": "stdout",
     "output_type": "stream",
     "text": [
      "           [,1]        [,2]\n",
      "[1,] -0.5272115 -0.09766999\n",
      "[2,] -0.4910666  0.27630674\n",
      "[3,] -0.7199871 -1.37864849\n",
      "[4,] -0.2978141  1.21144373\n",
      "[5,] -0.9412001 -1.05635910\n",
      "[6,] -0.4909131  0.92592424\n"
     ]
    }
   ],
   "source": [
    "%%R\n",
    "A[1:6, 1:2]"
   ]
  },
  {
   "cell_type": "markdown",
   "id": "cognitive-botswana",
   "metadata": {},
   "source": [
    "`-` 필터링을 통해 인덱싱도 가능"
   ]
  },
  {
   "cell_type": "code",
   "execution_count": 42,
   "id": "explicit-overview",
   "metadata": {},
   "outputs": [
    {
     "name": "stdout",
     "output_type": "stream",
     "text": [
      "              [,1]       [,2]       [,3]\n",
      " [1,] -1.632001082 0.95386709 0.34696994\n",
      " [2,] -0.388047387 0.75046872 0.61005479\n",
      " [3,] -1.325637032 0.85805657 0.48388600\n",
      " [4,]  1.027718630 1.93877622 0.04144039\n",
      " [5,] -0.926911907 0.57212123 1.66361085\n",
      " [6,]  2.120355231 0.25362934 0.64836355\n",
      " [7,]  1.038120371 0.01903657 0.04071902\n",
      " [8,] -0.973632914 0.35330337 0.35594054\n",
      " [9,]  1.799568590 1.98855528 0.50952846\n",
      "[10,]  0.633299053 1.03079130 0.23844919\n",
      "[11,] -0.178793903 0.66631102 1.11482316\n",
      "[12,]  1.307643075 0.14501150 0.41404295\n",
      "[13,]  0.005313813 2.02583488 0.33820766\n",
      "[14,] -0.280283865 1.04242405 1.33195196\n",
      "[15,]  0.270559357 0.05230981 0.35938639\n",
      "[16,] -1.485066480 0.41976340 0.59734787\n",
      "[17,] -0.076204339 0.97655368 1.99341983\n",
      "[18,]  2.316420281 0.05287762 0.27840240\n",
      "[19,] -0.661999001 0.28495938 1.43514281\n",
      "[20,] -0.713879760 0.15816804 0.71605743\n",
      "[21,] -0.095003851 1.13276296 0.74928887\n",
      "[22,]  0.087418924 1.66296778 0.47576952\n",
      "[23,] -1.055728878 0.56180370 1.26128539\n",
      "[24,]  1.153290080 0.27938929 0.58182072\n",
      "[25,]  1.348495993 0.30003159 1.17131650\n",
      "[26,] -0.815336296 0.74215461 0.03795627\n"
     ]
    }
   ],
   "source": [
    "%%R\n",
    "A[A[,3] > 0 & A[,2] > 0, ]"
   ]
  },
  {
   "cell_type": "markdown",
   "id": "processed-player",
   "metadata": {},
   "source": [
    "`-` t(A) 함수는 행렬 A의 전치행렬을 구해줌"
   ]
  },
  {
   "cell_type": "code",
   "execution_count": 43,
   "id": "realistic-timer",
   "metadata": {},
   "outputs": [
    {
     "name": "stdout",
     "output_type": "stream",
     "text": [
      "     [,1] [,2] [,3]\n",
      "[1,]    1    4    7\n",
      "[2,]    2    5    8\n",
      "[3,]    3    6    9\n"
     ]
    }
   ],
   "source": [
    "%%R\n",
    "B <- matrix(1:9, 3, 3)\n",
    "B"
   ]
  },
  {
   "cell_type": "code",
   "execution_count": 44,
   "id": "later-character",
   "metadata": {},
   "outputs": [
    {
     "name": "stdout",
     "output_type": "stream",
     "text": [
      "     [,1] [,2] [,3]\n",
      "[1,]    1    2    3\n",
      "[2,]    4    5    6\n",
      "[3,]    7    8    9\n"
     ]
    }
   ],
   "source": [
    "%%R\n",
    "t(B)"
   ]
  },
  {
   "cell_type": "markdown",
   "id": "mighty-testing",
   "metadata": {},
   "source": [
    "`-` solve()함수는 역행렬을 구해줌"
   ]
  },
  {
   "cell_type": "code",
   "execution_count": 49,
   "id": "solid-happiness",
   "metadata": {},
   "outputs": [
    {
     "name": "stdout",
     "output_type": "stream",
     "text": [
      "     [,1] [,2] [,3]\n",
      "[1,]   16    4    1\n",
      "[2,]    4    4    1\n",
      "[3,]    1    1    1\n"
     ]
    }
   ],
   "source": [
    "%%R\n",
    "C <- matrix(c(16 ,4, 1, 4, 4, 1, 1, 1, 1), 3, 3)\n",
    "C"
   ]
  },
  {
   "cell_type": "code",
   "execution_count": 50,
   "id": "incident-kitty",
   "metadata": {},
   "outputs": [
    {
     "name": "stdout",
     "output_type": "stream",
     "text": [
      "            [,1]        [,2]       [,3]\n",
      "[1,]  0.08333333 -0.08333333  0.0000000\n",
      "[2,] -0.08333333  0.41666667 -0.3333333\n",
      "[3,]  0.00000000 -0.33333333  1.3333333\n"
     ]
    }
   ],
   "source": [
    "%%R\n",
    "solve(C)"
   ]
  },
  {
   "cell_type": "markdown",
   "id": "digital-fifty",
   "metadata": {},
   "source": [
    "`-` %*%는 행렬곱"
   ]
  },
  {
   "cell_type": "code",
   "execution_count": 48,
   "id": "filled-reset",
   "metadata": {},
   "outputs": [
    {
     "name": "stdout",
     "output_type": "stream",
     "text": [
      "             [,1]          [,2]          [,3]\n",
      "[1,] 1.000000e+00 -5.551115e-17 -1.387779e-17\n",
      "[2,] 1.665335e-16  1.000000e+00  5.551115e-17\n",
      "[3,] 0.000000e+00  0.000000e+00  1.000000e+00\n"
     ]
    }
   ],
   "source": [
    "%%R\n",
    "solve(C) %*% C"
   ]
  },
  {
   "cell_type": "markdown",
   "id": "adverse-mailing",
   "metadata": {},
   "source": [
    "`-` 참고로 $AA^{-1} = I$\n",
    "\n",
    "`-` $I$는 [단위행렬](https://ko.wikipedia.org/wiki/%EB%8B%A8%EC%9C%84%ED%96%89%EB%A0%AC)"
   ]
  },
  {
   "cell_type": "markdown",
   "id": "ranging-consultation",
   "metadata": {},
   "source": [
    "## apply() 함수 "
   ]
  },
  {
   "cell_type": "markdown",
   "id": "portable-needle",
   "metadata": {},
   "source": [
    "`-` apply(A, 1 or 2, f) ---> 행렬A의 행(1) or 열(2)에 함수 f를 적용 \n",
    "\n",
    "`-` c(1, 2)는 행과 열에 적용 ---> 각 원소"
   ]
  },
  {
   "cell_type": "code",
   "execution_count": 104,
   "id": "surprising-header",
   "metadata": {},
   "outputs": [
    {
     "name": "stdout",
     "output_type": "stream",
     "text": [
      "     [,1] [,2] [,3] [,4]\n",
      "[1,]    1    4    7   10\n",
      "[2,]    2    5    8   11\n",
      "[3,]    3    6    9   12\n"
     ]
    }
   ],
   "source": [
    "%%R\n",
    "M <- matrix(1:12, 3, 4)\n",
    "M"
   ]
  },
  {
   "cell_type": "markdown",
   "id": "ranging-manchester",
   "metadata": {},
   "source": [
    "`-` apply에서 옵션을 1(행)로 하니 전치된 행렬을 반환함"
   ]
  },
  {
   "cell_type": "code",
   "execution_count": 113,
   "id": "popular-brook",
   "metadata": {},
   "outputs": [
    {
     "name": "stdout",
     "output_type": "stream",
     "text": [
      "     [,1] [,2] [,3]\n",
      "[1,]   -2   -1    0\n",
      "[2,]   -2   -1    0\n",
      "[3,]   -2   -1    0\n",
      "[4,]   -2   -1    0\n"
     ]
    }
   ],
   "source": [
    "%%R\n",
    "max_ = apply(M, 2, max)\n",
    "apply(M, 1, \"-\", max_)"
   ]
  },
  {
   "cell_type": "code",
   "execution_count": 114,
   "id": "proved-hospital",
   "metadata": {},
   "outputs": [
    {
     "name": "stdout",
     "output_type": "stream",
     "text": [
      "     [,1] [,2] [,3] [,4]\n",
      "[1,]   -2   -2   -2   -2\n",
      "[2,]   -1   -1   -1   -1\n",
      "[3,]    0    0    0    0\n"
     ]
    }
   ],
   "source": [
    "%%R\n",
    "max_ = apply(M, 2, max)\n",
    "t(apply(M, 1, \"-\", max_))"
   ]
  },
  {
   "cell_type": "markdown",
   "id": "blind-green",
   "metadata": {},
   "source": [
    "`-` apply에서 옵션을 2(열)로 하니 문제 없어보임"
   ]
  },
  {
   "cell_type": "code",
   "execution_count": 111,
   "id": "prescribed-forwarding",
   "metadata": {},
   "outputs": [
    {
     "name": "stdout",
     "output_type": "stream",
     "text": [
      "     [,1] [,2] [,3] [,4]\n",
      "[1,]   -9   -6   -3    0\n",
      "[2,]   -9   -6   -3    0\n",
      "[3,]   -9   -6   -3    0\n"
     ]
    }
   ],
   "source": [
    "%%R\n",
    "max_ = apply(M, 1, max)\n",
    "apply(M, 2, \"-\", max_)"
   ]
  },
  {
   "cell_type": "markdown",
   "id": "conservative-klein",
   "metadata": {},
   "source": [
    "`-` 옵션을 c(1, 2)로 하니 각 원소에서 -1을 수행함"
   ]
  },
  {
   "cell_type": "code",
   "execution_count": 96,
   "id": "nervous-consideration",
   "metadata": {},
   "outputs": [
    {
     "name": "stdout",
     "output_type": "stream",
     "text": [
      "     [,1] [,2] [,3] [,4]\n",
      "[1,]    0    3    6    9\n",
      "[2,]    1    4    7   10\n",
      "[3,]    2    5    8   11\n"
     ]
    }
   ],
   "source": [
    "%%R\n",
    "apply(M, 1:2, \"-\", 1)"
   ]
  },
  {
   "cell_type": "markdown",
   "id": "opposite-absorption",
   "metadata": {},
   "source": [
    "`-` 행렬의 각 열에 대해 최소값 0과 최대값 1이 되도록 변환"
   ]
  },
  {
   "cell_type": "code",
   "execution_count": 128,
   "id": "expressed-chorus",
   "metadata": {},
   "outputs": [
    {
     "name": "stdout",
     "output_type": "stream",
     "text": [
      "            [,1]        [,2]       [,3]        [,4]\n",
      "[1,]  0.39140070  0.41656975  0.3387848  0.15505716\n",
      "[2,]  1.82931560 -1.25805693 -1.3580300  0.08618929\n",
      "[3,] -0.07224563 -0.01837199  1.1249997  0.16007225\n",
      "[4,]  1.05756759 -0.33926353  0.8730712 -0.51535640\n",
      "[5,]  1.35992572  0.06295887  0.2480695 -2.54631691\n"
     ]
    }
   ],
   "source": [
    "%%R\n",
    "n <- 5\n",
    "p <- 4\n",
    "M <- matrix(rnorm(n*p), n, p)\n",
    "M"
   ]
  },
  {
   "cell_type": "code",
   "execution_count": 139,
   "id": "distant-double",
   "metadata": {},
   "outputs": [
    {
     "name": "stdout",
     "output_type": "stream",
     "text": [
      "          [,1]      [,2]      [,3]      [,4]\n",
      "[1,] 0.2438240 1.0000000 0.6833647 0.9981469\n",
      "[2,] 1.0000000 0.0000000 0.0000000 0.9727005\n",
      "[3,] 0.0000000 0.7402754 1.0000000 1.0000000\n",
      "[4,] 0.5941503 0.5486557 0.8985399 0.7504318\n",
      "[5,] 0.7531555 0.7888420 0.6468306 0.0000000\n"
     ]
    }
   ],
   "source": [
    "%%R\n",
    "min_ <- apply(M, 2, min)\n",
    "max_ <- apply(M, 2, max)\n",
    "M.1 <- t(apply(M, 1, \"-\", min_))\n",
    "M.2 <- t(apply(M.1, 1, \"/\", max_-min_))\n",
    "M.2"
   ]
  },
  {
   "cell_type": "markdown",
   "id": "documented-weight",
   "metadata": {},
   "source": [
    "## rownames()와 colnames() 함수\n",
    "`-` 행렬의 행과 열에 이름을 붙임"
   ]
  },
  {
   "cell_type": "code",
   "execution_count": 141,
   "id": "characteristic-india",
   "metadata": {},
   "outputs": [
    {
     "name": "stdout",
     "output_type": "stream",
     "text": [
      "    math engl science arts\n",
      "S1    48   63      48   42\n",
      "S2    40   46      45   60\n",
      "S3    48   47      65   54\n",
      "S4    29   53      56   35\n",
      "S5    42   63      42   46\n",
      "S6    30   67      57   55\n",
      "S7    59   44      41   47\n",
      "S8    44   48      40   60\n",
      "S9    45   67      43   58\n",
      "S10   66   54      72   73\n"
     ]
    }
   ],
   "source": [
    "%%R\n",
    "n <- 10\n",
    "x <- matrix(round(rnorm(n*4, 50, 10)), n, 4) ## 평균이 50, 표준편차가 10인 정규분포에서 난수 40개 추출\n",
    "rownames(x) <- paste(\"S\", 1:n, sep = \"\")\n",
    "colnames(x) <- c(\"math\", \"engl\", \"science\", \"arts\")\n",
    "x"
   ]
  },
  {
   "cell_type": "markdown",
   "id": "subject-pierre",
   "metadata": {},
   "source": [
    "# 4장 - 리스트(list) \n",
    "`-` R에서 가장 일반적인 데이터 형태"
   ]
  },
  {
   "cell_type": "code",
   "execution_count": 27,
   "id": "prostate-looking",
   "metadata": {},
   "outputs": [
    {
     "name": "stdout",
     "output_type": "stream",
     "text": [
      "$leaders\n",
      "[1] \"gang\" \"iu\"  \n",
      "\n",
      "$assisstants\n",
      "[1] \"kang\"\n",
      "\n"
     ]
    }
   ],
   "source": [
    "%%R\n",
    "members <- list(leaders = c(\"gang\", \"iu\"), assisstants = \"kang\")\n",
    "members"
   ]
  },
  {
   "cell_type": "markdown",
   "id": "naval-cornwall",
   "metadata": {},
   "source": [
    "`-` class(X) 함수는 X의 type을 알려줌"
   ]
  },
  {
   "cell_type": "code",
   "execution_count": 28,
   "id": "corresponding-diamond",
   "metadata": {},
   "outputs": [
    {
     "name": "stdout",
     "output_type": "stream",
     "text": [
      "[1] \"list\"\n"
     ]
    }
   ],
   "source": [
    "%%R\n",
    "class(members)"
   ]
  },
  {
   "cell_type": "markdown",
   "id": "helpful-angola",
   "metadata": {},
   "source": [
    "`-` names()함수로 요소의 라벨을 확인 + 변경 가능"
   ]
  },
  {
   "cell_type": "code",
   "execution_count": 29,
   "id": "incomplete-relative",
   "metadata": {},
   "outputs": [
    {
     "name": "stdout",
     "output_type": "stream",
     "text": [
      "[1] \"leaders\"     \"assisstants\"\n",
      "[1] \"leaders\" \"workers\"\n"
     ]
    }
   ],
   "source": [
    "%%R\n",
    "print(names(members))\n",
    "names(members)[2] <- \"workers\"\n",
    "print(names(members))"
   ]
  },
  {
   "cell_type": "markdown",
   "id": "appointed-publisher",
   "metadata": {},
   "source": [
    "## 리스트에 접근하기 "
   ]
  },
  {
   "cell_type": "markdown",
   "id": "lucky-electron",
   "metadata": {},
   "source": [
    "`-` `[[  ]]` 사용"
   ]
  },
  {
   "cell_type": "code",
   "execution_count": 30,
   "id": "baking-spouse",
   "metadata": {},
   "outputs": [
    {
     "name": "stdout",
     "output_type": "stream",
     "text": [
      "[1] \"gang\" \"iu\"  \n"
     ]
    }
   ],
   "source": [
    "%%R\n",
    "members[[1]]"
   ]
  },
  {
   "cell_type": "markdown",
   "id": "sublime-treasure",
   "metadata": {},
   "source": [
    "`-` `[ ]`은 sublist\n",
    "\n",
    "`-` `[[  ]]`은 벡터이고 `[ ]`은 리스트임"
   ]
  },
  {
   "cell_type": "code",
   "execution_count": 31,
   "id": "indie-wrist",
   "metadata": {},
   "outputs": [
    {
     "name": "stdout",
     "output_type": "stream",
     "text": [
      "$leaders\n",
      "[1] \"gang\" \"iu\"  \n",
      "\n"
     ]
    }
   ],
   "source": [
    "%%R\n",
    "members[1]"
   ]
  },
  {
   "cell_type": "markdown",
   "id": "qualified-restriction",
   "metadata": {},
   "source": [
    "`-` 요소 이름 사용"
   ]
  },
  {
   "cell_type": "code",
   "execution_count": 33,
   "id": "promotional-spoke",
   "metadata": {},
   "outputs": [
    {
     "name": "stdout",
     "output_type": "stream",
     "text": [
      "[1] \"gang\" \"iu\"  \n"
     ]
    }
   ],
   "source": [
    "%%R\n",
    "members[[\"leaders\"]]"
   ]
  },
  {
   "cell_type": "markdown",
   "id": "accessible-opportunity",
   "metadata": {},
   "source": [
    "`-` `$` 기호 사용 ---> 개인적으로 제일 편함"
   ]
  },
  {
   "cell_type": "code",
   "execution_count": 35,
   "id": "black-format",
   "metadata": {},
   "outputs": [
    {
     "name": "stdout",
     "output_type": "stream",
     "text": [
      "[1] \"gang\" \"iu\"  \n"
     ]
    }
   ],
   "source": [
    "%%R\n",
    "members$leaders"
   ]
  },
  {
   "cell_type": "markdown",
   "id": "essential-threat",
   "metadata": {},
   "source": [
    "`-` 리스트 내 자료 값 변경도 가능"
   ]
  },
  {
   "cell_type": "code",
   "execution_count": 36,
   "id": "naval-bradley",
   "metadata": {},
   "outputs": [
    {
     "name": "stdout",
     "output_type": "stream",
     "text": [
      "$leaders\n",
      "[1] \"park\" \"iu\"  \n",
      "\n",
      "$workers\n",
      "[1] \"kang\"\n",
      "\n"
     ]
    }
   ],
   "source": [
    "%%R\n",
    "members$leaders[1] <- \"park\"\n",
    "members"
   ]
  },
  {
   "cell_type": "markdown",
   "id": "floating-victoria",
   "metadata": {},
   "source": [
    "## lapply()와 sapply() 함수 \n",
    "`-` matrix에서 apply() 함수를 사용하듯이 리스트에선 `lapply()`와 `sapply()` 함수를 사용\n",
    "\n",
    "`-` `lapply(list, fun)`는 list 내 요소들에 함수 fun을 적용하여 결과를 `리스트`로 출력 ---> `sapply()` 는 `벡터`로 출력"
   ]
  },
  {
   "cell_type": "code",
   "execution_count": 37,
   "id": "sharp-grenada",
   "metadata": {},
   "outputs": [
    {
     "name": "stdout",
     "output_type": "stream",
     "text": [
      "$leaders\n",
      "[1] 250 200\n",
      "\n",
      "$assistant\n",
      "[1] 100\n",
      "\n",
      "$members\n",
      "[1] 300 200 180 120 100\n",
      "\n"
     ]
    }
   ],
   "source": [
    "%%R\n",
    "salaries <- list(leaders = c(250, 200), assistant = 100, members = c(300, 200, 180, 120 ,100))\n",
    "salaries"
   ]
  },
  {
   "cell_type": "markdown",
   "id": "boxed-virginia",
   "metadata": {},
   "source": [
    "`-` lapply() 사용"
   ]
  },
  {
   "cell_type": "code",
   "execution_count": 38,
   "id": "weighted-mortality",
   "metadata": {},
   "outputs": [
    {
     "name": "stdout",
     "output_type": "stream",
     "text": [
      "$leaders\n",
      "[1] 225\n",
      "\n",
      "$assistant\n",
      "[1] 100\n",
      "\n",
      "$members\n",
      "[1] 180\n",
      "\n"
     ]
    }
   ],
   "source": [
    "%%R\n",
    "lapply(salaries, mean)"
   ]
  },
  {
   "cell_type": "markdown",
   "id": "disturbed-subscription",
   "metadata": {},
   "source": [
    "`-` sapply() 사용\n",
    "\n",
    "`-` 벡터로 출력이 불가능할 때는 lapply() 처럼 list로 출력함"
   ]
  },
  {
   "cell_type": "code",
   "execution_count": 39,
   "id": "twenty-eleven",
   "metadata": {},
   "outputs": [
    {
     "name": "stdout",
     "output_type": "stream",
     "text": [
      "  leaders assistant   members \n",
      "      225       100       180 \n"
     ]
    }
   ],
   "source": [
    "%%R\n",
    "sapply(salaries, mean)"
   ]
  },
  {
   "cell_type": "markdown",
   "id": "friendly-residence",
   "metadata": {},
   "source": [
    "# 5장 - 데이터 프레임(data frame) \n",
    "`-` matrix는 요소가 숫자만 가능했다면 data frame은 문자열과 같은 다른 type도 가능함\n",
    "\n",
    "`-` 데이터 프레임은 리스트의 일종\n",
    "\n",
    "`-` 리스트는 각 변수마다 길이가 달라도 되지만 데이터 프레임은 각 변수마다 길이가 같아야 함(열의 길이가 동일)"
   ]
  },
  {
   "cell_type": "code",
   "execution_count": 26,
   "id": "induced-function",
   "metadata": {},
   "outputs": [
    {
     "name": "stdout",
     "output_type": "stream",
     "text": [
      "   course.id mid final\n",
      "1          1   8    11\n",
      "2          2  22    24\n",
      "3          3  25    31\n",
      "4          4  25    13\n",
      "5          5  21    34\n",
      "6          6  12    26\n",
      "7          7  12    NA\n",
      "8          8  29    36\n",
      "9          9  40    34\n",
      "10        10  25    38\n"
     ]
    }
   ],
   "source": [
    "%%R\n",
    "course.id <- c(1, 2, 3, 4 ,5, 6 ,7, 8, 9 ,10)\n",
    "mid <- c(8, 22, 25, 25 ,21, 12, 12, 29, 40, 25)\n",
    "final <- c(11, 24, 31, 13 ,34 ,26, NA ,36, 34 ,38)\n",
    "exams <- data.frame(course.id, mid, final)\n",
    "exams"
   ]
  },
  {
   "cell_type": "code",
   "execution_count": 5,
   "id": "subject-fiber",
   "metadata": {},
   "outputs": [
    {
     "name": "stdout",
     "output_type": "stream",
     "text": [
      "[1] TRUE\n"
     ]
    }
   ],
   "source": [
    "%%R\n",
    "is.list(exams)"
   ]
  },
  {
   "cell_type": "code",
   "execution_count": 7,
   "id": "white-poverty",
   "metadata": {},
   "outputs": [
    {
     "name": "stdout",
     "output_type": "stream",
     "text": [
      "[1] \"course.id\" \"mid\"       \"final\"    \n"
     ]
    }
   ],
   "source": [
    "%%R\n",
    "colnames(exams)"
   ]
  },
  {
   "cell_type": "code",
   "execution_count": 8,
   "id": "different-geography",
   "metadata": {},
   "outputs": [
    {
     "name": "stdout",
     "output_type": "stream",
     "text": [
      "[1] \"course.id\" \"mid\"       \"final\"    \n"
     ]
    }
   ],
   "source": [
    "%%R\n",
    "names(exams)"
   ]
  },
  {
   "cell_type": "code",
   "execution_count": 9,
   "id": "engaged-nylon",
   "metadata": {},
   "outputs": [
    {
     "name": "stdout",
     "output_type": "stream",
     "text": [
      "[1] 3\n"
     ]
    }
   ],
   "source": [
    "%%R\n",
    "length(exams)"
   ]
  },
  {
   "cell_type": "markdown",
   "id": "sought-origin",
   "metadata": {},
   "source": [
    "`-` `[row, column]`으로 인덱싱"
   ]
  },
  {
   "cell_type": "code",
   "execution_count": 11,
   "id": "covered-venice",
   "metadata": {},
   "outputs": [
    {
     "name": "stdout",
     "output_type": "stream",
     "text": [
      "   course.id mid final\n",
      "2          2  22    24\n",
      "3          3  25    31\n",
      "4          4  25    13\n",
      "5          5  21    34\n",
      "8          8  29    36\n",
      "9          9  40    34\n",
      "10        10  25    38\n"
     ]
    }
   ],
   "source": [
    "%%R\n",
    "exams[exams$mid > 20, ]"
   ]
  },
  {
   "cell_type": "code",
   "execution_count": 19,
   "id": "flying-diploma",
   "metadata": {},
   "outputs": [
    {
     "name": "stdout",
     "output_type": "stream",
     "text": [
      "[1] 24 31 13 34 36 34 38\n"
     ]
    }
   ],
   "source": [
    "%%R\n",
    "exams[exams$mid > 20, 'final'] ## exams[exams$mid > 20, 3] 과 동일함"
   ]
  },
  {
   "cell_type": "markdown",
   "id": "integrated-sherman",
   "metadata": {},
   "source": [
    "`-` 데이터 프레임의 각 열은 수치 벡터이므로 연산 가능"
   ]
  },
  {
   "cell_type": "code",
   "execution_count": 21,
   "id": "heated-ballot",
   "metadata": {},
   "outputs": [
    {
     "name": "stdout",
     "output_type": "stream",
     "text": [
      "[1] 21.9\n"
     ]
    }
   ],
   "source": [
    "%%R\n",
    "mean(exams[, \"mid\"])"
   ]
  },
  {
   "cell_type": "code",
   "execution_count": 22,
   "id": "meaningful-elephant",
   "metadata": {},
   "outputs": [
    {
     "name": "stdout",
     "output_type": "stream",
     "text": [
      "[1] NA\n"
     ]
    }
   ],
   "source": [
    "%%R\n",
    "mean(exams$final)"
   ]
  },
  {
   "cell_type": "markdown",
   "id": "composed-brown",
   "metadata": {},
   "source": [
    "`-` 값이 NA로 나옴 ---> 7번 학생이 기말시험을 결시함\n",
    "\n",
    "`-` 그럼 어떻게 평균을 구하지? ---> `na.rm = T` 옵션을 통해 NA를 제외한 데이터만 사용할 수 있음"
   ]
  },
  {
   "cell_type": "code",
   "execution_count": 23,
   "id": "interpreted-investigation",
   "metadata": {},
   "outputs": [
    {
     "name": "stdout",
     "output_type": "stream",
     "text": [
      "[1] 27.44444\n"
     ]
    }
   ],
   "source": [
    "%%R\n",
    "mean(exams$final, na.rm = T)"
   ]
  },
  {
   "cell_type": "markdown",
   "id": "arranged-artist",
   "metadata": {},
   "source": [
    "`-` 만약 시험을 결시한 경우 0점 처리 한다면? ---> `is.na()` 함수를 통해 NA인 경우 True를 아닌 경우 False를 생성하여 처리 가능"
   ]
  },
  {
   "cell_type": "code",
   "execution_count": 27,
   "id": "removable-snowboard",
   "metadata": {},
   "outputs": [
    {
     "name": "stdout",
     "output_type": "stream",
     "text": [
      " [1] FALSE FALSE FALSE FALSE FALSE FALSE  TRUE FALSE FALSE FALSE\n"
     ]
    }
   ],
   "source": [
    "%%R\n",
    "is.na(exams$final)"
   ]
  },
  {
   "cell_type": "code",
   "execution_count": 28,
   "id": "equal-scholarship",
   "metadata": {},
   "outputs": [
    {
     "name": "stdout",
     "output_type": "stream",
     "text": [
      "   course.id mid final\n",
      "1          1   8    11\n",
      "2          2  22    24\n",
      "3          3  25    31\n",
      "4          4  25    13\n",
      "5          5  21    34\n",
      "6          6  12    26\n",
      "7          7  12     0\n",
      "8          8  29    36\n",
      "9          9  40    34\n",
      "10        10  25    38\n"
     ]
    }
   ],
   "source": [
    "%%R\n",
    "exams$final[is.na(exams$final)] <- 0  ## is.na가 True인 경우만 0으로 변경\n",
    "exams"
   ]
  },
  {
   "cell_type": "code",
   "execution_count": 29,
   "id": "surface-prague",
   "metadata": {},
   "outputs": [
    {
     "name": "stdout",
     "output_type": "stream",
     "text": [
      "[1] 24.7\n"
     ]
    }
   ],
   "source": [
    "%%R\n",
    "mean(exams$final)"
   ]
  },
  {
   "cell_type": "markdown",
   "id": "essential-alarm",
   "metadata": {},
   "source": [
    "## 두 데이터 프레임의 병합 "
   ]
  },
  {
   "cell_type": "markdown",
   "id": "opening-composer",
   "metadata": {},
   "source": [
    "`-` exams 변수는 중간 기말 성적이 기록되어 있음\n",
    "\n",
    "`-` 새로운 변수 book은 과제와 프로젝트 점수가 student_name의 순서로 정렬되어 있음\n",
    "\n",
    "`-` 이 둘을 합쳐보자"
   ]
  },
  {
   "cell_type": "code",
   "execution_count": 30,
   "id": "developed-wiring",
   "metadata": {},
   "outputs": [
    {
     "name": "stdout",
     "output_type": "stream",
     "text": [
      "   student_name homework project course.id\n",
      "1             a       22      NA         8\n",
      "2             b       34       7        10\n",
      "3             c       31      NA         5\n",
      "4             d       24      NA         1\n",
      "5             e       37      17         4\n",
      "6             f       36      10         2\n",
      "7             g       37       8         3\n",
      "8             h       28      NA         9\n",
      "9             i       37       4         7\n",
      "10            j       34      NA         6\n"
     ]
    }
   ],
   "source": [
    "%%R\n",
    "student_name <- c('a', 'b', 'c', 'd', 'e', 'f', 'g', 'h', 'i', 'j')\n",
    "homework <- c(22, 34, 31, 24, 37, 36, 37, 28, 37, 34)\n",
    "project <- c(NA, 7, NA, NA, 17 ,10, 8, NA ,4, NA)\n",
    "course.id <- c(8, 10, 5, 1, 4, 2, 3 ,9 ,7 ,6)\n",
    "book <- data.frame(student_name, homework, project, course.id)\n",
    "book"
   ]
  },
  {
   "cell_type": "markdown",
   "id": "sustainable-sending",
   "metadata": {},
   "source": [
    "`-` NA는 자료의 수치 연산을 불가능하게 하므로 앞서 했던것처럼 is.na()를 통해 0점 처리하자"
   ]
  },
  {
   "cell_type": "code",
   "execution_count": 31,
   "id": "proud-operator",
   "metadata": {},
   "outputs": [
    {
     "name": "stdout",
     "output_type": "stream",
     "text": [
      "   student_name homework project course.id\n",
      "1             a       22       0         8\n",
      "2             b       34       7        10\n",
      "3             c       31       0         5\n",
      "4             d       24       0         1\n",
      "5             e       37      17         4\n",
      "6             f       36      10         2\n",
      "7             g       37       8         3\n",
      "8             h       28       0         9\n",
      "9             i       37       4         7\n",
      "10            j       34       0         6\n"
     ]
    }
   ],
   "source": [
    "%%R\n",
    "book$project[is.na(book$project)] <- 0\n",
    "book"
   ]
  },
  {
   "cell_type": "markdown",
   "id": "juvenile-buddy",
   "metadata": {},
   "source": [
    "`-` 2개의 데이터 프레임을 통합하고자 할 때 확인할 것은 각 데이터 프레임에서 개체들의 정렬순서"
   ]
  },
  {
   "cell_type": "markdown",
   "id": "turkish-darkness",
   "metadata": {},
   "source": [
    "`1.` 2개의 프레임에서 순서가 같은 경우 열 묶음(cbind)를 한다 ---> cbind(exams, book)\n",
    "\n",
    "`-` 하지만 course.id의 순서가 다르므로 불가능"
   ]
  },
  {
   "cell_type": "markdown",
   "id": "civil-handbook",
   "metadata": {},
   "source": [
    "`2.` 2개의 프레임에서 그 순서가 다른 경우 `공통 개체 식별자(key)`를 찾아 정의 ---> `merge()` 함수가 key 변수를 찾아줌  "
   ]
  },
  {
   "cell_type": "code",
   "execution_count": 35,
   "id": "sudden-polish",
   "metadata": {},
   "outputs": [
    {
     "name": "stdout",
     "output_type": "stream",
     "text": [
      "   course.id mid final student_name homework project\n",
      "1          1   8    11            d       24       0\n",
      "2          2  22    24            f       36      10\n",
      "3          3  25    31            g       37       8\n",
      "4          4  25    13            e       37      17\n",
      "5          5  21    34            c       31       0\n",
      "6          6  12    26            j       34       0\n",
      "7          7  12     0            i       37       4\n",
      "8          8  29    36            a       22       0\n",
      "9          9  40    34            h       28       0\n",
      "10        10  25    38            b       34       7\n"
     ]
    }
   ],
   "source": [
    "%%R\n",
    "class_record <- merge(exams, book, by = 'course.id')\n",
    "class_record"
   ]
  },
  {
   "cell_type": "markdown",
   "id": "cubic-anchor",
   "metadata": {},
   "source": [
    "`-` 위와 같이 key 변수의 이름(위에서는 course.id)이 두 데이터 프레임에서 동일한 경우 `by`를 사용 ---> 그렇지 않은 경우에는 `by.x`와 `by.y`를 사용"
   ]
  },
  {
   "cell_type": "markdown",
   "id": "persistent-journal",
   "metadata": {},
   "source": [
    "`-` 학생들의 총 점수 합계를 구하여 데이터 프레임에 새 변수로 추가해보자"
   ]
  },
  {
   "cell_type": "code",
   "execution_count": 40,
   "id": "affecting-color",
   "metadata": {},
   "outputs": [
    {
     "name": "stdout",
     "output_type": "stream",
     "text": [
      "   course.id mid final student_name homework project total\n",
      "1          1   8    11            d       24       0    43\n",
      "2          2  22    24            f       36      10    92\n",
      "3          3  25    31            g       37       8   101\n",
      "4          4  25    13            e       37      17    92\n",
      "5          5  21    34            c       31       0    86\n",
      "6          6  12    26            j       34       0    72\n",
      "7          7  12     0            i       37       4    53\n",
      "8          8  29    36            a       22       0    87\n",
      "9          9  40    34            h       28       0   102\n",
      "10        10  25    38            b       34       7   104\n"
     ]
    }
   ],
   "source": [
    "%%R\n",
    "class_record$total <- apply(class_record[ ,c(2, 3, 5, 6)], 1, sum)\n",
    "class_record"
   ]
  },
  {
   "cell_type": "markdown",
   "id": "impressive-frank",
   "metadata": {},
   "source": [
    "# 6장 - 인자와 데이터 요약(factors and summaries) \n",
    "`-` R에서 `factor`는 범주형 변수(벡터) 또는 비연속적 변수(벡터)를 지칭  "
   ]
  },
  {
   "cell_type": "markdown",
   "id": "conscious-somalia",
   "metadata": {},
   "source": [
    "## 인자와 테이블 "
   ]
  },
  {
   "cell_type": "code",
   "execution_count": 47,
   "id": "official-butler",
   "metadata": {},
   "outputs": [],
   "source": [
    "%%R\n",
    "set.seed(1) ## 시드 넘버 설정\n",
    "alpha <- sample(c(\"A\", \"B\", \"C\"), 25, replace = T) ## 'A', 'B', 'C' 중에서 무작위로 25개를 중복을 허용하여 뽑는다\n",
    "f <- factor(alpha) ## alpha를 범주형 변수로 바꿈"
   ]
  },
  {
   "cell_type": "code",
   "execution_count": 48,
   "id": "authentic-submission",
   "metadata": {},
   "outputs": [
    {
     "name": "stdout",
     "output_type": "stream",
     "text": [
      " [1] \"A\" \"C\" \"A\" \"B\" \"A\" \"C\" \"C\" \"B\" \"B\" \"C\" \"C\" \"A\" \"A\" \"A\" \"B\" \"B\" \"B\" \"B\" \"C\"\n",
      "[20] \"A\" \"C\" \"A\" \"A\" \"A\" \"A\"\n"
     ]
    }
   ],
   "source": [
    "%%R\n",
    "alpha"
   ]
  },
  {
   "cell_type": "code",
   "execution_count": 49,
   "id": "silent-jewel",
   "metadata": {},
   "outputs": [
    {
     "name": "stdout",
     "output_type": "stream",
     "text": [
      " [1] A C A B A C C B B C C A A A B B B B C A C A A A A\n",
      "Levels: A B C\n"
     ]
    }
   ],
   "source": [
    "%%R\n",
    "f"
   ]
  },
  {
   "cell_type": "markdown",
   "id": "appropriate-render",
   "metadata": {},
   "source": [
    "`-` 문자열인 alpha와 인자 벡터인 f가 같아 보이지만 다름\n",
    "\n",
    "`-` factor는 Levels이 존재하여 데이터 분류에 용이함\n",
    "\n",
    "`-` `str()` 함수는 데이터를 요약하여 보여줌"
   ]
  },
  {
   "cell_type": "code",
   "execution_count": 8,
   "id": "legitimate-anatomy",
   "metadata": {},
   "outputs": [
    {
     "name": "stdout",
     "output_type": "stream",
     "text": [
      "'data.frame':\t25 obs. of  2 variables:\n",
      " $ f: Factor w/ 3 levels \"A\",\"B\",\"C\": 1 3 1 2 1 3 3 2 2 3 ...\n",
      " $ g: Factor w/ 5 levels \"1\",\"2\",\"3\",\"4\",..: 2 1 3 3 4 3 1 4 5 1 ...\n"
     ]
    }
   ],
   "source": [
    "%%R\n",
    "z <- sample(1:5, 25, replace = T)\n",
    "g <- factor(z)\n",
    "str(data.frame(f = f, g = g))"
   ]
  },
  {
   "cell_type": "markdown",
   "id": "confident-stopping",
   "metadata": {},
   "source": [
    "`-` table()은 빈도표를 만듦\n",
    "\n",
    "`-` addmargins()는 빈도표의 주변 합을 테이블에 추가함"
   ]
  },
  {
   "cell_type": "code",
   "execution_count": 11,
   "id": "appropriate-thickness",
   "metadata": {},
   "outputs": [
    {
     "name": "stdout",
     "output_type": "stream",
     "text": [
      "f\n",
      " A  B  C \n",
      "11  7  7 \n"
     ]
    }
   ],
   "source": [
    "%%R\n",
    "table(f)"
   ]
  },
  {
   "cell_type": "code",
   "execution_count": 17,
   "id": "significant-embassy",
   "metadata": {},
   "outputs": [
    {
     "name": "stdout",
     "output_type": "stream",
     "text": [
      "   g\n",
      "f   1 2 3 4 5\n",
      "  A 2 2 2 2 3\n",
      "  B 0 0 1 4 2\n",
      "  C 5 0 1 0 1\n"
     ]
    }
   ],
   "source": [
    "%%R\n",
    "table(f, g) ## f와 g의 인덱스를 보고 만듦 ex) f[x] = 'A'이고 g[x] = 3이라면 ('A', 3)위치의 값을 +1하는 식으로 만듦"
   ]
  },
  {
   "cell_type": "code",
   "execution_count": 14,
   "id": "individual-colorado",
   "metadata": {},
   "outputs": [
    {
     "name": "stdout",
     "output_type": "stream",
     "text": [
      "f\n",
      "  A   B   C Sum \n",
      " 11   7   7  25 \n"
     ]
    }
   ],
   "source": [
    "%%R\n",
    "addmargins(table(f))"
   ]
  },
  {
   "cell_type": "code",
   "execution_count": 13,
   "id": "honest-penalty",
   "metadata": {},
   "outputs": [
    {
     "name": "stdout",
     "output_type": "stream",
     "text": [
      "     g\n",
      "f      1  2  3  4  5 Sum\n",
      "  A    2  2  2  2  3  11\n",
      "  B    0  0  1  4  2   7\n",
      "  C    5  0  1  0  1   7\n",
      "  Sum  7  2  4  6  6  25\n"
     ]
    }
   ],
   "source": [
    "%%R\n",
    "addmargins(table(f, g))"
   ]
  },
  {
   "cell_type": "markdown",
   "id": "greek-apartment",
   "metadata": {},
   "source": [
    "## tapply()와 aggregate()로 데이터 요약"
   ]
  },
  {
   "cell_type": "markdown",
   "id": "strong-investigation",
   "metadata": {},
   "source": [
    "`-` `tapply(x, f, fun)`는 x를 f의 수준 별로 쪼개서 fun을 적용함"
   ]
  },
  {
   "cell_type": "code",
   "execution_count": 18,
   "id": "korean-checkout",
   "metadata": {},
   "outputs": [
    {
     "name": "stdout",
     "output_type": "stream",
     "text": [
      "    x f\n",
      "1  41 A\n",
      "2  52 C\n",
      "3  66 A\n",
      "4  39 B\n",
      "5  49 A\n",
      "6  51 C\n",
      "7  57 C\n",
      "8  48 B\n",
      "9  70 B\n",
      "10 49 C\n",
      "11 54 C\n",
      "12 60 A\n",
      "13 46 A\n",
      "14 40 A\n",
      "15 68 B\n",
      "16 27 B\n",
      "17 59 B\n",
      "18 50 B\n",
      "19 60 C\n",
      "20 54 A\n",
      "21 71 C\n",
      "22 38 A\n",
      "23 66 A\n",
      "24 70 A\n",
      "25 50 A\n"
     ]
    }
   ],
   "source": [
    "%%R\n",
    "set.seed(2)\n",
    "x <- round(rnorm(25, 50, 10))\n",
    "data.frame(x = x, f = f)"
   ]
  },
  {
   "cell_type": "code",
   "execution_count": 50,
   "id": "enormous-poison",
   "metadata": {},
   "outputs": [
    {
     "name": "stdout",
     "output_type": "stream",
     "text": [
      "       A        B        C \n",
      "52.72727 51.57143 56.28571 \n"
     ]
    }
   ],
   "source": [
    "%%R\n",
    "tapply(x, f, mean)"
   ]
  },
  {
   "cell_type": "code",
   "execution_count": 28,
   "id": "applicable-cholesterol",
   "metadata": {},
   "outputs": [
    {
     "name": "stdout",
     "output_type": "stream",
     "text": [
      " A  B  C \n",
      "32 43 22 \n"
     ]
    }
   ],
   "source": [
    "%%R\n",
    "tapply(x, f, function(t){max(t)-min(t)})"
   ]
  },
  {
   "cell_type": "markdown",
   "id": "embedded-egyptian",
   "metadata": {},
   "source": [
    "`-` function()은 사용자 정의 함수임\n",
    "\n",
    "`-` 한 줄일 경우 { }생략 가능"
   ]
  },
  {
   "cell_type": "markdown",
   "id": "virtual-specific",
   "metadata": {},
   "source": [
    "`-` 쪼갬의 대상이 벡터가 아니라 데이터 프레임인 경우에는 split()과 sapply()를 함께 이용"
   ]
  },
  {
   "cell_type": "code",
   "execution_count": 65,
   "id": "handed-possibility",
   "metadata": {},
   "outputs": [
    {
     "name": "stdout",
     "output_type": "stream",
     "text": [
      "$A\n",
      "    x z\n",
      "1  41 2\n",
      "3  66 3\n",
      "5  49 4\n",
      "12 60 4\n",
      "13 46 5\n",
      "14 40 5\n",
      "20 54 5\n",
      "22 38 1\n",
      "23 66 1\n",
      "24 70 3\n",
      "25 50 2\n",
      "\n",
      "$B\n",
      "    x z\n",
      "4  39 3\n",
      "8  48 4\n",
      "9  70 5\n",
      "15 68 4\n",
      "16 27 5\n",
      "17 59 4\n",
      "18 50 4\n",
      "\n",
      "$C\n",
      "    x z\n",
      "2  52 1\n",
      "6  51 3\n",
      "7  57 1\n",
      "10 49 1\n",
      "11 54 1\n",
      "19 60 1\n",
      "21 71 5\n",
      "\n"
     ]
    }
   ],
   "source": [
    "%%R\n",
    "split(data.frame(x = x, z = z), f)"
   ]
  },
  {
   "cell_type": "code",
   "execution_count": 52,
   "id": "quiet-pride",
   "metadata": {},
   "outputs": [
    {
     "name": "stdout",
     "output_type": "stream",
     "text": [
      "[1] \"list\"\n"
     ]
    }
   ],
   "source": [
    "%%R\n",
    "s <-  split(data.frame(x = x, z = z), f)\n",
    "class(s)"
   ]
  },
  {
   "cell_type": "code",
   "execution_count": 56,
   "id": "characteristic-machine",
   "metadata": {},
   "outputs": [
    {
     "name": "stdout",
     "output_type": "stream",
     "text": [
      "          A         B         C\n",
      "x 52.727273 51.571429 56.285714\n",
      "z  3.181818  4.142857  1.857143\n"
     ]
    }
   ],
   "source": [
    "%%R\n",
    "sapply(s, apply, 2, mean)"
   ]
  },
  {
   "cell_type": "markdown",
   "id": "expressed-search",
   "metadata": {},
   "source": [
    "`-` aggregate(x, list(f, g), fun)은 x를 f와 g의 조합으로 쪼개서 fun을 적용함"
   ]
  },
  {
   "cell_type": "code",
   "execution_count": 60,
   "id": "complex-sending",
   "metadata": {},
   "outputs": [
    {
     "name": "stdout",
     "output_type": "stream",
     "text": [
      "   Group.1 Group.2   x\n",
      "1        A       1 104\n",
      "2        C       1 272\n",
      "3        A       2  91\n",
      "4        A       3 136\n",
      "5        B       3  39\n",
      "6        C       3  51\n",
      "7        A       4 109\n",
      "8        B       4 225\n",
      "9        A       5 140\n",
      "10       B       5  97\n",
      "11       C       5  71\n"
     ]
    }
   ],
   "source": [
    "%%R\n",
    "aggregate(data.frame(x = x, z = z)$x, list(f, g), sum)"
   ]
  },
  {
   "cell_type": "markdown",
   "id": "fleet-collect",
   "metadata": {},
   "source": [
    "`-` tapply()는 쪼갤 기준이 하나\n",
    "\n",
    "`-` aggregate()는 쪼갤 기준이 여러개(list)"
   ]
  },
  {
   "cell_type": "markdown",
   "id": "gross-agent",
   "metadata": {},
   "source": [
    "## cut() 함수 "
   ]
  },
  {
   "cell_type": "markdown",
   "id": "southwest-basement",
   "metadata": {},
   "source": [
    "`-` `cut(x, breaks)`는 수치형 벡터 x를 breaks로 쪼개서 factor 변수로 만듦(구간화)\n",
    "\n",
    "`-` 만약 기준 변수가 factor가 아니라면 factor로 만듦"
   ]
  },
  {
   "cell_type": "code",
   "execution_count": 8,
   "id": "arctic-debut",
   "metadata": {},
   "outputs": [
    {
     "name": "stdout",
     "output_type": "stream",
     "text": [
      "[1] \"factor\"\n"
     ]
    }
   ],
   "source": [
    "%%R \n",
    "set.seed(21)\n",
    "x <- runif(100, 0, 10)\n",
    "y <- 5 + 0.5*(x-5) + rnorm(100)  ## x와 y는 선형관계 ## rnorm(100)은 오차항 ## y = 0.5x + 2.5 + ϵ,  ϵ ~ (0, σ^2) ---> 이 예제에서 σ = 1\n",
    "chr_ <- c('0', '1', '2', '3', '4', '5', '6', '7', '8', '9', '10')\n",
    "x_cut <- cut(x, chr_)\n",
    "class(x_cut)"
   ]
  },
  {
   "cell_type": "code",
   "execution_count": 10,
   "id": "exceptional-pierce",
   "metadata": {},
   "outputs": [
    {
     "name": "stdout",
     "output_type": "stream",
     "text": [
      "               x x_cut         y\n",
      "  [1,] 7.8611493     8 5.8484239\n",
      "  [2,] 2.5244560     3 5.5363467\n",
      "  [3,] 6.9925230     7 5.7855895\n",
      "  [4,] 1.8446075     2 3.0701969\n",
      "  [5,] 9.5961383    10 7.8832415\n",
      "  [6,] 9.1868340    10 8.1071017\n",
      "  [7,] 1.0180455     2 2.9864533\n",
      "  [8,] 1.7219168     2 2.4578035\n",
      "  [9,] 9.8600368    10 8.3377913\n",
      " [10,] 8.4939610     9 7.9089234\n",
      " [11,] 6.6754012     7 5.3797472\n",
      " [12,] 9.3521022    10 8.1040078\n",
      " [13,] 0.5818433     1 0.6879865\n",
      " [14,] 6.1861583     7 3.9159120\n",
      " [15,] 1.7491846     2 5.1402481\n",
      " [16,] 0.3767539     1 3.4828244\n",
      " [17,] 5.2531317     6 4.6426963\n",
      " [18,] 2.8218425     3 5.8392804\n",
      " [19,] 4.9904520     5 4.6111098\n",
      " [20,] 6.3382510     7 4.0824480\n",
      " [21,] 0.1139965     1 2.7712999\n",
      " [22,] 6.0785656     7 4.4010011\n",
      " [23,] 7.7559853     8 6.8674062\n",
      " [24,] 9.2397118    10 5.3672191\n",
      " [25,] 2.9170673     3 4.4595508\n",
      " [26,] 7.8907624     8 6.5321374\n",
      " [27,] 5.6849721     6 5.5335596\n",
      " [28,] 7.7843508     8 7.2240144\n",
      " [29,] 7.1323253     8 5.3871303\n",
      " [30,] 6.6904867     7 6.1411056\n",
      " [31,] 9.3470991    10 8.2857154\n",
      " [32,] 5.0646019     6 5.3948908\n",
      " [33,] 7.4506019     8 5.9543859\n",
      " [34,] 8.3835263     9 6.4948175\n",
      " [35,] 8.6907475     9 6.9123283\n",
      " [36,] 1.9311168     2 2.5977567\n",
      " [37,] 2.1633194     3 3.2196540\n",
      " [38,] 6.5042346     7 4.6125672\n",
      " [39,] 3.3516604     4 3.3604589\n",
      " [40,] 5.0765589     6 6.3485251\n",
      " [41,] 6.5283937     7 5.5058359\n",
      " [42,] 9.6557667    10 7.9341482\n",
      " [43,] 5.1466067     6 5.3867516\n",
      " [44,] 0.6165677     1 2.8618869\n",
      " [45,] 1.5101646     2 4.3833361\n",
      " [46,] 6.3556589     7 5.1196960\n",
      " [47,] 1.0296050     2 4.5507614\n",
      " [48,] 7.7269430     8 6.3010251\n",
      " [49,] 4.1022537     5 4.5727020\n",
      " [50,] 8.7023337     9 4.7613394\n",
      " [51,] 7.7204222     8 5.5493224\n",
      " [52,] 6.4981737     7 2.8052970\n",
      " [53,] 6.3036461     7 5.6330273\n",
      " [54,] 8.3020059     9 6.2963228\n",
      " [55,] 1.3049793     2 3.1880598\n",
      " [56,] 8.8185301     9 7.4033842\n",
      " [57,] 2.4005341     3 3.0404586\n",
      " [58,] 6.4817896     7 6.7420367\n",
      " [59,] 2.3344643     3 4.7393166\n",
      " [60,] 0.6940427     1 3.6027870\n",
      " [61,] 0.3330366     1 1.2110536\n",
      " [62,] 9.2247471    10 8.0552446\n",
      " [63,] 3.4175140     4 2.3384819\n",
      " [64,] 9.3834557    10 6.9384556\n",
      " [65,] 5.1071478     6 4.7610120\n",
      " [66,] 1.3198211     2 3.3786786\n",
      " [67,] 8.1901787     9 5.2400199\n",
      " [68,] 9.2262677    10 6.9904067\n",
      " [69,] 9.4890694    10 6.7926696\n",
      " [70,] 5.5827285     6 5.3886124\n",
      " [71,] 5.2419521     6 4.8028737\n",
      " [72,] 5.3472914     6 4.5898834\n",
      " [73,] 9.6766790    10 7.4056243\n",
      " [74,] 5.2833101     6 5.4971212\n",
      " [75,] 5.3193106     6 5.1386437\n",
      " [76,] 6.2043358     7 6.8507949\n",
      " [77,] 9.2198573    10 6.2252412\n",
      " [78,] 2.2786153     3 2.7543007\n",
      " [79,] 9.2766458    10 6.6875929\n",
      " [80,] 9.2997805    10 8.4412031\n",
      " [81,] 5.2228023     6 5.4902407\n",
      " [82,] 9.9086911    10 8.9550287\n",
      " [83,] 0.6460298     1 2.5542380\n",
      " [84,] 8.6259344     9 8.0880172\n",
      " [85,] 4.8062732     5 5.2246315\n",
      " [86,] 5.3615727     6 6.8357290\n",
      " [87,] 4.1513448     5 3.3840167\n",
      " [88,] 2.2846328     3 3.5953298\n",
      " [89,] 9.8195084    10 5.8097139\n",
      " [90,] 6.5597644     7 4.6645165\n",
      " [91,] 5.8016786     6 6.2954982\n",
      " [92,] 1.4083867     2 2.4986595\n",
      " [93,] 6.9767447     7 5.0349142\n",
      " [94,] 7.4802064     8 7.2367931\n",
      " [95,] 9.5334043    10 6.6016713\n",
      " [96,] 1.3104292     2 1.5242489\n",
      " [97,] 6.4997197     7 6.4960776\n",
      " [98,] 7.0777577     8 5.0707520\n",
      " [99,] 0.9994111     1 2.6955059\n",
      "[100,] 0.6916488     1 3.5104340\n"
     ]
    }
   ],
   "source": [
    "%%R #collapse\n",
    "\n",
    "cbind(x, x_cut, y)"
   ]
  },
  {
   "cell_type": "markdown",
   "id": "modern-slovakia",
   "metadata": {},
   "source": [
    "`-` (x, y)의 산점도에 x의 구간별 평균을 막대로 넣어 구간별 평균의 이동을 산출해보자"
   ]
  },
  {
   "cell_type": "code",
   "execution_count": 87,
   "id": "organic-composition",
   "metadata": {},
   "outputs": [
    {
     "name": "stdout",
     "output_type": "stream",
     "text": [
      "   Group.1        x\n",
      "1    (0,1] 2.597557\n",
      "2    (1,2] 3.252382\n",
      "3    (2,3] 4.148030\n",
      "4    (3,4] 2.849470\n",
      "5    (4,5] 4.448115\n",
      "6    (5,6] 5.436146\n",
      "7    (6,7] 5.198160\n",
      "8    (7,8] 6.197139\n",
      "9    (8,9] 6.638144\n",
      "10  (9,10] 7.384560\n"
     ]
    }
   ],
   "source": [
    "%%R\n",
    "y_local <- aggregate(y, list(x_cut), mean) ## x_cut은 1~10까지 존재 ---> 1부터 10까지 x_cut별로 따로 모아 그에 해당하는 y 데이터의 평균을 구함\n",
    "y_local"
   ]
  },
  {
   "cell_type": "code",
   "execution_count": 110,
   "id": "progressive-adrian",
   "metadata": {},
   "outputs": [
    {
     "data": {
      "image/png": "[encoded data removed]"
     },
     "metadata": {},
     "output_type": "display_data"
    }
   ],
   "source": [
    "%%R\n",
    "plot(x, y, ylim = c(0, 10), main = \"x vs y\" )\n",
    "segments(0:9, y_local$x, 1:10, y_local$x, lwd = 2) ## segments 함수는 x좌표와 y좌표를 입력받아 line을 그려줌\n",
    "abline(v = 1:9, lty = \"dotted\") ## abline 함수는 line을 그려줌, v는 수직선의 위치"
   ]
  },
  {
   "cell_type": "markdown",
   "id": "circular-punch",
   "metadata": {},
   "source": [
    "`-` 참고: [abline 함수](https://www.rdocumentation.org/packages/graphics/versions/3.6.2/topics/abline)\n",
    "\n",
    "`-` 참고: [segments 함수](https://www.rdocumentation.org/packages/graphics/versions/3.6.2/topics/segments)"
   ]
  },
  {
   "cell_type": "markdown",
   "id": "covered-raleigh",
   "metadata": {},
   "source": [
    "## 응용 "
   ]
  },
  {
   "cell_type": "markdown",
   "id": "another-steal",
   "metadata": {},
   "source": [
    "`-` 나중에 + R입문 중간고사 내용도"
   ]
  },
  {
   "cell_type": "markdown",
   "id": "retired-verse",
   "metadata": {},
   "source": [
    "# 8장 - 입출력(input and output)"
   ]
  },
  {
   "cell_type": "markdown",
   "id": "genetic-dollar",
   "metadata": {},
   "source": [
    "`-` read.table\\read.csv('파일 위치') ---> 텍스트 파일 or csv 파일을 읽어 내부 저장소에 dataframe으로 만듦\n",
    "\n",
    "`-` getwd() ---> 현재의 작업 디렉토리를 알려줌\n",
    "\n",
    "`-` setwd('위치') ---> 작업 디렉토리를 입력한 위치로 변경\n",
    "\n",
    "`-` dir() ---> 현재 작업 디렉토리에 있는 파일들의 리스트를 보여줌\n",
    "\n",
    "`-` write.table\\write.csv()은 특정 데이터 프레임을 작업 디렉토리에 텍스트 파일 or csv 파일로 입력함\n",
    "\n",
    "`-` 파일을 읽을 때 stringAdFactors = F 옵션을 적용하면 문자열 변수가 자동으로 factor 형이 되는 것을 막아줌\n",
    "\n",
    "`-` sink()함수를 통해 결과값을 텍스트 파일로 저장할 수 있음 ---> [sink function](https://www.rdocumentation.org/packages/base/versions/3.6.2/topics/sink)"
   ]
  },
  {
   "cell_type": "markdown",
   "id": "incredible-creek",
   "metadata": {},
   "source": [
    "## scan()함수\n",
    "\n",
    "`-` scan() ---> 비정형의 문자열 데이터를 읽을 때 유용\n",
    "\n",
    "`-` what 은 읽어 들일 데이터 값 형식 numeric, logical, character\n",
    "\n",
    "`-` 책 따라 하는데 scan함수가 제대로 작동되지 않아 찾아보니 quote = \"\" 로 하지 않아서라고 함 ---> 참고: [https://pythonq.com/so/r/29317](https://pythonq.com/so/r/29317)\n",
    "\n",
    "`-` quote = \"\" 옵션을 적용하지 않으면 Read 1 item을 반환 ---> 빈칸을 기준으로 문자열을 쪼개지 않았다는 뜻 ---> 그런데 sep = \"\\n\" 으로 하면 Read 20 item임\n",
    "\n",
    "`-` 원인을 알았는데 내가 yesterday노래 가사 텍스트 파일을 만들 때 맨 앞에 \" 기호를 실수로 추가했었음 ---> \" 기호를 없애니 잘 동작함"
   ]
  },
  {
   "cell_type": "code",
   "execution_count": 8,
   "id": "willing-thomas",
   "metadata": {},
   "outputs": [
    {
     "name": "stderr",
     "output_type": "stream",
     "text": [
      "R[write to console]: Read 126 items\n",
      "\n"
     ]
    }
   ],
   "source": [
    "%%R\n",
    "lyrics <- scan(\"yesterday.txt\", what = \"character\") ## quote = \"\" 옵션을 적용 안해도 잘 동작함"
   ]
  },
  {
   "cell_type": "code",
   "execution_count": 9,
   "id": "solved-porter",
   "metadata": {},
   "outputs": [
    {
     "name": "stdout",
     "output_type": "stream",
     "text": [
      " chr [1:126] \"Yesterday,\" \"all\" \"my\" \"troubles\" \"seemed\" \"so\" \"far\" \"away.\" ...\n"
     ]
    }
   ],
   "source": [
    "%%R \n",
    "str(lyrics) "
   ]
  },
  {
   "cell_type": "code",
   "execution_count": 10,
   "id": "broke-conflict",
   "metadata": {},
   "outputs": [
    {
     "name": "stdout",
     "output_type": "stream",
     "text": [
      " [1] \"Yesterday,\" \"all\"        \"my\"         \"troubles\"   \"seemed\"    \n",
      " [6] \"so\"         \"far\"        \"away.\"      \"Now\"        \"it\"        \n"
     ]
    }
   ],
   "source": [
    "%%R\n",
    "head(lyrics, 10)"
   ]
  },
  {
   "cell_type": "markdown",
   "id": "killing-snake",
   "metadata": {},
   "source": [
    "`-` 빈칸을 구분자로 인식하여 문자열을 쪼개어 읽어옴 + 줄 단위로 읽고 싶다면 sep = \"\\n\""
   ]
  },
  {
   "cell_type": "code",
   "execution_count": 11,
   "id": "steady-drink",
   "metadata": {},
   "outputs": [
    {
     "name": "stderr",
     "output_type": "stream",
     "text": [
      "R[write to console]: Read 20 items\n",
      "\n"
     ]
    }
   ],
   "source": [
    "%%R\n",
    "lyrics_2 <- scan(\"yesterday.txt\", what = \"character\", sep = \"\\n\")"
   ]
  },
  {
   "cell_type": "code",
   "execution_count": 12,
   "id": "offshore-council",
   "metadata": {},
   "outputs": [
    {
     "name": "stdout",
     "output_type": "stream",
     "text": [
      " chr [1:20] \"Yesterday, all my troubles seemed so far away.\" ...\n"
     ]
    }
   ],
   "source": [
    "%%R\n",
    "str(lyrics_2)"
   ]
  },
  {
   "cell_type": "code",
   "execution_count": 13,
   "id": "dependent-heading",
   "metadata": {},
   "outputs": [
    {
     "name": "stdout",
     "output_type": "stream",
     "text": [
      "[1] \"Yesterday, all my troubles seemed so far away.\"\n",
      "[2] \"Now it looks as though they're here to stay.\"  \n",
      "[3] \"oh, I believe in yesterday.\"                   \n",
      "[4] \"Suddenly, I'm not half the man I used to be.\"  \n",
      "[5] \"There's a shadow hanging over me.\"             \n"
     ]
    }
   ],
   "source": [
    "%%R\n",
    "head(lyrics_2, 5)"
   ]
  },
  {
   "cell_type": "markdown",
   "id": "black-medication",
   "metadata": {},
   "source": [
    "## cat() 함수"
   ]
  },
  {
   "cell_type": "markdown",
   "id": "driven-contrary",
   "metadata": {},
   "source": [
    "`-` print함수와 비슷하나 여러개의 출력이 가능하고 출력이 공백 없이 이어짐"
   ]
  },
  {
   "cell_type": "code",
   "execution_count": 71,
   "id": "frozen-injury",
   "metadata": {},
   "outputs": [
    {
     "name": "stdout",
     "output_type": "stream",
     "text": [
      "[1] \"a\"\n",
      "[1] \"b\"\n"
     ]
    }
   ],
   "source": [
    "%%R\n",
    "print(\"a\")\n",
    "print(\"b\")"
   ]
  },
  {
   "cell_type": "code",
   "execution_count": 72,
   "id": "material-metabolism",
   "metadata": {},
   "outputs": [
    {
     "name": "stdout",
     "output_type": "stream",
     "text": [
      "ab"
     ]
    }
   ],
   "source": [
    "%%R\n",
    "cat(\"a\")\n",
    "cat(\"b\")"
   ]
  },
  {
   "cell_type": "markdown",
   "id": "loving-transition",
   "metadata": {},
   "source": [
    "# 9장 - 문자열 작업"
   ]
  },
  {
   "cell_type": "markdown",
   "id": "severe-estonia",
   "metadata": {},
   "source": [
    "## grep() 함수 "
   ]
  },
  {
   "cell_type": "markdown",
   "id": "changing-nursery",
   "metadata": {},
   "source": [
    "`-` grep(pattern, x)는 x에서 pattern이 있는 곳을 알려줌"
   ]
  },
  {
   "cell_type": "code",
   "execution_count": 14,
   "id": "alpine-charlotte",
   "metadata": {},
   "outputs": [
    {
     "name": "stdout",
     "output_type": "stream",
     "text": [
      "[1]   1  63 105\n"
     ]
    }
   ],
   "source": [
    "%%R\n",
    "grep(\"Yesterday\", lyrics)"
   ]
  },
  {
   "cell_type": "code",
   "execution_count": 15,
   "id": "single-portugal",
   "metadata": {},
   "outputs": [
    {
     "name": "stdout",
     "output_type": "stream",
     "text": [
      "[1]  22  40  62  84 104 126\n"
     ]
    }
   ],
   "source": [
    "%%R\n",
    "grep(\"yesterday\", lyrics)"
   ]
  },
  {
   "cell_type": "markdown",
   "id": "covered-showcase",
   "metadata": {},
   "source": [
    "`-` \"Yesterday\"는 1 ,63 ,105번째 요소에 있고 \"yesterday\"는 22, 40 ,62, 84, 104, 126번째 요소에 있음을 알려줌"
   ]
  },
  {
   "cell_type": "markdown",
   "id": "prompt-thumbnail",
   "metadata": {},
   "source": [
    "`-` 이번에는 \"?\"를 찾아보자\n",
    "\n",
    "`-` grep(\"?\", lyrics)를 하면 될 것 같지만 아님"
   ]
  },
  {
   "cell_type": "code",
   "execution_count": 16,
   "id": "hairy-baltimore",
   "metadata": {},
   "outputs": [
    {
     "name": "stdout",
     "output_type": "stream",
     "text": [
      "  [1]   1   2   3   4   5   6   7   8   9  10  11  12  13  14  15  16  17  18\n",
      " [19]  19  20  21  22  23  24  25  26  27  28  29  30  31  32  33  34  35  36\n",
      " [37]  37  38  39  40  41  42  43  44  45  46  47  48  49  50  51  52  53  54\n",
      " [55]  55  56  57  58  59  60  61  62  63  64  65  66  67  68  69  70  71  72\n",
      " [73]  73  74  75  76  77  78  79  80  81  82  83  84  85  86  87  88  89  90\n",
      " [91]  91  92  93  94  95  96  97  98  99 100 101 102 103 104 105 106 107 108\n",
      "[109] 109 110 111 112 113 114 115 116 117 118 119 120 121 122 123 124 125 126\n"
     ]
    }
   ],
   "source": [
    "%%R  #collapse-output\n",
    "\n",
    "grep(\"?\", lyrics) # %%R 셀에서는 collapse-output이 안됨......(아님말고)"
   ]
  },
  {
   "cell_type": "markdown",
   "id": "listed-reynolds",
   "metadata": {},
   "source": [
    "`-` \"?\"는 정규표현식 기호로 사용되게 원래의 물음표 기호를 사용하고자 하면 \"\\\\\"을 앞에 넣어줘야함 ---> 나중에 정규표현식 공부하자"
   ]
  },
  {
   "cell_type": "code",
   "execution_count": 17,
   "id": "indoor-laugh",
   "metadata": {},
   "outputs": [
    {
     "name": "stdout",
     "output_type": "stream",
     "text": [
      "[1] 47 89\n"
     ]
    }
   ],
   "source": [
    "%%R\n",
    "grep(\"\\\\?\", lyrics)"
   ]
  },
  {
   "cell_type": "markdown",
   "id": "modified-segment",
   "metadata": {},
   "source": [
    "## nchar() 함수 "
   ]
  },
  {
   "cell_type": "markdown",
   "id": "respected-bulletin",
   "metadata": {},
   "source": [
    "`-` nchar(x)는 문자열 x의 길이를 알려줌(빈칸 포함)"
   ]
  },
  {
   "cell_type": "code",
   "execution_count": 136,
   "id": "international-relief",
   "metadata": {},
   "outputs": [
    {
     "name": "stdout",
     "output_type": "stream",
     "text": [
      "[1] 9\n"
     ]
    }
   ],
   "source": [
    "%%R\n",
    "nchar(\"yesterday\")"
   ]
  },
  {
   "cell_type": "markdown",
   "id": "advance-behavior",
   "metadata": {},
   "source": [
    "`-` 문자열 벡터에도 적용 가능함"
   ]
  },
  {
   "cell_type": "code",
   "execution_count": 18,
   "id": "clinical-slope",
   "metadata": {},
   "outputs": [
    {
     "name": "stdout",
     "output_type": "stream",
     "text": [
      "  [1] 10  3  2  8  6  2  3  5  3  2  5  2  6  7  4  2  5  3  1  7  2 10  9  3  3\n",
      " [26]  4  3  3  1  4  2  3  7  1  6  7  4  3  3  9  4  9  3  3  3  2  3  1  5  5\n",
      " [51]  3  8  4  1  4  9  6  3  1  4  3 10  9  4  3  4  2  4  4  2  5  3  1  4  1\n",
      " [76]  5  2  4  5  3  1  7  2 10  3  3  3  2  3  1  5  5  3  8  4  1  4  9  6  3\n",
      "[101]  1  4  3 10  9  4  3  4  2  4  4  2  5  3  1  4  1  5  2  4  5  3  1  7  2\n",
      "[126] 12\n"
     ]
    }
   ],
   "source": [
    "%%R\n",
    "nchar(lyrics)"
   ]
  },
  {
   "cell_type": "code",
   "execution_count": null,
   "id": "returning-forum",
   "metadata": {},
   "outputs": [],
   "source": []
  }
 ],
 "metadata": {
  "kernelspec": {
   "display_name": "Python 3",
   "language": "python",
   "name": "python3"
  },
  "language_info": {
   "codemirror_mode": {
    "name": "ipython",
    "version": 3
   },
   "file_extension": ".py",
   "mimetype": "text/x-python",
   "name": "python",
   "nbconvert_exporter": "python",
   "pygments_lexer": "ipython3",
   "version": "3.8.8"
  }
 },
 "nbformat": 4,
 "nbformat_minor": 5
}
