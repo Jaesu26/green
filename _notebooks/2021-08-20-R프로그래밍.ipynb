{
 "cells": [
  {
   "cell_type": "markdown",
   "id": "academic-roman",
   "metadata": {},
   "source": [
    "# R 프로그래밍\n",
    "\n",
    "> \"작성 완료\"\n",
    "\n",
    "- toc: true\n",
    "- branch: master\n",
    "- badges: true\n",
    "- comments: true\n",
    "- author: 한재수\n",
    "- categories: [R]"
   ]
  },
  {
   "cell_type": "markdown",
   "id": "common-flush",
   "metadata": {},
   "source": [
    "참고: R 프로그래밍 - 허명회 지음"
   ]
  },
  {
   "cell_type": "markdown",
   "id": "becoming-baptist",
   "metadata": {},
   "source": [
    "`-` R 프로그래밍에 대해 복습할 겸 간단히 정리"
   ]
  },
  {
   "cell_type": "markdown",
   "id": "resistant-processor",
   "metadata": {},
   "source": [
    "# 벡터(vector)\n",
    "`-` 데이터 컨테이너의 기본형"
   ]
  },
  {
   "cell_type": "markdown",
   "id": "liquid-anatomy",
   "metadata": {},
   "source": [
    "## 벡터"
   ]
  },
  {
   "cell_type": "code",
   "execution_count": 1,
   "id": "ignored-victor",
   "metadata": {},
   "outputs": [
    {
     "data": {
      "text/html": [
       "TRUE"
      ],
      "text/latex": [
       "TRUE"
      ],
      "text/markdown": [
       "TRUE"
      ],
      "text/plain": [
       "[1] TRUE"
      ]
     },
     "metadata": {},
     "output_type": "display_data"
    }
   ],
   "source": [
    "x <- 1\n",
    "is.vector(x)"
   ]
  },
  {
   "cell_type": "markdown",
   "id": "green-diameter",
   "metadata": {},
   "source": [
    "`-` x는 `길이가 1인 벡터 = 스칼라`"
   ]
  },
  {
   "cell_type": "code",
   "execution_count": 2,
   "id": "sexual-consolidation",
   "metadata": {},
   "outputs": [
    {
     "name": "stdout",
     "output_type": "stream",
     "text": [
      "[1] 3.141593\n",
      "[1] 3.141592653589793\n"
     ]
    }
   ],
   "source": [
    "print(pi)\n",
    "print(pi, 16)"
   ]
  },
  {
   "cell_type": "markdown",
   "id": "oriental-vinyl",
   "metadata": {},
   "source": [
    "`-` π는 숫자가 예약되어 있는 스칼라"
   ]
  },
  {
   "cell_type": "code",
   "execution_count": 3,
   "id": "anonymous-power",
   "metadata": {},
   "outputs": [
    {
     "data": {
      "text/html": [
       "<table class=\"dataframe\">\n",
       "<caption>A matrix: 4 × 3 of type int</caption>\n",
       "<tbody>\n",
       "\t<tr><td> 1</td><td> 2</td><td> 3</td></tr>\n",
       "\t<tr><td> 4</td><td> 5</td><td> 6</td></tr>\n",
       "\t<tr><td> 7</td><td> 8</td><td> 9</td></tr>\n",
       "\t<tr><td>10</td><td>11</td><td>12</td></tr>\n",
       "</tbody>\n",
       "</table>\n"
      ],
      "text/latex": [
       "A matrix: 4 × 3 of type int\n",
       "\\begin{tabular}{lll}\n",
       "\t  1 &  2 &  3\\\\\n",
       "\t  4 &  5 &  6\\\\\n",
       "\t  7 &  8 &  9\\\\\n",
       "\t 10 & 11 & 12\\\\\n",
       "\\end{tabular}\n"
      ],
      "text/markdown": [
       "\n",
       "A matrix: 4 × 3 of type int\n",
       "\n",
       "|  1 |  2 |  3 |\n",
       "|  4 |  5 |  6 |\n",
       "|  7 |  8 |  9 |\n",
       "| 10 | 11 | 12 |\n",
       "\n"
      ],
      "text/plain": [
       "     [,1] [,2] [,3]\n",
       "[1,]  1    2    3  \n",
       "[2,]  4    5    6  \n",
       "[3,]  7    8    9  \n",
       "[4,] 10   11   12  "
      ]
     },
     "metadata": {},
     "output_type": "display_data"
    }
   ],
   "source": [
    "M <- matrix(1:12, nrow = 4, ncol = 3, byrow = T)\n",
    "M"
   ]
  },
  {
   "cell_type": "markdown",
   "id": "golden-detector",
   "metadata": {},
   "source": [
    "`-` M은 행렬 ---> 벡터의 2차원 배열"
   ]
  },
  {
   "cell_type": "markdown",
   "id": "brazilian-sustainability",
   "metadata": {},
   "source": [
    "## 인덱싱 "
   ]
  },
  {
   "cell_type": "code",
   "execution_count": 4,
   "id": "numeric-dodge",
   "metadata": {},
   "outputs": [
    {
     "data": {
      "text/html": [
       "5"
      ],
      "text/latex": [
       "5"
      ],
      "text/markdown": [
       "5"
      ],
      "text/plain": [
       "[1] 5"
      ]
     },
     "metadata": {},
     "output_type": "display_data"
    }
   ],
   "source": [
    "f <- c(1, 1, 2, 3, 5, 8, 13, 21)\n",
    "f[5]"
   ]
  },
  {
   "cell_type": "code",
   "execution_count": 5,
   "id": "academic-laundry",
   "metadata": {},
   "outputs": [
    {
     "data": {
      "text/html": [
       "<style>\n",
       ".list-inline {list-style: none; margin:0; padding: 0}\n",
       ".list-inline>li {display: inline-block}\n",
       ".list-inline>li:not(:last-child)::after {content: \"\\00b7\"; padding: 0 .5ex}\n",
       "</style>\n",
       "<ol class=list-inline><li>1</li><li>1</li><li>2</li><li>3</li><li>5</li></ol>\n"
      ],
      "text/latex": [
       "\\begin{enumerate*}\n",
       "\\item 1\n",
       "\\item 1\n",
       "\\item 2\n",
       "\\item 3\n",
       "\\item 5\n",
       "\\end{enumerate*}\n"
      ],
      "text/markdown": [
       "1. 1\n",
       "2. 1\n",
       "3. 2\n",
       "4. 3\n",
       "5. 5\n",
       "\n",
       "\n"
      ],
      "text/plain": [
       "[1] 1 1 2 3 5"
      ]
     },
     "metadata": {},
     "output_type": "display_data"
    }
   ],
   "source": [
    "f[1:5]"
   ]
  },
  {
   "cell_type": "code",
   "execution_count": 6,
   "id": "corresponding-jacket",
   "metadata": {},
   "outputs": [
    {
     "data": {
      "text/html": [
       "<style>\n",
       ".list-inline {list-style: none; margin:0; padding: 0}\n",
       ".list-inline>li {display: inline-block}\n",
       ".list-inline>li:not(:last-child)::after {content: \"\\00b7\"; padding: 0 .5ex}\n",
       "</style>\n",
       "<ol class=list-inline><li>1</li><li>2</li><li>5</li><li>8</li><li>13</li><li>21</li></ol>\n"
      ],
      "text/latex": [
       "\\begin{enumerate*}\n",
       "\\item 1\n",
       "\\item 2\n",
       "\\item 5\n",
       "\\item 8\n",
       "\\item 13\n",
       "\\item 21\n",
       "\\end{enumerate*}\n"
      ],
      "text/markdown": [
       "1. 1\n",
       "2. 2\n",
       "3. 5\n",
       "4. 8\n",
       "5. 13\n",
       "6. 21\n",
       "\n",
       "\n"
      ],
      "text/plain": [
       "[1]  1  2  5  8 13 21"
      ]
     },
     "metadata": {},
     "output_type": "display_data"
    }
   ],
   "source": [
    "f[-c(1,4)] ## -기호는 제외한다는 의미를 가짐"
   ]
  },
  {
   "cell_type": "code",
   "execution_count": 7,
   "id": "noble-criticism",
   "metadata": {},
   "outputs": [
    {
     "data": {
      "text/html": [
       "<style>\n",
       ".list-inline {list-style: none; margin:0; padding: 0}\n",
       ".list-inline>li {display: inline-block}\n",
       ".list-inline>li:not(:last-child)::after {content: \"\\00b7\"; padding: 0 .5ex}\n",
       "</style>\n",
       "<ol class=list-inline><li>1</li><li>1</li><li>3</li></ol>\n"
      ],
      "text/latex": [
       "\\begin{enumerate*}\n",
       "\\item 1\n",
       "\\item 1\n",
       "\\item 3\n",
       "\\end{enumerate*}\n"
      ],
      "text/markdown": [
       "1. 1\n",
       "2. 1\n",
       "3. 3\n",
       "\n",
       "\n"
      ],
      "text/plain": [
       "[1] 1 1 3"
      ]
     },
     "metadata": {},
     "output_type": "display_data"
    }
   ],
   "source": [
    "f[c(1,2,4)]"
   ]
  },
  {
   "cell_type": "markdown",
   "id": "accessory-workshop",
   "metadata": {},
   "source": [
    "## seq와 rep 함수\n",
    "`-` `seq(a, b, by = c)`는 a부터 b까지 c간격으로 등차수열 생성"
   ]
  },
  {
   "cell_type": "code",
   "execution_count": 8,
   "id": "refined-meeting",
   "metadata": {},
   "outputs": [
    {
     "data": {
      "text/html": [
       "<style>\n",
       ".list-inline {list-style: none; margin:0; padding: 0}\n",
       ".list-inline>li {display: inline-block}\n",
       ".list-inline>li:not(:last-child)::after {content: \"\\00b7\"; padding: 0 .5ex}\n",
       "</style>\n",
       "<ol class=list-inline><li>0</li><li>2.5</li><li>5</li><li>7.5</li><li>10</li></ol>\n"
      ],
      "text/latex": [
       "\\begin{enumerate*}\n",
       "\\item 0\n",
       "\\item 2.5\n",
       "\\item 5\n",
       "\\item 7.5\n",
       "\\item 10\n",
       "\\end{enumerate*}\n"
      ],
      "text/markdown": [
       "1. 0\n",
       "2. 2.5\n",
       "3. 5\n",
       "4. 7.5\n",
       "5. 10\n",
       "\n",
       "\n"
      ],
      "text/plain": [
       "[1]  0.0  2.5  5.0  7.5 10.0"
      ]
     },
     "metadata": {},
     "output_type": "display_data"
    }
   ],
   "source": [
    "seq(0, 10, 2.5)"
   ]
  },
  {
   "cell_type": "markdown",
   "id": "seasonal-addition",
   "metadata": {},
   "source": [
    "`-`  `seq(a, b, length = n)`는 a부터 b까지 길이가 n인 일정 간격 수열을 생성"
   ]
  },
  {
   "cell_type": "code",
   "execution_count": 9,
   "id": "available-throat",
   "metadata": {},
   "outputs": [
    {
     "data": {
      "text/html": [
       "<style>\n",
       ".list-inline {list-style: none; margin:0; padding: 0}\n",
       ".list-inline>li {display: inline-block}\n",
       ".list-inline>li:not(:last-child)::after {content: \"\\00b7\"; padding: 0 .5ex}\n",
       "</style>\n",
       "<ol class=list-inline><li>0</li><li>1</li><li>2</li><li>3</li><li>4</li><li>5</li><li>6</li><li>7</li><li>8</li><li>9</li><li>10</li></ol>\n"
      ],
      "text/latex": [
       "\\begin{enumerate*}\n",
       "\\item 0\n",
       "\\item 1\n",
       "\\item 2\n",
       "\\item 3\n",
       "\\item 4\n",
       "\\item 5\n",
       "\\item 6\n",
       "\\item 7\n",
       "\\item 8\n",
       "\\item 9\n",
       "\\item 10\n",
       "\\end{enumerate*}\n"
      ],
      "text/markdown": [
       "1. 0\n",
       "2. 1\n",
       "3. 2\n",
       "4. 3\n",
       "5. 4\n",
       "6. 5\n",
       "7. 6\n",
       "8. 7\n",
       "9. 8\n",
       "10. 9\n",
       "11. 10\n",
       "\n",
       "\n"
      ],
      "text/plain": [
       " [1]  0  1  2  3  4  5  6  7  8  9 10"
      ]
     },
     "metadata": {},
     "output_type": "display_data"
    }
   ],
   "source": [
    "seq(0, 10, length = 11)"
   ]
  },
  {
   "cell_type": "markdown",
   "id": "extended-albert",
   "metadata": {},
   "source": [
    "`-` `rep(x, times = k)`는 x의 각 요소가 k의 각 요소씩 반복된 벡터"
   ]
  },
  {
   "cell_type": "code",
   "execution_count": 10,
   "id": "presidential-recorder",
   "metadata": {},
   "outputs": [
    {
     "data": {
      "text/html": [
       "<style>\n",
       ".list-inline {list-style: none; margin:0; padding: 0}\n",
       ".list-inline>li {display: inline-block}\n",
       ".list-inline>li:not(:last-child)::after {content: \"\\00b7\"; padding: 0 .5ex}\n",
       "</style>\n",
       "<ol class=list-inline><li>&lt;NA&gt;</li><li>&lt;NA&gt;</li><li>&lt;NA&gt;</li><li>&lt;NA&gt;</li><li>&lt;NA&gt;</li></ol>\n"
      ],
      "text/latex": [
       "\\begin{enumerate*}\n",
       "\\item <NA>\n",
       "\\item <NA>\n",
       "\\item <NA>\n",
       "\\item <NA>\n",
       "\\item <NA>\n",
       "\\end{enumerate*}\n"
      ],
      "text/markdown": [
       "1. &lt;NA&gt;\n",
       "2. &lt;NA&gt;\n",
       "3. &lt;NA&gt;\n",
       "4. &lt;NA&gt;\n",
       "5. &lt;NA&gt;\n",
       "\n",
       "\n"
      ],
      "text/plain": [
       "[1] NA NA NA NA NA"
      ]
     },
     "metadata": {},
     "output_type": "display_data"
    }
   ],
   "source": [
    "rep(NA, 5)"
   ]
  },
  {
   "cell_type": "code",
   "execution_count": 11,
   "id": "democratic-cookie",
   "metadata": {},
   "outputs": [
    {
     "data": {
      "text/html": [
       "<style>\n",
       ".list-inline {list-style: none; margin:0; padding: 0}\n",
       ".list-inline>li {display: inline-block}\n",
       ".list-inline>li:not(:last-child)::after {content: \"\\00b7\"; padding: 0 .5ex}\n",
       "</style>\n",
       "<ol class=list-inline><li>1</li><li>2</li><li>1</li><li>2</li><li>1</li><li>2</li></ol>\n"
      ],
      "text/latex": [
       "\\begin{enumerate*}\n",
       "\\item 1\n",
       "\\item 2\n",
       "\\item 1\n",
       "\\item 2\n",
       "\\item 1\n",
       "\\item 2\n",
       "\\end{enumerate*}\n"
      ],
      "text/markdown": [
       "1. 1\n",
       "2. 2\n",
       "3. 1\n",
       "4. 2\n",
       "5. 1\n",
       "6. 2\n",
       "\n",
       "\n"
      ],
      "text/plain": [
       "[1] 1 2 1 2 1 2"
      ]
     },
     "metadata": {},
     "output_type": "display_data"
    }
   ],
   "source": [
    "rep(c(1, 2), 3)"
   ]
  },
  {
   "cell_type": "code",
   "execution_count": 12,
   "id": "parental-remark",
   "metadata": {},
   "outputs": [
    {
     "data": {
      "text/html": [
       "<style>\n",
       ".list-inline {list-style: none; margin:0; padding: 0}\n",
       ".list-inline>li {display: inline-block}\n",
       ".list-inline>li:not(:last-child)::after {content: \"\\00b7\"; padding: 0 .5ex}\n",
       "</style>\n",
       "<ol class=list-inline><li>1</li><li>1</li><li>1</li><li>2</li><li>2</li><li>3</li></ol>\n"
      ],
      "text/latex": [
       "\\begin{enumerate*}\n",
       "\\item 1\n",
       "\\item 1\n",
       "\\item 1\n",
       "\\item 2\n",
       "\\item 2\n",
       "\\item 3\n",
       "\\end{enumerate*}\n"
      ],
      "text/markdown": [
       "1. 1\n",
       "2. 1\n",
       "3. 1\n",
       "4. 2\n",
       "5. 2\n",
       "6. 3\n",
       "\n",
       "\n"
      ],
      "text/plain": [
       "[1] 1 1 1 2 2 3"
      ]
     },
     "metadata": {},
     "output_type": "display_data"
    }
   ],
   "source": [
    "rep(c(1, 2, 3), c(3, 2, 1))"
   ]
  },
  {
   "cell_type": "markdown",
   "id": "loaded-culture",
   "metadata": {},
   "source": [
    "`-` `rep(x, each = k)`는 x의 각 요소가 각각 k번 반복된 벡터"
   ]
  },
  {
   "cell_type": "code",
   "execution_count": 13,
   "id": "recreational-value",
   "metadata": {},
   "outputs": [
    {
     "data": {
      "text/html": [
       "<style>\n",
       ".list-inline {list-style: none; margin:0; padding: 0}\n",
       ".list-inline>li {display: inline-block}\n",
       ".list-inline>li:not(:last-child)::after {content: \"\\00b7\"; padding: 0 .5ex}\n",
       "</style>\n",
       "<ol class=list-inline><li>1</li><li>1</li><li>1</li><li>2</li><li>2</li><li>2</li></ol>\n"
      ],
      "text/latex": [
       "\\begin{enumerate*}\n",
       "\\item 1\n",
       "\\item 1\n",
       "\\item 1\n",
       "\\item 2\n",
       "\\item 2\n",
       "\\item 2\n",
       "\\end{enumerate*}\n"
      ],
      "text/markdown": [
       "1. 1\n",
       "2. 1\n",
       "3. 1\n",
       "4. 2\n",
       "5. 2\n",
       "6. 2\n",
       "\n",
       "\n"
      ],
      "text/plain": [
       "[1] 1 1 1 2 2 2"
      ]
     },
     "metadata": {},
     "output_type": "display_data"
    }
   ],
   "source": [
    "rep(c(1, 2), each = 3)"
   ]
  },
  {
   "cell_type": "markdown",
   "id": "laughing-separate",
   "metadata": {},
   "source": [
    "## 필터링 \n",
    "`-` 조건에 부합하는 데이터 값만 추출"
   ]
  },
  {
   "cell_type": "code",
   "execution_count": 14,
   "id": "extensive-finnish",
   "metadata": {},
   "outputs": [
    {
     "data": {
      "text/html": [
       "<style>\n",
       ".list-inline {list-style: none; margin:0; padding: 0}\n",
       ".list-inline>li {display: inline-block}\n",
       ".list-inline>li:not(:last-child)::after {content: \"\\00b7\"; padding: 0 .5ex}\n",
       "</style>\n",
       "<ol class=list-inline><li>1</li><li>3</li><li>5</li><li>7</li><li>9</li></ol>\n"
      ],
      "text/latex": [
       "\\begin{enumerate*}\n",
       "\\item 1\n",
       "\\item 3\n",
       "\\item 5\n",
       "\\item 7\n",
       "\\item 9\n",
       "\\end{enumerate*}\n"
      ],
      "text/markdown": [
       "1. 1\n",
       "2. 3\n",
       "3. 5\n",
       "4. 7\n",
       "5. 9\n",
       "\n",
       "\n"
      ],
      "text/plain": [
       "[1] 1 3 5 7 9"
      ]
     },
     "metadata": {},
     "output_type": "display_data"
    }
   ],
   "source": [
    "x <- 1:10\n",
    "x[x %% 2 == 1]"
   ]
  },
  {
   "cell_type": "code",
   "execution_count": 15,
   "id": "mobile-start",
   "metadata": {},
   "outputs": [
    {
     "data": {
      "text/html": [
       "<style>\n",
       ".list-inline {list-style: none; margin:0; padding: 0}\n",
       ".list-inline>li {display: inline-block}\n",
       ".list-inline>li:not(:last-child)::after {content: \"\\00b7\"; padding: 0 .5ex}\n",
       "</style>\n",
       "<ol class=list-inline><li>2</li><li>4</li><li>6</li><li>8</li><li>10</li></ol>\n"
      ],
      "text/latex": [
       "\\begin{enumerate*}\n",
       "\\item 2\n",
       "\\item 4\n",
       "\\item 6\n",
       "\\item 8\n",
       "\\item 10\n",
       "\\end{enumerate*}\n"
      ],
      "text/markdown": [
       "1. 2\n",
       "2. 4\n",
       "3. 6\n",
       "4. 8\n",
       "5. 10\n",
       "\n",
       "\n"
      ],
      "text/plain": [
       "[1]  2  4  6  8 10"
      ]
     },
     "metadata": {},
     "output_type": "display_data"
    }
   ],
   "source": [
    "subset(x, x %% 2 == 0)"
   ]
  },
  {
   "cell_type": "markdown",
   "id": "brutal-australian",
   "metadata": {},
   "source": [
    "## ifelse 함수 \n",
    "`-` `ifelse(x, yes, no)`는 x가 TRUE이면 yes를 값으로 하고 FALSE이면 no를 값으로 배출"
   ]
  },
  {
   "cell_type": "code",
   "execution_count": 16,
   "id": "pacific-natural",
   "metadata": {},
   "outputs": [
    {
     "data": {
      "text/html": [
       "<table class=\"dataframe\">\n",
       "<caption>A matrix: 10 × 2 of type dbl</caption>\n",
       "<thead>\n",
       "\t<tr><th scope=col>x</th><th scope=col>x1</th></tr>\n",
       "</thead>\n",
       "<tbody>\n",
       "\t<tr><td> 1</td><td> 2</td></tr>\n",
       "\t<tr><td> 2</td><td> 2</td></tr>\n",
       "\t<tr><td> 3</td><td> 6</td></tr>\n",
       "\t<tr><td> 4</td><td> 4</td></tr>\n",
       "\t<tr><td> 5</td><td>10</td></tr>\n",
       "\t<tr><td> 6</td><td> 6</td></tr>\n",
       "\t<tr><td> 7</td><td>14</td></tr>\n",
       "\t<tr><td> 8</td><td> 8</td></tr>\n",
       "\t<tr><td> 9</td><td>18</td></tr>\n",
       "\t<tr><td>10</td><td>10</td></tr>\n",
       "</tbody>\n",
       "</table>\n"
      ],
      "text/latex": [
       "A matrix: 10 × 2 of type dbl\n",
       "\\begin{tabular}{ll}\n",
       " x & x1\\\\\n",
       "\\hline\n",
       "\t  1 &  2\\\\\n",
       "\t  2 &  2\\\\\n",
       "\t  3 &  6\\\\\n",
       "\t  4 &  4\\\\\n",
       "\t  5 & 10\\\\\n",
       "\t  6 &  6\\\\\n",
       "\t  7 & 14\\\\\n",
       "\t  8 &  8\\\\\n",
       "\t  9 & 18\\\\\n",
       "\t 10 & 10\\\\\n",
       "\\end{tabular}\n"
      ],
      "text/markdown": [
       "\n",
       "A matrix: 10 × 2 of type dbl\n",
       "\n",
       "| x | x1 |\n",
       "|---|---|\n",
       "|  1 |  2 |\n",
       "|  2 |  2 |\n",
       "|  3 |  6 |\n",
       "|  4 |  4 |\n",
       "|  5 | 10 |\n",
       "|  6 |  6 |\n",
       "|  7 | 14 |\n",
       "|  8 |  8 |\n",
       "|  9 | 18 |\n",
       "| 10 | 10 |\n",
       "\n"
      ],
      "text/plain": [
       "      x  x1\n",
       " [1,]  1  2\n",
       " [2,]  2  2\n",
       " [3,]  3  6\n",
       " [4,]  4  4\n",
       " [5,]  5 10\n",
       " [6,]  6  6\n",
       " [7,]  7 14\n",
       " [8,]  8  8\n",
       " [9,]  9 18\n",
       "[10,] 10 10"
      ]
     },
     "metadata": {},
     "output_type": "display_data"
    }
   ],
   "source": [
    "x <- 1:10\n",
    "x1 <- ifelse(x %% 2 == 0, x, 2*x)\n",
    "cbind(x, x1)"
   ]
  },
  {
   "cell_type": "markdown",
   "id": "identical-boston",
   "metadata": {},
   "source": [
    "## names 함수 \n",
    "`-` `names(x)`는 벡터x의 개별 요소에 이름을 부여함"
   ]
  },
  {
   "cell_type": "code",
   "execution_count": 17,
   "id": "valid-longer",
   "metadata": {},
   "outputs": [
    {
     "data": {
      "text/html": [
       "<style>\n",
       ".list-inline {list-style: none; margin:0; padding: 0}\n",
       ".list-inline>li {display: inline-block}\n",
       ".list-inline>li:not(:last-child)::after {content: \"\\00b7\"; padding: 0 .5ex}\n",
       "</style>\n",
       "<ol class=list-inline><li>5</li><li>4</li><li>3</li><li>4</li><li>5</li><li>6</li></ol>\n"
      ],
      "text/latex": [
       "\\begin{enumerate*}\n",
       "\\item 5\n",
       "\\item 4\n",
       "\\item 3\n",
       "\\item 4\n",
       "\\item 5\n",
       "\\item 6\n",
       "\\end{enumerate*}\n"
      ],
      "text/markdown": [
       "1. 5\n",
       "2. 4\n",
       "3. 3\n",
       "4. 4\n",
       "5. 5\n",
       "6. 6\n",
       "\n",
       "\n"
      ],
      "text/plain": [
       "[1] 5 4 3 4 5 6"
      ]
     },
     "metadata": {},
     "output_type": "display_data"
    }
   ],
   "source": [
    "era <- c(5, 4 ,3, 4 ,5, 6)\n",
    "era"
   ]
  },
  {
   "cell_type": "markdown",
   "id": "peripheral-myanmar",
   "metadata": {},
   "source": [
    "`-` paste()함수는 2개의 문자열 벡터를 sep인수로 붙인다"
   ]
  },
  {
   "cell_type": "code",
   "execution_count": 18,
   "id": "reasonable-macro",
   "metadata": {},
   "outputs": [
    {
     "data": {
      "text/html": [
       "<style>\n",
       ".dl-inline {width: auto; margin:0; padding: 0}\n",
       ".dl-inline>dt, .dl-inline>dd {float: none; width: auto; display: inline-block}\n",
       ".dl-inline>dt::after {content: \":\\0020\"; padding-right: .5ex}\n",
       ".dl-inline>dt:not(:first-of-type) {padding-left: .5ex}\n",
       "</style><dl class=dl-inline><dt>y-2001</dt><dd>5</dd><dt>y-2002</dt><dd>4</dd><dt>y-2003</dt><dd>3</dd><dt>y-2004</dt><dd>4</dd><dt>y-2005</dt><dd>5</dd><dt>y-2006</dt><dd>6</dd></dl>\n"
      ],
      "text/latex": [
       "\\begin{description*}\n",
       "\\item[y-2001] 5\n",
       "\\item[y-2002] 4\n",
       "\\item[y-2003] 3\n",
       "\\item[y-2004] 4\n",
       "\\item[y-2005] 5\n",
       "\\item[y-2006] 6\n",
       "\\end{description*}\n"
      ],
      "text/markdown": [
       "y-2001\n",
       ":   5y-2002\n",
       ":   4y-2003\n",
       ":   3y-2004\n",
       ":   4y-2005\n",
       ":   5y-2006\n",
       ":   6\n",
       "\n"
      ],
      "text/plain": [
       "y-2001 y-2002 y-2003 y-2004 y-2005 y-2006 \n",
       "     5      4      3      4      5      6 "
      ]
     },
     "metadata": {},
     "output_type": "display_data"
    }
   ],
   "source": [
    "names(era) <- paste(\"y\", 2001:2006, sep = \"-\")\n",
    "era"
   ]
  },
  {
   "cell_type": "markdown",
   "id": "composite-robin",
   "metadata": {},
   "source": [
    "# 행렬(matrix) \n",
    "\n",
    "`-` $p$개의 길이 $n$인 벡터를 열에 배치함"
   ]
  },
  {
   "cell_type": "markdown",
   "id": "general-assistant",
   "metadata": {},
   "source": [
    "## 행렬 "
   ]
  },
  {
   "cell_type": "code",
   "execution_count": 19,
   "id": "different-broadcasting",
   "metadata": {},
   "outputs": [
    {
     "data": {
      "text/html": [
       "<table class=\"dataframe\">\n",
       "<caption>A matrix: 6 × 3 of type dbl</caption>\n",
       "<tbody>\n",
       "\t<tr><td> 0.3985257</td><td> 0.28159071</td><td> 2.3264862</td></tr>\n",
       "\t<tr><td> 1.4299784</td><td>-0.60442200</td><td>-1.1111043</td></tr>\n",
       "\t<tr><td> 0.2929706</td><td>-0.04351824</td><td> 1.0262398</td></tr>\n",
       "\t<tr><td> 0.9128263</td><td> 0.37584395</td><td> 1.2865189</td></tr>\n",
       "\t<tr><td>-0.2134398</td><td> 0.99927429</td><td> 0.1097158</td></tr>\n",
       "\t<tr><td> 0.3423550</td><td>-1.62561727</td><td> 0.8711550</td></tr>\n",
       "</tbody>\n",
       "</table>\n"
      ],
      "text/latex": [
       "A matrix: 6 × 3 of type dbl\n",
       "\\begin{tabular}{lll}\n",
       "\t  0.3985257 &  0.28159071 &  2.3264862\\\\\n",
       "\t  1.4299784 & -0.60442200 & -1.1111043\\\\\n",
       "\t  0.2929706 & -0.04351824 &  1.0262398\\\\\n",
       "\t  0.9128263 &  0.37584395 &  1.2865189\\\\\n",
       "\t -0.2134398 &  0.99927429 &  0.1097158\\\\\n",
       "\t  0.3423550 & -1.62561727 &  0.8711550\\\\\n",
       "\\end{tabular}\n"
      ],
      "text/markdown": [
       "\n",
       "A matrix: 6 × 3 of type dbl\n",
       "\n",
       "|  0.3985257 |  0.28159071 |  2.3264862 |\n",
       "|  1.4299784 | -0.60442200 | -1.1111043 |\n",
       "|  0.2929706 | -0.04351824 |  1.0262398 |\n",
       "|  0.9128263 |  0.37584395 |  1.2865189 |\n",
       "| -0.2134398 |  0.99927429 |  0.1097158 |\n",
       "|  0.3423550 | -1.62561727 |  0.8711550 |\n",
       "\n"
      ],
      "text/plain": [
       "     [,1]       [,2]        [,3]      \n",
       "[1,]  0.3985257  0.28159071  2.3264862\n",
       "[2,]  1.4299784 -0.60442200 -1.1111043\n",
       "[3,]  0.2929706 -0.04351824  1.0262398\n",
       "[4,]  0.9128263  0.37584395  1.2865189\n",
       "[5,] -0.2134398  0.99927429  0.1097158\n",
       "[6,]  0.3423550 -1.62561727  0.8711550"
      ]
     },
     "metadata": {},
     "output_type": "display_data"
    }
   ],
   "source": [
    "n <- 100\n",
    "p <- 3\n",
    "x <- rnorm(n*p)\n",
    "A <- matrix(x, nrow = n, ncol = p)\n",
    "A[1:6, ]"
   ]
  },
  {
   "cell_type": "markdown",
   "id": "dangerous-fundamentals",
   "metadata": {},
   "source": [
    "`-` [행, 열] 순으로 인덱싱"
   ]
  },
  {
   "cell_type": "code",
   "execution_count": 20,
   "id": "logical-morris",
   "metadata": {},
   "outputs": [
    {
     "data": {
      "text/html": [
       "<table class=\"dataframe\">\n",
       "<caption>A matrix: 6 × 2 of type dbl</caption>\n",
       "<tbody>\n",
       "\t<tr><td> 0.3985257</td><td> 0.28159071</td></tr>\n",
       "\t<tr><td> 1.4299784</td><td>-0.60442200</td></tr>\n",
       "\t<tr><td> 0.2929706</td><td>-0.04351824</td></tr>\n",
       "\t<tr><td> 0.9128263</td><td> 0.37584395</td></tr>\n",
       "\t<tr><td>-0.2134398</td><td> 0.99927429</td></tr>\n",
       "\t<tr><td> 0.3423550</td><td>-1.62561727</td></tr>\n",
       "</tbody>\n",
       "</table>\n"
      ],
      "text/latex": [
       "A matrix: 6 × 2 of type dbl\n",
       "\\begin{tabular}{ll}\n",
       "\t  0.3985257 &  0.28159071\\\\\n",
       "\t  1.4299784 & -0.60442200\\\\\n",
       "\t  0.2929706 & -0.04351824\\\\\n",
       "\t  0.9128263 &  0.37584395\\\\\n",
       "\t -0.2134398 &  0.99927429\\\\\n",
       "\t  0.3423550 & -1.62561727\\\\\n",
       "\\end{tabular}\n"
      ],
      "text/markdown": [
       "\n",
       "A matrix: 6 × 2 of type dbl\n",
       "\n",
       "|  0.3985257 |  0.28159071 |\n",
       "|  1.4299784 | -0.60442200 |\n",
       "|  0.2929706 | -0.04351824 |\n",
       "|  0.9128263 |  0.37584395 |\n",
       "| -0.2134398 |  0.99927429 |\n",
       "|  0.3423550 | -1.62561727 |\n",
       "\n"
      ],
      "text/plain": [
       "     [,1]       [,2]       \n",
       "[1,]  0.3985257  0.28159071\n",
       "[2,]  1.4299784 -0.60442200\n",
       "[3,]  0.2929706 -0.04351824\n",
       "[4,]  0.9128263  0.37584395\n",
       "[5,] -0.2134398  0.99927429\n",
       "[6,]  0.3423550 -1.62561727"
      ]
     },
     "metadata": {},
     "output_type": "display_data"
    }
   ],
   "source": [
    "A[1:6, 1:2]"
   ]
  },
  {
   "cell_type": "markdown",
   "id": "cognitive-botswana",
   "metadata": {},
   "source": [
    "`-` 필터링을 통해 인덱싱도 가능"
   ]
  },
  {
   "cell_type": "code",
   "execution_count": 21,
   "id": "explicit-overview",
   "metadata": {},
   "outputs": [
    {
     "data": {
      "text/html": [
       "<table class=\"dataframe\">\n",
       "<caption>A matrix: 31 × 3 of type dbl</caption>\n",
       "<tbody>\n",
       "\t<tr><td> 0.39852571</td><td>0.281590708</td><td>2.32648623</td></tr>\n",
       "\t<tr><td> 0.91282635</td><td>0.375843947</td><td>1.28651890</td></tr>\n",
       "\t<tr><td>-0.21343980</td><td>0.999274285</td><td>0.10971580</td></tr>\n",
       "\t<tr><td>-0.09365101</td><td>1.645532123</td><td>1.65681557</td></tr>\n",
       "\t<tr><td> 0.59683032</td><td>1.068823401</td><td>1.14622308</td></tr>\n",
       "\t<tr><td>-0.07694040</td><td>2.143518568</td><td>0.82898136</td></tr>\n",
       "\t<tr><td>-0.25295561</td><td>0.525762383</td><td>0.48493351</td></tr>\n",
       "\t<tr><td> 0.69014327</td><td>0.370450911</td><td>1.43002803</td></tr>\n",
       "\t<tr><td> 0.34475001</td><td>2.278569946</td><td>0.89774452</td></tr>\n",
       "\t<tr><td>-0.27996206</td><td>0.840513317</td><td>0.44426639</td></tr>\n",
       "\t<tr><td>-0.80394697</td><td>2.537376463</td><td>0.28302193</td></tr>\n",
       "\t<tr><td>-0.82417672</td><td>1.777319058</td><td>0.01703245</td></tr>\n",
       "\t<tr><td> 0.53338332</td><td>1.184873169</td><td>0.38581004</td></tr>\n",
       "\t<tr><td>-0.18553193</td><td>0.820022012</td><td>0.94885563</td></tr>\n",
       "\t<tr><td>-0.18877772</td><td>0.128753150</td><td>0.27520006</td></tr>\n",
       "\t<tr><td> 1.35820343</td><td>0.792055902</td><td>0.28782618</td></tr>\n",
       "\t<tr><td> 1.61265986</td><td>0.264419791</td><td>0.64471494</td></tr>\n",
       "\t<tr><td> 1.04088992</td><td>1.584494787</td><td>0.19616481</td></tr>\n",
       "\t<tr><td> 0.11426669</td><td>0.790059186</td><td>0.94831713</td></tr>\n",
       "\t<tr><td>-0.16103555</td><td>0.112897158</td><td>0.19660418</td></tr>\n",
       "\t<tr><td>-0.46409134</td><td>0.397766551</td><td>1.14864829</td></tr>\n",
       "\t<tr><td>-0.17503821</td><td>2.345658962</td><td>0.80798855</td></tr>\n",
       "\t<tr><td> 1.14206336</td><td>0.064781351</td><td>1.88838626</td></tr>\n",
       "\t<tr><td> 1.29824117</td><td>0.308617314</td><td>1.84653339</td></tr>\n",
       "\t<tr><td> 0.39353885</td><td>0.176955322</td><td>1.06523621</td></tr>\n",
       "\t<tr><td>-1.26937649</td><td>0.353061974</td><td>1.91192497</td></tr>\n",
       "\t<tr><td> 1.02235605</td><td>0.936847473</td><td>1.47997280</td></tr>\n",
       "\t<tr><td>-1.43203461</td><td>1.910996122</td><td>0.36251213</td></tr>\n",
       "\t<tr><td> 0.17007790</td><td>1.109508033</td><td>0.91300794</td></tr>\n",
       "\t<tr><td> 0.26444960</td><td>0.009549556</td><td>0.03743093</td></tr>\n",
       "\t<tr><td> 1.70585632</td><td>0.595840494</td><td>0.27405431</td></tr>\n",
       "</tbody>\n",
       "</table>\n"
      ],
      "text/latex": [
       "A matrix: 31 × 3 of type dbl\n",
       "\\begin{tabular}{lll}\n",
       "\t  0.39852571 & 0.281590708 & 2.32648623\\\\\n",
       "\t  0.91282635 & 0.375843947 & 1.28651890\\\\\n",
       "\t -0.21343980 & 0.999274285 & 0.10971580\\\\\n",
       "\t -0.09365101 & 1.645532123 & 1.65681557\\\\\n",
       "\t  0.59683032 & 1.068823401 & 1.14622308\\\\\n",
       "\t -0.07694040 & 2.143518568 & 0.82898136\\\\\n",
       "\t -0.25295561 & 0.525762383 & 0.48493351\\\\\n",
       "\t  0.69014327 & 0.370450911 & 1.43002803\\\\\n",
       "\t  0.34475001 & 2.278569946 & 0.89774452\\\\\n",
       "\t -0.27996206 & 0.840513317 & 0.44426639\\\\\n",
       "\t -0.80394697 & 2.537376463 & 0.28302193\\\\\n",
       "\t -0.82417672 & 1.777319058 & 0.01703245\\\\\n",
       "\t  0.53338332 & 1.184873169 & 0.38581004\\\\\n",
       "\t -0.18553193 & 0.820022012 & 0.94885563\\\\\n",
       "\t -0.18877772 & 0.128753150 & 0.27520006\\\\\n",
       "\t  1.35820343 & 0.792055902 & 0.28782618\\\\\n",
       "\t  1.61265986 & 0.264419791 & 0.64471494\\\\\n",
       "\t  1.04088992 & 1.584494787 & 0.19616481\\\\\n",
       "\t  0.11426669 & 0.790059186 & 0.94831713\\\\\n",
       "\t -0.16103555 & 0.112897158 & 0.19660418\\\\\n",
       "\t -0.46409134 & 0.397766551 & 1.14864829\\\\\n",
       "\t -0.17503821 & 2.345658962 & 0.80798855\\\\\n",
       "\t  1.14206336 & 0.064781351 & 1.88838626\\\\\n",
       "\t  1.29824117 & 0.308617314 & 1.84653339\\\\\n",
       "\t  0.39353885 & 0.176955322 & 1.06523621\\\\\n",
       "\t -1.26937649 & 0.353061974 & 1.91192497\\\\\n",
       "\t  1.02235605 & 0.936847473 & 1.47997280\\\\\n",
       "\t -1.43203461 & 1.910996122 & 0.36251213\\\\\n",
       "\t  0.17007790 & 1.109508033 & 0.91300794\\\\\n",
       "\t  0.26444960 & 0.009549556 & 0.03743093\\\\\n",
       "\t  1.70585632 & 0.595840494 & 0.27405431\\\\\n",
       "\\end{tabular}\n"
      ],
      "text/markdown": [
       "\n",
       "A matrix: 31 × 3 of type dbl\n",
       "\n",
       "|  0.39852571 | 0.281590708 | 2.32648623 |\n",
       "|  0.91282635 | 0.375843947 | 1.28651890 |\n",
       "| -0.21343980 | 0.999274285 | 0.10971580 |\n",
       "| -0.09365101 | 1.645532123 | 1.65681557 |\n",
       "|  0.59683032 | 1.068823401 | 1.14622308 |\n",
       "| -0.07694040 | 2.143518568 | 0.82898136 |\n",
       "| -0.25295561 | 0.525762383 | 0.48493351 |\n",
       "|  0.69014327 | 0.370450911 | 1.43002803 |\n",
       "|  0.34475001 | 2.278569946 | 0.89774452 |\n",
       "| -0.27996206 | 0.840513317 | 0.44426639 |\n",
       "| -0.80394697 | 2.537376463 | 0.28302193 |\n",
       "| -0.82417672 | 1.777319058 | 0.01703245 |\n",
       "|  0.53338332 | 1.184873169 | 0.38581004 |\n",
       "| -0.18553193 | 0.820022012 | 0.94885563 |\n",
       "| -0.18877772 | 0.128753150 | 0.27520006 |\n",
       "|  1.35820343 | 0.792055902 | 0.28782618 |\n",
       "|  1.61265986 | 0.264419791 | 0.64471494 |\n",
       "|  1.04088992 | 1.584494787 | 0.19616481 |\n",
       "|  0.11426669 | 0.790059186 | 0.94831713 |\n",
       "| -0.16103555 | 0.112897158 | 0.19660418 |\n",
       "| -0.46409134 | 0.397766551 | 1.14864829 |\n",
       "| -0.17503821 | 2.345658962 | 0.80798855 |\n",
       "|  1.14206336 | 0.064781351 | 1.88838626 |\n",
       "|  1.29824117 | 0.308617314 | 1.84653339 |\n",
       "|  0.39353885 | 0.176955322 | 1.06523621 |\n",
       "| -1.26937649 | 0.353061974 | 1.91192497 |\n",
       "|  1.02235605 | 0.936847473 | 1.47997280 |\n",
       "| -1.43203461 | 1.910996122 | 0.36251213 |\n",
       "|  0.17007790 | 1.109508033 | 0.91300794 |\n",
       "|  0.26444960 | 0.009549556 | 0.03743093 |\n",
       "|  1.70585632 | 0.595840494 | 0.27405431 |\n",
       "\n"
      ],
      "text/plain": [
       "      [,1]        [,2]        [,3]      \n",
       " [1,]  0.39852571 0.281590708 2.32648623\n",
       " [2,]  0.91282635 0.375843947 1.28651890\n",
       " [3,] -0.21343980 0.999274285 0.10971580\n",
       " [4,] -0.09365101 1.645532123 1.65681557\n",
       " [5,]  0.59683032 1.068823401 1.14622308\n",
       " [6,] -0.07694040 2.143518568 0.82898136\n",
       " [7,] -0.25295561 0.525762383 0.48493351\n",
       " [8,]  0.69014327 0.370450911 1.43002803\n",
       " [9,]  0.34475001 2.278569946 0.89774452\n",
       "[10,] -0.27996206 0.840513317 0.44426639\n",
       "[11,] -0.80394697 2.537376463 0.28302193\n",
       "[12,] -0.82417672 1.777319058 0.01703245\n",
       "[13,]  0.53338332 1.184873169 0.38581004\n",
       "[14,] -0.18553193 0.820022012 0.94885563\n",
       "[15,] -0.18877772 0.128753150 0.27520006\n",
       "[16,]  1.35820343 0.792055902 0.28782618\n",
       "[17,]  1.61265986 0.264419791 0.64471494\n",
       "[18,]  1.04088992 1.584494787 0.19616481\n",
       "[19,]  0.11426669 0.790059186 0.94831713\n",
       "[20,] -0.16103555 0.112897158 0.19660418\n",
       "[21,] -0.46409134 0.397766551 1.14864829\n",
       "[22,] -0.17503821 2.345658962 0.80798855\n",
       "[23,]  1.14206336 0.064781351 1.88838626\n",
       "[24,]  1.29824117 0.308617314 1.84653339\n",
       "[25,]  0.39353885 0.176955322 1.06523621\n",
       "[26,] -1.26937649 0.353061974 1.91192497\n",
       "[27,]  1.02235605 0.936847473 1.47997280\n",
       "[28,] -1.43203461 1.910996122 0.36251213\n",
       "[29,]  0.17007790 1.109508033 0.91300794\n",
       "[30,]  0.26444960 0.009549556 0.03743093\n",
       "[31,]  1.70585632 0.595840494 0.27405431"
      ]
     },
     "metadata": {},
     "output_type": "display_data"
    }
   ],
   "source": [
    "A[A[,3] > 0 & A[,2] > 0, ]"
   ]
  },
  {
   "cell_type": "markdown",
   "id": "processed-player",
   "metadata": {},
   "source": [
    "`-` `t(A)` 함수는 행렬 $\\bf A$의 `전치행렬`을 구해줌"
   ]
  },
  {
   "cell_type": "code",
   "execution_count": 22,
   "id": "realistic-timer",
   "metadata": {},
   "outputs": [
    {
     "data": {
      "text/html": [
       "<table class=\"dataframe\">\n",
       "<caption>A matrix: 3 × 3 of type int</caption>\n",
       "<tbody>\n",
       "\t<tr><td>1</td><td>4</td><td>7</td></tr>\n",
       "\t<tr><td>2</td><td>5</td><td>8</td></tr>\n",
       "\t<tr><td>3</td><td>6</td><td>9</td></tr>\n",
       "</tbody>\n",
       "</table>\n"
      ],
      "text/latex": [
       "A matrix: 3 × 3 of type int\n",
       "\\begin{tabular}{lll}\n",
       "\t 1 & 4 & 7\\\\\n",
       "\t 2 & 5 & 8\\\\\n",
       "\t 3 & 6 & 9\\\\\n",
       "\\end{tabular}\n"
      ],
      "text/markdown": [
       "\n",
       "A matrix: 3 × 3 of type int\n",
       "\n",
       "| 1 | 4 | 7 |\n",
       "| 2 | 5 | 8 |\n",
       "| 3 | 6 | 9 |\n",
       "\n"
      ],
      "text/plain": [
       "     [,1] [,2] [,3]\n",
       "[1,] 1    4    7   \n",
       "[2,] 2    5    8   \n",
       "[3,] 3    6    9   "
      ]
     },
     "metadata": {},
     "output_type": "display_data"
    }
   ],
   "source": [
    "B <- matrix(1:9, 3, 3)\n",
    "B"
   ]
  },
  {
   "cell_type": "code",
   "execution_count": 23,
   "id": "later-character",
   "metadata": {},
   "outputs": [
    {
     "data": {
      "text/html": [
       "<table class=\"dataframe\">\n",
       "<caption>A matrix: 3 × 3 of type int</caption>\n",
       "<tbody>\n",
       "\t<tr><td>1</td><td>2</td><td>3</td></tr>\n",
       "\t<tr><td>4</td><td>5</td><td>6</td></tr>\n",
       "\t<tr><td>7</td><td>8</td><td>9</td></tr>\n",
       "</tbody>\n",
       "</table>\n"
      ],
      "text/latex": [
       "A matrix: 3 × 3 of type int\n",
       "\\begin{tabular}{lll}\n",
       "\t 1 & 2 & 3\\\\\n",
       "\t 4 & 5 & 6\\\\\n",
       "\t 7 & 8 & 9\\\\\n",
       "\\end{tabular}\n"
      ],
      "text/markdown": [
       "\n",
       "A matrix: 3 × 3 of type int\n",
       "\n",
       "| 1 | 2 | 3 |\n",
       "| 4 | 5 | 6 |\n",
       "| 7 | 8 | 9 |\n",
       "\n"
      ],
      "text/plain": [
       "     [,1] [,2] [,3]\n",
       "[1,] 1    2    3   \n",
       "[2,] 4    5    6   \n",
       "[3,] 7    8    9   "
      ]
     },
     "metadata": {},
     "output_type": "display_data"
    }
   ],
   "source": [
    "t(B)"
   ]
  },
  {
   "cell_type": "markdown",
   "id": "mighty-testing",
   "metadata": {},
   "source": [
    "`-` `solve()`함수는 `역행렬`을 구해줌"
   ]
  },
  {
   "cell_type": "code",
   "execution_count": 24,
   "id": "solid-happiness",
   "metadata": {},
   "outputs": [
    {
     "data": {
      "text/html": [
       "<table class=\"dataframe\">\n",
       "<caption>A matrix: 3 × 3 of type dbl</caption>\n",
       "<tbody>\n",
       "\t<tr><td>16</td><td>4</td><td>1</td></tr>\n",
       "\t<tr><td> 4</td><td>4</td><td>1</td></tr>\n",
       "\t<tr><td> 1</td><td>1</td><td>1</td></tr>\n",
       "</tbody>\n",
       "</table>\n"
      ],
      "text/latex": [
       "A matrix: 3 × 3 of type dbl\n",
       "\\begin{tabular}{lll}\n",
       "\t 16 & 4 & 1\\\\\n",
       "\t  4 & 4 & 1\\\\\n",
       "\t  1 & 1 & 1\\\\\n",
       "\\end{tabular}\n"
      ],
      "text/markdown": [
       "\n",
       "A matrix: 3 × 3 of type dbl\n",
       "\n",
       "| 16 | 4 | 1 |\n",
       "|  4 | 4 | 1 |\n",
       "|  1 | 1 | 1 |\n",
       "\n"
      ],
      "text/plain": [
       "     [,1] [,2] [,3]\n",
       "[1,] 16   4    1   \n",
       "[2,]  4   4    1   \n",
       "[3,]  1   1    1   "
      ]
     },
     "metadata": {},
     "output_type": "display_data"
    }
   ],
   "source": [
    "C <- matrix(c(16 ,4, 1, 4, 4, 1, 1, 1, 1), 3, 3)\n",
    "C"
   ]
  },
  {
   "cell_type": "code",
   "execution_count": 25,
   "id": "incident-kitty",
   "metadata": {},
   "outputs": [
    {
     "data": {
      "text/html": [
       "<table class=\"dataframe\">\n",
       "<caption>A matrix: 3 × 3 of type dbl</caption>\n",
       "<tbody>\n",
       "\t<tr><td> 0.08333333</td><td>-0.08333333</td><td> 0.0000000</td></tr>\n",
       "\t<tr><td>-0.08333333</td><td> 0.41666667</td><td>-0.3333333</td></tr>\n",
       "\t<tr><td> 0.00000000</td><td>-0.33333333</td><td> 1.3333333</td></tr>\n",
       "</tbody>\n",
       "</table>\n"
      ],
      "text/latex": [
       "A matrix: 3 × 3 of type dbl\n",
       "\\begin{tabular}{lll}\n",
       "\t  0.08333333 & -0.08333333 &  0.0000000\\\\\n",
       "\t -0.08333333 &  0.41666667 & -0.3333333\\\\\n",
       "\t  0.00000000 & -0.33333333 &  1.3333333\\\\\n",
       "\\end{tabular}\n"
      ],
      "text/markdown": [
       "\n",
       "A matrix: 3 × 3 of type dbl\n",
       "\n",
       "|  0.08333333 | -0.08333333 |  0.0000000 |\n",
       "| -0.08333333 |  0.41666667 | -0.3333333 |\n",
       "|  0.00000000 | -0.33333333 |  1.3333333 |\n",
       "\n"
      ],
      "text/plain": [
       "     [,1]        [,2]        [,3]      \n",
       "[1,]  0.08333333 -0.08333333  0.0000000\n",
       "[2,] -0.08333333  0.41666667 -0.3333333\n",
       "[3,]  0.00000000 -0.33333333  1.3333333"
      ]
     },
     "metadata": {},
     "output_type": "display_data"
    }
   ],
   "source": [
    "solve(C)"
   ]
  },
  {
   "cell_type": "markdown",
   "id": "digital-fifty",
   "metadata": {},
   "source": [
    "`-` `%*%`는 `행렬곱` ---> 잘 알아두자"
   ]
  },
  {
   "cell_type": "code",
   "execution_count": 26,
   "id": "filled-reset",
   "metadata": {},
   "outputs": [
    {
     "data": {
      "text/html": [
       "<table class=\"dataframe\">\n",
       "<caption>A matrix: 3 × 3 of type dbl</caption>\n",
       "<tbody>\n",
       "\t<tr><td>1.000000e+00</td><td>-5.551115e-17</td><td>-1.387779e-17</td></tr>\n",
       "\t<tr><td>1.665335e-16</td><td> 1.000000e+00</td><td> 5.551115e-17</td></tr>\n",
       "\t<tr><td>0.000000e+00</td><td> 0.000000e+00</td><td> 1.000000e+00</td></tr>\n",
       "</tbody>\n",
       "</table>\n"
      ],
      "text/latex": [
       "A matrix: 3 × 3 of type dbl\n",
       "\\begin{tabular}{lll}\n",
       "\t 1.000000e+00 & -5.551115e-17 & -1.387779e-17\\\\\n",
       "\t 1.665335e-16 &  1.000000e+00 &  5.551115e-17\\\\\n",
       "\t 0.000000e+00 &  0.000000e+00 &  1.000000e+00\\\\\n",
       "\\end{tabular}\n"
      ],
      "text/markdown": [
       "\n",
       "A matrix: 3 × 3 of type dbl\n",
       "\n",
       "| 1.000000e+00 | -5.551115e-17 | -1.387779e-17 |\n",
       "| 1.665335e-16 |  1.000000e+00 |  5.551115e-17 |\n",
       "| 0.000000e+00 |  0.000000e+00 |  1.000000e+00 |\n",
       "\n"
      ],
      "text/plain": [
       "     [,1]         [,2]          [,3]         \n",
       "[1,] 1.000000e+00 -5.551115e-17 -1.387779e-17\n",
       "[2,] 1.665335e-16  1.000000e+00  5.551115e-17\n",
       "[3,] 0.000000e+00  0.000000e+00  1.000000e+00"
      ]
     },
     "metadata": {},
     "output_type": "display_data"
    }
   ],
   "source": [
    "solve(C) %*% C"
   ]
  },
  {
   "cell_type": "markdown",
   "id": "adverse-mailing",
   "metadata": {},
   "source": [
    "`-` 참고로 $AA^{-1} = I$\n",
    "\n",
    "`-` $I$는 [단위행렬](https://ko.wikipedia.org/wiki/%EB%8B%A8%EC%9C%84%ED%96%89%EB%A0%AC)"
   ]
  },
  {
   "cell_type": "markdown",
   "id": "ranging-consultation",
   "metadata": {},
   "source": [
    "## apply 함수 "
   ]
  },
  {
   "cell_type": "markdown",
   "id": "portable-needle",
   "metadata": {},
   "source": [
    "`-` `apply(A, 1 or 2, f)` ---> 행렬A의 행(1) or 열(2)에 함수 f를 적용 \n",
    "\n",
    "`-` c(1, 2)는 행과 열에 적용 ---> 각 원소 : 파이썬의 applymap 함수를 생각하자"
   ]
  },
  {
   "cell_type": "code",
   "execution_count": 27,
   "id": "surprising-header",
   "metadata": {},
   "outputs": [
    {
     "data": {
      "text/html": [
       "<table class=\"dataframe\">\n",
       "<caption>A matrix: 3 × 4 of type int</caption>\n",
       "<tbody>\n",
       "\t<tr><td>1</td><td>4</td><td>7</td><td>10</td></tr>\n",
       "\t<tr><td>2</td><td>5</td><td>8</td><td>11</td></tr>\n",
       "\t<tr><td>3</td><td>6</td><td>9</td><td>12</td></tr>\n",
       "</tbody>\n",
       "</table>\n"
      ],
      "text/latex": [
       "A matrix: 3 × 4 of type int\n",
       "\\begin{tabular}{llll}\n",
       "\t 1 & 4 & 7 & 10\\\\\n",
       "\t 2 & 5 & 8 & 11\\\\\n",
       "\t 3 & 6 & 9 & 12\\\\\n",
       "\\end{tabular}\n"
      ],
      "text/markdown": [
       "\n",
       "A matrix: 3 × 4 of type int\n",
       "\n",
       "| 1 | 4 | 7 | 10 |\n",
       "| 2 | 5 | 8 | 11 |\n",
       "| 3 | 6 | 9 | 12 |\n",
       "\n"
      ],
      "text/plain": [
       "     [,1] [,2] [,3] [,4]\n",
       "[1,] 1    4    7    10  \n",
       "[2,] 2    5    8    11  \n",
       "[3,] 3    6    9    12  "
      ]
     },
     "metadata": {},
     "output_type": "display_data"
    }
   ],
   "source": [
    "M <- matrix(1:12, 3, 4)\n",
    "M"
   ]
  },
  {
   "cell_type": "markdown",
   "id": "ranging-manchester",
   "metadata": {},
   "source": [
    "`-` apply에서 옵션을 1(행)로 하니 전치된 행렬을 반환함\n",
    "\n",
    "`-` 그래서 원래의 행렬 크기와 같게 하려면 `t()` 함수를 통해 전치시켜야 함"
   ]
  },
  {
   "cell_type": "code",
   "execution_count": 28,
   "id": "popular-brook",
   "metadata": {},
   "outputs": [
    {
     "data": {
      "text/html": [
       "<table class=\"dataframe\">\n",
       "<caption>A matrix: 4 × 3 of type int</caption>\n",
       "<tbody>\n",
       "\t<tr><td>-2</td><td>-1</td><td>0</td></tr>\n",
       "\t<tr><td>-2</td><td>-1</td><td>0</td></tr>\n",
       "\t<tr><td>-2</td><td>-1</td><td>0</td></tr>\n",
       "\t<tr><td>-2</td><td>-1</td><td>0</td></tr>\n",
       "</tbody>\n",
       "</table>\n"
      ],
      "text/latex": [
       "A matrix: 4 × 3 of type int\n",
       "\\begin{tabular}{lll}\n",
       "\t -2 & -1 & 0\\\\\n",
       "\t -2 & -1 & 0\\\\\n",
       "\t -2 & -1 & 0\\\\\n",
       "\t -2 & -1 & 0\\\\\n",
       "\\end{tabular}\n"
      ],
      "text/markdown": [
       "\n",
       "A matrix: 4 × 3 of type int\n",
       "\n",
       "| -2 | -1 | 0 |\n",
       "| -2 | -1 | 0 |\n",
       "| -2 | -1 | 0 |\n",
       "| -2 | -1 | 0 |\n",
       "\n"
      ],
      "text/plain": [
       "     [,1] [,2] [,3]\n",
       "[1,] -2   -1   0   \n",
       "[2,] -2   -1   0   \n",
       "[3,] -2   -1   0   \n",
       "[4,] -2   -1   0   "
      ]
     },
     "metadata": {},
     "output_type": "display_data"
    }
   ],
   "source": [
    "max_ = apply(M, 2, max)\n",
    "apply(M, 1, \"-\", max_)"
   ]
  },
  {
   "cell_type": "code",
   "execution_count": 29,
   "id": "proved-hospital",
   "metadata": {},
   "outputs": [
    {
     "data": {
      "text/html": [
       "<table class=\"dataframe\">\n",
       "<caption>A matrix: 3 × 4 of type int</caption>\n",
       "<tbody>\n",
       "\t<tr><td>-2</td><td>-2</td><td>-2</td><td>-2</td></tr>\n",
       "\t<tr><td>-1</td><td>-1</td><td>-1</td><td>-1</td></tr>\n",
       "\t<tr><td> 0</td><td> 0</td><td> 0</td><td> 0</td></tr>\n",
       "</tbody>\n",
       "</table>\n"
      ],
      "text/latex": [
       "A matrix: 3 × 4 of type int\n",
       "\\begin{tabular}{llll}\n",
       "\t -2 & -2 & -2 & -2\\\\\n",
       "\t -1 & -1 & -1 & -1\\\\\n",
       "\t  0 &  0 &  0 &  0\\\\\n",
       "\\end{tabular}\n"
      ],
      "text/markdown": [
       "\n",
       "A matrix: 3 × 4 of type int\n",
       "\n",
       "| -2 | -2 | -2 | -2 |\n",
       "| -1 | -1 | -1 | -1 |\n",
       "|  0 |  0 |  0 |  0 |\n",
       "\n"
      ],
      "text/plain": [
       "     [,1] [,2] [,3] [,4]\n",
       "[1,] -2   -2   -2   -2  \n",
       "[2,] -1   -1   -1   -1  \n",
       "[3,]  0    0    0    0  "
      ]
     },
     "metadata": {},
     "output_type": "display_data"
    }
   ],
   "source": [
    "max_ = apply(M, 2, max)\n",
    "t(apply(M, 1, \"-\", max_))"
   ]
  },
  {
   "cell_type": "markdown",
   "id": "blind-green",
   "metadata": {},
   "source": [
    "`-` apply에서 옵션을 2(열)로 하니 문제 없어보임"
   ]
  },
  {
   "cell_type": "code",
   "execution_count": 30,
   "id": "prescribed-forwarding",
   "metadata": {},
   "outputs": [
    {
     "data": {
      "text/html": [
       "<table class=\"dataframe\">\n",
       "<caption>A matrix: 3 × 4 of type int</caption>\n",
       "<tbody>\n",
       "\t<tr><td>-9</td><td>-6</td><td>-3</td><td>0</td></tr>\n",
       "\t<tr><td>-9</td><td>-6</td><td>-3</td><td>0</td></tr>\n",
       "\t<tr><td>-9</td><td>-6</td><td>-3</td><td>0</td></tr>\n",
       "</tbody>\n",
       "</table>\n"
      ],
      "text/latex": [
       "A matrix: 3 × 4 of type int\n",
       "\\begin{tabular}{llll}\n",
       "\t -9 & -6 & -3 & 0\\\\\n",
       "\t -9 & -6 & -3 & 0\\\\\n",
       "\t -9 & -6 & -3 & 0\\\\\n",
       "\\end{tabular}\n"
      ],
      "text/markdown": [
       "\n",
       "A matrix: 3 × 4 of type int\n",
       "\n",
       "| -9 | -6 | -3 | 0 |\n",
       "| -9 | -6 | -3 | 0 |\n",
       "| -9 | -6 | -3 | 0 |\n",
       "\n"
      ],
      "text/plain": [
       "     [,1] [,2] [,3] [,4]\n",
       "[1,] -9   -6   -3   0   \n",
       "[2,] -9   -6   -3   0   \n",
       "[3,] -9   -6   -3   0   "
      ]
     },
     "metadata": {},
     "output_type": "display_data"
    }
   ],
   "source": [
    "max_ = apply(M, 1, max)\n",
    "apply(M, 2, \"-\", max_)"
   ]
  },
  {
   "cell_type": "markdown",
   "id": "conservative-klein",
   "metadata": {},
   "source": [
    "`-` 옵션을 c(1, 2)로 하니 각 원소에서 -1을 수행함"
   ]
  },
  {
   "cell_type": "code",
   "execution_count": 32,
   "id": "nervous-consideration",
   "metadata": {},
   "outputs": [
    {
     "data": {
      "text/html": [
       "<table class=\"dataframe\">\n",
       "<caption>A matrix: 3 × 4 of type dbl</caption>\n",
       "<tbody>\n",
       "\t<tr><td>0</td><td>3</td><td>6</td><td> 9</td></tr>\n",
       "\t<tr><td>1</td><td>4</td><td>7</td><td>10</td></tr>\n",
       "\t<tr><td>2</td><td>5</td><td>8</td><td>11</td></tr>\n",
       "</tbody>\n",
       "</table>\n"
      ],
      "text/latex": [
       "A matrix: 3 × 4 of type dbl\n",
       "\\begin{tabular}{llll}\n",
       "\t 0 & 3 & 6 &  9\\\\\n",
       "\t 1 & 4 & 7 & 10\\\\\n",
       "\t 2 & 5 & 8 & 11\\\\\n",
       "\\end{tabular}\n"
      ],
      "text/markdown": [
       "\n",
       "A matrix: 3 × 4 of type dbl\n",
       "\n",
       "| 0 | 3 | 6 |  9 |\n",
       "| 1 | 4 | 7 | 10 |\n",
       "| 2 | 5 | 8 | 11 |\n",
       "\n"
      ],
      "text/plain": [
       "     [,1] [,2] [,3] [,4]\n",
       "[1,] 0    3    6     9  \n",
       "[2,] 1    4    7    10  \n",
       "[3,] 2    5    8    11  "
      ]
     },
     "metadata": {},
     "output_type": "display_data"
    }
   ],
   "source": [
    "apply(M, 1:2, \"-\", 1)"
   ]
  },
  {
   "cell_type": "markdown",
   "id": "opposite-absorption",
   "metadata": {},
   "source": [
    "`-` 행렬의 각 열에 대해 최소값 0과 최대값 1이 되도록 변환"
   ]
  },
  {
   "cell_type": "code",
   "execution_count": 34,
   "id": "expressed-chorus",
   "metadata": {},
   "outputs": [
    {
     "data": {
      "text/html": [
       "<table class=\"dataframe\">\n",
       "<caption>A matrix: 5 × 4 of type dbl</caption>\n",
       "<tbody>\n",
       "\t<tr><td> 0.03010344</td><td>-0.7290295</td><td>-0.93633376</td><td> 0.8597820</td></tr>\n",
       "\t<tr><td>-0.89649998</td><td>-0.6734334</td><td> 0.57546489</td><td>-0.2280883</td></tr>\n",
       "\t<tr><td> 0.14167091</td><td> 0.6042198</td><td> 0.12012976</td><td>-1.3751352</td></tr>\n",
       "\t<tr><td> 0.23300396</td><td>-0.9783167</td><td> 0.05895963</td><td>-0.1561013</td></tr>\n",
       "\t<tr><td> 0.97727567</td><td>-2.1341398</td><td> 1.52209622</td><td> 1.1284436</td></tr>\n",
       "</tbody>\n",
       "</table>\n"
      ],
      "text/latex": [
       "A matrix: 5 × 4 of type dbl\n",
       "\\begin{tabular}{llll}\n",
       "\t  0.03010344 & -0.7290295 & -0.93633376 &  0.8597820\\\\\n",
       "\t -0.89649998 & -0.6734334 &  0.57546489 & -0.2280883\\\\\n",
       "\t  0.14167091 &  0.6042198 &  0.12012976 & -1.3751352\\\\\n",
       "\t  0.23300396 & -0.9783167 &  0.05895963 & -0.1561013\\\\\n",
       "\t  0.97727567 & -2.1341398 &  1.52209622 &  1.1284436\\\\\n",
       "\\end{tabular}\n"
      ],
      "text/markdown": [
       "\n",
       "A matrix: 5 × 4 of type dbl\n",
       "\n",
       "|  0.03010344 | -0.7290295 | -0.93633376 |  0.8597820 |\n",
       "| -0.89649998 | -0.6734334 |  0.57546489 | -0.2280883 |\n",
       "|  0.14167091 |  0.6042198 |  0.12012976 | -1.3751352 |\n",
       "|  0.23300396 | -0.9783167 |  0.05895963 | -0.1561013 |\n",
       "|  0.97727567 | -2.1341398 |  1.52209622 |  1.1284436 |\n",
       "\n"
      ],
      "text/plain": [
       "     [,1]        [,2]       [,3]        [,4]      \n",
       "[1,]  0.03010344 -0.7290295 -0.93633376  0.8597820\n",
       "[2,] -0.89649998 -0.6734334  0.57546489 -0.2280883\n",
       "[3,]  0.14167091  0.6042198  0.12012976 -1.3751352\n",
       "[4,]  0.23300396 -0.9783167  0.05895963 -0.1561013\n",
       "[5,]  0.97727567 -2.1341398  1.52209622  1.1284436"
      ]
     },
     "metadata": {},
     "output_type": "display_data"
    }
   ],
   "source": [
    "n <- 5\n",
    "p <- 4\n",
    "M <- matrix(rnorm(n*p), n, p)\n",
    "M"
   ]
  },
  {
   "cell_type": "code",
   "execution_count": 35,
   "id": "distant-double",
   "metadata": {},
   "outputs": [
    {
     "data": {
      "text/html": [
       "<table class=\"dataframe\">\n",
       "<caption>A matrix: 5 × 4 of type dbl</caption>\n",
       "<tbody>\n",
       "\t<tr><td>0.4945114</td><td>0.5131212</td><td>0.0000000</td><td>0.8926890</td></tr>\n",
       "\t<tr><td>0.0000000</td><td>0.5334239</td><td>0.6149448</td><td>0.4581629</td></tr>\n",
       "\t<tr><td>0.5540529</td><td>1.0000000</td><td>0.4297310</td><td>0.0000000</td></tr>\n",
       "\t<tr><td>0.6027957</td><td>0.4220859</td><td>0.4048492</td><td>0.4869165</td></tr>\n",
       "\t<tr><td>1.0000000</td><td>0.0000000</td><td>1.0000000</td><td>1.0000000</td></tr>\n",
       "</tbody>\n",
       "</table>\n"
      ],
      "text/latex": [
       "A matrix: 5 × 4 of type dbl\n",
       "\\begin{tabular}{llll}\n",
       "\t 0.4945114 & 0.5131212 & 0.0000000 & 0.8926890\\\\\n",
       "\t 0.0000000 & 0.5334239 & 0.6149448 & 0.4581629\\\\\n",
       "\t 0.5540529 & 1.0000000 & 0.4297310 & 0.0000000\\\\\n",
       "\t 0.6027957 & 0.4220859 & 0.4048492 & 0.4869165\\\\\n",
       "\t 1.0000000 & 0.0000000 & 1.0000000 & 1.0000000\\\\\n",
       "\\end{tabular}\n"
      ],
      "text/markdown": [
       "\n",
       "A matrix: 5 × 4 of type dbl\n",
       "\n",
       "| 0.4945114 | 0.5131212 | 0.0000000 | 0.8926890 |\n",
       "| 0.0000000 | 0.5334239 | 0.6149448 | 0.4581629 |\n",
       "| 0.5540529 | 1.0000000 | 0.4297310 | 0.0000000 |\n",
       "| 0.6027957 | 0.4220859 | 0.4048492 | 0.4869165 |\n",
       "| 1.0000000 | 0.0000000 | 1.0000000 | 1.0000000 |\n",
       "\n"
      ],
      "text/plain": [
       "     [,1]      [,2]      [,3]      [,4]     \n",
       "[1,] 0.4945114 0.5131212 0.0000000 0.8926890\n",
       "[2,] 0.0000000 0.5334239 0.6149448 0.4581629\n",
       "[3,] 0.5540529 1.0000000 0.4297310 0.0000000\n",
       "[4,] 0.6027957 0.4220859 0.4048492 0.4869165\n",
       "[5,] 1.0000000 0.0000000 1.0000000 1.0000000"
      ]
     },
     "metadata": {},
     "output_type": "display_data"
    }
   ],
   "source": [
    "min_ <- apply(M, 2, min)\n",
    "max_ <- apply(M, 2, max)\n",
    "M.1 <- t(apply(M, 1, \"-\", min_))\n",
    "M.2 <- t(apply(M.1, 1, \"/\", max_-min_))\n",
    "M.2"
   ]
  },
  {
   "cell_type": "markdown",
   "id": "documented-weight",
   "metadata": {},
   "source": [
    "## rownames와 colnames 함수\n",
    "`-` 행렬의 행과 열에 이름을 붙임"
   ]
  },
  {
   "cell_type": "code",
   "execution_count": 37,
   "id": "characteristic-india",
   "metadata": {},
   "outputs": [
    {
     "data": {
      "text/html": [
       "<table class=\"dataframe\">\n",
       "<caption>A matrix: 10 × 4 of type dbl</caption>\n",
       "<thead>\n",
       "\t<tr><th></th><th scope=col>math</th><th scope=col>engl</th><th scope=col>science</th><th scope=col>arts</th></tr>\n",
       "</thead>\n",
       "<tbody>\n",
       "\t<tr><th scope=row>S1</th><td>56</td><td>52</td><td>62</td><td>51</td></tr>\n",
       "\t<tr><th scope=row>S2</th><td>43</td><td>50</td><td>35</td><td>45</td></tr>\n",
       "\t<tr><th scope=row>S3</th><td>37</td><td>48</td><td>45</td><td>49</td></tr>\n",
       "\t<tr><th scope=row>S4</th><td>51</td><td>35</td><td>29</td><td>46</td></tr>\n",
       "\t<tr><th scope=row>S5</th><td>56</td><td>46</td><td>43</td><td>44</td></tr>\n",
       "\t<tr><th scope=row>S6</th><td>56</td><td>56</td><td>46</td><td>51</td></tr>\n",
       "\t<tr><th scope=row>S7</th><td>60</td><td>68</td><td>48</td><td>51</td></tr>\n",
       "\t<tr><th scope=row>S8</th><td>42</td><td>58</td><td>54</td><td>52</td></tr>\n",
       "\t<tr><th scope=row>S9</th><td>54</td><td>32</td><td>55</td><td>50</td></tr>\n",
       "\t<tr><th scope=row>S10</th><td>38</td><td>47</td><td>33</td><td>56</td></tr>\n",
       "</tbody>\n",
       "</table>\n"
      ],
      "text/latex": [
       "A matrix: 10 × 4 of type dbl\n",
       "\\begin{tabular}{r|llll}\n",
       "  & math & engl & science & arts\\\\\n",
       "\\hline\n",
       "\tS1 & 56 & 52 & 62 & 51\\\\\n",
       "\tS2 & 43 & 50 & 35 & 45\\\\\n",
       "\tS3 & 37 & 48 & 45 & 49\\\\\n",
       "\tS4 & 51 & 35 & 29 & 46\\\\\n",
       "\tS5 & 56 & 46 & 43 & 44\\\\\n",
       "\tS6 & 56 & 56 & 46 & 51\\\\\n",
       "\tS7 & 60 & 68 & 48 & 51\\\\\n",
       "\tS8 & 42 & 58 & 54 & 52\\\\\n",
       "\tS9 & 54 & 32 & 55 & 50\\\\\n",
       "\tS10 & 38 & 47 & 33 & 56\\\\\n",
       "\\end{tabular}\n"
      ],
      "text/markdown": [
       "\n",
       "A matrix: 10 × 4 of type dbl\n",
       "\n",
       "| <!--/--> | math | engl | science | arts |\n",
       "|---|---|---|---|---|\n",
       "| S1 | 56 | 52 | 62 | 51 |\n",
       "| S2 | 43 | 50 | 35 | 45 |\n",
       "| S3 | 37 | 48 | 45 | 49 |\n",
       "| S4 | 51 | 35 | 29 | 46 |\n",
       "| S5 | 56 | 46 | 43 | 44 |\n",
       "| S6 | 56 | 56 | 46 | 51 |\n",
       "| S7 | 60 | 68 | 48 | 51 |\n",
       "| S8 | 42 | 58 | 54 | 52 |\n",
       "| S9 | 54 | 32 | 55 | 50 |\n",
       "| S10 | 38 | 47 | 33 | 56 |\n",
       "\n"
      ],
      "text/plain": [
       "    math engl science arts\n",
       "S1  56   52   62      51  \n",
       "S2  43   50   35      45  \n",
       "S3  37   48   45      49  \n",
       "S4  51   35   29      46  \n",
       "S5  56   46   43      44  \n",
       "S6  56   56   46      51  \n",
       "S7  60   68   48      51  \n",
       "S8  42   58   54      52  \n",
       "S9  54   32   55      50  \n",
       "S10 38   47   33      56  "
      ]
     },
     "metadata": {},
     "output_type": "display_data"
    }
   ],
   "source": [
    "n <- 10\n",
    "x <- matrix(round(rnorm(n*4, 50, 10)), n, 4) ## 평균이 50, 표준편차가 10인 정규분포에서 난수 40개 추출\n",
    "rownames(x) <- paste(\"S\", 1:n, sep = \"\")\n",
    "colnames(x) <- c(\"math\", \"engl\", \"science\", \"arts\")\n",
    "x"
   ]
  },
  {
   "cell_type": "markdown",
   "id": "subject-pierre",
   "metadata": {},
   "source": [
    "# 리스트(list) \n",
    "`-` R에서 가장 일반적인 데이터 형태"
   ]
  },
  {
   "cell_type": "code",
   "execution_count": 38,
   "id": "prostate-looking",
   "metadata": {},
   "outputs": [
    {
     "data": {
      "text/html": [
       "<dl>\n",
       "\t<dt>$leaders</dt>\n",
       "\t\t<dd><style>\n",
       ".list-inline {list-style: none; margin:0; padding: 0}\n",
       ".list-inline>li {display: inline-block}\n",
       ".list-inline>li:not(:last-child)::after {content: \"\\00b7\"; padding: 0 .5ex}\n",
       "</style>\n",
       "<ol class=list-inline><li>'gang'</li><li>'iu'</li></ol>\n",
       "</dd>\n",
       "\t<dt>$assisstants</dt>\n",
       "\t\t<dd>'kang'</dd>\n",
       "</dl>\n"
      ],
      "text/latex": [
       "\\begin{description}\n",
       "\\item[\\$leaders] \\begin{enumerate*}\n",
       "\\item 'gang'\n",
       "\\item 'iu'\n",
       "\\end{enumerate*}\n",
       "\n",
       "\\item[\\$assisstants] 'kang'\n",
       "\\end{description}\n"
      ],
      "text/markdown": [
       "$leaders\n",
       ":   1. 'gang'\n",
       "2. 'iu'\n",
       "\n",
       "\n",
       "\n",
       "$assisstants\n",
       ":   'kang'\n",
       "\n",
       "\n"
      ],
      "text/plain": [
       "$leaders\n",
       "[1] \"gang\" \"iu\"  \n",
       "\n",
       "$assisstants\n",
       "[1] \"kang\"\n"
      ]
     },
     "metadata": {},
     "output_type": "display_data"
    }
   ],
   "source": [
    "members <- list(leaders = c(\"gang\", \"iu\"), assisstants = \"kang\")\n",
    "members"
   ]
  },
  {
   "cell_type": "markdown",
   "id": "naval-cornwall",
   "metadata": {},
   "source": [
    "`-` class(X) 함수는 X의 type을 알려줌"
   ]
  },
  {
   "cell_type": "code",
   "execution_count": 39,
   "id": "corresponding-diamond",
   "metadata": {},
   "outputs": [
    {
     "data": {
      "text/html": [
       "'list'"
      ],
      "text/latex": [
       "'list'"
      ],
      "text/markdown": [
       "'list'"
      ],
      "text/plain": [
       "[1] \"list\""
      ]
     },
     "metadata": {},
     "output_type": "display_data"
    }
   ],
   "source": [
    "class(members)"
   ]
  },
  {
   "cell_type": "markdown",
   "id": "helpful-angola",
   "metadata": {},
   "source": [
    "`-` names()함수로 요소의 라벨을 확인 + 변경 가능"
   ]
  },
  {
   "cell_type": "code",
   "execution_count": 40,
   "id": "incomplete-relative",
   "metadata": {},
   "outputs": [
    {
     "name": "stdout",
     "output_type": "stream",
     "text": [
      "[1] \"leaders\"     \"assisstants\"\n",
      "[1] \"leaders\" \"workers\"\n"
     ]
    }
   ],
   "source": [
    "print(names(members))\n",
    "names(members)[2] <- \"workers\"\n",
    "print(names(members))"
   ]
  },
  {
   "cell_type": "markdown",
   "id": "appointed-publisher",
   "metadata": {},
   "source": [
    "## 리스트에 접근하기 "
   ]
  },
  {
   "cell_type": "markdown",
   "id": "lucky-electron",
   "metadata": {},
   "source": [
    "`-` `[[  ]]` 사용"
   ]
  },
  {
   "cell_type": "code",
   "execution_count": 41,
   "id": "baking-spouse",
   "metadata": {},
   "outputs": [
    {
     "data": {
      "text/html": [
       "<style>\n",
       ".list-inline {list-style: none; margin:0; padding: 0}\n",
       ".list-inline>li {display: inline-block}\n",
       ".list-inline>li:not(:last-child)::after {content: \"\\00b7\"; padding: 0 .5ex}\n",
       "</style>\n",
       "<ol class=list-inline><li>'gang'</li><li>'iu'</li></ol>\n"
      ],
      "text/latex": [
       "\\begin{enumerate*}\n",
       "\\item 'gang'\n",
       "\\item 'iu'\n",
       "\\end{enumerate*}\n"
      ],
      "text/markdown": [
       "1. 'gang'\n",
       "2. 'iu'\n",
       "\n",
       "\n"
      ],
      "text/plain": [
       "[1] \"gang\" \"iu\"  "
      ]
     },
     "metadata": {},
     "output_type": "display_data"
    }
   ],
   "source": [
    "members[[1]]"
   ]
  },
  {
   "cell_type": "markdown",
   "id": "sublime-treasure",
   "metadata": {},
   "source": [
    "`-` `[ ]`은 sublist\n",
    "\n",
    "`-` `[[  ]]`은 벡터이고 `[ ]`은 리스트임"
   ]
  },
  {
   "cell_type": "code",
   "execution_count": 42,
   "id": "indie-wrist",
   "metadata": {},
   "outputs": [
    {
     "data": {
      "text/html": [
       "<strong>$leaders</strong> = <style>\n",
       ".list-inline {list-style: none; margin:0; padding: 0}\n",
       ".list-inline>li {display: inline-block}\n",
       ".list-inline>li:not(:last-child)::after {content: \"\\00b7\"; padding: 0 .5ex}\n",
       "</style>\n",
       "<ol class=list-inline><li>'gang'</li><li>'iu'</li></ol>\n"
      ],
      "text/latex": [
       "\\textbf{\\$leaders} = \\begin{enumerate*}\n",
       "\\item 'gang'\n",
       "\\item 'iu'\n",
       "\\end{enumerate*}\n"
      ],
      "text/markdown": [
       "**$leaders** = 1. 'gang'\n",
       "2. 'iu'\n",
       "\n",
       "\n"
      ],
      "text/plain": [
       "$leaders\n",
       "[1] \"gang\" \"iu\"  \n"
      ]
     },
     "metadata": {},
     "output_type": "display_data"
    }
   ],
   "source": [
    "members[1]"
   ]
  },
  {
   "cell_type": "markdown",
   "id": "qualified-restriction",
   "metadata": {},
   "source": [
    "`-` 요소 이름 사용"
   ]
  },
  {
   "cell_type": "code",
   "execution_count": 43,
   "id": "promotional-spoke",
   "metadata": {},
   "outputs": [
    {
     "data": {
      "text/html": [
       "<style>\n",
       ".list-inline {list-style: none; margin:0; padding: 0}\n",
       ".list-inline>li {display: inline-block}\n",
       ".list-inline>li:not(:last-child)::after {content: \"\\00b7\"; padding: 0 .5ex}\n",
       "</style>\n",
       "<ol class=list-inline><li>'gang'</li><li>'iu'</li></ol>\n"
      ],
      "text/latex": [
       "\\begin{enumerate*}\n",
       "\\item 'gang'\n",
       "\\item 'iu'\n",
       "\\end{enumerate*}\n"
      ],
      "text/markdown": [
       "1. 'gang'\n",
       "2. 'iu'\n",
       "\n",
       "\n"
      ],
      "text/plain": [
       "[1] \"gang\" \"iu\"  "
      ]
     },
     "metadata": {},
     "output_type": "display_data"
    }
   ],
   "source": [
    "members[[\"leaders\"]]"
   ]
  },
  {
   "cell_type": "markdown",
   "id": "accessible-opportunity",
   "metadata": {},
   "source": [
    "`-` `$` 기호 사용 ---> 개인적으로 제일 편함"
   ]
  },
  {
   "cell_type": "code",
   "execution_count": 44,
   "id": "black-format",
   "metadata": {},
   "outputs": [
    {
     "data": {
      "text/html": [
       "<style>\n",
       ".list-inline {list-style: none; margin:0; padding: 0}\n",
       ".list-inline>li {display: inline-block}\n",
       ".list-inline>li:not(:last-child)::after {content: \"\\00b7\"; padding: 0 .5ex}\n",
       "</style>\n",
       "<ol class=list-inline><li>'gang'</li><li>'iu'</li></ol>\n"
      ],
      "text/latex": [
       "\\begin{enumerate*}\n",
       "\\item 'gang'\n",
       "\\item 'iu'\n",
       "\\end{enumerate*}\n"
      ],
      "text/markdown": [
       "1. 'gang'\n",
       "2. 'iu'\n",
       "\n",
       "\n"
      ],
      "text/plain": [
       "[1] \"gang\" \"iu\"  "
      ]
     },
     "metadata": {},
     "output_type": "display_data"
    }
   ],
   "source": [
    "members$leaders"
   ]
  },
  {
   "cell_type": "markdown",
   "id": "essential-threat",
   "metadata": {},
   "source": [
    "`-` 리스트 내 자료 값 변경도 가능"
   ]
  },
  {
   "cell_type": "code",
   "execution_count": 45,
   "id": "naval-bradley",
   "metadata": {},
   "outputs": [
    {
     "data": {
      "text/html": [
       "<dl>\n",
       "\t<dt>$leaders</dt>\n",
       "\t\t<dd><style>\n",
       ".list-inline {list-style: none; margin:0; padding: 0}\n",
       ".list-inline>li {display: inline-block}\n",
       ".list-inline>li:not(:last-child)::after {content: \"\\00b7\"; padding: 0 .5ex}\n",
       "</style>\n",
       "<ol class=list-inline><li>'park'</li><li>'iu'</li></ol>\n",
       "</dd>\n",
       "\t<dt>$workers</dt>\n",
       "\t\t<dd>'kang'</dd>\n",
       "</dl>\n"
      ],
      "text/latex": [
       "\\begin{description}\n",
       "\\item[\\$leaders] \\begin{enumerate*}\n",
       "\\item 'park'\n",
       "\\item 'iu'\n",
       "\\end{enumerate*}\n",
       "\n",
       "\\item[\\$workers] 'kang'\n",
       "\\end{description}\n"
      ],
      "text/markdown": [
       "$leaders\n",
       ":   1. 'park'\n",
       "2. 'iu'\n",
       "\n",
       "\n",
       "\n",
       "$workers\n",
       ":   'kang'\n",
       "\n",
       "\n"
      ],
      "text/plain": [
       "$leaders\n",
       "[1] \"park\" \"iu\"  \n",
       "\n",
       "$workers\n",
       "[1] \"kang\"\n"
      ]
     },
     "metadata": {},
     "output_type": "display_data"
    }
   ],
   "source": [
    "members$leaders[1] <- \"park\"\n",
    "members"
   ]
  },
  {
   "cell_type": "markdown",
   "id": "floating-victoria",
   "metadata": {},
   "source": [
    "## lapply와 sapply 함수 \n",
    "`-` `matrix`에서 `apply()` 함수를 사용하듯이 `list`에선 `lapply()`와 `sapply()` 함수를 사용\n",
    "\n",
    "`-` `lapply(list, fun)`는 list 내 요소들에 함수 fun을 적용하여 결과를 `리스트`로 출력 ---> `sapply()` 는 `벡터`로 출력"
   ]
  },
  {
   "cell_type": "code",
   "execution_count": 46,
   "id": "sharp-grenada",
   "metadata": {},
   "outputs": [
    {
     "data": {
      "text/html": [
       "<dl>\n",
       "\t<dt>$leaders</dt>\n",
       "\t\t<dd><style>\n",
       ".list-inline {list-style: none; margin:0; padding: 0}\n",
       ".list-inline>li {display: inline-block}\n",
       ".list-inline>li:not(:last-child)::after {content: \"\\00b7\"; padding: 0 .5ex}\n",
       "</style>\n",
       "<ol class=list-inline><li>250</li><li>200</li></ol>\n",
       "</dd>\n",
       "\t<dt>$assistant</dt>\n",
       "\t\t<dd>100</dd>\n",
       "\t<dt>$members</dt>\n",
       "\t\t<dd><style>\n",
       ".list-inline {list-style: none; margin:0; padding: 0}\n",
       ".list-inline>li {display: inline-block}\n",
       ".list-inline>li:not(:last-child)::after {content: \"\\00b7\"; padding: 0 .5ex}\n",
       "</style>\n",
       "<ol class=list-inline><li>300</li><li>200</li><li>180</li><li>120</li><li>100</li></ol>\n",
       "</dd>\n",
       "</dl>\n"
      ],
      "text/latex": [
       "\\begin{description}\n",
       "\\item[\\$leaders] \\begin{enumerate*}\n",
       "\\item 250\n",
       "\\item 200\n",
       "\\end{enumerate*}\n",
       "\n",
       "\\item[\\$assistant] 100\n",
       "\\item[\\$members] \\begin{enumerate*}\n",
       "\\item 300\n",
       "\\item 200\n",
       "\\item 180\n",
       "\\item 120\n",
       "\\item 100\n",
       "\\end{enumerate*}\n",
       "\n",
       "\\end{description}\n"
      ],
      "text/markdown": [
       "$leaders\n",
       ":   1. 250\n",
       "2. 200\n",
       "\n",
       "\n",
       "\n",
       "$assistant\n",
       ":   100\n",
       "$members\n",
       ":   1. 300\n",
       "2. 200\n",
       "3. 180\n",
       "4. 120\n",
       "5. 100\n",
       "\n",
       "\n",
       "\n",
       "\n",
       "\n"
      ],
      "text/plain": [
       "$leaders\n",
       "[1] 250 200\n",
       "\n",
       "$assistant\n",
       "[1] 100\n",
       "\n",
       "$members\n",
       "[1] 300 200 180 120 100\n"
      ]
     },
     "metadata": {},
     "output_type": "display_data"
    }
   ],
   "source": [
    "salaries <- list(leaders = c(250, 200), assistant = 100, members = c(300, 200, 180, 120 ,100))\n",
    "salaries"
   ]
  },
  {
   "cell_type": "markdown",
   "id": "boxed-virginia",
   "metadata": {},
   "source": [
    "`-` `lapply()` 사용"
   ]
  },
  {
   "cell_type": "code",
   "execution_count": 47,
   "id": "weighted-mortality",
   "metadata": {},
   "outputs": [
    {
     "data": {
      "text/html": [
       "<dl>\n",
       "\t<dt>$leaders</dt>\n",
       "\t\t<dd>225</dd>\n",
       "\t<dt>$assistant</dt>\n",
       "\t\t<dd>100</dd>\n",
       "\t<dt>$members</dt>\n",
       "\t\t<dd>180</dd>\n",
       "</dl>\n"
      ],
      "text/latex": [
       "\\begin{description}\n",
       "\\item[\\$leaders] 225\n",
       "\\item[\\$assistant] 100\n",
       "\\item[\\$members] 180\n",
       "\\end{description}\n"
      ],
      "text/markdown": [
       "$leaders\n",
       ":   225\n",
       "$assistant\n",
       ":   100\n",
       "$members\n",
       ":   180\n",
       "\n",
       "\n"
      ],
      "text/plain": [
       "$leaders\n",
       "[1] 225\n",
       "\n",
       "$assistant\n",
       "[1] 100\n",
       "\n",
       "$members\n",
       "[1] 180\n"
      ]
     },
     "metadata": {},
     "output_type": "display_data"
    }
   ],
   "source": [
    "lapply(salaries, mean)"
   ]
  },
  {
   "cell_type": "markdown",
   "id": "disturbed-subscription",
   "metadata": {},
   "source": [
    "`-` sapply() 사용\n",
    "\n",
    "`-` 벡터로 출력이 불가능할 때는 lapply() 처럼 list로 출력함"
   ]
  },
  {
   "cell_type": "code",
   "execution_count": 48,
   "id": "twenty-eleven",
   "metadata": {},
   "outputs": [
    {
     "data": {
      "text/html": [
       "<style>\n",
       ".dl-inline {width: auto; margin:0; padding: 0}\n",
       ".dl-inline>dt, .dl-inline>dd {float: none; width: auto; display: inline-block}\n",
       ".dl-inline>dt::after {content: \":\\0020\"; padding-right: .5ex}\n",
       ".dl-inline>dt:not(:first-of-type) {padding-left: .5ex}\n",
       "</style><dl class=dl-inline><dt>leaders</dt><dd>225</dd><dt>assistant</dt><dd>100</dd><dt>members</dt><dd>180</dd></dl>\n"
      ],
      "text/latex": [
       "\\begin{description*}\n",
       "\\item[leaders] 225\n",
       "\\item[assistant] 100\n",
       "\\item[members] 180\n",
       "\\end{description*}\n"
      ],
      "text/markdown": [
       "leaders\n",
       ":   225assistant\n",
       ":   100members\n",
       ":   180\n",
       "\n"
      ],
      "text/plain": [
       "  leaders assistant   members \n",
       "      225       100       180 "
      ]
     },
     "metadata": {},
     "output_type": "display_data"
    }
   ],
   "source": [
    "sapply(salaries, mean)"
   ]
  },
  {
   "cell_type": "markdown",
   "id": "72dd236c-d829-4d79-98d6-70ab72118551",
   "metadata": {},
   "source": [
    "## unlist 함수\n",
    "\n",
    "`-` 함수 이름 그대로 list를 unlist로 만들어준다"
   ]
  },
  {
   "cell_type": "code",
   "execution_count": 57,
   "id": "0aace4fb-439a-4cd1-b709-b5d025cbde77",
   "metadata": {},
   "outputs": [
    {
     "data": {
      "text/html": [
       "<style>\n",
       ".dl-inline {width: auto; margin:0; padding: 0}\n",
       ".dl-inline>dt, .dl-inline>dd {float: none; width: auto; display: inline-block}\n",
       ".dl-inline>dt::after {content: \":\\0020\"; padding-right: .5ex}\n",
       ".dl-inline>dt:not(:first-of-type) {padding-left: .5ex}\n",
       "</style><dl class=dl-inline><dt>leaders1</dt><dd>250</dd><dt>leaders2</dt><dd>200</dd><dt>assistant</dt><dd>100</dd><dt>members1</dt><dd>300</dd><dt>members2</dt><dd>200</dd><dt>members3</dt><dd>180</dd><dt>members4</dt><dd>120</dd><dt>members5</dt><dd>100</dd></dl>\n"
      ],
      "text/latex": [
       "\\begin{description*}\n",
       "\\item[leaders1] 250\n",
       "\\item[leaders2] 200\n",
       "\\item[assistant] 100\n",
       "\\item[members1] 300\n",
       "\\item[members2] 200\n",
       "\\item[members3] 180\n",
       "\\item[members4] 120\n",
       "\\item[members5] 100\n",
       "\\end{description*}\n"
      ],
      "text/markdown": [
       "leaders1\n",
       ":   250leaders2\n",
       ":   200assistant\n",
       ":   100members1\n",
       ":   300members2\n",
       ":   200members3\n",
       ":   180members4\n",
       ":   120members5\n",
       ":   100\n",
       "\n"
      ],
      "text/plain": [
       " leaders1  leaders2 assistant  members1  members2  members3  members4  members5 \n",
       "      250       200       100       300       200       180       120       100 "
      ]
     },
     "metadata": {},
     "output_type": "display_data"
    }
   ],
   "source": [
    "unlist(salaries) ## list에서 vector로 변환되었다"
   ]
  },
  {
   "cell_type": "markdown",
   "id": "friendly-residence",
   "metadata": {},
   "source": [
    "# 데이터 프레임(data frame) \n",
    "`-` matrix는 요소가 숫자만 가능했다면 `data frame`은 문자열과 같은 다른 type도 가능함\n",
    "\n",
    "`-` 데이터 프레임은 리스트의 일종\n",
    "\n",
    "`-` 리스트는 각 변수마다 길이가 달라도 되지만 데이터 프레임은 각 변수마다 길이가 같아야 함(열의 길이가 동일)"
   ]
  },
  {
   "cell_type": "code",
   "execution_count": 49,
   "id": "induced-function",
   "metadata": {},
   "outputs": [
    {
     "data": {
      "text/html": [
       "<table class=\"dataframe\">\n",
       "<caption>A data.frame: 10 × 3</caption>\n",
       "<thead>\n",
       "\t<tr><th scope=col>course.id</th><th scope=col>mid</th><th scope=col>final</th></tr>\n",
       "\t<tr><th scope=col>&lt;dbl&gt;</th><th scope=col>&lt;dbl&gt;</th><th scope=col>&lt;dbl&gt;</th></tr>\n",
       "</thead>\n",
       "<tbody>\n",
       "\t<tr><td> 1</td><td> 8</td><td>11</td></tr>\n",
       "\t<tr><td> 2</td><td>22</td><td>24</td></tr>\n",
       "\t<tr><td> 3</td><td>25</td><td>31</td></tr>\n",
       "\t<tr><td> 4</td><td>25</td><td>13</td></tr>\n",
       "\t<tr><td> 5</td><td>21</td><td>34</td></tr>\n",
       "\t<tr><td> 6</td><td>12</td><td>26</td></tr>\n",
       "\t<tr><td> 7</td><td>12</td><td>NA</td></tr>\n",
       "\t<tr><td> 8</td><td>29</td><td>36</td></tr>\n",
       "\t<tr><td> 9</td><td>40</td><td>34</td></tr>\n",
       "\t<tr><td>10</td><td>25</td><td>38</td></tr>\n",
       "</tbody>\n",
       "</table>\n"
      ],
      "text/latex": [
       "A data.frame: 10 × 3\n",
       "\\begin{tabular}{lll}\n",
       " course.id & mid & final\\\\\n",
       " <dbl> & <dbl> & <dbl>\\\\\n",
       "\\hline\n",
       "\t  1 &  8 & 11\\\\\n",
       "\t  2 & 22 & 24\\\\\n",
       "\t  3 & 25 & 31\\\\\n",
       "\t  4 & 25 & 13\\\\\n",
       "\t  5 & 21 & 34\\\\\n",
       "\t  6 & 12 & 26\\\\\n",
       "\t  7 & 12 & NA\\\\\n",
       "\t  8 & 29 & 36\\\\\n",
       "\t  9 & 40 & 34\\\\\n",
       "\t 10 & 25 & 38\\\\\n",
       "\\end{tabular}\n"
      ],
      "text/markdown": [
       "\n",
       "A data.frame: 10 × 3\n",
       "\n",
       "| course.id &lt;dbl&gt; | mid &lt;dbl&gt; | final &lt;dbl&gt; |\n",
       "|---|---|---|\n",
       "|  1 |  8 | 11 |\n",
       "|  2 | 22 | 24 |\n",
       "|  3 | 25 | 31 |\n",
       "|  4 | 25 | 13 |\n",
       "|  5 | 21 | 34 |\n",
       "|  6 | 12 | 26 |\n",
       "|  7 | 12 | NA |\n",
       "|  8 | 29 | 36 |\n",
       "|  9 | 40 | 34 |\n",
       "| 10 | 25 | 38 |\n",
       "\n"
      ],
      "text/plain": [
       "   course.id mid final\n",
       "1   1         8  11   \n",
       "2   2        22  24   \n",
       "3   3        25  31   \n",
       "4   4        25  13   \n",
       "5   5        21  34   \n",
       "6   6        12  26   \n",
       "7   7        12  NA   \n",
       "8   8        29  36   \n",
       "9   9        40  34   \n",
       "10 10        25  38   "
      ]
     },
     "metadata": {},
     "output_type": "display_data"
    }
   ],
   "source": [
    "course.id <- c(1, 2, 3, 4 ,5, 6 ,7, 8, 9 ,10)\n",
    "mid <- c(8, 22, 25, 25 ,21, 12, 12, 29, 40, 25)\n",
    "final <- c(11, 24, 31, 13 ,34 ,26, NA ,36, 34 ,38)\n",
    "exams <- data.frame(course.id, mid, final)\n",
    "exams"
   ]
  },
  {
   "cell_type": "code",
   "execution_count": 58,
   "id": "subject-fiber",
   "metadata": {},
   "outputs": [
    {
     "data": {
      "text/html": [
       "TRUE"
      ],
      "text/latex": [
       "TRUE"
      ],
      "text/markdown": [
       "TRUE"
      ],
      "text/plain": [
       "[1] TRUE"
      ]
     },
     "metadata": {},
     "output_type": "display_data"
    }
   ],
   "source": [
    "is.list(exams)"
   ]
  },
  {
   "cell_type": "code",
   "execution_count": 59,
   "id": "white-poverty",
   "metadata": {},
   "outputs": [
    {
     "data": {
      "text/html": [
       "<style>\n",
       ".list-inline {list-style: none; margin:0; padding: 0}\n",
       ".list-inline>li {display: inline-block}\n",
       ".list-inline>li:not(:last-child)::after {content: \"\\00b7\"; padding: 0 .5ex}\n",
       "</style>\n",
       "<ol class=list-inline><li>'course.id'</li><li>'mid'</li><li>'final'</li></ol>\n"
      ],
      "text/latex": [
       "\\begin{enumerate*}\n",
       "\\item 'course.id'\n",
       "\\item 'mid'\n",
       "\\item 'final'\n",
       "\\end{enumerate*}\n"
      ],
      "text/markdown": [
       "1. 'course.id'\n",
       "2. 'mid'\n",
       "3. 'final'\n",
       "\n",
       "\n"
      ],
      "text/plain": [
       "[1] \"course.id\" \"mid\"       \"final\"    "
      ]
     },
     "metadata": {},
     "output_type": "display_data"
    }
   ],
   "source": [
    "colnames(exams)"
   ]
  },
  {
   "cell_type": "code",
   "execution_count": 60,
   "id": "different-geography",
   "metadata": {},
   "outputs": [
    {
     "data": {
      "text/html": [
       "<style>\n",
       ".list-inline {list-style: none; margin:0; padding: 0}\n",
       ".list-inline>li {display: inline-block}\n",
       ".list-inline>li:not(:last-child)::after {content: \"\\00b7\"; padding: 0 .5ex}\n",
       "</style>\n",
       "<ol class=list-inline><li>'course.id'</li><li>'mid'</li><li>'final'</li></ol>\n"
      ],
      "text/latex": [
       "\\begin{enumerate*}\n",
       "\\item 'course.id'\n",
       "\\item 'mid'\n",
       "\\item 'final'\n",
       "\\end{enumerate*}\n"
      ],
      "text/markdown": [
       "1. 'course.id'\n",
       "2. 'mid'\n",
       "3. 'final'\n",
       "\n",
       "\n"
      ],
      "text/plain": [
       "[1] \"course.id\" \"mid\"       \"final\"    "
      ]
     },
     "metadata": {},
     "output_type": "display_data"
    }
   ],
   "source": [
    "names(exams)"
   ]
  },
  {
   "cell_type": "code",
   "execution_count": 61,
   "id": "engaged-nylon",
   "metadata": {},
   "outputs": [
    {
     "data": {
      "text/html": [
       "3"
      ],
      "text/latex": [
       "3"
      ],
      "text/markdown": [
       "3"
      ],
      "text/plain": [
       "[1] 3"
      ]
     },
     "metadata": {},
     "output_type": "display_data"
    }
   ],
   "source": [
    "length(exams)"
   ]
  },
  {
   "cell_type": "markdown",
   "id": "sought-origin",
   "metadata": {},
   "source": [
    "`-` `[row, column]`으로 인덱싱"
   ]
  },
  {
   "cell_type": "code",
   "execution_count": 62,
   "id": "covered-venice",
   "metadata": {},
   "outputs": [
    {
     "data": {
      "text/html": [
       "<table class=\"dataframe\">\n",
       "<caption>A data.frame: 7 × 3</caption>\n",
       "<thead>\n",
       "\t<tr><th></th><th scope=col>course.id</th><th scope=col>mid</th><th scope=col>final</th></tr>\n",
       "\t<tr><th></th><th scope=col>&lt;dbl&gt;</th><th scope=col>&lt;dbl&gt;</th><th scope=col>&lt;dbl&gt;</th></tr>\n",
       "</thead>\n",
       "<tbody>\n",
       "\t<tr><th scope=row>2</th><td> 2</td><td>22</td><td>24</td></tr>\n",
       "\t<tr><th scope=row>3</th><td> 3</td><td>25</td><td>31</td></tr>\n",
       "\t<tr><th scope=row>4</th><td> 4</td><td>25</td><td>13</td></tr>\n",
       "\t<tr><th scope=row>5</th><td> 5</td><td>21</td><td>34</td></tr>\n",
       "\t<tr><th scope=row>8</th><td> 8</td><td>29</td><td>36</td></tr>\n",
       "\t<tr><th scope=row>9</th><td> 9</td><td>40</td><td>34</td></tr>\n",
       "\t<tr><th scope=row>10</th><td>10</td><td>25</td><td>38</td></tr>\n",
       "</tbody>\n",
       "</table>\n"
      ],
      "text/latex": [
       "A data.frame: 7 × 3\n",
       "\\begin{tabular}{r|lll}\n",
       "  & course.id & mid & final\\\\\n",
       "  & <dbl> & <dbl> & <dbl>\\\\\n",
       "\\hline\n",
       "\t2 &  2 & 22 & 24\\\\\n",
       "\t3 &  3 & 25 & 31\\\\\n",
       "\t4 &  4 & 25 & 13\\\\\n",
       "\t5 &  5 & 21 & 34\\\\\n",
       "\t8 &  8 & 29 & 36\\\\\n",
       "\t9 &  9 & 40 & 34\\\\\n",
       "\t10 & 10 & 25 & 38\\\\\n",
       "\\end{tabular}\n"
      ],
      "text/markdown": [
       "\n",
       "A data.frame: 7 × 3\n",
       "\n",
       "| <!--/--> | course.id &lt;dbl&gt; | mid &lt;dbl&gt; | final &lt;dbl&gt; |\n",
       "|---|---|---|---|\n",
       "| 2 |  2 | 22 | 24 |\n",
       "| 3 |  3 | 25 | 31 |\n",
       "| 4 |  4 | 25 | 13 |\n",
       "| 5 |  5 | 21 | 34 |\n",
       "| 8 |  8 | 29 | 36 |\n",
       "| 9 |  9 | 40 | 34 |\n",
       "| 10 | 10 | 25 | 38 |\n",
       "\n"
      ],
      "text/plain": [
       "   course.id mid final\n",
       "2   2        22  24   \n",
       "3   3        25  31   \n",
       "4   4        25  13   \n",
       "5   5        21  34   \n",
       "8   8        29  36   \n",
       "9   9        40  34   \n",
       "10 10        25  38   "
      ]
     },
     "metadata": {},
     "output_type": "display_data"
    }
   ],
   "source": [
    "exams[exams$mid > 20, ]"
   ]
  },
  {
   "cell_type": "code",
   "execution_count": 63,
   "id": "flying-diploma",
   "metadata": {},
   "outputs": [
    {
     "data": {
      "text/html": [
       "<style>\n",
       ".list-inline {list-style: none; margin:0; padding: 0}\n",
       ".list-inline>li {display: inline-block}\n",
       ".list-inline>li:not(:last-child)::after {content: \"\\00b7\"; padding: 0 .5ex}\n",
       "</style>\n",
       "<ol class=list-inline><li>24</li><li>31</li><li>13</li><li>34</li><li>36</li><li>34</li><li>38</li></ol>\n"
      ],
      "text/latex": [
       "\\begin{enumerate*}\n",
       "\\item 24\n",
       "\\item 31\n",
       "\\item 13\n",
       "\\item 34\n",
       "\\item 36\n",
       "\\item 34\n",
       "\\item 38\n",
       "\\end{enumerate*}\n"
      ],
      "text/markdown": [
       "1. 24\n",
       "2. 31\n",
       "3. 13\n",
       "4. 34\n",
       "5. 36\n",
       "6. 34\n",
       "7. 38\n",
       "\n",
       "\n"
      ],
      "text/plain": [
       "[1] 24 31 13 34 36 34 38"
      ]
     },
     "metadata": {},
     "output_type": "display_data"
    }
   ],
   "source": [
    "exams[exams$mid > 20, 'final'] ## exams[exams$mid > 20, 3] 과 동일함"
   ]
  },
  {
   "cell_type": "markdown",
   "id": "integrated-sherman",
   "metadata": {},
   "source": [
    "`-` 데이터 프레임의 각 열은 수치 벡터이므로 연산 가능"
   ]
  },
  {
   "cell_type": "code",
   "execution_count": 64,
   "id": "heated-ballot",
   "metadata": {},
   "outputs": [
    {
     "data": {
      "text/html": [
       "21.9"
      ],
      "text/latex": [
       "21.9"
      ],
      "text/markdown": [
       "21.9"
      ],
      "text/plain": [
       "[1] 21.9"
      ]
     },
     "metadata": {},
     "output_type": "display_data"
    }
   ],
   "source": [
    "mean(exams[, \"mid\"])"
   ]
  },
  {
   "cell_type": "code",
   "execution_count": 65,
   "id": "meaningful-elephant",
   "metadata": {},
   "outputs": [
    {
     "data": {
      "text/html": [
       "&lt;NA&gt;"
      ],
      "text/latex": [
       "<NA>"
      ],
      "text/markdown": [
       "&lt;NA&gt;"
      ],
      "text/plain": [
       "[1] NA"
      ]
     },
     "metadata": {},
     "output_type": "display_data"
    }
   ],
   "source": [
    "mean(exams$final)"
   ]
  },
  {
   "cell_type": "markdown",
   "id": "composed-brown",
   "metadata": {},
   "source": [
    "`-` 값이 NA로 나옴 ---> 7번 학생이 기말시험을 결시함\n",
    "\n",
    "`-` 그럼 어떻게 평균을 구하지? ---> `na.rm = T` 옵션을 통해 NA를 제외한 데이터만 사용할 수 있음"
   ]
  },
  {
   "cell_type": "code",
   "execution_count": 66,
   "id": "interpreted-investigation",
   "metadata": {},
   "outputs": [
    {
     "data": {
      "text/html": [
       "27.4444444444444"
      ],
      "text/latex": [
       "27.4444444444444"
      ],
      "text/markdown": [
       "27.4444444444444"
      ],
      "text/plain": [
       "[1] 27.44444"
      ]
     },
     "metadata": {},
     "output_type": "display_data"
    }
   ],
   "source": [
    "mean(exams$final, na.rm = T)"
   ]
  },
  {
   "cell_type": "markdown",
   "id": "arranged-artist",
   "metadata": {},
   "source": [
    "`-` 만약 시험을 결시한 경우 0점 처리 한다면? ---> `is.na()` 함수를 통해 NA인 경우 TRUE를 아닌 경우 FALSE를 생성하여 처리 가능"
   ]
  },
  {
   "cell_type": "code",
   "execution_count": 67,
   "id": "removable-snowboard",
   "metadata": {},
   "outputs": [
    {
     "data": {
      "text/html": [
       "<style>\n",
       ".list-inline {list-style: none; margin:0; padding: 0}\n",
       ".list-inline>li {display: inline-block}\n",
       ".list-inline>li:not(:last-child)::after {content: \"\\00b7\"; padding: 0 .5ex}\n",
       "</style>\n",
       "<ol class=list-inline><li>FALSE</li><li>FALSE</li><li>FALSE</li><li>FALSE</li><li>FALSE</li><li>FALSE</li><li>TRUE</li><li>FALSE</li><li>FALSE</li><li>FALSE</li></ol>\n"
      ],
      "text/latex": [
       "\\begin{enumerate*}\n",
       "\\item FALSE\n",
       "\\item FALSE\n",
       "\\item FALSE\n",
       "\\item FALSE\n",
       "\\item FALSE\n",
       "\\item FALSE\n",
       "\\item TRUE\n",
       "\\item FALSE\n",
       "\\item FALSE\n",
       "\\item FALSE\n",
       "\\end{enumerate*}\n"
      ],
      "text/markdown": [
       "1. FALSE\n",
       "2. FALSE\n",
       "3. FALSE\n",
       "4. FALSE\n",
       "5. FALSE\n",
       "6. FALSE\n",
       "7. TRUE\n",
       "8. FALSE\n",
       "9. FALSE\n",
       "10. FALSE\n",
       "\n",
       "\n"
      ],
      "text/plain": [
       " [1] FALSE FALSE FALSE FALSE FALSE FALSE  TRUE FALSE FALSE FALSE"
      ]
     },
     "metadata": {},
     "output_type": "display_data"
    }
   ],
   "source": [
    "is.na(exams$final)"
   ]
  },
  {
   "cell_type": "code",
   "execution_count": 68,
   "id": "equal-scholarship",
   "metadata": {},
   "outputs": [
    {
     "data": {
      "text/html": [
       "<table class=\"dataframe\">\n",
       "<caption>A data.frame: 10 × 3</caption>\n",
       "<thead>\n",
       "\t<tr><th scope=col>course.id</th><th scope=col>mid</th><th scope=col>final</th></tr>\n",
       "\t<tr><th scope=col>&lt;dbl&gt;</th><th scope=col>&lt;dbl&gt;</th><th scope=col>&lt;dbl&gt;</th></tr>\n",
       "</thead>\n",
       "<tbody>\n",
       "\t<tr><td> 1</td><td> 8</td><td>11</td></tr>\n",
       "\t<tr><td> 2</td><td>22</td><td>24</td></tr>\n",
       "\t<tr><td> 3</td><td>25</td><td>31</td></tr>\n",
       "\t<tr><td> 4</td><td>25</td><td>13</td></tr>\n",
       "\t<tr><td> 5</td><td>21</td><td>34</td></tr>\n",
       "\t<tr><td> 6</td><td>12</td><td>26</td></tr>\n",
       "\t<tr><td> 7</td><td>12</td><td> 0</td></tr>\n",
       "\t<tr><td> 8</td><td>29</td><td>36</td></tr>\n",
       "\t<tr><td> 9</td><td>40</td><td>34</td></tr>\n",
       "\t<tr><td>10</td><td>25</td><td>38</td></tr>\n",
       "</tbody>\n",
       "</table>\n"
      ],
      "text/latex": [
       "A data.frame: 10 × 3\n",
       "\\begin{tabular}{lll}\n",
       " course.id & mid & final\\\\\n",
       " <dbl> & <dbl> & <dbl>\\\\\n",
       "\\hline\n",
       "\t  1 &  8 & 11\\\\\n",
       "\t  2 & 22 & 24\\\\\n",
       "\t  3 & 25 & 31\\\\\n",
       "\t  4 & 25 & 13\\\\\n",
       "\t  5 & 21 & 34\\\\\n",
       "\t  6 & 12 & 26\\\\\n",
       "\t  7 & 12 &  0\\\\\n",
       "\t  8 & 29 & 36\\\\\n",
       "\t  9 & 40 & 34\\\\\n",
       "\t 10 & 25 & 38\\\\\n",
       "\\end{tabular}\n"
      ],
      "text/markdown": [
       "\n",
       "A data.frame: 10 × 3\n",
       "\n",
       "| course.id &lt;dbl&gt; | mid &lt;dbl&gt; | final &lt;dbl&gt; |\n",
       "|---|---|---|\n",
       "|  1 |  8 | 11 |\n",
       "|  2 | 22 | 24 |\n",
       "|  3 | 25 | 31 |\n",
       "|  4 | 25 | 13 |\n",
       "|  5 | 21 | 34 |\n",
       "|  6 | 12 | 26 |\n",
       "|  7 | 12 |  0 |\n",
       "|  8 | 29 | 36 |\n",
       "|  9 | 40 | 34 |\n",
       "| 10 | 25 | 38 |\n",
       "\n"
      ],
      "text/plain": [
       "   course.id mid final\n",
       "1   1         8  11   \n",
       "2   2        22  24   \n",
       "3   3        25  31   \n",
       "4   4        25  13   \n",
       "5   5        21  34   \n",
       "6   6        12  26   \n",
       "7   7        12   0   \n",
       "8   8        29  36   \n",
       "9   9        40  34   \n",
       "10 10        25  38   "
      ]
     },
     "metadata": {},
     "output_type": "display_data"
    }
   ],
   "source": [
    "exams$final[is.na(exams$final)] <- 0  ## is.na가 True인 경우만 0으로 변경\n",
    "exams"
   ]
  },
  {
   "cell_type": "code",
   "execution_count": 69,
   "id": "surface-prague",
   "metadata": {},
   "outputs": [
    {
     "data": {
      "text/html": [
       "24.7"
      ],
      "text/latex": [
       "24.7"
      ],
      "text/markdown": [
       "24.7"
      ],
      "text/plain": [
       "[1] 24.7"
      ]
     },
     "metadata": {},
     "output_type": "display_data"
    }
   ],
   "source": [
    "mean(exams$final)"
   ]
  },
  {
   "cell_type": "markdown",
   "id": "essential-alarm",
   "metadata": {},
   "source": [
    "## 두 데이터 프레임의 병합 "
   ]
  },
  {
   "cell_type": "markdown",
   "id": "opening-composer",
   "metadata": {},
   "source": [
    "`-` exams 변수는 중간 기말 성적이 기록되어 있음\n",
    "\n",
    "`-` 새로운 변수 book은 과제와 프로젝트 점수가 student_name의 순서로 정렬되어 있음\n",
    "\n",
    "`-` 이 둘을 합쳐보자"
   ]
  },
  {
   "cell_type": "code",
   "execution_count": 70,
   "id": "developed-wiring",
   "metadata": {},
   "outputs": [
    {
     "data": {
      "text/html": [
       "<table class=\"dataframe\">\n",
       "<caption>A data.frame: 10 × 4</caption>\n",
       "<thead>\n",
       "\t<tr><th scope=col>student_name</th><th scope=col>homework</th><th scope=col>project</th><th scope=col>course.id</th></tr>\n",
       "\t<tr><th scope=col>&lt;chr&gt;</th><th scope=col>&lt;dbl&gt;</th><th scope=col>&lt;dbl&gt;</th><th scope=col>&lt;dbl&gt;</th></tr>\n",
       "</thead>\n",
       "<tbody>\n",
       "\t<tr><td>a</td><td>22</td><td>NA</td><td> 8</td></tr>\n",
       "\t<tr><td>b</td><td>34</td><td> 7</td><td>10</td></tr>\n",
       "\t<tr><td>c</td><td>31</td><td>NA</td><td> 5</td></tr>\n",
       "\t<tr><td>d</td><td>24</td><td>NA</td><td> 1</td></tr>\n",
       "\t<tr><td>e</td><td>37</td><td>17</td><td> 4</td></tr>\n",
       "\t<tr><td>f</td><td>36</td><td>10</td><td> 2</td></tr>\n",
       "\t<tr><td>g</td><td>37</td><td> 8</td><td> 3</td></tr>\n",
       "\t<tr><td>h</td><td>28</td><td>NA</td><td> 9</td></tr>\n",
       "\t<tr><td>i</td><td>37</td><td> 4</td><td> 7</td></tr>\n",
       "\t<tr><td>j</td><td>34</td><td>NA</td><td> 6</td></tr>\n",
       "</tbody>\n",
       "</table>\n"
      ],
      "text/latex": [
       "A data.frame: 10 × 4\n",
       "\\begin{tabular}{llll}\n",
       " student\\_name & homework & project & course.id\\\\\n",
       " <chr> & <dbl> & <dbl> & <dbl>\\\\\n",
       "\\hline\n",
       "\t a & 22 & NA &  8\\\\\n",
       "\t b & 34 &  7 & 10\\\\\n",
       "\t c & 31 & NA &  5\\\\\n",
       "\t d & 24 & NA &  1\\\\\n",
       "\t e & 37 & 17 &  4\\\\\n",
       "\t f & 36 & 10 &  2\\\\\n",
       "\t g & 37 &  8 &  3\\\\\n",
       "\t h & 28 & NA &  9\\\\\n",
       "\t i & 37 &  4 &  7\\\\\n",
       "\t j & 34 & NA &  6\\\\\n",
       "\\end{tabular}\n"
      ],
      "text/markdown": [
       "\n",
       "A data.frame: 10 × 4\n",
       "\n",
       "| student_name &lt;chr&gt; | homework &lt;dbl&gt; | project &lt;dbl&gt; | course.id &lt;dbl&gt; |\n",
       "|---|---|---|---|\n",
       "| a | 22 | NA |  8 |\n",
       "| b | 34 |  7 | 10 |\n",
       "| c | 31 | NA |  5 |\n",
       "| d | 24 | NA |  1 |\n",
       "| e | 37 | 17 |  4 |\n",
       "| f | 36 | 10 |  2 |\n",
       "| g | 37 |  8 |  3 |\n",
       "| h | 28 | NA |  9 |\n",
       "| i | 37 |  4 |  7 |\n",
       "| j | 34 | NA |  6 |\n",
       "\n"
      ],
      "text/plain": [
       "   student_name homework project course.id\n",
       "1  a            22       NA       8       \n",
       "2  b            34        7      10       \n",
       "3  c            31       NA       5       \n",
       "4  d            24       NA       1       \n",
       "5  e            37       17       4       \n",
       "6  f            36       10       2       \n",
       "7  g            37        8       3       \n",
       "8  h            28       NA       9       \n",
       "9  i            37        4       7       \n",
       "10 j            34       NA       6       "
      ]
     },
     "metadata": {},
     "output_type": "display_data"
    }
   ],
   "source": [
    "student_name <- c('a', 'b', 'c', 'd', 'e', 'f', 'g', 'h', 'i', 'j')\n",
    "homework <- c(22, 34, 31, 24, 37, 36, 37, 28, 37, 34)\n",
    "project <- c(NA, 7, NA, NA, 17 ,10, 8, NA ,4, NA)\n",
    "course.id <- c(8, 10, 5, 1, 4, 2, 3 ,9 ,7 ,6)\n",
    "book <- data.frame(student_name, homework, project, course.id)\n",
    "book"
   ]
  },
  {
   "cell_type": "markdown",
   "id": "sustainable-sending",
   "metadata": {},
   "source": [
    "`-` NA는 자료의 수치 연산을 불가능하게 하므로 앞서 했던것처럼 `is.na()`를 통해 0점 처리하자"
   ]
  },
  {
   "cell_type": "code",
   "execution_count": 73,
   "id": "proud-operator",
   "metadata": {},
   "outputs": [
    {
     "data": {
      "text/html": [
       "<table class=\"dataframe\">\n",
       "<caption>A data.frame: 10 × 4</caption>\n",
       "<thead>\n",
       "\t<tr><th scope=col>student_name</th><th scope=col>homework</th><th scope=col>project</th><th scope=col>course.id</th></tr>\n",
       "\t<tr><th scope=col>&lt;chr&gt;</th><th scope=col>&lt;dbl&gt;</th><th scope=col>&lt;dbl&gt;</th><th scope=col>&lt;dbl&gt;</th></tr>\n",
       "</thead>\n",
       "<tbody>\n",
       "\t<tr><td>a</td><td>22</td><td> 0</td><td> 8</td></tr>\n",
       "\t<tr><td>b</td><td>34</td><td> 7</td><td>10</td></tr>\n",
       "\t<tr><td>c</td><td>31</td><td> 0</td><td> 5</td></tr>\n",
       "\t<tr><td>d</td><td>24</td><td> 0</td><td> 1</td></tr>\n",
       "\t<tr><td>e</td><td>37</td><td>17</td><td> 4</td></tr>\n",
       "\t<tr><td>f</td><td>36</td><td>10</td><td> 2</td></tr>\n",
       "\t<tr><td>g</td><td>37</td><td> 8</td><td> 3</td></tr>\n",
       "\t<tr><td>h</td><td>28</td><td> 0</td><td> 9</td></tr>\n",
       "\t<tr><td>i</td><td>37</td><td> 4</td><td> 7</td></tr>\n",
       "\t<tr><td>j</td><td>34</td><td> 0</td><td> 6</td></tr>\n",
       "</tbody>\n",
       "</table>\n"
      ],
      "text/latex": [
       "A data.frame: 10 × 4\n",
       "\\begin{tabular}{llll}\n",
       " student\\_name & homework & project & course.id\\\\\n",
       " <chr> & <dbl> & <dbl> & <dbl>\\\\\n",
       "\\hline\n",
       "\t a & 22 &  0 &  8\\\\\n",
       "\t b & 34 &  7 & 10\\\\\n",
       "\t c & 31 &  0 &  5\\\\\n",
       "\t d & 24 &  0 &  1\\\\\n",
       "\t e & 37 & 17 &  4\\\\\n",
       "\t f & 36 & 10 &  2\\\\\n",
       "\t g & 37 &  8 &  3\\\\\n",
       "\t h & 28 &  0 &  9\\\\\n",
       "\t i & 37 &  4 &  7\\\\\n",
       "\t j & 34 &  0 &  6\\\\\n",
       "\\end{tabular}\n"
      ],
      "text/markdown": [
       "\n",
       "A data.frame: 10 × 4\n",
       "\n",
       "| student_name &lt;chr&gt; | homework &lt;dbl&gt; | project &lt;dbl&gt; | course.id &lt;dbl&gt; |\n",
       "|---|---|---|---|\n",
       "| a | 22 |  0 |  8 |\n",
       "| b | 34 |  7 | 10 |\n",
       "| c | 31 |  0 |  5 |\n",
       "| d | 24 |  0 |  1 |\n",
       "| e | 37 | 17 |  4 |\n",
       "| f | 36 | 10 |  2 |\n",
       "| g | 37 |  8 |  3 |\n",
       "| h | 28 |  0 |  9 |\n",
       "| i | 37 |  4 |  7 |\n",
       "| j | 34 |  0 |  6 |\n",
       "\n"
      ],
      "text/plain": [
       "   student_name homework project course.id\n",
       "1  a            22        0       8       \n",
       "2  b            34        7      10       \n",
       "3  c            31        0       5       \n",
       "4  d            24        0       1       \n",
       "5  e            37       17       4       \n",
       "6  f            36       10       2       \n",
       "7  g            37        8       3       \n",
       "8  h            28        0       9       \n",
       "9  i            37        4       7       \n",
       "10 j            34        0       6       "
      ]
     },
     "metadata": {},
     "output_type": "display_data"
    }
   ],
   "source": [
    "book$project[is.na(book$project)] <- 0\n",
    "book"
   ]
  },
  {
   "cell_type": "markdown",
   "id": "juvenile-buddy",
   "metadata": {},
   "source": [
    "`-` 2개의 데이터 프레임을 통합하고자 할 때 확인할 것은 각 데이터 프레임에서 개체들의 정렬순서"
   ]
  },
  {
   "cell_type": "markdown",
   "id": "turkish-darkness",
   "metadata": {},
   "source": [
    "`1.` 2개의 프레임에서 순서가 같은 경우 열 묶음(cbind)를 한다 ---> `cbind(exams, book)`\n",
    "\n",
    "`-` 하지만 course.id의 순서가 다르므로 불가능"
   ]
  },
  {
   "cell_type": "markdown",
   "id": "civil-handbook",
   "metadata": {},
   "source": [
    "`2.` 2개의 프레임에서 그 순서가 다른 경우 `공통 개체 식별자(key)`를 찾아 정의 ---> `merge()` 함수가 `key` 변수를 찾아줌  "
   ]
  },
  {
   "cell_type": "code",
   "execution_count": 74,
   "id": "sudden-polish",
   "metadata": {},
   "outputs": [
    {
     "data": {
      "text/html": [
       "<table class=\"dataframe\">\n",
       "<caption>A data.frame: 10 × 6</caption>\n",
       "<thead>\n",
       "\t<tr><th scope=col>course.id</th><th scope=col>mid</th><th scope=col>final</th><th scope=col>student_name</th><th scope=col>homework</th><th scope=col>project</th></tr>\n",
       "\t<tr><th scope=col>&lt;dbl&gt;</th><th scope=col>&lt;dbl&gt;</th><th scope=col>&lt;dbl&gt;</th><th scope=col>&lt;chr&gt;</th><th scope=col>&lt;dbl&gt;</th><th scope=col>&lt;dbl&gt;</th></tr>\n",
       "</thead>\n",
       "<tbody>\n",
       "\t<tr><td> 1</td><td> 8</td><td>11</td><td>d</td><td>24</td><td> 0</td></tr>\n",
       "\t<tr><td> 2</td><td>22</td><td>24</td><td>f</td><td>36</td><td>10</td></tr>\n",
       "\t<tr><td> 3</td><td>25</td><td>31</td><td>g</td><td>37</td><td> 8</td></tr>\n",
       "\t<tr><td> 4</td><td>25</td><td>13</td><td>e</td><td>37</td><td>17</td></tr>\n",
       "\t<tr><td> 5</td><td>21</td><td>34</td><td>c</td><td>31</td><td> 0</td></tr>\n",
       "\t<tr><td> 6</td><td>12</td><td>26</td><td>j</td><td>34</td><td> 0</td></tr>\n",
       "\t<tr><td> 7</td><td>12</td><td> 0</td><td>i</td><td>37</td><td> 4</td></tr>\n",
       "\t<tr><td> 8</td><td>29</td><td>36</td><td>a</td><td>22</td><td> 0</td></tr>\n",
       "\t<tr><td> 9</td><td>40</td><td>34</td><td>h</td><td>28</td><td> 0</td></tr>\n",
       "\t<tr><td>10</td><td>25</td><td>38</td><td>b</td><td>34</td><td> 7</td></tr>\n",
       "</tbody>\n",
       "</table>\n"
      ],
      "text/latex": [
       "A data.frame: 10 × 6\n",
       "\\begin{tabular}{llllll}\n",
       " course.id & mid & final & student\\_name & homework & project\\\\\n",
       " <dbl> & <dbl> & <dbl> & <chr> & <dbl> & <dbl>\\\\\n",
       "\\hline\n",
       "\t  1 &  8 & 11 & d & 24 &  0\\\\\n",
       "\t  2 & 22 & 24 & f & 36 & 10\\\\\n",
       "\t  3 & 25 & 31 & g & 37 &  8\\\\\n",
       "\t  4 & 25 & 13 & e & 37 & 17\\\\\n",
       "\t  5 & 21 & 34 & c & 31 &  0\\\\\n",
       "\t  6 & 12 & 26 & j & 34 &  0\\\\\n",
       "\t  7 & 12 &  0 & i & 37 &  4\\\\\n",
       "\t  8 & 29 & 36 & a & 22 &  0\\\\\n",
       "\t  9 & 40 & 34 & h & 28 &  0\\\\\n",
       "\t 10 & 25 & 38 & b & 34 &  7\\\\\n",
       "\\end{tabular}\n"
      ],
      "text/markdown": [
       "\n",
       "A data.frame: 10 × 6\n",
       "\n",
       "| course.id &lt;dbl&gt; | mid &lt;dbl&gt; | final &lt;dbl&gt; | student_name &lt;chr&gt; | homework &lt;dbl&gt; | project &lt;dbl&gt; |\n",
       "|---|---|---|---|---|---|\n",
       "|  1 |  8 | 11 | d | 24 |  0 |\n",
       "|  2 | 22 | 24 | f | 36 | 10 |\n",
       "|  3 | 25 | 31 | g | 37 |  8 |\n",
       "|  4 | 25 | 13 | e | 37 | 17 |\n",
       "|  5 | 21 | 34 | c | 31 |  0 |\n",
       "|  6 | 12 | 26 | j | 34 |  0 |\n",
       "|  7 | 12 |  0 | i | 37 |  4 |\n",
       "|  8 | 29 | 36 | a | 22 |  0 |\n",
       "|  9 | 40 | 34 | h | 28 |  0 |\n",
       "| 10 | 25 | 38 | b | 34 |  7 |\n",
       "\n"
      ],
      "text/plain": [
       "   course.id mid final student_name homework project\n",
       "1   1         8  11    d            24        0     \n",
       "2   2        22  24    f            36       10     \n",
       "3   3        25  31    g            37        8     \n",
       "4   4        25  13    e            37       17     \n",
       "5   5        21  34    c            31        0     \n",
       "6   6        12  26    j            34        0     \n",
       "7   7        12   0    i            37        4     \n",
       "8   8        29  36    a            22        0     \n",
       "9   9        40  34    h            28        0     \n",
       "10 10        25  38    b            34        7     "
      ]
     },
     "metadata": {},
     "output_type": "display_data"
    }
   ],
   "source": [
    "class_record <- merge(exams, book, by = 'course.id')\n",
    "class_record"
   ]
  },
  {
   "cell_type": "markdown",
   "id": "cubic-anchor",
   "metadata": {},
   "source": [
    "`-` 위와 같이 key 변수의 이름(위에서는 course.id)이 두 데이터 프레임에서 동일한 경우 `by`를 사용 ---> 그렇지 않은 경우에는 `by.x`와 `by.y`를 사용"
   ]
  },
  {
   "cell_type": "markdown",
   "id": "persistent-journal",
   "metadata": {},
   "source": [
    "`-` 학생들의 총 점수 합계를 구하여 데이터 프레임에 새 변수로 추가해보자"
   ]
  },
  {
   "cell_type": "code",
   "execution_count": 77,
   "id": "affecting-color",
   "metadata": {},
   "outputs": [
    {
     "data": {
      "text/html": [
       "<table class=\"dataframe\">\n",
       "<caption>A data.frame: 10 × 7</caption>\n",
       "<thead>\n",
       "\t<tr><th scope=col>course.id</th><th scope=col>mid</th><th scope=col>final</th><th scope=col>student_name</th><th scope=col>homework</th><th scope=col>project</th><th scope=col>total</th></tr>\n",
       "\t<tr><th scope=col>&lt;dbl&gt;</th><th scope=col>&lt;dbl&gt;</th><th scope=col>&lt;dbl&gt;</th><th scope=col>&lt;chr&gt;</th><th scope=col>&lt;dbl&gt;</th><th scope=col>&lt;dbl&gt;</th><th scope=col>&lt;dbl&gt;</th></tr>\n",
       "</thead>\n",
       "<tbody>\n",
       "\t<tr><td> 1</td><td> 8</td><td>11</td><td>d</td><td>24</td><td> 0</td><td> 43</td></tr>\n",
       "\t<tr><td> 2</td><td>22</td><td>24</td><td>f</td><td>36</td><td>10</td><td> 92</td></tr>\n",
       "\t<tr><td> 3</td><td>25</td><td>31</td><td>g</td><td>37</td><td> 8</td><td>101</td></tr>\n",
       "\t<tr><td> 4</td><td>25</td><td>13</td><td>e</td><td>37</td><td>17</td><td> 92</td></tr>\n",
       "\t<tr><td> 5</td><td>21</td><td>34</td><td>c</td><td>31</td><td> 0</td><td> 86</td></tr>\n",
       "\t<tr><td> 6</td><td>12</td><td>26</td><td>j</td><td>34</td><td> 0</td><td> 72</td></tr>\n",
       "\t<tr><td> 7</td><td>12</td><td> 0</td><td>i</td><td>37</td><td> 4</td><td> 53</td></tr>\n",
       "\t<tr><td> 8</td><td>29</td><td>36</td><td>a</td><td>22</td><td> 0</td><td> 87</td></tr>\n",
       "\t<tr><td> 9</td><td>40</td><td>34</td><td>h</td><td>28</td><td> 0</td><td>102</td></tr>\n",
       "\t<tr><td>10</td><td>25</td><td>38</td><td>b</td><td>34</td><td> 7</td><td>104</td></tr>\n",
       "</tbody>\n",
       "</table>\n"
      ],
      "text/latex": [
       "A data.frame: 10 × 7\n",
       "\\begin{tabular}{lllllll}\n",
       " course.id & mid & final & student\\_name & homework & project & total\\\\\n",
       " <dbl> & <dbl> & <dbl> & <chr> & <dbl> & <dbl> & <dbl>\\\\\n",
       "\\hline\n",
       "\t  1 &  8 & 11 & d & 24 &  0 &  43\\\\\n",
       "\t  2 & 22 & 24 & f & 36 & 10 &  92\\\\\n",
       "\t  3 & 25 & 31 & g & 37 &  8 & 101\\\\\n",
       "\t  4 & 25 & 13 & e & 37 & 17 &  92\\\\\n",
       "\t  5 & 21 & 34 & c & 31 &  0 &  86\\\\\n",
       "\t  6 & 12 & 26 & j & 34 &  0 &  72\\\\\n",
       "\t  7 & 12 &  0 & i & 37 &  4 &  53\\\\\n",
       "\t  8 & 29 & 36 & a & 22 &  0 &  87\\\\\n",
       "\t  9 & 40 & 34 & h & 28 &  0 & 102\\\\\n",
       "\t 10 & 25 & 38 & b & 34 &  7 & 104\\\\\n",
       "\\end{tabular}\n"
      ],
      "text/markdown": [
       "\n",
       "A data.frame: 10 × 7\n",
       "\n",
       "| course.id &lt;dbl&gt; | mid &lt;dbl&gt; | final &lt;dbl&gt; | student_name &lt;chr&gt; | homework &lt;dbl&gt; | project &lt;dbl&gt; | total &lt;dbl&gt; |\n",
       "|---|---|---|---|---|---|---|\n",
       "|  1 |  8 | 11 | d | 24 |  0 |  43 |\n",
       "|  2 | 22 | 24 | f | 36 | 10 |  92 |\n",
       "|  3 | 25 | 31 | g | 37 |  8 | 101 |\n",
       "|  4 | 25 | 13 | e | 37 | 17 |  92 |\n",
       "|  5 | 21 | 34 | c | 31 |  0 |  86 |\n",
       "|  6 | 12 | 26 | j | 34 |  0 |  72 |\n",
       "|  7 | 12 |  0 | i | 37 |  4 |  53 |\n",
       "|  8 | 29 | 36 | a | 22 |  0 |  87 |\n",
       "|  9 | 40 | 34 | h | 28 |  0 | 102 |\n",
       "| 10 | 25 | 38 | b | 34 |  7 | 104 |\n",
       "\n"
      ],
      "text/plain": [
       "   course.id mid final student_name homework project total\n",
       "1   1         8  11    d            24        0       43  \n",
       "2   2        22  24    f            36       10       92  \n",
       "3   3        25  31    g            37        8      101  \n",
       "4   4        25  13    e            37       17       92  \n",
       "5   5        21  34    c            31        0       86  \n",
       "6   6        12  26    j            34        0       72  \n",
       "7   7        12   0    i            37        4       53  \n",
       "8   8        29  36    a            22        0       87  \n",
       "9   9        40  34    h            28        0      102  \n",
       "10 10        25  38    b            34        7      104  "
      ]
     },
     "metadata": {},
     "output_type": "display_data"
    }
   ],
   "source": [
    "class_record$total <- apply(class_record[ ,c(2, 3, 5, 6)], 1, sum)\n",
    "class_record"
   ]
  },
  {
   "cell_type": "markdown",
   "id": "impressive-frank",
   "metadata": {},
   "source": [
    "# 인자와 데이터 요약(factors and summaries) \n",
    "`-` R에서 `factor`는 `범주형 변수`(벡터) 또는 비연속적 변수(벡터)를 지칭  "
   ]
  },
  {
   "cell_type": "markdown",
   "id": "conscious-somalia",
   "metadata": {},
   "source": [
    "## 인자와 테이블 "
   ]
  },
  {
   "cell_type": "code",
   "execution_count": 78,
   "id": "official-butler",
   "metadata": {},
   "outputs": [],
   "source": [
    "set.seed(1) ## 시드 넘버 설정\n",
    "alpha <- sample(c(\"A\", \"B\", \"C\"), 25, replace = T) ## 'A', 'B', 'C' 중에서 무작위로 25개를 중복을 허용하여 뽑는다\n",
    "f <- factor(alpha) ## alpha를 범주형 변수로 바꿈"
   ]
  },
  {
   "cell_type": "code",
   "execution_count": 79,
   "id": "authentic-submission",
   "metadata": {},
   "outputs": [
    {
     "data": {
      "text/html": [
       "<style>\n",
       ".list-inline {list-style: none; margin:0; padding: 0}\n",
       ".list-inline>li {display: inline-block}\n",
       ".list-inline>li:not(:last-child)::after {content: \"\\00b7\"; padding: 0 .5ex}\n",
       "</style>\n",
       "<ol class=list-inline><li>'A'</li><li>'C'</li><li>'A'</li><li>'B'</li><li>'A'</li><li>'C'</li><li>'C'</li><li>'B'</li><li>'B'</li><li>'C'</li><li>'C'</li><li>'A'</li><li>'A'</li><li>'A'</li><li>'B'</li><li>'B'</li><li>'B'</li><li>'B'</li><li>'C'</li><li>'A'</li><li>'C'</li><li>'A'</li><li>'A'</li><li>'A'</li><li>'A'</li></ol>\n"
      ],
      "text/latex": [
       "\\begin{enumerate*}\n",
       "\\item 'A'\n",
       "\\item 'C'\n",
       "\\item 'A'\n",
       "\\item 'B'\n",
       "\\item 'A'\n",
       "\\item 'C'\n",
       "\\item 'C'\n",
       "\\item 'B'\n",
       "\\item 'B'\n",
       "\\item 'C'\n",
       "\\item 'C'\n",
       "\\item 'A'\n",
       "\\item 'A'\n",
       "\\item 'A'\n",
       "\\item 'B'\n",
       "\\item 'B'\n",
       "\\item 'B'\n",
       "\\item 'B'\n",
       "\\item 'C'\n",
       "\\item 'A'\n",
       "\\item 'C'\n",
       "\\item 'A'\n",
       "\\item 'A'\n",
       "\\item 'A'\n",
       "\\item 'A'\n",
       "\\end{enumerate*}\n"
      ],
      "text/markdown": [
       "1. 'A'\n",
       "2. 'C'\n",
       "3. 'A'\n",
       "4. 'B'\n",
       "5. 'A'\n",
       "6. 'C'\n",
       "7. 'C'\n",
       "8. 'B'\n",
       "9. 'B'\n",
       "10. 'C'\n",
       "11. 'C'\n",
       "12. 'A'\n",
       "13. 'A'\n",
       "14. 'A'\n",
       "15. 'B'\n",
       "16. 'B'\n",
       "17. 'B'\n",
       "18. 'B'\n",
       "19. 'C'\n",
       "20. 'A'\n",
       "21. 'C'\n",
       "22. 'A'\n",
       "23. 'A'\n",
       "24. 'A'\n",
       "25. 'A'\n",
       "\n",
       "\n"
      ],
      "text/plain": [
       " [1] \"A\" \"C\" \"A\" \"B\" \"A\" \"C\" \"C\" \"B\" \"B\" \"C\" \"C\" \"A\" \"A\" \"A\" \"B\" \"B\" \"B\" \"B\" \"C\"\n",
       "[20] \"A\" \"C\" \"A\" \"A\" \"A\" \"A\""
      ]
     },
     "metadata": {},
     "output_type": "display_data"
    }
   ],
   "source": [
    "alpha"
   ]
  },
  {
   "cell_type": "code",
   "execution_count": 80,
   "id": "silent-jewel",
   "metadata": {},
   "outputs": [
    {
     "data": {
      "text/html": [
       "<style>\n",
       ".list-inline {list-style: none; margin:0; padding: 0}\n",
       ".list-inline>li {display: inline-block}\n",
       ".list-inline>li:not(:last-child)::after {content: \"\\00b7\"; padding: 0 .5ex}\n",
       "</style>\n",
       "<ol class=list-inline><li>A</li><li>C</li><li>A</li><li>B</li><li>A</li><li>C</li><li>C</li><li>B</li><li>B</li><li>C</li><li>C</li><li>A</li><li>A</li><li>A</li><li>B</li><li>B</li><li>B</li><li>B</li><li>C</li><li>A</li><li>C</li><li>A</li><li>A</li><li>A</li><li>A</li></ol>\n",
       "\n",
       "<details>\n",
       "\t<summary style=display:list-item;cursor:pointer>\n",
       "\t\t<strong>Levels</strong>:\n",
       "\t</summary>\n",
       "\t<style>\n",
       "\t.list-inline {list-style: none; margin:0; padding: 0}\n",
       "\t.list-inline>li {display: inline-block}\n",
       "\t.list-inline>li:not(:last-child)::after {content: \"\\00b7\"; padding: 0 .5ex}\n",
       "\t</style>\n",
       "\t<ol class=list-inline><li>'A'</li><li>'B'</li><li>'C'</li></ol>\n",
       "</details>"
      ],
      "text/latex": [
       "\\begin{enumerate*}\n",
       "\\item A\n",
       "\\item C\n",
       "\\item A\n",
       "\\item B\n",
       "\\item A\n",
       "\\item C\n",
       "\\item C\n",
       "\\item B\n",
       "\\item B\n",
       "\\item C\n",
       "\\item C\n",
       "\\item A\n",
       "\\item A\n",
       "\\item A\n",
       "\\item B\n",
       "\\item B\n",
       "\\item B\n",
       "\\item B\n",
       "\\item C\n",
       "\\item A\n",
       "\\item C\n",
       "\\item A\n",
       "\\item A\n",
       "\\item A\n",
       "\\item A\n",
       "\\end{enumerate*}\n",
       "\n",
       "\\emph{Levels}: \\begin{enumerate*}\n",
       "\\item 'A'\n",
       "\\item 'B'\n",
       "\\item 'C'\n",
       "\\end{enumerate*}\n"
      ],
      "text/markdown": [
       "1. A\n",
       "2. C\n",
       "3. A\n",
       "4. B\n",
       "5. A\n",
       "6. C\n",
       "7. C\n",
       "8. B\n",
       "9. B\n",
       "10. C\n",
       "11. C\n",
       "12. A\n",
       "13. A\n",
       "14. A\n",
       "15. B\n",
       "16. B\n",
       "17. B\n",
       "18. B\n",
       "19. C\n",
       "20. A\n",
       "21. C\n",
       "22. A\n",
       "23. A\n",
       "24. A\n",
       "25. A\n",
       "\n",
       "\n",
       "\n",
       "**Levels**: 1. 'A'\n",
       "2. 'B'\n",
       "3. 'C'\n",
       "\n",
       "\n"
      ],
      "text/plain": [
       " [1] A C A B A C C B B C C A A A B B B B C A C A A A A\n",
       "Levels: A B C"
      ]
     },
     "metadata": {},
     "output_type": "display_data"
    }
   ],
   "source": [
    "f"
   ]
  },
  {
   "cell_type": "markdown",
   "id": "appropriate-render",
   "metadata": {},
   "source": [
    "`-` 문자열인 alpha와 인자 벡터인 f가 같아 보이지만 다름\n",
    "\n",
    "`-` factor는 Levels이 존재하여 데이터 분류에 용이함\n",
    "\n",
    "`-` `str()` 함수는 데이터를 요약하여 보여줌"
   ]
  },
  {
   "cell_type": "code",
   "execution_count": 81,
   "id": "legitimate-anatomy",
   "metadata": {},
   "outputs": [
    {
     "name": "stdout",
     "output_type": "stream",
     "text": [
      "'data.frame':\t25 obs. of  2 variables:\n",
      " $ f: Factor w/ 3 levels \"A\",\"B\",\"C\": 1 3 1 2 1 3 3 2 2 3 ...\n",
      " $ g: Factor w/ 5 levels \"1\",\"2\",\"3\",\"4\",..: 5 5 2 2 1 4 1 4 3 2 ...\n"
     ]
    }
   ],
   "source": [
    "z <- sample(1:5, 25, replace = T)\n",
    "g <- factor(z)\n",
    "str(data.frame(f = f, g = g))"
   ]
  },
  {
   "cell_type": "markdown",
   "id": "confident-stopping",
   "metadata": {},
   "source": [
    "`-` `table()`은 빈도표를 만듦\n",
    "\n",
    "`-` `addmargins()`는 빈도표의 주변 합을 테이블에 추가함"
   ]
  },
  {
   "cell_type": "code",
   "execution_count": 84,
   "id": "appropriate-thickness",
   "metadata": {},
   "outputs": [
    {
     "data": {
      "text/plain": [
       "f\n",
       " A  B  C \n",
       "11  7  7 "
      ]
     },
     "metadata": {},
     "output_type": "display_data"
    }
   ],
   "source": [
    "table(f)"
   ]
  },
  {
   "cell_type": "code",
   "execution_count": 83,
   "id": "significant-embassy",
   "metadata": {},
   "outputs": [
    {
     "data": {
      "text/plain": [
       "   g\n",
       "f   1 2 3 4 5\n",
       "  A 2 3 1 3 2\n",
       "  B 2 2 1 2 0\n",
       "  C 1 3 0 2 1"
      ]
     },
     "metadata": {},
     "output_type": "display_data"
    }
   ],
   "source": [
    "table(f, g) ## f와 g의 인덱스를 보고 만듦 ex) f[x] = 'A'이고 g[x] = 3이라면 ('A', 3)위치의 값을 +1하는 식으로 만듦"
   ]
  },
  {
   "cell_type": "code",
   "execution_count": 85,
   "id": "individual-colorado",
   "metadata": {},
   "outputs": [
    {
     "data": {
      "text/plain": [
       "f\n",
       "  A   B   C Sum \n",
       " 11   7   7  25 "
      ]
     },
     "metadata": {},
     "output_type": "display_data"
    }
   ],
   "source": [
    "addmargins(table(f))"
   ]
  },
  {
   "cell_type": "code",
   "execution_count": 86,
   "id": "honest-penalty",
   "metadata": {},
   "outputs": [
    {
     "data": {
      "text/html": [
       "<table class=\"dataframe\">\n",
       "<caption>A table: 4 × 6 of type dbl</caption>\n",
       "<thead>\n",
       "\t<tr><th></th><th scope=col>1</th><th scope=col>2</th><th scope=col>3</th><th scope=col>4</th><th scope=col>5</th><th scope=col>Sum</th></tr>\n",
       "</thead>\n",
       "<tbody>\n",
       "\t<tr><th scope=row>A</th><td>2</td><td>3</td><td>1</td><td>3</td><td>2</td><td>11</td></tr>\n",
       "\t<tr><th scope=row>B</th><td>2</td><td>2</td><td>1</td><td>2</td><td>0</td><td> 7</td></tr>\n",
       "\t<tr><th scope=row>C</th><td>1</td><td>3</td><td>0</td><td>2</td><td>1</td><td> 7</td></tr>\n",
       "\t<tr><th scope=row>Sum</th><td>5</td><td>8</td><td>2</td><td>7</td><td>3</td><td>25</td></tr>\n",
       "</tbody>\n",
       "</table>\n"
      ],
      "text/latex": [
       "A table: 4 × 6 of type dbl\n",
       "\\begin{tabular}{r|llllll}\n",
       "  & 1 & 2 & 3 & 4 & 5 & Sum\\\\\n",
       "\\hline\n",
       "\tA & 2 & 3 & 1 & 3 & 2 & 11\\\\\n",
       "\tB & 2 & 2 & 1 & 2 & 0 &  7\\\\\n",
       "\tC & 1 & 3 & 0 & 2 & 1 &  7\\\\\n",
       "\tSum & 5 & 8 & 2 & 7 & 3 & 25\\\\\n",
       "\\end{tabular}\n"
      ],
      "text/markdown": [
       "\n",
       "A table: 4 × 6 of type dbl\n",
       "\n",
       "| <!--/--> | 1 | 2 | 3 | 4 | 5 | Sum |\n",
       "|---|---|---|---|---|---|---|\n",
       "| A | 2 | 3 | 1 | 3 | 2 | 11 |\n",
       "| B | 2 | 2 | 1 | 2 | 0 |  7 |\n",
       "| C | 1 | 3 | 0 | 2 | 1 |  7 |\n",
       "| Sum | 5 | 8 | 2 | 7 | 3 | 25 |\n",
       "\n"
      ],
      "text/plain": [
       "     g\n",
       "f     1 2 3 4 5 Sum\n",
       "  A   2 3 1 3 2 11 \n",
       "  B   2 2 1 2 0  7 \n",
       "  C   1 3 0 2 1  7 \n",
       "  Sum 5 8 2 7 3 25 "
      ]
     },
     "metadata": {},
     "output_type": "display_data"
    }
   ],
   "source": [
    "addmargins(table(f, g))"
   ]
  },
  {
   "cell_type": "markdown",
   "id": "greek-apartment",
   "metadata": {},
   "source": [
    "## tapply와 aggregate로 데이터 요약"
   ]
  },
  {
   "cell_type": "markdown",
   "id": "strong-investigation",
   "metadata": {},
   "source": [
    "`-` `tapply(x, f, fun)`는 x를 f의 수준 별로 쪼개서 fun을 적용함\n",
    "\n",
    "`-` 파이썬에 존재하는 `gruopby` 함수와 `agg` 함수를 생각하면 쉽다"
   ]
  },
  {
   "cell_type": "code",
   "execution_count": 87,
   "id": "korean-checkout",
   "metadata": {},
   "outputs": [
    {
     "data": {
      "text/html": [
       "<table class=\"dataframe\">\n",
       "<caption>A data.frame: 25 × 2</caption>\n",
       "<thead>\n",
       "\t<tr><th scope=col>x</th><th scope=col>f</th></tr>\n",
       "\t<tr><th scope=col>&lt;dbl&gt;</th><th scope=col>&lt;fct&gt;</th></tr>\n",
       "</thead>\n",
       "<tbody>\n",
       "\t<tr><td>41</td><td>A</td></tr>\n",
       "\t<tr><td>52</td><td>C</td></tr>\n",
       "\t<tr><td>66</td><td>A</td></tr>\n",
       "\t<tr><td>39</td><td>B</td></tr>\n",
       "\t<tr><td>49</td><td>A</td></tr>\n",
       "\t<tr><td>51</td><td>C</td></tr>\n",
       "\t<tr><td>57</td><td>C</td></tr>\n",
       "\t<tr><td>48</td><td>B</td></tr>\n",
       "\t<tr><td>70</td><td>B</td></tr>\n",
       "\t<tr><td>49</td><td>C</td></tr>\n",
       "\t<tr><td>54</td><td>C</td></tr>\n",
       "\t<tr><td>60</td><td>A</td></tr>\n",
       "\t<tr><td>46</td><td>A</td></tr>\n",
       "\t<tr><td>40</td><td>A</td></tr>\n",
       "\t<tr><td>68</td><td>B</td></tr>\n",
       "\t<tr><td>27</td><td>B</td></tr>\n",
       "\t<tr><td>59</td><td>B</td></tr>\n",
       "\t<tr><td>50</td><td>B</td></tr>\n",
       "\t<tr><td>60</td><td>C</td></tr>\n",
       "\t<tr><td>54</td><td>A</td></tr>\n",
       "\t<tr><td>71</td><td>C</td></tr>\n",
       "\t<tr><td>38</td><td>A</td></tr>\n",
       "\t<tr><td>66</td><td>A</td></tr>\n",
       "\t<tr><td>70</td><td>A</td></tr>\n",
       "\t<tr><td>50</td><td>A</td></tr>\n",
       "</tbody>\n",
       "</table>\n"
      ],
      "text/latex": [
       "A data.frame: 25 × 2\n",
       "\\begin{tabular}{ll}\n",
       " x & f\\\\\n",
       " <dbl> & <fct>\\\\\n",
       "\\hline\n",
       "\t 41 & A\\\\\n",
       "\t 52 & C\\\\\n",
       "\t 66 & A\\\\\n",
       "\t 39 & B\\\\\n",
       "\t 49 & A\\\\\n",
       "\t 51 & C\\\\\n",
       "\t 57 & C\\\\\n",
       "\t 48 & B\\\\\n",
       "\t 70 & B\\\\\n",
       "\t 49 & C\\\\\n",
       "\t 54 & C\\\\\n",
       "\t 60 & A\\\\\n",
       "\t 46 & A\\\\\n",
       "\t 40 & A\\\\\n",
       "\t 68 & B\\\\\n",
       "\t 27 & B\\\\\n",
       "\t 59 & B\\\\\n",
       "\t 50 & B\\\\\n",
       "\t 60 & C\\\\\n",
       "\t 54 & A\\\\\n",
       "\t 71 & C\\\\\n",
       "\t 38 & A\\\\\n",
       "\t 66 & A\\\\\n",
       "\t 70 & A\\\\\n",
       "\t 50 & A\\\\\n",
       "\\end{tabular}\n"
      ],
      "text/markdown": [
       "\n",
       "A data.frame: 25 × 2\n",
       "\n",
       "| x &lt;dbl&gt; | f &lt;fct&gt; |\n",
       "|---|---|\n",
       "| 41 | A |\n",
       "| 52 | C |\n",
       "| 66 | A |\n",
       "| 39 | B |\n",
       "| 49 | A |\n",
       "| 51 | C |\n",
       "| 57 | C |\n",
       "| 48 | B |\n",
       "| 70 | B |\n",
       "| 49 | C |\n",
       "| 54 | C |\n",
       "| 60 | A |\n",
       "| 46 | A |\n",
       "| 40 | A |\n",
       "| 68 | B |\n",
       "| 27 | B |\n",
       "| 59 | B |\n",
       "| 50 | B |\n",
       "| 60 | C |\n",
       "| 54 | A |\n",
       "| 71 | C |\n",
       "| 38 | A |\n",
       "| 66 | A |\n",
       "| 70 | A |\n",
       "| 50 | A |\n",
       "\n"
      ],
      "text/plain": [
       "   x  f\n",
       "1  41 A\n",
       "2  52 C\n",
       "3  66 A\n",
       "4  39 B\n",
       "5  49 A\n",
       "6  51 C\n",
       "7  57 C\n",
       "8  48 B\n",
       "9  70 B\n",
       "10 49 C\n",
       "11 54 C\n",
       "12 60 A\n",
       "13 46 A\n",
       "14 40 A\n",
       "15 68 B\n",
       "16 27 B\n",
       "17 59 B\n",
       "18 50 B\n",
       "19 60 C\n",
       "20 54 A\n",
       "21 71 C\n",
       "22 38 A\n",
       "23 66 A\n",
       "24 70 A\n",
       "25 50 A"
      ]
     },
     "metadata": {},
     "output_type": "display_data"
    }
   ],
   "source": [
    "set.seed(2)\n",
    "x <- round(rnorm(25, 50, 10))\n",
    "data.frame(x = x, f = f)"
   ]
  },
  {
   "cell_type": "code",
   "execution_count": 88,
   "id": "enormous-poison",
   "metadata": {},
   "outputs": [
    {
     "data": {
      "text/html": [
       "<style>\n",
       ".dl-inline {width: auto; margin:0; padding: 0}\n",
       ".dl-inline>dt, .dl-inline>dd {float: none; width: auto; display: inline-block}\n",
       ".dl-inline>dt::after {content: \":\\0020\"; padding-right: .5ex}\n",
       ".dl-inline>dt:not(:first-of-type) {padding-left: .5ex}\n",
       "</style><dl class=dl-inline><dt>A</dt><dd>52.7272727272727</dd><dt>B</dt><dd>51.5714285714286</dd><dt>C</dt><dd>56.2857142857143</dd></dl>\n"
      ],
      "text/latex": [
       "\\begin{description*}\n",
       "\\item[A] 52.7272727272727\n",
       "\\item[B] 51.5714285714286\n",
       "\\item[C] 56.2857142857143\n",
       "\\end{description*}\n"
      ],
      "text/markdown": [
       "A\n",
       ":   52.7272727272727B\n",
       ":   51.5714285714286C\n",
       ":   56.2857142857143\n",
       "\n"
      ],
      "text/plain": [
       "       A        B        C \n",
       "52.72727 51.57143 56.28571 "
      ]
     },
     "metadata": {},
     "output_type": "display_data"
    }
   ],
   "source": [
    "tapply(x, f, mean)"
   ]
  },
  {
   "cell_type": "code",
   "execution_count": 89,
   "id": "applicable-cholesterol",
   "metadata": {},
   "outputs": [
    {
     "data": {
      "text/html": [
       "<style>\n",
       ".dl-inline {width: auto; margin:0; padding: 0}\n",
       ".dl-inline>dt, .dl-inline>dd {float: none; width: auto; display: inline-block}\n",
       ".dl-inline>dt::after {content: \":\\0020\"; padding-right: .5ex}\n",
       ".dl-inline>dt:not(:first-of-type) {padding-left: .5ex}\n",
       "</style><dl class=dl-inline><dt>A</dt><dd>32</dd><dt>B</dt><dd>43</dd><dt>C</dt><dd>22</dd></dl>\n"
      ],
      "text/latex": [
       "\\begin{description*}\n",
       "\\item[A] 32\n",
       "\\item[B] 43\n",
       "\\item[C] 22\n",
       "\\end{description*}\n"
      ],
      "text/markdown": [
       "A\n",
       ":   32B\n",
       ":   43C\n",
       ":   22\n",
       "\n"
      ],
      "text/plain": [
       " A  B  C \n",
       "32 43 22 "
      ]
     },
     "metadata": {},
     "output_type": "display_data"
    }
   ],
   "source": [
    "tapply(x, f, function(t){max(t)-min(t)})"
   ]
  },
  {
   "cell_type": "markdown",
   "id": "embedded-egyptian",
   "metadata": {},
   "source": [
    "`-` function()은 사용자 정의 함수임\n",
    "\n",
    "`-` 한 줄일 경우 { }생략 가능"
   ]
  },
  {
   "cell_type": "markdown",
   "id": "virtual-specific",
   "metadata": {},
   "source": [
    "`-` 쪼갬의 대상이 벡터가 아니라 데이터 프레임인 경우에는 `split()`과 `sapply()`를 함께 이용"
   ]
  },
  {
   "cell_type": "code",
   "execution_count": 90,
   "id": "handed-possibility",
   "metadata": {},
   "outputs": [
    {
     "data": {
      "text/html": [
       "<dl>\n",
       "\t<dt>$A</dt>\n",
       "\t\t<dd><table class=\"dataframe\">\n",
       "<caption>A data.frame: 11 × 2</caption>\n",
       "<thead>\n",
       "\t<tr><th></th><th scope=col>x</th><th scope=col>z</th></tr>\n",
       "\t<tr><th></th><th scope=col>&lt;dbl&gt;</th><th scope=col>&lt;int&gt;</th></tr>\n",
       "</thead>\n",
       "<tbody>\n",
       "\t<tr><th scope=row>1</th><td>41</td><td>5</td></tr>\n",
       "\t<tr><th scope=row>3</th><td>66</td><td>2</td></tr>\n",
       "\t<tr><th scope=row>5</th><td>49</td><td>1</td></tr>\n",
       "\t<tr><th scope=row>12</th><td>60</td><td>4</td></tr>\n",
       "\t<tr><th scope=row>13</th><td>46</td><td>4</td></tr>\n",
       "\t<tr><th scope=row>14</th><td>40</td><td>4</td></tr>\n",
       "\t<tr><th scope=row>20</th><td>54</td><td>1</td></tr>\n",
       "\t<tr><th scope=row>22</th><td>38</td><td>3</td></tr>\n",
       "\t<tr><th scope=row>23</th><td>66</td><td>2</td></tr>\n",
       "\t<tr><th scope=row>24</th><td>70</td><td>2</td></tr>\n",
       "\t<tr><th scope=row>25</th><td>50</td><td>5</td></tr>\n",
       "</tbody>\n",
       "</table>\n",
       "</dd>\n",
       "\t<dt>$B</dt>\n",
       "\t\t<dd><table class=\"dataframe\">\n",
       "<caption>A data.frame: 7 × 2</caption>\n",
       "<thead>\n",
       "\t<tr><th></th><th scope=col>x</th><th scope=col>z</th></tr>\n",
       "\t<tr><th></th><th scope=col>&lt;dbl&gt;</th><th scope=col>&lt;int&gt;</th></tr>\n",
       "</thead>\n",
       "<tbody>\n",
       "\t<tr><th scope=row>4</th><td>39</td><td>2</td></tr>\n",
       "\t<tr><th scope=row>8</th><td>48</td><td>4</td></tr>\n",
       "\t<tr><th scope=row>9</th><td>70</td><td>3</td></tr>\n",
       "\t<tr><th scope=row>15</th><td>68</td><td>2</td></tr>\n",
       "\t<tr><th scope=row>16</th><td>27</td><td>4</td></tr>\n",
       "\t<tr><th scope=row>17</th><td>59</td><td>1</td></tr>\n",
       "\t<tr><th scope=row>18</th><td>50</td><td>1</td></tr>\n",
       "</tbody>\n",
       "</table>\n",
       "</dd>\n",
       "\t<dt>$C</dt>\n",
       "\t\t<dd><table class=\"dataframe\">\n",
       "<caption>A data.frame: 7 × 2</caption>\n",
       "<thead>\n",
       "\t<tr><th></th><th scope=col>x</th><th scope=col>z</th></tr>\n",
       "\t<tr><th></th><th scope=col>&lt;dbl&gt;</th><th scope=col>&lt;int&gt;</th></tr>\n",
       "</thead>\n",
       "<tbody>\n",
       "\t<tr><th scope=row>2</th><td>52</td><td>5</td></tr>\n",
       "\t<tr><th scope=row>6</th><td>51</td><td>4</td></tr>\n",
       "\t<tr><th scope=row>7</th><td>57</td><td>1</td></tr>\n",
       "\t<tr><th scope=row>10</th><td>49</td><td>2</td></tr>\n",
       "\t<tr><th scope=row>11</th><td>54</td><td>2</td></tr>\n",
       "\t<tr><th scope=row>19</th><td>60</td><td>4</td></tr>\n",
       "\t<tr><th scope=row>21</th><td>71</td><td>2</td></tr>\n",
       "</tbody>\n",
       "</table>\n",
       "</dd>\n",
       "</dl>\n"
      ],
      "text/latex": [
       "\\begin{description}\n",
       "\\item[\\$A] A data.frame: 11 × 2\n",
       "\\begin{tabular}{r|ll}\n",
       "  & x & z\\\\\n",
       "  & <dbl> & <int>\\\\\n",
       "\\hline\n",
       "\t1 & 41 & 5\\\\\n",
       "\t3 & 66 & 2\\\\\n",
       "\t5 & 49 & 1\\\\\n",
       "\t12 & 60 & 4\\\\\n",
       "\t13 & 46 & 4\\\\\n",
       "\t14 & 40 & 4\\\\\n",
       "\t20 & 54 & 1\\\\\n",
       "\t22 & 38 & 3\\\\\n",
       "\t23 & 66 & 2\\\\\n",
       "\t24 & 70 & 2\\\\\n",
       "\t25 & 50 & 5\\\\\n",
       "\\end{tabular}\n",
       "\n",
       "\\item[\\$B] A data.frame: 7 × 2\n",
       "\\begin{tabular}{r|ll}\n",
       "  & x & z\\\\\n",
       "  & <dbl> & <int>\\\\\n",
       "\\hline\n",
       "\t4 & 39 & 2\\\\\n",
       "\t8 & 48 & 4\\\\\n",
       "\t9 & 70 & 3\\\\\n",
       "\t15 & 68 & 2\\\\\n",
       "\t16 & 27 & 4\\\\\n",
       "\t17 & 59 & 1\\\\\n",
       "\t18 & 50 & 1\\\\\n",
       "\\end{tabular}\n",
       "\n",
       "\\item[\\$C] A data.frame: 7 × 2\n",
       "\\begin{tabular}{r|ll}\n",
       "  & x & z\\\\\n",
       "  & <dbl> & <int>\\\\\n",
       "\\hline\n",
       "\t2 & 52 & 5\\\\\n",
       "\t6 & 51 & 4\\\\\n",
       "\t7 & 57 & 1\\\\\n",
       "\t10 & 49 & 2\\\\\n",
       "\t11 & 54 & 2\\\\\n",
       "\t19 & 60 & 4\\\\\n",
       "\t21 & 71 & 2\\\\\n",
       "\\end{tabular}\n",
       "\n",
       "\\end{description}\n"
      ],
      "text/markdown": [
       "$A\n",
       ":   \n",
       "A data.frame: 11 × 2\n",
       "\n",
       "| <!--/--> | x &lt;dbl&gt; | z &lt;int&gt; |\n",
       "|---|---|---|\n",
       "| 1 | 41 | 5 |\n",
       "| 3 | 66 | 2 |\n",
       "| 5 | 49 | 1 |\n",
       "| 12 | 60 | 4 |\n",
       "| 13 | 46 | 4 |\n",
       "| 14 | 40 | 4 |\n",
       "| 20 | 54 | 1 |\n",
       "| 22 | 38 | 3 |\n",
       "| 23 | 66 | 2 |\n",
       "| 24 | 70 | 2 |\n",
       "| 25 | 50 | 5 |\n",
       "\n",
       "\n",
       "$B\n",
       ":   \n",
       "A data.frame: 7 × 2\n",
       "\n",
       "| <!--/--> | x &lt;dbl&gt; | z &lt;int&gt; |\n",
       "|---|---|---|\n",
       "| 4 | 39 | 2 |\n",
       "| 8 | 48 | 4 |\n",
       "| 9 | 70 | 3 |\n",
       "| 15 | 68 | 2 |\n",
       "| 16 | 27 | 4 |\n",
       "| 17 | 59 | 1 |\n",
       "| 18 | 50 | 1 |\n",
       "\n",
       "\n",
       "$C\n",
       ":   \n",
       "A data.frame: 7 × 2\n",
       "\n",
       "| <!--/--> | x &lt;dbl&gt; | z &lt;int&gt; |\n",
       "|---|---|---|\n",
       "| 2 | 52 | 5 |\n",
       "| 6 | 51 | 4 |\n",
       "| 7 | 57 | 1 |\n",
       "| 10 | 49 | 2 |\n",
       "| 11 | 54 | 2 |\n",
       "| 19 | 60 | 4 |\n",
       "| 21 | 71 | 2 |\n",
       "\n",
       "\n",
       "\n",
       "\n"
      ],
      "text/plain": [
       "$A\n",
       "    x z\n",
       "1  41 5\n",
       "3  66 2\n",
       "5  49 1\n",
       "12 60 4\n",
       "13 46 4\n",
       "14 40 4\n",
       "20 54 1\n",
       "22 38 3\n",
       "23 66 2\n",
       "24 70 2\n",
       "25 50 5\n",
       "\n",
       "$B\n",
       "    x z\n",
       "4  39 2\n",
       "8  48 4\n",
       "9  70 3\n",
       "15 68 2\n",
       "16 27 4\n",
       "17 59 1\n",
       "18 50 1\n",
       "\n",
       "$C\n",
       "    x z\n",
       "2  52 5\n",
       "6  51 4\n",
       "7  57 1\n",
       "10 49 2\n",
       "11 54 2\n",
       "19 60 4\n",
       "21 71 2\n"
      ]
     },
     "metadata": {},
     "output_type": "display_data"
    }
   ],
   "source": [
    "split(data.frame(x = x, z = z), f)"
   ]
  },
  {
   "cell_type": "code",
   "execution_count": 91,
   "id": "quiet-pride",
   "metadata": {},
   "outputs": [
    {
     "data": {
      "text/html": [
       "'list'"
      ],
      "text/latex": [
       "'list'"
      ],
      "text/markdown": [
       "'list'"
      ],
      "text/plain": [
       "[1] \"list\""
      ]
     },
     "metadata": {},
     "output_type": "display_data"
    }
   ],
   "source": [
    "s <-  split(data.frame(x = x, z = z), f)\n",
    "class(s)"
   ]
  },
  {
   "cell_type": "code",
   "execution_count": 92,
   "id": "characteristic-machine",
   "metadata": {},
   "outputs": [
    {
     "data": {
      "text/html": [
       "<table class=\"dataframe\">\n",
       "<caption>A matrix: 2 × 3 of type dbl</caption>\n",
       "<thead>\n",
       "\t<tr><th></th><th scope=col>A</th><th scope=col>B</th><th scope=col>C</th></tr>\n",
       "</thead>\n",
       "<tbody>\n",
       "\t<tr><th scope=row>x</th><td>52.72727</td><td>51.571429</td><td>56.285714</td></tr>\n",
       "\t<tr><th scope=row>z</th><td> 3.00000</td><td> 2.428571</td><td> 2.857143</td></tr>\n",
       "</tbody>\n",
       "</table>\n"
      ],
      "text/latex": [
       "A matrix: 2 × 3 of type dbl\n",
       "\\begin{tabular}{r|lll}\n",
       "  & A & B & C\\\\\n",
       "\\hline\n",
       "\tx & 52.72727 & 51.571429 & 56.285714\\\\\n",
       "\tz &  3.00000 &  2.428571 &  2.857143\\\\\n",
       "\\end{tabular}\n"
      ],
      "text/markdown": [
       "\n",
       "A matrix: 2 × 3 of type dbl\n",
       "\n",
       "| <!--/--> | A | B | C |\n",
       "|---|---|---|---|\n",
       "| x | 52.72727 | 51.571429 | 56.285714 |\n",
       "| z |  3.00000 |  2.428571 |  2.857143 |\n",
       "\n"
      ],
      "text/plain": [
       "  A        B         C        \n",
       "x 52.72727 51.571429 56.285714\n",
       "z  3.00000  2.428571  2.857143"
      ]
     },
     "metadata": {},
     "output_type": "display_data"
    }
   ],
   "source": [
    "sapply(s, apply, 2, mean)"
   ]
  },
  {
   "cell_type": "markdown",
   "id": "expressed-search",
   "metadata": {},
   "source": [
    "`-` `aggregate(x, list(f, g), fun)`은 x를 f와 g의 조합으로 쪼개서 fun을 적용함"
   ]
  },
  {
   "cell_type": "code",
   "execution_count": 93,
   "id": "complex-sending",
   "metadata": {},
   "outputs": [
    {
     "data": {
      "text/html": [
       "<table class=\"dataframe\">\n",
       "<caption>A data.frame: 13 × 3</caption>\n",
       "<thead>\n",
       "\t<tr><th scope=col>Group.1</th><th scope=col>Group.2</th><th scope=col>x</th></tr>\n",
       "\t<tr><th scope=col>&lt;fct&gt;</th><th scope=col>&lt;fct&gt;</th><th scope=col>&lt;dbl&gt;</th></tr>\n",
       "</thead>\n",
       "<tbody>\n",
       "\t<tr><td>A</td><td>1</td><td>103</td></tr>\n",
       "\t<tr><td>B</td><td>1</td><td>109</td></tr>\n",
       "\t<tr><td>C</td><td>1</td><td> 57</td></tr>\n",
       "\t<tr><td>A</td><td>2</td><td>202</td></tr>\n",
       "\t<tr><td>B</td><td>2</td><td>107</td></tr>\n",
       "\t<tr><td>C</td><td>2</td><td>174</td></tr>\n",
       "\t<tr><td>A</td><td>3</td><td> 38</td></tr>\n",
       "\t<tr><td>B</td><td>3</td><td> 70</td></tr>\n",
       "\t<tr><td>A</td><td>4</td><td>146</td></tr>\n",
       "\t<tr><td>B</td><td>4</td><td> 75</td></tr>\n",
       "\t<tr><td>C</td><td>4</td><td>111</td></tr>\n",
       "\t<tr><td>A</td><td>5</td><td> 91</td></tr>\n",
       "\t<tr><td>C</td><td>5</td><td> 52</td></tr>\n",
       "</tbody>\n",
       "</table>\n"
      ],
      "text/latex": [
       "A data.frame: 13 × 3\n",
       "\\begin{tabular}{lll}\n",
       " Group.1 & Group.2 & x\\\\\n",
       " <fct> & <fct> & <dbl>\\\\\n",
       "\\hline\n",
       "\t A & 1 & 103\\\\\n",
       "\t B & 1 & 109\\\\\n",
       "\t C & 1 &  57\\\\\n",
       "\t A & 2 & 202\\\\\n",
       "\t B & 2 & 107\\\\\n",
       "\t C & 2 & 174\\\\\n",
       "\t A & 3 &  38\\\\\n",
       "\t B & 3 &  70\\\\\n",
       "\t A & 4 & 146\\\\\n",
       "\t B & 4 &  75\\\\\n",
       "\t C & 4 & 111\\\\\n",
       "\t A & 5 &  91\\\\\n",
       "\t C & 5 &  52\\\\\n",
       "\\end{tabular}\n"
      ],
      "text/markdown": [
       "\n",
       "A data.frame: 13 × 3\n",
       "\n",
       "| Group.1 &lt;fct&gt; | Group.2 &lt;fct&gt; | x &lt;dbl&gt; |\n",
       "|---|---|---|\n",
       "| A | 1 | 103 |\n",
       "| B | 1 | 109 |\n",
       "| C | 1 |  57 |\n",
       "| A | 2 | 202 |\n",
       "| B | 2 | 107 |\n",
       "| C | 2 | 174 |\n",
       "| A | 3 |  38 |\n",
       "| B | 3 |  70 |\n",
       "| A | 4 | 146 |\n",
       "| B | 4 |  75 |\n",
       "| C | 4 | 111 |\n",
       "| A | 5 |  91 |\n",
       "| C | 5 |  52 |\n",
       "\n"
      ],
      "text/plain": [
       "   Group.1 Group.2 x  \n",
       "1  A       1       103\n",
       "2  B       1       109\n",
       "3  C       1        57\n",
       "4  A       2       202\n",
       "5  B       2       107\n",
       "6  C       2       174\n",
       "7  A       3        38\n",
       "8  B       3        70\n",
       "9  A       4       146\n",
       "10 B       4        75\n",
       "11 C       4       111\n",
       "12 A       5        91\n",
       "13 C       5        52"
      ]
     },
     "metadata": {},
     "output_type": "display_data"
    }
   ],
   "source": [
    "aggregate(data.frame(x = x, z = z)$x, list(f, g), sum)"
   ]
  },
  {
   "cell_type": "markdown",
   "id": "fleet-collect",
   "metadata": {},
   "source": [
    "`-` `tapply()`는 쪼갤 기준이 하나\n",
    "\n",
    "`-` `aggregate()`는 쪼갤 기준이 여러개(`list`)"
   ]
  },
  {
   "cell_type": "markdown",
   "id": "gross-agent",
   "metadata": {},
   "source": [
    "## cut 함수 "
   ]
  },
  {
   "cell_type": "markdown",
   "id": "southwest-basement",
   "metadata": {},
   "source": [
    "`-` `cut(x, breaks)`는 수치형 벡터 x를 breaks로 쪼개서 factor 변수로 만듦(구간화)\n",
    "\n",
    "`-` 만약 기준 변수가 factor가 아니라면 factor로 만듦"
   ]
  },
  {
   "cell_type": "code",
   "execution_count": 117,
   "id": "arctic-debut",
   "metadata": {},
   "outputs": [
    {
     "data": {
      "text/html": [
       "'factor'"
      ],
      "text/latex": [
       "'factor'"
      ],
      "text/markdown": [
       "'factor'"
      ],
      "text/plain": [
       "[1] \"factor\""
      ]
     },
     "metadata": {},
     "output_type": "display_data"
    }
   ],
   "source": [
    "set.seed(21)\n",
    "x <- runif(100, 0, 10)\n",
    "y <- 5 + 0.5*(x-5) + rnorm(100)  ## x와 y는 선형관계 \n",
    "chr_ <- c('0', '1', '2', '3', '4', '5', '6', '7', '8', '9', '10')\n",
    "x_cut <- cut(x, chr_)\n",
    "class(x_cut)"
   ]
  },
  {
   "cell_type": "code",
   "execution_count": 118,
   "id": "7b7990a0-6d18-478d-8bbf-fbdcd90b1460",
   "metadata": {},
   "outputs": [
    {
     "data": {
      "text/html": [
       "<style>\n",
       ".list-inline {list-style: none; margin:0; padding: 0}\n",
       ".list-inline>li {display: inline-block}\n",
       ".list-inline>li:not(:last-child)::after {content: \"\\00b7\"; padding: 0 .5ex}\n",
       "</style>\n",
       "<ol class=list-inline><li>'0'</li><li>'1'</li><li>'2'</li><li>'3'</li><li>'4'</li><li>'5'</li><li>'6'</li><li>'7'</li><li>'8'</li><li>'9'</li><li>'10'</li></ol>\n"
      ],
      "text/latex": [
       "\\begin{enumerate*}\n",
       "\\item '0'\n",
       "\\item '1'\n",
       "\\item '2'\n",
       "\\item '3'\n",
       "\\item '4'\n",
       "\\item '5'\n",
       "\\item '6'\n",
       "\\item '7'\n",
       "\\item '8'\n",
       "\\item '9'\n",
       "\\item '10'\n",
       "\\end{enumerate*}\n"
      ],
      "text/markdown": [
       "1. '0'\n",
       "2. '1'\n",
       "3. '2'\n",
       "4. '3'\n",
       "5. '4'\n",
       "6. '5'\n",
       "7. '6'\n",
       "8. '7'\n",
       "9. '8'\n",
       "10. '9'\n",
       "11. '10'\n",
       "\n",
       "\n"
      ],
      "text/plain": [
       " [1] \"0\"  \"1\"  \"2\"  \"3\"  \"4\"  \"5\"  \"6\"  \"7\"  \"8\"  \"9\"  \"10\""
      ]
     },
     "metadata": {},
     "output_type": "display_data"
    }
   ],
   "source": [
    "chr_"
   ]
  },
  {
   "cell_type": "code",
   "execution_count": 119,
   "id": "exceptional-pierce",
   "metadata": {},
   "outputs": [
    {
     "data": {
      "text/html": [
       "<table class=\"dataframe\">\n",
       "<caption>A matrix: 100 × 3 of type dbl</caption>\n",
       "<thead>\n",
       "\t<tr><th scope=col>x</th><th scope=col>x_cut</th><th scope=col>y</th></tr>\n",
       "</thead>\n",
       "<tbody>\n",
       "\t<tr><td>7.8611493</td><td> 8</td><td>5.8484239</td></tr>\n",
       "\t<tr><td>2.5244560</td><td> 3</td><td>5.5363467</td></tr>\n",
       "\t<tr><td>6.9925230</td><td> 7</td><td>5.7855895</td></tr>\n",
       "\t<tr><td>1.8446075</td><td> 2</td><td>3.0701969</td></tr>\n",
       "\t<tr><td>9.5961383</td><td>10</td><td>7.8832415</td></tr>\n",
       "\t<tr><td>9.1868340</td><td>10</td><td>8.1071017</td></tr>\n",
       "\t<tr><td>1.0180455</td><td> 2</td><td>2.9864533</td></tr>\n",
       "\t<tr><td>1.7219168</td><td> 2</td><td>2.4578035</td></tr>\n",
       "\t<tr><td>9.8600368</td><td>10</td><td>8.3377913</td></tr>\n",
       "\t<tr><td>8.4939610</td><td> 9</td><td>7.9089234</td></tr>\n",
       "\t<tr><td>6.6754012</td><td> 7</td><td>5.3797472</td></tr>\n",
       "\t<tr><td>9.3521022</td><td>10</td><td>8.1040078</td></tr>\n",
       "\t<tr><td>0.5818433</td><td> 1</td><td>0.6879865</td></tr>\n",
       "\t<tr><td>6.1861583</td><td> 7</td><td>3.9159120</td></tr>\n",
       "\t<tr><td>1.7491846</td><td> 2</td><td>5.1402481</td></tr>\n",
       "\t<tr><td>0.3767539</td><td> 1</td><td>3.4828244</td></tr>\n",
       "\t<tr><td>5.2531317</td><td> 6</td><td>4.6426963</td></tr>\n",
       "\t<tr><td>2.8218425</td><td> 3</td><td>5.8392804</td></tr>\n",
       "\t<tr><td>4.9904520</td><td> 5</td><td>4.6111098</td></tr>\n",
       "\t<tr><td>6.3382510</td><td> 7</td><td>4.0824480</td></tr>\n",
       "\t<tr><td>0.1139965</td><td> 1</td><td>2.7712999</td></tr>\n",
       "\t<tr><td>6.0785656</td><td> 7</td><td>4.4010011</td></tr>\n",
       "\t<tr><td>7.7559853</td><td> 8</td><td>6.8674062</td></tr>\n",
       "\t<tr><td>9.2397118</td><td>10</td><td>5.3672191</td></tr>\n",
       "\t<tr><td>2.9170673</td><td> 3</td><td>4.4595508</td></tr>\n",
       "\t<tr><td>7.8907624</td><td> 8</td><td>6.5321374</td></tr>\n",
       "\t<tr><td>5.6849721</td><td> 6</td><td>5.5335596</td></tr>\n",
       "\t<tr><td>7.7843508</td><td> 8</td><td>7.2240144</td></tr>\n",
       "\t<tr><td>7.1323253</td><td> 8</td><td>5.3871303</td></tr>\n",
       "\t<tr><td>6.6904867</td><td> 7</td><td>6.1411056</td></tr>\n",
       "\t<tr><td>⋮</td><td>⋮</td><td>⋮</td></tr>\n",
       "\t<tr><td>5.2419521</td><td> 6</td><td>4.802874</td></tr>\n",
       "\t<tr><td>5.3472914</td><td> 6</td><td>4.589883</td></tr>\n",
       "\t<tr><td>9.6766790</td><td>10</td><td>7.405624</td></tr>\n",
       "\t<tr><td>5.2833101</td><td> 6</td><td>5.497121</td></tr>\n",
       "\t<tr><td>5.3193106</td><td> 6</td><td>5.138644</td></tr>\n",
       "\t<tr><td>6.2043358</td><td> 7</td><td>6.850795</td></tr>\n",
       "\t<tr><td>9.2198573</td><td>10</td><td>6.225241</td></tr>\n",
       "\t<tr><td>2.2786153</td><td> 3</td><td>2.754301</td></tr>\n",
       "\t<tr><td>9.2766458</td><td>10</td><td>6.687593</td></tr>\n",
       "\t<tr><td>9.2997805</td><td>10</td><td>8.441203</td></tr>\n",
       "\t<tr><td>5.2228023</td><td> 6</td><td>5.490241</td></tr>\n",
       "\t<tr><td>9.9086911</td><td>10</td><td>8.955029</td></tr>\n",
       "\t<tr><td>0.6460298</td><td> 1</td><td>2.554238</td></tr>\n",
       "\t<tr><td>8.6259344</td><td> 9</td><td>8.088017</td></tr>\n",
       "\t<tr><td>4.8062732</td><td> 5</td><td>5.224632</td></tr>\n",
       "\t<tr><td>5.3615727</td><td> 6</td><td>6.835729</td></tr>\n",
       "\t<tr><td>4.1513448</td><td> 5</td><td>3.384017</td></tr>\n",
       "\t<tr><td>2.2846328</td><td> 3</td><td>3.595330</td></tr>\n",
       "\t<tr><td>9.8195084</td><td>10</td><td>5.809714</td></tr>\n",
       "\t<tr><td>6.5597644</td><td> 7</td><td>4.664516</td></tr>\n",
       "\t<tr><td>5.8016786</td><td> 6</td><td>6.295498</td></tr>\n",
       "\t<tr><td>1.4083867</td><td> 2</td><td>2.498659</td></tr>\n",
       "\t<tr><td>6.9767447</td><td> 7</td><td>5.034914</td></tr>\n",
       "\t<tr><td>7.4802064</td><td> 8</td><td>7.236793</td></tr>\n",
       "\t<tr><td>9.5334043</td><td>10</td><td>6.601671</td></tr>\n",
       "\t<tr><td>1.3104292</td><td> 2</td><td>1.524249</td></tr>\n",
       "\t<tr><td>6.4997197</td><td> 7</td><td>6.496078</td></tr>\n",
       "\t<tr><td>7.0777577</td><td> 8</td><td>5.070752</td></tr>\n",
       "\t<tr><td>0.9994111</td><td> 1</td><td>2.695506</td></tr>\n",
       "\t<tr><td>0.6916488</td><td> 1</td><td>3.510434</td></tr>\n",
       "</tbody>\n",
       "</table>\n"
      ],
      "text/latex": [
       "A matrix: 100 × 3 of type dbl\n",
       "\\begin{tabular}{lll}\n",
       " x & x\\_cut & y\\\\\n",
       "\\hline\n",
       "\t 7.8611493 &  8 & 5.8484239\\\\\n",
       "\t 2.5244560 &  3 & 5.5363467\\\\\n",
       "\t 6.9925230 &  7 & 5.7855895\\\\\n",
       "\t 1.8446075 &  2 & 3.0701969\\\\\n",
       "\t 9.5961383 & 10 & 7.8832415\\\\\n",
       "\t 9.1868340 & 10 & 8.1071017\\\\\n",
       "\t 1.0180455 &  2 & 2.9864533\\\\\n",
       "\t 1.7219168 &  2 & 2.4578035\\\\\n",
       "\t 9.8600368 & 10 & 8.3377913\\\\\n",
       "\t 8.4939610 &  9 & 7.9089234\\\\\n",
       "\t 6.6754012 &  7 & 5.3797472\\\\\n",
       "\t 9.3521022 & 10 & 8.1040078\\\\\n",
       "\t 0.5818433 &  1 & 0.6879865\\\\\n",
       "\t 6.1861583 &  7 & 3.9159120\\\\\n",
       "\t 1.7491846 &  2 & 5.1402481\\\\\n",
       "\t 0.3767539 &  1 & 3.4828244\\\\\n",
       "\t 5.2531317 &  6 & 4.6426963\\\\\n",
       "\t 2.8218425 &  3 & 5.8392804\\\\\n",
       "\t 4.9904520 &  5 & 4.6111098\\\\\n",
       "\t 6.3382510 &  7 & 4.0824480\\\\\n",
       "\t 0.1139965 &  1 & 2.7712999\\\\\n",
       "\t 6.0785656 &  7 & 4.4010011\\\\\n",
       "\t 7.7559853 &  8 & 6.8674062\\\\\n",
       "\t 9.2397118 & 10 & 5.3672191\\\\\n",
       "\t 2.9170673 &  3 & 4.4595508\\\\\n",
       "\t 7.8907624 &  8 & 6.5321374\\\\\n",
       "\t 5.6849721 &  6 & 5.5335596\\\\\n",
       "\t 7.7843508 &  8 & 7.2240144\\\\\n",
       "\t 7.1323253 &  8 & 5.3871303\\\\\n",
       "\t 6.6904867 &  7 & 6.1411056\\\\\n",
       "\t ⋮ & ⋮ & ⋮\\\\\n",
       "\t 5.2419521 &  6 & 4.802874\\\\\n",
       "\t 5.3472914 &  6 & 4.589883\\\\\n",
       "\t 9.6766790 & 10 & 7.405624\\\\\n",
       "\t 5.2833101 &  6 & 5.497121\\\\\n",
       "\t 5.3193106 &  6 & 5.138644\\\\\n",
       "\t 6.2043358 &  7 & 6.850795\\\\\n",
       "\t 9.2198573 & 10 & 6.225241\\\\\n",
       "\t 2.2786153 &  3 & 2.754301\\\\\n",
       "\t 9.2766458 & 10 & 6.687593\\\\\n",
       "\t 9.2997805 & 10 & 8.441203\\\\\n",
       "\t 5.2228023 &  6 & 5.490241\\\\\n",
       "\t 9.9086911 & 10 & 8.955029\\\\\n",
       "\t 0.6460298 &  1 & 2.554238\\\\\n",
       "\t 8.6259344 &  9 & 8.088017\\\\\n",
       "\t 4.8062732 &  5 & 5.224632\\\\\n",
       "\t 5.3615727 &  6 & 6.835729\\\\\n",
       "\t 4.1513448 &  5 & 3.384017\\\\\n",
       "\t 2.2846328 &  3 & 3.595330\\\\\n",
       "\t 9.8195084 & 10 & 5.809714\\\\\n",
       "\t 6.5597644 &  7 & 4.664516\\\\\n",
       "\t 5.8016786 &  6 & 6.295498\\\\\n",
       "\t 1.4083867 &  2 & 2.498659\\\\\n",
       "\t 6.9767447 &  7 & 5.034914\\\\\n",
       "\t 7.4802064 &  8 & 7.236793\\\\\n",
       "\t 9.5334043 & 10 & 6.601671\\\\\n",
       "\t 1.3104292 &  2 & 1.524249\\\\\n",
       "\t 6.4997197 &  7 & 6.496078\\\\\n",
       "\t 7.0777577 &  8 & 5.070752\\\\\n",
       "\t 0.9994111 &  1 & 2.695506\\\\\n",
       "\t 0.6916488 &  1 & 3.510434\\\\\n",
       "\\end{tabular}\n"
      ],
      "text/markdown": [
       "\n",
       "A matrix: 100 × 3 of type dbl\n",
       "\n",
       "| x | x_cut | y |\n",
       "|---|---|---|\n",
       "| 7.8611493 |  8 | 5.8484239 |\n",
       "| 2.5244560 |  3 | 5.5363467 |\n",
       "| 6.9925230 |  7 | 5.7855895 |\n",
       "| 1.8446075 |  2 | 3.0701969 |\n",
       "| 9.5961383 | 10 | 7.8832415 |\n",
       "| 9.1868340 | 10 | 8.1071017 |\n",
       "| 1.0180455 |  2 | 2.9864533 |\n",
       "| 1.7219168 |  2 | 2.4578035 |\n",
       "| 9.8600368 | 10 | 8.3377913 |\n",
       "| 8.4939610 |  9 | 7.9089234 |\n",
       "| 6.6754012 |  7 | 5.3797472 |\n",
       "| 9.3521022 | 10 | 8.1040078 |\n",
       "| 0.5818433 |  1 | 0.6879865 |\n",
       "| 6.1861583 |  7 | 3.9159120 |\n",
       "| 1.7491846 |  2 | 5.1402481 |\n",
       "| 0.3767539 |  1 | 3.4828244 |\n",
       "| 5.2531317 |  6 | 4.6426963 |\n",
       "| 2.8218425 |  3 | 5.8392804 |\n",
       "| 4.9904520 |  5 | 4.6111098 |\n",
       "| 6.3382510 |  7 | 4.0824480 |\n",
       "| 0.1139965 |  1 | 2.7712999 |\n",
       "| 6.0785656 |  7 | 4.4010011 |\n",
       "| 7.7559853 |  8 | 6.8674062 |\n",
       "| 9.2397118 | 10 | 5.3672191 |\n",
       "| 2.9170673 |  3 | 4.4595508 |\n",
       "| 7.8907624 |  8 | 6.5321374 |\n",
       "| 5.6849721 |  6 | 5.5335596 |\n",
       "| 7.7843508 |  8 | 7.2240144 |\n",
       "| 7.1323253 |  8 | 5.3871303 |\n",
       "| 6.6904867 |  7 | 6.1411056 |\n",
       "| ⋮ | ⋮ | ⋮ |\n",
       "| 5.2419521 |  6 | 4.802874 |\n",
       "| 5.3472914 |  6 | 4.589883 |\n",
       "| 9.6766790 | 10 | 7.405624 |\n",
       "| 5.2833101 |  6 | 5.497121 |\n",
       "| 5.3193106 |  6 | 5.138644 |\n",
       "| 6.2043358 |  7 | 6.850795 |\n",
       "| 9.2198573 | 10 | 6.225241 |\n",
       "| 2.2786153 |  3 | 2.754301 |\n",
       "| 9.2766458 | 10 | 6.687593 |\n",
       "| 9.2997805 | 10 | 8.441203 |\n",
       "| 5.2228023 |  6 | 5.490241 |\n",
       "| 9.9086911 | 10 | 8.955029 |\n",
       "| 0.6460298 |  1 | 2.554238 |\n",
       "| 8.6259344 |  9 | 8.088017 |\n",
       "| 4.8062732 |  5 | 5.224632 |\n",
       "| 5.3615727 |  6 | 6.835729 |\n",
       "| 4.1513448 |  5 | 3.384017 |\n",
       "| 2.2846328 |  3 | 3.595330 |\n",
       "| 9.8195084 | 10 | 5.809714 |\n",
       "| 6.5597644 |  7 | 4.664516 |\n",
       "| 5.8016786 |  6 | 6.295498 |\n",
       "| 1.4083867 |  2 | 2.498659 |\n",
       "| 6.9767447 |  7 | 5.034914 |\n",
       "| 7.4802064 |  8 | 7.236793 |\n",
       "| 9.5334043 | 10 | 6.601671 |\n",
       "| 1.3104292 |  2 | 1.524249 |\n",
       "| 6.4997197 |  7 | 6.496078 |\n",
       "| 7.0777577 |  8 | 5.070752 |\n",
       "| 0.9994111 |  1 | 2.695506 |\n",
       "| 0.6916488 |  1 | 3.510434 |\n",
       "\n"
      ],
      "text/plain": [
       "      x         x_cut y        \n",
       " [1,] 7.8611493  8    5.8484239\n",
       " [2,] 2.5244560  3    5.5363467\n",
       " [3,] 6.9925230  7    5.7855895\n",
       " [4,] 1.8446075  2    3.0701969\n",
       " [5,] 9.5961383 10    7.8832415\n",
       " [6,] 9.1868340 10    8.1071017\n",
       " [7,] 1.0180455  2    2.9864533\n",
       " [8,] 1.7219168  2    2.4578035\n",
       " [9,] 9.8600368 10    8.3377913\n",
       "[10,] 8.4939610  9    7.9089234\n",
       "[11,] 6.6754012  7    5.3797472\n",
       "[12,] 9.3521022 10    8.1040078\n",
       "[13,] 0.5818433  1    0.6879865\n",
       "[14,] 6.1861583  7    3.9159120\n",
       "[15,] 1.7491846  2    5.1402481\n",
       "[16,] 0.3767539  1    3.4828244\n",
       "[17,] 5.2531317  6    4.6426963\n",
       "[18,] 2.8218425  3    5.8392804\n",
       "[19,] 4.9904520  5    4.6111098\n",
       "[20,] 6.3382510  7    4.0824480\n",
       "[21,] 0.1139965  1    2.7712999\n",
       "[22,] 6.0785656  7    4.4010011\n",
       "[23,] 7.7559853  8    6.8674062\n",
       "[24,] 9.2397118 10    5.3672191\n",
       "[25,] 2.9170673  3    4.4595508\n",
       "[26,] 7.8907624  8    6.5321374\n",
       "[27,] 5.6849721  6    5.5335596\n",
       "[28,] 7.7843508  8    7.2240144\n",
       "[29,] 7.1323253  8    5.3871303\n",
       "[30,] 6.6904867  7    6.1411056\n",
       "[31,] <U+22EE>  <U+22EE> <U+22EE> \n",
       "[32,] 5.2419521  6    4.802874 \n",
       "[33,] 5.3472914  6    4.589883 \n",
       "[34,] 9.6766790 10    7.405624 \n",
       "[35,] 5.2833101  6    5.497121 \n",
       "[36,] 5.3193106  6    5.138644 \n",
       "[37,] 6.2043358  7    6.850795 \n",
       "[38,] 9.2198573 10    6.225241 \n",
       "[39,] 2.2786153  3    2.754301 \n",
       "[40,] 9.2766458 10    6.687593 \n",
       "[41,] 9.2997805 10    8.441203 \n",
       "[42,] 5.2228023  6    5.490241 \n",
       "[43,] 9.9086911 10    8.955029 \n",
       "[44,] 0.6460298  1    2.554238 \n",
       "[45,] 8.6259344  9    8.088017 \n",
       "[46,] 4.8062732  5    5.224632 \n",
       "[47,] 5.3615727  6    6.835729 \n",
       "[48,] 4.1513448  5    3.384017 \n",
       "[49,] 2.2846328  3    3.595330 \n",
       "[50,] 9.8195084 10    5.809714 \n",
       "[51,] 6.5597644  7    4.664516 \n",
       "[52,] 5.8016786  6    6.295498 \n",
       "[53,] 1.4083867  2    2.498659 \n",
       "[54,] 6.9767447  7    5.034914 \n",
       "[55,] 7.4802064  8    7.236793 \n",
       "[56,] 9.5334043 10    6.601671 \n",
       "[57,] 1.3104292  2    1.524249 \n",
       "[58,] 6.4997197  7    6.496078 \n",
       "[59,] 7.0777577  8    5.070752 \n",
       "[60,] 0.9994111  1    2.695506 \n",
       "[61,] 0.6916488  1    3.510434 "
      ]
     },
     "metadata": {},
     "output_type": "display_data"
    }
   ],
   "source": [
    "#collapse-output\n",
    "\n",
    "cbind(x, x_cut, y)"
   ]
  },
  {
   "cell_type": "markdown",
   "id": "modern-slovakia",
   "metadata": {},
   "source": [
    "`-` $(x, y)$의 산점도에 $x$의 구간별 평균을 막대로 넣어 구간별 평균의 이동을 산출해보자"
   ]
  },
  {
   "cell_type": "code",
   "execution_count": 120,
   "id": "organic-composition",
   "metadata": {},
   "outputs": [
    {
     "data": {
      "text/html": [
       "<table class=\"dataframe\">\n",
       "<caption>A data.frame: 10 × 2</caption>\n",
       "<thead>\n",
       "\t<tr><th scope=col>Group.1</th><th scope=col>x</th></tr>\n",
       "\t<tr><th scope=col>&lt;fct&gt;</th><th scope=col>&lt;dbl&gt;</th></tr>\n",
       "</thead>\n",
       "<tbody>\n",
       "\t<tr><td>(0,1] </td><td>2.597557</td></tr>\n",
       "\t<tr><td>(1,2] </td><td>3.252382</td></tr>\n",
       "\t<tr><td>(2,3] </td><td>4.148030</td></tr>\n",
       "\t<tr><td>(3,4] </td><td>2.849470</td></tr>\n",
       "\t<tr><td>(4,5] </td><td>4.448115</td></tr>\n",
       "\t<tr><td>(5,6] </td><td>5.436146</td></tr>\n",
       "\t<tr><td>(6,7] </td><td>5.198160</td></tr>\n",
       "\t<tr><td>(7,8] </td><td>6.197139</td></tr>\n",
       "\t<tr><td>(8,9] </td><td>6.638144</td></tr>\n",
       "\t<tr><td>(9,10]</td><td>7.384560</td></tr>\n",
       "</tbody>\n",
       "</table>\n"
      ],
      "text/latex": [
       "A data.frame: 10 × 2\n",
       "\\begin{tabular}{ll}\n",
       " Group.1 & x\\\\\n",
       " <fct> & <dbl>\\\\\n",
       "\\hline\n",
       "\t (0,1{]}  & 2.597557\\\\\n",
       "\t (1,2{]}  & 3.252382\\\\\n",
       "\t (2,3{]}  & 4.148030\\\\\n",
       "\t (3,4{]}  & 2.849470\\\\\n",
       "\t (4,5{]}  & 4.448115\\\\\n",
       "\t (5,6{]}  & 5.436146\\\\\n",
       "\t (6,7{]}  & 5.198160\\\\\n",
       "\t (7,8{]}  & 6.197139\\\\\n",
       "\t (8,9{]}  & 6.638144\\\\\n",
       "\t (9,10{]} & 7.384560\\\\\n",
       "\\end{tabular}\n"
      ],
      "text/markdown": [
       "\n",
       "A data.frame: 10 × 2\n",
       "\n",
       "| Group.1 &lt;fct&gt; | x &lt;dbl&gt; |\n",
       "|---|---|\n",
       "| (0,1]  | 2.597557 |\n",
       "| (1,2]  | 3.252382 |\n",
       "| (2,3]  | 4.148030 |\n",
       "| (3,4]  | 2.849470 |\n",
       "| (4,5]  | 4.448115 |\n",
       "| (5,6]  | 5.436146 |\n",
       "| (6,7]  | 5.198160 |\n",
       "| (7,8]  | 6.197139 |\n",
       "| (8,9]  | 6.638144 |\n",
       "| (9,10] | 7.384560 |\n",
       "\n"
      ],
      "text/plain": [
       "   Group.1 x       \n",
       "1  (0,1]   2.597557\n",
       "2  (1,2]   3.252382\n",
       "3  (2,3]   4.148030\n",
       "4  (3,4]   2.849470\n",
       "5  (4,5]   4.448115\n",
       "6  (5,6]   5.436146\n",
       "7  (6,7]   5.198160\n",
       "8  (7,8]   6.197139\n",
       "9  (8,9]   6.638144\n",
       "10 (9,10]  7.384560"
      ]
     },
     "metadata": {},
     "output_type": "display_data"
    }
   ],
   "source": [
    "y_local <- aggregate(y, list(x_cut), mean) ## x_cut은 1~10까지 존재 ---> 1부터 10까지 x_cut별로 따로 모아 그에 해당하는 y 데이터의 평균을 구함\n",
    "y_local"
   ]
  },
  {
   "cell_type": "code",
   "execution_count": 121,
   "id": "progressive-adrian",
   "metadata": {},
   "outputs": [
    {
     "data": {
      "image/png": "[encoded data removed]",
      "text/plain": [
       "Plot with title \"x vs y\""
      ]
     },
     "metadata": {
      "image/png": {
       "height": 420,
       "width": 420
      }
     },
     "output_type": "display_data"
    }
   ],
   "source": [
    "plot(x, y, ylim = c(0, 10), main = \"x vs y\" )\n",
    "segments(0:9, y_local$x, 1:10, y_local$x, lwd = 2) ## segments 함수는 x좌표와 y좌표를 입력받아 line을 그려줌\n",
    "abline(v = 1:9, lty = \"dotted\") ## abline 함수는 line을 그려줌, v는 수직선의 위치"
   ]
  },
  {
   "cell_type": "markdown",
   "id": "circular-punch",
   "metadata": {},
   "source": [
    "`-` 참고: [abline 함수](https://www.rdocumentation.org/packages/graphics/versions/3.6.2/topics/abline)\n",
    "\n",
    "`-` 참고: [segments 함수](https://www.rdocumentation.org/packages/graphics/versions/3.6.2/topics/segments)"
   ]
  },
  {
   "cell_type": "markdown",
   "id": "retired-verse",
   "metadata": {},
   "source": [
    "# 입출력(input and output)"
   ]
  },
  {
   "cell_type": "markdown",
   "id": "genetic-dollar",
   "metadata": {},
   "source": [
    "`-` `read.table\\read.csv('파일 위치')` ---> 텍스트 파일 or csv 파일을 읽어 내부 저장소에 dataframe으로 만듦\n",
    "\n",
    "`-` `getwd()` ---> 현재의 작업 디렉토리를 알려줌\n",
    "\n",
    "`-` `setwd('위치')` ---> 작업 디렉토리를 입력한 위치로 변경\n",
    "\n",
    "`-` `dir()` ---> 현재 작업 디렉토리에 있는 파일들의 리스트를 보여줌\n",
    "\n",
    "`-` `write.table\\write.csv()`은 특정 데이터 프레임을 작업 디렉토리에 텍스트 파일 or csv 파일로 입력함\n",
    "\n",
    "`-` 파일을 읽을 때 `stringAdFactors = F` 옵션을 적용하면 문자열 변수가 자동으로 factor 형이 되는 것을 막아줌\n",
    "\n",
    "`-` `sink()`함수를 통해 결과값을 텍스트 파일로 저장할 수 있음 ---> [sink function](https://www.rdocumentation.org/packages/base/versions/3.6.2/topics/sink)"
   ]
  },
  {
   "cell_type": "markdown",
   "id": "incredible-creek",
   "metadata": {},
   "source": [
    "## scan 함수\n",
    "\n",
    "`-` `scan()` ---> 비정형의 문자열 데이터를 읽을 때 유용\n",
    "\n",
    "`-` what 은 읽어 들일 데이터 값 형식 numeric, logical, character\n",
    "\n",
    "`-` 책 따라 하는데 scan함수가 제대로 작동되지 않아 찾아보니 quote = \"\" 로 하지 않아서라고 함 ---> 참고: [https://pythonq.com/so/r/29317](https://pythonq.com/so/r/29317)\n",
    "\n",
    "`-` quote = \"\" 옵션을 적용하지 않으면 Read 1 item을 반환 ---> 빈칸을 기준으로 문자열을 쪼개지 않았다는 뜻 ---> 그런데 sep = \"\\n\" 으로 하면 Read 20 item임\n",
    "\n",
    "`-` 원인을 알았는데 내가 yesterday노래 가사 텍스트 파일을 만들 때 맨 앞에 \" 기호를 실수로 추가했었음 ---> \" 기호를 없애니 잘 동작함"
   ]
  },
  {
   "cell_type": "code",
   "execution_count": 98,
   "id": "willing-thomas",
   "metadata": {},
   "outputs": [],
   "source": [
    "lyrics <- scan(\"yesterday.txt\", what = \"character\") ## quote = \"\" 옵션을 적용 안해도 잘 동작함"
   ]
  },
  {
   "cell_type": "code",
   "execution_count": 99,
   "id": "solved-porter",
   "metadata": {},
   "outputs": [
    {
     "name": "stdout",
     "output_type": "stream",
     "text": [
      " chr [1:126] \"Yesterday,\" \"all\" \"my\" \"troubles\" \"seemed\" \"so\" \"far\" \"away.\" ...\n"
     ]
    }
   ],
   "source": [
    "str(lyrics) "
   ]
  },
  {
   "cell_type": "code",
   "execution_count": 100,
   "id": "broke-conflict",
   "metadata": {},
   "outputs": [
    {
     "data": {
      "text/html": [
       "<style>\n",
       ".list-inline {list-style: none; margin:0; padding: 0}\n",
       ".list-inline>li {display: inline-block}\n",
       ".list-inline>li:not(:last-child)::after {content: \"\\00b7\"; padding: 0 .5ex}\n",
       "</style>\n",
       "<ol class=list-inline><li>'Yesterday,'</li><li>'all'</li><li>'my'</li><li>'troubles'</li><li>'seemed'</li><li>'so'</li><li>'far'</li><li>'away.'</li><li>'Now'</li><li>'it'</li></ol>\n"
      ],
      "text/latex": [
       "\\begin{enumerate*}\n",
       "\\item 'Yesterday,'\n",
       "\\item 'all'\n",
       "\\item 'my'\n",
       "\\item 'troubles'\n",
       "\\item 'seemed'\n",
       "\\item 'so'\n",
       "\\item 'far'\n",
       "\\item 'away.'\n",
       "\\item 'Now'\n",
       "\\item 'it'\n",
       "\\end{enumerate*}\n"
      ],
      "text/markdown": [
       "1. 'Yesterday,'\n",
       "2. 'all'\n",
       "3. 'my'\n",
       "4. 'troubles'\n",
       "5. 'seemed'\n",
       "6. 'so'\n",
       "7. 'far'\n",
       "8. 'away.'\n",
       "9. 'Now'\n",
       "10. 'it'\n",
       "\n",
       "\n"
      ],
      "text/plain": [
       " [1] \"Yesterday,\" \"all\"        \"my\"         \"troubles\"   \"seemed\"    \n",
       " [6] \"so\"         \"far\"        \"away.\"      \"Now\"        \"it\"        "
      ]
     },
     "metadata": {},
     "output_type": "display_data"
    }
   ],
   "source": [
    "head(lyrics, 10)"
   ]
  },
  {
   "cell_type": "markdown",
   "id": "killing-snake",
   "metadata": {},
   "source": [
    "`-` 빈칸을 구분자로 인식하여 문자열을 쪼개어 읽어옴 + 줄 단위로 읽고 싶다면 sep = \"\\n\""
   ]
  },
  {
   "cell_type": "code",
   "execution_count": 101,
   "id": "steady-drink",
   "metadata": {},
   "outputs": [],
   "source": [
    "lyrics_2 <- scan(\"yesterday.txt\", what = \"character\", sep = \"\\n\")"
   ]
  },
  {
   "cell_type": "code",
   "execution_count": 102,
   "id": "offshore-council",
   "metadata": {},
   "outputs": [
    {
     "name": "stdout",
     "output_type": "stream",
     "text": [
      " chr [1:20] \"Yesterday, all my troubles seemed so far away.\" ...\n"
     ]
    }
   ],
   "source": [
    "str(lyrics_2)"
   ]
  },
  {
   "cell_type": "code",
   "execution_count": 103,
   "id": "dependent-heading",
   "metadata": {},
   "outputs": [
    {
     "data": {
      "text/html": [
       "<style>\n",
       ".list-inline {list-style: none; margin:0; padding: 0}\n",
       ".list-inline>li {display: inline-block}\n",
       ".list-inline>li:not(:last-child)::after {content: \"\\00b7\"; padding: 0 .5ex}\n",
       "</style>\n",
       "<ol class=list-inline><li>'Yesterday, all my troubles seemed so far away.'</li><li>'Now it looks as though they\\'re here to stay.'</li><li>'oh, I believe in yesterday.'</li><li>'Suddenly, I\\'m not half the man I used to be.'</li><li>'There\\'s a shadow hanging over me.'</li></ol>\n"
      ],
      "text/latex": [
       "\\begin{enumerate*}\n",
       "\\item 'Yesterday, all my troubles seemed so far away.'\n",
       "\\item 'Now it looks as though they\\textbackslash{}'re here to stay.'\n",
       "\\item 'oh, I believe in yesterday.'\n",
       "\\item 'Suddenly, I\\textbackslash{}'m not half the man I used to be.'\n",
       "\\item 'There\\textbackslash{}'s a shadow hanging over me.'\n",
       "\\end{enumerate*}\n"
      ],
      "text/markdown": [
       "1. 'Yesterday, all my troubles seemed so far away.'\n",
       "2. 'Now it looks as though they\\'re here to stay.'\n",
       "3. 'oh, I believe in yesterday.'\n",
       "4. 'Suddenly, I\\'m not half the man I used to be.'\n",
       "5. 'There\\'s a shadow hanging over me.'\n",
       "\n",
       "\n"
      ],
      "text/plain": [
       "[1] \"Yesterday, all my troubles seemed so far away.\"\n",
       "[2] \"Now it looks as though they're here to stay.\"  \n",
       "[3] \"oh, I believe in yesterday.\"                   \n",
       "[4] \"Suddenly, I'm not half the man I used to be.\"  \n",
       "[5] \"There's a shadow hanging over me.\"             "
      ]
     },
     "metadata": {},
     "output_type": "display_data"
    }
   ],
   "source": [
    "head(lyrics_2, 5)"
   ]
  },
  {
   "cell_type": "markdown",
   "id": "black-medication",
   "metadata": {},
   "source": [
    "## cat 함수"
   ]
  },
  {
   "cell_type": "markdown",
   "id": "driven-contrary",
   "metadata": {},
   "source": [
    "`-` print함수와 비슷하나 여러개의 출력이 가능하고 출력이 공백 없이 이어짐"
   ]
  },
  {
   "cell_type": "code",
   "execution_count": 122,
   "id": "frozen-injury",
   "metadata": {},
   "outputs": [
    {
     "name": "stdout",
     "output_type": "stream",
     "text": [
      "[1] \"a\"\n",
      "[1] \"b\"\n"
     ]
    }
   ],
   "source": [
    "print(\"a\")\n",
    "print(\"b\")"
   ]
  },
  {
   "cell_type": "code",
   "execution_count": 123,
   "id": "material-metabolism",
   "metadata": {},
   "outputs": [
    {
     "name": "stdout",
     "output_type": "stream",
     "text": [
      "ab"
     ]
    }
   ],
   "source": [
    "cat(\"a\")\n",
    "cat(\"b\")"
   ]
  },
  {
   "cell_type": "markdown",
   "id": "loving-transition",
   "metadata": {},
   "source": [
    "# 문자열 작업"
   ]
  },
  {
   "cell_type": "markdown",
   "id": "severe-estonia",
   "metadata": {},
   "source": [
    "## grep 함수"
   ]
  },
  {
   "cell_type": "markdown",
   "id": "changing-nursery",
   "metadata": {},
   "source": [
    "`-` `grep(pattern, x)`는 x에서 pattern이 있는 곳을 알려줌"
   ]
  },
  {
   "cell_type": "code",
   "execution_count": 124,
   "id": "alpine-charlotte",
   "metadata": {},
   "outputs": [
    {
     "data": {
      "text/html": [
       "<style>\n",
       ".list-inline {list-style: none; margin:0; padding: 0}\n",
       ".list-inline>li {display: inline-block}\n",
       ".list-inline>li:not(:last-child)::after {content: \"\\00b7\"; padding: 0 .5ex}\n",
       "</style>\n",
       "<ol class=list-inline><li>1</li><li>63</li><li>105</li></ol>\n"
      ],
      "text/latex": [
       "\\begin{enumerate*}\n",
       "\\item 1\n",
       "\\item 63\n",
       "\\item 105\n",
       "\\end{enumerate*}\n"
      ],
      "text/markdown": [
       "1. 1\n",
       "2. 63\n",
       "3. 105\n",
       "\n",
       "\n"
      ],
      "text/plain": [
       "[1]   1  63 105"
      ]
     },
     "metadata": {},
     "output_type": "display_data"
    }
   ],
   "source": [
    "grep(\"Yesterday\", lyrics)"
   ]
  },
  {
   "cell_type": "code",
   "execution_count": 125,
   "id": "single-portugal",
   "metadata": {},
   "outputs": [
    {
     "data": {
      "text/html": [
       "<style>\n",
       ".list-inline {list-style: none; margin:0; padding: 0}\n",
       ".list-inline>li {display: inline-block}\n",
       ".list-inline>li:not(:last-child)::after {content: \"\\00b7\"; padding: 0 .5ex}\n",
       "</style>\n",
       "<ol class=list-inline><li>22</li><li>40</li><li>62</li><li>84</li><li>104</li><li>126</li></ol>\n"
      ],
      "text/latex": [
       "\\begin{enumerate*}\n",
       "\\item 22\n",
       "\\item 40\n",
       "\\item 62\n",
       "\\item 84\n",
       "\\item 104\n",
       "\\item 126\n",
       "\\end{enumerate*}\n"
      ],
      "text/markdown": [
       "1. 22\n",
       "2. 40\n",
       "3. 62\n",
       "4. 84\n",
       "5. 104\n",
       "6. 126\n",
       "\n",
       "\n"
      ],
      "text/plain": [
       "[1]  22  40  62  84 104 126"
      ]
     },
     "metadata": {},
     "output_type": "display_data"
    }
   ],
   "source": [
    "grep(\"yesterday\", lyrics)"
   ]
  },
  {
   "cell_type": "markdown",
   "id": "covered-showcase",
   "metadata": {},
   "source": [
    "`-` \"Yesterday\"는 1 ,63 ,105번째 요소에 있고 \"yesterday\"는 22, 40 ,62, 84, 104, 126번째 요소에 있음을 알려줌"
   ]
  },
  {
   "cell_type": "markdown",
   "id": "prompt-thumbnail",
   "metadata": {},
   "source": [
    "`-` 이번에는 \"?\"를 찾아보자\n",
    "\n",
    "`-` grep(\"?\", lyrics)를 하면 될 것 같지만 아님"
   ]
  },
  {
   "cell_type": "code",
   "execution_count": 127,
   "id": "hairy-baltimore",
   "metadata": {},
   "outputs": [
    {
     "data": {
      "text/html": [
       "<style>\n",
       ".list-inline {list-style: none; margin:0; padding: 0}\n",
       ".list-inline>li {display: inline-block}\n",
       ".list-inline>li:not(:last-child)::after {content: \"\\00b7\"; padding: 0 .5ex}\n",
       "</style>\n",
       "<ol class=list-inline><li>1</li><li>2</li><li>3</li><li>4</li><li>5</li><li>6</li><li>7</li><li>8</li><li>9</li><li>10</li><li>11</li><li>12</li><li>13</li><li>14</li><li>15</li><li>16</li><li>17</li><li>18</li><li>19</li><li>20</li><li>21</li><li>22</li><li>23</li><li>24</li><li>25</li><li>26</li><li>27</li><li>28</li><li>29</li><li>30</li><li>31</li><li>32</li><li>33</li><li>34</li><li>35</li><li>36</li><li>37</li><li>38</li><li>39</li><li>40</li><li>41</li><li>42</li><li>43</li><li>44</li><li>45</li><li>46</li><li>47</li><li>48</li><li>49</li><li>50</li><li>51</li><li>52</li><li>53</li><li>54</li><li>55</li><li>56</li><li>57</li><li>58</li><li>59</li><li>60</li><li>61</li><li>62</li><li>63</li><li>64</li><li>65</li><li>66</li><li>67</li><li>68</li><li>69</li><li>70</li><li>71</li><li>72</li><li>73</li><li>74</li><li>75</li><li>76</li><li>77</li><li>78</li><li>79</li><li>80</li><li>81</li><li>82</li><li>83</li><li>84</li><li>85</li><li>86</li><li>87</li><li>88</li><li>89</li><li>90</li><li>91</li><li>92</li><li>93</li><li>94</li><li>95</li><li>96</li><li>97</li><li>98</li><li>99</li><li>100</li><li>101</li><li>102</li><li>103</li><li>104</li><li>105</li><li>106</li><li>107</li><li>108</li><li>109</li><li>110</li><li>111</li><li>112</li><li>113</li><li>114</li><li>115</li><li>116</li><li>117</li><li>118</li><li>119</li><li>120</li><li>121</li><li>122</li><li>123</li><li>124</li><li>125</li><li>126</li></ol>\n"
      ],
      "text/latex": [
       "\\begin{enumerate*}\n",
       "\\item 1\n",
       "\\item 2\n",
       "\\item 3\n",
       "\\item 4\n",
       "\\item 5\n",
       "\\item 6\n",
       "\\item 7\n",
       "\\item 8\n",
       "\\item 9\n",
       "\\item 10\n",
       "\\item 11\n",
       "\\item 12\n",
       "\\item 13\n",
       "\\item 14\n",
       "\\item 15\n",
       "\\item 16\n",
       "\\item 17\n",
       "\\item 18\n",
       "\\item 19\n",
       "\\item 20\n",
       "\\item 21\n",
       "\\item 22\n",
       "\\item 23\n",
       "\\item 24\n",
       "\\item 25\n",
       "\\item 26\n",
       "\\item 27\n",
       "\\item 28\n",
       "\\item 29\n",
       "\\item 30\n",
       "\\item 31\n",
       "\\item 32\n",
       "\\item 33\n",
       "\\item 34\n",
       "\\item 35\n",
       "\\item 36\n",
       "\\item 37\n",
       "\\item 38\n",
       "\\item 39\n",
       "\\item 40\n",
       "\\item 41\n",
       "\\item 42\n",
       "\\item 43\n",
       "\\item 44\n",
       "\\item 45\n",
       "\\item 46\n",
       "\\item 47\n",
       "\\item 48\n",
       "\\item 49\n",
       "\\item 50\n",
       "\\item 51\n",
       "\\item 52\n",
       "\\item 53\n",
       "\\item 54\n",
       "\\item 55\n",
       "\\item 56\n",
       "\\item 57\n",
       "\\item 58\n",
       "\\item 59\n",
       "\\item 60\n",
       "\\item 61\n",
       "\\item 62\n",
       "\\item 63\n",
       "\\item 64\n",
       "\\item 65\n",
       "\\item 66\n",
       "\\item 67\n",
       "\\item 68\n",
       "\\item 69\n",
       "\\item 70\n",
       "\\item 71\n",
       "\\item 72\n",
       "\\item 73\n",
       "\\item 74\n",
       "\\item 75\n",
       "\\item 76\n",
       "\\item 77\n",
       "\\item 78\n",
       "\\item 79\n",
       "\\item 80\n",
       "\\item 81\n",
       "\\item 82\n",
       "\\item 83\n",
       "\\item 84\n",
       "\\item 85\n",
       "\\item 86\n",
       "\\item 87\n",
       "\\item 88\n",
       "\\item 89\n",
       "\\item 90\n",
       "\\item 91\n",
       "\\item 92\n",
       "\\item 93\n",
       "\\item 94\n",
       "\\item 95\n",
       "\\item 96\n",
       "\\item 97\n",
       "\\item 98\n",
       "\\item 99\n",
       "\\item 100\n",
       "\\item 101\n",
       "\\item 102\n",
       "\\item 103\n",
       "\\item 104\n",
       "\\item 105\n",
       "\\item 106\n",
       "\\item 107\n",
       "\\item 108\n",
       "\\item 109\n",
       "\\item 110\n",
       "\\item 111\n",
       "\\item 112\n",
       "\\item 113\n",
       "\\item 114\n",
       "\\item 115\n",
       "\\item 116\n",
       "\\item 117\n",
       "\\item 118\n",
       "\\item 119\n",
       "\\item 120\n",
       "\\item 121\n",
       "\\item 122\n",
       "\\item 123\n",
       "\\item 124\n",
       "\\item 125\n",
       "\\item 126\n",
       "\\end{enumerate*}\n"
      ],
      "text/markdown": [
       "1. 1\n",
       "2. 2\n",
       "3. 3\n",
       "4. 4\n",
       "5. 5\n",
       "6. 6\n",
       "7. 7\n",
       "8. 8\n",
       "9. 9\n",
       "10. 10\n",
       "11. 11\n",
       "12. 12\n",
       "13. 13\n",
       "14. 14\n",
       "15. 15\n",
       "16. 16\n",
       "17. 17\n",
       "18. 18\n",
       "19. 19\n",
       "20. 20\n",
       "21. 21\n",
       "22. 22\n",
       "23. 23\n",
       "24. 24\n",
       "25. 25\n",
       "26. 26\n",
       "27. 27\n",
       "28. 28\n",
       "29. 29\n",
       "30. 30\n",
       "31. 31\n",
       "32. 32\n",
       "33. 33\n",
       "34. 34\n",
       "35. 35\n",
       "36. 36\n",
       "37. 37\n",
       "38. 38\n",
       "39. 39\n",
       "40. 40\n",
       "41. 41\n",
       "42. 42\n",
       "43. 43\n",
       "44. 44\n",
       "45. 45\n",
       "46. 46\n",
       "47. 47\n",
       "48. 48\n",
       "49. 49\n",
       "50. 50\n",
       "51. 51\n",
       "52. 52\n",
       "53. 53\n",
       "54. 54\n",
       "55. 55\n",
       "56. 56\n",
       "57. 57\n",
       "58. 58\n",
       "59. 59\n",
       "60. 60\n",
       "61. 61\n",
       "62. 62\n",
       "63. 63\n",
       "64. 64\n",
       "65. 65\n",
       "66. 66\n",
       "67. 67\n",
       "68. 68\n",
       "69. 69\n",
       "70. 70\n",
       "71. 71\n",
       "72. 72\n",
       "73. 73\n",
       "74. 74\n",
       "75. 75\n",
       "76. 76\n",
       "77. 77\n",
       "78. 78\n",
       "79. 79\n",
       "80. 80\n",
       "81. 81\n",
       "82. 82\n",
       "83. 83\n",
       "84. 84\n",
       "85. 85\n",
       "86. 86\n",
       "87. 87\n",
       "88. 88\n",
       "89. 89\n",
       "90. 90\n",
       "91. 91\n",
       "92. 92\n",
       "93. 93\n",
       "94. 94\n",
       "95. 95\n",
       "96. 96\n",
       "97. 97\n",
       "98. 98\n",
       "99. 99\n",
       "100. 100\n",
       "101. 101\n",
       "102. 102\n",
       "103. 103\n",
       "104. 104\n",
       "105. 105\n",
       "106. 106\n",
       "107. 107\n",
       "108. 108\n",
       "109. 109\n",
       "110. 110\n",
       "111. 111\n",
       "112. 112\n",
       "113. 113\n",
       "114. 114\n",
       "115. 115\n",
       "116. 116\n",
       "117. 117\n",
       "118. 118\n",
       "119. 119\n",
       "120. 120\n",
       "121. 121\n",
       "122. 122\n",
       "123. 123\n",
       "124. 124\n",
       "125. 125\n",
       "126. 126\n",
       "\n",
       "\n"
      ],
      "text/plain": [
       "  [1]   1   2   3   4   5   6   7   8   9  10  11  12  13  14  15  16  17  18\n",
       " [19]  19  20  21  22  23  24  25  26  27  28  29  30  31  32  33  34  35  36\n",
       " [37]  37  38  39  40  41  42  43  44  45  46  47  48  49  50  51  52  53  54\n",
       " [55]  55  56  57  58  59  60  61  62  63  64  65  66  67  68  69  70  71  72\n",
       " [73]  73  74  75  76  77  78  79  80  81  82  83  84  85  86  87  88  89  90\n",
       " [91]  91  92  93  94  95  96  97  98  99 100 101 102 103 104 105 106 107 108\n",
       "[109] 109 110 111 112 113 114 115 116 117 118 119 120 121 122 123 124 125 126"
      ]
     },
     "metadata": {},
     "output_type": "display_data"
    }
   ],
   "source": [
    "#collapse-output\n",
    "\n",
    "grep(\"?\", lyrics)  "
   ]
  },
  {
   "cell_type": "markdown",
   "id": "listed-reynolds",
   "metadata": {},
   "source": [
    "`-` \"?\"는 정규표현식 기호로 사용되게 원래의 물음표 기호를 사용하고자 하면 \"\\\\\\\\\"을 앞에 넣어줘야함 ---> 나중에 정규표현식 공부하자"
   ]
  },
  {
   "cell_type": "code",
   "execution_count": 130,
   "id": "indoor-laugh",
   "metadata": {},
   "outputs": [
    {
     "data": {
      "text/html": [
       "<style>\n",
       ".list-inline {list-style: none; margin:0; padding: 0}\n",
       ".list-inline>li {display: inline-block}\n",
       ".list-inline>li:not(:last-child)::after {content: \"\\00b7\"; padding: 0 .5ex}\n",
       "</style>\n",
       "<ol class=list-inline><li>47</li><li>89</li></ol>\n"
      ],
      "text/latex": [
       "\\begin{enumerate*}\n",
       "\\item 47\n",
       "\\item 89\n",
       "\\end{enumerate*}\n"
      ],
      "text/markdown": [
       "1. 47\n",
       "2. 89\n",
       "\n",
       "\n"
      ],
      "text/plain": [
       "[1] 47 89"
      ]
     },
     "metadata": {},
     "output_type": "display_data"
    }
   ],
   "source": [
    "grep(\"\\\\?\", lyrics)"
   ]
  },
  {
   "cell_type": "markdown",
   "id": "modified-segment",
   "metadata": {},
   "source": [
    "## nchar 함수 "
   ]
  },
  {
   "cell_type": "markdown",
   "id": "respected-bulletin",
   "metadata": {},
   "source": [
    "`-` `nchar(x)`는 문자열 x의 길이를 알려줌(빈칸 포함)"
   ]
  },
  {
   "cell_type": "code",
   "execution_count": 131,
   "id": "international-relief",
   "metadata": {},
   "outputs": [
    {
     "data": {
      "text/html": [
       "9"
      ],
      "text/latex": [
       "9"
      ],
      "text/markdown": [
       "9"
      ],
      "text/plain": [
       "[1] 9"
      ]
     },
     "metadata": {},
     "output_type": "display_data"
    }
   ],
   "source": [
    "nchar(\"yesterday\")"
   ]
  },
  {
   "cell_type": "markdown",
   "id": "f8b48784-dfa3-40f2-87d6-f14cbdc1fa4b",
   "metadata": {},
   "source": [
    "`-` 참고 : `length(x)`의 결과는 아래와 같음"
   ]
  },
  {
   "cell_type": "code",
   "execution_count": 142,
   "id": "669ea51e-2836-4cd6-8715-82f48920985c",
   "metadata": {},
   "outputs": [
    {
     "data": {
      "text/html": [
       "1"
      ],
      "text/latex": [
       "1"
      ],
      "text/markdown": [
       "1"
      ],
      "text/plain": [
       "[1] 1"
      ]
     },
     "metadata": {},
     "output_type": "display_data"
    }
   ],
   "source": [
    "length(\"yesterday\")"
   ]
  },
  {
   "cell_type": "markdown",
   "id": "advance-behavior",
   "metadata": {},
   "source": [
    "`-` 문자열 벡터에도 적용 가능함"
   ]
  },
  {
   "cell_type": "code",
   "execution_count": 132,
   "id": "clinical-slope",
   "metadata": {},
   "outputs": [
    {
     "data": {
      "text/html": [
       "<style>\n",
       ".list-inline {list-style: none; margin:0; padding: 0}\n",
       ".list-inline>li {display: inline-block}\n",
       ".list-inline>li:not(:last-child)::after {content: \"\\00b7\"; padding: 0 .5ex}\n",
       "</style>\n",
       "<ol class=list-inline><li>10</li><li>3</li><li>2</li><li>8</li><li>6</li><li>2</li><li>3</li><li>5</li><li>3</li><li>2</li><li>5</li><li>2</li><li>6</li><li>7</li><li>4</li><li>2</li><li>5</li><li>3</li><li>1</li><li>7</li><li>2</li><li>10</li><li>9</li><li>3</li><li>3</li><li>4</li><li>3</li><li>3</li><li>1</li><li>4</li><li>2</li><li>3</li><li>7</li><li>1</li><li>6</li><li>7</li><li>4</li><li>3</li><li>3</li><li>9</li><li>4</li><li>9</li><li>3</li><li>3</li><li>3</li><li>2</li><li>3</li><li>1</li><li>5</li><li>5</li><li>3</li><li>8</li><li>4</li><li>1</li><li>4</li><li>9</li><li>6</li><li>3</li><li>1</li><li>4</li><li>3</li><li>10</li><li>9</li><li>4</li><li>3</li><li>4</li><li>2</li><li>4</li><li>4</li><li>2</li><li>5</li><li>3</li><li>1</li><li>4</li><li>1</li><li>5</li><li>2</li><li>4</li><li>5</li><li>3</li><li>1</li><li>7</li><li>2</li><li>10</li><li>3</li><li>3</li><li>3</li><li>2</li><li>3</li><li>1</li><li>5</li><li>5</li><li>3</li><li>8</li><li>4</li><li>1</li><li>4</li><li>9</li><li>6</li><li>3</li><li>1</li><li>4</li><li>3</li><li>10</li><li>9</li><li>4</li><li>3</li><li>4</li><li>2</li><li>4</li><li>4</li><li>2</li><li>5</li><li>3</li><li>1</li><li>4</li><li>1</li><li>5</li><li>2</li><li>4</li><li>5</li><li>3</li><li>1</li><li>7</li><li>2</li><li>12</li></ol>\n"
      ],
      "text/latex": [
       "\\begin{enumerate*}\n",
       "\\item 10\n",
       "\\item 3\n",
       "\\item 2\n",
       "\\item 8\n",
       "\\item 6\n",
       "\\item 2\n",
       "\\item 3\n",
       "\\item 5\n",
       "\\item 3\n",
       "\\item 2\n",
       "\\item 5\n",
       "\\item 2\n",
       "\\item 6\n",
       "\\item 7\n",
       "\\item 4\n",
       "\\item 2\n",
       "\\item 5\n",
       "\\item 3\n",
       "\\item 1\n",
       "\\item 7\n",
       "\\item 2\n",
       "\\item 10\n",
       "\\item 9\n",
       "\\item 3\n",
       "\\item 3\n",
       "\\item 4\n",
       "\\item 3\n",
       "\\item 3\n",
       "\\item 1\n",
       "\\item 4\n",
       "\\item 2\n",
       "\\item 3\n",
       "\\item 7\n",
       "\\item 1\n",
       "\\item 6\n",
       "\\item 7\n",
       "\\item 4\n",
       "\\item 3\n",
       "\\item 3\n",
       "\\item 9\n",
       "\\item 4\n",
       "\\item 9\n",
       "\\item 3\n",
       "\\item 3\n",
       "\\item 3\n",
       "\\item 2\n",
       "\\item 3\n",
       "\\item 1\n",
       "\\item 5\n",
       "\\item 5\n",
       "\\item 3\n",
       "\\item 8\n",
       "\\item 4\n",
       "\\item 1\n",
       "\\item 4\n",
       "\\item 9\n",
       "\\item 6\n",
       "\\item 3\n",
       "\\item 1\n",
       "\\item 4\n",
       "\\item 3\n",
       "\\item 10\n",
       "\\item 9\n",
       "\\item 4\n",
       "\\item 3\n",
       "\\item 4\n",
       "\\item 2\n",
       "\\item 4\n",
       "\\item 4\n",
       "\\item 2\n",
       "\\item 5\n",
       "\\item 3\n",
       "\\item 1\n",
       "\\item 4\n",
       "\\item 1\n",
       "\\item 5\n",
       "\\item 2\n",
       "\\item 4\n",
       "\\item 5\n",
       "\\item 3\n",
       "\\item 1\n",
       "\\item 7\n",
       "\\item 2\n",
       "\\item 10\n",
       "\\item 3\n",
       "\\item 3\n",
       "\\item 3\n",
       "\\item 2\n",
       "\\item 3\n",
       "\\item 1\n",
       "\\item 5\n",
       "\\item 5\n",
       "\\item 3\n",
       "\\item 8\n",
       "\\item 4\n",
       "\\item 1\n",
       "\\item 4\n",
       "\\item 9\n",
       "\\item 6\n",
       "\\item 3\n",
       "\\item 1\n",
       "\\item 4\n",
       "\\item 3\n",
       "\\item 10\n",
       "\\item 9\n",
       "\\item 4\n",
       "\\item 3\n",
       "\\item 4\n",
       "\\item 2\n",
       "\\item 4\n",
       "\\item 4\n",
       "\\item 2\n",
       "\\item 5\n",
       "\\item 3\n",
       "\\item 1\n",
       "\\item 4\n",
       "\\item 1\n",
       "\\item 5\n",
       "\\item 2\n",
       "\\item 4\n",
       "\\item 5\n",
       "\\item 3\n",
       "\\item 1\n",
       "\\item 7\n",
       "\\item 2\n",
       "\\item 12\n",
       "\\end{enumerate*}\n"
      ],
      "text/markdown": [
       "1. 10\n",
       "2. 3\n",
       "3. 2\n",
       "4. 8\n",
       "5. 6\n",
       "6. 2\n",
       "7. 3\n",
       "8. 5\n",
       "9. 3\n",
       "10. 2\n",
       "11. 5\n",
       "12. 2\n",
       "13. 6\n",
       "14. 7\n",
       "15. 4\n",
       "16. 2\n",
       "17. 5\n",
       "18. 3\n",
       "19. 1\n",
       "20. 7\n",
       "21. 2\n",
       "22. 10\n",
       "23. 9\n",
       "24. 3\n",
       "25. 3\n",
       "26. 4\n",
       "27. 3\n",
       "28. 3\n",
       "29. 1\n",
       "30. 4\n",
       "31. 2\n",
       "32. 3\n",
       "33. 7\n",
       "34. 1\n",
       "35. 6\n",
       "36. 7\n",
       "37. 4\n",
       "38. 3\n",
       "39. 3\n",
       "40. 9\n",
       "41. 4\n",
       "42. 9\n",
       "43. 3\n",
       "44. 3\n",
       "45. 3\n",
       "46. 2\n",
       "47. 3\n",
       "48. 1\n",
       "49. 5\n",
       "50. 5\n",
       "51. 3\n",
       "52. 8\n",
       "53. 4\n",
       "54. 1\n",
       "55. 4\n",
       "56. 9\n",
       "57. 6\n",
       "58. 3\n",
       "59. 1\n",
       "60. 4\n",
       "61. 3\n",
       "62. 10\n",
       "63. 9\n",
       "64. 4\n",
       "65. 3\n",
       "66. 4\n",
       "67. 2\n",
       "68. 4\n",
       "69. 4\n",
       "70. 2\n",
       "71. 5\n",
       "72. 3\n",
       "73. 1\n",
       "74. 4\n",
       "75. 1\n",
       "76. 5\n",
       "77. 2\n",
       "78. 4\n",
       "79. 5\n",
       "80. 3\n",
       "81. 1\n",
       "82. 7\n",
       "83. 2\n",
       "84. 10\n",
       "85. 3\n",
       "86. 3\n",
       "87. 3\n",
       "88. 2\n",
       "89. 3\n",
       "90. 1\n",
       "91. 5\n",
       "92. 5\n",
       "93. 3\n",
       "94. 8\n",
       "95. 4\n",
       "96. 1\n",
       "97. 4\n",
       "98. 9\n",
       "99. 6\n",
       "100. 3\n",
       "101. 1\n",
       "102. 4\n",
       "103. 3\n",
       "104. 10\n",
       "105. 9\n",
       "106. 4\n",
       "107. 3\n",
       "108. 4\n",
       "109. 2\n",
       "110. 4\n",
       "111. 4\n",
       "112. 2\n",
       "113. 5\n",
       "114. 3\n",
       "115. 1\n",
       "116. 4\n",
       "117. 1\n",
       "118. 5\n",
       "119. 2\n",
       "120. 4\n",
       "121. 5\n",
       "122. 3\n",
       "123. 1\n",
       "124. 7\n",
       "125. 2\n",
       "126. 12\n",
       "\n",
       "\n"
      ],
      "text/plain": [
       "  [1] 10  3  2  8  6  2  3  5  3  2  5  2  6  7  4  2  5  3  1  7  2 10  9  3  3\n",
       " [26]  4  3  3  1  4  2  3  7  1  6  7  4  3  3  9  4  9  3  3  3  2  3  1  5  5\n",
       " [51]  3  8  4  1  4  9  6  3  1  4  3 10  9  4  3  4  2  4  4  2  5  3  1  4  1\n",
       " [76]  5  2  4  5  3  1  7  2 10  3  3  3  2  3  1  5  5  3  8  4  1  4  9  6  3\n",
       "[101]  1  4  3 10  9  4  3  4  2  4  4  2  5  3  1  4  1  5  2  4  5  3  1  7  2\n",
       "[126] 12"
      ]
     },
     "metadata": {},
     "output_type": "display_data"
    }
   ],
   "source": [
    "nchar(lyrics)"
   ]
  },
  {
   "cell_type": "markdown",
   "id": "5fdf6e96-7dbb-445a-bda9-c12bd5bbe189",
   "metadata": {},
   "source": [
    "## paste 함수"
   ]
  },
  {
   "cell_type": "markdown",
   "id": "ab6fdd15-ad3f-4b01-bc5b-a206415a2138",
   "metadata": {},
   "source": [
    "`-` 다수의 문자열을 붙여 하나의 문자열을 만듦\n",
    "\n",
    "`-` 파이썬의 `join` 함수를 생각하면 된다"
   ]
  },
  {
   "cell_type": "code",
   "execution_count": 133,
   "id": "5415da17-f31f-4ddd-b0d6-ba8f6d945b9c",
   "metadata": {},
   "outputs": [
    {
     "data": {
      "text/html": [
       "'a b c'"
      ],
      "text/latex": [
       "'a b c'"
      ],
      "text/markdown": [
       "'a b c'"
      ],
      "text/plain": [
       "[1] \"a b c\""
      ]
     },
     "metadata": {},
     "output_type": "display_data"
    }
   ],
   "source": [
    "paste(\"a\", \"b\", \"c\")"
   ]
  },
  {
   "cell_type": "code",
   "execution_count": 135,
   "id": "418605bb-a6e0-4366-9a54-2dd044e36d24",
   "metadata": {},
   "outputs": [
    {
     "data": {
      "text/html": [
       "'a-b-c'"
      ],
      "text/latex": [
       "'a-b-c'"
      ],
      "text/markdown": [
       "'a-b-c'"
      ],
      "text/plain": [
       "[1] \"a-b-c\""
      ]
     },
     "metadata": {},
     "output_type": "display_data"
    }
   ],
   "source": [
    "paste(\"a\", \"b\", \"c\", sep = \"-\")"
   ]
  },
  {
   "cell_type": "markdown",
   "id": "5f23710d-631e-435e-afb7-6383aa334be1",
   "metadata": {},
   "source": [
    "`-` `paste` 함수는 디폴트로 빈칸 하나를 기준으로 문자열을 붙인다\n",
    "\n",
    "`-` `paste0` 함수를 사용하면 빈칸 없음을 기준으로 문자열을 붙일 수 있다"
   ]
  },
  {
   "cell_type": "code",
   "execution_count": 137,
   "id": "1df6b36d-68d5-4301-8ae4-56d26564b71a",
   "metadata": {},
   "outputs": [
    {
     "data": {
      "text/html": [
       "'abc'"
      ],
      "text/latex": [
       "'abc'"
      ],
      "text/markdown": [
       "'abc'"
      ],
      "text/plain": [
       "[1] \"abc\""
      ]
     },
     "metadata": {},
     "output_type": "display_data"
    }
   ],
   "source": [
    "paste0(\"a\", \"b\", \"c\")"
   ]
  },
  {
   "cell_type": "markdown",
   "id": "1777ad18-96aa-4099-93a1-5aef916d4f43",
   "metadata": {},
   "source": [
    "## substr 함수\n",
    "\n",
    "`-` `substr(x, start, stop)`은 x에서 start부터 stop까지의 문자열을 뽑아낸다"
   ]
  },
  {
   "cell_type": "code",
   "execution_count": 138,
   "id": "4516f3fc-444c-416e-9fac-728483f4f091",
   "metadata": {},
   "outputs": [
    {
     "data": {
      "text/html": [
       "'bcd'"
      ],
      "text/latex": [
       "'bcd'"
      ],
      "text/markdown": [
       "'bcd'"
      ],
      "text/plain": [
       "[1] \"bcd\""
      ]
     },
     "metadata": {},
     "output_type": "display_data"
    }
   ],
   "source": [
    "substr(\"abcdefg\", 2, 4)"
   ]
  },
  {
   "cell_type": "markdown",
   "id": "d123a573-bd65-48fd-a40b-3d05c612ba01",
   "metadata": {},
   "source": [
    "## strsplit 함수\n",
    "\n",
    "`-` `strsplit(x, split)`은 x를 split을 기준으로 분리한다\n",
    "\n",
    "`-` 파이썬의 `split` 함수를 생각하면 쉽다"
   ]
  },
  {
   "cell_type": "code",
   "execution_count": 149,
   "id": "ad8b8018-57a1-4ab0-a1e6-3f2ef501735d",
   "metadata": {},
   "outputs": [
    {
     "data": {
      "text/html": [
       "<ol>\n",
       "\t<li><style>\n",
       ".list-inline {list-style: none; margin:0; padding: 0}\n",
       ".list-inline>li {display: inline-block}\n",
       ".list-inline>li:not(:last-child)::after {content: \"\\00b7\"; padding: 0 .5ex}\n",
       "</style>\n",
       "<ol class=list-inline><li>'a'</li><li>'b'</li><li>'c'</li><li>'d'</li><li>'e'</li></ol>\n",
       "</li>\n",
       "</ol>\n"
      ],
      "text/latex": [
       "\\begin{enumerate}\n",
       "\\item \\begin{enumerate*}\n",
       "\\item 'a'\n",
       "\\item 'b'\n",
       "\\item 'c'\n",
       "\\item 'd'\n",
       "\\item 'e'\n",
       "\\end{enumerate*}\n",
       "\n",
       "\\end{enumerate}\n"
      ],
      "text/markdown": [
       "1. 1. 'a'\n",
       "2. 'b'\n",
       "3. 'c'\n",
       "4. 'd'\n",
       "5. 'e'\n",
       "\n",
       "\n",
       "\n",
       "\n",
       "\n"
      ],
      "text/plain": [
       "[[1]]\n",
       "[1] \"a\" \"b\" \"c\" \"d\" \"e\"\n"
      ]
     },
     "metadata": {},
     "output_type": "display_data"
    }
   ],
   "source": [
    "strsplit(\"a-b-c-d-e\", \"-\")"
   ]
  },
  {
   "cell_type": "code",
   "execution_count": 150,
   "id": "e95a7861-3252-42a6-b5a8-5dde64bba318",
   "metadata": {},
   "outputs": [
    {
     "data": {
      "text/html": [
       "'list'"
      ],
      "text/latex": [
       "'list'"
      ],
      "text/markdown": [
       "'list'"
      ],
      "text/plain": [
       "[1] \"list\""
      ]
     },
     "metadata": {},
     "output_type": "display_data"
    }
   ],
   "source": [
    "class(strsplit(\"a-b-c-d-e\", \"-\")) ## 쪼갠 문자열들의 타입은 list이다"
   ]
  },
  {
   "cell_type": "code",
   "execution_count": 151,
   "id": "4c2ad124-f5b1-46d9-8ec5-2f7ecb685f75",
   "metadata": {},
   "outputs": [
    {
     "data": {
      "text/html": [
       "<style>\n",
       ".list-inline {list-style: none; margin:0; padding: 0}\n",
       ".list-inline>li {display: inline-block}\n",
       ".list-inline>li:not(:last-child)::after {content: \"\\00b7\"; padding: 0 .5ex}\n",
       "</style>\n",
       "<ol class=list-inline><li>'a'</li><li>'b'</li><li>'c'</li><li>'d'</li><li>'e'</li></ol>\n"
      ],
      "text/latex": [
       "\\begin{enumerate*}\n",
       "\\item 'a'\n",
       "\\item 'b'\n",
       "\\item 'c'\n",
       "\\item 'd'\n",
       "\\item 'e'\n",
       "\\end{enumerate*}\n"
      ],
      "text/markdown": [
       "1. 'a'\n",
       "2. 'b'\n",
       "3. 'c'\n",
       "4. 'd'\n",
       "5. 'e'\n",
       "\n",
       "\n"
      ],
      "text/plain": [
       "[1] \"a\" \"b\" \"c\" \"d\" \"e\""
      ]
     },
     "metadata": {},
     "output_type": "display_data"
    }
   ],
   "source": [
    "unlist(strsplit(\"a-b-c-d-e\", \"-\"))"
   ]
  },
  {
   "cell_type": "code",
   "execution_count": 154,
   "id": "5ac7b946-3a32-472e-bfbd-9f00cc213d4d",
   "metadata": {},
   "outputs": [
    {
     "data": {
      "text/html": [
       "<ol>\n",
       "\t<li><style>\n",
       ".list-inline {list-style: none; margin:0; padding: 0}\n",
       ".list-inline>li {display: inline-block}\n",
       ".list-inline>li:not(:last-child)::after {content: \"\\00b7\"; padding: 0 .5ex}\n",
       "</style>\n",
       "<ol class=list-inline><li>'a'</li><li>'b'</li><li>'c'</li><li>'d'</li><li>'e'</li></ol>\n",
       "</li>\n",
       "\t<li><style>\n",
       ".list-inline {list-style: none; margin:0; padding: 0}\n",
       ".list-inline>li {display: inline-block}\n",
       ".list-inline>li:not(:last-child)::after {content: \"\\00b7\"; padding: 0 .5ex}\n",
       "</style>\n",
       "<ol class=list-inline><li>'qq'</li><li>'bb'</li></ol>\n",
       "</li>\n",
       "</ol>\n"
      ],
      "text/latex": [
       "\\begin{enumerate}\n",
       "\\item \\begin{enumerate*}\n",
       "\\item 'a'\n",
       "\\item 'b'\n",
       "\\item 'c'\n",
       "\\item 'd'\n",
       "\\item 'e'\n",
       "\\end{enumerate*}\n",
       "\n",
       "\\item \\begin{enumerate*}\n",
       "\\item 'qq'\n",
       "\\item 'bb'\n",
       "\\end{enumerate*}\n",
       "\n",
       "\\end{enumerate}\n"
      ],
      "text/markdown": [
       "1. 1. 'a'\n",
       "2. 'b'\n",
       "3. 'c'\n",
       "4. 'd'\n",
       "5. 'e'\n",
       "\n",
       "\n",
       "\n",
       "2. 1. 'qq'\n",
       "2. 'bb'\n",
       "\n",
       "\n",
       "\n",
       "\n",
       "\n"
      ],
      "text/plain": [
       "[[1]]\n",
       "[1] \"a\" \"b\" \"c\" \"d\" \"e\"\n",
       "\n",
       "[[2]]\n",
       "[1] \"qq\" \"bb\"\n"
      ]
     },
     "metadata": {},
     "output_type": "display_data"
    }
   ],
   "source": [
    "strsplit(c(\"a-b-c-d-e\", \"qq-bb\"), \"-\") ## 문자열 벡터도 가능"
   ]
  },
  {
   "cell_type": "markdown",
   "id": "7768008a-8ffe-4f07-8303-68d4c7fd4b7d",
   "metadata": {},
   "source": [
    "## gregexpr 함수(global regular expression)\n",
    "\n",
    "`-` `gregexpr(pattern, x)`은 x에서 pattern이 발견되는 `모든` 위치를 알려준다\n",
    "\n",
    "`-` 파이썬의 `index` 함수를 생각하면 쉽다"
   ]
  },
  {
   "cell_type": "code",
   "execution_count": 167,
   "id": "9557e73a-1098-4778-a744-8a2dd7e12c54",
   "metadata": {},
   "outputs": [
    {
     "data": {
      "text/html": [
       "<style>\n",
       ".list-inline {list-style: none; margin:0; padding: 0}\n",
       ".list-inline>li {display: inline-block}\n",
       ".list-inline>li:not(:last-child)::after {content: \"\\00b7\"; padding: 0 .5ex}\n",
       "</style>\n",
       "<ol class=list-inline><li>5</li><li>8</li></ol>\n"
      ],
      "text/latex": [
       "\\begin{enumerate*}\n",
       "\\item 5\n",
       "\\item 8\n",
       "\\end{enumerate*}\n"
      ],
      "text/markdown": [
       "1. 5\n",
       "2. 8\n",
       "\n",
       "\n"
      ],
      "text/plain": [
       "[1] 5 8"
      ]
     },
     "metadata": {},
     "output_type": "display_data"
    }
   ],
   "source": [
    "unlist(gregexpr(\"-\", \"2021-12-22\"))"
   ]
  },
  {
   "cell_type": "markdown",
   "id": "f1e6c946-86be-4d7b-a9ae-a6b97181f926",
   "metadata": {},
   "source": [
    "`-` `grep` 함수와의 차이점은 아래와 같음"
   ]
  },
  {
   "cell_type": "code",
   "execution_count": 165,
   "id": "6ecd6011-3cf6-4903-96a4-9067f9898956",
   "metadata": {},
   "outputs": [
    {
     "data": {
      "text/html": [
       "1"
      ],
      "text/latex": [
       "1"
      ],
      "text/markdown": [
       "1"
      ],
      "text/plain": [
       "[1] 1"
      ]
     },
     "metadata": {},
     "output_type": "display_data"
    }
   ],
   "source": [
    "unlist(grep(\"-\", \"2021-12-22\"))"
   ]
  },
  {
   "cell_type": "markdown",
   "id": "5c1b6b9f-de0b-4dac-80ba-8bc43b533c2a",
   "metadata": {},
   "source": [
    "`-` grep 함수에서는 \"2021-12-22\"를 하나 취급한다\n",
    "\n",
    "`-` 마치 `length(\"2021-12-22\")`는 $1$인것처럼\n",
    "\n",
    "`-` 포함여부만 확인 가능하고 문자열의 어느 위치에 존재하는지는 확인 불가능함"
   ]
  },
  {
   "cell_type": "code",
   "execution_count": 171,
   "id": "0cb906fe-0057-403b-add7-f228a47f0765",
   "metadata": {},
   "outputs": [
    {
     "data": {
      "text/html": [
       "<style>\n",
       ".list-inline {list-style: none; margin:0; padding: 0}\n",
       ".list-inline>li {display: inline-block}\n",
       ".list-inline>li:not(:last-child)::after {content: \"\\00b7\"; padding: 0 .5ex}\n",
       "</style>\n",
       "<ol class=list-inline><li>5</li><li>8</li><li>3</li></ol>\n"
      ],
      "text/latex": [
       "\\begin{enumerate*}\n",
       "\\item 5\n",
       "\\item 8\n",
       "\\item 3\n",
       "\\end{enumerate*}\n"
      ],
      "text/markdown": [
       "1. 5\n",
       "2. 8\n",
       "3. 3\n",
       "\n",
       "\n"
      ],
      "text/plain": [
       "[1] 5 8 3"
      ]
     },
     "metadata": {},
     "output_type": "display_data"
    }
   ],
   "source": [
    "unlist(gregexpr(\"-\", c(\"2021-12-22\", \"12-22\"))) \n",
    "## 첫 번째 문자열에선 5, 8위치에 \"-\"이 존재하고\n",
    "## 두 번째 문자열에선 3 위치에 \"-\" 존재한다"
   ]
  },
  {
   "cell_type": "code",
   "execution_count": 172,
   "id": "d10de67e-9062-4b6c-9cf3-f52eb41d0167",
   "metadata": {},
   "outputs": [
    {
     "data": {
      "text/html": [
       "<style>\n",
       ".list-inline {list-style: none; margin:0; padding: 0}\n",
       ".list-inline>li {display: inline-block}\n",
       ".list-inline>li:not(:last-child)::after {content: \"\\00b7\"; padding: 0 .5ex}\n",
       "</style>\n",
       "<ol class=list-inline><li>1</li><li>2</li></ol>\n"
      ],
      "text/latex": [
       "\\begin{enumerate*}\n",
       "\\item 1\n",
       "\\item 2\n",
       "\\end{enumerate*}\n"
      ],
      "text/markdown": [
       "1. 1\n",
       "2. 2\n",
       "\n",
       "\n"
      ],
      "text/plain": [
       "[1] 1 2"
      ]
     },
     "metadata": {},
     "output_type": "display_data"
    }
   ],
   "source": [
    "unlist(grep(\"-\", c(\"2021-12-22\", \"12-22\")))\n",
    "## 첫 번째 문자열에 \"-\"이 존재하고\n",
    "## 두 번째 문자열에 \"-\"이 존재한다\n",
    "## 문자열 어느 위치에 \"-\"이 존재하는지는 알 수 없다"
   ]
  },
  {
   "cell_type": "markdown",
   "id": "fb03e56b-9b6b-4c04-ac2c-6f737c6435d7",
   "metadata": {},
   "source": [
    "`-` `regexpr` 함수(regular expression)도 있는데 이 함수는 `처음` 위치만 알려준다"
   ]
  },
  {
   "cell_type": "code",
   "execution_count": 174,
   "id": "39e36324-f37d-4892-bada-caf8ac9b3402",
   "metadata": {},
   "outputs": [
    {
     "data": {
      "text/html": [
       "5"
      ],
      "text/latex": [
       "5"
      ],
      "text/markdown": [
       "5"
      ],
      "text/plain": [
       "[1] 5\n",
       "attr(,\"match.length\")\n",
       "[1] 1\n",
       "attr(,\"index.type\")\n",
       "[1] \"chars\"\n",
       "attr(,\"useBytes\")\n",
       "[1] TRUE"
      ]
     },
     "metadata": {},
     "output_type": "display_data"
    }
   ],
   "source": [
    "unlist(regexpr(\"-\", \"2021-12-22\"))\n",
    "## 8번째 인덱스에도 \"-\"이 존재하지만 처음 \"-\"이 등장한 위치만 알려준다"
   ]
  },
  {
   "cell_type": "markdown",
   "id": "c29ccf0d-adea-4280-ab2e-0db5ce1ffd14",
   "metadata": {},
   "source": [
    "## gsub 함수 (global substitude)\n",
    "\n",
    "`-` `gsub(pattern, replace, x)`은 x에 있는 pattern을 replace로 바꾼다\n",
    "\n",
    "`-` 파이썬의 `replace` 함수를 떠올리면 쉽다"
   ]
  },
  {
   "cell_type": "code",
   "execution_count": 175,
   "id": "080b90e3-8ecc-4bac-8d15-1378932b8fda",
   "metadata": {},
   "outputs": [
    {
     "data": {
      "text/html": [
       "'2021.12.22'"
      ],
      "text/latex": [
       "'2021.12.22'"
      ],
      "text/markdown": [
       "'2021.12.22'"
      ],
      "text/plain": [
       "[1] \"2021.12.22\""
      ]
     },
     "metadata": {},
     "output_type": "display_data"
    }
   ],
   "source": [
    "gsub(\"-\", \".\", \"2021-12-22\")"
   ]
  },
  {
   "cell_type": "code",
   "execution_count": null,
   "id": "f55c4789-8cbe-4d2f-907e-d427049cf374",
   "metadata": {},
   "outputs": [],
   "source": []
  }
 ],
 "metadata": {
  "kernelspec": {
   "display_name": "R",
   "language": "R",
   "name": "ir"
  },
  "language_info": {
   "codemirror_mode": "r",
   "file_extension": ".r",
   "mimetype": "text/x-r-source",
   "name": "R",
   "pygments_lexer": "r",
   "version": "4.0.5"
  }
 },
 "nbformat": 4,
 "nbformat_minor": 5
}
