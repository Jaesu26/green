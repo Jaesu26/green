{
 "cells": [
  {
   "cell_type": "markdown",
   "id": "convinced-chart",
   "metadata": {},
   "source": [
    "# R 프로그래밍\n",
    "\n",
    "> \"작성 중\"\n",
    "\n",
    "- toc: true\n",
    "- branch: master\n",
    "- badges: true\n",
    "- comments: true\n",
    "- author: 한재수\n",
    "- categories: [R]"
   ]
  },
  {
   "cell_type": "markdown",
   "id": "loose-oxygen",
   "metadata": {},
   "source": [
    "참고: R 프로그래밍 - 허명회 지음"
   ]
  },
  {
   "cell_type": "markdown",
   "id": "cosmetic-basics",
   "metadata": {},
   "source": [
    "`-` R 프로그래밍에 대해 복습할 겸 간단히 정리"
   ]
  },
  {
   "cell_type": "markdown",
   "id": "appointed-effects",
   "metadata": {},
   "source": [
    "# 2장 - 벡터(vector)\n",
    "`-` 데이터 컨테이너의 기본형"
   ]
  },
  {
   "cell_type": "markdown",
   "id": "worth-cooking",
   "metadata": {},
   "source": [
    "## 벡터"
   ]
  },
  {
   "cell_type": "code",
   "execution_count": 1,
   "id": "initial-viking",
   "metadata": {},
   "outputs": [],
   "source": [
    "#hide\n",
    "import os\n",
    "os.environ['R_HOME']='C:/anaconda3/envs/py38r40/lib/R' "
   ]
  },
  {
   "cell_type": "code",
   "execution_count": 2,
   "id": "difficult-accordance",
   "metadata": {},
   "outputs": [
    {
     "name": "stderr",
     "output_type": "stream",
     "text": [
      "C:\\anaconda3\\envs\\py38r40\\lib\\site-packages\\rpy2\\robjects\\packages.py:366: UserWarning: The symbol 'quartz' is not in this R namespace/package.\n",
      "  warnings.warn(\n"
     ]
    }
   ],
   "source": [
    "import rpy2\n",
    "%load_ext rpy2.ipython"
   ]
  },
  {
   "cell_type": "code",
   "execution_count": 2,
   "id": "mechanical-death",
   "metadata": {},
   "outputs": [
    {
     "name": "stdout",
     "output_type": "stream",
     "text": [
      "[1] TRUE\n"
     ]
    }
   ],
   "source": [
    "%%R\n",
    "x <- 1\n",
    "is.vector(x)"
   ]
  },
  {
   "cell_type": "markdown",
   "id": "dangerous-foundation",
   "metadata": {},
   "source": [
    "`-` x는 `길이가 1인 벡터 = 스칼라`"
   ]
  },
  {
   "cell_type": "code",
   "execution_count": 6,
   "id": "structured-replication",
   "metadata": {},
   "outputs": [
    {
     "name": "stdout",
     "output_type": "stream",
     "text": [
      "[1] 3.141593\n",
      "[1] 3.141592653589793\n"
     ]
    }
   ],
   "source": [
    "%%R \n",
    "print(pi)\n",
    "print(pi, 16)"
   ]
  },
  {
   "cell_type": "markdown",
   "id": "arabic-polyester",
   "metadata": {},
   "source": [
    "`-` π는 숫자가 예약되어 있는 스칼라"
   ]
  },
  {
   "cell_type": "code",
   "execution_count": 10,
   "id": "functional-threat",
   "metadata": {},
   "outputs": [
    {
     "name": "stdout",
     "output_type": "stream",
     "text": [
      "     [,1] [,2] [,3]\n",
      "[1,]    1    2    3\n",
      "[2,]    4    5    6\n",
      "[3,]    7    8    9\n",
      "[4,]   10   11   12\n"
     ]
    }
   ],
   "source": [
    "%%R\n",
    "M <- matrix(1:12, nrow = 4, ncol = 3, byrow = T)\n",
    "M"
   ]
  },
  {
   "cell_type": "markdown",
   "id": "understanding-installation",
   "metadata": {},
   "source": [
    "`-` M은 행렬 ---> 벡터의 2차원 배열"
   ]
  },
  {
   "cell_type": "markdown",
   "id": "current-disaster",
   "metadata": {},
   "source": [
    "## 인덱싱 "
   ]
  },
  {
   "cell_type": "code",
   "execution_count": 18,
   "id": "initial-student",
   "metadata": {},
   "outputs": [
    {
     "name": "stdout",
     "output_type": "stream",
     "text": [
      "[1] 5\n"
     ]
    }
   ],
   "source": [
    "%%R\n",
    "f <- c(1, 1, 2, 3, 5, 8, 13, 21)\n",
    "f[5]"
   ]
  },
  {
   "cell_type": "code",
   "execution_count": 20,
   "id": "insured-newman",
   "metadata": {},
   "outputs": [
    {
     "name": "stdout",
     "output_type": "stream",
     "text": [
      "[1] 1 1 2 3 5\n"
     ]
    }
   ],
   "source": [
    "%%R\n",
    "f[1:5]"
   ]
  },
  {
   "cell_type": "code",
   "execution_count": 21,
   "id": "combined-samoa",
   "metadata": {},
   "outputs": [
    {
     "name": "stdout",
     "output_type": "stream",
     "text": [
      "[1]  1  2  5  8 13 21\n"
     ]
    }
   ],
   "source": [
    "%%R\n",
    "f[-c(1,4)]"
   ]
  },
  {
   "cell_type": "code",
   "execution_count": 22,
   "id": "above-fence",
   "metadata": {},
   "outputs": [
    {
     "name": "stdout",
     "output_type": "stream",
     "text": [
      "[1] 1 1 3\n"
     ]
    }
   ],
   "source": [
    "%%R\n",
    "f[c(1,2,4)]"
   ]
  },
  {
   "cell_type": "markdown",
   "id": "manual-sight",
   "metadata": {},
   "source": [
    "## seq()와 rep() 함수\n",
    "`-` seq(a, b, by = c)는 a부터 b까지 c간격으로 등차수열 생성"
   ]
  },
  {
   "cell_type": "code",
   "execution_count": 23,
   "id": "included-peter",
   "metadata": {},
   "outputs": [
    {
     "name": "stdout",
     "output_type": "stream",
     "text": [
      "[1]  0.0  2.5  5.0  7.5 10.0\n"
     ]
    }
   ],
   "source": [
    "%%R\n",
    "seq(0, 10, 2.5)"
   ]
  },
  {
   "cell_type": "markdown",
   "id": "aquatic-queens",
   "metadata": {},
   "source": [
    "`-`  seq(a, b, length = n)는 a부터 b까지 길이가 n인 일정 간격 수열을 생성"
   ]
  },
  {
   "cell_type": "code",
   "execution_count": 25,
   "id": "opening-radio",
   "metadata": {},
   "outputs": [
    {
     "name": "stdout",
     "output_type": "stream",
     "text": [
      " [1]  0  1  2  3  4  5  6  7  8  9 10\n"
     ]
    }
   ],
   "source": [
    "%%R\n",
    "seq(0, 10, length = 11)"
   ]
  },
  {
   "cell_type": "markdown",
   "id": "studied-functionality",
   "metadata": {},
   "source": [
    "`-` rep(x, times = k)는 x의 각 요소가 k의 각 요소씩 반복된 벡터"
   ]
  },
  {
   "cell_type": "code",
   "execution_count": 27,
   "id": "increased-communist",
   "metadata": {},
   "outputs": [
    {
     "name": "stdout",
     "output_type": "stream",
     "text": [
      "[1] NA NA NA NA NA\n"
     ]
    }
   ],
   "source": [
    "%%R\n",
    "rep(NA, 5)"
   ]
  },
  {
   "cell_type": "code",
   "execution_count": 29,
   "id": "valid-frost",
   "metadata": {},
   "outputs": [
    {
     "name": "stdout",
     "output_type": "stream",
     "text": [
      "[1] 1 2 1 2 1 2\n"
     ]
    }
   ],
   "source": [
    "%%R\n",
    "rep(c(1, 2), 3)"
   ]
  },
  {
   "cell_type": "code",
   "execution_count": 30,
   "id": "touched-vault",
   "metadata": {},
   "outputs": [
    {
     "name": "stdout",
     "output_type": "stream",
     "text": [
      "[1] 1 1 1 2 2 3\n"
     ]
    }
   ],
   "source": [
    "%%R\n",
    "rep(c(1, 2, 3), c(3, 2, 1))"
   ]
  },
  {
   "cell_type": "markdown",
   "id": "clinical-philip",
   "metadata": {},
   "source": [
    "`-` rep(x, each = k)는 x의 각 요소가 각각 k번 반복된 벡터"
   ]
  },
  {
   "cell_type": "code",
   "execution_count": 32,
   "id": "proof-helen",
   "metadata": {},
   "outputs": [
    {
     "name": "stdout",
     "output_type": "stream",
     "text": [
      "[1] 1 1 1 2 2 2\n"
     ]
    }
   ],
   "source": [
    "%%R\n",
    "rep(c(1, 2), each = 3)"
   ]
  },
  {
   "cell_type": "markdown",
   "id": "relative-death",
   "metadata": {},
   "source": [
    "## 필터링 \n",
    "`-` 조건에 부합하는 데이터 값만 추출"
   ]
  },
  {
   "cell_type": "code",
   "execution_count": 33,
   "id": "happy-darwin",
   "metadata": {},
   "outputs": [
    {
     "name": "stdout",
     "output_type": "stream",
     "text": [
      "[1] 1 3 5 7 9\n"
     ]
    }
   ],
   "source": [
    "%%R\n",
    "x <- 1:10\n",
    "x[x %% 2 == 1]"
   ]
  },
  {
   "cell_type": "code",
   "execution_count": 35,
   "id": "wireless-traffic",
   "metadata": {},
   "outputs": [
    {
     "name": "stdout",
     "output_type": "stream",
     "text": [
      "[1]  2  4  6  8 10\n"
     ]
    }
   ],
   "source": [
    "%%R\n",
    "subset(x, x %% 2 == 0)"
   ]
  },
  {
   "cell_type": "markdown",
   "id": "front-pavilion",
   "metadata": {},
   "source": [
    "## ifelse() 함수 \n",
    "`-` ifelse(x, yes, no)는 x가 True이면 yes를 값으로 하고 False이면 no를 값으로 배출"
   ]
  },
  {
   "cell_type": "code",
   "execution_count": 36,
   "id": "fatal-custom",
   "metadata": {},
   "outputs": [
    {
     "name": "stdout",
     "output_type": "stream",
     "text": [
      "       x x1\n",
      " [1,]  1  2\n",
      " [2,]  2  2\n",
      " [3,]  3  6\n",
      " [4,]  4  4\n",
      " [5,]  5 10\n",
      " [6,]  6  6\n",
      " [7,]  7 14\n",
      " [8,]  8  8\n",
      " [9,]  9 18\n",
      "[10,] 10 10\n"
     ]
    }
   ],
   "source": [
    "%%R\n",
    "x <- 1:10\n",
    "x1 <- ifelse(x %% 2 == 0, x, 2*x)\n",
    "cbind(x, x1)"
   ]
  },
  {
   "cell_type": "markdown",
   "id": "friendly-mention",
   "metadata": {},
   "source": [
    "## names() 함수 \n",
    "`-` names(x)는 벡터x의 개별 요소에 이름을 부여함"
   ]
  },
  {
   "cell_type": "code",
   "execution_count": 71,
   "id": "female-toronto",
   "metadata": {},
   "outputs": [
    {
     "name": "stdout",
     "output_type": "stream",
     "text": [
      "[1] 5 4 3 4 5 6\n"
     ]
    }
   ],
   "source": [
    "%%R\n",
    "era <- c(5, 4 ,3, 4 ,5, 6)\n",
    "era"
   ]
  },
  {
   "cell_type": "markdown",
   "id": "seasonal-protection",
   "metadata": {},
   "source": [
    "`-` paste()함수는 2개의 문자열 벡터를 sep인수로 붙인다"
   ]
  },
  {
   "cell_type": "code",
   "execution_count": 72,
   "id": "approximate-collar",
   "metadata": {},
   "outputs": [
    {
     "name": "stdout",
     "output_type": "stream",
     "text": [
      "y-2001 y-2002 y-2003 y-2004 y-2005 y-2006 \n",
      "     5      4      3      4      5      6 \n"
     ]
    }
   ],
   "source": [
    "%%R\n",
    "names(era) <- paste(\"y\", 2001:2006, sep = \"-\")\n",
    "era"
   ]
  },
  {
   "cell_type": "markdown",
   "id": "desirable-tenant",
   "metadata": {},
   "source": [
    "# 3장 - 행렬(matrix) \n",
    "`-` $p$개의 길이 $n$인 벡터를 열에 배치함"
   ]
  },
  {
   "cell_type": "markdown",
   "id": "tribal-career",
   "metadata": {},
   "source": [
    "## 행렬 "
   ]
  },
  {
   "cell_type": "code",
   "execution_count": 37,
   "id": "annual-thompson",
   "metadata": {},
   "outputs": [
    {
     "name": "stdout",
     "output_type": "stream",
     "text": [
      "           [,1]        [,2]       [,3]\n",
      "[1,] -0.5272115 -0.09766999  0.9157430\n",
      "[2,] -0.4910666  0.27630674 -0.4863826\n",
      "[3,] -0.7199871 -1.37864849 -0.1378880\n",
      "[4,] -0.2978141  1.21144373 -1.1352895\n",
      "[5,] -0.9412001 -1.05635910  1.0677189\n",
      "[6,] -0.4909131  0.92592424 -1.8697058\n"
     ]
    }
   ],
   "source": [
    "%%R\n",
    "n <- 100\n",
    "p <- 3\n",
    "x <- rnorm(n*p)\n",
    "A <- matrix(x, nrow = n, ncol = p)\n",
    "A[1:6, ]"
   ]
  },
  {
   "cell_type": "markdown",
   "id": "nearby-ghost",
   "metadata": {},
   "source": [
    "`-` 콤마(,)앞은 행, 콤마(,)뒤는 열"
   ]
  },
  {
   "cell_type": "code",
   "execution_count": 38,
   "id": "residential-cemetery",
   "metadata": {},
   "outputs": [
    {
     "name": "stdout",
     "output_type": "stream",
     "text": [
      "           [,1]        [,2]\n",
      "[1,] -0.5272115 -0.09766999\n",
      "[2,] -0.4910666  0.27630674\n",
      "[3,] -0.7199871 -1.37864849\n",
      "[4,] -0.2978141  1.21144373\n",
      "[5,] -0.9412001 -1.05635910\n",
      "[6,] -0.4909131  0.92592424\n"
     ]
    }
   ],
   "source": [
    "%%R\n",
    "A[1:6, 1:2]"
   ]
  },
  {
   "cell_type": "markdown",
   "id": "adjustable-michael",
   "metadata": {},
   "source": [
    "`-` 필터링을 통해 인덱싱도 가능"
   ]
  },
  {
   "cell_type": "code",
   "execution_count": 42,
   "id": "central-penny",
   "metadata": {},
   "outputs": [
    {
     "name": "stdout",
     "output_type": "stream",
     "text": [
      "              [,1]       [,2]       [,3]\n",
      " [1,] -1.632001082 0.95386709 0.34696994\n",
      " [2,] -0.388047387 0.75046872 0.61005479\n",
      " [3,] -1.325637032 0.85805657 0.48388600\n",
      " [4,]  1.027718630 1.93877622 0.04144039\n",
      " [5,] -0.926911907 0.57212123 1.66361085\n",
      " [6,]  2.120355231 0.25362934 0.64836355\n",
      " [7,]  1.038120371 0.01903657 0.04071902\n",
      " [8,] -0.973632914 0.35330337 0.35594054\n",
      " [9,]  1.799568590 1.98855528 0.50952846\n",
      "[10,]  0.633299053 1.03079130 0.23844919\n",
      "[11,] -0.178793903 0.66631102 1.11482316\n",
      "[12,]  1.307643075 0.14501150 0.41404295\n",
      "[13,]  0.005313813 2.02583488 0.33820766\n",
      "[14,] -0.280283865 1.04242405 1.33195196\n",
      "[15,]  0.270559357 0.05230981 0.35938639\n",
      "[16,] -1.485066480 0.41976340 0.59734787\n",
      "[17,] -0.076204339 0.97655368 1.99341983\n",
      "[18,]  2.316420281 0.05287762 0.27840240\n",
      "[19,] -0.661999001 0.28495938 1.43514281\n",
      "[20,] -0.713879760 0.15816804 0.71605743\n",
      "[21,] -0.095003851 1.13276296 0.74928887\n",
      "[22,]  0.087418924 1.66296778 0.47576952\n",
      "[23,] -1.055728878 0.56180370 1.26128539\n",
      "[24,]  1.153290080 0.27938929 0.58182072\n",
      "[25,]  1.348495993 0.30003159 1.17131650\n",
      "[26,] -0.815336296 0.74215461 0.03795627\n"
     ]
    }
   ],
   "source": [
    "%%R\n",
    "A[A[,3] > 0 & A[,2] > 0, ]"
   ]
  },
  {
   "cell_type": "markdown",
   "id": "disabled-plumbing",
   "metadata": {},
   "source": [
    "`-` t(A) 함수는 행렬 A의 전치행렬을 구해줌"
   ]
  },
  {
   "cell_type": "code",
   "execution_count": 43,
   "id": "identified-extraction",
   "metadata": {},
   "outputs": [
    {
     "name": "stdout",
     "output_type": "stream",
     "text": [
      "     [,1] [,2] [,3]\n",
      "[1,]    1    4    7\n",
      "[2,]    2    5    8\n",
      "[3,]    3    6    9\n"
     ]
    }
   ],
   "source": [
    "%%R\n",
    "B <- matrix(1:9, 3, 3)\n",
    "B"
   ]
  },
  {
   "cell_type": "code",
   "execution_count": 44,
   "id": "plain-accordance",
   "metadata": {},
   "outputs": [
    {
     "name": "stdout",
     "output_type": "stream",
     "text": [
      "     [,1] [,2] [,3]\n",
      "[1,]    1    2    3\n",
      "[2,]    4    5    6\n",
      "[3,]    7    8    9\n"
     ]
    }
   ],
   "source": [
    "%%R\n",
    "t(B)"
   ]
  },
  {
   "cell_type": "markdown",
   "id": "brilliant-particular",
   "metadata": {},
   "source": [
    "`-` solve()함수는 역행렬을 구해줌"
   ]
  },
  {
   "cell_type": "code",
   "execution_count": 49,
   "id": "lightweight-madonna",
   "metadata": {},
   "outputs": [
    {
     "name": "stdout",
     "output_type": "stream",
     "text": [
      "     [,1] [,2] [,3]\n",
      "[1,]   16    4    1\n",
      "[2,]    4    4    1\n",
      "[3,]    1    1    1\n"
     ]
    }
   ],
   "source": [
    "%%R\n",
    "C <- matrix(c(16 ,4, 1, 4, 4, 1, 1, 1, 1), 3, 3)\n",
    "C"
   ]
  },
  {
   "cell_type": "code",
   "execution_count": 50,
   "id": "royal-selling",
   "metadata": {},
   "outputs": [
    {
     "name": "stdout",
     "output_type": "stream",
     "text": [
      "            [,1]        [,2]       [,3]\n",
      "[1,]  0.08333333 -0.08333333  0.0000000\n",
      "[2,] -0.08333333  0.41666667 -0.3333333\n",
      "[3,]  0.00000000 -0.33333333  1.3333333\n"
     ]
    }
   ],
   "source": [
    "%%R\n",
    "solve(C)"
   ]
  },
  {
   "cell_type": "markdown",
   "id": "strong-burton",
   "metadata": {},
   "source": [
    "`-` %*%는 행렬곱"
   ]
  },
  {
   "cell_type": "code",
   "execution_count": 48,
   "id": "rental-green",
   "metadata": {},
   "outputs": [
    {
     "name": "stdout",
     "output_type": "stream",
     "text": [
      "             [,1]          [,2]          [,3]\n",
      "[1,] 1.000000e+00 -5.551115e-17 -1.387779e-17\n",
      "[2,] 1.665335e-16  1.000000e+00  5.551115e-17\n",
      "[3,] 0.000000e+00  0.000000e+00  1.000000e+00\n"
     ]
    }
   ],
   "source": [
    "%%R\n",
    "solve(C) %*% C"
   ]
  },
  {
   "cell_type": "markdown",
   "id": "individual-force",
   "metadata": {},
   "source": [
    "`-` 참고로 $AA^{-1} = I$\n",
    "\n",
    "`-` $I$는 [단위행렬](https://ko.wikipedia.org/wiki/%EB%8B%A8%EC%9C%84%ED%96%89%EB%A0%AC)"
   ]
  },
  {
   "cell_type": "markdown",
   "id": "conscious-surgery",
   "metadata": {},
   "source": [
    "## apply() 함수 "
   ]
  },
  {
   "cell_type": "markdown",
   "id": "virtual-despite",
   "metadata": {},
   "source": [
    "`-` apply(A, 1 or 2, f) ---> 행렬A의 행(1) or 열(2)에 함수 f를 적용 \n",
    "\n",
    "`-` c(1, 2)는 행과 열에 적용 ---> 각 원소"
   ]
  },
  {
   "cell_type": "code",
   "execution_count": 104,
   "id": "acceptable-factor",
   "metadata": {},
   "outputs": [
    {
     "name": "stdout",
     "output_type": "stream",
     "text": [
      "     [,1] [,2] [,3] [,4]\n",
      "[1,]    1    4    7   10\n",
      "[2,]    2    5    8   11\n",
      "[3,]    3    6    9   12\n"
     ]
    }
   ],
   "source": [
    "%%R\n",
    "M <- matrix(1:12, 3, 4)\n",
    "M"
   ]
  },
  {
   "cell_type": "markdown",
   "id": "empirical-blank",
   "metadata": {},
   "source": [
    "`-` apply에서 옵션을 1(행)로 하니 전치된 행렬을 반환함"
   ]
  },
  {
   "cell_type": "code",
   "execution_count": 113,
   "id": "unlimited-dylan",
   "metadata": {},
   "outputs": [
    {
     "name": "stdout",
     "output_type": "stream",
     "text": [
      "     [,1] [,2] [,3]\n",
      "[1,]   -2   -1    0\n",
      "[2,]   -2   -1    0\n",
      "[3,]   -2   -1    0\n",
      "[4,]   -2   -1    0\n"
     ]
    }
   ],
   "source": [
    "%%R\n",
    "max_ = apply(M, 2, max)\n",
    "apply(M, 1, \"-\", max_)"
   ]
  },
  {
   "cell_type": "code",
   "execution_count": 114,
   "id": "champion-patch",
   "metadata": {},
   "outputs": [
    {
     "name": "stdout",
     "output_type": "stream",
     "text": [
      "     [,1] [,2] [,3] [,4]\n",
      "[1,]   -2   -2   -2   -2\n",
      "[2,]   -1   -1   -1   -1\n",
      "[3,]    0    0    0    0\n"
     ]
    }
   ],
   "source": [
    "%%R\n",
    "max_ = apply(M, 2, max)\n",
    "t(apply(M, 1, \"-\", max_))"
   ]
  },
  {
   "cell_type": "markdown",
   "id": "restricted-spider",
   "metadata": {},
   "source": [
    "`-` apply에서 옵션을 2(열)로 하니 문제 없어보임"
   ]
  },
  {
   "cell_type": "code",
   "execution_count": 111,
   "id": "catholic-economy",
   "metadata": {},
   "outputs": [
    {
     "name": "stdout",
     "output_type": "stream",
     "text": [
      "     [,1] [,2] [,3] [,4]\n",
      "[1,]   -9   -6   -3    0\n",
      "[2,]   -9   -6   -3    0\n",
      "[3,]   -9   -6   -3    0\n"
     ]
    }
   ],
   "source": [
    "%%R\n",
    "max_ = apply(M, 1, max)\n",
    "apply(M, 2, \"-\", max_)"
   ]
  },
  {
   "cell_type": "markdown",
   "id": "cross-granny",
   "metadata": {},
   "source": [
    "`-` 옵션을 c(1, 2)로 하니 각 원소에서 -1을 수행함"
   ]
  },
  {
   "cell_type": "code",
   "execution_count": 96,
   "id": "drawn-business",
   "metadata": {},
   "outputs": [
    {
     "name": "stdout",
     "output_type": "stream",
     "text": [
      "     [,1] [,2] [,3] [,4]\n",
      "[1,]    0    3    6    9\n",
      "[2,]    1    4    7   10\n",
      "[3,]    2    5    8   11\n"
     ]
    }
   ],
   "source": [
    "%%R\n",
    "apply(M, 1:2, \"-\", 1)"
   ]
  },
  {
   "cell_type": "markdown",
   "id": "breathing-freeware",
   "metadata": {},
   "source": [
    "`-` 행렬의 각 열에 대해 최소값 0과 최대값 1이 되도록 변환"
   ]
  },
  {
   "cell_type": "code",
   "execution_count": 128,
   "id": "bearing-license",
   "metadata": {},
   "outputs": [
    {
     "name": "stdout",
     "output_type": "stream",
     "text": [
      "            [,1]        [,2]       [,3]        [,4]\n",
      "[1,]  0.39140070  0.41656975  0.3387848  0.15505716\n",
      "[2,]  1.82931560 -1.25805693 -1.3580300  0.08618929\n",
      "[3,] -0.07224563 -0.01837199  1.1249997  0.16007225\n",
      "[4,]  1.05756759 -0.33926353  0.8730712 -0.51535640\n",
      "[5,]  1.35992572  0.06295887  0.2480695 -2.54631691\n"
     ]
    }
   ],
   "source": [
    "%%R\n",
    "n <- 5\n",
    "p <- 4\n",
    "M <- matrix(rnorm(n*p), n, p)\n",
    "M"
   ]
  },
  {
   "cell_type": "code",
   "execution_count": 139,
   "id": "indie-stockholm",
   "metadata": {},
   "outputs": [
    {
     "name": "stdout",
     "output_type": "stream",
     "text": [
      "          [,1]      [,2]      [,3]      [,4]\n",
      "[1,] 0.2438240 1.0000000 0.6833647 0.9981469\n",
      "[2,] 1.0000000 0.0000000 0.0000000 0.9727005\n",
      "[3,] 0.0000000 0.7402754 1.0000000 1.0000000\n",
      "[4,] 0.5941503 0.5486557 0.8985399 0.7504318\n",
      "[5,] 0.7531555 0.7888420 0.6468306 0.0000000\n"
     ]
    }
   ],
   "source": [
    "%%R\n",
    "min_ <- apply(M, 2, min)\n",
    "max_ <- apply(M, 2, max)\n",
    "M.1 <- t(apply(M, 1, \"-\", min_))\n",
    "M.2 <- t(apply(M.1, 1, \"/\", max_-min_))\n",
    "M.2"
   ]
  },
  {
   "cell_type": "markdown",
   "id": "nonprofit-sullivan",
   "metadata": {},
   "source": [
    "## rownames()와 colnames() 함수\n",
    "`-` 행렬의 행과 열에 이름을 붙임"
   ]
  },
  {
   "cell_type": "code",
   "execution_count": 141,
   "id": "paperback-resolution",
   "metadata": {},
   "outputs": [
    {
     "name": "stdout",
     "output_type": "stream",
     "text": [
      "    math engl science arts\n",
      "S1    48   63      48   42\n",
      "S2    40   46      45   60\n",
      "S3    48   47      65   54\n",
      "S4    29   53      56   35\n",
      "S5    42   63      42   46\n",
      "S6    30   67      57   55\n",
      "S7    59   44      41   47\n",
      "S8    44   48      40   60\n",
      "S9    45   67      43   58\n",
      "S10   66   54      72   73\n"
     ]
    }
   ],
   "source": [
    "%%R\n",
    "n <- 10\n",
    "x <- matrix(round(rnorm(n*4, 50, 10)), n, 4) ## 평균이 50, 표준편차가 10인 정규분포에서 난수 40개 추출\n",
    "rownames(x) <- paste(\"S\", 1:n, sep = \"\")\n",
    "colnames(x) <- c(\"math\", \"engl\", \"science\", \"arts\")\n",
    "x"
   ]
  },
  {
   "cell_type": "markdown",
   "id": "enhanced-cincinnati",
   "metadata": {},
   "source": [
    "# 4장 - 리스트(list) \n",
    "`-` R에서 가장 일반적인 데이터 형태"
   ]
  },
  {
   "cell_type": "code",
   "execution_count": 27,
   "id": "organized-montgomery",
   "metadata": {},
   "outputs": [
    {
     "name": "stdout",
     "output_type": "stream",
     "text": [
      "$leaders\n",
      "[1] \"gang\" \"iu\"  \n",
      "\n",
      "$assisstants\n",
      "[1] \"kang\"\n",
      "\n"
     ]
    }
   ],
   "source": [
    "%%R\n",
    "members <- list(leaders = c(\"gang\", \"iu\"), assisstants = \"kang\")\n",
    "members"
   ]
  },
  {
   "cell_type": "markdown",
   "id": "crazy-commercial",
   "metadata": {},
   "source": [
    "`-` class(X) 함수는 X의 type을 알려줌"
   ]
  },
  {
   "cell_type": "code",
   "execution_count": 28,
   "id": "electoral-sheet",
   "metadata": {},
   "outputs": [
    {
     "name": "stdout",
     "output_type": "stream",
     "text": [
      "[1] \"list\"\n"
     ]
    }
   ],
   "source": [
    "%%R\n",
    "class(members)"
   ]
  },
  {
   "cell_type": "markdown",
   "id": "according-tampa",
   "metadata": {},
   "source": [
    "`-` names()함수로 요소의 라벨을 확인 + 변경 가능"
   ]
  },
  {
   "cell_type": "code",
   "execution_count": 29,
   "id": "secure-sword",
   "metadata": {},
   "outputs": [
    {
     "name": "stdout",
     "output_type": "stream",
     "text": [
      "[1] \"leaders\"     \"assisstants\"\n",
      "[1] \"leaders\" \"workers\"\n"
     ]
    }
   ],
   "source": [
    "%%R\n",
    "print(names(members))\n",
    "names(members)[2] <- \"workers\"\n",
    "print(names(members))"
   ]
  },
  {
   "cell_type": "markdown",
   "id": "saving-jacket",
   "metadata": {},
   "source": [
    "## 리스트에 접근하기 "
   ]
  },
  {
   "cell_type": "markdown",
   "id": "registered-maintenance",
   "metadata": {},
   "source": [
    "`-` `[[  ]]` 사용"
   ]
  },
  {
   "cell_type": "code",
   "execution_count": 30,
   "id": "removable-therapy",
   "metadata": {},
   "outputs": [
    {
     "name": "stdout",
     "output_type": "stream",
     "text": [
      "[1] \"gang\" \"iu\"  \n"
     ]
    }
   ],
   "source": [
    "%%R\n",
    "members[[1]]"
   ]
  },
  {
   "cell_type": "markdown",
   "id": "supported-bumper",
   "metadata": {},
   "source": [
    "`-` `[ ]`은 sublist\n",
    "\n",
    "`-` `[[  ]]`은 벡터이고 `[ ]`은 리스트임"
   ]
  },
  {
   "cell_type": "code",
   "execution_count": 31,
   "id": "incident-estonia",
   "metadata": {},
   "outputs": [
    {
     "name": "stdout",
     "output_type": "stream",
     "text": [
      "$leaders\n",
      "[1] \"gang\" \"iu\"  \n",
      "\n"
     ]
    }
   ],
   "source": [
    "%%R\n",
    "members[1]"
   ]
  },
  {
   "cell_type": "markdown",
   "id": "early-documentation",
   "metadata": {},
   "source": [
    "`-` 요소 이름 사용"
   ]
  },
  {
   "cell_type": "code",
   "execution_count": 33,
   "id": "tropical-canadian",
   "metadata": {},
   "outputs": [
    {
     "name": "stdout",
     "output_type": "stream",
     "text": [
      "[1] \"gang\" \"iu\"  \n"
     ]
    }
   ],
   "source": [
    "%%R\n",
    "members[[\"leaders\"]]"
   ]
  },
  {
   "cell_type": "markdown",
   "id": "annual-jurisdiction",
   "metadata": {},
   "source": [
    "`-` `$` 기호 사용 ---> 개인적으로 제일 편함"
   ]
  },
  {
   "cell_type": "code",
   "execution_count": 35,
   "id": "heavy-yacht",
   "metadata": {},
   "outputs": [
    {
     "name": "stdout",
     "output_type": "stream",
     "text": [
      "[1] \"gang\" \"iu\"  \n"
     ]
    }
   ],
   "source": [
    "%%R\n",
    "members$leaders"
   ]
  },
  {
   "cell_type": "markdown",
   "id": "mediterranean-crisis",
   "metadata": {},
   "source": [
    "`-` 리스트 내 자료 값 변경도 가능"
   ]
  },
  {
   "cell_type": "code",
   "execution_count": 36,
   "id": "professional-peninsula",
   "metadata": {},
   "outputs": [
    {
     "name": "stdout",
     "output_type": "stream",
     "text": [
      "$leaders\n",
      "[1] \"park\" \"iu\"  \n",
      "\n",
      "$workers\n",
      "[1] \"kang\"\n",
      "\n"
     ]
    }
   ],
   "source": [
    "%%R\n",
    "members$leaders[1] <- \"park\"\n",
    "members"
   ]
  },
  {
   "cell_type": "markdown",
   "id": "royal-arnold",
   "metadata": {},
   "source": [
    "## lapply()와 sapply() 함수 \n",
    "`-` matrix에서 apply() 함수를 사용하듯이 리스트에선 `lapply()`와 `sapply()` 함수를 사용\n",
    "\n",
    "`-` `lapply(list, fun)`는 list 내 요소들에 함수 fun을 적용하여 결과를 `리스트`로 출력 ---> `sapply()` 는 `벡터`로 출력"
   ]
  },
  {
   "cell_type": "code",
   "execution_count": 37,
   "id": "blessed-religion",
   "metadata": {},
   "outputs": [
    {
     "name": "stdout",
     "output_type": "stream",
     "text": [
      "$leaders\n",
      "[1] 250 200\n",
      "\n",
      "$assistant\n",
      "[1] 100\n",
      "\n",
      "$members\n",
      "[1] 300 200 180 120 100\n",
      "\n"
     ]
    }
   ],
   "source": [
    "%%R\n",
    "salaries <- list(leaders = c(250, 200), assistant = 100, members = c(300, 200, 180, 120 ,100))\n",
    "salaries"
   ]
  },
  {
   "cell_type": "markdown",
   "id": "ambient-document",
   "metadata": {},
   "source": [
    "`-` lapply() 사용"
   ]
  },
  {
   "cell_type": "code",
   "execution_count": 38,
   "id": "backed-sweden",
   "metadata": {},
   "outputs": [
    {
     "name": "stdout",
     "output_type": "stream",
     "text": [
      "$leaders\n",
      "[1] 225\n",
      "\n",
      "$assistant\n",
      "[1] 100\n",
      "\n",
      "$members\n",
      "[1] 180\n",
      "\n"
     ]
    }
   ],
   "source": [
    "%%R\n",
    "lapply(salaries, mean)"
   ]
  },
  {
   "cell_type": "markdown",
   "id": "placed-completion",
   "metadata": {},
   "source": [
    "`-` sapply() 사용\n",
    "\n",
    "`-` 벡터로 출력이 불가능할 때는 lapply() 처럼 list로 출력함"
   ]
  },
  {
   "cell_type": "code",
   "execution_count": 39,
   "id": "considered-stanford",
   "metadata": {},
   "outputs": [
    {
     "name": "stdout",
     "output_type": "stream",
     "text": [
      "  leaders assistant   members \n",
      "      225       100       180 \n"
     ]
    }
   ],
   "source": [
    "%%R\n",
    "sapply(salaries, mean)"
   ]
  },
  {
   "cell_type": "markdown",
   "id": "global-notebook",
   "metadata": {},
   "source": [
    "# 5장 - 데이터 프레임(data frame) \n",
    "`-` matrix는 요소가 숫자만 가능했다면 data frame은 문자열과 같은 다른 type도 가능함"
   ]
  },
  {
   "cell_type": "code",
   "execution_count": 60,
   "id": "royal-anderson",
   "metadata": {},
   "outputs": [
    {
     "name": "stdout",
     "output_type": "stream",
     "text": [
      "      mid final\n",
      " [1,]   8    11\n",
      " [2,]  22    24\n",
      " [3,]  25    31\n",
      " [4,]  25    13\n",
      " [5,]  21    34\n",
      " [6,]  12    26\n",
      " [7,]  12    NA\n",
      " [8,]  29    36\n",
      " [9,]  40    34\n",
      "[10,]  25    38\n"
     ]
    }
   ],
   "source": [
    "%%R\n",
    "course.id <- c(1, 2, 3, 4 ,5, 6 ,7, 8, 9 ,10)\n",
    "mid <- c(8, 22, 25, 25 ,21, 12, 12, 29, 40, 25)\n",
    "final <- c(11, 24, 31, 13 ,34 ,26, NA ,36, 34 ,38)\n",
    "exams <- \n",
    "exams"
   ]
  },
  {
   "cell_type": "code",
   "execution_count": 62,
   "id": "clinical-relationship",
   "metadata": {},
   "outputs": [
    {
     "name": "stdout",
     "output_type": "stream",
     "text": [
      "[1] \"mid\"   \"final\"\n"
     ]
    }
   ],
   "source": [
    "%%R\n",
    "colnames(exams)"
   ]
  },
  {
   "cell_type": "code",
   "execution_count": null,
   "id": "confidential-update",
   "metadata": {},
   "outputs": [],
   "source": []
  }
 ],
 "metadata": {
  "kernelspec": {
   "display_name": "Python 3",
   "language": "python",
   "name": "python3"
  },
  "language_info": {
   "codemirror_mode": {
    "name": "ipython",
    "version": 3
   },
   "file_extension": ".py",
   "mimetype": "text/x-python",
   "name": "python",
   "nbconvert_exporter": "python",
   "pygments_lexer": "ipython3",
   "version": "3.8.8"
  }
 },
 "nbformat": 4,
 "nbformat_minor": 5
}
