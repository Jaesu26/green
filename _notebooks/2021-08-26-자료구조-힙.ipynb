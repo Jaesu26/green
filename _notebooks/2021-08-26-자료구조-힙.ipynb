{
 "cells": [
  {
   "cell_type": "markdown",
   "id": "julian-sterling",
   "metadata": {},
   "source": [
    "# 자료구조 힙(Heap)\n",
    "\n",
    "> \"작성 완료\"\n",
    "\n",
    "- toc: true\n",
    "- branch: master\n",
    "- badges: true\n",
    "- comments: true\n",
    "- author: 한재수\n",
    "- categories: [python, data structure]"
   ]
  },
  {
   "cell_type": "markdown",
   "id": "grand-tutorial",
   "metadata": {},
   "source": [
    "# 힙(Heap) "
   ]
  },
  {
   "cell_type": "markdown",
   "id": "provincial-success",
   "metadata": {},
   "source": [
    "`-` `최댓값` 및 `최솟값`을 찾아내는 연산을 빠르게 하기 위해 고안된 `완전이진트리` 자료구조\n",
    "\n",
    "`-` 힙 속성 ---> A가 B의 부모노드(parent node) 이면 A의 키(key)값과 B의 키값 사이에는 `대소관계`가 성립\n",
    "\n",
    "`-` `최대 힙`: 부모노드의 키값이 자식노드의 키값보다 항상 큰 힙\n",
    "\n",
    "`-` `최소 힙`: 부모노드의 키값이 자식노드의 키값보다 항상 작은 힙\n",
    "\n",
    "`-` 키(key)값의 대소관계는 오로지 부모노드와 자식노드 간에만 성립하며 특히 형제 사이에는 대소관계가 정해지지 않음\n",
    "\n",
    "`-` 대개 자식노드 개수가 최대 2개인 이진 힙(binary heap)을 사용함\n",
    "\n",
    "`-` 데이터의 최대값(최대 힙) or 최소값(최소 힙)을 찾는데 $O(1)$이 소요됨 ---> 루트노드에 저장되어 있으므로\n",
    "\n",
    "`-` 데이터의 삽입과 삭제는 $O(logN)$이 소요됨\n",
    "\n",
    "`-` 참고: [자료구조 힙](https://ko.wikipedia.org/wiki/%ED%9E%99_(%EC%9E%90%EB%A3%8C_%EA%B5%AC%EC%A1%B0))"
   ]
  },
  {
   "cell_type": "markdown",
   "id": "individual-california",
   "metadata": {},
   "source": [
    "## 힙(Heap) 모듈"
   ]
  },
  {
   "cell_type": "markdown",
   "id": "fiscal-heart",
   "metadata": {},
   "source": [
    "`-` 파이썬의 `heapq` 모듈은 `최소 힙`이다\n",
    "\n",
    "`-` 힙(Heap) 구조 그림으로 보기 ---> [힙 구조](https://namu.wiki/w/%ED%9E%99%20%ED%8A%B8%EB%A6%AC) ---> 이거 보면 무조건 이해 가능 \n",
    "\n",
    "`-` 힙을 코드로 구현하기 전에 필요한 함수를 공부하자\n",
    "\n",
    "`-` `heapq.heappush(heap, item)` ---> `item`을 `heap`에 추가함\n",
    "\n",
    "`-` `heapq.heappop(heap)` ---> `heap`에서 가장 작은 원소(루트 노드)를 `pop(추출)`하고 비어 있으면 IndexError\n",
    "\n",
    "`-` `heapq.heapify(x)` ---> 리스트 x를 heap 자료 구조로 변환함\n",
    "\n",
    "`-` 참고: [heapq][website]\n",
    "\n",
    "[website]: https://ko.wikipedia.org/wiki/%ED%9E%99_(%EC%9E%90%EB%A3%8C_%EA%B5%AC%EC%A1%B0)"
   ]
  },
  {
   "cell_type": "markdown",
   "id": "decent-davis",
   "metadata": {},
   "source": [
    "### 예제: 카드 합체 놀이\n",
    "- 문제 출처: [백준 15903번](https://www.acmicpc.net/problem/15903)"
   ]
  },
  {
   "cell_type": "markdown",
   "id": "interesting-shell",
   "metadata": {},
   "source": [
    "`-` 카드 더미의 최소값 2개를 뽑은다음 두 숫자를 두 수의 합으로 바꿔주는 것을 반복하면 됨\n",
    "\n",
    "`-` 최소값 2개를 뽑으면 되니 Heap을 사용하자\n",
    "\n",
    "`-` Heap에서 최소값 추출은 $O(1)$ 삽입과 삭제는 $O(logN)$이므로 다른 구조보다 효율적으로 문제를 해결할 수 있음"
   ]
  },
  {
   "cell_type": "code",
   "execution_count": 2,
   "id": "innovative-harassment",
   "metadata": {},
   "outputs": [
    {
     "name": "stdin",
     "output_type": "stream",
     "text": [
      " 4 2\n",
      " 4 2 3 1\n"
     ]
    },
    {
     "name": "stdout",
     "output_type": "stream",
     "text": [
      "19\n"
     ]
    }
   ],
   "source": [
    "import heapq\n",
    "\n",
    "n, m = map(int, input().split())\n",
    "cards = list(map(int, input().split()))\n",
    "heapq.heapify(cards) ## list인 cards를 Heap구조로 변홤함\n",
    "\n",
    "for _ in range(m):\n",
    "    two_card_sum = heapq.heappop(cards) + heapq.heappop(cards) ## 최소값 2개(제일 작은 값과 두 번째로 작은 값)를 뽑음\n",
    "    heapq.heappush(cards, two_card_sum) ## 두 수를 두 수의 합으로 바꿔줌\n",
    "    heapq.heappush(cards, two_card_sum) ## 그리고 cards 에 push한다\n",
    "\n",
    "print(sum(cards))"
   ]
  },
  {
   "cell_type": "code",
   "execution_count": null,
   "id": "digital-coordination",
   "metadata": {},
   "outputs": [],
   "source": []
  }
 ],
 "metadata": {
  "kernelspec": {
   "display_name": "Python 3",
   "language": "python",
   "name": "python3"
  },
  "language_info": {
   "codemirror_mode": {
    "name": "ipython",
    "version": 3
   },
   "file_extension": ".py",
   "mimetype": "text/x-python",
   "name": "python",
   "nbconvert_exporter": "python",
   "pygments_lexer": "ipython3",
   "version": "3.8.8"
  }
 },
 "nbformat": 4,
 "nbformat_minor": 5
}
