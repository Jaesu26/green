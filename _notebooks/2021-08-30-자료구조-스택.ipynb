{
 "cells": [
  {
   "cell_type": "markdown",
   "id": "painful-antenna",
   "metadata": {},
   "source": [
    "# 자료구조 스택(stack)\n",
    "\n",
    "> \"작성 완료\"\n",
    "\n",
    "- toc: true\n",
    "- branch: master\n",
    "- badges: true\n",
    "- comments: true\n",
    "- author: 한재수\n",
    "- categories: [python, data structure]"
   ]
  },
  {
   "cell_type": "markdown",
   "id": "respected-malpractice",
   "metadata": {},
   "source": [
    "# 스택(stack)"
   ]
  },
  {
   "cell_type": "markdown",
   "id": "secondary-broadcast",
   "metadata": {},
   "source": [
    "`-` 스택(stack)은 기본적인 자료 구조\n",
    "\n",
    "`-` 스택은 자료를 넣고(push) 자료를 빼는(pop) 입구가 같은 선형 구조(LIFO - Last In First Out)으로 되어 있음\n",
    "\n",
    "`-` 참고: [자료구조 스택](https://ko.wikipedia.org/wiki/%EC%8A%A4%ED%83%9D)"
   ]
  },
  {
   "cell_type": "markdown",
   "id": "conventional-postage",
   "metadata": {},
   "source": [
    "## 스택(stack) 사용"
   ]
  },
  {
   "cell_type": "markdown",
   "id": "parliamentary-brown",
   "metadata": {},
   "source": [
    "`-` 파이썬에서 stack은 `list`를 통해 구현할 수 있다\n",
    "\n",
    "`-` `stack.append(x)`를 통해 스택에 x를 오른쪽(뒤)에 push한다\n",
    "\n",
    "`-` `stack.pop()`을 통해 스택의 마지막 원소를 pop한다"
   ]
  },
  {
   "cell_type": "markdown",
   "id": "later-diagram",
   "metadata": {},
   "source": [
    "### 예제 - 제로\n",
    "- 문제 출처: [백준 10773번](https://www.acmicpc.net/problem/10773)\n",
    "\n",
    "`-` 스택(stack)의 기본적인 push와 pop을 이요하면 된다\n",
    "\n",
    "`-` 0이 입력되면 pop하고 그 외에 수가 입력되면 push한다"
   ]
  },
  {
   "cell_type": "code",
   "execution_count": 1,
   "id": "regulated-webster",
   "metadata": {},
   "outputs": [
    {
     "name": "stdin",
     "output_type": "stream",
     "text": [
      " 4\n",
      " 3\n",
      " 0\n",
      " 4\n",
      " 0\n"
     ]
    },
    {
     "name": "stdout",
     "output_type": "stream",
     "text": [
      "0\n"
     ]
    }
   ],
   "source": [
    "K = int(input())\n",
    "stack = list() ## stack = []와 동일\n",
    "\n",
    "for _ in range(K):\n",
    "    num = int(input())\n",
    "    if num == 0:\n",
    "        stack.pop()\n",
    "        \n",
    "    else:\n",
    "        stack.append(num)\n",
    "        \n",
    "print(sum(stack))"
   ]
  },
  {
   "cell_type": "code",
   "execution_count": null,
   "id": "expressed-excitement",
   "metadata": {},
   "outputs": [],
   "source": []
  }
 ],
 "metadata": {
  "kernelspec": {
   "display_name": "Python 3",
   "language": "python",
   "name": "python3"
  },
  "language_info": {
   "codemirror_mode": {
    "name": "ipython",
    "version": 3
   },
   "file_extension": ".py",
   "mimetype": "text/x-python",
   "name": "python",
   "nbconvert_exporter": "python",
   "pygments_lexer": "ipython3",
   "version": "3.8.8"
  }
 },
 "nbformat": 4,
 "nbformat_minor": 5
}
