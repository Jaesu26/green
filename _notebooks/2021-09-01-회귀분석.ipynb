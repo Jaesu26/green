{
 "cells": [
  {
   "cell_type": "markdown",
   "id": "copyrighted-jewelry",
   "metadata": {},
   "source": [
    "# 회귀 분석\n",
    "\n",
    "> \"작성 중\"\n",
    "\n",
    "- toc: true\n",
    "- branch: master\n",
    "- badges: true\n",
    "- comments: true\n",
    "- author: 한재수\n",
    "- categories: [python, R, statistics]"
   ]
  },
  {
   "cell_type": "markdown",
   "id": "modern-insurance",
   "metadata": {},
   "source": [
    "`-` 2학기 수업에서 배우는 회귀 분석 내용에 대해 간단히 정리할 거임\n",
    "\n",
    "`-` SAS 와 R을 활용한 선형 회귀분석 참고"
   ]
  },
  {
   "cell_type": "markdown",
   "id": "close-rocket",
   "metadata": {},
   "source": [
    "# 1장 - 회귀 분석의 개념 "
   ]
  },
  {
   "cell_type": "markdown",
   "id": "through-genetics",
   "metadata": {},
   "source": [
    "## 상관 분석(correlation analysis)\n",
    "`-` 변수들이 얼마만큼의 선형적인 관계가 있는지 분석\n",
    "\n",
    "`-` 종속변수와 독립변수 고려 X\n",
    "\n",
    "`-` 측정은 상관계수"
   ]
  },
  {
   "cell_type": "markdown",
   "id": "floating-shame",
   "metadata": {},
   "source": [
    "## 회귀 분석(regression analysis)\n",
    "`-` 서로 `인과관계`가 있는 두 변수들 간의 관계식을 분석\n",
    "\n",
    "`-` 독립변수와 종속변수 고려 O"
   ]
  },
  {
   "cell_type": "markdown",
   "id": "fifth-honduras",
   "metadata": {},
   "source": [
    "## 변수 형태\n",
    "`1.` 연속형(continuous)변수 ---> 키, 몸무게, 수입 등\n",
    "\n",
    "`2.` 이산형(discrete)변수 ---> 사고 횟수 등\n",
    "\n",
    "`3.` 범주형(classified)변수 ---> 성별, 교육 수준 등"
   ]
  },
  {
   "cell_type": "markdown",
   "id": "eight-sewing",
   "metadata": {},
   "source": [
    "## 통계적 모형의 종류\n",
    "`1.` 단순 선형회귀 $y=a+bx+\\epsilon$\n",
    "\n",
    "`2.` 다중 선형회귀 $y=a+b_1x_1+b_2x_2+\\cdots+b_kx_k+\\epsilon$\n",
    "\n",
    "`3.` 다항 회귀 $y=a+b_1x+b_2x^2+\\cdots+b_nx^k+\\epsilon$\n",
    "\n",
    "`4.` 비선형 회귀 $y=\\frac{c}{a-b}(e^{-ax_1}+e^{-bx_2}-e^{-cx_3})+\\epsilon$\n",
    "\n",
    "`5.` 일반화 선형모형 ---> 로지스틱 y: 이항변수, 포아송 회귀 y: 계수변수\n",
    "\n",
    "`-` 참고 $y=e^{a+bx}$ : 비선형 $\\to$ $ln(y) = a+bx$ : 선형"
   ]
  },
  {
   "cell_type": "markdown",
   "id": "controlling-craft",
   "metadata": {},
   "source": [
    "## 회귀 분석의 절차\n",
    "`1.` 연구목적 ---> 설명변수 선택\n",
    "\n",
    "`2.` 산점도 ---> 다중공선성, 이상점, 영향점 파악\n",
    "\n",
    "`3.` 회귀모형 추정 ---> 회귀계수 추정\n",
    "\n",
    "`-` 이분산 ---> 가중회귀, 다중공선성 ---> Ridge Regression\n",
    "\n",
    "`4.` 유의한 변수 선택 ---> 회귀 계수 t검정, 변수 선택방법 이용, 수정 결정계수\n",
    "\n",
    "`5.` 다중공선성 진단 ---> 산점도, VIF, 문제 변수 제거, 주성분 회귀 이용\n",
    "\n",
    "`6.` 영향점 진단 ---> RSTUDENT, LEVERAGE, DFFITS, COVARTIO, 이상점 제거, 다중회귀에선 영향점도 제거\n",
    "\n",
    "`7.` 잔차 분석 ---> `잔차와 예측치`의 산점도, 잔차의 정규성 검정\n",
    "\n",
    "`-` 정규성 가정 이탈: 종속변수를 변환, 등분산 가정 이탈: 가중회귀 방법\n",
    "\n",
    "`8.` 최종 회귀모형 ---> 추정된 모형 해석, 표준화 회귀계수에 의해 각 설명변수의 영향력 비교"
   ]
  },
  {
   "cell_type": "code",
   "execution_count": null,
   "id": "collected-polymer",
   "metadata": {},
   "outputs": [],
   "source": []
  }
 ],
 "metadata": {
  "kernelspec": {
   "display_name": "Python 3",
   "language": "python",
   "name": "python3"
  },
  "language_info": {
   "codemirror_mode": {
    "name": "ipython",
    "version": 3
   },
   "file_extension": ".py",
   "mimetype": "text/x-python",
   "name": "python",
   "nbconvert_exporter": "python",
   "pygments_lexer": "ipython3",
   "version": "3.8.8"
  }
 },
 "nbformat": 4,
 "nbformat_minor": 5
}
