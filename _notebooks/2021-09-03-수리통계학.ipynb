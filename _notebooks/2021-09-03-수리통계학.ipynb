{
 "cells": [
  {
   "cell_type": "markdown",
   "id": "hungarian-feeding",
   "metadata": {},
   "source": [
    "# 수리통계학\n",
    "\n",
    "> \"작성 중\"\n",
    "\n",
    "- toc: true\n",
    "- branch: master\n",
    "- badges: true\n",
    "- comments: true\n",
    "- author: 한재수\n",
    "- categories: [statistics]"
   ]
  },
  {
   "cell_type": "markdown",
   "id": "utility-madonna",
   "metadata": {},
   "source": [
    "`-` 2학기 수업에서 배우는 수리통계학에 대해 정리할 것임\n",
    "\n",
    "`-` 중요한 내용은 따로 정리하여 다른 주피터 노트북 파일로 만들 수 도 있음"
   ]
  },
  {
   "cell_type": "markdown",
   "id": "suited-little",
   "metadata": {},
   "source": [
    "# 1장 - 확률이론\n",
    "`-` 확률모형 ---> 동전 던지기와 같이 가능성(chance)에 의존"
   ]
  },
  {
   "cell_type": "markdown",
   "id": "recognized-envelope",
   "metadata": {},
   "source": [
    "## 표본공간과 사건 "
   ]
  },
  {
   "cell_type": "markdown",
   "id": "micro-forestry",
   "metadata": {},
   "source": [
    "`-` `표본공간(sample space)` : `모든 관찰 가능한 결과`들의 집합 ---> $S$ 또는 $\\Omega$\n",
    "\n",
    "`-` `사건(event)` : `표본공간의 일부분`(부분집합) ---> $A, B$ 등 영어 알파벳 대문자\n",
    "\n",
    "`-` `실험(experiment)` 또는 `시행 (trial)` : 어떤 현상의 관찰결과를 얻기위한 `과정`"
   ]
  },
  {
   "cell_type": "markdown",
   "id": "southern-welding",
   "metadata": {},
   "source": [
    "- 예시"
   ]
  },
  {
   "cell_type": "markdown",
   "id": "wanted-virtue",
   "metadata": {},
   "source": [
    "`-` 동전의 앞면을 H, 뒷면을 T라 할 때 동전을 2회 던지는 실험을 시행하자"
   ]
  },
  {
   "cell_type": "markdown",
   "id": "unlimited-grocery",
   "metadata": {},
   "source": [
    "`-` 표본공간 $S = \\{HH, HT, TH, TT\\}$\n",
    "\n",
    "`-` 1회 앞면이 나오는 사건 $A = \\{HT, TH\\}$ \n",
    "\n",
    "`-` 2회 뒷면이 나오는 사건 $B = \\{TT\\}$"
   ]
  },
  {
   "cell_type": "markdown",
   "id": "happy-check",
   "metadata": {},
   "source": [
    "- 정의"
   ]
  },
  {
   "cell_type": "markdown",
   "id": "aquatic-welsh",
   "metadata": {},
   "source": [
    "`-` 사건 $A$와 $B$가 동시에 속하는 사건 ---> $A$와 $B$의 `공통부분(intersection)` ---> $A \\cap B$\n",
    "\n",
    "`-` 사건 $A$ 또는 $B$에 속하는 사건 ---> $A$와 $B$의 `합(union)` ---> $A \\cup B$\n",
    "\n",
    "`-` $A \\cap B$ = $\\phi$ ---> 두 사건 $A$와 $B$는 `상호배반(mutually exclusive)`\n",
    "\n",
    "`-` 사건 $A$에 포함되지 않은 모든 $S$의 원소의 집합 ---> $A$의 `여사건(complement)` ---> $A^c$"
   ]
  },
  {
   "cell_type": "markdown",
   "id": "excellent-studio",
   "metadata": {},
   "source": [
    "- 사건에 대한 분배법칙과 드 모르간 법칙\n",
    "\n",
    "`-` $(A \\cup B)^c = A^c \\cap B^c$ ---> 드 모르간(De Morgan) 법칙\n",
    "\n",
    "`-` $(A \\cap B)^c = A^c \\cup B^c$ ---> 드 모르간 법칙\n",
    "\n",
    "`-` $A \\cup (B \\cap C) = (A \\cup B) \\cap (A \\cup C)$ ---> 분배법칙\n",
    "\n",
    "`-` $A \\cap (B \\cup C) = (A \\cap B) \\cup (A \\cap C)$ ---> 분배법칙"
   ]
  },
  {
   "cell_type": "markdown",
   "id": "streaming-mediterranean",
   "metadata": {},
   "source": [
    "## 확률의 정의 "
   ]
  },
  {
   "cell_type": "markdown",
   "id": "gothic-virtue",
   "metadata": {},
   "source": [
    "- 고전적 정의 "
   ]
  },
  {
   "cell_type": "markdown",
   "id": "smaller-hometown",
   "metadata": {},
   "source": [
    "`-` 표본공간이 `유한 개`($N$)의 결과로 구성되고 모든 가능한 실험결과들이 일어날 가능성이 `동일한`경우 $M$개의 실험결과로 이루어진 사건 $A$의 확률 $P(A) = \\frac{M}{N}$"
   ]
  },
  {
   "cell_type": "markdown",
   "id": "cubic-alloy",
   "metadata": {},
   "source": [
    "- 상대도수의 극한\n",
    "\n",
    "`-` 실험을 독립적으로 n회 반복했을 때 사건 $A$의 발생횟수를 m이라 하면 실험이 무한히 반복되면 $P(A) = \\frac{m}{n}$"
   ]
  },
  {
   "cell_type": "markdown",
   "id": "lucky-franklin",
   "metadata": {},
   "source": [
    "### 확률공리\n",
    "\n",
    "`1.` 임의의 사건 $A$에 대해 $P(A) \\geq 0$\n",
    "\n",
    "`2.` $P(S)=1$\n",
    "\n",
    "`3.` 표본공간 $S$에 정의된 사건열 $A_1, A_2, \\cdots$가 있다고 할 때 모든 $i\\neq j$에 대하여 $A_i \\cap A_j = \\phi$이면 $P(\\bigcup\\limits_{i=1}^{\\infty} A_i) \n",
    "= P(A_1 \\cup A_2 \\cup A_3 \\cup \\cdots) = \\sum\\limits_{i=1}^{\\infty} P(A_i)$\n",
    "\n",
    "`-` 3번째 공리는 쉽게 말하자면 서로소인 두 사건 $A$와 $B$에 대해 $P(A) + P(B) = p(A\\cup B)$이다 + 집합열 이해 안되면 통계수학 책 참고하셈"
   ]
  },
  {
   "cell_type": "markdown",
   "id": "altered-blast",
   "metadata": {},
   "source": [
    "`-` `확률` ---> 표본공간의 부분집합의 모임(특별한 성질 만족)을 정의역으로 하면서 확률공리를 만족하는 함수\n",
    "\n",
    "`-` 아니 특별한 성질이 뭐임??? ---> 교수님 - (노트) 확률, 확률변수, 시계열, 정상성 파일에 나와있긴 한데......"
   ]
  },
  {
   "cell_type": "markdown",
   "id": "israeli-spelling",
   "metadata": {},
   "source": [
    "- 정리\n",
    "\n",
    "`-` 증명은 교재 참고"
   ]
  },
  {
   "cell_type": "markdown",
   "id": "olive-simon",
   "metadata": {},
   "source": [
    "`1.` $P(A^c) = 1- P(A)$\n",
    "\n",
    "`2.` $P(\\phi) = 0$\n",
    "\n",
    "`3.` $A\\subset B$이면 $P(A) \\leq P(B)$\n",
    "\n",
    "`4.` $P(A\\cup B)=P(A)+P(B)-P(A\\cap B)$"
   ]
  },
  {
   "cell_type": "markdown",
   "id": "surgical-powell",
   "metadata": {},
   "source": [
    "`-` 정리 4번 사건 3개 버전\n",
    "\n",
    "`-` $P(A \\cup B \\cup C) = P(A) + P(B) + P(C) - P(A\\cap B) - P(B \\cap C) - P(C \\cap A) + P(A \\cap B \\cap C)$ ---> 벤 다이어그램을 그려보면 간단히 알 수 있음"
   ]
  },
  {
   "cell_type": "code",
   "execution_count": null,
   "id": "hybrid-bibliography",
   "metadata": {},
   "outputs": [],
   "source": []
  }
 ],
 "metadata": {
  "kernelspec": {
   "display_name": "Python 3",
   "language": "python",
   "name": "python3"
  },
  "language_info": {
   "codemirror_mode": {
    "name": "ipython",
    "version": 3
   },
   "file_extension": ".py",
   "mimetype": "text/x-python",
   "name": "python",
   "nbconvert_exporter": "python",
   "pygments_lexer": "ipython3",
   "version": "3.8.8"
  }
 },
 "nbformat": 4,
 "nbformat_minor": 5
}
