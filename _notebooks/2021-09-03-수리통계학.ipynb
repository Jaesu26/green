{
 "cells": [
  {
   "cell_type": "markdown",
   "id": "latest-soundtrack",
   "metadata": {},
   "source": [
    "# 수리통계학\n",
    "\n",
    "> \"작성 중\"\n",
    "\n",
    "- toc: true\n",
    "- branch: master\n",
    "- badges: true\n",
    "- comments: true\n",
    "- author: 한재수\n",
    "- categories: [statistics]"
   ]
  },
  {
   "cell_type": "markdown",
   "id": "executed-sheep",
   "metadata": {},
   "source": [
    "`-` 수리통계학 내용 정리\n",
    "\n",
    "`-` 참고 : 수리통계학 제5판 송성주$\\cdot$전명식 지음"
   ]
  },
  {
   "cell_type": "markdown",
   "id": "motivated-consistency",
   "metadata": {
    "tags": []
   },
   "source": [
    "# 확률이론\n",
    "`-` 확률모형 ---> 동전 던지기와 같이 가능성(chance)에 의존"
   ]
  },
  {
   "cell_type": "markdown",
   "id": "statutory-syndrome",
   "metadata": {},
   "source": [
    "## 표본공간과 사건 "
   ]
  },
  {
   "cell_type": "markdown",
   "id": "injured-solution",
   "metadata": {},
   "source": [
    "`-` `표본공간(sample space)` : `모든 관찰 가능한 결과`들의 집합 ---> $S$ 또는 $\\Omega$\n",
    "\n",
    "`-` `사건(event)` : `표본공간의 일부분`(부분집합) ---> $A, B$ 등 영어 알파벳 대문자\n",
    "\n",
    "`-` `실험(experiment)` 또는 `시행 (trial)` : 어떤 현상의 관찰결과를 얻기위한 `과정`"
   ]
  },
  {
   "cell_type": "markdown",
   "id": "whole-gilbert",
   "metadata": {},
   "source": [
    "- 예시"
   ]
  },
  {
   "cell_type": "markdown",
   "id": "broadband-millennium",
   "metadata": {},
   "source": [
    "`-` 동전의 앞면을 H, 뒷면을 T라 할 때 동전을 2회 던지는 실험을 시행하자"
   ]
  },
  {
   "cell_type": "markdown",
   "id": "thermal-tunnel",
   "metadata": {},
   "source": [
    "`-` 표본공간 $S = \\{HH, HT, TH, TT\\}$\n",
    "\n",
    "`-` $S$의 원소는 $HH, HT, TH, TT$이다\n",
    "\n",
    "`-` 1회 앞면이 나오는 사건 $A = \\{HT, TH\\}$ \n",
    "\n",
    "`-` 2회 뒷면이 나오는 사건 $B = \\{TT\\}$\n",
    "\n",
    "`-` 참고로 집합을 나타나낼 땐 $\\{ \\}$를 사용한다\n",
    "\n",
    "`-` ex) $HT$: $S$의 원소(집합X), $\\{HT\\}$ : $S$의 부분집합(집합O)\n",
    "\n",
    "`-` 또한 $HT \\in S$, $\\{HT\\} \\subset S$"
   ]
  },
  {
   "cell_type": "markdown",
   "id": "pending-occasion",
   "metadata": {},
   "source": [
    "- 정의"
   ]
  },
  {
   "cell_type": "markdown",
   "id": "impressed-glasgow",
   "metadata": {},
   "source": [
    "`-` 사건 $A$와 $B$가 동시에 속하는 사건 ---> $A$와 $B$의 `공통부분(intersection)` ---> $A \\cap B$\n",
    "\n",
    "`-` 사건 $A$ 또는 $B$에 속하는 사건 ---> $A$와 $B$의 `합(union)` ---> $A \\cup B$\n",
    "\n",
    "`-` $A \\cap B$ = $\\phi$ ---> 두 사건 $A$와 $B$는 `상호배반(mutually exclusive)`\n",
    "\n",
    "`-` 사건 $A$에 포함되지 않은 모든 $S$의 원소의 집합 ---> $A$의 `여사건(complement)` ---> $A^c$"
   ]
  },
  {
   "cell_type": "markdown",
   "id": "vietnamese-province",
   "metadata": {},
   "source": [
    "- 사건에 대한 분배법칙과 드 모르간 법칙\n",
    "\n",
    "`-` $(A \\cup B)^c = A^c \\cap B^c$ ---> 드 모르간(De Morgan) 법칙\n",
    "\n",
    "`-` $(A \\cap B)^c = A^c \\cup B^c$ ---> 드 모르간 법칙\n",
    "\n",
    "`-` $A \\cup (B \\cap C) = (A \\cup B) \\cap (A \\cup C)$ ---> 분배법칙\n",
    "\n",
    "`-` $A \\cap (B \\cup C) = (A \\cap B) \\cup (A \\cap C)$ ---> 분배법칙"
   ]
  },
  {
   "cell_type": "markdown",
   "id": "illegal-modeling",
   "metadata": {},
   "source": [
    "## 확률의 정의 \n",
    "\n",
    "`-` 확률은 함수임"
   ]
  },
  {
   "cell_type": "markdown",
   "id": "textile-blogger",
   "metadata": {},
   "source": [
    "- 고전적 정의 "
   ]
  },
  {
   "cell_type": "markdown",
   "id": "valid-frederick",
   "metadata": {},
   "source": [
    "`-` 표본공간이 `유한 개`($N$)의 결과로 구성되고 모든 가능한 실험결과들이 일어날 가능성이 `동일한`경우 $M$개의 실험결과로 이루어진 사건 $A$의 확률 $P(A) = \\dfrac{M}{N}$"
   ]
  },
  {
   "cell_type": "markdown",
   "id": "satellite-daughter",
   "metadata": {},
   "source": [
    "- 상대도수의 극한\n",
    "\n",
    "`-` 실험을 독립적으로 n회 반복했을 때 사건 $A$의 발생횟수를 m이라 하면 실험이 무한히 반복되면 $P(A) = \\dfrac{m}{n}$"
   ]
  },
  {
   "cell_type": "markdown",
   "id": "cooked-silence",
   "metadata": {},
   "source": [
    "### 확률 공리\n",
    "\n",
    "`1.` 임의의 사건 $A$에 대해 $P(A) \\geq 0$\n",
    "\n",
    "`2.` $P(S)=1$\n",
    "\n",
    "`3.` 표본공간 $S$에 정의된 사건열 $A_1, A_2, \\cdots$가 있다고 할 때 모든 $i\\neq j$에 대하여 $A_i \\cap A_j = \\phi$이면 $P\\bigg(\\bigcup\\limits_{i=1}^{\\infty} A_i\\bigg) \n",
    "= P(A_1 \\cup A_2 \\cup A_3 \\cup \\cdots) = \\sum\\limits_{i=1}^{\\infty} P(A_i)$\n",
    "\n",
    "`-` 3번째 공리는 쉽게 말하자면 서로소인 두 사건 $A$와 $B$에 대해 $P(A) + P(B) = p(A\\cup B)$이다 + 집합열 이해 안되면 통계수학 책 참고하셈"
   ]
  },
  {
   "cell_type": "markdown",
   "id": "terminal-galaxy",
   "metadata": {},
   "source": [
    "`-` `확률` ---> 표본공간의 부분집합의 모임(특별한 성질 만족)을 정의역으로 하면서 확률공리를 만족하는 함수"
   ]
  },
  {
   "cell_type": "markdown",
   "id": "signal-tuesday",
   "metadata": {},
   "source": [
    "- 정리\n",
    "\n",
    "`-` 증명은 교재 참고"
   ]
  },
  {
   "cell_type": "markdown",
   "id": "proper-subscription",
   "metadata": {},
   "source": [
    "`1.` $P(A^c) = 1- P(A)$\n",
    "\n",
    "`2.` $P(\\phi) = 0$\n",
    "\n",
    "`3.` $A\\subset B$이면 $P(A) \\leq P(B)$\n",
    "\n",
    "`4.` $P(A\\cup B)=P(A)+P(B)-P(A\\cap B)$"
   ]
  },
  {
   "cell_type": "markdown",
   "id": "advanced-thong",
   "metadata": {},
   "source": [
    "`-` 정리 4번 사건 3개 버전\n",
    "\n",
    "`-` $P(A \\cup B \\cup C) = P(A) + P(B) + P(C) - P(A\\cap B) - P(B \\cap C) - P(C \\cap A) + P(A \\cap B \\cap C)$ ---> 벤 다이어그램을 그려보면 간단히 알 수 있음"
   ]
  },
  {
   "cell_type": "markdown",
   "id": "falling-failure",
   "metadata": {},
   "source": [
    "## 조건부 확률"
   ]
  },
  {
   "cell_type": "markdown",
   "id": "collective-microphone",
   "metadata": {},
   "source": [
    "`-` 사건$A$와 $B$가 표본공간 $S$상에 정의되어 있으며 $P(B) > $일 때 $B$가 일어났다는 가정하에 사건 $A$가 일어날 조건부 확률은$P(A \\mid B) = \\cfrac{P(A\\cap B)}{P(B)}$로 정의됨\n",
    "\n",
    "`-` 조건부 확률도 확률 공리를 만족함"
   ]
  },
  {
   "cell_type": "markdown",
   "id": "simple-inquiry",
   "metadata": {},
   "source": [
    "### 전확률 공식(total probability) \n",
    "\n",
    "`-` 사건 $B_1, B_2,\\cdots,B_k$ 는 상호배반이며 $(B_1\\cap B_j = \\phi,\\;i \\neq j),\\;\\bigcup\\limits_{i=1}^{k}B_{i}=S$라고 하자\n",
    "\n",
    "`-` 이때 임의의 사건 $A$에 대하여 $P(A) = \\sum\\limits_{i=1}^{k}P(B_i)P(A\\mid B_i)$가 성립함\n",
    "\n",
    "`-` $P(A) = P(A\\cap S) = P\\bigg[A\\cap\\bigg(\\bigcup\\limits_{i=1}^{k}B_i\\bigg)\\bigg] = \\sum\\limits_{i=1}^{k}P(A\\cap B_i)=\\sum\\limits_{i=1}^{k}P(B_i)P(A\\mid B_i)$"
   ]
  },
  {
   "cell_type": "markdown",
   "id": "modular-anchor",
   "metadata": {},
   "source": [
    "### 베이즈 정리(Bayes' theorem)\n",
    "\n",
    "`-` 사건 $B_1, B_2,\\cdots,B_k$ 는 상호배반이며 $(B_1\\cap B_j = \\phi,\\;i \\neq j),\\;\\bigcup\\limits_{i=1}^{k}B_{i}=S$라고 하자\n",
    "\n",
    "`-` 이때 사건 $A$가 일어났다는 조건하에서 사건 $B_j$가 일어날 확률은 $P(B_j\\mid A)=\\cfrac{P(B_j)P(A\\mid B_j)}{\\sum\\limits_{i=1}^{k}P(B_i)P(A\\mid B_i)}$\n",
    "\n",
    "`-` $P(B_j\\mid A)=\\cfrac{P(A\\cap B_j)}{P(A)}=\\cfrac{P(B_j)P(A\\mid B_j)}{P(A)}=\\cfrac{P(B_j)P(A\\mid B_j)}{\\sum\\limits_{i=1}^{k}P(B_i)P(A\\mid B_i)}$ \n",
    "\n",
    "`-` $P(B_1),\\cdots,P(B_k)$는 $B$의 사전확률(prior probability)\n",
    "\n",
    "`-` 사건 $A$가 일어났다는 정보가 추가됨 ---> $P(B_1 \\mid A),\\cdots,P(B_k\\mid A)$는 $B$의 사후확률(posteriori probability)"
   ]
  },
  {
   "cell_type": "markdown",
   "id": "taken-extent",
   "metadata": {},
   "source": [
    "### 사건의 독립 \n",
    "\n",
    "`-` 두 사건 $A$와 $B$가 $P(A\\cap B) = P(A) \\cdot P(B)$를 만족시키면 서로 `독립(independent)`이다"
   ]
  },
  {
   "cell_type": "markdown",
   "id": "failing-hungarian",
   "metadata": {},
   "source": [
    "## 경우의 수 "
   ]
  },
  {
   "cell_type": "markdown",
   "id": "frozen-leader",
   "metadata": {},
   "source": [
    "### 순열(permutation) \n",
    "\n",
    "`-` 서로 다른 n개의 원소 중에서 r개를 선택하여 `순서 있게` 놓는 것(${_n\\rm P_r}$)"
   ]
  },
  {
   "cell_type": "markdown",
   "id": "irish-carnival",
   "metadata": {},
   "source": [
    "### 조합 \n",
    "\n",
    "`-` 서로 다른 n개의 원소 중에서 `순서에 관계없이` r개를 선택하는 것($_n\\rm C_r$)"
   ]
  },
  {
   "cell_type": "markdown",
   "id": "educated-reasoning",
   "metadata": {},
   "source": [
    "### 이항정리"
   ]
  },
  {
   "cell_type": "markdown",
   "id": "wrong-mount",
   "metadata": {},
   "source": [
    "`-` $(a+b)^n = \\sum\\limits_{k=0}^{n}\\dbinom{n}{k}a^{k} b^{n-k}$"
   ]
  },
  {
   "cell_type": "markdown",
   "id": "authorized-purple",
   "metadata": {},
   "source": [
    "### 같은 것이 있는 순열 "
   ]
  },
  {
   "cell_type": "markdown",
   "id": "civil-scheme",
   "metadata": {},
   "source": [
    "`-` $\\dbinom{n}{\\;r_1\\; r_2\\;\\cdots\\;r_k\\;} = \\cfrac{n!}{r_1!\\; r_2!\\; \\cdots\\; r_k!}$"
   ]
  },
  {
   "cell_type": "markdown",
   "id": "concrete-script",
   "metadata": {},
   "source": [
    "### 다항정리 "
   ]
  },
  {
   "cell_type": "markdown",
   "id": "qualified-schedule",
   "metadata": {},
   "source": [
    "`-` $(a_1+a_2+\\cdots+a_k)^n=\\sum\\limits_{r_1,\\cdots,r_k\\in\\mathbb N}^{r_1+\\cdots+r_k=n}\\dbinom{n}{\\;r_1\\; r_2\\;\\cdots\\;r_k\\;}\\,a_1^{r_1}\\,a_2^{r_2}\\cdots a_k^{r_k}$"
   ]
  },
  {
   "cell_type": "markdown",
   "id": "aging-basics",
   "metadata": {},
   "source": [
    "# 확률변수 "
   ]
  },
  {
   "cell_type": "markdown",
   "id": "latin-summit",
   "metadata": {},
   "source": [
    "`-` `확률변수(random variable)` : 실험결과를 표현하는 수치적인 양\n",
    "    \n",
    "`-` 확률변수의 값은 실험결과에 따라 정해지므로 비결정적(non-deterministic)\n",
    "\n",
    "`-` `확률분포(probability distribution)` : 확률변수의 값들이 나올 가능성"
   ]
  },
  {
   "cell_type": "markdown",
   "id": "interested-approval",
   "metadata": {},
   "source": [
    "## 확률변수의 정의 "
   ]
  },
  {
   "cell_type": "markdown",
   "id": "southern-harvest",
   "metadata": {},
   "source": [
    "`-` `확률변수` : 표본공간 $\\Omega$에 정의된 실수값을 가지는 함수(real-valued function) $\\to$ $X:\\Omega\\to\\mathbb{R}$\n",
    "\n",
    "`-` 예컨대 $X(\\omega)=x$, 참고로 $x$를 realization(실현)이라고 한다\n",
    "\n",
    "`-` 이산형(discrete) - 가질 수 있는 값이 유한개 (finite) 또는 셀 수 있는 무한개(countably infinite)인 확률변수\n",
    "\n",
    "`-` 연속형(continuous) - 가질 수 있는 값의 범위가 실직선상의 어떤 구간인 확률변수\n",
    "\n",
    "`-` 혼합형 - ex) $\\{1, 2, (5, 10)\\}$"
   ]
  },
  {
   "cell_type": "markdown",
   "id": "bdda39ca-f528-4ba2-9c20-9a475bac970e",
   "metadata": {},
   "source": [
    "## 확률공간(probability space)\n",
    "\n",
    "`-` 확률 공간($\\Omega,\\mathcal{F}, \\Pr)$ 은 전체 측도가 $1$인 [측도 공간](https://ko.wikipedia.org/wiki/%EC%B8%A1%EB%8F%84)이다\n",
    "\n",
    "`-` 측도는 집합에 크기를 부여하기 위해 만든 개념으로 가산집합에 실수로 가는 함수를 부여한 것\n",
    "\n",
    "`-` 확률적인 현상에서 확률공간의 측도는 확률을 정의한다\n",
    "\n",
    "`-` 확률공간이 같다는건 $\\Omega$가 동일하고 (주사위 던지기 $\\Omega=\\{1,2,3,4,5,6\\}$)\n",
    "\n",
    "`-` $\\mathcal{F}$가 동일하고(예컨대 짝수, 홀수에만 관심이 있어서 $\\mathcal{F}=\\{\\phi,\\{1,3,5\\},\\{2,4,6\\},\\Omega\\}$)\n",
    "\n",
    "`-` $Pr$이 동일하다는 것(예컨대 짝수, 홀수가 나올 가능성이 다른 주사위라 확률측도가 다음과 같다)\n",
    "\n",
    "$$\\begin{aligned}\\Pr(\\phi)&=0.0\\\\ \\Pr(\\{1,3,5\\})&=0.4\\\\ \\Pr(\\{2,4,6\\})&=0.6\\\\ \\Pr(\\Omega)&=1.0\\end{aligned}$$\n",
    "\n",
    "`-` 참고 : https://ko.wikipedia.org/wiki/%ED%99%95%EB%A5%A0_%EA%B3%B5%EA%B0%84"
   ]
  },
  {
   "cell_type": "markdown",
   "id": "c4f94df5-2b18-4f03-aa34-7da0a948884c",
   "metadata": {},
   "source": [
    "### 표본공간"
   ]
  },
  {
   "cell_type": "markdown",
   "id": "dadd8b8e-321d-4670-85c8-35dcb8d87122",
   "metadata": {},
   "source": [
    "`-` 확률실험에서 발생할 수 있는 모든 결과들의 집합을 `표본공간(Sample Space)` 이라고 한다\n",
    "\n",
    "`-` 표본공간은 $S$ 또는 $\\Omega$ 기호로 나타낸다\n",
    "\n",
    "`-` $\\Omega=\\{\\omega_1,\\omega_2,\\cdots,\\omega_n\\}$는 가능한 모든 결과를 포함하고 각 원소끼리는 배반이다\n",
    "\n",
    "`-` 예컨대 동전던지기 실험에서 표본공간은 다음과 같이 나타낼 수 있음 ---> $\\Omega=\\{H,T\\}$\n",
    "\n",
    "`-` 참고 : https://en.wikipedia.org/wiki/Sample_space"
   ]
  },
  {
   "cell_type": "markdown",
   "id": "fc8703a3-2cc0-489e-920f-3b5de2eebac7",
   "metadata": {},
   "source": [
    "### 사건공간\n",
    "\n",
    "`-` 표본공간 $\\Omega$의 $\\sigma$-field를 `사건공간(event space)` 이라 한다\n",
    "\n",
    "`-` 사건공간의 원소를 사건이라고 한다\n",
    "\n",
    "`-` 사건 : 표본공간의 부분집합\n",
    "\n",
    "`-` 사건공간($\\mathcal{F}$) : 사건의 집합 $\\Longleftrightarrow$ 표본공간의 $\\sigma$-field\n",
    "\n",
    "`-` 동전던지기의 경우 사건은 $\\phi,\\{H\\},\\{T\\},\\Omega$이므로 사건공간 중 하나를 다음과 같이 나타낼 수 있음\n",
    "\n",
    "`-` $\\mathcal{F}=\\{\\phi,\\{H\\},\\{T\\},\\Omega\\}$ ---> $\\mathcal{F}$의 원소 하나하나가 사건에 해당함\n",
    "\n",
    "`-` 사건공간 중 하나라고 표현한건 $\\sigma$-field 정의에 의해 사건공간은 여러개가 될 수 있기 때문\n",
    "\n",
    "`-` 예컨대 주사위 던지기의 경우에서 주사위의 특정값이 아닌 단지 짝인지 홀인지에만 관심이 있으면 $\\mathcal{F}=\\{\\phi,\\{1,3,5\\},\\{2,4,6\\},\\Omega\\}$로 설정해도 된다 \n",
    "\n",
    "`-` 참고 : https://en.wikipedia.org/wiki/%CE%A3-algebra"
   ]
  },
  {
   "cell_type": "markdown",
   "id": "bbbdc816-f420-4616-a3ce-543533715e21",
   "metadata": {
    "tags": []
   },
   "source": [
    "### 확률측도\n",
    "\n",
    "`-` 측도공간 $(\\Omega,\\mathcal{F})$에 대해서 어떤 `함수` $\\Pr:\\mathcal{F}\\to [0,1]$가 다음 세 조건(확률 공리)을 만족하면 $\\Pr$을 확률측도라고 한다\n",
    "\n",
    "`1.` $\\Pr(A)\\geq 0,\\quad \\forall A\\in\\mathcal{F}$\n",
    "\n",
    "`2.` $\\Pr(\\Omega)=1$\n",
    "\n",
    "`3.` Countable, pairwise disjoint set $\\{A_1,A_2,\\cdots\\mid A_i\\in \\mathcal{F}\\}$에 대하여 $\\Pr\\bigg(\\bigcap\\limits_{i=1}^{\\infty}A_i\\bigg)=\\sum\\limits_{i=1}^{\\infty}\\Pr(A_i)$\n",
    "\n",
    "`-` 예컨대 동전던지기의 사건공간이 $\\mathcal{F}=\\{\\phi,\\{H\\},\\{T\\},\\Omega\\}$ 라면 위의 조건을 만족하는 확률측도를 아래와 같이 만들 수 있다\n",
    "\n",
    "$$\\begin{aligned}\\Pr(\\phi)&=0.0\\\\ \\Pr(\\{H\\})&=0.5\\\\ \\Pr(\\{T\\})&=0.5\\\\ \\Pr(\\Omega)&=1.0\\end{aligned}$$\n",
    "\n",
    "`-` 위의 경우 함수 $\\Pr(A)$는 $\\cfrac{\\text{집합 $A$의 원소 개수}}{\\text{표본공간 $\\Omega$의 원소 개수}}$로 정의된다고 할 수 있다\n",
    "\n",
    "`-` 바로 위의 $\\Pr$정의에 따르면 동전 던지기나 주사위 굴리기 같은 것은 $\\Pr$이 동일하다\n",
    "\n",
    "`-` 그러나 확률측도는 위의 세 조건인 [Kolmogorov axioms](https://en.wikipedia.org/wiki/Probability_axioms)를 만족하기만 하면 되기에 확률측도는 하나가 아니다\n",
    "\n",
    "`-` 예컨대 아래와 같이 확률측도를 일반적이지 않게 만들 수 도 있다는 것\n",
    "\n",
    "$$\\begin{aligned}\\Pr(\\phi)&=0.0\\\\ \\Pr(\\{H\\})&=0.4\\\\ \\Pr(\\{T\\})&=0.6\\\\ \\Pr(\\Omega)&=1.0\\end{aligned}$$\n",
    "\n",
    "`-` 참고로 함수 $\\Pr$의 정의역은 $\\mathcal{F}$이고 치역은 $\\{s\\in R:0\\leq s \\leq 1\\}$이다\n",
    "\n",
    "`-` 참고 : https://gem763.github.io/probability%20theory/%ED%99%95%EB%A5%A0%EC%9D%98-%EC%9D%B4%ED%95%B4.html\n",
    "\n",
    "`-` 그런데 $\\Pr$이랑 $P$랑 다른거야? ---> https://stats.stackexchange.com/questions/108441/which-notation-and-why-textp-pr-textprob-or-mathbbp"
   ]
  },
  {
   "cell_type": "markdown",
   "id": "8df77f80-e329-40c4-9605-0c68fcd88a09",
   "metadata": {},
   "source": [
    "### 확률공간 추가 정리\n",
    "\n",
    "`-` 찾아볼수록 더 헷갈려서 추가로 정리함\n",
    "\n",
    "`-` 틀릴 수 있음"
   ]
  },
  {
   "cell_type": "markdown",
   "id": "edf8a312-fd1b-4d6c-b46f-e8e0e71b9573",
   "metadata": {},
   "source": [
    "`-` Q1 : 확률변수 $X_1$과 $X_2$가 동일한 확률공간에서 정의될 때 둘의 CDF는 다를 수 있는가?\n",
    "\n",
    "`-` 확률공간이 같은데 둘의 CDF가 다르다라......\n",
    "\n",
    "`-` 가능하다\n",
    "\n",
    "`-` $\\Omega = \\{T\\}$라고 하자\n",
    "\n",
    "`-` 즉 확률실험에서 발생할 수 있는 모든 결과가 $\\{T\\}$ 하나다 ---> 예컨대 앞면 뒷면 둘다 학이 그려진 동전을 던진다면 항상 학만 나올 것임\n",
    "\n",
    "`-` $\\mathcal{F}=\\{\\phi,\\Omega\\}$라고 하자\n",
    "\n",
    "`-` 그러면 $\\Pr(\\Omega)=1,\\;\\Pr(\\phi)=0$ ---> 확률공리를 만족시켜야 하니까\n",
    "\n",
    "`-` 이제 $X_1=0,X_2=2$라고 하자($X_1(T)=0,X_2(T)=2$와 동일함)\n",
    "\n",
    "`-` 확률변수 $X_1$과 $X_2$는 같은 확률공간에서 정의됐으며 둘의 차이점이라곤 $\\Omega$의 원소 $T$를 $0$으로 맵핑하냐 $2$로 맵핑하냐 뿐이다\n",
    "\n",
    "`-` 자 $X_1>1$일 확률과 $X_2>1$일 확률이 같은가? ---> 아니다 $\\Pr(X_1>1)=0,\\;\\Pr(X_2>1)=1$이다\n",
    "\n",
    "`-` 그러니 CDF는 다르다\n",
    "\n",
    "`-` $\\Pr(X_1>1)=0,\\;\\Pr(X_2>1)=1$을 보고 둘다 $X>1$일 확률인데 값이 다르니 $\\Pr$도 다르다고 하면 안된다 \n",
    "\n",
    "`-` $X_1>1 = \\phi$이고 $X_2>1=\\Omega$이다, $\\Pr(\\phi)$와 $\\Pr(\\Omega)$는 당연히 다르다\n",
    "\n",
    "`-` 하지만 $\\Pr$은 동일하다($\\Pr(\\phi)=0$, $\\Pr(\\Omega)=1$)"
   ]
  },
  {
   "cell_type": "markdown",
   "id": "ef3131a1-c190-4043-8636-edd1b26ce0ad",
   "metadata": {},
   "source": [
    "`-` 다른 예시도 있음\n",
    "\n",
    "`-` 주사위던지기를 생각하자\n",
    "\n",
    "`-` $\\Omega=\\{1,2,3,4,5,6\\}$ 이고 $\\mathcal{F}=\\{\\phi,\\{1\\},\\{2\\},\\{3\\},\\{4\\},\\{5\\},\\{6\\},\\Omega\\}$라 하자\n",
    "\n",
    "`-` 즉 주사위를 한번 던져서 나온 결과에만 관심이 있음\n",
    "\n",
    "`-` 그리고 $\\Pr(\\{\\omega\\})=\\dfrac{1}{6},\\,1\\leq \\omega \\leq 6$\n",
    "\n",
    "`-` 확률변수 $X(\\omega)=I(\\text{$\\omega$ is odd})$라 하고 $Y(\\omega)=\\omega$라고 하자\n",
    "\n",
    "`-` 즉 확률변수 $X$는 주사위를 던져서 나온값이 홀수이면 $1$로 맵핑하고 짝수이면 $0$으로 맵핑한다\n",
    "\n",
    "`-` 반면 확률변수 $Y$는 주사위를 던져서 나온값으로 맵핑한다(확률변수 $Y$는 항등함수)\n",
    "\n",
    "`-` 확률변수 $X$와 $Y$는 같은 확률공간을 가진다, 둘의 차이점이라곤 주사위를 던져서 나온값은 어떤 실수로 맵핑하냐 뿐이다\n",
    "\n",
    "`-` 하지만 둘의 cdf는 다르다\n",
    "\n",
    "$$F_X(x)=\\begin{cases}0,\\quad x<0 \\\\ \\frac{1}{2},\\quad 0 \\leq x <1 \\\\ 1,\\quad x\\geq 1\\end{cases}$$\n",
    "\n",
    "$$F_Y(y)=\\begin{cases}0,\\quad y<1 \\\\[5pt]  \\dfrac{1}{6},\\quad 1\\leq y <2 \\\\[7pt] \\dfrac{2}{6},\\quad 2\\leq y <3 \\\\[7pt]\n",
    "\\dfrac{3}{6},\\quad 3\\leq y <4 \\\\[7pt] \\dfrac{4}{6},\\quad 4\\leq y <5 \\\\[7pt] \\dfrac{5}{6},\\quad 5\\leq y <6 \\\\[5pt] 1,\\quad y\\geq 6\\end{cases}$$\n",
    "\n",
    "`-` 참고로 cdf뿐만 아니라 pdf도 다르다\n",
    "\n",
    "`-` 참고 : https://math.stackexchange.com/questions/2596665/x-and-y-are-defined-on-the-same-probability-space-omega-mathcalf-ma?rq=1"
   ]
  },
  {
   "cell_type": "markdown",
   "id": "c0a0ac3e-cb4f-4d54-8ca1-434471de7879",
   "metadata": {},
   "source": [
    "`-` Q2 : 확률변수 $X$가 임의의 확률분포를 따른다는건 무슨 의미일까?\n",
    "\n",
    "`-` 예컨대 $X\\sim B(10,0.5)$\n",
    "\n",
    "`-` 내 생각 : $X$의 pdf는 $B(10,0.5)$이다 \n",
    "\n",
    "`-` 또한 등호($=$)를 쓰지않고 $\\sim$을 쓰는건 확률변수는 시행마다 다른 값을 가질 수 있기 때문이다"
   ]
  },
  {
   "cell_type": "markdown",
   "id": "748c195a-1fa5-4dd6-af3a-0d6bc132ac96",
   "metadata": {},
   "source": [
    "## 확률(probability)\n",
    "\n",
    "`-` 확률공간 $(\\Omega, \\mathcal{F}, \\Pr)$과 특정사건 $A\\in \\mathcal{F}$에 대하여 $Pr(A)$을 사건 $A$의 확률이라고 한다 "
   ]
  },
  {
   "cell_type": "markdown",
   "id": "potential-latvia",
   "metadata": {},
   "source": [
    "## 확률밀도함수(pdf) 및 누적분포함수(cdf) "
   ]
  },
  {
   "cell_type": "markdown",
   "id": "unexpected-force",
   "metadata": {},
   "source": [
    "### 확률밀도함수(probability density function, pdf)"
   ]
  },
  {
   "cell_type": "markdown",
   "id": "f91cd62a-2017-4229-bf5e-2c1a96972da1",
   "metadata": {},
   "source": [
    "`-` 참고하면 좋은 것: https://en.wikipedia.org/wiki/Probability_density_function"
   ]
  },
  {
   "cell_type": "markdown",
   "id": "becoming-capitol",
   "metadata": {},
   "source": [
    "#### 이산형의 경우 pdf의 조건\n",
    "\n",
    "`1.` 모든 실수 $x$에 대하여 $f(x) \\geq 0$\n",
    "\n",
    "`2.` 확률변수 $X$가 가질 수 있는 값 $x_1,\\,x_2,\\,\\cdots$ 에 대하여 $f(x_i)>0$ 이며 $\\sum f(x_i)=1$\n",
    "\n",
    "`-` $f(x)$는 $P(X=x)=f(x)$ 를 만족하고 확률질량함수(probability mass function, pmf)라고도 함"
   ]
  },
  {
   "cell_type": "markdown",
   "id": "metric-dealing",
   "metadata": {},
   "source": [
    "#### 연속형의 경우 pdf의 조건\n",
    "\n",
    "`1.` 모든 실수 $x$에 대하여 $f(x) \\geq 0$\n",
    "\n",
    "`2.` $\\int^{\\infty}_{-\\infty}f(x)\\,dx = 1$\n",
    "\n",
    "`-` 연속형 확률변수는 가질 수 있는 값이 셀 수 없는 무한개이므로 가능한 값 하나하나에 확률을 부여하지 않음\n",
    "\n",
    "`-` 대신에 구간에 확률을 부여함\n",
    "\n",
    "`-` $P(X=x)=0$ 이고 $-\\infty < a < b < \\infty \\longrightarrow \\int_{a}^{b}f(x)\\,dx=P(a\\leq X \\leq b)$"
   ]
  },
  {
   "cell_type": "markdown",
   "id": "5d67fe0a-62af-43b2-a351-8827000cb4f7",
   "metadata": {},
   "source": [
    "- pdf 헷갈려서 정리\n",
    "\n",
    "`-` $X$를 전북대학생들의 맥박수를 실수로 맵핑하는 함수라고 하자\n",
    "\n",
    "`-` $\\Omega = \\{x:x\\in A\\}$, 여기서 $A$는 맥박수로 가능한 실수의 집합이라고 하자\n",
    "\n",
    "`-` 맥박수에서 평균을 뺀다든가 할 수 있지만 측정한 맥박수를 그 자체로 맵핑한다고 생각하자(별다른 처리를 하지 않음)\n",
    "\n",
    "`-` 그러면 $X$는 $X:A\\to A$인 항등함수이다\n",
    "\n",
    "`-` 맥박수의 분포가 평균이 $\\mu$, 분산이 $\\sigma^2$인 정규분포를 따른다고 가정하자\n",
    "\n",
    "`-` {% raw %}그러면 $f_X(x;\\mu,\\sigma^2) = \\dfrac{1}{\\sqrt{2\\pi\\sigma^{2}}}e^{-\\dfrac{(x-\\mu)^{2}}{2\\sigma^{2}}}$ 이다{% endraw %}\n",
    "\n",
    "`-` 그러면 전북대학생들의 맥박수를 측정하는 것 부터 이에 대한 분포(pdf)를 구하는 것 까지의 과정은 아래와 같다(내 생각)\n",
    "\n",
    "`-` input: $\\Omega$ (전북대학생들의 맥박수로 가질 수 있는 모든 값들의 집합), function: $X$ (항등함수), output: $A(=\\Omega)$\n",
    "\n",
    "`-` input: $A$, function: $f_X$ (pdf), output: {% raw %}$f(x;\\mu,\\sigma^2) = \\dfrac{1}{\\sqrt{2\\pi\\sigma^{2}}}e^{-\\dfrac{(x-\\mu)^{2}}{2\\sigma^{2}}}${% endraw %}\n",
    "\n",
    "`-` 참고로 $f_X$는 위의 pdf조건을 만족하기만 하면 되므로 무수히 많다(그런데 여기서는 정규분포로 가정한 것)\n",
    "\n",
    "`-` 이를 한번에 정리하면 아래와 같다(잘 알아두자)\n",
    "\n",
    "`-` {% raw %}$\\Omega \\xrightarrow{~~X~~} A \\xrightarrow{~~f_X~~} \\dfrac{1}{\\sqrt{2\\pi\\sigma^{2}}}e^{-\\dfrac{(x-\\mu)^{2}}{2\\sigma^{2}}}${% endraw %}"
   ]
  },
  {
   "cell_type": "markdown",
   "id": "0742bccd-e9e5-4fc2-b1de-a90245cbef5a",
   "metadata": {},
   "source": [
    "`-` 만약, $X$대신 $X+1$의 pdf를 구하면 $f_{X+1}(x;\\mu,\\sigma^2) = \\dfrac{1}{\\sqrt{2\\pi\\sigma^{2}}}e^{-\\dfrac{(x+1-\\mu)^{2}}{2\\sigma^{2}}}$ 이다\n",
    "\n",
    "`-` 여기서 $X$도 함수이고 $+1$도 함수인데 적용 순서는 아래와 같을 것이다\n",
    "\n",
    "`-` $\\Omega \\xrightarrow{~~X~~} A \\xrightarrow{~~+1~~} B$ (맥박수를 측정하고 항등함수를 취하고 여기에 1을 더한다)\n",
    "\n",
    "`-` 이제 궁금한 점(함수 적용 순서를 바꾸면 안되나?)\n",
    "\n",
    "`-` $\\Omega \\xrightarrow{~~+1~~} B \\xrightarrow{~~X~~} B$ (맥박수를 측정하고 1을 더하고 여기에 항등함수를 취한다)\n",
    "\n",
    "`-` $X$가 항등함수니까 결과가 똑같지 만약 제곱을 취하는 함수였다면 다른 결과가 나오게 된다"
   ]
  },
  {
   "cell_type": "markdown",
   "id": "59e3c584-0bb1-48d7-9e60-1c64b6a3ad83",
   "metadata": {},
   "source": [
    "`-` 안되는 이유(이건 진짜 내 생각): 만약 $\\Omega$의 원소가 수가 아니라면 연산이 불가능하다\n",
    "\n",
    "`-` 위의 예시처럼 real number 라면?: 먼저 적용하는 함수를 확률변수로 취급하자\n",
    "\n",
    "`-` $\\Omega \\xrightarrow{~~+1(=f)~~} B \\xrightarrow{~~X~~} B$는 아래와 같이 해석할 수 있음\n",
    "\n",
    "`-` $X$가 항등함수가 아니라 표본 공간에 각 원소에 $+1$을 한 값으로 맵핑하고 $f$가 항등함수인 것\n",
    "\n",
    "`-` 아무튼 확률변수 $X$를 먼저 적용하고 후에 다른 함수를 적용한다\n",
    "\n",
    "- 간략하게 다시 정리\n",
    "\n",
    "`-` 확률변수 $X$에 임의의 연산을 하는 함수 $f$를 생각하자\n",
    "\n",
    "`-` 그러면 $f(X)$도 당연히 확률변수인데 이를 생각해보면 $f$는 $X$의 output에 적용한다\n",
    "\n",
    "`-` 애초에 확률변수 $X$에 연산을 하는 것이 아니라 표본공간에 연산을 한다고 생각할 수 도 있는데\n",
    "\n",
    "`-` 표본공간에 연산을 취해서 실수로 맵핑하는 함수가 확률변수임(사실 이건 좀 그렇고(+1이 확률변수는 아니니까...))\n",
    "\n",
    "`-` 그냥 표본공간에 +1 할 이유가 없음..."
   ]
  },
  {
   "cell_type": "markdown",
   "id": "excellent-deposit",
   "metadata": {},
   "source": [
    "### 누적분포함수(cumulative distribution function, cdf) "
   ]
  },
  {
   "cell_type": "markdown",
   "id": "greek-allen",
   "metadata": {},
   "source": [
    "`-` 누적분포함수 $F(x) = P(X \\leq x)$\n",
    "\n",
    "`-` $X\\sim f(x)$ : 확률변수 $X$가 확률밀도함수 $f(x)$를 가진다\n",
    "\n",
    "`-` $X\\sim F(x)$ : 확률변수 $X$가 누적분포함수 $F(x)$를 가진다\n",
    "\n",
    "`-` $P(a< X \\leq b) = F(b) - F(a)$\n",
    "\n",
    "`-` $f(x) = \\dfrac{d}{dx}F(x)$"
   ]
  },
  {
   "cell_type": "markdown",
   "id": "stable-exchange",
   "metadata": {},
   "source": [
    "#### 누적분포함수의 조건"
   ]
  },
  {
   "cell_type": "markdown",
   "id": "final-private",
   "metadata": {},
   "source": [
    "`1.` $\\lim\\limits_{x\\to-\\infty}F(x)=0$\n",
    "\n",
    "`2.` $\\lim\\limits_{x\\to\\infty}F(x)=1$\n",
    "\n",
    "`3.` $\\lim\\limits_{h\\to0+}F(x+h)=F(x) \\longrightarrow$ 우연속 함수\n",
    "\n",
    "`4.` $a<b$ 이면 $F(a) \\leq F(b)$"
   ]
  },
  {
   "cell_type": "markdown",
   "id": "actual-prague",
   "metadata": {},
   "source": [
    "## 결합 및 조건부 확률분포"
   ]
  },
  {
   "cell_type": "markdown",
   "id": "plastic-omega",
   "metadata": {},
   "source": [
    "### 결합 확률분포"
   ]
  },
  {
   "cell_type": "markdown",
   "id": "verified-concord",
   "metadata": {},
   "source": [
    "`-` 여러 개의 확률변수들을 한번에 고려하는 경우에 사용 ---> ex) 아빠와 아들의 키를 함께 고려\n",
    "\n",
    "`-` `확률벡터` ---> $\\boldsymbol{X} = (X_1,\\,X_2,\\,\\cdots,\\,X_k)$"
   ]
  },
  {
   "cell_type": "markdown",
   "id": "involved-pennsylvania",
   "metadata": {},
   "source": [
    "`-` 두 확률변수 $X$와 $Y$의 결합 확률밀도함수 $f_{\\,X,\\,Y}(x,y)$\n",
    "\n",
    "`-` 이산형인 경우 :  $f_{\\,X,\\,Y}(x,y)=P(X=x,\\,Y=y)$\n",
    "\n",
    "`-` 연속형인 경우 : 임의의 영역 $A$에 대하여 $P[(X,\\,Y)\\in A]=\\iint_{\\,A}f_{\\,X,\\,Y}(x,y)\\,dxdy$ 를 만족하는 $f_{\\,X,\\,Y}(x,y)$\n",
    "\n",
    "`-` 통계수학 교재의 통계학에서의 적분과 미분적분학 교재의 적분 공부하기 "
   ]
  },
  {
   "cell_type": "markdown",
   "id": "studied-least",
   "metadata": {},
   "source": [
    "### 결합 누적분포함수"
   ]
  },
  {
   "cell_type": "markdown",
   "id": "stylish-falls",
   "metadata": {},
   "source": [
    "`-` 결합 누적분포함수 : $F(x_1,\\,x_2,\\,\\cdots,\\,x_k) = P(X_1\\leq x_1,\\,X_2\\leq x_2,\\,\\cdots,\\,X_k\\leq x_k)$\n",
    "\n",
    "`-` $f(x_1,\\,x_2,\\,\\cdots,\\,x_k) = \\cfrac{\\partial^k}{\\partial x_1\\cdots\\partial x_k}F(x_1,\\,x_2,\\,\\cdots,\\,x_k)$"
   ]
  },
  {
   "cell_type": "markdown",
   "id": "e4a7183c-cf9d-4b4f-a8d2-c48c6273c27f",
   "metadata": {},
   "source": [
    "### 주변 확률분포\n",
    "\n",
    "`-` 결합분포가 주어졌다고 하자 그런데 각 변수만의 분포가 필요할 수 있음\n",
    "\n",
    "`-` 결합 확률밀도함수 $f_{X,Y}(x,y)$가 주어졌을 때 $f_X(x),\\;f_Y(y)$를 주변 확률밀도함수라고 함\n",
    "\n",
    "`-` 주변 확률밀도함수 ---> marginal probability density function"
   ]
  },
  {
   "cell_type": "markdown",
   "id": "f436f90e-4d31-4a21-9e13-2a17fd00c240",
   "metadata": {},
   "source": [
    "- 이산형인 경우"
   ]
  },
  {
   "cell_type": "markdown",
   "id": "2f8ba784-66c2-4e35-9300-b39c2445afd9",
   "metadata": {},
   "source": [
    "$$f_X(x) = \\sum\\limits_{\\text{모든 $y$}}f_{X,Y}(x,y),\\quad f_Y(y) = \\sum\\limits_{\\text{모든 $x$}}f_{X,Y}(x,y)$$"
   ]
  },
  {
   "cell_type": "markdown",
   "id": "fe0962f9-5715-4f84-9640-ddf005cf1b18",
   "metadata": {},
   "source": [
    "- 연속형인 경우"
   ]
  },
  {
   "cell_type": "markdown",
   "id": "6f622565-4eb9-4f48-9f34-d770d61835f5",
   "metadata": {},
   "source": [
    "$$f_X(x) = \\int^{\\infty}_{-\\infty}f_{X,Y}(x,y)\\,dy,\\quad f_Y(y) = \\int^{\\infty}_{-\\infty}f_{X,Y}(x,y)\\,dx$$"
   ]
  },
  {
   "cell_type": "markdown",
   "id": "47cace99-1c03-4ce8-af09-2e3ee42d1cf2",
   "metadata": {},
   "source": [
    "`-` 여러개의 확률변수에 대해서도 확장 가능함"
   ]
  },
  {
   "cell_type": "markdown",
   "id": "f3925e01-c9b7-4b70-b8ca-32a248201f85",
   "metadata": {},
   "source": [
    "### 조건부 확률분포 "
   ]
  },
  {
   "cell_type": "markdown",
   "id": "de0737fc-edf1-4559-9479-ce698f3e9b29",
   "metadata": {},
   "source": [
    "`-` 조건부 확률의 확률변수 버전\n",
    "\n",
    "`-` 어떤 몇 개의 확률변수 값이 주어졌을 때 다른 확률변수들의 분포\n",
    "\n",
    "`-` $X=x$가 주어졌을 때 $Y\\mid X=x$의 조건부 확률밀도함수는 $f_{Y\\mid x}(y\\mid x)$ 이다\n",
    "\n",
    "`-` 편의상 $Y\\mid X = x \\Longleftrightarrow Y\\mid x$\n",
    "\n",
    "`-` 조건부 확률밀도함수 ---> conditional probability density function "
   ]
  },
  {
   "cell_type": "markdown",
   "id": "04f7bf78-ee7a-46bd-a174-63dd4ebf2981",
   "metadata": {},
   "source": [
    "$$f_{Y\\mid X=x}(y\\mid x)=\\cfrac{f_{X,Y}(x,y)}{f_X(x)}\\qquad\\text{단, } f_X(x)>0$$"
   ]
  },
  {
   "cell_type": "markdown",
   "id": "fd4ad995-e151-41c4-89d3-b8bf58219aed",
   "metadata": {},
   "source": [
    "`-` 그런데 $f(x\\mid \\theta)$와 $f(x;\\theta)$는 다른거야? ---> https://stats.stackexchange.com/questions/10234/meaning-of-probability-notations-pzd-w-and-pzd-w"
   ]
  },
  {
   "cell_type": "markdown",
   "id": "0dd88a27-ead8-41ee-8cfa-fa3904c58dec",
   "metadata": {},
   "source": [
    "### 독립확률변수 "
   ]
  },
  {
   "cell_type": "markdown",
   "id": "4d3dbe32-c14c-4402-be74-afba7cf54745",
   "metadata": {},
   "source": [
    "`-` 두 확률변수 $X$와 $Y$는 임의의 실구간 $A$와 $B$에 대하여\n",
    "$$ P(X\\in A,\\,Y\\in B)=P(X\\in A) \\cdot P(Y\\in B)$$\n",
    "가 성립할 때 서로 독립(independent)이라고 함"
   ]
  },
  {
   "cell_type": "markdown",
   "id": "7d636eeb-519f-44f7-8832-567e32d7b956",
   "metadata": {},
   "source": [
    "`-` 위의 정리를 확률밀도함수를 사용하여 나타내보자\n",
    "\n",
    "`-` 두 확률변수 $X$와 $Y$가 서로 독립일 필요충분조건은\n",
    "$$f_{X,Y}(x,y)=f_X(x)\\cdot f_Y(y)$$"
   ]
  },
  {
   "cell_type": "markdown",
   "id": "3d59b7ad-3f20-4ec5-85f9-5025e2e4d983",
   "metadata": {},
   "source": [
    "`-` 두 확률변수 $X$와 $Y$의 독립여부 파악하는 방법! \n",
    "\n",
    "`1.` 결합 확률밀도함수를 통해 $X$와 $Y$의 주변 확률밀도함수를 구한다\n",
    "\n",
    "`2.` 그리고 $f_{X,Y}(x,y)=f_X(x)\\cdot f_Y(y)$가 성립하는지 확인한다"
   ]
  },
  {
   "cell_type": "markdown",
   "id": "1863467c-785b-475b-8947-92a42813068f",
   "metadata": {},
   "source": [
    "> Tip: 쉬운방법은 $f_{X,Y}(x,y)$가 $X$만의 함수와 $Y$만의 함수로 인수분해 되는지 파악하는 것"
   ]
  },
  {
   "cell_type": "markdown",
   "id": "a453767a-e1e8-40ff-be82-17d3d05aebea",
   "metadata": {},
   "source": [
    "## 기댓값 "
   ]
  },
  {
   "cell_type": "markdown",
   "id": "bf6064f9-ddf4-4c0f-a5e1-8bef0fc892da",
   "metadata": {},
   "source": [
    "`-` 확률변수 $X$의 확률밀도함수가 $f(x)$일 때 $X$의 기댓값(expectation)은\n",
    "$$E(X)=\\begin{cases}\\sum\\limits_{\\text{모든 }x_i}x_{i}f(x_i)\\quad \\text{이산형인 경우} \\\\ \\int_{-\\infty}^{\\infty}xf(x)\\,dx\\quad \\text{연속형인 경우}\\end{cases}$$"
   ]
  },
  {
   "cell_type": "markdown",
   "id": "9bca8fef-a1c7-467b-8564-3f21e4851650",
   "metadata": {},
   "source": [
    "`-` 단 $E(|X|)<\\infty$"
   ]
  },
  {
   "cell_type": "markdown",
   "id": "d52c7a20-18a7-440b-a473-be131359f17c",
   "metadata": {},
   "source": [
    "`-` 확률변수 $X$의 기댓값이 아닌 $2X+3$이나 $X^2$ 같은 확률변수의 기댓값이 궁금할 수 있다"
   ]
  },
  {
   "cell_type": "markdown",
   "id": "7b4f1042-6c4b-4157-a011-c86e5e3e92e8",
   "metadata": {},
   "source": [
    "`-` $Y=g(X)$의 확률밀도함수를 $f_Y(y)$라고 하면\n",
    "$$E_X[g(X)]=E_Y(Y)=\\begin{cases}\\sum\\limits_{\\text{모든 }y_i}y_{i}f_{Y}(y_i)\\quad \\text{이산형인 경우} \\\\ \\int_{-\\infty}^{\\infty}yf_{Y}(y)\\,dy\\quad \\text{연속형인 경우}\\end{cases}$$"
   ]
  },
  {
   "cell_type": "markdown",
   "id": "52ab063d-4854-4556-8099-07e6f37874a9",
   "metadata": {},
   "source": [
    "`-` 만약 $X$의 확률밀도함수를 알고 있으면 $Y$의 확률밀도함수를 구할 필요가 없다"
   ]
  },
  {
   "cell_type": "markdown",
   "id": "70b99540-6ed2-4f83-8831-a648df16cf4d",
   "metadata": {},
   "source": [
    "$$E_X[g(X)]=E_Y(Y)=\\begin{cases}\\sum\\limits_{\\text{모든 }x_i}g(x_{i})f_{X}(x_i)\\quad \\text{이산형인 경우} \\\\ \\int_{-\\infty}^{\\infty}g(x)f_{X}(x)\\,dx\\quad \\text{연속형인 경우}\\end{cases}$$"
   ]
  },
  {
   "cell_type": "markdown",
   "id": "a211bbf1-9939-4081-a59a-92d6d75ba866",
   "metadata": {},
   "source": [
    "`-` $Y=g(X)$의 기댓값을 구하는 데는 위의 두 가지 방법이 가능함"
   ]
  },
  {
   "cell_type": "markdown",
   "id": "12b03a69-597e-4b2d-8c28-125e58cf6692",
   "metadata": {},
   "source": [
    "### 기댓값의 성질 "
   ]
  },
  {
   "cell_type": "markdown",
   "id": "c1416bbc-6eea-456e-9891-76fc32da5437",
   "metadata": {},
   "source": [
    "`-` $E(c)=c$\n",
    "\n",
    "`-` $E(aX+b)=aE(X)+b$"
   ]
  },
  {
   "cell_type": "markdown",
   "id": "2b865a54-11cf-4c00-aa90-7bdc174e55fe",
   "metadata": {},
   "source": [
    "`-` 두 확률변수 $X$와 $Y$가 서로 독립인 경우\n",
    "\n",
    "`-` $E(XY)=E(X)\\cdot E(Y)$\n",
    "\n",
    "`-` $E(g(X)h(Y)]=E[g(X)]\\cdot E[h(Y)]$"
   ]
  },
  {
   "cell_type": "markdown",
   "id": "5f054306-9fb5-435d-989a-1581dee974a3",
   "metadata": {},
   "source": [
    "### 분산과 공분산"
   ]
  },
  {
   "cell_type": "markdown",
   "id": "509d324a-f248-468d-8595-86c23c8497c7",
   "metadata": {},
   "source": [
    "$$Var(X)=E[X-E(X)]^2=E(X^2)-[E(X)]^2\\\\\n",
    "\\sigma_{X}=\\sqrt{Var(X)}$$"
   ]
  },
  {
   "cell_type": "markdown",
   "id": "8024743d-feb7-4ae0-a10f-fcd622e742e6",
   "metadata": {},
   "source": [
    "`-` 두 확률변수 $X,Y$의 공분산은 다음과 같다"
   ]
  },
  {
   "cell_type": "markdown",
   "id": "ada48308-6bda-448b-a473-a952d566e58a",
   "metadata": {},
   "source": [
    "$$\\begin{aligned}Cov(X,Y)&=E[(X-EX)(Y-EY)]\\\\\n",
    "&=E(XY)-E(X)E(Y)\\end{aligned}$$"
   ]
  },
  {
   "cell_type": "markdown",
   "id": "ca37473f-3f4f-4d42-9271-a1558ff5e38e",
   "metadata": {},
   "source": [
    "#### 분산의 성질 "
   ]
  },
  {
   "cell_type": "markdown",
   "id": "be6af967-c4c6-4925-9006-a15db4c99bfd",
   "metadata": {},
   "source": [
    "`1.` $Var(aX+b)=a^2Var(X)$\n",
    "\n",
    "`2.` 확률변수들이 서로 독립이면 $Var\\bigg(\\sum\\limits^{n}_{i=1}X_{i}\\bigg)=\\sum\\limits^{n}_{i=1}Var(X_i)$\n",
    "\n",
    "`3.` $Cov(X,X)=Var(X)$\n",
    "\n",
    "`4.` 두 확률변수가 서로 독립이면 $Cov(X,Y)=0$\n",
    "\n",
    "`5.` $Cov(aX+b,cY+d)=acCov(X,Y)$\n",
    "\n",
    "`6.` $Var\\bigg(\\sum\\limits^{n}_{i=1}X_{i}\\bigg)=\\sum\\limits^{n}_{i=1}Var(X_{i})+2\\mathop{\\sum\\sum}\\limits_{j<k}Cov(X_j,X_k)$"
   ]
  },
  {
   "cell_type": "markdown",
   "id": "22a58df9-547b-4750-8193-64be70db6a08",
   "metadata": {},
   "source": [
    "### 조건부 기댓값"
   ]
  },
  {
   "cell_type": "markdown",
   "id": "91145009-ff9a-48fe-ab85-5f055b1ee8b9",
   "metadata": {},
   "source": [
    "$$E(Y\\mid X=x)=E_Y(Y)=\\begin{cases}\\sum\\limits_{\\text{모든 }y_i}y_{i}f_{Y\\mid x}(y_i\\mid x)\\quad X,Y\\text{가 이산형인 경우} \\\\ \\int_{-\\infty}^{\\infty}yf_{Y\\mid x}(y\\mid x)\\,dy\\quad X,Y\\text{가 연속형인 경우}\\end{cases}$$"
   ]
  },
  {
   "cell_type": "markdown",
   "id": "b41e3eeb-7d99-4375-b477-98bf7f586a22",
   "metadata": {},
   "source": [
    "`-` (이중 기댓값 정리) 두 확률변수 $X,Y$에 대하여 $E[E(Y\\mid X)]=E(Y)$ 가 성립함"
   ]
  },
  {
   "cell_type": "markdown",
   "id": "65ab3e6a-a097-435a-bba5-f4f19718fd7b",
   "metadata": {},
   "source": [
    "`-` 확률변수 $X$와 $Y$가 독립이면 $E(Y\\mid x)=E(Y),\\;E(X\\mid y)=E(X) \\to$ 사건의 독립 확률변수 버전 "
   ]
  },
  {
   "cell_type": "markdown",
   "id": "2a855f82-44b2-435a-bce1-d4d605b896e1",
   "metadata": {},
   "source": [
    "`-` 조건부 분산 : $Var(Y\\mid x)=E[\\{Y-E(Y\\mid x)\\}^2\\mid x] = E(Y^2\\mid x)-[E(Y\\mid x)]^2$"
   ]
  },
  {
   "cell_type": "markdown",
   "id": "f57eb57d-e9b2-4658-a76a-064545bbf976",
   "metadata": {},
   "source": [
    "`-` 분산 분해 : $Var(Y) =  E[Var(Y\\mid X)]+Var[E(Y\\mid X)]$\n",
    "\n",
    "`-` 조건부 분산($E[Var(Y\\mid X)]$)이 무조건부 분산($Var(Y))$보다 평균적으로 더 작음\n",
    "\n",
    "`-` $Var(E(Y\\mid X))\\leq Var(Y) \\longrightarrow$ 개별 개체의 산포보다 그룹별 평균의 산포가 작음 "
   ]
  },
  {
   "cell_type": "markdown",
   "id": "f3b2ab65-5492-4764-ad8e-515d413599dc",
   "metadata": {},
   "source": [
    "### 확률부등식"
   ]
  },
  {
   "cell_type": "markdown",
   "id": "2eeeef08-6b6d-45f8-8d29-f5ce95da00c5",
   "metadata": {},
   "source": [
    "`-` 마코프 확률부등식 : 실함수 $u(X) > 0$라고 할 때 $P[u(X)\\geq c] \\leq \\dfrac{E[u(X)]}{c}$\n",
    "\n",
    "`-` 체비셰프 부등식 : $P(|X-\\mu| < k\\sigma)\\geq 1-\\dfrac{1}{k^2}$\n",
    "\n",
    "`-` 코시-슈바르츠 부등식 : $[E(XY)]^2 \\leq E(X^2)\\cdot E(Y^2)$"
   ]
  },
  {
   "cell_type": "markdown",
   "id": "5e87ac67-f771-4708-a093-7501c0ae0639",
   "metadata": {},
   "source": [
    "# 표본분포 및 그의 근사"
   ]
  },
  {
   "cell_type": "markdown",
   "id": "5854b2df-1255-48ec-83b5-515118cdb608",
   "metadata": {},
   "source": [
    "## 대수의 법칙과 중심극한정리"
   ]
  },
  {
   "cell_type": "markdown",
   "id": "155d8583-6e4a-410f-a64a-2ec4761a4ad8",
   "metadata": {},
   "source": [
    "### 확률 수렴"
   ]
  },
  {
   "cell_type": "markdown",
   "id": "aae85868-5867-4602-b609-e79318e2bf91",
   "metadata": {},
   "source": [
    "`-` 확률변수의 열 $X_1,X_2,\\cdots,X_n,\\cdots$과 확률변수 $X$가 같은 확률공간에 정의된다고 하자\n",
    "\n",
    "`-` 확률변수의 열을 모르면 다음을 참고하자 : https://www.probabilitycourse.com/chapter7/7_2_2_sequence_of_random_variables.php\n",
    "\n",
    "`-` 확률변수의 수렴 : https://www.probabilitycourse.com/chapter7/7_2_0_convergence_of_random_variables.php\n",
    "\n",
    "`-` 만약 임의의 $\\epsilon>0$에 대해 $\\lim\\limits_{n \\to \\infty}P(|X_n-X|\\geq \\epsilon)=0$ 또는 $\\lim\\limits_{n\\to\\infty}P(|X_n-X|< \\epsilon)=1$ 이라면\n",
    "\n",
    "`-` $X_n$이 $X$로 확률적으로 수렴한다고 하고 $X_n{\\xrightarrow{~~p~~}} X$로 표기한다 : `확률 수렴(convergence in probability)`"
   ]
  },
  {
   "cell_type": "markdown",
   "id": "ee08bd22-255d-4533-9624-1d23da0e3bb5",
   "metadata": {},
   "source": [
    "`-` 확률 수렴이 무엇인지 뭔가 직관적으로 와닿지 않는다\n",
    "\n",
    "`-` 일단 수열의 수렴을 생각해보자\n",
    "\n",
    "`-` 예컨데 $1,\\frac{1}{2},\\frac{1}{4},\\frac{1}{8},\\cdots $ 와 같은 [수열](https://ko.wikipedia.org/wiki/%EC%88%98%EC%97%B4)이 있다고 하자\n",
    "\n",
    "`-` 위의 수열을 다음과 같이 나타낼 수 있다 ---> $a_n=\\dfrac{1}{2^n},\\;n\\in \\mathbb{N}$\n",
    "\n",
    "`-` 여기서 $n\\to\\infty$ 이면 $a_n\\to 0$임을 알 수 있다\n",
    "\n",
    "`-` 즉 $n$이 커지면 어떠한 상수 $a$로 수렴한다는 것\n",
    "\n",
    "`-` 수열 대신 확률변수의 열인 경우도 똑같이 생각하면 된다\n",
    "\n",
    "`-` 단지 확률변수는 변동성 때문에 값이 완전히 똑같을 수는 없으니 확률을 도입한 것이다\n",
    "\n",
    "`-` 예컨대 두 확률변수가 표준정규분포를 따를 때 적당히 표본을 1억개 정도 뽑고 값을 비교한다고 해보자(kde 그려보자)\n",
    "\n",
    "`-` 그러면 거의 비슷하겠지만 완전히 똑같지는 않다(random vaiable이니까 당연하다)\n",
    "\n",
    "`-` 그러니 직접 값을 비교하는게 아니고 `확률`을 도입하여 비교하는 것이다\n",
    "\n",
    "`-` 확률변수 $X_1$이 가질 수 있는 값들과 확률변수 $X_2$가 가질 수 있는 값들을 그려놓고(pdf)\n",
    "\n",
    "`-` 둘의 분포를 겹쳐놓았을 때 빈틈이 조금이라도 있을 확률이 $0$이라면 $X_1$은 $X_2$로 확률수렴한다는 것\n",
    "\n",
    "`-` 예시에서 두 확률변수가 표준정규분포를 `따른다`고 표현한 것도 변동성 때문이다($X = Z$가 아니라 변동성 때문에 $X \\sim Z$로 표현)\n",
    "\n",
    "- 확률변수의 열 헷갈리는 점 짚고 가기\n",
    "\n",
    "`-` $X_1,X_2,\\cdots,X_n \\longrightarrow n$에 의존한다(여기서 $n$은 표본크기 의미하는게 아님; 일련번호라고 생각하자)\n",
    "\n",
    "`-` 그러니까 $X_n$ 자체는 그냥 어떤 확률분포를 따를 뿐 밑첨자가 $n$이라고 확률분포에서 표본 $n$개를 뽑는 것이 아님\n",
    "\n",
    "`-` 그런데 $\\overline{X}_n$과 같은 경우는 $n$이 표본크기를 나타내는데 왜냐면 $\\overline{X}_n = \\cfrac{X_1+\\cdots+X_n}{n}$ 이기 때문 \n",
    "\n",
    "- 다시 본론으로 돌아와서 다음과 같은 확률변수의 열이 있다고 해보자\n",
    "\n",
    "`-` $X_1\\sim EXP(1),\\; X_2\\sim EXP(2),\\;\\cdots,\\;X_n\\sim EXP(n)$ 라고 하자\n",
    "\n",
    "`-` 즉 $X_n\\sim EXP(n)$, 예컨대 $n=3$이면 $X_3\\sim EXP(3)$\n",
    "\n",
    "`-` 참고로 $EXP(n)$에서 $n$은 포아송분포의 모수 $\\lambda$를 의미한다\n",
    "\n",
    "`-` 만약  $n\\to\\infty$ 이면 $X_n\\to 0$가 되고 이는 $X_n\\xrightarrow{~~p~~}0$\n",
    "\n",
    "$$\\begin{aligned}\\lim\\limits_{n\\to\\infty} P(|X_n-X|\\geq \\epsilon)&=\\lim\\limits_{n\\to\\infty} P(|X_n-0|\\geq \\epsilon)\\\\\n",
    "&=\\lim\\limits_{n\\to\\infty} P(X_n\\geq \\epsilon)\\quad (X_n\\geq 0 \\text{ as } X_n\\sim EXP(n))\\\\\n",
    "&=\\lim\\limits_{n\\to\\infty} 1-F_{X_n}(\\epsilon)\\\\\n",
    "&=\\lim\\limits_{n\\to\\infty} 1-(1-e^{-n\\epsilon})\\\\\n",
    "&=\\lim\\limits_{n\\to\\infty} e^{-n\\epsilon}\\\\\n",
    "&=0,\\quad \\forall \\epsilon > 0\\end{aligned}$$\n",
    "\n",
    "`-` 따라서 $X_n\\xrightarrow{~~p~~}0$\n",
    "\n",
    "`-` 다시 말하자면 확률변수의 열 $X_1,X_2,\\cdots,X_n$은 zero random variable $X$로 확률 수렴한다"
   ]
  },
  {
   "cell_type": "markdown",
   "id": "26c4e114-ab62-4d2c-a2c1-0887d4838de0",
   "metadata": {},
   "source": [
    "`-` 참고 : https://www.probabilitycourse.com/chapter7/7_2_5_convergence_in_probability.php\n",
    "\n",
    "`-` 근데 문득 궁금한점이 생겼다\n",
    "\n",
    "`-` $X_1,X_2,\\cdots,X_n$은 같은 확률공간에 존재하는건가?\n",
    "\n",
    "`-` $\\Omega,\\mathcal{F}$는 같다\n",
    "\n",
    "`-` 그런데 $\\Pr$은?\n",
    "\n",
    "`-` $\\Pr$이 같다면 예컨대 $\\Pr(1<X<2)$가 $X_1,X_2,\\cdots,X_n$에 대해서 같아야 하는거 아닌가? \n",
    "\n",
    "`-` 하지만 $X_1,X_2,\\cdots,X_n$ 각각의 pdf는 다르기에 $\\Pr(1<X<2)$도 다르다\n",
    "\n",
    "`-` 그럼 같은 확률공간이 아닌건가?\n",
    "\n",
    "`-` 아니면 임의의 실수 $a$에 대해서 $\\Pr(a)=0$이니까 똑같나? \n",
    "\n",
    "`-` 그냥 내가 확률공간의 의미를 잘못알고 있는 걸수도...\n",
    "\n",
    "- 위에 대한 나의 생각 : $\\Pr$은 $\\mathcal{F}$를 $[0,1]$로 맵핑하는 함수다 ---> 예컨대 동전던지기의 경우 $\\Pr(\\{H\\})=\\dfrac{1}{2}$\n",
    "\n",
    "`-` $\\Pr(1<X<2)$에서 $1<X<2$는 $\\mathcal{F}$ 중에서 하나의 사건에 해당한다(?)\n",
    "\n",
    "`-` $\\Pr$은 $1<X<2$를 $f_X(x)$ 그래프 상에서 전체면적($1$) 대비 $1<x<2$ 아래의 면적의 차지 비율에 맵핑한다 \n",
    "\n",
    "`-` 예컨대 정규분포의 경우 $\\Pr(0<X<\\infty) = 0.5$이다\n",
    "\n",
    "`-` 위의 경우 $\\Pr$은 $\\mathcal{F}$를 $f_X(x)$ 그래프 상에서 전체면적($1$) 대비 $\\mathcal{F}$에 해당하는 아래의 면적의 차지 비율에 맵핑한다 \n",
    "\n",
    "`-` 즉 $X_1,X_2,\\cdots,X_n$ 각각의 pdf는 다르기에 $\\Pr(1<X<2)$도 다르지만 $\\Pr$ 함수의 규칙은 같으므로 같은 확률공간에 있다고 한다(?)\n",
    "\n",
    "`-` $\\Pr(A)=\\int_A f(x)dx,\\quad A\\in\\mathcal{F}$ ---> $\\Pr$은 동일함!\n",
    "\n",
    "`-` 다시 말하지만 $\\Pr$은 `함수`이다 \n",
    "\n",
    "`-` $y=f(x)$에서 함수는 $f$이다 ---> 예컨대 $y=2x$이면 함수는 $\\times 2$, $x$는 input, $y$는 output\n",
    "\n",
    "`-` 당연히 $x$가 달라지면 $y$도 달라진다 ---> $y=2x$에서 $x=1$이면 $y=2$, $x=2$이면 $y=4$\n",
    "\n",
    "`-` 아니 그런데 $1<X<2$는 다 같은거 아님?\n",
    "\n",
    "`-` $1<X<2$는 pdf상에서 $1<x<2$인 영역이므로 pdf에 따라 다르다(?) ---> 그러니 $1<X<2$는 다 같은것이 아니다(?)"
   ]
  },
  {
   "cell_type": "code",
   "execution_count": 76,
   "id": "73215412-4466-4b35-93f8-6b11f1737704",
   "metadata": {},
   "outputs": [
    {
     "data": {
      "image/png": "[encoded data removed]",
      "text/plain": [
       "<Figure size 1080x360 with 2 Axes>"
      ]
     },
     "metadata": {},
     "output_type": "display_data"
    }
   ],
   "source": [
    "#collapse\n",
    "\n",
    "import matplotlib.pyplot as plt\n",
    "import numpy as np\n",
    "from scipy.stats import expon\n",
    "\n",
    "\n",
    "xx = np.linspace(0, 6, 1000)\n",
    "x = np.linspace(2, 4, 100)\n",
    "y1 = expon.pdf(x, scale = 1)\n",
    "y2 = expon.pdf(x, scale = 2)\n",
    "\n",
    "with plt.style.context('seaborn-darkgrid'):\n",
    "    fig, (ax1, ax2) = plt.subplots(1, 2, figsize = (15, 5))\n",
    "    \n",
    "    ax1.plot(xx, expon.pdf(x = xx, scale = 1))\n",
    "    ax1.set_title('$\\lambda = 1$')\n",
    "    ax1.set_xlim(0, 6)\n",
    "    ax1.set_ylim(0, 1)\n",
    "    ax1.fill_between(x, y1, 0)\n",
    "     \n",
    "    ax2.plot(xx, expon.pdf(x = xx, scale = 2))\n",
    "    ax2.set_title('$\\lambda = 0.5$')\n",
    "    ax2.set_xlim(0, 6)\n",
    "    ax2.set_ylim(0, 1)\n",
    "    ax2.fill_between(x, y2, 0)\n",
    "    \n",
    "    fig.suptitle('exp dist', fontsize = 16)\n",
    "    plt.show()"
   ]
  },
  {
   "cell_type": "markdown",
   "id": "ecd10d8f-60c7-446e-977c-3ce82eec3d7d",
   "metadata": {},
   "source": [
    "`-` 결론은 $\\Pr$은 보통의 연속형확률변수이면 지수분포이든 정규분포이든 면적을 구하는 함수이니 동일하다는 것"
   ]
  },
  {
   "cell_type": "markdown",
   "id": "80fa5160-8191-4766-9136-80bc950aab54",
   "metadata": {},
   "source": [
    "### 대수의 법칙"
   ]
  },
  {
   "cell_type": "markdown",
   "id": "19873762-a40e-49fb-920f-308f5e5230c1",
   "metadata": {},
   "source": [
    "`-` 평균이 $\\mu<\\infty$인 확률밀도함수 $f(x)$로부터 랜덤표본($i.i.d$) $X_1,X_2,\\cdots,X_n$을 얻었다면 $\\overline{X}_n\\xrightarrow{~~p~~}\\mu$가 성립 : `대수의 법칙(law of large numbers)`"
   ]
  },
  {
   "cell_type": "markdown",
   "id": "9a83b9f1-99b6-408c-bd8a-9838e270a84c",
   "metadata": {},
   "source": [
    "- 증명 ($f(x)$가 분산 $\\sigma^2<\\infty$를 가진다고 가정)"
   ]
  },
  {
   "cell_type": "markdown",
   "id": "2a4246bd-f085-4525-900f-71dd7acaec1b",
   "metadata": {},
   "source": [
    "$$\\begin{aligned} P(|\\overline{X}_n-\\mu|\\geq \\epsilon)& = P(|\\overline{X}_n-\\mu|^2 \\geq \\epsilon^2)\\\\\n",
    "&\\leq 1 - \\dfrac{E(\\overline{X}_n-\\mu)^2}{\\epsilon^2}\\\\\n",
    "&= 1 - \\dfrac{ \\sigma^2  / n}{\\epsilon^2} \\xrightarrow{~~n \\to \\infty~~} 1 \\end{aligned}$$"
   ]
  },
  {
   "cell_type": "markdown",
   "id": "0a91800c-9ff2-4c5b-9bc4-3b53cf00a151",
   "metadata": {},
   "source": [
    "`-` 표본크기가 커질수록 표본평균은 모평균에 가까워진다"
   ]
  },
  {
   "cell_type": "markdown",
   "id": "9f16f1f2-5e30-495a-8ff6-63721ff9dcc7",
   "metadata": {},
   "source": [
    "### 분포 수렴"
   ]
  },
  {
   "cell_type": "markdown",
   "id": "dfddc0a8-d78a-40fa-b13b-320ed170f72c",
   "metadata": {},
   "source": [
    "`-` 확률변수의 열 $X_1,X_2,\\cdots,X_n,\\cdots$이 누적분포함수 $F_{X_1},F_{X_2},\\cdots,F_{X_n},\\cdots$을 각각 갖고 $X\\sim F_X$라고 하자\n",
    "\n",
    "`-` 만약 함수 $F_X$가 연속인 모든 점 $x$에서 $\\lim\\limits_{n\\to\\infty}F_{X_n}=F_X(x)$가 만족된다면\n",
    "\n",
    "`-` $X_n$이 $X$로 분포 수렴한다고 말하고 $X_n{\\xrightarrow{~~d~~}} X$로 표기 : `분포 수렴(convergence in distribution)`\n",
    "\n",
    "`-` 여기서 $X$의 분포를 $X_n$의 `극한분포(Limiting Distribution)` 또는 `점근적분포(Asymptotic Distribution)`라고 한다"
   ]
  },
  {
   "cell_type": "markdown",
   "id": "417a25df-8ca7-4862-bd1a-eba132039b4b",
   "metadata": {},
   "source": [
    "> Note: $X_n{\\xrightarrow{~~p~~}} X$ 이면 $X_n{\\xrightarrow{~~d~~}} X$ 이지만 역은 항상 성립하진 않는다"
   ]
  },
  {
   "cell_type": "markdown",
   "id": "b9358d7f-1146-44bc-80b9-6567a4857c64",
   "metadata": {},
   "source": [
    "`-` 참고 : https://www.probabilitycourse.com/chapter7/7_2_4_convergence_in_distribution.php"
   ]
  },
  {
   "cell_type": "markdown",
   "id": "52a28267-bde7-4e97-83f8-ab7ef1388bd3",
   "metadata": {},
   "source": [
    "> Note: $c$가 상수일 때 $X_n{\\xrightarrow{~~p~~}} c$ 와 $X_n{\\xrightarrow{~~d~~}} c$ 는 서로 동치이다"
   ]
  },
  {
   "cell_type": "markdown",
   "id": "13c52861-1a85-47f2-9d76-e20eb0a01ee9",
   "metadata": {},
   "source": [
    "### 중심극한정리"
   ]
  },
  {
   "cell_type": "markdown",
   "id": "97803a79-6d11-4cc3-a2e7-b848a13259d9",
   "metadata": {},
   "source": [
    "`-` 확률변수 $X_1,X_2,\\cdots$의 cdf가 $F_1,F_2,\\cdots$이고 mgf가 $M_1(t),M_2(t),\\cdots$라고 하자\n",
    "\n",
    "`-` 이때 어떤 $t$의 개구간 $-h<t<h$에 대하여 $\\lim\\limits_{n\\to \\infty}M_n(t)=M(t)$이고 \n",
    "\n",
    "`-` $M(t)$가 누적분포함수 $F(x)$를 갖는 어떤 확률분포의 mgf라고 하면 $F(x)$가 연속인 모든 점에서 $\\lim\\limits_{n\\to \\infty}F_n(x)=F(x)$가 성립한다\n",
    "\n",
    "`-` 즉, 적률생섬함수열의 극한이 임의의 확률변수 $X$의 mgf로 수렴하면  $X_n{\\xrightarrow{~~d~~}} X$가 성립한다"
   ]
  },
  {
   "cell_type": "markdown",
   "id": "3c58a452-892e-4224-bfc6-e7e774dc325d",
   "metadata": {},
   "source": [
    "`-` 평균과 분산이 각각 $\\mu$와 $\\sigma^2<\\infty$인 $f(x)$로부터 랜덤표본 $X_1,X_2,\\cdots,X_n$을 얻었다면 이때 확률변량\n",
    "\n",
    "$$Z_n=\\dfrac{\\sum\\limits_{i=1}^{n}X_i-E\\left(\\sum\\limits_{i=1}^{n}X_i\\right)}{\\sqrt{Var\\left(\\sum\\limits_{i=1}^{n}X_i\\right)}}=\\dfrac{\\sum\\limits_{i=1}^{n}(X_i-\\mu)}{\\sqrt{n}\\sigma}\n",
    "=\\dfrac{\\overline{X}_n-E(\\overline{X}_n)}{\\sqrt{Var(\\overline{X}_n)}}=\\dfrac{\\overline{X}_n-\\mu}{\\left. \\sigma \\middle/ \\sqrt n \\right.}$$\n",
    "\n",
    "`-` 는 표본의 크기 $n$이 무한대에 접근함에 따라 표준정규분포 $N(0,1)$로 분포수렴한다 : `중심극한정리(central limit theorem)`"
   ]
  },
  {
   "cell_type": "markdown",
   "id": "ddb7be7d-7819-48a8-bf10-902afd1eed04",
   "metadata": {},
   "source": [
    "### Slutsky 정리"
   ]
  },
  {
   "cell_type": "markdown",
   "id": "05b16846-0289-4ff1-b684-cc738e6d61de",
   "metadata": {},
   "source": [
    "> Note: 확률변수열 $u_n$과 임의의 함수 $g$와 상수 $u$에 대하여 $u_n\\xrightarrow{~~p~~}u$이면 $g(u_n)\\xrightarrow{~~p~~}g(u)$가 성립한다"
   ]
  },
  {
   "cell_type": "markdown",
   "id": "495401e5-3b13-4b9b-aa90-ea85c9c13d84",
   "metadata": {},
   "source": [
    "`-` 확률변수열 $X_1,X_2,\\cdots,X_n$이 상수 $c$로 확률적으로 수렴($X_n\\xrightarrow{~~p~~}c$)하며\n",
    "\n",
    "`-` 확률변수열 $Y_1,Y_2,\\cdots,Y_n$은 확률변수 $Z$로 분포수렴($Y_n\\xrightarrow{~~d~~}Z$)한다고 하면\n",
    "\n",
    "`-` $X_n+Y_n\\xrightarrow{~~d~~}Z+c$와 $X_nY_n\\xrightarrow{~~d~~}cZ$가 성립한다"
   ]
  },
  {
   "cell_type": "markdown",
   "id": "92856456-a6e8-4954-acb5-5968d379140b",
   "metadata": {},
   "source": [
    "`-` Slutsky 정리 응용 예시"
   ]
  },
  {
   "cell_type": "markdown",
   "id": "f834848b-7d49-406e-9c2f-d9020c21b75c",
   "metadata": {},
   "source": [
    "`-` 평균과 분산이 각각 $\\mu$와 $\\sigma^2 < \\infty$인 모분포루터 랜덤표본 $X_1,X_2,\\cdots,X_n$을 얻었다고 하자\n",
    "\n",
    "`-` $\\dfrac{\\overline{X}_n - \\mu}{\\left. S_n \\middle/  \\sqrt n \\right.}\\sim t(n-1)$를 스튜던트화된 표본평균이라 한다\n",
    "\n",
    "`-` 그런데 중심극한정리에 의해 $\\dfrac{\\overline{X}_n - \\mu}{\\left. \\sigma \\middle/ \\sqrt n \\right.}\\xrightarrow{~~d~~}N(0,1)$ 이고 \n",
    "$S_n\\xrightarrow{~~p~~}\\sigma$ 이므로 다음이 성립한다\n",
    "\n",
    "`-` $\\dfrac{\\overline{X}_n - \\mu}{\\left. S_n \\middle/ \\sqrt n \\right.}=\\dfrac{\\overline{X}_n - \\mu}{\\left. \\sigma \\middle/ \\sqrt n \\right.}\\times \\dfrac{\\sigma}{S_n}\n",
    "\\xrightarrow{~~d~~}N(0,1)$ "
   ]
  },
  {
   "cell_type": "markdown",
   "id": "f7269a22-7eba-4592-9ef0-bebc5112bd1e",
   "metadata": {},
   "source": [
    "### 델타 방법"
   ]
  },
  {
   "cell_type": "markdown",
   "id": "d883c8d9-eb92-4e10-bcc6-9a2494759c2e",
   "metadata": {},
   "source": [
    "`-` 임의의 함수 $g(\\theta)$의 연속인 도함수 $g'(\\theta)$가 존재하고 $0$이 아니라고 하자"
   ]
  },
  {
   "cell_type": "markdown",
   "id": "ecfc6397-9085-48b0-be46-7e8b54351eac",
   "metadata": {},
   "source": [
    "`-` 확률변수의 열 $X_1,X_2,\\cdots,X_n,\\cdots$에 대해서 $\\sqrt{n}(X_n-\\theta)\\xrightarrow{~~d~~}N(0,\\sigma^2)$ 이라고 하자\n",
    "\n",
    "`-` 평균값 정리에 의하여 $X_n$과 $\\theta$ 사이에 있는 $\\tilde{\\theta}$에 대하여 $\\dfrac{g(X_n)-g(\\theta)}{X_n-\\theta}=g'(\\tilde{\\theta})$가 성립한다\n",
    "\n",
    "`-` 한편 $X_n\\xrightarrow{~~p~~}\\theta$이므로 $X_n$과 $\\theta$사이에 있는 $\\tilde{\\theta}$에 대해서도 \n",
    "$\\tilde{\\theta}\\xrightarrow{~~p~~}\\theta$이며 $g'(\\tilde{\\theta})\\xrightarrow{~~p~~}g'(\\theta)$가 성립한다"
   ]
  },
  {
   "cell_type": "markdown",
   "id": "ef1102a3-f8cd-49f0-af1d-afe3452465e6",
   "metadata": {},
   "source": [
    "`-` 따라서 $\\sqrt{n}\\big[(g(X_n)-g(\\theta)\\big]=g'(\\tilde{\\theta})\\sqrt{n}(X_n-\\theta)$으로부터 슬럿츠키 정리를 사용하여\n",
    "\n",
    "`-` $\\sqrt{n}(g(X_n)-g(\\theta))\\xrightarrow{~~d~~}N(0,\\sigma^2[g'(\\theta)]^2)$을 보일 수 있다"
   ]
  },
  {
   "cell_type": "markdown",
   "id": "90cf138d-7aff-4a73-8301-fc227c995e92",
   "metadata": {},
   "source": [
    "`-` 델타 방법은 때로는 점근적 정규성에 대한 가정을 하지 않고 확률변수 $g(X)$의 기댓값과 분산을 확률변수 $X$를 통해 근사할 때도 사용된다"
   ]
  },
  {
   "cell_type": "markdown",
   "id": "7b37d123-8711-4a95-8184-9c622c03b036",
   "metadata": {},
   "source": [
    "`-` 테일러 전개 : $E\\big[g(X)\\big]\\approx E\\big[(g(\\mu)+g'(\\mu)(X-\\mu)\\big]=g(\\mu)=g\\big(E(X)\\big)$\n",
    "\n",
    "`-` 테일러 전개 : $Var\\big(g(X)\\big)\\approx Var\\big((g(\\mu)+g'(\\mu)(X-\\mu)\\big)=g(\\mu)=\\big\\{g'(\\mu)\\big\\}^2 Var(X)$"
   ]
  },
  {
   "cell_type": "markdown",
   "id": "337e5d98-5a5a-479f-b0a7-dd9079b9f792",
   "metadata": {},
   "source": [
    "## 순서통계량"
   ]
  },
  {
   "cell_type": "markdown",
   "id": "a6e9b714-3d81-4217-8a45-acef04672bfc",
   "metadata": {},
   "source": [
    "`-` 확률밀도함수가 $f(x)$이고 누적분포함수가 $F(x)$인 모집단으로부터 \n",
    "\n",
    "`-` 크기가 $n$인 랜덤표본 $X_1,X_2,\\cdots,X_n$을 얻었다고 하자\n",
    "\n",
    "`-` 이때 랜덤표본을 작은 것부터 크기순으로 나열하여 다음과 같은 `순서통계량(order statistic)`을 구할 수 있다\n",
    "\n",
    "$$X_{(1)} \\leq X_{(2)} \\leq \\cdots \\leq X_{(n-1)} \\leq X_{(n)}$$"
   ]
  },
  {
   "cell_type": "markdown",
   "id": "f0636523-4437-4996-9bd8-97a0416d63d4",
   "metadata": {},
   "source": [
    "`-` 예컨대 모집단이 표준정규분포일 때 크기가 $n$인 랜덤표본 $X_1,X_2,\\cdots,X_n$를 얻었다면\n",
    "\n",
    "`-` 확률변수의 순서통계량은 $1:1$ 변환이 아니다($n!:1$ 변환)\n",
    "\n",
    "`-` 그렇기에 순서통계량의 결합 확률밀도함수는 $n!f(x_{(1)})f(x_{(2)})\\cdots f(x_{(n)})$이다\n",
    "\n",
    "`-` 한편, $k$번째 순서통계량 $X_{(k)}$의 확률밀도함수는 다음과 같다\n",
    "\n",
    "$$f_{X_k}(x_{(k)})=\\cfrac{n!}{(k-1)!(n-k)!}(F(x_{(k)}))^{k-1}(1-F(x_{(k)}))^{n-k}f(x_{(k)})$$"
   ]
  },
  {
   "cell_type": "code",
   "execution_count": null,
   "id": "933c4298-0b26-4600-a54a-11d6da32df2f",
   "metadata": {},
   "outputs": [],
   "source": []
  }
 ],
 "metadata": {
  "kernelspec": {
   "display_name": "Python 3 (ipykernel)",
   "language": "python",
   "name": "python3"
  },
  "language_info": {
   "codemirror_mode": {
    "name": "ipython",
    "version": 3
   },
   "file_extension": ".py",
   "mimetype": "text/x-python",
   "name": "python",
   "nbconvert_exporter": "python",
   "pygments_lexer": "ipython3",
   "version": "3.8.11"
  }
 },
 "nbformat": 4,
 "nbformat_minor": 5
}
