{
 "cells": [
  {
   "cell_type": "markdown",
   "id": "latest-soundtrack",
   "metadata": {},
   "source": [
    "# 수리통계학\n",
    "\n",
    "> \"작성 중\"\n",
    "\n",
    "- toc: true\n",
    "- branch: master\n",
    "- badges: true\n",
    "- comments: true\n",
    "- author: 한재수\n",
    "- categories: [statistics]"
   ]
  },
  {
   "cell_type": "markdown",
   "id": "executed-sheep",
   "metadata": {},
   "source": [
    "`-` 수리통계학 내용 정리"
   ]
  },
  {
   "cell_type": "markdown",
   "id": "motivated-consistency",
   "metadata": {},
   "source": [
    "# 확률이론\n",
    "`-` 확률모형 ---> 동전 던지기와 같이 가능성(chance)에 의존"
   ]
  },
  {
   "cell_type": "markdown",
   "id": "statutory-syndrome",
   "metadata": {},
   "source": [
    "## 표본공간과 사건 "
   ]
  },
  {
   "cell_type": "markdown",
   "id": "injured-solution",
   "metadata": {},
   "source": [
    "`-` `표본공간(sample space)` : `모든 관찰 가능한 결과`들의 집합 ---> $S$ 또는 $\\Omega$\n",
    "\n",
    "`-` `사건(event)` : `표본공간의 일부분`(부분집합) ---> $A, B$ 등 영어 알파벳 대문자\n",
    "\n",
    "`-` `실험(experiment)` 또는 `시행 (trial)` : 어떤 현상의 관찰결과를 얻기위한 `과정`"
   ]
  },
  {
   "cell_type": "markdown",
   "id": "whole-gilbert",
   "metadata": {},
   "source": [
    "- 예시"
   ]
  },
  {
   "cell_type": "markdown",
   "id": "broadband-millennium",
   "metadata": {},
   "source": [
    "`-` 동전의 앞면을 H, 뒷면을 T라 할 때 동전을 2회 던지는 실험을 시행하자"
   ]
  },
  {
   "cell_type": "markdown",
   "id": "thermal-tunnel",
   "metadata": {},
   "source": [
    "`-` 표본공간 $S = \\{HH, HT, TH, TT\\}$\n",
    "\n",
    "`-` 1회 앞면이 나오는 사건 $A = \\{HT, TH\\}$ \n",
    "\n",
    "`-` 2회 뒷면이 나오는 사건 $B = \\{TT\\}$"
   ]
  },
  {
   "cell_type": "markdown",
   "id": "pending-occasion",
   "metadata": {},
   "source": [
    "- 정의"
   ]
  },
  {
   "cell_type": "markdown",
   "id": "impressed-glasgow",
   "metadata": {},
   "source": [
    "`-` 사건 $A$와 $B$가 동시에 속하는 사건 ---> $A$와 $B$의 `공통부분(intersection)` ---> $A \\cap B$\n",
    "\n",
    "`-` 사건 $A$ 또는 $B$에 속하는 사건 ---> $A$와 $B$의 `합(union)` ---> $A \\cup B$\n",
    "\n",
    "`-` $A \\cap B$ = $\\phi$ ---> 두 사건 $A$와 $B$는 `상호배반(mutually exclusive)`\n",
    "\n",
    "`-` 사건 $A$에 포함되지 않은 모든 $S$의 원소의 집합 ---> $A$의 `여사건(complement)` ---> $A^c$"
   ]
  },
  {
   "cell_type": "markdown",
   "id": "vietnamese-province",
   "metadata": {},
   "source": [
    "- 사건에 대한 분배법칙과 드 모르간 법칙\n",
    "\n",
    "`-` $(A \\cup B)^c = A^c \\cap B^c$ ---> 드 모르간(De Morgan) 법칙\n",
    "\n",
    "`-` $(A \\cap B)^c = A^c \\cup B^c$ ---> 드 모르간 법칙\n",
    "\n",
    "`-` $A \\cup (B \\cap C) = (A \\cup B) \\cap (A \\cup C)$ ---> 분배법칙\n",
    "\n",
    "`-` $A \\cap (B \\cup C) = (A \\cap B) \\cup (A \\cap C)$ ---> 분배법칙"
   ]
  },
  {
   "cell_type": "markdown",
   "id": "illegal-modeling",
   "metadata": {},
   "source": [
    "## 확률의 정의 \n",
    "\n",
    "`-` 확률은 함수임"
   ]
  },
  {
   "cell_type": "markdown",
   "id": "textile-blogger",
   "metadata": {},
   "source": [
    "- 고전적 정의 "
   ]
  },
  {
   "cell_type": "markdown",
   "id": "valid-frederick",
   "metadata": {},
   "source": [
    "`-` 표본공간이 `유한 개`($N$)의 결과로 구성되고 모든 가능한 실험결과들이 일어날 가능성이 `동일한`경우 $M$개의 실험결과로 이루어진 사건 $A$의 확률 $P(A) = \\dfrac{M}{N}$"
   ]
  },
  {
   "cell_type": "markdown",
   "id": "satellite-daughter",
   "metadata": {},
   "source": [
    "- 상대도수의 극한\n",
    "\n",
    "`-` 실험을 독립적으로 n회 반복했을 때 사건 $A$의 발생횟수를 m이라 하면 실험이 무한히 반복되면 $P(A) = \\dfrac{m}{n}$"
   ]
  },
  {
   "cell_type": "markdown",
   "id": "cooked-silence",
   "metadata": {},
   "source": [
    "### 확률 공리\n",
    "\n",
    "`1.` 임의의 사건 $A$에 대해 $P(A) \\geq 0$\n",
    "\n",
    "`2.` $P(S)=1$\n",
    "\n",
    "`3.` 표본공간 $S$에 정의된 사건열 $A_1, A_2, \\cdots$가 있다고 할 때 모든 $i\\neq j$에 대하여 $A_i \\cap A_j = \\phi$이면 $P\\bigg(\\bigcup\\limits_{i=1}^{\\infty} A_i\\bigg) \n",
    "= P(A_1 \\cup A_2 \\cup A_3 \\cup \\cdots) = \\sum\\limits_{i=1}^{\\infty} P(A_i)$\n",
    "\n",
    "`-` 3번째 공리는 쉽게 말하자면 서로소인 두 사건 $A$와 $B$에 대해 $P(A) + P(B) = p(A\\cup B)$이다 + 집합열 이해 안되면 통계수학 책 참고하셈"
   ]
  },
  {
   "cell_type": "markdown",
   "id": "terminal-galaxy",
   "metadata": {},
   "source": [
    "`-` `확률` ---> 표본공간의 부분집합의 모임(특별한 성질 만족)을 정의역으로 하면서 확률공리를 만족하는 함수"
   ]
  },
  {
   "cell_type": "markdown",
   "id": "signal-tuesday",
   "metadata": {},
   "source": [
    "- 정리\n",
    "\n",
    "`-` 증명은 교재 참고"
   ]
  },
  {
   "cell_type": "markdown",
   "id": "proper-subscription",
   "metadata": {},
   "source": [
    "`1.` $P(A^c) = 1- P(A)$\n",
    "\n",
    "`2.` $P(\\phi) = 0$\n",
    "\n",
    "`3.` $A\\subset B$이면 $P(A) \\leq P(B)$\n",
    "\n",
    "`4.` $P(A\\cup B)=P(A)+P(B)-P(A\\cap B)$"
   ]
  },
  {
   "cell_type": "markdown",
   "id": "advanced-thong",
   "metadata": {},
   "source": [
    "`-` 정리 4번 사건 3개 버전\n",
    "\n",
    "`-` $P(A \\cup B \\cup C) = P(A) + P(B) + P(C) - P(A\\cap B) - P(B \\cap C) - P(C \\cap A) + P(A \\cap B \\cap C)$ ---> 벤 다이어그램을 그려보면 간단히 알 수 있음"
   ]
  },
  {
   "cell_type": "markdown",
   "id": "falling-failure",
   "metadata": {},
   "source": [
    "## 조건부 확률"
   ]
  },
  {
   "cell_type": "markdown",
   "id": "collective-microphone",
   "metadata": {},
   "source": [
    "`-` 사건$A$와 $B$가 표본공간 $S$상에 정의되어 있으며 $P(B) > $일 때 $B$가 일어났다는 가정하에 사건 $A$가 일어날 조건부 확률은$P(A \\mid B) = \\cfrac{P(A\\cap B)}{P(B)}$로 정의됨\n",
    "\n",
    "`-` 조건부 확률도 확률 공리를 만족함"
   ]
  },
  {
   "cell_type": "markdown",
   "id": "simple-inquiry",
   "metadata": {},
   "source": [
    "### 전확률 공식(total probability) \n",
    "\n",
    "`-` 사건 $B_1, B_2,\\cdots,B_k$ 는 상호배반이며 $(B_1\\cap B_j = \\phi,\\;i \\neq j),\\;\\bigcup\\limits_{i=1}^{k}B_{i}=S$라고 하자\n",
    "\n",
    "`-` 이때 임의의 사건 $A$에 대하여 $P(A) = \\sum\\limits_{i=1}^{k}P(B_i)P(A\\mid B_i)$가 성립함\n",
    "\n",
    "`-` 증명: $P(A) = P(A\\cap S) = P\\bigg[A\\cap\\bigg(\\bigcup\\limits_{i=1}^{k}B_i\\bigg)\\bigg] = \\sum\\limits_{i=1}^{k}P(A\\cap B_i)=\\sum\\limits_{i=1}^{k}P(B_i)P(A\\mid B_i)$"
   ]
  },
  {
   "cell_type": "markdown",
   "id": "modular-anchor",
   "metadata": {},
   "source": [
    "### 베이즈 정리(Bayes' theorem)\n",
    "\n",
    "`-` 사건 $B_1, B_2,\\cdots,B_k$ 는 상호배반이며 $(B_1\\cap B_j = \\phi,\\;i \\neq j),\\;\\bigcup\\limits_{i=1}^{k}B_{i}=S$라고 하자\n",
    "\n",
    "`-` 이때 사건 $A$가 일어났다는 조건하에서 사건 $B_j$가 일어날 확률은 $P(B_j\\mid A)=\\cfrac{P(B_j)P(A\\mid B_j)}{\\sum\\limits_{i=1}^{k}P(B_i)P(A\\mid B_i)}$\n",
    "\n",
    "`-` 증명(전확률 공식 사용): $P(B_j\\mid A)=\\cfrac{P(A\\cap B_j)}{P(A)}=\\cfrac{P(B_j)P(A\\mid B_j)}{P(A)}=\\cfrac{P(B_j)P(A\\mid B_j)}{\\sum\\limits_{i=1}^{k}P(B_i)P(A\\mid B_i)}$ \n",
    "\n",
    "`-` $P(B_1),\\cdots,P(B_k)$는 $B$의 사전확률(prior probability)\n",
    "\n",
    "`-` 사건 $A$가 일어났다는 정보가 추가됨 ---> $P(B_1 \\mid A),\\cdots,P(B_k\\mid A)$는 $B$의 사후확률(posteriori probability)"
   ]
  },
  {
   "cell_type": "markdown",
   "id": "taken-extent",
   "metadata": {},
   "source": [
    "### 사건의 독립 \n",
    "\n",
    "`-` 두 사건 $A$와 $B$가 $P(A\\cap B) = P(A) \\cdot P(B)$를 만족시키면 서로 `독립(independent)`이라고 함"
   ]
  },
  {
   "cell_type": "markdown",
   "id": "failing-hungarian",
   "metadata": {},
   "source": [
    "## 경우의 수 "
   ]
  },
  {
   "cell_type": "markdown",
   "id": "frozen-leader",
   "metadata": {},
   "source": [
    "### 순열(permutation) \n",
    "\n",
    "`-` 서로 다른 n개의 원소 중에서 r개를 선택하여 `순서 있게` 놓는 것(${_n\\rm P_r}$)"
   ]
  },
  {
   "cell_type": "markdown",
   "id": "irish-carnival",
   "metadata": {},
   "source": [
    "### 조합 \n",
    "\n",
    "`-` 서로 다른 n개의 원소 중에서 `순서에 관계없이` r개를 선택하는 것($_n\\rm C_r$)"
   ]
  },
  {
   "cell_type": "markdown",
   "id": "educated-reasoning",
   "metadata": {},
   "source": [
    "### 이항정리"
   ]
  },
  {
   "cell_type": "markdown",
   "id": "wrong-mount",
   "metadata": {},
   "source": [
    "`-` $(a+b)^n = \\sum\\limits_{k=0}^{n}\\dbinom{n}{k}a^{k} b^{n-k}$"
   ]
  },
  {
   "cell_type": "markdown",
   "id": "authorized-purple",
   "metadata": {},
   "source": [
    "### 같은 것이 있는 순열 "
   ]
  },
  {
   "cell_type": "markdown",
   "id": "civil-scheme",
   "metadata": {},
   "source": [
    "`-` $\\dbinom{n}{\\;r_1\\; r_2\\;\\cdots\\;r_k\\;} = \\cfrac{n!}{r_1!\\; r_2!\\; \\cdots\\; r_k!}$"
   ]
  },
  {
   "cell_type": "markdown",
   "id": "concrete-script",
   "metadata": {},
   "source": [
    "### 다항정리 "
   ]
  },
  {
   "cell_type": "markdown",
   "id": "qualified-schedule",
   "metadata": {},
   "source": [
    "`-` $(a_1+a_2+\\cdots+a_k)^n=\\sum\\limits_{r_1,\\cdots,r_k\\in\\mathbb N}^{r_1+\\cdots+r_k=n}\\dbinom{n}{\\;r_1\\; r_2\\;\\cdots\\;r_k\\;}\\,a_1^{r_1}\\,a_2^{r_2}\\cdots a_k^{r_k}$"
   ]
  },
  {
   "cell_type": "markdown",
   "id": "aging-basics",
   "metadata": {},
   "source": [
    "# 확률변수 "
   ]
  },
  {
   "cell_type": "markdown",
   "id": "latin-summit",
   "metadata": {},
   "source": [
    "`-` `확률변수(random variable)` : 실험결과를 표현하는 수치적인 양\n",
    "    \n",
    "`-` 확률변수의 값은 실험결과에 따라 정해지므로 비결정적(non-deterministic)\n",
    "\n",
    "`-` `확률분포(probability distribution)` : 확률변수의 값들이 나올 가능성"
   ]
  },
  {
   "cell_type": "markdown",
   "id": "interested-approval",
   "metadata": {},
   "source": [
    "## 확률변수의 정의 "
   ]
  },
  {
   "cell_type": "markdown",
   "id": "southern-harvest",
   "metadata": {},
   "source": [
    "`-` `확률변수` $\\to$ 표본공간 $S$에 정의된 실수값을 가지는 함수(real-valued function)\n",
    "\n",
    "`-` 이산형(discrete) - 가질 수 있는 값이 유한개 (finite) 또는 셀 수 있는 무한개(countably infinite)인 확률변수\n",
    "\n",
    "`-` 연속형(continuous) - 가질 수 있는 값의 범위가 실직선상의 어떤 구간인 확률변수\n",
    "\n",
    "`-` 혼합형 - ex) $\\{1, 2, (5, 10)\\}$"
   ]
  },
  {
   "cell_type": "markdown",
   "id": "bdda39ca-f528-4ba2-9c20-9a475bac970e",
   "metadata": {},
   "source": [
    "## 확률공간(probability space)\n",
    "\n",
    "`-` 확률 공간($\\Omega,\\mathcal{F}, \\Pr)$ 은 전체 측도가 $1$인 [측도 공간](https://ko.wikipedia.org/wiki/%EC%B8%A1%EB%8F%84)이다\n",
    "\n",
    "`-` 측도는 집합에 크기를 부여하기 위해 만든 개념으로 가산집합에 실수로 가는 함수를 부여한 것\n",
    "\n",
    "`-` 확률적인 현상에서 확률공간의 측도는 확률을 정의한다\n",
    "\n",
    "`-` 확률공간이 같다는건 $\\Omega$가 동일하고 (주사위 던지기 $\\Omega=\\{1,2,3,4,5,6\\}$)\n",
    "\n",
    "`-` $\\mathcal{F}$가 동일하고(예컨대 짝수, 홀수에만 관심이 있어서 $\\mathcal{F}=\\{\\phi,\\{1,3,5\\},\\{2,4,6\\},\\Omega\\}$)\n",
    "\n",
    "`-` $Pr$이 동일하다는 것(예컨대 짝수, 홀수가 나올 가능성이 다른 주사위라 확률측도가 다음과 같다)\n",
    "\n",
    "$$\\begin{aligned}\\Pr(\\phi)&=0.0\\\\ \\Pr(\\{1,3,5\\})&=0.4\\\\ \\Pr(\\{2,4,6\\})&=0.6\\\\ \\Pr(\\Omega)&=1.0\\end{aligned}$$\n",
    "\n",
    "`-` 참고 : https://ko.wikipedia.org/wiki/%ED%99%95%EB%A5%A0_%EA%B3%B5%EA%B0%84"
   ]
  },
  {
   "cell_type": "markdown",
   "id": "c4f94df5-2b18-4f03-aa34-7da0a948884c",
   "metadata": {},
   "source": [
    "### 표본공간"
   ]
  },
  {
   "cell_type": "markdown",
   "id": "dadd8b8e-321d-4670-85c8-35dcb8d87122",
   "metadata": {},
   "source": [
    "`-` 확률실험에서 발생할 수 있는 모든 결과들의 집합을 `표본공간(Sample Space)` 이라고 한다\n",
    "\n",
    "`-` 표본공간은 $S$ 또는 $\\Omega$ 기호로 나타낸다\n",
    "\n",
    "`-` $\\Omega=\\{\\omega_1,\\omega_2,\\cdots,\\omega_n\\}$는 가능한 모든 결과를 포함하고 각 원소끼리는 배반이다\n",
    "\n",
    "`-` 예컨대 동전던지기 실험에서 표본공간은 다음과 같이 나타낼 수 있음 ---> $\\Omega=\\{H,T\\}$\n",
    "\n",
    "`-` 참고 : https://en.wikipedia.org/wiki/Sample_space"
   ]
  },
  {
   "cell_type": "markdown",
   "id": "fc8703a3-2cc0-489e-920f-3b5de2eebac7",
   "metadata": {},
   "source": [
    "### 사건공간\n",
    "\n",
    "`-` 표본공간 $\\Omega$의 $\\sigma$-field를 `사건공간(event space)` 이라 한다\n",
    "\n",
    "`-` 사건공간의 원소를 사건이라고 한다\n",
    "\n",
    "`-` 사건 : 표본공간의 부분집합\n",
    "\n",
    "`-` 사건공간($\\mathcal{F}$) : 사건의 집합 $\\Longleftrightarrow$ 표본공간의 $\\sigma$-field\n",
    "\n",
    "`-` 동전던지기의 경우 사건은 $\\phi,\\{H\\},\\{T\\},\\Omega$이므로 사건공간 중 하나를 다음과 같이 나타낼 수 있음\n",
    "\n",
    "`-` $\\mathcal{F}=\\{\\phi,\\{H\\},\\{T\\},\\Omega\\}$ ---> $\\mathcal{F}$의 원소 하나하나가 사건에 해당함\n",
    "\n",
    "`-` 사건공간 중 하나라고 표현한건 $\\sigma$-field 정의에 의해 사건공간은 여러개가 될 수 있기 때문\n",
    "\n",
    "`-` 예컨대 주사위 던지기의 경우에서 주사위의 특정값이 아닌 단지 짝인지 홀인지에만 관심이 있으면 $\\mathcal{F}=\\{\\phi,\\{1,3,5\\},\\{2,4,6\\},\\Omega\\}$로 설정해도 된다 \n",
    "\n",
    "`-` 참고 : https://en.wikipedia.org/wiki/%CE%A3-algebra"
   ]
  },
  {
   "cell_type": "markdown",
   "id": "bbbdc816-f420-4616-a3ce-543533715e21",
   "metadata": {},
   "source": [
    "### 확률측도\n",
    "\n",
    "`-` 측도공간 $(\\Omega,\\mathcal{F})$에 대해서 어떤 함수 $\\Pr(\\cdot):\\mathcal{F}\\to \\mathbb{R}$가 다음 세 조건(확률 공리)을 만족하면 $\\Pr$을 확률측도라고 한다\n",
    "\n",
    "`1.` $\\Pr(A)\\geq 0,\\quad \\forall A\\in\\mathcal{F}$\n",
    "\n",
    "`2.` $\\Pr(\\Omega)=1$\n",
    "\n",
    "`3.` Countable, pairwise disjoint set $\\{A_1,A_2,\\cdots\\mid A_i\\in \\mathcal{F}\\}$에 대하여 $\\Pr\\bigg(\\bigcap\\limits_{i=1}^{\\infty}A_i\\bigg)=\\sum\\limits_{i=1}^{\\infty}\\Pr(A_i)$\n",
    "\n",
    "`-` 예컨대 동전던지기의 사건공간이 $\\mathcal{F}=\\{\\phi,\\{H\\},\\{T\\},\\Omega\\}$ 라면 위의 조건을 만족하는 확률측도를 아래와 같이 만들 수 있다\n",
    "\n",
    "$$\\begin{aligned}\\Pr(\\phi)&=0.0\\\\ \\Pr(\\{H\\})&=0.5\\\\ \\Pr(\\{T\\})&=0.5\\\\ \\Pr(\\Omega)&=1.0\\end{aligned}$$\n",
    "\n",
    "`-` 그러나 확률측도는 위의 세 조건인 [Kolmogorov axioms](https://en.wikipedia.org/wiki/Probability_axioms)를 만족하기만 하면 되기에 확률측도는 하나가 아니다\n",
    "\n",
    "`-` 예컨대 아래와 같이 확률측도를 만들 수 도 있다는 것\n",
    "\n",
    "$$\\begin{aligned}\\Pr(\\phi)&=0.0\\\\ \\Pr(\\{H\\})&=0.4\\\\ \\Pr(\\{T\\})&=0.6\\\\ \\Pr(\\Omega)&=1.0\\end{aligned}$$\n",
    "\n",
    "`-` 참고로 함수 $\\Pr$의 정의역은 $\\mathcal{F}$이고 치역은 $\\{s\\in R:0\\leq s \\leq 1\\}$이다\n",
    "\n",
    "`-` 참고 : https://gem763.github.io/probability%20theory/%ED%99%95%EB%A5%A0%EC%9D%98-%EC%9D%B4%ED%95%B4.html\n",
    "\n",
    "`-` 그런데 $\\Pr$이랑 $P$랑 다른거야? ---> https://stats.stackexchange.com/questions/108441/which-notation-and-why-textp-pr-textprob-or-mathbbp"
   ]
  },
  {
   "cell_type": "markdown",
   "id": "748c195a-1fa5-4dd6-af3a-0d6bc132ac96",
   "metadata": {},
   "source": [
    "## 확률(probability)\n",
    "\n",
    "`-` 확률공간 $(\\Omega, \\mathcal{F}, \\Pr)$과 특정사건 $A\\in \\mathcal{F}$에 대하여 $Pr(A)$을 사건 $A$의 확률이라고 한다 "
   ]
  },
  {
   "cell_type": "markdown",
   "id": "potential-latvia",
   "metadata": {},
   "source": [
    "## 확률밀도함수(pdf) 및 누적분포함수(cdf) "
   ]
  },
  {
   "cell_type": "markdown",
   "id": "unexpected-force",
   "metadata": {},
   "source": [
    "### 확률밀도함수(probability density function, pdf)"
   ]
  },
  {
   "cell_type": "markdown",
   "id": "becoming-capitol",
   "metadata": {},
   "source": [
    "#### 이산형의 경우 pdf의 조건\n",
    "\n",
    "`1.` 모든 실수 $x$에 대하여 $f(x) \\geq 0$\n",
    "\n",
    "`2.` 확률변수 $X$가 가질 수 있는 값 $x_1,\\,x_2,\\,\\cdots$ 에 대하여 $f(x_i)>0$ 이며 $\\sum f(x_i)=1$\n",
    "\n",
    "`-` $f(x)$는 $P(X=x)=f(x)$ 를 만족하고 확률질량함수(probability mass function, pmf)라고도 함"
   ]
  },
  {
   "cell_type": "markdown",
   "id": "metric-dealing",
   "metadata": {},
   "source": [
    "#### 연속형의 경우 pdf의 조건\n",
    "\n",
    "`1.` 모든 실수 $x$에 대하여 $f(x) \\geq 0$\n",
    "\n",
    "`2.` $\\int^{\\infty}_{-\\infty}f(x)\\,dx = 1$\n",
    "\n",
    "`-` 연속형 확률변수는 가질 수 있는 값이 셀 수 없는 무한개이므로 가능한 값 하나하나에 확률을 부여하지 않음\n",
    "\n",
    "`-` 대신에 구간에 확률을 부여함\n",
    "\n",
    "`-` $P(X=x)=0$ 이고 $-\\infty < a < b < \\infty \\longrightarrow \\int_{a}^{b}f(x)\\,dx=P(a\\leq X \\leq b)$"
   ]
  },
  {
   "cell_type": "markdown",
   "id": "excellent-deposit",
   "metadata": {},
   "source": [
    "### 누적분포함수(cumulative distribution function, cdf) "
   ]
  },
  {
   "cell_type": "markdown",
   "id": "greek-allen",
   "metadata": {},
   "source": [
    "`-` 누적분포함수 $F(x) = P(X \\leq x)$\n",
    "\n",
    "`-` $X\\sim f(x)$ : 확률변수 $X$가 확률밀도함수 $f(x)$를 가리킴\n",
    "\n",
    "`-` $X\\sim F(x)$ : 확률변수 $X$가 누적분포함수 $F(x)$를 가리킴\n",
    "\n",
    "`-` $P(a< X \\leq b) = F(b) - F(a)$\n",
    "\n",
    "`-` $f(x) = \\dfrac{d}{dx}F(x)$"
   ]
  },
  {
   "cell_type": "markdown",
   "id": "stable-exchange",
   "metadata": {},
   "source": [
    "#### 누적분포함수의 조건"
   ]
  },
  {
   "cell_type": "markdown",
   "id": "final-private",
   "metadata": {},
   "source": [
    "`1.` $\\lim\\limits_{x\\to-\\infty}F(x)=0$\n",
    "\n",
    "`2.` $\\lim\\limits_{x\\to\\infty}F(x)=1$\n",
    "\n",
    "`3.` $\\lim\\limits_{h\\to0+}F(x+h)=F(x) \\longrightarrow$ 우연속 함수\n",
    "\n",
    "`4.` $a<b$ 이면 $F(a) \\leq F(b)$"
   ]
  },
  {
   "cell_type": "markdown",
   "id": "actual-prague",
   "metadata": {},
   "source": [
    "## 결합 및 조건부 확률분포"
   ]
  },
  {
   "cell_type": "markdown",
   "id": "plastic-omega",
   "metadata": {},
   "source": [
    "### 결합 확률분포"
   ]
  },
  {
   "cell_type": "markdown",
   "id": "verified-concord",
   "metadata": {},
   "source": [
    "`-` 여러 개의 확률변수들을 한번에 고려하는 경우에 사용 ---> ex) 아빠와 아들의 키를 함께 고려\n",
    "\n",
    "`-` `확률벡터` ---> $\\boldsymbol{X} = (X_1,\\,X_2,\\,\\cdots,\\,X_k)$"
   ]
  },
  {
   "cell_type": "markdown",
   "id": "involved-pennsylvania",
   "metadata": {},
   "source": [
    "`-` 두 확률변수 $X$와 $Y$의 결합 확률밀도함수 $f_{\\,X,\\,Y}(x,y)$\n",
    "\n",
    "`-` 이산형인 경우 :  $f_{\\,X,\\,Y}(x,y)=P(X=x,\\,Y=y)$\n",
    "\n",
    "`-` 연속형인 경우 : 임의의 영역 $A$에 대하여 $P[(X,\\,Y)\\in A]=\\iint_{\\,A}f_{\\,X,\\,Y}(x,y)\\,dxdy$ 를 만족하는 $f_{\\,X,\\,Y}(x,y)$\n",
    "\n",
    "`-` 통계수학 교재의 통계학에서의 적분과 미분적분학 교재의 적분 공부하기 "
   ]
  },
  {
   "cell_type": "markdown",
   "id": "studied-least",
   "metadata": {},
   "source": [
    "### 결합 누적분포함수"
   ]
  },
  {
   "cell_type": "markdown",
   "id": "stylish-falls",
   "metadata": {},
   "source": [
    "`-` 결합 누적분포함수 : $F(x_1,\\,x_2,\\,\\cdots,\\,x_k) = P(X_1\\leq x_1,\\,X_2\\leq x_2,\\,\\cdots,\\,X_k\\leq x_k)$\n",
    "\n",
    "`-` $f(x_1,\\,x_2,\\,\\cdots,\\,x_k) = \\cfrac{\\partial^k}{\\partial x_1\\cdots\\partial x_k}F(x_1,\\,x_2,\\,\\cdots,\\,x_k)$"
   ]
  },
  {
   "cell_type": "markdown",
   "id": "e4a7183c-cf9d-4b4f-a8d2-c48c6273c27f",
   "metadata": {},
   "source": [
    "### 주변 확률분포\n",
    "\n",
    "`-` 결합분포가 주어졌다고 하자 그런데 각 변수만의 분포가 필요할 수 있음\n",
    "\n",
    "`-` 결합 확률밀도함수 $f_{X,Y}(x,y)$가 주어졌을 때 $f_X(x),\\;f_Y(y)$를 주변 확률밀도함수라고 함\n",
    "\n",
    "`-` 주변 확률밀도함수 ---> marginal probability density function"
   ]
  },
  {
   "cell_type": "markdown",
   "id": "f436f90e-4d31-4a21-9e13-2a17fd00c240",
   "metadata": {},
   "source": [
    "- 이산형인 경우"
   ]
  },
  {
   "cell_type": "markdown",
   "id": "2f8ba784-66c2-4e35-9300-b39c2445afd9",
   "metadata": {},
   "source": [
    "$$f_X(x) = \\sum\\limits_{\\text{모든 $y$}}f_{X,Y}(x,y),\\quad f_Y(y) = \\sum\\limits_{\\text{모든 $x$}}f_{X,Y}(x,y)$$"
   ]
  },
  {
   "cell_type": "markdown",
   "id": "fe0962f9-5715-4f84-9640-ddf005cf1b18",
   "metadata": {},
   "source": [
    "- 연속형인 경우"
   ]
  },
  {
   "cell_type": "markdown",
   "id": "6f622565-4eb9-4f48-9f34-d770d61835f5",
   "metadata": {},
   "source": [
    "$$f_X(x) = \\int^{\\infty}_{-\\infty}f_{X,Y}(x,y)\\,dy,\\quad f_Y(y) = \\int^{\\infty}_{-\\infty}f_{X,Y}(x,y)\\,dx$$"
   ]
  },
  {
   "cell_type": "markdown",
   "id": "47cace99-1c03-4ce8-af09-2e3ee42d1cf2",
   "metadata": {},
   "source": [
    "`-` 여러개의 확률변수에 대해서도 확장 가능함"
   ]
  },
  {
   "cell_type": "markdown",
   "id": "f3925e01-c9b7-4b70-b8ca-32a248201f85",
   "metadata": {},
   "source": [
    "### 조건부 확률분포 "
   ]
  },
  {
   "cell_type": "markdown",
   "id": "de0737fc-edf1-4559-9479-ce698f3e9b29",
   "metadata": {},
   "source": [
    "`-` 조건부 확률의 확률변수 버전\n",
    "\n",
    "`-` 어떤 몇 개의 확률변수 값이 주어졌을 때 다른 확률변수들의 분포\n",
    "\n",
    "`-` $X=x$가 주어졌을 때 $Y\\mid X=x$의 조건부 확률밀도함수는 $f_{Y\\mid x}(y\\mid x)$ 이다\n",
    "\n",
    "`-` 편의상 $Y\\mid X = x \\Longleftrightarrow Y\\mid x$\n",
    "\n",
    "`-` 조건부 확률밀도함수 ---> conditional probability density function "
   ]
  },
  {
   "cell_type": "markdown",
   "id": "04f7bf78-ee7a-46bd-a174-63dd4ebf2981",
   "metadata": {},
   "source": [
    "$$f_{Y\\mid X=x}(y\\mid x)=\\cfrac{f_{X,Y}(x,y)}{f_X(x)}\\qquad\\text{단, } f_X(x)>0$$"
   ]
  },
  {
   "cell_type": "markdown",
   "id": "0dd88a27-ead8-41ee-8cfa-fa3904c58dec",
   "metadata": {},
   "source": [
    "### 독립확률변수 "
   ]
  },
  {
   "cell_type": "markdown",
   "id": "4d3dbe32-c14c-4402-be74-afba7cf54745",
   "metadata": {},
   "source": [
    "`-` 두 확률변수 $X$와 $Y$는 임의의 실구간 $A$와 $B$에 대하여\n",
    "$$ P(X\\in A,\\,Y\\in B)=P(X\\in A) \\cdot P(Y\\in B)$$\n",
    "가 성립할 때 서로 독립(independent)이라고 함"
   ]
  },
  {
   "cell_type": "markdown",
   "id": "7d636eeb-519f-44f7-8832-567e32d7b956",
   "metadata": {},
   "source": [
    "`-` 위의 정리를 확률밀도함수를 사용하여 나타내보자\n",
    "\n",
    "`-` 두 확률변수 $X$와 $Y$가 서로 독립일 필요충분조건은\n",
    "$$f_{X,Y}(x,y)=f_X(x)\\cdot f_Y(y)$$"
   ]
  },
  {
   "cell_type": "markdown",
   "id": "3d59b7ad-3f20-4ec5-85f9-5025e2e4d983",
   "metadata": {},
   "source": [
    "`-` 두 확률변수 $X$와 $Y$의 독립여부 파악하는 방법! \n",
    "\n",
    "`1.` 결합 확률밀도함수를 통해 $X$와 $Y$의 주변 확률밀도함수를 구한다\n",
    "\n",
    "`2.` 그리고 $f_{X,Y}(x,y)=f_X(x)\\cdot f_Y(y)$가 성립하는지 확인한다"
   ]
  },
  {
   "cell_type": "markdown",
   "id": "1863467c-785b-475b-8947-92a42813068f",
   "metadata": {},
   "source": [
    "> Tip: 쉬운방법은 $f_{X,Y}(x,y)$가 $X$만의 함수와 $Y$만의 함수로 인수분해 되는지 파악하는 것"
   ]
  },
  {
   "cell_type": "markdown",
   "id": "a453767a-e1e8-40ff-be82-17d3d05aebea",
   "metadata": {},
   "source": [
    "## 기댓값 "
   ]
  },
  {
   "cell_type": "markdown",
   "id": "bf6064f9-ddf4-4c0f-a5e1-8bef0fc892da",
   "metadata": {},
   "source": [
    "`-` 확률변수 $X$의 확률밀도함수가 $f(x)$일 때 $X$의 기댓값(expectation)은\n",
    "$$E(X)=\\begin{cases}\\sum\\limits_{\\text{모든 }x_i}x_{i}f(x_i)\\quad \\text{이산형인 경우} \\\\ \\int_{-\\infty}^{\\infty}xf(x)\\,dx\\quad \\text{연속형인 경우}\\end{cases}$$"
   ]
  },
  {
   "cell_type": "markdown",
   "id": "9bca8fef-a1c7-467b-8564-3f21e4851650",
   "metadata": {},
   "source": [
    "`-` 단 $E(|X|)<\\infty$"
   ]
  },
  {
   "cell_type": "markdown",
   "id": "d52c7a20-18a7-440b-a473-be131359f17c",
   "metadata": {},
   "source": [
    "`-` 확률변수 $X$의 기댓값이 아닌 $2X+3$이나 $X^2$ 같은 확률변수의 기댓값이 궁금할 수 있다"
   ]
  },
  {
   "cell_type": "markdown",
   "id": "7b4f1042-6c4b-4157-a011-c86e5e3e92e8",
   "metadata": {},
   "source": [
    "`-` $Y=g(X)$의 확률밀도함수를 $f_Y(y)$라고 하면\n",
    "$$E_X[g(X)]=E_Y(Y)=\\begin{cases}\\sum\\limits_{\\text{모든 }y_i}y_{i}f_{Y}(y_i)\\quad \\text{이산형인 경우} \\\\ \\int_{-\\infty}^{\\infty}yf_{Y}(y)\\,dy\\quad \\text{연속형인 경우}\\end{cases}$$"
   ]
  },
  {
   "cell_type": "markdown",
   "id": "52ab063d-4854-4556-8099-07e6f37874a9",
   "metadata": {},
   "source": [
    "`-` 만약 $X$의 확률밀도함수를 알고 있으면 $Y$의 확률밀도함수를 구할 필요가 없다"
   ]
  },
  {
   "cell_type": "markdown",
   "id": "70b99540-6ed2-4f83-8831-a648df16cf4d",
   "metadata": {},
   "source": [
    "$$E_X[g(X)]=E_Y(Y)=\\begin{cases}\\sum\\limits_{\\text{모든 }x_i}g(x_{i})f_{X}(x_i)\\quad \\text{이산형인 경우} \\\\ \\int_{-\\infty}^{\\infty}g(x)f_{X}(x)\\,dx\\quad \\text{연속형인 경우}\\end{cases}$$"
   ]
  },
  {
   "cell_type": "markdown",
   "id": "a211bbf1-9939-4081-a59a-92d6d75ba866",
   "metadata": {},
   "source": [
    "`-` $Y=g(X)$의 기댓값을 구하는 데는 위의 두 가지 방법이 가능함"
   ]
  },
  {
   "cell_type": "markdown",
   "id": "12b03a69-597e-4b2d-8c28-125e58cf6692",
   "metadata": {},
   "source": [
    "### 기댓값의 성질 "
   ]
  },
  {
   "cell_type": "markdown",
   "id": "c1416bbc-6eea-456e-9891-76fc32da5437",
   "metadata": {},
   "source": [
    "`-` $E(c)=c$\n",
    "\n",
    "`-` $E(aX+b)=aE(X)+b$"
   ]
  },
  {
   "cell_type": "markdown",
   "id": "2b865a54-11cf-4c00-aa90-7bdc174e55fe",
   "metadata": {},
   "source": [
    "`-` 두 확률변수 $X$와 $Y$가 서로 독립인 경우\n",
    "\n",
    "`-` $E(XY)=E(X)\\cdot E(Y)$\n",
    "\n",
    "`-` $E(g(X)h(Y)]=E[g(X)]\\cdot E[h(Y)]$"
   ]
  },
  {
   "cell_type": "markdown",
   "id": "5f054306-9fb5-435d-989a-1581dee974a3",
   "metadata": {},
   "source": [
    "### 분산과 공분산"
   ]
  },
  {
   "cell_type": "markdown",
   "id": "509d324a-f248-468d-8595-86c23c8497c7",
   "metadata": {},
   "source": [
    "$$Var(X)=E[X-E(X)]^2=E(X^2)-[E(X)]^2\\\\\n",
    "\\sigma_{X}=\\sqrt{Var(X)}$$"
   ]
  },
  {
   "cell_type": "markdown",
   "id": "8024743d-feb7-4ae0-a10f-fcd622e742e6",
   "metadata": {},
   "source": [
    "`-` 두 확률변수 $X,Y$의 공분산은 다음과 같다"
   ]
  },
  {
   "cell_type": "markdown",
   "id": "ada48308-6bda-448b-a473-a952d566e58a",
   "metadata": {},
   "source": [
    "$$\\begin{aligned}Cov(X,Y)&=E[(X-EX)(Y-EY)]\\\\\n",
    "&=E(XY)-E(X)E(Y)\\end{aligned}$$"
   ]
  },
  {
   "cell_type": "markdown",
   "id": "ca37473f-3f4f-4d42-9271-a1558ff5e38e",
   "metadata": {},
   "source": [
    "#### 분산의 성질 "
   ]
  },
  {
   "cell_type": "markdown",
   "id": "be6af967-c4c6-4925-9006-a15db4c99bfd",
   "metadata": {},
   "source": [
    "`1.` $Var(aX+b)=a^2Var(X)$\n",
    "\n",
    "`2.` 확률변수들이 서로 독립이면 $Var\\bigg(\\sum\\limits^{n}_{i=1}X_{i}\\bigg)=\\sum\\limits^{n}_{i=1}Var(X_i)$\n",
    "\n",
    "`3.` $Cov(X,X)=Var(X)$\n",
    "\n",
    "`4.` 두 확률변수가 서로 독립이면 $Cov(X,Y)=0$\n",
    "\n",
    "`5.` $Cov(aX+b,cY+d)=acCov(X,Y)$\n",
    "\n",
    "`6.` $Var\\bigg(\\sum\\limits^{n}_{i=1}X_{i}\\bigg)=\\sum\\limits^{n}_{i=1}Var(X_{i})+2\\mathop{\\sum\\sum}\\limits_{j<k}Cov(X_j,X_k)$"
   ]
  },
  {
   "cell_type": "markdown",
   "id": "22a58df9-547b-4750-8193-64be70db6a08",
   "metadata": {},
   "source": [
    "### 조건부 기댓값"
   ]
  },
  {
   "cell_type": "markdown",
   "id": "91145009-ff9a-48fe-ab85-5f055b1ee8b9",
   "metadata": {},
   "source": [
    "$$E(Y\\mid X=x)=E_Y(Y)=\\begin{cases}\\sum\\limits_{\\text{모든 }y_i}y_{i}f_{Y\\mid x}(y_i\\mid x)\\quad X,Y\\text{가 이산형인 경우} \\\\ \\int_{-\\infty}^{\\infty}yf_{Y\\mid x}(y\\mid x)\\,dy\\quad X,Y\\text{가 연속형인 경우}\\end{cases}$$"
   ]
  },
  {
   "cell_type": "markdown",
   "id": "b41e3eeb-7d99-4375-b477-98bf7f586a22",
   "metadata": {},
   "source": [
    "`-` (이중 기댓값 정리) 두 확률변수 $X,Y$에 대하여 $E[E(Y\\mid X)]=E(Y)$ 가 성립함"
   ]
  },
  {
   "cell_type": "markdown",
   "id": "65ab3e6a-a097-435a-bba5-f4f19718fd7b",
   "metadata": {},
   "source": [
    "`-` 확률변수 $X$와 $Y$가 독립이면 $E(Y\\mid x)=E(Y),\\;E(X\\mid y)=E(X) \\to$ 사건의 독립 확률변수 버전 "
   ]
  },
  {
   "cell_type": "markdown",
   "id": "2a855f82-44b2-435a-bce1-d4d605b896e1",
   "metadata": {},
   "source": [
    "`-` 조건부 분산 : $Var(Y\\mid x)=E[\\{Y-E(Y\\mid x)\\}^2\\mid x] = E(Y^2\\mid x)-[E(Y\\mid x)]^2$"
   ]
  },
  {
   "cell_type": "markdown",
   "id": "f57eb57d-e9b2-4658-a76a-064545bbf976",
   "metadata": {},
   "source": [
    "`-` 분산 분해 : $Var(Y) =  E[Var(Y\\mid X)]+Var[E(Y\\mid X)]$\n",
    "\n",
    "`-` 조건부 분산($E[Var(Y\\mid X)]$)이 무조건부 분산($Var(Y))$보다 평균적으로 더 작음\n",
    "\n",
    "`-` $Var(E(Y\\mid X))\\leq Var(Y) \\longrightarrow$ 개별 개체의 산포보다 그룹별 평균의 산포가 작음 "
   ]
  },
  {
   "cell_type": "markdown",
   "id": "f3b2ab65-5492-4764-ad8e-515d413599dc",
   "metadata": {},
   "source": [
    "### 확률부등식"
   ]
  },
  {
   "cell_type": "markdown",
   "id": "2eeeef08-6b6d-45f8-8d29-f5ce95da00c5",
   "metadata": {},
   "source": [
    "`-` 마코프 확률부등식 : 실함수 $u(X) > 0$라고 할 때 $P[u(X)\\geq c] \\leq \\dfrac{E[u(X)]}{c}$\n",
    "\n",
    "`-` 체비셰프 부등식 : $P(|X-\\mu| < k\\sigma)\\geq 1-\\dfrac{1}{k^2}$\n",
    "\n",
    "`-` 코시-슈바르츠 부등식 : $[E(XY)]^2 \\leq E(X^2)\\cdot E(Y^2)$"
   ]
  },
  {
   "cell_type": "markdown",
   "id": "5e87ac67-f771-4708-a093-7501c0ae0639",
   "metadata": {},
   "source": [
    "# 표본분포 및 그의 근사"
   ]
  },
  {
   "cell_type": "markdown",
   "id": "5854b2df-1255-48ec-83b5-515118cdb608",
   "metadata": {},
   "source": [
    "## 대수의 법칙과 중심극한정리"
   ]
  },
  {
   "cell_type": "markdown",
   "id": "155d8583-6e4a-410f-a64a-2ec4761a4ad8",
   "metadata": {},
   "source": [
    "### 확률 수렴"
   ]
  },
  {
   "cell_type": "markdown",
   "id": "aae85868-5867-4602-b609-e79318e2bf91",
   "metadata": {},
   "source": [
    "`-` 확률변수의 열 $X_1,X_2,\\cdots,X_n,\\cdots$과 확률변수 $X$가 같은 확률공간에 정의된다고 하자\n",
    "\n",
    "`-` 확률변수의 열을 모르면 다음을 참고하자 : https://www.probabilitycourse.com/chapter7/7_2_2_sequence_of_random_variables.php\n",
    "\n",
    "`-` 확률변수의 수렴 : https://www.probabilitycourse.com/chapter7/7_2_0_convergence_of_random_variables.php\n",
    "\n",
    "`-` 만약 임의의 $\\epsilon>0$에 대해 $\\lim\\limits_{n \\to \\infty}P(|X_n-X|\\geq \\epsilon)=0$ 또는 $\\lim\\limits_{n\\to\\infty}P(|X_n-X|< \\epsilon)=1$ 이라면\n",
    "\n",
    "`-` $X_n$이 $X$로 확률적으로 수렴한다고 하고 $X_n{\\xrightarrow{~~p~~}} X$로 표기 : `확률 수렴(convergence in probability)`"
   ]
  },
  {
   "cell_type": "markdown",
   "id": "ee08bd22-255d-4533-9624-1d23da0e3bb5",
   "metadata": {},
   "source": [
    "`-` 확률 수렴이 무엇인지 뭔가 직관적으로 와닿지 않는다\n",
    "\n",
    "`-` 일단 수열의 수렴을 생각해보자\n",
    "\n",
    "`-` 예컨데 $1,\\dfrac{1}{2},\\dfrac{1}{4},\\dfrac{1}{8},\\cdots $ 와 같은 [수열](https://ko.wikipedia.org/wiki/%EC%88%98%EC%97%B4)이 있다고 하자\n",
    "\n",
    "`-` 위의 수열을 다음과 같이 나타낼 수 있음 ---> $a_n=\\dfrac{1}{2^n},\\;n\\in \\mathbb{N}$\n",
    "\n",
    "`-` 여기서 $n\\to\\infty$ 이면 $a_n\\to 0$임을 알 수 있다\n",
    "\n",
    "`-` 즉 $n$이 커지면 어떠한 상수 $a$로 수렴한다는 것\n",
    "\n",
    "`-` 수열 대신 확률변수의 열인 경우도 똑같이 생각하면 된다\n",
    "\n",
    "`-` 예컨대 다음과 같은 확률변수의 열이 있다고 해보자\n",
    "\n",
    "`-` $X_1,X_2,\\cdots,X_n$ ---> $n$에 의존한다\n",
    "\n",
    "`-` 그런데 $X_1\\sim EXP(1),\\; X_2\\sim EXP(2),\\;\\cdots,\\;X_n\\sim EXP(n)$ 라고 하자\n",
    "\n",
    "`-` 즉 $X_n\\sim EXP(n)$, 예컨대 $n=3$이면 $X_3\\sim EXP(3)$\n",
    "\n",
    "`-` 참고로 $EXP(n)$에서 $n$은 포아송분포의 모수 $\\lambda$를 의미한다\n",
    "\n",
    "`-` 만약  $n\\to\\infty$ 이면 $X_n\\to 0$가 되고 이는 $X_n\\xrightarrow{~~p~~}0$\n",
    "\n",
    "$$\\begin{aligned}\\lim\\limits_{n\\to\\infty} P(|X_n-X|\\geq \\epsilon)&=\\lim\\limits_{n\\to\\infty} P(|X_n-0|\\geq \\epsilon)\\\\\n",
    "&=\\lim\\limits_{n\\to\\infty} P(X_n\\geq \\epsilon)\\quad (X_n\\geq 0 \\text{ as } X_n\\sim EXP(n))\\\\\n",
    "&=\\lim\\limits_{n\\to\\infty} 1-F_{X_n}(\\epsilon)\\\\\n",
    "&=\\lim\\limits_{n\\to\\infty} 1-(1-e^{-n\\epsilon})\\\\\n",
    "&=\\lim\\limits_{n\\to\\infty} e^{-n\\epsilon}\\\\\n",
    "&=0,\\quad \\forall \\epsilon \\geq 0\\end{aligned}$$\n",
    "\n",
    "`-` 따라서 $X_n\\xrightarrow{~~p~~}0$\n",
    "\n",
    "`-` 다시 말하자면 확률변수의 열 $X_1,X_2,\\cdots,X_n$은 zero random variable $X$로 확률 수렴한다"
   ]
  },
  {
   "cell_type": "markdown",
   "id": "26c4e114-ab62-4d2c-a2c1-0887d4838de0",
   "metadata": {},
   "source": [
    "`-` 참고 : https://www.probabilitycourse.com/chapter7/7_2_5_convergence_in_probability.php\n",
    "\n",
    "`-` 근데 문득 궁금한점이 생겼다\n",
    "\n",
    "`-` $X_1,X_2,\\cdots,X_n$은 같은 확률공간에 존재하는건가?\n",
    "\n",
    "`-` $\\Omega,\\mathcal{F}$는 같다\n",
    "\n",
    "`-` 그런데 $\\Pr$은?\n",
    "\n",
    "`-` $\\Pr$이 같다면 예컨대 $\\Pr(1<X<2)$가 $X_1,X_2,\\cdots,X_n$에 대해서 같아야 하는거 아닌가? \n",
    "\n",
    "`-` 하지만 $X_1,X_2,\\cdots,X_n$ 각각의 pdf는 다르기에 $\\Pr(1<X<2)$도 다르다\n",
    "\n",
    "`-` 그럼 같은 확률공간이 아닌건가?\n",
    "\n",
    "`-` 아니면 임의의 실수 $a$에 대해서 $\\Pr(a)=0$이니까 똑같나? \n",
    "\n",
    "`-` 그냥 내가 확률공간의 의미를 잘못알고 있는 걸수도...\n",
    "\n",
    "`-` 위에 대한 나의 생각 : $\\Pr$은 $\\mathcal{F}$를 $[0,1]$로 맵핑하는 함수다 ---> 예컨대 동전던지기의 경우 $\\Pr(\\{H\\})=\\dfrac{1}{2}$\n",
    "\n",
    "`-` $\\Pr(1<X<2)$에서 $1<X<2$는 $\\mathcal{F}$ 중에서 하나의 사건에 해당한다(?)\n",
    "\n",
    "`-` $\\Pr$은 $1<X<2$를 $f_X(x)$ 그래프 상에서 전체면적($1$) 대비 $1<x<2$ 아래의 면적의 차지 비율에 맵핑한다 \n",
    "\n",
    "`-` 예컨대 정규분포의 경우 $\\Pr(0<X<\\infty) = 0.5$이다\n",
    "\n",
    "`-` 위의 경우 $\\Pr$은 $\\mathcal{F}$를 $f_X(x)$ 그래프 상에서 전체면적($1$) 대비 $\\mathcal{F}$에 해당하는 아래의 면적의 차지 비율에 맵핑한다 \n",
    "\n",
    "`-` 즉 $X_1,X_2,\\cdots,X_n$ 각각의 pdf는 다르기에 $\\Pr(1<X<2)$도 다르지만 $\\Pr$ 함수의 규칙은 같으므로 같은 확률공간에 있다고 한다(?)"
   ]
  },
  {
   "cell_type": "markdown",
   "id": "80fa5160-8191-4766-9136-80bc950aab54",
   "metadata": {},
   "source": [
    "### 대수의 법칙"
   ]
  },
  {
   "cell_type": "markdown",
   "id": "19873762-a40e-49fb-920f-308f5e5230c1",
   "metadata": {},
   "source": [
    "`-` 평균이 $\\mu<\\infty$인 확률밀도함수 $f(x)$로부터 랜덤표본($i.i.d$) $X_1,X_2,\\cdots,X_n$을 얻었다면 $\\overline{X_n}\\xrightarrow{~~p~~}\\mu$가 성립 : `대수의 법칙(law of large numbers)`"
   ]
  },
  {
   "cell_type": "markdown",
   "id": "9f16f1f2-5e30-495a-8ff6-63721ff9dcc7",
   "metadata": {},
   "source": [
    "### 분포 수렴"
   ]
  },
  {
   "cell_type": "markdown",
   "id": "dfddc0a8-d78a-40fa-b13b-320ed170f72c",
   "metadata": {},
   "source": [
    "`-` 확률변수의 열 $X_1,X_2,\\cdots,X_n,\\cdots$이 누적분포함수 $F_{X_1},F_{X_2},\\cdots,F_{X_n},\\cdots$을 각각 갖고 $X\\sim F_X$라고 하자\n",
    "\n",
    "`-` 만약 함수 $F_X$가 연속인 모든 점 $x$에서 $\\lim\\limits_{n\\to\\infty}F_{X_n}=F_X(x)$가 만족된다면\n",
    "\n",
    "`-` $X_n$이 $X$로 분포 수렴한다고 말하고 $X_n{\\xrightarrow{~~d~~}} X$로 표기 : `분포 수렴(convergence in distribution)`"
   ]
  },
  {
   "cell_type": "markdown",
   "id": "417a25df-8ca7-4862-bd1a-eba132039b4b",
   "metadata": {},
   "source": [
    "> Note: $X_n{\\xrightarrow{~~p~~}} X$ 이면 $X_n{\\xrightarrow{~~d~~}} X$ 이지만 역은 항상 성립하진 않는다"
   ]
  },
  {
   "cell_type": "markdown",
   "id": "b9358d7f-1146-44bc-80b9-6567a4857c64",
   "metadata": {},
   "source": [
    "`-` 참고 : https://www.probabilitycourse.com/chapter7/7_2_4_convergence_in_distribution.php"
   ]
  },
  {
   "cell_type": "markdown",
   "id": "52a28267-bde7-4e97-83f8-ab7ef1388bd3",
   "metadata": {},
   "source": [
    "> Note: $c$가 상수일 때 $X_n{\\xrightarrow{~~p~~}} c$ 와 $X_n{\\xrightarrow{~~d~~}} c$ 는 서로 동치이다"
   ]
  },
  {
   "cell_type": "code",
   "execution_count": null,
   "id": "b3e20fe3-d480-4487-a6c0-6a548341ed40",
   "metadata": {},
   "outputs": [],
   "source": []
  }
 ],
 "metadata": {
  "kernelspec": {
   "display_name": "Python 3 (ipykernel)",
   "language": "python",
   "name": "python3"
  },
  "language_info": {
   "codemirror_mode": {
    "name": "ipython",
    "version": 3
   },
   "file_extension": ".py",
   "mimetype": "text/x-python",
   "name": "python",
   "nbconvert_exporter": "python",
   "pygments_lexer": "ipython3",
   "version": "3.8.11"
  }
 },
 "nbformat": 4,
 "nbformat_minor": 5
}
