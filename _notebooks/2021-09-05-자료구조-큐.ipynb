{
 "cells": [
  {
   "cell_type": "markdown",
   "id": "powered-boost",
   "metadata": {},
   "source": [
    "# 자료구조 큐\n",
    "\n",
    "> \"작성 완료\"\n",
    "\n",
    "- toc: true\n",
    "- branch: master\n",
    "- badges: true\n",
    "- comments: true\n",
    "- author: 한재수\n",
    "- categories: [Data Structure]"
   ]
  },
  {
   "cell_type": "markdown",
   "id": "preceding-understanding",
   "metadata": {},
   "source": [
    "# 큐 (Queue)"
   ]
  },
  {
   "cell_type": "markdown",
   "id": "failing-ridge",
   "metadata": {},
   "source": [
    "`-` 스택(stack)과 반대되는 개념으로 먼저 집어 넣은(push) 데이터가 먼저 나오는(pop) FIFO(First In First Out)구조\n",
    "\n",
    "`-` 참고: [자료구조 큐][website]\n",
    "\n",
    "[website]: https://ko.wikipedia.org/wiki/%ED%81%90_(%EC%9E%90%EB%A3%8C_%EA%B5%AC%EC%A1%B0)"
   ]
  },
  {
   "cell_type": "markdown",
   "id": "typical-break",
   "metadata": {},
   "source": [
    "## 큐 사용"
   ]
  },
  {
   "cell_type": "markdown",
   "id": "desirable-algeria",
   "metadata": {},
   "source": [
    "`-` 파이썬에서 큐는 from collections import deque를 실행한 후 `deque()`통해 구현할 수 있다\n",
    "\n",
    "`-` `queue.append(x)`를 통해 큐에 x를 오른쪽(뒤)에 push한다\n",
    "\n",
    "`-` `queue.popleft()`를 통해 큐에서 앞의 원소(왼쪽)를 pop한다\n",
    "\n",
    "`-` 참고: [queue in python](https://www.geeksforgeeks.org/queue-in-python/)"
   ]
  },
  {
   "cell_type": "markdown",
   "id": "regular-market",
   "metadata": {},
   "source": [
    "### 예제"
   ]
  },
  {
   "cell_type": "code",
   "execution_count": 1,
   "id": "narrative-forty",
   "metadata": {},
   "outputs": [
    {
     "data": {
      "text/plain": [
       "deque([2])"
      ]
     },
     "execution_count": 1,
     "metadata": {},
     "output_type": "execute_result"
    }
   ],
   "source": [
    "from collections import deque ## 큐(queue)를 사용하기 위해 deque라이브러리 import\n",
    "\n",
    "queue = deque()  # 큐(queue) 자료구조 생성 ---> deque([])\n",
    "queue.append(1)  # 큐에 1 추가 ---> deque([1]) \n",
    "queue.append(2)  # 큐에 2 추가 ---> deque([1, 2]) \n",
    "queue.popleft()  # 큐에서 앞의 원소를 추출함 ---> 선입선출 구조 ---> deque([2]) \n",
    "queue"
   ]
  },
  {
   "cell_type": "code",
   "execution_count": null,
   "id": "taken-fancy",
   "metadata": {},
   "outputs": [],
   "source": []
  }
 ],
 "metadata": {
  "kernelspec": {
   "display_name": "Python 3 (ipykernel)",
   "language": "python",
   "name": "python3"
  },
  "language_info": {
   "codemirror_mode": {
    "name": "ipython",
    "version": 3
   },
   "file_extension": ".py",
   "mimetype": "text/x-python",
   "name": "python",
   "nbconvert_exporter": "python",
   "pygments_lexer": "ipython3",
   "version": "3.8.11"
  }
 },
 "nbformat": 4,
 "nbformat_minor": 5
}
