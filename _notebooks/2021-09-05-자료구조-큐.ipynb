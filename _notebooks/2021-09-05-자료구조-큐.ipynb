{
 "cells": [
  {
   "cell_type": "markdown",
   "id": "protected-techno",
   "metadata": {},
   "source": [
    "# 자료구조 큐(queue)\n",
    "\n",
    "> \"작성 완료\"\n",
    "\n",
    "- toc: true\n",
    "- branch: master\n",
    "- badges: true\n",
    "- comments: true\n",
    "- author: 한재수\n",
    "- categories: [python, data structure]"
   ]
  },
  {
   "cell_type": "markdown",
   "id": "musical-ghost",
   "metadata": {},
   "source": [
    "# 큐(queue)"
   ]
  },
  {
   "cell_type": "markdown",
   "id": "recent-denmark",
   "metadata": {},
   "source": [
    "`-` 큐(queue)는 기본적인 자료 구조 + 스택(stack)과 반대되는 개념\n",
    "\n",
    "`-` 큐는 먼저 집어 넣은(push) 데이터가 먼저 나오는(pop) FIFO(First In First Out)구조로 되어 있음 ---> 식당에서 줄 기다리기 ---> 먼저 줄을 선 사람이 먼저 줄에서 나감( =식당으로 들어감)\n",
    "\n",
    "`-` 참고: [자료구조 큐][website]\n",
    "\n",
    "[website]: https://ko.wikipedia.org/wiki/%ED%81%90_(%EC%9E%90%EB%A3%8C_%EA%B5%AC%EC%A1%B0)"
   ]
  },
  {
   "cell_type": "markdown",
   "id": "identified-lightweight",
   "metadata": {},
   "source": [
    "## 큐(queue) 사용"
   ]
  },
  {
   "cell_type": "markdown",
   "id": "protected-runner",
   "metadata": {},
   "source": [
    "`-` 파이썬에서 queue은 from collections import deque를 실행한 후 `deque()`통해 구현할 수 있다\n",
    "\n",
    "`-` `queue.append(x)`를 통해 큐에 x를 push한다\n",
    "\n",
    "`-` `queue.popleft()`를 통해 큐에서 앞의 원소를 pop한다"
   ]
  },
  {
   "cell_type": "markdown",
   "id": "hindu-float",
   "metadata": {},
   "source": [
    "### 예제"
   ]
  },
  {
   "cell_type": "code",
   "execution_count": 3,
   "id": "urban-armenia",
   "metadata": {},
   "outputs": [
    {
     "data": {
      "text/plain": [
       "1"
      ]
     },
     "execution_count": 3,
     "metadata": {},
     "output_type": "execute_result"
    }
   ],
   "source": [
    "from collections import deque ## 큐(queue)를 사용하기 위해 deque라이브러리 import\n",
    "\n",
    "queue = deque() ## 큐(queue) 자료구조 생성 ---> deque([])\n",
    "queue.append(1) ## 큐에 1 추가 ---> deque([1]) \n",
    "queue.append(2) ## 큐에 2 추가 ---> deque([1, 2]) \n",
    "queue.popleft() ## 큐에서 앞의 원소를 추출함 ---> 선입선출 구조 ---> deque([2]) "
   ]
  },
  {
   "cell_type": "code",
   "execution_count": null,
   "id": "bound-penetration",
   "metadata": {},
   "outputs": [],
   "source": []
  }
 ],
 "metadata": {
  "kernelspec": {
   "display_name": "Python 3",
   "language": "python",
   "name": "python3"
  },
  "language_info": {
   "codemirror_mode": {
    "name": "ipython",
    "version": 3
   },
   "file_extension": ".py",
   "mimetype": "text/x-python",
   "name": "python",
   "nbconvert_exporter": "python",
   "pygments_lexer": "ipython3",
   "version": "3.8.8"
  }
 },
 "nbformat": 4,
 "nbformat_minor": 5
}
