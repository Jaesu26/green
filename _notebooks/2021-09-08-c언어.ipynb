{
 "cells": [
  {
   "cell_type": "markdown",
   "id": "fuzzy-catch",
   "metadata": {},
   "source": [
    "# c언어\n",
    "\n",
    "> \"작성 중\"\n",
    "\n",
    "- toc: true\n",
    "- branch: master\n",
    "- badges: true\n",
    "- comments: true\n",
    "- author: 한재수\n",
    "- categories: [c]"
   ]
  },
  {
   "cell_type": "markdown",
   "id": "social-removal",
   "metadata": {},
   "source": [
    "```c\n",
    "#include <stdio.h>\n",
    "\n",
    "int main(){\n",
    "    printf(\"Hello World!\");\n",
    "    \n",
    "    return 0;\n",
    "}\n",
    "```"
   ]
  },
  {
   "cell_type": "markdown",
   "id": "inclusive-manhattan",
   "metadata": {},
   "source": [
    "`-` c언어 공부해 얼른 c언어 공부해 얼른 c언어 공부해 얼른 c언어 공부해 얼른 c언어 공부해 얼른\n",
    "\n",
    "`-` 이게 편해서 이걸로 c언어 개념 공부할 거임"
   ]
  },
  {
   "cell_type": "markdown",
   "id": "digital-hollow",
   "metadata": {},
   "source": [
    "# 기본 시작 "
   ]
  },
  {
   "cell_type": "markdown",
   "id": "interstate-charger",
   "metadata": {},
   "source": [
    "`-` c언어 기본 시작은 아래와 같음 ---> 빼먹지 마셈"
   ]
  },
  {
   "cell_type": "markdown",
   "id": "given-camera",
   "metadata": {},
   "source": [
    "```c\n",
    "#include <stdio.h>\n",
    "\n",
    "int main(){\n",
    "    // 작성할 내용\n",
    "    \n",
    "    return 0;\n",
    "}\n",
    "```"
   ]
  },
  {
   "cell_type": "markdown",
   "id": "mobile-fifteen",
   "metadata": {},
   "source": [
    "# 익혀둘 것\n",
    "\n",
    "`-` `문장끝`에 `세미콜론(;)` 찍기\n",
    "\n",
    "`-` `변수 초기화` 하기 ---> 안하면 쓰레기값 생김 ---> 전역변수 같은 것은 0으로 저절로 초기화됨\n",
    "\n",
    "`-` 하나의 문자는 'a'와 같이 문자열은 \"abc\"와 같이 사용하기\n",
    "\n",
    "`-` `변수는 사용전에 선언하기` ----> ex) int num = 21;\n",
    "\n",
    "`-` `scanf(\"%형식\", &변수명);` ---> scanf 함수는 `공백`을 기준으로 `입력을 끊음` ---> %d(정수), %f(float), %lf(double), %c(문자), %s(문자열) + %c의 경우 공백도 문자로 취급하여 입력받음\n",
    "\n",
    "`-` `printf(\"%형식\", 변수명);` ---> %d(정수), %f(float), %c(문자), %s(문자열)\n",
    "\n",
    "`-` `sizeof()` ---> `자료형의 크기`\n",
    "\n",
    "`-` `and`는 `&&`\n",
    "\n",
    "`-` `or`는 `||`\n",
    "\n",
    "`-` `%`는 `나머지`\n",
    "\n",
    "`-` 몫은 나누기(/) 하고 int형으로 만들기 or 처음부터 `int형으로 변수 선언하고 나누기(/)`\n",
    "\n",
    "`-` `소수점 자리수` 조절 ---> `\"%.3f\"` ---> 소수점 셋째짜리까지 float 타입으로 출력\n",
    "\n",
    "`-` `(조건문)? x : y;` ---> 조건문이 참이면 x 거짓이면 y실행\n",
    "\n",
    "`-` `자료형 변환`하기 ---> f = (double)(x+y); // 수식의 값이 double형으로 변환됨\n",
    "\n",
    "`-` 기호 상수 ---> `const 자료형 상수이름 = 값;`(const랑 자료형 위치 바껴도 ok) 또는 `#define 상수이름 값`\n",
    "\n",
    "`-` 센티널( = 보초값) ---> 데이터의 입력 끝을 알리는데 사용되는 값\n",
    "\n",
    "`-` scanf(\"%c\", &a)로 했는데 뭔가 이상하면 scanf(\" %c\", &a)로 해보자 ---> 공백문자를 제외해줌\n",
    "\n",
    "`-` `수학 함수`는 `math.h` ---> `#include <math.h>`\n",
    "\n",
    "`-` c언어에서 `배열의 이름`은 `배열의 시작`을 가리킴"
   ]
  },
  {
   "cell_type": "markdown",
   "id": "practical-retreat",
   "metadata": {},
   "source": [
    "# if문 "
   ]
  },
  {
   "cell_type": "markdown",
   "id": "electoral-perspective",
   "metadata": {},
   "source": [
    "`-` `if(조건문) 조건문이 참일때 실행할 식;` ---> ex) if (num > 0) printf(\"양수입니다\"); ---> 한 줄이면 { } 생량해도 되지만 두 줄 넘어가면 무조건 { } 써야함\n",
    "\n",
    "`-` if - else문\n",
    "```c\n",
    "if(number > 0){\n",
    "    printf(\"양수 O\");\n",
    "}\n",
    "else{\n",
    "    printf(\"양수 X\");\n",
    "}\n",
    "```"
   ]
  },
  {
   "cell_type": "markdown",
   "id": "authentic-frank",
   "metadata": {},
   "source": [
    "`-` switch문 ---> 알아서 책보셈 "
   ]
  },
  {
   "cell_type": "markdown",
   "id": "becoming-physics",
   "metadata": {},
   "source": [
    "# while문"
   ]
  },
  {
   "cell_type": "markdown",
   "id": "systematic-alcohol",
   "metadata": {},
   "source": [
    "`-` `while(조건문) 조건문이 참일때 실행할 식;\n",
    "\n",
    "```c\n",
    "int i = 0;\n",
    "whle(i < 5){\n",
    "    printf(\"%d\", i);\n",
    "    i++;\n",
    "}\n",
    "```"
   ]
  },
  {
   "cell_type": "markdown",
   "id": "hourly-multiple",
   "metadata": {},
   "source": [
    "`-` 반복 문장을 적어도 한번은 실행하려면 do-whlie문 사용"
   ]
  },
  {
   "cell_type": "markdown",
   "id": "considerable-intranet",
   "metadata": {},
   "source": [
    "```c\n",
    "int i = 10000;\n",
    "\n",
    "do\n",
    "{\n",
    "    printf(\"i=%d\\n\", i);\n",
    "    i++\n",
    "}while(i < 3); // ---> do-while문은 while문 뒤에 세미콜론을 찍어야함\n",
    "\n",
    "// output ---> i = 10000\n",
    "```"
   ]
  },
  {
   "cell_type": "markdown",
   "id": "shared-horizontal",
   "metadata": {},
   "source": [
    "# for문"
   ]
  },
  {
   "cell_type": "markdown",
   "id": "promising-forge",
   "metadata": {},
   "source": [
    "`-` for문은 초기식, 조건식, 증감식으로 구성되어 있고 이들 3 부분은 세미콜론으로 분리되어 있음"
   ]
  },
  {
   "cell_type": "markdown",
   "id": "designed-diving",
   "metadata": {},
   "source": [
    "```c\n",
    "int i;\n",
    "for(i = 0; i < 5; i++){\n",
    "    printf(\"Hi\");\n",
    "}\n",
    "```\n"
   ]
  },
  {
   "cell_type": "markdown",
   "id": "careful-agent",
   "metadata": {},
   "source": [
    "`-` 위 증가 수식은 i+=1과 동일\n",
    "\n",
    "`-` i *= 2 와 같은 형태도 가능함\n",
    "\n",
    "`-` break; 문을 통해 탈출가능\n",
    "\n",
    "`-` continue; 문을 만나면 다음 반복을 즉시 시작함"
   ]
  },
  {
   "cell_type": "markdown",
   "id": "arranged-modification",
   "metadata": {},
   "source": [
    "# 함수 \n",
    "\n",
    "`-` 함수는 반환형 함수이름(매개 변수){ 함수 몸체 }로 구성되어 있음\n",
    "\n",
    "`-` return은 한개만 반환함\n",
    "\n",
    "`-` 함수 원형은 필수 ---> 함수 헤더에 세미콜론(;)만을 추가한 것과 똑같음"
   ]
  },
  {
   "cell_type": "markdown",
   "id": "right-witch",
   "metadata": {},
   "source": [
    "```c\n",
    "#include <stdio.h>\n",
    "int max(int x, int y); // 함수 춴형 선언\n",
    "    \n",
    "int main(){\n",
    "    int x, y;\n",
    "    scanf(\"%d %d\", &x, &y);\n",
    "    \n",
    "    int larger;\n",
    "    larger = max(x, y);\n",
    "    printf(\"더 큰값은 %d입니다. \\n\", larger);\n",
    "    return 0;\n",
    "}\n",
    "\n",
    "int max(int x, int y){\n",
    "    if(x > y) return x;\n",
    "    else return y;\n",
    "}\n",
    "```"
   ]
  },
  {
   "cell_type": "markdown",
   "id": "understood-viking",
   "metadata": {},
   "source": [
    "`-` 지역 변수는 특정 지역 안에서만 유효함 ---> 다른 지역 안에 동일한 이름의 변수가 있어도 컴파일 오류가 아님\n",
    "\n",
    "`-` 지역 변수는 선언된 블록이 끝나면 자동으로 소멸됨 + 스택(stack)이라 불리는 메모리 공간에 만들어지며 동시에 초기화됨\n",
    "\n",
    "`-` 함수의 매개 변수도 지역 변수의 일종임"
   ]
  },
  {
   "cell_type": "markdown",
   "id": "general-frederick",
   "metadata": {},
   "source": [
    "```c\n",
    "for(i = 0; i < 5; i++){\n",
    "    int temp = 1; // temp는 지역변수\n",
    "    printf(\"temp = %d\\n\", temp);\n",
    "    temp++\n",
    "    }\n",
    "```"
   ]
  },
  {
   "cell_type": "markdown",
   "id": "continental-talent",
   "metadata": {},
   "source": [
    "`-` 전역 변수는 함수 외부에서 선언되는 변수이며 0으로 저절로 초기화됨 + 전역 변수와 지역 변수의 이름이 같으면 지역 변수가 전역 변수보다 우선시됨"
   ]
  },
  {
   "cell_type": "markdown",
   "id": "established-cedar",
   "metadata": {},
   "source": [
    "```c\n",
    "#include <stdio.h>\n",
    "\n",
    "int add(); // 함수 원형 선언\n",
    "int A; // A는 전역 변수\n",
    "int B; // B도 전역 변수\n",
    "\n",
    "int add(){\n",
    "    return A + B;\n",
    "}\n",
    "\n",
    "int main(){\n",
    "    int answer; // answer는 지역 변수\n",
    "    A = 5;\n",
    "    A = 7;\n",
    "    answer = add();\n",
    "    printf(\"%d + %d = %d\\n\", A, B, answer);\n",
    "    return 0;\n",
    "} // 실행결과 ---> 5 + 7 = 12\n",
    "```    "
   ]
  },
  {
   "cell_type": "markdown",
   "id": "moral-blackjack",
   "metadata": {},
   "source": [
    "`-` 지역 변수처럼 블록에서만 사용되지만 블록을 벗어나도 자동으로 제거되지 않는 변수도 있음 ---> 정적 변수\n",
    "\n",
    "`-` static 키워드를 앞에 붙여서 만듦 ---> static int scount = 0;\n",
    "\n",
    "`-` 전역 변수를 다른 소스 파일에서 사용하려면 변수 앞에 extern을 붙여서 사용 \n",
    "\n",
    "`-` int global = 1; ---> extern int global; (1로 초기화된 global값을 사용함)\n",
    "\n",
    "`-` 전역 변수 앞에 static이 붙으면 내부 연결이 됨 ---> 하나의 소스 파일 안에서만 사용이 가능 \n",
    "\n",
    "`-` 함수도 앞에 static을 붙일 수 있고 이렇게 되면 그 소스 파일 안에서만 함수 사용이 가능 ---> 정적 함수\n",
    "\n",
    "`-` 추가로 여러 지정자가 있는데 그것들은 책 보셈"
   ]
  },
  {
   "cell_type": "markdown",
   "id": "private-chocolate",
   "metadata": {},
   "source": [
    "# 배열\n",
    "`-` 자료형이 같은 데이터 여러개를 하나의 변수에 저장함\n",
    "\n",
    "`-` 학생 5명의 성적을 저장하는데 배열이 없다면?\n",
    "```c\n",
    "int s0, s1, s2, s3, s4;\n",
    "```\n",
    "`-` 하지만 배열을 사용하면 간단히 해결 가능\n",
    "```c\n",
    "int s[5];\n",
    "```"
   ]
  },
  {
   "cell_type": "markdown",
   "id": "driven-possible",
   "metadata": {},
   "source": [
    "`-` 배열은 메모리의 연속적인 공간에 저장됨\n",
    "\n",
    "`-` 배열의 이름은 배열의 주소를 나타냄\n",
    "\n",
    "`-` 배열의 인덱스는 0부터 시작해서 (배열 길이 - 1) 에서 끝남\n",
    "\n",
    "`-` 여러개의 배열 동시에 선언 가능 + 일반 변수와 함께도 가능 ex) int index, days[7] ex) char src[10], dst[10]\n",
    "\n",
    "`-` 보통 배열을 선언할 때는 배열의 크기를 #define 지시자로 만들어진 기호 상수로 지정함\n",
    "\n",
    "`-` 배열의 요소 접근 ---> 위에 있는 int s[5]배열에서 인덱스가 3인 요소에 접근하려면 s[3]과 같이 적으면 됨\n",
    "```c\n",
    "int scores[10];\n",
    "scores[0] = 80; // 0번째 요소에 80을 저장\n",
    "scores[1] = scores[0]; // 0번째 요소의 값을 1번재 요소로 복사\n",
    "scores[i] = 10; // i번째 요소에 10을 저장\n",
    "scores[i+2] = 20; // 수식이 인덱스가 된다\n",
    "scores[index[3]] = 30; // index의 3번째 요소의 값을 편의상 x라고 하면 scores에서 x번째 요소에 30을 저장하라는 뜻\n",
    "scores[10] = 11; // index는 0~9이므로 10은 다른 변수가 위치하고 있다 ---> 이따구로 하면 안됨\n",
    "```"
   ]
  },
  {
   "cell_type": "markdown",
   "id": "married-underground",
   "metadata": {},
   "source": [
    "## 배열의 선언 "
   ]
  },
  {
   "cell_type": "markdown",
   "id": "understood-integrity",
   "metadata": {},
   "source": [
    "`-` 배열을 선언하고 요소 값들을 지정해보자\n",
    "\n",
    "```c\n",
    "...\n",
    "#defien SIZE 5\n",
    "...\n",
    "int scores[5]; // 크기가 5인 int형 배열 scores를 선언\n",
    "\n",
    "int i;\n",
    "for(int i = 0; i < SIZE; i++){\n",
    "    scores[i] = 0; // 반복문을 활용하여 배열의 요소를 전부 0으로 초기화 함\n",
    "}\n",
    "    "
   ]
  },
  {
   "cell_type": "markdown",
   "id": "dimensional-salad",
   "metadata": {},
   "source": [
    "## 배열의 초기화 "
   ]
  },
  {
   "cell_type": "markdown",
   "id": "coated-missouri",
   "metadata": {},
   "source": [
    "`-` `배열의 초기화`는 `{ }` 를 통해서 수행함"
   ]
  },
  {
   "cell_type": "markdown",
   "id": "dietary-convergence",
   "metadata": {},
   "source": [
    "```c\n",
    "int scores[5] = {10, 20, 30, 40, 50};\n",
    "int cost[5] = {10, 20, 30}; // 나머지는 0으로 초기화됨\n",
    "```"
   ]
  },
  {
   "cell_type": "markdown",
   "id": "trained-spyware",
   "metadata": {},
   "source": [
    "`-` 배열의 크기가 주어지지 않은 경우에는 초기값의 개수가 배열의 크기가 됨"
   ]
  },
  {
   "cell_type": "markdown",
   "id": "geographic-heavy",
   "metadata": {},
   "source": [
    "```c\n",
    "int scores[] = {10, 20, 30, 40, 50}; // 배열의 크기를 지정하지 않았지만 초기값의 개수가 5이므로 배열의 크기는 저절로 5가 됨\n",
    "```"
   ]
  },
  {
   "cell_type": "markdown",
   "id": "stopped-teaching",
   "metadata": {},
   "source": [
    "## 배열 요소의 개수 세기 \n",
    "\n",
    "`-` 아래와 같이 하면 scores 배열의 요소 개수를 알 수 있음"
   ]
  },
  {
   "cell_type": "markdown",
   "id": "coordinated-hamilton",
   "metadata": {},
   "source": [
    "```c\n",
    "int size = sizeof(scores) / sizeof(scores[0]);\n",
    "```"
   ]
  },
  {
   "cell_type": "markdown",
   "id": "durable-remedy",
   "metadata": {},
   "source": [
    "## 배열의 복사 "
   ]
  },
  {
   "cell_type": "markdown",
   "id": "behind-correction",
   "metadata": {},
   "source": [
    "```c\n",
    "int a[SIZE] = {1, 2, 3, 4, 5};\n",
    "int b[SIZE];\n",
    "\n",
    "b = a; // c언어에서 배열의 이름은 배열의 시작을 가리킴\n",
    "```"
   ]
  },
  {
   "cell_type": "markdown",
   "id": "racial-recipient",
   "metadata": {},
   "source": [
    "`-` 위처럼 하는 것은 잘못된 방법이고 아래처럼 해야함"
   ]
  },
  {
   "cell_type": "markdown",
   "id": "recovered-corporation",
   "metadata": {},
   "source": [
    "```c\n",
    "int i;\n",
    "int a[SIZE] = {1, 2, 3, 4, 5};\n",
    "int b[SIZE];\n",
    "\n",
    "for(i = 0; i < SIZE; i++)\n",
    "    b[i] = a[i];\n",
    "```"
   ]
  },
  {
   "cell_type": "markdown",
   "id": "assisted-shell",
   "metadata": {},
   "source": [
    "`-` 하나의 배열을 다른 배열로 복사하기 위해서는 각각의 요소를 복사해주어야 함"
   ]
  },
  {
   "cell_type": "markdown",
   "id": "muslim-mounting",
   "metadata": {},
   "source": [
    "## 배열의 비교 "
   ]
  },
  {
   "cell_type": "markdown",
   "id": "pressing-eligibility",
   "metadata": {},
   "source": [
    "```c\n",
    "int a[SIZE] = {1, 2, 3, 4, 5};\n",
    "int b[SIZE] = {1, 2, 3, 4, 5};\n",
    "\n",
    "if(a == b) printf(\"같습니다\");\n",
    "else printf(\"다릅니다\");        // c언어에서 배열의 이름은 배열의 시작을 가리킴\n",
    "```"
   ]
  },
  {
   "cell_type": "markdown",
   "id": "sensitive-horror",
   "metadata": {},
   "source": [
    "`-` 위와 같이는 방법은 옳지 않고 아래처럼 해야함"
   ]
  },
  {
   "cell_type": "markdown",
   "id": "unnecessary-machine",
   "metadata": {},
   "source": [
    "```c\n",
    "int a[SIZE] = {1, 2, 3, 4, 5};\n",
    "int b[SIZE] = {1, 2, 3, 4, 5};\n",
    "int i;\n",
    "\n",
    "for(i = 0; i < SIZE; i++){\n",
    "    if(a[i] != b[i]){\n",
    "        printf(\"다릅니다\");\n",
    "        break;\n",
    "    }\n",
    "}\n",
    "```"
   ]
  },
  {
   "cell_type": "markdown",
   "id": "tracked-humanitarian",
   "metadata": {},
   "source": [
    "## 배열과 함수 "
   ]
  },
  {
   "cell_type": "markdown",
   "id": "adjusted-italic",
   "metadata": {},
   "source": [
    "`-` 배열도 함수의 매개 변수로 전달할 수 있음 ---> 배열이 인수인 경우에는 배열의 원본이 매개 변수를 통하여 전달됨(포인터 개념 필요)"
   ]
  },
  {
   "cell_type": "markdown",
   "id": "blank-organ",
   "metadata": {},
   "source": [
    "```c\n",
    "#include <stdio.h>\n",
    "#define STUDENT 5\n",
    "\n",
    "int get_average(int scores[], int size); // 함수 원형을 정의, 배열을 받는 매개 변수는 크기를 적어두지 않아도 된다\n",
    "\n",
    "int main(){\n",
    "    int scores[STUDENT] = {1, 2, 3, 4, 5}; // 배열의 초기화\n",
    "    int avg;\n",
    "    \n",
    "    avg = get_average(scores, STUDENT);\n",
    "    printf(\"평균은 %d입니다.\\n\", avg);\n",
    "    \n",
    "    return 0;\n",
    "}\n",
    "// 배열에 들어 있는 값들의 평균을 계산하는 함수\n",
    "int get_average(int scores[], int size){\n",
    "    int i;\n",
    "    int sum = 0;\n",
    "    \n",
    "    for(i = 0; i < size; i++){  // 반복하면서 배열의 모든 요소들의 합을 계산한다\n",
    "        sum += scores[i];\n",
    "    }\n",
    "    return sum / size;\n",
    "}\n",
    "```"
   ]
  },
  {
   "cell_type": "code",
   "execution_count": null,
   "id": "democratic-diesel",
   "metadata": {},
   "outputs": [],
   "source": []
  }
 ],
 "metadata": {
  "kernelspec": {
   "display_name": "Python 3",
   "language": "python",
   "name": "python3"
  },
  "language_info": {
   "codemirror_mode": {
    "name": "ipython",
    "version": 3
   },
   "file_extension": ".py",
   "mimetype": "text/x-python",
   "name": "python",
   "nbconvert_exporter": "python",
   "pygments_lexer": "ipython3",
   "version": "3.8.8"
  }
 },
 "nbformat": 4,
 "nbformat_minor": 5
}
