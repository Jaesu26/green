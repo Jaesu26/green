{
 "cells": [
  {
   "cell_type": "markdown",
   "id": "swiss-hawaii",
   "metadata": {},
   "source": [
    "# C언어 기초\n",
    "\n",
    "> \"작성 중\"\n",
    "\n",
    "- toc: true\n",
    "- branch: master\n",
    "- badges: true\n",
    "- comments: true\n",
    "- author: 한재수\n",
    "- categories: [c]"
   ]
  },
  {
   "cell_type": "markdown",
   "id": "athletic-brooklyn",
   "metadata": {},
   "source": [
    "```c\n",
    "#include <stdio.h>\n",
    "\n",
    "int main(){\n",
    "    printf(\"Hello World!\");\n",
    "    \n",
    "    return 0;\n",
    "}\n",
    "```"
   ]
  },
  {
   "cell_type": "markdown",
   "id": "skilled-walter",
   "metadata": {},
   "source": [
    "`-` c언어 공부해 얼른 c언어 공부해 얼른 c언어 공부해 얼른 c언어 공부해 얼른 c언어 공부해 얼른\n",
    "\n",
    "`-` 이게 편해서 이걸로 c언어 개념 공부할 거임\n",
    "\n",
    "`-` 참고: 쉽게 풀어쓴 C언어 express"
   ]
  },
  {
   "cell_type": "markdown",
   "id": "structured-scope",
   "metadata": {},
   "source": [
    "# 기본 시작 "
   ]
  },
  {
   "cell_type": "markdown",
   "id": "parental-marble",
   "metadata": {},
   "source": [
    "`-` c언어 기본 시작은 아래와 같음 ---> 빼먹지 마셈"
   ]
  },
  {
   "cell_type": "markdown",
   "id": "concerned-seven",
   "metadata": {},
   "source": [
    "```c\n",
    "#include <stdio.h>\n",
    "\n",
    "int main(){\n",
    "    // 작성할 내용\n",
    "    \n",
    "    return 0;\n",
    "}\n",
    "```"
   ]
  },
  {
   "cell_type": "markdown",
   "id": "engaged-population",
   "metadata": {},
   "source": [
    "# 익혀둘 것\n",
    "\n",
    "`-` `문장끝`에 `세미콜론(;)` 찍기\n",
    "\n",
    "`-` `변수 초기화` 하기 ---> 안하면 쓰레기값 생김 ---> 전역변수 같은 것은 0으로 저절로 초기화됨\n",
    "\n",
    "`-` 하나의 문자는 'a'와 같이 문자열은 \"abc\"와 같이 사용하기\n",
    "\n",
    "`-` `변수는 사용전에 선언하기` ----> ex) int num; num = 12;\n",
    "\n",
    "`-` `scanf(\"%형식\", &변수명);` ---> scanf 함수는 `공백`을 기준으로 `입력을 끊음` ---> %d(정수), %f(float), %lf(double), %c(문자), %s(문자열) + %c의 경우 공백도 문자로 취급하여 입력받음\n",
    "\n",
    "`-` `printf(\"%형식\", 변수명);` ---> %d(정수), %f(float), %c(문자), %s(문자열)\n",
    "\n",
    "`-` `sizeof()` ---> `자료형의 크기`\n",
    "\n",
    "`-` `and`는 `&&`\n",
    "\n",
    "`-` `or`는 `||`\n",
    "\n",
    "`-` `%`는 `나머지`\n",
    "\n",
    "`-` 몫은 나누기(/) 하고 int형으로 만들기 or 처음부터 `int형으로 변수 선언하고 나누기(/)`\n",
    "\n",
    "`-` `소수점 자리수` 조절 ---> `\"%.3f\"` ---> 소수점 셋째짜리까지 float 타입으로 출력\n",
    "\n",
    "`-` `(조건문)? x : y;` ---> 조건문이 참이면 x 거짓이면 y실행\n",
    "\n",
    "`-` `자료형 변환`하기 ---> f = (double)(x+y); // 수식의 값이 double형으로 변환됨\n",
    "\n",
    "`-` 기호 상수 ---> `const 자료형 상수이름 = 값;`(const랑 자료형 위치 바껴도 ok) 또는 `#define 상수이름 값`\n",
    "\n",
    "`-` 센티널( = 보초값) ---> 데이터의 입력 끝을 알리는데 사용되는 값\n",
    "\n",
    "`-` scanf(\"%c\", &a)로 했는데 뭔가 이상하면 scanf(\" %c\", &a)로 해보자 ---> 공백문자를 제외해줌\n",
    "\n",
    "`-` `수학 함수`는 `math.h` ---> `#include <math.h>`\n",
    "\n",
    "`-` c언어에서 `배열의 이름`은 `배열의 시작`을 가리킴(메모리 주소 같음) + 배열의 이름은 주소임\n",
    "\n",
    "`-` 배열을 선언할 때 { 0, }으로 하면 배열의 요소를 모두 0으로 초기화할 수 있음\n",
    "\n",
    "`-` 2차원 배열을 초기화할 때 행의 개수는 지정하지 않아도 되지만 열의 개수는 반드시 지정해야 함\n",
    "\n",
    "`-` 배열의 크기보다 초기값이 적게 주어지면 나머지 요소들은 전부 0이 됨 ---> 단 초기값이 전혀 지정되지 않으면 모우 쓰레기 값이 됨\n",
    "\n",
    "`-` 보통 배열의 크기는 #define 으로 기호 상수로 만듦\n",
    "\n",
    "`-` A는 변수명, 'A'는 문자 A, \"A\"는 문자 A만으로 이뤄진 문자열로 A의 아스키 코드에 문자열 끝을 나타내는 NULL 문자가 추가됨"
   ]
  },
  {
   "cell_type": "markdown",
   "id": "shared-platform",
   "metadata": {},
   "source": [
    "# if문 "
   ]
  },
  {
   "cell_type": "markdown",
   "id": "faced-necklace",
   "metadata": {},
   "source": [
    "`-` `if(조건문) 조건문이 참일때 실행할 식;` ---> ex) if (num > 0) printf(\"양수입니다\"); ---> 한 줄이면 { } 생량해도 되지만 두 줄 넘어가면 무조건 { } 써야함\n",
    "\n",
    "`-` if - else문\n",
    "```c\n",
    "if(number > 0){\n",
    "    printf(\"양수 O\");\n",
    "}\n",
    "else{\n",
    "    printf(\"양수 X\");\n",
    "}\n",
    "```"
   ]
  },
  {
   "cell_type": "markdown",
   "id": "hollow-search",
   "metadata": {},
   "source": [
    "`-` switch문 ---> 알아서 책보셈 "
   ]
  },
  {
   "cell_type": "markdown",
   "id": "genuine-green",
   "metadata": {},
   "source": [
    "# while문"
   ]
  },
  {
   "cell_type": "markdown",
   "id": "jewish-registrar",
   "metadata": {},
   "source": [
    "`-` while(조건문) {조건문이 참일때 실행할 식}\n",
    "\n",
    "```c\n",
    "int i = 0;\n",
    "whle(i < 5){\n",
    "    printf(\"%d\", i);\n",
    "    i++;\n",
    "}\n",
    "```"
   ]
  },
  {
   "cell_type": "markdown",
   "id": "documented-practitioner",
   "metadata": {},
   "source": [
    "`-` 반복 문장을 적어도 한번은 실행하려면 do-whlie문 사용"
   ]
  },
  {
   "cell_type": "markdown",
   "id": "clear-sample",
   "metadata": {},
   "source": [
    "```c\n",
    "int i = 10000;\n",
    "\n",
    "do\n",
    "{\n",
    "    printf(\"i=%d\\n\", i);\n",
    "    i++\n",
    "}while(i < 3); // ---> do-while문은 while문 뒤에 세미콜론을 찍어야함\n",
    "\n",
    "// output ---> i = 10000\n",
    "```"
   ]
  },
  {
   "cell_type": "markdown",
   "id": "protecting-syndrome",
   "metadata": {},
   "source": [
    "# for문"
   ]
  },
  {
   "cell_type": "markdown",
   "id": "norman-solution",
   "metadata": {},
   "source": [
    "`-` for문은 초기식, 조건식, 증감식으로 구성되어 있고 이들 3 부분은 세미콜론으로 분리되어 있음"
   ]
  },
  {
   "cell_type": "markdown",
   "id": "alone-contemporary",
   "metadata": {},
   "source": [
    "```c\n",
    "int i;\n",
    "for(i = 0; i < 5; i++){\n",
    "    printf(\"Hi\");\n",
    "}\n",
    "```\n"
   ]
  },
  {
   "cell_type": "markdown",
   "id": "secret-cigarette",
   "metadata": {},
   "source": [
    "`-` 위 증가 수식은 i+=1과 동일\n",
    "\n",
    "`-` i *= 2 와 같은 형태도 가능함\n",
    "\n",
    "`-` break; 문을 통해 탈출가능\n",
    "\n",
    "`-` continue; 문을 만나면 다음 반복을 즉시 시작함"
   ]
  },
  {
   "cell_type": "markdown",
   "id": "finnish-remains",
   "metadata": {},
   "source": [
    "# 함수 \n",
    "\n",
    "`-` 함수는 반환형 함수이름(매개 변수){ 함수 몸체 }로 구성되어 있음\n",
    "\n",
    "`-` return은 한개만 반환함\n",
    "\n",
    "`-` 함수 원형은 필수 ---> 함수 헤더에 세미콜론(;)만을 추가한 것과 똑같음"
   ]
  },
  {
   "cell_type": "markdown",
   "id": "thrown-significance",
   "metadata": {},
   "source": [
    "```c\n",
    "#include <stdio.h>\n",
    "int max(int x, int y); // 함수 춴형 선언\n",
    "    \n",
    "int main(){\n",
    "    int x, y;\n",
    "    scanf(\"%d %d\", &x, &y);\n",
    "    \n",
    "    int larger;\n",
    "    larger = max(x, y);\n",
    "    printf(\"더 큰값은 %d입니다. \\n\", larger);\n",
    "    return 0;\n",
    "}\n",
    "\n",
    "int max(int x, int y){\n",
    "    if(x > y) return x;\n",
    "    else return y;\n",
    "}\n",
    "```"
   ]
  },
  {
   "cell_type": "markdown",
   "id": "aerial-korea",
   "metadata": {},
   "source": [
    "`-` 지역 변수는 특정 지역 안에서만 유효함 ---> 다른 지역 안에 동일한 이름의 변수가 있어도 컴파일 오류가 아님\n",
    "\n",
    "`-` 지역 변수는 선언된 블록이 끝나면 자동으로 소멸됨 + 스택(stack)이라 불리는 메모리 공간에 만들어지며 동시에 초기화됨\n",
    "\n",
    "`-` 함수의 매개 변수도 지역 변수의 일종임"
   ]
  },
  {
   "cell_type": "markdown",
   "id": "suspended-completion",
   "metadata": {},
   "source": [
    "```c\n",
    "for(i = 0; i < 5; i++){\n",
    "    int temp = 1; // temp는 지역변수\n",
    "    printf(\"temp = %d\\n\", temp);\n",
    "    temp++\n",
    "    }\n",
    "```"
   ]
  },
  {
   "cell_type": "markdown",
   "id": "executed-packaging",
   "metadata": {},
   "source": [
    "`-` 전역 변수는 함수 외부에서 선언되는 변수이며 0으로 저절로 초기화됨 + 전역 변수와 지역 변수의 이름이 같으면 지역 변수가 전역 변수보다 우선시됨"
   ]
  },
  {
   "cell_type": "markdown",
   "id": "tired-thousand",
   "metadata": {},
   "source": [
    "```c\n",
    "#include <stdio.h>\n",
    "\n",
    "int add(); // 함수 원형 선언\n",
    "int A; // A는 전역 변수\n",
    "int B; // B도 전역 변수\n",
    "\n",
    "int add(){\n",
    "    return A + B;\n",
    "}\n",
    "\n",
    "int main(){\n",
    "    int answer; // answer는 지역 변수\n",
    "    A = 5;\n",
    "    A = 7;\n",
    "    answer = add();\n",
    "    printf(\"%d + %d = %d\\n\", A, B, answer);\n",
    "    return 0;\n",
    "} // 실행결과 ---> 5 + 7 = 12\n",
    "```    "
   ]
  },
  {
   "cell_type": "markdown",
   "id": "charged-weight",
   "metadata": {},
   "source": [
    "`-` 지역 변수처럼 블록에서만 사용되지만 블록을 벗어나도 자동으로 제거되지 않는 변수도 있음 ---> 정적 변수\n",
    "\n",
    "`-` static 키워드를 앞에 붙여서 만듦 ---> static int scount = 0;\n",
    "\n",
    "`-` 전역 변수를 다른 소스 파일에서 사용하려면 변수 앞에 extern을 붙여서 사용 \n",
    "\n",
    "`-` int global = 1; ---> extern int global; (1로 초기화된 global값을 사용함)\n",
    "\n",
    "`-` 전역 변수 앞에 static이 붙으면 내부 연결이 됨 ---> 하나의 소스 파일 안에서만 사용이 가능 \n",
    "\n",
    "`-` 함수도 앞에 static을 붙일 수 있고 이렇게 되면 그 소스 파일 안에서만 함수 사용이 가능 ---> 정적 함수\n",
    "\n",
    "`-` 추가로 여러 지정자가 있는데 그것들은 책 보셈"
   ]
  },
  {
   "cell_type": "markdown",
   "id": "amber-pharmacology",
   "metadata": {},
   "source": [
    "# 배열\n",
    "`-` 자료형이 같은 데이터 여러개를 하나의 변수에 저장함\n",
    "\n",
    "`-` 학생 5명의 성적을 저장하는데 배열이 없다면?\n",
    "```c\n",
    "int s0, s1, s2, s3, s4;\n",
    "```\n",
    "`-` 하지만 배열을 사용하면 간단히 해결 가능\n",
    "```c\n",
    "int s[5];\n",
    "```"
   ]
  },
  {
   "cell_type": "markdown",
   "id": "fossil-collapse",
   "metadata": {},
   "source": [
    "`-` 배열은 메모리의 연속적인 공간에 저장됨\n",
    "\n",
    "`-` 배열의 이름은 배열의 주소를 나타냄\n",
    "\n",
    "`-` 배열의 인덱스는 0부터 시작해서 (배열 길이 - 1) 에서 끝남\n",
    "\n",
    "`-` 여러개의 배열 동시에 선언 가능 + 일반 변수와 함께도 가능 ex) int index, days[7] ex) char src[10], dst[10]\n",
    "\n",
    "`-` 보통 배열을 선언할 때는 배열의 크기를 #define 지시자로 만들어진 기호 상수로 지정함\n",
    "\n",
    "`-` 배열의 요소 접근 ---> 위에 있는 int s[5]배열에서 인덱스가 3인 요소에 접근하려면 s[3]과 같이 적으면 됨\n",
    "```c\n",
    "int scores[10];\n",
    "scores[0] = 80; // 0번째 요소에 80을 저장\n",
    "scores[1] = scores[0]; // 0번째 요소의 값을 1번재 요소로 복사\n",
    "scores[i] = 10; // i번째 요소에 10을 저장\n",
    "scores[i+2] = 20; // 수식이 인덱스가 된다\n",
    "scores[index[3]] = 30; // index의 3번째 요소의 값을 편의상 x라고 하면 scores에서 x번째 요소에 30을 저장하라는 뜻\n",
    "scores[10] = 11; // index는 0~9이므로 10은 다른 변수가 위치하고 있다 ---> 이따구로 하면 안됨\n",
    "```"
   ]
  },
  {
   "cell_type": "markdown",
   "id": "collect-benefit",
   "metadata": {},
   "source": [
    "## 배열의 선언 "
   ]
  },
  {
   "cell_type": "markdown",
   "id": "changing-taylor",
   "metadata": {},
   "source": [
    "`-` 배열을 선언하고 요소 값들을 지정해보자\n",
    "\n",
    "```c\n",
    "...\n",
    "#define SIZE 5\n",
    "...\n",
    "int scores[5]; // 크기가 5인 int형 배열 scores를 선언\n",
    "\n",
    "int i;\n",
    "for(int i = 0; i < SIZE; i++){\n",
    "    scores[i] = 0; // 반복문을 활용하여 배열의 요소를 전부 0으로 초기화 함\n",
    "}\n",
    "```    "
   ]
  },
  {
   "cell_type": "markdown",
   "id": "offensive-government",
   "metadata": {},
   "source": [
    "## 배열의 초기화 "
   ]
  },
  {
   "cell_type": "markdown",
   "id": "integral-friendship",
   "metadata": {},
   "source": [
    "`-` `배열의 초기화`는 `{ }` 를 통해서 수행함"
   ]
  },
  {
   "cell_type": "markdown",
   "id": "baking-effects",
   "metadata": {},
   "source": [
    "```c\n",
    "int scores[5] = {10, 20, 30, 40, 50};\n",
    "int cost[5] = {10, 20, 30}; // 나머지는 0으로 초기화됨\n",
    "```"
   ]
  },
  {
   "cell_type": "markdown",
   "id": "related-calgary",
   "metadata": {},
   "source": [
    "`-` 배열의 크기가 주어지지 않은 경우에는 초기값의 개수가 배열의 크기가 됨"
   ]
  },
  {
   "cell_type": "markdown",
   "id": "architectural-judge",
   "metadata": {},
   "source": [
    "```c\n",
    "int scores[] = {10, 20, 30, 40, 50}; // 배열의 크기를 지정하지 않았지만 초기값의 개수가 5이므로 배열의 크기는 저절로 5가 됨\n",
    "```"
   ]
  },
  {
   "cell_type": "markdown",
   "id": "acquired-homeless",
   "metadata": {},
   "source": [
    "## 배열 요소의 개수 세기 \n",
    "\n",
    "`-` 아래와 같이 하면 scores 배열의 요소 개수를 알 수 있음"
   ]
  },
  {
   "cell_type": "markdown",
   "id": "biblical-spanking",
   "metadata": {},
   "source": [
    "```c\n",
    "int size = sizeof(scores) / sizeof(scores[0]);\n",
    "```"
   ]
  },
  {
   "cell_type": "markdown",
   "id": "freelance-pickup",
   "metadata": {},
   "source": [
    "## 배열의 복사 "
   ]
  },
  {
   "cell_type": "markdown",
   "id": "changing-acrylic",
   "metadata": {},
   "source": [
    "```c\n",
    "int a[SIZE] = {1, 2, 3, 4, 5};\n",
    "int b[SIZE];\n",
    "\n",
    "b = a; // c언어에서 배열의 이름은 배열의 시작을 가리킴\n",
    "```"
   ]
  },
  {
   "cell_type": "markdown",
   "id": "developed-criterion",
   "metadata": {},
   "source": [
    "`-` 위처럼 하는 것은 잘못된 방법이고 아래처럼 해야함"
   ]
  },
  {
   "cell_type": "markdown",
   "id": "cultural-syntax",
   "metadata": {},
   "source": [
    "```c\n",
    "int i;\n",
    "int a[SIZE] = {1, 2, 3, 4, 5};\n",
    "int b[SIZE];\n",
    "\n",
    "for(i = 0; i < SIZE; i++)\n",
    "    b[i] = a[i];\n",
    "```"
   ]
  },
  {
   "cell_type": "markdown",
   "id": "recorded-assets",
   "metadata": {},
   "source": [
    "`-` 하나의 배열을 다른 배열로 복사하기 위해서는 각각의 요소를 복사해주어야 함"
   ]
  },
  {
   "cell_type": "markdown",
   "id": "hindu-glossary",
   "metadata": {},
   "source": [
    "## 배열의 비교 "
   ]
  },
  {
   "cell_type": "markdown",
   "id": "drawn-resource",
   "metadata": {},
   "source": [
    "```c\n",
    "int a[SIZE] = {1, 2, 3, 4, 5};\n",
    "int b[SIZE] = {1, 2, 3, 4, 5};\n",
    "\n",
    "if(a == b) printf(\"같습니다\");\n",
    "else printf(\"다릅니다\");        // c언어에서 배열의 이름은 배열의 시작을 가리킴\n",
    "```"
   ]
  },
  {
   "cell_type": "markdown",
   "id": "neural-housing",
   "metadata": {},
   "source": [
    "`-` 위와 같은 방법은 옳지 않고 아래처럼 해야함"
   ]
  },
  {
   "cell_type": "markdown",
   "id": "atmospheric-forty",
   "metadata": {},
   "source": [
    "```c\n",
    "int a[SIZE] = {1, 2, 3, 4, 5};\n",
    "int b[SIZE] = {1, 2, 3, 4, 5};\n",
    "int i;\n",
    "\n",
    "for(i = 0; i < SIZE; i++){\n",
    "    if(a[i] != b[i]){\n",
    "        printf(\"다릅니다\");\n",
    "        break;\n",
    "    }\n",
    "}\n",
    "```"
   ]
  },
  {
   "cell_type": "markdown",
   "id": "heavy-macintosh",
   "metadata": {},
   "source": [
    "## 배열과 함수 "
   ]
  },
  {
   "cell_type": "markdown",
   "id": "great-pregnancy",
   "metadata": {},
   "source": [
    "`-` 배열도 함수의 매개 변수로 전달할 수 있음 ---> 배열이 인수인 경우에는 배열의 원본이 매개 변수를 통하여 전달됨(포인터 개념 필요)\n",
    "\n",
    "`-` 2차원 배열도 가능 ---> 열의 개수는 반드시 적어야 함"
   ]
  },
  {
   "cell_type": "markdown",
   "id": "great-planet",
   "metadata": {},
   "source": [
    "```c\n",
    "#include <stdio.h>\n",
    "#define STUDENT 5\n",
    "\n",
    "int get_average(int scores[], int size); // 함수 원형을 정의, 배열을 받는 매개 변수는 크기를 적어두지 않아도 된다\n",
    "\n",
    "int main(){\n",
    "    int scores[STUDENT] = {1, 2, 3, 4, 5}; // 배열의 초기화\n",
    "    int avg;\n",
    "    \n",
    "    avg = get_average(scores, STUDENT);\n",
    "    printf(\"평균은 %d입니다.\\n\", avg);\n",
    "    \n",
    "    return 0;\n",
    "}\n",
    "// 배열에 들어 있는 값들의 평균을 계산하는 함수\n",
    "int get_average(int scores[], int size){\n",
    "    int i;\n",
    "    int sum = 0;\n",
    "    \n",
    "    for(i = 0; i < size; i++){  // 반복하면서 배열의 모든 요소들의 합을 계산한다\n",
    "        sum += scores[i];\n",
    "    }\n",
    "    return sum / size;\n",
    "}\n",
    "```"
   ]
  },
  {
   "cell_type": "markdown",
   "id": "rising-oregon",
   "metadata": {},
   "source": [
    "## 배열 입력 받기 "
   ]
  },
  {
   "cell_type": "markdown",
   "id": "foreign-position",
   "metadata": {},
   "source": [
    "`-` 배열 요소 이름에 주소연산자(&)를 붙이기"
   ]
  },
  {
   "cell_type": "markdown",
   "id": "southeast-affiliation",
   "metadata": {},
   "source": [
    "```c\n",
    "int i;\n",
    "int arr[5];\n",
    "for(i = 0; i < 5; i++){\n",
    "    scanf(\"%d\", &arr[i]);\n",
    "}\n",
    "```"
   ]
  },
  {
   "cell_type": "markdown",
   "id": "honest-senate",
   "metadata": {},
   "source": [
    "`-` 배열 이름에 + 하면서 입력받기\n",
    "\n",
    "`-` arr + 0 ---> arr의 첫번째 원소\n",
    "\n",
    "`-` arr + i ---> arr의 i+1번째 원소"
   ]
  },
  {
   "cell_type": "markdown",
   "id": "differential-french",
   "metadata": {},
   "source": [
    "```c\n",
    "int i;\n",
    "int arr[5];\n",
    "for(i = 0; i < 5; i++){\n",
    "    scanf(\"%d\", arr + i);\n",
    "}\n",
    "```"
   ]
  },
  {
   "cell_type": "markdown",
   "id": "anonymous-retreat",
   "metadata": {},
   "source": [
    "## 원본 배열의 변경"
   ]
  },
  {
   "cell_type": "markdown",
   "id": "personalized-cooling",
   "metadata": {},
   "source": [
    "`-` 배열은 매개 변수를 통하여 원본을 `참조`하는 것이기 때문에 주의해야 함\n",
    "\n",
    "`-` 만약 함수 안에서 매개 변수를 통하여 배열의 요소를 변경한다면 원본 배열을 변경시키는 결과를 가져옴 ---> 파이썬도 똑같음\n",
    "\n",
    "`-` `배열`은 복사본이 아닌 `원본`이 전달되는 점을 잊지 말기 + `배열의 요소`는 `복사본`이 전달됨\n",
    "\n",
    "`-` `const` 지정자를 배열 매개 변수 앞에 붙이면 그 배열 요소는 변경이 불가능해짐"
   ]
  },
  {
   "cell_type": "code",
   "execution_count": 1,
   "id": "irish-allergy",
   "metadata": {},
   "outputs": [],
   "source": [
    "dp = [0] * 10\n",
    "\n",
    "def change_arr(arr):\n",
    "    n = len(arr)\n",
    "    \n",
    "    for i in range(n):\n",
    "        arr[i] = i**2\n"
   ]
  },
  {
   "cell_type": "code",
   "execution_count": 2,
   "id": "finnish-livestock",
   "metadata": {},
   "outputs": [
    {
     "data": {
      "text/plain": [
       "[0, 0, 0, 0, 0, 0, 0, 0, 0, 0]"
      ]
     },
     "execution_count": 2,
     "metadata": {},
     "output_type": "execute_result"
    }
   ],
   "source": [
    "dp"
   ]
  },
  {
   "cell_type": "code",
   "execution_count": 3,
   "id": "growing-color",
   "metadata": {},
   "outputs": [],
   "source": [
    "change_arr(dp)"
   ]
  },
  {
   "cell_type": "code",
   "execution_count": 4,
   "id": "polar-cardiff",
   "metadata": {},
   "outputs": [
    {
     "data": {
      "text/plain": [
       "[0, 1, 4, 9, 16, 25, 36, 49, 64, 81]"
      ]
     },
     "execution_count": 4,
     "metadata": {},
     "output_type": "execute_result"
    }
   ],
   "source": [
    "dp"
   ]
  },
  {
   "cell_type": "markdown",
   "id": "binding-motion",
   "metadata": {},
   "source": [
    "## 2차원 배열"
   ]
  },
  {
   "cell_type": "markdown",
   "id": "sudden-folder",
   "metadata": {},
   "source": [
    "`-` 이미지 같은 경우는 2차원임 ---> 2차원 배열이 필요함"
   ]
  },
  {
   "cell_type": "markdown",
   "id": "automatic-latter",
   "metadata": {},
   "source": [
    "```c\n",
    "int s[3][5]; // 앞에 3은 행의 개수이며 뒤에 5는 열의 개수임\n",
    "```"
   ]
  },
  {
   "cell_type": "markdown",
   "id": "technological-blogger",
   "metadata": {},
   "source": [
    "`-` c언어에서 배열의 인덱스는 0부터 시작함 ---> 2차원 배열의 첫번째 요소는 s[0][0]과 같이 참조 ---> 파이썬이랑 똑같음 "
   ]
  },
  {
   "cell_type": "markdown",
   "id": "separate-committee",
   "metadata": {},
   "source": [
    "```c\n",
    "int i, j, s[3][5];\n",
    "\n",
    "for (i = 0; i < 3; i++){\n",
    "    for (j = 0; j < 5; j++){\n",
    "        s[i][j] = i * j;\n",
    "    }\n",
    "}\n",
    "```"
   ]
  },
  {
   "cell_type": "markdown",
   "id": "quantitative-finnish",
   "metadata": {},
   "source": [
    "`-` 위와 같이 하면 3$\\times$5배열의 요소의 값을 정해줄 수 있음"
   ]
  },
  {
   "cell_type": "markdown",
   "id": "wooden-fossil",
   "metadata": {},
   "source": [
    "## 2차원 배열의 초기화 "
   ]
  },
  {
   "cell_type": "markdown",
   "id": "cellular-barcelona",
   "metadata": {},
   "source": [
    "`-` 2차원 배열도 1차원 배열과 동일하게 선언과 동시에 초기화 가능\n",
    "\n",
    "`-` 같은 행에 속하는 초기값들을 중괄호 { } 로 따로 묶어주면 됨 ---> { } 만 [ ]로 바꾸면 파이썬의 리스트랑 똑같음"
   ]
  },
  {
   "cell_type": "markdown",
   "id": "unauthorized-transparency",
   "metadata": {},
   "source": [
    "```c\n",
    "int s[3][5] = {\n",
    "    {0, 1, 2, 3, 4},\n",
    "    {10, 11, 12, 13, 14},\n",
    "    {20, 21, 22, 23, 24}\n",
    "}; // 세미콜론(;) 잊지마\n",
    "```"
   ]
  },
  {
   "cell_type": "markdown",
   "id": "editorial-salem",
   "metadata": {},
   "source": [
    "`-` 아래와 같이 행의 크기를 비워두고 초기화도 가능 ---> `열의 개수는 반드시 지정`"
   ]
  },
  {
   "cell_type": "markdown",
   "id": "molecular-cologne",
   "metadata": {},
   "source": [
    "```c\n",
    "int s[][5] = {\n",
    "    {0, 1, 2, 3, 4},\n",
    "    {10, 11, 12, 13, 14},\n",
    "    {20, 21, 22, 23, 24}\n",
    "}; // 세미콜론(;) 잊지마\n",
    "```"
   ]
  },
  {
   "cell_type": "markdown",
   "id": "reserved-darkness",
   "metadata": {},
   "source": [
    "`-` 안쪽의 중괄호는 생량해도 됨"
   ]
  },
  {
   "cell_type": "markdown",
   "id": "neither-morocco",
   "metadata": {},
   "source": [
    "```c\n",
    "int s[][5] = {0, 1, 2, 3, 4, 10, 11, 12, 13, 14, 20, 21, 22, 23, 24}; // 세미콜론(;) 잊지마\n",
    "```"
   ]
  },
  {
   "cell_type": "markdown",
   "id": "floppy-punch",
   "metadata": {},
   "source": [
    "# 포인터 \n",
    "\n",
    "`-` 포인터도 변수임\n",
    "\n",
    "`-` 포인터는 메모리의 주소를 저장함"
   ]
  },
  {
   "cell_type": "markdown",
   "id": "confidential-study",
   "metadata": {},
   "source": [
    "```c\n",
    "int *p; // 선언만 하고 초기화는 아직 안했음\n",
    "\n",
    "char *p1, *p2, *p3; // 한줄에 여러개 포인터 선언하기 \n",
    "```"
   ]
  },
  {
   "cell_type": "markdown",
   "id": "offensive-destruction",
   "metadata": {},
   "source": [
    "`-` p는 정수 데이터를 가리키는 포인터 ---> 아직 초기화를 안해서 아무 의미 없는 값을 가지고 있음"
   ]
  },
  {
   "cell_type": "markdown",
   "id": "expressed-exchange",
   "metadata": {},
   "source": [
    "```c\n",
    "int i = 10;\n",
    "int *p;\n",
    "p = &i; // 변수 i의 주소가 p에 대입됨 + &는 주소연산자\n",
    "```"
   ]
  },
  {
   "cell_type": "markdown",
   "id": "supreme-batman",
   "metadata": {},
   "source": [
    "## 간접 참조 연산자 * "
   ]
  },
  {
   "cell_type": "markdown",
   "id": "alert-groove",
   "metadata": {},
   "source": [
    "```c\n",
    "int i = 10; // i의 주소는 2121이라고 하자 // 정수 변수 i가 선언되고 10으로 초기화 됨\n",
    "int *p; // 정수를 가리키는 포인터 p가 선언\n",
    "p = &i; // 포인터 p에 변수 i의 주소(2021)를 저장함\n",
    "printf(\"%d\", *p); // 10이 출력됨\n",
    "```"
   ]
  },
  {
   "cell_type": "markdown",
   "id": "chubby-prayer",
   "metadata": {},
   "source": [
    "`-` 포인터 p가 가리키는 주소에 저장되어 있는 내용을 읽으려면 p앞에 *기호를 붙여서 *p하면 됨\n",
    "\n",
    "`-` 이것을 포인터를 통하여 메모리를 간접 참조한다고 함 ---> 직접 printf(\"%d\", i); 를 하지 않고 printf(\"%d\", *p);를 하여 p(포인터)를 통해 i값을 출력했으므로 간접 참조임"
   ]
  },
  {
   "cell_type": "markdown",
   "id": "occasional-revision",
   "metadata": {},
   "source": [
    "`-` 포인터는 변수이므로 저장된 주소를 다른 값으로 얼마든지 바꿀 수 있음"
   ]
  },
  {
   "cell_type": "markdown",
   "id": "intellectual-transition",
   "metadata": {},
   "source": [
    "```c\n",
    "int x = 10.  y =20;\n",
    "int *p;\n",
    "\n",
    "p = &x;\n",
    "printf(\"%d\", *p); // x의 값인 10이 출력됨\n",
    "\n",
    "p = &y; // p가 가리키는 주소를 x의 주소에서 y의 주소로 변경함\n",
    "printf(\"%d\", *p); // y의 값인 20이 출력됨\n",
    "\n",
    "*p = 20; // p가 가리키는 위치에 20이 저장됨\n",
    "printf(\"%d\", y); // 20으로 바뀐 y의 값이 출력됨\n",
    "```"
   ]
  },
  {
   "cell_type": "markdown",
   "id": "metric-transport",
   "metadata": {},
   "source": [
    "## 포인터와 연산 \n",
    "\n",
    "`-` 포인터 변수에 대한 연산은 일반적인 변수에 대한 연산과는 조금 다름\n",
    "\n",
    "`-` 포인터에 증가연산자인 ++를 적용하였을 경우 증가되는 값은 포인터가 가리키는 객체의 크기임\n",
    "\n",
    "`-` char형 포인터를 증가시키면 char형의 크기인 1바이트만큼 증가\n",
    "\n",
    "`-` int형의 경우는 4바이트만큼 증가\n",
    "\n",
    "`-` double형은 8바이트만큼 증가\n",
    "\n",
    "`-` -- 연산자와 다른 연산(정수를 더하거나 뺌)도 마찬가지\n",
    "\n",
    "`-` p가 int형이고 p가 가리키는 주소가 1000일 때 p+2는 1008이다"
   ]
  },
  {
   "cell_type": "markdown",
   "id": "behind-membrane",
   "metadata": {},
   "source": [
    "## 포인터와 증감 연산자"
   ]
  },
  {
   "cell_type": "markdown",
   "id": "conservative-calibration",
   "metadata": {},
   "source": [
    "`-` v = *P++ : p가 가리키는 값을 v에 대입한 후에 p를 증가한다\n",
    "    \n",
    "`-` v = (*P)++ : p가 가리키는 값을 v에 대입한 후에 p가 가리키는 값을 증가한다\n",
    "    \n",
    "`-` v = *++p : p를 증가시킨 후에 p가 가리키는 값을 v에 대입한다\n",
    "\n",
    "`-` v = ++*p : p가 가리키는 값을 가져온 후에 그 값을 증가하여 v에 대입한다"
   ]
  },
  {
   "cell_type": "markdown",
   "id": "planned-heather",
   "metadata": {},
   "source": [
    "## 포인터와 배열 "
   ]
  },
  {
   "cell_type": "markdown",
   "id": "equal-valuable",
   "metadata": {},
   "source": [
    "`-` 배열 이름은 포인터\n",
    "\n",
    "`-` 배열 이름은 배열이 시작되는 주소와 같음"
   ]
  },
  {
   "cell_type": "markdown",
   "id": "flexible-merchant",
   "metadata": {},
   "source": [
    "```c\n",
    "int a[] = {10, 20, 30, 40, 50};\n",
    "int *p; // a는 포인터 상수이므로 값을 변경할 수 없지만 p는 포인터 변수이므로 값을 변경할 수 있음\n",
    "\n",
    "p = a; // 포인터 p에 배열의 이름 a를 대입하면 배열의 첫 번째 주소가 p에 대입됨 ---> 이 문장이 끝나면 p와 a는 똑같은 곳을 가리킴\n",
    "\n",
    "p[0] = 60;  // 포인터를 마치 배열의 이름처럼 사용하여 배열 요소에 값을 대입\n",
    "p[1] = 70;\n",
    "p[2] = 80;\n",
    "```"
   ]
  },
  {
   "cell_type": "markdown",
   "id": "excellent-tragedy",
   "metadata": {},
   "source": [
    "# 문자와 문자열 "
   ]
  },
  {
   "cell_type": "markdown",
   "id": "characteristic-composite",
   "metadata": {},
   "source": [
    "## 문자와 문자열"
   ]
  },
  {
   "cell_type": "markdown",
   "id": "congressional-ordering",
   "metadata": {},
   "source": [
    "`-` 문자열은 큰따옴표를 이용하여 \"ABC\"와 같이 표기\n",
    "\n",
    "`-` 문자열의 끝은 항상 '\\0'(NULL 문자)가 저장되어 있음\n",
    "\n",
    "`-` 따라서 `문자 배열`은 저장하고자 하는 `문자열의 크기보다 항상 하나 더 커야 함`\n",
    "\n",
    "`-` 문자열 = 문자 배열 = 배열의 이름은 주소를 나타냄 = 문자열 자체는 주소를 나타냄(내 생각)"
   ]
  },
  {
   "cell_type": "markdown",
   "id": "respected-jacob",
   "metadata": {},
   "source": [
    "## 문자 배열의 초기화 \n",
    "\n",
    "`-` 문자 배열의 크기는 초기화 문자열의 길이보다 커도 됨 ---> char str[6] = \"abc\";"
   ]
  },
  {
   "cell_type": "markdown",
   "id": "continuing-presence",
   "metadata": {},
   "source": [
    "```c\n",
    "char str[4] = {'a', 'b', 'c', '\\0'}; // 딱 봐도 구데기 \n",
    "\n",
    "char str[4] = \"abc\"; // 이게 훨씬 낫다\n",
    "\n",
    "char str[6] = \"abc\"; // 초기값이 없는 공간은 0으로 초기화\n",
    "\n",
    "char str[4] = \"\"; // NULL 문자열로 초기ㅘ\n",
    "\n",
    "char str[] = \"abc\"; // 컴파일러가 자동으로 배열의 크기를 초기화 문자열에 맞추어 설정함 ---> 문자열을 이루는 문자의 개수를 안세도 돼서 편함\n",
    "```"
   ]
  },
  {
   "cell_type": "markdown",
   "id": "forward-buddy",
   "metadata": {},
   "source": [
    "## 문자열의 출력 \n",
    "\n",
    "`-` `printf()`의 `\"%s%` 형식 지정자를 사용하여 문자열을 출력함"
   ]
  },
  {
   "cell_type": "markdown",
   "id": "affected-separation",
   "metadata": {},
   "source": [
    "```c\n",
    "char str = \"abc\";\n",
    "printf(\"%s\", str);\n",
    "```"
   ]
  },
  {
   "cell_type": "markdown",
   "id": "short-bailey",
   "metadata": {},
   "source": [
    "`-` 형식 지정자 없이 그냥 문자 배열을 전달하여도 문자열은 출력됨\n",
    "\n",
    "```c\n",
    "char str = \"abc\";\n",
    "printf(str);\n",
    "```"
   ]
  },
  {
   "cell_type": "markdown",
   "id": "central-cycling",
   "metadata": {},
   "source": [
    "## 문자열의 변경 "
   ]
  },
  {
   "cell_type": "markdown",
   "id": "conservative-education",
   "metadata": {},
   "source": [
    "`1.` 확실하지만 불편한 방법\n",
    "\n",
    "`-` 프로그래머가 직접 문자열의 끝에 NULL 문자('\\0')를 넣어줘야 함"
   ]
  },
  {
   "cell_type": "markdown",
   "id": "sophisticated-crown",
   "metadata": {},
   "source": [
    "```c\n",
    "char str[10] = \"Hello\";\n",
    "str[0] = 'W';\n",
    "str[0] = 'o';\n",
    "str[0] = 'r';\n",
    "str[0] = 'l';\n",
    "str[0] = 'd';\n",
    "str[0] = '\\0';\n",
    "```"
   ]
  },
  {
   "cell_type": "markdown",
   "id": "aquatic-facing",
   "metadata": {},
   "source": [
    "`2.` 라이브러리(`string.h`) 함수인 `strcpy()`를 사용하여 문자열을 문자 배열에 복사할 수 있음"
   ]
  },
  {
   "cell_type": "markdown",
   "id": "fluid-jungle",
   "metadata": {},
   "source": [
    "```c\n",
    "char str[10] = \"Hello\";\n",
    "strcpy(str, \"World\");\n",
    "```"
   ]
  },
  {
   "cell_type": "markdown",
   "id": "obvious-partition",
   "metadata": {},
   "source": [
    "`-` 아래는 불가능한 방법임\n",
    "\n",
    "`-` 배열의 이름은 배열을 가리키는 주소로서 변경이 불가능함\n",
    "\n",
    "```c\n",
    "char str[10] = \"Hello\";\n",
    "str = \"World\" // 배열 이름 str에 문자열의 주소를 대입하는 문장으로 문법적인 오류임\n",
    "```"
   ]
  },
  {
   "cell_type": "markdown",
   "id": "uniform-shopper",
   "metadata": {},
   "source": [
    "## 문자열 상수와 포인터 "
   ]
  },
  {
   "cell_type": "markdown",
   "id": "average-bunny",
   "metadata": {},
   "source": [
    "`-` 문자열 상수는 \"HelloWorld\"와 같이 프로그램 소스 안에 포함된 문자열을 의미함\n",
    "\n",
    "`-` 문자열 상수는 메모리 영역 중에서 텍스트 세그먼트에 저장됨 ---> 텍스트 세그먼트는 일기는 가능하지만 변경은 불가능함\n",
    "\n",
    "```c\n",
    "char *p = \"HelloWorld\";\n",
    "```\n",
    "\n",
    "`-` 포인터 변수가 생성됨\n",
    "\n",
    "`-` 모든 변수는 데이터 세그먼트 영역에 저장됨 ---> 포인터 변수 p도 데이터 세그먼트에 생성됨\n",
    "\n",
    "`-` 문자열 상수 \"HelloWorld\"가 저장된 주소가 포인터 변수 p에 저장됨"
   ]
  },
  {
   "cell_type": "markdown",
   "id": "congressional-emperor",
   "metadata": {},
   "source": [
    "`-` 문자열 상수가 텍스트 세그먼트에 저장되므로 문자열 상수는 마음대로 변경할 수는 없음\n",
    "\n",
    "`-` 아래와 같이 포인터 변수를 통해 문자열 상수를 변경하려고 하면 심각한 오류가 발생\n",
    "\n",
    "```c\n",
    "char *p = \"HelloWorld\";\n",
    "strcpy(p, \"Goodbye\");\n",
    "```"
   ]
  },
  {
   "cell_type": "markdown",
   "id": "fabulous-battery",
   "metadata": {},
   "source": [
    "`-` 하지만 아래와 같은 문장은 가능함\n",
    "\n",
    "```c\n",
    "char *p = \"HelloWorld\";\n",
    "p = \"Goodbye\"; // p가 가리키는 주소를 \"HelloWorld\"에서 \"Goodbye\"로 변경함(?) // \"Goodbye\"는 문자 배열임 ---> 배열의 이름은 주소를 나타내므로 맞는 문장(?)\n",
    "p[0] = 'a' // 오류가 발생\n",
    "```"
   ]
  },
  {
   "cell_type": "markdown",
   "id": "recent-saying",
   "metadata": {},
   "source": [
    "`-` 왜 p[0] = 'a' 가 오류가 나는지 자료 참고하면 이해 됨 ---> https://reakwon.tistory.com/14"
   ]
  },
  {
   "cell_type": "markdown",
   "id": "declared-sunglasses",
   "metadata": {},
   "source": [
    "`-` 포인터 변수 p는 데이터 세그먼트에 있으므로 값을 변경할 수 있음\n",
    "\n",
    "`-` 따라서 다른 문자열 상수의 주소를 p에 저장할 수 있는 것임"
   ]
  },
  {
   "cell_type": "markdown",
   "id": "sitting-monte",
   "metadata": {},
   "source": [
    "`-` 문자열 상수를 많이 저장할 필요가 있을 때는 아래와 같은 방법을 사용하는 것도 좋음\n",
    "\n",
    "```c\n",
    "char *pmovies[120] = {\"Transformer\", \"Sound of Music\", \"Cats\", \"Sing Street\"};\n",
    "for (int i = 0; i < 4; i++){\n",
    "    printf(\"%s \\n\", pmobies[i]);\n",
    "}\n",
    "```"
   ]
  },
  {
   "cell_type": "markdown",
   "id": "frank-landing",
   "metadata": {},
   "source": [
    "`-` 문자열을 저장할 변수는 포인터보단 배열로 하자 ---> error 발생할 가능성이 적음"
   ]
  },
  {
   "cell_type": "markdown",
   "id": "optimum-first",
   "metadata": {},
   "source": [
    "## 문자열 처리 라이브러리 함수"
   ]
  },
  {
   "cell_type": "markdown",
   "id": "former-cherry",
   "metadata": {},
   "source": [
    "`-` 문자열을 사용하다보면 두개의 문자열을 붙이는 작업이나 두개의 문자열을 서로 비교하는 작업이 필요함\n",
    "\n",
    "`-` 이러한 함수를 제공하는 라이브러리가 있음 ---> `string.h`\n",
    "\n",
    "```c\n",
    "#include <string.h>\n",
    "```\n",
    "\n",
    "`-` 문자열 처리 기본 라이브러리 함수"
   ]
  },
  {
   "cell_type": "markdown",
   "id": "smaller-resort",
   "metadata": {},
   "source": [
    "|함수|설명|\n",
    "|:-:|:-:|\n",
    "|strlen(s)|문자열 s의 길이를 구함|\n",
    "|strcpy(s1, s2)|s2를 s1에 복사함|\n",
    "|strcat(s1, s2)|s2를 s1의 끝에 붙여넣음|\n",
    "|strcmp(s1, s2)|s1과 s2를 비교함|\n",
    "|strncpy(s1, s2, n)|s2의 최대 n개의 문자를 s1에 복사함|\n",
    "|strncat(s1, s2, n)|s2의 최대 n개의 문자를 s1의 끝에 붙여넣음|\n",
    "|strncmp(s1, s2, n)|최대 n개의 문자가지 s1과 s2를 비교함|\n",
    "|strchr(s, c)|문자열 s안에서 문자 c를 찾음|\n",
    "|strstr(s1, s2)|문자열 s1에서 문자열 s2를 찾음|\n",
    "|char *strtok(s, delimit);|문자열 s를 delimit를 이용하여 토큰으로 분리함|\n"
   ]
  },
  {
   "cell_type": "markdown",
   "id": "complimentary-salvation",
   "metadata": {},
   "source": [
    "## 문자열 길이\n",
    "\n",
    "`-` strlen() 사용\n",
    "\n",
    "```c\n",
    "int size = strlen(\"abcdef\");\n",
    "printf(\"%d \\n\", size); // 6이 출력됨\n",
    "```"
   ]
  },
  {
   "cell_type": "markdown",
   "id": "israeli-range",
   "metadata": {},
   "source": [
    "## 문자열 복사 "
   ]
  },
  {
   "cell_type": "markdown",
   "id": "ancient-validation",
   "metadata": {},
   "source": [
    "`-` strcpy() 사용\n",
    "```c\n",
    "char dst[6];\n",
    "char src[] = \"Hello\";\n",
    "strcpy(dst, src); // src를 dst로 복사함\n",
    "```\n",
    "\n",
    "`-` dst의 문자열 길이가 src의 문자열 길이보다 길거나 같아야 함"
   ]
  },
  {
   "cell_type": "markdown",
   "id": "demographic-trouble",
   "metadata": {},
   "source": [
    "## 문자열 연결 "
   ]
  },
  {
   "cell_type": "markdown",
   "id": "honey-equilibrium",
   "metadata": {},
   "source": [
    "`-` strcat() 사용\n",
    "\n",
    "```c\n",
    "char dst[12] = \"Hello\";\n",
    "char src[6] = \"World\";\n",
    "strcat(dst, src); // dst가 \"HelloWorld\"가 됨\n",
    "```\n",
    "\n",
    "`-` dst 배열에 src를 연결할 공간이 없으면 문제 발생"
   ]
  },
  {
   "cell_type": "markdown",
   "id": "resident-limit",
   "metadata": {},
   "source": [
    "## 문자열 비교\n",
    "\n",
    "`-` strcmp(s1, s2) 사용\n",
    "\n",
    "`-` 사전적인 순서로 비교하여 s1이 앞에 있으면 음수가 반환되고 같으면 0이 반환되고 뒤에 있으면 양수가 반환됨"
   ]
  },
  {
   "cell_type": "markdown",
   "id": "christian-crime",
   "metadata": {},
   "source": [
    "```c\n",
    "int result = strcmp(\"dog\", \"dog\") // 0이 반환됨\n",
    "```"
   ]
  },
  {
   "cell_type": "markdown",
   "id": "covered-anderson",
   "metadata": {},
   "source": [
    "## 문자 검색\n",
    "`-` strchr() 사용\n",
    "\n",
    "```c\n",
    "char *p = strchr(\"dog\", 'g');  // 'g'문자의 주소를 반환함, 문자를 찾지 못하면 NULL값을 반환함\n",
    "```"
   ]
  },
  {
   "cell_type": "markdown",
   "id": "certified-desert",
   "metadata": {},
   "source": [
    "`-` 문장에서 특정 단어를 찾아 그 위치를 출력하는 코드를 작성해보자\n",
    "\n",
    "```c\n",
    "#include <stdio.h>\n",
    "#include <string.h> // strchr()을 사용하려면 string.h 헤더파일이 필요함\n",
    "\n",
    "int main(){\n",
    "    char s[] = \"language\";\n",
    "    char c = 'g';\n",
    "    char *p;\n",
    "    int loc;\n",
    "    \n",
    "    p = strchr(s, c); // &s[3]이 함수의 반환값으로 반환됨\n",
    "    loc = (int)(p - s); // g의 위치를 가지고 계산, g의 주소에서 s[]의 시작 주소를 뺀다 // char형이므로 1바이트\n",
    "    if (p != NULL)\n",
    "        printf(\"%d\", loc);\n",
    "    \n",
    "    return 0;\n",
    "}\n",
    "```        "
   ]
  },
  {
   "cell_type": "markdown",
   "id": "geographic-phone",
   "metadata": {},
   "source": [
    "## 문자열 검색\n",
    "\n",
    "`-` strstr() 사용\n",
    "\n",
    "```c\n",
    "char *p = strstr(\"dog\", \"og\"); // 첫번째 \"og\"가 나타난 시작 주소인 1이 반환됨\n",
    "```\n"
   ]
  },
  {
   "cell_type": "markdown",
   "id": "transsexual-february",
   "metadata": {},
   "source": [
    "## 문자열 토큰 분리 \n",
    "\n",
    "`-` strtok() 사용\n",
    "\n",
    "`-` 문자열을 분리자를 통해 분리함 ---> 파이썬의 split()함수라고 생각하면 된다\n",
    "\n",
    "`-` ex) strtok(s, \"\\n\") ---> 줄바꿈을 기준으로 분리함\n",
    "\n",
    "```c\n",
    "t1 = strtok(s, \" \"); // 첫 번재 토큰\n",
    "t2 = strtok(NULL, \" \"); // 두 번재 토큰\n",
    "t3 = strtok(NULL, \" \"); // 세 번재 토큰\n",
    "t4 = strtok(NULL, \" \"); // 네 번재 토큰\n",
    "// 분리자는 스페이스 문자\n",
    "// 계속하여 다음 토큰을 읽으려면 s 대신에 NULL을 넣으면 된다\n",
    "```"
   ]
  },
  {
   "cell_type": "markdown",
   "id": "copyrighted-easter",
   "metadata": {},
   "source": [
    "## 2차원 문자 배열\n",
    "\n",
    "`-` 문자열이 여러개 있는 경우 사용\n",
    "\n",
    "`-` 문자열이 문자 배열에 저장되므로 문자열의 배열은 배열의 배열인 2차원 문자 배열이 된다\n",
    "\n",
    "```c\n",
    "char s[3][6] = {\"init\", \"open\", \"close\"};\n",
    "printf(\"%s\", s[0]); // \"init\"가 출력됨\n",
    "```"
   ]
  },
  {
   "cell_type": "markdown",
   "id": "demanding-southwest",
   "metadata": {},
   "source": [
    "## 문자 포인터 배열 사용\n",
    "\n",
    "`-` 만약 문자열의 길이가 서로 다르면 길이가 짧은 문자열이 저장된 행은 낭비되는 공간이 많아짐\n",
    "\n",
    "`-` 포인터의 배열을 이용하면 메모리 공간을 정확하게 문자열의 크기가 맞추어 사용 가능\n",
    "\n",
    "```c\n",
    "char *s[3] = {\"init\", \"open\", \"close\"};\n",
    "```\n",
    "\n",
    "`-` 단, 문자열의 내용을 변경할 수 없음"
   ]
  },
  {
   "cell_type": "markdown",
   "id": "bored-promotion",
   "metadata": {},
   "source": [
    "# 구조체"
   ]
  },
  {
   "cell_type": "markdown",
   "id": "standard-peter",
   "metadata": {},
   "source": [
    "##  구조체란?\n",
    "\n",
    "`-` 구조체는 파이썬의 list와 비슷함 ---> 다양한 타입을 가진 변수들을 묶어서 새로운 자료형을 만들 수 있음\n",
    "\n",
    "`-` 구조체는 클래스(Class)의 모체가 됨\n",
    "\n",
    "```c\n",
    "struct student{\n",
    "    int number;     // 학번\n",
    "    char name[10];  // 이름\n",
    "    double grade;   // 학점\n",
    "};\n",
    "```\n",
    "\n",
    "`-` 배열은 여러 개의 같은 자료형을 하나로 묶는 것이라면 구조체는 서로 다른 자료형들을 하나로 묶는 것임"
   ]
  },
  {
   "cell_type": "markdown",
   "id": "multiple-continuity",
   "metadata": {},
   "source": [
    "## 구조체 선언\n",
    "\n",
    "`-` 구조체는 `struct` 키워드를 사용해 정의됨\n",
    "\n",
    "```c\n",
    "struct student{     // struct은 구조체를 정의할 때 사용되는 키워드 // student는 구조체의 이름(태그)\n",
    "    int number;     // 학번\n",
    "    char name[10];  // 이름\n",
    "    double grade;   // 학점 // 구조체의 멤버들\n",
    "};                  // 마지막에 세미콜론 필요 ---> 구조체 선언도 하나의 문장에 해당\n",
    "```"
   ]
  },
  {
   "cell_type": "markdown",
   "id": "alpine-level",
   "metadata": {},
   "source": [
    "`-` 구조체 선언은 변수 선언이 아님!!!\n",
    "\n",
    "`-` 구조체 선언은 구조체 안에 어떤 변수들이 들어간다는 것만 말해주는 것\n",
    "\n",
    "`-` 구조체 선언은 구조체의 형태(틀)만 정의함"
   ]
  },
  {
   "cell_type": "markdown",
   "id": "hybrid-clear",
   "metadata": {},
   "source": [
    "## 구조체 변수 생성\n",
    "\n",
    "`-` 구조체는 태그 이름을 사용하여 변수들을 생성하면 됨 ---> 다만 앞에 `struct`가 붙는 것만 다름\n",
    "\n",
    "```c\n",
    "struct student{\n",
    "    int number;\n",
    "    char name[10];\n",
    "    double grede;\n",
    "};  // 구조체 정의             \n",
    "\n",
    "int main(){\n",
    "    struct student s1;  // 구조체 변수 선언\n",
    "    struct student s2, s3 // 여러개 선언도 가능함\n",
    "    ...\n",
    "}\n",
    "```"
   ]
  },
  {
   "cell_type": "markdown",
   "id": "purple-recording",
   "metadata": {},
   "source": [
    "`-` 위의 코드는 student라는 구조체를 이용해 s1이라는 구조체 변수를 만든 것\n",
    "\n",
    "`-` s1이라는 변수 안에는 구조체의 멤버인 number, name, grade가 들어 있음\n",
    "\n",
    "`-` 앞에서 변수를 선언할 때 int, char를 앞에 붙이듯이 새로운 자료형인 student를 앞에 붙인다고 생각하자 ---> 파이썬의 class 느낌\n",
    "\n",
    "`-` struct를 추가로 붙인다는 것 제외하고 다른 차이가 없음\n",
    "\n",
    "`-` s1에는 실제 메모리 공간이 할당 ---> s1이 차지하는 메모리 공간의 크기 = 각 멤버들의 크기의 합 ---> sizeof 연산자가 정확함\n",
    "\n",
    "- 구조체의 정의와 구조체 변수 선언을 동시에 할  수 있음 ---> 이 방법을 더 많이 사용\n",
    "\n",
    "```c\n",
    "struct student{\n",
    "    int number;\n",
    "    char name[10];\n",
    "    double grede; // 구조체 정의\n",
    "} s1; // s1은 구조체 student의 변수이다\n",
    "```"
   ]
  },
  {
   "cell_type": "markdown",
   "id": "disabled-softball",
   "metadata": {},
   "source": [
    "## 구조체의 초기화\n",
    "\n",
    "`-` 구조체의 선언과 구조체 변수의 선언이 분리된 경우에는 구조체 변수 선언 뒤에서 초기화함\n",
    "\n",
    "`-` 분리되지 않은 경우의 초기화는??"
   ]
  },
  {
   "cell_type": "markdown",
   "id": "opening-twist",
   "metadata": {},
   "source": [
    "```c\n",
    "struct student{\n",
    "    int number;\n",
    "    char name[10];\n",
    "    double grede;\n",
    "};  // 구조체 선언             \n",
    "struct student s1 = {24, \"Kim\", 4.3}  // 구조체 변수 선언 + 초기화\n",
    "struct student s2 = {21, \"Han\", 4.43}  // 구조체 변수 선언 + 초기화\n",
    "```"
   ]
  },
  {
   "cell_type": "markdown",
   "id": "binary-contents",
   "metadata": {},
   "source": [
    "## 구조체 멤버 참조\n",
    "\n",
    "`-` 구조체에서 중요한 것은 구조체 멤버 변수들을 참조하는 것\n",
    "\n",
    "`-` 구조체의 멤버는 멤버 연산자( `.` )을 이용하여 엑세스할 수 있음\n",
    "\n",
    "```c\n",
    "s1.grade = 3.8; // s1은 구조체 변수, grade는 구조체 멤버\n",
    "```"
   ]
  },
  {
   "cell_type": "markdown",
   "id": "whole-subscription",
   "metadata": {},
   "source": [
    "`-` 멤버가 문자배열이라면 strcpy()를 사용해서 문자열을 저장\n",
    "\n",
    "```c\n",
    "strcpy(s1.name, \"Kim\");\n",
    "```"
   ]
  },
  {
   "cell_type": "markdown",
   "id": "improved-columbus",
   "metadata": {},
   "source": [
    "`-` 구조체를 정의할 때 태그 이름은 생략할 수 있으나 구조체의 이름이 없으므로 이 구조체의 변수를 더 이상 생성할 수 없음\n",
    "\n",
    "`-` 코드의 가독성이 떨어지므로 구조체의 태그 이름을 붙이는 것이 좋음"
   ]
  },
  {
   "cell_type": "code",
   "execution_count": null,
   "id": "prostate-forty",
   "metadata": {},
   "outputs": [],
   "source": []
  }
 ],
 "metadata": {
  "kernelspec": {
   "display_name": "Python 3",
   "language": "python",
   "name": "python3"
  },
  "language_info": {
   "codemirror_mode": {
    "name": "ipython",
    "version": 3
   },
   "file_extension": ".py",
   "mimetype": "text/x-python",
   "name": "python",
   "nbconvert_exporter": "python",
   "pygments_lexer": "ipython3",
   "version": "3.8.8"
  }
 },
 "nbformat": 4,
 "nbformat_minor": 5
}
