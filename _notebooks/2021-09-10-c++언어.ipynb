{
 "cells": [
  {
   "cell_type": "markdown",
   "id": "pursuant-north",
   "metadata": {},
   "source": [
    "# C++ 프로그래밍\n",
    "\n",
    "> \"작성 중\"\n",
    "\n",
    "- toc: true\n",
    "- branch: master\n",
    "- badges: true\n",
    "- comments: true\n",
    "- author: 한재수\n",
    "- categories: [c++]"
   ]
  },
  {
   "cell_type": "markdown",
   "id": "subject-grammar",
   "metadata": {},
   "source": [
    "```cpp\n",
    "#include <iostream>\n",
    "\n",
    "int main(){\n",
    "    std::cout << \"Hello, World!\" << std::endl;\n",
    "    \n",
    "    return 0;\n",
    "}\n",
    "```"
   ]
  },
  {
   "cell_type": "markdown",
   "id": "accepting-intensity",
   "metadata": {},
   "source": [
    "`-` c++ 필기용\n",
    "\n",
    "`-` 이게 편해서 이걸로 c++언어 배운 내용 정리할 거임\n",
    "\n",
    "`-` 참고: 윤성우의 열혈 C++ 프로그래밍"
   ]
  },
  {
   "cell_type": "markdown",
   "id": "healthy-proof",
   "metadata": {},
   "source": [
    "# 기본 시작 "
   ]
  },
  {
   "cell_type": "markdown",
   "id": "royal-fantasy",
   "metadata": {},
   "source": [
    "`-` c언어 기본 시작은 아래와 같음 ---> 빼먹지 마셈"
   ]
  },
  {
   "cell_type": "markdown",
   "id": "fitting-prize",
   "metadata": {},
   "source": [
    "```cpp\n",
    "#include <iostream>\n",
    "\n",
    "int main(){\n",
    "    // 작성할 내용\n",
    "    \n",
    "    return 0;\n",
    "}\n",
    "```"
   ]
  },
  {
   "cell_type": "markdown",
   "id": "friendly-march",
   "metadata": {},
   "source": [
    "# 표준 입출력"
   ]
  },
  {
   "cell_type": "markdown",
   "id": "blank-chicago",
   "metadata": {},
   "source": [
    "`-` c++에서 표준 헤더파일을 선언할 때는 확장하 \".h\"를 생략\n",
    "\n",
    "`-` :: ---> scope resolution (더블 콜론이라고 편하게 불림)\n",
    "\n",
    "`-` ::의 역할은 파이썬에서 '.'같은 역할이라고 생각하셈 ---> numpy.array ---> numpy에 있는 array를 사용해라\n",
    "\n",
    "`-` printf()와 달리 서식지정문자를 사용하지 않음\n",
    "\n",
    "`-` >>: extraction operator (“get-from” 이라고 발음)\n",
    "\n",
    "`-` <<: insertion operator (“put-to” 이라고 발음)\n",
    "\n",
    "`-` << 을 연달아 사용해서 두 개 이상의 출력대상을 연이어 출력 가능\n",
    "\n",
    "`-` 출력: `std::cout << 출력대상1 << 출력대상 << $\\cdots$ << 출력대상N;`"
   ]
  },
  {
   "cell_type": "markdown",
   "id": "included-temple",
   "metadata": {},
   "source": [
    "```cpp\n",
    "#include <iostream>\n",
    "\n",
    "int main(){\n",
    "    int num = 20;\n",
    "    \n",
    "    std::cout << \"Hello, World!\" << std::endl; // std::endl 은 개힝\n",
    "    std::cout << \"Hello, \" << \"World!\" << std::endl; // << 는 출력을 하라는 의미 띄어쓰기는 입력해야 함\n",
    "    std::cout << num << ' ' << 'A';\n",
    "    std::cout << ' ' << 3.14 << std::endl;\n",
    "    return 0;\n",
    "}\n",
    "// Hello, World!\n",
    "// Hello, World!\n",
    "// 20 A 3.14\n",
    "\n",
    "```\n",
    "\n"
   ]
  },
  {
   "cell_type": "markdown",
   "id": "stainless-gentleman",
   "metadata": {},
   "source": [
    "`-` 입력: `std::cin >> 변수`"
   ]
  },
  {
   "cell_type": "markdown",
   "id": "uniform-plain",
   "metadata": {},
   "source": [
    "```cpp\n",
    "#include <iostream>\n",
    "\n",
    "int main(){\n",
    "    int val1;\n",
    "    std::cin >> val1;\n",
    "    \n",
    "    int val2;\n",
    "    std::cin >> val2;\n",
    "    \n",
    "    int val3, val4\n",
    "    std::cin >> val3 >> val4; // >>를 연달아 사용해 입력 받기 가능, 입력되는 데이터 구분은 공백으로 이뤄짐\n",
    "    \n",
    "    int result = val1 + val2 + val3 + val4;\n",
    "    \n",
    "    std::cout << result;\n",
    "    return 0;\n",
    "}\n",
    "```"
   ]
  },
  {
   "cell_type": "markdown",
   "id": "agreed-entry",
   "metadata": {},
   "source": [
    "# 함수 오버로딩\n",
    "\n",
    "`-` c언어에서는 동일한 이름의 함수가 정의될 수 없음\n",
    "\n",
    "`-` c++에서는 함수 이름이 같아도 매개변수가 다르면 정의 가능\n",
    "\n",
    "`-` c++에서 함수호출 시 `함수의 이름`과 `전달되는 매개변수의 정보(type, 개수)`로 함수 식별\n",
    "\n",
    "`-` 반환형의 type과 매개변수 이름은 상관 X"
   ]
  },
  {
   "cell_type": "markdown",
   "id": "flying-oxygen",
   "metadata": {},
   "source": [
    "```cpp\n",
    "#include <iostream>\n",
    "\n",
    "int func(int num){\n",
    "    return num ++;\n",
    "}\n",
    "\n",
    "int func(int a, int b){\n",
    "    return a+b;\n",
    "}\n",
    "\n",
    "int main(){\n",
    "    func(20);\n",
    "    func(30, 40); // 함수이름이 같지만 매개변수의 개수가 다르므로 가능! ---> 함수 오버로딩\n",
    "    return 0;\n",
    "}\n",
    "```"
   ]
  },
  {
   "cell_type": "markdown",
   "id": "brilliant-belarus",
   "metadata": {},
   "source": [
    "## 함수 오버로딩 요약"
   ]
  },
  {
   "cell_type": "markdown",
   "id": "regional-adams",
   "metadata": {},
   "source": [
    "```cpp\n",
    "int func(char c){ ... }\n",
    "int func(int n){ ... } // 매개변수 type이 다르므로 된다\n",
    "\n",
    "int func(int n){ ... }\n",
    "int func(int n1, int n2){ ... } // 매개변수의 수가 다르므로 된다\n",
    "\n",
    "void func(int n){ ... }\n",
    "int func(int n){ ... } // 반환형의 차이는 함수 오버로딩에 영향을 미치지 않음\n",
    "```"
   ]
  },
  {
   "cell_type": "markdown",
   "id": "alpine-complement",
   "metadata": {},
   "source": [
    "## 함수 오버로딩 장점\n"
   ]
  },
  {
   "cell_type": "markdown",
   "id": "dedicated-excuse",
   "metadata": {},
   "source": [
    "`-` 자료형은 다른데 동일한 action을 취하는 경우에 동일한 함수명 사용 가능 ---> 코드의 가독성 Good!"
   ]
  },
  {
   "cell_type": "markdown",
   "id": "false-generation",
   "metadata": {},
   "source": [
    "```cpp\n",
    "int add(int a, int b){\n",
    "    return a + b;\n",
    "}\n",
    "\n",
    "double add(int c, int d){\n",
    "    return c + d;\n",
    "}\n",
    "```"
   ]
  },
  {
   "cell_type": "markdown",
   "id": "official-macedonia",
   "metadata": {},
   "source": [
    "`-` 둘이 같은 action을 하므로 하나만 사용할 수 있다"
   ]
  },
  {
   "cell_type": "markdown",
   "id": "outer-monday",
   "metadata": {},
   "source": [
    "# 매개변수 디폴트 값"
   ]
  },
  {
   "cell_type": "markdown",
   "id": "restricted-extraction",
   "metadata": {},
   "source": [
    "## 디폴트 값(default value)"
   ]
  },
  {
   "cell_type": "markdown",
   "id": "exclusive-arrow",
   "metadata": {},
   "source": [
    "`-` 함수의 매개변수에 기본적으로 설정되어 있는 값\n",
    "\n",
    "`-` 함수 호출시에 입력으로 주어지지 않으면 디폴트 값이 쓰임 ---> R과 Python도 동일함"
   ]
  },
  {
   "cell_type": "markdown",
   "id": "empirical-quantum",
   "metadata": {},
   "source": [
    "```cpp\n",
    "int func(int num = 7){   // num의 default value는 7이다\n",
    "    return num + 1;\n",
    "}\n",
    "\n",
    "int result1 = func();\n",
    "int result2 = func(7); // 두 함수 호출 결과는 같다!\n",
    "```"
   ]
  },
  {
   "cell_type": "markdown",
   "id": "growing-budapest",
   "metadata": {},
   "source": [
    "`-` 매개변수가 여러개여도 동일함"
   ]
  },
  {
   "cell_type": "markdown",
   "id": "incoming-florida",
   "metadata": {},
   "source": [
    "```cpp\n",
    "int func(int num1 = 5, int num2 = 7){\n",
    "    return num1 + num2;\n",
    "}\n",
    "\n",
    "int result1 = func();\n",
    "\n",
    "int result2 = func(5);\n",
    "\n",
    "int result = func(5, 7); \n",
    "// 호출 결과는 같음 전달되는 인자는 왼쪽 부터 채워져 나가고 부족한 부분은 디폴트 값으로 채워짐\n",
    "// 그렇기에 디폴트 값을 넣을 때는 오른쪽 부터 디퐅르값을 지정해줘야 함\n",
    "```"
   ]
  },
  {
   "cell_type": "markdown",
   "id": "artificial-pointer",
   "metadata": {},
   "source": [
    "`-` 디폴트 값의 선언은 함수의 선언부테 위치 시켜줌"
   ]
  },
  {
   "cell_type": "markdown",
   "id": "excellent-vampire",
   "metadata": {},
   "source": [
    "```cpp\n",
    "#include <iostream>\n",
    "\n",
    "int add(int num1 = 5, int num2 = 7); // 디폴트 값은 함수의 선언부테 위치\n",
    "\n",
    "int main(){\n",
    "    std::cout << add() << std::endl;\n",
    "    return 0;\n",
    "}\n",
    "\n",
    "int add(int num1, int num2){    // 여기서 디폴트 값 선언하면 컴파일 에러\n",
    "    return num1 + num2;         // 디폴트 값은 함수의 선언부에 위치!\n",
    "}\n",
    "```"
   ]
  },
  {
   "cell_type": "markdown",
   "id": "instant-health",
   "metadata": {},
   "source": [
    "`-` 매개변수의 일부에만 디폴트 값을 지정 가능\n",
    "\n",
    "`-` 채워지지 않은 매개변수에만 인자가 전달 됨\n",
    "\n",
    "`-` 전달되는 인자가 왼쪽에서부터 채워지므로 디폴트 값은 오른쪽에서부터 채워야 함\n",
    "\n",
    "`-` 오른쪽이 빈 상태로 왼쪽 매개변수에 디폴트 값을 지정하면 컴파일 에러"
   ]
  },
  {
   "cell_type": "markdown",
   "id": "interstate-solution",
   "metadata": {},
   "source": [
    "```cpp\n",
    "int func(int num1, int num2, int num3 = 30){ ... } // 디폴트 값은 오른쪽에서부터!\n",
    "int func(int num1, int num2 = 20, int num3 = 30){ ... } // 디폴트 값은 오른쪽에서부터!\n",
    "\n",
    "int func(int num1 = 10, int num2, int num3){ ... } // 오른쪽이 비어 있으므로 에러\n",
    "int func(int num1 = 10, int num2 = 20, int num3){ ... } // 이것도 오른쪽이 비어있으므로 에러\n",
    "```"
   ]
  },
  {
   "cell_type": "markdown",
   "id": "alive-quilt",
   "metadata": {},
   "source": [
    "`-` 사용주의 ---> 애매모호하면 error 발생"
   ]
  },
  {
   "cell_type": "markdown",
   "id": "irish-serial",
   "metadata": {},
   "source": [
    "```cpp\n",
    "int func(int a){ ... }\n",
    "int func(int a, int b = 10){ ... }\n",
    "\n",
    "int result = func(10) // error가 발생함\n",
    "```"
   ]
  },
  {
   "cell_type": "markdown",
   "id": "consistent-growing",
   "metadata": {},
   "source": [
    "# 인라인(inline) 함수"
   ]
  },
  {
   "cell_type": "markdown",
   "id": "heard-saying",
   "metadata": {},
   "source": [
    "## Macro 함수 "
   ]
  },
  {
   "cell_type": "markdown",
   "id": "fundamental-chemistry",
   "metadata": {},
   "source": [
    "`-` 매크로 함수의 장점: 일반적인 함수에 비해 실행 속도가 빠름"
   ]
  },
  {
   "cell_type": "markdown",
   "id": "operational-alaska",
   "metadata": {},
   "source": [
    "```cpp\n",
    "#include <iostream>\n",
    "#define square(x) ((x) * (x)) // 매크로 함수 // 자료형에 독립적\n",
    "\n",
    "int main(){\n",
    "    std::cout << square(5) << std::endl;\n",
    "    return 0;\n",
    "}\n",
    "// 코드 전처리 후(inline화)\n",
    "int main(){\n",
    "    std::cout << ((5) * (5)) << std::endl;\n",
    "    return 0;\n",
    "}\n",
    "```"
   ]
  },
  {
   "cell_type": "markdown",
   "id": "affected-panama",
   "metadata": {},
   "source": [
    "`-` 매크로 함수가 전처리기에 의해 호출부분이 함수의 몸체를 대체함(inline화 되었다고 표현)"
   ]
  },
  {
   "cell_type": "markdown",
   "id": "ancient-sewing",
   "metadata": {},
   "source": [
    "## Inline 함수\n",
    "\n",
    "`-` 복잡한 함수를 매크로의 형태로 정의하는데 한계가 있음\n",
    "\n",
    "`-` inline함수는 무조건 되는건 아니고 조건부임\n",
    "\n",
    "`-` c++에서는 성능에 도움이 될지 컴파일러가 파악하여 inline화 할지 말지 결정함"
   ]
  },
  {
   "cell_type": "markdown",
   "id": "gorgeous-wiring",
   "metadata": {},
   "source": [
    "```cpp\n",
    "#include <iostream>\n",
    "\n",
    "inline int square(int x){\n",
    "    return x * x;\n",
    "}\n",
    "int main(){\n",
    "    std::cout << square(5) << std::endl;\n",
    "    return 0;\n",
    "}\n",
    "```"
   ]
  },
  {
   "cell_type": "markdown",
   "id": "unusual-artwork",
   "metadata": {},
   "source": [
    "## 매크로 함수 vs 인라인 함수 "
   ]
  },
  {
   "cell_type": "markdown",
   "id": "lined-margin",
   "metadata": {},
   "source": [
    "`-` 매크로 함수는 자료형에 독립적임!\n",
    "\n",
    "`-` 인라인 함수는 각 자료형 별로 함수 오버로딩을 해줘야 함 ---> 템플릿을 배우면 단점 보완 가능"
   ]
  },
  {
   "cell_type": "markdown",
   "id": "expressed-southwest",
   "metadata": {},
   "source": [
    "```cpp\n",
    "#include <iostream>\n",
    "\n",
    "inline int square(int x){\n",
    "    return x * x;\n",
    "}\n",
    "int main(){\n",
    "    std::cout << square(5) << std::endl;\n",
    "    return 0;\n",
    "}\n",
    "```"
   ]
  },
  {
   "cell_type": "markdown",
   "id": "sorted-norfolk",
   "metadata": {},
   "source": [
    "`-` 위 코드는 int형에 대해서만 성립하므로 또 다른 자료형에 대해 함수 오버로딩을 해줘야 함\n",
    "\n",
    "`-` double형에 대해서도 사용하고 싶다면?"
   ]
  },
  {
   "cell_type": "markdown",
   "id": "eastern-tours",
   "metadata": {},
   "source": [
    "```cpp\n",
    "#include <iostream>\n",
    "\n",
    "inline double square(int x){\n",
    "    return x * x;\n",
    "}\n",
    "int main(){\n",
    "    std::cout << square(5) << std::endl;\n",
    "    return 0;\n",
    "}\n",
    "```"
   ]
  },
  {
   "cell_type": "markdown",
   "id": "adequate-guitar",
   "metadata": {},
   "source": [
    "`-` 위 처럼 해야 int형 말고 double 형에 대해서도 square 함수를 사용할 수 있음"
   ]
  },
  {
   "cell_type": "markdown",
   "id": "capital-providence",
   "metadata": {},
   "source": [
    "# 이름공간(namespace)\n",
    "\n",
    "`-` 여러 사람들과 협업 개발을 하다보면 식별자(변수명, 함수명)등이 중복될 수 있음\n",
    "\n",
    "`-` 이러한 경우 어떠한 사람이 정의한 식별자인지 명시를 해서 중복을 피함"
   ]
  },
  {
   "cell_type": "markdown",
   "id": "vietnamese-porcelain",
   "metadata": {},
   "source": [
    "## 이름공간의 기본 원리\n",
    "\n",
    "`-` 이름공간 = 집\n",
    "\n",
    "`-` 한 집에 “펭수”라는 이름을 가지는 사람이 두 명있다면 “펭수야” 했을 때 누굴 부르는지 알 수가 없음\n",
    "\n",
    "`-`  만약 살고 있는 집이 다르면 구분 할 수 있음 ---> ex) 201호에 사는 “펭수” $\\neq$ 202호 사는 “펭수”"
   ]
  },
  {
   "cell_type": "markdown",
   "id": "published-treasury",
   "metadata": {},
   "source": [
    "## 이름공간 예시 "
   ]
  },
  {
   "cell_type": "markdown",
   "id": "hindu-visit",
   "metadata": {},
   "source": [
    "`-` 선언: `namespace 이름공간`\n",
    "    \n",
    "`-` 사용: `이름공간 :: 함수/변수`\n",
    "\n",
    "`-` 이름공간은 중첩도 가능함"
   ]
  },
  {
   "cell_type": "markdown",
   "id": "civic-dressing",
   "metadata": {},
   "source": [
    "```cpp\n",
    "#include <iostream>\n",
    "namespace BestComImpl{\n",
    "    void func(){\n",
    "        std::cout << \"Implemented by BestCom\" << std::endl;\n",
    "    }\n",
    "}  \n",
    "\n",
    "namespace ProgComImpl{\n",
    "    void func(){\n",
    "        std::cout << \"Implemented by ProgCom\" << std::endl;\n",
    "    }\n",
    "}  \n",
    "\n",
    "int main(){\n",
    "    BestComImpl::func();  \n",
    "    ProgComImpl::func();  \n",
    "    return 0;\n",
    "}\n",
    "```"
   ]
  },
  {
   "cell_type": "markdown",
   "id": "automotive-forth",
   "metadata": {},
   "source": [
    "## 이름공간 기반의 함수 선언/정의 분리\n",
    "\n",
    "`-` 상단에 이름공간의 함수 선언하고 하단에 해당 함수의 정의 기술"
   ]
  },
  {
   "cell_type": "markdown",
   "id": "about-commitment",
   "metadata": {},
   "source": [
    "```cpp\n",
    "#include <iostream>\n",
    "namespace BestComImpl{      // 이름공간내에 함수 선언\n",
    "    void func();            \n",
    "}\n",
    "\n",
    "int main(){\n",
    "    BestComImpl::func();\n",
    "    return 0;\n",
    "}\n",
    "\n",
    "void BestComImpl::func(){    // BestComImpl의 이름공간의 func() 구현\n",
    "    std::cout << \"Implemented by BestCom\" << std::endl;\n",
    "}\n",
    "```"
   ]
  },
  {
   "cell_type": "markdown",
   "id": "anticipated-interview",
   "metadata": {},
   "source": [
    "## 동일한 이름공간 내에서 함수 호출"
   ]
  },
  {
   "cell_type": "markdown",
   "id": "mental-occurrence",
   "metadata": {},
   "source": [
    "`-` 선언된 이름공간의 이름이 동일하면 동일한 것으로 간주함"
   ]
  },
  {
   "cell_type": "markdown",
   "id": "technological-plant",
   "metadata": {},
   "source": [
    "```cpp\n",
    "namespace BestComImpl{\n",
    "    void func1();\n",
    "}\n",
    "\n",
    "namespace BestComImpl{\n",
    "    void func2();\n",
    "}\n",
    "```"
   ]
  },
  {
   "cell_type": "markdown",
   "id": "precise-battery",
   "metadata": {},
   "source": [
    "`-` 위 코드는 아래와 같음"
   ]
  },
  {
   "cell_type": "markdown",
   "id": "typical-transfer",
   "metadata": {},
   "source": [
    "```cpp\n",
    "namespace BestComImpl{\n",
    "    void func1();\n",
    "    void func2();\n",
    "```"
   ]
  },
  {
   "cell_type": "markdown",
   "id": "informal-sessions",
   "metadata": {},
   "source": [
    "`-` 이름공간을 명시하지 않고 함수를 호출한 경우 ---> 함수 호출문이 존재하는 동일한 이름공간안에서 호출 함수를 찾음\n",
    "\n",
    "`-` func2()함수를 BestComImpl 이름공간안에서 찾는다 ---> 위에서 정의했으므로 존재함"
   ]
  },
  {
   "cell_type": "markdown",
   "id": "threaded-progress",
   "metadata": {},
   "source": [
    "```cpp\n",
    "void BestComImpl::func(){\n",
    "    std::cout << \"Implemented by BestCom\" << std::endl;\n",
    "    func2(); // in the same namespace\n",
    "    ProgComImpl::func(); // in the ProgComImpl's space\n",
    "}\n",
    "```"
   ]
  },
  {
   "cell_type": "markdown",
   "id": "excessive-penguin",
   "metadata": {},
   "source": [
    "## std의 비밀 "
   ]
  },
  {
   "cell_type": "markdown",
   "id": "noticed-interim",
   "metadata": {},
   "source": [
    "`-` `<iostream>` 에 선언되어 있는 `cout/cin/endl` 등은 `이름공간 std`안에 선언되어 있음!\n",
    "\n",
    "`-` `std는 이름공간 이었음!!`\n",
    "\n",
    "```cpp\n",
    "namespace std {\n",
    "...\n",
    "    extern istream cin; /// Linked to standard input\n",
    "    extern ostream cout; /// Linked to standard output\n",
    "...\n",
    "}\n",
    "```"
   ]
  },
  {
   "cell_type": "markdown",
   "id": "first-shade",
   "metadata": {},
   "source": [
    "## using을 이용한 이름공간의 명시\n",
    "\n",
    "`-` 자주 활용되는 이름공간은 using을 이용해 축약할 수 있음 ---> 파이썬에도 있음\n",
    "\n",
    "`-` from math import sqrt ---> math.sqrt 대신 sqrt를 사용!"
   ]
  },
  {
   "cell_type": "markdown",
   "id": "assigned-motorcycle",
   "metadata": {},
   "source": [
    "```cpp\n",
    "#include <iostream>\n",
    "\n",
    "using std::cin;\n",
    "using std::cout;\n",
    "using std::endl;\n",
    "        \n",
    "int main(){\n",
    "    int num;\n",
    "    cin >> num;\n",
    "    cout << num << endl;\n",
    "    return 0;\n",
    "}\n",
    "```\n",
    "`-` 이후 부터 cin/cout/endl은 std::cin, std::cout, std::endl을 의미한다는 선언"
   ]
  },
  {
   "cell_type": "markdown",
   "id": "secure-reality",
   "metadata": {},
   "source": [
    "```cpp\n",
    "#include <iostream>\n",
    "using namespace std;\n",
    "\n",
    "int main(){\n",
    "    int num;\n",
    "    cin >> num;\n",
    "    cout << num << endl;\n",
    "    return 0;\n",
    "}\n",
    "```\n",
    "\n",
    "`-` 이름공간 std에 선언된 것은 std라는 이름공간의 선언없이 접근하겠다는 선언"
   ]
  },
  {
   "cell_type": "markdown",
   "id": "surface-hazard",
   "metadata": {},
   "source": [
    "## 이름공간의 별칭 지정 & 전역변수 접근 "
   ]
  },
  {
   "cell_type": "markdown",
   "id": "brilliant-arizona",
   "metadata": {},
   "source": [
    "`-` 이름공간 별칭 지정 방법"
   ]
  },
  {
   "cell_type": "markdown",
   "id": "interpreted-duration",
   "metadata": {},
   "source": [
    "```cpp\n",
    "#include <iostream>\n",
    "using namespace std;\n",
    "\n",
    "namespace AAA {\n",
    "    namespace BBB {\n",
    "        namespace CCC {\n",
    "            int num1;\n",
    "            int num2;\n",
    "        }\n",
    "    }\n",
    "}\n",
    "\n",
    "int main(){\n",
    "    AAA::BBB::CCC::num1 = 20;\n",
    "    AAA::BBB::CCC::num1 = 30;\n",
    "    \n",
    "    namespace ABC = AAA::BBB:::CCC; // 이름공간이 너무 중첩됐을 때 별칭을 지정하여 쉽게 접근할 수 있다\n",
    "    cout << ABC::num1 << endl;\n",
    "    cout << ABC::num2 << endl;\n",
    "    \n",
    "    return 0;\n",
    "}\n",
    "```"
   ]
  },
  {
   "cell_type": "markdown",
   "id": "endangered-dietary",
   "metadata": {},
   "source": [
    "`-` :: 연산자는 전역변수 접근에도 사용 가능\n",
    "\n",
    "`-` 전연벽수는 이름공간이 없음 ---> 이름공간이 없는 이름공간이 전연벽수가 존재하는 이름공간\n",
    "        \n",
    "```cpp\n",
    "int val = 100;\n",
    "int func(){\n",
    "    int val = 20; // 지역변수\n",
    "    val += 3; // 지역변수 val의 값 3 증가\n",
    "    ::val += 7; // 전역변수 val의 값 7 증가\n",
    "}\n",
    "```"
   ]
  },
  {
   "cell_type": "code",
   "execution_count": null,
   "id": "purple-boulder",
   "metadata": {},
   "outputs": [],
   "source": []
  }
 ],
 "metadata": {
  "kernelspec": {
   "display_name": "Python 3",
   "language": "python",
   "name": "python3"
  },
  "language_info": {
   "codemirror_mode": {
    "name": "ipython",
    "version": 3
   },
   "file_extension": ".py",
   "mimetype": "text/x-python",
   "name": "python",
   "nbconvert_exporter": "python",
   "pygments_lexer": "ipython3",
   "version": "3.8.8"
  }
 },
 "nbformat": 4,
 "nbformat_minor": 5
}
