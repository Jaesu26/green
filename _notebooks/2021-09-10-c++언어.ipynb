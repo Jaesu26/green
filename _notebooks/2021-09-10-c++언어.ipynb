{
 "cells": [
  {
   "cell_type": "markdown",
   "id": "driving-invasion",
   "metadata": {},
   "source": [
    "# C++ 프로그래밍\n",
    "\n",
    "> \"작성 중\"\n",
    "\n",
    "- toc: true\n",
    "- branch: master\n",
    "- badges: true\n",
    "- comments: true\n",
    "- author: 한재수\n",
    "- categories: [c++]"
   ]
  },
  {
   "cell_type": "markdown",
   "id": "freelance-lexington",
   "metadata": {},
   "source": [
    "```cpp\n",
    "#include <iostream>\n",
    "\n",
    "int main(){\n",
    "    std::cout << \"Hello, World!\" << std::endl;\n",
    "    \n",
    "    return 0;\n",
    "}\n",
    "```"
   ]
  },
  {
   "cell_type": "markdown",
   "id": "french-collect",
   "metadata": {},
   "source": [
    "`-` c++ 저장용\n",
    "\n",
    "`-` 이게 편해서 이걸로 c++언어 배운 내용 공부\n",
    "\n",
    "`-` 교재 : 윤성우의 열혈 C++ 프로그래밍"
   ]
  },
  {
   "cell_type": "markdown",
   "id": "pediatric-appointment",
   "metadata": {},
   "source": [
    "# 기본 시작 "
   ]
  },
  {
   "cell_type": "markdown",
   "id": "designing-morgan",
   "metadata": {},
   "source": [
    "`-` c언어 기본 시작은 아래와 같음 ---> 빼먹지 마셈"
   ]
  },
  {
   "cell_type": "markdown",
   "id": "secondary-fortune",
   "metadata": {},
   "source": [
    "```cpp\n",
    "#include <iostream>\n",
    "\n",
    "int main(){\n",
    "    // 작성할 내용\n",
    "    \n",
    "    return 0;\n",
    "}\n",
    "```"
   ]
  },
  {
   "cell_type": "markdown",
   "id": "handled-collapse",
   "metadata": {},
   "source": [
    "# 표준 입출력"
   ]
  },
  {
   "cell_type": "markdown",
   "id": "adaptive-operation",
   "metadata": {},
   "source": [
    "`-` c++에서 표준 헤더파일을 선언할 때는 확장자 \".h\"를 생략\n",
    "\n",
    "`-` :: ---> scope resolution (더블 콜론이라고 편하게 불림)\n",
    "\n",
    "`-` ::의 역할은 파이썬에서 '.'같은 역할이라고 생각하셈 ---> numpy.array ---> numpy에 있는 array를 사용해라\n",
    "\n",
    "`-` printf()와 달리 서식지정문자를 사용하지 않음\n",
    "\n",
    "`-` >>: extraction operator (“get-from” 이라고 발음)\n",
    "\n",
    "`-` <<: insertion operator (“put-to” 이라고 발음)\n",
    "\n",
    "`-` << 을 연달아 사용해서 두 개 이상의 출력대상을 연이어 출력 가능\n",
    "\n",
    "`-` 출력: `std::cout << 출력대상1 << 출력대상2 << ⋯ << 출력대상N;`"
   ]
  },
  {
   "cell_type": "markdown",
   "id": "funny-connecticut",
   "metadata": {},
   "source": [
    "```cpp\n",
    "#include <iostream>\n",
    "\n",
    "int main(){\n",
    "    int num = 20;\n",
    "    \n",
    "    std::cout << \"Hello, World!\" << std::endl; // std::endl 은 개힝\n",
    "    std::cout << \"Hello, \" << \"World!\" << std::endl; // << 는 출력을 하라는 의미 띄어쓰기는 입력해야 함\n",
    "    std::cout << num << ' ' << 'A';\n",
    "    std::cout << ' ' << 3.14 << std::endl;\n",
    "    return 0;\n",
    "}\n",
    "// Hello, World!\n",
    "// Hello, World!\n",
    "// 20 A 3.14\n",
    "\n",
    "```\n",
    "\n"
   ]
  },
  {
   "cell_type": "markdown",
   "id": "macro-issue",
   "metadata": {},
   "source": [
    "`-` 입력: `std::cin >> 변수`"
   ]
  },
  {
   "cell_type": "markdown",
   "id": "particular-brooklyn",
   "metadata": {},
   "source": [
    "```cpp\n",
    "#include <iostream>\n",
    "\n",
    "int main(){\n",
    "    int val1;\n",
    "    std::cin >> val1;\n",
    "    \n",
    "    int val2;\n",
    "    std::cin >> val2;\n",
    "    \n",
    "    int val3, val4\n",
    "    std::cin >> val3 >> val4; // >>를 연달아 사용해 입력 받기 가능, 입력되는 데이터 구분은 공백으로 이뤄짐\n",
    "    \n",
    "    int result = val1 + val2 + val3 + val4;\n",
    "    \n",
    "    std::cout << result;\n",
    "    return 0;\n",
    "}\n",
    "```"
   ]
  },
  {
   "cell_type": "markdown",
   "id": "weekly-stomach",
   "metadata": {},
   "source": [
    "# 함수 오버로딩\n",
    "\n",
    "`-` c언어에서는 동일한 이름의 함수가 정의될 수 없음\n",
    "\n",
    "`-` c++에서는 함수 이름이 같아도 매개변수가 다르면 정의 가능\n",
    "\n",
    "`-` c++에서 함수호출 시 `함수의 이름`과 `전달되는 매개변수의 정보(type, 개수)`로 함수 식별\n",
    "\n",
    "`-` 반환형의 type과 매개변수 이름은 상관 X"
   ]
  },
  {
   "cell_type": "markdown",
   "id": "dependent-blues",
   "metadata": {},
   "source": [
    "```cpp\n",
    "#include <iostream>\n",
    "\n",
    "int func(int num){\n",
    "    return num ++;\n",
    "}\n",
    "\n",
    "int func(int a, int b){\n",
    "    return a + b;\n",
    "}\n",
    "\n",
    "int main(){\n",
    "    func(20);\n",
    "    func(30, 40); // 함수이름이 같지만 매개변수의 개수가 다르므로 가능! ---> 함수 오버로딩\n",
    "    return 0;\n",
    "}\n",
    "```"
   ]
  },
  {
   "cell_type": "markdown",
   "id": "electoral-weekly",
   "metadata": {},
   "source": [
    "## 함수 오버로딩 요약"
   ]
  },
  {
   "cell_type": "markdown",
   "id": "creative-alabama",
   "metadata": {},
   "source": [
    "```cpp\n",
    "int func(char c){ ... }\n",
    "int func(int n){ ... } // 매개변수 type이 다르므로 된다\n",
    "\n",
    "int func(int n){ ... }\n",
    "int func(int n1, int n2){ ... } // 매개변수의 수가 다르므로 된다\n",
    "\n",
    "void func(int n){ ... }\n",
    "int func(int n){ ... } // 반환형의 차이는 함수 오버로딩에 영향을 미치지 않음\n",
    "```"
   ]
  },
  {
   "cell_type": "markdown",
   "id": "choice-vessel",
   "metadata": {},
   "source": [
    "## 함수 오버로딩 장점\n"
   ]
  },
  {
   "cell_type": "markdown",
   "id": "according-tuesday",
   "metadata": {},
   "source": [
    "`-` 자료형은 다른데 동일한 action을 취하는 경우에 동일한 함수명 사용 가능 ---> 코드의 가독성 Good!"
   ]
  },
  {
   "cell_type": "markdown",
   "id": "cardiac-observation",
   "metadata": {},
   "source": [
    "```cpp\n",
    "int add(int a, int b){\n",
    "    return a + b;\n",
    "}\n",
    "\n",
    "double add(double c, double d){\n",
    "    return c + d;\n",
    "}\n",
    "```"
   ]
  },
  {
   "cell_type": "markdown",
   "id": "serial-clause",
   "metadata": {},
   "source": [
    "`-` 둘이 같은 action을 하므로 하나만 사용할 수 있다"
   ]
  },
  {
   "cell_type": "markdown",
   "id": "outstanding-accused",
   "metadata": {},
   "source": [
    "# 매개변수 디폴트 값"
   ]
  },
  {
   "cell_type": "markdown",
   "id": "entire-sister",
   "metadata": {},
   "source": [
    "## 디폴트 값(default value)"
   ]
  },
  {
   "cell_type": "markdown",
   "id": "victorian-ceiling",
   "metadata": {},
   "source": [
    "`-` 함수의 매개변수에 기본적으로 설정되어 있는 값\n",
    "\n",
    "`-` 함수 호출시에 입력으로 주어지지 않으면 디폴트 값이 쓰임 ---> R과 Python도 동일함"
   ]
  },
  {
   "cell_type": "markdown",
   "id": "geographic-theology",
   "metadata": {},
   "source": [
    "```cpp\n",
    "int func(int num = 7){   // num의 default value는 7이다\n",
    "    return num + 1;\n",
    "}\n",
    "\n",
    "int result1 = func();\n",
    "int result2 = func(7); // 두 함수 호출 결과는 같다!\n",
    "```"
   ]
  },
  {
   "cell_type": "markdown",
   "id": "covered-georgia",
   "metadata": {},
   "source": [
    "`-` 매개변수가 여러개여도 동일함"
   ]
  },
  {
   "cell_type": "markdown",
   "id": "suitable-overhead",
   "metadata": {},
   "source": [
    "```cpp\n",
    "int func(int num1 = 5, int num2 = 7){\n",
    "    return num1 + num2;\n",
    "}\n",
    "\n",
    "int result1 = func();\n",
    "\n",
    "int result2 = func(5);\n",
    "\n",
    "int result = func(5, 7); \n",
    "// 호출 결과는 같음 전달되는 인자는 왼쪽 부터 채워져 나가고 부족한 부분은 디폴트 값으로 채워짐\n",
    "// 그렇기에 디폴트 값을 넣을 때는 오른쪽 부터 디퐅르값을 지정해줘야 함\n",
    "```"
   ]
  },
  {
   "cell_type": "markdown",
   "id": "careful-graphic",
   "metadata": {},
   "source": [
    "`-` 디폴트 값의 선언은 함수의 선언부테 위치 시켜줌"
   ]
  },
  {
   "cell_type": "markdown",
   "id": "casual-mason",
   "metadata": {},
   "source": [
    "```cpp\n",
    "#include <iostream>\n",
    "\n",
    "int add(int num1 = 5, int num2 = 7); // 디폴트 값은 함수의 선언부테 위치\n",
    "\n",
    "int main(){\n",
    "    std::cout << add() << std::endl;\n",
    "    return 0;\n",
    "}\n",
    "\n",
    "int add(int num1, int num2){    // 여기서 디폴트 값 선언하면 컴파일 에러\n",
    "    return num1 + num2;         // 디폴트 값은 함수의 선언부에 위치!\n",
    "}\n",
    "```"
   ]
  },
  {
   "cell_type": "markdown",
   "id": "still-bangladesh",
   "metadata": {},
   "source": [
    "`-` 매개변수의 일부에만 디폴트 값을 지정 가능\n",
    "\n",
    "`-` 채워지지 않은 매개변수에만 인자가 전달 됨\n",
    "\n",
    "`-` 전달되는 인자가 왼쪽에서부터 채워지므로 디폴트 값은 오른쪽에서부터 채워야 함\n",
    "\n",
    "`-` 오른쪽이 빈 상태로 왼쪽 매개변수에 디폴트 값을 지정하면 컴파일 에러"
   ]
  },
  {
   "cell_type": "markdown",
   "id": "alike-bacteria",
   "metadata": {},
   "source": [
    "```cpp\n",
    "int func(int num1, int num2, int num3 = 30){ ... } // 디폴트 값은 오른쪽에서부터!\n",
    "int func(int num1, int num2 = 20, int num3 = 30){ ... } // 디폴트 값은 오른쪽에서부터!\n",
    "\n",
    "int func(int num1 = 10, int num2, int num3){ ... } // 오른쪽이 비어 있으므로 에러\n",
    "int func(int num1 = 10, int num2 = 20, int num3){ ... } // 이것도 오른쪽이 비어있으므로 에러\n",
    "```"
   ]
  },
  {
   "cell_type": "markdown",
   "id": "settled-minutes",
   "metadata": {},
   "source": [
    "`-` 사용주의 ---> 애매모호하면 error 발생"
   ]
  },
  {
   "cell_type": "markdown",
   "id": "joined-museum",
   "metadata": {},
   "source": [
    "```cpp\n",
    "int func(int a){ ... }\n",
    "int func(int a, int b = 10){ ... }\n",
    "\n",
    "int result = func(10) // error가 발생함\n",
    "```"
   ]
  },
  {
   "cell_type": "markdown",
   "id": "healthy-delight",
   "metadata": {},
   "source": [
    "# 인라인(inline) 함수"
   ]
  },
  {
   "cell_type": "markdown",
   "id": "golden-garage",
   "metadata": {},
   "source": [
    "## Macro 함수 "
   ]
  },
  {
   "cell_type": "markdown",
   "id": "guided-zoning",
   "metadata": {},
   "source": [
    "`-` 매크로 함수의 장점: 일반적인 함수에 비해 실행 속도가 빠름"
   ]
  },
  {
   "cell_type": "markdown",
   "id": "sixth-developer",
   "metadata": {},
   "source": [
    "```cpp\n",
    "#include <iostream>\n",
    "#define square(x) ((x) * (x)) // 매크로 함수 // 자료형에 독립적\n",
    "\n",
    "int main(){\n",
    "    std::cout << square(5) << std::endl;\n",
    "    return 0;\n",
    "}\n",
    "// 코드 전처리 후(inline화)\n",
    "int main(){\n",
    "    std::cout << ((5) * (5)) << std::endl;\n",
    "    return 0;\n",
    "}\n",
    "```"
   ]
  },
  {
   "cell_type": "markdown",
   "id": "conscious-western",
   "metadata": {},
   "source": [
    "`-` 매크로 함수가 전처리기에 의해 호출부분이 함수의 몸체를 대체함(inline화 되었다고 표현)"
   ]
  },
  {
   "cell_type": "markdown",
   "id": "visible-quarter",
   "metadata": {},
   "source": [
    "## Inline 함수\n",
    "\n",
    "`-` 복잡한 함수를 매크로의 형태로 정의하는데 한계가 있음\n",
    "\n",
    "`-` inline함수는 무조건 되는건 아니고 조건부임\n",
    "\n",
    "`-` c++에서는 성능에 도움이 될지 컴파일러가 파악하여 inline화 할지 말지 결정함"
   ]
  },
  {
   "cell_type": "markdown",
   "id": "damaged-farming",
   "metadata": {},
   "source": [
    "```cpp\n",
    "#include <iostream>\n",
    "\n",
    "inline int square(int x){\n",
    "    return x * x;\n",
    "}\n",
    "int main(){\n",
    "    std::cout << square(5) << std::endl;\n",
    "    return 0;\n",
    "}\n",
    "```"
   ]
  },
  {
   "cell_type": "markdown",
   "id": "prompt-truth",
   "metadata": {},
   "source": [
    "## 매크로 함수 vs 인라인 함수 "
   ]
  },
  {
   "cell_type": "markdown",
   "id": "oriental-caution",
   "metadata": {},
   "source": [
    "`-` 매크로 함수는 자료형에 독립적임!\n",
    "\n",
    "`-` 인라인 함수는 각 자료형 별로 함수 오버로딩을 해줘야 함 ---> 템플릿을 배우면 단점 보완 가능"
   ]
  },
  {
   "cell_type": "markdown",
   "id": "electoral-wallpaper",
   "metadata": {},
   "source": [
    "```cpp\n",
    "#include <iostream>\n",
    "\n",
    "inline int square(int x){\n",
    "    return x * x;\n",
    "}\n",
    "int main(){\n",
    "    std::cout << square(5) << std::endl;\n",
    "    return 0;\n",
    "}\n",
    "```"
   ]
  },
  {
   "cell_type": "markdown",
   "id": "external-copyright",
   "metadata": {},
   "source": [
    "`-` 위 코드는 int형에 대해서만 성립하므로 또 다른 자료형에 대해 함수 오버로딩을 해줘야 함\n",
    "\n",
    "`-` double형에 대해서도 사용하고 싶다면?"
   ]
  },
  {
   "cell_type": "markdown",
   "id": "partial-survey",
   "metadata": {},
   "source": [
    "```cpp\n",
    "#include <iostream>\n",
    "\n",
    "inline double square(int x){\n",
    "    return x * x;\n",
    "}\n",
    "int main(){\n",
    "    std::cout << square(5) << std::endl;\n",
    "    return 0;\n",
    "}\n",
    "```"
   ]
  },
  {
   "cell_type": "markdown",
   "id": "crude-class",
   "metadata": {},
   "source": [
    "`-` 위 처럼 해야 int형 말고 double 형에 대해서도 square 함수를 사용할 수 있음"
   ]
  },
  {
   "cell_type": "markdown",
   "id": "thirty-testing",
   "metadata": {},
   "source": [
    "# 이름공간(namespace)\n",
    "\n",
    "`-` 여러 사람들과 협업 개발을 하다보면 식별자(변수명, 함수명)등이 중복될 수 있음\n",
    "\n",
    "`-` 이러한 경우 어떠한 사람이 정의한 식별자인지 명시를 해서 중복을 피함"
   ]
  },
  {
   "cell_type": "markdown",
   "id": "secondary-moderator",
   "metadata": {},
   "source": [
    "## 이름공간의 기본 원리\n",
    "\n",
    "`-` 이름공간 = 집\n",
    "\n",
    "`-` 한 집에 “펭수”라는 이름을 가지는 사람이 두 명있다면 “펭수야” 했을 때 누굴 부르는지 알 수가 없음\n",
    "\n",
    "`-`  만약 살고 있는 집이 다르면 구분 할 수 있음 ---> ex) 201호에 사는 “펭수” $\\neq$ 202호 사는 “펭수”"
   ]
  },
  {
   "cell_type": "markdown",
   "id": "underlying-terminology",
   "metadata": {},
   "source": [
    "## 이름공간 예시 "
   ]
  },
  {
   "cell_type": "markdown",
   "id": "different-projection",
   "metadata": {},
   "source": [
    "`-` 선언: `namespace 이름공간`\n",
    "    \n",
    "`-` 사용: `이름공간 :: 함수/변수`\n",
    "\n",
    "`-` 이름공간은 중첩도 가능함"
   ]
  },
  {
   "cell_type": "markdown",
   "id": "variable-processor",
   "metadata": {},
   "source": [
    "```cpp\n",
    "#include <iostream>\n",
    "namespace BestComImpl{\n",
    "    void func(){\n",
    "        std::cout << \"Implemented by BestCom\" << std::endl;\n",
    "    }\n",
    "}  \n",
    "\n",
    "namespace ProgComImpl{\n",
    "    void func(){\n",
    "        std::cout << \"Implemented by ProgCom\" << std::endl;\n",
    "    }\n",
    "}  \n",
    "\n",
    "int main(){\n",
    "    BestComImpl::func();  \n",
    "    ProgComImpl::func();  \n",
    "    return 0;\n",
    "}\n",
    "```"
   ]
  },
  {
   "cell_type": "markdown",
   "id": "cheap-montreal",
   "metadata": {},
   "source": [
    "## 이름공간 기반의 함수 선언/정의 분리\n",
    "\n",
    "`-` 상단에 이름공간의 함수 선언하고 하단에 해당 함수의 정의 기술"
   ]
  },
  {
   "cell_type": "markdown",
   "id": "figured-fellowship",
   "metadata": {},
   "source": [
    "```cpp\n",
    "#include <iostream>\n",
    "namespace BestComImpl{      // 이름공간내에 함수 선언\n",
    "    void func();            \n",
    "}\n",
    "\n",
    "int main(){\n",
    "    BestComImpl::func();\n",
    "    return 0;\n",
    "}\n",
    "\n",
    "void BestComImpl::func(){    // BestComImpl의 이름공간의 func() 구현\n",
    "    std::cout << \"Implemented by BestCom\" << std::endl;\n",
    "}\n",
    "```"
   ]
  },
  {
   "cell_type": "markdown",
   "id": "scheduled-translator",
   "metadata": {},
   "source": [
    "## 동일한 이름공간 내에서 함수 호출"
   ]
  },
  {
   "cell_type": "markdown",
   "id": "executed-western",
   "metadata": {},
   "source": [
    "`-` 선언된 이름공간의 이름이 동일하면 동일한 것으로 간주함"
   ]
  },
  {
   "cell_type": "markdown",
   "id": "anticipated-wings",
   "metadata": {},
   "source": [
    "```cpp\n",
    "namespace BestComImpl{\n",
    "    void func1();\n",
    "}\n",
    "\n",
    "namespace BestComImpl{\n",
    "    void func2();\n",
    "}\n",
    "```"
   ]
  },
  {
   "cell_type": "markdown",
   "id": "earned-issue",
   "metadata": {},
   "source": [
    "`-` 위 코드는 아래와 같음"
   ]
  },
  {
   "cell_type": "markdown",
   "id": "active-passion",
   "metadata": {},
   "source": [
    "```cpp\n",
    "namespace BestComImpl{\n",
    "    void func1();\n",
    "    void func2();\n",
    "```"
   ]
  },
  {
   "cell_type": "markdown",
   "id": "loved-novel",
   "metadata": {},
   "source": [
    "`-` 이름공간을 명시하지 않고 함수를 호출한 경우 ---> 함수 호출문이 존재하는 동일한 이름공간안에서 호출 함수를 찾음\n",
    "\n",
    "`-` func2()함수를 BestComImpl 이름공간안에서 찾는다 ---> 위에서 정의했으므로 존재함"
   ]
  },
  {
   "cell_type": "markdown",
   "id": "composed-liability",
   "metadata": {},
   "source": [
    "```cpp\n",
    "void BestComImpl::func(){\n",
    "    std::cout << \"Implemented by BestCom\" << std::endl;\n",
    "    func2(); // in the same namespace\n",
    "    ProgComImpl::func(); // in the ProgComImpl's space\n",
    "}\n",
    "```"
   ]
  },
  {
   "cell_type": "markdown",
   "id": "entire-insulation",
   "metadata": {},
   "source": [
    "## std의 비밀 "
   ]
  },
  {
   "cell_type": "markdown",
   "id": "convenient-globe",
   "metadata": {},
   "source": [
    "`-` `<iostream>` 에 선언되어 있는 `cout/cin/endl` 등은 `이름공간 std`안에 선언되어 있음!\n",
    "\n",
    "`-` `std는 이름공간 이었음!!`\n",
    "\n",
    "```cpp\n",
    "namespace std {\n",
    "...\n",
    "    extern istream cin; /// Linked to standard input\n",
    "    extern ostream cout; /// Linked to standard output\n",
    "...\n",
    "}\n",
    "```"
   ]
  },
  {
   "cell_type": "markdown",
   "id": "measured-mention",
   "metadata": {},
   "source": [
    "## using을 이용한 이름공간의 명시\n",
    "\n",
    "`-` 자주 활용되는 이름공간은 using을 이용해 축약할 수 있음 ---> 파이썬에도 있음\n",
    "\n",
    "`-` from math import sqrt ---> math.sqrt 대신 sqrt를 사용!"
   ]
  },
  {
   "cell_type": "markdown",
   "id": "tracked-cancellation",
   "metadata": {},
   "source": [
    "```cpp\n",
    "#include <iostream>\n",
    "\n",
    "using std::cin;\n",
    "using std::cout;\n",
    "using std::endl;\n",
    "        \n",
    "int main(){\n",
    "    int num;\n",
    "    cin >> num;\n",
    "    cout << num << endl;\n",
    "    return 0;\n",
    "}\n",
    "```\n",
    "`-` 이후 부터 cin/cout/endl은 std::cin, std::cout, std::endl을 의미한다는 선언"
   ]
  },
  {
   "cell_type": "markdown",
   "id": "innocent-contrast",
   "metadata": {},
   "source": [
    "```cpp\n",
    "#include <iostream>\n",
    "using namespace std;\n",
    "\n",
    "int main(){\n",
    "    int num;\n",
    "    cin >> num;\n",
    "    cout << num << endl;\n",
    "    return 0;\n",
    "}\n",
    "```\n",
    "\n",
    "`-` 이름공간 std에 선언된 것은 std라는 이름공간의 선언없이 접근하겠다는 선언"
   ]
  },
  {
   "cell_type": "markdown",
   "id": "popular-ensemble",
   "metadata": {},
   "source": [
    "## 이름공간의 별칭 지정 & 전역변수 접근 "
   ]
  },
  {
   "cell_type": "markdown",
   "id": "junior-relief",
   "metadata": {},
   "source": [
    "`-` 이름공간 별칭 지정 방법"
   ]
  },
  {
   "cell_type": "markdown",
   "id": "demanding-mobility",
   "metadata": {},
   "source": [
    "```cpp\n",
    "#include <iostream>\n",
    "using namespace std;\n",
    "\n",
    "namespace AAA {\n",
    "    namespace BBB {\n",
    "        namespace CCC {\n",
    "            int num1;\n",
    "            int num2;\n",
    "        }\n",
    "    }\n",
    "}\n",
    "\n",
    "int main(){\n",
    "    AAA::BBB::CCC::num1 = 20;\n",
    "    AAA::BBB::CCC::num1 = 30;\n",
    "    \n",
    "    namespace ABC = AAA::BBB:::CCC; // 이름공간이 너무 중첩됐을 때 별칭을 지정하여 쉽게 접근할 수 있다\n",
    "    cout << ABC::num1 << endl;\n",
    "    cout << ABC::num2 << endl;\n",
    "    \n",
    "    return 0;\n",
    "}\n",
    "```"
   ]
  },
  {
   "cell_type": "markdown",
   "id": "southeast-binding",
   "metadata": {},
   "source": [
    "`-` :: 연산자는 전역변수 접근에도 사용 가능\n",
    "\n",
    "`-` 전연벽수는 이름공간이 없음 ---> 이름공간이 없는 이름공간이 전연벽수가 존재하는 이름공간\n",
    "        \n",
    "```cpp\n",
    "int val = 100;\n",
    "int func(){\n",
    "    int val = 20; // 지역변수\n",
    "    val += 3; // 지역변수 val의 값 3 증가\n",
    "    ::val += 7; // 전역변수 val의 값 7 증가\n",
    "}\n",
    "```"
   ]
  },
  {
   "cell_type": "markdown",
   "id": "patent-pontiac",
   "metadata": {},
   "source": [
    "# Bool 자료형"
   ]
  },
  {
   "cell_type": "markdown",
   "id": "utility-immigration",
   "metadata": {},
   "source": [
    "`-` True/False: 참/거짓을 의미하는 1 byte 데이터\n",
    "\n",
    "`-` int가 와야 할 위치에 오게 되면 각각 1/0으로 변환 (int num1 = true;) ---> num1 => 1\n",
    "\n",
    "`-` while(true) 또는 if(true)와 같이 활용 가능\n",
    "\n",
    "`-` sizeof(1)은 4이지만 sizeof(true)는 1이다\n",
    "\n",
    "`-` bool name = true or false; ---> bool은 자료 타입\n",
    "\n",
    "```cpp\n",
    "bool is_pos(int num){\n",
    "    return num >= 0;\n",
    "} // 함수의 반환형이 bool이므로 비교 결과가 true or false가 된다 // 비교문구 ---> predicate\n",
    "```"
   ]
  },
  {
   "cell_type": "markdown",
   "id": "distant-hamburg",
   "metadata": {},
   "source": [
    "# 참조자(reference)"
   ]
  },
  {
   "cell_type": "markdown",
   "id": "silver-richmond",
   "metadata": {},
   "source": [
    "## 참조자의 이해\n",
    "\n",
    "`-` `참조자 (reference)`는 기존에 선언된 변수에 붙이는 `별칭` ---> 파이썬에서 b = a = [1, 2, 3] 일때 이 코드의 의미를 알면 참조자도 이해 가능\n",
    "\n",
    "`-` `& (ampersand)`를 이용해서 `참조자 선언`\n",
    "\n",
    "```cpp\n",
    "int &num2 = num1;  // num2는 참조자라고함\n",
    "int& num2 = num1;  // 두 방법 모두 가능\n",
    "```\n",
    "\n",
    "`-` 참조자의 선언으로 num1의 메모리 공간에 num2이라는 별칭이 추가로 붙음\n",
    "\n",
    "`-` num2를 통해 num1을 조작가능 ---> 참조자 값의 변경 = 원래 변수 값의 변경 ---> num2와 num1의 메모리 주소가 같으니까\n"
   ]
  },
  {
   "cell_type": "markdown",
   "id": "valuable-allergy",
   "metadata": {},
   "source": [
    "## 참조자 선언 "
   ]
  },
  {
   "cell_type": "markdown",
   "id": "healthy-dominican",
   "metadata": {},
   "source": [
    "`-` 참조자의 수에는 제한이 없고 참조자를 대상으로 다른 참조자를 선언하는 것도 가능\n",
    "\n",
    "```cpp\n",
    "int num1 = 2021;\n",
    "int& num2 = num1;\n",
    "int& num3 = num2;\n",
    "int& num4 = num3; // 모두 동일한 메모리 공간을 가리키고 있음\n",
    "```"
   ]
  },
  {
   "cell_type": "markdown",
   "id": "interim-mention",
   "metadata": {},
   "source": [
    "## 참조자의 선언 가능 범위"
   ]
  },
  {
   "cell_type": "markdown",
   "id": "interior-diving",
   "metadata": {},
   "source": [
    "`-` 참조자는 선언과 동시에 누군가를 참조해야 함\n",
    "\n",
    "`-`  기본적으로 참조의 대상은 변수\n",
    "\n",
    "`-`  참조자가 선언되면 참조의 대상 변경 불가 ---> but 포인터는 대상 변경 가능"
   ]
  },
  {
   "cell_type": "markdown",
   "id": "acute-nancy",
   "metadata": {},
   "source": [
    "### 불가능한 참조자 선언의 예 "
   ]
  },
  {
   "cell_type": "markdown",
   "id": "indoor-ballot",
   "metadata": {},
   "source": [
    "`-` 상수 대상으로의 참조자 선언은 불가능함!\n",
    "```cpp\n",
    "int& ref = 20; ⇐ error!\n",
    "```\n",
    "`-` 참조자는 생성과 동시에 누군가를 참조해야 함! ---> but 포인터는 변수 선언 후 참조 대상 지정 가능\n",
    "```cpp\n",
    "int& ref; ⇐ error!\n",
    "```\n",
    "`-` NULL로 초기화하는 것도 불가능 (NULL = 0)! ---> but 포인터는 NULL로 초기화 가능\n",
    "```cpp\n",
    "int& ref = NULL; ⇐ error!\n",
    "```"
   ]
  },
  {
   "cell_type": "markdown",
   "id": "mexican-calcium",
   "metadata": {},
   "source": [
    "## 함수의 매개변수(parameter or argument)"
   ]
  },
  {
   "cell_type": "markdown",
   "id": "limited-repair",
   "metadata": {},
   "source": [
    "`-` 함수의 입력과 관계 되는 변수를 매개변수라고 함\n",
    "\n",
    "`-` Formal parameter: 함수 선언부에 있는 변수\n",
    "\n",
    "`-` Actual parameter: 함수 호출에 쓰인 변수\n",
    "\n",
    "```cpp\n",
    "int func(int a, int b){      // a와 b는 formal parameters\n",
    "    return a + b;\n",
    "    }\n",
    "int main(){\n",
    "    int num1 = 1, num2 = 5;\n",
    "    int ret = func(num1, num2);  // num1과 num2는 actual parameters\n",
    "    return 0;\n",
    "}\n",
    "```"
   ]
  },
  {
   "cell_type": "markdown",
   "id": "lonely-template",
   "metadata": {},
   "source": [
    "## 매개변수에 의한 함수 호출 방식\n",
    "\n",
    "```cpp\n",
    "int a = 10;\n",
    "int *p = &a;\n",
    "int &b = a;\n",
    "```\n",
    "\n",
    "`-` a의 주소를 1000이라 해보자 ---> &a = 1000\n",
    "\n",
    "`-` &a = &b = p 이고 포인터 자체도 변수이므로 메모리 주소가 있음 ---> &p = 1004라고 해보자\n",
    "\n",
    "`-` 포인터 변수에는 a의 주소가 저장됨 ---> 간접참조연산자(*)를 통해 a의 원본에 접근\n",
    "\n",
    "`-` 참조자 변수의 메모리 주소는 원본의 메모리 주소와 같음 ---> 포인터와의 차이점\n",
    "\n",
    "`-` 메모리 주소가 같으므로 원본이라 생각하고 사용하면 됨\n",
    "\n",
    "`-` 즉 포인터는 자신의 메모리 주소가 따로 있고 포인터 변수에 원본의 `주소`가 저장되어 있어 `*`를 통해 원본에 접근\n",
    "\n",
    "`-` 하지만 참조자는 자신의 메모리 주소가 원본의 메모리 주소와 같으므로 그럴필요 없이 원본이라 생각하고 사용하면 됨"
   ]
  },
  {
   "cell_type": "markdown",
   "id": "automotive-armenia",
   "metadata": {},
   "source": [
    "### Call by value (값에 의한 함수 호출)\n",
    "\n",
    "`-` 함수 호출 시 actual parameters의 값을 “복사”해서 formal parameters로 전달\n",
    "\n",
    "`-` 함수 내에서 formal parameter를 변경해도 actual parameter에는 변화 없음!\n",
    "\n",
    "`-` 복사에 따른 비용 발생 (copy cost)"
   ]
  },
  {
   "cell_type": "markdown",
   "id": "aquatic-monroe",
   "metadata": {},
   "source": [
    "#### Call by value 예제 "
   ]
  },
  {
   "cell_type": "markdown",
   "id": "hourly-payment",
   "metadata": {},
   "source": [
    "```cpp\n",
    "\n",
    "int func(int x, int y){\n",
    "    x = 20;\n",
    "    y = 10;\n",
    "    return x + y;\n",
    "}\n",
    "\n",
    "int main(){\n",
    "    int x = 10;\n",
    "    int y = 20;\n",
    "    int ret = func(x, y);   // call-by-value!\n",
    "    cout << x << \" \" << y << endl;\n",
    "    return 0;\n",
    "}\n",
    "```\n",
    "\n",
    "`-` Actual parameter와 formal parameter는 다른 메모리 공간에 할당됨!\n",
    "\n",
    "`-` 따라서 formal parameter의 값을 바꿔도 actual parameter에는 변화 없음"
   ]
  },
  {
   "cell_type": "markdown",
   "id": "funny-aspect",
   "metadata": {},
   "source": [
    "### Call by reference (참조에 의한 함수 호출)\n",
    "\n",
    "`-` 함수 호출 시 actual parameters 자체를 formal parameters로 전달\n",
    "\n",
    "`-` formal parameters를 변경하면 actual parameters도 변경됨!\n",
    "\n",
    "`-` C에서는 참조자와 같은 개념이 없어서 포인터를 이용해 call by reference를 수행\n",
    "\n",
    "`-` C++에서는 포인터와 참조자 두 가지 방식으로 call by reference 수행 가능"
   ]
  },
  {
   "cell_type": "markdown",
   "id": "egyptian-reader",
   "metadata": {},
   "source": [
    "#### Call by Reference (Using Pointer)"
   ]
  },
  {
   "cell_type": "markdown",
   "id": "rough-pastor",
   "metadata": {},
   "source": [
    "```cpp\n",
    "int func(int *ptr1, int *ptr2){\n",
    "    *ptr1 = 20;  // 주소가 넘어감\n",
    "    *ptr2 = 10;\n",
    "    return *ptr1 + *ptr2;\n",
    "}\n",
    "\n",
    "int main(){\n",
    "    int x = 10;\n",
    "    int y = 20;\n",
    "    int ret = func(&x, &y);\n",
    "    cout << x << \" \" << y << endl;\n",
    "    return 0;\n",
    "}\n",
    "```\n",
    "`-` Actual parameter와 formal parameter가 같은 곳을 가리키고 있음!\n",
    "    \n",
    "`-` 따라서 formal parameter가 actual parameter를 바꿀 수 있음!"
   ]
  },
  {
   "cell_type": "markdown",
   "id": "spoken-equity",
   "metadata": {},
   "source": [
    "#### Call by Reference (C++)\n",
    "\n",
    "`-` 함수 선언시 formal parameters를 참조자 (reference)로 선언\n",
    "\n",
    "`-` Formal parameter는 함수가 호출될 때 선언이 됨\n",
    "\n",
    "`-` 함수 호출의 과정에서 선언과 동시에 actual parameter가 전달되어 초기화 됨"
   ]
  },
  {
   "cell_type": "markdown",
   "id": "dressed-howard",
   "metadata": {},
   "source": [
    "```cpp\n",
    "int func(int &a, int &b){     // Formal parameters가 참조자\n",
    "    a = 20;\n",
    "    b = 10;\n",
    "    return a + b;\n",
    "}\n",
    "\n",
    "int main(){\n",
    "    int x = 10;\n",
    "    int y = 20;\n",
    "    int ret = func(x, y);  // call-by-reference\n",
    "    cout << x << \" \" << y << endl;\n",
    "    return 0;\n",
    "}\n",
    "```"
   ]
  },
  {
   "cell_type": "markdown",
   "id": "assigned-simple",
   "metadata": {},
   "source": [
    "## Const Reference"
   ]
  },
  {
   "cell_type": "markdown",
   "id": "satisfied-credits",
   "metadata": {},
   "source": [
    "### const 의미 "
   ]
  },
  {
   "cell_type": "markdown",
   "id": "bulgarian-crest",
   "metadata": {},
   "source": [
    "`-` const가 어떤 변수에 붙으면 그 변수를 상수로 만듦\n",
    "\n",
    "`-` 초기화 이후에는 변경을 허용하지 않는 것을 의미"
   ]
  },
  {
   "cell_type": "markdown",
   "id": "integrated-marine",
   "metadata": {},
   "source": [
    "### const reference\n",
    "`-` 함수의 매개변수 참조자에 const를 붙인 것\n",
    "\n",
    "`-` 전달 받은 매개변수를 함수에 의해 변경되지 않도록 하기 위해 사용\n",
    "\n",
    "`-` 함수의 원형 선언만 봐도 값의 변경이 일어나지 않는다고 판단 할 수 있음!\n",
    "\n",
    "`-` 참조자를 사용하는 건 원본에 접근해 변경하려는 것인데 const를 붙일 거면 그냥 참조자를 쓰지 말지??\n",
    "\n",
    "`-` Copy cost를 피하고 값 변경 없이 함수 내부에서 사용만 하고 싶을 때 const reference 사용\n",
    "\n",
    "`-` 배열을 담은 구조체를 call by value로 전달하면 copy cost가 발생\n",
    "\n",
    "`-` 이를 피하기 위해 별칭을 넘겨주되 변경은 허용하지 않는 것"
   ]
  },
  {
   "cell_type": "markdown",
   "id": "anticipated-diesel",
   "metadata": {},
   "source": [
    "## 반환형이 참조형인 경우"
   ]
  },
  {
   "cell_type": "markdown",
   "id": "romance-qatar",
   "metadata": {},
   "source": [
    "`-` 함수의 반환형에도 참조형 (reference type)이 될 수 있음\n",
    "\n",
    "`-` 반환 받는 변수형이 참조형이면 같은 변수를 가리킴\n",
    "\n",
    "`-` 반환 받는 변수형이 참조형이 아니면 다른 메모리 주소에 값이 저장됨\n",
    "\n",
    "`-` 참조자를 반환하건 변수에 저장된 값을 반환하건 반환형이 참조형이 아니면 무의미"
   ]
  },
  {
   "cell_type": "markdown",
   "id": "overhead-group",
   "metadata": {},
   "source": [
    "## 잘못된 참조의 반환\n",
    "\n",
    "`-` 지역변수를 참조의 형태로 반환하고 참조로 받는 경우"
   ]
  },
  {
   "cell_type": "markdown",
   "id": "individual-pixel",
   "metadata": {},
   "source": [
    "## 참조자의 특징 "
   ]
  },
  {
   "cell_type": "markdown",
   "id": "indian-threshold",
   "metadata": {},
   "source": [
    "### 상수화된 변수 (const)의 참조자가 필요한 경우\n",
    "\n",
    "```cpp\n",
    "const int num = 20;\n",
    "int &ref = num; // error\n",
    "const int &ref = num; // ok\n",
    "```"
   ]
  },
  {
   "cell_type": "markdown",
   "id": "decent-fortune",
   "metadata": {},
   "source": [
    "### const 참조자에 상수도 대입 가능\n",
    "```cpp\n",
    "const int &ref = 20; // ok\n",
    "```"
   ]
  },
  {
   "cell_type": "markdown",
   "id": "naughty-albania",
   "metadata": {},
   "source": [
    "# 동적 메모리 할당 & 해제"
   ]
  },
  {
   "cell_type": "markdown",
   "id": "adaptive-force",
   "metadata": {},
   "source": [
    "## 메모리 동적할당이란?\n",
    "`-` 프로그램 실행 중에 사용할 메모리 공간을 필요한 만큼 할당하는 것\n",
    "\n",
    "`-` 사용 후에는 반드시 반환을 해야함 (동적해제)\n",
    "\n",
    "`-` 할당한 공간을 해제"
   ]
  },
  {
   "cell_type": "markdown",
   "id": "located-correlation",
   "metadata": {},
   "source": [
    "## C++ 메모리 동적할당/해제 용법 \n",
    "\n",
    "`-` 포인터(*)를 사용하여 수행함\n",
    "\n",
    "`-` new 연산자: 동적할당 ---> 클래스 변수 동적할당도 가능 (malloc은 안됨)\n",
    "\n",
    "`-` delete 연산자: 동적해제\n",
    "\n",
    "```cpp\n",
    "int *ptr1 = new int; // int형 변수 할당\n",
    "delete ptr1;  // int형 변수 해제\n",
    "\n",
    "int *arr1 = new int[3]; // 길이가 3인 int형 배열 항당\n",
    "delete []arr1;  // int형 배열 해제 // 다른 자료형과 달리 해제할 때 앞에 []를 붙여줘야 함\n",
    "```"
   ]
  },
  {
   "cell_type": "markdown",
   "id": "owned-party",
   "metadata": {},
   "source": [
    "# C++에서 C언어 표준 함수 호출"
   ]
  },
  {
   "cell_type": "markdown",
   "id": "lucky-thumb",
   "metadata": {},
   "source": [
    "`-` 헤더파일을 include할 때 c를 더하고 .h를 빼기"
   ]
  },
  {
   "cell_type": "markdown",
   "id": "0111443c-bf7c-42c9-b9e2-a6eb24ea93ac",
   "metadata": {
    "tags": []
   },
   "source": [
    "# C++에서의 구조체"
   ]
  },
  {
   "cell_type": "markdown",
   "id": "8ddee09b-22f7-417b-8c24-113aa4fc7e05",
   "metadata": {},
   "source": [
    "## 구조체 (structure)란?"
   ]
  },
  {
   "cell_type": "markdown",
   "id": "19d5341b-55c5-40cc-9d88-7e964f535124",
   "metadata": {},
   "source": [
    "`-` 연관 있는 데이터를 하나로 묶어서 표현하는 문법적 장치\n",
    "\n",
    "`-`  연관 있는 데이터들은 생성 및 소멸 시점이 일치함\n",
    "\n",
    "`-` 이동 및 전달의 시점이 일치하기 때문에 하나의 자료형으로 묶어서 관리하면 편함"
   ]
  },
  {
   "cell_type": "markdown",
   "id": "4d2d1337-57b1-4448-9303-241b3d99f773",
   "metadata": {},
   "source": [
    "```cpp\n",
    "struct Car{\n",
    "    char gamerID[ID_LEN]; // 소유자 ID (ID_LEN은 매크로 상수)\n",
    "    int fuelGauge; // 연료량\n",
    "    int curSpeed; // 현재속도\n",
    "};\n",
    "```"
   ]
  },
  {
   "cell_type": "markdown",
   "id": "84c9e9b5-8987-42f3-87aa-13f28bf79de2",
   "metadata": {},
   "source": [
    "## C++에서 구조체 변수 선언"
   ]
  },
  {
   "cell_type": "markdown",
   "id": "884a6223-3c0d-4adf-aeec-6cb6018471a3",
   "metadata": {},
   "source": [
    "`-` 구조체 정의는 동일함\n",
    "\n",
    "`-` 구조체 변수를 선언할 때 : C++-style ---> struct keyword 생략"
   ]
  },
  {
   "cell_type": "markdown",
   "id": "949a7bce-8adf-4aa1-a1c8-22056a954d63",
   "metadata": {
    "tags": []
   },
   "source": [
    "## 구조체와 함수\n",
    "\n",
    "`-` 특성은 구조체의 변수로 행동은 함수로 표현됨 ---> 파이썬의 class와 비슷"
   ]
  },
  {
   "cell_type": "markdown",
   "id": "43f22b25-9eaa-44e0-8a8e-96af6936ed50",
   "metadata": {},
   "source": [
    "```cpp\n",
    "struct Car{\n",
    "    char gamerID[ID_LEN];\n",
    "    int fuelGauge;\n",
    "    int curSpeed;\n",
    "};\n",
    "\n",
    "void showCarState(const Car& car){ // 구조체 안에 함수를 넣을 수가 없어 참조자를 통해 구조체를 참조함, const를 통해 원본의 구조체를 바꿀 수 없도록 함\n",
    "    //print car's state\n",
    "}\n",
    "void accelerate(Car& car){\n",
    "    // accelerate car's speed\n",
    "}\n",
    "void decelerate(Car& car){\n",
    "    // decelerate car's speed\\\n",
    "}\n",
    "```"
   ]
  },
  {
   "cell_type": "markdown",
   "id": "5e969387-6b48-4aba-807c-e0dec4421015",
   "metadata": {},
   "source": [
    "`-` 구조체와 함수가 분리되어 있음"
   ]
  },
  {
   "cell_type": "markdown",
   "id": "2ae2eeeb-b8c8-46cb-88b4-3ba8255497a9",
   "metadata": {
    "tags": []
   },
   "source": [
    "## 구조체 안의 함수"
   ]
  },
  {
   "cell_type": "markdown",
   "id": "bd2299b9-771c-43c4-80d9-834e7cefcd9a",
   "metadata": {},
   "source": [
    "`-` C++에서는 구조체 안에함수를 묶을 수 있음(C언어에서는 안됨)\n",
    "\n",
    "`-` 특성 (데이터)과 행동 (함수)를하나로 합치면서 명확한 종속 표현"
   ]
  },
  {
   "cell_type": "markdown",
   "id": "f85ee0f1-e7d0-4ded-b8ff-fd18ad0eaad8",
   "metadata": {},
   "source": [
    "```cpp\n",
    "struct Car{\n",
    "    char gamerID[ID_LEN];\n",
    "    int fuelGauge;\n",
    "    int curSpeed;\n",
    "    \n",
    "    void showCarState(){\n",
    "    //print car's state\n",
    "    }\n",
    "    void decelerate(){\n",
    "    // decelerate car's speed\n",
    "    }\n",
    "    void accelerate(){\n",
    "    // accelerate car's speed\n",
    "    }\n",
    "};\n",
    "```"
   ]
  },
  {
   "cell_type": "markdown",
   "id": "544dd87b-4015-49da-a0fe-9dc718be43ee",
   "metadata": {},
   "source": [
    "`-` 구조체 안의 함수는 구조체 안의 변수에 직접 접근이 가능"
   ]
  },
  {
   "cell_type": "markdown",
   "id": "1cb77c43-6325-43e9-b13f-953c54785880",
   "metadata": {},
   "source": [
    "## C++에서 구조체 변수 생성"
   ]
  },
  {
   "cell_type": "markdown",
   "id": "9db44826-331a-44f9-9c3d-2b8dd783e828",
   "metadata": {},
   "source": [
    "`-` 함수의 구현을 외부로 빼서 선언과 구현 분리가 가능"
   ]
  },
  {
   "cell_type": "markdown",
   "id": "4428ab38-7820-47b1-92fc-6777323d574a",
   "metadata": {},
   "source": [
    "```cpp\n",
    "struct Car{\n",
    "    char gamerID[ID_LEN]; // 소유자 ID (ID_LEN은 매크로 상수)\n",
    "    int fuelGauge; // 연료량\n",
    "    int curSpeed; // 현재속도\n",
    "    \n",
    "    void showCarState(); // Car 정보 출력\n",
    "    void accelerate(); // 가속하기\n",
    "    void decelerate(); // 감속하기\n",
    "};\n",
    "\n",
    "void Car::showCarState(){\n",
    "    // Car의 showCarState() 함수 구현부\n",
    "}\n",
    "void Car::accelerate(){\n",
    "    // Car의 accelerate() 함수 구현부\n",
    "}\n",
    "void Car::decelerate(){\n",
    "    // Car의 decelerate() 함수 구현부\n",
    "}\n",
    "```\n",
    "\n",
    "`-` 구현의 상세사항을 선언\n",
    "\n",
    "`-` 구현부를 정의할 때는 `이름공간`처럼 `::(더블콜론)` 사용\n",
    "\n",
    "`-` 밖으로 분리시켜 선언부만 보고도 구조체 파악이 가능"
   ]
  },
  {
   "cell_type": "markdown",
   "id": "a236f911-c1b2-4372-bebb-cf72efba2672",
   "metadata": {},
   "source": [
    "## 구조체 함수와 inline\n",
    "\n",
    "`-` 구조체 안에서 구현된 함수는 자동적으로 inline 함수처리 됨\n",
    "\n",
    "`-`inline을 의도 했다면 구현부를 분리할 때 명시적으로 inline을 붙여주어야 함"
   ]
  },
  {
   "cell_type": "markdown",
   "id": "92aa70d0-31b9-4db0-9bb7-e5b971a9a565",
   "metadata": {},
   "source": [
    "## 요약: C++에서의 구조체\n",
    "\n",
    "- 구조체란?\n",
    "\n",
    "`-` 연관 있는 데이터를 하나로 묶어서 표현하는 문법적 장치\n",
    "\n",
    "`-` struct keyword를 이용해서 구현\n",
    "\n",
    "- 구조체 안에 함수\n",
    " \n",
    "`-` C++에서의 구조체는 함수를 내부로 묶을 수 있음 (데이터 + 함수)\n",
    " \n",
    "`-` 내부로 묶지 않았을 때와 묶었을 때의 차이점 파악하기!\n",
    " \n",
    "`-` 선언부와 구현부를 분리할 수 있음\n",
    " \n",
    "`-` 구현의 상세사항을 구현부에 두어 사용자는 선언부만 보고도 구조체 파악 용이\n",
    " \n",
    "`-` 구조체 선언부에 정의된 함수는 자동적으로 inline 함수\n",
    " \n",
    "`-` 구현부로 따로 빼고 싶은 경우 inline을 명시적으로 붙여주어야 함"
   ]
  },
  {
   "cell_type": "markdown",
   "id": "677dd811-a55c-4a57-82a3-ed56edd1bcee",
   "metadata": {},
   "source": [
    "# 클래스"
   ]
  },
  {
   "cell_type": "markdown",
   "id": "ca6aaf03-38f3-4455-aea1-ce94efc6f0bc",
   "metadata": {},
   "source": [
    "## 클래스로의 확장\n",
    "\n",
    "`-` 클래스를 선언하는 방법\n",
    "\n",
    "`-` 앞선 구조체의 struct를 class로 변경해주면 됨"
   ]
  },
  {
   "cell_type": "markdown",
   "id": "b42d5409-5a82-4885-a7e2-455e54f579e7",
   "metadata": {},
   "source": [
    "```cpp\n",
    "class Car{\n",
    "    char gamerID[ID_LEN];\n",
    "    int fuelGauge;\n",
    "    int curSpeed;\n",
    "    \n",
    "    void showCarState(){\n",
    "    //print car's state\n",
    "    }\n",
    "    void decelerate(){\n",
    "    // decelerate car's speed\n",
    "    }\n",
    "    void accelerate(){\n",
    "    // accelerate car's speed\n",
    "    }\n",
    "};\n",
    "```"
   ]
  },
  {
   "cell_type": "markdown",
   "id": "4c3f7ccc-6494-47c0-bd03-336a47d6563d",
   "metadata": {},
   "source": [
    "`-` 위 구조체와 클래스에는 어떠한 차이가 있을까?"
   ]
  },
  {
   "cell_type": "markdown",
   "id": "ca014a90-8ba0-48ba-951e-dc92fac21541",
   "metadata": {},
   "source": [
    "`-` 구조체: 기본적으로 외부에서 구조체 내의 변수/함수 접근이 가능\n",
    "\n",
    "`-` 클래스: 기본적으로 외부에서 클래스 내의 변수/함수 접근 불가능"
   ]
  },
  {
   "cell_type": "markdown",
   "id": "f2382a04-254b-4d46-b5dc-f1940c4fa1f0",
   "metadata": {},
   "source": [
    "## 클래스의 접근제어 지시자\n",
    "\n",
    "`-` 변수 및 함수의 접근 허용범위를 개발자가 지정할 수 있음\n",
    "\n",
    "`-` `public:` ---> 어디에서든 접근 허용 (외부에서 내부로 접근 가능)\n",
    "\n",
    "`-` `protected:` ---> 상속관계에 있을때, 자식 클래스에서 부모 클래스 접근 허용\n",
    "\n",
    "`-` `private:` ---> 클래스 내에서만 접근 허용\n",
    "\n",
    "`-` `:(콜론)` 빼먹지 말기!!"
   ]
  },
  {
   "cell_type": "markdown",
   "id": "5641a4a5-2002-452b-b24e-114d13f8e1b1",
   "metadata": {},
   "source": [
    "## 접근제어 지시자 예시\n",
    "\n",
    "`-` 변수 및 함수의 접근 허용범위를 개발자가 지정할 수 있음"
   ]
  },
  {
   "cell_type": "markdown",
   "id": "932256cb-6637-43f3-9849-be3efc10eb47",
   "metadata": {},
   "source": [
    "```cpp\n",
    "class Car{\n",
    "private:\n",
    "    char gamerID[ID_LEN];\n",
    "    int fuelGauge;\n",
    "    int curSpeed;         // private area: private 지시자 이후의 변수/함수는 내부에서만 접근 가능\n",
    "    \n",
    "public:\n",
    "    void init(const char* ID, int fuel);\n",
    "    void showCarState();\n",
    "    void accelerate();\n",
    "    void decelerate();   // public area: public 지시자 이후의 변수/함수는 외부에서도 접근 가능\n",
    "};\n",
    "\n",
    "void Car::accelerate(){\n",
    "    curSpeed += ACC_STEP; // 함수의 정의를 밖으로 빼도 클래스의 일부이기 때문에 private 변수/함수 접근 가능\n",
    "}\n",
    "int main(){\n",
    "    Car run99;\n",
    "    run99.init(\"run99\", 100); // ok!\n",
    "    run99.accelerate(); // ok!\n",
    "    run99.fuelGauge = 100; // error! // 외부에서 private 변수를 접근하려 했기 때문에 에러!\n",
    "    return 0;\n",
    "}\n",
    "```"
   ]
  },
  {
   "cell_type": "markdown",
   "id": "344ca8c9-5740-43c1-b834-157d3f8293bf",
   "metadata": {},
   "source": [
    "## 요약: 클래스\n",
    "\n",
    "- 구조체에서 클래스로의 확장\n",
    "\n",
    "`-` 변수와 함수를 묶은 구조체는 일종의 클래스\n",
    "\n",
    "`-` 이때 변수 및 함수의 기본 접근 허용범위가 구조체와 클래스에 따라 다름\n",
    " \n",
    "- 클래스의 접근제어 지시자\n",
    "\n",
    "`-` private, protected, public의 지시자가 있으며 상황에 맞게 지정\n",
    "\n",
    "`-` 예시를 통해 어떻게 지정하는지 지시자에 따라 어떻게 에러가 발생 할 수 있는지 파악\n",
    "\n",
    "- 아무런 접근 지시자를 사용하지 않으면 기본적으로...\n",
    "\n",
    "`-` struct 내의 변수와 함수는 public으로 선언됨\n",
    "\n",
    "`-` class내의 변수와 함수는 private으로 선언됨"
   ]
  },
  {
   "cell_type": "markdown",
   "id": "d369b7c0-2467-468e-9f46-8c6eb8a5d380",
   "metadata": {},
   "source": [
    "# 객체지향 프로그래밍의 이해"
   ]
  },
  {
   "cell_type": "markdown",
   "id": "37a5e609-89b5-47a0-8b6f-1b7c12ccb15f",
   "metadata": {},
   "source": [
    "`-` 객체 ---> 상태 (데이터)와 행위 (함수)로 구성됨\n",
    "\n",
    "`-` 절차지향적 객체는 구조체와 함수 (분리된 버전)로 표현됨"
   ]
  },
  {
   "cell_type": "markdown",
   "id": "9b389263-80c1-476c-b4b8-13de54de8bdc",
   "metadata": {},
   "source": [
    "## 객체지향 프로그래밍\n",
    "\n",
    "`-` `객체`를 중심으로 프로그래밍 하는 것\n",
    "\n",
    "`-` 데이터와 함수가 하나의 `클래스`내에 묶이기 때문에 데이터 관리가 용이함\n",
    "\n",
    "`-` 멤버변수: 클래스 내의 변수 (객체의 상태를 나타냄)\n",
    "\n",
    "`-` 멤버함수: 클래스 내의 함수 (객체의 행위를 나타냄)\n",
    "\n",
    "`-` 일반적으로 멤버 변수는 private으로 멤버 함수는 public으로 둠"
   ]
  },
  {
   "cell_type": "markdown",
   "id": "66c2ad8b-7011-4a87-8ee4-c42b1fa78914",
   "metadata": {},
   "source": [
    "## 클래스 객체 생성"
   ]
  },
  {
   "cell_type": "markdown",
   "id": "de10ac0c-8ba7-4d5c-8ae9-33d773e5cdcc",
   "metadata": {},
   "source": [
    "### 클래스와 객체\n",
    "\n",
    "`-` 클래스: 객체를 생성하기 위해 참고해야 하는 `설계도`\n",
    "\n",
    "`-` 객체: 설계도를 기반으로 생성된 `실체`\n",
    "\n",
    "`-` 객체화: 클래스를 기반으로 객체를 실체화하는 과정 "
   ]
  },
  {
   "cell_type": "markdown",
   "id": "1f57ce9a-9347-4c2a-936e-56574d348df4",
   "metadata": {},
   "source": [
    "### 객체 생성 (객체화) 방법\n",
    "\n",
    "`-` 그냥 int, char 같은 type과 동일하게 변수 선언 하면 된다\n",
    "\n",
    "- 일반적인 클래스 변수 선언 방식 : ClassName objName;\n",
    "\n",
    "`-` 일반 변수로 취급 (함수 호출 예시: objName.function(); )\n",
    "\n",
    "`-` 동적할당의 경우도 동일함 ---> 포인터와 new, delete 키워드를 사용\n",
    "\n",
    "- 동적할당 방식 : ClassName* objName = new ClassName;\n",
    "\n",
    "`-` 포인터 변수로 취급 (함수 호출 예시: objName->function(); )\n",
    "\n",
    "`-` 사용이 끝나면 반드시 delete objName; (동적해제)를 해주어야 함!"
   ]
  },
  {
   "cell_type": "markdown",
   "id": "b082aaa4-f40c-424c-9843-106bc16ed2d8",
   "metadata": {},
   "source": [
    "# C++에서의 파일 분할"
   ]
  },
  {
   "cell_type": "markdown",
   "id": "04d75f74-2c5d-4b63-93d3-d468cd781715",
   "metadata": {},
   "source": [
    "`-` C++에서는 클래스의 선언과 구현을 기준으로 파일을 분할함\n",
    "\n",
    "`-` 헤더파일 (.h)에는 클래스의 선언을 담음\n",
    "\n",
    "`-` 구현파일 (.cpp)에는 클래스의 함수의 구현을 담음"
   ]
  },
  {
   "cell_type": "markdown",
   "id": "a04a3ca6-1b19-4fa1-a977-8033dd23e979",
   "metadata": {},
   "source": [
    "# 캡슐화/정보은닉"
   ]
  },
  {
   "cell_type": "markdown",
   "id": "92851961-83a9-437a-a283-bd6298cf59a7",
   "metadata": {},
   "source": [
    "## 캡슐화 (encapsulation) \n",
    "\n",
    "`-` 관련된 정보를 하나의 단위로 묶는 것을 의미\n",
    "\n",
    "`-` OOP에서는 관련된 데이터 (속성)와 함수를 하나의 객체로 묶는 것\n",
    "\n",
    "`-` 속성은 멤버변수로, 함수는 멤버함수로, 이들을 묶는 것은 클래스로 표현\n",
    "\n",
    "`-` 캡슐화에는 정보은닉의 개념이 포함되어 있음\n",
    "\n",
    "`-` 데이터 (멤버변수)가 외부에 보이지 않게 클래스 내로 감싸는 것"
   ]
  },
  {
   "cell_type": "markdown",
   "id": "87b83abe-dc2a-4724-ae81-c48962bf6ec6",
   "metadata": {},
   "source": [
    "## 정보은닉 (information hiding)\n",
    "\n",
    "`-` 사용자 입장에서 알 필요가 없는 정보 (클래스 내부 데이터와 세부 구현사항)를 숨기는 것\n",
    "\n",
    "`-` 멤버 접근 지정자를 통해서 정보를 은닉 (private)/공개 (public)함 "
   ]
  },
  {
   "cell_type": "markdown",
   "id": "4307e3c2-2ec4-4b8e-a473-a6e9a9237cd3",
   "metadata": {},
   "source": [
    "### 정보은닉의 효과\n",
    "\n",
    "`-` Flexibility : 숨겨도 되는 정보들의 구현이 변경되어도 사용자의 코드가 변경되지 않음\n",
    "\n",
    "`-` Safety : 허가된 멤버함수의 접근을 통해서만 데이터 접근을 하도록 하여 프로그램 안정성 확보\n",
    "\n",
    "`-` 클래스 설계자의 의도와 다른 멤버변수의 값이 저장되는 것을 방지"
   ]
  },
  {
   "cell_type": "markdown",
   "id": "a2a4497f-8025-46c6-a503-58cd10b1c313",
   "metadata": {},
   "source": [
    "## 캡슐화/정보은닉 예제"
   ]
  },
  {
   "cell_type": "markdown",
   "id": "94a0bca2-766d-4eb1-adbc-b4ed1d4ed9b9",
   "metadata": {},
   "source": [
    "### 캡슐화/정보은닉이 잘 되지 않은 클래스\n",
    "\n",
    "`1.` 설계자 의도와 다른 멤버변수 값 지정이 가능할 수 있음\n",
    "\n",
    "`2.` 내부 구현이 바뀌면 사용자 코드도 변경해야 함"
   ]
  },
  {
   "cell_type": "markdown",
   "id": "b1689aa2-77d5-494f-8c1a-dbec170480d6",
   "metadata": {},
   "source": [
    "### 캡슐화/정보은닉이 잘 된 클래스"
   ]
  },
  {
   "cell_type": "markdown",
   "id": "fabcb3c1-b4b7-466e-ba2f-2851112b4004",
   "metadata": {},
   "source": [
    "#### 예제 1"
   ]
  },
  {
   "cell_type": "markdown",
   "id": "0a5d9c8e-f6b6-4971-8d05-1012eefdd33c",
   "metadata": {},
   "source": [
    "```cpp\n",
    "class Point{\n",
    "private:\n",
    "    int x;\n",
    "    int y;    // 데이터는 private으로 두고 데이터 접근은 멤버 함수를 통해서 한다\n",
    "    \n",
    "public:\n",
    "    bool init(int x_val, int y_val); // 값 초기화 함수\n",
    "    int get_x();\n",
    "    int get_y();  // 멤버변수 값 반환 ---> access function                \n",
    "    bool set_x(int x_val); \n",
    "    bool set_y(int y_val);  // 멤버변수 값 설정 ---> access function   \n",
    "};\n",
    "\n",
    "bool Point::init(int x_val, int y_val) {\n",
    "    return set_x(x_val) && set_y(y_val);\n",
    "}\n",
    "\n",
    "int Point::get_x(){\n",
    "    return x;\n",
    "}\n",
    "\n",
    "bool Point::set_x(int x_val){\n",
    "    if(x_val < 0 || x_val > 100) return false; // 설계자 의도에 맞는 값만 설정하게 할 수 있음 (safety ↑)\n",
    "    x = x_val; // 0과 100사이면 x에 x_val을 대입\n",
    "    return true; \n",
    "}\n",
    "```"
   ]
  },
  {
   "cell_type": "markdown",
   "id": "a5a818f7-aed2-464b-9b19-54713ea9c226",
   "metadata": {},
   "source": [
    "`-` set 함수는 bool아닌 void로 해도 되는데 error체크용으로 bool 타입으로 만듦"
   ]
  },
  {
   "cell_type": "markdown",
   "id": "b46a3dcc-f115-41f4-be41-1207f53c6bf8",
   "metadata": {},
   "source": [
    "#### 예제 2 "
   ]
  },
  {
   "cell_type": "markdown",
   "id": "097ec465-e83e-4779-bf65-fead164114c8",
   "metadata": {},
   "source": [
    "```cpp\n",
    "class Rectangle{\n",
    "private:\n",
    "    Point top_left;\n",
    "    Point bottom_right;\n",
    "    \n",
    "public:\n",
    "    bool init(Point& tl, Point& br);\n",
    "    int area();\n",
    "    int perimeter();\n",
    "};\n",
    "\n",
    "bool Rectangle::init(Point& tl, Point& br){\n",
    "    if(tl.get_x() > br.get_x() || tl.get_y() > br.get_y()){\n",
    "        return false;   // 올바르지 않으면 초기화 안한다\n",
    "    }  \n",
    "    // 올바르면 초기화 한다\n",
    "    top_left = tl;\n",
    "    bottom_right = br;\n",
    "    return true;\n",
    "}\n",
    "```"
   ]
  },
  {
   "cell_type": "markdown",
   "id": "6705758d-1c58-4b6a-938f-85b190166982",
   "metadata": {},
   "source": [
    "#### 예제 3"
   ]
  },
  {
   "cell_type": "markdown",
   "id": "fefa7e5a-8433-40f0-ab81-9f9364d0d6b3",
   "metadata": {},
   "source": [
    "```cpp\n",
    "int main(){\n",
    "    Point p1;\n",
    "    if(!p1.init(-2, 4))\n",
    "        cout << \"error: out-of-range\" << endl;\n",
    "    \n",
    "    if(!p1.init(2, 4))\n",
    "    cout << \"error: out-of-range\" << endl;\n",
    "    \n",
    "    Point p2;\n",
    "    if(!p2.init(5, 9))\n",
    "        cout << \"error: out-of-range\" << endl;\n",
    "    \n",
    "    Rectangle rec;\n",
    "    if(!rec.init(p2, p1))\n",
    "        cout << \"error: out-of-rectangle\" << endl;\n",
    "    \n",
    "    if(!rec.init(p1, p2))\n",
    "        cout << \"error: out-of-rectangle\" << endl;\n",
    "    \n",
    "    cout << rec.area() << endl;\n",
    "    \n",
    "    return 0;\n",
    "}\n",
    "```"
   ]
  },
  {
   "cell_type": "markdown",
   "id": "0f39944b-762d-41b4-90fa-a9df954b5043",
   "metadata": {},
   "source": [
    "`-` 외부 (main)에서 객체 내부의 데이터에 직접 접근을 하고 있지 않고 있음!\n",
    "\n",
    "`-` 제대로 값이 설정되지 않은 경우에 별도처리가 가능해짐 (safety ↑)"
   ]
  },
  {
   "cell_type": "markdown",
   "id": "0328da3c-d635-4912-80bf-a0c3e4c5658d",
   "metadata": {},
   "source": [
    "#### 예제 4\n",
    "\n",
    "`-` 만약, Point 클래스 멤버변수가 배열로 변경되었다면?\n",
    "\n",
    "`-` 구현자는 내부 구현을 변경해야하지만 사용자의 코드는 변경할 필요 없음!"
   ]
  },
  {
   "cell_type": "markdown",
   "id": "d7031539-2c8c-42c6-8fdf-b0e26982b669",
   "metadata": {},
   "source": [
    "```cpp\n",
    "class Point{\n",
    "private:\n",
    "    int X[2];\n",
    "    \n",
    "public:\n",
    "    bool init(int x_val, int y_val); // 값 초기화 함수\n",
    "    int get_x();\n",
    "    int get_y();  // 멤버변수 값 반환 ---> access function                \n",
    "    bool set_x(int x_val); \n",
    "    bool set_y(int y_val);  // 멤버변수 값 설정 ---> access function   \n",
    "};\n",
    "\n",
    "bool Point::init(int x_val, int y_val) {\n",
    "    return set_x(x_val) && set_y(y_val);\n",
    "}\n",
    "\n",
    "int Point::get_x(){\n",
    "    return X[0];\n",
    "}\n",
    "\n",
    "bool Point::set_x(int x_val){\n",
    "    if(x_val < 0 || x_val > 100) return false; // 설계자 의도에 맞는 값만 설정하게 할 수 있음 (safety ↑)\n",
    "    X[0] = x_val; // 0과 100사이면 x에 x_val을 대입\n",
    "    return true; \n",
    "}\n",
    "\n",
    "/* Point 클래스 내부의 멤버변수와 함수 내부 구현이 일부 변경되었지만\n",
    "이를 사용하는 Rectangle 클래스와 main 코드에는 변경이 없음!\n",
    "\n",
    "즉, public 멤버 함수 모양을 유지 하면\n",
    "필요에 따라 내부 구현을 유동적으로 변경할 수 있음(flexibility ↑)*/\n",
    "```"
   ]
  },
  {
   "cell_type": "markdown",
   "id": "dd193a02-838b-483d-816e-54fdf5525b29",
   "metadata": {},
   "source": [
    "# 생성자와 소멸자"
   ]
  },
  {
   "cell_type": "markdown",
   "id": "0bc282b3-3d0c-47f8-86c6-95759fe8e794",
   "metadata": {},
   "source": [
    "## 기존까지의 멤버변수 초기화 방법"
   ]
  },
  {
   "cell_type": "markdown",
   "id": "6c8d820a-9030-474b-9ae7-054f23849bb9",
   "metadata": {},
   "source": [
    "`-` `init()`과 같은 멤버함수를 따로 만들어서 초기화함\n",
    "\n",
    "`-` 정보은닉을 위해 private 멤버변수를 초기화하는 기존까지의 방법"
   ]
  },
  {
   "cell_type": "markdown",
   "id": "7eafeccf-68a8-4cbf-a663-39fda9bdfb6c",
   "metadata": {},
   "source": [
    "```cpp\n",
    "class Point{\n",
    "private:\n",
    "    double x;\n",
    "    double y;\n",
    "    \n",
    "public:\n",
    "    void init(double x_val, double y_val){\n",
    "        x = x_val;\n",
    "        y = y_val;\n",
    "    }\n",
    "};\n",
    "\n",
    "Point p;\n",
    "p.init(3.0, 4.0);\n",
    "```"
   ]
  },
  {
   "cell_type": "markdown",
   "id": "0b2d560a-4c82-41b4-87aa-91a0f73cc57c",
   "metadata": {},
   "source": [
    "`-` 좀 더 깔끔하게 (한 줄로) 초기화하는 방법이 없을까?\n",
    "\n",
    "`-` 일반적으로 초기화는 `생성`을 하면서 이루어짐"
   ]
  },
  {
   "cell_type": "markdown",
   "id": "ac88e84d-5721-4646-8de1-f96b214926b9",
   "metadata": {},
   "source": [
    "## 생성자 (constructor)"
   ]
  },
  {
   "cell_type": "markdown",
   "id": "eab989a7-de4e-471e-b367-a5280c8809e4",
   "metadata": {},
   "source": [
    "`-` 객체가 `생성`될 때 `딱 한번` 호출 되는 특별한 함수\n",
    "\n",
    "`-` `클래스의 이름과 동일한 이름을 가진 함수`\n",
    "\n",
    "`-` 반환형이 선언되지 않음 (실제 반환 값이 없음)\n",
    "\n",
    "`-` 주로 멤버변수 초기화를 담당함"
   ]
  },
  {
   "cell_type": "markdown",
   "id": "43404327-d47a-4fbb-b9be-d01de17348ea",
   "metadata": {},
   "source": [
    "```cpp\n",
    "class SimpleClass{\n",
    "private:\n",
    "    int num;\n",
    "    \n",
    "public:\n",
    "    SimpleClass(){\n",
    "        num = 10;\n",
    "    } // SimpleClass의 생성자\n",
    "};\n",
    "\n",
    "SimpleClass simple; // simple 객체가 생성되면 위 SimpleClass 생성자가 호출됨\n",
    "```"
   ]
  },
  {
   "cell_type": "markdown",
   "id": "e1f3d8f7-3ff1-4447-8d1e-e333c6030ead",
   "metadata": {},
   "source": [
    "## 생성자 오버로딩과 디폴트 값"
   ]
  },
  {
   "cell_type": "markdown",
   "id": "231850a7-351e-4507-b3f8-e451a28d903c",
   "metadata": {},
   "source": [
    "`-` 생성자도 함수이므로 오버로딩이 가능하고 디폴트 값 설정도 가능\n",
    "\n",
    "`-` 다양한 초기화 상황을 대비할 수 있음"
   ]
  },
  {
   "cell_type": "markdown",
   "id": "56aebbe7-d530-4f59-9c0e-decf7b36ffac",
   "metadata": {},
   "source": [
    "```cpp\n",
    "class SimpleClass{\n",
    "private:\n",
    "    int num1;\n",
    "    int num2;\n",
    "    int num3;\n",
    "    \n",
    "public:\n",
    "    SimpleClass(){\n",
    "        num1 = 0;\n",
    "        num2 = 0;\n",
    "        num3 = 0;\n",
    "    }\n",
    "    \n",
    "    SimpleClass(int n){\n",
    "        num1 = n;\n",
    "        num2 = 0;\n",
    "        num3 = 0;\n",
    "    }\n",
    "    \n",
    "    SimpleClass(int n1, int n2, int n3 = 10){\n",
    "        num1 = n1;\n",
    "        num2 = n2;\n",
    "        num3 = n3;\n",
    "    }\n",
    "};\n",
    "```"
   ]
  },
  {
   "cell_type": "markdown",
   "id": "a2323c7f-e1b1-4d6d-a3bd-417cf619e70f",
   "metadata": {
    "tags": []
   },
   "source": [
    "## 멤버 이니셜라이저 – 일반 변수\n",
    "\n",
    "`-` 멤버 변수를 초기화 해줄 수 있는 방법 중 하나\n",
    "\n",
    "`-` 이니셜라이저를 통해서 초기화 하는 경우 선언과 `동시에` 초기화 됨\n",
    "\n",
    "`-` 이니셜라이저는 한수 선언부가 아닌 정의부에 명시해주어야 함"
   ]
  },
  {
   "cell_type": "markdown",
   "id": "7bf6eb3c-b27d-4b57-ba7e-a27dfcbf971f",
   "metadata": {},
   "source": [
    "```cpp\n",
    "class SimpleClass{\n",
    "private:\n",
    "    int num1;\n",
    "    int num2;\n",
    "    \n",
    "public:\n",
    "    SimpleClass(int n1, int n2);\n",
    "};\n",
    "\n",
    "SimpleClass::SimpleClass(int n1, int n2) : num1(n1), num2(n2) {\n",
    "    // do something\n",
    "}\n",
    "// int num1 = n1; 이니셜라이저를 통하면 이와같이 초기화 되는 것과 동치\n",
    "\n",
    "// SimpleClass 객체가 위 생성자로 생성될 때\n",
    "// • Step 1. 멤버 변수의 메모리 공간 할당\n",
    "// • Step 2. 이니셜라이저를 통한 멤버변수 초기화\n",
    "// • Step 3. 생성자의 몸체 부분 실행\n",
    "```"
   ]
  },
  {
   "cell_type": "markdown",
   "id": "5e878a7d-3eea-4522-bf29-275c2d0caef2",
   "metadata": {},
   "source": [
    "## 멤버 이니셜라이저 – 참조자 & 상수"
   ]
  },
  {
   "cell_type": "markdown",
   "id": "26203c46-765e-449a-a4be-4f1877e41b2b",
   "metadata": {},
   "source": [
    "`-` 이니셜라이저를 통해서 초기화 하는 경우 선언과 `동시에` 초기화 됨\n",
    "\n",
    "`-`  따라서 참조자와 상수도 생성을 하면서 초기화가 가능!"
   ]
  },
  {
   "cell_type": "markdown",
   "id": "89c6c203-7c8c-4a9b-8ad3-62f59b6be26c",
   "metadata": {},
   "source": [
    "```cpp\n",
    "class SimpleClass{\n",
    "private:\n",
    "    int& ref;\n",
    "    const int CONSTANT;\n",
    "    \n",
    "public:\n",
    "    SimpleClass(int& ref, const int n);\n",
    "};\n",
    "\n",
    "SimpleClass::SimpleClass(int &r, const int n) : // 멤버 이니셜라이저 쓸 때 : 적는거 잊지않기\n",
    "    ref(r),    // 멤버 이니셜라이저는 옆으로 쓰지않고 enter와 ,를 통해 사용할 수 도 있다 \n",
    "    CONSTANT(n)\n",
    "{\n",
    "//do something\n",
    "}\n",
    "```"
   ]
  },
  {
   "cell_type": "markdown",
   "id": "6476e966-eec0-440b-95ef-311493e1a7b0",
   "metadata": {},
   "source": [
    "## 디폴트 생성자\n",
    "\n",
    "`-` 아무런 생성자를 정의하지 않으면 컴파일러에 의해 자동으로 디폴트 생성자가 추가됨\n",
    "\n",
    "`-` 그래서 여태까지는 Point p;와 같이 선언할 수 있었다 ---> 디폴트 생성자가 자동으로 추가돼서\n",
    "\n",
    "`-` 하지만 Point class에서 매개변수가 있는 생성자를 선언한다면?\n",
    "\n",
    "`-` 디폴트 생성자가 추가되지 않아 없으므로 Point p; 처럼 하면 컴파일 에러!!\n",
    "\n",
    "`-` 따라서 모든 객체는 무조건 생성자의 호출 과정을 통해 생성됨\n",
    "\n",
    "`-` 하지만 생성자가 하나라도 정의되어 있으면 디폴트 생성자는 자동으로 추가되지 않음\n",
    "\n",
    "`-` 정의되어 있는 생성자를 이용해서 생성하거나 매개변수가 없는 생성자를 따로 만들어야함"
   ]
  },
  {
   "cell_type": "markdown",
   "id": "7f702859-79f4-488c-98ba-93997ec2b57b",
   "metadata": {},
   "source": [
    "## 소멸자 (deconstructor)"
   ]
  },
  {
   "cell_type": "markdown",
   "id": "55197e8f-127f-42f1-a170-bca1d41de6b3",
   "metadata": {},
   "source": [
    "`-` 객체가 `소멸`될 때 호출 되는 (public) 함수\n",
    "\n",
    "`-` `클래스의 이름앞에 ~가 붙은 형태의 이름`을 가짐\n",
    "\n",
    "`-` 반환형이 선언되어 있지 않으며 실제로 반환하지 않음\n",
    "\n",
    "`-` 아무런 매개변수를 가지지 않음 (void) – 오버로딩/디폴트 값 설정 불가"
   ]
  },
  {
   "cell_type": "markdown",
   "id": "0fb3cd1d-37b8-403e-8276-fafda58214de",
   "metadata": {},
   "source": [
    "```cpp\n",
    "class SimpleClass{\n",
    "public:\n",
    "    int num;\n",
    "    SimpleClass(){\n",
    "    // constructor\n",
    "    }\n",
    "    \n",
    "    ~SimpleClass(){\n",
    "    // deconstructor\n",
    "    }\n",
    "};\n",
    "```"
   ]
  },
  {
   "cell_type": "markdown",
   "id": "3f96fa75-a82b-4de3-b864-aaf9a12dc714",
   "metadata": {},
   "source": [
    "```cpp\n",
    "SimpleClass *sc = new SimpleClass;\n",
    "delete sc;       \n",
    "//동적할당의 경우 sc가 명시적으로 해제 (delete) 될 때 소멸되며 이 때 소멸자가 호출됨\n",
    "```"
   ]
  },
  {
   "cell_type": "markdown",
   "id": "bba35e01-1dbb-405b-9ef9-f44dfa9730a1",
   "metadata": {},
   "source": [
    "## 소멸자의 활용\n",
    "\n",
    "`-` 클래스 내부에서 동적해제를 제어할 때 소멸자를 활용\n",
    "\n",
    "`-` 주로 생성자에서 동적할당을 하고 소멸자에서 동적해제를 해줌"
   ]
  },
  {
   "cell_type": "markdown",
   "id": "9269fc92-3901-42f5-a46f-8c3d60c5c6db",
   "metadata": {},
   "source": [
    "```cpp\n",
    "class Person{\n",
    "private:\n",
    "    char* name;   // 문자배열이 아닌 포인터로 문자열을 표현하면 딱 name 크기 만큼만 메모리에 저장 + 문자열 포인터는 문자열 변경 불가능\n",
    "    \n",
    "public:\n",
    "    Person(const char* myname){\n",
    "        int len = strlen(myname) + 1;\n",
    "        name = new char[len];\n",
    "        strcpy(name, myname);\n",
    "    }\n",
    "    \n",
    "    ~Person(){\n",
    "        delete[] name;\n",
    "    }\n",
    "};\n",
    "```"
   ]
  },
  {
   "cell_type": "markdown",
   "id": "01763f48-f17b-41af-87f7-180c3caac739",
   "metadata": {},
   "source": [
    "# 클래스와 배열 & this 포인터"
   ]
  },
  {
   "cell_type": "markdown",
   "id": "70e1714e-de4a-4df0-95a2-45d8b3a23667",
   "metadata": {},
   "source": [
    "## 객체 배열\n",
    "\n",
    "`-` 객체도 배열로 표현이 가능함\n",
    "\n",
    "`-` 이 경우 각 개체 마다 아무런 매개변수를 가지지 않는 생성자가 호출됨\n",
    "\n",
    "```cpp\n",
    "ClassType arrayname[size];\n",
    "ClassType* arrayname = new ClassType[size];\n",
    "```"
   ]
  },
  {
   "cell_type": "markdown",
   "id": "50a19264-a972-470b-8dda-48ebb6695fcc",
   "metadata": {},
   "source": [
    "## 객체 포인터 배열\n",
    "\n",
    "`-` 객체의 포인터를 담은 배열\n",
    "\n",
    "```cpp\n",
    "ClassType* arrayname[size];\n",
    "arrayname[i] = new ClassType();\n",
    "```"
   ]
  },
  {
   "cell_type": "markdown",
   "id": "a2183515-ea26-401f-a6cc-744647e1cfc5",
   "metadata": {},
   "source": [
    "```cpp\n",
    "class Person{\n",
    "private:\n",
    "    char* name;   \n",
    "    \n",
    "public:\n",
    "    Person(){\n",
    "        name = nullptr; // nullptr은 NULL을 대체하는 널포인터     \n",
    "    } \n",
    "    \n",
    "    Person(const char* myname){\n",
    "        int len = strlen(myname) + 1;\n",
    "        name = new char[len];\n",
    "        strcpy(name, myname);\n",
    "    }\n",
    "    \n",
    "    ~Person(){\n",
    "        delete[] name;\n",
    "    }\n",
    "};\n",
    "\n",
    "int main(){\n",
    "    Person people2[10]; // Person() 생성자가 호출됨\n",
    "    //  객체 별로 name을 초기화 해주려면 별도의 init 함수를 만들어서 초기화 해주거나 객체 포인터 배열을 써서 별도 처리 해준다\n",
    "    \n",
    "    char name[100];\n",
    "    Person* people[10];\n",
    "    for(int i = 0; i < 10; i++){\n",
    "        cin >> name;\n",
    "        people[i] = new Person(name);\n",
    "    }\n",
    "    // 각 객체 포인터를 동적할당하면서 Person(const char* myname) 생성자가 호출됨\n",
    "    \n",
    "    return 0;\n",
    "}\n",
    "```"
   ]
  },
  {
   "cell_type": "markdown",
   "id": "338cb3e8-9453-4fd2-9340-dcd03587ecea",
   "metadata": {},
   "source": [
    "## this 포인터\n",
    "\n",
    "`-` this 포인터는 객체 자기 자신을 가리키는 포인터를 의미\n",
    "\n",
    "`-` 즉 객체 자기 자신의 주소가 this에 저장되어 있음\n",
    "\n",
    "`-` 멤버변수와 함수의 매개변수 (지역변수)와 구분을 위해 사용"
   ]
  },
  {
   "cell_type": "markdown",
   "id": "db7b297f-d80b-4494-9ee3-1846df3d0834",
   "metadata": {},
   "source": [
    "```cpp\n",
    "class SimpleClass{\n",
    "private:\n",
    "    int num1;\n",
    "    int num2;\n",
    "    \n",
    "public:\n",
    "    SimpleClass(int num1, int num2){\n",
    "    this->num1 = num1;\n",
    "    this->num2 = num2;\n",
    "    }\n",
    "};\n",
    "```"
   ]
  },
  {
   "cell_type": "markdown",
   "id": "cc1cbc4d-bf09-45d0-8565-c4e8bae149f6",
   "metadata": {},
   "source": [
    "`-` this->num1은 멤버변수임을 의미하고 num1은 매개변수임을 의미함\n",
    "\n",
    "`-` 멤버변수와 매개변수의 이름을 같이 두고 this로 구분함"
   ]
  },
  {
   "cell_type": "markdown",
   "id": "62b3ce27-96db-49e6-b30a-bc0d7f6ef3df",
   "metadata": {},
   "source": [
    "## this 포인터와 이니셜라이저\n",
    "\n",
    "`-` 이니셜라이저에서는 this 포인터를 쓸 수 없음\n",
    "\n",
    "`-` 대신 이름이 같아도 컴파일러가 규칙을 통해 알아서 구분함"
   ]
  },
  {
   "cell_type": "markdown",
   "id": "7c3b34f7-8a26-439c-9753-aa47b6d1465e",
   "metadata": {},
   "source": [
    "`-` 같은 type이면 접근 가능! ---> 같은 클래스 내부에 묶여있음"
   ]
  },
  {
   "cell_type": "markdown",
   "id": "289774ff-7552-4a3f-93e0-6e1864f9c22d",
   "metadata": {
    "tags": []
   },
   "source": [
    "# 복사 생성자"
   ]
  },
  {
   "cell_type": "markdown",
   "id": "33cf0798-4ec1-464c-a4bb-1b9264098b23",
   "metadata": {},
   "source": [
    "## 객체 생성 초기화\n",
    "\n",
    "`-` sc1의 멤버변수를 sc2로 복사한다"
   ]
  },
  {
   "cell_type": "markdown",
   "id": "7d87fe74-33d5-48b6-847e-edf2368f2a90",
   "metadata": {},
   "source": [
    "```cpp\n",
    "SimpleClass sc1(15, 20);\n",
    "SimpleClass sc2 = sc1;   // 방법1\n",
    "SimpleClass sc2(sc1);    // 방법2\n",
    "// 컴파얼리에 의해 자동적(묵시적)으로 방법1은 방법2로 바뀐다\n",
    "// 묵시적 변환을 방지하고 싶을 때는 복사 생성자 앞에 explicit이라는 keyword를 붙여주면 됨\n",
    "```"
   ]
  },
  {
   "cell_type": "markdown",
   "id": "ab8dbdd3-fb6c-4c5f-90a4-8b522fa3c787",
   "metadata": {},
   "source": [
    "`-` 방법2는 생성자호출방식으로 sc1을 복사하는데 SimpleClass(SimpleClass& copy)의 생성자가 없음\n",
    "\n",
    "`-` 어떻게 하는걸까?"
   ]
  },
  {
   "cell_type": "markdown",
   "id": "15297fcf-2e99-4027-b729-7cb4cdb15ada",
   "metadata": {},
   "source": [
    "## 디폴트 복사 생성자"
   ]
  },
  {
   "cell_type": "markdown",
   "id": "f06dd8b6-cef7-463a-a16b-d5a33844ebc7",
   "metadata": {},
   "source": [
    "```cpp\n",
    "SimpleClass(const SimpleClass& copy) :    // 꼭 참조자(&)로 매개변수를 받아아함\n",
    "    num1(copy.num1),\n",
    "    num2(copy.num2)\n",
    "{ }\n",
    "// 복사 생성자를 정의하지 않으면 멤버 대 멤버의 복사를 진행하는 디폴트 복사 생성자가 자동 삽입됨!\n",
    "```"
   ]
  },
  {
   "cell_type": "markdown",
   "id": "3838ca07-2452-410e-ac82-c37a3af968bf",
   "metadata": {},
   "source": [
    "`-` 동적할당을 통해 깊은복사를 수행함"
   ]
  },
  {
   "cell_type": "markdown",
   "id": "21207355-afc2-408f-89a1-8281485d7e27",
   "metadata": {},
   "source": [
    "# 얕은 복사와 깊은 복사"
   ]
  },
  {
   "cell_type": "markdown",
   "id": "67b957f5-6c2d-44a2-b79d-52fedea98b4c",
   "metadata": {},
   "source": [
    "## 얕은 복사"
   ]
  },
  {
   "cell_type": "markdown",
   "id": "7c3a748d-9620-4d20-bb10-6227259be18c",
   "metadata": {},
   "source": [
    "`-` 멤버변수가 생성자에서 동적할당되고 소멸자에서 해제된다면?\n",
    "\n",
    "`-` 얕은 복사는 객체가 소멸하게 되면 예기치 못한 오류가 발생할 수 있음\n",
    "\n",
    "`-` 예로 man2 객체가 소멸되었다면 소멸자 호출로 인해 동적할당된 공간이 delete 되면서 원래 man1의 name이 가리키는 공간을 무의미하게 만듦"
   ]
  },
  {
   "cell_type": "markdown",
   "id": "e2232bee-3896-48af-80eb-ba0149a9eae4",
   "metadata": {},
   "source": [
    "```cpp\n",
    "class Person{\n",
    "private:\n",
    "    char* name;\n",
    "    int age;\n",
    "    \n",
    "public:\n",
    "    Person(char* myname, int myage){\n",
    "        int len = strlen(myname) + 1;\n",
    "        name = new char[len];\n",
    "        strcpy(name, myname);\n",
    "        age = myage;\n",
    "    }\n",
    "    \n",
    "    ~Person(){\n",
    "        delete[] name;\n",
    "    }\n",
    "};\n",
    "\n",
    "int main(){\n",
    "    Person man1(\"Jane\", 25);\n",
    "    Person man2 = man1;\n",
    "    return 0;\n",
    "}\n",
    "\n",
    "// 포인터가 가리키는 실제 값이 복사된 것이 아니라서 위와 같은 복사를 얕은 복사라 함\n",
    "```"
   ]
  },
  {
   "cell_type": "markdown",
   "id": "9f50e62c-f35a-4800-bb58-57df4d976544",
   "metadata": {},
   "source": [
    "## 깊은 복사"
   ]
  },
  {
   "cell_type": "markdown",
   "id": "8a93fe19-4c07-4d5c-8232-cccdbfe1cd21",
   "metadata": {},
   "source": [
    "`-` 포인터가 가리키는 공간에 대해 새로운 공간을 할당해서 값 복사\n",
    "\n",
    "`-` 복사 생성자를 따로 정의해주어서 깊은 복사가 되게 해줌"
   ]
  },
  {
   "cell_type": "markdown",
   "id": "76cfea26-5991-432e-a348-cb7bd49bad44",
   "metadata": {},
   "source": [
    "```cpp\n",
    "Person(const Person& copy)\n",
    "    : age(copy.age)\n",
    "{\n",
    "    int len = strlen(myname) + 1;\n",
    "    name = new char[len];\n",
    "    strcpy(name, copy.name);\n",
    "}\n",
    "\n",
    "Person man2 = man1;  // 위의 깊은 복사를 수행하는 복사 생성자가 호출됨\n",
    "```"
   ]
  },
  {
   "cell_type": "markdown",
   "id": "e8207065-b6a0-45b9-8dc7-fe604aeb6592",
   "metadata": {},
   "source": [
    "# 특별한 키워드"
   ]
  },
  {
   "cell_type": "markdown",
   "id": "db0a5c20-7848-4ca0-8b78-0fcd41978547",
   "metadata": {},
   "source": [
    "## Const Keyword"
   ]
  },
  {
   "cell_type": "markdown",
   "id": "e9cd1584-5170-46e6-884d-9545c6a238db",
   "metadata": {},
   "source": [
    "`-` const: 변수/객체 데이터의 변경을 허용하지 않겠다는 의미"
   ]
  },
  {
   "cell_type": "markdown",
   "id": "dac5cc66-5c2b-447a-bbc5-b9b24a4adb5d",
   "metadata": {},
   "source": [
    "```cpp\n",
    "const int num = 10;\n",
    "// 변수 num에 10의 값을 할당하고 이후에 변경을 허용하지 않음 (상수화)\n",
    "\n",
    "const SimpleClass sc(10);\n",
    "// 객체 sc의 상수화로 const 멤버함수만 호출 가능해짐\n",
    "\n",
    "const SimpleClass& ref = sc;\n",
    "// 참조자의 상수화로 역시 const 멤버함수만 호출 가능함\n",
    "```"
   ]
  },
  {
   "cell_type": "markdown",
   "id": "9da215aa-d67d-4540-9e9e-eab516004d1b",
   "metadata": {},
   "source": [
    "### Const 함수"
   ]
  },
  {
   "cell_type": "markdown",
   "id": "cf395616-70c5-4ee8-98ce-243310dd0b86",
   "metadata": {},
   "source": [
    "`-` const로 지정된 함수로 동일 클래스에 선언된 멤버변수의 값 변경을 할 수 없는 함수\n",
    "\n",
    "`-` 함수 이름 뒤에 const keyword를 붙임\n",
    "\n",
    "`-` Const 객체는 const 함수만 호출 가능\n",
    "\n",
    "`-` Const 참조자도 const 멤버 함수만 호출 가능\n",
    "\n",
    "`-` Const 선언 유무도 함수 오버로딩의 조건에 해당함"
   ]
  },
  {
   "cell_type": "markdown",
   "id": "98a39ddd-e865-4669-8ce2-d4870a0b5d65",
   "metadata": {},
   "source": [
    "## Friend Keyword"
   ]
  },
  {
   "cell_type": "markdown",
   "id": "b491a19b-adce-40ef-a175-4ca1d289d35c",
   "metadata": {},
   "source": [
    "`-` 클래스의 friend 선언\n",
    "\n",
    "```cpp\n",
    "class Boy{\n",
    "    friend class Girl; //어느 곳에 위치 하든 상관 없음 // Boy 클래스가 Girl 클래스를 친구라고 선언!\n",
    " //...\n",
    "};\n",
    "```\n",
    "\n",
    "`-` 친구가 된 클래스는 private 멤버 접근을 허용하는 선언\n",
    "\n",
    "`-` 정보은닉에 반하기 때문에 제한적으로 사용해야함 (연산자 오버로딩에서 쓰임)\n",
    "\n",
    "`-` A라는 클래스가 B라는 클래스를 친구 선언하면 B 클래스에서는 A의 private 멤버 변수 직접 접근이 가능\n",
    "\n",
    "`-` 그러나 A 클래스에서는 B 클래스의 멤버 변수 직접 접근 안됨 (필요하면 서로 친구 선언 해줘야 함)"
   ]
  },
  {
   "cell_type": "markdown",
   "id": "c008a3f1-55a3-4b99-91de-1935bea9a544",
   "metadata": {},
   "source": [
    "## Static Keyword"
   ]
  },
  {
   "cell_type": "markdown",
   "id": "67560d9f-6c43-491d-b0bd-e4d407451671",
   "metadata": {},
   "source": [
    "```cpp\n",
    "class SimpleClass{\n",
    "private:\n",
    "    static int cnt; // 클래스 내에서 static 멤버변수\n",
    "}\n",
    "\n",
    "int SimpleClass::cnt = 0; // static 멤버변수의 초기화는 외부에서 함\n",
    "```"
   ]
  },
  {
   "cell_type": "markdown",
   "id": "228aa123-7bd2-484e-97cb-dd2a49fe758a",
   "metadata": {},
   "source": [
    "`-` 선언된 클래스의 모든 객체가 공유함 (객체의 멤버가 아닌 전역으로 존재)\n",
    "\n",
    "`-` public으로 선언되면 클래스 범위로 호출 가능\n",
    "\n",
    "`-` static 함수는 static 변수에만 접근 가능 (일반 멤버 변수 접근시 에러)"
   ]
  },
  {
   "cell_type": "markdown",
   "id": "00b12b93-ae1b-413f-9130-02abb16106e5",
   "metadata": {},
   "source": [
    "`-` Static 변수를 public으로 선언하면 아래와 같이 외부에서 접근 가능\n",
    "\n",
    "```cpp\n",
    "SimpleClass::cnt\n",
    "```"
   ]
  },
  {
   "cell_type": "markdown",
   "id": "67f8fa5d-aeba-4491-8e87-dd44a23e95df",
   "metadata": {},
   "source": [
    "`-` Static 함수를 public으로 선언하면 아래와 같이 클래스 범위로 호출 가능\n",
    "\n",
    "```cpp\n",
    "SimpleClass::add(20);\n",
    "```"
   ]
  },
  {
   "cell_type": "markdown",
   "id": "0e504cf0-7971-4dbb-8f3a-9a68ebe66ee3",
   "metadata": {},
   "source": [
    "### Const static 멤버변수\n",
    "\n",
    "`-` 클래스가 정의될 때 지정된 값이 유지되는 상수\n",
    "\n",
    "`-` 선언과 함께 초기화가 가능\n",
    "\n",
    "`-` 전역으로 사용되는 상수값을 모아둘 때 유용하게 사용"
   ]
  },
  {
   "cell_type": "markdown",
   "id": "86866a9e-f3cf-41f5-ad5e-0ca0dd355851",
   "metadata": {},
   "source": [
    "```cpp\n",
    "class Color{\n",
    "public:\n",
    "    const static int RED = 0xFF0000;\n",
    "    const static int GREEN = 0x00FF00;\n",
    "    const static int BLUE = 0x0000FF;\n",
    "};\n",
    "\n",
    "int main(){\n",
    "    int mycolor = Color::RED; \n",
    "    return 0;\n",
    "}\n",
    "```"
   ]
  },
  {
   "cell_type": "markdown",
   "id": "dcf39d56-eaee-4b2b-89cb-5b31a5493ae7",
   "metadata": {},
   "source": [
    "# 상속"
   ]
  },
  {
   "cell_type": "markdown",
   "id": "abcf3763-f8d5-4e7f-854e-ed9250a48d2c",
   "metadata": {},
   "source": [
    "## 상속이란?"
   ]
  },
  {
   "cell_type": "markdown",
   "id": "e42f0b65-b35f-4408-b682-a23f63d11b87",
   "metadata": {},
   "source": [
    "`-` 공통된 속성이나 메소드를 상위 클래스로 묶는 기법\n",
    "\n",
    "`-` 코드 재사용성을 높이고 중복되는 코드를 줄일 수 있음"
   ]
  },
  {
   "cell_type": "markdown",
   "id": "3745edb6-e855-432c-a85f-903dbd14db50",
   "metadata": {},
   "source": [
    "## 상속의 개념\n",
    "\n",
    "`-` UnivStudent 클래스가 Person 클래스를 `상속`\n",
    "\n",
    "`-` UnivStudent 객체(인스턴스)는 Person과 UnivStduent의 멤버를 모두 가짐"
   ]
  },
  {
   "cell_type": "markdown",
   "id": "d4a1390e-7acb-44a0-8949-694b53abafaf",
   "metadata": {},
   "source": [
    "```cpp\n",
    "class Person {\n",
    "public:\n",
    "    static const int NAME_SIZE = 50;\n",
    "    \n",
    "private:\n",
    "    int age;\n",
    "    char name[NAME_SIZE];\n",
    "    \n",
    "public:\n",
    "    Person(int myage, char* myname) : age(myage) {\n",
    "        strcpy(this->name, myname);\n",
    "    }\n",
    "    \n",
    "    void showName(){\n",
    "        cout << \"name: \" << name << endl;\n",
    "    }\n",
    "    \n",
    "    void showAge(){\n",
    "        cout << \"age: \" << age << endl;\n",
    "    }\n",
    "};\n",
    "\n",
    "// 상속을 위해서 클래스 이름 뒤에 상속받고자 하는 클래스 이름을 아래와 같이 선언\n",
    "// 멤버 이니셜라이저와 비슷하게 생겼다\n",
    "\n",
    "class UnivStudent : public Person {    // ---> Person 클래스를 상속받는 방법\n",
    "private:\n",
    "    char major[MAX_SIZE];\n",
    "    \n",
    "public:\n",
    "    UnivStudent(int myage, char* myname, char* mymajor)\n",
    "        : Person(myage, myname) {     // Person클래스의 생성자\n",
    "        strcpy(this->major, mymajor);\n",
    "    }\n",
    "    \n",
    "    void showInfo(){\n",
    "        this->showName();  // Person 클래스의 멤버함수\n",
    "        this->showAge();\n",
    "        cout << \"major: \" << major << endl;\n",
    "    }\n",
    "};\n",
    "```"
   ]
  },
  {
   "cell_type": "markdown",
   "id": "d47c6a80-9d32-43a0-b731-80d72cdd91cd",
   "metadata": {},
   "source": [
    "## 상속받은 클래스의 생성자 정의"
   ]
  },
  {
   "cell_type": "markdown",
   "id": "f520742b-f8a6-4205-97ea-b3ecf242221b",
   "metadata": {},
   "source": [
    "- UnivStudent 클래스의 생성자\n",
    "\n",
    "`-` UnivStudent의 생성자는 Person (부모)의 멤버까지 초기화 해야함\n",
    "\n",
    "`-` UnivStudent는 부모의 멤버까지 가지게 되기 때문"
   ]
  },
  {
   "cell_type": "markdown",
   "id": "b8cca202-a300-4c8a-9436-c980947fbe52",
   "metadata": {},
   "source": [
    "`-` 이때 Person의 생성자 호출을 통해서 부모의 멤버를 초기화 하는 것이 가장 자연스러움\n",
    "\n",
    "`-`  이니셜라이저를 통해서 Person 생성자를 호출해야함!"
   ]
  },
  {
   "cell_type": "markdown",
   "id": "3234a559-cf30-4a31-91fa-aeef8c86dafa",
   "metadata": {},
   "source": [
    "- 만일 UnivStudent 생성자에서 부모의 멤버 변수에 직접 접근해서 초기화 하려고 한다면?"
   ]
  },
  {
   "cell_type": "markdown",
   "id": "ab9570a9-47c3-489e-941f-db70cd7b9d91",
   "metadata": {},
   "source": [
    "`-` 접근제한의 기준은 객체 단위가 아닌 클래스 단위!\n",
    "\n",
    "`-` 상속을 받더라도 UnivStduent에서 Person의 private 멤버 변수에는 직접접근 제한\n",
    "\n",
    "`-` public은 가능!"
   ]
  },
  {
   "cell_type": "markdown",
   "id": "5387a90d-a69a-48b9-87a5-40ed74f16ee4",
   "metadata": {},
   "source": [
    "```cpp\n",
    "UnivStudent(int myage, char* myname, char* mymajor) {\n",
    "    this->age = myage;           // error\n",
    "    strcpy(this->name, myname);  // error\n",
    "    strcpy(major, mymajor);      // ok(UnivStudent class)\n",
    "}\n",
    "```"
   ]
  },
  {
   "cell_type": "markdown",
   "id": "623d9f28-ba45-43c4-81d2-b6b0654a37d3",
   "metadata": {},
   "source": [
    "## 클래스의 객체 생성 과정"
   ]
  },
  {
   "cell_type": "markdown",
   "id": "9beb3acd-1cef-475e-9844-3f8d74d161df",
   "metadata": {},
   "source": [
    "`-` 보통 하위클래스의 생성자에서 상위클래스의 생성자 호출을 통해 초기화한다\n",
    "\n",
    "`-` 상위 클래스 생성자 호출은 이니셜라이저를 사용하여 수행한다\n",
    "\n",
    "`-` 그런데 이니셜라이저에서 상위클래스의 생성자를 명시적으로 적어주지 않는다면?\n",
    "\n",
    "`-` 자동적으로 상위클래스의 `void 생성자`를 호출한다\n",
    "\n",
    "`-` void 생성자 : 매개변수가 없는 생성자\n",
    "\n",
    "`-` 이를 간단히 해보자\n",
    "\n",
    "1. 하위 클래스의 생성자 호출(아직 생성자의 body는 실행 안됨)\n",
    "\n",
    "2. 이니셜라이저를 통해 상위 클래스의 생성자가 호출됨 \n",
    "\n",
    "3. 상위 클래스의 생성자가 호출되어 body까지 실행한 뒤 하위 클래스 생성자의 body가 실행됨\n",
    "\n",
    "`-` 만약 상위 클래스 생성자 호출이 명시적으로 정의되지 않으면 void 생성자 호출 및 body 실행"
   ]
  },
  {
   "cell_type": "markdown",
   "id": "a1c00ae0-9aa7-4b11-b6eb-fae9048fafed",
   "metadata": {},
   "source": [
    "## 클래스의 객체 소멸 과정"
   ]
  },
  {
   "cell_type": "markdown",
   "id": "04a440a7-e4f7-4743-a9fc-792b7ddc9b4c",
   "metadata": {},
   "source": [
    "`-` 생성된 객체의 소멸순서는 생성순서와 반대\n",
    "\n",
    "`-` 하위 클래스의 소멸자가 먼저 호출되고 그 다음에 상위 클래스의 소멸자가 호출됨\n",
    "\n",
    "`-` 동적할당/해제는 해당 클래스의 생성자와 소멸자에서 수행함\n",
    "\n",
    "`-` 상위 클래스에서 동적할당하고 하위 클래스에서 소멸시키는 것은 관습에서 벗어남!"
   ]
  },
  {
   "cell_type": "markdown",
   "id": "082619b0-c539-4b4f-9ebc-8bbbb7039950",
   "metadata": {},
   "source": [
    "# Protected 키워드"
   ]
  },
  {
   "cell_type": "markdown",
   "id": "9824bbcc-f3b3-4ae7-939d-b593dc438c94",
   "metadata": {},
   "source": [
    "## Protected 접근 지시자"
   ]
  },
  {
   "cell_type": "markdown",
   "id": "88486431-8b1d-45ba-b001-c39a7ec450f6",
   "metadata": {},
   "source": [
    "`-` 멤버 접근 지시자에는 public, protected, private이 있음\n",
    "\n",
    "`-` protected는 외부에서는 접근이 제한됨\n",
    "\n",
    "`-` 하지만 자식 클래스가 부모 클래스의 멤버 직접 접근을 할 수 있게 해줌\n",
    "\n",
    "`-` 제한적으로 사용되며 가능하면 기초/유도 클래스 사이에도 정보은닉이 권장됨"
   ]
  },
  {
   "cell_type": "markdown",
   "id": "5ca16967-06b3-4e77-b754-7293c0c53de9",
   "metadata": {},
   "source": [
    "```cpp\n",
    "class BaseClass{\n",
    "private:\n",
    "    int num1;\n",
    "    \n",
    "protected:\n",
    "    int num2;\n",
    "    \n",
    "public:\n",
    "    int num3;\n",
    "};\n",
    "\n",
    "class DerivedClass : public BaseClass { // 상속\n",
    "public:\n",
    "    void show(){\n",
    "        cout << num1 << endl; // error\n",
    "        cout << num2 << endl; // ok\n",
    "        cout << num3 << endl; // ok\n",
    "    }\n",
    "};\n",
    "\n",
    "int main(){\n",
    "    BaseClass bc;\n",
    "    cout << bc.num1 << endl; // error\n",
    "    cout << bc.num2 << endl; // error\n",
    "    cout << bc.num3 << endl; // ok\n",
    "    return 0;\n",
    "}\n",
    "```"
   ]
  },
  {
   "cell_type": "markdown",
   "id": "6433b753-4855-4de5-bece-4c1daaf0fc5f",
   "metadata": {},
   "source": [
    "## 세 가지 형태의 상속"
   ]
  },
  {
   "cell_type": "markdown",
   "id": "ed6df42e-76ee-4995-8347-af4b60451a5f",
   "metadata": {},
   "source": [
    "`1.` Public 상속\n",
    "\n",
    "`-` 접근 제어 권한을 그대로 상속(단, private은 접근 불가로 상속)\n",
    "\n",
    "`2.` Protected 상속\n",
    "\n",
    "`-` Protected 보다 접근 범위가 넓은 멤버는 protected 로 상속(단, private은 접근 불가로 상속)\n",
    "\n",
    "`3.` Private 상속\n",
    "\n",
    "`-` Private 보다 접근 범위가 넓은 멤버는 private 로 상속(단, private은 접근 불가로 상속)"
   ]
  },
  {
   "cell_type": "markdown",
   "id": "3248bce3-dfbb-40c0-838c-ce24b3cde1ea",
   "metadata": {},
   "source": [
    "`-` 아니 접근불가랑 private이랑 똑같은거 아님??"
   ]
  },
  {
   "cell_type": "markdown",
   "id": "58794369-32f3-4d6d-9368-4c6a48f779cd",
   "metadata": {},
   "source": [
    "`-` private은 클래스 내부에서는 접근 가능\n",
    "\n",
    "`-` 접근불가능 클래스 내부에서도 접근 불가능\n",
    "\n",
    "`-` 내생각^^"
   ]
  },
  {
   "cell_type": "markdown",
   "id": "c66c97fd-50ff-47ee-bdfe-05ab56c874a3",
   "metadata": {},
   "source": [
    "# IS-A 관계와 HAS-A 관계"
   ]
  },
  {
   "cell_type": "markdown",
   "id": "7248242a-4b8d-4cc3-b234-4786142133a9",
   "metadata": {},
   "source": [
    "## 상속을 위한 기본 조건 : IS-A 관계"
   ]
  },
  {
   "cell_type": "markdown",
   "id": "36a2b380-497f-44a5-a49c-40fe5b42c0cd",
   "metadata": {},
   "source": [
    "`-` 상속 관계를 따지기 위한 최소한의 조건!\n",
    "\n",
    "`-` 예시 : 무선전화기 (하위클래스) ---> 전화기 (상위클래스)\n",
    "\n",
    "`-` 무선 전화기는 일종의 전화기입니다 ---> 무선 전화기 is a 전화기\n",
    "\n",
    "`-` 무선 전화기는 전화기의 기본 기능에 새로운 특성 추가"
   ]
  },
  {
   "cell_type": "markdown",
   "id": "c8510012-cedc-4ba3-879c-d38bb7cf0f2d",
   "metadata": {},
   "source": [
    "## HAS-A 관계"
   ]
  },
  {
   "cell_type": "markdown",
   "id": "9a50f6b1-e52e-47f3-af80-dd4a3a85f610",
   "metadata": {},
   "source": [
    "`-` 예시 : 경찰은 총을 소유한다 ---> 경찰 has a 총"
   ]
  },
  {
   "cell_type": "markdown",
   "id": "17f9fb96-4d77-42af-83e0-17fe003b3d88",
   "metadata": {},
   "source": [
    "`-` HAS-A 관계는 보통 포함으로 표현함!\n",
    "\n",
    "`-` HAS-A 관계도 상속으로 표현가능하지만...  \n",
    "\n",
    "`-` 이 경우 Police와 Gun은 강한 연관성을 가지게됨 (실제 의미는 그렇지 않지만(IS-A관계가 아니니까))\n",
    "\n",
    "`-` 이 경우 총을 소유하지 않은 경찰이나 다른 무기를 소유한 경찰 표현이 어려워짐"
   ]
  },
  {
   "cell_type": "markdown",
   "id": "de1fa39c-ee09-46c8-98d8-7e924fe9ef26",
   "metadata": {},
   "source": [
    "```cpp\n",
    "class Gun {\n",
    "private:\n",
    "    int bullet;\n",
    "    \n",
    "public:\n",
    "    Gun(int bnum) : bullet(bnum) { }\n",
    "};\n",
    "\n",
    "class Police {\n",
    "private:\n",
    "    Gun* pistol;    // 포함관계! police는 Gun을 가지고 있다!\n",
    "    \n",
    "public:\n",
    "    Police(int bnum) {\n",
    "        if(bnum > 0) pistol = new Gun(bnum);\n",
    "        else pistol = nullptr;\n",
    "    }\n",
    "    \n",
    "    ~Police() {\n",
    "        delete pistol;\n",
    "    }\n",
    "};\n",
    "```"
   ]
  },
  {
   "cell_type": "code",
   "execution_count": null,
   "id": "4d5f95e1-5299-4c02-a01e-7698011c8016",
   "metadata": {},
   "outputs": [],
   "source": []
  }
 ],
 "metadata": {
  "kernelspec": {
   "display_name": "Python 3 (ipykernel)",
   "language": "python",
   "name": "python3"
  },
  "language_info": {
   "codemirror_mode": {
    "name": "ipython",
    "version": 3
   },
   "file_extension": ".py",
   "mimetype": "text/x-python",
   "name": "python",
   "nbconvert_exporter": "python",
   "pygments_lexer": "ipython3",
   "version": "3.8.11"
  }
 },
 "nbformat": 4,
 "nbformat_minor": 5
}
