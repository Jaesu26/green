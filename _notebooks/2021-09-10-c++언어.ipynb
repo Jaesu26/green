{
 "cells": [
  {
   "cell_type": "markdown",
   "id": "figured-bulgaria",
   "metadata": {},
   "source": [
    "# C++ 프로그래밍\n",
    "\n",
    "> \"작성 중\"\n",
    "\n",
    "- toc: true\n",
    "- branch: master\n",
    "- badges: true\n",
    "- comments: true\n",
    "- author: 한재수\n",
    "- categories: [c++]"
   ]
  },
  {
   "cell_type": "markdown",
   "id": "manufactured-perspective",
   "metadata": {},
   "source": [
    "```cpp\n",
    "#include <iostream>\n",
    "\n",
    "int main(){\n",
    "    std::cout << \"Hello, World!\" << std::endl;\n",
    "    \n",
    "    return 0;\n",
    "}\n",
    "```"
   ]
  },
  {
   "cell_type": "markdown",
   "id": "adjacent-beads",
   "metadata": {},
   "source": [
    "`-` c++ 저장용\n",
    "\n",
    "`-` 이게 편해서 이걸로 c++언어 배운 내용 공부\n",
    "\n",
    "`-` 참고: 윤성우의 열혈 C++ 프로그래밍"
   ]
  },
  {
   "cell_type": "markdown",
   "id": "indonesian-ready",
   "metadata": {},
   "source": [
    "# 기본 시작 "
   ]
  },
  {
   "cell_type": "markdown",
   "id": "continued-guide",
   "metadata": {},
   "source": [
    "`-` c언어 기본 시작은 아래와 같음 ---> 빼먹지 마셈"
   ]
  },
  {
   "cell_type": "markdown",
   "id": "bulgarian-bonus",
   "metadata": {},
   "source": [
    "```cpp\n",
    "#include <iostream>\n",
    "\n",
    "int main(){\n",
    "    // 작성할 내용\n",
    "    \n",
    "    return 0;\n",
    "}\n",
    "```"
   ]
  },
  {
   "cell_type": "markdown",
   "id": "wooden-burns",
   "metadata": {},
   "source": [
    "# 표준 입출력"
   ]
  },
  {
   "cell_type": "markdown",
   "id": "stopped-luxury",
   "metadata": {},
   "source": [
    "`-` c++에서 표준 헤더파일을 선언할 때는 확장자 \".h\"를 생략\n",
    "\n",
    "`-` :: ---> scope resolution (더블 콜론이라고 편하게 불림)\n",
    "\n",
    "`-` ::의 역할은 파이썬에서 '.'같은 역할이라고 생각하셈 ---> numpy.array ---> numpy에 있는 array를 사용해라\n",
    "\n",
    "`-` printf()와 달리 서식지정문자를 사용하지 않음\n",
    "\n",
    "`-` >>: extraction operator (“get-from” 이라고 발음)\n",
    "\n",
    "`-` <<: insertion operator (“put-to” 이라고 발음)\n",
    "\n",
    "`-` << 을 연달아 사용해서 두 개 이상의 출력대상을 연이어 출력 가능\n",
    "\n",
    "`-` 출력: `std::cout << 출력대상1 << 출력대상2 << ⋯ << 출력대상N;`"
   ]
  },
  {
   "cell_type": "markdown",
   "id": "convinced-fantasy",
   "metadata": {},
   "source": [
    "```cpp\n",
    "#include <iostream>\n",
    "\n",
    "int main(){\n",
    "    int num = 20;\n",
    "    \n",
    "    std::cout << \"Hello, World!\" << std::endl; // std::endl 은 개힝\n",
    "    std::cout << \"Hello, \" << \"World!\" << std::endl; // << 는 출력을 하라는 의미 띄어쓰기는 입력해야 함\n",
    "    std::cout << num << ' ' << 'A';\n",
    "    std::cout << ' ' << 3.14 << std::endl;\n",
    "    return 0;\n",
    "}\n",
    "// Hello, World!\n",
    "// Hello, World!\n",
    "// 20 A 3.14\n",
    "\n",
    "```\n",
    "\n"
   ]
  },
  {
   "cell_type": "markdown",
   "id": "amateur-workshop",
   "metadata": {},
   "source": [
    "`-` 입력: `std::cin >> 변수`"
   ]
  },
  {
   "cell_type": "markdown",
   "id": "million-arthritis",
   "metadata": {},
   "source": [
    "```cpp\n",
    "#include <iostream>\n",
    "\n",
    "int main(){\n",
    "    int val1;\n",
    "    std::cin >> val1;\n",
    "    \n",
    "    int val2;\n",
    "    std::cin >> val2;\n",
    "    \n",
    "    int val3, val4\n",
    "    std::cin >> val3 >> val4; // >>를 연달아 사용해 입력 받기 가능, 입력되는 데이터 구분은 공백으로 이뤄짐\n",
    "    \n",
    "    int result = val1 + val2 + val3 + val4;\n",
    "    \n",
    "    std::cout << result;\n",
    "    return 0;\n",
    "}\n",
    "```"
   ]
  },
  {
   "cell_type": "markdown",
   "id": "elder-premium",
   "metadata": {},
   "source": [
    "# 함수 오버로딩\n",
    "\n",
    "`-` c언어에서는 동일한 이름의 함수가 정의될 수 없음\n",
    "\n",
    "`-` c++에서는 함수 이름이 같아도 매개변수가 다르면 정의 가능\n",
    "\n",
    "`-` c++에서 함수호출 시 `함수의 이름`과 `전달되는 매개변수의 정보(type, 개수)`로 함수 식별\n",
    "\n",
    "`-` 반환형의 type과 매개변수 이름은 상관 X"
   ]
  },
  {
   "cell_type": "markdown",
   "id": "incident-ferry",
   "metadata": {},
   "source": [
    "```cpp\n",
    "#include <iostream>\n",
    "\n",
    "int func(int num){\n",
    "    return num ++;\n",
    "}\n",
    "\n",
    "int func(int a, int b){\n",
    "    return a + b;\n",
    "}\n",
    "\n",
    "int main(){\n",
    "    func(20);\n",
    "    func(30, 40); // 함수이름이 같지만 매개변수의 개수가 다르므로 가능! ---> 함수 오버로딩\n",
    "    return 0;\n",
    "}\n",
    "```"
   ]
  },
  {
   "cell_type": "markdown",
   "id": "naval-cameroon",
   "metadata": {},
   "source": [
    "## 함수 오버로딩 요약"
   ]
  },
  {
   "cell_type": "markdown",
   "id": "educational-plasma",
   "metadata": {},
   "source": [
    "```cpp\n",
    "int func(char c){ ... }\n",
    "int func(int n){ ... } // 매개변수 type이 다르므로 된다\n",
    "\n",
    "int func(int n){ ... }\n",
    "int func(int n1, int n2){ ... } // 매개변수의 수가 다르므로 된다\n",
    "\n",
    "void func(int n){ ... }\n",
    "int func(int n){ ... } // 반환형의 차이는 함수 오버로딩에 영향을 미치지 않음\n",
    "```"
   ]
  },
  {
   "cell_type": "markdown",
   "id": "amended-yemen",
   "metadata": {},
   "source": [
    "## 함수 오버로딩 장점\n"
   ]
  },
  {
   "cell_type": "markdown",
   "id": "broad-consumption",
   "metadata": {},
   "source": [
    "`-` 자료형은 다른데 동일한 action을 취하는 경우에 동일한 함수명 사용 가능 ---> 코드의 가독성 Good!"
   ]
  },
  {
   "cell_type": "markdown",
   "id": "essential-chorus",
   "metadata": {},
   "source": [
    "```cpp\n",
    "int add(int a, int b){\n",
    "    return a + b;\n",
    "}\n",
    "\n",
    "double add(int c, int d){\n",
    "    return c + d;\n",
    "}\n",
    "```"
   ]
  },
  {
   "cell_type": "markdown",
   "id": "placed-catch",
   "metadata": {},
   "source": [
    "`-` 둘이 같은 action을 하므로 하나만 사용할 수 있다"
   ]
  },
  {
   "cell_type": "markdown",
   "id": "productive-penetration",
   "metadata": {},
   "source": [
    "# 매개변수 디폴트 값"
   ]
  },
  {
   "cell_type": "markdown",
   "id": "conscious-yesterday",
   "metadata": {},
   "source": [
    "## 디폴트 값(default value)"
   ]
  },
  {
   "cell_type": "markdown",
   "id": "bottom-invalid",
   "metadata": {},
   "source": [
    "`-` 함수의 매개변수에 기본적으로 설정되어 있는 값\n",
    "\n",
    "`-` 함수 호출시에 입력으로 주어지지 않으면 디폴트 값이 쓰임 ---> R과 Python도 동일함"
   ]
  },
  {
   "cell_type": "markdown",
   "id": "assured-transport",
   "metadata": {},
   "source": [
    "```cpp\n",
    "int func(int num = 7){   // num의 default value는 7이다\n",
    "    return num + 1;\n",
    "}\n",
    "\n",
    "int result1 = func();\n",
    "int result2 = func(7); // 두 함수 호출 결과는 같다!\n",
    "```"
   ]
  },
  {
   "cell_type": "markdown",
   "id": "enclosed-japan",
   "metadata": {},
   "source": [
    "`-` 매개변수가 여러개여도 동일함"
   ]
  },
  {
   "cell_type": "markdown",
   "id": "facial-compact",
   "metadata": {},
   "source": [
    "```cpp\n",
    "int func(int num1 = 5, int num2 = 7){\n",
    "    return num1 + num2;\n",
    "}\n",
    "\n",
    "int result1 = func();\n",
    "\n",
    "int result2 = func(5);\n",
    "\n",
    "int result = func(5, 7); \n",
    "// 호출 결과는 같음 전달되는 인자는 왼쪽 부터 채워져 나가고 부족한 부분은 디폴트 값으로 채워짐\n",
    "// 그렇기에 디폴트 값을 넣을 때는 오른쪽 부터 디퐅르값을 지정해줘야 함\n",
    "```"
   ]
  },
  {
   "cell_type": "markdown",
   "id": "collected-investigation",
   "metadata": {},
   "source": [
    "`-` 디폴트 값의 선언은 함수의 선언부테 위치 시켜줌"
   ]
  },
  {
   "cell_type": "markdown",
   "id": "adequate-optimum",
   "metadata": {},
   "source": [
    "```cpp\n",
    "#include <iostream>\n",
    "\n",
    "int add(int num1 = 5, int num2 = 7); // 디폴트 값은 함수의 선언부테 위치\n",
    "\n",
    "int main(){\n",
    "    std::cout << add() << std::endl;\n",
    "    return 0;\n",
    "}\n",
    "\n",
    "int add(int num1, int num2){    // 여기서 디폴트 값 선언하면 컴파일 에러\n",
    "    return num1 + num2;         // 디폴트 값은 함수의 선언부에 위치!\n",
    "}\n",
    "```"
   ]
  },
  {
   "cell_type": "markdown",
   "id": "inclusive-cassette",
   "metadata": {},
   "source": [
    "`-` 매개변수의 일부에만 디폴트 값을 지정 가능\n",
    "\n",
    "`-` 채워지지 않은 매개변수에만 인자가 전달 됨\n",
    "\n",
    "`-` 전달되는 인자가 왼쪽에서부터 채워지므로 디폴트 값은 오른쪽에서부터 채워야 함\n",
    "\n",
    "`-` 오른쪽이 빈 상태로 왼쪽 매개변수에 디폴트 값을 지정하면 컴파일 에러"
   ]
  },
  {
   "cell_type": "markdown",
   "id": "dirty-immune",
   "metadata": {},
   "source": [
    "```cpp\n",
    "int func(int num1, int num2, int num3 = 30){ ... } // 디폴트 값은 오른쪽에서부터!\n",
    "int func(int num1, int num2 = 20, int num3 = 30){ ... } // 디폴트 값은 오른쪽에서부터!\n",
    "\n",
    "int func(int num1 = 10, int num2, int num3){ ... } // 오른쪽이 비어 있으므로 에러\n",
    "int func(int num1 = 10, int num2 = 20, int num3){ ... } // 이것도 오른쪽이 비어있으므로 에러\n",
    "```"
   ]
  },
  {
   "cell_type": "markdown",
   "id": "black-agency",
   "metadata": {},
   "source": [
    "`-` 사용주의 ---> 애매모호하면 error 발생"
   ]
  },
  {
   "cell_type": "markdown",
   "id": "italian-establishment",
   "metadata": {},
   "source": [
    "```cpp\n",
    "int func(int a){ ... }\n",
    "int func(int a, int b = 10){ ... }\n",
    "\n",
    "int result = func(10) // error가 발생함\n",
    "```"
   ]
  },
  {
   "cell_type": "markdown",
   "id": "hindu-diesel",
   "metadata": {},
   "source": [
    "# 인라인(inline) 함수"
   ]
  },
  {
   "cell_type": "markdown",
   "id": "hungry-minister",
   "metadata": {},
   "source": [
    "## Macro 함수 "
   ]
  },
  {
   "cell_type": "markdown",
   "id": "raising-watts",
   "metadata": {},
   "source": [
    "`-` 매크로 함수의 장점: 일반적인 함수에 비해 실행 속도가 빠름"
   ]
  },
  {
   "cell_type": "markdown",
   "id": "structural-clear",
   "metadata": {},
   "source": [
    "```cpp\n",
    "#include <iostream>\n",
    "#define square(x) ((x) * (x)) // 매크로 함수 // 자료형에 독립적\n",
    "\n",
    "int main(){\n",
    "    std::cout << square(5) << std::endl;\n",
    "    return 0;\n",
    "}\n",
    "// 코드 전처리 후(inline화)\n",
    "int main(){\n",
    "    std::cout << ((5) * (5)) << std::endl;\n",
    "    return 0;\n",
    "}\n",
    "```"
   ]
  },
  {
   "cell_type": "markdown",
   "id": "productive-behavior",
   "metadata": {},
   "source": [
    "`-` 매크로 함수가 전처리기에 의해 호출부분이 함수의 몸체를 대체함(inline화 되었다고 표현)"
   ]
  },
  {
   "cell_type": "markdown",
   "id": "built-slovenia",
   "metadata": {},
   "source": [
    "## Inline 함수\n",
    "\n",
    "`-` 복잡한 함수를 매크로의 형태로 정의하는데 한계가 있음\n",
    "\n",
    "`-` inline함수는 무조건 되는건 아니고 조건부임\n",
    "\n",
    "`-` c++에서는 성능에 도움이 될지 컴파일러가 파악하여 inline화 할지 말지 결정함"
   ]
  },
  {
   "cell_type": "markdown",
   "id": "alert-queensland",
   "metadata": {},
   "source": [
    "```cpp\n",
    "#include <iostream>\n",
    "\n",
    "inline int square(int x){\n",
    "    return x * x;\n",
    "}\n",
    "int main(){\n",
    "    std::cout << square(5) << std::endl;\n",
    "    return 0;\n",
    "}\n",
    "```"
   ]
  },
  {
   "cell_type": "markdown",
   "id": "induced-roller",
   "metadata": {},
   "source": [
    "## 매크로 함수 vs 인라인 함수 "
   ]
  },
  {
   "cell_type": "markdown",
   "id": "varying-heather",
   "metadata": {},
   "source": [
    "`-` 매크로 함수는 자료형에 독립적임!\n",
    "\n",
    "`-` 인라인 함수는 각 자료형 별로 함수 오버로딩을 해줘야 함 ---> 템플릿을 배우면 단점 보완 가능"
   ]
  },
  {
   "cell_type": "markdown",
   "id": "sitting-robert",
   "metadata": {},
   "source": [
    "```cpp\n",
    "#include <iostream>\n",
    "\n",
    "inline int square(int x){\n",
    "    return x * x;\n",
    "}\n",
    "int main(){\n",
    "    std::cout << square(5) << std::endl;\n",
    "    return 0;\n",
    "}\n",
    "```"
   ]
  },
  {
   "cell_type": "markdown",
   "id": "working-therapist",
   "metadata": {},
   "source": [
    "`-` 위 코드는 int형에 대해서만 성립하므로 또 다른 자료형에 대해 함수 오버로딩을 해줘야 함\n",
    "\n",
    "`-` double형에 대해서도 사용하고 싶다면?"
   ]
  },
  {
   "cell_type": "markdown",
   "id": "increasing-glance",
   "metadata": {},
   "source": [
    "```cpp\n",
    "#include <iostream>\n",
    "\n",
    "inline double square(int x){\n",
    "    return x * x;\n",
    "}\n",
    "int main(){\n",
    "    std::cout << square(5) << std::endl;\n",
    "    return 0;\n",
    "}\n",
    "```"
   ]
  },
  {
   "cell_type": "markdown",
   "id": "oriented-september",
   "metadata": {},
   "source": [
    "`-` 위 처럼 해야 int형 말고 double 형에 대해서도 square 함수를 사용할 수 있음"
   ]
  },
  {
   "cell_type": "markdown",
   "id": "regional-bottom",
   "metadata": {},
   "source": [
    "# 이름공간(namespace)\n",
    "\n",
    "`-` 여러 사람들과 협업 개발을 하다보면 식별자(변수명, 함수명)등이 중복될 수 있음\n",
    "\n",
    "`-` 이러한 경우 어떠한 사람이 정의한 식별자인지 명시를 해서 중복을 피함"
   ]
  },
  {
   "cell_type": "markdown",
   "id": "divided-baseline",
   "metadata": {},
   "source": [
    "## 이름공간의 기본 원리\n",
    "\n",
    "`-` 이름공간 = 집\n",
    "\n",
    "`-` 한 집에 “펭수”라는 이름을 가지는 사람이 두 명있다면 “펭수야” 했을 때 누굴 부르는지 알 수가 없음\n",
    "\n",
    "`-`  만약 살고 있는 집이 다르면 구분 할 수 있음 ---> ex) 201호에 사는 “펭수” $\\neq$ 202호 사는 “펭수”"
   ]
  },
  {
   "cell_type": "markdown",
   "id": "contrary-thing",
   "metadata": {},
   "source": [
    "## 이름공간 예시 "
   ]
  },
  {
   "cell_type": "markdown",
   "id": "leading-merchandise",
   "metadata": {},
   "source": [
    "`-` 선언: `namespace 이름공간`\n",
    "    \n",
    "`-` 사용: `이름공간 :: 함수/변수`\n",
    "\n",
    "`-` 이름공간은 중첩도 가능함"
   ]
  },
  {
   "cell_type": "markdown",
   "id": "surprised-surrey",
   "metadata": {},
   "source": [
    "```cpp\n",
    "#include <iostream>\n",
    "namespace BestComImpl{\n",
    "    void func(){\n",
    "        std::cout << \"Implemented by BestCom\" << std::endl;\n",
    "    }\n",
    "}  \n",
    "\n",
    "namespace ProgComImpl{\n",
    "    void func(){\n",
    "        std::cout << \"Implemented by ProgCom\" << std::endl;\n",
    "    }\n",
    "}  \n",
    "\n",
    "int main(){\n",
    "    BestComImpl::func();  \n",
    "    ProgComImpl::func();  \n",
    "    return 0;\n",
    "}\n",
    "```"
   ]
  },
  {
   "cell_type": "markdown",
   "id": "olive-devices",
   "metadata": {},
   "source": [
    "## 이름공간 기반의 함수 선언/정의 분리\n",
    "\n",
    "`-` 상단에 이름공간의 함수 선언하고 하단에 해당 함수의 정의 기술"
   ]
  },
  {
   "cell_type": "markdown",
   "id": "jewish-parcel",
   "metadata": {},
   "source": [
    "```cpp\n",
    "#include <iostream>\n",
    "namespace BestComImpl{      // 이름공간내에 함수 선언\n",
    "    void func();            \n",
    "}\n",
    "\n",
    "int main(){\n",
    "    BestComImpl::func();\n",
    "    return 0;\n",
    "}\n",
    "\n",
    "void BestComImpl::func(){    // BestComImpl의 이름공간의 func() 구현\n",
    "    std::cout << \"Implemented by BestCom\" << std::endl;\n",
    "}\n",
    "```"
   ]
  },
  {
   "cell_type": "markdown",
   "id": "minus-level",
   "metadata": {},
   "source": [
    "## 동일한 이름공간 내에서 함수 호출"
   ]
  },
  {
   "cell_type": "markdown",
   "id": "organic-language",
   "metadata": {},
   "source": [
    "`-` 선언된 이름공간의 이름이 동일하면 동일한 것으로 간주함"
   ]
  },
  {
   "cell_type": "markdown",
   "id": "major-infrared",
   "metadata": {},
   "source": [
    "```cpp\n",
    "namespace BestComImpl{\n",
    "    void func1();\n",
    "}\n",
    "\n",
    "namespace BestComImpl{\n",
    "    void func2();\n",
    "}\n",
    "```"
   ]
  },
  {
   "cell_type": "markdown",
   "id": "descending-healing",
   "metadata": {},
   "source": [
    "`-` 위 코드는 아래와 같음"
   ]
  },
  {
   "cell_type": "markdown",
   "id": "hybrid-scale",
   "metadata": {},
   "source": [
    "```cpp\n",
    "namespace BestComImpl{\n",
    "    void func1();\n",
    "    void func2();\n",
    "```"
   ]
  },
  {
   "cell_type": "markdown",
   "id": "saving-swing",
   "metadata": {},
   "source": [
    "`-` 이름공간을 명시하지 않고 함수를 호출한 경우 ---> 함수 호출문이 존재하는 동일한 이름공간안에서 호출 함수를 찾음\n",
    "\n",
    "`-` func2()함수를 BestComImpl 이름공간안에서 찾는다 ---> 위에서 정의했으므로 존재함"
   ]
  },
  {
   "cell_type": "markdown",
   "id": "oriental-cedar",
   "metadata": {},
   "source": [
    "```cpp\n",
    "void BestComImpl::func(){\n",
    "    std::cout << \"Implemented by BestCom\" << std::endl;\n",
    "    func2(); // in the same namespace\n",
    "    ProgComImpl::func(); // in the ProgComImpl's space\n",
    "}\n",
    "```"
   ]
  },
  {
   "cell_type": "markdown",
   "id": "ordered-provision",
   "metadata": {},
   "source": [
    "## std의 비밀 "
   ]
  },
  {
   "cell_type": "markdown",
   "id": "married-seeker",
   "metadata": {},
   "source": [
    "`-` `<iostream>` 에 선언되어 있는 `cout/cin/endl` 등은 `이름공간 std`안에 선언되어 있음!\n",
    "\n",
    "`-` `std는 이름공간 이었음!!`\n",
    "\n",
    "```cpp\n",
    "namespace std {\n",
    "...\n",
    "    extern istream cin; /// Linked to standard input\n",
    "    extern ostream cout; /// Linked to standard output\n",
    "...\n",
    "}\n",
    "```"
   ]
  },
  {
   "cell_type": "markdown",
   "id": "expired-burlington",
   "metadata": {},
   "source": [
    "## using을 이용한 이름공간의 명시\n",
    "\n",
    "`-` 자주 활용되는 이름공간은 using을 이용해 축약할 수 있음 ---> 파이썬에도 있음\n",
    "\n",
    "`-` from math import sqrt ---> math.sqrt 대신 sqrt를 사용!"
   ]
  },
  {
   "cell_type": "markdown",
   "id": "cooked-strengthening",
   "metadata": {},
   "source": [
    "```cpp\n",
    "#include <iostream>\n",
    "\n",
    "using std::cin;\n",
    "using std::cout;\n",
    "using std::endl;\n",
    "        \n",
    "int main(){\n",
    "    int num;\n",
    "    cin >> num;\n",
    "    cout << num << endl;\n",
    "    return 0;\n",
    "}\n",
    "```\n",
    "`-` 이후 부터 cin/cout/endl은 std::cin, std::cout, std::endl을 의미한다는 선언"
   ]
  },
  {
   "cell_type": "markdown",
   "id": "antique-truck",
   "metadata": {},
   "source": [
    "```cpp\n",
    "#include <iostream>\n",
    "using namespace std;\n",
    "\n",
    "int main(){\n",
    "    int num;\n",
    "    cin >> num;\n",
    "    cout << num << endl;\n",
    "    return 0;\n",
    "}\n",
    "```\n",
    "\n",
    "`-` 이름공간 std에 선언된 것은 std라는 이름공간의 선언없이 접근하겠다는 선언"
   ]
  },
  {
   "cell_type": "markdown",
   "id": "ancient-associate",
   "metadata": {},
   "source": [
    "## 이름공간의 별칭 지정 & 전역변수 접근 "
   ]
  },
  {
   "cell_type": "markdown",
   "id": "radical-given",
   "metadata": {},
   "source": [
    "`-` 이름공간 별칭 지정 방법"
   ]
  },
  {
   "cell_type": "markdown",
   "id": "simplified-damages",
   "metadata": {},
   "source": [
    "```cpp\n",
    "#include <iostream>\n",
    "using namespace std;\n",
    "\n",
    "namespace AAA {\n",
    "    namespace BBB {\n",
    "        namespace CCC {\n",
    "            int num1;\n",
    "            int num2;\n",
    "        }\n",
    "    }\n",
    "}\n",
    "\n",
    "int main(){\n",
    "    AAA::BBB::CCC::num1 = 20;\n",
    "    AAA::BBB::CCC::num1 = 30;\n",
    "    \n",
    "    namespace ABC = AAA::BBB:::CCC; // 이름공간이 너무 중첩됐을 때 별칭을 지정하여 쉽게 접근할 수 있다\n",
    "    cout << ABC::num1 << endl;\n",
    "    cout << ABC::num2 << endl;\n",
    "    \n",
    "    return 0;\n",
    "}\n",
    "```"
   ]
  },
  {
   "cell_type": "markdown",
   "id": "portable-leather",
   "metadata": {},
   "source": [
    "`-` :: 연산자는 전역변수 접근에도 사용 가능\n",
    "\n",
    "`-` 전연벽수는 이름공간이 없음 ---> 이름공간이 없는 이름공간이 전연벽수가 존재하는 이름공간\n",
    "        \n",
    "```cpp\n",
    "int val = 100;\n",
    "int func(){\n",
    "    int val = 20; // 지역변수\n",
    "    val += 3; // 지역변수 val의 값 3 증가\n",
    "    ::val += 7; // 전역변수 val의 값 7 증가\n",
    "}\n",
    "```"
   ]
  },
  {
   "cell_type": "markdown",
   "id": "adverse-wheat",
   "metadata": {},
   "source": [
    "# Bool 자료형"
   ]
  },
  {
   "cell_type": "markdown",
   "id": "departmental-cancellation",
   "metadata": {},
   "source": [
    "`-` True/False: 참/거짓을 의미하는 1 byte 데이터\n",
    "\n",
    "`-` int가 와야 할 위치에 오게 되면 각각 1/0으로 변환 (int num1 = true;) ---> num1 => 1\n",
    "\n",
    "`-` while(true) 또는 if(true)와 같이 활용 가능\n",
    "\n",
    "`-` sizeof(1)은 4이지만 sizeof(true)는 1이다\n",
    "\n",
    "`-` bool name = true or false; ---> bool은 자료 타입\n",
    "\n",
    "```cpp\n",
    "bool is_pos(int num){\n",
    "    return num >= 0;\n",
    "} // 함수의 반환형이 bool이므로 비교 결과가 true or false가 된다 // 비교문구 ---> predicate\n",
    "```"
   ]
  },
  {
   "cell_type": "markdown",
   "id": "attempted-conversation",
   "metadata": {},
   "source": [
    "# 참조자(reference)"
   ]
  },
  {
   "cell_type": "markdown",
   "id": "demographic-weapon",
   "metadata": {},
   "source": [
    "## 참조자의 이해\n",
    "\n",
    "`-` `참조자 (reference)`는 기존에 선언된 변수에 붙이는 `별칭` ---> 파이썬에서 b = a = [1, 2, 3] 일때 이 코드의 의미를 알면 참조자도 이해 가능\n",
    "\n",
    "`-` `& (ampersand)`를 이용해서 `참조자 선언`\n",
    "\n",
    "```cpp\n",
    "int &num2 = num1;  // num2는 참조자라고함\n",
    "int& num2 = num1;  // 두 방법 모두 가능\n",
    "```\n",
    "\n",
    "`-` 참조자의 선언으로 num1의 메모리 공간에 num2이라는 별칭이 추가로 붙음\n",
    "\n",
    "`-` num2를 통해 num1을 조작가능 ---> 참조자 값의 변경 = 원래 변수 값의 변경 ---> num2와 num1의 메모리 주소가 같으니까\n"
   ]
  },
  {
   "cell_type": "markdown",
   "id": "working-appliance",
   "metadata": {},
   "source": [
    "## 참조자 선언 "
   ]
  },
  {
   "cell_type": "markdown",
   "id": "macro-exploration",
   "metadata": {},
   "source": [
    "`-` 참조자의 수에는 제한이 없고 참조자를 대상으로 다른 참조자를 선언하는 것도 가능\n",
    "\n",
    "```cpp\n",
    "int num1 = 2021;\n",
    "int& num2 = num1;\n",
    "int& num3 = num2;\n",
    "int& num4 = num3; // 모두 동일한 메모리 공간을 가리키고 있음\n",
    "```"
   ]
  },
  {
   "cell_type": "markdown",
   "id": "rapid-comparative",
   "metadata": {},
   "source": [
    "## 참조자의 선언 가능 범위"
   ]
  },
  {
   "cell_type": "markdown",
   "id": "statistical-final",
   "metadata": {},
   "source": [
    "`-` 참조자는 선언과 동시에 누군가를 참조해야 함\n",
    "\n",
    "`-`  기본적으로 참조의 대상은 변수\n",
    "\n",
    "`-`  참조자가 선언되면 참조의 대상 변경 불가 ---> but 포인터는 대상 변경 가능"
   ]
  },
  {
   "cell_type": "markdown",
   "id": "spare-stopping",
   "metadata": {},
   "source": [
    "### 불가능한 참조자 선언의 예 "
   ]
  },
  {
   "cell_type": "markdown",
   "id": "behavioral-portsmouth",
   "metadata": {},
   "source": [
    "`-` 상수 대상으로의 참조자 선언은 불가능함!\n",
    "```cpp\n",
    "int& ref = 20; ⇐ error!\n",
    "```\n",
    "`-` 참조자는 생성과 동시에 누군가를 참조해야 함! ---> but 포인터는 변수 선언 후 참조 대상 지정 가능\n",
    "```cpp\n",
    "int& ref; ⇐ error!\n",
    "```\n",
    "`-` NULL로 초기화하는 것도 불가능 (NULL = 0)! ---> but 포인터는 NULL로 초기화 가능\n",
    "```cpp\n",
    "int& ref = NULL; ⇐ error!\n",
    "```"
   ]
  },
  {
   "cell_type": "markdown",
   "id": "circular-software",
   "metadata": {},
   "source": [
    "## 함수의 매개변수(parameter or argument)"
   ]
  },
  {
   "cell_type": "markdown",
   "id": "seven-mambo",
   "metadata": {},
   "source": [
    "`-` 함수의 입력과 관계 되는 변수를 매개변수라고 함\n",
    "\n",
    "`-` Formal parameter: 함수 선언부에 있는 변수\n",
    "\n",
    "`-` Actual parameter: 함수 호출에 쓰인 변수\n",
    "\n",
    "```cpp\n",
    "int func(int a, int b){      // a와 b는 formal parameters\n",
    "    return a + b;\n",
    "    }\n",
    "int main(){\n",
    "    int num1 = 1, num2 = 5;\n",
    "    int ret = func(num1, num2);  // num1과 num2는 actual parameters\n",
    "    return 0;\n",
    "}\n",
    "```"
   ]
  },
  {
   "cell_type": "markdown",
   "id": "coated-perception",
   "metadata": {},
   "source": [
    "## 매개변수에 의한 함수 호출 방식\n",
    "\n",
    "```cpp\n",
    "int a = 10;\n",
    "int *p = &a;\n",
    "int &b = a;\n",
    "```\n",
    "\n",
    "`-` a의 주소를 1000이라 해보자 ---> &a = 1000\n",
    "\n",
    "`-` &a = &b = p 이고 포인터 자체도 변수이므로 메모리 주소가 있음 ---> &p = 1004라고 해보자\n",
    "\n",
    "`-` 포인터 변수에는 a의 주소가 저장됨 ---> 간접참조연산자(*)를 통해 a의 원본에 접근\n",
    "\n",
    "`-` 참조자 변수의 메모리 주소는 원본의 메모리 주소와 같음 ---> 포인터와의 차이점\n",
    "\n",
    "`-` 메모리 주소가 같으므로 원본이라 생각하고 사용하면 됨\n",
    "\n",
    "`-` 즉 포인터는 자신의 메모리 주소가 따로 있고 포인터 변수에 원본의 `주소`가 저장되어 있어 `*`를 통해 원본에 접근\n",
    "\n",
    "`-` 하지만 참조자는 자신의 메모리 주소가 원본의 메모리 주소와 같으므로 그럴필요 없이 원본이라 생각하고 사용하면 됨"
   ]
  },
  {
   "cell_type": "markdown",
   "id": "prepared-pickup",
   "metadata": {},
   "source": [
    "### Call by value (값에 의한 함수 호출)\n",
    "\n",
    "`-` 함수 호출 시 actual parameters의 값을 “복사”해서 formal parameters로 전달\n",
    "\n",
    "`-` 함수 내에서 formal parameter를 변경해도 actual parameter에는 변화 없음!\n",
    "\n",
    "`-` 복사에 따른 비용 발생 (copy cost)"
   ]
  },
  {
   "cell_type": "markdown",
   "id": "seeing-gallery",
   "metadata": {},
   "source": [
    "#### Call by value 예제 "
   ]
  },
  {
   "cell_type": "markdown",
   "id": "distributed-insurance",
   "metadata": {},
   "source": [
    "```cpp\n",
    "\n",
    "int func(int x, int y){\n",
    "    x = 20;\n",
    "    y = 10;\n",
    "    return x + y;\n",
    "}\n",
    "\n",
    "int main(){\n",
    "    int x = 10;\n",
    "    int y = 20;\n",
    "    int ret = func(x, y);   // call-by-value!\n",
    "    cout << x << \" \" << y << endl;\n",
    "    return 0;\n",
    "}\n",
    "```\n",
    "\n",
    "`-` Actual parameter와 formal parameter는 다른 메모리 공간에 할당됨!\n",
    "\n",
    "`-` 따라서 formal parameter의 값을 바꿔도 actual parameter에는 변화 없음"
   ]
  },
  {
   "cell_type": "markdown",
   "id": "selected-france",
   "metadata": {},
   "source": [
    "### Call by reference (참조에 의한 함수 호출)\n",
    "\n",
    "`-` 함수 호출 시 actual parameters 자체를 formal parameters로 전달\n",
    "\n",
    "`-` formal parameters를 변경하면 actual parameters도 변경됨!\n",
    "\n",
    "`-` C에서는 참조자와 같은 개념이 없어서 포인터를 이용해 call by reference를 수행\n",
    "\n",
    "`-` C++에서는 포인터와 참조자 두 가지 방식으로 call by reference 수행 가능"
   ]
  },
  {
   "cell_type": "markdown",
   "id": "turkish-sudan",
   "metadata": {},
   "source": [
    "#### Call by Reference (Using Pointer)"
   ]
  },
  {
   "cell_type": "markdown",
   "id": "abandoned-giving",
   "metadata": {},
   "source": [
    "```cpp\n",
    "int func(int *ptr1, int *ptr2){\n",
    "    *ptr1 = 20;  // 주소가 넘어감\n",
    "    *ptr2 = 10;\n",
    "    return *ptr1 + *ptr2;\n",
    "}\n",
    "\n",
    "int main(){\n",
    "    int x = 10;\n",
    "    int y = 20;\n",
    "    int ret = func(&x, &y);\n",
    "    cout << x << \" \" << y << endl;\n",
    "    return 0;\n",
    "}\n",
    "```\n",
    "`-` Actual parameter와 formal parameter가 같은 곳을 가리키고 있음!\n",
    "    \n",
    "`-` 따라서 formal parameter가 actual parameter를 바꿀 수 있음!"
   ]
  },
  {
   "cell_type": "markdown",
   "id": "spiritual-consumer",
   "metadata": {},
   "source": [
    "#### Call by Reference (C++)\n",
    "\n",
    "`-` 함수 선언시 formal parameters를 참조자 (reference)로 선언\n",
    "\n",
    "`-` Formal parameter는 함수가 호출될 때 선언이 됨\n",
    "\n",
    "`-` 함수 호출의 과정에서 선언과 동시에 actual parameter가 전달되어 초기화 됨"
   ]
  },
  {
   "cell_type": "markdown",
   "id": "swiss-mexican",
   "metadata": {},
   "source": [
    "```cpp\n",
    "int func(int &a, int &b){     // Formal parameters가 참조자\n",
    "    a = 20;\n",
    "    b = 10;\n",
    "    return a + b;\n",
    "}\n",
    "\n",
    "int main(){\n",
    "    int x = 10;\n",
    "    int y = 20;\n",
    "    int ret = func(x, y);  // call-by-reference\n",
    "    cout << x << \" \" << y << endl;\n",
    "    return 0;\n",
    "}\n",
    "```"
   ]
  },
  {
   "cell_type": "markdown",
   "id": "fourth-taste",
   "metadata": {},
   "source": [
    "## Const Reference"
   ]
  },
  {
   "cell_type": "markdown",
   "id": "solved-sheep",
   "metadata": {},
   "source": [
    "### const 의미 "
   ]
  },
  {
   "cell_type": "markdown",
   "id": "bigger-friday",
   "metadata": {},
   "source": [
    "`-` const가 어떤 변수에 붙으면 그 변수를 상수로 만듦\n",
    "\n",
    "`-` 초기화 이후에는 변경을 허용하지 않는 것을 의미"
   ]
  },
  {
   "cell_type": "markdown",
   "id": "casual-breast",
   "metadata": {},
   "source": [
    "### const reference\n",
    "`-` 함수의 매개변수 참조자에 const를 붙인 것\n",
    "\n",
    "`-` 전달 받은 매개변수를 함수에 의해 변경되지 않도록 하기 위해 사용\n",
    "\n",
    "`-` 함수의 원형 선언만 봐도 값의 변경이 일어나지 않는다고 판단 할 수 있음!\n",
    "\n",
    "`-` 참조자를 사용하는 건 원본에 접근해 변경하려는 것인데 const를 붙일 거면 그냥 참조자를 쓰지 말지??\n",
    "\n",
    "`-` Copy cost를 피하고 값 변경 없이 함수 내부에서 사용만 하고 싶을 때 const reference 사용\n",
    "\n",
    "`-` 배열을 담은 구조체를 call by value로 전달하면 copy cost가 발생\n",
    "\n",
    "`-` 이를 피하기 위해 별칭을 넘겨주되 변경은 허용하지 않는 것"
   ]
  },
  {
   "cell_type": "markdown",
   "id": "hawaiian-antique",
   "metadata": {},
   "source": [
    "## 반환형이 참조형인 경우"
   ]
  },
  {
   "cell_type": "markdown",
   "id": "reduced-princeton",
   "metadata": {},
   "source": [
    "`-` 함수의 반환형에도 참조형 (reference type)이 될 수 있음\n",
    "\n",
    "`-` 반환 받는 변수형이 참조형이면 같은 변수를 가리킴\n",
    "\n",
    "`-` 반환 받는 변수형이 참조형이 아니면 다른 메모리 주소에 값이 저장됨"
   ]
  },
  {
   "cell_type": "markdown",
   "id": "thousand-sheffield",
   "metadata": {},
   "source": [
    "## 잘못된 참조의 반환\n",
    "\n",
    "`-` 지역변수를 참조의 형태로 반환하고 참조로 받는 경우"
   ]
  },
  {
   "cell_type": "markdown",
   "id": "binding-breakdown",
   "metadata": {},
   "source": [
    "## 참조자의 특징 "
   ]
  },
  {
   "cell_type": "markdown",
   "id": "genetic-symbol",
   "metadata": {},
   "source": [
    "### 상수화된 변수 (const)의 참조자가 필요한 경우\n",
    "\n",
    "```cpp\n",
    "const int num = 20;\n",
    "int &ref = num; // error\n",
    "const int &ref = num; // ok\n",
    "```"
   ]
  },
  {
   "cell_type": "markdown",
   "id": "charged-thickness",
   "metadata": {},
   "source": [
    "### const 참조자에 상수도 대입 가능\n",
    "```cpp\n",
    "const int &ref = 20; // ok\n",
    "```"
   ]
  },
  {
   "cell_type": "markdown",
   "id": "stretch-politics",
   "metadata": {},
   "source": [
    "# 동적 메모리 할당 & 해제"
   ]
  },
  {
   "cell_type": "markdown",
   "id": "neutral-infection",
   "metadata": {},
   "source": [
    "## 메모리 동적할당이란?\n",
    "`-` 프로그램 실행 중에 사용할 메모리 공간을 필요한 만큼 할당하는 것\n",
    "\n",
    "`-` 사용 후에는 반드시 반환을 해야함 (동적해제)"
   ]
  },
  {
   "cell_type": "markdown",
   "id": "timely-drink",
   "metadata": {},
   "source": [
    "## C++ 메모리 동적할당/해제 용법 \n",
    "\n",
    "`-` new 연산자: 동적할당 ---> 클래스 변수 동적할당도 가능 (malloc은 안됨)\n",
    "\n",
    "`-` delete 연산자: 동적해제\n",
    "\n",
    "```cpp\n",
    "int* ptr1 = new int; // int형 변수 할당\n",
    "delete ptr1;  // int형 변수 해제\n",
    "\n",
    "int* arr1 = new int[3]; // 길이가 3인 int형 배열 항당\n",
    "delete []arr1;  // int형 배열 해제 // 다른 자료형과 달리 해제할 때 앞에 []를 붙여줘야 함\n",
    "```"
   ]
  },
  {
   "cell_type": "markdown",
   "id": "thorough-honolulu",
   "metadata": {},
   "source": [
    "# C++에서 C언어 표준 함수 호출"
   ]
  },
  {
   "cell_type": "markdown",
   "id": "elder-hopkins",
   "metadata": {},
   "source": [
    "`-` 헤더파일을 include할 때 c를 더하고 .h를 빼기"
   ]
  },
  {
   "cell_type": "code",
   "execution_count": null,
   "id": "possible-writing",
   "metadata": {},
   "outputs": [],
   "source": []
  }
 ],
 "metadata": {
  "kernelspec": {
   "display_name": "Python 3",
   "language": "python",
   "name": "python3"
  },
  "language_info": {
   "codemirror_mode": {
    "name": "ipython",
    "version": 3
   },
   "file_extension": ".py",
   "mimetype": "text/x-python",
   "name": "python",
   "nbconvert_exporter": "python",
   "pygments_lexer": "ipython3",
   "version": "3.8.8"
  }
 },
 "nbformat": 4,
 "nbformat_minor": 5
}
