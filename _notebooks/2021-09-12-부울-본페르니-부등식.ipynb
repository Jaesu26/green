{
 "cells": [
  {
   "cell_type": "markdown",
   "id": "opening-integration",
   "metadata": {},
   "source": [
    "# Boole's inequality and Bonferroni's inequality\n",
    "\n",
    "> \"작성 완료\"\n",
    "\n",
    "- toc: true\n",
    "- branch: master\n",
    "- badges: true\n",
    "- comments: true\n",
    "- author: 한재수\n",
    "- categories: [statistics, math]"
   ]
  },
  {
   "cell_type": "markdown",
   "id": "everyday-worker",
   "metadata": {},
   "source": [
    "# Boole's inequality"
   ]
  },
  {
   "cell_type": "markdown",
   "id": "fixed-accent",
   "metadata": {},
   "source": [
    "`-` Boole의 부등식: $P\\bigg(\\bigcup\\limits_{i=1}^{\\infty} A_i\\bigg) \\leq \\sum\\limits_{i=1}^{\\infty}P(A_i)$"
   ]
  },
  {
   "cell_type": "markdown",
   "id": "ancient-civilian",
   "metadata": {},
   "source": [
    "## Boole의 부등식 증명\n",
    "\n",
    "`-` $B_1=A_1,\\,B_2=A_2\\cap A^c_1,\\, \\cdots,\\,B_i = A_i\\cap\\bigg(\\bigcup\\limits_{j=1}^{i-1}A_j\\bigg)^c$\n",
    "\n",
    "`-` 사건 $B_i$는 사건 $A_i$에는 속하면서 사건 $A_j\\,(1 \\leq j <i$)에는 속하지 않는다\n",
    "\n",
    "`-` 그렇기에 $B_i$와 $B_j(i\\neq j)$는 서로 배반 사건임 ---> 배반 사건이므로 $P(\\cup B_i) = \\sum P(B_i)$\n",
    "\n",
    "`-` 그리고 $\\cup A_i=\\cup B_i$ 임을 알 수 있음\n",
    "\n",
    "`-` 또 $B_i \\subset A_i$ 이므로 $P(\\cup A_i)= P(\\cup B_i)= \\sum P(B_i) \\leq \\sum P(A_i)$ 가 성립한다"
   ]
  },
  {
   "cell_type": "markdown",
   "id": "turkish-township",
   "metadata": {},
   "source": [
    "# Bonferroni's inequality \n",
    "\n",
    "`-` Bonferroni의 부등식: $P\\bigg(\\bigcap\\limits^{k}_{i=1}A_i\\bigg)\\geq 1 - \\sum\\limits_{i=1}^{k}P(A_i^c)$"
   ]
  },
  {
   "cell_type": "markdown",
   "id": "fundamental-craps",
   "metadata": {},
   "source": [
    "## Bonferroni의 부등식 증명\n",
    "\n",
    "`-` 드 모르간의 법칙: $\\bigg(\\bigcap\\limits_{i=1}^{k}A_i\\bigg)^c = \\bigcup\\limits_{i=1}^{k}A^c_i\\longrightarrow \\bigcap\\limits_{i=1}^{k}A_i= \\bigg(\\bigcup\\limits_{i=1}^{k}A^c_i\\bigg)^c$\n",
    "\n",
    "- $P\\bigg(\\bigcap\\limits^{k}_{i=1}A_i\\bigg)\\geq 1 - \\sum\\limits_{i=1}^{k}P(A_i^c)\\qquad\\therefore\\bigcap\\limits_{i=1}^{k}A_i= \\bigg(\\bigcup\\limits_{i=1}^{k}A^c_i\\bigg)^c$\n",
    "\n",
    "- $P\\bigg(\\bigg(\\bigcup\\limits_{i=1}^{k}A^c_i\\bigg)^c\\bigg)\\geq 1 - \\sum\\limits_{i=1}^{k}P(A_i^c)\\qquad\\therefore P(A^c)=1-P(A)$\n",
    "\n",
    "- $1-P\\bigg(\\bigcup\\limits_{i=1}^{k}A^c_i\\bigg)\\geq 1 - \\sum\\limits_{i=1}^{k}P(A_i^c)$\n",
    "\n",
    "- $P\\bigg(\\bigcup\\limits_{i=1}^{k}A^c_i\\bigg)\\leq \\sum\\limits_{i=1}^{k}P(A_i^c)\\qquad\\therefore$ 식이 참이라면 절대부등식이므로 $A^c_i$ 대신 $A_i$ 사용해도 됨\n",
    "\n",
    "- $P\\bigg(\\bigcup\\limits_{i=1}^{k}A_i\\bigg)\\leq \\sum\\limits_{i=1}^{k}P(A_i)\\longrightarrow $ 이 식이 성립하는지 수학적 귀납법을 사용하여 증명하자"
   ]
  },
  {
   "cell_type": "markdown",
   "id": "interested-coating",
   "metadata": {},
   "source": [
    "`-` $k=1$일 때 $P(A_1) \\leq P(A_1)$이므로 성립한다\n",
    "\n",
    "`-` $k=n$일 때 성립한다 가정하고 $k=n+1$일 때도 성립하는지 확인하자\n",
    "\n",
    "- $P\\bigg(\\bigcup\\limits_{i=1}^{n+1}A_i\\bigg)= P\\bigg(\\bigg(\\bigcup\\limits_{i=1}^{n}A_i\\bigg)\\cup A_{n+1}\\bigg) \\\\= P\\bigg(\\bigcup\\limits_{i=1}^{n}A_i\\bigg)+P(A_{n+1})-P\\bigg(\\bigg(\\bigcup\\limits_{i=1}^{n}A_i\\bigg)\\cap A_{n+1}\\bigg)$ \n",
    "\n",
    "- $P\\bigg(\\bigcup\\limits_{i=1}^{n+1}A_i\\bigg) \\leq P\\bigg(\\bigcup\\limits_{i=1}^{n}A_i\\bigg) + P(A_{n+1})\\qquad\\therefore P\\bigg(\\bigg(\\bigcup\\limits_{i=1}^{n}A_i\\bigg)\\cap A_{n+1}\\bigg)\\geq 0$\n",
    "\n",
    "- $P\\bigg(\\bigcup\\limits_{i=1}^{n+1}A_i\\bigg) \\leq P\\bigg(\\bigcup\\limits_{i=1}^{n}A_i\\bigg) + P(A_{n+1})\\leq\\sum\\limits_{i=1}^{n}P(A_i)+P(A_{n+1})=\\sum\\limits_{i=1}^{n+1}P(A_i)$\n",
    "\n",
    "`-` 따라서 $k=n+1$일 때도 성립한다\n",
    "\n",
    "`-` 수학적 귀납법에 의해 모든 유한개의 사건 $k$에 대해 $P\\bigg(\\bigcap\\limits^{k}_{i=1}A_i\\bigg)\\geq 1 - \\sum\\limits_{i=1}^{k}P(A_i^c)$ 가 성립한다"
   ]
  },
  {
   "cell_type": "markdown",
   "id": "abroad-interview",
   "metadata": {},
   "source": [
    "`-` ref: https://dawoum.ddns.net/wiki/Boole%27s_inequality "
   ]
  },
  {
   "cell_type": "code",
   "execution_count": null,
   "id": "collaborative-people",
   "metadata": {},
   "outputs": [],
   "source": []
  }
 ],
 "metadata": {
  "kernelspec": {
   "display_name": "Python 3",
   "language": "python",
   "name": "python3"
  },
  "language_info": {
   "codemirror_mode": {
    "name": "ipython",
    "version": 3
   },
   "file_extension": ".py",
   "mimetype": "text/x-python",
   "name": "python",
   "nbconvert_exporter": "python",
   "pygments_lexer": "ipython3",
   "version": "3.8.8"
  }
 },
 "nbformat": 4,
 "nbformat_minor": 5
}
