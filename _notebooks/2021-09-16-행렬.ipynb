{
 "cells": [
  {
   "cell_type": "markdown",
   "id": "italian-forum",
   "metadata": {},
   "source": [
    "# 행렬(matrix)\n",
    "\n",
    "> \"작성 중\"\n",
    "\n",
    "- toc: true\n",
    "- branch: master\n",
    "- badges: true\n",
    "- comments: true\n",
    "- author: 한재수\n",
    "- categories: [math]"
   ]
  },
  {
   "cell_type": "markdown",
   "id": "silver-effect",
   "metadata": {},
   "source": [
    "`-` 참고 교재1 : SAS와 R을 활용한 선형회귀분석(자유아카데미) \n",
    "\n",
    "`-` 참고 교재2 : 통계수학강의(자유아카데미)"
   ]
  },
  {
   "cell_type": "markdown",
   "id": "outside-justice",
   "metadata": {},
   "source": [
    "`-` 행렬의 기초를 간단히 정리하자"
   ]
  },
  {
   "cell_type": "markdown",
   "id": "regional-principle",
   "metadata": {},
   "source": [
    "# 행렬\n",
    "\n",
    "`-` `벡터`와 `행렬`은 `볼드체`로 적어야 함\n",
    "\n",
    "`-` 행렬의 원소는 볼드체 사용 안함 ---> 행렬의 원소가 벡터 또는 행렬이면 볼드체 사용\n",
    "\n",
    "`-` 행렬의 기본인 벡터를 알고가자\n",
    "\n",
    "`-` 열벡터($\\boldsymbol{a}$) : $m\\times 1$ 행렬 ---> 보통 벡터라고 하면 열벡터임\n",
    "\n",
    "`-` 행벡터($\\boldsymbol{a'}$) : $1\\times n$ 행렬\n",
    "\n",
    "`-` 스칼라 : 원소가 하나인 행렬\n",
    "\n",
    "`-` ${\\bf 0}$ : 모든 원소가 $0$인 벡터\n",
    "\n",
    "`-` ${\\bf 1}$ : 모든 원소가 $1$인 벡터\n",
    "\n",
    "`-` $\\boldsymbol{e_i}$ : $i$번째 원소만 $1$이고 나머지 원소는 모두 $0$인 벡터"
   ]
  },
  {
   "cell_type": "markdown",
   "id": "stone-harassment",
   "metadata": {},
   "source": [
    "## 행렬의 종류\n",
    "\n",
    "`-` 행렬(matrix)은 다음과 같이 $m$ 개의 `행(row)` 과 $n$ 개의 `열(column)` 을 $mn$ 개의 숫자로 채운 모양"
   ]
  },
  {
   "cell_type": "markdown",
   "id": "respected-spotlight",
   "metadata": {},
   "source": [
    "$$\\boldsymbol{A} = \\begin{pmatrix}\n",
    "a_{11} & a_{12} & \\cdots & a_{1n}\\\\\n",
    "a_{21} & a_{22} & \\cdots & a_{2n}\\\\\n",
    "\\vdots & \\vdots & \\ddots & \\vdots\\\\\n",
    "a_{m1} & a_{m2} & \\cdots & a_{mn}\n",
    "\\end{pmatrix}$$"
   ]
  },
  {
   "cell_type": "markdown",
   "id": "superb-shuttle",
   "metadata": {},
   "source": [
    "`-` 정사각행렬(square matrix) : $m=n$ 인 행렬\n",
    "\n",
    "`-` 대각행렬(diagonal matrix, $\\boldsymbol{D}$) : 정사각행렬 중에 대각원소를 제외한 모든 원소가 $0$인 행렬\n",
    "\n",
    "`-` 단위행렬(identity matrix, $\\boldsymbol{I}$) : 대각행렬 중에 대각의 원소가 모두 $1$인 행렬 ---> $\\boldsymbol{I_m}$(차수가 $m$)\n",
    "\n",
    "`-` 위삼각행렬(upper triangular matrix) : 대각원소와 그 오른쪽 위의 원소를 제외한 나머지 원소는 모두 $0$인 행렬\n",
    "\n",
    "`-` 아래삼각행렬(lower triangular matrix) : 대각원소와 그 왼쪽 아래의 원소를 제외한 나머지 원소는 모두 $0$인 행렬\n",
    "\n",
    "`-` 전치행렬(transpose matrix) : 행과 열이 바뀐 행렬 ---> $m \\times n$ 행렬의 전치행렬은 $n \\times m$ 이 되고 {% raw %}$\\boldsymbol{A'}$ 또는 $A^T${% endraw %} 로 표현\n",
    "\n",
    "`-` 대칭행렬(symmetric matrix) : $\\boldsymbol{A = A^T}$"
   ]
  },
  {
   "cell_type": "markdown",
   "id": "still-offset",
   "metadata": {},
   "source": [
    "## 행렬의 연산 "
   ]
  },
  {
   "cell_type": "markdown",
   "id": "chief-garage",
   "metadata": {},
   "source": [
    "`-` 행렬의 덧셈 뺄셈은 교재 참고"
   ]
  },
  {
   "cell_type": "markdown",
   "id": "aquatic-alarm",
   "metadata": {},
   "source": [
    "### 행렬의 곱 "
   ]
  },
  {
   "cell_type": "markdown",
   "id": "paperback-feature",
   "metadata": {},
   "source": [
    "`-` 각 행렬은 행벡터 또는 열벡터로 `분할`될 수 있음\n",
    "\n",
    "`-` 행렬의 곱 $\\boldsymbol{AB}$ 는 행렬 $\\boldsymbol A$ 가 $m$ 개의 행벡터로 분할되어 있고 행렬 $\\boldsymbol B$ 가 $n$ 개의 열벡터로 분할되어 있다고 할 때 곱의 계산을 나타낸 것 ---> 교재 참고"
   ]
  },
  {
   "cell_type": "markdown",
   "id": "greater-agent",
   "metadata": {},
   "source": [
    "{% raw %}\n",
    "$$\\boldsymbol{AB}=\\begin{pmatrix} \n",
    "{\\boldsymbol{a_{1\\,\\cdot}}}\\,'\\\\ \n",
    "{\\boldsymbol{a_{2\\,\\cdot}}}\\,'\\\\ \n",
    "\\vdots\\\\\n",
    "{\\boldsymbol{a_{m\\,\\cdot}}}\\,'\n",
    "\\end{pmatrix}  \\big(\\boldsymbol{b_{\\,\\cdot \\,1}},\\, \\boldsymbol{b_{\\,\\cdot \\,2}},\\, \\cdots,\\, \\boldsymbol{b_{\\,\\cdot\\, n}}\\big) = \\begin{pmatrix}\n",
    "{\\boldsymbol{a_{1\\,\\cdot}}}\\,'\\boldsymbol{b_{\\,\\cdot \\,1}} & {\\boldsymbol{a_{1\\,\\cdot}}}\\,'\\boldsymbol{b_{\\,\\cdot \\,2}} & \\cdots & {\\boldsymbol{a_{1\\,\\cdot}}}\\,'\\boldsymbol{b_{\\,\\cdot \\,n}}\\\\\n",
    "{\\boldsymbol{a_{2\\,\\cdot}}}\\,'\\boldsymbol{b_{\\,\\cdot \\,1}} & {\\boldsymbol{a_{2\\,\\cdot}}}\\,'\\boldsymbol{b_{\\,\\cdot \\,2}} & \\cdots & {\\boldsymbol{a_{2\\,\\cdot}}}\\,'\\boldsymbol{b_{\\,\\cdot \\,n}}\\\\\n",
    "\\vdots & \\vdots & \\ddots & \\vdots\\\\\n",
    "{\\boldsymbol{a_{m\\,\\cdot}}}\\,'\\boldsymbol{b_{\\,\\cdot \\,1}} & {\\boldsymbol{a_{m\\,\\cdot}}}\\,'\\boldsymbol{b_{\\,\\cdot \\,2}} & \\cdots & {\\boldsymbol{a_{m\\,\\cdot}}}\\,'\\boldsymbol{b_{\\,\\cdot \\,n}}\n",
    "\\end{pmatrix}$$ \n",
    "{% endraw %}"
   ]
  },
  {
   "cell_type": "markdown",
   "id": "peripheral-holly",
   "metadata": {},
   "source": [
    "{% raw %}\n",
    "\n",
    "`-` ${\\boldsymbol{a_{1\\,\\cdot}}}\\,'\\boldsymbol{b_{\\,\\cdot \\,1}}$ 부터 ${\\boldsymbol{a_{m\\,\\cdot}}}\\,'\\boldsymbol{b_{\\,\\cdot \\,n}}$ 까지 각각은 스칼리임\n",
    "{% endraw %}"
   ]
  },
  {
   "cell_type": "markdown",
   "id": "ready-observer",
   "metadata": {},
   "source": [
    "`-` 위 식에서 행렬 $\\boldsymbol{A}$ 가 $p$ 개의 열벡터로 행렬 $\\boldsymbol{B}$ 가 $p$ 개의 행벡터로 분할되어 있다고 하자\n",
    "\n",
    "`-` 그러면 행렬의 곱 $\\boldsymbol{AB}$ 는  아래와 같이도 표현 가능함"
   ]
  },
  {
   "cell_type": "markdown",
   "id": "stuck-excuse",
   "metadata": {},
   "source": [
    "{% raw %}\n",
    "$$\\boldsymbol{AB}=\\big(\\boldsymbol{a_{\\,\\cdot \\,1}},\\, \\boldsymbol{a_{\\,\\cdot \\,2}},\\, \\cdots,\\, \\boldsymbol{a_{\\,\\cdot\\, p}}\\big) \\begin{pmatrix} \n",
    "{\\boldsymbol{b_{1\\,\\cdot}}}\\,'\\\\ \n",
    "{\\boldsymbol{b_{2\\,\\cdot}}}\\,'\\\\ \n",
    "\\vdots\\\\\n",
    "{\\boldsymbol{b_{p\\,\\cdot}}}\\,'\n",
    "\\end{pmatrix} = \\boldsymbol{a_{\\,\\cdot \\,1}}{\\boldsymbol{b_{1\\,\\cdot}}}\\,' + \\cdots + \\boldsymbol{a_{\\,\\cdot \\,p}}{\\boldsymbol{b_{p\\,\\cdot}}}\\,'$$ \n",
    "{% endraw %}"
   ]
  },
  {
   "cell_type": "markdown",
   "id": "formal-search",
   "metadata": {},
   "source": [
    "{% raw %}\n",
    "\n",
    "`-` $\\boldsymbol{a_{\\,\\cdot \\,1}}{\\boldsymbol{b_{1\\,\\cdot}}}\\,'$ 부터 $\\boldsymbol{a_{\\,\\cdot \\,p}}{\\boldsymbol{b_{p\\,\\cdot}}}\\,'$ 까지 각각은 $p \\times p$ 행렬임\n",
    "{% endraw %}"
   ]
  },
  {
   "cell_type": "markdown",
   "id": "owned-matthew",
   "metadata": {},
   "source": [
    "### 대각합(trace) \n",
    "\n",
    "`-` 정사각행렬의 특성을 나타내는 수치\n",
    "\n",
    "`-` 행렬의 대각원소의 합"
   ]
  },
  {
   "cell_type": "markdown",
   "id": "generic-airport",
   "metadata": {},
   "source": [
    "`-` $tr(\\boldsymbol{A}) = \\sum\\limits_{i=1}^{m}a_{ii}$"
   ]
  },
  {
   "cell_type": "markdown",
   "id": "composed-aluminum",
   "metadata": {},
   "source": [
    "#### 대각합의 성질\n",
    "\n",
    "`-` $tr(\\boldsymbol{A}) = tr(\\boldsymbol{A'})$\n",
    "\n",
    "`-` $tr(\\boldsymbol{AB}) = tr(\\boldsymbol{BA})$\n",
    "\n",
    "`-` 나머지는 간단하니 교재 참고"
   ]
  },
  {
   "cell_type": "markdown",
   "id": "second-sydney",
   "metadata": {},
   "source": [
    "## 역행렬 "
   ]
  },
  {
   "cell_type": "markdown",
   "id": "appointed-thursday",
   "metadata": {},
   "source": [
    "{% raw %}\n",
    "\n",
    "`-` 행렬식(determinant) : $\\begin{vmatrix}\\boldsymbol{A}\\end{vmatrix}$ or $det(\\boldsymbol{A})$\n",
    "\n",
    "`-` 행렬 $\\begin{vmatrix}\\boldsymbol{A}\\end{vmatrix}$ 가 $m\\times m$ 일 때 $|\\boldsymbol{A}|=\\sum\\limits_{i=1}^{m}(-1)^{i+1}a_{1i}\\begin{vmatrix}\\boldsymbol{M_{1i}}\\end{vmatrix}$\n",
    "\n",
    "`-` $\\boldsymbol{M_{ij}}$ 는 행렬 $\\boldsymbol{A}$ 에서 $i$ 번째 행과 $j$ 번째 열을 제외한 $(m-1)\\times(m-1)$ 부분행렬\n",
    "\n",
    "`-` $\\boldsymbol{A_{ij}} = (-1)^{i+j}\\boldsymbol{M_{ij}} \\longrightarrow \\boldsymbol{A_{ij}}$ 를 원소 $a_{ij}$ 의 `여인수`라고 함\n",
    "\n",
    "`-` 행렬 $\\boldsymbol{A}$ 의 역행렬의 $(i,j)$ 번째 원소 $\\boldsymbol{{(A^{-1})}_{ij}} = \\cfrac{1}{\\begin{vmatrix}\\boldsymbol{A}\\end{vmatrix}}(-1)^{i+j}\\begin{vmatrix}\\boldsymbol{M_{ij}}\\end{vmatrix}$\n",
    "\n",
    "`-` 대각행렬, 위삼각행렬, 아래삼각행렬의 행렬식은 대각선 원소들의 곱\n",
    "\n",
    "`-` 특이행렬(singular matrix) : 행렬식이 $0$인 행렬\n",
    "\n",
    "`-` 정칙행렬(nonsingular matrix) : 행렬식이 $0$이 아닌 행렬\n",
    "\n",
    "{% endraw %}"
   ]
  },
  {
   "cell_type": "markdown",
   "id": "mediterranean-rochester",
   "metadata": {},
   "source": [
    "### 행렬식의 성질"
   ]
  },
  {
   "cell_type": "markdown",
   "id": "indie-reconstruction",
   "metadata": {},
   "source": [
    "`-` 스칼라 $\\alpha$ 와 $m\\times m$ 행렬 $\\boldsymbol{A,B}$ 에 대하여 다음이 성립\n",
    "{% raw %}\n",
    "\n",
    "1. $det(\\boldsymbol{A}) = det(\\boldsymbol{A'})$\n",
    "\n",
    "2. $det(\\alpha\\boldsymbol{A}) = \\alpha^{m}(det(\\boldsymbol{A}))$\n",
    "\n",
    "3. $\\boldsymbol{A}$ 가 대각행렬이면 $det(\\boldsymbol{A}) = a_{11}\\times a_{22}\\times \\cdots \\times a_{mm}$\n",
    "\n",
    "4. 행렬 $det(\\boldsymbol{AB}) = det(\\boldsymbol{A})\\times det(\\boldsymbol{B})$\n",
    "\n",
    "5. 정사각행렬 $\\boldsymbol{P, \\,Q}$ 에 대하여 $\\begin{vmatrix}\\begin{pmatrix}\n",
    "\\boldsymbol{P} & \\boldsymbol{0} \\\\\n",
    "\\boldsymbol{X} & \\boldsymbol{Q}\n",
    "\\end{pmatrix}\\end{vmatrix} = \\begin{vmatrix}\\boldsymbol{P}\\end{vmatrix}\\cdot\\begin{vmatrix}\\boldsymbol{Q}\\end{vmatrix}$\n",
    "\n",
    "{% endraw %}"
   ]
  },
  {
   "cell_type": "markdown",
   "id": "sorted-project",
   "metadata": {},
   "source": [
    "### $n$ 차 연립방정식의 해"
   ]
  },
  {
   "cell_type": "markdown",
   "id": "indie-gauge",
   "metadata": {},
   "source": [
    "{% raw %}\n",
    "`-` $n$ 개의 미지수 $(x_1,x_2,\\cdots,_n)'=x$에 대하여 $n$ 차 연립방정식을 생각해보자\n",
    "\n",
    "$$a_{11}x_1 + a_{12}x_2+\\cdots+a_{1n}x_n=d_1\\\\\n",
    "a_{21}x_1 + a_{22}x_2+\\cdots+a_{2n}x_n=d_2\\\\\n",
    "\\quad\\vdots\\\\\n",
    "a_{n1}x_1 + a_{n2}x_2+\\cdots+a_{nn}x_n=d_n$$\n",
    "\n",
    "`-` 위의 $n$ 차 연립방정식은 다음과 같이 표현이 가능 $\\to \\boldsymbol{Ax} = \\boldsymbol{d}$ \n",
    "\n",
    "`-` 만약 $\\boldsymbol{A^-1}$이 존재하면 $\\boldsymbol{A^{-1}Ax} = \\boldsymbol{A^{-1}d}\\Longrightarrow\\boldsymbol{x} = \\boldsymbol{A^{-1}d}$\n",
    "{% endraw %}"
   ]
  },
  {
   "cell_type": "markdown",
   "id": "wooden-conspiracy",
   "metadata": {},
   "source": [
    "### 역행렬의 성질 "
   ]
  },
  {
   "cell_type": "markdown",
   "id": "agricultural-protein",
   "metadata": {},
   "source": [
    "`-` 스칼라 $\\alpha$ 와 $m\\times m$ 정칙행렬 $\\boldsymbol{A,B}$ 에 대하여 다음을 만족\n",
    "{% raw %}\n",
    "1. $(\\alpha\\boldsymbol{A})^{\\boldsymbol{-1}}=\\alpha^{-1}\\boldsymbol{A^{-1}}$\n",
    "\n",
    "2. $(\\boldsymbol{A'})^{\\boldsymbol{-1}}=(\\boldsymbol{A^{-1}})'$\n",
    "\n",
    "3. $\\begin{vmatrix}\\boldsymbol{A^{-1}}\\end{vmatrix}=\\begin{vmatrix}\\boldsymbol{A}\\end{vmatrix}^{-1}$\n",
    "\n",
    "4. $\\boldsymbol{A} = diag(a_{11},a_{22},\\cdots,a_{mm}) \\Longrightarrow \\boldsymbol{A^{-1}} = diag(a_{11}^{\\,-1},a_{22}^{\\,-1},\\cdots,a_{mm}^{\\,-1})$\n",
    "\n",
    "5. $(\\boldsymbol{AB})^{\\boldsymbol{-1}}=\\boldsymbol{B^{-1}}\\boldsymbol{A^{-1}}$\n",
    "\n",
    "6. 정칙행렬 $\\boldsymbol{P},\\boldsymbol{Q}$ 에 대하여 $\\begin{pmatrix}\\boldsymbol{P} & 0\\\\ 0 & \\boldsymbol{Q}\\end{pmatrix}^{\\boldsymbol{-1}} = \\begin{pmatrix} \\boldsymbol{P^{-1}} & 0\\\\\n",
    "0 & \\boldsymbol{Q^{-1}}\\end{pmatrix}$\n",
    "\n",
    "\n",
    "\n",
    "\n",
    "\n",
    "{$ endraw %}"
   ]
  },
  {
   "cell_type": "markdown",
   "id": "viral-number",
   "metadata": {},
   "source": [
    "## 직교행렬"
   ]
  },
  {
   "cell_type": "markdown",
   "id": "heard-romance",
   "metadata": {},
   "source": [
    "{% raw %}\n",
    "\n",
    "`-` 직교행렬(orthogonal matrix)  : 정사각행렬 중에 전치행렬이 역행렬인 행렬 $\\longrightarrow \\boldsymbol{A'} = \\boldsymbol{A^{-1}}$\n",
    "\n",
    "{% endraw %}"
   ]
  },
  {
   "cell_type": "markdown",
   "id": "bound-heather",
   "metadata": {},
   "source": [
    "### 직교행렬의 조건"
   ]
  },
  {
   "cell_type": "markdown",
   "id": "ethical-tourism",
   "metadata": {},
   "source": [
    "{% raw %}\n",
    "$${a_j}'a_j = \\begin{cases} 1 & \\text{for $i=j$}\\\\\n",
    "0 & \\text{for $i \\neq j$}\\end{cases}$$\n",
    "{% endraw %}"
   ]
  },
  {
   "cell_type": "markdown",
   "id": "affected-source",
   "metadata": {},
   "source": [
    "`-` 각 열벡터는 길이가 $1$이고 다른 열벡터와 직교한다 ---> 정규직교벡터\n",
    "\n",
    "`-` $\\boldsymbol{P}$ 가 직교행렬이면 $\\begin{vmatrix}\\boldsymbol{PP'}\\end{vmatrix} = {\\begin{vmatrix}\\boldsymbol{P}\\end{vmatrix}}^{2} = 1$ 이므로 직교행렬의 행렬식은 $\\pm 1$"
   ]
  },
  {
   "cell_type": "markdown",
   "id": "specified-gross",
   "metadata": {},
   "source": [
    "## 멱등행렬\n",
    "{% raw %}\n",
    "`-` 멱등행렬(idempotent matrix) : $\\boldsymbol{A}^2=\\boldsymbol{AA}=\\boldsymbol{A}$ 를 만족하는 행렬\n",
    "\n",
    "`-` 멱등행렬의 대표적인 예(회귀분석) ---> $\\boldsymbol{H} = \\boldsymbol{X{(X{\\,'}X)}^{-1}X{\\,'}}$\n",
    "\n",
    "`-` 다양한 예는 교재 참고\n",
    "{% endraw %}"
   ]
  },
  {
   "cell_type": "markdown",
   "id": "plain-samoa",
   "metadata": {},
   "source": [
    "## 2차형식\n",
    "\n",
    "`-` 2차형식(quadratic form) : 대칭행렬을 사이에 두고 양옆에 같은 벡터가 곱해지는 형태($\\boldsymbol{x'Ax}$)"
   ]
  },
  {
   "cell_type": "markdown",
   "id": "single-praise",
   "metadata": {},
   "source": [
    "### (준)정부호행렬\n",
    "\n",
    "`-` 모든 벡터 $\\boldsymbol{x}\\neq 0$ 에 대하여 각 조건을 만족시키는 대칭행렬 $\\boldsymbol{A}$ 는 다음과 같이 정의함\n",
    "\n",
    "1. $\\boldsymbol{x'Ax} > 0$ 이면 $\\boldsymbol{A}$ : 양의 정부호행렬(positive definite matrix) ---> 양정치\n",
    "\n",
    "2. $\\boldsymbol{x'Ax} \\geq 0$ 이면 $\\boldsymbol{A}$ : 양의 준정부호행렬(positive semi-definite matrix) ---> 양반정치"
   ]
  },
  {
   "cell_type": "markdown",
   "id": "impressed-roman",
   "metadata": {},
   "source": [
    "## 행렬의 계수"
   ]
  },
  {
   "cell_type": "code",
   "execution_count": null,
   "id": "parental-patio",
   "metadata": {},
   "outputs": [],
   "source": []
  },
  {
   "cell_type": "code",
   "execution_count": null,
   "id": "optical-encoding",
   "metadata": {},
   "outputs": [],
   "source": []
  },
  {
   "cell_type": "code",
   "execution_count": null,
   "id": "enhanced-sweden",
   "metadata": {},
   "outputs": [],
   "source": []
  },
  {
   "cell_type": "code",
   "execution_count": null,
   "id": "loved-thanksgiving",
   "metadata": {},
   "outputs": [],
   "source": []
  },
  {
   "cell_type": "markdown",
   "id": "exposed-broadcasting",
   "metadata": {},
   "source": [
    "## 고유값과 고유벡터"
   ]
  },
  {
   "cell_type": "code",
   "execution_count": null,
   "id": "jewish-survival",
   "metadata": {},
   "outputs": [],
   "source": []
  }
 ],
 "metadata": {
  "kernelspec": {
   "display_name": "Python 3",
   "language": "python",
   "name": "python3"
  },
  "language_info": {
   "codemirror_mode": {
    "name": "ipython",
    "version": 3
   },
   "file_extension": ".py",
   "mimetype": "text/x-python",
   "name": "python",
   "nbconvert_exporter": "python",
   "pygments_lexer": "ipython3",
   "version": "3.8.8"
  }
 },
 "nbformat": 4,
 "nbformat_minor": 5
}
