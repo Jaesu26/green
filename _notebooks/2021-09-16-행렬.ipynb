{
 "cells": [
  {
   "cell_type": "markdown",
   "id": "revised-bottom",
   "metadata": {},
   "source": [
    "# 행렬(matrix)\n",
    "\n",
    "> \"작성 중\"\n",
    "\n",
    "- toc: true\n",
    "- branch: master\n",
    "- badges: true\n",
    "- comments: true\n",
    "- author: 한재수\n",
    "- categories: [math]"
   ]
  },
  {
   "cell_type": "markdown",
   "id": "incomplete-camcorder",
   "metadata": {},
   "source": [
    "`-` 참고 교재1 : SAS와 R을 활용한 선형회귀분석(자유아카데미) \n",
    "\n",
    "`-` 참고 교재2 : 통계수학강의(자유아카데미)"
   ]
  },
  {
   "cell_type": "markdown",
   "id": "occasional-sodium",
   "metadata": {},
   "source": [
    "`-` 행렬의 기초를 간단히 정리하자"
   ]
  },
  {
   "cell_type": "markdown",
   "id": "instructional-philip",
   "metadata": {},
   "source": [
    "# 행렬\n",
    "\n",
    "`-` `벡터`와 `행렬`은 `볼드체`로 적어야 함\n",
    "\n",
    "`-` 행렬의 원소는 볼드체 사용 안함 ---> 행렬의 원소가 벡터 또는 행렬이면 볼드체 사용\n",
    "\n",
    "`-` 행렬의 기본인 벡터를 알고가자\n",
    "\n",
    "`-` 열벡터($\\boldsymbol{a}$) : $m\\times 1$ 행렬 ---> 보통 벡터라고 하면 열벡터임\n",
    "\n",
    "`-` 행벡터($\\boldsymbol{a\\,'}$) : $1\\times n$ 행렬\n",
    "\n",
    "`-` 스칼라 : 원소가 하나인 행렬\n",
    "\n",
    "`-` ${\\bf 0}$ : 모든 원소가 $0$인 벡터\n",
    "\n",
    "`-` ${\\bf 1}$ : 모든 원소가 $1$인 벡터\n",
    "\n",
    "`-` $\\boldsymbol{e_i}$ : $i$번째 원소만 $1$이고 나머지 원소는 모두 $0$인 벡터"
   ]
  },
  {
   "cell_type": "markdown",
   "id": "specialized-shopping",
   "metadata": {},
   "source": [
    "## 행렬의 종류\n",
    "\n",
    "`-` 행렬(matrix)는 다음과 같이 $m$ 개의 `행(row)` 과 $n$ 개의 `열(column)` 을 $mn$ 개의 숫자로 채운 모양"
   ]
  },
  {
   "cell_type": "markdown",
   "id": "forty-fancy",
   "metadata": {},
   "source": [
    "$$\\boldsymbol{A} = \\begin{pmatrix}\n",
    "a_{11} & a_{12} & \\cdots & a_{1n}\\\\\n",
    "a_{21} & a_{22} & \\cdots & a_{2n}\\\\\n",
    "\\vdots & \\vdots & \\ddots & \\vdots\\\\\n",
    "a_{m1} & a_{m2} & \\cdots & a_{mn}\n",
    "\\end{pmatrix}$$"
   ]
  },
  {
   "cell_type": "markdown",
   "id": "perceived-energy",
   "metadata": {},
   "source": [
    "`-` 정사각행렬(square matrix) : $m=n$ 인 행렬\n",
    "\n",
    "`-` 대각행렬(diagonal matrix, $\\boldsymbol{D}$) : 정사각행렬 중에 대각원소를 제외한 모든 원소가 $0$인 행렬\n",
    "\n",
    "`-` 단위행렬(identity matrix, $\\boldsymbol{I}$) : 대각행렬 중에서 대각의 원소가 모두 $1$인 행렬 ---> 차수를 밝힐 땐 $\\boldsymbol{I_m}$\n",
    "\n",
    "`-` 위삼각행렬(upper triangular matrix) : 대각원소와 그 오른쪽 위의 원소를 제외한 나머지 원소는 모두 $0$인 행렬\n",
    "\n",
    "`-` 아래삼각행렬(lower triangular matrix) : 대각원소와 그 왼쪽 아래의 원소를 제외한 나머지 원소는 모두 $0$인 행렬\n",
    "\n",
    "`-` 전치행렬(transpose matrix) : 행과 열이 바뀐 행렬 ---> $m \\times n$ 행렬의 전치행렬은 $n \\times m$ 이 되고 $\\boldsymbol{{A\\,'} \\; or\\; A^T}$ 로 표현)\n",
    "\n",
    "`-` 대칭행렬(symmetric matrix) : $\\boldsymbol{A = A^T}$"
   ]
  },
  {
   "cell_type": "markdown",
   "id": "large-college",
   "metadata": {},
   "source": [
    "## 행렬의 연산 "
   ]
  },
  {
   "cell_type": "markdown",
   "id": "dirty-marker",
   "metadata": {},
   "source": [
    "`-` 행렬의 덧셈 뺄셈은 교재 참고"
   ]
  },
  {
   "cell_type": "markdown",
   "id": "equal-samba",
   "metadata": {},
   "source": [
    "### 행렬의 곱 "
   ]
  },
  {
   "cell_type": "markdown",
   "id": "aggressive-defense",
   "metadata": {},
   "source": [
    "`-` 각 행렬은 행벡터 또는 열벡터로 `분할`될 수 있음\n",
    "\n",
    "`-` 행렬의 곱 $\\boldsymbol{AB}$ 는 행렬 $\\boldsymbol A$ 가 $m$ 개의 행벡터로 분할되어 있고 행렬 $\\boldsymbol B$ 가 $n$ 개의 열벡터로 분할되어 있다고 할 때 곱의 계산을 나타낸 것 ---> 교재 참고"
   ]
  },
  {
   "cell_type": "markdown",
   "id": "dramatic-concern",
   "metadata": {},
   "source": [
    "{% raw %}\n",
    "$$\\boldsymbol{AB}=\\begin{pmatrix} \n",
    "{\\boldsymbol{a}_{1\\,\\cdot}}\\,'\\\\ \n",
    "{\\boldsymbol{a}_{2\\,\\cdot}}\\,'\\\\ \n",
    "\\vdots\\\\\n",
    "{\\boldsymbol{a}_{m\\,\\cdot}}\\,'\n",
    "\\end{pmatrix}  \\big(\\boldsymbol{b}_{\\,\\cdot \\,1},\\, \\boldsymbol{b}_{\\,\\cdot \\,2},\\, \\cdots,\\, \\boldsymbol{b}_{\\,\\cdot\\, n}\\big) = \\begin{pmatrix}\n",
    "{\\boldsymbol{a}_{1\\,\\cdot}}\\,'\\boldsymbol{b}_{\\,\\cdot \\,1} & {\\boldsymbol{a}_{1\\,\\cdot}}\\,'\\boldsymbol{b}_{\\,\\cdot \\,2} & \\cdots & {\\boldsymbol{a}_{1\\,\\cdot}}\\,'\\boldsymbol{b}_{\\,\\cdot \\,n}\\\\\n",
    "{\\boldsymbol{a}_{2\\,\\cdot}}\\,'\\boldsymbol{b}_{\\,\\cdot \\,1} & {\\boldsymbol{a}_{2\\,\\cdot}}\\,'\\boldsymbol{b}_{\\,\\cdot \\,2} & \\cdots & {\\boldsymbol{a}_{2\\,\\cdot}}\\,'\\boldsymbol{b}_{\\,\\cdot \\,n}\\\\\n",
    "\\vdots & \\vdots & \\ddots & \\vdots\\\\\n",
    "{\\boldsymbol{a}_{m\\,\\cdot}}\\,'\\boldsymbol{b}_{\\,\\cdot \\,1} & {\\boldsymbol{a}_{m\\,\\cdot}}\\,'\\boldsymbol{b}_{\\,\\cdot \\,2} & \\cdots & {\\boldsymbol{a}_{m\\,\\cdot}}\\,'\\boldsymbol{b}_{\\,\\cdot \\,n}\n",
    "\\end{pmatrix}$$ \n",
    "{% endraw %}"
   ]
  },
  {
   "cell_type": "markdown",
   "id": "failing-fields",
   "metadata": {},
   "source": [
    "`-` ${\\boldsymbol{a}_{1\\,\\cdot}}\\,'\\boldsymbol{b}_{\\,\\cdot \\,1}$ 부터 ${\\boldsymbol{a}_{m\\,\\cdot}}\\,'\\boldsymbol{b}_{\\,\\cdot \\,n}$ 까지 각각은 스칼리임"
   ]
  },
  {
   "cell_type": "markdown",
   "id": "furnished-riding",
   "metadata": {},
   "source": [
    "`-` 위 식에서 행렬 $\\boldsymbol{A}$ 가 $p$ 개의 열벡터로 행렬 $\\boldsymbol{B}$ 가 $p$ 개의 행벡터로 분할되어 있다고 하자\n",
    "\n",
    "`-` 그러면 행렬의 곱 $\\boldsymbol{AB}$ 는  아래와 같이도 표현 가능함"
   ]
  },
  {
   "cell_type": "markdown",
   "id": "outer-evolution",
   "metadata": {},
   "source": [
    "{% raw %}\n",
    "$$\\boldsymbol{AB}=\\big(\\boldsymbol{a}_{\\,\\cdot \\,1},\\, \\boldsymbol{a}_{\\,\\cdot \\,2},\\, \\cdots,\\, \\boldsymbol{a}_{\\,\\cdot\\, p}\\big) \\begin{pmatrix} \n",
    "{\\boldsymbol{b}_{1\\,\\cdot}}\\,'\\\\ \n",
    "{\\boldsymbol{b}_{2\\,\\cdot}}\\,'\\\\ \n",
    "\\vdots\\\\\n",
    "{\\boldsymbol{b}_{p\\,\\cdot}}\\,'\n",
    "\\end{pmatrix} = \\boldsymbol{a}_{\\,\\cdot \\,1}{\\boldsymbol{b}_{1\\,\\cdot}}\\,' + \\cdots + \\boldsymbol{a}_{\\,\\cdot \\,p}{\\boldsymbol{b}_{p\\,\\cdot}}\\,'$$ \n",
    "{% endraw %}"
   ]
  },
  {
   "cell_type": "markdown",
   "id": "violent-telling",
   "metadata": {},
   "source": [
    "`-` $\\boldsymbol{a}_{\\,\\cdot \\,1}{\\boldsymbol{b}_{1\\,\\cdot}}\\,'$ 부터 $\\boldsymbol{a}_{\\,\\cdot \\,p}{\\boldsymbol{b}_{p\\,\\cdot}}\\,'$ 까지 각각은 $p \\times p$ 행렬임"
   ]
  },
  {
   "cell_type": "markdown",
   "id": "destroyed-courtesy",
   "metadata": {},
   "source": [
    "### 대각합(trace) \n",
    "\n",
    "`-` 정사각행렬의 특성을 나타내는 수치\n",
    "\n",
    "`-` 행렬의 대각원소의 합"
   ]
  },
  {
   "cell_type": "markdown",
   "id": "anticipated-tolerance",
   "metadata": {},
   "source": [
    "`-` $tr(\\boldsymbol{A}) = \\sum\\limits_{i=1}^{m}a_{ii}$"
   ]
  },
  {
   "cell_type": "markdown",
   "id": "saved-lawsuit",
   "metadata": {},
   "source": [
    "#### 대각합의 성질\n",
    "\n",
    "`-` $tr(\\boldsymbol{A}) = tr(\\boldsymbol{A\\,'})$\n",
    "\n",
    "`-` $tr(\\boldsymbol{AB}) = tr(\\boldsymbol{BA})$\n",
    "\n",
    "`-` 나머지는 간단하니 교재 참고"
   ]
  },
  {
   "cell_type": "markdown",
   "id": "realistic-estate",
   "metadata": {},
   "source": [
    "## 역행렬 "
   ]
  },
  {
   "cell_type": "markdown",
   "id": "defined-paper",
   "metadata": {},
   "source": [
    "`-` 행렬식(determinant) : $\\begin{vmatrix}\\boldsymbol{A}\\end{vmatrix}$ or $det(\\boldsymbol{A})$\n",
    "\n",
    "{% raw %}\n",
    "\n",
    "`-` 행렬 $\\begin{vmatrix}\\boldsymbol{A}\\end{vmatrix}$ 가 $m\\times m$ 일 때 $|\\boldsymbol{A}|=\\sum\\limits_{i=1}^{m}(-1)^{i+1}a_{1i}\\begin{vmatrix}\\boldsymbol{M}_{1i}\\end{vmatrix}$\n",
    "\n",
    "{% endraw %}\n",
    "\n",
    "`-` $\\boldsymbol{M}_{ij}$ 는 행렬 $\\boldsymbol{A}$ 에서 $i$ 번째 행과 $j$ 번째 열을 제외한 $(m-1)\\times(m-1)$ 부분행렬\n",
    "\n",
    "`-` $\\boldsymbol{A}_{ij} = (-1)^{i+j}\\boldsymbol{M}_{ij} ---> \\boldsymbol{A}_{ij}$ 를 원소 $a_{ij}$ 의 `여인수`라고 함"
   ]
  },
  {
   "cell_type": "markdown",
   "id": "conventional-import",
   "metadata": {},
   "source": [
    "### 행렬식의 성질"
   ]
  },
  {
   "cell_type": "markdown",
   "id": "engaged-communist",
   "metadata": {},
   "source": [
    "`-` 스칼라 $\\alpha$ 와 $m\\times m$ 행렬 $\\boldsymbol{A,B}$ 에 대하여 다음이 성립\n",
    "\n",
    "1. $det(\\boldsymbol{A}) = det(\\boldsymbol{A\\,'})$\n",
    "\n",
    "2. $det(\\alpha\\boldsymbol{A}) = \\alpha^{m}(det(\\boldsymbol{A}))$\n",
    "\n",
    "3. $\\boldsymbol{A}$ 가 대각행렬이면 $det(\\boldsymbol{A}) = a_{11}\\times a_{22}\\times \\cdots \\times a_{mm}$\n",
    "\n",
    "4. 행렬 $det(\\boldsymbol{AB}) = det(\\boldsymbol{A})\\times det(\\boldsymbol{B})$\n",
    "\n",
    "5. 정사각행렬 $\\boldsymbol{P, \\,Q}$ 에 대하여 $\\begin{vmatrix}\\begin{pmatrix}\n",
    "\\boldsymbol{P} & 0 \\\\\n",
    "\\boldsymbol{X} & \\boldsymbol{Q}\n",
    "\\end{pmatrix}\\end{vmatrix} = \\begin{vmatrix}\\boldsymbol{P}\\end{vmatrix}\\cdot\\begin{vmatrix}\\boldsymbol{Q}\\end{vmatrix}$"
   ]
  },
  {
   "cell_type": "markdown",
   "id": "activated-familiar",
   "metadata": {},
   "source": [
    "`-` 특이 행렬, 정칙 행렬"
   ]
  },
  {
   "cell_type": "code",
   "execution_count": null,
   "id": "medieval-straight",
   "metadata": {},
   "outputs": [],
   "source": []
  }
 ],
 "metadata": {
  "kernelspec": {
   "display_name": "Python 3",
   "language": "python",
   "name": "python3"
  },
  "language_info": {
   "codemirror_mode": {
    "name": "ipython",
    "version": 3
   },
   "file_extension": ".py",
   "mimetype": "text/x-python",
   "name": "python",
   "nbconvert_exporter": "python",
   "pygments_lexer": "ipython3",
   "version": "3.8.8"
  }
 },
 "nbformat": 4,
 "nbformat_minor": 5
}
