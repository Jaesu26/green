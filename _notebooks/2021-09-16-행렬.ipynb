{
 "cells": [
  {
   "cell_type": "markdown",
   "id": "other-smith",
   "metadata": {},
   "source": [
    "# 행렬(matrix)\n",
    "\n",
    "> \"작성 중\"\n",
    "\n",
    "- toc: true\n",
    "- branch: master\n",
    "- badges: true\n",
    "- comments: true\n",
    "- author: 한재수\n",
    "- categories: [math]"
   ]
  },
  {
   "cell_type": "markdown",
   "id": "wireless-maine",
   "metadata": {},
   "source": [
    "`-` 참고 교재1 : SAS와 R을 활용한 선형회귀분석(자유아카데미) \n",
    "\n",
    "`-` 참고 교재2 : 통계수학강의(자유아카데미)"
   ]
  },
  {
   "cell_type": "markdown",
   "id": "partial-wagon",
   "metadata": {},
   "source": [
    "`-` 행렬의 기초를 간단히 정리하자"
   ]
  },
  {
   "cell_type": "markdown",
   "id": "peaceful-island",
   "metadata": {},
   "source": [
    "# 행렬\n",
    "\n",
    "`-` `벡터`와 `행렬`은 `볼드체`로 적어야 함\n",
    "\n",
    "`-` 행렬의 원소는 볼드체 사용 안함 ---> 행렬의 원소가 벡터 또는 행렬이면 볼드체 사용\n",
    "\n",
    "`-` 행렬의 기본인 벡터를 알고가자\n",
    "\n",
    "`-` 열벡터($\\boldsymbol{a}$) : $m\\times 1$ 행렬 ---> 보통 벡터라고 하면 열벡터임\n",
    "\n",
    "`-` 행벡터($\\boldsymbol{a'}$) : $1\\times n$ 행렬\n",
    "\n",
    "`-` 스칼라 : 원소가 하나인 행렬\n",
    "\n",
    "`-` ${\\bf 0}$ : 모든 원소가 $0$인 벡터\n",
    "\n",
    "`-` ${\\bf 1}$ : 모든 원소가 $1$인 벡터\n",
    "\n",
    "`-` $\\boldsymbol{e_i}$ : $i$번째 원소만 $1$이고 나머지 원소는 모두 $0$인 벡터"
   ]
  },
  {
   "cell_type": "markdown",
   "id": "significant-underground",
   "metadata": {},
   "source": [
    "## 행렬의 종류\n",
    "\n",
    "`-` 행렬(matrix)은 다음과 같이 $m$ 개의 `행(row)` 과 $n$ 개의 `열(column)` 을 $mn$ 개의 숫자로 채운 모양"
   ]
  },
  {
   "cell_type": "markdown",
   "id": "impaired-dating",
   "metadata": {},
   "source": [
    "$$\\boldsymbol{A} = \\begin{pmatrix}\n",
    "a_{11} & a_{12} & \\cdots & a_{1n}\\\\\n",
    "a_{21} & a_{22} & \\cdots & a_{2n}\\\\\n",
    "\\vdots & \\vdots & \\ddots & \\vdots\\\\\n",
    "a_{m1} & a_{m2} & \\cdots & a_{mn}\n",
    "\\end{pmatrix}$$"
   ]
  },
  {
   "cell_type": "markdown",
   "id": "demonstrated-amendment",
   "metadata": {},
   "source": [
    "`-` 정사각행렬(square matrix) : $m=n$ 인 행렬\n",
    "\n",
    "`-` 대각행렬(diagonal matrix, $\\boldsymbol{D}$) : 정사각행렬 중에 대각원소를 제외한 모든 원소가 $0$인 행렬\n",
    "\n",
    "`-` 단위행렬(identity matrix, $\\boldsymbol{I}$) : 대각행렬 중에 대각의 원소가 모두 $1$인 행렬 ---> $\\boldsymbol{I_m}$(차수가 $m$)\n",
    "\n",
    "`-` 위삼각행렬(upper triangular matrix) : 대각원소와 그 오른쪽 위의 원소를 제외한 나머지 원소는 모두 $0$인 행렬\n",
    "\n",
    "`-` 아래삼각행렬(lower triangular matrix) : 대각원소와 그 왼쪽 아래의 원소를 제외한 나머지 원소는 모두 $0$인 행렬\n",
    "\n",
    "`-` 전치행렬(transpose matrix) : 행과 열이 바뀐 행렬 ---> $m \\times n$ 행렬의 전치행렬은 $n \\times m$ 이 되고 {% raw %}$\\boldsymbol{A'}$ 또는 $A^T${% endraw %} 로 표현\n",
    "\n",
    "`-` 대칭행렬(symmetric matrix) : $\\boldsymbol{A = A^T}$"
   ]
  },
  {
   "cell_type": "markdown",
   "id": "assumed-spelling",
   "metadata": {},
   "source": [
    "## 행렬의 연산 "
   ]
  },
  {
   "cell_type": "markdown",
   "id": "painted-developer",
   "metadata": {},
   "source": [
    "`-` 행렬의 덧셈 뺄셈은 교재 참고"
   ]
  },
  {
   "cell_type": "markdown",
   "id": "middle-killing",
   "metadata": {},
   "source": [
    "### 행렬의 곱 "
   ]
  },
  {
   "cell_type": "markdown",
   "id": "approximate-rebound",
   "metadata": {},
   "source": [
    "`-` 각 행렬은 행벡터 또는 열벡터로 `분할`될 수 있음\n",
    "\n",
    "`-` 행렬의 곱 $\\boldsymbol{AB}$ 는 행렬 $\\boldsymbol A$ 가 $m$ 개의 행벡터로 분할되어 있고 행렬 $\\boldsymbol B$ 가 $n$ 개의 열벡터로 분할되어 있다고 할 때 곱의 계산을 나타낸 것 ---> 교재 참고"
   ]
  },
  {
   "cell_type": "markdown",
   "id": "objective-meditation",
   "metadata": {},
   "source": [
    "{% raw %}\n",
    "$$\\boldsymbol{AB}=\\begin{pmatrix} \n",
    "{\\boldsymbol{a_{1\\,\\cdot}}}\\,'\\\\ \n",
    "{\\boldsymbol{a_{2\\,\\cdot}}}\\,'\\\\ \n",
    "\\vdots\\\\\n",
    "{\\boldsymbol{a_{m\\,\\cdot}}}\\,'\n",
    "\\end{pmatrix}  \\big(\\boldsymbol{b_{\\,\\cdot \\,1}},\\, \\boldsymbol{b_{\\,\\cdot \\,2}},\\, \\cdots,\\, \\boldsymbol{b_{\\,\\cdot\\, n}}\\big) = \\begin{pmatrix}\n",
    "{\\boldsymbol{a_{1\\,\\cdot}}}\\,'\\boldsymbol{b_{\\,\\cdot \\,1}} & {\\boldsymbol{a_{1\\,\\cdot}}}\\,'\\boldsymbol{b_{\\,\\cdot \\,2}} & \\cdots & {\\boldsymbol{a_{1\\,\\cdot}}}\\,'\\boldsymbol{b_{\\,\\cdot \\,n}}\\\\\n",
    "{\\boldsymbol{a_{2\\,\\cdot}}}\\,'\\boldsymbol{b_{\\,\\cdot \\,1}} & {\\boldsymbol{a_{2\\,\\cdot}}}\\,'\\boldsymbol{b_{\\,\\cdot \\,2}} & \\cdots & {\\boldsymbol{a_{2\\,\\cdot}}}\\,'\\boldsymbol{b_{\\,\\cdot \\,n}}\\\\\n",
    "\\vdots & \\vdots & \\ddots & \\vdots\\\\\n",
    "{\\boldsymbol{a_{m\\,\\cdot}}}\\,'\\boldsymbol{b_{\\,\\cdot \\,1}} & {\\boldsymbol{a_{m\\,\\cdot}}}\\,'\\boldsymbol{b_{\\,\\cdot \\,2}} & \\cdots & {\\boldsymbol{a_{m\\,\\cdot}}}\\,'\\boldsymbol{b_{\\,\\cdot \\,n}}\n",
    "\\end{pmatrix}$$ \n",
    "{% endraw %}"
   ]
  },
  {
   "cell_type": "markdown",
   "id": "superior-finnish",
   "metadata": {},
   "source": [
    "{% raw %}\n",
    "\n",
    "`-` ${\\boldsymbol{a_{1\\,\\cdot}}}\\,'\\boldsymbol{b_{\\,\\cdot \\,1}}$ 부터 ${\\boldsymbol{a_{m\\,\\cdot}}}\\,'\\boldsymbol{b_{\\,\\cdot \\,n}}$ 까지 각각은 스칼리임\n",
    "{% endraw %}"
   ]
  },
  {
   "cell_type": "markdown",
   "id": "pediatric-reggae",
   "metadata": {},
   "source": [
    "`-` 위 식에서 행렬 $\\boldsymbol{A}$ 가 $p$ 개의 열벡터로 행렬 $\\boldsymbol{B}$ 가 $p$ 개의 행벡터로 분할되어 있다고 하자\n",
    "\n",
    "`-` 그러면 행렬의 곱 $\\boldsymbol{AB}$ 는  아래와 같이도 표현 가능함"
   ]
  },
  {
   "cell_type": "markdown",
   "id": "divine-mapping",
   "metadata": {},
   "source": [
    "{% raw %}\n",
    "$$\\boldsymbol{AB}=\\big(\\boldsymbol{a_{\\,\\cdot \\,1}},\\, \\boldsymbol{a_{\\,\\cdot \\,2}},\\, \\cdots,\\, \\boldsymbol{a_{\\,\\cdot\\, p}}\\big) \\begin{pmatrix} \n",
    "{\\boldsymbol{b_{1\\,\\cdot}}}\\,'\\\\ \n",
    "{\\boldsymbol{b_{2\\,\\cdot}}}\\,'\\\\ \n",
    "\\vdots\\\\\n",
    "{\\boldsymbol{b_{p\\,\\cdot}}}\\,'\n",
    "\\end{pmatrix} = \\boldsymbol{a_{\\,\\cdot \\,1}}{\\boldsymbol{b_{1\\,\\cdot}}}\\,' + \\cdots + \\boldsymbol{a_{\\,\\cdot \\,p}}{\\boldsymbol{b_{p\\,\\cdot}}}\\,'$$ \n",
    "{% endraw %}"
   ]
  },
  {
   "cell_type": "markdown",
   "id": "specified-cutting",
   "metadata": {},
   "source": [
    "{% raw %}\n",
    "\n",
    "`-` $\\boldsymbol{a_{\\,\\cdot \\,1}}{\\boldsymbol{b_{1\\,\\cdot}}}\\,'$ 부터 $\\boldsymbol{a_{\\,\\cdot \\,p}}{\\boldsymbol{b_{p\\,\\cdot}}}\\,'$ 까지 각각은 $p \\times p$ 행렬임\n",
    "{% endraw %}"
   ]
  },
  {
   "cell_type": "markdown",
   "id": "governing-tablet",
   "metadata": {},
   "source": [
    "### 대각합(trace) \n",
    "\n",
    "`-` 정사각행렬의 특성을 나타내는 수치\n",
    "\n",
    "`-` 행렬의 대각원소의 합"
   ]
  },
  {
   "cell_type": "markdown",
   "id": "flying-vanilla",
   "metadata": {},
   "source": [
    "`-` $tr(\\boldsymbol{A}) = \\sum\\limits_{i=1}^{m}a_{ii}$"
   ]
  },
  {
   "cell_type": "markdown",
   "id": "diverse-reasoning",
   "metadata": {},
   "source": [
    "#### 대각합의 성질\n",
    "\n",
    "`-` $tr(\\boldsymbol{A}) = tr(\\boldsymbol{A'})$\n",
    "\n",
    "`-` $tr(\\boldsymbol{AB}) = tr(\\boldsymbol{BA})$\n",
    "\n",
    "`-` 나머지는 간단하니 교재 참고"
   ]
  },
  {
   "cell_type": "markdown",
   "id": "molecular-certification",
   "metadata": {},
   "source": [
    "## 역행렬 "
   ]
  },
  {
   "cell_type": "markdown",
   "id": "outdoor-candidate",
   "metadata": {},
   "source": [
    "{% raw %}\n",
    "\n",
    "`-` 행렬식(determinant) : $\\begin{vmatrix}\\boldsymbol{A}\\end{vmatrix}$ or $det(\\boldsymbol{A})$\n",
    "\n",
    "`-` 행렬 $\\begin{vmatrix}\\boldsymbol{A}\\end{vmatrix}$ 가 $m\\times m$ 일 때 $|\\boldsymbol{A}|=\\sum\\limits_{i=1}^{m}(-1)^{i+1}a_{1i}\\begin{vmatrix}\\boldsymbol{M_{1i}}\\end{vmatrix}$\n",
    "\n",
    "`-` $\\boldsymbol{M_{ij}}$ 는 행렬 $\\boldsymbol{A}$ 에서 $i$ 번째 행과 $j$ 번째 열을 제외한 $(m-1)\\times(m-1)$ 부분행렬\n",
    "\n",
    "`-` $\\boldsymbol{A_{ij}} = (-1)^{i+j}\\boldsymbol{M_{ij}} \\longrightarrow \\boldsymbol{A_{ij}}$ 를 원소 $a_{ij}$ 의 `여인수`라고 함\n",
    "\n",
    "`-` 행렬 $\\boldsymbol{A}$ 의 역행렬의 $(i,j)$ 번째 원소 $\\boldsymbol{{(A^{-1})}_{ij}} = \\cfrac{1}{\\begin{vmatrix}\\boldsymbol{A}\\end{vmatrix}}(-1)^{i+j}\\begin{vmatrix}\\boldsymbol{M_{ij}}\\end{vmatrix}$\n",
    "\n",
    "`-` 대각행렬, 위삼각행렬, 아래삼각행렬의 행렬식은 대각선 원소들의 곱\n",
    "\n",
    "`-` 특이행렬(singular matrix) : 행렬식이 $0$인 행렬\n",
    "\n",
    "`-` 정칙행렬(nonsingular matrix) : 행렬식이 $0$이 아닌 행렬\n",
    "\n",
    "{% endraw %}"
   ]
  },
  {
   "cell_type": "markdown",
   "id": "logical-directory",
   "metadata": {},
   "source": [
    "### 행렬식의 성질"
   ]
  },
  {
   "cell_type": "markdown",
   "id": "close-bulgarian",
   "metadata": {},
   "source": [
    "`-` 스칼라 $\\alpha$ 와 $m\\times m$ 행렬 $\\boldsymbol{A,B}$ 에 대하여 다음이 성립\n",
    "{% raw %}\n",
    "\n",
    "1. $det(\\boldsymbol{A}) = det(\\boldsymbol{A'})$\n",
    "\n",
    "2. $det(\\alpha\\boldsymbol{A}) = \\alpha^{m}(det(\\boldsymbol{A}))$\n",
    "\n",
    "3. $\\boldsymbol{A}$ 가 대각행렬이면 $det(\\boldsymbol{A}) = a_{11}\\times a_{22}\\times \\cdots \\times a_{mm}$\n",
    "\n",
    "4. 행렬 $det(\\boldsymbol{AB}) = det(\\boldsymbol{A})\\times det(\\boldsymbol{B})$\n",
    "\n",
    "5. 정사각행렬 $\\boldsymbol{P, \\,Q}$ 에 대하여 $\\begin{vmatrix}\\begin{pmatrix}\n",
    "\\boldsymbol{P} & \\boldsymbol{0} \\\\\n",
    "\\boldsymbol{X} & \\boldsymbol{Q}\n",
    "\\end{pmatrix}\\end{vmatrix} = \\begin{vmatrix}\\boldsymbol{P}\\end{vmatrix}\\cdot\\begin{vmatrix}\\boldsymbol{Q}\\end{vmatrix}$\n",
    "\n",
    "{% endraw %}"
   ]
  },
  {
   "cell_type": "markdown",
   "id": "burning-nebraska",
   "metadata": {},
   "source": [
    "### $n$ 차 연립방정식의 해"
   ]
  },
  {
   "cell_type": "markdown",
   "id": "amber-florence",
   "metadata": {},
   "source": [
    "{% raw %}\n",
    "`-` $n$ 개의 미지수 $(x_1,x_2,\\cdots,_n)'=x$에 대하여 $n$ 차 연립방정식을 생각해보자\n",
    "\n",
    "$$a_{11}x_1 + a_{12}x_2+\\cdots+a_{1n}x_n=d_1\\\\\n",
    "a_{21}x_1 + a_{22}x_2+\\cdots+a_{2n}x_n=d_2\\\\\n",
    "\\quad\\vdots\\\\\n",
    "a_{n1}x_1 + a_{n2}x_2+\\cdots+a_{nn}x_n=d_n$$\n",
    "\n",
    "`-` 위의 $n$ 차 연립방정식은 다음과 같이 표현이 가능 $\\to \\boldsymbol{Ax} = \\boldsymbol{d}$ \n",
    "\n",
    "`-` 만약 $\\boldsymbol{A^-1}$이 존재하면 $\\boldsymbol{A^{-1}Ax} = \\boldsymbol{A^{-1}d}\\Longrightarrow\\boldsymbol{x} = \\boldsymbol{A^{-1}d}$\n",
    "{% endraw %}"
   ]
  },
  {
   "cell_type": "markdown",
   "id": "improving-intermediate",
   "metadata": {},
   "source": [
    "### 역행렬의 성질 "
   ]
  },
  {
   "cell_type": "markdown",
   "id": "square-irrigation",
   "metadata": {},
   "source": [
    "`-` 스칼라 $\\alpha$ 와 $m\\times m$ 정칙행렬 $\\boldsymbol{A,B}$ 에 대하여 다음을 만족\n",
    "\n",
    "1. $(\\alpha\\boldsymbol{A})^{\\boldsymbol{-1}}=\\alpha^{-1}\\boldsymbol{A^{-1}}$\n",
    "\n",
    "2. $(\\boldsymbol{A'})^{\\boldsymbol{-1}}=(\\boldsymbol{A^{-1}})'$\n",
    "\n",
    "3. $\\begin{vmatrix}\\boldsymbol{A^{-1}}\\end{vmatrix}=\\begin{vmatrix}\\boldsymbol{A}\\end{vmatrix}^{-1}$\n",
    "\n",
    "4. $\\boldsymbol{A} = diag(a_{11},a_{22},\\cdots,a_{mm}) \\Longrightarrow \\boldsymbol{A^{-1}} = diag(a_{11}^{\\,-1},a_{22}^{\\,-1},\\cdots,a_{mm}^{\\,-1})$\n",
    "\n",
    "5. $(\\boldsymbol{AB})^{\\boldsymbol{-1}}=\\boldsymbol{B^{-1}}\\boldsymbol{A^{-1}}$\n",
    "\n",
    "6. 정칙행렬 $\\boldsymbol{P},\\boldsymbol{Q}$ 에 대하여 $\\begin{pmatrix}\\boldsymbol{P} & 0\\\\ 0 & \\boldsymbol{Q}\\end{pmatrix}^{\\boldsymbol{-1}} = \\begin{pmatrix} \\boldsymbol{P^{-1}} & 0\\\\\n",
    "0 & \\boldsymbol{Q^{-1}}\\end{pmatrix}$"
   ]
  },
  {
   "cell_type": "markdown",
   "id": "naval-boutique",
   "metadata": {},
   "source": [
    "## 직교행렬"
   ]
  },
  {
   "cell_type": "markdown",
   "id": "genuine-spray",
   "metadata": {},
   "source": [
    "`-` 직교행렬(orthogonal matrix)  : 정사각행렬 중에 전치행렬이 역행렬인 행렬 $\\longrightarrow \\boldsymbol{A'} = \\boldsymbol{A^{-1}}$"
   ]
  },
  {
   "cell_type": "markdown",
   "id": "regular-worship",
   "metadata": {},
   "source": [
    "### 직교행렬의 조건"
   ]
  },
  {
   "cell_type": "markdown",
   "id": "spiritual-condition",
   "metadata": {},
   "source": [
    "{% raw %}\n",
    "$${a_j}'a_j = \\begin{cases} 1 & \\text{for $i=j$}\\\\\n",
    "0 & \\text{for $i \\neq j$}\\end{cases}$$\n",
    "{% endraw %}"
   ]
  },
  {
   "cell_type": "markdown",
   "id": "above-bottom",
   "metadata": {},
   "source": [
    "`-` 각 열벡터는 길이가 $1$이고 다른 열벡터와 직교한다 ---> 정규직교벡터\n",
    "\n",
    "`-` $\\boldsymbol{P}$ 가 직교행렬이면 $\\begin{vmatrix}\\boldsymbol{PP'}\\end{vmatrix} = {\\begin{vmatrix}\\boldsymbol{P}\\end{vmatrix}}^{2} = 1$ 이므로 직교행렬의 행렬식은 $\\pm 1$"
   ]
  },
  {
   "cell_type": "markdown",
   "id": "presidential-auditor",
   "metadata": {},
   "source": [
    "## 멱등행렬\n",
    "{% raw %}\n",
    "`-` 멱등행렬(idempotent matrix) : $\\boldsymbol{A}^2=\\boldsymbol{AA}=\\boldsymbol{A}$ 를 만족하는 행렬\n",
    "\n",
    "`-` 멱등행렬의 대표적인 예(회귀분석) ---> $\\boldsymbol{H} = \\boldsymbol{X{(X{\\,'}X)}^{-1}X{\\,'}}$\n",
    "\n",
    "`-` 다양한 예는 교재 참고\n",
    "{% endraw %}"
   ]
  },
  {
   "cell_type": "markdown",
   "id": "mobile-discipline",
   "metadata": {},
   "source": [
    "## 2차형식\n",
    "\n",
    "`-` 2차형식(quadratic form) : 대칭행렬을 사이에 두고 양옆에 같은 벡터가 곱해지는 형태($\\boldsymbol{x'Ax}$)"
   ]
  },
  {
   "cell_type": "markdown",
   "id": "satellite-operator",
   "metadata": {},
   "source": [
    "### (준)정부호행렬\n",
    "\n",
    "`-` 모든 벡터 $\\boldsymbol{x}\\neq 0$ 에 대하여 각 조건을 만족시키는 대칭행렬 $\\boldsymbol{A}$ 는 다음과 같이 정의함\n",
    "\n",
    "1. $\\boldsymbol{x'Ax} > 0$ 이면 $\\boldsymbol{A}$ : 양의 정부호행렬(positive definite matrix) ---> 양정치\n",
    "\n",
    "2. $\\boldsymbol{x'Ax} \\geq 0$ 이면 $\\boldsymbol{A}$ : 양의 준정부호행렬(positive semi-definite matrix) ---> 양반정치"
   ]
  },
  {
   "cell_type": "markdown",
   "id": "a80e6e3d-2d35-4a8e-b78b-77c29c2a320c",
   "metadata": {},
   "source": [
    "# 벡터공간"
   ]
  },
  {
   "cell_type": "markdown",
   "id": "hindu-tattoo",
   "metadata": {},
   "source": [
    "## 벡터공간(vector space)\n",
    "\n",
    "`-` 벡터들을 포함하는 집합 $S$가 다음을 만족하면 벡터공간이라 한다"
   ]
  },
  {
   "cell_type": "markdown",
   "id": "fb834483-5be9-41cc-a4eb-3f669ff0de8d",
   "metadata": {},
   "source": [
    "`1.` $\\boldsymbol{0} \\in S$\n",
    "\n",
    "`2.` $\\boldsymbol{x} \\in S,\\; \\boldsymbol{y} \\in S \\longrightarrow \\boldsymbol{x}+\\boldsymbol{y} \\in S$\n",
    "\n",
    "`3.` $\\boldsymbol{x} \\in S \\longrightarrow \\alpha \\boldsymbol{x} \\in S$"
   ]
  },
  {
   "cell_type": "markdown",
   "id": "c332145b-845d-4c89-ad5d-34e2d521ee96",
   "metadata": {},
   "source": [
    "### 선형결합"
   ]
  },
  {
   "cell_type": "markdown",
   "id": "320475ff-5f9f-4058-98a9-8e0356f1f64f",
   "metadata": {},
   "source": [
    "`-` 다음과 같은 벡터 $\\boldsymbol{v}=\\sum\\limits_{i=1}^{n}\\alpha_i \\boldsymbol{x_i} $를 벡터 $\\boldsymbol{x_1},\\cdots, \\boldsymbol{x_n}$의 `선형결합(linear combination)`이라고 한다"
   ]
  },
  {
   "cell_type": "markdown",
   "id": "e2167840-56b8-4693-a881-da894a6fd96b",
   "metadata": {},
   "source": [
    "### 생성집합"
   ]
  },
  {
   "cell_type": "markdown",
   "id": "af4d8463-66af-45ca-b4e9-06729d6cda25",
   "metadata": {},
   "source": [
    "`-` 벡터공간 $S$에 속하는 모든 벡터 $\\boldsymbol{s}$에 대해 $\\boldsymbol{s}=c_1\\boldsymbol{x_1}+\\cdots+c_m\\boldsymbol{x_m}$을 만족하는\n",
    "\n",
    "`-` 벡터 $\\boldsymbol{c}=(c_1,\\cdots,c_m)^\\top \\in \\mathbb{R}^m$가 존재할 때 $\\{\\boldsymbol{x_1},\\cdots,\\boldsymbol{x_m}\\}$을 $S$의 `생성집합(spanning set)`이라고 한다\n",
    "\n",
    "`-` 예컨대 $S_2 = (a,b,a+b)^\\top$의 경우 $\\{(1,0,1)^\\top,(0,1,1)^\\top\\}$가 생성집합의 예가 될 수 있다"
   ]
  },
  {
   "cell_type": "markdown",
   "id": "fa57e532-2081-4823-8f2f-97cb5c580f27",
   "metadata": {},
   "source": [
    "`-` 두 개의 벡터공간 $S_a,S_b$에 대해 $S_a  \\subset S_b$이면 $S_a$를 $S_b$의 `벡터 부분공간(subspace)`라고 표현하기도 한다"
   ]
  },
  {
   "cell_type": "markdown",
   "id": "cc5c9501-16ec-41cc-a216-d0d03042d728",
   "metadata": {},
   "source": [
    "### 선형독립과 선형종속"
   ]
  },
  {
   "cell_type": "markdown",
   "id": "4a5a5ff4-2c44-4cab-b6ff-39fe18bca4da",
   "metadata": {},
   "source": [
    "`-` 벡터공간 $S$에 포함되는 `영벡터가 아닌` $m$개의 벡터로 이루어진 집합 $\\{\\boldsymbol{x_1},\\cdots,\\boldsymbol{x_m}\\}$에 대해\n",
    "\n",
    "`-` $\\sum\\limits_{i=1}^{m}\\alpha_i\\boldsymbol{x_i}=\\boldsymbol{0}$을 만족시키는 벡터 $\\alpha \\neq \\boldsymbol{0}$가 존재하면\n",
    "\n",
    "`-` $\\{\\boldsymbol{x_1},\\cdots,\\boldsymbol{x_m}\\}$는 `선형종속(linearly dependent)`이다\n",
    "\n",
    "`-` $\\sum\\limits_{i=1}^{m}\\alpha_i\\boldsymbol{x_i}=\\boldsymbol{0}$을 만족시키는 벡터 $\\alpha \\neq \\boldsymbol{0}$가 존재하지 않을 때\n",
    "\n",
    "`-` $\\{\\boldsymbol{x_1},\\cdots,\\boldsymbol{x_m}\\}$는 `선형독립(linearly independent)`이다"
   ]
  },
  {
   "cell_type": "markdown",
   "id": "b7f5d87c-fe66-4925-97bf-c52bc34c4732",
   "metadata": {},
   "source": [
    "> Note : 임의의 벡터집합이 선형종속이기 위한 필요충분조건은 벡터집합의 최소한 하나의 벡터는 다른 벡터들의 선형결합으로 표현되는 것"
   ]
  },
  {
   "cell_type": "markdown",
   "id": "0b22a9bf-4675-4c15-9899-142b3eabaf30",
   "metadata": {},
   "source": [
    "## 행렬의 계수"
   ]
  },
  {
   "cell_type": "markdown",
   "id": "6687a5ea-df19-44e2-baa0-ed98230cfa14",
   "metadata": {},
   "source": [
    "`-` 선형독립인 벡터들의 모임 $\\boldsymbol{x_1},\\cdots,\\boldsymbol{x_m}$이 벡터공간 $S$의 생성집할일 때\n",
    "\n",
    "`-` 이를 벡터공간 $S$의 `기저(basis)`라고 하고 벡터의 수 $m$을 벡터공간 $S$의 `차원(dimension)`이라고 한다\n",
    "\n",
    "`-` `정규직교기저(orthonormal basis)` : $\\lVert \\boldsymbol{x} \\rVert= 1, \\lVert \\boldsymbol{y} \\rVert = 1,\\quad \\boldsymbol{x^\\top} \\boldsymbol{y} = 0,\\quad \\forall \\boldsymbol{x},\\boldsymbol{y}\\in B$"
   ]
  },
  {
   "cell_type": "markdown",
   "id": "prompt-battlefield",
   "metadata": {},
   "source": [
    "## 고유값과 고유벡터"
   ]
  },
  {
   "cell_type": "code",
   "execution_count": null,
   "id": "8039eb57-a60b-4972-8613-eaeebcbbf67d",
   "metadata": {},
   "outputs": [],
   "source": []
  }
 ],
 "metadata": {
  "kernelspec": {
   "display_name": "Python 3 (ipykernel)",
   "language": "python",
   "name": "python3"
  },
  "language_info": {
   "codemirror_mode": {
    "name": "ipython",
    "version": 3
   },
   "file_extension": ".py",
   "mimetype": "text/x-python",
   "name": "python",
   "nbconvert_exporter": "python",
   "pygments_lexer": "ipython3",
   "version": "3.8.11"
  }
 },
 "nbformat": 4,
 "nbformat_minor": 5
}
