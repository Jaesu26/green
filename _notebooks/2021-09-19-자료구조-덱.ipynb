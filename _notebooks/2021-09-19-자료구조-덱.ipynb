{
 "cells": [
  {
   "cell_type": "markdown",
   "id": "manufactured-division",
   "metadata": {},
   "source": [
    "# 자료구조 덱\n",
    "\n",
    "> \"작성 완료\"\n",
    "\n",
    "- toc: true\n",
    "- branch: master\n",
    "- badges: true\n",
    "- comments: true\n",
    "- author: 한재수\n",
    "- categories: [Data Structure]"
   ]
  },
  {
   "cell_type": "markdown",
   "id": "floating-trout",
   "metadata": {},
   "source": [
    "# 덱 (Deque)"
   ]
  },
  {
   "cell_type": "markdown",
   "id": "handy-holmes",
   "metadata": {},
   "source": [
    "`-` 양쪽 끝에서 삽입과 삭제가 모두 가능한 자료 구조의 한 형태\n",
    "\n",
    "`-` 두 개의 포인터를 사용하여 양쪽에서 삭제와 삽입을 발생 시킬 수 있음 ---> 큐와 스택을 합친 형태\n",
    "\n",
    "`-` 참고: [자료구조 덱][website]\n",
    "\n",
    "[website]: https://ko.wikipedia.org/wiki/%EB%8D%B1_(%EC%9E%90%EB%A3%8C_%EA%B5%AC%EC%A1%B0)"
   ]
  },
  {
   "cell_type": "markdown",
   "id": "resistant-attempt",
   "metadata": {},
   "source": [
    "## 덱 사용 "
   ]
  },
  {
   "cell_type": "markdown",
   "id": "unlikely-worker",
   "metadata": {},
   "source": [
    "`-` 파이썬에서 덱은 from collections import deque를 실행한 후 `deque()`통해 구현할 수 있다\n",
    "\n",
    "`-` `deque.append(x)`를 통해 덱에 x를 오른쪽(뒤)에 push한다\n",
    "\n",
    "`-` `deque.appendleft(x)`를 통해 덱에 x를 왼쪽(앞)에 push한다\n",
    "\n",
    "`-` `deque.pop()`를 통해 덱에서 뒤의 원소를 pop한다\n",
    "\n",
    "`-` `deque.popleft()`를 통해 덱에서 앞의 원소를 pop한다\n",
    "\n",
    "`-` 참고: [deque in python](https://www.geeksforgeeks.org/deque-in-python/)"
   ]
  },
  {
   "cell_type": "markdown",
   "id": "acquired-warning",
   "metadata": {},
   "source": [
    "### 예제 "
   ]
  },
  {
   "cell_type": "code",
   "execution_count": 2,
   "id": "caring-occupation",
   "metadata": {},
   "outputs": [
    {
     "data": {
      "text/plain": [
       "deque([1, 2, 3, 4, 5])"
      ]
     },
     "execution_count": 2,
     "metadata": {},
     "output_type": "execute_result"
    }
   ],
   "source": [
    "from collections import deque  # 덱(deque)를 사용하기 위해 deque 라이브러리 import\n",
    "\n",
    "deque = deque([1, 2, 3, 4, 5])  # 큐(queue) 자료구조 생성 ---> deque([1, 2, 3, 4, 5])\n",
    "deque.append(1)  # 덱의 뒤에 1 추가 ---> deque([1, 2, 3, 4, 5, 1]) \n",
    "deque.appendleft(2)  # 덱의 앞에 2 추가 ---> deque([2, 1, 2, 3, 4, 5, 1]) \n",
    "deque.popleft()  # 덱에서 앞의 원소를 추출함 --->  deque([1, 2, 3, 4, 5, 1])\n",
    "deque.pop()  # 덱에서 뒤의 원소를 추출함 ---> deque([1, 2, 3, 4, 5])\n",
    "deque"
   ]
  },
  {
   "cell_type": "code",
   "execution_count": null,
   "id": "compressed-shooting",
   "metadata": {},
   "outputs": [],
   "source": []
  }
 ],
 "metadata": {
  "kernelspec": {
   "display_name": "Python 3 (ipykernel)",
   "language": "python",
   "name": "python3"
  },
  "language_info": {
   "codemirror_mode": {
    "name": "ipython",
    "version": 3
   },
   "file_extension": ".py",
   "mimetype": "text/x-python",
   "name": "python",
   "nbconvert_exporter": "python",
   "pygments_lexer": "ipython3",
   "version": "3.8.11"
  }
 },
 "nbformat": 4,
 "nbformat_minor": 5
}
