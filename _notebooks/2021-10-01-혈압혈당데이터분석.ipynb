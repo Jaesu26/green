{
 "cells": [
  {
   "cell_type": "markdown",
   "id": "fcf0cc14-8497-4dc5-9170-6e83f8b4aaed",
   "metadata": {
    "tags": []
   },
   "source": [
    "# 혈압-혈당 데이터 분석\n",
    "\n",
    "> \"작성 중\"\n",
    "\n",
    "- toc: true\n",
    "- branch: master\n",
    "- badges: true\n",
    "- comments: true\n",
    "- author: 한재수\n",
    "- categories: [python, visualization]"
   ]
  },
  {
   "cell_type": "markdown",
   "id": "a94db954-b98a-4167-8fe7-cb2286281804",
   "metadata": {
    "tags": []
   },
   "source": [
    "# 패키지 import 및 데이터 전처리"
   ]
  },
  {
   "cell_type": "markdown",
   "id": "83755ebc-a579-4ee3-8eb2-cbefa09ddda7",
   "metadata": {},
   "source": [
    "`-` 데이터 출처 : https://nhiss.nhis.or.kr/bd/ab/bdabf003cv.do"
   ]
  },
  {
   "cell_type": "markdown",
   "id": "34532ed4-7e9c-486f-94ba-ec9463130345",
   "metadata": {},
   "source": [
    "`-` 한글 깨짐 참고 : https://mirae-kim.tistory.com/14"
   ]
  },
  {
   "cell_type": "code",
   "execution_count": 1,
   "id": "eec2395f-0c68-43b6-b473-2cb9dfe80048",
   "metadata": {},
   "outputs": [],
   "source": [
    "import pandas as pd\n",
    "import numpy as np\n",
    "import matplotlib.pyplot as plt\n",
    "import seaborn as sns\n",
    "import matplotlib\n",
    "\n",
    "sns.set_theme() # 테마 설정\n",
    "matplotlib.rcParams['font.family'] = 'Malgun Gothic' # 한글이 깨재지 않도록 설정\n",
    "matplotlib.rcParams['axes.unicode_minus'] = False    # 한글이 깨재지 않도록 설정\n",
    "\n",
    "# import plotly.express as px \n",
    "# from plotnine import *\n",
    "# import plotly.figure_factory as ff\n",
    "\n",
    "blood_checkup = pd.read_csv('C:/Users/한재수/big-data_introduction/국가건강검진_혈압혈당데이터.csv', header = 0) ## 2013~2014년에 실시된 백만개의 국가건강검진_혈압혈당데이터"
   ]
  },
  {
   "cell_type": "code",
   "execution_count": 46,
   "id": "984556b7-a810-45be-a711-f7a184a5fc01",
   "metadata": {},
   "outputs": [
    {
     "data": {
      "text/plain": [
       "(1000000, 7)"
      ]
     },
     "execution_count": 46,
     "metadata": {},
     "output_type": "execute_result"
    }
   ],
   "source": [
    "blood_checkup.shape ## matrix는 1000000 × 7 크기"
   ]
  },
  {
   "cell_type": "code",
   "execution_count": 47,
   "id": "0846f979-1df2-4dd7-ab8c-e8d646c83ba3",
   "metadata": {},
   "outputs": [
    {
     "name": "stdout",
     "output_type": "stream",
     "text": [
      "<class 'pandas.core.frame.DataFrame'>\n",
      "RangeIndex: 1000000 entries, 0 to 999999\n",
      "Data columns (total 7 columns):\n",
      " #   Column  Non-Null Count    Dtype  \n",
      "---  ------  --------------    -----  \n",
      " 0   SEX     1000000 non-null  int64  \n",
      " 1   BTH_G   1000000 non-null  int64  \n",
      " 2   SBP     1000000 non-null  int64  \n",
      " 3   DBP     1000000 non-null  int64  \n",
      " 4   FBS     1000000 non-null  int64  \n",
      " 5   DIS     1000000 non-null  int64  \n",
      " 6   BMI     1000000 non-null  float64\n",
      "dtypes: float64(1), int64(6)\n",
      "memory usage: 53.4 MB\n"
     ]
    }
   ],
   "source": [
    "blood_checkup.info()"
   ]
  },
  {
   "cell_type": "markdown",
   "id": "60575e11-a546-4a1e-8427-35257dd23bb4",
   "metadata": {},
   "source": [
    "`-` 결측치는 없다"
   ]
  },
  {
   "cell_type": "code",
   "execution_count": 48,
   "id": "0b7e32e9-ae31-4c78-ac48-611ffd68e113",
   "metadata": {},
   "outputs": [
    {
     "data": {
      "text/html": [
       "<div>\n",
       "<style scoped>\n",
       "    .dataframe tbody tr th:only-of-type {\n",
       "        vertical-align: middle;\n",
       "    }\n",
       "\n",
       "    .dataframe tbody tr th {\n",
       "        vertical-align: top;\n",
       "    }\n",
       "\n",
       "    .dataframe thead th {\n",
       "        text-align: right;\n",
       "    }\n",
       "</style>\n",
       "<table border=\"1\" class=\"dataframe\">\n",
       "  <thead>\n",
       "    <tr style=\"text-align: right;\">\n",
       "      <th></th>\n",
       "      <th>SEX</th>\n",
       "      <th>BTH_G</th>\n",
       "      <th>SBP</th>\n",
       "      <th>DBP</th>\n",
       "      <th>FBS</th>\n",
       "      <th>DIS</th>\n",
       "      <th>BMI</th>\n",
       "    </tr>\n",
       "  </thead>\n",
       "  <tbody>\n",
       "    <tr>\n",
       "      <th>count</th>\n",
       "      <td>1000000.000000</td>\n",
       "      <td>1000000.000000</td>\n",
       "      <td>1000000.000000</td>\n",
       "      <td>1000000.000000</td>\n",
       "      <td>1000000.000000</td>\n",
       "      <td>1000000.000000</td>\n",
       "      <td>1000000.000000</td>\n",
       "    </tr>\n",
       "    <tr>\n",
       "      <th>mean</th>\n",
       "      <td>1.489773</td>\n",
       "      <td>13.905268</td>\n",
       "      <td>121.871763</td>\n",
       "      <td>75.787874</td>\n",
       "      <td>98.864428</td>\n",
       "      <td>3.471040</td>\n",
       "      <td>23.804029</td>\n",
       "    </tr>\n",
       "    <tr>\n",
       "      <th>std</th>\n",
       "      <td>0.499896</td>\n",
       "      <td>7.006442</td>\n",
       "      <td>14.561706</td>\n",
       "      <td>9.793411</td>\n",
       "      <td>22.981300</td>\n",
       "      <td>0.946151</td>\n",
       "      <td>3.297287</td>\n",
       "    </tr>\n",
       "    <tr>\n",
       "      <th>min</th>\n",
       "      <td>1.000000</td>\n",
       "      <td>1.000000</td>\n",
       "      <td>82.000000</td>\n",
       "      <td>50.000000</td>\n",
       "      <td>60.000000</td>\n",
       "      <td>1.000000</td>\n",
       "      <td>14.800000</td>\n",
       "    </tr>\n",
       "    <tr>\n",
       "      <th>25%</th>\n",
       "      <td>1.000000</td>\n",
       "      <td>9.000000</td>\n",
       "      <td>110.000000</td>\n",
       "      <td>70.000000</td>\n",
       "      <td>87.000000</td>\n",
       "      <td>3.000000</td>\n",
       "      <td>21.500000</td>\n",
       "    </tr>\n",
       "    <tr>\n",
       "      <th>50%</th>\n",
       "      <td>1.000000</td>\n",
       "      <td>14.000000</td>\n",
       "      <td>120.000000</td>\n",
       "      <td>76.000000</td>\n",
       "      <td>94.000000</td>\n",
       "      <td>4.000000</td>\n",
       "      <td>23.600000</td>\n",
       "    </tr>\n",
       "    <tr>\n",
       "      <th>75%</th>\n",
       "      <td>2.000000</td>\n",
       "      <td>19.000000</td>\n",
       "      <td>130.000000</td>\n",
       "      <td>80.000000</td>\n",
       "      <td>104.000000</td>\n",
       "      <td>4.000000</td>\n",
       "      <td>25.800000</td>\n",
       "    </tr>\n",
       "    <tr>\n",
       "      <th>max</th>\n",
       "      <td>2.000000</td>\n",
       "      <td>27.000000</td>\n",
       "      <td>190.000000</td>\n",
       "      <td>120.000000</td>\n",
       "      <td>358.000000</td>\n",
       "      <td>4.000000</td>\n",
       "      <td>40.300000</td>\n",
       "    </tr>\n",
       "  </tbody>\n",
       "</table>\n",
       "</div>"
      ],
      "text/plain": [
       "                  SEX           BTH_G             SBP             DBP  \\\n",
       "count  1000000.000000  1000000.000000  1000000.000000  1000000.000000   \n",
       "mean         1.489773       13.905268      121.871763       75.787874   \n",
       "std          0.499896        7.006442       14.561706        9.793411   \n",
       "min          1.000000        1.000000       82.000000       50.000000   \n",
       "25%          1.000000        9.000000      110.000000       70.000000   \n",
       "50%          1.000000       14.000000      120.000000       76.000000   \n",
       "75%          2.000000       19.000000      130.000000       80.000000   \n",
       "max          2.000000       27.000000      190.000000      120.000000   \n",
       "\n",
       "                  FBS             DIS             BMI  \n",
       "count  1000000.000000  1000000.000000  1000000.000000  \n",
       "mean        98.864428        3.471040       23.804029  \n",
       "std         22.981300        0.946151        3.297287  \n",
       "min         60.000000        1.000000       14.800000  \n",
       "25%         87.000000        3.000000       21.500000  \n",
       "50%         94.000000        4.000000       23.600000  \n",
       "75%        104.000000        4.000000       25.800000  \n",
       "max        358.000000        4.000000       40.300000  "
      ]
     },
     "execution_count": 48,
     "metadata": {},
     "output_type": "execute_result"
    }
   ],
   "source": [
    "blood_checkup.describe()"
   ]
  },
  {
   "cell_type": "markdown",
   "id": "27a5b75b-9fff-43d3-9b89-41a808a6555a",
   "metadata": {},
   "source": [
    "`-` 우선 열 이름을 변경해주자"
   ]
  },
  {
   "cell_type": "code",
   "execution_count": 2,
   "id": "82ffd253-60fe-4db7-a1e7-abad710691db",
   "metadata": {},
   "outputs": [],
   "source": [
    "blood_checkup.columns = ['성별', '연령대', '수축기혈압', '이완기혈압', '공복혈당', '고혈압_당뇨', 'BMI']"
   ]
  },
  {
   "cell_type": "code",
   "execution_count": 56,
   "id": "091752d3-3109-4873-8b19-79830ef566d7",
   "metadata": {},
   "outputs": [
    {
     "data": {
      "text/html": [
       "<div>\n",
       "<style scoped>\n",
       "    .dataframe tbody tr th:only-of-type {\n",
       "        vertical-align: middle;\n",
       "    }\n",
       "\n",
       "    .dataframe tbody tr th {\n",
       "        vertical-align: top;\n",
       "    }\n",
       "\n",
       "    .dataframe thead th {\n",
       "        text-align: right;\n",
       "    }\n",
       "</style>\n",
       "<table border=\"1\" class=\"dataframe\">\n",
       "  <thead>\n",
       "    <tr style=\"text-align: right;\">\n",
       "      <th></th>\n",
       "      <th>성별</th>\n",
       "      <th>연령대</th>\n",
       "      <th>수축기혈압</th>\n",
       "      <th>이완기혈압</th>\n",
       "      <th>공복혈당</th>\n",
       "      <th>고혈압_당뇨</th>\n",
       "      <th>BMI</th>\n",
       "    </tr>\n",
       "  </thead>\n",
       "  <tbody>\n",
       "    <tr>\n",
       "      <th>0</th>\n",
       "      <td>1</td>\n",
       "      <td>1</td>\n",
       "      <td>116</td>\n",
       "      <td>78</td>\n",
       "      <td>94</td>\n",
       "      <td>4</td>\n",
       "      <td>16.6</td>\n",
       "    </tr>\n",
       "    <tr>\n",
       "      <th>1</th>\n",
       "      <td>1</td>\n",
       "      <td>1</td>\n",
       "      <td>100</td>\n",
       "      <td>60</td>\n",
       "      <td>79</td>\n",
       "      <td>4</td>\n",
       "      <td>22.3</td>\n",
       "    </tr>\n",
       "    <tr>\n",
       "      <th>2</th>\n",
       "      <td>1</td>\n",
       "      <td>1</td>\n",
       "      <td>100</td>\n",
       "      <td>60</td>\n",
       "      <td>87</td>\n",
       "      <td>4</td>\n",
       "      <td>21.9</td>\n",
       "    </tr>\n",
       "    <tr>\n",
       "      <th>3</th>\n",
       "      <td>1</td>\n",
       "      <td>1</td>\n",
       "      <td>111</td>\n",
       "      <td>70</td>\n",
       "      <td>72</td>\n",
       "      <td>4</td>\n",
       "      <td>20.2</td>\n",
       "    </tr>\n",
       "    <tr>\n",
       "      <th>4</th>\n",
       "      <td>1</td>\n",
       "      <td>1</td>\n",
       "      <td>120</td>\n",
       "      <td>80</td>\n",
       "      <td>98</td>\n",
       "      <td>4</td>\n",
       "      <td>20.0</td>\n",
       "    </tr>\n",
       "    <tr>\n",
       "      <th>5</th>\n",
       "      <td>1</td>\n",
       "      <td>1</td>\n",
       "      <td>115</td>\n",
       "      <td>79</td>\n",
       "      <td>95</td>\n",
       "      <td>4</td>\n",
       "      <td>23.1</td>\n",
       "    </tr>\n",
       "  </tbody>\n",
       "</table>\n",
       "</div>"
      ],
      "text/plain": [
       "   성별  연령대  수축기혈압  이완기혈압  공복혈당  고혈압_당뇨   BMI\n",
       "0   1    1    116     78    94       4  16.6\n",
       "1   1    1    100     60    79       4  22.3\n",
       "2   1    1    100     60    87       4  21.9\n",
       "3   1    1    111     70    72       4  20.2\n",
       "4   1    1    120     80    98       4  20.0\n",
       "5   1    1    115     79    95       4  23.1"
      ]
     },
     "execution_count": 56,
     "metadata": {},
     "output_type": "execute_result"
    }
   ],
   "source": [
    "blood_checkup.head(6)"
   ]
  },
  {
   "cell_type": "markdown",
   "id": "98a52f2f-37ee-4579-ba9d-beb78532939d",
   "metadata": {},
   "source": [
    "|고혈압/당뇨병 진료여부 | 숫자|\n",
    "|:-:|:-:|\n",
    "|고혈압/당뇨병 진료내역 있음| 1|\n",
    "|고혈압 진료내역 있음| 2|\n",
    "|당뇨병 진료내역 있음| 3|\n",
    "|고혈압/당뇨병 진료내역 없음| 4|"
   ]
  },
  {
   "cell_type": "markdown",
   "id": "9f0cdc1a-cd16-42f8-87ca-e87f2cd0da52",
   "metadata": {},
   "source": [
    "`-` 현재 연령대 column 이 가지는 값은 1부터 27 까지인데 이들에는 1 => 20~24 2 부터는 24살부터 2세 간격으로 끊어진 연령대가 할당되어 27 => 75+ 이다"
   ]
  },
  {
   "cell_type": "markdown",
   "id": "e0439ce9-0a92-4373-9c30-5c2c60c6109b",
   "metadata": {},
   "source": [
    "`-` 변수가 가지는 범주가 너무 많고 범주가 가지는 나이의 범위가 현재 2세인데 조금 더 늘려도 크게 차이가 있을 것 같지는 않다\n",
    "\n",
    "`-` 표본수가 많으므로 10세 간격으로 끊지 않고 5세 간격으로 끊어 비슷한 연령끼리 그룹화 하자\n",
    "\n",
    "`-` 애매한 것은 연령대 데이터가 31-32, 33-34, 35-36, 37-38, 39-40 이런식으로 되어있어 5개씩 나눌 수 가 없는 점이다\n",
    "\n",
    "`-` 일단은 31\\~34, 35\\~40 과 같이 나누기로 하자\n",
    "\n",
    "`-` 아니면 50%씩 무작위로 정할까?"
   ]
  },
  {
   "cell_type": "code",
   "execution_count": 3,
   "id": "e3c6ff84-a0ce-4e73-815b-3a896d29e870",
   "metadata": {},
   "outputs": [],
   "source": [
    "## 데이터 전처리 \n",
    "age = 2\n",
    "cnt = 2\n",
    "\n",
    "for i in range(1, 27):  \n",
    "        \n",
    "    if cnt < 3:\n",
    "        str_ = '초반'\n",
    "        \n",
    "    else:\n",
    "        str_ = '후반'\n",
    "        \n",
    "    blood_checkup.loc[blood_checkup['연령대'] == i, '연령대'] = str(age) + '0대' + str_\n",
    "    \n",
    "    if cnt == 5:\n",
    "        age += 1\n",
    "        cnt = 0\n",
    "        \n",
    "    cnt += 1\n",
    "    \n",
    "blood_checkup.loc[blood_checkup['연령대'] == 27, '연령대'] = '75세 이상' ## 75세 이상은 따로 정의함"
   ]
  },
  {
   "cell_type": "markdown",
   "id": "11767bd7-aa96-4f39-8531-6c902401c612",
   "metadata": {},
   "source": [
    "`-` 연령대의 도수분포표를 그려보자"
   ]
  },
  {
   "cell_type": "code",
   "execution_count": 7,
   "id": "ab2296eb-4134-44ae-8deb-a1f77d109932",
   "metadata": {},
   "outputs": [],
   "source": [
    "ft = blood_checkup['연령대'].value_counts() # 유일한 값별 개수를 세준다 # sort = True, ascending = True 옵션을 통해 내립차순 또는 오름차순으로 정렬 가능함\n",
    "rft = blood_checkup['연령대'].value_counts() / len(blood_checkup['연령대']) # relative frequency"
   ]
  },
  {
   "cell_type": "code",
   "execution_count": 9,
   "id": "4c16e7c0-6600-42af-9369-d35dde85e26a",
   "metadata": {},
   "outputs": [
    {
     "data": {
      "text/html": [
       "<div>\n",
       "<style scoped>\n",
       "    .dataframe tbody tr th:only-of-type {\n",
       "        vertical-align: middle;\n",
       "    }\n",
       "\n",
       "    .dataframe tbody tr th {\n",
       "        vertical-align: top;\n",
       "    }\n",
       "\n",
       "    .dataframe thead th {\n",
       "        text-align: right;\n",
       "    }\n",
       "</style>\n",
       "<table border=\"1\" class=\"dataframe\">\n",
       "  <thead>\n",
       "    <tr style=\"text-align: right;\">\n",
       "      <th></th>\n",
       "      <th>Freq</th>\n",
       "      <th>Relative freq</th>\n",
       "    </tr>\n",
       "  </thead>\n",
       "  <tbody>\n",
       "    <tr>\n",
       "      <th>40대후반</th>\n",
       "      <td>142220</td>\n",
       "      <td>0.142220</td>\n",
       "    </tr>\n",
       "    <tr>\n",
       "      <th>50대후반</th>\n",
       "      <td>129982</td>\n",
       "      <td>0.129982</td>\n",
       "    </tr>\n",
       "    <tr>\n",
       "      <th>30대후반</th>\n",
       "      <td>113551</td>\n",
       "      <td>0.113551</td>\n",
       "    </tr>\n",
       "    <tr>\n",
       "      <th>50대초반</th>\n",
       "      <td>105734</td>\n",
       "      <td>0.105734</td>\n",
       "    </tr>\n",
       "    <tr>\n",
       "      <th>40대초반</th>\n",
       "      <td>101668</td>\n",
       "      <td>0.101668</td>\n",
       "    </tr>\n",
       "    <tr>\n",
       "      <th>20대후반</th>\n",
       "      <td>79918</td>\n",
       "      <td>0.079918</td>\n",
       "    </tr>\n",
       "    <tr>\n",
       "      <th>60대후반</th>\n",
       "      <td>77879</td>\n",
       "      <td>0.077879</td>\n",
       "    </tr>\n",
       "    <tr>\n",
       "      <th>30대초반</th>\n",
       "      <td>68781</td>\n",
       "      <td>0.068781</td>\n",
       "    </tr>\n",
       "    <tr>\n",
       "      <th>60대초반</th>\n",
       "      <td>64670</td>\n",
       "      <td>0.064670</td>\n",
       "    </tr>\n",
       "    <tr>\n",
       "      <th>75세 이상</th>\n",
       "      <td>45905</td>\n",
       "      <td>0.045905</td>\n",
       "    </tr>\n",
       "    <tr>\n",
       "      <th>70대초반</th>\n",
       "      <td>42993</td>\n",
       "      <td>0.042993</td>\n",
       "    </tr>\n",
       "    <tr>\n",
       "      <th>20대초반</th>\n",
       "      <td>26699</td>\n",
       "      <td>0.026699</td>\n",
       "    </tr>\n",
       "  </tbody>\n",
       "</table>\n",
       "</div>"
      ],
      "text/plain": [
       "          Freq  Relative freq\n",
       "40대후반   142220       0.142220\n",
       "50대후반   129982       0.129982\n",
       "30대후반   113551       0.113551\n",
       "50대초반   105734       0.105734\n",
       "40대초반   101668       0.101668\n",
       "20대후반    79918       0.079918\n",
       "60대후반    77879       0.077879\n",
       "30대초반    68781       0.068781\n",
       "60대초반    64670       0.064670\n",
       "75세 이상   45905       0.045905\n",
       "70대초반    42993       0.042993\n",
       "20대초반    26699       0.026699"
      ]
     },
     "execution_count": 9,
     "metadata": {},
     "output_type": "execute_result"
    }
   ],
   "source": [
    "ages_table = pd.DataFrame({'Freq': ft, 'Relative freq': rft}) # 딕셔너리를 통해 dataframe 생성\n",
    "ages_table"
   ]
  },
  {
   "cell_type": "markdown",
   "id": "7f397a4a-5c2e-4d8a-a612-5cdb0d50b307",
   "metadata": {},
   "source": [
    "`-` '초반'은 2개의 범주를 '후반'은 3개의 범주를 합쳤기에 '후반'의 표본 크기가 더 많긴하지만 각 범주의 표본 크기가 매우 크므로 괜찮아 보인다\n",
    "\n",
    "`-` 그런데 20대 초반 ---> 75세 이상 순서이면 좋겠음"
   ]
  },
  {
   "cell_type": "code",
   "execution_count": 10,
   "id": "6e17f802-2331-4cb6-9382-933865a9a39b",
   "metadata": {},
   "outputs": [
    {
     "data": {
      "text/html": [
       "<div>\n",
       "<style scoped>\n",
       "    .dataframe tbody tr th:only-of-type {\n",
       "        vertical-align: middle;\n",
       "    }\n",
       "\n",
       "    .dataframe tbody tr th {\n",
       "        vertical-align: top;\n",
       "    }\n",
       "\n",
       "    .dataframe thead th {\n",
       "        text-align: right;\n",
       "    }\n",
       "</style>\n",
       "<table border=\"1\" class=\"dataframe\">\n",
       "  <thead>\n",
       "    <tr style=\"text-align: right;\">\n",
       "      <th></th>\n",
       "      <th>Freq</th>\n",
       "      <th>Relative freq</th>\n",
       "    </tr>\n",
       "  </thead>\n",
       "  <tbody>\n",
       "    <tr>\n",
       "      <th>20대초반</th>\n",
       "      <td>26699</td>\n",
       "      <td>0.026699</td>\n",
       "    </tr>\n",
       "    <tr>\n",
       "      <th>20대후반</th>\n",
       "      <td>79918</td>\n",
       "      <td>0.079918</td>\n",
       "    </tr>\n",
       "    <tr>\n",
       "      <th>30대초반</th>\n",
       "      <td>68781</td>\n",
       "      <td>0.068781</td>\n",
       "    </tr>\n",
       "    <tr>\n",
       "      <th>30대후반</th>\n",
       "      <td>113551</td>\n",
       "      <td>0.113551</td>\n",
       "    </tr>\n",
       "    <tr>\n",
       "      <th>40대초반</th>\n",
       "      <td>101668</td>\n",
       "      <td>0.101668</td>\n",
       "    </tr>\n",
       "    <tr>\n",
       "      <th>40대후반</th>\n",
       "      <td>142220</td>\n",
       "      <td>0.142220</td>\n",
       "    </tr>\n",
       "    <tr>\n",
       "      <th>50대초반</th>\n",
       "      <td>105734</td>\n",
       "      <td>0.105734</td>\n",
       "    </tr>\n",
       "    <tr>\n",
       "      <th>50대후반</th>\n",
       "      <td>129982</td>\n",
       "      <td>0.129982</td>\n",
       "    </tr>\n",
       "    <tr>\n",
       "      <th>60대초반</th>\n",
       "      <td>64670</td>\n",
       "      <td>0.064670</td>\n",
       "    </tr>\n",
       "    <tr>\n",
       "      <th>60대후반</th>\n",
       "      <td>77879</td>\n",
       "      <td>0.077879</td>\n",
       "    </tr>\n",
       "    <tr>\n",
       "      <th>70대초반</th>\n",
       "      <td>42993</td>\n",
       "      <td>0.042993</td>\n",
       "    </tr>\n",
       "    <tr>\n",
       "      <th>75세 이상</th>\n",
       "      <td>45905</td>\n",
       "      <td>0.045905</td>\n",
       "    </tr>\n",
       "  </tbody>\n",
       "</table>\n",
       "</div>"
      ],
      "text/plain": [
       "          Freq  Relative freq\n",
       "20대초반    26699       0.026699\n",
       "20대후반    79918       0.079918\n",
       "30대초반    68781       0.068781\n",
       "30대후반   113551       0.113551\n",
       "40대초반   101668       0.101668\n",
       "40대후반   142220       0.142220\n",
       "50대초반   105734       0.105734\n",
       "50대후반   129982       0.129982\n",
       "60대초반    64670       0.064670\n",
       "60대후반    77879       0.077879\n",
       "70대초반    42993       0.042993\n",
       "75세 이상   45905       0.045905"
      ]
     },
     "execution_count": 10,
     "metadata": {},
     "output_type": "execute_result"
    }
   ],
   "source": [
    "ages_table.sort_index()"
   ]
  },
  {
   "cell_type": "markdown",
   "id": "9c41ebef-7dff-4b08-a075-06026cc85bde",
   "metadata": {},
   "source": [
    "`-` 31 ~ 60 세 까지가 전체의 60%를 차지한다\n",
    "\n",
    "`-` 음 ...... 각 범주의 표본 크기가 크긴 해도 '초반'은 1\\~5로 하고 '후반'은 6\\~10으로 하면 균등해지고 좋을 것 같다\n",
    "\n",
    "`-` 변수에 대한 설명서를 읽어보면 5~6에 해당하는 범주의 값은 2, 7, 12, 17, 22이다\n",
    "\n",
    "`-` 위의 범주를 무작위로 50%씩 나눠서 반절은 '초반'에 나머지 반절은 '후반'에 할당하자"
   ]
  },
  {
   "cell_type": "markdown",
   "id": "43ac3ce7-de8a-4830-be8b-1742c25ca4de",
   "metadata": {},
   "source": [
    "## 다시 데이터 pandas로 불러오기"
   ]
  },
  {
   "cell_type": "code",
   "execution_count": 2,
   "id": "75cc9250-7b7e-4943-97d9-eeb4023836ee",
   "metadata": {},
   "outputs": [],
   "source": [
    "df = pd.read_csv('C:/Users/한재수/big-data_introduction/국가건강검진_혈압혈당데이터.csv', header = 0) ## 2013~2014년에 실시된 백만개의 국가건강검진_혈압혈당데이터"
   ]
  },
  {
   "cell_type": "code",
   "execution_count": 3,
   "id": "a2952573-5256-4793-9134-33474f184185",
   "metadata": {},
   "outputs": [],
   "source": [
    "df.columns = ['성별', '연령대', '수축기혈압', '이완기혈압', '공복혈당', '고혈압_당뇨', 'BMI']"
   ]
  },
  {
   "cell_type": "code",
   "execution_count": 4,
   "id": "074f30ce-60ba-4f4f-afa8-97c0e021308d",
   "metadata": {},
   "outputs": [],
   "source": [
    "np.random.seed(2021)\n",
    "rs = np.random.binomial(n = 1, p = 0.5, size = 60000) ## 연령대 범주가 가지는 최대 크기는 대략 53000이므로 60000개를 뽑았다"
   ]
  },
  {
   "cell_type": "markdown",
   "id": "ed28344c-4a30-4a38-babc-77dae242deb1",
   "metadata": {},
   "source": [
    "`-` 혈압혈당데이터는 건강검진을 받은 사람들 중 백만명을 무작위로 샘플링했다\n",
    "\n",
    "`-` 그렇기에 주기성이 없을 것이니 하나의 난수를 가지고 20~60세의 초반, 후반을 나누자"
   ]
  },
  {
   "cell_type": "code",
   "execution_count": 5,
   "id": "0c0cc194-724f-49a9-b8e4-1d941ba1d800",
   "metadata": {},
   "outputs": [],
   "source": [
    "## 데이터 전처리\n",
    "c = 2\n",
    "age = 2\n",
    "cnt = 3\n",
    "\n",
    "df.loc[df['연령대'] == 1, '연령대'] = '20대초반' \n",
    "\n",
    "for idx in [2, 7, 12, 17, 22]:\n",
    "    df_ = df.loc[df['연령대'] == idx, '연령대']\n",
    "    df.loc[df['연령대'] == idx, '연령대'] = rs[: len(df_)]\n",
    "    df.loc[df['연령대'] == 0, '연령대'] = str(c) + '0대초반'\n",
    "    df.loc[df['연령대'] == 1, '연령대'] = str(c) + '0대후반'\n",
    "    c += 1\n",
    "    \n",
    "    \n",
    "for i in range(2, 27):  \n",
    "    if cnt < 3:\n",
    "        str_ = '초반'\n",
    "        \n",
    "    else:\n",
    "        str_ = '후반'\n",
    "        \n",
    "    df.loc[df['연령대'] == i, '연령대'] = str(age) + '0대' + str_\n",
    "    \n",
    "    if cnt == 5:\n",
    "        age += 1\n",
    "        cnt = 0\n",
    "        \n",
    "    cnt += 1\n",
    "    \n",
    "df.loc[df['연령대'] == 27, '연령대'] = '75세이상' "
   ]
  },
  {
   "cell_type": "code",
   "execution_count": 6,
   "id": "7c1b4d8f-175f-4c4f-912a-b1ad7cd7f90a",
   "metadata": {},
   "outputs": [],
   "source": [
    "ft = df['연령대'].value_counts() \n",
    "rft = df['연령대'].value_counts() / len(df['연령대']) "
   ]
  },
  {
   "cell_type": "code",
   "execution_count": 7,
   "id": "4458cc7e-876f-4bc0-bb83-7e13a6d9ca96",
   "metadata": {},
   "outputs": [
    {
     "data": {
      "text/html": [
       "<div>\n",
       "<style scoped>\n",
       "    .dataframe tbody tr th:only-of-type {\n",
       "        vertical-align: middle;\n",
       "    }\n",
       "\n",
       "    .dataframe tbody tr th {\n",
       "        vertical-align: top;\n",
       "    }\n",
       "\n",
       "    .dataframe thead th {\n",
       "        text-align: right;\n",
       "    }\n",
       "</style>\n",
       "<table border=\"1\" class=\"dataframe\">\n",
       "  <thead>\n",
       "    <tr style=\"text-align: right;\">\n",
       "      <th></th>\n",
       "      <th>Freq</th>\n",
       "      <th>Relative freq</th>\n",
       "    </tr>\n",
       "  </thead>\n",
       "  <tbody>\n",
       "    <tr>\n",
       "      <th>50대초반</th>\n",
       "      <td>129559</td>\n",
       "      <td>0.129559</td>\n",
       "    </tr>\n",
       "    <tr>\n",
       "      <th>40대초반</th>\n",
       "      <td>126398</td>\n",
       "      <td>0.126398</td>\n",
       "    </tr>\n",
       "    <tr>\n",
       "      <th>40대후반</th>\n",
       "      <td>117490</td>\n",
       "      <td>0.117490</td>\n",
       "    </tr>\n",
       "    <tr>\n",
       "      <th>50대후반</th>\n",
       "      <td>106157</td>\n",
       "      <td>0.106157</td>\n",
       "    </tr>\n",
       "    <tr>\n",
       "      <th>30대후반</th>\n",
       "      <td>98717</td>\n",
       "      <td>0.098717</td>\n",
       "    </tr>\n",
       "    <tr>\n",
       "      <th>30대초반</th>\n",
       "      <td>83615</td>\n",
       "      <td>0.083615</td>\n",
       "    </tr>\n",
       "    <tr>\n",
       "      <th>60대초반</th>\n",
       "      <td>80773</td>\n",
       "      <td>0.080773</td>\n",
       "    </tr>\n",
       "    <tr>\n",
       "      <th>20대후반</th>\n",
       "      <td>68741</td>\n",
       "      <td>0.068741</td>\n",
       "    </tr>\n",
       "    <tr>\n",
       "      <th>60대후반</th>\n",
       "      <td>61776</td>\n",
       "      <td>0.061776</td>\n",
       "    </tr>\n",
       "    <tr>\n",
       "      <th>75세이상</th>\n",
       "      <td>45905</td>\n",
       "      <td>0.045905</td>\n",
       "    </tr>\n",
       "    <tr>\n",
       "      <th>70대초반</th>\n",
       "      <td>42993</td>\n",
       "      <td>0.042993</td>\n",
       "    </tr>\n",
       "    <tr>\n",
       "      <th>20대초반</th>\n",
       "      <td>37876</td>\n",
       "      <td>0.037876</td>\n",
       "    </tr>\n",
       "  </tbody>\n",
       "</table>\n",
       "</div>"
      ],
      "text/plain": [
       "         Freq  Relative freq\n",
       "50대초반  129559       0.129559\n",
       "40대초반  126398       0.126398\n",
       "40대후반  117490       0.117490\n",
       "50대후반  106157       0.106157\n",
       "30대후반   98717       0.098717\n",
       "30대초반   83615       0.083615\n",
       "60대초반   80773       0.080773\n",
       "20대후반   68741       0.068741\n",
       "60대후반   61776       0.061776\n",
       "75세이상   45905       0.045905\n",
       "70대초반   42993       0.042993\n",
       "20대초반   37876       0.037876"
      ]
     },
     "execution_count": 7,
     "metadata": {},
     "output_type": "execute_result"
    }
   ],
   "source": [
    "age_group_table = pd.DataFrame({'Freq': ft, 'Relative freq': rft})\n",
    "age_group_table"
   ]
  },
  {
   "cell_type": "code",
   "execution_count": 8,
   "id": "7ad3de47-ec2d-421f-b570-735edcc624c7",
   "metadata": {},
   "outputs": [
    {
     "data": {
      "text/html": [
       "<div>\n",
       "<style scoped>\n",
       "    .dataframe tbody tr th:only-of-type {\n",
       "        vertical-align: middle;\n",
       "    }\n",
       "\n",
       "    .dataframe tbody tr th {\n",
       "        vertical-align: top;\n",
       "    }\n",
       "\n",
       "    .dataframe thead th {\n",
       "        text-align: right;\n",
       "    }\n",
       "</style>\n",
       "<table border=\"1\" class=\"dataframe\">\n",
       "  <thead>\n",
       "    <tr style=\"text-align: right;\">\n",
       "      <th></th>\n",
       "      <th>Freq</th>\n",
       "      <th>Relative freq</th>\n",
       "    </tr>\n",
       "  </thead>\n",
       "  <tbody>\n",
       "    <tr>\n",
       "      <th>20대초반</th>\n",
       "      <td>37876</td>\n",
       "      <td>0.037876</td>\n",
       "    </tr>\n",
       "    <tr>\n",
       "      <th>20대후반</th>\n",
       "      <td>68741</td>\n",
       "      <td>0.068741</td>\n",
       "    </tr>\n",
       "    <tr>\n",
       "      <th>30대초반</th>\n",
       "      <td>83615</td>\n",
       "      <td>0.083615</td>\n",
       "    </tr>\n",
       "    <tr>\n",
       "      <th>30대후반</th>\n",
       "      <td>98717</td>\n",
       "      <td>0.098717</td>\n",
       "    </tr>\n",
       "    <tr>\n",
       "      <th>40대초반</th>\n",
       "      <td>126398</td>\n",
       "      <td>0.126398</td>\n",
       "    </tr>\n",
       "    <tr>\n",
       "      <th>40대후반</th>\n",
       "      <td>117490</td>\n",
       "      <td>0.117490</td>\n",
       "    </tr>\n",
       "    <tr>\n",
       "      <th>50대초반</th>\n",
       "      <td>129559</td>\n",
       "      <td>0.129559</td>\n",
       "    </tr>\n",
       "    <tr>\n",
       "      <th>50대후반</th>\n",
       "      <td>106157</td>\n",
       "      <td>0.106157</td>\n",
       "    </tr>\n",
       "    <tr>\n",
       "      <th>60대초반</th>\n",
       "      <td>80773</td>\n",
       "      <td>0.080773</td>\n",
       "    </tr>\n",
       "    <tr>\n",
       "      <th>60대후반</th>\n",
       "      <td>61776</td>\n",
       "      <td>0.061776</td>\n",
       "    </tr>\n",
       "    <tr>\n",
       "      <th>70대초반</th>\n",
       "      <td>42993</td>\n",
       "      <td>0.042993</td>\n",
       "    </tr>\n",
       "    <tr>\n",
       "      <th>75세이상</th>\n",
       "      <td>45905</td>\n",
       "      <td>0.045905</td>\n",
       "    </tr>\n",
       "  </tbody>\n",
       "</table>\n",
       "</div>"
      ],
      "text/plain": [
       "         Freq  Relative freq\n",
       "20대초반   37876       0.037876\n",
       "20대후반   68741       0.068741\n",
       "30대초반   83615       0.083615\n",
       "30대후반   98717       0.098717\n",
       "40대초반  126398       0.126398\n",
       "40대후반  117490       0.117490\n",
       "50대초반  129559       0.129559\n",
       "50대후반  106157       0.106157\n",
       "60대초반   80773       0.080773\n",
       "60대후반   61776       0.061776\n",
       "70대초반   42993       0.042993\n",
       "75세이상   45905       0.045905"
      ]
     },
     "execution_count": 8,
     "metadata": {},
     "output_type": "execute_result"
    }
   ],
   "source": [
    "age_group_table.sort_index()"
   ]
  },
  {
   "cell_type": "markdown",
   "id": "d0a6c414-3809-4fb5-b173-6f50ba457ead",
   "metadata": {},
   "source": [
    "`-` 5세 간격으로 끊어 편의상 1\\~5는 '초반', 6\\~10은 '후반'으로 표기했다"
   ]
  },
  {
   "cell_type": "markdown",
   "id": "7033c7f5-ff60-4611-a333-bb7d6d02da7d",
   "metadata": {
    "tags": []
   },
   "source": [
    "# 데이터 EDA "
   ]
  },
  {
   "cell_type": "code",
   "execution_count": 9,
   "id": "97a2b3cb-c722-4d62-b6fa-8c26910643f0",
   "metadata": {},
   "outputs": [],
   "source": [
    "ft = df['고혈압_당뇨'].value_counts() \n",
    "rft = df['고혈압_당뇨'].value_counts() / len(df['고혈압_당뇨']) "
   ]
  },
  {
   "cell_type": "code",
   "execution_count": 10,
   "id": "35a41891-b172-40eb-a189-405396215bcb",
   "metadata": {},
   "outputs": [
    {
     "data": {
      "text/html": [
       "<div>\n",
       "<style scoped>\n",
       "    .dataframe tbody tr th:only-of-type {\n",
       "        vertical-align: middle;\n",
       "    }\n",
       "\n",
       "    .dataframe tbody tr th {\n",
       "        vertical-align: top;\n",
       "    }\n",
       "\n",
       "    .dataframe thead th {\n",
       "        text-align: right;\n",
       "    }\n",
       "</style>\n",
       "<table border=\"1\" class=\"dataframe\">\n",
       "  <thead>\n",
       "    <tr style=\"text-align: right;\">\n",
       "      <th></th>\n",
       "      <th>Freq</th>\n",
       "      <th>Relative freq</th>\n",
       "    </tr>\n",
       "  </thead>\n",
       "  <tbody>\n",
       "    <tr>\n",
       "      <th>4</th>\n",
       "      <td>740662</td>\n",
       "      <td>0.740662</td>\n",
       "    </tr>\n",
       "    <tr>\n",
       "      <th>2</th>\n",
       "      <td>162826</td>\n",
       "      <td>0.162826</td>\n",
       "    </tr>\n",
       "    <tr>\n",
       "      <th>1</th>\n",
       "      <td>53398</td>\n",
       "      <td>0.053398</td>\n",
       "    </tr>\n",
       "    <tr>\n",
       "      <th>3</th>\n",
       "      <td>43114</td>\n",
       "      <td>0.043114</td>\n",
       "    </tr>\n",
       "  </tbody>\n",
       "</table>\n",
       "</div>"
      ],
      "text/plain": [
       "     Freq  Relative freq\n",
       "4  740662       0.740662\n",
       "2  162826       0.162826\n",
       "1   53398       0.053398\n",
       "3   43114       0.043114"
      ]
     },
     "execution_count": 10,
     "metadata": {},
     "output_type": "execute_result"
    }
   ],
   "source": [
    "DIS_table = pd.DataFrame({'Freq': ft, 'Relative freq': rft})\n",
    "DIS_table"
   ]
  },
  {
   "cell_type": "markdown",
   "id": "08840ff3-dd13-4a8f-acea-1b79e5e510b8",
   "metadata": {},
   "source": [
    "`-` 고혈압/당뇨 둘 다 진료내역 없음이 74%로 가장 많이 차지함\n",
    "\n",
    "`-` 당뇨 진료내역만 있는 경우는 4%, 고혈압 진료내역만 있는 경우는 16%, 둘다 있는 경우는 5%이다"
   ]
  },
  {
   "cell_type": "markdown",
   "id": "280a3beb-a3a5-496a-b9da-4ea6e72c3eed",
   "metadata": {},
   "source": [
    "`-` 둘 다 진료내역이 있는 경우가 당뇨 진료내역만 있는 경우보다 많은 것으로 보아 당뇨가 있는 경우 고혈압도 있는 경우가 빈번한 것 같다"
   ]
  },
  {
   "cell_type": "markdown",
   "id": "4d6b9aea-7689-432f-9142-bc9edda0f9a6",
   "metadata": {},
   "source": [
    "`-` 우선 양적 변수인 수축기혈압, 이완기혈압,\t공복혈당, 고혈압_당뇨, BMI의 분포를 확인해보자"
   ]
  },
  {
   "cell_type": "code",
   "execution_count": 10,
   "id": "9407a203-b8f1-4b93-8339-bdb99dcae11f",
   "metadata": {},
   "outputs": [
    {
     "data": {
      "text/plain": [
       "<AxesSubplot:xlabel='수축기혈압', ylabel='Count'>"
      ]
     },
     "execution_count": 10,
     "metadata": {},
     "output_type": "execute_result"
    },
    {
     "data": {
      "image/png": "[encoded data removed]",
      "text/plain": [
       "<Figure size 432x288 with 1 Axes>"
      ]
     },
     "metadata": {},
     "output_type": "display_data"
    }
   ],
   "source": [
    "sns.histplot(data = df, x = '수축기혈압', bins = 30, kde = True)"
   ]
  },
  {
   "cell_type": "markdown",
   "id": "b12cbe30-61f3-4af4-ad70-d799f1c060fe",
   "metadata": {},
   "source": [
    "`-` 불편한점 ---> 행이 백만개라 로딩하는데 조금 오래걸림"
   ]
  },
  {
   "cell_type": "markdown",
   "id": "ed07adbe-5833-4ccd-b099-741856ef1c73",
   "metadata": {},
   "source": [
    "`-` 분포의 모양을 보면 되게 신기하게 생겼다\n",
    "\n",
    "`-` 크게 눈에 띄는 봉우리가 4개 존재한다\n",
    "\n",
    "`-` 즉 몇 군데(봉우리)에 데이터가 많이 몰려있다는 의미이다"
   ]
  },
  {
   "cell_type": "code",
   "execution_count": 46,
   "id": "e18332f9-6591-4b96-81e9-b67bbc3df787",
   "metadata": {},
   "outputs": [
    {
     "data": {
      "text/plain": [
       "<AxesSubplot:xlabel='수축기혈압'>"
      ]
     },
     "execution_count": 46,
     "metadata": {},
     "output_type": "execute_result"
    },
    {
     "data": {
      "image/png": "[encoded data removed]",
      "text/plain": [
       "<Figure size 432x288 with 1 Axes>"
      ]
     },
     "metadata": {},
     "output_type": "display_data"
    }
   ],
   "source": [
    "sns.violinplot(x = df['수축기혈압'])"
   ]
  },
  {
   "cell_type": "markdown",
   "id": "e437efc2-5a31-4caf-8f46-380c465dc152",
   "metadata": {},
   "source": [
    "`-` 음 지금으로썬 왜 분포의 모양이 저런지 모르겠다"
   ]
  },
  {
   "cell_type": "markdown",
   "id": "ccdda6fc-8a53-40d7-af4c-e89e6de90af5",
   "metadata": {},
   "source": [
    "`-` 근데 사실 궁금한건 고혈압/당뇨인 사람들은 어떤 사람들인가이다\n",
    "\n",
    "`-` 고혈압/당뇨에 따라 plot을 그려보자"
   ]
  },
  {
   "cell_type": "code",
   "execution_count": 48,
   "id": "81ab5a8a-2ea5-4cba-bbc9-18f1818b1470",
   "metadata": {},
   "outputs": [
    {
     "data": {
      "text/plain": [
       "<AxesSubplot:xlabel='고혈압_당뇨', ylabel='수축기혈압'>"
      ]
     },
     "execution_count": 48,
     "metadata": {},
     "output_type": "execute_result"
    },
    {
     "data": {
      "image/png": "[encoded data removed]",
      "text/plain": [
       "<Figure size 432x288 with 1 Axes>"
      ]
     },
     "metadata": {},
     "output_type": "display_data"
    }
   ],
   "source": [
    "sns.violinplot(x = '고혈압_당뇨', y = '수축기혈압', data = df)"
   ]
  },
  {
   "cell_type": "markdown",
   "id": "fdde327b-dc2c-42da-9470-70b2092500ae",
   "metadata": {},
   "source": [
    "`-` ???? 고혈압_당뇨 진료내역에 따라 분포의 차이가 있긴 하다...\n",
    "\n",
    "`-` 고혈압/당뇨 진료내역이 없는 사람들의 수축기 혈압은 다른 경우 비해 몇군데에 더욱 많이 몰렸있다\n",
    "\n",
    "`-` 그런데 봉우리가 많은 분포임을 넷다 동일함 ---> 이유 모름\n",
    "\n",
    "`-` 데이터를 보면 1은 고혈압 당뇨 둘 다 진료내역이 있고 2는 고혈압만 3은 당뇨만 진료 내역이 있다\n",
    "\n",
    "`-` 2와 3을 보면 2가 수축기 혈압이 평균적으로 더 높다\n",
    "\n",
    "`-` 그런데 1과 2를 보면 거의 차이가 없어보인다\n",
    "\n",
    "`-` 3과 4를 보면 당뇨 진료내역이 있는 사람들이 그렇지 않은 사람보다 평균이 조금 더 크고 분포도 더 넓게 퍼져있다\n",
    "\n",
    "`-` 고협압/당뇨 둘 다 진료내역이 없는 상황에서 당뇨 진료내역이 추가되면 수축기 혈압이 높아지고 더 넓게 분포한다\n",
    "\n",
    "`-` 하지만 고혈압 진료내역이 있는 상태라면 당뇨 진료내역의 유무는 수축기 혈압에 거의 영향을 끼치지 못하는 것으로 보인다\n",
    "\n",
    "`-` 수치로 정확히 확인해보자"
   ]
  },
  {
   "cell_type": "code",
   "execution_count": 57,
   "id": "769046b8-2365-46a7-b8a9-4ebb46f4480d",
   "metadata": {},
   "outputs": [
    {
     "data": {
      "text/plain": [
       "count    740662.000000\n",
       "mean        119.252575\n",
       "std          13.484496\n",
       "min          82.000000\n",
       "25%         110.000000\n",
       "50%         120.000000\n",
       "75%         130.000000\n",
       "max         190.000000\n",
       "Name: 수축기혈압, dtype: float64"
      ]
     },
     "execution_count": 57,
     "metadata": {},
     "output_type": "execute_result"
    }
   ],
   "source": [
    "pd.Series(df.loc[df['고혈압_당뇨'] == 4, '수축기혈압']).describe() ## 고혈압/당뇨 진료내역 둘 다 없음"
   ]
  },
  {
   "cell_type": "code",
   "execution_count": 58,
   "id": "6153a6c1-9051-4c60-9934-c0b04655c2dc",
   "metadata": {},
   "outputs": [
    {
     "data": {
      "text/plain": [
       "count    43114.000000\n",
       "mean       123.322146\n",
       "std         13.618274\n",
       "min         83.000000\n",
       "25%        114.000000\n",
       "50%        122.000000\n",
       "75%        130.000000\n",
       "max        190.000000\n",
       "Name: 수축기혈압, dtype: float64"
      ]
     },
     "execution_count": 58,
     "metadata": {},
     "output_type": "execute_result"
    }
   ],
   "source": [
    "pd.Series(df.loc[df['고혈압_당뇨'] == 3, '수축기혈압']).describe() ## 당뇨 진료내역만 있음"
   ]
  },
  {
   "cell_type": "code",
   "execution_count": 59,
   "id": "f2c7ebb5-f962-4220-96b0-d5068337404a",
   "metadata": {},
   "outputs": [
    {
     "data": {
      "text/plain": [
       "count    162826.000000\n",
       "mean        130.551300\n",
       "std          14.851658\n",
       "min          82.000000\n",
       "25%         120.000000\n",
       "50%         130.000000\n",
       "75%         140.000000\n",
       "max         190.000000\n",
       "Name: 수축기혈압, dtype: float64"
      ]
     },
     "execution_count": 59,
     "metadata": {},
     "output_type": "execute_result"
    }
   ],
   "source": [
    "pd.Series(df.loc[df['고혈압_당뇨'] == 2, '수축기혈압']).describe() ## 고혈압 진료내역만 있음"
   ]
  },
  {
   "cell_type": "code",
   "execution_count": 60,
   "id": "814db9b2-83df-403f-96f9-bd2d3650d3ac",
   "metadata": {},
   "outputs": [
    {
     "data": {
      "text/plain": [
       "count    53398.000000\n",
       "mean       130.563972\n",
       "std         14.981472\n",
       "min         82.000000\n",
       "25%        120.000000\n",
       "50%        130.000000\n",
       "75%        140.000000\n",
       "max        190.000000\n",
       "Name: 수축기혈압, dtype: float64"
      ]
     },
     "execution_count": 60,
     "metadata": {},
     "output_type": "execute_result"
    }
   ],
   "source": [
    "pd.Series(df.loc[df['고혈압_당뇨'] == 1, '수축기혈압']).describe() ## 고혈압/당뇨 진료내역 둘 다 있음"
   ]
  },
  {
   "cell_type": "markdown",
   "id": "4f165012-0c2c-448b-852a-055cdf92f9ac",
   "metadata": {},
   "source": [
    "`-` 3과 4의 수축기 혈압 분포는 소름돋을 정도로 똑같다"
   ]
  },
  {
   "cell_type": "markdown",
   "id": "9cc06a04-d744-43d8-826d-ade792765557",
   "metadata": {},
   "source": [
    "`-` 1, 2, 3, 4 전부 최대값이 190인걸로 봐선 아마 수축기 혈압 최대값이 190인 것 같다"
   ]
  },
  {
   "cell_type": "markdown",
   "id": "a19e501e-4fe2-4dad-b681-9186a97e7944",
   "metadata": {},
   "source": [
    "`-` 1과 2의 경우 당뇨 진료내역이 있는 경우 그렇지 않은 경우보다 수축기 혈압이 평균 4정도 높다"
   ]
  },
  {
   "cell_type": "markdown",
   "id": "feab6ab8-7856-45dd-a37a-dfbcde046112",
   "metadata": {},
   "source": [
    "`-` 고혈압이 있는 경우 그렇지 않은 경우보다 수축기 혈압이 평균 10정도 높다"
   ]
  },
  {
   "cell_type": "markdown",
   "id": "bb4311ff-84bc-4054-8c1c-057a8b5696e6",
   "metadata": {},
   "source": [
    "`-` 이완기 혈압도 수축기 혈압과 비슷한 양상을 보일까?"
   ]
  },
  {
   "cell_type": "code",
   "execution_count": 61,
   "id": "a276dc70-1a6e-4df1-ae5e-717d1f5e7aaa",
   "metadata": {},
   "outputs": [
    {
     "data": {
      "text/plain": [
       "<AxesSubplot:xlabel='이완기혈압', ylabel='Count'>"
      ]
     },
     "execution_count": 61,
     "metadata": {},
     "output_type": "execute_result"
    },
    {
     "data": {
      "image/png": "[encoded data removed]",
      "text/plain": [
       "<Figure size 432x288 with 1 Axes>"
      ]
     },
     "metadata": {},
     "output_type": "display_data"
    }
   ],
   "source": [
    "sns.histplot(data = df, x = '이완기혈압', bins = 30, kde = True)"
   ]
  },
  {
   "cell_type": "markdown",
   "id": "5338add1-11bb-462f-8115-a125d2dfc865",
   "metadata": {},
   "source": [
    "`-` 이완기 혈압도 수축기 혈압의 분포처럼 몇 군에데 데이터가 많이 몰려있는 분포(봉우리)이다"
   ]
  },
  {
   "cell_type": "markdown",
   "id": "22080b2d-a90e-46a2-99d4-172e6d0cd3e7",
   "metadata": {},
   "source": [
    "`-` 수축기 혈압 분포와 이완기 혈압 분포를 같이 놓고 비교해보자"
   ]
  },
  {
   "cell_type": "code",
   "execution_count": 11,
   "id": "636f90b5-90a1-4dcc-8e42-9467a20760a8",
   "metadata": {},
   "outputs": [
    {
     "data": {
      "image/png": "[encoded data removed]",
      "text/plain": [
       "<Figure size 864x288 with 2 Axes>"
      ]
     },
     "metadata": {},
     "output_type": "display_data"
    }
   ],
   "source": [
    "fig, (ax1, ax2) = plt.subplots(1,2)\n",
    "fig.set_figwidth(12)\n",
    "\n",
    "sns.histplot(data = df, x = '수축기혈압', bins = 30, kde = True, ax = ax1)\n",
    "sns.histplot(data = df, x = '이완기혈압', bins = 30, kde = True, ax = ax2)\n",
    "\n",
    "fig.tight_layout()"
   ]
  },
  {
   "cell_type": "markdown",
   "id": "3dd5ce06-b293-4e12-a623-07b7c73307ae",
   "metadata": {},
   "source": [
    "`-` 수축기 혈압 분포의 봉우리가 이완기 혈압 분포의 봉우리 개수보다 많다\n",
    "\n",
    "`-` 수축기 혈압이 이완기 혈압 분포보다 더 넓게 퍼져있다(표준 편차가 더 크다)"
   ]
  },
  {
   "cell_type": "markdown",
   "id": "05f71ae9-3eb4-4a09-912c-4dfdfd5c345f",
   "metadata": {},
   "source": [
    "`-` 고혈압/당뇨에 따른 이완기 혈압 분포를 확인하자"
   ]
  },
  {
   "cell_type": "code",
   "execution_count": 65,
   "id": "3c54c1b4-5b57-4ac3-9201-db77cd0db2df",
   "metadata": {},
   "outputs": [
    {
     "data": {
      "text/plain": [
       "<AxesSubplot:xlabel='고혈압_당뇨', ylabel='이완기혈압'>"
      ]
     },
     "execution_count": 65,
     "metadata": {},
     "output_type": "execute_result"
    },
    {
     "data": {
      "image/png": "[encoded data removed]",
      "text/plain": [
       "<Figure size 432x288 with 1 Axes>"
      ]
     },
     "metadata": {},
     "output_type": "display_data"
    }
   ],
   "source": [
    "sns.violinplot(x = '고혈압_당뇨', y = '이완기혈압', data = df)"
   ]
  },
  {
   "cell_type": "markdown",
   "id": "0f34b14b-23e6-4fab-83a3-facffdc5ef54",
   "metadata": {},
   "source": [
    "`-` 이완기 혈압도 수축기혈압과 동일한 양상을 보인다"
   ]
  },
  {
   "cell_type": "markdown",
   "id": "60cfdf7e-245f-4e43-b986-41469679c639",
   "metadata": {},
   "source": [
    "`-` 결과적으로 보면 당뇨 진료내역 여부는 혈압에 영향을 별로 끼치지 못한다\n",
    "\n",
    "`-` 고혈압은 혈압을 높이도록 영향을 끼친다 ---> 당연한 소리\n",
    "\n",
    "`-` 여기서 확인하는 고혈압 진료내역의 의미\n",
    "\n",
    "`-` 현재 고혈압에 앓고있을 수 도 있고 아니면 과거에 고혈압에 걸렸었던 것일 수 도 있다\n",
    "\n",
    "`-` 즉 현재 고혈압인 경우와 과거에 고혈압이었던 경우로 나뉨 ---> 당뇨도 마찬가지"
   ]
  },
  {
   "cell_type": "markdown",
   "id": "cc84f6b7-0f5e-4a62-aa85-e1c6f4bf92c5",
   "metadata": {},
   "source": [
    "`-` 해볼 시각화 \n",
    "\n",
    "`-` 혈압 구간으로 cut하여 다른 변수와의 관계 확인\n",
    "\n",
    "`-` 양적 변수간의 상관관계 확인\n",
    "\n",
    "`-` 남여별로 차이가 있는지 확인 등등\n",
    "\n",
    "`-` 연령대별 고혈압/당뇨\n",
    "\n",
    "`-` 고혈압/당뇨 도수분포표"
   ]
  },
  {
   "cell_type": "markdown",
   "id": "77e53c2f-9c56-4eb8-a244-9fb6a538b606",
   "metadata": {},
   "source": [
    "`-` 공복혈당의 분포를 히스토그램을 그려 확인하자"
   ]
  },
  {
   "cell_type": "code",
   "execution_count": 70,
   "id": "e8efa6e8-23de-41a6-aa98-58837b21be3b",
   "metadata": {},
   "outputs": [
    {
     "data": {
      "text/plain": [
       "<AxesSubplot:xlabel='공복혈당', ylabel='Count'>"
      ]
     },
     "execution_count": 70,
     "metadata": {},
     "output_type": "execute_result"
    },
    {
     "data": {
      "image/png": "[encoded data removed]",
      "text/plain": [
       "<Figure size 432x288 with 1 Axes>"
      ]
     },
     "metadata": {},
     "output_type": "display_data"
    }
   ],
   "source": [
    "sns.histplot(data = df, x = '공복혈당', bins = 30, kde = True)"
   ]
  },
  {
   "cell_type": "markdown",
   "id": "ad70e95c-c6a5-4fb5-8351-39b48b47c4e5",
   "metadata": {},
   "source": [
    "`-` 오른쪽으로 꼬리가 긴 분포이다"
   ]
  },
  {
   "cell_type": "markdown",
   "id": "729774eb-7b54-4059-8bf6-567a8aa1ca57",
   "metadata": {},
   "source": [
    "`-` BMI의 분포를 히스토그램을 그려 확인하자"
   ]
  },
  {
   "cell_type": "code",
   "execution_count": 71,
   "id": "d8dfbcee-99a3-4c9a-92de-b98e029c08f7",
   "metadata": {},
   "outputs": [
    {
     "data": {
      "text/plain": [
       "<AxesSubplot:xlabel='BMI', ylabel='Count'>"
      ]
     },
     "execution_count": 71,
     "metadata": {},
     "output_type": "execute_result"
    },
    {
     "data": {
      "image/png": "[encoded data removed]",
      "text/plain": [
       "<Figure size 432x288 with 1 Axes>"
      ]
     },
     "metadata": {},
     "output_type": "display_data"
    }
   ],
   "source": [
    "sns.histplot(data = df, x = 'BMI', bins = 30, kde = True)"
   ]
  },
  {
   "cell_type": "markdown",
   "id": "d7afaa96-61da-46a0-a0ef-3fe08238c97e",
   "metadata": {},
   "source": [
    "`-` 종모양이다\n",
    "\n",
    "`-` 정규분포를 따르는지 Q-Q plot을 그려 확인하자(나중에)"
   ]
  },
  {
   "cell_type": "markdown",
   "id": "b08bc8ad-47c5-4e12-bb4f-2bccda01467f",
   "metadata": {},
   "source": [
    "`-` 양적변수간의 상관관계 행렬을 그려보자"
   ]
  },
  {
   "cell_type": "code",
   "execution_count": 11,
   "id": "de9fa0a2-a82a-4b85-9140-9ef297aec97b",
   "metadata": {},
   "outputs": [],
   "source": [
    "corr_df = df.loc[:, ('수축기혈압', '이완기혈압', '공복혈당', 'BMI')]"
   ]
  },
  {
   "cell_type": "code",
   "execution_count": 12,
   "id": "c01075db-f9ca-4c1d-8886-2be1f8f5823b",
   "metadata": {},
   "outputs": [
    {
     "data": {
      "text/html": [
       "<div>\n",
       "<style scoped>\n",
       "    .dataframe tbody tr th:only-of-type {\n",
       "        vertical-align: middle;\n",
       "    }\n",
       "\n",
       "    .dataframe tbody tr th {\n",
       "        vertical-align: top;\n",
       "    }\n",
       "\n",
       "    .dataframe thead th {\n",
       "        text-align: right;\n",
       "    }\n",
       "</style>\n",
       "<table border=\"1\" class=\"dataframe\">\n",
       "  <thead>\n",
       "    <tr style=\"text-align: right;\">\n",
       "      <th></th>\n",
       "      <th>수축기혈압</th>\n",
       "      <th>이완기혈압</th>\n",
       "      <th>공복혈당</th>\n",
       "      <th>BMI</th>\n",
       "    </tr>\n",
       "  </thead>\n",
       "  <tbody>\n",
       "    <tr>\n",
       "      <th>0</th>\n",
       "      <td>116</td>\n",
       "      <td>78</td>\n",
       "      <td>94</td>\n",
       "      <td>16.6</td>\n",
       "    </tr>\n",
       "    <tr>\n",
       "      <th>1</th>\n",
       "      <td>100</td>\n",
       "      <td>60</td>\n",
       "      <td>79</td>\n",
       "      <td>22.3</td>\n",
       "    </tr>\n",
       "    <tr>\n",
       "      <th>2</th>\n",
       "      <td>100</td>\n",
       "      <td>60</td>\n",
       "      <td>87</td>\n",
       "      <td>21.9</td>\n",
       "    </tr>\n",
       "    <tr>\n",
       "      <th>3</th>\n",
       "      <td>111</td>\n",
       "      <td>70</td>\n",
       "      <td>72</td>\n",
       "      <td>20.2</td>\n",
       "    </tr>\n",
       "    <tr>\n",
       "      <th>4</th>\n",
       "      <td>120</td>\n",
       "      <td>80</td>\n",
       "      <td>98</td>\n",
       "      <td>20.0</td>\n",
       "    </tr>\n",
       "    <tr>\n",
       "      <th>5</th>\n",
       "      <td>115</td>\n",
       "      <td>79</td>\n",
       "      <td>95</td>\n",
       "      <td>23.1</td>\n",
       "    </tr>\n",
       "  </tbody>\n",
       "</table>\n",
       "</div>"
      ],
      "text/plain": [
       "   수축기혈압  이완기혈압  공복혈당   BMI\n",
       "0    116     78    94  16.6\n",
       "1    100     60    79  22.3\n",
       "2    100     60    87  21.9\n",
       "3    111     70    72  20.2\n",
       "4    120     80    98  20.0\n",
       "5    115     79    95  23.1"
      ]
     },
     "execution_count": 12,
     "metadata": {},
     "output_type": "execute_result"
    }
   ],
   "source": [
    "corr_df.head(6)"
   ]
  },
  {
   "cell_type": "code",
   "execution_count": 13,
   "id": "db98aa14-d23f-4174-9846-7d6a4d4ced6b",
   "metadata": {},
   "outputs": [],
   "source": [
    "corr_matrix = corr_df.corr(method = 'pearson') # 상관관계 행렬"
   ]
  },
  {
   "cell_type": "code",
   "execution_count": 14,
   "id": "1ca7f240-0b41-48e9-8fe2-b5014df9254c",
   "metadata": {},
   "outputs": [
    {
     "data": {
      "text/html": [
       "<div>\n",
       "<style scoped>\n",
       "    .dataframe tbody tr th:only-of-type {\n",
       "        vertical-align: middle;\n",
       "    }\n",
       "\n",
       "    .dataframe tbody tr th {\n",
       "        vertical-align: top;\n",
       "    }\n",
       "\n",
       "    .dataframe thead th {\n",
       "        text-align: right;\n",
       "    }\n",
       "</style>\n",
       "<table border=\"1\" class=\"dataframe\">\n",
       "  <thead>\n",
       "    <tr style=\"text-align: right;\">\n",
       "      <th></th>\n",
       "      <th>수축기혈압</th>\n",
       "      <th>이완기혈압</th>\n",
       "      <th>공복혈당</th>\n",
       "      <th>BMI</th>\n",
       "    </tr>\n",
       "  </thead>\n",
       "  <tbody>\n",
       "    <tr>\n",
       "      <th>수축기혈압</th>\n",
       "      <td>1.000000</td>\n",
       "      <td>0.743006</td>\n",
       "      <td>0.186501</td>\n",
       "      <td>0.304383</td>\n",
       "    </tr>\n",
       "    <tr>\n",
       "      <th>이완기혈압</th>\n",
       "      <td>0.743006</td>\n",
       "      <td>1.000000</td>\n",
       "      <td>0.138717</td>\n",
       "      <td>0.275492</td>\n",
       "    </tr>\n",
       "    <tr>\n",
       "      <th>공복혈당</th>\n",
       "      <td>0.186501</td>\n",
       "      <td>0.138717</td>\n",
       "      <td>1.000000</td>\n",
       "      <td>0.173688</td>\n",
       "    </tr>\n",
       "    <tr>\n",
       "      <th>BMI</th>\n",
       "      <td>0.304383</td>\n",
       "      <td>0.275492</td>\n",
       "      <td>0.173688</td>\n",
       "      <td>1.000000</td>\n",
       "    </tr>\n",
       "  </tbody>\n",
       "</table>\n",
       "</div>"
      ],
      "text/plain": [
       "          수축기혈압     이완기혈압      공복혈당       BMI\n",
       "수축기혈압  1.000000  0.743006  0.186501  0.304383\n",
       "이완기혈압  0.743006  1.000000  0.138717  0.275492\n",
       "공복혈당   0.186501  0.138717  1.000000  0.173688\n",
       "BMI    0.304383  0.275492  0.173688  1.000000"
      ]
     },
     "execution_count": 14,
     "metadata": {},
     "output_type": "execute_result"
    }
   ],
   "source": [
    "corr_matrix"
   ]
  },
  {
   "cell_type": "code",
   "execution_count": 18,
   "id": "2a8bc6b4-9a76-468f-bd18-f0e371f5ea51",
   "metadata": {},
   "outputs": [
    {
     "data": {
      "text/plain": [
       "<AxesSubplot:>"
      ]
     },
     "execution_count": 18,
     "metadata": {},
     "output_type": "execute_result"
    },
    {
     "data": {
      "image/png": "[encoded data removed]",
      "text/plain": [
       "<Figure size 432x288 with 1 Axes>"
      ]
     },
     "metadata": {},
     "output_type": "display_data"
    }
   ],
   "source": [
    "sns.heatmap(corr_matrix, annot = True, cbar = False)"
   ]
  },
  {
   "cell_type": "markdown",
   "id": "85592c9a-51f3-48f2-80eb-7fc6d693518b",
   "metadata": {},
   "source": [
    "`-` 수축기혈압과 이완기혈압은 상관계수가 0.74로 높고 나머지는 그저 그렇다"
   ]
  },
  {
   "cell_type": "markdown",
   "id": "23b783bb-7338-413d-9ba1-5f260dd1c359",
   "metadata": {},
   "source": [
    "`-` 고혈압/당뇨 범주에 따라 상관계수 행렬을 그려보자"
   ]
  },
  {
   "cell_type": "code",
   "execution_count": null,
   "id": "da142cd4-769b-4f35-9b13-8a1f33b0d9f4",
   "metadata": {},
   "outputs": [],
   "source": []
  }
 ],
 "metadata": {
  "kernelspec": {
   "display_name": "Python 3 (ipykernel)",
   "language": "python",
   "name": "python3"
  },
  "language_info": {
   "codemirror_mode": {
    "name": "ipython",
    "version": 3
   },
   "file_extension": ".py",
   "mimetype": "text/x-python",
   "name": "python",
   "nbconvert_exporter": "python",
   "pygments_lexer": "ipython3",
   "version": "3.8.11"
  }
 },
 "nbformat": 4,
 "nbformat_minor": 5
}
