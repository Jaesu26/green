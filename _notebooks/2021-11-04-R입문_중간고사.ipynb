{
 "cells": [
  {
   "cell_type": "markdown",
   "id": "b9e6450d-8272-4db4-97d9-b8ed90db34bd",
   "metadata": {},
   "source": [
    "# R입문 중간고사\n",
    "\n",
    "> \"작성 완료\"\n",
    "\n",
    "- toc: true\n",
    "- branch: master\n",
    "- badges: true\n",
    "- comments: true\n",
    "- author: 한재수\n",
    "- categories: [python]"
   ]
  },
  {
   "cell_type": "markdown",
   "id": "7ee14afa-e925-4c89-9dd6-84fb85383d65",
   "metadata": {},
   "source": [
    "`-` 파이썬 연습겸 R입문 중간고사 문제 파이썬으로 풀어봄"
   ]
  },
  {
   "cell_type": "markdown",
   "id": "dca6e165-9159-4855-8c8a-ad08bf1329bb",
   "metadata": {},
   "source": [
    "# 1번 문제"
   ]
  },
  {
   "cell_type": "markdown",
   "id": "ad67d32a-cc69-4fa2-94c6-27c75db86a49",
   "metadata": {},
   "source": [
    "## (a)"
   ]
  },
  {
   "cell_type": "code",
   "execution_count": 2,
   "id": "3ce1a6be-c395-48b5-a1ab-92ee328911be",
   "metadata": {},
   "outputs": [
    {
     "data": {
      "text/plain": [
       "8.03125"
      ]
     },
     "execution_count": 2,
     "metadata": {},
     "output_type": "execute_result"
    }
   ],
   "source": [
    "2**-5 + 2**3"
   ]
  },
  {
   "cell_type": "markdown",
   "id": "848f29c8-cdc8-4c1d-abca-ad893fda1e65",
   "metadata": {},
   "source": [
    "## (b)"
   ]
  },
  {
   "cell_type": "code",
   "execution_count": 3,
   "id": "f6aca1fe-2ba0-4626-9514-17d89530a942",
   "metadata": {},
   "outputs": [
    {
     "data": {
      "text/plain": [
       "5.744562646538029"
      ]
     },
     "execution_count": 3,
     "metadata": {},
     "output_type": "execute_result"
    }
   ],
   "source": [
    "33**0.5"
   ]
  },
  {
   "cell_type": "markdown",
   "id": "dd0c2aad-d34a-422e-9c85-f207de3bdc5a",
   "metadata": {},
   "source": [
    "## (c)"
   ]
  },
  {
   "cell_type": "code",
   "execution_count": 373,
   "id": "03e172fa-0bf6-44c4-bb4a-044b19bc474b",
   "metadata": {},
   "outputs": [
    {
     "name": "stdout",
     "output_type": "stream",
     "text": [
      "0.6350819297898338\n"
     ]
    }
   ],
   "source": [
    "sum_ = 0\n",
    "for k in range(1, 101):\n",
    "    sum_ += 1 / ((k+1) ** 2)\n",
    "    \n",
    "print(sum_)"
   ]
  },
  {
   "cell_type": "markdown",
   "id": "6465bc2f-0518-4b8f-ae8d-d0d7cd4adaab",
   "metadata": {},
   "source": [
    "`-` 리스트 컴프리핸션"
   ]
  },
  {
   "cell_type": "code",
   "execution_count": 380,
   "id": "66690b5d-c27c-4c16-80ea-7f882e6fa9d2",
   "metadata": {},
   "outputs": [
    {
     "data": {
      "text/plain": [
       "0.6350819297898338"
      ]
     },
     "execution_count": 380,
     "metadata": {},
     "output_type": "execute_result"
    }
   ],
   "source": [
    "sum([1/((k+1)**2) for k in range(1, 101)])"
   ]
  },
  {
   "cell_type": "markdown",
   "id": "1173d13d-d594-4931-b5a9-9ab0e4fd064b",
   "metadata": {},
   "source": [
    "# 2번 문제"
   ]
  },
  {
   "cell_type": "markdown",
   "id": "59f0c6f5-54b5-4f36-b872-d475358019da",
   "metadata": {},
   "source": [
    "## (a)"
   ]
  },
  {
   "cell_type": "code",
   "execution_count": 11,
   "id": "dd9be771-6a91-4d5f-ab90-b50a4ed7215d",
   "metadata": {},
   "outputs": [
    {
     "name": "stdout",
     "output_type": "stream",
     "text": [
      "[-10.   -9.5  -9.   -8.5  -8.   -7.5  -7.   -6.5  -6.   -5.5  -5.   -4.5\n",
      "  -4.   -3.5  -3.   -2.5  -2.   -1.5  -1.   -0.5   0.    0.5   1.    1.5\n",
      "   2.    2.5   3.    3.5   4.    4.5   5.    5.5   6.    6.5   7.    7.5\n",
      "   8.    8.5   9.    9.5  10. ]\n"
     ]
    }
   ],
   "source": [
    "import numpy as np\n",
    "x = np.arange(-10, 10.5, 0.5)\n",
    "print(x)"
   ]
  },
  {
   "cell_type": "markdown",
   "id": "7757645b-6a67-4b12-b7db-a02eb9133f27",
   "metadata": {},
   "source": [
    "## (b)"
   ]
  },
  {
   "cell_type": "code",
   "execution_count": 13,
   "id": "d2f645c1-8e52-416b-8959-3ee5d0827e4a",
   "metadata": {},
   "outputs": [
    {
     "name": "stdout",
     "output_type": "stream",
     "text": [
      "[-10.0, -9.5, -9.0, -8.5, -8.0, -7.5, -7.0, -6.5, -6.0, -5.5, 5, 5, 5, 5, 5, 5, 5, 0, 0, 0, 0, 0, 0, 0, 5, 5, 5, 5, 5, 5, 5, 5.5, 6.0, 6.5, 7.0, 7.5, 8.0, 8.5, 9.0, 9.5, 10.0]\n"
     ]
    }
   ],
   "source": [
    "def f(x):\n",
    "    if abs(x) > 5:\n",
    "        return x\n",
    "    elif abs(x) < 2:\n",
    "        return 0\n",
    "    else:\n",
    "        return 5\n",
    "\n",
    "y = list(map(f, x))\n",
    "print(y)"
   ]
  },
  {
   "cell_type": "markdown",
   "id": "f833f4fa-673b-4c8a-8f28-5f5f0039c040",
   "metadata": {},
   "source": [
    "# 3번 문제"
   ]
  },
  {
   "cell_type": "code",
   "execution_count": 16,
   "id": "e072a20e-d84b-4b5c-a2cb-774751a7ca6b",
   "metadata": {},
   "outputs": [
    {
     "name": "stdout",
     "output_type": "stream",
     "text": [
      "[4.1399375473943306e-08, 1.12535162055095e-07, 3.059022269256247e-07, 8.315280276641321e-07, 2.2603242979035742e-06, 6.144174602214718e-06, 1.670142184809518e-05, 4.5397868702434395e-05, 0.00012339457598623172, 0.00033535013046647816, 0.0009110511944006454, 0.0024726231566347748, 0.006692850924284856, 0.017986209962091555, 0.04742587317756679, 0.11920292202211755, 0.2689414213699951, 0.5, 0.7310585786300049, 0.8807970779778824, 0.9525741268224333, 0.9820137900379085, 0.9933071490757152, 0.9975273768433652, 0.9990889488055994, 0.9996646498695335, 0.9998766054240138, 0.9999546021312976, 0.9999832985781519, 0.9999938558253978, 0.999997739675702, 0.9999991684719723, 0.9999996940977731, 0.9999998874648379, 0.9999999586006245, 0.9999999847700205, 0.9999999943972036, 0.9999999979388464, 0.999999999241744, 0.9999999997210532, 0.9999999998973812]\n"
     ]
    }
   ],
   "source": [
    "from math import exp\n",
    "\n",
    "def f(x):\n",
    "    return 2*x + 3\n",
    "\n",
    "def g(x):\n",
    "    return exp(x) / (1 + exp(x))\n",
    "\n",
    "def h(x):\n",
    "    return max(x, 0)\n",
    "\n",
    "x1 = list(map(f, x))\n",
    "x2 = list(map(g, x1))\n",
    "x3 = list(map(h, x2))\n",
    "print(x3)"
   ]
  },
  {
   "cell_type": "markdown",
   "id": "5f2a7934-4ddc-42a4-9be6-b84a9b3380de",
   "metadata": {},
   "source": [
    "# 4번 문제"
   ]
  },
  {
   "cell_type": "markdown",
   "id": "1bd9d553-6915-4ed4-b30b-5cb8a6649a98",
   "metadata": {},
   "source": [
    "## (a)"
   ]
  },
  {
   "cell_type": "code",
   "execution_count": 31,
   "id": "bcc600a6-e0a8-42cb-8c4c-78c1f1b7fd14",
   "metadata": {},
   "outputs": [
    {
     "data": {
      "text/plain": [
       "[<matplotlib.lines.Line2D at 0x15879d61f70>]"
      ]
     },
     "execution_count": 31,
     "metadata": {},
     "output_type": "execute_result"
    },
    {
     "data": {
      "image/png": "[encoded data removed]",
      "text/plain": [
       "<Figure size 432x288 with 1 Axes>"
      ]
     },
     "metadata": {
      "needs_background": "light"
     },
     "output_type": "display_data"
    }
   ],
   "source": [
    "import matplotlib.pyplot as plt\n",
    "\n",
    "n = 10\n",
    "l = [0]*n\n",
    "\n",
    "for i in range(1, n+1):\n",
    "    l[i-1]  = 1/(2**i)\n",
    "\n",
    "l_ = np.cumsum(l)\n",
    "\n",
    "plt.plot(list(range(n)), l_)"
   ]
  },
  {
   "cell_type": "code",
   "execution_count": 34,
   "id": "821fdf11-44d2-4daf-8025-0ce469e50e8b",
   "metadata": {},
   "outputs": [
    {
     "name": "stdout",
     "output_type": "stream",
     "text": [
      "148.4131591025766 \n",
      " 2441406\n"
     ]
    }
   ],
   "source": [
    "sum = 0\n",
    "n = 10\n",
    "x = 5 ## 예시\n",
    "\n",
    "for i in range(n):\n",
    "    sum += x**i\n",
    "    \n",
    "print(exp(x),\"\\n\", sum)"
   ]
  },
  {
   "cell_type": "markdown",
   "id": "63ea8c4a-0a95-4088-bcb8-095ad342dc94",
   "metadata": {},
   "source": [
    "`-` 모든 x에 대해 성립해야 되는데 아니다"
   ]
  },
  {
   "cell_type": "markdown",
   "id": "470f4419-c6ee-488a-871b-2c156cf03382",
   "metadata": {},
   "source": [
    "# 5번 문제"
   ]
  },
  {
   "cell_type": "code",
   "execution_count": 178,
   "id": "c3071724-6933-4190-8e31-69769f435516",
   "metadata": {},
   "outputs": [
    {
     "name": "stdout",
     "output_type": "stream",
     "text": [
      "52.53420212516463\n"
     ]
    }
   ],
   "source": [
    "x = a = 10 #예시\n",
    "salary = a\n",
    "\n",
    "for i in range(1, 19):\n",
    "    a *= 1.08\n",
    "    salary += a\n",
    "    \n",
    "for j in range(20, 29):\n",
    "    a *= 0.75\n",
    "    salary += a\n",
    "    \n",
    "print(salary / x)"
   ]
  },
  {
   "cell_type": "markdown",
   "id": "e172245d-0efc-4606-88f5-943875b25727",
   "metadata": {},
   "source": [
    "# 6번 문제 "
   ]
  },
  {
   "cell_type": "markdown",
   "id": "18f901e0-ec67-4abe-b583-40b5815828ca",
   "metadata": {},
   "source": [
    "`-` (a) : 참\n",
    "\n",
    "`-` (b) : 거짓\n",
    "\n",
    "`-` (c) : 거짓\n",
    "\n",
    "`-` (d) : 거짓"
   ]
  },
  {
   "cell_type": "markdown",
   "id": "dfa3d2c2-dc6c-4a52-a7bc-6219cbd95ab6",
   "metadata": {},
   "source": [
    "# 7번 문제"
   ]
  },
  {
   "cell_type": "code",
   "execution_count": 375,
   "id": "1cd1ca4b-dee9-4e7c-a3b1-b1476dda1769",
   "metadata": {},
   "outputs": [
    {
     "name": "stdout",
     "output_type": "stream",
     "text": [
      "10\n"
     ]
    }
   ],
   "source": [
    "n = 100\n",
    "doors = [False] * (n+1)\n",
    "\n",
    "for i in range(1, n+1):\n",
    "    for j in range(i, n+1):\n",
    "        if j % i == 0:\n",
    "            if doors[j] == True:\n",
    "                doors[j] = False\n",
    "            else:\n",
    "                doors[j] = True\n",
    "\n",
    "sum_ = 0\n",
    "for k in range(1, n+1):\n",
    "    if doors[k] == True:\n",
    "        sum_ += 1\n",
    "        \n",
    "print(sum_)"
   ]
  },
  {
   "cell_type": "markdown",
   "id": "551ef076-e022-4252-be62-78edda782f61",
   "metadata": {},
   "source": [
    "# 8번 문제"
   ]
  },
  {
   "cell_type": "code",
   "execution_count": 345,
   "id": "3bd19d32-f475-4272-9845-219678a0f08d",
   "metadata": {},
   "outputs": [],
   "source": [
    "dist = 35\n",
    "dp = [0] * 456 \n",
    "dp2 = [0] * 456\n",
    "x = np.array(range(1, 457)) / 100\n",
    "\n",
    "for i in np.arange(10, 0, -0.5):\n",
    "    for j in range(456):\n",
    "        \n",
    "        if dp2[j] == 0:\n",
    "            dp[j] = round(dp[j] + round(x[j], 3), 3)\n",
    "            \n",
    "        if x[j] > i and dp2[j] == 0: ## 0은 False이다 \n",
    "            if dp[j] - round((x[j] - i), 3) < dist:\n",
    "                dp2[j] = -1\n",
    "            elif dp[j] - round((x[j] - i), 3) >= dist:\n",
    "                dp2[j] = 1\n",
    "            \n",
    "        elif x[j] <= i and dp[j] >= dist and dp2[j] == 0:\n",
    "            dp2[j] = 1\n",
    "    x += 1"
   ]
  },
  {
   "cell_type": "markdown",
   "id": "8d1cb804-cb26-4755-bfb8-b9b09526a9d1",
   "metadata": {},
   "source": [
    "## (a)"
   ]
  },
  {
   "cell_type": "code",
   "execution_count": 352,
   "id": "a169e8c4-8405-413a-9379-5df97aea962f",
   "metadata": {},
   "outputs": [
    {
     "data": {
      "text/plain": [
       "-1"
      ]
     },
     "execution_count": 352,
     "metadata": {},
     "output_type": "execute_result"
    }
   ],
   "source": [
    "dp2[0] # 사망"
   ]
  },
  {
   "cell_type": "code",
   "execution_count": 353,
   "id": "8728bb71-7da9-49d8-8982-844de09a2f4d",
   "metadata": {},
   "outputs": [
    {
     "data": {
      "text/plain": [
       "-1"
      ]
     },
     "execution_count": 353,
     "metadata": {},
     "output_type": "execute_result"
    }
   ],
   "source": [
    "dp2[66] # 사망"
   ]
  },
  {
   "cell_type": "code",
   "execution_count": 359,
   "id": "097552d4-9fcf-4f47-9d74-f065c6b224b4",
   "metadata": {},
   "outputs": [
    {
     "data": {
      "text/plain": [
       "1"
      ]
     },
     "execution_count": 359,
     "metadata": {},
     "output_type": "execute_result"
    }
   ],
   "source": [
    "dp2[217] # 생존"
   ]
  },
  {
   "cell_type": "code",
   "execution_count": 360,
   "id": "e9cc71bd-174d-4c06-b8c8-4c51b0c84f25",
   "metadata": {},
   "outputs": [
    {
     "data": {
      "text/plain": [
       "-1"
      ]
     },
     "execution_count": 360,
     "metadata": {},
     "output_type": "execute_result"
    }
   ],
   "source": [
    "dp2[455] # 사망"
   ]
  },
  {
   "cell_type": "markdown",
   "id": "e34ece67-dc0c-4de5-8bb1-7077f4c5c773",
   "metadata": {},
   "source": [
    "## (b)"
   ]
  },
  {
   "cell_type": "code",
   "execution_count": 376,
   "id": "d541f085-bbe3-4d5a-9bef-48b7aa31b3ae",
   "metadata": {},
   "outputs": [
    {
     "name": "stdout",
     "output_type": "stream",
     "text": [
      "85\n"
     ]
    }
   ],
   "source": [
    "sum_ = 0\n",
    "for k in range(456):\n",
    "    if dp2[k] == 1:\n",
    "        sum_ += 1\n",
    "        \n",
    "print(sum_)"
   ]
  },
  {
   "cell_type": "markdown",
   "id": "0125c86c-551e-4436-9a3c-f416c21e8c23",
   "metadata": {},
   "source": [
    "`-` 전체 생존자는 85명"
   ]
  },
  {
   "cell_type": "markdown",
   "id": "58726354-cfb6-437a-8646-b21290dbec9f",
   "metadata": {},
   "source": [
    "`-` 고찰\n",
    "\n",
    "`-` 이것때문에 정신나감\n",
    "\n",
    "`-` 그리고 처음 dp 설정할 때 전부 0으로 해야됐는데 -1로 해서 또 정신나감"
   ]
  },
  {
   "cell_type": "code",
   "execution_count": 362,
   "id": "675e6d3b-65ea-468e-bd81-fc4cc1c92d6d",
   "metadata": {},
   "outputs": [
    {
     "name": "stdout",
     "output_type": "stream",
     "text": [
      "0\n"
     ]
    }
   ],
   "source": [
    "a = np.array([0, 0])\n",
    "b = [0] * 2\n",
    "a[0] += 0.01\n",
    "print(a[0])"
   ]
  },
  {
   "cell_type": "markdown",
   "id": "dbaed8aa-c756-4fd9-8b3c-325b3aa788dd",
   "metadata": {},
   "source": [
    "`-` 왜 0인지 이해가 안됨\n",
    "\n",
    "`-` 왜 0.01이 아니냐?"
   ]
  },
  {
   "cell_type": "code",
   "execution_count": 363,
   "id": "8e82b866-5d7e-452e-b6a8-0c38b4947faf",
   "metadata": {},
   "outputs": [
    {
     "name": "stdout",
     "output_type": "stream",
     "text": [
      "0.01\n"
     ]
    }
   ],
   "source": [
    "b[0] += 0.01\n",
    "print(b[0])"
   ]
  },
  {
   "cell_type": "markdown",
   "id": "440b2108-91e8-42e3-8830-ab2be87632aa",
   "metadata": {},
   "source": [
    "`-` ㅋㅋㅋㅋㅋㅋㅋㅋㅋ\n",
    "\n",
    "`-` 넘파이 어레이는 0인데 그냥 리스트는 0.01이다\n",
    "\n",
    "`-` 이유는 모른다"
   ]
  },
  {
   "cell_type": "markdown",
   "id": "b1bb6e19-7468-4bb8-9ea9-9dec28b9422f",
   "metadata": {},
   "source": [
    "# 9번 문제"
   ]
  },
  {
   "cell_type": "code",
   "execution_count": 99,
   "id": "a072d0b0-9888-495f-bb22-b0ea5de94c40",
   "metadata": {},
   "outputs": [],
   "source": [
    "import pandas as pd\n",
    "df = pd.read_csv(\"https://raw.githubusercontent.com/miruetoto/yechan/master/_notebooks/round2.csv\")\n",
    "mat = np.matrix(df)"
   ]
  },
  {
   "cell_type": "code",
   "execution_count": 382,
   "id": "24803a71-b76a-4b9e-abf6-55012c8cd800",
   "metadata": {},
   "outputs": [
    {
     "data": {
      "text/plain": [
       "(5513, 2)"
      ]
     },
     "execution_count": 382,
     "metadata": {},
     "output_type": "execute_result"
    }
   ],
   "source": [
    "mat.shape"
   ]
  },
  {
   "cell_type": "markdown",
   "id": "a284a162-9f2f-4fce-9dff-e067b1d7e0d0",
   "metadata": {},
   "source": [
    "## (a)"
   ]
  },
  {
   "cell_type": "code",
   "execution_count": 119,
   "id": "2c48c092-cb0b-4087-ad91-a3bd859a2b9f",
   "metadata": {},
   "outputs": [
    {
     "data": {
      "text/plain": [
       "[<matplotlib.lines.Line2D at 0x1587be6e6d0>]"
      ]
     },
     "execution_count": 119,
     "metadata": {},
     "output_type": "execute_result"
    },
    {
     "data": {
      "image/png": "[encoded data removed]",
      "text/plain": [
       "<Figure size 432x288 with 1 Axes>"
      ]
     },
     "metadata": {
      "needs_background": "light"
     },
     "output_type": "display_data"
    }
   ],
   "source": [
    "plt.plot(mat[:,0], mat[:,1], 'ko')"
   ]
  },
  {
   "cell_type": "markdown",
   "id": "9e36e229-0233-495d-bf4d-3f222dfb18cd",
   "metadata": {},
   "source": [
    "## (b)"
   ]
  },
  {
   "cell_type": "code",
   "execution_count": 120,
   "id": "da6abade-60e7-421c-976c-6939d4e016f9",
   "metadata": {},
   "outputs": [
    {
     "data": {
      "text/plain": [
       "matrix([[ 12, 313]], dtype=int64)"
      ]
     },
     "execution_count": 120,
     "metadata": {},
     "output_type": "execute_result"
    }
   ],
   "source": [
    "mat[0,:]"
   ]
  },
  {
   "cell_type": "markdown",
   "id": "089ca859-e828-43a0-8e0b-a3427a3dc50f",
   "metadata": {},
   "source": [
    "## (c)"
   ]
  },
  {
   "cell_type": "code",
   "execution_count": 381,
   "id": "7b0938da-d32f-470b-9eeb-5cfdf1f84344",
   "metadata": {},
   "outputs": [
    {
     "data": {
      "text/plain": [
       "matrix([[-313],\n",
       "        [ -12]])"
      ]
     },
     "execution_count": 381,
     "metadata": {},
     "output_type": "execute_result"
    }
   ],
   "source": [
    "np.matrix([[0,-1], [-1,0]]) @ np.matrix([12,313]).T"
   ]
  },
  {
   "cell_type": "markdown",
   "id": "f087671f-9679-4098-a0f0-f2ed8f2abe96",
   "metadata": {},
   "source": [
    "## (d)"
   ]
  },
  {
   "cell_type": "code",
   "execution_count": 130,
   "id": "d097f6f7-2878-462f-a7df-dfe88394831c",
   "metadata": {},
   "outputs": [],
   "source": [
    "mat2 = mat\n",
    "\n",
    "for i in range(5513):\n",
    "    mat2[i,:] = (np.matrix([[0,-1], [-1,0]]) @ mat[i,:].T).T"
   ]
  },
  {
   "cell_type": "markdown",
   "id": "8a31cfea-a9d0-4384-be5e-213ed5547045",
   "metadata": {},
   "source": [
    "## (e)"
   ]
  },
  {
   "cell_type": "code",
   "execution_count": 131,
   "id": "67470e80-6d9c-4acc-b016-af914a5d9172",
   "metadata": {},
   "outputs": [
    {
     "data": {
      "text/plain": [
       "[<matplotlib.lines.Line2D at 0x1587bef1a30>]"
      ]
     },
     "execution_count": 131,
     "metadata": {},
     "output_type": "execute_result"
    },
    {
     "data": {
      "image/png": "[encoded data removed]",
      "text/plain": [
       "<Figure size 432x288 with 1 Axes>"
      ]
     },
     "metadata": {
      "needs_background": "light"
     },
     "output_type": "display_data"
    }
   ],
   "source": [
    "plt.plot(mat2[:,0], mat2[:,1], 'ro')"
   ]
  },
  {
   "cell_type": "code",
   "execution_count": null,
   "id": "a31c3481-b366-45e6-a47d-2b89601a6948",
   "metadata": {},
   "outputs": [],
   "source": []
  }
 ],
 "metadata": {
  "kernelspec": {
   "display_name": "Python 3 (ipykernel)",
   "language": "python",
   "name": "python3"
  },
  "language_info": {
   "codemirror_mode": {
    "name": "ipython",
    "version": 3
   },
   "file_extension": ".py",
   "mimetype": "text/x-python",
   "name": "python",
   "nbconvert_exporter": "python",
   "pygments_lexer": "ipython3",
   "version": "3.8.11"
  }
 },
 "nbformat": 4,
 "nbformat_minor": 5
}
