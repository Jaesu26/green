{
 "cells": [
  {
   "cell_type": "markdown",
   "id": "4a0230f7-6365-446e-9c50-11f43fb9e134",
   "metadata": {},
   "source": [
    "# 데이터시각화 중간고사 연습문제\n",
    "\n",
    "> \"작성 완료\"\n",
    "\n",
    "- toc: true\n",
    "- branch: master\n",
    "- badges: true\n",
    "- comments: true\n",
    "- author: 한재수\n",
    "- categories: [python]"
   ]
  },
  {
   "cell_type": "code",
   "execution_count": 1,
   "id": "f15e2655-ebbc-4fec-ad0c-a08cec3f440e",
   "metadata": {},
   "outputs": [],
   "source": [
    "import pandas as pd \n",
    "import numpy as np \n",
    "from plotnine import * \n",
    "import matplotlib.pyplot as plt \n",
    "import seaborn as sns"
   ]
  },
  {
   "cell_type": "markdown",
   "id": "9920e831-c19c-4e57-9406-3ffba76c97ba",
   "metadata": {},
   "source": [
    "`-` 흠 20분 걸렸는데... 조금 느리다"
   ]
  },
  {
   "cell_type": "markdown",
   "id": "ac590c68-f60e-42e0-8b60-cea8ee0e083b",
   "metadata": {},
   "source": [
    "# Type I. 프로그램 구현능력 평가"
   ]
  },
  {
   "cell_type": "code",
   "execution_count": 2,
   "id": "f8b30549-c63e-4ef1-aa82-e0be1e6f75ab",
   "metadata": {},
   "outputs": [],
   "source": [
    "np.random.seed(202016248)"
   ]
  },
  {
   "cell_type": "code",
   "execution_count": 3,
   "id": "1cccb3d5-b762-490d-8ff7-17c8daacdad1",
   "metadata": {},
   "outputs": [],
   "source": [
    "x1 = np.random.normal(0, 1, 10000)\n",
    "x2 = np.random.normal(1, 1, 10000)"
   ]
  },
  {
   "cell_type": "code",
   "execution_count": 4,
   "id": "37b9cf64-21bf-4593-a41f-9fc309bc1a44",
   "metadata": {},
   "outputs": [
    {
     "data": {
      "text/plain": [
       "<AxesSubplot:ylabel='Count'>"
      ]
     },
     "execution_count": 4,
     "metadata": {},
     "output_type": "execute_result"
    },
    {
     "data": {
      "image/png": "[encoded data removed]",
      "text/plain": [
       "<Figure size 432x288 with 1 Axes>"
      ]
     },
     "metadata": {
      "needs_background": "light"
     },
     "output_type": "display_data"
    }
   ],
   "source": [
    "sns.histplot([x1, x2])"
   ]
  },
  {
   "cell_type": "code",
   "execution_count": 62,
   "id": "7a495972-b45b-4d60-878a-2e1f5fe24152",
   "metadata": {},
   "outputs": [],
   "source": [
    "x = [1, 2, 3, 4]\n",
    "y = [1, 2, 4, 3]"
   ]
  },
  {
   "cell_type": "code",
   "execution_count": 63,
   "id": "e4c0d40c-7863-432e-8be8-4af3224a309b",
   "metadata": {},
   "outputs": [
    {
     "data": {
      "image/png": "[encoded data removed]",
      "text/plain": [
       "<Figure size 432x288 with 4 Axes>"
      ]
     },
     "metadata": {
      "needs_background": "light"
     },
     "output_type": "display_data"
    }
   ],
   "source": [
    "fig, axs = plt.subplots(2,2)"
   ]
  },
  {
   "cell_type": "code",
   "execution_count": 64,
   "id": "9342d869-f594-437a-93f5-93f6049870ef",
   "metadata": {},
   "outputs": [],
   "source": [
    "(ax1, ax2), (ax3, ax4) = axs"
   ]
  },
  {
   "cell_type": "code",
   "execution_count": 65,
   "id": "0fec11fd-8ad4-4560-9016-a7f52b97b42f",
   "metadata": {},
   "outputs": [
    {
     "data": {
      "text/plain": [
       "[<matplotlib.lines.Line2D at 0x1f9133fc730>]"
      ]
     },
     "execution_count": 65,
     "metadata": {},
     "output_type": "execute_result"
    }
   ],
   "source": [
    "ax1.plot(x, y, 'o:r')\n",
    "ax2.plot(x, y, 'Xb')\n",
    "ax3.plot(x, y, 'xm')\n",
    "ax4.plot(x, y, '.--k')"
   ]
  },
  {
   "cell_type": "code",
   "execution_count": 66,
   "id": "d41d1fa6-c3c6-4c52-a5b1-eea1a6acf505",
   "metadata": {},
   "outputs": [
    {
     "data": {
      "image/png": "[encoded data removed]",
      "text/plain": [
       "<Figure size 432x288 with 4 Axes>"
      ]
     },
     "execution_count": 66,
     "metadata": {},
     "output_type": "execute_result"
    }
   ],
   "source": [
    "fig"
   ]
  },
  {
   "cell_type": "markdown",
   "id": "6a44a71a-909c-44e3-9295-5960432e84d5",
   "metadata": {},
   "source": [
    "# Type II. 개념의 이해 평가"
   ]
  },
  {
   "cell_type": "markdown",
   "id": "b15cac02-23f3-4a92-93d0-48a842d517e6",
   "metadata": {},
   "source": [
    "`(1)` 하니, 홍두깨"
   ]
  },
  {
   "cell_type": "markdown",
   "id": "3f249563-6396-416e-bfe4-3148c87c12d2",
   "metadata": {},
   "source": [
    "`(2)` 하니, 나애리"
   ]
  },
  {
   "cell_type": "markdown",
   "id": "096f863e-d976-4414-bb73-d211c7650165",
   "metadata": {},
   "source": [
    "# Type III. 자료분석 및 시각화 능력 종합평가"
   ]
  },
  {
   "cell_type": "code",
   "execution_count": 5,
   "id": "398aa01a-94fd-4848-acbd-e47c91b2c5b8",
   "metadata": {},
   "outputs": [
    {
     "data": {
      "text/html": [
       "<div>\n",
       "<style scoped>\n",
       "    .dataframe tbody tr th:only-of-type {\n",
       "        vertical-align: middle;\n",
       "    }\n",
       "\n",
       "    .dataframe tbody tr th {\n",
       "        vertical-align: top;\n",
       "    }\n",
       "\n",
       "    .dataframe thead th {\n",
       "        text-align: right;\n",
       "    }\n",
       "</style>\n",
       "<table border=\"1\" class=\"dataframe\">\n",
       "  <thead>\n",
       "    <tr style=\"text-align: right;\">\n",
       "      <th></th>\n",
       "      <th>UNIQUE_ID</th>\n",
       "      <th>POSITION_TITLE</th>\n",
       "      <th>DEPARTMENT</th>\n",
       "      <th>BASE_SALARY</th>\n",
       "      <th>RACE</th>\n",
       "      <th>EMPLOYMENT_TYPE</th>\n",
       "      <th>GENDER</th>\n",
       "      <th>EMPLOYMENT_STATUS</th>\n",
       "      <th>HIRE_DATE</th>\n",
       "      <th>JOB_DATE</th>\n",
       "    </tr>\n",
       "  </thead>\n",
       "  <tbody>\n",
       "    <tr>\n",
       "      <th>0</th>\n",
       "      <td>0</td>\n",
       "      <td>ASSISTANT DIRECTOR (EX LVL)</td>\n",
       "      <td>Municipal Courts Department</td>\n",
       "      <td>121862.0</td>\n",
       "      <td>Hispanic/Latino</td>\n",
       "      <td>Full Time</td>\n",
       "      <td>Female</td>\n",
       "      <td>Active</td>\n",
       "      <td>2006-06-12</td>\n",
       "      <td>2012-10-13</td>\n",
       "    </tr>\n",
       "    <tr>\n",
       "      <th>1</th>\n",
       "      <td>1</td>\n",
       "      <td>LIBRARY ASSISTANT</td>\n",
       "      <td>Library</td>\n",
       "      <td>26125.0</td>\n",
       "      <td>Hispanic/Latino</td>\n",
       "      <td>Full Time</td>\n",
       "      <td>Female</td>\n",
       "      <td>Active</td>\n",
       "      <td>2000-07-19</td>\n",
       "      <td>2010-09-18</td>\n",
       "    </tr>\n",
       "    <tr>\n",
       "      <th>2</th>\n",
       "      <td>2</td>\n",
       "      <td>POLICE OFFICER</td>\n",
       "      <td>Houston Police Department-HPD</td>\n",
       "      <td>45279.0</td>\n",
       "      <td>White</td>\n",
       "      <td>Full Time</td>\n",
       "      <td>Male</td>\n",
       "      <td>Active</td>\n",
       "      <td>2015-02-03</td>\n",
       "      <td>2015-02-03</td>\n",
       "    </tr>\n",
       "    <tr>\n",
       "      <th>3</th>\n",
       "      <td>3</td>\n",
       "      <td>ENGINEER/OPERATOR</td>\n",
       "      <td>Houston Fire Department (HFD)</td>\n",
       "      <td>63166.0</td>\n",
       "      <td>White</td>\n",
       "      <td>Full Time</td>\n",
       "      <td>Male</td>\n",
       "      <td>Active</td>\n",
       "      <td>1982-02-08</td>\n",
       "      <td>1991-05-25</td>\n",
       "    </tr>\n",
       "    <tr>\n",
       "      <th>4</th>\n",
       "      <td>4</td>\n",
       "      <td>ELECTRICIAN</td>\n",
       "      <td>General Services Department</td>\n",
       "      <td>56347.0</td>\n",
       "      <td>White</td>\n",
       "      <td>Full Time</td>\n",
       "      <td>Male</td>\n",
       "      <td>Active</td>\n",
       "      <td>1989-06-19</td>\n",
       "      <td>1994-10-22</td>\n",
       "    </tr>\n",
       "    <tr>\n",
       "      <th>...</th>\n",
       "      <td>...</td>\n",
       "      <td>...</td>\n",
       "      <td>...</td>\n",
       "      <td>...</td>\n",
       "      <td>...</td>\n",
       "      <td>...</td>\n",
       "      <td>...</td>\n",
       "      <td>...</td>\n",
       "      <td>...</td>\n",
       "      <td>...</td>\n",
       "    </tr>\n",
       "    <tr>\n",
       "      <th>1995</th>\n",
       "      <td>1995</td>\n",
       "      <td>POLICE OFFICER</td>\n",
       "      <td>Houston Police Department-HPD</td>\n",
       "      <td>43443.0</td>\n",
       "      <td>White</td>\n",
       "      <td>Full Time</td>\n",
       "      <td>Male</td>\n",
       "      <td>Active</td>\n",
       "      <td>2014-06-09</td>\n",
       "      <td>2015-06-09</td>\n",
       "    </tr>\n",
       "    <tr>\n",
       "      <th>1996</th>\n",
       "      <td>1996</td>\n",
       "      <td>COMMUNICATIONS CAPTAIN</td>\n",
       "      <td>Houston Fire Department (HFD)</td>\n",
       "      <td>66523.0</td>\n",
       "      <td>Black or African American</td>\n",
       "      <td>Full Time</td>\n",
       "      <td>Male</td>\n",
       "      <td>Active</td>\n",
       "      <td>2003-09-02</td>\n",
       "      <td>2013-10-06</td>\n",
       "    </tr>\n",
       "    <tr>\n",
       "      <th>1997</th>\n",
       "      <td>1997</td>\n",
       "      <td>POLICE OFFICER</td>\n",
       "      <td>Houston Police Department-HPD</td>\n",
       "      <td>43443.0</td>\n",
       "      <td>White</td>\n",
       "      <td>Full Time</td>\n",
       "      <td>Male</td>\n",
       "      <td>Active</td>\n",
       "      <td>2014-10-13</td>\n",
       "      <td>2015-10-13</td>\n",
       "    </tr>\n",
       "    <tr>\n",
       "      <th>1998</th>\n",
       "      <td>1998</td>\n",
       "      <td>POLICE OFFICER</td>\n",
       "      <td>Houston Police Department-HPD</td>\n",
       "      <td>55461.0</td>\n",
       "      <td>Asian/Pacific Islander</td>\n",
       "      <td>Full Time</td>\n",
       "      <td>Male</td>\n",
       "      <td>Active</td>\n",
       "      <td>2009-01-20</td>\n",
       "      <td>2011-07-02</td>\n",
       "    </tr>\n",
       "    <tr>\n",
       "      <th>1999</th>\n",
       "      <td>1999</td>\n",
       "      <td>FIRE FIGHTER</td>\n",
       "      <td>Houston Fire Department (HFD)</td>\n",
       "      <td>51194.0</td>\n",
       "      <td>Hispanic/Latino</td>\n",
       "      <td>Full Time</td>\n",
       "      <td>Male</td>\n",
       "      <td>Active</td>\n",
       "      <td>2009-01-12</td>\n",
       "      <td>2010-07-12</td>\n",
       "    </tr>\n",
       "  </tbody>\n",
       "</table>\n",
       "<p>2000 rows × 10 columns</p>\n",
       "</div>"
      ],
      "text/plain": [
       "      UNIQUE_ID               POSITION_TITLE                     DEPARTMENT  \\\n",
       "0             0  ASSISTANT DIRECTOR (EX LVL)    Municipal Courts Department   \n",
       "1             1            LIBRARY ASSISTANT                        Library   \n",
       "2             2               POLICE OFFICER  Houston Police Department-HPD   \n",
       "3             3            ENGINEER/OPERATOR  Houston Fire Department (HFD)   \n",
       "4             4                  ELECTRICIAN    General Services Department   \n",
       "...         ...                          ...                            ...   \n",
       "1995       1995               POLICE OFFICER  Houston Police Department-HPD   \n",
       "1996       1996       COMMUNICATIONS CAPTAIN  Houston Fire Department (HFD)   \n",
       "1997       1997               POLICE OFFICER  Houston Police Department-HPD   \n",
       "1998       1998               POLICE OFFICER  Houston Police Department-HPD   \n",
       "1999       1999                 FIRE FIGHTER  Houston Fire Department (HFD)   \n",
       "\n",
       "      BASE_SALARY                       RACE EMPLOYMENT_TYPE  GENDER  \\\n",
       "0        121862.0            Hispanic/Latino       Full Time  Female   \n",
       "1         26125.0            Hispanic/Latino       Full Time  Female   \n",
       "2         45279.0                      White       Full Time    Male   \n",
       "3         63166.0                      White       Full Time    Male   \n",
       "4         56347.0                      White       Full Time    Male   \n",
       "...           ...                        ...             ...     ...   \n",
       "1995      43443.0                      White       Full Time    Male   \n",
       "1996      66523.0  Black or African American       Full Time    Male   \n",
       "1997      43443.0                      White       Full Time    Male   \n",
       "1998      55461.0     Asian/Pacific Islander       Full Time    Male   \n",
       "1999      51194.0            Hispanic/Latino       Full Time    Male   \n",
       "\n",
       "     EMPLOYMENT_STATUS   HIRE_DATE    JOB_DATE  \n",
       "0               Active  2006-06-12  2012-10-13  \n",
       "1               Active  2000-07-19  2010-09-18  \n",
       "2               Active  2015-02-03  2015-02-03  \n",
       "3               Active  1982-02-08  1991-05-25  \n",
       "4               Active  1989-06-19  1994-10-22  \n",
       "...                ...         ...         ...  \n",
       "1995            Active  2014-06-09  2015-06-09  \n",
       "1996            Active  2003-09-02  2013-10-06  \n",
       "1997            Active  2014-10-13  2015-10-13  \n",
       "1998            Active  2009-01-20  2011-07-02  \n",
       "1999            Active  2009-01-12  2010-07-12  \n",
       "\n",
       "[2000 rows x 10 columns]"
      ]
     },
     "execution_count": 5,
     "metadata": {},
     "output_type": "execute_result"
    }
   ],
   "source": [
    "df = pd.read_csv('https://raw.githubusercontent.com/PacktPublishing/Pandas-Cookbook/master/data/employee.csv')\n",
    "df"
   ]
  },
  {
   "cell_type": "markdown",
   "id": "b8078961-b98c-4e1a-8d06-c5bebf912f2f",
   "metadata": {},
   "source": [
    "## (a)"
   ]
  },
  {
   "cell_type": "code",
   "execution_count": 6,
   "id": "8b7187f4-f90d-4bbf-84bb-b36f36ff67ba",
   "metadata": {},
   "outputs": [
    {
     "name": "stdout",
     "output_type": "stream",
     "text": [
      "<class 'pandas.core.frame.DataFrame'>\n",
      "RangeIndex: 2000 entries, 0 to 1999\n",
      "Data columns (total 10 columns):\n",
      " #   Column             Non-Null Count  Dtype  \n",
      "---  ------             --------------  -----  \n",
      " 0   UNIQUE_ID          2000 non-null   int64  \n",
      " 1   POSITION_TITLE     2000 non-null   object \n",
      " 2   DEPARTMENT         2000 non-null   object \n",
      " 3   BASE_SALARY        1886 non-null   float64\n",
      " 4   RACE               1965 non-null   object \n",
      " 5   EMPLOYMENT_TYPE    2000 non-null   object \n",
      " 6   GENDER             2000 non-null   object \n",
      " 7   EMPLOYMENT_STATUS  2000 non-null   object \n",
      " 8   HIRE_DATE          2000 non-null   object \n",
      " 9   JOB_DATE           1997 non-null   object \n",
      "dtypes: float64(1), int64(1), object(8)\n",
      "memory usage: 156.4+ KB\n"
     ]
    }
   ],
   "source": [
    "df.info()"
   ]
  },
  {
   "cell_type": "code",
   "execution_count": 7,
   "id": "1e3d1f21-499d-4afc-bc66-d16f005a04d4",
   "metadata": {},
   "outputs": [
    {
     "data": {
      "text/plain": [
       "UNIQUE_ID              0\n",
       "POSITION_TITLE         0\n",
       "DEPARTMENT             0\n",
       "BASE_SALARY          114\n",
       "RACE                  35\n",
       "EMPLOYMENT_TYPE        0\n",
       "GENDER                 0\n",
       "EMPLOYMENT_STATUS      0\n",
       "HIRE_DATE              0\n",
       "JOB_DATE               3\n",
       "dtype: int64"
      ]
     },
     "execution_count": 7,
     "metadata": {},
     "output_type": "execute_result"
    }
   ],
   "source": [
    "df.isnull().sum()"
   ]
  },
  {
   "cell_type": "code",
   "execution_count": 8,
   "id": "09b128e8-5079-46de-8a85-c8356e860a8a",
   "metadata": {},
   "outputs": [
    {
     "data": {
      "text/plain": [
       "152"
      ]
     },
     "execution_count": 8,
     "metadata": {},
     "output_type": "execute_result"
    }
   ],
   "source": [
    "df.isnull().sum().sum()"
   ]
  },
  {
   "cell_type": "code",
   "execution_count": 9,
   "id": "c697fee8-7ca2-415c-928b-70e2f10a5100",
   "metadata": {},
   "outputs": [],
   "source": [
    "df = df.dropna()"
   ]
  },
  {
   "cell_type": "code",
   "execution_count": 10,
   "id": "e37fb863-67be-4376-9563-8baf0dcb0b16",
   "metadata": {},
   "outputs": [
    {
     "name": "stdout",
     "output_type": "stream",
     "text": [
      "<class 'pandas.core.frame.DataFrame'>\n",
      "Int64Index: 1853 entries, 0 to 1999\n",
      "Data columns (total 10 columns):\n",
      " #   Column             Non-Null Count  Dtype  \n",
      "---  ------             --------------  -----  \n",
      " 0   UNIQUE_ID          1853 non-null   int64  \n",
      " 1   POSITION_TITLE     1853 non-null   object \n",
      " 2   DEPARTMENT         1853 non-null   object \n",
      " 3   BASE_SALARY        1853 non-null   float64\n",
      " 4   RACE               1853 non-null   object \n",
      " 5   EMPLOYMENT_TYPE    1853 non-null   object \n",
      " 6   GENDER             1853 non-null   object \n",
      " 7   EMPLOYMENT_STATUS  1853 non-null   object \n",
      " 8   HIRE_DATE          1853 non-null   object \n",
      " 9   JOB_DATE           1853 non-null   object \n",
      "dtypes: float64(1), int64(1), object(8)\n",
      "memory usage: 159.2+ KB\n"
     ]
    }
   ],
   "source": [
    "df.info()"
   ]
  },
  {
   "cell_type": "code",
   "execution_count": 11,
   "id": "affcbbfa-6eb0-4570-a564-76e073d91901",
   "metadata": {},
   "outputs": [
    {
     "data": {
      "text/plain": [
       "UNIQUE_ID            0\n",
       "POSITION_TITLE       0\n",
       "DEPARTMENT           0\n",
       "BASE_SALARY          0\n",
       "RACE                 0\n",
       "EMPLOYMENT_TYPE      0\n",
       "GENDER               0\n",
       "EMPLOYMENT_STATUS    0\n",
       "HIRE_DATE            0\n",
       "JOB_DATE             0\n",
       "dtype: int64"
      ]
     },
     "execution_count": 11,
     "metadata": {},
     "output_type": "execute_result"
    }
   ],
   "source": [
    "df.isnull().sum()"
   ]
  },
  {
   "cell_type": "code",
   "execution_count": 12,
   "id": "e6d850bf-d5a9-4070-b5a8-bf90da07429f",
   "metadata": {},
   "outputs": [
    {
     "data": {
      "text/plain": [
       "0"
      ]
     },
     "execution_count": 12,
     "metadata": {},
     "output_type": "execute_result"
    }
   ],
   "source": [
    "df.isnull().sum().sum()"
   ]
  },
  {
   "cell_type": "markdown",
   "id": "a02b7d3a-1693-4aba-a51f-0c59e2bc50c4",
   "metadata": {},
   "source": [
    "## (b) "
   ]
  },
  {
   "cell_type": "code",
   "execution_count": 13,
   "id": "5c435ecc-41da-4787-a54f-d8ebb12944a4",
   "metadata": {},
   "outputs": [
    {
     "data": {
      "text/html": [
       "<div>\n",
       "<style scoped>\n",
       "    .dataframe tbody tr th:only-of-type {\n",
       "        vertical-align: middle;\n",
       "    }\n",
       "\n",
       "    .dataframe tbody tr th {\n",
       "        vertical-align: top;\n",
       "    }\n",
       "\n",
       "    .dataframe thead th {\n",
       "        text-align: right;\n",
       "    }\n",
       "</style>\n",
       "<table border=\"1\" class=\"dataframe\">\n",
       "  <thead>\n",
       "    <tr style=\"text-align: right;\">\n",
       "      <th></th>\n",
       "      <th>BASE_SALARY</th>\n",
       "    </tr>\n",
       "    <tr>\n",
       "      <th>GENDER</th>\n",
       "      <th></th>\n",
       "    </tr>\n",
       "  </thead>\n",
       "  <tbody>\n",
       "    <tr>\n",
       "      <th>Female</th>\n",
       "      <td>52474.665487</td>\n",
       "    </tr>\n",
       "    <tr>\n",
       "      <th>Male</th>\n",
       "      <td>57670.031832</td>\n",
       "    </tr>\n",
       "  </tbody>\n",
       "</table>\n",
       "</div>"
      ],
      "text/plain": [
       "         BASE_SALARY\n",
       "GENDER              \n",
       "Female  52474.665487\n",
       "Male    57670.031832"
      ]
     },
     "execution_count": 13,
     "metadata": {},
     "output_type": "execute_result"
    }
   ],
   "source": [
    "df_ = df.groupby(by = 'GENDER').agg({'BASE_SALARY':np.mean})\n",
    "df_"
   ]
  },
  {
   "cell_type": "code",
   "execution_count": 14,
   "id": "2de39e7b-343b-49c3-a2a2-3ebe65dfb6f3",
   "metadata": {},
   "outputs": [
    {
     "data": {
      "text/html": [
       "<div>\n",
       "<style scoped>\n",
       "    .dataframe tbody tr th:only-of-type {\n",
       "        vertical-align: middle;\n",
       "    }\n",
       "\n",
       "    .dataframe tbody tr th {\n",
       "        vertical-align: top;\n",
       "    }\n",
       "\n",
       "    .dataframe thead th {\n",
       "        text-align: right;\n",
       "    }\n",
       "</style>\n",
       "<table border=\"1\" class=\"dataframe\">\n",
       "  <thead>\n",
       "    <tr style=\"text-align: right;\">\n",
       "      <th></th>\n",
       "      <th>GENDER</th>\n",
       "      <th>level_1</th>\n",
       "      <th>0</th>\n",
       "    </tr>\n",
       "  </thead>\n",
       "  <tbody>\n",
       "    <tr>\n",
       "      <th>0</th>\n",
       "      <td>Female</td>\n",
       "      <td>BASE_SALARY</td>\n",
       "      <td>52474.665487</td>\n",
       "    </tr>\n",
       "    <tr>\n",
       "      <th>1</th>\n",
       "      <td>Male</td>\n",
       "      <td>BASE_SALARY</td>\n",
       "      <td>57670.031832</td>\n",
       "    </tr>\n",
       "  </tbody>\n",
       "</table>\n",
       "</div>"
      ],
      "text/plain": [
       "   GENDER      level_1             0\n",
       "0  Female  BASE_SALARY  52474.665487\n",
       "1    Male  BASE_SALARY  57670.031832"
      ]
     },
     "execution_count": 14,
     "metadata": {},
     "output_type": "execute_result"
    }
   ],
   "source": [
    "df_ = df_.stack().reset_index()\n",
    "df_"
   ]
  },
  {
   "cell_type": "code",
   "execution_count": 24,
   "id": "9c9ee949-1e7f-4f59-88af-f1df03105ef4",
   "metadata": {},
   "outputs": [
    {
     "data": {
      "text/plain": [
       "False"
      ]
     },
     "execution_count": 24,
     "metadata": {},
     "output_type": "execute_result"
    }
   ],
   "source": [
    "(df_.query('GENDER == \"Female\"'))[0].to_list() > (df_.query('GENDER == \"Male\"'))[0].to_list()"
   ]
  },
  {
   "cell_type": "markdown",
   "id": "b0552df7-b66b-4b9b-b1e3-099898b8b529",
   "metadata": {},
   "source": [
    "`-` 남자 급여평균이 더 크다"
   ]
  },
  {
   "cell_type": "markdown",
   "id": "355fe562-18b9-4291-93cd-a81d3478bf1e",
   "metadata": {},
   "source": [
    "## (c) "
   ]
  },
  {
   "cell_type": "code",
   "execution_count": 54,
   "id": "93ed5e48-e3a0-4843-87f1-eb752fb30420",
   "metadata": {},
   "outputs": [],
   "source": [
    "df2 = df.groupby(by = ['RACE','GENDER']).agg({'BASE_SALARY':[np.mean, min, max]})"
   ]
  },
  {
   "cell_type": "code",
   "execution_count": 80,
   "id": "cd357152-aade-47bf-bc17-94cbb16d39b6",
   "metadata": {},
   "outputs": [
    {
     "data": {
      "text/html": [
       "<div>\n",
       "<style scoped>\n",
       "    .dataframe tbody tr th:only-of-type {\n",
       "        vertical-align: middle;\n",
       "    }\n",
       "\n",
       "    .dataframe tbody tr th {\n",
       "        vertical-align: top;\n",
       "    }\n",
       "\n",
       "    .dataframe thead tr th {\n",
       "        text-align: left;\n",
       "    }\n",
       "\n",
       "    .dataframe thead tr:last-of-type th {\n",
       "        text-align: right;\n",
       "    }\n",
       "</style>\n",
       "<table border=\"1\" class=\"dataframe\">\n",
       "  <thead>\n",
       "    <tr>\n",
       "      <th></th>\n",
       "      <th></th>\n",
       "      <th colspan=\"3\" halign=\"left\">BASE_SALARY</th>\n",
       "    </tr>\n",
       "    <tr>\n",
       "      <th></th>\n",
       "      <th></th>\n",
       "      <th>mean</th>\n",
       "      <th>min</th>\n",
       "      <th>max</th>\n",
       "    </tr>\n",
       "    <tr>\n",
       "      <th>RACE</th>\n",
       "      <th>GENDER</th>\n",
       "      <th></th>\n",
       "      <th></th>\n",
       "      <th></th>\n",
       "    </tr>\n",
       "  </thead>\n",
       "  <tbody>\n",
       "    <tr>\n",
       "      <th rowspan=\"2\" valign=\"top\">American Indian or Alaskan Native</th>\n",
       "      <th>Female</th>\n",
       "      <td>60238.800000</td>\n",
       "      <td>26125.0</td>\n",
       "      <td>98536.0</td>\n",
       "    </tr>\n",
       "    <tr>\n",
       "      <th>Male</th>\n",
       "      <td>60305.400000</td>\n",
       "      <td>26125.0</td>\n",
       "      <td>81239.0</td>\n",
       "    </tr>\n",
       "    <tr>\n",
       "      <th rowspan=\"2\" valign=\"top\">Asian/Pacific Islander</th>\n",
       "      <th>Female</th>\n",
       "      <td>63226.300000</td>\n",
       "      <td>26125.0</td>\n",
       "      <td>130416.0</td>\n",
       "    </tr>\n",
       "    <tr>\n",
       "      <th>Male</th>\n",
       "      <td>61033.906667</td>\n",
       "      <td>27914.0</td>\n",
       "      <td>163228.0</td>\n",
       "    </tr>\n",
       "    <tr>\n",
       "      <th rowspan=\"2\" valign=\"top\">Black or African American</th>\n",
       "      <th>Female</th>\n",
       "      <td>48965.790378</td>\n",
       "      <td>24960.0</td>\n",
       "      <td>150416.0</td>\n",
       "    </tr>\n",
       "    <tr>\n",
       "      <th>Male</th>\n",
       "      <td>51118.867374</td>\n",
       "      <td>26125.0</td>\n",
       "      <td>275000.0</td>\n",
       "    </tr>\n",
       "    <tr>\n",
       "      <th rowspan=\"2\" valign=\"top\">Hispanic/Latino</th>\n",
       "      <th>Female</th>\n",
       "      <td>46503.316176</td>\n",
       "      <td>26125.0</td>\n",
       "      <td>126115.0</td>\n",
       "    </tr>\n",
       "    <tr>\n",
       "      <th>Male</th>\n",
       "      <td>54767.541538</td>\n",
       "      <td>26104.0</td>\n",
       "      <td>165216.0</td>\n",
       "    </tr>\n",
       "    <tr>\n",
       "      <th rowspan=\"2\" valign=\"top\">Others</th>\n",
       "      <th>Female</th>\n",
       "      <td>63785.000000</td>\n",
       "      <td>63785.0</td>\n",
       "      <td>63785.0</td>\n",
       "    </tr>\n",
       "    <tr>\n",
       "      <th>Male</th>\n",
       "      <td>38771.000000</td>\n",
       "      <td>38771.0</td>\n",
       "      <td>38771.0</td>\n",
       "    </tr>\n",
       "    <tr>\n",
       "      <th rowspan=\"2\" valign=\"top\">White</th>\n",
       "      <th>Female</th>\n",
       "      <td>66793.352941</td>\n",
       "      <td>27955.0</td>\n",
       "      <td>178331.0</td>\n",
       "    </tr>\n",
       "    <tr>\n",
       "      <th>Male</th>\n",
       "      <td>63940.388119</td>\n",
       "      <td>26125.0</td>\n",
       "      <td>210588.0</td>\n",
       "    </tr>\n",
       "  </tbody>\n",
       "</table>\n",
       "</div>"
      ],
      "text/plain": [
       "                                           BASE_SALARY                   \n",
       "                                                  mean      min       max\n",
       "RACE                              GENDER                                 \n",
       "American Indian or Alaskan Native Female  60238.800000  26125.0   98536.0\n",
       "                                  Male    60305.400000  26125.0   81239.0\n",
       "Asian/Pacific Islander            Female  63226.300000  26125.0  130416.0\n",
       "                                  Male    61033.906667  27914.0  163228.0\n",
       "Black or African American         Female  48965.790378  24960.0  150416.0\n",
       "                                  Male    51118.867374  26125.0  275000.0\n",
       "Hispanic/Latino                   Female  46503.316176  26125.0  126115.0\n",
       "                                  Male    54767.541538  26104.0  165216.0\n",
       "Others                            Female  63785.000000  63785.0   63785.0\n",
       "                                  Male    38771.000000  38771.0   38771.0\n",
       "White                             Female  66793.352941  27955.0  178331.0\n",
       "                                  Male    63940.388119  26125.0  210588.0"
      ]
     },
     "execution_count": 80,
     "metadata": {},
     "output_type": "execute_result"
    }
   ],
   "source": [
    "df2"
   ]
  },
  {
   "cell_type": "markdown",
   "id": "903ffcea-849b-40f3-8406-c27bce866232",
   "metadata": {},
   "source": [
    "`-` tidydata로 만들자!"
   ]
  },
  {
   "cell_type": "code",
   "execution_count": 81,
   "id": "3c8919e3-2cf9-46f1-ae45-d06897f24758",
   "metadata": {},
   "outputs": [
    {
     "data": {
      "text/html": [
       "<div>\n",
       "<style scoped>\n",
       "    .dataframe tbody tr th:only-of-type {\n",
       "        vertical-align: middle;\n",
       "    }\n",
       "\n",
       "    .dataframe tbody tr th {\n",
       "        vertical-align: top;\n",
       "    }\n",
       "\n",
       "    .dataframe thead th {\n",
       "        text-align: right;\n",
       "    }\n",
       "</style>\n",
       "<table border=\"1\" class=\"dataframe\">\n",
       "  <thead>\n",
       "    <tr style=\"text-align: right;\">\n",
       "      <th></th>\n",
       "      <th></th>\n",
       "      <th></th>\n",
       "      <th>BASE_SALARY</th>\n",
       "    </tr>\n",
       "    <tr>\n",
       "      <th>RACE</th>\n",
       "      <th>GENDER</th>\n",
       "      <th></th>\n",
       "      <th></th>\n",
       "    </tr>\n",
       "  </thead>\n",
       "  <tbody>\n",
       "    <tr>\n",
       "      <th rowspan=\"6\" valign=\"top\">American Indian or Alaskan Native</th>\n",
       "      <th rowspan=\"3\" valign=\"top\">Female</th>\n",
       "      <th>mean</th>\n",
       "      <td>60238.800000</td>\n",
       "    </tr>\n",
       "    <tr>\n",
       "      <th>min</th>\n",
       "      <td>26125.000000</td>\n",
       "    </tr>\n",
       "    <tr>\n",
       "      <th>max</th>\n",
       "      <td>98536.000000</td>\n",
       "    </tr>\n",
       "    <tr>\n",
       "      <th rowspan=\"3\" valign=\"top\">Male</th>\n",
       "      <th>mean</th>\n",
       "      <td>60305.400000</td>\n",
       "    </tr>\n",
       "    <tr>\n",
       "      <th>min</th>\n",
       "      <td>26125.000000</td>\n",
       "    </tr>\n",
       "    <tr>\n",
       "      <th>max</th>\n",
       "      <td>81239.000000</td>\n",
       "    </tr>\n",
       "    <tr>\n",
       "      <th rowspan=\"6\" valign=\"top\">Asian/Pacific Islander</th>\n",
       "      <th rowspan=\"3\" valign=\"top\">Female</th>\n",
       "      <th>mean</th>\n",
       "      <td>63226.300000</td>\n",
       "    </tr>\n",
       "    <tr>\n",
       "      <th>min</th>\n",
       "      <td>26125.000000</td>\n",
       "    </tr>\n",
       "    <tr>\n",
       "      <th>max</th>\n",
       "      <td>130416.000000</td>\n",
       "    </tr>\n",
       "    <tr>\n",
       "      <th rowspan=\"3\" valign=\"top\">Male</th>\n",
       "      <th>mean</th>\n",
       "      <td>61033.906667</td>\n",
       "    </tr>\n",
       "    <tr>\n",
       "      <th>min</th>\n",
       "      <td>27914.000000</td>\n",
       "    </tr>\n",
       "    <tr>\n",
       "      <th>max</th>\n",
       "      <td>163228.000000</td>\n",
       "    </tr>\n",
       "    <tr>\n",
       "      <th rowspan=\"6\" valign=\"top\">Black or African American</th>\n",
       "      <th rowspan=\"3\" valign=\"top\">Female</th>\n",
       "      <th>mean</th>\n",
       "      <td>48965.790378</td>\n",
       "    </tr>\n",
       "    <tr>\n",
       "      <th>min</th>\n",
       "      <td>24960.000000</td>\n",
       "    </tr>\n",
       "    <tr>\n",
       "      <th>max</th>\n",
       "      <td>150416.000000</td>\n",
       "    </tr>\n",
       "    <tr>\n",
       "      <th rowspan=\"3\" valign=\"top\">Male</th>\n",
       "      <th>mean</th>\n",
       "      <td>51118.867374</td>\n",
       "    </tr>\n",
       "    <tr>\n",
       "      <th>min</th>\n",
       "      <td>26125.000000</td>\n",
       "    </tr>\n",
       "    <tr>\n",
       "      <th>max</th>\n",
       "      <td>275000.000000</td>\n",
       "    </tr>\n",
       "    <tr>\n",
       "      <th rowspan=\"6\" valign=\"top\">Hispanic/Latino</th>\n",
       "      <th rowspan=\"3\" valign=\"top\">Female</th>\n",
       "      <th>mean</th>\n",
       "      <td>46503.316176</td>\n",
       "    </tr>\n",
       "    <tr>\n",
       "      <th>min</th>\n",
       "      <td>26125.000000</td>\n",
       "    </tr>\n",
       "    <tr>\n",
       "      <th>max</th>\n",
       "      <td>126115.000000</td>\n",
       "    </tr>\n",
       "    <tr>\n",
       "      <th rowspan=\"3\" valign=\"top\">Male</th>\n",
       "      <th>mean</th>\n",
       "      <td>54767.541538</td>\n",
       "    </tr>\n",
       "    <tr>\n",
       "      <th>min</th>\n",
       "      <td>26104.000000</td>\n",
       "    </tr>\n",
       "    <tr>\n",
       "      <th>max</th>\n",
       "      <td>165216.000000</td>\n",
       "    </tr>\n",
       "    <tr>\n",
       "      <th rowspan=\"6\" valign=\"top\">Others</th>\n",
       "      <th rowspan=\"3\" valign=\"top\">Female</th>\n",
       "      <th>mean</th>\n",
       "      <td>63785.000000</td>\n",
       "    </tr>\n",
       "    <tr>\n",
       "      <th>min</th>\n",
       "      <td>63785.000000</td>\n",
       "    </tr>\n",
       "    <tr>\n",
       "      <th>max</th>\n",
       "      <td>63785.000000</td>\n",
       "    </tr>\n",
       "    <tr>\n",
       "      <th rowspan=\"3\" valign=\"top\">Male</th>\n",
       "      <th>mean</th>\n",
       "      <td>38771.000000</td>\n",
       "    </tr>\n",
       "    <tr>\n",
       "      <th>min</th>\n",
       "      <td>38771.000000</td>\n",
       "    </tr>\n",
       "    <tr>\n",
       "      <th>max</th>\n",
       "      <td>38771.000000</td>\n",
       "    </tr>\n",
       "    <tr>\n",
       "      <th rowspan=\"6\" valign=\"top\">White</th>\n",
       "      <th rowspan=\"3\" valign=\"top\">Female</th>\n",
       "      <th>mean</th>\n",
       "      <td>66793.352941</td>\n",
       "    </tr>\n",
       "    <tr>\n",
       "      <th>min</th>\n",
       "      <td>27955.000000</td>\n",
       "    </tr>\n",
       "    <tr>\n",
       "      <th>max</th>\n",
       "      <td>178331.000000</td>\n",
       "    </tr>\n",
       "    <tr>\n",
       "      <th rowspan=\"3\" valign=\"top\">Male</th>\n",
       "      <th>mean</th>\n",
       "      <td>63940.388119</td>\n",
       "    </tr>\n",
       "    <tr>\n",
       "      <th>min</th>\n",
       "      <td>26125.000000</td>\n",
       "    </tr>\n",
       "    <tr>\n",
       "      <th>max</th>\n",
       "      <td>210588.000000</td>\n",
       "    </tr>\n",
       "  </tbody>\n",
       "</table>\n",
       "</div>"
      ],
      "text/plain": [
       "                                                 BASE_SALARY\n",
       "RACE                              GENDER                    \n",
       "American Indian or Alaskan Native Female mean   60238.800000\n",
       "                                         min    26125.000000\n",
       "                                         max    98536.000000\n",
       "                                  Male   mean   60305.400000\n",
       "                                         min    26125.000000\n",
       "                                         max    81239.000000\n",
       "Asian/Pacific Islander            Female mean   63226.300000\n",
       "                                         min    26125.000000\n",
       "                                         max   130416.000000\n",
       "                                  Male   mean   61033.906667\n",
       "                                         min    27914.000000\n",
       "                                         max   163228.000000\n",
       "Black or African American         Female mean   48965.790378\n",
       "                                         min    24960.000000\n",
       "                                         max   150416.000000\n",
       "                                  Male   mean   51118.867374\n",
       "                                         min    26125.000000\n",
       "                                         max   275000.000000\n",
       "Hispanic/Latino                   Female mean   46503.316176\n",
       "                                         min    26125.000000\n",
       "                                         max   126115.000000\n",
       "                                  Male   mean   54767.541538\n",
       "                                         min    26104.000000\n",
       "                                         max   165216.000000\n",
       "Others                            Female mean   63785.000000\n",
       "                                         min    63785.000000\n",
       "                                         max    63785.000000\n",
       "                                  Male   mean   38771.000000\n",
       "                                         min    38771.000000\n",
       "                                         max    38771.000000\n",
       "White                             Female mean   66793.352941\n",
       "                                         min    27955.000000\n",
       "                                         max   178331.000000\n",
       "                                  Male   mean   63940.388119\n",
       "                                         min    26125.000000\n",
       "                                         max   210588.000000"
      ]
     },
     "execution_count": 81,
     "metadata": {},
     "output_type": "execute_result"
    }
   ],
   "source": [
    "df2.stack()"
   ]
  },
  {
   "cell_type": "code",
   "execution_count": 55,
   "id": "e31a1a91-3c0c-4ff7-a1b7-8fe59b7a1029",
   "metadata": {},
   "outputs": [],
   "source": [
    "df3 = df2.stack().reset_index().rename(columns={'level_2':'aggtype'})"
   ]
  },
  {
   "cell_type": "code",
   "execution_count": 56,
   "id": "54e928a2-6272-4753-8a6c-25e716461169",
   "metadata": {},
   "outputs": [
    {
     "data": {
      "text/html": [
       "<div>\n",
       "<style scoped>\n",
       "    .dataframe tbody tr th:only-of-type {\n",
       "        vertical-align: middle;\n",
       "    }\n",
       "\n",
       "    .dataframe tbody tr th {\n",
       "        vertical-align: top;\n",
       "    }\n",
       "\n",
       "    .dataframe thead th {\n",
       "        text-align: right;\n",
       "    }\n",
       "</style>\n",
       "<table border=\"1\" class=\"dataframe\">\n",
       "  <thead>\n",
       "    <tr style=\"text-align: right;\">\n",
       "      <th></th>\n",
       "      <th>RACE</th>\n",
       "      <th>GENDER</th>\n",
       "      <th>aggtype</th>\n",
       "      <th>BASE_SALARY</th>\n",
       "    </tr>\n",
       "  </thead>\n",
       "  <tbody>\n",
       "    <tr>\n",
       "      <th>0</th>\n",
       "      <td>American Indian or Alaskan Native</td>\n",
       "      <td>Female</td>\n",
       "      <td>mean</td>\n",
       "      <td>60238.800000</td>\n",
       "    </tr>\n",
       "    <tr>\n",
       "      <th>1</th>\n",
       "      <td>American Indian or Alaskan Native</td>\n",
       "      <td>Female</td>\n",
       "      <td>min</td>\n",
       "      <td>26125.000000</td>\n",
       "    </tr>\n",
       "    <tr>\n",
       "      <th>2</th>\n",
       "      <td>American Indian or Alaskan Native</td>\n",
       "      <td>Female</td>\n",
       "      <td>max</td>\n",
       "      <td>98536.000000</td>\n",
       "    </tr>\n",
       "    <tr>\n",
       "      <th>3</th>\n",
       "      <td>American Indian or Alaskan Native</td>\n",
       "      <td>Male</td>\n",
       "      <td>mean</td>\n",
       "      <td>60305.400000</td>\n",
       "    </tr>\n",
       "    <tr>\n",
       "      <th>4</th>\n",
       "      <td>American Indian or Alaskan Native</td>\n",
       "      <td>Male</td>\n",
       "      <td>min</td>\n",
       "      <td>26125.000000</td>\n",
       "    </tr>\n",
       "    <tr>\n",
       "      <th>5</th>\n",
       "      <td>American Indian or Alaskan Native</td>\n",
       "      <td>Male</td>\n",
       "      <td>max</td>\n",
       "      <td>81239.000000</td>\n",
       "    </tr>\n",
       "    <tr>\n",
       "      <th>6</th>\n",
       "      <td>Asian/Pacific Islander</td>\n",
       "      <td>Female</td>\n",
       "      <td>mean</td>\n",
       "      <td>63226.300000</td>\n",
       "    </tr>\n",
       "    <tr>\n",
       "      <th>7</th>\n",
       "      <td>Asian/Pacific Islander</td>\n",
       "      <td>Female</td>\n",
       "      <td>min</td>\n",
       "      <td>26125.000000</td>\n",
       "    </tr>\n",
       "    <tr>\n",
       "      <th>8</th>\n",
       "      <td>Asian/Pacific Islander</td>\n",
       "      <td>Female</td>\n",
       "      <td>max</td>\n",
       "      <td>130416.000000</td>\n",
       "    </tr>\n",
       "    <tr>\n",
       "      <th>9</th>\n",
       "      <td>Asian/Pacific Islander</td>\n",
       "      <td>Male</td>\n",
       "      <td>mean</td>\n",
       "      <td>61033.906667</td>\n",
       "    </tr>\n",
       "    <tr>\n",
       "      <th>10</th>\n",
       "      <td>Asian/Pacific Islander</td>\n",
       "      <td>Male</td>\n",
       "      <td>min</td>\n",
       "      <td>27914.000000</td>\n",
       "    </tr>\n",
       "    <tr>\n",
       "      <th>11</th>\n",
       "      <td>Asian/Pacific Islander</td>\n",
       "      <td>Male</td>\n",
       "      <td>max</td>\n",
       "      <td>163228.000000</td>\n",
       "    </tr>\n",
       "    <tr>\n",
       "      <th>12</th>\n",
       "      <td>Black or African American</td>\n",
       "      <td>Female</td>\n",
       "      <td>mean</td>\n",
       "      <td>48965.790378</td>\n",
       "    </tr>\n",
       "    <tr>\n",
       "      <th>13</th>\n",
       "      <td>Black or African American</td>\n",
       "      <td>Female</td>\n",
       "      <td>min</td>\n",
       "      <td>24960.000000</td>\n",
       "    </tr>\n",
       "    <tr>\n",
       "      <th>14</th>\n",
       "      <td>Black or African American</td>\n",
       "      <td>Female</td>\n",
       "      <td>max</td>\n",
       "      <td>150416.000000</td>\n",
       "    </tr>\n",
       "    <tr>\n",
       "      <th>15</th>\n",
       "      <td>Black or African American</td>\n",
       "      <td>Male</td>\n",
       "      <td>mean</td>\n",
       "      <td>51118.867374</td>\n",
       "    </tr>\n",
       "    <tr>\n",
       "      <th>16</th>\n",
       "      <td>Black or African American</td>\n",
       "      <td>Male</td>\n",
       "      <td>min</td>\n",
       "      <td>26125.000000</td>\n",
       "    </tr>\n",
       "    <tr>\n",
       "      <th>17</th>\n",
       "      <td>Black or African American</td>\n",
       "      <td>Male</td>\n",
       "      <td>max</td>\n",
       "      <td>275000.000000</td>\n",
       "    </tr>\n",
       "    <tr>\n",
       "      <th>18</th>\n",
       "      <td>Hispanic/Latino</td>\n",
       "      <td>Female</td>\n",
       "      <td>mean</td>\n",
       "      <td>46503.316176</td>\n",
       "    </tr>\n",
       "    <tr>\n",
       "      <th>19</th>\n",
       "      <td>Hispanic/Latino</td>\n",
       "      <td>Female</td>\n",
       "      <td>min</td>\n",
       "      <td>26125.000000</td>\n",
       "    </tr>\n",
       "    <tr>\n",
       "      <th>20</th>\n",
       "      <td>Hispanic/Latino</td>\n",
       "      <td>Female</td>\n",
       "      <td>max</td>\n",
       "      <td>126115.000000</td>\n",
       "    </tr>\n",
       "    <tr>\n",
       "      <th>21</th>\n",
       "      <td>Hispanic/Latino</td>\n",
       "      <td>Male</td>\n",
       "      <td>mean</td>\n",
       "      <td>54767.541538</td>\n",
       "    </tr>\n",
       "    <tr>\n",
       "      <th>22</th>\n",
       "      <td>Hispanic/Latino</td>\n",
       "      <td>Male</td>\n",
       "      <td>min</td>\n",
       "      <td>26104.000000</td>\n",
       "    </tr>\n",
       "    <tr>\n",
       "      <th>23</th>\n",
       "      <td>Hispanic/Latino</td>\n",
       "      <td>Male</td>\n",
       "      <td>max</td>\n",
       "      <td>165216.000000</td>\n",
       "    </tr>\n",
       "    <tr>\n",
       "      <th>24</th>\n",
       "      <td>Others</td>\n",
       "      <td>Female</td>\n",
       "      <td>mean</td>\n",
       "      <td>63785.000000</td>\n",
       "    </tr>\n",
       "    <tr>\n",
       "      <th>25</th>\n",
       "      <td>Others</td>\n",
       "      <td>Female</td>\n",
       "      <td>min</td>\n",
       "      <td>63785.000000</td>\n",
       "    </tr>\n",
       "    <tr>\n",
       "      <th>26</th>\n",
       "      <td>Others</td>\n",
       "      <td>Female</td>\n",
       "      <td>max</td>\n",
       "      <td>63785.000000</td>\n",
       "    </tr>\n",
       "    <tr>\n",
       "      <th>27</th>\n",
       "      <td>Others</td>\n",
       "      <td>Male</td>\n",
       "      <td>mean</td>\n",
       "      <td>38771.000000</td>\n",
       "    </tr>\n",
       "    <tr>\n",
       "      <th>28</th>\n",
       "      <td>Others</td>\n",
       "      <td>Male</td>\n",
       "      <td>min</td>\n",
       "      <td>38771.000000</td>\n",
       "    </tr>\n",
       "    <tr>\n",
       "      <th>29</th>\n",
       "      <td>Others</td>\n",
       "      <td>Male</td>\n",
       "      <td>max</td>\n",
       "      <td>38771.000000</td>\n",
       "    </tr>\n",
       "    <tr>\n",
       "      <th>30</th>\n",
       "      <td>White</td>\n",
       "      <td>Female</td>\n",
       "      <td>mean</td>\n",
       "      <td>66793.352941</td>\n",
       "    </tr>\n",
       "    <tr>\n",
       "      <th>31</th>\n",
       "      <td>White</td>\n",
       "      <td>Female</td>\n",
       "      <td>min</td>\n",
       "      <td>27955.000000</td>\n",
       "    </tr>\n",
       "    <tr>\n",
       "      <th>32</th>\n",
       "      <td>White</td>\n",
       "      <td>Female</td>\n",
       "      <td>max</td>\n",
       "      <td>178331.000000</td>\n",
       "    </tr>\n",
       "    <tr>\n",
       "      <th>33</th>\n",
       "      <td>White</td>\n",
       "      <td>Male</td>\n",
       "      <td>mean</td>\n",
       "      <td>63940.388119</td>\n",
       "    </tr>\n",
       "    <tr>\n",
       "      <th>34</th>\n",
       "      <td>White</td>\n",
       "      <td>Male</td>\n",
       "      <td>min</td>\n",
       "      <td>26125.000000</td>\n",
       "    </tr>\n",
       "    <tr>\n",
       "      <th>35</th>\n",
       "      <td>White</td>\n",
       "      <td>Male</td>\n",
       "      <td>max</td>\n",
       "      <td>210588.000000</td>\n",
       "    </tr>\n",
       "  </tbody>\n",
       "</table>\n",
       "</div>"
      ],
      "text/plain": [
       "                                 RACE  GENDER aggtype    BASE_SALARY\n",
       "0   American Indian or Alaskan Native  Female    mean   60238.800000\n",
       "1   American Indian or Alaskan Native  Female     min   26125.000000\n",
       "2   American Indian or Alaskan Native  Female     max   98536.000000\n",
       "3   American Indian or Alaskan Native    Male    mean   60305.400000\n",
       "4   American Indian or Alaskan Native    Male     min   26125.000000\n",
       "5   American Indian or Alaskan Native    Male     max   81239.000000\n",
       "6              Asian/Pacific Islander  Female    mean   63226.300000\n",
       "7              Asian/Pacific Islander  Female     min   26125.000000\n",
       "8              Asian/Pacific Islander  Female     max  130416.000000\n",
       "9              Asian/Pacific Islander    Male    mean   61033.906667\n",
       "10             Asian/Pacific Islander    Male     min   27914.000000\n",
       "11             Asian/Pacific Islander    Male     max  163228.000000\n",
       "12          Black or African American  Female    mean   48965.790378\n",
       "13          Black or African American  Female     min   24960.000000\n",
       "14          Black or African American  Female     max  150416.000000\n",
       "15          Black or African American    Male    mean   51118.867374\n",
       "16          Black or African American    Male     min   26125.000000\n",
       "17          Black or African American    Male     max  275000.000000\n",
       "18                    Hispanic/Latino  Female    mean   46503.316176\n",
       "19                    Hispanic/Latino  Female     min   26125.000000\n",
       "20                    Hispanic/Latino  Female     max  126115.000000\n",
       "21                    Hispanic/Latino    Male    mean   54767.541538\n",
       "22                    Hispanic/Latino    Male     min   26104.000000\n",
       "23                    Hispanic/Latino    Male     max  165216.000000\n",
       "24                             Others  Female    mean   63785.000000\n",
       "25                             Others  Female     min   63785.000000\n",
       "26                             Others  Female     max   63785.000000\n",
       "27                             Others    Male    mean   38771.000000\n",
       "28                             Others    Male     min   38771.000000\n",
       "29                             Others    Male     max   38771.000000\n",
       "30                              White  Female    mean   66793.352941\n",
       "31                              White  Female     min   27955.000000\n",
       "32                              White  Female     max  178331.000000\n",
       "33                              White    Male    mean   63940.388119\n",
       "34                              White    Male     min   26125.000000\n",
       "35                              White    Male     max  210588.000000"
      ]
     },
     "execution_count": 56,
     "metadata": {},
     "output_type": "execute_result"
    }
   ],
   "source": [
    "df3"
   ]
  },
  {
   "cell_type": "code",
   "execution_count": 84,
   "id": "7560f61a-641d-4445-b989-74ade9056b00",
   "metadata": {},
   "outputs": [
    {
     "data": {
      "image/png": "[encoded data removed]",
      "text/plain": [
       "<Figure size 640x480 with 6 Axes>"
      ]
     },
     "metadata": {},
     "output_type": "display_data"
    },
    {
     "data": {
      "text/plain": [
       "<ggplot: (135580437071)>"
      ]
     },
     "execution_count": 84,
     "metadata": {},
     "output_type": "execute_result"
    }
   ],
   "source": [
    "ggplot(data = df3) + geom_bar(aes(x = 'aggtype', y = 'BASE_SALARY', fill = 'GENDER'), stat = 'identity', position = 'dodge')\\\n",
    "+ coord_flip() + facet_wrap(facets = 'RACE')"
   ]
  },
  {
   "cell_type": "code",
   "execution_count": null,
   "id": "d46a96ee-e5a2-4501-ac21-bc25a9d675e1",
   "metadata": {},
   "outputs": [],
   "source": []
  }
 ],
 "metadata": {
  "kernelspec": {
   "display_name": "Python 3 (ipykernel)",
   "language": "python",
   "name": "python3"
  },
  "language_info": {
   "codemirror_mode": {
    "name": "ipython",
    "version": 3
   },
   "file_extension": ".py",
   "mimetype": "text/x-python",
   "name": "python",
   "nbconvert_exporter": "python",
   "pygments_lexer": "ipython3",
   "version": "3.8.11"
  }
 },
 "nbformat": 4,
 "nbformat_minor": 5
}
