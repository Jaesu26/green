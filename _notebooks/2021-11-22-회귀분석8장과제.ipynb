{
 "cells": [
  {
   "cell_type": "markdown",
   "id": "2274e4f7-e5d5-4032-85b0-2b9e51f9a1ad",
   "metadata": {},
   "source": [
    "# 회귀분석 8장 과제\n",
    "\n",
    "> \"작성 완료\"\n",
    "\n",
    "- toc: true\n",
    "- branch: master\n",
    "- badges: true\n",
    "- comments: true\n",
    "- author: 한재수\n",
    "- categories: [R, statistics]"
   ]
  },
  {
   "cell_type": "markdown",
   "id": "c0ecda20-4f0f-4120-9b98-dc239bfa49f8",
   "metadata": {},
   "source": [
    "## 8.1"
   ]
  },
  {
   "cell_type": "code",
   "execution_count": 29,
   "id": "69c22cf3-d23c-4da0-b862-b1536c8d247d",
   "metadata": {},
   "outputs": [],
   "source": [
    "# 8.1\n",
    "x1 <- c(175, 210, 192, 250, 245, 226, 260, 230, 205, 185)\n",
    "x2 <- c(15, 18, 20, 28, 25, 21, 32, 25, 24, 19)\n",
    "y <- c(120.4, 112.5, 95.4, 162.3, 160.2, 131.5, 157.6, 158.4, 149.6, 130.4)\n",
    "X <- t(rbind(rep(1, length(x1)), x1, x2))\n",
    "m0 <- lm(y~1)"
   ]
  },
  {
   "cell_type": "code",
   "execution_count": 31,
   "id": "b6486fa1-73c0-4a10-bf29-19dd31ba362e",
   "metadata": {},
   "outputs": [
    {
     "data": {
      "text/plain": [
       "\n",
       "Call:\n",
       "lm(formula = y ~ x1 + x2)\n",
       "\n",
       "Residuals:\n",
       "    Min      1Q  Median      3Q     Max \n",
       "-30.261  -9.727   6.541  10.963  12.206 \n",
       "\n",
       "Coefficients:\n",
       "            Estimate Std. Error t value Pr(>|t|)\n",
       "(Intercept)  35.3359    48.5371   0.728    0.490\n",
       "x1            0.2048     0.4085   0.501    0.632\n",
       "x2            2.5506     2.3334   1.093    0.311\n",
       "\n",
       "Residual standard error: 16.18 on 7 degrees of freedom\n",
       "Multiple R-squared:  0.6255,\tAdjusted R-squared:  0.5185 \n",
       "F-statistic: 5.845 on 2 and 7 DF,  p-value: 0.03215\n"
      ]
     },
     "metadata": {},
     "output_type": "display_data"
    }
   ],
   "source": [
    "# 1)\n",
    "m1 <- lm(y~x1+x2)\n",
    "summary(m1)"
   ]
  },
  {
   "cell_type": "markdown",
   "id": "40583139-4c4b-4d1d-9999-abb0f86655f5",
   "metadata": {},
   "source": [
    "`-` $\\hat{y}=33.3359 + 0.2048x_1 + 2.5506x_2$"
   ]
  },
  {
   "cell_type": "code",
   "execution_count": 32,
   "id": "858f601c-6e82-4009-a551-340b0294d0e2",
   "metadata": {},
   "outputs": [
    {
     "data": {
      "text/html": [
       "8.99974754425673"
      ],
      "text/latex": [
       "8.99974754425673"
      ],
      "text/markdown": [
       "8.99974754425673"
      ],
      "text/plain": [
       "[1] 8.999748"
      ]
     },
     "metadata": {},
     "output_type": "display_data"
    },
    {
     "data": {
      "text/html": [
       "0.000637594973081464"
      ],
      "text/latex": [
       "0.000637594973081464"
      ],
      "text/markdown": [
       "0.000637594973081464"
      ],
      "text/plain": [
       "[1] 0.000637595"
      ]
     },
     "metadata": {},
     "output_type": "display_data"
    },
    {
     "data": {
      "text/html": [
       "0.0207997160628333"
      ],
      "text/latex": [
       "0.0207997160628333"
      ],
      "text/markdown": [
       "0.0207997160628333"
      ],
      "text/plain": [
       "[1] 0.02079972"
      ]
     },
     "metadata": {},
     "output_type": "display_data"
    }
   ],
   "source": [
    "# 2)\n",
    "Var_b = solve(t(X)%*%X)\n",
    "Var_b0 = Var_b[1,1]; Var_b0\n",
    "Var_b1 = Var_b[2,2]; Var_b1\n",
    "Var_b2 = Var_b[3,3]; Var_b2"
   ]
  },
  {
   "cell_type": "markdown",
   "id": "5cb8e98a-2529-4989-8b52-9ce9b41173fa",
   "metadata": {},
   "source": [
    "$Var(b_0) = 8.99974754425673\\sigma^2\\\\\n",
    "Var(b_1)=0.000637594973081464\\sigma^2\\\\\n",
    "Var(b_2)=0.0207997160628333\\sigma^2$"
   ]
  },
  {
   "cell_type": "markdown",
   "id": "1ebc0cc6-18d1-4488-aa13-ae63f15dabb8",
   "metadata": {},
   "source": [
    "`3)`\n",
    "\n",
    "`-` b1 : 시간을 고정시킨 상태에서 온도가 1도 상승했을때 인장강도의 변화\n",
    "\n",
    "`-` b2 : 공정온도를 고정시킨 상태에서 시간이 1분 더 지났을때 인장강도의 변화"
   ]
  },
  {
   "cell_type": "code",
   "execution_count": 34,
   "id": "54b06a19-5f30-4a1a-af5d-d504252424bd",
   "metadata": {},
   "outputs": [
    {
     "data": {
      "text/html": [
       "<table class=\"dataframe\">\n",
       "<caption>A matrix: 3 × 2 of type dbl</caption>\n",
       "<thead>\n",
       "\t<tr><th></th><th scope=col>2.5 %</th><th scope=col>97.5 %</th></tr>\n",
       "</thead>\n",
       "<tbody>\n",
       "\t<tr><th scope=row>(Intercept)</th><td>-79.4362406</td><td>150.107949</td></tr>\n",
       "\t<tr><th scope=row>x1</th><td> -0.7612855</td><td>  1.170788</td></tr>\n",
       "\t<tr><th scope=row>x2</th><td> -2.9669628</td><td>  8.068228</td></tr>\n",
       "</tbody>\n",
       "</table>\n"
      ],
      "text/latex": [
       "A matrix: 3 × 2 of type dbl\n",
       "\\begin{tabular}{r|ll}\n",
       "  & 2.5 \\% & 97.5 \\%\\\\\n",
       "\\hline\n",
       "\t(Intercept) & -79.4362406 & 150.107949\\\\\n",
       "\tx1 &  -0.7612855 &   1.170788\\\\\n",
       "\tx2 &  -2.9669628 &   8.068228\\\\\n",
       "\\end{tabular}\n"
      ],
      "text/markdown": [
       "\n",
       "A matrix: 3 × 2 of type dbl\n",
       "\n",
       "| <!--/--> | 2.5 % | 97.5 % |\n",
       "|---|---|---|\n",
       "| (Intercept) | -79.4362406 | 150.107949 |\n",
       "| x1 |  -0.7612855 |   1.170788 |\n",
       "| x2 |  -2.9669628 |   8.068228 |\n",
       "\n"
      ],
      "text/plain": [
       "            2.5 %       97.5 %    \n",
       "(Intercept) -79.4362406 150.107949\n",
       "x1           -0.7612855   1.170788\n",
       "x2           -2.9669628   8.068228"
      ]
     },
     "metadata": {},
     "output_type": "display_data"
    }
   ],
   "source": [
    "# 4)\n",
    "confint(m1, level = 0.95)"
   ]
  },
  {
   "cell_type": "markdown",
   "id": "ad89495a-b7c3-4c6f-a70b-c703ba298a6e",
   "metadata": {},
   "source": [
    "`-` $b_1$의 95% 신뢰구간은 (-0.7612855, 1.170788)\n",
    "\n",
    "`-` $b_2$의 95% 신뢰구간은 (-2.9669628, 8.068228)"
   ]
  },
  {
   "cell_type": "code",
   "execution_count": 38,
   "id": "4a910537-c7fe-4f1c-929f-2d44751b522c",
   "metadata": {},
   "outputs": [
    {
     "data": {
      "text/html": [
       "<table class=\"dataframe\">\n",
       "<caption>A anova: 2 × 6</caption>\n",
       "<thead>\n",
       "\t<tr><th></th><th scope=col>Res.Df</th><th scope=col>RSS</th><th scope=col>Df</th><th scope=col>Sum of Sq</th><th scope=col>F</th><th scope=col>Pr(&gt;F)</th></tr>\n",
       "\t<tr><th></th><th scope=col>&lt;dbl&gt;</th><th scope=col>&lt;dbl&gt;</th><th scope=col>&lt;dbl&gt;</th><th scope=col>&lt;dbl&gt;</th><th scope=col>&lt;dbl&gt;</th><th scope=col>&lt;dbl&gt;</th></tr>\n",
       "</thead>\n",
       "<tbody>\n",
       "\t<tr><th scope=row>1</th><td>9</td><td>4892.701</td><td>NA</td><td>      NA</td><td>     NA</td><td>        NA</td></tr>\n",
       "\t<tr><th scope=row>2</th><td>7</td><td>1832.382</td><td> 2</td><td>3060.319</td><td>5.84546</td><td>0.03214666</td></tr>\n",
       "</tbody>\n",
       "</table>\n"
      ],
      "text/latex": [
       "A anova: 2 × 6\n",
       "\\begin{tabular}{r|llllll}\n",
       "  & Res.Df & RSS & Df & Sum of Sq & F & Pr(>F)\\\\\n",
       "  & <dbl> & <dbl> & <dbl> & <dbl> & <dbl> & <dbl>\\\\\n",
       "\\hline\n",
       "\t1 & 9 & 4892.701 & NA &       NA &      NA &         NA\\\\\n",
       "\t2 & 7 & 1832.382 &  2 & 3060.319 & 5.84546 & 0.03214666\\\\\n",
       "\\end{tabular}\n"
      ],
      "text/markdown": [
       "\n",
       "A anova: 2 × 6\n",
       "\n",
       "| <!--/--> | Res.Df &lt;dbl&gt; | RSS &lt;dbl&gt; | Df &lt;dbl&gt; | Sum of Sq &lt;dbl&gt; | F &lt;dbl&gt; | Pr(&gt;F) &lt;dbl&gt; |\n",
       "|---|---|---|---|---|---|---|\n",
       "| 1 | 9 | 4892.701 | NA |       NA |      NA |         NA |\n",
       "| 2 | 7 | 1832.382 |  2 | 3060.319 | 5.84546 | 0.03214666 |\n",
       "\n"
      ],
      "text/plain": [
       "  Res.Df RSS      Df Sum of Sq F       Pr(>F)    \n",
       "1 9      4892.701 NA       NA       NA         NA\n",
       "2 7      1832.382  2 3060.319  5.84546 0.03214666"
      ]
     },
     "metadata": {},
     "output_type": "display_data"
    }
   ],
   "source": [
    "# 5)\n",
    "anova(m0, m1)"
   ]
  },
  {
   "cell_type": "markdown",
   "id": "5c15964e-e2e7-408d-8d57-d628fb2b4ee4",
   "metadata": {},
   "source": [
    "`-` p-value가 0.05보다 작으므로 영가설을 기각한다, 회귀모형은 유의하다"
   ]
  },
  {
   "cell_type": "code",
   "execution_count": 39,
   "id": "223fd970-213d-43c6-9713-114122c90e58",
   "metadata": {},
   "outputs": [
    {
     "data": {
      "text/html": [
       "<table class=\"dataframe\">\n",
       "<caption>A matrix: 1 × 3 of type dbl</caption>\n",
       "<thead>\n",
       "\t<tr><th></th><th scope=col>fit</th><th scope=col>lwr</th><th scope=col>upr</th></tr>\n",
       "</thead>\n",
       "<tbody>\n",
       "\t<tr><th scope=row>1</th><td>127.2987</td><td>112.8839</td><td>141.7135</td></tr>\n",
       "</tbody>\n",
       "</table>\n"
      ],
      "text/latex": [
       "A matrix: 1 × 3 of type dbl\n",
       "\\begin{tabular}{r|lll}\n",
       "  & fit & lwr & upr\\\\\n",
       "\\hline\n",
       "\t1 & 127.2987 & 112.8839 & 141.7135\\\\\n",
       "\\end{tabular}\n"
      ],
      "text/markdown": [
       "\n",
       "A matrix: 1 × 3 of type dbl\n",
       "\n",
       "| <!--/--> | fit | lwr | upr |\n",
       "|---|---|---|---|\n",
       "| 1 | 127.2987 | 112.8839 | 141.7135 |\n",
       "\n"
      ],
      "text/plain": [
       "  fit      lwr      upr     \n",
       "1 127.2987 112.8839 141.7135"
      ]
     },
     "metadata": {},
     "output_type": "display_data"
    }
   ],
   "source": [
    "#6)\n",
    "predict(m1, data.frame(x1 = 200, x2 = 20), level = 0.95, interval = 'confidence')"
   ]
  },
  {
   "cell_type": "markdown",
   "id": "e7b459a4-5fae-4577-b81d-66579483a27b",
   "metadata": {},
   "source": [
    "`-` $x_1=200,\\;x_2=20\\text{에서 }E(y)$의 95% 신뢰구간은 (112.8839, 141.7135)이다"
   ]
  },
  {
   "cell_type": "code",
   "execution_count": 50,
   "id": "b8a46d76-bbef-4ad3-b66c-d7645916db3d",
   "metadata": {},
   "outputs": [
    {
     "data": {
      "text/html": [
       "<table class=\"dataframe\">\n",
       "<caption>A matrix: 1 × 1 of type dbl</caption>\n",
       "<tbody>\n",
       "\t<tr><td>0.867669</td></tr>\n",
       "</tbody>\n",
       "</table>\n"
      ],
      "text/latex": [
       "A matrix: 1 × 1 of type dbl\n",
       "\\begin{tabular}{l}\n",
       "\t 0.867669\\\\\n",
       "\\end{tabular}\n"
      ],
      "text/markdown": [
       "\n",
       "A matrix: 1 × 1 of type dbl\n",
       "\n",
       "| 0.867669 |\n",
       "\n"
      ],
      "text/plain": [
       "     [,1]    \n",
       "[1,] 0.867669"
      ]
     },
     "metadata": {},
     "output_type": "display_data"
    },
    {
     "data": {
      "text/html": [
       "2.36462425159278"
      ],
      "text/latex": [
       "2.36462425159278"
      ],
      "text/markdown": [
       "2.36462425159278"
      ],
      "text/plain": [
       "[1] 2.364624"
      ]
     },
     "metadata": {},
     "output_type": "display_data"
    }
   ],
   "source": [
    "#7)\n",
    "q = cbind(c(0, 1, -1))\n",
    "b = cbind(c(33.3359, 0.2048, 2.5506))\n",
    "t = (t(q) %*% b) / sqrt(t(q) %*% solve(t(X) %*% X) %*% q * mse)\n",
    "abs(t) \n",
    "qt(0.975, 7) "
   ]
  },
  {
   "cell_type": "markdown",
   "id": "c7c9d332-7e25-46c9-8155-87673a8d69a4",
   "metadata": {},
   "source": [
    "`-` 검정통계량 t값이 2.36보다 작으므로 영가설을 기각하지 못한다\n",
    "\n",
    "`-` $\\beta_1, \\beta_2$는 같지 않다고 할 수 없다"
   ]
  },
  {
   "cell_type": "code",
   "execution_count": 51,
   "id": "104dbc6f-33ef-4bbe-8ed1-13a4f7ed4b23",
   "metadata": {},
   "outputs": [
    {
     "data": {
      "text/html": [
       "<table class=\"dataframe\">\n",
       "<caption>A matrix: 1 × 3 of type dbl</caption>\n",
       "<thead>\n",
       "\t<tr><th></th><th scope=col>fit</th><th scope=col>lwr</th><th scope=col>upr</th></tr>\n",
       "</thead>\n",
       "<tbody>\n",
       "\t<tr><th scope=row>1</th><td>160.9951</td><td>114.5839</td><td>207.4063</td></tr>\n",
       "</tbody>\n",
       "</table>\n"
      ],
      "text/latex": [
       "A matrix: 1 × 3 of type dbl\n",
       "\\begin{tabular}{r|lll}\n",
       "  & fit & lwr & upr\\\\\n",
       "\\hline\n",
       "\t1 & 160.9951 & 114.5839 & 207.4063\\\\\n",
       "\\end{tabular}\n"
      ],
      "text/markdown": [
       "\n",
       "A matrix: 1 × 3 of type dbl\n",
       "\n",
       "| <!--/--> | fit | lwr | upr |\n",
       "|---|---|---|---|\n",
       "| 1 | 160.9951 | 114.5839 | 207.4063 |\n",
       "\n"
      ],
      "text/plain": [
       "  fit      lwr      upr     \n",
       "1 160.9951 114.5839 207.4063"
      ]
     },
     "metadata": {},
     "output_type": "display_data"
    }
   ],
   "source": [
    "#8)\n",
    "predict(m1, data.frame(x1 = 240, x2 = 30), level = 0.95, interval = 'predict')"
   ]
  },
  {
   "cell_type": "markdown",
   "id": "801bc971-bf0e-4555-ae49-3f2f913974f2",
   "metadata": {},
   "source": [
    "$x_1=240,\\;x_2=30\\text{에서 }y$의 95% 예측구간은 (114.5839, 207.4063)이다"
   ]
  },
  {
   "cell_type": "markdown",
   "id": "38d19078-02f3-4e9e-a900-c5745d917e79",
   "metadata": {},
   "source": [
    "## 8.10"
   ]
  },
  {
   "cell_type": "code",
   "execution_count": 52,
   "id": "5bb98937-3f53-40bd-91f5-94181afa0d77",
   "metadata": {},
   "outputs": [],
   "source": [
    "# 8.10\n",
    "\n",
    "x1 <- c(2, 2, 3, 3, 2, 2, 3, 3)\n",
    "x2 <- c(4, 4, 4, 4, 6, 6, 6, 6)\n",
    "y <- c(39, 42, 51, 48, 53, 49, 61, 60)\n",
    "X <- t(rbind(rep(1, length(x1)), x1, x2))\n",
    "m0 <- lm(y~1)"
   ]
  },
  {
   "cell_type": "code",
   "execution_count": 53,
   "id": "3164feff-8f7b-401c-a800-e54b66c7abf1",
   "metadata": {},
   "outputs": [
    {
     "data": {
      "text/plain": [
       "\n",
       "Call:\n",
       "lm(formula = y ~ x1 + x2)\n",
       "\n",
       "Residuals:\n",
       "     1      2      3      4      5      6      7      8 \n",
       "-1.375  1.625  1.375 -1.625  1.875 -2.125  0.625 -0.375 \n",
       "\n",
       "Coefficients:\n",
       "            Estimate Std. Error t value Pr(>|t|)    \n",
       "(Intercept)   0.3750     4.7405   0.079 0.940016    \n",
       "x1            9.2500     1.3276   6.968 0.000937 ***\n",
       "x2            5.3750     0.6638   8.097 0.000466 ***\n",
       "---\n",
       "Signif. codes:  0 '***' 0.001 '**' 0.01 '*' 0.05 '.' 0.1 ' ' 1\n",
       "\n",
       "Residual standard error: 1.877 on 5 degrees of freedom\n",
       "Multiple R-squared:  0.958,\tAdjusted R-squared:  0.9412 \n",
       "F-statistic: 57.06 on 2 and 5 DF,  p-value: 0.000361\n"
      ]
     },
     "metadata": {},
     "output_type": "display_data"
    }
   ],
   "source": [
    "# 1)\n",
    "m1 <- lm(y~x1+x2); summary(m1)"
   ]
  },
  {
   "cell_type": "markdown",
   "id": "5dc99f47-a1b5-4a70-9178-86a5a07954ff",
   "metadata": {},
   "source": [
    "`-` $\\hat{y}=0.375 + 0.925x_1 + 5.375x_2$"
   ]
  },
  {
   "cell_type": "code",
   "execution_count": 55,
   "id": "3d6b6c29-6a5d-4361-932d-0d4e7a32e8fb",
   "metadata": {},
   "outputs": [
    {
     "data": {
      "text/plain": [
       "\n",
       "Call:\n",
       "lm(formula = y ~ x1)\n",
       "\n",
       "Residuals:\n",
       "   Min     1Q Median     3Q    Max \n",
       "-7.000 -4.688 -0.250  5.250  7.250 \n",
       "\n",
       "Coefficients:\n",
       "            Estimate Std. Error t value Pr(>|t|)  \n",
       "(Intercept)   27.250     11.608   2.348   0.0572 .\n",
       "x1             9.250      4.553   2.032   0.0885 .\n",
       "---\n",
       "Signif. codes:  0 '***' 0.001 '**' 0.01 '*' 0.05 '.' 0.1 ' ' 1\n",
       "\n",
       "Residual standard error: 6.439 on 6 degrees of freedom\n",
       "Multiple R-squared:  0.4076,\tAdjusted R-squared:  0.3088 \n",
       "F-statistic: 4.128 on 1 and 6 DF,  p-value: 0.08846\n"
      ]
     },
     "metadata": {},
     "output_type": "display_data"
    }
   ],
   "source": [
    "# 2)\n",
    "m2 <- lm(y~x1); summary(m2)"
   ]
  },
  {
   "cell_type": "markdown",
   "id": "3945e369-0b8a-4111-b8b4-189d1007779f",
   "metadata": {},
   "source": [
    "`-` $\\hat{y}=27.25 + 9.25x_1$"
   ]
  },
  {
   "cell_type": "code",
   "execution_count": 56,
   "id": "ed3cfa40-f748-484f-af3a-ca25cac5b88c",
   "metadata": {},
   "outputs": [
    {
     "data": {
      "text/html": [
       "<table class=\"dataframe\">\n",
       "<caption>A anova: 2 × 5</caption>\n",
       "<thead>\n",
       "\t<tr><th></th><th scope=col>Df</th><th scope=col>Sum Sq</th><th scope=col>Mean Sq</th><th scope=col>F value</th><th scope=col>Pr(&gt;F)</th></tr>\n",
       "\t<tr><th></th><th scope=col>&lt;int&gt;</th><th scope=col>&lt;dbl&gt;</th><th scope=col>&lt;dbl&gt;</th><th scope=col>&lt;dbl&gt;</th><th scope=col>&lt;dbl&gt;</th></tr>\n",
       "</thead>\n",
       "<tbody>\n",
       "\t<tr><th scope=row>x1</th><td>1</td><td>171.125</td><td>171.12500</td><td>4.127638</td><td>0.08846031</td></tr>\n",
       "\t<tr><th scope=row>Residuals</th><td>6</td><td>248.750</td><td> 41.45833</td><td>      NA</td><td>        NA</td></tr>\n",
       "</tbody>\n",
       "</table>\n"
      ],
      "text/latex": [
       "A anova: 2 × 5\n",
       "\\begin{tabular}{r|lllll}\n",
       "  & Df & Sum Sq & Mean Sq & F value & Pr(>F)\\\\\n",
       "  & <int> & <dbl> & <dbl> & <dbl> & <dbl>\\\\\n",
       "\\hline\n",
       "\tx1 & 1 & 171.125 & 171.12500 & 4.127638 & 0.08846031\\\\\n",
       "\tResiduals & 6 & 248.750 &  41.45833 &       NA &         NA\\\\\n",
       "\\end{tabular}\n"
      ],
      "text/markdown": [
       "\n",
       "A anova: 2 × 5\n",
       "\n",
       "| <!--/--> | Df &lt;int&gt; | Sum Sq &lt;dbl&gt; | Mean Sq &lt;dbl&gt; | F value &lt;dbl&gt; | Pr(&gt;F) &lt;dbl&gt; |\n",
       "|---|---|---|---|---|---|\n",
       "| x1 | 1 | 171.125 | 171.12500 | 4.127638 | 0.08846031 |\n",
       "| Residuals | 6 | 248.750 |  41.45833 |       NA |         NA |\n",
       "\n"
      ],
      "text/plain": [
       "          Df Sum Sq  Mean Sq   F value  Pr(>F)    \n",
       "x1        1  171.125 171.12500 4.127638 0.08846031\n",
       "Residuals 6  248.750  41.45833       NA         NA"
      ]
     },
     "metadata": {},
     "output_type": "display_data"
    }
   ],
   "source": [
    "anova(m2)"
   ]
  },
  {
   "cell_type": "markdown",
   "id": "9e888fb7-751b-4efe-a194-055737e81a3a",
   "metadata": {},
   "source": [
    "`-` p-value가 0.05보다 크다 \n",
    "\n",
    "`-` $x_1$은 회귀모형에서 유의하지 않은 변수이다"
   ]
  },
  {
   "cell_type": "code",
   "execution_count": 58,
   "id": "f9fa9368-ae5c-4df1-b1c2-2bce59fcba7a",
   "metadata": {},
   "outputs": [
    {
     "data": {
      "text/plain": [
       "\n",
       "Call:\n",
       "lm(formula = y ~ x2)\n",
       "\n",
       "Residuals:\n",
       "   Min     1Q Median     3Q    Max \n",
       "-6.750 -3.750  0.125  4.500  6.000 \n",
       "\n",
       "Coefficients:\n",
       "            Estimate Std. Error t value Pr(>|t|)  \n",
       "(Intercept)   23.500     10.111   2.324   0.0591 .\n",
       "x2             5.375      1.983   2.711   0.0351 *\n",
       "---\n",
       "Signif. codes:  0 '***' 0.001 '**' 0.01 '*' 0.05 '.' 0.1 ' ' 1\n",
       "\n",
       "Residual standard error: 5.609 on 6 degrees of freedom\n",
       "Multiple R-squared:  0.5505,\tAdjusted R-squared:  0.4755 \n",
       "F-statistic: 7.347 on 1 and 6 DF,  p-value: 0.03508\n"
      ]
     },
     "metadata": {},
     "output_type": "display_data"
    }
   ],
   "source": [
    "# 3)\n",
    "m3 <- lm(y~x2); summary(m3)"
   ]
  },
  {
   "cell_type": "markdown",
   "id": "a4e0068a-7acf-4028-9268-413e9c940f86",
   "metadata": {},
   "source": [
    "`-` $\\hat{y}=23.5 + 5.375x_2$"
   ]
  },
  {
   "cell_type": "code",
   "execution_count": 59,
   "id": "b78b837b-bad7-49a4-bf32-5215e79fdb24",
   "metadata": {},
   "outputs": [
    {
     "data": {
      "text/html": [
       "<table class=\"dataframe\">\n",
       "<caption>A anova: 2 × 5</caption>\n",
       "<thead>\n",
       "\t<tr><th></th><th scope=col>Df</th><th scope=col>Sum Sq</th><th scope=col>Mean Sq</th><th scope=col>F value</th><th scope=col>Pr(&gt;F)</th></tr>\n",
       "\t<tr><th></th><th scope=col>&lt;int&gt;</th><th scope=col>&lt;dbl&gt;</th><th scope=col>&lt;dbl&gt;</th><th scope=col>&lt;dbl&gt;</th><th scope=col>&lt;dbl&gt;</th></tr>\n",
       "</thead>\n",
       "<tbody>\n",
       "\t<tr><th scope=row>x2</th><td>1</td><td>231.125</td><td>231.12500</td><td>7.34702</td><td>0.03508095</td></tr>\n",
       "\t<tr><th scope=row>Residuals</th><td>6</td><td>188.750</td><td> 31.45833</td><td>     NA</td><td>        NA</td></tr>\n",
       "</tbody>\n",
       "</table>\n"
      ],
      "text/latex": [
       "A anova: 2 × 5\n",
       "\\begin{tabular}{r|lllll}\n",
       "  & Df & Sum Sq & Mean Sq & F value & Pr(>F)\\\\\n",
       "  & <int> & <dbl> & <dbl> & <dbl> & <dbl>\\\\\n",
       "\\hline\n",
       "\tx2 & 1 & 231.125 & 231.12500 & 7.34702 & 0.03508095\\\\\n",
       "\tResiduals & 6 & 188.750 &  31.45833 &      NA &         NA\\\\\n",
       "\\end{tabular}\n"
      ],
      "text/markdown": [
       "\n",
       "A anova: 2 × 5\n",
       "\n",
       "| <!--/--> | Df &lt;int&gt; | Sum Sq &lt;dbl&gt; | Mean Sq &lt;dbl&gt; | F value &lt;dbl&gt; | Pr(&gt;F) &lt;dbl&gt; |\n",
       "|---|---|---|---|---|---|\n",
       "| x2 | 1 | 231.125 | 231.12500 | 7.34702 | 0.03508095 |\n",
       "| Residuals | 6 | 188.750 |  31.45833 |      NA |         NA |\n",
       "\n"
      ],
      "text/plain": [
       "          Df Sum Sq  Mean Sq   F value Pr(>F)    \n",
       "x2        1  231.125 231.12500 7.34702 0.03508095\n",
       "Residuals 6  188.750  31.45833      NA         NA"
      ]
     },
     "metadata": {},
     "output_type": "display_data"
    }
   ],
   "source": [
    "anova(m3)"
   ]
  },
  {
   "cell_type": "markdown",
   "id": "36863fb7-996e-456c-9a74-5a5f241c66ee",
   "metadata": {},
   "source": [
    "`-` p-value가 0.05보다 작다 \n",
    "\n",
    "`-` $x_2$은 회귀모형에서 유의한 변수이다"
   ]
  },
  {
   "cell_type": "code",
   "execution_count": 62,
   "id": "576f42d6-4c91-4cc0-b7c9-f0b3270b12a1",
   "metadata": {},
   "outputs": [
    {
     "data": {
      "text/plain": [
       "\n",
       "Call:\n",
       "lm(formula = scale(y) ~ scale(x1) + scale(x2))\n",
       "\n",
       "Residuals:\n",
       "       1        2        3        4        5        6        7        8 \n",
       "-0.17754  0.20982  0.17754 -0.20982  0.24210 -0.27438  0.08070 -0.04842 \n",
       "attr(,\"scaled:center\")\n",
       "[1] 50.38\n",
       "attr(,\"scaled:scale\")\n",
       "[1] 7.745\n",
       "\n",
       "Coefficients:\n",
       "             Estimate Std. Error t value Pr(>|t|)    \n",
       "(Intercept) 9.329e-17  8.571e-02   0.000 1.000000    \n",
       "scale(x1)   6.384e-01  9.163e-02   6.968 0.000937 ***\n",
       "scale(x2)   7.419e-01  9.163e-02   8.097 0.000466 ***\n",
       "---\n",
       "Signif. codes:  0 '***' 0.001 '**' 0.01 '*' 0.05 '.' 0.1 ' ' 1\n",
       "\n",
       "Residual standard error: 0.2424 on 5 degrees of freedom\n",
       "Multiple R-squared:  0.958,\tAdjusted R-squared:  0.9412 \n",
       "F-statistic: 57.06 on 2 and 5 DF,  p-value: 0.000361\n"
      ]
     },
     "metadata": {},
     "output_type": "display_data"
    }
   ],
   "source": [
    "# 4)\n",
    "m_beta <- lm(scale(y)~scale(x1)+scale(x2)); summary(m_beta) # 표준화된 회귀모형"
   ]
  },
  {
   "cell_type": "markdown",
   "id": "a6365628-86ad-4e3c-9255-01b6d0ea321a",
   "metadata": {},
   "source": [
    "`-` $\\hat{y}=0.6384w_1 + 0.7419w_2$"
   ]
  },
  {
   "cell_type": "code",
   "execution_count": 64,
   "id": "f290a73b-7e41-48e3-a370-772cf84fa96f",
   "metadata": {},
   "outputs": [
    {
     "data": {
      "text/html": [
       "<table class=\"dataframe\">\n",
       "<caption>A anova: 3 × 5</caption>\n",
       "<thead>\n",
       "\t<tr><th></th><th scope=col>Df</th><th scope=col>Sum Sq</th><th scope=col>Mean Sq</th><th scope=col>F value</th><th scope=col>Pr(&gt;F)</th></tr>\n",
       "\t<tr><th></th><th scope=col>&lt;int&gt;</th><th scope=col>&lt;dbl&gt;</th><th scope=col>&lt;dbl&gt;</th><th scope=col>&lt;dbl&gt;</th><th scope=col>&lt;dbl&gt;</th></tr>\n",
       "</thead>\n",
       "<tbody>\n",
       "\t<tr><th scope=row>scale(x1)</th><td>1</td><td>2.8529324</td><td>2.85293242</td><td>48.54610</td><td>0.0009365829</td></tr>\n",
       "\t<tr><th scope=row>scale(x2)</th><td>1</td><td>3.8532301</td><td>3.85323013</td><td>65.56738</td><td>0.0004657066</td></tr>\n",
       "\t<tr><th scope=row>Residuals</th><td>5</td><td>0.2938375</td><td>0.05876749</td><td>      NA</td><td>          NA</td></tr>\n",
       "</tbody>\n",
       "</table>\n"
      ],
      "text/latex": [
       "A anova: 3 × 5\n",
       "\\begin{tabular}{r|lllll}\n",
       "  & Df & Sum Sq & Mean Sq & F value & Pr(>F)\\\\\n",
       "  & <int> & <dbl> & <dbl> & <dbl> & <dbl>\\\\\n",
       "\\hline\n",
       "\tscale(x1) & 1 & 2.8529324 & 2.85293242 & 48.54610 & 0.0009365829\\\\\n",
       "\tscale(x2) & 1 & 3.8532301 & 3.85323013 & 65.56738 & 0.0004657066\\\\\n",
       "\tResiduals & 5 & 0.2938375 & 0.05876749 &       NA &           NA\\\\\n",
       "\\end{tabular}\n"
      ],
      "text/markdown": [
       "\n",
       "A anova: 3 × 5\n",
       "\n",
       "| <!--/--> | Df &lt;int&gt; | Sum Sq &lt;dbl&gt; | Mean Sq &lt;dbl&gt; | F value &lt;dbl&gt; | Pr(&gt;F) &lt;dbl&gt; |\n",
       "|---|---|---|---|---|---|\n",
       "| scale(x1) | 1 | 2.8529324 | 2.85293242 | 48.54610 | 0.0009365829 |\n",
       "| scale(x2) | 1 | 3.8532301 | 3.85323013 | 65.56738 | 0.0004657066 |\n",
       "| Residuals | 5 | 0.2938375 | 0.05876749 |       NA |           NA |\n",
       "\n"
      ],
      "text/plain": [
       "          Df Sum Sq    Mean Sq    F value  Pr(>F)      \n",
       "scale(x1) 1  2.8529324 2.85293242 48.54610 0.0009365829\n",
       "scale(x2) 1  3.8532301 3.85323013 65.56738 0.0004657066\n",
       "Residuals 5  0.2938375 0.05876749       NA           NA"
      ]
     },
     "metadata": {},
     "output_type": "display_data"
    }
   ],
   "source": [
    "# 5)\n",
    "anova(m_beta)"
   ]
  },
  {
   "cell_type": "markdown",
   "id": "ac1bb5ba-946c-4e2b-b56e-ac2661657ae7",
   "metadata": {},
   "source": [
    "`-` p-value가 매우 작다\n",
    "\n",
    "`-` 회귀모형은 유의하다"
   ]
  },
  {
   "cell_type": "code",
   "execution_count": 65,
   "id": "324d9e77-9501-4b5d-a6e6-14c8ad4a7c76",
   "metadata": {},
   "outputs": [
    {
     "data": {
      "text/html": [
       "<table class=\"dataframe\">\n",
       "<caption>A matrix: 2 × 2 of type dbl</caption>\n",
       "<thead>\n",
       "\t<tr><th></th><th scope=col>x1</th><th scope=col>x2</th></tr>\n",
       "</thead>\n",
       "<tbody>\n",
       "\t<tr><th scope=row>x1</th><td>1</td><td>0</td></tr>\n",
       "\t<tr><th scope=row>x2</th><td>0</td><td>1</td></tr>\n",
       "</tbody>\n",
       "</table>\n"
      ],
      "text/latex": [
       "A matrix: 2 × 2 of type dbl\n",
       "\\begin{tabular}{r|ll}\n",
       "  & x1 & x2\\\\\n",
       "\\hline\n",
       "\tx1 & 1 & 0\\\\\n",
       "\tx2 & 0 & 1\\\\\n",
       "\\end{tabular}\n"
      ],
      "text/markdown": [
       "\n",
       "A matrix: 2 × 2 of type dbl\n",
       "\n",
       "| <!--/--> | x1 | x2 |\n",
       "|---|---|---|\n",
       "| x1 | 1 | 0 |\n",
       "| x2 | 0 | 1 |\n",
       "\n"
      ],
      "text/plain": [
       "   x1 x2\n",
       "x1 1  0 \n",
       "x2 0  1 "
      ]
     },
     "metadata": {},
     "output_type": "display_data"
    }
   ],
   "source": [
    "# 6)\n",
    "cor(X[,2:3], method = 'pearson')"
   ]
  },
  {
   "cell_type": "markdown",
   "id": "c4a2c435-09b7-4fb7-b5c1-d35ab1a1fd3e",
   "metadata": {},
   "source": [
    "`-` $x_1$과 $x_2$의 상관계수가 $0$이므로 상관이 존재하지 않는다"
   ]
  },
  {
   "cell_type": "markdown",
   "id": "767b1be1-be15-4448-a5da-b574e506fa74",
   "metadata": {},
   "source": [
    "## 8.15"
   ]
  },
  {
   "cell_type": "code",
   "execution_count": 102,
   "id": "c11bbb5b-8ea4-45ee-9a52-34c74c378b1b",
   "metadata": {},
   "outputs": [],
   "source": [
    "# 8.15\n",
    "x1 <- c(-5, 4, -1, 2, 2, 3, 3)\n",
    "x2 <- c(5, 4, 1, -3, -2, -2, -3)\n",
    "y <- c(11, 11, 8, 2, 5, 5, 4)\n",
    "m0 <- lm(y~1)"
   ]
  },
  {
   "cell_type": "code",
   "execution_count": 103,
   "id": "e2d864ba-d7d3-469b-9137-558bcb173780",
   "metadata": {},
   "outputs": [
    {
     "data": {
      "text/html": [
       "<table class=\"dataframe\">\n",
       "<caption>A anova: 2 × 6</caption>\n",
       "<thead>\n",
       "\t<tr><th></th><th scope=col>Res.Df</th><th scope=col>RSS</th><th scope=col>Df</th><th scope=col>Sum of Sq</th><th scope=col>F</th><th scope=col>Pr(&gt;F)</th></tr>\n",
       "\t<tr><th></th><th scope=col>&lt;dbl&gt;</th><th scope=col>&lt;dbl&gt;</th><th scope=col>&lt;dbl&gt;</th><th scope=col>&lt;dbl&gt;</th><th scope=col>&lt;dbl&gt;</th><th scope=col>&lt;dbl&gt;</th></tr>\n",
       "</thead>\n",
       "<tbody>\n",
       "\t<tr><th scope=row>1</th><td>6</td><td>73.714286</td><td>NA</td><td>    NA</td><td>      NA</td><td>         NA</td></tr>\n",
       "\t<tr><th scope=row>2</th><td>4</td><td> 3.101281</td><td> 2</td><td>70.613</td><td>45.53796</td><td>0.001770023</td></tr>\n",
       "</tbody>\n",
       "</table>\n"
      ],
      "text/latex": [
       "A anova: 2 × 6\n",
       "\\begin{tabular}{r|llllll}\n",
       "  & Res.Df & RSS & Df & Sum of Sq & F & Pr(>F)\\\\\n",
       "  & <dbl> & <dbl> & <dbl> & <dbl> & <dbl> & <dbl>\\\\\n",
       "\\hline\n",
       "\t1 & 6 & 73.714286 & NA &     NA &       NA &          NA\\\\\n",
       "\t2 & 4 &  3.101281 &  2 & 70.613 & 45.53796 & 0.001770023\\\\\n",
       "\\end{tabular}\n"
      ],
      "text/markdown": [
       "\n",
       "A anova: 2 × 6\n",
       "\n",
       "| <!--/--> | Res.Df &lt;dbl&gt; | RSS &lt;dbl&gt; | Df &lt;dbl&gt; | Sum of Sq &lt;dbl&gt; | F &lt;dbl&gt; | Pr(&gt;F) &lt;dbl&gt; |\n",
       "|---|---|---|---|---|---|---|\n",
       "| 1 | 6 | 73.714286 | NA |     NA |       NA |          NA |\n",
       "| 2 | 4 |  3.101281 |  2 | 70.613 | 45.53796 | 0.001770023 |\n",
       "\n"
      ],
      "text/plain": [
       "  Res.Df RSS       Df Sum of Sq F        Pr(>F)     \n",
       "1 6      73.714286 NA     NA          NA          NA\n",
       "2 4       3.101281  2 70.613    45.53796 0.001770023"
      ]
     },
     "metadata": {},
     "output_type": "display_data"
    }
   ],
   "source": [
    "# 1)\n",
    "m1 <- lm(y~x1+x2)\n",
    "anova(m0, m1)"
   ]
  },
  {
   "cell_type": "markdown",
   "id": "3d094eec-1b02-49d5-8d5f-4fe45fcc4ba0",
   "metadata": {},
   "source": [
    "`-` p-value가 매우 작으므로 회귀모형은 유의하다"
   ]
  },
  {
   "cell_type": "code",
   "execution_count": 112,
   "id": "ffe05045-91fd-4b5c-8bfa-b811990d5539",
   "metadata": {},
   "outputs": [
    {
     "data": {
      "text/html": [
       "302.285714285714"
      ],
      "text/latex": [
       "302.285714285714"
      ],
      "text/markdown": [
       "302.285714285714"
      ],
      "text/plain": [
       "[1] 302.2857"
      ]
     },
     "metadata": {},
     "output_type": "display_data"
    }
   ],
   "source": [
    "# 2)\n",
    "m2 <- lm(y~x1)\n",
    "m3 <- lm(y~x2)\n",
    "\n",
    "R_b0 = length(y) * mean(y)^2\n",
    "R_b0 # R(b0)"
   ]
  },
  {
   "cell_type": "markdown",
   "id": "dbbe3e1d-03bc-405b-8ea3-5ae1cc8749a5",
   "metadata": {},
   "source": [
    "$R(\\beta_0)=302.285714285714$"
   ]
  },
  {
   "cell_type": "code",
   "execution_count": 113,
   "id": "c32843af-94a7-461b-96b7-5d3ce88747ef",
   "metadata": {},
   "outputs": [
    {
     "data": {
      "text/html": [
       "<table class=\"dataframe\">\n",
       "<caption>A anova: 2 × 6</caption>\n",
       "<thead>\n",
       "\t<tr><th></th><th scope=col>Res.Df</th><th scope=col>RSS</th><th scope=col>Df</th><th scope=col>Sum of Sq</th><th scope=col>F</th><th scope=col>Pr(&gt;F)</th></tr>\n",
       "\t<tr><th></th><th scope=col>&lt;dbl&gt;</th><th scope=col>&lt;dbl&gt;</th><th scope=col>&lt;dbl&gt;</th><th scope=col>&lt;dbl&gt;</th><th scope=col>&lt;dbl&gt;</th><th scope=col>&lt;dbl&gt;</th></tr>\n",
       "</thead>\n",
       "<tbody>\n",
       "\t<tr><th scope=row>1</th><td>6</td><td>73.714286</td><td>NA</td><td>    NA</td><td>      NA</td><td>         NA</td></tr>\n",
       "\t<tr><th scope=row>2</th><td>4</td><td> 3.101281</td><td> 2</td><td>70.613</td><td>45.53796</td><td>0.001770023</td></tr>\n",
       "</tbody>\n",
       "</table>\n"
      ],
      "text/latex": [
       "A anova: 2 × 6\n",
       "\\begin{tabular}{r|llllll}\n",
       "  & Res.Df & RSS & Df & Sum of Sq & F & Pr(>F)\\\\\n",
       "  & <dbl> & <dbl> & <dbl> & <dbl> & <dbl> & <dbl>\\\\\n",
       "\\hline\n",
       "\t1 & 6 & 73.714286 & NA &     NA &       NA &          NA\\\\\n",
       "\t2 & 4 &  3.101281 &  2 & 70.613 & 45.53796 & 0.001770023\\\\\n",
       "\\end{tabular}\n"
      ],
      "text/markdown": [
       "\n",
       "A anova: 2 × 6\n",
       "\n",
       "| <!--/--> | Res.Df &lt;dbl&gt; | RSS &lt;dbl&gt; | Df &lt;dbl&gt; | Sum of Sq &lt;dbl&gt; | F &lt;dbl&gt; | Pr(&gt;F) &lt;dbl&gt; |\n",
       "|---|---|---|---|---|---|---|\n",
       "| 1 | 6 | 73.714286 | NA |     NA |       NA |          NA |\n",
       "| 2 | 4 |  3.101281 |  2 | 70.613 | 45.53796 | 0.001770023 |\n",
       "\n"
      ],
      "text/plain": [
       "  Res.Df RSS       Df Sum of Sq F        Pr(>F)     \n",
       "1 6      73.714286 NA     NA          NA          NA\n",
       "2 4       3.101281  2 70.613    45.53796 0.001770023"
      ]
     },
     "metadata": {},
     "output_type": "display_data"
    },
    {
     "data": {
      "text/html": [
       "<table class=\"dataframe\">\n",
       "<caption>A anova: 2 × 6</caption>\n",
       "<thead>\n",
       "\t<tr><th></th><th scope=col>Res.Df</th><th scope=col>RSS</th><th scope=col>Df</th><th scope=col>Sum of Sq</th><th scope=col>F</th><th scope=col>Pr(&gt;F)</th></tr>\n",
       "\t<tr><th></th><th scope=col>&lt;dbl&gt;</th><th scope=col>&lt;dbl&gt;</th><th scope=col>&lt;dbl&gt;</th><th scope=col>&lt;dbl&gt;</th><th scope=col>&lt;dbl&gt;</th><th scope=col>&lt;dbl&gt;</th></tr>\n",
       "</thead>\n",
       "<tbody>\n",
       "\t<tr><th scope=row>1</th><td>6</td><td>73.71429</td><td>NA</td><td>      NA</td><td>      NA</td><td>       NA</td></tr>\n",
       "\t<tr><th scope=row>2</th><td>5</td><td>57.83495</td><td> 1</td><td>15.87933</td><td>1.372815</td><td>0.2941169</td></tr>\n",
       "</tbody>\n",
       "</table>\n"
      ],
      "text/latex": [
       "A anova: 2 × 6\n",
       "\\begin{tabular}{r|llllll}\n",
       "  & Res.Df & RSS & Df & Sum of Sq & F & Pr(>F)\\\\\n",
       "  & <dbl> & <dbl> & <dbl> & <dbl> & <dbl> & <dbl>\\\\\n",
       "\\hline\n",
       "\t1 & 6 & 73.71429 & NA &       NA &       NA &        NA\\\\\n",
       "\t2 & 5 & 57.83495 &  1 & 15.87933 & 1.372815 & 0.2941169\\\\\n",
       "\\end{tabular}\n"
      ],
      "text/markdown": [
       "\n",
       "A anova: 2 × 6\n",
       "\n",
       "| <!--/--> | Res.Df &lt;dbl&gt; | RSS &lt;dbl&gt; | Df &lt;dbl&gt; | Sum of Sq &lt;dbl&gt; | F &lt;dbl&gt; | Pr(&gt;F) &lt;dbl&gt; |\n",
       "|---|---|---|---|---|---|---|\n",
       "| 1 | 6 | 73.71429 | NA |       NA |       NA |        NA |\n",
       "| 2 | 5 | 57.83495 |  1 | 15.87933 | 1.372815 | 0.2941169 |\n",
       "\n"
      ],
      "text/plain": [
       "  Res.Df RSS      Df Sum of Sq F        Pr(>F)   \n",
       "1 6      73.71429 NA       NA        NA        NA\n",
       "2 5      57.83495  1 15.87933  1.372815 0.2941169"
      ]
     },
     "metadata": {},
     "output_type": "display_data"
    },
    {
     "data": {
      "text/html": [
       "<table class=\"dataframe\">\n",
       "<caption>A anova: 2 × 6</caption>\n",
       "<thead>\n",
       "\t<tr><th></th><th scope=col>Res.Df</th><th scope=col>RSS</th><th scope=col>Df</th><th scope=col>Sum of Sq</th><th scope=col>F</th><th scope=col>Pr(&gt;F)</th></tr>\n",
       "\t<tr><th></th><th scope=col>&lt;dbl&gt;</th><th scope=col>&lt;dbl&gt;</th><th scope=col>&lt;dbl&gt;</th><th scope=col>&lt;dbl&gt;</th><th scope=col>&lt;dbl&gt;</th><th scope=col>&lt;dbl&gt;</th></tr>\n",
       "</thead>\n",
       "<tbody>\n",
       "\t<tr><th scope=row>1</th><td>6</td><td>73.71429</td><td>NA</td><td>      NA</td><td>      NA</td><td>          NA</td></tr>\n",
       "\t<tr><th scope=row>2</th><td>5</td><td> 3.69958</td><td> 1</td><td>70.01471</td><td>94.62521</td><td>0.0001951318</td></tr>\n",
       "</tbody>\n",
       "</table>\n"
      ],
      "text/latex": [
       "A anova: 2 × 6\n",
       "\\begin{tabular}{r|llllll}\n",
       "  & Res.Df & RSS & Df & Sum of Sq & F & Pr(>F)\\\\\n",
       "  & <dbl> & <dbl> & <dbl> & <dbl> & <dbl> & <dbl>\\\\\n",
       "\\hline\n",
       "\t1 & 6 & 73.71429 & NA &       NA &       NA &           NA\\\\\n",
       "\t2 & 5 &  3.69958 &  1 & 70.01471 & 94.62521 & 0.0001951318\\\\\n",
       "\\end{tabular}\n"
      ],
      "text/markdown": [
       "\n",
       "A anova: 2 × 6\n",
       "\n",
       "| <!--/--> | Res.Df &lt;dbl&gt; | RSS &lt;dbl&gt; | Df &lt;dbl&gt; | Sum of Sq &lt;dbl&gt; | F &lt;dbl&gt; | Pr(&gt;F) &lt;dbl&gt; |\n",
       "|---|---|---|---|---|---|---|\n",
       "| 1 | 6 | 73.71429 | NA |       NA |       NA |           NA |\n",
       "| 2 | 5 |  3.69958 |  1 | 70.01471 | 94.62521 | 0.0001951318 |\n",
       "\n"
      ],
      "text/plain": [
       "  Res.Df RSS      Df Sum of Sq F        Pr(>F)      \n",
       "1 6      73.71429 NA       NA        NA           NA\n",
       "2 5       3.69958  1 70.01471  94.62521 0.0001951318"
      ]
     },
     "metadata": {},
     "output_type": "display_data"
    }
   ],
   "source": [
    "anova(m0, m1) # R(b1,b2|b0)\n",
    "anova(m0, m2) # R(b1|b0)\n",
    "anova(m0, m3) # R(b2|b0)"
   ]
  },
  {
   "cell_type": "markdown",
   "id": "08d6de61-7095-4a50-b5dc-af0b6177b677",
   "metadata": {},
   "source": [
    "$R(\\beta_1,\\beta_2\\mid \\beta_0)=70.613\\\\\n",
    "R(\\beta_1\\mid\\beta_0)=15.87933\\\\\n",
    "R(\\beta_2\\mid\\beta_0)=70.01471$"
   ]
  },
  {
   "cell_type": "code",
   "execution_count": 114,
   "id": "bae57ef2-f263-425f-b83e-cd36521ff5a6",
   "metadata": {},
   "outputs": [
    {
     "data": {
      "text/html": [
       "<table class=\"dataframe\">\n",
       "<caption>A anova: 2 × 6</caption>\n",
       "<thead>\n",
       "\t<tr><th></th><th scope=col>Res.Df</th><th scope=col>RSS</th><th scope=col>Df</th><th scope=col>Sum of Sq</th><th scope=col>F</th><th scope=col>Pr(&gt;F)</th></tr>\n",
       "\t<tr><th></th><th scope=col>&lt;dbl&gt;</th><th scope=col>&lt;dbl&gt;</th><th scope=col>&lt;dbl&gt;</th><th scope=col>&lt;dbl&gt;</th><th scope=col>&lt;dbl&gt;</th><th scope=col>&lt;dbl&gt;</th></tr>\n",
       "</thead>\n",
       "<tbody>\n",
       "\t<tr><th scope=row>1</th><td>5</td><td>3.699580</td><td>NA</td><td>      NA</td><td>       NA</td><td>       NA</td></tr>\n",
       "\t<tr><th scope=row>2</th><td>4</td><td>3.101281</td><td> 1</td><td>0.598299</td><td>0.7716799</td><td>0.4292997</td></tr>\n",
       "</tbody>\n",
       "</table>\n"
      ],
      "text/latex": [
       "A anova: 2 × 6\n",
       "\\begin{tabular}{r|llllll}\n",
       "  & Res.Df & RSS & Df & Sum of Sq & F & Pr(>F)\\\\\n",
       "  & <dbl> & <dbl> & <dbl> & <dbl> & <dbl> & <dbl>\\\\\n",
       "\\hline\n",
       "\t1 & 5 & 3.699580 & NA &       NA &        NA &        NA\\\\\n",
       "\t2 & 4 & 3.101281 &  1 & 0.598299 & 0.7716799 & 0.4292997\\\\\n",
       "\\end{tabular}\n"
      ],
      "text/markdown": [
       "\n",
       "A anova: 2 × 6\n",
       "\n",
       "| <!--/--> | Res.Df &lt;dbl&gt; | RSS &lt;dbl&gt; | Df &lt;dbl&gt; | Sum of Sq &lt;dbl&gt; | F &lt;dbl&gt; | Pr(&gt;F) &lt;dbl&gt; |\n",
       "|---|---|---|---|---|---|---|\n",
       "| 1 | 5 | 3.699580 | NA |       NA |        NA |        NA |\n",
       "| 2 | 4 | 3.101281 |  1 | 0.598299 | 0.7716799 | 0.4292997 |\n",
       "\n"
      ],
      "text/plain": [
       "  Res.Df RSS      Df Sum of Sq F         Pr(>F)   \n",
       "1 5      3.699580 NA       NA         NA        NA\n",
       "2 4      3.101281  1 0.598299  0.7716799 0.4292997"
      ]
     },
     "metadata": {},
     "output_type": "display_data"
    }
   ],
   "source": [
    "# 3)\n",
    "anova(m3, m1)"
   ]
  },
  {
   "cell_type": "markdown",
   "id": "155adad7-ad5d-473f-97b5-5fa849d6057e",
   "metadata": {},
   "source": [
    "`-` p-value가 0.429로 0.05보다 작으므로 영가설을 기각하지 못한다\n",
    "\n",
    "`-` $\\beta_1$은 $0$이 아니라고 할 수 없다 \n",
    "\n",
    "`-` $x_1$은 회귀모형에서 유의하지 않다"
   ]
  },
  {
   "cell_type": "code",
   "execution_count": 115,
   "id": "f915ecc1-6b05-4dba-984f-03cf40119837",
   "metadata": {},
   "outputs": [
    {
     "data": {
      "text/html": [
       "<table class=\"dataframe\">\n",
       "<caption>A anova: 2 × 6</caption>\n",
       "<thead>\n",
       "\t<tr><th></th><th scope=col>Res.Df</th><th scope=col>RSS</th><th scope=col>Df</th><th scope=col>Sum of Sq</th><th scope=col>F</th><th scope=col>Pr(&gt;F)</th></tr>\n",
       "\t<tr><th></th><th scope=col>&lt;dbl&gt;</th><th scope=col>&lt;dbl&gt;</th><th scope=col>&lt;dbl&gt;</th><th scope=col>&lt;dbl&gt;</th><th scope=col>&lt;dbl&gt;</th><th scope=col>&lt;dbl&gt;</th></tr>\n",
       "</thead>\n",
       "<tbody>\n",
       "\t<tr><th scope=row>1</th><td>5</td><td>57.834951</td><td>NA</td><td>      NA</td><td>      NA</td><td>         NA</td></tr>\n",
       "\t<tr><th scope=row>2</th><td>4</td><td> 3.101281</td><td> 1</td><td>54.73367</td><td>70.59492</td><td>0.001098159</td></tr>\n",
       "</tbody>\n",
       "</table>\n"
      ],
      "text/latex": [
       "A anova: 2 × 6\n",
       "\\begin{tabular}{r|llllll}\n",
       "  & Res.Df & RSS & Df & Sum of Sq & F & Pr(>F)\\\\\n",
       "  & <dbl> & <dbl> & <dbl> & <dbl> & <dbl> & <dbl>\\\\\n",
       "\\hline\n",
       "\t1 & 5 & 57.834951 & NA &       NA &       NA &          NA\\\\\n",
       "\t2 & 4 &  3.101281 &  1 & 54.73367 & 70.59492 & 0.001098159\\\\\n",
       "\\end{tabular}\n"
      ],
      "text/markdown": [
       "\n",
       "A anova: 2 × 6\n",
       "\n",
       "| <!--/--> | Res.Df &lt;dbl&gt; | RSS &lt;dbl&gt; | Df &lt;dbl&gt; | Sum of Sq &lt;dbl&gt; | F &lt;dbl&gt; | Pr(&gt;F) &lt;dbl&gt; |\n",
       "|---|---|---|---|---|---|---|\n",
       "| 1 | 5 | 57.834951 | NA |       NA |       NA |          NA |\n",
       "| 2 | 4 |  3.101281 |  1 | 54.73367 | 70.59492 | 0.001098159 |\n",
       "\n"
      ],
      "text/plain": [
       "  Res.Df RSS       Df Sum of Sq F        Pr(>F)     \n",
       "1 5      57.834951 NA       NA        NA          NA\n",
       "2 4       3.101281  1 54.73367  70.59492 0.001098159"
      ]
     },
     "metadata": {},
     "output_type": "display_data"
    }
   ],
   "source": [
    "# 4)\n",
    "anova(m2, m1)"
   ]
  },
  {
   "cell_type": "markdown",
   "id": "724fb9eb-2c8f-4185-9b20-0208b9e4c047",
   "metadata": {},
   "source": [
    "`-` p-value가 0.001이므로 $\\alpha =0.05,0.01$에서 영가설을 기각한다\n",
    "\n",
    "`-` $\\beta_2$는 $0$이 아니다\n",
    "\n",
    "`-` $x_2$은 회귀모형에서 유의하다"
   ]
  },
  {
   "cell_type": "markdown",
   "id": "0258c4e8-a9d8-4ac5-9e0b-5b222139aa65",
   "metadata": {},
   "source": [
    "## 8.16\n",
    "\n",
    "$\\boldsymbol{y=X\\beta+\\epsilon,\\;\\epsilon}\\sim N(0,I),\\; \\bf{X}$는 $n\\times (k+1)$"
   ]
  },
  {
   "cell_type": "markdown",
   "id": "c0c023aa-61d0-48e4-8a8c-7e8b4fdf48db",
   "metadata": {},
   "source": [
    "### 1)"
   ]
  },
  {
   "cell_type": "markdown",
   "id": "474bcc9c-2edc-4318-991d-e1958fc2453b",
   "metadata": {},
   "source": [
    "$Q_1=\\boldsymbol{y'[I-X(X'X)^{-1}X']y = y'Cy}=SSE$ 이고 $df_E=n-k-1$이고 $\\sigma^2=1$이다\n",
    "\n",
    "$\\boldsymbol{V=I}$이고 $\\boldsymbol{CVCV=CV}$로 멱등행렬이다\n",
    "\n",
    "$\\begin{aligned}\\boldsymbol{(I-X(X'X)^{-1}X')(I-X(X'X)^{-1}X')}&=\\boldsymbol{I-2X(X'X)^{-1}X'+X(X'X)^{-1}X'X(X'X)^{-1}X'}\\\\\n",
    "&=\\boldsymbol{I-X(X'X)^{-1}X'}\\end{aligned}$\n",
    "\n",
    "이므로 $\\boldsymbol{I-X(X'X)^{-1}X'}$은 멱등행렬이다\n",
    "\n",
    "$r(\\boldsymbol{C})=tr(\\boldsymbol{C})=n-k-1$이므로 $Q_1$은 $\\chi^2(n-k-1)$을 따른다"
   ]
  },
  {
   "cell_type": "markdown",
   "id": "70d757e6-5ea7-44c7-86c0-ffd4009e13eb",
   "metadata": {},
   "source": [
    "### 2)"
   ]
  },
  {
   "cell_type": "markdown",
   "id": "0579fb6d-7ab5-4dbb-bae8-6e3708834d2b",
   "metadata": {},
   "source": [
    "$Q_2=\\boldsymbol{y'X(X'X)^{-1}X'y = y'By}$ 이고 $df=k+1$이고 $\\sigma^2=1$이다\n",
    "\n",
    "$\\boldsymbol{V=I}$이고 $\\boldsymbol{BVBV=BV}$로 멱등행렬이다\n",
    "\n",
    "$\\boldsymbol{(X(X'X)^{-1}X')(X(X'X)^{-1}X')= XB^{-1}B(X'X)^{-1}X'=X(X'X)^{-1}X'}$\n",
    "\n",
    "이므로 $\\boldsymbol{X(X'X)^{-1}X'}$은 멱등행렬이다\n",
    "\n",
    "$r(\\boldsymbol{B})=tr(\\boldsymbol{B}\n",
    ")=k+1$이므로 $Q_2$은 $\\chi^2(k+1,\\frac{1}{2}\\boldsymbol{\\beta'X'X\\beta})$을 따른다"
   ]
  },
  {
   "cell_type": "markdown",
   "id": "380baf38-ace5-4dc7-af60-a2459f23ccf5",
   "metadata": {},
   "source": [
    "### 3)"
   ]
  },
  {
   "cell_type": "markdown",
   "id": "1f8c2152-50b2-4b8f-8588-b766948dbdff",
   "metadata": {},
   "source": [
    "$\\boldsymbol{BVC}$가 0이면 $Q_1,Q_2$는 서로 독립이다\n",
    "\n",
    "$\\begin{aligned}\\boldsymbol{BVC}&=[\\boldsymbol{I-X(X'X)^{-1}X']I}\\sigma^2\\boldsymbol{X(X'X)^{-1}X'}\\\\\n",
    "&=\\sigma^2[\\boldsymbol{I-X(X'X)^{-1}X']}\\boldsymbol{X(X'X)^{-1}X'}\\\\\n",
    "&=\\sigma^2[\\boldsymbol{X(X'X)^{-1}X'-(X(X'X)^{-1}X')(X(X'X)^{-1}X')]}\\end{aligned}$\n",
    "\n",
    "그런데 $\\boldsymbol{X(X'X)^{-1}X'}$는 멱등행렬이므로 $\\boldsymbol{(X(X'X)^{-1}X')(X(X'X)^{-1}X')}=\\boldsymbol{X(X'X)^{-1}X'}$\n",
    "\n",
    "$\\sigma^2[\\boldsymbol{X(X'X)^{-1}X'-(X(X'X)^{-1}X')(X(X'X)^{-1}X')]}=\\sigma^2[\\boldsymbol{X(X'X)^{-1}X'}-\\boldsymbol{X(X'X)^{-1}X'}]=\\boldsymbol{0}$\n",
    "\n",
    "그러므로 $Q_1,Q_2$는 서로 독립이다"
   ]
  },
  {
   "cell_type": "markdown",
   "id": "2b61c021-6728-4881-983e-6272060e8ad4",
   "metadata": {},
   "source": [
    "### 4)"
   ]
  },
  {
   "cell_type": "markdown",
   "id": "f2780194-f239-4aef-9e39-b59fc26db0b8",
   "metadata": {},
   "source": [
    "$Q_1,Q_2$는 서로 독립이고 $\\boldsymbol{\\beta}=\\boldsymbol{0}$ 이면 $Q_1\\sim\\chi^2(n-k-1),\\;Q_2\\sim\\chi^2(k+1,\\boldsymbol{0})=\\chi^2(k+1)$ \n",
    "\n",
    "이므로 $\\cfrac{Q_2 \\big/(k+1)}{Q_1\\big/(n-k-1)}\\sim F(k+1,n-k-1)$ 이다 "
   ]
  },
  {
   "cell_type": "code",
   "execution_count": null,
   "id": "7ad990ff-f0b7-4f1c-b31f-483ca8a301e6",
   "metadata": {},
   "outputs": [],
   "source": []
  }
 ],
 "metadata": {
  "kernelspec": {
   "display_name": "R",
   "language": "R",
   "name": "ir"
  },
  "language_info": {
   "codemirror_mode": "r",
   "file_extension": ".r",
   "mimetype": "text/x-r-source",
   "name": "R",
   "pygments_lexer": "r",
   "version": "4.0.5"
  }
 },
 "nbformat": 4,
 "nbformat_minor": 5
}
