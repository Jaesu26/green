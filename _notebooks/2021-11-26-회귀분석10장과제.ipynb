{
 "cells": [
  {
   "cell_type": "markdown",
   "id": "c71513e8-4db5-429f-8e7b-f2656580b2f0",
   "metadata": {},
   "source": [
    "# 회귀분석 10장 과제\n",
    "\n",
    "> \"작성 완료\"\n",
    "\n",
    "- toc: true\n",
    "- branch: master\n",
    "- badges: true\n",
    "- comments: true\n",
    "- author: 한재수\n",
    "- categories: [R, statistics]"
   ]
  },
  {
   "cell_type": "markdown",
   "id": "2de751d5-8e92-4420-b073-beefe27c4c49",
   "metadata": {},
   "source": [
    "## 10.2"
   ]
  },
  {
   "cell_type": "code",
   "execution_count": 21,
   "id": "ac6f7b4d-58f5-411d-a8b8-8c70bee39bec",
   "metadata": {},
   "outputs": [],
   "source": [
    "y = c(18, 17.4, 14.5, 14, 13.4, 24.4, 22.7, 12.7, 27.1,\n",
    "       25.4,33.5, 35.6, 26.1, 36.8, 34.9, 43.6)\n",
    "x1 = c(61, 72, 85, 84, 98, 53, 54, 89, 77, 88, 76, 59, 91, 65, 81, 51)\n",
    "x2 = rep(c('A', 'B'), each = 8)"
   ]
  },
  {
   "cell_type": "code",
   "execution_count": 22,
   "id": "05c2762b-3ffb-401c-919e-d8d6edc52d1a",
   "metadata": {},
   "outputs": [],
   "source": [
    "x2 = ifelse(x2 == 'A', 0, 1) "
   ]
  },
  {
   "cell_type": "code",
   "execution_count": 23,
   "id": "926c6f11-8444-4306-9662-66e5ae83969b",
   "metadata": {},
   "outputs": [
    {
     "data": {
      "text/html": [
       "<style>\n",
       ".list-inline {list-style: none; margin:0; padding: 0}\n",
       ".list-inline>li {display: inline-block}\n",
       ".list-inline>li:not(:last-child)::after {content: \"\\00b7\"; padding: 0 .5ex}\n",
       "</style>\n",
       "<ol class=list-inline><li>0</li><li>0</li><li>0</li><li>0</li><li>0</li><li>0</li><li>0</li><li>0</li><li>1</li><li>1</li><li>1</li><li>1</li><li>1</li><li>1</li><li>1</li><li>1</li></ol>\n"
      ],
      "text/latex": [
       "\\begin{enumerate*}\n",
       "\\item 0\n",
       "\\item 0\n",
       "\\item 0\n",
       "\\item 0\n",
       "\\item 0\n",
       "\\item 0\n",
       "\\item 0\n",
       "\\item 0\n",
       "\\item 1\n",
       "\\item 1\n",
       "\\item 1\n",
       "\\item 1\n",
       "\\item 1\n",
       "\\item 1\n",
       "\\item 1\n",
       "\\item 1\n",
       "\\end{enumerate*}\n"
      ],
      "text/markdown": [
       "1. 0\n",
       "2. 0\n",
       "3. 0\n",
       "4. 0\n",
       "5. 0\n",
       "6. 0\n",
       "7. 0\n",
       "8. 0\n",
       "9. 1\n",
       "10. 1\n",
       "11. 1\n",
       "12. 1\n",
       "13. 1\n",
       "14. 1\n",
       "15. 1\n",
       "16. 1\n",
       "\n",
       "\n"
      ],
      "text/plain": [
       " [1] 0 0 0 0 0 0 0 0 1 1 1 1 1 1 1 1"
      ]
     },
     "metadata": {},
     "output_type": "display_data"
    }
   ],
   "source": [
    "x2"
   ]
  },
  {
   "cell_type": "code",
   "execution_count": 24,
   "id": "73c09f8c-3ab4-4b59-836c-55fb83dca22b",
   "metadata": {},
   "outputs": [
    {
     "data": {
      "text/plain": [
       "\n",
       "Call:\n",
       "lm(formula = y ~ x1 + x2)\n",
       "\n",
       "Residuals:\n",
       "    Min      1Q  Median      3Q     Max \n",
       "-4.7121 -1.5151 -0.1434  1.3539  4.3026 \n",
       "\n",
       "Coefficients:\n",
       "            Estimate Std. Error t value Pr(>|t|)    \n",
       "(Intercept) 39.76136    3.62542  10.967 6.10e-08 ***\n",
       "x1          -0.30368    0.04689  -6.476 2.08e-05 ***\n",
       "x2          15.43382    1.37079  11.259 4.47e-08 ***\n",
       "---\n",
       "Signif. codes:  0 '***' 0.001 '**' 0.01 '*' 0.05 '.' 0.1 ' ' 1\n",
       "\n",
       "Residual standard error: 2.74 on 13 degrees of freedom\n",
       "Multiple R-squared:  0.9304,\tAdjusted R-squared:  0.9197 \n",
       "F-statistic: 86.95 on 2 and 13 DF,  p-value: 2.987e-08\n"
      ]
     },
     "metadata": {},
     "output_type": "display_data"
    }
   ],
   "source": [
    "m = lm(y~x1+x2)\n",
    "summary(m)"
   ]
  },
  {
   "cell_type": "markdown",
   "id": "1beb3327-e0e9-4561-a664-0cd55ebe5e76",
   "metadata": {},
   "source": [
    "$\\hat{y}=39.76136-0.30368 x_1+15.43382 x_2$"
   ]
  },
  {
   "cell_type": "code",
   "execution_count": 25,
   "id": "187eaf25-ef68-45f3-98da-a2d6e72c2297",
   "metadata": {},
   "outputs": [],
   "source": [
    "m0 = lm(y~1)"
   ]
  },
  {
   "cell_type": "code",
   "execution_count": 31,
   "id": "61babdd0-b866-4351-b1a6-a4fdd52a1af0",
   "metadata": {},
   "outputs": [
    {
     "data": {
      "text/html": [
       "<table class=\"dataframe\">\n",
       "<caption>A anova: 2 × 6</caption>\n",
       "<thead>\n",
       "\t<tr><th></th><th scope=col>Res.Df</th><th scope=col>RSS</th><th scope=col>Df</th><th scope=col>Sum of Sq</th><th scope=col>F</th><th scope=col>Pr(&gt;F)</th></tr>\n",
       "\t<tr><th></th><th scope=col>&lt;dbl&gt;</th><th scope=col>&lt;dbl&gt;</th><th scope=col>&lt;dbl&gt;</th><th scope=col>&lt;dbl&gt;</th><th scope=col>&lt;dbl&gt;</th><th scope=col>&lt;dbl&gt;</th></tr>\n",
       "</thead>\n",
       "<tbody>\n",
       "\t<tr><th scope=row>1</th><td>15</td><td>1403.10938</td><td>NA</td><td>      NA</td><td>      NA</td><td>         NA</td></tr>\n",
       "\t<tr><th scope=row>2</th><td>13</td><td>  97.59762</td><td> 2</td><td>1305.512</td><td>86.94707</td><td>2.98717e-08</td></tr>\n",
       "</tbody>\n",
       "</table>\n"
      ],
      "text/latex": [
       "A anova: 2 × 6\n",
       "\\begin{tabular}{r|llllll}\n",
       "  & Res.Df & RSS & Df & Sum of Sq & F & Pr(>F)\\\\\n",
       "  & <dbl> & <dbl> & <dbl> & <dbl> & <dbl> & <dbl>\\\\\n",
       "\\hline\n",
       "\t1 & 15 & 1403.10938 & NA &       NA &       NA &          NA\\\\\n",
       "\t2 & 13 &   97.59762 &  2 & 1305.512 & 86.94707 & 2.98717e-08\\\\\n",
       "\\end{tabular}\n"
      ],
      "text/markdown": [
       "\n",
       "A anova: 2 × 6\n",
       "\n",
       "| <!--/--> | Res.Df &lt;dbl&gt; | RSS &lt;dbl&gt; | Df &lt;dbl&gt; | Sum of Sq &lt;dbl&gt; | F &lt;dbl&gt; | Pr(&gt;F) &lt;dbl&gt; |\n",
       "|---|---|---|---|---|---|---|\n",
       "| 1 | 15 | 1403.10938 | NA |       NA |       NA |          NA |\n",
       "| 2 | 13 |   97.59762 |  2 | 1305.512 | 86.94707 | 2.98717e-08 |\n",
       "\n"
      ],
      "text/plain": [
       "  Res.Df RSS        Df Sum of Sq F        Pr(>F)     \n",
       "1 15     1403.10938 NA       NA        NA          NA\n",
       "2 13       97.59762  2 1305.512  86.94707 2.98717e-08"
      ]
     },
     "metadata": {},
     "output_type": "display_data"
    }
   ],
   "source": [
    "anova(m0, m)"
   ]
  },
  {
   "cell_type": "markdown",
   "id": "ce46eb07-2625-498a-8b15-a4f4a6a5ae6b",
   "metadata": {},
   "source": [
    "`-` 에제 10.2에서는 회귀모델은 유의하나 교호작용항은 p값이 0.11252로 커서 유의하지 않았다\n",
    "\n",
    "`-` 교호작용이 없는 모형에서는 모든 변수가 유의하다\n",
    "\n",
    "`-` 또한 p-value가 거의 0이므로 추정된 회귀모델은 유의하다고 할 수 있다"
   ]
  },
  {
   "cell_type": "markdown",
   "id": "dff9d53d-4a51-4010-9250-f6d6173972e4",
   "metadata": {},
   "source": [
    "## 10.4"
   ]
  },
  {
   "cell_type": "code",
   "execution_count": 65,
   "id": "5135dec3-648c-44e1-85ab-eed3430ad3a1",
   "metadata": {},
   "outputs": [],
   "source": [
    "x1 = c(2.5, 4.4, 4.5, 1.4, 4.7, 3.5, 2.5, 3.8)\n",
    "y = c(65, 34, 40, 80, 30, 57, 72, 48)"
   ]
  },
  {
   "cell_type": "markdown",
   "id": "04942282-9a2a-4372-9282-0c7e3028cdbe",
   "metadata": {},
   "source": [
    "### 1)"
   ]
  },
  {
   "cell_type": "code",
   "execution_count": 66,
   "id": "ad17e651-9729-4797-8f12-4c1fc75518ad",
   "metadata": {},
   "outputs": [
    {
     "data": {
      "image/png": "[encoded data removed]",
      "text/plain": [
       "plot without title"
      ]
     },
     "metadata": {
      "image/png": {
       "height": 420,
       "width": 420
      }
     },
     "output_type": "display_data"
    }
   ],
   "source": [
    "plot(y~x1)"
   ]
  },
  {
   "cell_type": "markdown",
   "id": "701cf117-eb97-4d07-8bcf-d55397c9cdfe",
   "metadata": {},
   "source": [
    "`-` $x = 3.8$을 기준으로 2개의 구간으로 나누어 분석하는것이 좋아보인다\n",
    "\n",
    "`-` $x=3.8$ 이전 데이터들의 기울기보다 $x=3.8$ 이후 데이터들의 기울기가 눈에 띄게 더 가파르고 이전 데이터는 넓은 범위에 존재하는 반면 이후에는 3개의 데이터가 밀집되어 있기 때문이다"
   ]
  },
  {
   "cell_type": "markdown",
   "id": "c2b3a74e-113e-42ae-ba63-a635fad57b3b",
   "metadata": {},
   "source": [
    "### 2)"
   ]
  },
  {
   "cell_type": "markdown",
   "id": "8821967b-f311-4287-88f2-cc24ce7b8336",
   "metadata": {},
   "source": [
    "`-` 위와 같은 이유로 $x = 3.8$을 기준으로 나누는것이 좋아보인다"
   ]
  },
  {
   "cell_type": "code",
   "execution_count": 67,
   "id": "1e6d99ea-fadb-4240-ad21-3ba3b0b1b5b5",
   "metadata": {},
   "outputs": [],
   "source": [
    "x2 = function(x) ifelse(x1 > 3.8, 1, 0)"
   ]
  },
  {
   "cell_type": "code",
   "execution_count": 68,
   "id": "55be651f-0c87-468c-9fb3-b73e53b62d48",
   "metadata": {},
   "outputs": [],
   "source": [
    "x2_ = (x1-3.8)*x2(x1)"
   ]
  },
  {
   "cell_type": "code",
   "execution_count": 69,
   "id": "1a8b9044-4418-4bcb-977e-26eea28a3b03",
   "metadata": {},
   "outputs": [
    {
     "data": {
      "text/plain": [
       "\n",
       "Call:\n",
       "lm(formula = y ~ x1 + x2_)\n",
       "\n",
       "Residuals:\n",
       "     1      2      3      4      5      6      7      8 \n",
       "-2.421 -3.663  4.531 -1.462 -1.082  2.344  4.579 -2.826 \n",
       "\n",
       "Coefficients:\n",
       "            Estimate Std. Error t value Pr(>|t|)    \n",
       "(Intercept)   99.333      5.907  16.817 1.36e-05 ***\n",
       "x1           -12.765      2.046  -6.238  0.00155 ** \n",
       "x2_           -9.173      6.201  -1.479  0.19911    \n",
       "---\n",
       "Signif. codes:  0 '***' 0.001 '**' 0.01 '*' 0.05 '.' 0.1 ' ' 1\n",
       "\n",
       "Residual standard error: 3.939 on 5 degrees of freedom\n",
       "Multiple R-squared:  0.9668,\tAdjusted R-squared:  0.9535 \n",
       "F-statistic: 72.71 on 2 and 5 DF,  p-value: 0.0002015\n"
      ]
     },
     "metadata": {},
     "output_type": "display_data"
    }
   ],
   "source": [
    "m = lm(y~x1+x2_)\n",
    "summary(m)"
   ]
  },
  {
   "cell_type": "markdown",
   "id": "62cac50a-f75d-4fbb-9154-c44140f081b8",
   "metadata": {},
   "source": [
    "$\\hat{y}=99.333-12.765x_1-9.173x_{2\\_}$"
   ]
  },
  {
   "cell_type": "markdown",
   "id": "1022182a-1751-4796-b9c1-6debf2dfec83",
   "metadata": {},
   "source": [
    "`-` $x{2\\_}$에 대한 p-value가 0.19911로 0.05보다 크므로 영가설을 기각하지 못한다\n",
    "\n",
    "`-` $\\beta_2\\neq 0$ 라고 할 수 없다 "
   ]
  },
  {
   "cell_type": "markdown",
   "id": "c102960e-747d-4f65-842d-6a41ea4fa417",
   "metadata": {},
   "source": [
    "## 10.5"
   ]
  },
  {
   "cell_type": "code",
   "execution_count": 86,
   "id": "f911f718-2249-4b72-8923-aed71bc0af48",
   "metadata": {},
   "outputs": [],
   "source": [
    "y = c(15, 16, 18, 13, 19, 16, 15, 16, 17, 15,\n",
    "      18, 17, 18, 19, 20, 16, 15, 19, 18, 16,\n",
    "      20, 19, 21, 18, 19, 17, 18, 21, 20, 17,\n",
    "      16, 17, 18, 17, 15, 15, 15, 18, 17, 16, \n",
    "      19, 21, 22, 23, 20, 18, 20, 21, 22, 19,\n",
    "      24, 25, 23, 25, 25, 23, 24, 22, 26, 24)\n",
    "\n",
    "x1 = rep(c(5, 10, 20, 5, 10, 20), each = 10)\n",
    "x2 = rep(c('A', 'B'), each = 30)"
   ]
  },
  {
   "cell_type": "code",
   "execution_count": 87,
   "id": "41f7ae57-e647-43e9-8c60-e604f4772cf2",
   "metadata": {},
   "outputs": [],
   "source": [
    "x2 = ifelse(x2 == 'A', 0, 1)"
   ]
  },
  {
   "cell_type": "code",
   "execution_count": 88,
   "id": "04e5afe6-6828-4814-b067-1da33e364635",
   "metadata": {},
   "outputs": [
    {
     "data": {
      "text/html": [
       "<style>\n",
       ".list-inline {list-style: none; margin:0; padding: 0}\n",
       ".list-inline>li {display: inline-block}\n",
       ".list-inline>li:not(:last-child)::after {content: \"\\00b7\"; padding: 0 .5ex}\n",
       "</style>\n",
       "<ol class=list-inline><li>0</li><li>0</li><li>0</li><li>0</li><li>0</li><li>0</li><li>0</li><li>0</li><li>0</li><li>0</li><li>0</li><li>0</li><li>0</li><li>0</li><li>0</li><li>0</li><li>0</li><li>0</li><li>0</li><li>0</li><li>0</li><li>0</li><li>0</li><li>0</li><li>0</li><li>0</li><li>0</li><li>0</li><li>0</li><li>0</li><li>1</li><li>1</li><li>1</li><li>1</li><li>1</li><li>1</li><li>1</li><li>1</li><li>1</li><li>1</li><li>1</li><li>1</li><li>1</li><li>1</li><li>1</li><li>1</li><li>1</li><li>1</li><li>1</li><li>1</li><li>1</li><li>1</li><li>1</li><li>1</li><li>1</li><li>1</li><li>1</li><li>1</li><li>1</li><li>1</li></ol>\n"
      ],
      "text/latex": [
       "\\begin{enumerate*}\n",
       "\\item 0\n",
       "\\item 0\n",
       "\\item 0\n",
       "\\item 0\n",
       "\\item 0\n",
       "\\item 0\n",
       "\\item 0\n",
       "\\item 0\n",
       "\\item 0\n",
       "\\item 0\n",
       "\\item 0\n",
       "\\item 0\n",
       "\\item 0\n",
       "\\item 0\n",
       "\\item 0\n",
       "\\item 0\n",
       "\\item 0\n",
       "\\item 0\n",
       "\\item 0\n",
       "\\item 0\n",
       "\\item 0\n",
       "\\item 0\n",
       "\\item 0\n",
       "\\item 0\n",
       "\\item 0\n",
       "\\item 0\n",
       "\\item 0\n",
       "\\item 0\n",
       "\\item 0\n",
       "\\item 0\n",
       "\\item 1\n",
       "\\item 1\n",
       "\\item 1\n",
       "\\item 1\n",
       "\\item 1\n",
       "\\item 1\n",
       "\\item 1\n",
       "\\item 1\n",
       "\\item 1\n",
       "\\item 1\n",
       "\\item 1\n",
       "\\item 1\n",
       "\\item 1\n",
       "\\item 1\n",
       "\\item 1\n",
       "\\item 1\n",
       "\\item 1\n",
       "\\item 1\n",
       "\\item 1\n",
       "\\item 1\n",
       "\\item 1\n",
       "\\item 1\n",
       "\\item 1\n",
       "\\item 1\n",
       "\\item 1\n",
       "\\item 1\n",
       "\\item 1\n",
       "\\item 1\n",
       "\\item 1\n",
       "\\item 1\n",
       "\\end{enumerate*}\n"
      ],
      "text/markdown": [
       "1. 0\n",
       "2. 0\n",
       "3. 0\n",
       "4. 0\n",
       "5. 0\n",
       "6. 0\n",
       "7. 0\n",
       "8. 0\n",
       "9. 0\n",
       "10. 0\n",
       "11. 0\n",
       "12. 0\n",
       "13. 0\n",
       "14. 0\n",
       "15. 0\n",
       "16. 0\n",
       "17. 0\n",
       "18. 0\n",
       "19. 0\n",
       "20. 0\n",
       "21. 0\n",
       "22. 0\n",
       "23. 0\n",
       "24. 0\n",
       "25. 0\n",
       "26. 0\n",
       "27. 0\n",
       "28. 0\n",
       "29. 0\n",
       "30. 0\n",
       "31. 1\n",
       "32. 1\n",
       "33. 1\n",
       "34. 1\n",
       "35. 1\n",
       "36. 1\n",
       "37. 1\n",
       "38. 1\n",
       "39. 1\n",
       "40. 1\n",
       "41. 1\n",
       "42. 1\n",
       "43. 1\n",
       "44. 1\n",
       "45. 1\n",
       "46. 1\n",
       "47. 1\n",
       "48. 1\n",
       "49. 1\n",
       "50. 1\n",
       "51. 1\n",
       "52. 1\n",
       "53. 1\n",
       "54. 1\n",
       "55. 1\n",
       "56. 1\n",
       "57. 1\n",
       "58. 1\n",
       "59. 1\n",
       "60. 1\n",
       "\n",
       "\n"
      ],
      "text/plain": [
       " [1] 0 0 0 0 0 0 0 0 0 0 0 0 0 0 0 0 0 0 0 0 0 0 0 0 0 0 0 0 0 0 1 1 1 1 1 1 1 1\n",
       "[39] 1 1 1 1 1 1 1 1 1 1 1 1 1 1 1 1 1 1 1 1 1 1"
      ]
     },
     "metadata": {},
     "output_type": "display_data"
    }
   ],
   "source": [
    "x2"
   ]
  },
  {
   "cell_type": "markdown",
   "id": "c0409dde-734a-4518-9274-9bb738fcf654",
   "metadata": {},
   "source": [
    "### 1)"
   ]
  },
  {
   "cell_type": "markdown",
   "id": "bb3773b3-ecf1-410b-b641-e2b3a8b1efc7",
   "metadata": {},
   "source": [
    "`-` $y$는 불안도, $x_1$은 약의 복용량, $x_2$는 약의 종류\n",
    "\n",
    "$y=\\beta_0+\\beta_1 x_1+\\beta_2 x_2$"
   ]
  },
  {
   "cell_type": "markdown",
   "id": "766f7910-a595-4b56-b1b3-b914141f9ec9",
   "metadata": {},
   "source": [
    "### 2)"
   ]
  },
  {
   "cell_type": "code",
   "execution_count": 96,
   "id": "51b14707-37fc-46a5-883a-8902e226dd4a",
   "metadata": {},
   "outputs": [],
   "source": [
    "m0 = lm(y~1)"
   ]
  },
  {
   "cell_type": "code",
   "execution_count": 95,
   "id": "e790a75a-54b6-46ff-9ae1-6328945c4bb1",
   "metadata": {},
   "outputs": [
    {
     "data": {
      "text/plain": [
       "\n",
       "Call:\n",
       "lm(formula = y ~ x1 + x2)\n",
       "\n",
       "Residuals:\n",
       "    Min      1Q  Median      3Q     Max \n",
       "-3.3786 -1.0875 -0.0571  1.0857  3.7429 \n",
       "\n",
       "Coefficients:\n",
       "            Estimate Std. Error t value Pr(>|t|)    \n",
       "(Intercept) 13.55000    0.54711  24.766  < 2e-16 ***\n",
       "x1           0.34143    0.03741   9.127 9.59e-13 ***\n",
       "x2           2.80000    0.46658   6.001 1.43e-07 ***\n",
       "---\n",
       "Signif. codes:  0 '***' 0.001 '**' 0.01 '*' 0.05 '.' 0.1 ' ' 1\n",
       "\n",
       "Residual standard error: 1.807 on 57 degrees of freedom\n",
       "Multiple R-squared:  0.6767,\tAdjusted R-squared:  0.6654 \n",
       "F-statistic: 59.66 on 2 and 57 DF,  p-value: 1.055e-14\n"
      ]
     },
     "metadata": {},
     "output_type": "display_data"
    }
   ],
   "source": [
    "m = lm(y~x1+x2)\n",
    "summary(m)"
   ]
  },
  {
   "cell_type": "markdown",
   "id": "c4b4a25e-ce29-46cf-85ce-3c3073fbd46e",
   "metadata": {},
   "source": [
    "$\\hat{y}=13.55000+0.34143x_1+2.80000x_2$"
   ]
  },
  {
   "cell_type": "code",
   "execution_count": 97,
   "id": "57d33c78-8ed0-4ccb-a76c-41d88cf21ee0",
   "metadata": {},
   "outputs": [
    {
     "data": {
      "text/html": [
       "<table class=\"dataframe\">\n",
       "<caption>A anova: 2 × 6</caption>\n",
       "<thead>\n",
       "\t<tr><th></th><th scope=col>Res.Df</th><th scope=col>RSS</th><th scope=col>Df</th><th scope=col>Sum of Sq</th><th scope=col>F</th><th scope=col>Pr(&gt;F)</th></tr>\n",
       "\t<tr><th></th><th scope=col>&lt;dbl&gt;</th><th scope=col>&lt;dbl&gt;</th><th scope=col>&lt;dbl&gt;</th><th scope=col>&lt;dbl&gt;</th><th scope=col>&lt;dbl&gt;</th><th scope=col>&lt;dbl&gt;</th></tr>\n",
       "</thead>\n",
       "<tbody>\n",
       "\t<tr><th scope=row>1</th><td>59</td><td>575.7333</td><td>NA</td><td>      NA</td><td>      NA</td><td>          NA</td></tr>\n",
       "\t<tr><th scope=row>2</th><td>57</td><td>186.1286</td><td> 2</td><td>389.6048</td><td>59.65627</td><td>1.055268e-14</td></tr>\n",
       "</tbody>\n",
       "</table>\n"
      ],
      "text/latex": [
       "A anova: 2 × 6\n",
       "\\begin{tabular}{r|llllll}\n",
       "  & Res.Df & RSS & Df & Sum of Sq & F & Pr(>F)\\\\\n",
       "  & <dbl> & <dbl> & <dbl> & <dbl> & <dbl> & <dbl>\\\\\n",
       "\\hline\n",
       "\t1 & 59 & 575.7333 & NA &       NA &       NA &           NA\\\\\n",
       "\t2 & 57 & 186.1286 &  2 & 389.6048 & 59.65627 & 1.055268e-14\\\\\n",
       "\\end{tabular}\n"
      ],
      "text/markdown": [
       "\n",
       "A anova: 2 × 6\n",
       "\n",
       "| <!--/--> | Res.Df &lt;dbl&gt; | RSS &lt;dbl&gt; | Df &lt;dbl&gt; | Sum of Sq &lt;dbl&gt; | F &lt;dbl&gt; | Pr(&gt;F) &lt;dbl&gt; |\n",
       "|---|---|---|---|---|---|---|\n",
       "| 1 | 59 | 575.7333 | NA |       NA |       NA |           NA |\n",
       "| 2 | 57 | 186.1286 |  2 | 389.6048 | 59.65627 | 1.055268e-14 |\n",
       "\n"
      ],
      "text/plain": [
       "  Res.Df RSS      Df Sum of Sq F        Pr(>F)      \n",
       "1 59     575.7333 NA       NA        NA           NA\n",
       "2 57     186.1286  2 389.6048  59.65627 1.055268e-14"
      ]
     },
     "metadata": {},
     "output_type": "display_data"
    }
   ],
   "source": [
    "anova(m0, m)"
   ]
  },
  {
   "cell_type": "markdown",
   "id": "dc1da0af-07ce-4804-81fc-b1c394e688d9",
   "metadata": {},
   "source": [
    "`-` F통계량에 근거한 p-value가 거의 0이므로 회귀모형은 유의하다"
   ]
  },
  {
   "cell_type": "markdown",
   "id": "43ebe7f4-4c24-41c9-8435-a5dc48db3c17",
   "metadata": {},
   "source": [
    "### 3)"
   ]
  },
  {
   "cell_type": "code",
   "execution_count": 89,
   "id": "de89f376-554c-4dff-96dd-c57fc446d238",
   "metadata": {},
   "outputs": [
    {
     "data": {
      "text/plain": [
       "\n",
       "Call:\n",
       "lm(formula = y ~ x1 + x2)\n",
       "\n",
       "Residuals:\n",
       "    Min      1Q  Median      3Q     Max \n",
       "-3.3786 -1.0875 -0.0571  1.0857  3.7429 \n",
       "\n",
       "Coefficients:\n",
       "            Estimate Std. Error t value Pr(>|t|)    \n",
       "(Intercept) 13.55000    0.54711  24.766  < 2e-16 ***\n",
       "x1           0.34143    0.03741   9.127 9.59e-13 ***\n",
       "x2           2.80000    0.46658   6.001 1.43e-07 ***\n",
       "---\n",
       "Signif. codes:  0 '***' 0.001 '**' 0.01 '*' 0.05 '.' 0.1 ' ' 1\n",
       "\n",
       "Residual standard error: 1.807 on 57 degrees of freedom\n",
       "Multiple R-squared:  0.6767,\tAdjusted R-squared:  0.6654 \n",
       "F-statistic: 59.66 on 2 and 57 DF,  p-value: 1.055e-14\n"
      ]
     },
     "metadata": {},
     "output_type": "display_data"
    }
   ],
   "source": [
    "m = lm(y~x1+x2)\n",
    "summary(m)"
   ]
  },
  {
   "cell_type": "markdown",
   "id": "0c735451-92c7-4736-acd0-ff7fd23f94f2",
   "metadata": {},
   "source": [
    "$\\hat{y}=13.55000+0.34143x_1+2.80000x_2$"
   ]
  },
  {
   "cell_type": "markdown",
   "id": "e62584f6-0f49-45db-8b05-5a8fe24b577c",
   "metadata": {},
   "source": [
    "`-` F-통계량에 근거한 p-value가 거의 0이므로 회귀모형은 유의하다\n",
    "\n",
    "`-` A안정제보다 B안정제인 경우 실험용동물의 평균불안도가 2.8 더 높다"
   ]
  },
  {
   "cell_type": "markdown",
   "id": "07b4ffb5-1d04-4ba4-9781-7584b1920bb5",
   "metadata": {},
   "source": [
    "### 4)"
   ]
  },
  {
   "cell_type": "code",
   "execution_count": 90,
   "id": "fad62dcc-d872-4028-a44d-8a99eaa4f39c",
   "metadata": {},
   "outputs": [],
   "source": [
    "x12 = x1*x2"
   ]
  },
  {
   "cell_type": "code",
   "execution_count": 91,
   "id": "67150fc0-60f9-4f5a-a6e5-927d03b206fe",
   "metadata": {},
   "outputs": [
    {
     "data": {
      "text/plain": [
       "\n",
       "Call:\n",
       "lm(formula = y ~ x1 + x2 + x12)\n",
       "\n",
       "Residuals:\n",
       "    Min      1Q  Median      3Q     Max \n",
       "-3.2571 -1.2143 -0.1286  0.8893  3.4857 \n",
       "\n",
       "Coefficients:\n",
       "            Estimate Std. Error t value Pr(>|t|)    \n",
       "(Intercept) 15.30000    0.59828  25.573  < 2e-16 ***\n",
       "x1           0.19143    0.04523   4.233 8.65e-05 ***\n",
       "x2          -0.70000    0.84609  -0.827    0.412    \n",
       "x12          0.30000    0.06396   4.691 1.79e-05 ***\n",
       "---\n",
       "Signif. codes:  0 '***' 0.001 '**' 0.01 '*' 0.05 '.' 0.1 ' ' 1\n",
       "\n",
       "Residual standard error: 1.545 on 56 degrees of freedom\n",
       "Multiple R-squared:  0.7679,\tAdjusted R-squared:  0.7555 \n",
       "F-statistic: 61.76 on 3 and 56 DF,  p-value: < 2.2e-16\n"
      ]
     },
     "metadata": {},
     "output_type": "display_data"
    }
   ],
   "source": [
    "m2 = lm(y~x1+x2+x12)\n",
    "summary(m2)"
   ]
  },
  {
   "cell_type": "markdown",
   "id": "522f8604-83c4-4ff7-872b-fa1b9d622b09",
   "metadata": {},
   "source": [
    "`-` 교호작용항(x12)의 검정통계량에 근거한 p-value가 거의 0이므로 교호작용이 있다고 할 수 있따"
   ]
  },
  {
   "cell_type": "markdown",
   "id": "328b3b8c-06a2-4b7b-bc5a-ba7b898a2478",
   "metadata": {},
   "source": [
    "## 10.7"
   ]
  },
  {
   "cell_type": "code",
   "execution_count": 165,
   "id": "c424723e-e99b-425b-acc0-92e4d8e4926d",
   "metadata": {},
   "outputs": [],
   "source": [
    "x = c(1, 2, 3, 4, 5, 6)"
   ]
  },
  {
   "cell_type": "code",
   "execution_count": 166,
   "id": "9a3b911d-27dd-4aee-bcd4-91077d95b64a",
   "metadata": {},
   "outputs": [],
   "source": [
    "p_mean = c(15/250, 20/252, 18/151, 25/204, 32/202, 40/195)"
   ]
  },
  {
   "cell_type": "markdown",
   "id": "74d63f05-bba4-4585-9635-8873192bcbe9",
   "metadata": {},
   "source": [
    "### 1)"
   ]
  },
  {
   "cell_type": "code",
   "execution_count": 167,
   "id": "f3a39b82-bf17-4e66-9f22-afb92d825953",
   "metadata": {},
   "outputs": [],
   "source": [
    "logit = function(x) log(x/(1-x))"
   ]
  },
  {
   "cell_type": "code",
   "execution_count": 168,
   "id": "fe51f16c-de21-4c7f-a8e3-db31a6745709",
   "metadata": {},
   "outputs": [
    {
     "data": {
      "text/plain": [
       "\n",
       "Call:\n",
       "lm(formula = logit(p_mean) ~ x)\n",
       "\n",
       "Residuals:\n",
       "        1         2         3         4         5         6 \n",
       "-0.050412 -0.017289  0.166332 -0.069607 -0.038567  0.009543 \n",
       "\n",
       "Coefficients:\n",
       "            Estimate Std. Error t value Pr(>|t|)    \n",
       "(Intercept) -2.96853    0.08945  -33.19 4.92e-06 ***\n",
       "x            0.26741    0.02297   11.64 0.000311 ***\n",
       "---\n",
       "Signif. codes:  0 '***' 0.001 '**' 0.01 '*' 0.05 '.' 0.1 ' ' 1\n",
       "\n",
       "Residual standard error: 0.09609 on 4 degrees of freedom\n",
       "Multiple R-squared:  0.9713,\tAdjusted R-squared:  0.9642 \n",
       "F-statistic: 135.5 on 1 and 4 DF,  p-value: 0.0003111\n"
      ]
     },
     "metadata": {},
     "output_type": "display_data"
    }
   ],
   "source": [
    "m_logit = lm(logit(p_mean)~x)\n",
    "summary(m_logit)"
   ]
  },
  {
   "cell_type": "markdown",
   "id": "46e4708c-91aa-4358-9308-1451a90ed0ff",
   "metadata": {},
   "source": [
    "{% raw %}\n",
    "\n",
    "`-` 로짓회귀식은 $\\hat{{p}^{*}}=-2.96853+ 0.26741 x$ 이다\n",
    "\n",
    "`-` 로지스틱 반응함수는 $\\hat{y}=\\cfrac{e^{-2.96853+ 0.26741x}}{1+e^{-2.96853+ 0.26741x}}$ 이다\n",
    "\n",
    "{% endraw %}"
   ]
  },
  {
   "cell_type": "markdown",
   "id": "dc685340-ba2e-4c59-92a1-a4f82169609a",
   "metadata": {},
   "source": [
    "### 2)"
   ]
  },
  {
   "cell_type": "code",
   "execution_count": 169,
   "id": "ff88d075-5721-4e5a-8670-90f26b7d20af",
   "metadata": {},
   "outputs": [],
   "source": [
    "logistic = function(x) exp(-2.96853+0.26741*x) / (1+exp(-2.96853+0.26741*x))"
   ]
  },
  {
   "cell_type": "code",
   "execution_count": 180,
   "id": "81cf9428-ad81-4b72-a194-d30a62e3bbdf",
   "metadata": {
    "tags": []
   },
   "outputs": [
    {
     "data": {
      "text/html": [
       "<strong>1:</strong> 0.0299936908243327"
      ],
      "text/latex": [
       "\\textbf{1:} 0.0299936908243327"
      ],
      "text/markdown": [
       "**1:** 0.0299936908243327"
      ],
      "text/plain": [
       "         1 \n",
       "0.02999369 "
      ]
     },
     "metadata": {},
     "output_type": "display_data"
    }
   ],
   "source": [
    "newdata = data.frame(x = 4)\n",
    "predict_ = predict(m_logit, newdata = newdata)\n",
    "#predict_ \n",
    "logistic(predict_)"
   ]
  },
  {
   "cell_type": "markdown",
   "id": "df2a4309-e903-414d-bf43-5bea572227a2",
   "metadata": {},
   "source": [
    "`-` 문제의 확률은 $0.0299936908243327$ 이다"
   ]
  },
  {
   "cell_type": "markdown",
   "id": "432c20c4-4a31-4ec7-898b-609814076b6d",
   "metadata": {},
   "source": [
    "### 3)"
   ]
  },
  {
   "cell_type": "code",
   "execution_count": 177,
   "id": "920c8908-df0e-4cb3-99d9-a252fc93a5d3",
   "metadata": {},
   "outputs": [
    {
     "data": {
      "image/png": "[encoded data removed]",
      "text/plain": [
       "plot without title"
      ]
     },
     "metadata": {
      "image/png": {
       "height": 420,
       "width": 420
      }
     },
     "output_type": "display_data"
    }
   ],
   "source": [
    "plot(x, logit(p_mean))\n",
    "abline(m_logit, col = 'red')"
   ]
  },
  {
   "cell_type": "code",
   "execution_count": 179,
   "id": "28a3c915-a32d-4e6c-a483-a28f2ab71978",
   "metadata": {},
   "outputs": [
    {
     "data": {
      "text/html": [
       "<table class=\"dataframe\">\n",
       "<caption>A anova: 2 × 5</caption>\n",
       "<thead>\n",
       "\t<tr><th></th><th scope=col>Df</th><th scope=col>Sum Sq</th><th scope=col>Mean Sq</th><th scope=col>F value</th><th scope=col>Pr(&gt;F)</th></tr>\n",
       "\t<tr><th></th><th scope=col>&lt;int&gt;</th><th scope=col>&lt;dbl&gt;</th><th scope=col>&lt;dbl&gt;</th><th scope=col>&lt;dbl&gt;</th><th scope=col>&lt;dbl&gt;</th></tr>\n",
       "</thead>\n",
       "<tbody>\n",
       "\t<tr><th scope=row>x</th><td>1</td><td>1.25136337</td><td>1.251363368</td><td>135.5378</td><td>0.0003111466</td></tr>\n",
       "\t<tr><th scope=row>Residuals</th><td>4</td><td>0.03693031</td><td>0.009232577</td><td>      NA</td><td>          NA</td></tr>\n",
       "</tbody>\n",
       "</table>\n"
      ],
      "text/latex": [
       "A anova: 2 × 5\n",
       "\\begin{tabular}{r|lllll}\n",
       "  & Df & Sum Sq & Mean Sq & F value & Pr(>F)\\\\\n",
       "  & <int> & <dbl> & <dbl> & <dbl> & <dbl>\\\\\n",
       "\\hline\n",
       "\tx & 1 & 1.25136337 & 1.251363368 & 135.5378 & 0.0003111466\\\\\n",
       "\tResiduals & 4 & 0.03693031 & 0.009232577 &       NA &           NA\\\\\n",
       "\\end{tabular}\n"
      ],
      "text/markdown": [
       "\n",
       "A anova: 2 × 5\n",
       "\n",
       "| <!--/--> | Df &lt;int&gt; | Sum Sq &lt;dbl&gt; | Mean Sq &lt;dbl&gt; | F value &lt;dbl&gt; | Pr(&gt;F) &lt;dbl&gt; |\n",
       "|---|---|---|---|---|---|\n",
       "| x | 1 | 1.25136337 | 1.251363368 | 135.5378 | 0.0003111466 |\n",
       "| Residuals | 4 | 0.03693031 | 0.009232577 |       NA |           NA |\n",
       "\n"
      ],
      "text/plain": [
       "          Df Sum Sq     Mean Sq     F value  Pr(>F)      \n",
       "x         1  1.25136337 1.251363368 135.5378 0.0003111466\n",
       "Residuals 4  0.03693031 0.009232577       NA           NA"
      ]
     },
     "metadata": {},
     "output_type": "display_data"
    }
   ],
   "source": [
    "anova(m_logit)"
   ]
  },
  {
   "cell_type": "markdown",
   "id": "dd2c67cf-3111-42c6-98a3-df2fd31810ec",
   "metadata": {},
   "source": [
    "`-` 로지스틱 회귀모형에서 F통계량에 근거한 p-value가 0.000311로 매우 작으므로 회귀모형은 유의하다\n",
    "\n",
    "`-` 로지스틱 반응함수를 적합시키는 것이 타당하다"
   ]
  },
  {
   "cell_type": "code",
   "execution_count": null,
   "id": "3fce28af-14b6-4eb7-a65b-6c5cc3aa2048",
   "metadata": {},
   "outputs": [],
   "source": []
  }
 ],
 "metadata": {
  "kernelspec": {
   "display_name": "R",
   "language": "R",
   "name": "ir"
  },
  "language_info": {
   "codemirror_mode": "r",
   "file_extension": ".r",
   "mimetype": "text/x-r-source",
   "name": "R",
   "pygments_lexer": "r",
   "version": "4.0.5"
  }
 },
 "nbformat": 4,
 "nbformat_minor": 5
}
