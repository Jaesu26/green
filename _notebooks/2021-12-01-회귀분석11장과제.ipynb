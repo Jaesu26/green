{
 "cells": [
  {
   "cell_type": "markdown",
   "id": "90c7acbd-6d2f-4a41-81a1-ca3411b7c38f",
   "metadata": {
    "tags": []
   },
   "source": [
    "# 회귀분석 11장 과제\n",
    "\n",
    "> \"작성 완료\"\n",
    "\n",
    "- toc: true\n",
    "- branch: master\n",
    "- badges: true\n",
    "- comments: true\n",
    "- author: 한재수\n",
    "- categories: [R, statistics]"
   ]
  },
  {
   "cell_type": "markdown",
   "id": "98d05e68-2f28-460e-abcf-4e6dbc41348f",
   "metadata": {},
   "source": [
    "## 11.1"
   ]
  },
  {
   "cell_type": "markdown",
   "id": "d36e8154-1c95-4521-a0d2-e7e85d3c6f1e",
   "metadata": {},
   "source": [
    "### 1)"
   ]
  },
  {
   "cell_type": "code",
   "execution_count": 1,
   "id": "fcf2e84d-c1f7-4a49-ba8c-69e7fb3b5bec",
   "metadata": {},
   "outputs": [
    {
     "data": {
      "text/html": [
       "2311.92307692308"
      ],
      "text/latex": [
       "2311.92307692308"
      ],
      "text/markdown": [
       "2311.92307692308"
      ],
      "text/plain": [
       "[1] 2311.923"
      ]
     },
     "metadata": {},
     "output_type": "display_data"
    }
   ],
   "source": [
    "F = 1803.30/0.78\n",
    "F"
   ]
  },
  {
   "cell_type": "markdown",
   "id": "88e7579f-00a8-4068-a55b-1b967ab6ef21",
   "metadata": {},
   "source": [
    "`-` $F$ 검정통계량이 $F(3,21;0.05)$ 보다 크므로 가정된 모형은 타당하다고 할 수 있다"
   ]
  },
  {
   "cell_type": "markdown",
   "id": "edb9e01b-d372-4558-8bf6-a330434d5a58",
   "metadata": {},
   "source": [
    "### 2)"
   ]
  },
  {
   "cell_type": "markdown",
   "id": "e4a2b466-9933-47cf-89eb-053e1b20e11d",
   "metadata": {},
   "source": [
    "`-` $R^2=\\dfrac{5409.89}{5426.24}=0.996986863832046$ : 종속변수의 변동중에서 설명변수들도 설명가능한 변동의 비율을 나타낸다, 설명변수들로 종속변수의 변동중 99%를 설명할 수 있다\n",
    "\n",
    "`-` $R^2_{a}= 1-\\left(\\dfrac{n-1}{n-p-1}\\right)(1-R^2)=0.996556415808052$ : 회귀모형에 추가된 독립변수가 유의할 때만 값이 증가하도록 만든 수정결정계수이다\n",
    "\n",
    "`-` $MSE=0.78$ : 회귀모형 오차항의 $\\sigma^2$의 추정량을 의미한다\n",
    "\n",
    "`-` $C_p=\\dfrac{1}{\\hat{\\sigma}^2}SSE_p-n+2(p+1)=3.96153846153846$ : 편향이 적은쪽으로 독립변수를 선택했을 때 $C_p$값이 $p+1$과 비슷해진다, $C_p$와 $p+1$이 비슷하므로 변수선택이 적절하다고 할 수 있다"
   ]
  },
  {
   "cell_type": "markdown",
   "id": "ed4e870b-c24d-4a1d-911a-32e350dfc152",
   "metadata": {},
   "source": [
    "## 11.5"
   ]
  },
  {
   "cell_type": "code",
   "execution_count": 183,
   "id": "81d3764b-7787-4eb9-82ab-93e6bf54fe98",
   "metadata": {},
   "outputs": [],
   "source": [
    "x1 = c(10, 8, 12, 7, 12, 8, 12, 5, 8, 5, 11, 12, 6, 10, 10)\n",
    "x2 = c(8, 6, 9, 16, 17, 15, 8, 10, 4, 16, 7, 12, 6, 4, 4)\n",
    "x3 = c(5.5, 2.5, 8.0, 3.0, 2.9, 3.0, 8.0, 9.0, 4.0, 6.5, 5.5, 5.0, 6.0, 5.0, 3.5)\n",
    "y = c(79, 200, 163, 200, 178, 146, 31, 292, 160, 339, 160, 86, 237, 107, 155)"
   ]
  },
  {
   "cell_type": "markdown",
   "id": "cde4e7f7-ceb2-49e6-b449-8a46da70dd85",
   "metadata": {},
   "source": [
    "### 1)"
   ]
  },
  {
   "cell_type": "code",
   "execution_count": 94,
   "id": "a775c1b9-de8b-4531-b3fb-44ad41dfe81c",
   "metadata": {},
   "outputs": [
    {
     "data": {
      "text/html": [
       "<table class=\"dataframe\">\n",
       "<caption>A anova: 2 × 6</caption>\n",
       "<thead>\n",
       "\t<tr><th></th><th scope=col>Res.Df</th><th scope=col>RSS</th><th scope=col>Df</th><th scope=col>Sum of Sq</th><th scope=col>F</th><th scope=col>Pr(&gt;F)</th></tr>\n",
       "\t<tr><th></th><th scope=col>&lt;dbl&gt;</th><th scope=col>&lt;dbl&gt;</th><th scope=col>&lt;dbl&gt;</th><th scope=col>&lt;dbl&gt;</th><th scope=col>&lt;dbl&gt;</th><th scope=col>&lt;dbl&gt;</th></tr>\n",
       "</thead>\n",
       "<tbody>\n",
       "\t<tr><th scope=row>1</th><td>14</td><td>89455.73</td><td>NA</td><td>     NA</td><td>      NA</td><td>        NA</td></tr>\n",
       "\t<tr><th scope=row>2</th><td>11</td><td>27853.53</td><td> 3</td><td>61602.2</td><td>8.109376</td><td>0.00395365</td></tr>\n",
       "</tbody>\n",
       "</table>\n"
      ],
      "text/latex": [
       "A anova: 2 × 6\n",
       "\\begin{tabular}{r|llllll}\n",
       "  & Res.Df & RSS & Df & Sum of Sq & F & Pr(>F)\\\\\n",
       "  & <dbl> & <dbl> & <dbl> & <dbl> & <dbl> & <dbl>\\\\\n",
       "\\hline\n",
       "\t1 & 14 & 89455.73 & NA &      NA &       NA &         NA\\\\\n",
       "\t2 & 11 & 27853.53 &  3 & 61602.2 & 8.109376 & 0.00395365\\\\\n",
       "\\end{tabular}\n"
      ],
      "text/markdown": [
       "\n",
       "A anova: 2 × 6\n",
       "\n",
       "| <!--/--> | Res.Df &lt;dbl&gt; | RSS &lt;dbl&gt; | Df &lt;dbl&gt; | Sum of Sq &lt;dbl&gt; | F &lt;dbl&gt; | Pr(&gt;F) &lt;dbl&gt; |\n",
       "|---|---|---|---|---|---|---|\n",
       "| 1 | 14 | 89455.73 | NA |      NA |       NA |         NA |\n",
       "| 2 | 11 | 27853.53 |  3 | 61602.2 | 8.109376 | 0.00395365 |\n",
       "\n"
      ],
      "text/plain": [
       "  Res.Df RSS      Df Sum of Sq F        Pr(>F)    \n",
       "1 14     89455.73 NA      NA         NA         NA\n",
       "2 11     27853.53  3 61602.2   8.109376 0.00395365"
      ]
     },
     "metadata": {},
     "output_type": "display_data"
    }
   ],
   "source": [
    "m = lm(y~x1+x2+x3)\n",
    "m0 = lm(y~1)\n",
    "anova(m0, m)"
   ]
  },
  {
   "cell_type": "markdown",
   "id": "00d646e1-4459-4d32-8a89-661d0736ed7e",
   "metadata": {},
   "source": [
    "`-` F 검정통계량에 근거한 p-value가 0.004로 0.05보다 작으므로 회귀모형은 유의하다 "
   ]
  },
  {
   "cell_type": "markdown",
   "id": "bc2d81ec-319e-48a0-9ff5-dbcbc65816a8",
   "metadata": {},
   "source": [
    "### 2)"
   ]
  },
  {
   "cell_type": "code",
   "execution_count": 95,
   "id": "4edb0886-e261-40f7-ac93-693fb30bae09",
   "metadata": {},
   "outputs": [
    {
     "data": {
      "text/html": [
       "-0.797609469285053"
      ],
      "text/latex": [
       "-0.797609469285053"
      ],
      "text/markdown": [
       "-0.797609469285053"
      ],
      "text/plain": [
       "[1] -0.7976095"
      ]
     },
     "metadata": {},
     "output_type": "display_data"
    },
    {
     "data": {
      "text/html": [
       "0.305020196279035"
      ],
      "text/latex": [
       "0.305020196279035"
      ],
      "text/markdown": [
       "0.305020196279035"
      ],
      "text/plain": [
       "[1] 0.3050202"
      ]
     },
     "metadata": {},
     "output_type": "display_data"
    },
    {
     "data": {
      "text/html": [
       "0.109183317791606"
      ],
      "text/latex": [
       "0.109183317791606"
      ],
      "text/markdown": [
       "0.109183317791606"
      ],
      "text/plain": [
       "[1] 0.1091833"
      ]
     },
     "metadata": {},
     "output_type": "display_data"
    }
   ],
   "source": [
    "cor(x1, y); cor(x2, y); cor(x3, y)"
   ]
  },
  {
   "cell_type": "markdown",
   "id": "a6306b10-eb59-4a51-89e1-6ba46a87ace2",
   "metadata": {},
   "source": [
    "`-` x1과 y의 상관관계가 제일 높으므로 y와 독립변수 x1만을 사용하여 회귀모형을 만든다 "
   ]
  },
  {
   "cell_type": "code",
   "execution_count": 96,
   "id": "df28a865-aab1-4cb1-a1ab-decb74ef3d59",
   "metadata": {},
   "outputs": [
    {
     "data": {
      "text/plain": [
       "\n",
       "Call:\n",
       "lm(formula = y ~ x1)\n",
       "\n",
       "Residuals:\n",
       "    Min      1Q  Median      3Q     Max \n",
       "-66.518 -37.034  -8.585  30.449  82.516 \n",
       "\n",
       "Coefficients:\n",
       "            Estimate Std. Error t value Pr(>|t|)    \n",
       "(Intercept)  395.686     49.296   8.027 2.16e-06 ***\n",
       "x1           -25.017      5.247  -4.768 0.000367 ***\n",
       "---\n",
       "Signif. codes:  0 '***' 0.001 '**' 0.01 '*' 0.05 '.' 0.1 ' ' 1\n",
       "\n",
       "Residual standard error: 50.04 on 13 degrees of freedom\n",
       "Multiple R-squared:  0.6362,\tAdjusted R-squared:  0.6082 \n",
       "F-statistic: 22.73 on 1 and 13 DF,  p-value: 0.0003675\n"
      ]
     },
     "metadata": {},
     "output_type": "display_data"
    }
   ],
   "source": [
    "m1 = lm(y~x1)\n",
    "summary(m1)"
   ]
  },
  {
   "cell_type": "markdown",
   "id": "95998bcd-a949-42c5-9db3-67c3342b3841",
   "metadata": {},
   "source": [
    "`-` F 검정통계량에 근거한 p-value가 매우 작으므로 추정된 회귀모형은 유의하다"
   ]
  },
  {
   "cell_type": "code",
   "execution_count": 97,
   "id": "caa7fd9e-9826-4507-ae87-37ef6d34a882",
   "metadata": {},
   "outputs": [
    {
     "data": {
      "text/plain": [
       "\n",
       "Call:\n",
       "lm(formula = y ~ x1 + x2)\n",
       "\n",
       "Residuals:\n",
       "    Min      1Q  Median      3Q     Max \n",
       "-68.626 -31.714   6.395  37.622  66.819 \n",
       "\n",
       "Coefficients:\n",
       "            Estimate Std. Error t value Pr(>|t|)    \n",
       "(Intercept)  354.219     58.101   6.097 5.36e-05 ***\n",
       "x1           -24.206      5.164  -4.687 0.000526 ***\n",
       "x2             3.604      2.826   1.275 0.226350    \n",
       "---\n",
       "Signif. codes:  0 '***' 0.001 '**' 0.01 '*' 0.05 '.' 0.1 ' ' 1\n",
       "\n",
       "Residual standard error: 48.87 on 12 degrees of freedom\n",
       "Multiple R-squared:  0.6796,\tAdjusted R-squared:  0.6262 \n",
       "F-statistic: 12.73 on 2 and 12 DF,  p-value: 0.001082\n"
      ]
     },
     "metadata": {},
     "output_type": "display_data"
    }
   ],
   "source": [
    "m2 = lm(y~x1+x2); summary(m2)"
   ]
  },
  {
   "cell_type": "markdown",
   "id": "95613674-4462-4e4e-95b7-218a4984b935",
   "metadata": {},
   "source": [
    "`-` 결정계수는 0.6796이다"
   ]
  },
  {
   "cell_type": "code",
   "execution_count": 98,
   "id": "17e5e4c1-56d4-4cbb-9e5f-ccd5cede795c",
   "metadata": {},
   "outputs": [
    {
     "data": {
      "text/plain": [
       "\n",
       "Call:\n",
       "lm(formula = y ~ x1 + x3)\n",
       "\n",
       "Residuals:\n",
       "    Min      1Q  Median      3Q     Max \n",
       "-72.134 -35.326  -9.401  26.031  88.013 \n",
       "\n",
       "Coefficients:\n",
       "            Estimate Std. Error t value Pr(>|t|)    \n",
       "(Intercept)  381.367     63.243   6.030 5.94e-05 ***\n",
       "x1           -24.905      5.436  -4.581 0.000631 ***\n",
       "x3             2.578      6.733   0.383 0.708529    \n",
       "---\n",
       "Signif. codes:  0 '***' 0.001 '**' 0.01 '*' 0.05 '.' 0.1 ' ' 1\n",
       "\n",
       "Residual standard error: 51.76 on 12 degrees of freedom\n",
       "Multiple R-squared:  0.6406,\tAdjusted R-squared:  0.5807 \n",
       "F-statistic: 10.69 on 2 and 12 DF,  p-value: 0.002156\n"
      ]
     },
     "metadata": {},
     "output_type": "display_data"
    }
   ],
   "source": [
    "m3 = lm(y~x1+x3); summary(m3)"
   ]
  },
  {
   "cell_type": "markdown",
   "id": "02f4f37a-f65b-421a-a8f1-8683ef6bffb5",
   "metadata": {},
   "source": [
    "`-` 결정계수는 0.6406이다\n",
    "\n",
    "`-` x1과 x2를 사용한 회귀모형의 결정계수가 x1과 x3를 사용한 회귀모형의 결정계수보다 크므로 x2를 추가할 독립변수로 선택한다"
   ]
  },
  {
   "cell_type": "code",
   "execution_count": 99,
   "id": "3e9e576b-eb87-464b-926e-e6162dfe6e7b",
   "metadata": {},
   "outputs": [
    {
     "data": {
      "text/plain": [
       "\n",
       "Call:\n",
       "lm(formula = y ~ x1 + x2)\n",
       "\n",
       "Residuals:\n",
       "    Min      1Q  Median      3Q     Max \n",
       "-68.626 -31.714   6.395  37.622  66.819 \n",
       "\n",
       "Coefficients:\n",
       "            Estimate Std. Error t value Pr(>|t|)    \n",
       "(Intercept)  354.219     58.101   6.097 5.36e-05 ***\n",
       "x1           -24.206      5.164  -4.687 0.000526 ***\n",
       "x2             3.604      2.826   1.275 0.226350    \n",
       "---\n",
       "Signif. codes:  0 '***' 0.001 '**' 0.01 '*' 0.05 '.' 0.1 ' ' 1\n",
       "\n",
       "Residual standard error: 48.87 on 12 degrees of freedom\n",
       "Multiple R-squared:  0.6796,\tAdjusted R-squared:  0.6262 \n",
       "F-statistic: 12.73 on 2 and 12 DF,  p-value: 0.001082\n"
      ]
     },
     "metadata": {},
     "output_type": "display_data"
    }
   ],
   "source": [
    "summary(m2)"
   ]
  },
  {
   "cell_type": "markdown",
   "id": "c612b976-ad3e-4282-9cd0-6b088f270147",
   "metadata": {},
   "source": [
    "`-` 독립변수가 x2가 유의한지 검정하는 t통계량이 1.275이고 이에 대한 p-value가 0.05보다 크다\n",
    "\n",
    "`-` 따라서 변수선택 절차는 여기서 끝나며 선택된 변수는 x1이고 회귀모형은 다음과 같다\n",
    "\n",
    "`-` $\\hat{y}=395.686-25.017x_1$"
   ]
  },
  {
   "cell_type": "markdown",
   "id": "e61dfb49-9fdc-4a13-9d34-11f23844fbac",
   "metadata": {},
   "source": [
    "### 3)"
   ]
  },
  {
   "cell_type": "code",
   "execution_count": 100,
   "id": "c4a6f38c-2887-42ae-8e17-6f33e02ab8bf",
   "metadata": {},
   "outputs": [
    {
     "data": {
      "text/plain": [
       "\n",
       "Call:\n",
       "lm(formula = y ~ x1 + x2 + x3)\n",
       "\n",
       "Residuals:\n",
       "    Min      1Q  Median      3Q     Max \n",
       "-72.470 -28.485   4.682  39.100  59.125 \n",
       "\n",
       "Coefficients:\n",
       "            Estimate Std. Error t value Pr(>|t|)    \n",
       "(Intercept)  330.940     72.646   4.555 0.000823 ***\n",
       "x1           -23.993      5.331  -4.501 0.000900 ***\n",
       "x2             3.826      2.936   1.303 0.219172    \n",
       "x3             3.731      6.605   0.565 0.583528    \n",
       "---\n",
       "Signif. codes:  0 '***' 0.001 '**' 0.01 '*' 0.05 '.' 0.1 ' ' 1\n",
       "\n",
       "Residual standard error: 50.32 on 11 degrees of freedom\n",
       "Multiple R-squared:  0.6886,\tAdjusted R-squared:  0.6037 \n",
       "F-statistic: 8.109 on 3 and 11 DF,  p-value: 0.003954\n"
      ]
     },
     "metadata": {},
     "output_type": "display_data"
    }
   ],
   "source": [
    "m = lm(y~x1+x2+x3)\n",
    "summary(m)"
   ]
  },
  {
   "cell_type": "markdown",
   "id": "ceafeefe-2e0c-4c96-8431-88a1f4c72a82",
   "metadata": {},
   "source": [
    "`-` 위의 회귀모형에서 독립변수x3에 대한 t검정통계량에 근거한 p-value가 유의하지 않으면서 가장 크므로 x3를 회귀모형에서 제거한다"
   ]
  },
  {
   "cell_type": "code",
   "execution_count": 101,
   "id": "5c45cf3b-6fb2-4086-a50d-e761f5d49fdf",
   "metadata": {},
   "outputs": [
    {
     "data": {
      "text/plain": [
       "\n",
       "Call:\n",
       "lm(formula = y ~ x1 + x2)\n",
       "\n",
       "Residuals:\n",
       "    Min      1Q  Median      3Q     Max \n",
       "-68.626 -31.714   6.395  37.622  66.819 \n",
       "\n",
       "Coefficients:\n",
       "            Estimate Std. Error t value Pr(>|t|)    \n",
       "(Intercept)  354.219     58.101   6.097 5.36e-05 ***\n",
       "x1           -24.206      5.164  -4.687 0.000526 ***\n",
       "x2             3.604      2.826   1.275 0.226350    \n",
       "---\n",
       "Signif. codes:  0 '***' 0.001 '**' 0.01 '*' 0.05 '.' 0.1 ' ' 1\n",
       "\n",
       "Residual standard error: 48.87 on 12 degrees of freedom\n",
       "Multiple R-squared:  0.6796,\tAdjusted R-squared:  0.6262 \n",
       "F-statistic: 12.73 on 2 and 12 DF,  p-value: 0.001082\n"
      ]
     },
     "metadata": {},
     "output_type": "display_data"
    }
   ],
   "source": [
    "m = lm(y~x1+x2)\n",
    "summary(m)"
   ]
  },
  {
   "cell_type": "markdown",
   "id": "3aed277e-b7b0-44a0-9cfc-842d3927e2ba",
   "metadata": {},
   "source": [
    "`-` 위의 회귀모형에서 독립변수x2에 대한 t검정통계량에 근거한 p-value가 유의하지 않으면서 가장 크므로 x2를 회귀모형에서 제거한다"
   ]
  },
  {
   "cell_type": "code",
   "execution_count": 102,
   "id": "d294fa52-ddc7-4cd1-843d-f20d481fa504",
   "metadata": {},
   "outputs": [
    {
     "data": {
      "text/plain": [
       "\n",
       "Call:\n",
       "lm(formula = y ~ x1)\n",
       "\n",
       "Residuals:\n",
       "    Min      1Q  Median      3Q     Max \n",
       "-66.518 -37.034  -8.585  30.449  82.516 \n",
       "\n",
       "Coefficients:\n",
       "            Estimate Std. Error t value Pr(>|t|)    \n",
       "(Intercept)  395.686     49.296   8.027 2.16e-06 ***\n",
       "x1           -25.017      5.247  -4.768 0.000367 ***\n",
       "---\n",
       "Signif. codes:  0 '***' 0.001 '**' 0.01 '*' 0.05 '.' 0.1 ' ' 1\n",
       "\n",
       "Residual standard error: 50.04 on 13 degrees of freedom\n",
       "Multiple R-squared:  0.6362,\tAdjusted R-squared:  0.6082 \n",
       "F-statistic: 22.73 on 1 and 13 DF,  p-value: 0.0003675\n"
      ]
     },
     "metadata": {},
     "output_type": "display_data"
    }
   ],
   "source": [
    "m = lm(y~x1)\n",
    "summary(m)"
   ]
  },
  {
   "cell_type": "markdown",
   "id": "49cd3b9e-8925-4df0-8a30-d6c5c04b21ec",
   "metadata": {},
   "source": [
    "`-` 위의 회귀모형에서 독립변수x1에 대한 t검정통계량에 근거한 p-value가 유의하다\n",
    "\n",
    "`-` 따라서 선택된 모형은 $\\hat{y}=395.686-25.017x_1$이다"
   ]
  },
  {
   "cell_type": "markdown",
   "id": "f7bb3191-7582-493f-a724-8fd3c9544331",
   "metadata": {
    "tags": []
   },
   "source": [
    "### 4)"
   ]
  },
  {
   "cell_type": "code",
   "execution_count": 103,
   "id": "409a8c8c-2813-4287-905d-c6430ee45700",
   "metadata": {},
   "outputs": [
    {
     "data": {
      "text/html": [
       "-0.797609469285053"
      ],
      "text/latex": [
       "-0.797609469285053"
      ],
      "text/markdown": [
       "-0.797609469285053"
      ],
      "text/plain": [
       "[1] -0.7976095"
      ]
     },
     "metadata": {},
     "output_type": "display_data"
    },
    {
     "data": {
      "text/html": [
       "0.305020196279035"
      ],
      "text/latex": [
       "0.305020196279035"
      ],
      "text/markdown": [
       "0.305020196279035"
      ],
      "text/plain": [
       "[1] 0.3050202"
      ]
     },
     "metadata": {},
     "output_type": "display_data"
    },
    {
     "data": {
      "text/html": [
       "0.109183317791606"
      ],
      "text/latex": [
       "0.109183317791606"
      ],
      "text/markdown": [
       "0.109183317791606"
      ],
      "text/plain": [
       "[1] 0.1091833"
      ]
     },
     "metadata": {},
     "output_type": "display_data"
    }
   ],
   "source": [
    "cor(x1, y); cor(x2, y); cor(x3, y)"
   ]
  },
  {
   "cell_type": "markdown",
   "id": "42873b59-8583-4b5e-b48c-24b5ccdb51f9",
   "metadata": {},
   "source": [
    "`-` x1과 y의 상관관계가 제일 높으므로 y와 독립변수 x1만을 사용하여 회귀모형을 만든다 "
   ]
  },
  {
   "cell_type": "code",
   "execution_count": 104,
   "id": "cf9538c4-3d97-4453-a01d-3940616f30fb",
   "metadata": {},
   "outputs": [
    {
     "data": {
      "text/plain": [
       "\n",
       "Call:\n",
       "lm(formula = y ~ x1)\n",
       "\n",
       "Residuals:\n",
       "    Min      1Q  Median      3Q     Max \n",
       "-66.518 -37.034  -8.585  30.449  82.516 \n",
       "\n",
       "Coefficients:\n",
       "            Estimate Std. Error t value Pr(>|t|)    \n",
       "(Intercept)  395.686     49.296   8.027 2.16e-06 ***\n",
       "x1           -25.017      5.247  -4.768 0.000367 ***\n",
       "---\n",
       "Signif. codes:  0 '***' 0.001 '**' 0.01 '*' 0.05 '.' 0.1 ' ' 1\n",
       "\n",
       "Residual standard error: 50.04 on 13 degrees of freedom\n",
       "Multiple R-squared:  0.6362,\tAdjusted R-squared:  0.6082 \n",
       "F-statistic: 22.73 on 1 and 13 DF,  p-value: 0.0003675\n"
      ]
     },
     "metadata": {},
     "output_type": "display_data"
    }
   ],
   "source": [
    "m1 = lm(y~x1)\n",
    "summary(m1)"
   ]
  },
  {
   "cell_type": "markdown",
   "id": "7275a253-57da-4d82-96aa-08efa45fd827",
   "metadata": {},
   "source": [
    "`-` F 검정통계량에 근거한 p-value가 매우 작으므로 추정된 회귀모형은 유의하다"
   ]
  },
  {
   "cell_type": "code",
   "execution_count": 105,
   "id": "896ce15a-2b35-4470-ba69-8788eeddd7df",
   "metadata": {},
   "outputs": [
    {
     "data": {
      "text/plain": [
       "\n",
       "Call:\n",
       "lm(formula = y ~ x1 + x2)\n",
       "\n",
       "Residuals:\n",
       "    Min      1Q  Median      3Q     Max \n",
       "-68.626 -31.714   6.395  37.622  66.819 \n",
       "\n",
       "Coefficients:\n",
       "            Estimate Std. Error t value Pr(>|t|)    \n",
       "(Intercept)  354.219     58.101   6.097 5.36e-05 ***\n",
       "x1           -24.206      5.164  -4.687 0.000526 ***\n",
       "x2             3.604      2.826   1.275 0.226350    \n",
       "---\n",
       "Signif. codes:  0 '***' 0.001 '**' 0.01 '*' 0.05 '.' 0.1 ' ' 1\n",
       "\n",
       "Residual standard error: 48.87 on 12 degrees of freedom\n",
       "Multiple R-squared:  0.6796,\tAdjusted R-squared:  0.6262 \n",
       "F-statistic: 12.73 on 2 and 12 DF,  p-value: 0.001082\n"
      ]
     },
     "metadata": {},
     "output_type": "display_data"
    }
   ],
   "source": [
    "m2 = lm(y~x1+x2); summary(m2)"
   ]
  },
  {
   "cell_type": "markdown",
   "id": "dc9e14f7-1d70-4890-8b1c-2c8c8e4b2dd9",
   "metadata": {},
   "source": [
    "`-` 결정계수는 0.6785이다"
   ]
  },
  {
   "cell_type": "code",
   "execution_count": 106,
   "id": "83e5fafd-2edb-4306-84c9-47308619178a",
   "metadata": {},
   "outputs": [
    {
     "data": {
      "text/plain": [
       "\n",
       "Call:\n",
       "lm(formula = y ~ x1 + x3)\n",
       "\n",
       "Residuals:\n",
       "    Min      1Q  Median      3Q     Max \n",
       "-72.134 -35.326  -9.401  26.031  88.013 \n",
       "\n",
       "Coefficients:\n",
       "            Estimate Std. Error t value Pr(>|t|)    \n",
       "(Intercept)  381.367     63.243   6.030 5.94e-05 ***\n",
       "x1           -24.905      5.436  -4.581 0.000631 ***\n",
       "x3             2.578      6.733   0.383 0.708529    \n",
       "---\n",
       "Signif. codes:  0 '***' 0.001 '**' 0.01 '*' 0.05 '.' 0.1 ' ' 1\n",
       "\n",
       "Residual standard error: 51.76 on 12 degrees of freedom\n",
       "Multiple R-squared:  0.6406,\tAdjusted R-squared:  0.5807 \n",
       "F-statistic: 10.69 on 2 and 12 DF,  p-value: 0.002156\n"
      ]
     },
     "metadata": {},
     "output_type": "display_data"
    }
   ],
   "source": [
    "m3 = lm(y~x1+x3); summary(m3)"
   ]
  },
  {
   "cell_type": "markdown",
   "id": "671f044b-2e0e-4862-8fc2-00425c135b21",
   "metadata": {},
   "source": [
    "`-` 결정계수는 0.6382이다\n",
    "\n",
    "`-` x1과 x2를 사용한 회귀모형의 결정계수가 x1과 x3를 사용한 회귀모형의 결정계수보다 크므로 x2를 추가할 독립변수로 선택한다"
   ]
  },
  {
   "cell_type": "code",
   "execution_count": 107,
   "id": "c52f8993-d5d2-4b32-9cbe-eb7a78bf45bd",
   "metadata": {},
   "outputs": [
    {
     "data": {
      "text/plain": [
       "\n",
       "Call:\n",
       "lm(formula = y ~ x1 + x2)\n",
       "\n",
       "Residuals:\n",
       "    Min      1Q  Median      3Q     Max \n",
       "-68.626 -31.714   6.395  37.622  66.819 \n",
       "\n",
       "Coefficients:\n",
       "            Estimate Std. Error t value Pr(>|t|)    \n",
       "(Intercept)  354.219     58.101   6.097 5.36e-05 ***\n",
       "x1           -24.206      5.164  -4.687 0.000526 ***\n",
       "x2             3.604      2.826   1.275 0.226350    \n",
       "---\n",
       "Signif. codes:  0 '***' 0.001 '**' 0.01 '*' 0.05 '.' 0.1 ' ' 1\n",
       "\n",
       "Residual standard error: 48.87 on 12 degrees of freedom\n",
       "Multiple R-squared:  0.6796,\tAdjusted R-squared:  0.6262 \n",
       "F-statistic: 12.73 on 2 and 12 DF,  p-value: 0.001082\n"
      ]
     },
     "metadata": {},
     "output_type": "display_data"
    }
   ],
   "source": [
    "summary(m2)"
   ]
  },
  {
   "cell_type": "markdown",
   "id": "fc12a1bd-1e30-4d1e-9164-188887b626e3",
   "metadata": {},
   "source": [
    "`-` 독립변수가 x2가 유의한지 검정하는 t통계량이 1.291이고 이에 대한 p-value가 0.05보다 크다\n",
    "\n",
    "`-` 따라서 변수선택 절차는 여기서 끝나며 선택된 변수는 x1이고 회귀모형은 다음과 같다\n",
    "\n",
    "`-` $\\hat{y}=394.569-24.916x_1$"
   ]
  },
  {
   "cell_type": "markdown",
   "id": "3adbe65e-77db-4195-94d9-fa96c8571f8d",
   "metadata": {
    "tags": []
   },
   "source": [
    "### 5)"
   ]
  },
  {
   "cell_type": "code",
   "execution_count": 122,
   "id": "88492b22-2da7-49fa-87a5-4dc93d57c014",
   "metadata": {},
   "outputs": [
    {
     "data": {
      "text/html": [
       "2532.13912572215"
      ],
      "text/latex": [
       "2532.13912572215"
      ],
      "text/markdown": [
       "2532.13912572215"
      ],
      "text/plain": [
       "[1] 2532.139"
      ]
     },
     "metadata": {},
     "output_type": "display_data"
    }
   ],
   "source": [
    "m = lm(y~x1+x2+x3)\n",
    "mse = anova(m0, m)[2,2] / 11\n",
    "mse"
   ]
  },
  {
   "cell_type": "markdown",
   "id": "53d7355b-0708-479e-9510-f5c0484363a4",
   "metadata": {},
   "source": [
    "`-` $P=1$ 일 때"
   ]
  },
  {
   "cell_type": "code",
   "execution_count": 136,
   "id": "85b866b2-b643-4b04-a3cc-31a4b0f17296",
   "metadata": {},
   "outputs": [],
   "source": [
    "p = 1"
   ]
  },
  {
   "cell_type": "code",
   "execution_count": 137,
   "id": "76a006a2-8da9-48d5-a54e-ce2ff9ffa206",
   "metadata": {},
   "outputs": [
    {
     "data": {
      "text/html": [
       "1.85304869207139"
      ],
      "text/latex": [
       "1.85304869207139"
      ],
      "text/markdown": [
       "1.85304869207139"
      ],
      "text/plain": [
       "[1] 1.853049"
      ]
     },
     "metadata": {},
     "output_type": "display_data"
    }
   ],
   "source": [
    "anova(m0, lm(y~x1))[2,2] / mse - 15 + 2*(p+1)"
   ]
  },
  {
   "cell_type": "code",
   "execution_count": 138,
   "id": "ca8627ec-8c6f-4a6f-ad5d-798328a56e52",
   "metadata": {},
   "outputs": [
    {
     "data": {
      "text/html": [
       "21.0412929956496"
      ],
      "text/latex": [
       "21.0412929956496"
      ],
      "text/markdown": [
       "21.0412929956496"
      ],
      "text/plain": [
       "[1] 21.04129"
      ]
     },
     "metadata": {},
     "output_type": "display_data"
    }
   ],
   "source": [
    "anova(m0, lm(y~x2))[2,2] / mse - 15 + 2*(p+1)"
   ]
  },
  {
   "cell_type": "code",
   "execution_count": 139,
   "id": "4a526611-ec06-48b1-b0f7-2a60df18f0b9",
   "metadata": {},
   "outputs": [
    {
     "data": {
      "text/html": [
       "23.9069807883499"
      ],
      "text/latex": [
       "23.9069807883499"
      ],
      "text/markdown": [
       "23.9069807883499"
      ],
      "text/plain": [
       "[1] 23.90698"
      ]
     },
     "metadata": {},
     "output_type": "display_data"
    }
   ],
   "source": [
    "anova(m0, lm(y~x3))[2,2] / mse - 15 + 2*(p+1)"
   ]
  },
  {
   "cell_type": "markdown",
   "id": "d8d02050-7996-43c6-a4d5-9d98f6c6b801",
   "metadata": {},
   "source": [
    "`-` $C_p$값이 $P+1$에 제일 가까운 $x_1$을 선택한다"
   ]
  },
  {
   "cell_type": "markdown",
   "id": "f24133ed-175b-498c-9b1a-880692f6f0e8",
   "metadata": {},
   "source": [
    "`-` $P=2$ 일 때"
   ]
  },
  {
   "cell_type": "code",
   "execution_count": 140,
   "id": "d9819f93-0062-4cbd-b18c-643856f25dce",
   "metadata": {},
   "outputs": [],
   "source": [
    "p = 2"
   ]
  },
  {
   "cell_type": "code",
   "execution_count": 141,
   "id": "04665893-ce20-43ff-98e9-7c537de3103a",
   "metadata": {},
   "outputs": [
    {
     "data": {
      "text/html": [
       "2.31902744143598"
      ],
      "text/latex": [
       "2.31902744143598"
      ],
      "text/markdown": [
       "2.31902744143598"
      ],
      "text/plain": [
       "[1] 2.319027"
      ]
     },
     "metadata": {},
     "output_type": "display_data"
    }
   ],
   "source": [
    "anova(m0, lm(y~x1+x2))[2,2] / mse - 15 + 2*(p+1)"
   ]
  },
  {
   "cell_type": "code",
   "execution_count": 142,
   "id": "26588edb-132a-42d5-aedd-057edfe027fb",
   "metadata": {},
   "outputs": [
    {
     "data": {
      "text/html": [
       "3.6979521236514"
      ],
      "text/latex": [
       "3.6979521236514"
      ],
      "text/markdown": [
       "3.6979521236514"
      ],
      "text/plain": [
       "[1] 3.697952"
      ]
     },
     "metadata": {},
     "output_type": "display_data"
    }
   ],
   "source": [
    "anova(m0, lm(y~x1+x3))[2,2] / mse - 15 + 2*(p+1)"
   ]
  },
  {
   "cell_type": "code",
   "execution_count": 143,
   "id": "4d5c6d62-e734-4ed6-aace-566b764c60ab",
   "metadata": {},
   "outputs": [
    {
     "data": {
      "text/html": [
       "22.2587157561623"
      ],
      "text/latex": [
       "22.2587157561623"
      ],
      "text/markdown": [
       "22.2587157561623"
      ],
      "text/plain": [
       "[1] 22.25872"
      ]
     },
     "metadata": {},
     "output_type": "display_data"
    }
   ],
   "source": [
    "anova(m0, lm(y~x2+x3))[2,2] / mse - 15 + 2*(p+1)"
   ]
  },
  {
   "cell_type": "markdown",
   "id": "3a62dc10-eb57-4980-a9bc-3987ef8555d5",
   "metadata": {},
   "source": [
    "`-` $C_p$값이 $P+1$에 제일 가까운 $x_1, x_2$를 선택한다"
   ]
  },
  {
   "cell_type": "markdown",
   "id": "6ace155a-7390-4a9f-bc99-b09a7c7c6ef8",
   "metadata": {},
   "source": [
    "`-` $P=3$ 일 때"
   ]
  },
  {
   "cell_type": "code",
   "execution_count": 144,
   "id": "bb9997c5-15d6-49ec-80c6-d8b0ffcadc08",
   "metadata": {},
   "outputs": [],
   "source": [
    "p = 3"
   ]
  },
  {
   "cell_type": "code",
   "execution_count": 145,
   "id": "9c78afe2-62d6-4dc0-91b0-ea94b6b6f797",
   "metadata": {},
   "outputs": [
    {
     "data": {
      "text/html": [
       "4"
      ],
      "text/latex": [
       "4"
      ],
      "text/markdown": [
       "4"
      ],
      "text/plain": [
       "[1] 4"
      ]
     },
     "metadata": {},
     "output_type": "display_data"
    }
   ],
   "source": [
    "anova(m0, lm(y~x1+x2+x3))[2,2] / mse - 15 + 2*(p+1)"
   ]
  },
  {
   "cell_type": "markdown",
   "id": "98875c92-5f30-4652-851b-bbc0430ea052",
   "metadata": {},
   "source": [
    "`-` $C_p$값이 $P+1$에 제일 가까운 $x_1, x_2, x_3$를 선택한다"
   ]
  },
  {
   "cell_type": "markdown",
   "id": "47d47a59-113c-411a-a202-3eb11b61fec4",
   "metadata": {},
   "source": [
    "### 6)"
   ]
  },
  {
   "cell_type": "code",
   "execution_count": 173,
   "id": "59510f61-605f-4f01-ab10-908e09235464",
   "metadata": {},
   "outputs": [],
   "source": [
    "n = 15"
   ]
  },
  {
   "cell_type": "markdown",
   "id": "1ada5048-5ebe-466a-8340-7e57ec73cbac",
   "metadata": {},
   "source": [
    "`-` $P=1$일 때"
   ]
  },
  {
   "cell_type": "code",
   "execution_count": 168,
   "id": "092be901-27ce-4a69-8d8d-9b4aac58fa12",
   "metadata": {},
   "outputs": [],
   "source": [
    "p = 1"
   ]
  },
  {
   "cell_type": "code",
   "execution_count": 169,
   "id": "03b3425e-c915-4a8d-9f89-0c03407172c6",
   "metadata": {},
   "outputs": [
    {
     "data": {
      "text/html": [
       "0.608194778223429"
      ],
      "text/latex": [
       "0.608194778223429"
      ],
      "text/markdown": [
       "0.608194778223429"
      ],
      "text/plain": [
       "[1] 0.6081948"
      ]
     },
     "metadata": {},
     "output_type": "display_data"
    }
   ],
   "source": [
    "r = summary(lm(y~x1))$r.squared\n",
    "1 - (n-1)/(n-p-1)*(1-r)"
   ]
  },
  {
   "cell_type": "code",
   "execution_count": 170,
   "id": "49bb577f-6b3b-4e11-b679-02ce66c0a0bb",
   "metadata": {},
   "outputs": [
    {
     "data": {
      "text/html": [
       "0.0232709601487241"
      ],
      "text/latex": [
       "0.0232709601487241"
      ],
      "text/markdown": [
       "0.0232709601487241"
      ],
      "text/plain": [
       "[1] 0.02327096"
      ]
     },
     "metadata": {},
     "output_type": "display_data"
    }
   ],
   "source": [
    "r = summary(lm(y~x2))$r.squared\n",
    "1 - (n-1)/(n-p-1)*(1-r)"
   ]
  },
  {
   "cell_type": "code",
   "execution_count": 171,
   "id": "9ae6429d-a7c1-43df-be2e-d949add6f2a7",
   "metadata": {},
   "outputs": [
    {
     "data": {
      "text/html": [
       "-0.0640850802787876"
      ],
      "text/latex": [
       "-0.0640850802787876"
      ],
      "text/markdown": [
       "-0.0640850802787876"
      ],
      "text/plain": [
       "[1] -0.06408508"
      ]
     },
     "metadata": {},
     "output_type": "display_data"
    }
   ],
   "source": [
    "r = summary(lm(y~x3))$r.squared\n",
    "1 - (n-1)/(n-p-1)*(1-r)"
   ]
  },
  {
   "cell_type": "markdown",
   "id": "d3febf9c-8933-4817-be89-ec667cb5075f",
   "metadata": {},
   "source": [
    "`-` $R_{ap}$가 제일큰 $x_1$을 선택한다"
   ]
  },
  {
   "cell_type": "markdown",
   "id": "9b00909e-447e-4654-8aca-5b55a9a21c98",
   "metadata": {},
   "source": [
    "`-` $P=2$일 때"
   ]
  },
  {
   "cell_type": "code",
   "execution_count": 174,
   "id": "fdf15f18-f6c2-48b0-ae63-110d693a3091",
   "metadata": {},
   "outputs": [],
   "source": [
    "p = 2"
   ]
  },
  {
   "cell_type": "code",
   "execution_count": 175,
   "id": "7063ad93-760c-49c1-98f8-a179e949b9c7",
   "metadata": {},
   "outputs": [
    {
     "data": {
      "text/html": [
       "0.626203452308853"
      ],
      "text/latex": [
       "0.626203452308853"
      ],
      "text/markdown": [
       "0.626203452308853"
      ],
      "text/plain": [
       "[1] 0.6262035"
      ]
     },
     "metadata": {},
     "output_type": "display_data"
    }
   ],
   "source": [
    "r = summary(lm(y~x1+x2))$r.squared\n",
    "1 - (n-1)/(n-p-1)*(1-r)"
   ]
  },
  {
   "cell_type": "code",
   "execution_count": 176,
   "id": "6b4984a1-2b80-4e32-8259-bc0fd01f0e23",
   "metadata": {},
   "outputs": [
    {
     "data": {
      "text/html": [
       "0.58066621084486"
      ],
      "text/latex": [
       "0.58066621084486"
      ],
      "text/markdown": [
       "0.58066621084486"
      ],
      "text/plain": [
       "[1] 0.5806662"
      ]
     },
     "metadata": {},
     "output_type": "display_data"
    }
   ],
   "source": [
    "r = summary(lm(y~x1+x3))$r.squared\n",
    "1 - (n-1)/(n-p-1)*(1-r)"
   ]
  },
  {
   "cell_type": "code",
   "execution_count": 177,
   "id": "399c0fd4-0aaf-41a7-a4eb-59585aefa431",
   "metadata": {},
   "outputs": [
    {
     "data": {
      "text/html": [
       "-0.0322795041682475"
      ],
      "text/latex": [
       "-0.0322795041682475"
      ],
      "text/markdown": [
       "-0.0322795041682475"
      ],
      "text/plain": [
       "[1] -0.0322795"
      ]
     },
     "metadata": {},
     "output_type": "display_data"
    }
   ],
   "source": [
    "r = summary(lm(y~x2+x3))$r.squared\n",
    "1 - (n-1)/(n-p-1)*(1-r)"
   ]
  },
  {
   "cell_type": "markdown",
   "id": "4ef072cc-c5bb-4d13-8f11-7e520040f56f",
   "metadata": {},
   "source": [
    "`-` $R_{ap}$가 제일큰 $x_1,x_2$를 선택한다"
   ]
  },
  {
   "cell_type": "markdown",
   "id": "685a7e9d-96e1-4cc2-9a84-e120fa33d672",
   "metadata": {},
   "source": [
    "`-` $P=3$일 때"
   ]
  },
  {
   "cell_type": "code",
   "execution_count": 178,
   "id": "23a55ea6-51c5-40b4-b947-b568d22a2628",
   "metadata": {},
   "outputs": [],
   "source": [
    "p = 3"
   ]
  },
  {
   "cell_type": "code",
   "execution_count": 182,
   "id": "32de2c05-abd4-4983-b039-1698fbe98306",
   "metadata": {},
   "outputs": [
    {
     "data": {
      "text/html": [
       "0.603715195894542"
      ],
      "text/latex": [
       "0.603715195894542"
      ],
      "text/markdown": [
       "0.603715195894542"
      ],
      "text/plain": [
       "[1] 0.6037152"
      ]
     },
     "metadata": {},
     "output_type": "display_data"
    }
   ],
   "source": [
    "r = summary(lm(y~x1+x2+x3))$r.squared\n",
    "1 - (n-1)/(n-p-1)*(1-r)"
   ]
  },
  {
   "cell_type": "markdown",
   "id": "0cf8770b-a1b9-40b1-a150-438b2778a413",
   "metadata": {},
   "source": [
    "`-` $R_{ap}$가 제일큰 $x_1,x_2,x_3$를 선택한다"
   ]
  },
  {
   "cell_type": "code",
   "execution_count": null,
   "id": "86777483-1c88-4b21-b7b6-0b82aa655e40",
   "metadata": {},
   "outputs": [],
   "source": []
  }
 ],
 "metadata": {
  "kernelspec": {
   "display_name": "R",
   "language": "R",
   "name": "ir"
  },
  "language_info": {
   "codemirror_mode": "r",
   "file_extension": ".r",
   "mimetype": "text/x-r-source",
   "name": "R",
   "pygments_lexer": "r",
   "version": "4.0.5"
  }
 },
 "nbformat": 4,
 "nbformat_minor": 5
}
