{
 "cells": [
  {
   "cell_type": "markdown",
   "id": "64504575-1bf3-4708-a401-7ee8fd8edf5c",
   "metadata": {},
   "source": [
    "# 아나콘다 가상환경 만들기\n",
    "\n",
    "> \"작성 완료\"\n",
    "\n",
    "- toc: true\n",
    "- branch: master\n",
    "- badges: true\n",
    "- comments: true\n",
    "- author: 한재수\n",
    "- categories: [anaconda]"
   ]
  },
  {
   "cell_type": "markdown",
   "id": "6a363cfb-0b26-4021-ba85-c584cc4f2ae8",
   "metadata": {},
   "source": [
    "`-` 가상환경 목록 확인 : `conda env list`\n",
    "\n",
    "`-` 가상환경 간단한 명령어 : `conda env`"
   ]
  },
  {
   "cell_type": "markdown",
   "id": "af656fdd-f336-4902-8950-fdc351c118a8",
   "metadata": {},
   "source": [
    "## 아나콘다 가상환경에서 주피터랩 사용\n",
    "\n",
    "`-` 간단히 정리하자"
   ]
  },
  {
   "cell_type": "markdown",
   "id": "986c832c-dbb7-45f7-945d-6ff77c2bc5aa",
   "metadata": {},
   "source": [
    "`1.` `conda create -n 가상환경이름 python=3.8` $\\longrightarrow$ 가상환경 생성\n",
    "\n",
    "`2.` `conda activate 가상환경이름` $\\longrightarrow$ 가상환경 활성화\n",
    "\n",
    "`3.` `conda install -c conda-forge r-essentials=4.0` $\\longrightarrow$ R 4.0 버전 설치\n",
    "\n",
    "`4.` `conda install -c conda-forge jupyterlab` $\\longrightarrow$ 주피터랩 설치\n",
    "\n",
    "`5.` `R` $\\longrightarrow$ R 환경진입\n",
    "\n",
    "`6.` `install.packages(\"IRkernel\")`\n",
    "\n",
    "`7.` `library(IRkernel)`\n",
    "\n",
    "`8.` `installspec()`\n",
    "\n",
    "`9.` `q()`\n",
    "\n",
    "`10.` `jupyter lab` $\\longrightarrow$ 주피터랩 실행"
   ]
  },
  {
   "cell_type": "code",
   "execution_count": null,
   "id": "d6410e63-f136-4e25-b856-82ceda05501b",
   "metadata": {},
   "outputs": [],
   "source": []
  }
 ],
 "metadata": {
  "kernelspec": {
   "display_name": "Python 3 (ipykernel)",
   "language": "python",
   "name": "python3"
  },
  "language_info": {
   "codemirror_mode": {
    "name": "ipython",
    "version": 3
   },
   "file_extension": ".py",
   "mimetype": "text/x-python",
   "name": "python",
   "nbconvert_exporter": "python",
   "pygments_lexer": "ipython3",
   "version": "3.8.11"
  }
 },
 "nbformat": 4,
 "nbformat_minor": 5
}
