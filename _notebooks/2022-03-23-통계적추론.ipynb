{
 "cells": [
  {
   "cell_type": "markdown",
   "id": "c857b833-1ec3-48f8-852d-3c0a32a56dcd",
   "metadata": {},
   "source": [
    "# 통계적 추론\n",
    "\n",
    "> \"작성 중\"\n",
    "\n",
    "- toc: true\n",
    "- branch: master\n",
    "- badges: true\n",
    "- comments: true\n",
    "- author: 한재수\n",
    "- categories: [statistics]"
   ]
  },
  {
   "cell_type": "markdown",
   "id": "91222fc9-260c-4de1-8e2e-b360c58ce2e6",
   "metadata": {},
   "source": [
    "`-` 수리통계학 내용 정리(추정 파트)\n",
    "\n",
    "`-` 참고 : 수리통계학 제5판 송성주$\\cdot$전명식 지음"
   ]
  },
  {
   "cell_type": "markdown",
   "id": "7ee0e9f5-8283-4135-bb07-e4703756bbc6",
   "metadata": {},
   "source": [
    "# 추정"
   ]
  },
  {
   "cell_type": "markdown",
   "id": "c3193a2c-5767-47f2-9b3f-ccec135939f5",
   "metadata": {},
   "source": [
    "`-` 미지의 모수 $\\theta \\in \\Omega$를 점추정하는 방법을 알아보자\n",
    "\n",
    "`-` 통계량 : 미지의 모수를 포함하지 않는 랜덤표본 $X_1,X_2,\\cdots,X_n$의 `함수`\n",
    "\n",
    "`-` `추정량(estimator)` : $g(\\theta)$를 추정하기 위해 사용되는 통계량 $T(\\boldsymbol{X})=T(X_1,X_2,\\cdots,X_n)$\n",
    "\n",
    "`-` `추정값(estimate)` : 확률변수의 실현값을 통해 구해진 `추정량의 특정값` $T(\\boldsymbol{x})=T(x_1,x_2,\\cdots,x_n)$\n",
    "\n",
    "`-` 참고로 모수 $\\theta$의 추정량은 $\\hat\\theta$으로 표기함"
   ]
  },
  {
   "cell_type": "markdown",
   "id": "152eca51-dbdb-48dc-95b9-e0218c16024f",
   "metadata": {},
   "source": [
    "## 적률추정법(Method of Moment Estimation, MME)"
   ]
  },
  {
   "cell_type": "markdown",
   "id": "232aae08-3ec4-4f25-90d5-7bcc1f9cfe57",
   "metadata": {},
   "source": [
    "`-` 대수의 법칙을 이용하여 모수를 추정: $m_{r}{'} \\xrightarrow{~~p~~} u_r{'}$\n",
    "\n",
    "`-` $ u_r{'} = E\\left(X^{^r}\\right),\\quad  m_r{'} = \\dfrac{\\sum\\limits_{i=1}^{n} {X}^{^r}_i}{n}$\n",
    "\n",
    "`-` 위에 대수의 법칙에서 $2$차 이상의 적률인 경우 ${X}^{^r} = Y$로 치환하면 된다"
   ]
  },
  {
   "cell_type": "markdown",
   "id": "f60e4be4-41b2-4d19-8b66-e920cc562eb4",
   "metadata": {},
   "source": [
    "## 최대가능도 추정법(Maximum Likelihood Estimation, MLE)"
   ]
  },
  {
   "cell_type": "markdown",
   "id": "63174ef1-6067-4dea-8ff4-da998fe40288",
   "metadata": {},
   "source": [
    "`-` 우리가 알고있는 임의의 분포(모수만 모름)에서 뽑은 랜덤표본을 가지고 모수를 추정한다\n",
    "\n",
    "`-` `가능도함수`: $L(\\theta)=L(\\theta;x_1,x_2,\\cdots,x_n)=f(x_1,x_2,\\cdots,x_n;\\theta)=\\prod\\limits^{n}_{i=1}f(x_i;\\theta)$\n",
    "\n",
    "`-` 확률밀도함수와 가능도함수는 특정한 $x_1,x_2,\\cdots,x_n$과 $\\theta$에 대해서 동일한 값을 가진다\n",
    "\n",
    "`-` 가능도함수를 최대화하는 모수 $\\theta$의 최대가능도 추정량을 구하면 된다\n",
    "\n",
    "`-` 참고로 함수의 최대값을 구하기 위해 미분을 사용하는데 미분을 할 때 가능도함수에 로그를 취한다\n",
    "\n",
    "`-` 로그를 취하면 미분이 편해지며 어차피 로그함수는 단조증가함수이므로 $L(\\theta)$를 최대로 만드는 $\\theta$에서 $\\ell(\\theta)$도 최대이다\n",
    "\n",
    "`-` 만약 가능도함수의 support(토대)에 모수가 포함되어 있으면 미분이 불가능하여 그래프를 그려서 최대가능도 추정량을 구해야 함\n",
    "\n",
    "`-` 참고로 최대가능도 추정량의 경우 불변성 원리가 성립한다"
   ]
  },
  {
   "cell_type": "markdown",
   "id": "1f4e7bb6-0549-4f6c-a9bb-79539d729a63",
   "metadata": {},
   "source": [
    "## 추정의 기준"
   ]
  },
  {
   "cell_type": "markdown",
   "id": "60f0359f-6032-48f2-874d-a67d22faa14c",
   "metadata": {},
   "source": [
    "`-` $T(X)$가 $g(\\theta)$의 추정량일 때 $E[T(X)]-g(\\theta)$를 $T(X)$의 `편향(bias)`이라고 하며\n",
    "\n",
    "`-` 편향이 $0$이면 $T(X)$를 $g(\\theta)$의 `비편향추정량`이라고 한다\n",
    "\n",
    "`-` $\\operatorname{MSE} = Var\\left(T(X)\\right) + (bias)^2$"
   ]
  },
  {
   "cell_type": "markdown",
   "id": "abf87df7-9ad8-4b55-a4e2-128eaefdd909",
   "metadata": {},
   "source": [
    "## 최소분산 비편향추정량(Minimum Variance Unbiased Estimator, MVUE)"
   ]
  },
  {
   "cell_type": "markdown",
   "id": "1ed950f1-e97d-43bb-b56d-3082cf60b5f1",
   "metadata": {},
   "source": [
    "`-` 다음을 만족하는 함수 $g(\\theta)$의 추정량 $T^*(X)$를 `최소분산 비편향추정량`이라고 한다\n",
    "\n",
    "`1.` $T^*(X)$는 $g(\\theta)$의 비편향추정량\n",
    "\n",
    "`2.` $Var\\left(T^*(X)\\right) \\leq Var\\left(T(X)\\right)$"
   ]
  },
  {
   "cell_type": "markdown",
   "id": "27648be5-6c4b-40bf-ae81-3cd72f2edad0",
   "metadata": {},
   "source": [
    "### 크래머-라오 하한값 "
   ]
  },
  {
   "cell_type": "markdown",
   "id": "2cceae9b-647e-4a9d-a60b-5a5e6c5bb7fc",
   "metadata": {},
   "source": [
    "`-` `적절한 조건`하에서 `비편향추정량`이 가질 수 있는 `분산의 하한값`을 제공(조건은 교재 참고)\n",
    "\n",
    "`-` 어떤 비편향추정량이 분산의 하한값을 분산으로 가지면 최소분산 비편향추정량이다(단, 유일성을 보이기는 어려움)\n",
    "\n",
    "`-` `피셔의 정보` : $I(\\theta)=E\\left[\\left(\\frac{\\partial}{\\partial \\theta}\\log f(X;\\theta)\\right)^2\\right]$\n",
    "\n",
    "`-` 참고로 $f(X)$는 다음과 같음 : 확률변수 $X$ $\\xrightarrow{\\text{$f$: pdf of $X$}} f(X)$\n",
    "\n",
    "`-` $f(X)$는 확률변수, $f(x)$는 확률변수 $f(X)$의 realization(?)\n",
    "\n",
    "`-` 크래머-라오의 정보부등식: $Var(T(X)) \\geq \\dfrac{[g'(\\theta)]^2}{nI(\\theta)}$ $\\to$ 크래머-라오 하한값\n",
    "\n",
    "- 주의할 점\n",
    "\n",
    "`1.` 크래머-라오 하한값을 갖지 않아도 최소분산 비편향추정량이 될 수 있다\n",
    "\n",
    "`2.` 적절한 조건을 어기는 경우 크래머-라오 하한값보다 더 작은 분산을 가지는 비편향추정량이 존재할 수 있다"
   ]
  },
  {
   "cell_type": "markdown",
   "id": "9128cf4b-4156-4078-82ea-4e8eb6526efc",
   "metadata": {},
   "source": [
    "### 충분통계량(sufficient statistic)"
   ]
  },
  {
   "cell_type": "markdown",
   "id": "aa12c619-1131-4bac-b4ec-88b8e1a8f81c",
   "metadata": {},
   "source": [
    "`-` 확률벡터 $\\boldsymbol{X}$의 결합 확률밀도함수는 $f(x_1,\\cdots,x_n;\\theta_1,\\cdots,\\theta_k)$이고 $\\boldsymbol{S}(\\boldsymbol{X})$를 $l$개의 통계량의 벡터라고 하자\n",
    "\n",
    "`-` 이때 조건부 확률변수 $(X_1,X_2,\\cdots,X_n)\\mid \\boldsymbol{S}(\\boldsymbol{X})$의 분포가 모수 $\\boldsymbol{\\theta}$에 의존하지 않으면\n",
    "\n",
    "`-` 통계량 $\\boldsymbol{S}(\\boldsymbol{X})$를 결합 충분통계량(jointly sufficient statistic)이라고 한다\n",
    "\n",
    "`-` $l=1$인 경우 $\\boldsymbol{S}(\\boldsymbol{X})$가 $\\theta$의 `충분통계량`이라고 한다\n",
    "\n",
    "`-` 참고로 결합 충분통계량의 $1:1$ 함수도 결합 충분통계량이다"
   ]
  },
  {
   "cell_type": "markdown",
   "id": "3a714b47-bbaa-4915-93b1-d9e9f7243c1d",
   "metadata": {},
   "source": [
    "- 충분통계량의 의미\n",
    "\n",
    "`-` 확률벡터 $\\boldsymbol{X}$에는 모수에 대한 정보가 담겨있다\n",
    "\n",
    "`-` 그런데 누군가가 $\\boldsymbol{S}(\\boldsymbol{X})$를 알려주면 더 이상 $\\boldsymbol{X}$의 정보가 필요 없어짐\n",
    "\n",
    "`-` 왜냐하면 $\\boldsymbol{S}(\\boldsymbol{X})$가 모수 $\\boldsymbol{\\theta}$에 대한 정보를 모두 가지고 있기 때문임"
   ]
  },
  {
   "cell_type": "markdown",
   "id": "83aee572-8692-4a2f-b6d6-80af7c83ddde",
   "metadata": {},
   "source": [
    "- 인수분해 정리\n",
    "\n",
    "`-` 충분통계량을 구하기 위해서 매번 조건부 확률밀도함수를 계산하기 힘듦\n",
    "\n",
    "`-` 인수분해 정리를 통해 간편하게 주어진 통계량의 충분성을 확인할 수 있다\n",
    "\n",
    "`-` $\\boldsymbol{S}$가 결합 충분통계량일 필요충분조건은 $f(x_1,x_2,\\cdots,x_n; \\boldsymbol{\\theta})$가 $\\boldsymbol{s}$와 $\\boldsymbol{\\theta}$만의 함수인 $g$와 \n",
    "\n",
    "$(x_1,x_2,\\cdots,x_n)$만의 함수인 $h$와의 곱의 꼴로 나타내어지는 것이다\n",
    "\n",
    "`-` $f(x_1,x_2,\\cdots,x_n;\\boldsymbol{\\theta})=g(\\boldsymbol{s}(x);\\boldsymbol{\\theta})\\times h(x_1,x_2,\\cdots,x_n)$\n",
    "\n",
    "`-` $X_1,X_2,\\cdots,X_n$의 결합 확률밀도함수를 구하고 통계량과 모수에 대한 함수와 $x_1,x_2,\\cdots,x_n$의 함수끼리의 곱으로 나타내면 되는 것\n",
    "\n",
    "`-` 만약 불가능하다면 $\\boldsymbol{S}$는 결합 충분통계량이 아닌 것이다\n",
    "\n",
    "`-` 예제는 교재 확인"
   ]
  },
  {
   "cell_type": "markdown",
   "id": "4def9007-763f-44d4-922b-e674bf754cf4",
   "metadata": {},
   "source": [
    "## 라오-블랙웰 정리\n",
    "\n",
    "`-` $S$가 $g(\\theta)$의 충분통계량이고 $T(X)$를 $g(\\theta)$의 비편향추정량이라고 하자\n",
    "\n",
    "`-` $\\delta(S)=E(T(X)\\mid S)$이면 $\\delta(S)$도 $g(\\theta)$의 비편향추정량이며 모든 $\\theta$에 대해 아래가 성립\n",
    "\n",
    "$$\n",
    "\\begin{equation}\n",
    "\\begin{aligned}\n",
    "Var\\left(\\delta(S)\\right) &= E\\left[\\left(\\delta(S)-g(\\theta)\\right)^2\\right]\\\\\n",
    "&\\leq  E\\left[\\left(T(X)-g(\\theta)\\right)^2\\right]\\\\\n",
    "&= Var\\left(T(X)\\right)\n",
    "\\end{aligned}\n",
    "\\end{equation}\n",
    "$$"
   ]
  },
  {
   "cell_type": "markdown",
   "id": "7b59ee6a-3e90-4ce0-ae60-cda0403ffa0b",
   "metadata": {},
   "source": [
    "`-` math"
   ]
  },
  {
   "cell_type": "markdown",
   "id": "2192a92c-cefb-44a7-9fe7-8cb0cb7b15ce",
   "metadata": {},
   "source": [
    "\\begin{equation}\n",
    "\\begin{aligned}\n",
    "Var\\left(\\delta(S)\\right) &= E\\left[\\left(\\delta(S)-g(\\theta)\\right)^2\\right]\\\\\n",
    "&\\leq  E\\left[\\left(T(X)-g(\\theta)\\right)^2\\right]\\\\\n",
    "&= Var\\left(T(X)\\right)\n",
    "\\end{aligned}\n",
    "\\end{equation}"
   ]
  },
  {
   "cell_type": "code",
   "execution_count": null,
   "id": "a7e5bed6-4ff8-483b-b0a8-b92c16e10be6",
   "metadata": {},
   "outputs": [],
   "source": []
  }
 ],
 "metadata": {
  "kernelspec": {
   "display_name": "Python 3 (ipykernel)",
   "language": "python",
   "name": "python3"
  },
  "language_info": {
   "codemirror_mode": {
    "name": "ipython",
    "version": 3
   },
   "file_extension": ".py",
   "mimetype": "text/x-python",
   "name": "python",
   "nbconvert_exporter": "python",
   "pygments_lexer": "ipython3",
   "version": "3.8.11"
  }
 },
 "nbformat": 4,
 "nbformat_minor": 5
}
