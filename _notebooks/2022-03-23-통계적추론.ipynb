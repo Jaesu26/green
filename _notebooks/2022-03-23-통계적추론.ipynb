{
 "cells": [
  {
   "cell_type": "markdown",
   "id": "c857b833-1ec3-48f8-852d-3c0a32a56dcd",
   "metadata": {},
   "source": [
    "# 통계적 추론\n",
    "\n",
    "> \"작성 중\"\n",
    "\n",
    "- toc: true\n",
    "- branch: master\n",
    "- badges: true\n",
    "- comments: true\n",
    "- author: 한재수\n",
    "- categories: [statistics]"
   ]
  },
  {
   "cell_type": "markdown",
   "id": "91222fc9-260c-4de1-8e2e-b360c58ce2e6",
   "metadata": {},
   "source": [
    "`-` 수리통계학 내용 정리(추정 파트)\n",
    "\n",
    "`-` 참고 : 수리통계학 제5판 송성주$\\cdot$전명식 지음"
   ]
  },
  {
   "cell_type": "markdown",
   "id": "7ee0e9f5-8283-4135-bb07-e4703756bbc6",
   "metadata": {},
   "source": [
    "# 추정"
   ]
  },
  {
   "cell_type": "markdown",
   "id": "c3193a2c-5767-47f2-9b3f-ccec135939f5",
   "metadata": {},
   "source": [
    "`-` 미지의 모수 $\\theta \\in \\Omega$를 점추정하는 방법을 알아보자\n",
    "\n",
    "`-` 통계량 : 미지의 모수를 포함하지 않는 랜덤표본 $X_1,X_2,\\cdots,X_n$의 `함수`\n",
    "\n",
    "`-` `추정량(estimator)` : $g(\\theta)$를 추정하기 위해 사용되는 통계량 $T(\\boldsymbol{X})=T(X_1,X_2,\\cdots,X_n)$\n",
    "\n",
    "`-` `추정값(estimate)` : 확률변수의 실현값을 통해 구해진 `추정량의 특정값` $T(\\boldsymbol{x})=T(x_1,x_2,\\cdots,x_n)$\n",
    "\n",
    "`-` 참고로 모수 $\\theta$의 추정량은 $\\hat\\theta$으로 표기함"
   ]
  },
  {
   "cell_type": "markdown",
   "id": "152eca51-dbdb-48dc-95b9-e0218c16024f",
   "metadata": {},
   "source": [
    "## 적률추정법(Method of Moment Estimation, MME)"
   ]
  },
  {
   "cell_type": "markdown",
   "id": "232aae08-3ec4-4f25-90d5-7bcc1f9cfe57",
   "metadata": {},
   "source": [
    "`-` 대수의 법칙을 이용하여 모수를 추정: $m_{r}{'} \\xrightarrow{~~p~~} u_r{'}$\n",
    "\n",
    "`-` $ u_r{'} = E(X^r),\\quad  m_r{'} = \\dfrac{\\sum\\limits_{i=1}^{n} {X}^r_i}{n}$\n",
    "\n",
    "`-` 위에 대수의 법칙에서 $2$차 이상의 적률인 경우 ${X}^r = Y$로 치환하면 된다"
   ]
  },
  {
   "cell_type": "markdown",
   "id": "f60e4be4-41b2-4d19-8b66-e920cc562eb4",
   "metadata": {},
   "source": [
    "## 최대가능도 추정법(Maximum Likelihood Estimation, MLE)"
   ]
  },
  {
   "cell_type": "markdown",
   "id": "63174ef1-6067-4dea-8ff4-da998fe40288",
   "metadata": {},
   "source": [
    "`-` 우리가 알고있는 임의의 분포(모수만 모름)에서 뽑은 랜덤표본을 가지고 모수를 추정한다\n",
    "\n",
    "`-` `가능도함수`: $L(\\theta)=L(\\theta;x_1,x_2,\\cdots,x_n)=f(x_1,x_2,\\cdots,x_n;\\theta)=\\prod\\limits^{n}_{i=1}f(x_i;\\theta)$\n",
    "\n",
    "`-` 확률밀도함수와 가능도함수는 특정한 $x_1,x_2,\\cdots,x_n$과 $\\theta$에 대해서 동일한 값을 가진다\n",
    "\n",
    "`-` 가능도함수를 최대화하는 모수 $\\theta$의 최대가능도 추정량을 구하면 된다\n",
    "\n",
    "`-` 참고로 함수의 최대값을 구하기 위해 미분을 사용하는데 미분을 할 때 가능도함수에 로그를 취한다\n",
    "\n",
    "`-` 로그를 취하면 미분이 편해지며 어차피 로그함수는 단조증가함수이므로 $L(\\theta)$를 최대로 만드는 $\\theta$에서 $\\ell(\\theta)$도 최대이다\n",
    "\n",
    "`-` 만약 가능도함수의 support(토대)에 모수가 포함되어 있으면 미분이 불가능하여 그래프를 그려서 최대가능도 추정량을 구해야 함\n",
    "\n",
    "`-` 참고로 최대가능도 추정량의 경우 불변성 원리가 성립한다"
   ]
  },
  {
   "cell_type": "markdown",
   "id": "1f4e7bb6-0549-4f6c-a9bb-79539d729a63",
   "metadata": {},
   "source": [
    "## 추정의 기준"
   ]
  },
  {
   "cell_type": "markdown",
   "id": "60f0359f-6032-48f2-874d-a67d22faa14c",
   "metadata": {},
   "source": [
    "`-` $T(X)$가 $g(\\theta)$의 추정량일 때 $E[T(X)]-g(\\theta)$를 $T(X)$의 `편향(bias)`이라고 하며\n",
    "\n",
    "`-` 편향이 $0$이면 $T(X)$를 $g(\\theta)$의 `비편향추정량`이라고 한다\n",
    "\n",
    "`-` $\\operatorname{MSE} = Var\\left(T(X)\\right) + (bias)^2$"
   ]
  },
  {
   "cell_type": "markdown",
   "id": "abf87df7-9ad8-4b55-a4e2-128eaefdd909",
   "metadata": {},
   "source": [
    "## 최소분산 비편향추정량(Minimum Variance Unbiased Estimator, MVUE)"
   ]
  },
  {
   "cell_type": "markdown",
   "id": "1ed950f1-e97d-43bb-b56d-3082cf60b5f1",
   "metadata": {},
   "source": [
    "`-` 다음을 만족하는 함수 $g(\\theta)$의 추정량 $T^*(X)$를 `최소분산 비편향추정량`이라고 한다\n",
    "\n",
    "`1.` $T^*(X)$는 $g(\\theta)$의 비편향추정량\n",
    "\n",
    "`2.` $Var\\left(T^*(X)\\right) \\leq Var\\left(T(X)\\right)$"
   ]
  },
  {
   "cell_type": "markdown",
   "id": "27648be5-6c4b-40bf-ae81-3cd72f2edad0",
   "metadata": {},
   "source": [
    "### 크래머-라오 하한값 "
   ]
  },
  {
   "cell_type": "code",
   "execution_count": null,
   "id": "5a02cf77-cdc6-4783-8fff-a0a34e2baf7f",
   "metadata": {},
   "outputs": [],
   "source": [
    "`-` "
   ]
  }
 ],
 "metadata": {
  "kernelspec": {
   "display_name": "Python 3 (ipykernel)",
   "language": "python",
   "name": "python3"
  },
  "language_info": {
   "codemirror_mode": {
    "name": "ipython",
    "version": 3
   },
   "file_extension": ".py",
   "mimetype": "text/x-python",
   "name": "python",
   "nbconvert_exporter": "python",
   "pygments_lexer": "ipython3",
   "version": "3.8.11"
  }
 },
 "nbformat": 4,
 "nbformat_minor": 5
}
