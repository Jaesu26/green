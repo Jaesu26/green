{
 "cells": [
  {
   "cell_type": "markdown",
   "id": "c857b833-1ec3-48f8-852d-3c0a32a56dcd",
   "metadata": {},
   "source": [
    "# 통계적 추론\n",
    "\n",
    "> \"작성 중\"\n",
    "\n",
    "- toc: true\n",
    "- branch: master\n",
    "- badges: true\n",
    "- comments: true\n",
    "- author: 한재수\n",
    "- categories: [statistics]"
   ]
  },
  {
   "cell_type": "markdown",
   "id": "91222fc9-260c-4de1-8e2e-b360c58ce2e6",
   "metadata": {},
   "source": [
    "`-` 수리통계학 내용 정리(추정 파트)\n",
    "\n",
    "`-` 참고 : 수리통계학 제5판 송성주$\\cdot$전명식 지음"
   ]
  },
  {
   "cell_type": "markdown",
   "id": "7ee0e9f5-8283-4135-bb07-e4703756bbc6",
   "metadata": {},
   "source": [
    "# 추정"
   ]
  },
  {
   "cell_type": "markdown",
   "id": "c3193a2c-5767-47f2-9b3f-ccec135939f5",
   "metadata": {},
   "source": [
    "`-` 미지의 모수 $\\theta \\in \\Omega$를 점추정하는 방법을 알아보자\n",
    "\n",
    "`-` 통계량 : 미지의 모수를 포함하지 않는 랜덤표본 $X_1,X_2,\\cdots,X_n$의 `함수`\n",
    "\n",
    "`-` `추정량(estimator)` : $g(\\theta)$를 추정하기 위해 사용되는 통계량 $T(\\boldsymbol{X})=T(X_1,X_2,\\cdots,X_n)$\n",
    "\n",
    "`-` `추정값(estimate)` : 확률변수의 실현값을 통해 구해진 `추정량의 특정값` $T(\\boldsymbol{x})=T(x_1,x_2,\\cdots,x_n)$\n",
    "\n",
    "`-` 참고로 모수 $\\theta$의 추정량은 $\\hat\\theta$으로 표기함"
   ]
  },
  {
   "cell_type": "markdown",
   "id": "152eca51-dbdb-48dc-95b9-e0218c16024f",
   "metadata": {},
   "source": [
    "## 적률추정법(Method of Moment Estimation, MME)"
   ]
  },
  {
   "cell_type": "code",
   "execution_count": null,
   "id": "3c45e0e3-24eb-4c05-9d4a-cc1b9adf4214",
   "metadata": {},
   "outputs": [],
   "source": []
  }
 ],
 "metadata": {
  "kernelspec": {
   "display_name": "Python 3 (ipykernel)",
   "language": "python",
   "name": "python3"
  },
  "language_info": {
   "codemirror_mode": {
    "name": "ipython",
    "version": 3
   },
   "file_extension": ".py",
   "mimetype": "text/x-python",
   "name": "python",
   "nbconvert_exporter": "python",
   "pygments_lexer": "ipython3",
   "version": "3.8.11"
  }
 },
 "nbformat": 4,
 "nbformat_minor": 5
}
