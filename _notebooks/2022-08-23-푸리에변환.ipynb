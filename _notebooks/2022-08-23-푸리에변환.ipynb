{
 "cells": [
  {
   "cell_type": "markdown",
   "id": "43caeb0f-dced-4b78-8189-6143aa9acc67",
   "metadata": {},
   "source": [
    "# 푸리에 변환\n",
    "\n",
    "> \"작성 중\"\n",
    "\n",
    "- toc: true\n",
    "- branch: master\n",
    "- badges: true\n",
    "- comments: true\n",
    "- author: 한재수\n",
    "- categories: [Math]"
   ]
  },
  {
   "cell_type": "markdown",
   "id": "41f8c2b1-9232-45a1-a18b-4d9677fde721",
   "metadata": {},
   "source": [
    "> youtube: https://youtube.com/playlist?list=PLQqh36zP38-wn36vctMcfZ-HWrfbVj9_Z"
   ]
  },
  {
   "cell_type": "markdown",
   "id": "874a9d94-9f8f-4cd5-9486-165a6bb40e4c",
   "metadata": {},
   "source": [
    "`-` 위의 영상을 보자"
   ]
  },
  {
   "cell_type": "code",
   "execution_count": null,
   "id": "c9120bae-4748-4ef8-853b-6dd306d3ebad",
   "metadata": {},
   "outputs": [],
   "source": []
  }
 ],
 "metadata": {
  "kernelspec": {
   "display_name": "Python 3 (ipykernel)",
   "language": "python",
   "name": "python3"
  },
  "language_info": {
   "codemirror_mode": {
    "name": "ipython",
    "version": 3
   },
   "file_extension": ".py",
   "mimetype": "text/x-python",
   "name": "python",
   "nbconvert_exporter": "python",
   "pygments_lexer": "ipython3",
   "version": "3.8.11"
  }
 },
 "nbformat": 4,
 "nbformat_minor": 5
}
