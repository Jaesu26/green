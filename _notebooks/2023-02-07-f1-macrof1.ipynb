{
 "cells": [
  {
   "cell_type": "markdown",
   "id": "d464074f-c2b4-4b60-ac9e-3684190addbf",
   "metadata": {},
   "source": [
    "# 이진 분류에서 $F_1$ score와 $Macro-F_1$ score의 차이\n",
    "\n",
    "> \"작성 완료\"\n",
    "\n",
    "- toc: true\n",
    "- branch: master\n",
    "- badges: true\n",
    "- comments: true\n",
    "- author: 한재수\n",
    "- categories: [Machine Learning]"
   ]
  },
  {
   "cell_type": "markdown",
   "id": "62dd4fad-6554-48d6-84d4-bb94884b6580",
   "metadata": {},
   "source": [
    "## 양성 샘플이 적은 상황"
   ]
  },
  {
   "cell_type": "markdown",
   "id": "84c72406-9ede-4329-94ec-a5c1890493f1",
   "metadata": {},
   "source": [
    "`-` 기본적으로 $F_1$ score는 클래스 불균형에서 정확도의 단점을 보완하고자 사용한다\n",
    "\n",
    "`-` 예컨대 $10000$개의 샘플중 $99\\%$가 음성(0)이고 나머지 $1\\%$가 양성(1)이라면 0으로 찍어도 정확도가 $0.99$이다\n",
    "\n",
    "`-` 하지만 양성 샘플은 하나도 맞히지 못했으므로 정확도는 분류 성능을 제대로 대표하지 못한다\n",
    "\n",
    "`-` 이러한 문제점을 보완하기 위해 [$F_1$ score](https://en.wikipedia.org/wiki/F-score)를 사용한다\n",
    "\n",
    "`-` 위와 같은 경우 정확도는 $0.99$일지라도 $F_1$ score는 $0$이다 (정확하게는 모든 예측 라벨이 음성이므로 $F_1$ score가 정의되지 않음)\n",
    "\n",
    "`-` 따라서 양성 샘플이 매우 적은 클래스 불균형 상황이라면 $F_1$ score는 분류 성능을 제대로 표현할 수 있는 척도이다"
   ]
  },
  {
   "cell_type": "markdown",
   "id": "eab4eaaf-78e3-4d68-92b4-a2ef51813b7f",
   "metadata": {},
   "source": [
    "## 양성 샘플이 많은 상황"
   ]
  },
  {
   "cell_type": "markdown",
   "id": "29b85358-ae5d-4a00-9526-e39314d58650",
   "metadata": {},
   "source": [
    "`-` 하지만 클래스 내에 양성 샘플이 음성 샘플보다 월등히 많은 불균형 상태라면 얘기는 달라진다\n",
    "\n",
    "`-` $10000$개의 샘플중 $1\\%$가 음성(0)이고 나머지 $99\\%$가 양성(1)이라면 1로 찍어도 정확도는 $0.99$이며 $F_1$ score는 대략 $0.995$이다\n",
    "\n",
    "`-` 위 상황에서 모든 샘플을 양성으로 찍으면 재현율은 $1$이며 정밀도에 따라 성능이 결정된다\n",
    "\n",
    "`-` 그런데 샘플의 대부분이 양성이므로 정밀도도 $1$에 근접한다\n",
    "\n",
    "`-` 따라서 클래스 불균형 상황에서 정확도의 단점을 보완하고자 사용한 $F_1$ score도 분류 성능을 제대로 나타내지 못하게 된다\n",
    "\n",
    "`-` 이러한 상황에서 $Macro-F_1$ score가 빛을 발하는데 $Macro-F_1$ score는 각 클래스를 양성, 나머지는 음성으로 놓은 뒤 $F_1$ score를 구하고 이를 평균내므로 하나의 라벨로만 찍게 되면 정확도와 $F_1$ score와 달리 점수가 매우 낮아지게 된다"
   ]
  },
  {
   "cell_type": "code",
   "execution_count": null,
   "id": "c7414829-5692-4183-b114-9fab3dc9eadf",
   "metadata": {},
   "outputs": [],
   "source": []
  }
 ],
 "metadata": {
  "kernelspec": {
   "display_name": "Python 3 (ipykernel)",
   "language": "python",
   "name": "python3"
  },
  "language_info": {
   "codemirror_mode": {
    "name": "ipython",
    "version": 3
   },
   "file_extension": ".py",
   "mimetype": "text/x-python",
   "name": "python",
   "nbconvert_exporter": "python",
   "pygments_lexer": "ipython3",
   "version": "3.8.11"
  }
 },
 "nbformat": 4,
 "nbformat_minor": 5
}
