{
 "cells": [
  {
   "cell_type": "markdown",
   "id": "dee75fcd-7d0f-4ea2-bea3-979eb389cfba",
   "metadata": {},
   "source": [
    "# SMOTE\n",
    "\n",
    "> \"작성 중\"\n",
    "\n",
    "- toc: true\n",
    "- branch: master\n",
    "- badges: true\n",
    "- comments: true\n",
    "- author: 한재수\n",
    "- categories: [Machine Learning]"
   ]
  },
  {
   "cell_type": "markdown",
   "id": "e8c35f70-d007-4ae2-b44f-5104f1fd835e",
   "metadata": {},
   "source": [
    "`-` ref: N. V. Chawla, K. W. Bowyer, L. O.Hall, W. P. Kegelmeyer, \"SMOTE:\n",
    "       synthetic minority over-sampling technique,\" Journal of artificial\n",
    "       intelligence research, 321-357, 2002."
   ]
  },
  {
   "cell_type": "markdown",
   "id": "29f605a0-372b-4f23-8e68-b0cc52605ee2",
   "metadata": {},
   "source": [
    "## SMOTE 작동 방식"
   ]
  },
  {
   "cell_type": "markdown",
   "id": "46aad612-07f6-4177-9e0e-c981489896e9",
   "metadata": {},
   "source": [
    "`-` SMOTE를 사용하기 위해선 변수들이 모두 양적 변수여야 한다\n",
    "\n",
    "`1.` 마이너 클래스의 각 샘플에 대하여 $k$개의 가까운 이웃을 계산한다\n",
    "\n",
    "`2.` 마이너 클래스에서 $N$개의 샘플을 복원추출한다\n",
    "\n",
    "`3.` 선택된 $N$개의 샘플 각각에 대하여 $k$개의 가까운 이웃중 무작위로 하나를 선택한다\n",
    "\n",
    "`4.` 모든 변수에 대하여 샘플과 그 샘플의 이웃간의 내분점을 무작위로 선택한다  "
   ]
  },
  {
   "cell_type": "markdown",
   "id": "eec50daf-8fb9-4679-b361-96d06820f398",
   "metadata": {},
   "source": [
    "### 예시"
   ]
  },
  {
   "cell_type": "code",
   "execution_count": null,
   "id": "0e9e5b32-7133-46d2-9baa-a099e2480fd7",
   "metadata": {},
   "outputs": [],
   "source": []
  }
 ],
 "metadata": {
  "kernelspec": {
   "display_name": "Python 3 (ipykernel)",
   "language": "python",
   "name": "python3"
  },
  "language_info": {
   "codemirror_mode": {
    "name": "ipython",
    "version": 3
   },
   "file_extension": ".py",
   "mimetype": "text/x-python",
   "name": "python",
   "nbconvert_exporter": "python",
   "pygments_lexer": "ipython3",
   "version": "3.8.11"
  }
 },
 "nbformat": 4,
 "nbformat_minor": 5
}
