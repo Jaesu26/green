{
 "cells": [
  {
   "cell_type": "markdown",
   "id": "dee75fcd-7d0f-4ea2-bea3-979eb389cfba",
   "metadata": {},
   "source": [
    "# SMOTE\n",
    "\n",
    "> \"Synthetic Minority Over-sampling TEchnique\"\n",
    "\n",
    "- toc: true\n",
    "- branch: master\n",
    "- badges: true\n",
    "- comments: true\n",
    "- author: 한재수\n",
    "- categories: [Machine Learning]"
   ]
  },
  {
   "cell_type": "markdown",
   "id": "e8c35f70-d007-4ae2-b44f-5104f1fd835e",
   "metadata": {},
   "source": [
    "`-` ref: N. V. Chawla, K. W. Bowyer, L. O.Hall, W. P. Kegelmeyer, \"SMOTE:\n",
    "       synthetic minority over-sampling technique,\" Journal of artificial\n",
    "       intelligence research, 321-357, 2002."
   ]
  },
  {
   "cell_type": "markdown",
   "id": "29f605a0-372b-4f23-8e68-b0cc52605ee2",
   "metadata": {},
   "source": [
    "## SMOTE 작동 방식"
   ]
  },
  {
   "cell_type": "markdown",
   "id": "46aad612-07f6-4177-9e0e-c981489896e9",
   "metadata": {},
   "source": [
    "`-` SMOTE를 사용하기 위해선 변수들이 모두 양적 변수여야 한다 (데이터의 차원은 $n\\times p$, 이때 $n$은 샘플의 개수, $p$는 변수의 개수)\n",
    "\n",
    "`1.` 마이너 클래스의 각 샘플에 대하여 가장 가까운 마이너 클래스 이웃 $k$개의 인덱스를 계산한다 (유클리드 거리를 사용)\n",
    "\n",
    "`2.` 마이너 클래스에서 $N$개의 샘플을 복원추출하여 인덱스를 저장한다\n",
    "\n",
    "`3.` 선택된 $N$개의 샘플 각각에 대하여 $k$개의 가장 가까운 이웃중 무작위로 하나를 선택한다\n",
    "\n",
    "`4.` 모든 $p$개의 변수에 대하여 샘플과 그 샘플의 이웃간의 내분점을 무작위로 선택하여 새로운 샘플을 생성한다"
   ]
  },
  {
   "cell_type": "markdown",
   "id": "d10487ac-d149-4b6c-a227-4b31718847ae",
   "metadata": {},
   "source": [
    "### 예시"
   ]
  },
  {
   "cell_type": "markdown",
   "id": "527a5fcf-47db-4e6e-8cdf-ed72c5eff014",
   "metadata": {},
   "source": [
    "`-` 샘플 $(6,4)$와 그의 이웃 $(4, 3)$을 고려하자\n",
    "\n",
    "`-` 샘플 $(4, 3)$은 샘플 $(6, 4)$의 가장 가까운 $k$개의 이웃 중 하나이다\n",
    "\n",
    "`-` 생성될 샘플: $\\left(f_1', f_2'\\right) = (6, 4) + \\operatorname{rand}(0\\sim 1) * \\left\\{(4,3) - (6,4)\\right\\}$\n",
    "\n",
    "`-` $\\operatorname{rand}(0\\sim 1)$는 $0$과 $1$ 사이에 있는 임의의 수이다"
   ]
  },
  {
   "cell_type": "markdown",
   "id": "36370db7-c8a8-437e-8fe5-991b202a3adc",
   "metadata": {},
   "source": [
    "### 장점"
   ]
  },
  {
   "cell_type": "markdown",
   "id": "1ccf277c-ecf0-49c1-b092-b3424f4f47e2",
   "metadata": {},
   "source": [
    "`-` 메이저 클래스의 결정 영역에 존재하는 마이너 클래스 샘플을 단순 복제할 경우 마이너 클래스 샘플의 영향력이 커진다\n",
    "\n",
    "`-` 즉, 마이너 클래스의 결정 영역이 더욱 특별해지고 결정 나무는 새로운 분기를 생성하게 되어 오버피팅이 발생한다\n",
    "\n",
    "`-` 마이너 클래스의 단순 복제는 결정 영역을 메이저 클래스의 결정 영억으로 확장시키지 못한다 ($\\text{마이너 클래스의 결정 영역}^c = \\text{메이저 클래스의 결정 영역}$)\n",
    "\n",
    "`-` 하지만 SMOTE를 사용하면 기존에 존재하지 않던 새로운 마이너 클래스 샘플을 만들므로 마이너 클래스의 결정 영역을 확장시킬 수 있음\n",
    "\n",
    "`-` 합성된 샘플은 더 크고 덜 중요한 결정 영역을 만듦으로써 작고 특정한 결정 영역에 오버피팅 되지 않아 더욱 일반화된 분류기를 만든다"
   ]
  },
  {
   "cell_type": "markdown",
   "id": "1653e92a-4a73-49e5-978d-5f467d64eb3e",
   "metadata": {},
   "source": [
    "### 단점"
   ]
  },
  {
   "cell_type": "markdown",
   "id": "9bba6668-b85b-4abe-af80-0cbdf8ac64fd",
   "metadata": {},
   "source": [
    "`-` 마이너 클래스 샘플의 가장 가까운 $k$개의 이웃의 대부분이 마이너 클래스가 아닐 수 있다\n",
    "\n",
    "`-` 즉, 마이너 클래스의 분산이 큰 경우 생성한 샘플이 메이저 클래스 샘플과 겹칠 수 있다"
   ]
  },
  {
   "cell_type": "markdown",
   "id": "ac8c3fac-e40d-43df-8ac2-76d0a18d9c2e",
   "metadata": {},
   "source": [
    "## SMOTE 코드 설명"
   ]
  },
  {
   "cell_type": "markdown",
   "id": "af81074e-6028-4880-89ac-c4524f9b8c4d",
   "metadata": {},
   "source": [
    "`-` 코드: https://github.com/scikit-learn-contrib/imbalanced-learn/blob/master/imblearn/over_sampling/_smote/base.py#L217\n",
    "\n",
    "`1.` `sampling_strategy` 매개변수를 사용하여 클래스 라벨(i.g. male)에 합성할 샘플 수(i.g. 150)를 대응시킨 딕셔너리를 만듦 (= `sampling_strategy_`) \n",
    "\n",
    "`2.` `sampling_strategy_` 딕셔너리를 순회하여 클래스를 합성할 샘플 수 만큼 오버샘플링 함"
   ]
  },
  {
   "cell_type": "markdown",
   "id": "733d7322-ff4f-4a7b-bb2d-06d5217e2925",
   "metadata": {},
   "source": []
  }
 ],
 "metadata": {
  "kernelspec": {
   "display_name": "Python 3 (ipykernel)",
   "language": "python",
   "name": "python3"
  },
  "language_info": {
   "codemirror_mode": {
    "name": "ipython",
    "version": 3
   },
   "file_extension": ".py",
   "mimetype": "text/x-python",
   "name": "python",
   "nbconvert_exporter": "python",
   "pygments_lexer": "ipython3",
   "version": "3.8.11"
  }
 },
 "nbformat": 4,
 "nbformat_minor": 5
}
