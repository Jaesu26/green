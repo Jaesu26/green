{
 "cells": [
  {
   "cell_type": "markdown",
   "id": "dee75fcd-7d0f-4ea2-bea3-979eb389cfba",
   "metadata": {},
   "source": [
    "# SMOTE\n",
    "\n",
    "> \"작성 중\"\n",
    "\n",
    "- toc: true\n",
    "- branch: master\n",
    "- badges: true\n",
    "- comments: true\n",
    "- author: 한재수\n",
    "- categories: [Machine Learning]"
   ]
  },
  {
   "cell_type": "markdown",
   "id": "e8c35f70-d007-4ae2-b44f-5104f1fd835e",
   "metadata": {},
   "source": [
    "`-` ref: N. V. Chawla, K. W. Bowyer, L. O.Hall, W. P. Kegelmeyer, \"SMOTE:\n",
    "       synthetic minority over-sampling technique,\" Journal of artificial\n",
    "       intelligence research, 321-357, 2002."
   ]
  },
  {
   "cell_type": "markdown",
   "id": "29f605a0-372b-4f23-8e68-b0cc52605ee2",
   "metadata": {},
   "source": [
    "## SMOTE 작동 방식"
   ]
  },
  {
   "cell_type": "markdown",
   "id": "46aad612-07f6-4177-9e0e-c981489896e9",
   "metadata": {},
   "source": [
    "`-` SMOTE를 사용하기 위해선 변수들이 모두 양적 변수여야 한다 (데이터의 차원은 $n\\times p$, 이때 $n$은 샘플의 개수, $p$는 변수의 개수)\n",
    "\n",
    "`1.` 마이너 클래스의 각 샘플에 대하여 가장 가까운 마이너 클래스 이웃 $k$개의 인덱스를 계산한다 (유클리드 거리를 사용)\n",
    "\n",
    "`2.` 마이너 클래스에서 $N$개의 샘플을 복원추출하여 인덱스를 저장한다\n",
    "\n",
    "`3.` 선택된 $N$개의 샘플 각각에 대하여 $k$개의 가장 가까운 이웃중 무작위로 하나를 선택한다\n",
    "\n",
    "`4.` 모든 $p$개의 변수에 대하여 샘플과 그 샘플의 이웃간의 내분점을 무작위로 선택하여 새로운 샘플을 생성한다"
   ]
  },
  {
   "cell_type": "markdown",
   "id": "ac8c3fac-e40d-43df-8ac2-76d0a18d9c2e",
   "metadata": {},
   "source": [
    "## SMOTE 코드 설명"
   ]
  },
  {
   "cell_type": "markdown",
   "id": "af81074e-6028-4880-89ac-c4524f9b8c4d",
   "metadata": {},
   "source": [
    "`-` 코드: https://github.com/scikit-learn-contrib/imbalanced-learn/blob/master/imblearn/over_sampling/_smote/base.py#L217\n",
    "\n",
    "`1.` `sampling_strategy` 매개변수를 사용하여 클래스 라벨(i.g. male)에 합성할 샘플 수(i.g. 150)를 대응시킨 딕셔너리를 만듦 (= `sampling_strategy_`) \n",
    "\n",
    "`2.` `sampling_strategy_` 딕셔너리를 순회하여 클래스를 합성할 샘플 수 만큼 오버샘플링 함"
   ]
  },
  {
   "cell_type": "code",
   "execution_count": null,
   "id": "02d9ab93-8028-477e-acdc-e5cc83e57044",
   "metadata": {},
   "outputs": [],
   "source": []
  }
 ],
 "metadata": {
  "kernelspec": {
   "display_name": "Python 3 (ipykernel)",
   "language": "python",
   "name": "python3"
  },
  "language_info": {
   "codemirror_mode": {
    "name": "ipython",
    "version": 3
   },
   "file_extension": ".py",
   "mimetype": "text/x-python",
   "name": "python",
   "nbconvert_exporter": "python",
   "pygments_lexer": "ipython3",
   "version": "3.8.11"
  }
 },
 "nbformat": 4,
 "nbformat_minor": 5
}
