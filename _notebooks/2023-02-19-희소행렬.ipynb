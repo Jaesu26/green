{
 "cells": [
  {
   "cell_type": "markdown",
   "id": "9017988b-ec8e-4010-bc1c-9df45b439e94",
   "metadata": {},
   "source": [
    "# 희소 행렬\n",
    "\n",
    "> \"작성 중\"\n",
    "\n",
    "- toc: true\n",
    "- branch: master\n",
    "- badges: true\n",
    "- comments: true\n",
    "- author: 한재수\n",
    "- categories: [Math]"
   ]
  },
  {
   "cell_type": "markdown",
   "id": "9868b0bd-51fe-41b4-8219-f5d7e2b6f832",
   "metadata": {},
   "source": [
    "`-` 행렬 정리글: https://jaesu26.github.io/green/math/2021/09/16/행렬.html\n",
    "\n",
    "`-` ref: https://en.wikipedia.org/wiki/Sparse_matrix"
   ]
  },
  {
   "cell_type": "markdown",
   "id": "91dd85af-46a3-4e6e-9d24-5349f0512254",
   "metadata": {},
   "source": [
    "# 희소 행렬"
   ]
  },
  {
   "cell_type": "markdown",
   "id": "f6b707b5-3105-44b8-bdb3-a68f895220d8",
   "metadata": {},
   "source": [
    "`-` `희소 행렬(sparse matrix)`: 값이 대부분 $0$인 행렬 \n",
    "\n",
    "`-` `희소성(sparsity)`: 행렬의 전체 원소 중 $0$인 원소의 비율\n",
    "\n",
    "`-` 희소(sparse)하다고 말할 수 있는 정확한 정의는 없지만 일반적인 기준은 $0$이 아닌 원소가 대략 행 또는 열의 수만큼 있는 것이다"
   ]
  },
  {
   "cell_type": "markdown",
   "id": "5d06ab64-97b3-4f71-adc2-32be4c79e94a",
   "metadata": {},
   "source": [
    "## 희소 행렬의 자료구조"
   ]
  },
  {
   "cell_type": "code",
   "execution_count": 29,
   "id": "e02959a0-6438-47ff-9992-25f9e713a61b",
   "metadata": {},
   "outputs": [
    {
     "name": "stdout",
     "output_type": "stream",
     "text": [
      "[[1 2 0 0 0]\n",
      " [0 0 0 0 0]\n",
      " [0 0 0 3 0]\n",
      " [0 0 4 0 0]\n",
      " [5 0 0 0 6]]\n"
     ]
    }
   ],
   "source": [
    "import numpy as np\n",
    "\n",
    "arr = np.array([[1, 2, 0, 0, 0], [0, 0, 0, 0, 0], [0, 0, 0, 3, 0], [0, 0, 4, 0, 0], [5, 0, 0, 0, 6]])\n",
    "print(arr)  # 25개의 원소 중 19개가 0인 희소 행렬"
   ]
  },
  {
   "cell_type": "markdown",
   "id": "24f16558-260e-44b4-9261-598893cc0bde",
   "metadata": {},
   "source": [
    "### Dictionary of keys (DOK)"
   ]
  },
  {
   "cell_type": "markdown",
   "id": "6609aa9d-8364-49cc-9711-ab4479ab7152",
   "metadata": {},
   "source": [
    "`-` (row, column)을 value로 매핑한 딕셔너리 구조"
   ]
  },
  {
   "cell_type": "code",
   "execution_count": 20,
   "id": "cf1c4474-02ec-42b2-9510-520028852167",
   "metadata": {},
   "outputs": [],
   "source": [
    "from scipy.sparse import dok_matrix\n",
    "\n",
    "S = dok_matrix((5, 5), dtype=np.float32)\n",
    "for i in range(5):\n",
    "    for j in range(5):\n",
    "        S[i, j] = i + j    # Update element"
   ]
  },
  {
   "cell_type": "code",
   "execution_count": 38,
   "id": "9d98091b-ddba-49e8-816f-b2e51accb7c2",
   "metadata": {},
   "outputs": [
    {
     "name": "stdout",
     "output_type": "stream",
     "text": [
      "[[0. 1. 2. 3. 4.]\n",
      " [1. 2. 3. 4. 5.]\n",
      " [2. 3. 4. 5. 6.]\n",
      " [3. 4. 5. 6. 7.]\n",
      " [4. 5. 6. 7. 8.]]\n"
     ]
    }
   ],
   "source": [
    "print(S.todense())"
   ]
  },
  {
   "cell_type": "markdown",
   "id": "57483d6a-c5d8-4dc6-b424-da1801bcbceb",
   "metadata": {},
   "source": [
    "### List of lists (LIL)"
   ]
  },
  {
   "cell_type": "markdown",
   "id": "d3cd6313-1679-421a-b6be-3454f54669e1",
   "metadata": {},
   "source": [
    "`-` 각 행마다 열의 인덱스와 값을 하나의 리스트로 저장하는 구조"
   ]
  },
  {
   "cell_type": "code",
   "execution_count": 7,
   "id": "22662057-7d87-4cd8-b7aa-1c8316da56bd",
   "metadata": {},
   "outputs": [],
   "source": [
    "from scipy.sparse import lil_matrix"
   ]
  },
  {
   "cell_type": "code",
   "execution_count": 30,
   "id": "b970700a-3435-49aa-bf92-ce11ff00216a",
   "metadata": {},
   "outputs": [],
   "source": [
    "lil = lil_matrix(arr)"
   ]
  },
  {
   "cell_type": "code",
   "execution_count": 42,
   "id": "19f83c0b-17a8-4c7b-881f-e1a804b97628",
   "metadata": {},
   "outputs": [
    {
     "name": "stdout",
     "output_type": "stream",
     "text": [
      "[list([0, 1]) list([]) list([3]) list([2]) list([0, 4])]\n"
     ]
    }
   ],
   "source": [
    "print(lil.rows)  # 행마다ㅏ 0이 아닌 값의 열 인덱스"
   ]
  },
  {
   "cell_type": "code",
   "execution_count": 41,
   "id": "726a76a8-d9b4-4c5a-9029-8e4fb1434353",
   "metadata": {},
   "outputs": [
    {
     "name": "stdout",
     "output_type": "stream",
     "text": [
      "[list([1, 2]) list([]) list([3]) list([4]) list([5, 6])]\n"
     ]
    }
   ],
   "source": [
    "print(lil.data)  # 행마다 0이 아닌 값을 저장"
   ]
  },
  {
   "cell_type": "markdown",
   "id": "9f1432ad-bba7-485b-8d08-e6556f012562",
   "metadata": {},
   "source": [
    "### Coordinate list (COO)"
   ]
  },
  {
   "cell_type": "markdown",
   "id": "ed847159-3f59-4f30-903c-2b0584985c11",
   "metadata": {},
   "source": [
    "`-` (row, column, value) 튜플을 리스트에 저장한 구조"
   ]
  },
  {
   "cell_type": "code",
   "execution_count": 43,
   "id": "ba287e6f-117b-4b50-9eb8-d655c54e1b04",
   "metadata": {},
   "outputs": [],
   "source": [
    "from scipy.sparse import coo_matrix"
   ]
  },
  {
   "cell_type": "code",
   "execution_count": 44,
   "id": "5649b72d-86f9-49fe-9c47-ea394e05486d",
   "metadata": {},
   "outputs": [],
   "source": [
    "coo = coo_matrix(arr)"
   ]
  },
  {
   "cell_type": "code",
   "execution_count": 56,
   "id": "eae8d3ea-9b9e-417f-b474-6f32f0320933",
   "metadata": {},
   "outputs": [
    {
     "name": "stdout",
     "output_type": "stream",
     "text": [
      "[0 0 2 3 4 4] [0 1 3 2 0 4] [1 2 3 4 5 6]\n"
     ]
    }
   ],
   "source": [
    "print(coo.row, coo.col, coo.data)"
   ]
  },
  {
   "cell_type": "code",
   "execution_count": 53,
   "id": "162929d6-5398-405b-a296-44a3a45ec54d",
   "metadata": {},
   "outputs": [
    {
     "name": "stdout",
     "output_type": "stream",
     "text": [
      "0행 0열에 저장된 값: 1\n",
      "0행 1열에 저장된 값: 2\n",
      "2행 3열에 저장된 값: 3\n",
      "3행 2열에 저장된 값: 4\n",
      "4행 0열에 저장된 값: 5\n",
      "4행 4열에 저장된 값: 6\n"
     ]
    }
   ],
   "source": [
    "for row, col, value in zip(coo.row, coo.col, coo.data):\n",
    "    print(f'{row}행 {col}열에 저장된 값: {value}')"
   ]
  },
  {
   "cell_type": "code",
   "execution_count": null,
   "id": "f681ac12-e5cf-428c-8e57-7119331daa47",
   "metadata": {},
   "outputs": [],
   "source": []
  }
 ],
 "metadata": {
  "kernelspec": {
   "display_name": "Python 3 (ipykernel)",
   "language": "python",
   "name": "python3"
  },
  "language_info": {
   "codemirror_mode": {
    "name": "ipython",
    "version": 3
   },
   "file_extension": ".py",
   "mimetype": "text/x-python",
   "name": "python",
   "nbconvert_exporter": "python",
   "pygments_lexer": "ipython3",
   "version": "3.8.11"
  }
 },
 "nbformat": 4,
 "nbformat_minor": 5
}
