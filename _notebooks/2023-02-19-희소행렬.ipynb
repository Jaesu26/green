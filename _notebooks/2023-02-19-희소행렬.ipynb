{
 "cells": [
  {
   "cell_type": "markdown",
   "id": "9017988b-ec8e-4010-bc1c-9df45b439e94",
   "metadata": {},
   "source": [
    "# 희소 행렬\n",
    "\n",
    "> \"작성 완료\"\n",
    "\n",
    "- toc: true\n",
    "- branch: master\n",
    "- badges: true\n",
    "- comments: true\n",
    "- author: 한재수\n",
    "- categories: [Math]"
   ]
  },
  {
   "cell_type": "markdown",
   "id": "9868b0bd-51fe-41b4-8219-f5d7e2b6f832",
   "metadata": {},
   "source": [
    "`-` 행렬 정리글: https://jaesu26.github.io/study-blog/math/2021/09/16/행렬.html\n",
    "\n",
    "`-` ref: https://en.wikipedia.org/wiki/Sparse_matrix"
   ]
  },
  {
   "cell_type": "markdown",
   "id": "91dd85af-46a3-4e6e-9d24-5349f0512254",
   "metadata": {},
   "source": [
    "## 희소 행렬이란?"
   ]
  },
  {
   "cell_type": "markdown",
   "id": "f6b707b5-3105-44b8-bdb3-a68f895220d8",
   "metadata": {},
   "source": [
    "`-` `희소 행렬(sparse matrix)`: 원소 대부분 $0$인 행렬 \n",
    "\n",
    "`-` `희소성(sparsity)`: 행렬의 전체 원소 중 $0$인 원소의 비율\n",
    "\n",
    "`-` 희소(sparse)하다고 말할 수 있는 정확한 정의는 없지만 일반적인 기준은 $0$이 아닌 원소가 대략 행 또는 열의 수만큼 있는 것이다"
   ]
  },
  {
   "cell_type": "markdown",
   "id": "5d06ab64-97b3-4f71-adc2-32be4c79e94a",
   "metadata": {},
   "source": [
    "## 희소 행렬의 자료구조"
   ]
  },
  {
   "cell_type": "markdown",
   "id": "408d777d-2035-4926-8717-665810a77538",
   "metadata": {},
   "source": [
    "`-` 의미있는 원소($0$이 아닌 수)가 거의 없으므로 일반적인 행렬과 같이 자료를 저장하면 메모리 측면에서 매우 비효율적이다\n",
    "\n",
    "`-` 그렇기에 $0$이 아닌 원소만 저장하는 자료구조를 사용하여 메모리를 절약한다\n",
    "\n",
    "`-` 대표적으로 자연어 처리에서 텍스트를 토큰화할 때 희소 행렬의 자료구조를 사용한다 (전체 글에서 사용된 유니크한 단어 개수는 매우 많지만 문장 별로 사용된 유니크한 단어 개수는 적다)\n",
    "\n",
    "`-` 만약 $0$이 의미있는 원소로 사용된다면 문제가 생긴다 ($0$은 저장을 안하므로)"
   ]
  },
  {
   "cell_type": "code",
   "execution_count": 126,
   "id": "e02959a0-6438-47ff-9992-25f9e713a61b",
   "metadata": {},
   "outputs": [
    {
     "name": "stdout",
     "output_type": "stream",
     "text": [
      "[[1 2 0 0 0]\n",
      " [0 0 0 0 0]\n",
      " [0 0 0 3 0]\n",
      " [0 0 4 0 0]\n",
      " [5 0 0 0 0]]\n"
     ]
    }
   ],
   "source": [
    "import numpy as np\n",
    "\n",
    "arr = np.array([[1, 2, 0, 0, 0], [0, 0, 0, 0, 0], [0, 0, 0, 3, 0], [0, 0, 4, 0, 0], [5, 0, 0, 0, 0]])\n",
    "print(arr)  # 25개의 원소 중 19개가 0인 희소 행렬"
   ]
  },
  {
   "cell_type": "markdown",
   "id": "24f16558-260e-44b4-9261-598893cc0bde",
   "metadata": {},
   "source": [
    "### Dictionary of keys (DOK)"
   ]
  },
  {
   "cell_type": "markdown",
   "id": "6609aa9d-8364-49cc-9711-ab4479ab7152",
   "metadata": {},
   "source": [
    "`-` (row, column)을 value로 매핑한 딕셔너리 구조"
   ]
  },
  {
   "cell_type": "code",
   "execution_count": 127,
   "id": "cf1c4474-02ec-42b2-9510-520028852167",
   "metadata": {},
   "outputs": [],
   "source": [
    "from scipy.sparse import dok_matrix\n",
    "\n",
    "dok = dok_matrix((5, 5), dtype=np.float32)\n",
    "for i in range(5):\n",
    "    for j in range(5):\n",
    "        dok[i, j] = i + j  # 원소를 갱신, 원소가 0이라면 저장하지 않음"
   ]
  },
  {
   "cell_type": "code",
   "execution_count": 128,
   "id": "9d98091b-ddba-49e8-816f-b2e51accb7c2",
   "metadata": {},
   "outputs": [
    {
     "name": "stdout",
     "output_type": "stream",
     "text": [
      "[[0. 1. 2. 3. 4.]\n",
      " [1. 2. 3. 4. 5.]\n",
      " [2. 3. 4. 5. 6.]\n",
      " [3. 4. 5. 6. 7.]\n",
      " [4. 5. 6. 7. 8.]]\n"
     ]
    }
   ],
   "source": [
    "print(dok.toarray())"
   ]
  },
  {
   "cell_type": "code",
   "execution_count": 129,
   "id": "8b9486ba-c502-4595-8c58-b7c461e6b209",
   "metadata": {},
   "outputs": [
    {
     "data": {
      "text/plain": [
       "(4, 5)"
      ]
     },
     "execution_count": 129,
     "metadata": {},
     "output_type": "execute_result"
    }
   ],
   "source": [
    "dok[0].nnz, dok[1].nnz  # nnz는 0이 아닌 원소의 개수"
   ]
  },
  {
   "cell_type": "markdown",
   "id": "57483d6a-c5d8-4dc6-b424-da1801bcbceb",
   "metadata": {},
   "source": [
    "### List of lists (LIL)"
   ]
  },
  {
   "cell_type": "markdown",
   "id": "d3cd6313-1679-421a-b6be-3454f54669e1",
   "metadata": {},
   "source": [
    "`-` 각 행마다 열의 인덱스와 값을 하나의 리스트로 저장하는 구조"
   ]
  },
  {
   "cell_type": "code",
   "execution_count": 130,
   "id": "22662057-7d87-4cd8-b7aa-1c8316da56bd",
   "metadata": {},
   "outputs": [],
   "source": [
    "from scipy.sparse import lil_matrix\n",
    "\n",
    "lil = lil_matrix(arr)"
   ]
  },
  {
   "cell_type": "code",
   "execution_count": 131,
   "id": "5d4cee45-0143-45aa-8a25-a810125068be",
   "metadata": {},
   "outputs": [
    {
     "name": "stdout",
     "output_type": "stream",
     "text": [
      "[list([0, 1]) list([]) list([3]) list([2]) list([0])]\n"
     ]
    }
   ],
   "source": [
    "print(lil.rows)  # 행마다 0이 아닌 값의 열 인덱스"
   ]
  },
  {
   "cell_type": "code",
   "execution_count": 132,
   "id": "9fb2d99a-fb44-45a0-a17f-55a4154ca840",
   "metadata": {},
   "outputs": [
    {
     "name": "stdout",
     "output_type": "stream",
     "text": [
      "[list([1, 2]) list([]) list([3]) list([4]) list([5])]\n"
     ]
    }
   ],
   "source": [
    "print(lil.data)  # 행마다 0이 아닌 값을 저장"
   ]
  },
  {
   "cell_type": "markdown",
   "id": "9f1432ad-bba7-485b-8d08-e6556f012562",
   "metadata": {},
   "source": [
    "### Coordinate list (COO)"
   ]
  },
  {
   "cell_type": "markdown",
   "id": "ed847159-3f59-4f30-903c-2b0584985c11",
   "metadata": {},
   "source": [
    "`-` (row, column, value) 튜플을 리스트에 저장한 구조"
   ]
  },
  {
   "cell_type": "code",
   "execution_count": 133,
   "id": "ba287e6f-117b-4b50-9eb8-d655c54e1b04",
   "metadata": {},
   "outputs": [
    {
     "name": "stdout",
     "output_type": "stream",
     "text": [
      "[0 0 2 3 4] [0 1 3 2 0] [1 2 3 4 5]\n"
     ]
    }
   ],
   "source": [
    "from scipy.sparse import coo_matrix\n",
    "\n",
    "coo = coo_matrix(arr)\n",
    "print(coo.row, coo.col, coo.data)"
   ]
  },
  {
   "cell_type": "code",
   "execution_count": 135,
   "id": "162929d6-5398-405b-a296-44a3a45ec54d",
   "metadata": {},
   "outputs": [
    {
     "name": "stdout",
     "output_type": "stream",
     "text": [
      "1행 1열에 저장된 값: 1\n",
      "1행 2열에 저장된 값: 2\n",
      "3행 4열에 저장된 값: 3\n",
      "4행 3열에 저장된 값: 4\n",
      "5행 1열에 저장된 값: 5\n"
     ]
    }
   ],
   "source": [
    "for row, col, value in zip(coo.row, coo.col, coo.data):\n",
    "    print(f'{row + 1}행 {col + 1}열에 저장된 값: {value}')"
   ]
  },
  {
   "cell_type": "markdown",
   "id": "2643a2f6-9661-4cff-93ab-8be2ee3ae63f",
   "metadata": {},
   "source": [
    "### Compressed sparse row (CSR, CRS or Yale format)"
   ]
  },
  {
   "cell_type": "markdown",
   "id": "d21bafec-f8a8-41ec-8e83-1ef842555057",
   "metadata": {},
   "source": [
    "`-` 행을 기준으로 $0$이 아닌 값을 압축시킨 구조"
   ]
  },
  {
   "cell_type": "code",
   "execution_count": 136,
   "id": "36111ab4-4437-40cf-b637-7b91dca41e29",
   "metadata": {},
   "outputs": [],
   "source": [
    "from scipy.sparse import csr_matrix\n",
    "\n",
    "csr = csr_matrix(arr)"
   ]
  },
  {
   "cell_type": "code",
   "execution_count": 137,
   "id": "c68ba548-f5c2-495b-80ba-c9cd906cbd57",
   "metadata": {},
   "outputs": [
    {
     "name": "stdout",
     "output_type": "stream",
     "text": [
      "[[1 2 0 0 0]\n",
      " [0 0 0 0 0]\n",
      " [0 0 0 3 0]\n",
      " [0 0 4 0 0]\n",
      " [5 0 0 0 0]]\n"
     ]
    }
   ],
   "source": [
    "print(arr)"
   ]
  },
  {
   "cell_type": "code",
   "execution_count": 138,
   "id": "48a7c2da-aee9-4343-866a-0c367fc7aa0f",
   "metadata": {},
   "outputs": [
    {
     "data": {
      "text/plain": [
       "5"
      ]
     },
     "execution_count": 138,
     "metadata": {},
     "output_type": "execute_result"
    }
   ],
   "source": [
    "csr.nnz  # 0이 아닌 원소의 개수"
   ]
  },
  {
   "cell_type": "code",
   "execution_count": 150,
   "id": "fb893210-b0ce-4c11-9e05-3d86db1aaedc",
   "metadata": {},
   "outputs": [
    {
     "data": {
      "text/plain": [
       "array([0, 2, 2, 3, 4, 5], dtype=int32)"
      ]
     },
     "execution_count": 150,
     "metadata": {},
     "output_type": "execute_result"
    }
   ],
   "source": [
    "csr.indptr  # index pointer, 처음 값은 0, 마지막 값은 nnz, i번째 인덱스의 값은 i번째 행까지 0이 아닌 원소의 개수, 길이는 row + 1"
   ]
  },
  {
   "cell_type": "code",
   "execution_count": 144,
   "id": "323d27a2-c861-4bfa-945a-ebf1eb91e228",
   "metadata": {},
   "outputs": [
    {
     "data": {
      "text/plain": [
       "array([0, 1, 3, 2, 0], dtype=int32)"
      ]
     },
     "execution_count": 144,
     "metadata": {},
     "output_type": "execute_result"
    }
   ],
   "source": [
    "csr.indices  # 0이 아닌 원소의 열 인덱스, 길이는 nnz"
   ]
  },
  {
   "cell_type": "code",
   "execution_count": 142,
   "id": "2b6c4166-ae69-461b-b18d-1c6dac78323d",
   "metadata": {},
   "outputs": [
    {
     "data": {
      "text/plain": [
       "array([1, 2, 3, 4, 5], dtype=int32)"
      ]
     },
     "execution_count": 142,
     "metadata": {},
     "output_type": "execute_result"
    }
   ],
   "source": [
    "csr.data  # 0이 아닌 원소 목록, 길이는 nnz"
   ]
  },
  {
   "cell_type": "markdown",
   "id": "32447881-5c16-4595-b8eb-7752fcab5a4c",
   "metadata": {},
   "source": [
    "### Compressed sparse column (CSC or CCS)"
   ]
  },
  {
   "cell_type": "markdown",
   "id": "7e68a709-af96-4d37-9226-45f18aaa1672",
   "metadata": {},
   "source": [
    "`-` 열을 기준으로 $0$이 아닌 값을 압축시킨 구조"
   ]
  },
  {
   "cell_type": "code",
   "execution_count": 151,
   "id": "a813ac80-4519-4092-91be-207c6af3ac9f",
   "metadata": {},
   "outputs": [],
   "source": [
    "from scipy.sparse import csc_matrix\n",
    "\n",
    "csc = csc_matrix(arr)"
   ]
  },
  {
   "cell_type": "code",
   "execution_count": 152,
   "id": "52e1e1dd-7bae-46c4-abc7-fd0e6a4f3039",
   "metadata": {},
   "outputs": [
    {
     "data": {
      "text/plain": [
       "(array([0, 2, 3, 4, 5, 5], dtype=int32),\n",
       " array([0, 4, 0, 3, 2], dtype=int32),\n",
       " array([1, 5, 2, 4, 3], dtype=int32))"
      ]
     },
     "execution_count": 152,
     "metadata": {},
     "output_type": "execute_result"
    }
   ],
   "source": [
    "csc.indptr, csc.indices, csc.data"
   ]
  },
  {
   "cell_type": "code",
   "execution_count": null,
   "id": "ee501f91-9863-4d53-b99a-83d8b4fbcee7",
   "metadata": {},
   "outputs": [],
   "source": []
  }
 ],
 "metadata": {
  "kernelspec": {
   "display_name": "Python 3 (ipykernel)",
   "language": "python",
   "name": "python3"
  },
  "language_info": {
   "codemirror_mode": {
    "name": "ipython",
    "version": 3
   },
   "file_extension": ".py",
   "mimetype": "text/x-python",
   "name": "python",
   "nbconvert_exporter": "python",
   "pygments_lexer": "ipython3",
   "version": "3.8.11"
  }
 },
 "nbformat": 4,
 "nbformat_minor": 5
}
