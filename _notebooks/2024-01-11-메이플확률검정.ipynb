{
 "cells": [
  {
   "cell_type": "markdown",
   "metadata": {},
   "source": [
    "# 메이플 공/마 확률 문제\n",
    "\n",
    "> \"작성 완료\"\n",
    "\n",
    "- toc: true\n",
    "- branch: master\n",
    "- badges: true\n",
    "- comments: true\n",
    "- author: 한재수\n",
    "- hide: true\n",
    "- categories: [Statistics]"
   ]
  },
  {
   "cell_type": "markdown",
   "metadata": {},
   "source": [
    "`-` 공격력 직업으로 공격력 2줄 옵션(12% / 9%)을 획득할 때까지 에디셔널 잠재 능력을 재설정하는 상황을 가정하자\n",
    "\n",
    "`-` 옵션을 재설정하다보면 공격력 2줄이 등장하기 전에 마력 2줄이 등장하는 경우를 쉽게 볼 수 있다\n",
    "\n",
    "`-` 누군가는 공격력 직업으로 옵션을 재설정할 경우 공격력보다 마력이 등장할 확률이 더 높다고 체감할 수 있다\n",
    "\n",
    "`-` 여기서 가설은 `공격력 직업으로 옵션을 재설정할 경우 공격력 2줄보다 마력 2줄이 등장할 확률이 더 높다` 이다\n",
    "\n",
    "`-` 이것이 진짜인지 확인하는 방법은 간단한데 공격력 직업으로 에디셔널 잠재 능력을 수많이 재설정하면 된다\n",
    "\n",
    "`-` 이를 혼자 진행하는 것은 어려우니 여러 명에게 데이터를 받아 진행할 수도 있다\n",
    "\n",
    "`-` 만약, 데이터를 받을 사람을 미리 무작위로 정하는 것이 아닌 아무나에게 데이터를 받는다면 해당 데이터가 편향될 가능성이 높다\n",
    "\n",
    "`-` 대개, 데이터를 제출하는 사람은 해당 가설이 참이라고 느낀 사람이 많을 것이다\n",
    "\n",
    "`-` 반대로 공격력 2줄 옵션을 마력 2줄 옵션보다 먼저 획득한 사람은 해당 가설이 거짓이라고 생각하며 굳이 데이터를 제출하진 않을 것이다 (가설이 거짓임을 체감했기 때문)\n",
    "\n",
    "`-` 그러면 수집된 데이터에는 마력 2줄 옵션이 공격력 2줄보다 많이 포함되고 이는 가설이 참이라는 결론을 도출하게 된다\n",
    "\n",
    "`-` 무작위로 수집된 데이터라면 공격력 2줄이 등장할 확률과 마력 2줄이 등장할 확률은 같다\n",
    "\n",
    "`-` 이에 대해 보충 설명을 하면 다음과 같다\n",
    "\n",
    "`-` $n$명의 사람들에 대해 공격력 2줄 옵션이 나올 때까지 큐브를 사용한다고 가정하자\n",
    "\n",
    "`-` 이 중 평균적으로 $\\frac{n}{2}$명은 공격력 2줄 옵션이 먼저 나왔을 것이며 나머지 $\\frac{n}{2}$명은 마력 2줄 옵션이 먼저 나왔을 것이다\n",
    "\n",
    "`-` 여기서, `공격력 등장 횟수 = 마력 등장 횟수 = n / 2`이다\n",
    "\n",
    "`-` 마력 2줄 옵션이 먼저 나온 $\\frac{n}{2}$명은 공격력 2줄 옵션을 얻을 때까지 큐브를 사용한다\n",
    "\n",
    "`-` 그러면 $\\frac{n}{2}$명 중 평균적으로 $\\frac{n}{4}$명은 공격력 2줄 옵션이 먼저 나왔을 것이며 나머지 $\\frac{n}{4}$명은 마력 2줄 옵션이 먼저 나왔을 것이다\n",
    "\n",
    "`-` 여기서, `공격력 등장 횟수 = 마력 등장 횟수 = n / 4`이다\n",
    "\n",
    "`-` 이를 반복하면 $n$명의 사람들이 큐브를 사용해서 얻은 잠재능력 중 공격력 2줄 옵션이 등장한 횟수의 기댓값은 $\\frac{n}{2} + \\frac{n}{4} + \\cdots = n$ 이며 마력도 동일하다\n",
    "\n",
    "`-` 그런데 공격력 2줄 옵션 또는 마력 2줄 옵션을 확인하는 것이 아니라 첫 번째줄 옵션이 공격력인지 마력인지 확인하는 경우는 어떨까?\n",
    "\n",
    "`-` 마력 2줄이 많이 등장했더라도 첫 번째줄 옵션만 놓고보면 공격력이 마력보다 많이 등장했을 수도 있다\n",
    "\n",
    "`-` 반면, 마력 2줄이 많이 등장했다는 것은 해당 수치만큼 첫 번째 줄 옵션에서 마력이 등장했다는 것을 의미한다\n",
    "\n",
    "`-` 즉, 첫 번째 줄 옵션에서 마력이 어느정도 등장했음을 보장하므로 첫 번째 줄에서 공격력보다 마력이 평균적으로 많이 등장했을 것이다  \n",
    "\n",
    "`-` 궁금증: 마력 2줄을 여러 번 획득한 후 공격력 2줄을 획득했을 때 첫 번째 줄 옵션은 마력이 공격력보다 많이 획득되도록 편향되었을까?"
   ]
  },
  {
   "cell_type": "markdown",
   "metadata": {},
   "source": [
    "> Note: 첫 번째 줄에서 공격력이 등장할 확률 = 마력이 등장할 확률 = $4.878\\%$"
   ]
  },
  {
   "cell_type": "markdown",
   "metadata": {},
   "source": [
    "> Note: 두 번째 줄에서 공격력이 등장할 확률 = 마력이 등장할 확률 = $6.2791\\%$"
   ]
  },
  {
   "cell_type": "code",
   "execution_count": 1,
   "metadata": {
    "executionInfo": {
     "elapsed": 308,
     "status": "ok",
     "timestamp": 1704900020330,
     "user": {
      "displayName": "한재수",
      "userId": "07894730815227911058"
     },
     "user_tz": -540
    },
    "id": "Z6ysGOKpk92A"
   },
   "outputs": [],
   "source": [
    "#collapse\n",
    "import numpy as np\n",
    "import matplotlib.pyplot as plt\n",
    "\n",
    "\n",
    "def get_1st_option():\n",
    "    r = np.random.rand()\n",
    "    if r < 0.04878:\n",
    "        return \"공격력\"\n",
    "    if r < 0.04878 * 2:\n",
    "        return \"마력\"\n",
    "    return \"잡옵\"\n",
    "\n",
    "\n",
    "def get_2nd_option():\n",
    "    r = np.random.rand()\n",
    "    if r < 0.062791:\n",
    "        return \"공격력\"\n",
    "    if r < 0.062791 * 2:\n",
    "        return \"마력\"\n",
    "    return \"잡옵\"\n",
    "\n",
    "\n",
    "def get_3rd_option():\n",
    "    r = np.random.rand()\n",
    "    if r < 0.06907:\n",
    "        return \"공격력\"\n",
    "    if r < 0.06907 * 2:\n",
    "        return \"마력\"\n",
    "    return \"잡옵\"\n",
    "\n",
    "\n",
    "def is_attack_power(option):\n",
    "    if option == \"공격력\":\n",
    "        return True\n",
    "    return False\n",
    "\n",
    "\n",
    "def is_spell_power(option):\n",
    "    if option == \"마력\":\n",
    "        return True\n",
    "    return False\n",
    "\n",
    "\n",
    "def is_valid_attack_power(first_option, second_option, third_option):\n",
    "    if first_option == \"공격력\" and (second_option == \"공격력\" or third_option == \"공격력\"):\n",
    "        return True\n",
    "    return False\n",
    "\n",
    "\n",
    "def is_valid_spell_power(first_option, second_option, third_option):\n",
    "    if first_option == \"마력\" and (second_option == \"마력\" or third_option == \"마력\"):\n",
    "        return True\n",
    "    return False\n",
    "\n",
    "\n",
    "def get_cube_option():\n",
    "    first_option = get_1st_option()\n",
    "    second_option = get_2nd_option()\n",
    "    third_option = get_3rd_option()\n",
    "    return first_option, second_option, third_option\n",
    "\n",
    "\n",
    "def check_cube_option(first_option, second_option, third_option):\n",
    "    if is_valid_attack_power(first_option, second_option, third_option):\n",
    "        return \"공격력_2줄\"\n",
    "    if is_valid_spell_power(first_option, second_option, third_option):\n",
    "        return \"마력_2줄\"\n",
    "    if is_attack_power(first_option):\n",
    "        return \"공격력_1줄\"\n",
    "    if is_spell_power(first_option):\n",
    "        return \"마력_1줄\"\n",
    "    return \"잡옵\"\n",
    "\n",
    "\n",
    "def get_sample():\n",
    "    n = 0\n",
    "    valid_spell_power_count = 0\n",
    "    spell_power_count = 0\n",
    "    attack_power_count = 0\n",
    "    while True:\n",
    "        first_option, second_option, third_option = get_cube_option()\n",
    "        output = check_cube_option(first_option, second_option, third_option)\n",
    "        n += 1\n",
    "        if output == \"공격력_2줄\":\n",
    "            attack_power_count += 1\n",
    "            break\n",
    "        elif output == \"공격력_1줄\":\n",
    "            attack_power_count += 1\n",
    "        elif output == \"마력_2줄\":\n",
    "            valid_spell_power_count += 1\n",
    "            spell_power_count += 1\n",
    "        elif output == \"마력_1줄\":\n",
    "            spell_power_count += 1\n",
    "        else:\n",
    "            pass\n",
    "    return n, valid_spell_power_count, spell_power_count, attack_power_count\n",
    "\n",
    "\n",
    "def test(threshold=3):\n",
    "    n, valid_spell_power_count, spell_power_count, attack_power_count = get_sample()\n",
    "    if valid_spell_power_count < threshold:  # 에디 마력 2줄을 threshold번 이상 보고 에디 공격력 2줄을 획득한 경우, 억까 당했다고 표현\n",
    "        return -1, -1, -1\n",
    "    return n, spell_power_count, attack_power_count\n",
    "\n",
    "\n",
    "def record_tests(threshold=3, size=1000):\n",
    "    ns = []\n",
    "    spell_power_counts = []\n",
    "    attack_power_counts = []\n",
    "    for _ in range(size):\n",
    "        n, spell_power_count, attack_power_count = test(threshold)\n",
    "        if n < 0:  # 억까당한 경우만 기록\n",
    "            continue\n",
    "        ns.append(n)\n",
    "        spell_power_counts.append(spell_power_count)\n",
    "        attack_power_counts.append(attack_power_count)\n",
    "    ns = np.array(ns)\n",
    "    spell_power_counts = np.array(spell_power_counts)\n",
    "    attack_power_counts = np.array(attack_power_counts)\n",
    "    return ns, spell_power_counts, attack_power_counts"
   ]
  },
  {
   "cell_type": "code",
   "execution_count": 2,
   "metadata": {
    "executionInfo": {
     "elapsed": 24867,
     "status": "ok",
     "timestamp": 1704900046872,
     "user": {
      "displayName": "한재수",
      "userId": "07894730815227911058"
     },
     "user_tz": -540
    },
    "id": "M86zHsJnwfPk"
   },
   "outputs": [],
   "source": [
    "# 궁금증: 억까당하고 에디 공격력 2줄을 뽑았을 때 첫 줄 옵션에서 공격력보다 마력이 더 많이 등장했을까?\n",
    "threshold = 3\n",
    "size = 50000\n",
    "ns, spell_power_counts, attack_power_counts = record_tests(threshold=threshold, size=size)"
   ]
  },
  {
   "cell_type": "markdown",
   "metadata": {},
   "source": [
    "`-` 마력 2줄을 3번 획득한 후에 공격력 2줄을 획득한 경우 억까당했다고 볼 수 있을 것이다"
   ]
  },
  {
   "cell_type": "markdown",
   "metadata": {},
   "source": [
    "- 억까당하고 공격력 2줄을 뽑기위해 시도한 횟수"
   ]
  },
  {
   "cell_type": "code",
   "execution_count": 16,
   "metadata": {
    "colab": {
     "base_uri": "https://localhost:8080/",
     "height": 448
    },
    "executionInfo": {
     "elapsed": 618,
     "status": "ok",
     "timestamp": 1704900049133,
     "user": {
      "displayName": "한재수",
      "userId": "07894730815227911058"
     },
     "user_tz": -540
    },
    "id": "dhOKYeSIzwes",
    "outputId": "ea2203d7-fa37-4f83-a00a-f73156f3b8a2"
   },
   "outputs": [
    {
     "data": {
      "image/png": "[encoded data removed]",
      "text/plain": [
       "<Figure size 432x288 with 1 Axes>"
      ]
     },
     "metadata": {
      "needs_background": "light"
     },
     "output_type": "display_data"
    }
   ],
   "source": [
    "plt.hist(ns, bins=50)\n",
    "plt.show()"
   ]
  },
  {
   "cell_type": "markdown",
   "metadata": {},
   "source": [
    "- 억까당하고 공격력 2줄을 뽑았을 때 첫 줄 옵션에서 공격력보다 마력이 더 많이 등장했을까?"
   ]
  },
  {
   "cell_type": "code",
   "execution_count": 18,
   "metadata": {
    "colab": {
     "base_uri": "https://localhost:8080/"
    },
    "executionInfo": {
     "elapsed": 306,
     "status": "ok",
     "timestamp": 1704900064555,
     "user": {
      "displayName": "한재수",
      "userId": "07894730815227911058"
     },
     "user_tz": -540
    },
    "id": "hqlGwHdItByf",
    "outputId": "08b10648-440d-4650-da6f-15edaf45c5f7"
   },
   "outputs": [
    {
     "data": {
      "text/plain": [
       "(array([14, 27, 19, 40, 23, 10, 19, 27, 23, 17]),\n",
       " array([13, 18, 10, 22, 22,  9, 23, 21, 17, 20]))"
      ]
     },
     "execution_count": 18,
     "metadata": {},
     "output_type": "execute_result"
    }
   ],
   "source": [
    "spell_power_counts[:10], attack_power_counts[:10]"
   ]
  },
  {
   "cell_type": "code",
   "execution_count": 19,
   "metadata": {
    "executionInfo": {
     "elapsed": 303,
     "status": "ok",
     "timestamp": 1704900066746,
     "user": {
      "displayName": "한재수",
      "userId": "07894730815227911058"
     },
     "user_tz": -540
    },
    "id": "Z5A9PGE0tO1e"
   },
   "outputs": [],
   "source": [
    "gaps = spell_power_counts - attack_power_counts"
   ]
  },
  {
   "cell_type": "code",
   "execution_count": 20,
   "metadata": {
    "colab": {
     "base_uri": "https://localhost:8080/"
    },
    "executionInfo": {
     "elapsed": 3,
     "status": "ok",
     "timestamp": 1704900068096,
     "user": {
      "displayName": "한재수",
      "userId": "07894730815227911058"
     },
     "user_tz": -540
    },
    "id": "OwgSkOBNuBqt",
    "outputId": "656bb5b8-eac8-4d9d-e68a-a40d4d5fe9f5"
   },
   "outputs": [
    {
     "name": "stdout",
     "output_type": "stream",
     "text": [
      "6193\n"
     ]
    }
   ],
   "source": [
    "print(len(gaps))"
   ]
  },
  {
   "cell_type": "code",
   "execution_count": 21,
   "metadata": {
    "colab": {
     "base_uri": "https://localhost:8080/"
    },
    "executionInfo": {
     "elapsed": 3,
     "status": "ok",
     "timestamp": 1704900069810,
     "user": {
      "displayName": "한재수",
      "userId": "07894730815227911058"
     },
     "user_tz": -540
    },
    "id": "QZUYf2TVuqGN",
    "outputId": "3ddd6963-77aa-44c4-8bba-aa4a37234af9"
   },
   "outputs": [
    {
     "data": {
      "text/plain": [
       "array([ 1,  9,  9, 18,  1,  1, -4,  6,  6, -3])"
      ]
     },
     "execution_count": 21,
     "metadata": {},
     "output_type": "execute_result"
    }
   ],
   "source": [
    "gaps[:10]"
   ]
  },
  {
   "cell_type": "code",
   "execution_count": 22,
   "metadata": {
    "colab": {
     "base_uri": "https://localhost:8080/"
    },
    "executionInfo": {
     "elapsed": 325,
     "status": "ok",
     "timestamp": 1704900075502,
     "user": {
      "displayName": "한재수",
      "userId": "07894730815227911058"
     },
     "user_tz": -540
    },
    "id": "noSZDY3k83Fa",
    "outputId": "b688f574-a70a-4731-b410-6adc3918497b"
   },
   "outputs": [
    {
     "data": {
      "text/plain": [
       "18015"
      ]
     },
     "execution_count": 22,
     "metadata": {},
     "output_type": "execute_result"
    }
   ],
   "source": [
    "sum(gaps)"
   ]
  },
  {
   "cell_type": "markdown",
   "metadata": {
    "id": "AhCFLtgm-cS5"
   },
   "source": [
    "`-` 에디 마력 2줄을 3번 획득한 후 공격력 2줄을 획득한 사람은 50000명 중 6193명이다\n",
    "\n",
    "`-` 이 6193명의 경우 첫 번째 줄에서 마력이 공격력보다 18015번 더 등장했다"
   ]
  },
  {
   "cell_type": "code",
   "execution_count": 3,
   "metadata": {
    "id": "YJJaeampxBXN"
   },
   "outputs": [],
   "source": [
    "# 궁금증: 일반적인 상황에선 에디 공격력 2줄을 뽑았을 때 첫 줄 옵션에서 공격력보다 마력이 더 많이 등장했을까?\n",
    "threshold = 0\n",
    "size = 50000\n",
    "ns, spell_power_counts, attack_power_counts = record_tests(threshold=threshold, size=size)"
   ]
  },
  {
   "cell_type": "markdown",
   "metadata": {},
   "source": [
    "- 공격력 2줄을 뽑기위해 시도한 횟수"
   ]
  },
  {
   "cell_type": "code",
   "execution_count": 4,
   "metadata": {},
   "outputs": [
    {
     "data": {
      "image/png": "[encoded data removed]",
      "text/plain": [
       "<Figure size 432x288 with 1 Axes>"
      ]
     },
     "metadata": {
      "needs_background": "light"
     },
     "output_type": "display_data"
    }
   ],
   "source": [
    "plt.hist(ns, bins=50)\n",
    "plt.show()"
   ]
  },
  {
   "cell_type": "markdown",
   "metadata": {},
   "source": [
    "- 일반적인 상황에선 공격력 2줄을 뽑았을 때 첫 줄 옵션에서 공격력보다 마력이 더 많이 등장했을까?"
   ]
  },
  {
   "cell_type": "code",
   "execution_count": 5,
   "metadata": {},
   "outputs": [
    {
     "name": "stdout",
     "output_type": "stream",
     "text": [
      "50000\n"
     ]
    }
   ],
   "source": [
    "gaps = spell_power_counts - attack_power_counts\n",
    "print(len(gaps))"
   ]
  },
  {
   "cell_type": "code",
   "execution_count": 6,
   "metadata": {},
   "outputs": [
    {
     "data": {
      "text/plain": [
       "-885"
      ]
     },
     "execution_count": 6,
     "metadata": {},
     "output_type": "execute_result"
    }
   ],
   "source": [
    "sum(gaps)"
   ]
  },
  {
   "cell_type": "code",
   "execution_count": 8,
   "metadata": {},
   "outputs": [
    {
     "data": {
      "text/plain": [
       "0.0177"
      ]
     },
     "execution_count": 8,
     "metadata": {},
     "output_type": "execute_result"
    }
   ],
   "source": [
    "885 / 50000"
   ]
  },
  {
   "cell_type": "markdown",
   "metadata": {},
   "source": [
    "`-` 공격력 2줄을 뽑았을 때 첫 번째 줄에서 공격력이 마력보다 885번 더 등장했다\n",
    "\n",
    "`-` 이는 표본 크기의 $1.77\\%$로 오차 범위내에 존재한다\n",
    "\n",
    "`-` 결론: 억까인 상황에 대해서는 첫 줄에 마력이 공격력보다 더 많이 등장한다"
   ]
  },
  {
   "cell_type": "markdown",
   "metadata": {},
   "source": [
    "- 최소한의 억까?"
   ]
  },
  {
   "cell_type": "markdown",
   "metadata": {},
   "source": [
    "`-` 한편, 억까의 기준이 너무 높다고 생각할 수 있다\n",
    "\n",
    "`-` 위에서 정한 억까의 기준은 에디 마력 2줄을 3번 획득한 후 공격력 2줄을 획득한 경우이다\n",
    "\n",
    "`-` 억까의 기준을 가장 약하게 정한다면 에디 마력 2줄을 1번 획득한 후 공격력 2줄을 획득한 경우로 정의할 수 있다"
   ]
  },
  {
   "cell_type": "code",
   "execution_count": 2,
   "metadata": {},
   "outputs": [],
   "source": [
    "# 궁금증: 최소한의 억까를 당하고 에디 공격력 2줄을 뽑았을 때 첫 줄 옵션에서 공격력보다 마력이 더 많이 등장했을까?\n",
    "threshold = 1\n",
    "size = 50000\n",
    "ns, spell_power_counts, attack_power_counts = record_tests(threshold=threshold, size=size)"
   ]
  },
  {
   "cell_type": "code",
   "execution_count": 3,
   "metadata": {},
   "outputs": [],
   "source": [
    "gaps = spell_power_counts - attack_power_counts"
   ]
  },
  {
   "cell_type": "code",
   "execution_count": 4,
   "metadata": {},
   "outputs": [
    {
     "name": "stdout",
     "output_type": "stream",
     "text": [
      "24954\n"
     ]
    }
   ],
   "source": [
    "print(len(gaps))"
   ]
  },
  {
   "cell_type": "code",
   "execution_count": 5,
   "metadata": {},
   "outputs": [
    {
     "data": {
      "text/plain": [
       "24057"
      ]
     },
     "execution_count": 5,
     "metadata": {},
     "output_type": "execute_result"
    }
   ],
   "source": [
    "sum(gaps)"
   ]
  },
  {
   "cell_type": "markdown",
   "metadata": {},
   "source": [
    "`-` 에디 마력 2줄을 1번 획득한 후 공격력 2줄을 획득한 사람은 50000명 중 24954명이다\n",
    "\n",
    "`-` 이 24954명의 경우 첫 번째 줄에서 마력이 공격력보다 24057번 더 등장했다\n",
    "\n",
    "`-` 즉, 억까의 기준이 낮든 높든 편향되어 있으면 편향된 데이터를 얻게 된다 "
   ]
  },
  {
   "cell_type": "code",
   "execution_count": null,
   "metadata": {},
   "outputs": [],
   "source": []
  }
 ],
 "metadata": {
  "colab": {
   "authorship_tag": "ABX9TyNOpcv4Y3mXNgidgL+0hH8M",
   "provenance": [],
   "toc_visible": true
  },
  "kernelspec": {
   "display_name": "Python 3 (ipykernel)",
   "language": "python",
   "name": "python3"
  },
  "language_info": {
   "codemirror_mode": {
    "name": "ipython",
    "version": 3
   },
   "file_extension": ".py",
   "mimetype": "text/x-python",
   "name": "python",
   "nbconvert_exporter": "python",
   "pygments_lexer": "ipython3",
   "version": "3.8.11"
  }
 },
 "nbformat": 4,
 "nbformat_minor": 4
}
