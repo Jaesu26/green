{
 "cells": [
  {
   "cell_type": "markdown",
   "metadata": {},
   "source": [
    "# 공격력/마력 확률 문제\n",
    "\n",
    "> \"작성 완료\"\n",
    "\n",
    "- toc: true\n",
    "- branch: master\n",
    "- badges: true\n",
    "- comments: true\n",
    "- author: 한재수\n",
    "- categories: [Statistics, Python]"
   ]
  },
  {
   "cell_type": "markdown",
   "metadata": {},
   "source": [
    "## 문제 설정"
   ]
  },
  {
   "cell_type": "markdown",
   "metadata": {},
   "source": [
    "`-` 공격력 직업으로 공격력 2줄 옵션(12% / 9%)을 획득할 때까지 에디셔널 잠재 능력을 재설정하는 상황을 가정하자\n",
    "\n",
    "`-` 옵션을 재설정하다보면 공격력 2줄이 등장하기 전에 마력 2줄이 등장하는 경우를 쉽게 볼 수 있다\n",
    "\n",
    "`-` 누군가는 공격력 직업으로 옵션을 재설정할 경우 공격력보다 마력이 등장할 확률이 더 높다고 체감할 수 있다\n",
    "\n",
    "`-` 여기서 가설은 `공격력 직업으로 옵션을 재설정할 경우 공격력 2줄보다 마력 2줄이 등장할 확률이 더 높다` 이다\n",
    "\n",
    "`-` 이것이 진짜인지 확인하는 방법은 간단한데 공격력 직업으로 에디셔널 잠재 능력을 수많이 재설정하면 된다\n",
    "\n",
    "`-` 이를 혼자 진행하는 것은 어려우니 여러 명에게 데이터를 받아 진행할 수도 있다\n",
    "\n",
    "`-` 만약, 데이터를 받을 사람을 미리 무작위로 정하는 것이 아닌 아무나에게 데이터를 받는다면 해당 데이터가 편향될 가능성이 높다\n",
    "\n",
    "`-` 대개, 데이터를 제출하는 사람은 해당 가설이 참이라고 느낀 사람이 많을 것이다\n",
    "\n",
    "`-` 반대로 공격력 2줄 옵션을 마력 2줄 옵션보다 먼저 획득한 사람은 해당 가설이 거짓이라고 생각하며 굳이 데이터를 제출하진 않을 것이다 (가설이 거짓임을 체감했기 때문)\n",
    "\n",
    "`-` 그러면 수집된 데이터에는 마력 2줄 옵션이 공격력 2줄보다 많이 포함되고 이는 가설이 참이라는 결론을 도출하게 된다\n",
    "\n",
    "`-` 무작위로 수집된 데이터라면 공격력 2줄이 등장할 확률과 마력 2줄이 등장할 확률은 같다\n",
    "\n",
    "`-` 이에 대해 보충 설명을 하면 다음과 같다\n",
    "\n",
    "`-` $n$명의 사람들에 대해 공격력 2줄 옵션이 나올 때까지 큐브를 사용한다고 가정하자\n",
    "\n",
    "`-` 이 중 평균적으로 $\\frac{n}{2}$명은 공격력 2줄 옵션이 먼저 나왔을 것이며 나머지 $\\frac{n}{2}$명은 마력 2줄 옵션이 먼저 나왔을 것이다\n",
    "\n",
    "`-` 여기서, `공격력 등장 횟수 = 마력 등장 횟수 = n / 2`이다\n",
    "\n",
    "`-` 마력 2줄 옵션이 먼저 나온 $\\frac{n}{2}$명은 공격력 2줄 옵션을 얻을 때까지 큐브를 사용한다\n",
    "\n",
    "`-` 그러면 $\\frac{n}{2}$명 중 평균적으로 $\\frac{n}{4}$명은 공격력 2줄 옵션이 먼저 나왔을 것이며 나머지 $\\frac{n}{4}$명은 마력 2줄 옵션이 먼저 나왔을 것이다\n",
    "\n",
    "`-` 여기서, `공격력 등장 횟수 = 마력 등장 횟수 = n / 4`이다\n",
    "\n",
    "`-` 이를 반복하면 $n$명의 사람들이 큐브를 사용해서 얻은 잠재능력 중 공격력 2줄 옵션이 등장한 횟수의 기댓값은 $\\frac{n}{2} + \\frac{n}{4} + \\cdots = n$ 이며 마력도 동일하다\n",
    "\n",
    "`-` 그런데 공격력 2줄 옵션 또는 마력 2줄 옵션을 확인하는 것이 아니라 첫 번째줄 옵션이 공격력인지 마력인지 확인하는 경우는 어떨까?\n",
    "\n",
    "`-` 마력 2줄이 많이 등장했더라도 첫 번째줄 옵션만 놓고보면 공격력이 마력보다 많이 등장했을 수도 있다\n",
    "\n",
    "`-` 하지만, 마력 2줄이 많이 등장했다는 것은 해당 수치만큼 첫 번째 줄 옵션에서 마력이 등장했다는 것을 의미한다\n",
    "\n",
    "`-` 즉, 첫 번째 줄 옵션에서 마력이 어느정도 등장했음을 보장하므로 첫 번째 줄에서 공격력보다 마력이 평균적으로 많이 등장했을 것이다  \n",
    "\n",
    "`-` 궁금증: `마력 2줄을 여러 번 획득한 후 공격력 2줄을 획득했을 때 첫 번째 줄 옵션은 마력이 공격력보다 많이 획득되도록 편향되었을까?`"
   ]
  },
  {
   "cell_type": "markdown",
   "metadata": {},
   "source": [
    "> Note: 첫 번째 줄에서 공격력이 등장할 확률 = 마력이 등장할 확률 = $4.878\\%$"
   ]
  },
  {
   "cell_type": "markdown",
   "metadata": {},
   "source": [
    "> Note: 두 번째 줄에서 공격력이 등장할 확률 = 마력이 등장할 확률 = $6.2791\\%$"
   ]
  },
  {
   "cell_type": "markdown",
   "metadata": {},
   "source": [
    "> Note: 세 번째 줄에서 공격력이 등장할 확률 = 마력이 등장할 확률 = $6.907\\%$"
   ]
  },
  {
   "cell_type": "code",
   "execution_count": 75,
   "metadata": {
    "executionInfo": {
     "elapsed": 308,
     "status": "ok",
     "timestamp": 1704900020330,
     "user": {
      "displayName": "한재수",
      "userId": "07894730815227911058"
     },
     "user_tz": -540
    },
    "id": "Z6ysGOKpk92A"
   },
   "outputs": [],
   "source": [
    "#collapse\n",
    "import matplotlib.pyplot as plt\n",
    "import numpy as np\n",
    "import pandas as pd\n",
    "from tqdm import tqdm\n",
    "\n",
    "\n",
    "class AdditionalCube:\n",
    "    def __init__(self):\n",
    "        self.first_option2prob = {\"공격력\": 0.04878, \"마력\": 0.04878, \"잡옵\": 1 - 0.04878 * 2}\n",
    "        self.second_option2prob = {\"공격력\": 0.062791, \"마력\": 0.062791, \"잡옵\": 1 - 0.062791 * 2}\n",
    "        self.third_option2prob = {\"공격력\": 0.06907, \"마력\": 0.06907, \"잡옵\": 1 - 0.06907 * 2}\n",
    "\n",
    "    def roll(self):\n",
    "        return (\n",
    "            self._get_random_option(self.first_option2prob),\n",
    "            self._get_random_option(self.second_option2prob),\n",
    "            self._get_random_option(self.third_option2prob),\n",
    "        )\n",
    "\n",
    "    def _get_random_option(self, option2prob):\n",
    "        rand = np.random.rand()\n",
    "        cumulative_prob = 0.0\n",
    "        for option, prob in option2prob.items():\n",
    "            cumulative_prob += prob\n",
    "            if rand <= cumulative_prob:\n",
    "                return option\n",
    "\n",
    "\n",
    "class CubeResultAnalyzer:\n",
    "    def is_attack_power(self, option):\n",
    "        return option == \"공격력\"\n",
    "\n",
    "    def is_magic_power(self, option):\n",
    "        return option == \"마력\"\n",
    "\n",
    "    def is_valid_attack_power(self, first, second, third):\n",
    "        return self.is_attack_power(first) and (self.is_attack_power(second) or self.is_attack_power(third))\n",
    "\n",
    "    def is_valid_magic_power(self, first, second, third):\n",
    "        return self.is_magic_power(first) and (self.is_magic_power(second) or self.is_magic_power(third))\n",
    "\n",
    "\n",
    "class History:\n",
    "    def __init__(self):\n",
    "        self.data = []\n",
    "\n",
    "    def record(self, data: dict):\n",
    "        self.data.append(data)\n",
    "\n",
    "    def reset(self):\n",
    "        self.data.clear\n",
    "\n",
    "    def to_pandas(self):\n",
    "        return pd.DataFrame.from_records(self.data)\n",
    "\n",
    "\n",
    "class CubeSimulator:\n",
    "    def __init__(self, cube, threshold=3):\n",
    "        self.cube = cube\n",
    "        self.threshold = threshold\n",
    "        self.analyzer = CubeResultAnalyzer()\n",
    "        self.history = History()\n",
    "\n",
    "    def reset(self):\n",
    "        self.history.reset()\n",
    "        self._reset_init_conditions()\n",
    "\n",
    "    def _reset_init_conditions(self):\n",
    "        self.n = 0\n",
    "        self.attack_power_count = 0\n",
    "        self.valid_attack_power_count = 0\n",
    "        self.magic_power_count = 0\n",
    "        self.valid_magic_power_count = 0\n",
    "\n",
    "    def simulate_once(self):\n",
    "        first, second, third = self.cube.roll()\n",
    "        self.n += 1\n",
    "        if self.analyzer.is_valid_attack_power(first, second, third):\n",
    "            self.valid_attack_power_count += 1\n",
    "        elif self.analyzer.is_valid_magic_power(first, second, third):\n",
    "            self.valid_magic_power_count += 1\n",
    "        if self.analyzer.is_attack_power(first):\n",
    "            self.attack_power_count += 1\n",
    "        elif self.analyzer.is_magic_power(first):\n",
    "            self.magic_power_count += 1\n",
    "\n",
    "    def simulate_until_attack2(self):\n",
    "        while self.valid_attack_power_count == 0:\n",
    "            self.simulate_once()\n",
    "\n",
    "    def simulate(self, size):\n",
    "        for _ in tqdm(range(size)):\n",
    "            self._reset_init_conditions()\n",
    "            self.simulate_until_attack2()\n",
    "            data = {\n",
    "                \"n\": self.n,\n",
    "                \"attack_power_count\": self.attack_power_count,\n",
    "                \"magic_power_count\": self.magic_power_count,\n",
    "                \"valid_magic_power_count\": self.valid_magic_power_count,\n",
    "            }\n",
    "            self.history.record(data)"
   ]
  },
  {
   "cell_type": "code",
   "execution_count": 86,
   "metadata": {},
   "outputs": [],
   "source": [
    "np.random.seed(2024)"
   ]
  },
  {
   "cell_type": "code",
   "execution_count": 87,
   "metadata": {},
   "outputs": [],
   "source": [
    "cube = AdditionalCube()\n",
    "simulator = CubeSimulator(cube)"
   ]
  },
  {
   "cell_type": "code",
   "execution_count": 88,
   "metadata": {},
   "outputs": [
    {
     "name": "stderr",
     "output_type": "stream",
     "text": [
      "100%|██████████████████████████████████████████████████████████████████████████| 50000/50000 [00:39<00:00, 1259.10it/s]\n"
     ]
    }
   ],
   "source": [
    "size = 50000\n",
    "simulator.simulate(size)"
   ]
  },
  {
   "cell_type": "code",
   "execution_count": 96,
   "metadata": {},
   "outputs": [],
   "source": [
    "df = simulator.history.to_pandas()"
   ]
  },
  {
   "cell_type": "code",
   "execution_count": 97,
   "metadata": {},
   "outputs": [
    {
     "data": {
      "text/html": [
       "<div>\n",
       "<style scoped>\n",
       "    .dataframe tbody tr th:only-of-type {\n",
       "        vertical-align: middle;\n",
       "    }\n",
       "\n",
       "    .dataframe tbody tr th {\n",
       "        vertical-align: top;\n",
       "    }\n",
       "\n",
       "    .dataframe thead th {\n",
       "        text-align: right;\n",
       "    }\n",
       "</style>\n",
       "<table border=\"1\" class=\"dataframe\">\n",
       "  <thead>\n",
       "    <tr style=\"text-align: right;\">\n",
       "      <th></th>\n",
       "      <th>n</th>\n",
       "      <th>attack_power_count</th>\n",
       "      <th>magic_power_count</th>\n",
       "      <th>valid_magic_power_count</th>\n",
       "    </tr>\n",
       "  </thead>\n",
       "  <tbody>\n",
       "    <tr>\n",
       "      <th>0</th>\n",
       "      <td>148</td>\n",
       "      <td>5</td>\n",
       "      <td>7</td>\n",
       "      <td>1</td>\n",
       "    </tr>\n",
       "    <tr>\n",
       "      <th>1</th>\n",
       "      <td>333</td>\n",
       "      <td>12</td>\n",
       "      <td>15</td>\n",
       "      <td>1</td>\n",
       "    </tr>\n",
       "    <tr>\n",
       "      <th>2</th>\n",
       "      <td>11</td>\n",
       "      <td>1</td>\n",
       "      <td>0</td>\n",
       "      <td>0</td>\n",
       "    </tr>\n",
       "    <tr>\n",
       "      <th>3</th>\n",
       "      <td>305</td>\n",
       "      <td>15</td>\n",
       "      <td>14</td>\n",
       "      <td>2</td>\n",
       "    </tr>\n",
       "    <tr>\n",
       "      <th>4</th>\n",
       "      <td>50</td>\n",
       "      <td>1</td>\n",
       "      <td>4</td>\n",
       "      <td>0</td>\n",
       "    </tr>\n",
       "  </tbody>\n",
       "</table>\n",
       "</div>"
      ],
      "text/plain": [
       "     n  attack_power_count  magic_power_count  valid_magic_power_count\n",
       "0  148                   5                  7                        1\n",
       "1  333                  12                 15                        1\n",
       "2   11                   1                  0                        0\n",
       "3  305                  15                 14                        2\n",
       "4   50                   1                  4                        0"
      ]
     },
     "execution_count": 97,
     "metadata": {},
     "output_type": "execute_result"
    }
   ],
   "source": [
    "df.head()"
   ]
  },
  {
   "cell_type": "markdown",
   "metadata": {},
   "source": [
    "## 억까당한 경우"
   ]
  },
  {
   "cell_type": "code",
   "execution_count": 98,
   "metadata": {
    "executionInfo": {
     "elapsed": 24867,
     "status": "ok",
     "timestamp": 1704900046872,
     "user": {
      "displayName": "한재수",
      "userId": "07894730815227911058"
     },
     "user_tz": -540
    },
    "id": "M86zHsJnwfPk"
   },
   "outputs": [],
   "source": [
    "# 궁금증: 억까당하고 에디 공격력 2줄을 뽑았을 때 첫 줄 옵션에서 공격력보다 마력이 더 많이 등장했을까?\n",
    "df_over_magic3 = df.query(\"valid_magic_power_count >= 3\")"
   ]
  },
  {
   "cell_type": "code",
   "execution_count": 99,
   "metadata": {},
   "outputs": [
    {
     "data": {
      "text/html": [
       "<div>\n",
       "<style scoped>\n",
       "    .dataframe tbody tr th:only-of-type {\n",
       "        vertical-align: middle;\n",
       "    }\n",
       "\n",
       "    .dataframe tbody tr th {\n",
       "        vertical-align: top;\n",
       "    }\n",
       "\n",
       "    .dataframe thead th {\n",
       "        text-align: right;\n",
       "    }\n",
       "</style>\n",
       "<table border=\"1\" class=\"dataframe\">\n",
       "  <thead>\n",
       "    <tr style=\"text-align: right;\">\n",
       "      <th></th>\n",
       "      <th>n</th>\n",
       "      <th>attack_power_count</th>\n",
       "      <th>magic_power_count</th>\n",
       "      <th>valid_magic_power_count</th>\n",
       "    </tr>\n",
       "  </thead>\n",
       "  <tbody>\n",
       "    <tr>\n",
       "      <th>5</th>\n",
       "      <td>358</td>\n",
       "      <td>19</td>\n",
       "      <td>18</td>\n",
       "      <td>4</td>\n",
       "    </tr>\n",
       "    <tr>\n",
       "      <th>21</th>\n",
       "      <td>425</td>\n",
       "      <td>18</td>\n",
       "      <td>22</td>\n",
       "      <td>5</td>\n",
       "    </tr>\n",
       "    <tr>\n",
       "      <th>27</th>\n",
       "      <td>308</td>\n",
       "      <td>12</td>\n",
       "      <td>15</td>\n",
       "      <td>3</td>\n",
       "    </tr>\n",
       "    <tr>\n",
       "      <th>71</th>\n",
       "      <td>122</td>\n",
       "      <td>3</td>\n",
       "      <td>5</td>\n",
       "      <td>3</td>\n",
       "    </tr>\n",
       "    <tr>\n",
       "      <th>77</th>\n",
       "      <td>424</td>\n",
       "      <td>22</td>\n",
       "      <td>24</td>\n",
       "      <td>3</td>\n",
       "    </tr>\n",
       "  </tbody>\n",
       "</table>\n",
       "</div>"
      ],
      "text/plain": [
       "      n  attack_power_count  magic_power_count  valid_magic_power_count\n",
       "5   358                  19                 18                        4\n",
       "21  425                  18                 22                        5\n",
       "27  308                  12                 15                        3\n",
       "71  122                   3                  5                        3\n",
       "77  424                  22                 24                        3"
      ]
     },
     "execution_count": 99,
     "metadata": {},
     "output_type": "execute_result"
    }
   ],
   "source": [
    "df_over_magic3.head()"
   ]
  },
  {
   "cell_type": "markdown",
   "metadata": {},
   "source": [
    "`-` 마력 2줄을 3번 이상 획득한 후에 공격력 2줄을 획득한 경우 억까당했다고 볼 수 있을 것이다"
   ]
  },
  {
   "cell_type": "markdown",
   "metadata": {},
   "source": [
    "- 억까당하고 공격력 2줄을 뽑기위해 시도한 횟수"
   ]
  },
  {
   "cell_type": "code",
   "execution_count": 100,
   "metadata": {},
   "outputs": [],
   "source": [
    "ns = df_over_magic3[\"n\"].to_list()"
   ]
  },
  {
   "cell_type": "code",
   "execution_count": 101,
   "metadata": {},
   "outputs": [
    {
     "data": {
      "image/png": "[encoded data removed]",
      "text/plain": [
       "<Figure size 432x288 with 1 Axes>"
      ]
     },
     "metadata": {
      "needs_background": "light"
     },
     "output_type": "display_data"
    }
   ],
   "source": [
    "plt.hist(ns, bins=50)\n",
    "plt.show()"
   ]
  },
  {
   "cell_type": "code",
   "execution_count": 102,
   "metadata": {},
   "outputs": [
    {
     "name": "stdout",
     "output_type": "stream",
     "text": [
      "2529798\n",
      "29\n",
      "2148\n"
     ]
    }
   ],
   "source": [
    "print(sum(ns))\n",
    "print(min(ns))\n",
    "print(max(ns))"
   ]
  },
  {
   "cell_type": "markdown",
   "metadata": {},
   "source": [
    "- 억까당하고 공격력 2줄을 뽑았을 때 첫 줄 옵션에서 공격력보다 마력이 더 많이 등장했을까?"
   ]
  },
  {
   "cell_type": "code",
   "execution_count": 103,
   "metadata": {},
   "outputs": [],
   "source": [
    "attack_power_counts = df_over_magic3[\"attack_power_count\"].to_numpy() \n",
    "magic_power_counts = df_over_magic3[\"magic_power_count\"].to_numpy() "
   ]
  },
  {
   "cell_type": "code",
   "execution_count": 104,
   "metadata": {},
   "outputs": [
    {
     "data": {
      "text/plain": [
       "(array([19, 18, 12,  3, 22, 13,  6,  4, 23, 24], dtype=int64),\n",
       " array([18, 22, 15,  5, 24,  8, 14,  7, 25, 32], dtype=int64))"
      ]
     },
     "execution_count": 104,
     "metadata": {},
     "output_type": "execute_result"
    }
   ],
   "source": [
    "attack_power_counts[:10], magic_power_counts[:10]"
   ]
  },
  {
   "cell_type": "code",
   "execution_count": 105,
   "metadata": {
    "executionInfo": {
     "elapsed": 303,
     "status": "ok",
     "timestamp": 1704900066746,
     "user": {
      "displayName": "한재수",
      "userId": "07894730815227911058"
     },
     "user_tz": -540
    },
    "id": "Z5A9PGE0tO1e"
   },
   "outputs": [],
   "source": [
    "gaps = magic_power_counts - attack_power_counts"
   ]
  },
  {
   "cell_type": "code",
   "execution_count": 106,
   "metadata": {
    "colab": {
     "base_uri": "https://localhost:8080/"
    },
    "executionInfo": {
     "elapsed": 3,
     "status": "ok",
     "timestamp": 1704900068096,
     "user": {
      "displayName": "한재수",
      "userId": "07894730815227911058"
     },
     "user_tz": -540
    },
    "id": "OwgSkOBNuBqt",
    "outputId": "656bb5b8-eac8-4d9d-e68a-a40d4d5fe9f5"
   },
   "outputs": [
    {
     "name": "stdout",
     "output_type": "stream",
     "text": [
      "6256\n"
     ]
    }
   ],
   "source": [
    "print(len(gaps))"
   ]
  },
  {
   "cell_type": "code",
   "execution_count": 107,
   "metadata": {
    "colab": {
     "base_uri": "https://localhost:8080/"
    },
    "executionInfo": {
     "elapsed": 3,
     "status": "ok",
     "timestamp": 1704900069810,
     "user": {
      "displayName": "한재수",
      "userId": "07894730815227911058"
     },
     "user_tz": -540
    },
    "id": "QZUYf2TVuqGN",
    "outputId": "3ddd6963-77aa-44c4-8bba-aa4a37234af9"
   },
   "outputs": [
    {
     "data": {
      "text/plain": [
       "array([-1,  4,  3,  2,  2, -5,  8,  3,  2,  8], dtype=int64)"
      ]
     },
     "execution_count": 107,
     "metadata": {},
     "output_type": "execute_result"
    }
   ],
   "source": [
    "gaps[:10]"
   ]
  },
  {
   "cell_type": "code",
   "execution_count": 108,
   "metadata": {
    "colab": {
     "base_uri": "https://localhost:8080/"
    },
    "executionInfo": {
     "elapsed": 325,
     "status": "ok",
     "timestamp": 1704900075502,
     "user": {
      "displayName": "한재수",
      "userId": "07894730815227911058"
     },
     "user_tz": -540
    },
    "id": "noSZDY3k83Fa",
    "outputId": "b688f574-a70a-4731-b410-6adc3918497b"
   },
   "outputs": [
    {
     "data": {
      "text/plain": [
       "18989"
      ]
     },
     "execution_count": 108,
     "metadata": {},
     "output_type": "execute_result"
    }
   ],
   "source": [
    "sum(gaps)"
   ]
  },
  {
   "cell_type": "markdown",
   "metadata": {
    "id": "AhCFLtgm-cS5"
   },
   "source": [
    "`-` 에디 마력 2줄을 3번 이상 획득한 후 공격력 2줄을 획득한 사람은 50000명 중 6256명이다\n",
    "\n",
    "`-` 이 6256명의 경우 총 2529798번 잠재능력을 재설정 했으며 첫 번째 줄에서 마력이 공격력보다 18989번 더 등장했다\n",
    "\n",
    "`-` 이 수치가 일반적인 경우와 비교했을 때 이상치인지 확인하겠다"
   ]
  },
  {
   "cell_type": "markdown",
   "metadata": {},
   "source": [
    "## 일반적인 경우"
   ]
  },
  {
   "cell_type": "code",
   "execution_count": 109,
   "metadata": {
    "id": "YJJaeampxBXN"
   },
   "outputs": [],
   "source": [
    "# 궁금증: 일반적인 상황에선 에디 공격력 2줄을 뽑았을 때 첫 줄 옵션에서 공격력보다 마력이 더 많이 등장했을까?\n",
    "ns = df[\"n\"].to_list()"
   ]
  },
  {
   "cell_type": "markdown",
   "metadata": {},
   "source": [
    "- 공격력 2줄을 뽑기위해 시도한 횟수"
   ]
  },
  {
   "cell_type": "code",
   "execution_count": 110,
   "metadata": {},
   "outputs": [
    {
     "data": {
      "image/png": "[encoded data removed]",
      "text/plain": [
       "<Figure size 432x288 with 1 Axes>"
      ]
     },
     "metadata": {
      "needs_background": "light"
     },
     "output_type": "display_data"
    }
   ],
   "source": [
    "plt.hist(ns, bins=50)\n",
    "plt.show()"
   ]
  },
  {
   "cell_type": "code",
   "execution_count": 111,
   "metadata": {},
   "outputs": [
    {
     "name": "stdout",
     "output_type": "stream",
     "text": [
      "8046085\n",
      "1\n",
      "2148\n"
     ]
    }
   ],
   "source": [
    "print(sum(ns))\n",
    "print(min(ns))\n",
    "print(max(ns))"
   ]
  },
  {
   "cell_type": "markdown",
   "metadata": {},
   "source": [
    "- 일반적인 상황에선 공격력 2줄을 뽑았을 때 첫 줄 옵션에서 공격력보다 마력이 더 많이 등장했을까?"
   ]
  },
  {
   "cell_type": "code",
   "execution_count": 94,
   "metadata": {},
   "outputs": [
    {
     "name": "stdout",
     "output_type": "stream",
     "text": [
      "50000\n"
     ]
    }
   ],
   "source": [
    "attack_power_counts = df[\"attack_power_count\"].to_numpy() \n",
    "magic_power_counts = df[\"magic_power_count\"].to_numpy() \n",
    "gaps = magic_power_counts - attack_power_counts\n",
    "print(len(gaps))"
   ]
  },
  {
   "cell_type": "code",
   "execution_count": 95,
   "metadata": {},
   "outputs": [
    {
     "data": {
      "text/plain": [
       "147"
      ]
     },
     "execution_count": 95,
     "metadata": {},
     "output_type": "execute_result"
    }
   ],
   "source": [
    "sum(gaps)"
   ]
  },
  {
   "cell_type": "markdown",
   "metadata": {},
   "source": [
    "`-` 공격력 2줄을 뽑았을 때 첫 번째 줄에서 마력보다 공격력이 323번 더 등장했다\n",
    "\n",
    "`-` 50000명이 총 8046085번 잠재능력을 재설정 했으며 첫 번째 줄에서 마력이 공격력보다 147번 더 등장했다\n",
    "\n",
    "`-` 첫 번째 줄에서 공격력, 마력이 각각 등장할 확률 $p= 0.04878$이다\n",
    "\n",
    "`-` $n=8046085$이므로 이항분포 $B(8046085, 0.04878)$를 생각할 수 있다\n",
    "\n",
    "`-` 이는 한 번의 시행마다 공격력을 얻을 확률이 $0.04878$인 잠재능력 재설정을 8046085번 했을 때 등장한 공격력 옵션의 개수임을 뜻한다 (마력도 동일함)\n",
    "\n",
    "`-` 그런데 표본을 수집할 때 $n=8046085$을 처음부터 정한 것은 아니며 여기서 $n$은 확률 변수의 실현치이다 (공격력 2줄을 50000번 얻을때까지 잠재능력 재설정을 한 횟수)\n",
    "\n",
    "`-` 왜냐하면 8046085번 잠재능력을 설정한게 아니라 50000명의 사람들이 각각 공격력 2줄이 나올때까지 잠재능력을 재설정한 결과를 취합한 것이기 때문이다\n",
    "\n",
    "`-` 항상 잠재능력 재설정의 마지막 결과는 공격력 2줄(공격력 1줄은 당연히 포함)이므로 여기서 첫 번째 줄에서 공격력이 등장한 횟수의 분포는 정확하게 이항 분포를 따르지는 않는다\n",
    "\n",
    "`-` 하지만 표본 크기가 8046085로 매우 크므로 이항 분포로 근사 가능하다\n",
    "\n",
    "`-` 공격력 2줄을 50000번 얻을 때까지 잠재능력 재설정을 하여 총 8046085번 잠재능력을 재설정 했을 때 첫 번째 줄에서 공격력이 등장한 횟수를 $X$라 하자\n",
    "\n",
    "`-` 확률 변수 $X$는 근사적으로 이항 분포 $B(8046085, 0.04878)$를 따르며 마력의 경우도 이와 동일하며 확률 변수 $Y$라 칭하자 \n",
    "\n",
    "`-` $np=8046085\\times0.04878=392488$로 충분히 크므로 확률 변수 $X$와 $Y$는 $N(np, np(1-p))$로 근사 가능하다\n",
    "\n",
    "`-` 이때 확률 변수 $W=Y-X$는 정규분포의 성질에 의해 $N(0, 2np(1-p))$를 따른다\n",
    "\n",
    "`-` 정규분포에서 $95\\%$의 데이터는 $(\\mu-2\\sigma, \\mu+2\\sigma)$에 존재하는데 이를 계산하면 $(-1771, 1771)$이다\n",
    "\n",
    "`-` 즉, 147이란 값은 충분히 등장할 수 있는 수치이다\n",
    "\n",
    "`-` 위에서는 $n$도 2529798로 더 작으며 확률 변수 실현치인 18989도 $(-1771, 1771)$ 구간을 벗어났으니 편향된 값이라 볼 수 있다\n",
    "\n",
    "`-` 결론: 억까인 상황에 대해서는 첫 줄에 마력이 공격력보다 더 많이 등장한다"
   ]
  },
  {
   "cell_type": "markdown",
   "metadata": {},
   "source": [
    "## 최소한의 억까?"
   ]
  },
  {
   "cell_type": "markdown",
   "metadata": {},
   "source": [
    "`-` 한편, 억까의 기준이 너무 높다고 생각할 수 있다\n",
    "\n",
    "`-` 위에서 정한 억까의 기준은 에디 마력 2줄을 3번 이상 획득한 후 공격력 2줄을 획득한 경우이다\n",
    "\n",
    "`-` 억까의 기준을 가장 약하게 정한다면 `에디 마력 2줄을 단 1번` 획득한 후 공격력 2줄을 획득한 경우로 정의할 수 있다"
   ]
  },
  {
   "cell_type": "code",
   "execution_count": 116,
   "metadata": {},
   "outputs": [],
   "source": [
    "# 궁금증: 최소한의 억까를 당하고 에디 공격력 2줄을 뽑았을 때 첫 줄 옵션에서 공격력보다 마력이 더 많이 등장했을까?\n",
    "df_magic1 = df.query(\"valid_magic_power_count == 1\")"
   ]
  },
  {
   "cell_type": "code",
   "execution_count": 118,
   "metadata": {},
   "outputs": [],
   "source": [
    "ns = df_magic1[\"n\"].to_list()"
   ]
  },
  {
   "cell_type": "code",
   "execution_count": 119,
   "metadata": {},
   "outputs": [
    {
     "name": "stdout",
     "output_type": "stream",
     "text": [
      "2015066\n",
      "3\n",
      "1030\n"
     ]
    }
   ],
   "source": [
    "print(sum(ns))\n",
    "print(min(ns))\n",
    "print(max(ns))"
   ]
  },
  {
   "cell_type": "code",
   "execution_count": 120,
   "metadata": {},
   "outputs": [],
   "source": [
    "attack_power_counts = df_magic1[\"attack_power_count\"].to_numpy() \n",
    "magic_power_counts = df_magic1[\"magic_power_count\"].to_numpy() \n",
    "gaps = magic_power_counts - attack_power_counts"
   ]
  },
  {
   "cell_type": "code",
   "execution_count": 121,
   "metadata": {},
   "outputs": [
    {
     "name": "stdout",
     "output_type": "stream",
     "text": [
      "12561\n"
     ]
    }
   ],
   "source": [
    "print(len(gaps))"
   ]
  },
  {
   "cell_type": "code",
   "execution_count": 122,
   "metadata": {},
   "outputs": [
    {
     "data": {
      "text/plain": [
       "372"
      ]
     },
     "execution_count": 122,
     "metadata": {},
     "output_type": "execute_result"
    }
   ],
   "source": [
    "sum(gaps)"
   ]
  },
  {
   "cell_type": "markdown",
   "metadata": {},
   "source": [
    "`-` 에디 마력 2줄을 단 1번 획득한 후 공격력 2줄을 획득한 사람은 50000명 중 12561명이다\n",
    "\n",
    "`-` 이 12561명의 경우 총 2015066번 잠재능력을 재설정 했으며 첫 번째 줄에서 마력이 공격력보다 372번 더 등장했다\n",
    "\n",
    "`-` 위에서 계산한 것과 동일하게 해보면 $95\\%$의 데이터는 $(-864, 864)$에 존재한다\n",
    "\n",
    "`-` 이는 일반적인 기준과 비교했을 때 이상치로 취급되지 않는다\n",
    "\n",
    "`-` 따라서 일반적인 경우에서 샘플링한 것인지 에디 마력 2줄을 1번 획득한 후 공격력 2줄을 획득한 사람을 대상으로 샘플링한 것인지 구분할 수 없다\n",
    "\n",
    "`-` 생각해보면 당연한게 마력 2줄을 1번 획득했고 공격력 2줄도 동일하게 1번 획득했다\n",
    "\n",
    "`-` 즉, 둘의 비율이 $1:1$이다\n",
    "\n",
    "`-` 일반적인 경우도 맨 처음에 계산했듯이 둘의 비율이 $1:1$이다\n",
    "\n",
    "`-` 그러니 구분하지 못하는게 당연하고 오히려 첫 번째 줄에서 공격력 또는 마력이 나머지에 비해 $431$번 더 등장했다면 문제가 된다\n",
    "\n",
    "`-` 처음에 설정한 궁금증은 `마력 2줄을 여러 번 획득한 후 공격력 2줄을 획득했을 때 첫 번째 줄 옵션은 마력이 공격력보다 많이 획득되도록 편향되었을까?`였다\n",
    "\n",
    "`-` 이 궁금증은 `에디 마력 2줄을 단 1번 획득한 후 공격력 2줄을 획득한 사람`을 제외하곤 성립한다"
   ]
  },
  {
   "cell_type": "code",
   "execution_count": null,
   "metadata": {},
   "outputs": [],
   "source": []
  }
 ],
 "metadata": {
  "colab": {
   "authorship_tag": "ABX9TyNOpcv4Y3mXNgidgL+0hH8M",
   "provenance": [],
   "toc_visible": true
  },
  "kernelspec": {
   "display_name": "Python 3 (ipykernel)",
   "language": "python",
   "name": "python3"
  },
  "language_info": {
   "codemirror_mode": {
    "name": "ipython",
    "version": 3
   },
   "file_extension": ".py",
   "mimetype": "text/x-python",
   "name": "python",
   "nbconvert_exporter": "python",
   "pygments_lexer": "ipython3",
   "version": "3.8.11"
  }
 },
 "nbformat": 4,
 "nbformat_minor": 4
}
