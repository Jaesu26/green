{
 "cells": [
  {
   "cell_type": "markdown",
   "id": "90564c2f-d66d-4ce6-87c2-0ee4d50636a2",
   "metadata": {},
   "source": [
    "# 익몬 적합도 검정\n",
    "\n",
    "> \"작성 중\"\n",
    "\n",
    "- toc: true\n",
    "- branch: master\n",
    "- badges: true\n",
    "- comments: true\n",
    "- hide: true\n",
    "- author: 한재수\n",
    "- categories: [Statistics]"
   ]
  },
  {
   "cell_type": "markdown",
   "id": "3f7415a0-310e-4b5b-958e-d4923b4cacd6",
   "metadata": {},
   "source": [
    "체감상 맨날 마지막 탐색 위치(7시)에 뜸\n",
    "\n",
    "오늘도 1극탐에 7시에 뜸\n",
    "\n",
    "그래서 다음부터 위치 기록하기로 하고 이 참에 검정도 하기로 함\n",
    "\n",
    "한줄 요약: 빅풋 등장 위치 꼬와서 시작함\n",
    "\n",
    "영가설: 각 위치별 빅풋 등장확률은 같다(즉 각각 1/10)\n",
    "\n",
    "대안가설: 각 위치별 빅풋 등장확률은 같지 않다\n",
    "\n",
    "다항분포이므로 카이제곱분포 사용하면 됨\n",
    "\n",
    "적합도 검정(기대도수 계산하면 됨), 유의수준은 0.99로 세팅 (0.95면 5% 억까 당할지도)\n",
    "\n",
    "일반적으로 기대도수가 5이상인 범주가 80%는 되야 함, 표본 크기를 45로 하면 각 기대 도수는 5이다. \n",
    "\n",
    "나는 유의수준을 크게 해서 신뢰구간도 크므로 유의 수준 0.95에 비해서 기각하기 쉽지 않음\n",
    "\n",
    "따라서 표본 크기 n = 100으로 하기로 함\n",
    "\n",
    "total: 100\n",
    "\n",
    "제단: 12\n",
    "\n",
    "1시: 8\n",
    "\n",
    "3시: 15\n",
    "\n",
    "5시: 13\n",
    "\n",
    "6시: 7\n",
    "\n",
    "7시: 13\n",
    "\n",
    "9시: 15\n",
    "\n",
    "11시: 4\n",
    "\n",
    "12시: 13\n",
    "\n",
    "statistic=10.7, \n",
    "\n",
    "pvalue=0.2192837586860077\n",
    "\n",
    "유의수준 0.01보다 p-valud가 훨씬 크므로 기각 못함\n",
    "\n",
    "따라서 영가설을 기각할 수 없음 "
   ]
  },
  {
   "cell_type": "code",
   "execution_count": 2,
   "id": "8f568fff-3114-4332-ae62-9032ea37de0b",
   "metadata": {},
   "outputs": [],
   "source": [
    "data = {0: 12,\n",
    "    1: 8,\n",
    "    3: 15,\n",
    "    5: 13,\n",
    "    6: 7,\n",
    "    7: 13,\n",
    "    9: 15,\n",
    "    11: 4,\n",
    "    12: 13,\n",
    "}"
   ]
  },
  {
   "cell_type": "code",
   "execution_count": 8,
   "id": "c90bdcbf-7cef-44a8-b9dd-c9cdbf484f60",
   "metadata": {},
   "outputs": [],
   "source": [
    "expected_value = sum(data.values()) / len(data.keys()) \n",
    "x = 0\n",
    "for value in data.values():\n",
    "    x += (value - expected_value)**2 / expected_value"
   ]
  },
  {
   "cell_type": "code",
   "execution_count": null,
   "id": "191e7293-7dda-4115-8bf2-41ecc5d7a444",
   "metadata": {},
   "outputs": [],
   "source": []
  }
 ],
 "metadata": {
  "kernelspec": {
   "display_name": "Python 3 (ipykernel)",
   "language": "python",
   "name": "python3"
  },
  "language_info": {
   "codemirror_mode": {
    "name": "ipython",
    "version": 3
   },
   "file_extension": ".py",
   "mimetype": "text/x-python",
   "name": "python",
   "nbconvert_exporter": "python",
   "pygments_lexer": "ipython3",
   "version": "3.8.11"
  }
 },
 "nbformat": 4,
 "nbformat_minor": 5
}
