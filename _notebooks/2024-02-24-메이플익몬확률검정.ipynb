{
 "cells": [
  {
   "cell_type": "markdown",
   "id": "90564c2f-d66d-4ce6-87c2-0ee4d50636a2",
   "metadata": {},
   "source": [
    "# 익몬 적합도 검정\n",
    "\n",
    "> \"작성 완료\"\n",
    "\n",
    "- toc: true\n",
    "- branch: master\n",
    "- badges: true\n",
    "- comments: true\n",
    "- hide: true\n",
    "- author: 한재수\n",
    "- categories: [Statistics]"
   ]
  },
  {
   "cell_type": "markdown",
   "id": "4a2c0598-55c0-478a-875d-19d3ec6b3e0a",
   "metadata": {},
   "source": [
    "## 가설 설정"
   ]
  },
  {
   "cell_type": "markdown",
   "id": "3f7415a0-310e-4b5b-958e-d4923b4cacd6",
   "metadata": {},
   "source": [
    "`-` 익몬을 하는데 빅풋이 체감상 맨날 마지막 탐색 위치(7시)에 뜸다고 느꼈다\n",
    "\n",
    "`-` 그래서 빅풋의 등장 위치를 기록하기로 하고 적합도 검정도 하기로 했다\n",
    "\n",
    "`-` 한줄 요약: 빅풋의 등장 위치가 편향되었다 싶어서 시작\n",
    "\n",
    "`-` $H_0$: 각 위치별 빅풋 등장확률은 같다\n",
    "\n",
    "`-` $H_a$: 각 위치별 빅풋 등장확률은 같지 않다\n",
    "\n",
    "`-` 적합도 검정, 유의수준은 $0.99$로 결정했다\n",
    "\n",
    "`-` 일반적으로 기대 도수가 $5$이상인 범주가 $80\\%$는 되야 하는데 표본 크기를 $45$로 하면 각 기대 도수는 $5$이다 \n",
    "\n",
    "`-` 나는 유의수준을 크게 해서 신뢰구간도 크므로 유의 수준 $0.95$에 비해서 기각하기 쉽지 않다\n",
    "\n",
    "`-` 따라서 표본 크기 $n = 100$으로 하기로 결정했다"
   ]
  },
  {
   "cell_type": "code",
   "execution_count": 7,
   "id": "b7a667cd-1a33-4acc-8e21-aedd8ded0157",
   "metadata": {},
   "outputs": [],
   "source": [
    "from scipy import stats"
   ]
  },
  {
   "cell_type": "code",
   "execution_count": 8,
   "id": "8f568fff-3114-4332-ae62-9032ea37de0b",
   "metadata": {},
   "outputs": [],
   "source": [
    "data = {0: 12,  # 제단\n",
    "    1: 8,\n",
    "    3: 15,\n",
    "    5: 13,\n",
    "    6: 7,\n",
    "    7: 13,\n",
    "    9: 15,\n",
    "    11: 4,\n",
    "    12: 13,\n",
    "}"
   ]
  },
  {
   "cell_type": "code",
   "execution_count": 9,
   "id": "c90bdcbf-7cef-44a8-b9dd-c9cdbf484f60",
   "metadata": {},
   "outputs": [],
   "source": [
    "n = len(data.keys())\n",
    "expected_value = sum(data.values()) / n\n",
    "x = 0\n",
    "for value in data.values():\n",
    "    x += (value - expected_value)**2 / expected_value"
   ]
  },
  {
   "cell_type": "code",
   "execution_count": 20,
   "id": "f31a1db1-e15a-4747-b5e5-a9d44173ecf8",
   "metadata": {},
   "outputs": [
    {
     "data": {
      "text/plain": [
       "10.700000000000001"
      ]
     },
     "execution_count": 20,
     "metadata": {},
     "output_type": "execute_result"
    }
   ],
   "source": [
    "x"
   ]
  },
  {
   "cell_type": "code",
   "execution_count": 23,
   "id": "1b2dea67-a24c-4ec4-94fb-7789b7c2105d",
   "metadata": {},
   "outputs": [],
   "source": [
    "p_value = 1 - stats.chi2.cdf(x=x, df=n - 1)"
   ]
  },
  {
   "cell_type": "code",
   "execution_count": 24,
   "id": "ace05895-9f9b-4b63-ba0b-2977d4d4111e",
   "metadata": {},
   "outputs": [
    {
     "data": {
      "text/plain": [
       "0.2192837586860077"
      ]
     },
     "execution_count": 24,
     "metadata": {},
     "output_type": "execute_result"
    }
   ],
   "source": [
    "p_value"
   ]
  },
  {
   "cell_type": "markdown",
   "id": "f936d6df-f3af-4e66-8114-217a11f4071e",
   "metadata": {},
   "source": [
    "`-` p-value가 유의 수준보다 크므로 영가설을 기각할 수 없다\n",
    "\n",
    "`-` 따라서, 각 위치별로 빅풋의 등장 확률이 다르다고 할 수 없다"
   ]
  },
  {
   "cell_type": "code",
   "execution_count": null,
   "id": "fd4e7bf7-5a0b-4929-9f04-aa6935f81eaa",
   "metadata": {},
   "outputs": [],
   "source": []
  }
 ],
 "metadata": {
  "kernelspec": {
   "display_name": "Python 3 (ipykernel)",
   "language": "python",
   "name": "python3"
  },
  "language_info": {
   "codemirror_mode": {
    "name": "ipython",
    "version": 3
   },
   "file_extension": ".py",
   "mimetype": "text/x-python",
   "name": "python",
   "nbconvert_exporter": "python",
   "pygments_lexer": "ipython3",
   "version": "3.8.11"
  }
 },
 "nbformat": 4,
 "nbformat_minor": 5
}
