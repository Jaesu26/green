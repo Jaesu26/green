{
 "cells": [
  {
   "cell_type": "markdown",
   "id": "cd329e9b-ca77-4ba9-9c79-ef56e299a6eb",
   "metadata": {},
   "source": [
    "# 고차원 공간일수록 대부분의 점들은 멀리 떨어져 있고 모든 점들 사이의 거리는 평균적으로 같다\n",
    "\n",
    "> \"작성 중\"\n",
    "\n",
    "- toc: true\n",
    "- branch: master\n",
    "- badges: true\n",
    "- comments: true\n",
    "- hide: true\n",
    "- author: 한재수\n",
    "- categories: [Statistics]"
   ]
  },
  {
   "cell_type": "code",
   "execution_count": 25,
   "id": "0e004c3c-bc8c-494e-924e-183677704990",
   "metadata": {},
   "outputs": [],
   "source": [
    "import matplotlib.pyplot as plt\n",
    "import numpy as np"
   ]
  },
  {
   "cell_type": "code",
   "execution_count": 11,
   "id": "be50cd10-abfb-40a0-8b7e-900b663b51f6",
   "metadata": {},
   "outputs": [
    {
     "data": {
      "text/plain": [
       "0.19981770653490832"
      ]
     },
     "execution_count": 11,
     "metadata": {},
     "output_type": "execute_result"
    }
   ],
   "source": [
    "np.sum((np.random.uniform(size=2) - np.random.uniform(size=2))**2)"
   ]
  },
  {
   "cell_type": "code",
   "execution_count": 43,
   "id": "2857797c-b23f-423d-802c-17cb53eff963",
   "metadata": {},
   "outputs": [],
   "source": [
    "n = 1000\n",
    "dim2dist = {2: [], 30000: []}\n",
    "for dim in [2, 30000]: \n",
    "    for _ in range(n):\n",
    "        p1 = np.random.uniform(size=dim)\n",
    "        p2 = np.random.uniform(size=dim)\n",
    "        dist = np.sum((p1 - p2)**2)\n",
    "        dim2dist[dim].append(dist)"
   ]
  },
  {
   "cell_type": "code",
   "execution_count": 38,
   "id": "bf53b1fc-adab-4b18-8c28-4db152a2e5d8",
   "metadata": {},
   "outputs": [
    {
     "data": {
      "text/plain": [
       "(0.0002096937034319855,\n",
       " 1.6285832729634961,\n",
       " 0.34593134346038984,\n",
       " 0.08637199565551319,\n",
       " 7766.4862907613715)"
      ]
     },
     "execution_count": 38,
     "metadata": {},
     "output_type": "execute_result"
    }
   ],
   "source": [
    "min(dim2dist[2]), max(dim2dist[2]), np.mean(dim2dist[2]), np.var(dim2dist[2]), max(dim2dist[2]) / min(dim2dist[2])"
   ]
  },
  {
   "cell_type": "code",
   "execution_count": 24,
   "id": "a42433e5-7db8-48a8-9537-f9ae03705fb8",
   "metadata": {},
   "outputs": [
    {
     "data": {
      "text/plain": [
       "(0.2289251283188965, 4.633467257926964, 1.7003609018743633)"
      ]
     },
     "execution_count": 24,
     "metadata": {},
     "output_type": "execute_result"
    }
   ],
   "source": [
    "min(dim2dist[10]), max(dim2dist[10]), np.mean(dim2dist[10])"
   ]
  },
  {
   "cell_type": "code",
   "execution_count": 31,
   "id": "bcfbd935-c83e-4d48-8f42-764c4c51bba3",
   "metadata": {},
   "outputs": [
    {
     "data": {
      "text/plain": [
       "(2.192176306989295, 8.60620714392669, 4.978863901249808, 1.1912929669596537)"
      ]
     },
     "execution_count": 31,
     "metadata": {},
     "output_type": "execute_result"
    }
   ],
   "source": [
    "min(dim2dist[30]), max(dim2dist[30]), np.mean(dim2dist[30]), np.var(dim2dist[30])"
   ]
  },
  {
   "cell_type": "code",
   "execution_count": 37,
   "id": "7fa19fd6-b28c-47e8-9238-c6c870e664ec",
   "metadata": {},
   "outputs": [
    {
     "data": {
      "text/plain": [
       "(38.47870755047428,\n",
       " 61.327182542855944,\n",
       " 49.74084821028326,\n",
       " 11.320344445619986,\n",
       " 1.5937952817778578)"
      ]
     },
     "execution_count": 37,
     "metadata": {},
     "output_type": "execute_result"
    }
   ],
   "source": [
    "min(dim2dist[300]), max(dim2dist[300]), np.mean(dim2dist[300]), np.var(dim2dist[300]), max(dim2dist[300]) / min(dim2dist[300])"
   ]
  },
  {
   "cell_type": "code",
   "execution_count": 41,
   "id": "a54f6b6b-00b3-4f88-bc28-54a715b96c1c",
   "metadata": {},
   "outputs": [
    {
     "data": {
      "text/plain": [
       "(463.4071309390999,\n",
       " 531.8547062483211,\n",
       " 500.192034811842,\n",
       " 116.15827310494751,\n",
       " 1.1477050540213125)"
      ]
     },
     "execution_count": 41,
     "metadata": {},
     "output_type": "execute_result"
    }
   ],
   "source": [
    "min(dim2dist[3000]), max(dim2dist[3000]), np.mean(dim2dist[3000]), np.var(dim2dist[3000]), max(dim2dist[3000]) / min(dim2dist[3000])"
   ]
  },
  {
   "cell_type": "code",
   "execution_count": 44,
   "id": "52f70836-0f22-4869-a0db-29a1b5e1ce0d",
   "metadata": {},
   "outputs": [
    {
     "data": {
      "text/plain": [
       "(4902.3813668942985,\n",
       " 5133.469601321977,\n",
       " 5000.083729166341,\n",
       " 1228.961585304423,\n",
       " 1.0471379554410463)"
      ]
     },
     "execution_count": 44,
     "metadata": {},
     "output_type": "execute_result"
    }
   ],
   "source": [
    "min(dim2dist[30000]), max(dim2dist[30000]), np.mean(dim2dist[30000]), np.var(dim2dist[30000]), max(dim2dist[30000]) / min(dim2dist[30000])"
   ]
  },
  {
   "cell_type": "code",
   "execution_count": 33,
   "id": "3b53830a-b6c3-46a5-80ae-899ff6a4e916",
   "metadata": {},
   "outputs": [
    {
     "data": {
      "image/png": "[encoded data removed]",
      "text/plain": [
       "<Figure size 432x288 with 1 Axes>"
      ]
     },
     "metadata": {
      "needs_background": "light"
     },
     "output_type": "display_data"
    }
   ],
   "source": [
    "plt.hist(dim2dist[2])\n",
    "plt.show()"
   ]
  },
  {
   "cell_type": "code",
   "execution_count": 28,
   "id": "30db2f3a-7249-4eb8-8064-cbfde390ef11",
   "metadata": {},
   "outputs": [
    {
     "data": {
      "image/png": "[encoded data removed]",
      "text/plain": [
       "<Figure size 432x288 with 1 Axes>"
      ]
     },
     "metadata": {
      "needs_background": "light"
     },
     "output_type": "display_data"
    }
   ],
   "source": [
    "plt.hist(dim2dist[10])\n",
    "plt.show()"
   ]
  },
  {
   "cell_type": "code",
   "execution_count": 34,
   "id": "07cd6ae5-7879-473d-a9c7-f8953683e564",
   "metadata": {},
   "outputs": [
    {
     "data": {
      "image/png": "[encoded data removed]",
      "text/plain": [
       "<Figure size 432x288 with 1 Axes>"
      ]
     },
     "metadata": {
      "needs_background": "light"
     },
     "output_type": "display_data"
    }
   ],
   "source": [
    "plt.hist(dim2dist[30])\n",
    "plt.show()"
   ]
  },
  {
   "cell_type": "code",
   "execution_count": 39,
   "id": "2cf2b9b3-87a8-49c2-8a8c-da0c4794b4e1",
   "metadata": {},
   "outputs": [
    {
     "data": {
      "image/png": "[encoded data removed]",
      "text/plain": [
       "<Figure size 432x288 with 1 Axes>"
      ]
     },
     "metadata": {
      "needs_background": "light"
     },
     "output_type": "display_data"
    }
   ],
   "source": [
    "plt.hist(dim2dist[300])\n",
    "plt.show()"
   ]
  },
  {
   "cell_type": "code",
   "execution_count": 42,
   "id": "13a41d7b-9d23-41c8-9c8c-6eae15cff5e9",
   "metadata": {},
   "outputs": [
    {
     "data": {
      "image/png": "[encoded data removed]",
      "text/plain": [
       "<Figure size 432x288 with 1 Axes>"
      ]
     },
     "metadata": {
      "needs_background": "light"
     },
     "output_type": "display_data"
    }
   ],
   "source": [
    "plt.hist(dim2dist[3000])\n",
    "plt.show()"
   ]
  },
  {
   "cell_type": "code",
   "execution_count": 45,
   "id": "c4c7d162-9789-4560-a972-08f7ef886df1",
   "metadata": {},
   "outputs": [
    {
     "data": {
      "image/png": "[encoded data removed]",
      "text/plain": [
       "<Figure size 432x288 with 1 Axes>"
      ]
     },
     "metadata": {
      "needs_background": "light"
     },
     "output_type": "display_data"
    }
   ],
   "source": [
    "plt.hist(dim2dist[30000])\n",
    "plt.show()"
   ]
  },
  {
   "cell_type": "markdown",
   "id": "b3a36437-81ba-43b9-a441-8cd455b30ee6",
   "metadata": {},
   "source": [
    "`-` 증명할 것: $\\lim\\limits_{d \\to \\infty} \\operatorname{Var}\\left[\\dfrac{R}{\\operatorname{E}\\left[R\\right]}\\right] = 0$"
   ]
  },
  {
   "cell_type": "markdown",
   "id": "957e66d6-a9bb-4e89-95da-302b73dd84db",
   "metadata": {},
   "source": [
    "`-` 참고로 $\\lim\\limits_{d \\to \\infty} \\operatorname{E}\\left[\\dfrac{R}{\\operatorname{E}\\left[R\\right]}\\right] = 1$인데 이는 당연한 결과이다\n",
    "\n",
    "`-` 애초에 $\\operatorname{E}\\left[\\dfrac{R}{\\operatorname{E}\\left[R\\right]}\\right] = 1$이다"
   ]
  },
  {
   "cell_type": "code",
   "execution_count": null,
   "id": "8c3c7896-3035-4ff7-b359-833a5145c843",
   "metadata": {},
   "outputs": [],
   "source": []
  }
 ],
 "metadata": {
  "kernelspec": {
   "display_name": "Python 3 (ipykernel)",
   "language": "python",
   "name": "python3"
  },
  "language_info": {
   "codemirror_mode": {
    "name": "ipython",
    "version": 3
   },
   "file_extension": ".py",
   "mimetype": "text/x-python",
   "name": "python",
   "nbconvert_exporter": "python",
   "pygments_lexer": "ipython3",
   "version": "3.8.11"
  }
 },
 "nbformat": 4,
 "nbformat_minor": 5
}
