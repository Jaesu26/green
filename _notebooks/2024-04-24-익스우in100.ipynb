{
 "cells": [
  {
   "cell_type": "markdown",
   "id": "fd8e84eb-bd74-4dcc-ba64-e61e3c0a1fba",
   "metadata": {},
   "source": [
    "# 익스트림 스우 in 100에 포함되지 않는 직업이 존재할 확률은 1이다\n",
    "\n",
    "> \"작성 완료\"\n",
    "\n",
    "- toc: true\n",
    "- branch: master\n",
    "- badges: true\n",
    "- comments: true\n",
    "- hide: true\n",
    "- author: 한재수\n",
    "- categories: [Statistics]"
   ]
  },
  {
   "cell_type": "markdown",
   "id": "e299602a-ab6f-42a6-8fe6-c83090201ca1",
   "metadata": {},
   "source": [
    "`-` 전제 조건: 모든 직업에게 공평한 상황이라 익스우 in 100에 포함될 확률이 동일하다고 가정"
   ]
  },
  {
   "cell_type": "markdown",
   "id": "fe811de8-a9f9-49d2-b1b6-084eb367e1fc",
   "metadata": {},
   "source": [
    "## 충분한 인원이 도전하는 경우"
   ]
  },
  {
   "cell_type": "markdown",
   "id": "671b6c00-a863-4e23-8693-d22f24b16767",
   "metadata": {
    "jp-MarkdownHeadingCollapsed": true,
    "tags": []
   },
   "source": [
    "`-` 익스우 in 100에 포함되지 않은 직업이 적어도 하나 이상 존재할 사건을 $A$라 하자\n",
    "\n",
    "`-` $A$의 여집합은 익스우 in 100에 모든 직업이 포함되는 것이다\n",
    "\n",
    "`-` 이때 $P(A) = 1 - P(A^c)$\n",
    "\n",
    "`-` 따라서 $P(A^c)$를 계산하면 $P(A)$를 알 수 있다\n",
    "\n",
    "`-` 간단하게 직업별로 10명씩 총 460명이 도전한다고 가정해보자 \n",
    "\n",
    "`-` 사건 $A^c$의 경우 직업별로 적어도 한 명 이상 포함되야 하므로 직업별로 1명씩 총 46명을 뽑고 나머지 54명은 남은 414명에서 아무나 뽑으면 된다\n",
    "\n",
    "`-` 이제 414명에서 54명을 뽑는 방법에 대해 생각해보자\n",
    "\n",
    "`-` 동일 직업이면 동일 원소이므로 414명이란 수치는 46개 직업에 대하여 각 직업의 원소가 9개가 존재하여 도출된 값이다\n",
    "\n",
    "`-` 이러한 집합에서 원소를 뽑을 땐 중복 조합을 사용하면 된다\n",
    "\n",
    "`-` 즉, 46개의 직업에 대해 중복을 포함하여 54명을 뽑는 것이다\n",
    "\n",
    "`-` 여기서 문제가 발생하는데 각 직업에 대해서 최대로 뽑을 수 있는 인원이 9명으로 이는 54명 보다 작다\n",
    "\n",
    "`-` 따라서 하나의 직업에서만 뽑는 경우처럼 최대로 뽑을 수 있는 인원을 초과하는 방법은 제외해야 된다  \n",
    "\n",
    "`-` 일단 뽑을 수 있는 최대 인원 수를 생각하지 말아보자\n",
    "\n",
    "`-` 46개의 직업에 대해 중복을 포함하여 54명을 뽑는 방법의 경우의 수는 $x_1 + x_2 + \\cdots + x_{46} = 54$를 만족하는 음이 아닌 정수 해의 개수와 동일하다\n",
    "\n",
    "`-` 뽑을 수 있는 최대 인원 수를 고려하는 것은 조건식 $0 \\le x_1, x_2, \\cdots ,x_{46} \\le 9$를 추가하는 것과 동일하다\n",
    "\n",
    "`-` 이 문제를 이론적으로 해결하기는 어려우니 일단 더 쉬운 조건을 고려하자\n",
    "\n",
    "`-` 처음 가정에서 직업별로 10명씩 총 460명이 도전한다고 했는데 10명이 아닌 100명으로 변경하자\n",
    "\n",
    "`-` 그러면 방정식은 $x_1 + x_2 + \\cdots + x_{46} = 54$로 동일하나 조건식이 $0 \\le x_1, x_2, \\cdots ,x_{46} \\le 99$로 변경된다 \n",
    "\n",
    "`-` 해당 방정식을 만족하는 음이 아닌 정수 해의 개수는 $ _{46}H_{54} =\\, _{99}C_{54}$이다\n",
    "\n",
    "`-` 같은 방법으로 46개 직업에서 중복을 포함하여 100명을 뽑는 경우의 수는  $ _{46}H_{100} =\\, _{145}C_{100}$이다"
   ]
  },
  {
   "cell_type": "code",
   "execution_count": 16,
   "id": "e4d8b867-97d7-4636-bd84-096219b220f6",
   "metadata": {},
   "outputs": [
    {
     "name": "stdout",
     "output_type": "stream",
     "text": [
      "4.688191145276719e-10\n"
     ]
    }
   ],
   "source": [
    "import math\n",
    "\n",
    "denominator = math.comb(145, 100) \n",
    "numerator = math.comb(99, 54)\n",
    "result = numerator / denominator\n",
    "print(result)"
   ]
  },
  {
   "cell_type": "markdown",
   "id": "098c23c6-96de-4e96-83ba-be8166f05dd3",
   "metadata": {},
   "source": [
    "`-` $P(A^c) \\approx 0$이므로 $P(A) \\approx 1$이다\n",
    "\n",
    "`-` 참고로 위와 같이 계산하게 되면 각 직업별로 인원 수가 동일하면서 100명 이상이기만 하면 $P(A)$는 동일하게 계산된다\n",
    "\n",
    "`-` 즉, 각 직업별 인원 수가 동일하면서 100명 이상이면 전체 인원 수와 $P(A)$는 상관이 없다"
   ]
  },
  {
   "cell_type": "markdown",
   "id": "4b44a650-a1ea-490c-8bf1-ab62fc8cd570",
   "metadata": {
    "tags": []
   },
   "source": [
    "## 충분하지 않은 인원이 도전하는 경우"
   ]
  },
  {
   "cell_type": "markdown",
   "id": "04be8605-89c3-481d-93c0-2e966ff4a50e",
   "metadata": {},
   "source": [
    "`-` 각 직업별로 인원 수가 100명보다 적어 충분하지 않은 경우를 마저 생각하자\n",
    "\n",
    "`-` 최댓값이 제한되어 있는 조건식을 고려해야 되기 때문에 이론적으로 구하기는 복잡하다\n",
    "\n",
    "`-` 동적계획법 알고리즘을 통해 이를 해결해보자\n",
    "\n",
    "`-` `i + 1`개의 직업에서 최댓값 `p`를 고려하여 `j`명을 중복을 허용해 뽑는 것을 생각해보자\n",
    "\n",
    "`-` `i + 1`개의 직업은 `i`개의 직업과 새로 추가된 직업 `x`로 이루어졌다고 하자\n",
    "\n",
    "`-` `i`개의 직업으로 구성된 경우에 `x`를 추가한다면 최소 `0`개부터 최대 `p`개까지 가능하다\n",
    "\n",
    "`-` 만약 `p`보다 `j`가 더 작다면 최대 `j`개 까지 가능하다\n",
    "\n",
    "`-` 이제 `dp[i][j]`를 `i`개의 직업에서 최댓값 `p`를 고려하여 `j`명을 중복을 허용해 뽑는 가짓수라고 정의하자\n",
    "\n",
    "`-` 그러면 정의에 따라 `dp[i + 1][j] = dp[i][j] + dp[i][j - 1] + ... + dp[i][j - min(j, p)]`가 성립한다\n",
    "\n",
    "`-` 더 쉽게 생각해보면 `x`를 포함한 `i + 1`개의 직업이 `p`를 고려해 `j`명을 중복을 허용해 뽑혔다고 가정하자\n",
    "\n",
    "`-` 모든 경우에 대하여 `x`를 제거해보자\n",
    "\n",
    "`-` 그러면 남은 경우는 `i`개의 직업에서 `p`를 고려해 `j - min(j, p)`명부터 `j`명까지 각각에 대해 중복을 허용해 뽑은 것과 동일하다"
   ]
  },
  {
   "cell_type": "code",
   "execution_count": 9,
   "id": "18ae6806-be23-437a-80f5-8921232d54de",
   "metadata": {},
   "outputs": [
    {
     "name": "stdout",
     "output_type": "stream",
     "text": [
      "음이 아닌 정수 해의 개수: 31434811605304652607044605014\n"
     ]
    }
   ],
   "source": [
    "def reset_dp(target_sum, job_count):\n",
    "    dp = [[0] * (target_sum + 1) for _ in range(job_count + 1)]\n",
    "    dp[0][0] = 1\n",
    "    return dp\n",
    "\n",
    "\n",
    "def solution(target_sum, job_count, max_value):\n",
    "    dp = reset_dp(target_sum, job_count)\n",
    "    for i in range(job_count):\n",
    "        for j in range(target_sum + 1):\n",
    "            for k in range(min(j, max_value) + 1):\n",
    "                dp[i + 1][j] += dp[i][j - k]\n",
    "    return dp[job_count][target_sum]\n",
    "\n",
    "\n",
    "# 주어진 등식의 해의 개수 계산\n",
    "target_sum = 54\n",
    "job_count = 46\n",
    "max_value = 9\n",
    "result = solution(target_sum, job_count, max_value)\n",
    "print(\"음이 아닌 정수 해의 개수:\", result)"
   ]
  },
  {
   "cell_type": "code",
   "execution_count": 10,
   "id": "c21543b8-a0fb-4e58-a077-11893cc1fb81",
   "metadata": {},
   "outputs": [
    {
     "name": "stdout",
     "output_type": "stream",
     "text": [
      "음이 아닌 정수 해의 개수: 34275603444262175999828781553336591830\n"
     ]
    }
   ],
   "source": [
    "# 주어진 등식의 해의 개수 계산\n",
    "target_sum = 100\n",
    "job_count = 46\n",
    "max_value = 10\n",
    "result2 = solution(target_sum, job_count, max_value)\n",
    "print(\"음이 아닌 정수 해의 개수:\", result2)"
   ]
  },
  {
   "cell_type": "code",
   "execution_count": 7,
   "id": "067fb81c-f6de-4da3-aa7c-7c19483eb06d",
   "metadata": {},
   "outputs": [
    {
     "data": {
      "text/plain": [
       "9.171191298330568e-10"
      ]
     },
     "execution_count": 7,
     "metadata": {},
     "output_type": "execute_result"
    }
   ],
   "source": [
    "result / result2"
   ]
  },
  {
   "cell_type": "markdown",
   "id": "01db8980-12cc-4ea8-8a02-374112dbe545",
   "metadata": {},
   "source": [
    "`-` 결론: 충분하지 않은 인원이 도전해도 결과는 동일하다 (확률이 동일하지는 않다)"
   ]
  },
  {
   "cell_type": "markdown",
   "id": "60f817e1-68b9-4ef8-8cb2-75d529ec1692",
   "metadata": {},
   "source": [
    "## 최댓값에 따른 확률의 변화"
   ]
  },
  {
   "cell_type": "code",
   "execution_count": 42,
   "id": "1d7a8b9a-91b0-4f76-8e28-96f83117d9e6",
   "metadata": {},
   "outputs": [],
   "source": [
    "def compute_p(max_value):\n",
    "    result = solution(54, 46, max_value - 1)\n",
    "    result2 = solution(100, 46, max_value)\n",
    "    return result / result2"
   ]
  },
  {
   "cell_type": "code",
   "execution_count": 59,
   "id": "5275dc1b-802d-4c26-be27-7b60e8598ad8",
   "metadata": {},
   "outputs": [
    {
     "data": {
      "text/plain": [
       "4.688191145276719e-10"
      ]
     },
     "execution_count": 59,
     "metadata": {},
     "output_type": "execute_result"
    }
   ],
   "source": [
    "compute_p(100)"
   ]
  },
  {
   "cell_type": "code",
   "execution_count": 66,
   "id": "1371c74b-b859-4a9f-b448-51689dd23762",
   "metadata": {},
   "outputs": [
    {
     "data": {
      "text/plain": [
       "4.688191145276719e-10"
      ]
     },
     "execution_count": 66,
     "metadata": {},
     "output_type": "execute_result"
    }
   ],
   "source": [
    "compute_p(73)"
   ]
  },
  {
   "cell_type": "markdown",
   "id": "625c34a3-da15-4e61-820e-06608549064f",
   "metadata": {},
   "source": [
    "`-` 소수점 아래 15번째 자리까지밖에 보여주지 않아서 최댓값이 73일 때와 100일 때의 확률이 동일해보인다\n",
    "\n",
    "`-` 하지만 완전히 동일한 값은 아님"
   ]
  },
  {
   "cell_type": "code",
   "execution_count": 67,
   "id": "159d84d3-0ade-4cd8-909f-83a4c08402ea",
   "metadata": {},
   "outputs": [
    {
     "data": {
      "text/plain": [
       "0.004733319274428594"
      ]
     },
     "execution_count": 67,
     "metadata": {},
     "output_type": "execute_result"
    }
   ],
   "source": [
    "compute_p(3)"
   ]
  },
  {
   "cell_type": "code",
   "execution_count": 68,
   "id": "e7b2ce7c-5ea5-48d6-ae94-bac58f3d1f02",
   "metadata": {},
   "outputs": [
    {
     "data": {
      "text/plain": [
       "8.87196632830438e-06"
      ]
     },
     "execution_count": 68,
     "metadata": {},
     "output_type": "execute_result"
    }
   ],
   "source": [
    "compute_p(4)"
   ]
  },
  {
   "cell_type": "markdown",
   "id": "61d31b12-f17e-4ba1-bf93-6c249cc1725c",
   "metadata": {},
   "source": [
    "`-` 최댓값이 3일 때가 확률이 가장 크다 (최댓값인 2인 경우는 100명을 뽑을 수 없어서 불가능)\n",
    "\n",
    "`-` 최댓값이 커질수록 확률이 작아지다가 100명부터는 동일해진다"
   ]
  },
  {
   "cell_type": "code",
   "execution_count": null,
   "id": "8ad6047a-aeca-45e0-b19c-547962f0c5d5",
   "metadata": {},
   "outputs": [],
   "source": []
  }
 ],
 "metadata": {
  "kernelspec": {
   "display_name": "Python 3 (ipykernel)",
   "language": "python",
   "name": "python3"
  },
  "language_info": {
   "codemirror_mode": {
    "name": "ipython",
    "version": 3
   },
   "file_extension": ".py",
   "mimetype": "text/x-python",
   "name": "python",
   "nbconvert_exporter": "python",
   "pygments_lexer": "ipython3",
   "version": "3.8.11"
  }
 },
 "nbformat": 4,
 "nbformat_minor": 5
}
