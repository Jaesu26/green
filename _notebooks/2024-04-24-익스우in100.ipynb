{
 "cells": [
  {
   "cell_type": "markdown",
   "id": "fd8e84eb-bd74-4dcc-ba64-e61e3c0a1fba",
   "metadata": {},
   "source": [
    "# 익스트림 스우 in 100에 포함되지 않는 직업이 존재할 확률은 1이다\n",
    "\n",
    "> \"작성 중\"\n",
    "\n",
    "- toc: true\n",
    "- branch: master\n",
    "- badges: true\n",
    "- comments: true\n",
    "- hide: true\n",
    "- author: 한재수\n",
    "- categories: [Statistics]"
   ]
  },
  {
   "cell_type": "markdown",
   "id": "fe811de8-a9f9-49d2-b1b6-084eb367e1fc",
   "metadata": {},
   "source": [
    "## 충분한 인원이 도전하는 경우"
   ]
  },
  {
   "cell_type": "markdown",
   "id": "671b6c00-a863-4e23-8693-d22f24b16767",
   "metadata": {
    "jp-MarkdownHeadingCollapsed": true,
    "tags": []
   },
   "source": [
    "`-` 모든 직업에게 공평한 상황이라 익스우 in 100에 포함될 확률이 동일하다고 가정하자\n",
    "\n",
    "`-` 익스우 in 100에 포함되지 않은 직업이 적어도 하나 이상 존재할 사건을 $A$라 하자\n",
    "\n",
    "`-` $A$의 여집합은 익스우 in 100에 모든 직업이 포함되는 것이다\n",
    "\n",
    "`-` 이때 $P(A) = 1 - P(A^c)$\n",
    "\n",
    "`-` 따라서 $P(A^c)$를 계산하면 $P(A)$를 알 수 있다\n",
    "\n",
    "`-` 간단하게 직업별로 10명씩 총 460명이 도전한다고 가정해보자 \n",
    "\n",
    "`-` 직업별로 적어도 한 명 이상 포함되야 하므로 직업별로 1명씩 총 46명을 뽑고 나머지 54명은 남은 414명에서 아무나 뽑으면 된다\n",
    "\n",
    "`-` 이제 414명에서 54명을 뽑는 방법에 대해 생각해보자\n",
    "\n",
    "`-` 동일 직업이면 동일 원소이므로 414명은 46개 직업에 대하여 각 직업의 원소가 9개가 존재하는 것이다\n",
    "\n",
    "`-` 이러한 집합에서 원소를 뽑을 땐 중복 조합을 사용하면 된다\n",
    "\n",
    "`-` 즉, 46개의 직업에 대해 중복을 포함하여 54명을 뽑는 것이다\n",
    "\n",
    "`-` 여기서 문제가 발생하는데 각 직업에 대해서 최대로 뽑을 수 있는 인원이 9명으로 이는 54명 보다 작다\n",
    "\n",
    "`-` 따라서 하나의 직업에서만 뽑는 경우처럼 최대로 뽑을 수 있는 인원을 초과하는 방법은 제외해야 된다  \n",
    "\n",
    "`-` 일단 뽑을 수 있는 최대 인원 수를 생각하지 말아보자\n",
    "\n",
    "`-` 46개의 직업에 대해 중복을 포함하여 54명을 뽑는 방법의 경우의 수는 $x_1 + x_2 + \\cdots + x_{46} = 54$를 만족하는 음이 아닌 정수 해의 개수와 동일하다\n",
    "\n",
    "`-` 뽑을 수 있는 최대 인원 수를 고려하는 것은 조건식 $0 \\le x_1, x_2, \\cdots ,x_{46} \\le 9$를 추가하는 것과 동일하다\n",
    "\n",
    "`-` 이 문제를 이론적으로 해결하기는 어려우니 일단 더 쉬운 조건을 고려하자\n",
    "\n",
    "`-` 처음 가정에서 직업별로 10명씩 총 460명이 도전한다고 했는데 10명이 아닌 100명으로 변경하자\n",
    "\n",
    "`-` 그러면 방정식은 $x_1 + x_2 + \\cdots + x_{46} = 54$로 동일하나 조건식이 $0 \\le x_1, x_2, \\cdots ,x_{46} \\le 99$로 변경된다\n",
    "\n",
    "`-` 해당 방정식을 만족하는 음이 아닌 정수 해의 개수는 $ _{46}H_{54} =\\, _{99}C_{54}$이다\n",
    "\n",
    "`-` 같은 방법으로 46개 직업에서 중복을 포함하여 100명을 뽑는 경우의 수는  $ _{46}H_{100} =\\, _{145}C_{100}$이다\n",
    "\n"
   ]
  },
  {
   "cell_type": "code",
   "execution_count": 9,
   "id": "e4d8b867-97d7-4636-bd84-096219b220f6",
   "metadata": {},
   "outputs": [
    {
     "name": "stdout",
     "output_type": "stream",
     "text": [
      "4.688191145276719e-10\n"
     ]
    }
   ],
   "source": [
    "import math\n",
    "\n",
    "denominator = math.comb(145, 100) \n",
    "numerator = math.comb(99, 54)\n",
    "result = numerator / denominator\n",
    "print(result)"
   ]
  },
  {
   "cell_type": "markdown",
   "id": "098c23c6-96de-4e96-83ba-be8166f05dd3",
   "metadata": {},
   "source": [
    "`-` 대략적으로 $P(A^c) = 0$이므로 $P(A)=1$이다\n",
    "\n",
    "`-` 참고로 위와 같이 계산하게 되면 각 직업별로 인원 수가 동일하면서 100명 이상이기만 하면 $P(A)$는 동일하게 계산된다\n",
    "\n",
    "`-` 즉 전체 인원 수와 $P(A)$는 상관이 없다"
   ]
  },
  {
   "cell_type": "markdown",
   "id": "4b44a650-a1ea-490c-8bf1-ab62fc8cd570",
   "metadata": {},
   "source": [
    "## 충분하지 않은 인원이 도전하는 경우"
   ]
  },
  {
   "cell_type": "code",
   "execution_count": 10,
   "id": "18ae6806-be23-437a-80f5-8921232d54de",
   "metadata": {},
   "outputs": [
    {
     "name": "stdout",
     "output_type": "stream",
     "text": [
      "음이 아닌 정수 해의 개수: 31434811605304652607044605014\n"
     ]
    }
   ],
   "source": [
    "def count_solutions(target, length, max_value):\n",
    "    # dp 배열 초기화\n",
    "    dp = [[0] * (target + 1) for _ in range(length + 1)]\n",
    "    dp[0][0] = 1\n",
    "    \n",
    "    # 다이나믹 프로그래밍\n",
    "    for i in range(1, length + 1):\n",
    "        for j in range(target + 1):\n",
    "            for k in range(min(j, max_value) + 1):\n",
    "                dp[i][j] += dp[i - 1][j - k]\n",
    "    \n",
    "    return dp[length][target]\n",
    "\n",
    "# 주어진 등식의 해의 개수 계산\n",
    "target_sum = 54\n",
    "variable_count = 46\n",
    "max_value = 9\n",
    "\n",
    "solutions = count_solutions(target_sum, variable_count, max_value)\n",
    "print(\"음이 아닌 정수 해의 개수:\", solutions)"
   ]
  },
  {
   "cell_type": "code",
   "execution_count": 13,
   "id": "cc3c4eec-bda9-4114-8517-88c9e0279922",
   "metadata": {},
   "outputs": [
    {
     "name": "stdout",
     "output_type": "stream",
     "text": [
      "음이 아닌 정수 해의 개수: 34275603444262175999828781553336591830\n"
     ]
    }
   ],
   "source": [
    "# 주어진 등식의 해의 개수 계산\n",
    "target_sum = 100\n",
    "variable_count = 46\n",
    "max_value = 10\n",
    "\n",
    "solutions2 = count_solutions(target_sum, variable_count, max_value)\n",
    "print(\"음이 아닌 정수 해의 개수:\", solutions2)"
   ]
  },
  {
   "cell_type": "code",
   "execution_count": 16,
   "id": "067fb81c-f6de-4da3-aa7c-7c19483eb06d",
   "metadata": {},
   "outputs": [
    {
     "data": {
      "text/plain": [
       "9.171191298330568e-10"
      ]
     },
     "execution_count": 16,
     "metadata": {},
     "output_type": "execute_result"
    }
   ],
   "source": [
    "solutions / solutions2"
   ]
  },
  {
   "cell_type": "code",
   "execution_count": null,
   "id": "00615534-819f-46e2-ab11-f1db46c1be0f",
   "metadata": {},
   "outputs": [],
   "source": []
  }
 ],
 "metadata": {
  "kernelspec": {
   "display_name": "Python 3 (ipykernel)",
   "language": "python",
   "name": "python3"
  },
  "language_info": {
   "codemirror_mode": {
    "name": "ipython",
    "version": 3
   },
   "file_extension": ".py",
   "mimetype": "text/x-python",
   "name": "python",
   "nbconvert_exporter": "python",
   "pygments_lexer": "ipython3",
   "version": "3.8.11"
  }
 },
 "nbformat": 4,
 "nbformat_minor": 5
}
