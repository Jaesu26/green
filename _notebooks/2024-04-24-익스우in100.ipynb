{
 "cells": [
  {
   "cell_type": "markdown",
   "id": "fd8e84eb-bd74-4dcc-ba64-e61e3c0a1fba",
   "metadata": {},
   "source": [
    "# 익스트림 스우 in 100에 포함되지 않는 직업이 존재할 확률은 1이다\n",
    "\n",
    "> \"작성 중\"\n",
    "\n",
    "- toc: true\n",
    "- branch: master\n",
    "- badges: true\n",
    "- comments: true\n",
    "- hide: true\n",
    "- author: 한재수\n",
    "- categories: [Statistics]"
   ]
  },
  {
   "cell_type": "code",
   "execution_count": 1,
   "id": "8e49c63b-65f3-45ea-bc24-35da515af6b2",
   "metadata": {},
   "outputs": [],
   "source": [
    "import math"
   ]
  },
  {
   "cell_type": "markdown",
   "id": "671b6c00-a863-4e23-8693-d22f24b16767",
   "metadata": {
    "jp-MarkdownHeadingCollapsed": true,
    "tags": []
   },
   "source": [
    "모든 직업에게 공평한 상황이라 익스우 in100에 포함될 확률이 동일하다고 가정하자\n",
    "\n",
    "익스우 in100에 포함되지 않은 직업이 적어도 하나 이상 존재할 사건을 A라 하자\n",
    "\n",
    "A의 여집합은 익스우 in100에 모든 직업이 포함되는 것이다\n",
    "\n",
    "이때 P(A) = 1 - P(A^c)\n",
    "\n",
    "P(A^c)를 계산하고 1에서 빼면 된다\n",
    "\n",
    "직업별로 적어도 한 명 이상 포함되야 하므로 직업별로 1명씩 총 46명을 뽑고 나머지 54명은 남은 414명에서 아무나 뽑으면 된다\n",
    "\n",
    "즉 분모는 460명 중 100명을 선택하는 사건의 개수이며 분자는 414명 중 54명을 선택하는 사건의 개수이다"
   ]
  },
  {
   "cell_type": "code",
   "execution_count": 2,
   "id": "cc3c4eec-bda9-4114-8517-88c9e0279922",
   "metadata": {},
   "outputs": [
    {
     "name": "stdout",
     "output_type": "stream",
     "text": [
      "1.0\n"
     ]
    }
   ],
   "source": [
    "x = math.comb(460, 100)\n",
    "y = math.comb(414, 54)\n",
    "answer = y / x\n",
    "print(1 - answer)"
   ]
  },
  {
   "cell_type": "markdown",
   "id": "d98f7361-8495-41a4-bdaa-7c25b576ff76",
   "metadata": {},
   "source": [
    "P(A)를 줄일려면 전체 도전 인원수가 줄어야 한다\n",
    "\n",
    "위에서 k를 10으로 했는데 5로 줄여보자\n",
    "\n",
    "즉, 46 * 5 = 230명이 익스우 in100에 도전하는 상황으로 바꾸자"
   ]
  },
  {
   "cell_type": "code",
   "execution_count": 4,
   "id": "40068a15-7268-4235-93b4-55c6344cac68",
   "metadata": {},
   "outputs": [
    {
     "name": "stdout",
     "output_type": "stream",
     "text": [
      "1.0\n"
     ]
    }
   ],
   "source": [
    "x = math.comb(230, 100)\n",
    "y = math.comb(230 - 46, 54)\n",
    "answer = y / x\n",
    "print(1 - answer)"
   ]
  },
  {
   "cell_type": "markdown",
   "id": "d829c6a7-e449-4a38-8d31-236a14bd38e8",
   "metadata": {},
   "source": [
    "k를 가장 작게 한다면 3이 된다\n",
    "\n",
    "1과 2는 의미가 없는게 전체 도전 인원 수가 100보다 작아져서 모든 인원이 익스우in100에 성공한다\n",
    "\n",
    "이제 k를 3으로 가정해보자\n",
    "\n",
    "즉, 46 * 3 = 138명이 익스우 in100에 도전하는 상황으로 바꾸자"
   ]
  },
  {
   "cell_type": "code",
   "execution_count": 5,
   "id": "aed470e9-c8f4-4e33-aa79-872d911010dc",
   "metadata": {},
   "outputs": [
    {
     "name": "stdout",
     "output_type": "stream",
     "text": [
      "0.9999999927308524\n"
     ]
    }
   ],
   "source": [
    "x = math.comb(138, 100)\n",
    "y = math.comb(138 - 46, 54)\n",
    "answer = y / x\n",
    "print(1 - answer)"
   ]
  },
  {
   "cell_type": "code",
   "execution_count": 6,
   "id": "9db1320d-f76f-4c5a-b5e3-e406d2d79f5f",
   "metadata": {},
   "outputs": [],
   "source": [
    "# k가 3인 경우 드디어 P(A)가 정확히 1은 아니고 거의 1이다!! 우와 !!!!!"
   ]
  },
  {
   "cell_type": "code",
   "execution_count": 7,
   "id": "9caed222-82a5-4d7f-98e0-622417f6b77b",
   "metadata": {},
   "outputs": [],
   "source": [
    "# 참고로 익스우 in100에 도전하는 전체 인원 수를 M이라 했을 때\n",
    "# M을 전체 직업에 균등하게 분배해야 P(A)가 가장 작다 (정확히는 엔트로피가 가장 클 때 P(A)는 가장 작음)"
   ]
  },
  {
   "cell_type": "code",
   "execution_count": 9,
   "id": "f5a2d390-d090-49a6-bfa5-76ce395486a3",
   "metadata": {},
   "outputs": [],
   "source": [
    "# 결론: 모든 직업이 공평한 상황일지라도 익스우 in100에 포함되지 않는 직업이 존재할 확률은 1이다"
   ]
  },
  {
   "cell_type": "code",
   "execution_count": null,
   "id": "49938e39-1a80-4dd0-b4e9-8ff05fb4c994",
   "metadata": {},
   "outputs": [],
   "source": []
  }
 ],
 "metadata": {
  "kernelspec": {
   "display_name": "Python 3 (ipykernel)",
   "language": "python",
   "name": "python3"
  },
  "language_info": {
   "codemirror_mode": {
    "name": "ipython",
    "version": 3
   },
   "file_extension": ".py",
   "mimetype": "text/x-python",
   "name": "python",
   "nbconvert_exporter": "python",
   "pygments_lexer": "ipython3",
   "version": "3.8.11"
  }
 },
 "nbformat": 4,
 "nbformat_minor": 5
}
