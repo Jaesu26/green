{
 "cells": [
  {
   "cell_type": "markdown",
   "id": "620598d1-c6e1-4706-a493-3630dd5a7071",
   "metadata": {},
   "source": [
    "# 수학 논리 퀴즈\n",
    "\n",
    "> \"작성 중\"\n",
    "\n",
    "- toc: true\n",
    "- branch: master\n",
    "- badges: true\n",
    "- comments: true\n",
    "- hide: true\n",
    "- author: 한재수\n",
    "- categories: [Math]"
   ]
  },
  {
   "cell_type": "markdown",
   "id": "e7c9db14-46f2-45d9-9426-8f60821e1b6e",
   "metadata": {},
   "source": [
    "# 문제"
   ]
  },
  {
   "cell_type": "markdown",
   "id": "4b66fa77-ddde-469c-935f-4323fd0c7ce4",
   "metadata": {},
   "source": [
    "`-` 2이상 50이하의 두 수 $x, y$를 고려하자\n",
    "\n",
    "`-` A에게는 두 수의 곱을 B에게는 두 수의 합을 알려주었다\n",
    "\n",
    "`-` 아래 A와 B의 대화를 바탕으로 $x, y$를 맞혀라"
   ]
  },
  {
   "cell_type": "markdown",
   "id": "51e8c14f-aebb-4ca6-8198-35b08dc038f3",
   "metadata": {},
   "source": [
    "`A: 두 수가 뭔지 모르겠어`\n",
    "\n",
    "`B: 나도 모르겠어`\n",
    "\n",
    "`A: 두 수가 뭔지 알겠어!`\n",
    "\n",
    "`B: 나도 알겠어!`"
   ]
  },
  {
   "cell_type": "markdown",
   "id": "c40f6e5f-0244-4757-a3de-64f4de28c23e",
   "metadata": {},
   "source": [
    "`-` 유명한 문제로 문제적 남자에 출제되기도 했다"
   ]
  },
  {
   "cell_type": "markdown",
   "id": "7771ad4a-0326-4626-ac18-efc4d0007169",
   "metadata": {},
   "source": [
    "# 풀이"
   ]
  },
  {
   "cell_type": "markdown",
   "id": "1f3f9229-ecc0-401c-abf7-a5d9b038beab",
   "metadata": {},
   "source": [
    "`-` A가 처음에 두 수가 뭔지 모르겠다 했다\n",
    "\n",
    "`-` 그런데 두 수의 곱만을 알고서 두 수가 무엇인지 바로 알 수도 있을까?\n",
    "\n",
    "`-` 예컨대 $xy$가 34라고 해보자\n",
    "\n",
    "`-` 34는 2와 17의 곱으로만 만들어지므로 A는 두 수가 무엇인지 바로 알 수 있다\n",
    "\n",
    "`-` 하지만 만약 $xy$가 12라면 어떨까\n",
    "\n",
    "`-` A의 입장에서는 12가 3과 4의 곱인지 2와 6의 곱인지 현재로선 알 수 없다"
   ]
  },
  {
   "cell_type": "code",
   "execution_count": null,
   "id": "1f596d8f-bf21-45cb-aa1b-6428cc973bc8",
   "metadata": {},
   "outputs": [],
   "source": []
  }
 ],
 "metadata": {
  "kernelspec": {
   "display_name": "Python 3 (ipykernel)",
   "language": "python",
   "name": "python3"
  },
  "language_info": {
   "codemirror_mode": {
    "name": "ipython",
    "version": 3
   },
   "file_extension": ".py",
   "mimetype": "text/x-python",
   "name": "python",
   "nbconvert_exporter": "python",
   "pygments_lexer": "ipython3",
   "version": "3.8.11"
  }
 },
 "nbformat": 4,
 "nbformat_minor": 5
}
