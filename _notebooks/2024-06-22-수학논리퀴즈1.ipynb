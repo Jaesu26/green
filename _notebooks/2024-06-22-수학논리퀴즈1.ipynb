{
 "cells": [
  {
   "cell_type": "markdown",
   "id": "620598d1-c6e1-4706-a493-3630dd5a7071",
   "metadata": {},
   "source": [
    "# 수학 논리 퀴즈\n",
    "\n",
    "> \"작성 중\"\n",
    "\n",
    "- toc: true\n",
    "- branch: master\n",
    "- badges: true\n",
    "- comments: true\n",
    "- hide: true\n",
    "- author: 한재수\n",
    "- categories: [Math]"
   ]
  },
  {
   "cell_type": "markdown",
   "id": "e7c9db14-46f2-45d9-9426-8f60821e1b6e",
   "metadata": {},
   "source": [
    "## 문제 상황"
   ]
  },
  {
   "cell_type": "markdown",
   "id": "4b66fa77-ddde-469c-935f-4323fd0c7ce4",
   "metadata": {},
   "source": [
    "`-` 2 이상 50 이하의 두 수 $x, y$를 고려하자\n",
    "\n",
    "`-` A에게는 두 수의 곱을 B에게는 두 수의 합을 알려주었다\n",
    "\n",
    "`-` 아래 A와 B의 대화를 바탕으로 $x, y$를 맞혀라"
   ]
  },
  {
   "cell_type": "markdown",
   "id": "51e8c14f-aebb-4ca6-8198-35b08dc038f3",
   "metadata": {},
   "source": [
    "`A: 두 수가 뭔지 모르겠어`\n",
    "\n",
    "`B: 나도 모르겠어`\n",
    "\n",
    "`A: 두 수가 뭔지 알겠어!`\n",
    "\n",
    "`B: 나도 알겠어!`"
   ]
  },
  {
   "cell_type": "markdown",
   "id": "c40f6e5f-0244-4757-a3de-64f4de28c23e",
   "metadata": {},
   "source": [
    "`-` 유명한 문제로 문제적 남자에 출제되기도 했다"
   ]
  },
  {
   "cell_type": "markdown",
   "id": "7771ad4a-0326-4626-ac18-efc4d0007169",
   "metadata": {},
   "source": [
    "## 풀이"
   ]
  },
  {
   "cell_type": "markdown",
   "id": "7b241816-7457-46ef-97d6-d902b0c6ca4c",
   "metadata": {},
   "source": [
    "### `A: 두 수가 뭔지 모르겠어`"
   ]
  },
  {
   "cell_type": "markdown",
   "id": "1f3f9229-ecc0-401c-abf7-a5d9b038beab",
   "metadata": {},
   "source": [
    "`-` A가 처음에 두 수가 뭔지 모르겠다고 했다\n",
    "\n",
    "`-` 그런데 두 수의 곱만을 알고서 두 수가 무엇인지 바로 알 수 있을까?\n",
    "\n",
    "`-` 예컨대 $xy$가 34라고 해보자\n",
    "\n",
    "`-` 34는 2와 17의 곱으로만 만들어지므로 A는 두 수가 무엇인지 바로 알 수 있다\n",
    "\n",
    "`-` 하지만 만약 $xy$가 12라면 어떨까\n",
    "\n",
    "`-` A의 입장에서는 12가 3과 4의 곱인지 2와 6의 곱인지 현재로선 알 수 없다\n",
    "\n",
    "`-` 왜 1과 12는 고려하지 않는거지? ---> 2 이상 50 이하의 수여야 하는데 1은 해당 범위에 포함되지 않음\n",
    "\n",
    "`-` $xy$에 대하여 1과 자기 자신을 제외한 약수가 2개를 초과한다면 A는 두 수가 무엇인지 알 수 없다\n",
    "\n",
    "`-` 즉 $xy$에 대하여 약수가 4개를 초과한다면 A는 두 수가 무엇인지 알 수 없다"
   ]
  },
  {
   "cell_type": "markdown",
   "id": "9c76bb83-5893-4898-af9c-66f739119a0d",
   "metadata": {},
   "source": [
    "### `B: 나도 모르겠어`"
   ]
  },
  {
   "cell_type": "markdown",
   "id": "30c9f7a4-ec5c-42f0-9707-a6f2cf471088",
   "metadata": {},
   "source": [
    "`-` B는 A의 답변을 듣고 추가 정보를 얻어도 두 수가 뭔지 모르겠다고 했다\n",
    "\n",
    "`-` 그런데 A의 답변과 두 수의 합을 알고서 두 수가 무엇인지 알 수 있을까?\n",
    "\n",
    "`-` 사실 A의 답변을 듣지 않아도 두 수가 무엇인지 알 수 있는 경우가 존재한다\n",
    "\n",
    "`-` 만약 $x+y$가 4또는 5라고 해보자\n",
    "\n",
    "`-` $x+y$가 4라면 두 수는 2와 2이고 $x+y$가 5라면 두 수는 2와 3이다\n",
    "\n",
    "`-` $x+y$가 이보다 큰 6부터는 두 수를 무엇인지 바로 알 수 없게 된다 (2와 4 또는 3과 3) \n",
    "\n",
    "`-` 이제 A의 답변 정보도 추가로 사용해보자\n",
    "\n",
    "`-` 일단 두 수는 2이상 50이하이므로 $x+y$의 범위는 4 이상 100 이하이다\n",
    "\n",
    "`-` $x+y$를 $T$라고 하자, $T$는 6 이상이다\n",
    "\n",
    "`-` 그러면 $T$가 홀수일 때 두 수 $x,y$로 가능한 조합은 $(2, T-2), \\cdots, \\left(\\big\\lfloor\\frac{T}{2}\\big\\rfloor, \\big\\lfloor\\frac{T}{2}\\big\\rfloor + 1 \\right)$이고\n",
    "\n",
    "`-` $T$가 짝수일 때 두 수 $x,y$로 가능한 조합은 $(2, T-2), \\cdots, \\left(\\frac{T}{2}, \\frac{T}{2}\\right)$이다\n",
    "\n",
    "`-` 가능한 조합 각각에 대하여 $xy$를 계산하고 약수의 개수를 확인하자\n",
    "\n",
    "`-` 약수의 개수가 4개 이하라면 정답이 아니므로 제외하면 된다\n",
    "\n",
    "`-` 만약 4개 이하라면 A가 답을 맞혔을 것이다\n",
    "\n",
    "`-` 그렇게 해서 남아있는 조합이 1개 뿐이라면 B가 정답을 맞혔을 것이다\n",
    "\n",
    "`-` 예컨대 $x+y$가 8이라고 하자\n",
    "\n",
    "`-` 그러면 가능한 $x,y$의 조합은 $(2, 6), (3, 5), (4,4)$이다\n",
    "\n",
    "`-` 각 조합에 대하여 $xy$를 계산하면 $12, 15, 16$이다\n",
    "\n",
    "`-` 12의 약수의 개수는 $1,2,3,4,6,12$로 6개이다\n",
    "\n",
    "`-` 15의 약수의 개수는 $1,3,5,15$로 4개이다\n",
    "\n",
    "`-` 16의 약수의 개수는 $1,2,4,8,16$으로 5개이다\n",
    "\n",
    "`-` 만약 $x,y$가 3과 5라면 $xy$는 15이고 15는 3과 5의 곱으로만 이루어지므로 A가 처음에 답을 맞혔을 것이다\n",
    "\n",
    "`-` 따라서 약수의 개수가 4개 이하인 15는 $xy$로 가능하지 않다\n",
    "\n",
    "`-` 하지만 12와 16은 약수의 개수가 4개 초과이므로 $xy$로 가능하다\n",
    "\n",
    "`-` 즉, B는 A의 답변을 듣더라도 $x,y$가 2와 6인지 3과 5인지 알아낼 수 없다"
   ]
  },
  {
   "cell_type": "markdown",
   "id": "b7091003-a945-4be4-b718-f010fb7c6ee1",
   "metadata": {},
   "source": [
    "### `A: 두 수가 뭔지 알겠어!`"
   ]
  },
  {
   "cell_type": "markdown",
   "id": "547cc522-520e-40ea-a62a-48498a8a81cd",
   "metadata": {},
   "source": [
    "`-` A는 B의 대답을 듣고 두 수가 무엇인지 알겠다고 했다\n",
    "\n",
    "`-` 그런데 A는 두 수의 곱만 알고 두 수의 합은 모르는데 B의 답변 정보를 두 수가 무엇인지 알아내는데 이용할 수 있을까?\n",
    "\n",
    "`-` 사실 $xy$만 알아도 이를 바탕으로 $x+y$를 추론할 수 있다\n",
    "\n",
    "`-` 만약 $xy$가 12라고 해보자\n",
    "\n",
    "`-` 그러면 $x,y$는 2와 6이거나 3과 4이다\n",
    "\n",
    "`-` 다르게 얘기하면 $x+y$는 7이거나 8이다\n",
    "\n",
    "`-` 즉, $xy$로 $x+y$를 추론할 수 있으므로 B의 답변 정보를 사용할 수 있다!\n",
    "\n",
    "`-` `B가 나도 모르겠다`라고 답변했으니 이를 사용해보자\n",
    "\n",
    "`-` 우선 $x+y$가 7이라고 가정해보자\n",
    "\n",
    "`-` 그러면 $xy$를 모르고 $x+y$만 알고 있는 B의 입장에서 가능한 $x,y$의 조합은 $(2,5),(3,4)$이다\n",
    "\n",
    "`-` 각 조합에 대해 $xy$를 계산하면 $10, 12$이다\n",
    "\n",
    "`-` $10$의 약수의 개수는 $1,2,5,10$으로 4개이다\n",
    "\n",
    "`-` $12$의 약수의 개수는 $1,2,3,4,6,12$로 6개이다\n",
    "\n",
    "`-` 만약 $x, y$가 2와 5라면 $xy$는 10이며 10은 2와 5의 곱으로만 이루어진다\n",
    "\n",
    "`-` 그렇게 되면 A가 처음에 정답을 맞혔을 것이므로 처음에 모르겠다고 답변한 것과 모순된다\n",
    "\n",
    "`-` 하지만 $xy$가 12라면 약수의 개수가 6개로 가능한 곱의 조합이 2개 이상이다\n",
    "\n",
    "`-` 그러면 A가 처음에 모르겠다고 한 것이 합리적이다\n",
    "\n",
    "`-` 즉, B의 입장에서 $x+y$가 7일 때 가능한 $xy$는 12뿐이며 이때의 $x,y$는 3과 4이다\n",
    "\n",
    "`-` 그런데 이것이 사실이라면 B가 A의 답변을 듣고 정답을 모르겠다 답변한 것과 모순된다\n",
    "\n",
    "`-` 따라서 $x+y$는 7이 될 수 없다\n",
    "\n",
    "`-` 이제 $x+y$가 8이라고 가정해보자\n",
    "\n",
    "`-` 만약 $x+y$가 8이라고 가정했는데 모순이 안 된다면 A의 입장에선 $xy$는 12이고 $x+y$는 8이므로 $x,y$는 2와 6임을 알아낼 수 있다!\n",
    "\n",
    "`-` $x+y$가 8일 때 B의 입장에서 가능한 $x,y$의 조합은 $(2,6), (3,5), (4,4)$이다\n",
    "\n",
    "`-` 각 조합에 대해 $xy$를 계산하면 $12, 15, 16$이다\n",
    "\n",
    "`-` $12$의 약수의 개수는 $1,2,3,4,6,12$로 6개이다\n",
    "\n",
    "`-` $15$의 약수의 개수는 $1,3,5,15$로 4개이다\n",
    "\n",
    "`-` $16$의 약수의 개수는 $1,2,4,8,16$으로 5개이다\n",
    "\n",
    "`-` 만약 $x, y$가 3과 5라면 $xy$는 15이며 15는 3과 5의 곱으로만 이루어진다\n",
    "\n",
    "`-` 그렇게 되면 A가 처음에 정답을 맞혔을 것이므로 처음에 모르겠다고 답변한 것과 모순된다\n",
    "\n",
    "`-` 하지만 $xy$가 12 또는 16이라면 약수의 개수가 4를 초과하므로 가능한 곱의 조합이 2개 이상이다\n",
    "\n",
    "`-` 12라면 2와 6 또는 3과 4. 16이라면 2와 8 또는 4와 4\n",
    "\n",
    "`-` 그러면 A가 처음에 모르겠다고 한 것이 합리적이다\n",
    "\n",
    "`-` 즉, $x+y$가 8이라면 B의 입장에서 가능한 $xy$는 12 또는 16이며 이때의 $x,y$는 2와 6 그리고 4와 4이다\n",
    "\n",
    "`-` 이러면 가능한 $x,y$ 조합이 2개 이상이므로 B의 입장에서는 $x,y$가 2와 6인지 4와 4인지 알 수 없다\n",
    "\n",
    "`-` 즉, $xy$가 12라면 B의 답변을 바탕으로 A는 $x+y$가 7이 아닌 8임을 알아낼 수 있다\n",
    "\n",
    "`-` 그렇게 되면 A는 $xy$는 12, $x+y$는 8이라는 정보를 바탕으로 $x,y$가 2와 6임을 알아내고 정답을 맞힐 수 있다\n",
    "\n",
    "- 알고리즘\n",
    "\n",
    "`-` A에게 주어진 $xy$를 바탕으로 가능한 $x+y$를 계산한다\n",
    "\n",
    "`-` 계산된 $x+y$ 각각에 대해 가능한 $xy$를 계산한다\n",
    "\n",
    "`-` $xy$ 집합에 대해 약수의 개수가 4개 이하인 것들을 제외한다\n",
    "\n",
    "`-` 그리고 남은 $xy$ 집합의 원소가 1개라면 B가 정답을 맞혔을 것이므로 해당 $x+y$는 제외한다\n",
    "\n",
    "`-` 이 과정을 $x+y$ 집합의 모든 원소에 대해 반복한 후 남아있는 원소가 1개 뿐이라면 A가 정답을 맞힐 수 있다"
   ]
  },
  {
   "cell_type": "markdown",
   "id": "70467e60-e698-42d2-92a5-7ca5835bf38d",
   "metadata": {},
   "source": [
    "### `B: 나도 알겠어!`"
   ]
  },
  {
   "cell_type": "markdown",
   "id": "9d6bae8c-5cdd-4e39-a676-7e7a604a1bc5",
   "metadata": {},
   "source": [
    "`-` B는 A의 대답을 듣고 자신도 두 수가 무엇인지 알겠다고 했다\n",
    "\n",
    "`-` A의 대답을 이용하기 위해 A의 생각을 따라가보자\n",
    "\n",
    "`-` 만약 B에게 $x+y$가 8이라는 정보가 주어졌다고 해보자\n",
    "\n",
    "`-` 그러면 가능한 $x,y$의 조합은 $(2,6), (3,5), (4,4)$이다\n",
    "\n",
    "`-` 각 조합에 대해 $xy$를 계산하면 $12, 15, 16$이다\n",
    "\n",
    "`-` 만약 $x, y$가 3과 5라면 $xy$는 15이며 15는 3과 5의 곱으로만 이루어진다\n",
    "\n",
    "`-` 그렇게 되면 A가 처음에 정답을 맞혔을 것이므로 처음에 모르겠다고 답변한 것과 모순된다\n",
    "\n",
    "`-` 하지만 $xy$가 12 또는 16이라면 약수의 개수가 4를 초과하므로 가능한 곱의 조합이 2개 이상이다\n",
    "\n",
    "`-` 12라면 2와 6 또는 3과 4, 16이라면 2와 8 또는 4와 4\n",
    "\n",
    "`-` 그러면 A가 처음에 모르겠다고 한 것이 합리적이다\n",
    "\n",
    "`-` 만약 $xy$가 12라고 해보자\n",
    "\n",
    "`-` A의 입장에서 볼 때 $xy$가 12라면 가능한 $x,y$의 조합은 $(2,6),(3,4)$이다\n",
    "\n",
    "`-` 각 조합에 대해 $x+y$를 계산하면 $7,8$이다\n",
    "\n",
    "`-` 우선 $x+y$가 7이라고 가정해보자\n",
    "\n",
    "`-` 그러면 A가 생각했을 때 $xy$를 모르는 B의 입장에서 가능한 $x,y$의 조합은 $(2,5),(3,4)$이다\n",
    "\n",
    "`-` 각 조합에 대해 $xy$를 계산하면 $10, 12$이다\n",
    "\n",
    "`-` $10$의 약수의 개수는 $1,2,5,10$으로 4개이다\n",
    "\n",
    "`-` $12$의 약수의 개수는 $1,2,3,4,6,12$로 6개이다\n",
    "\n",
    "`-` 만약 $x, y$가 2와 5라면 $xy$는 10이며 10은 2와 5의 곱으로만 이루어진다\n",
    "\n",
    "`-` 그렇게 되면 A가 처음에 정답을 맞혔을 것이므로 처음에 모르겠다고 답변한 것과 모순된다\n",
    "\n",
    "`-` 하지만 $xy$가 12라면 약수의 개수가 6개로 가능한 곱의 조합이 2개 이상이다\n",
    "\n",
    "`-` 그러면 A가 처음에 모르겠다고 한 것이 합리적이다\n",
    "\n",
    "`-` 즉, A가 생각했을 때 $xy$를 모르는 B의 입장에서 $x+y$가 7이라면 가능한 $xy$는 12뿐이며 이때의 $x,y$는 3과 4이다\n",
    "\n",
    "`-` 그런데 이것이 사실이라면 B가 A의 답변을 듣고 정답을 모르겠다 답변한 것과 모순된다\n",
    "\n",
    "`-` 따라서 $x+y$는 7이 될 수 없다\n",
    "\n",
    "`-` 이제 $x+y$가 8이라고 가정해보자\n",
    "\n",
    "`-` $x+y$가 8이라면 A가 생각했을 때 $xy$를 모르는 B의 입장에서 가능한 $x,y$의 조합은 $(2,6),(3,5), (4,4)$이다\n",
    "\n",
    "`-` 각 조합에 대해 $xy$를 계산하면 $12, 15, 16$이다\n",
    "\n",
    "`-` $12$의 약수의 개수는 $1,2,3,4,6,12$로 6개이다\n",
    "\n",
    "`-` $15$의 약수의 개수는 $1,3,5,15$로 4개이다\n",
    "\n",
    "`-` $16$의 약수의 개수는 $1,2,4,8,16$으로 5개이다\n",
    "\n",
    "`-` 만약 $x, y$가 3과 5라면 $xy$는 15이며 15는 3과 5의 곱으로만 이루어진다\n",
    "\n",
    "`-` 그렇게 되면 A가 처음에 정답을 맞혔을 것이므로 처음에 모르겠다고 답변한 것과 모순된다\n",
    "\n",
    "`-` 하지만 $xy$가 12 또는 16이라면 약수의 개수가 4를 초과하므로 가능한 곱의 조합이 2개 이상이다\n",
    "\n",
    "`-` 12라면 2와 6 또는 3과 4, 16이라면 2와 8 또는 4와 4\n",
    "\n",
    "`-` 그러면 A가 처음에 모르겠다고 한 것이 합리적이다\n",
    "\n",
    "`-` 즉, A가 생각했을 때 $x+y$가 8이라고 가정하면 B의 입장에서 가능한 $xy$는 12 또는 16이며 이때의 $x,y$는 2와 6 그리고 4와 4이다\n",
    "\n",
    "`-` 이러면 가능한 $x,y$ 조합이 2개 이상이므로 B의 입장에선 $x,y$가 2와 6인지 4와 4인지 알 수 없다\n",
    "\n",
    "`-` 즉, A에게 주어진 $xy$가 12라면 B의 답변 정보를 바탕으로 A는 $x+y$가 7이 아닌 8임을 알아낼 수 있다\n",
    "\n",
    "`-` 그렇게 되면 A는 $xy$는 12, $x+y$는 8이라는 정보를 바탕으로 $x,y$가 2와 6임을 알아내고 정답을 맞힐 수 있다\n",
    "\n",
    "`-` 즉, $x,y$가 2와 6이라면 `A: 두 수가 뭔지 모르겠어`, `B: 나도 모르겠어`, `A: 두 수가 뭔지 알겠어!` 까지의 과정에 모순되는 점이 없다\n",
    "\n",
    "`-` 따라서 $x+y=8$이 주어진 B의 입장에선 $xy$의 후보군으로 12를 고려할 수 있다 \n",
    "\n",
    "`-` 그렇다면 이제 $xy$가 16이라고 가정하고 A의 입장이 되어 생각해보자\n",
    "\n",
    "`-` A의 입장에서 볼 때 $xy$가 16이라면 가능한 $x,y$의 조합은 $(2,8),(4,4)$이다\n",
    "\n",
    "`-` 각 조합에 대해 $x+y$를 계산하면 $8,10$이다\n",
    "\n",
    "`-` 우선 $x+y$가 8이라고 가정해보자\n",
    "\n",
    "`-` 그러면 A가 생각했을 때 $xy$를 모르는 B의 입장에서 가능한 $x,y$의 조합은 $(2,6),(3,5),(4,4)$이다\n",
    "\n",
    "`-` 각 조합에 대해 $xy$를 계산하면 $12, 15,16$이다\n",
    "\n",
    "`-` 약수의 개수가 4개를 초과해야 하므로 가능한 $xy$는 12 또는 16이다\n",
    "\n",
    "`-` $x+y$가 8이라면 `B: 나도 모르겠어`라는 답변이 합리적이다\n",
    "\n",
    "`-` 이제 $x+y$가 10이라고 가정해보자\n",
    "\n",
    "`-` 그러면 A가 생각했을 때 $xy$를 모르는 B의 입장에서 가능한 $x,y$의 조합은 $(2,8),(3,7),(4,6),(5,5)$이다\n",
    "\n",
    "`-` 각 조합에 대해 $xy$를 계산하면 $16, 21,24,25$이다\n",
    "\n",
    "`-` 약수의 개수가 4개를 초과해야 하므로 가능한 $xy$는 16 또는 24이다\n",
    "\n",
    "`-` $x+y$가 10이라면 `B: 나도 모르겠어`라는 답변이 합리적이다\n",
    "\n",
    "`-` 따라서 만약 $xy$가 16이라면 A의 입장에서 볼 때 가능한 $x+y$는 8과 10이며 이때의 $x,y$는 4와 4 그리고 2와 8이다 \n",
    "\n",
    "`-` 그런데 이렇게 되면 A의 입장에선 $x+y$가 8과 10 둘 다 가능하므로 둘 중 어느것인지 알지 못한다\n",
    "\n",
    "`-` 그러면 `A: 두 수가 뭔지 알겠어!`와 같이 대답할 수 없으므로 모순이다\n",
    "\n",
    "`-` 즉, 처음 B에게 주어진 $x+y$가 8이라면 $xy$는 16이 될 수 없다\n",
    "\n",
    "`-` 따라서, 가능한 $xy$는 12이므로 B는 $x,y$가 2와 6임을 알 수 있고 `B: 나도 알겠어!`라고 대답할 수 있다"
   ]
  },
  {
   "cell_type": "markdown",
   "id": "67d51591-20b4-4c7a-9b09-4e82947cbdd8",
   "metadata": {},
   "source": [
    "## 파이썬으로 풀어보자"
   ]
  },
  {
   "cell_type": "markdown",
   "id": "baa63646-a925-4665-be81-f53d1cb50b52",
   "metadata": {},
   "source": [
    "`-` 위의 풀이는 정답인 2와 6을 시작으로 접근했기에 쉽게 문제를 해결할 수 있었다 (사실 아무 두 수나 정한건데 그게 정답이었다;;)\n",
    "\n",
    "`-` 모든 경우를 빠르게 고려하기 위해 파이썬을 사용해보자"
   ]
  },
  {
   "cell_type": "markdown",
   "id": "2d34a300-537b-4ea8-8bef-1cc5d609ad19",
   "metadata": {},
   "source": [
    "### `A: 두 수가 뭔지 모르겠어`"
   ]
  },
  {
   "cell_type": "markdown",
   "id": "4bacf154-feb1-42eb-90a6-c6c5df557000",
   "metadata": {},
   "source": [
    "- 곱의 조합 쌍을 찾자"
   ]
  },
  {
   "cell_type": "code",
   "execution_count": 1,
   "id": "e7bdb458-c1d6-4546-9bd4-e1c6e482e2d5",
   "metadata": {},
   "outputs": [
    {
     "name": "stdout",
     "output_type": "stream",
     "text": [
      "[(2, 10), (4, 5)]\n"
     ]
    }
   ],
   "source": [
    "import math\n",
    "\n",
    "\n",
    "def find_product_pairs(n, min_val, max_val):\n",
    "    pairs = []\n",
    "    for x in range(min_val, math.isqrt(n) + 1):\n",
    "        if n % x != 0:\n",
    "            continue\n",
    "        y = n // x\n",
    "        if not (x <= y and min_val <= x <= max_val and min_val <= y <= max_val):\n",
    "            continue\n",
    "        pairs.append((x, y))\n",
    "    return pairs\n",
    "\n",
    "# 예시\n",
    "n = 20\n",
    "min_val = 2\n",
    "max_val = 50\n",
    "result = find_product_pairs(n, min_val, max_val)\n",
    "print(result)"
   ]
  },
  {
   "cell_type": "markdown",
   "id": "eaf5ab61-2b17-4e69-bc13-6f49743f03ef",
   "metadata": {},
   "source": [
    "- 곱의 조합쌍이 2개 이상이면 A는 정답을 맞힐 수 없다"
   ]
  },
  {
   "cell_type": "code",
   "execution_count": 2,
   "id": "2f48d308-37ea-4299-8d20-ba39e84e84cb",
   "metadata": {},
   "outputs": [
    {
     "name": "stdout",
     "output_type": "stream",
     "text": [
      "True\n"
     ]
    }
   ],
   "source": [
    "def is_multiple_elements(sequence):\n",
    "    return len(sequence) >= 2\n",
    "\n",
    "# 예시 실행\n",
    "n = 20\n",
    "min_val = 2\n",
    "max_val = 50\n",
    "result = find_product_pairs(n, min_val, max_val)\n",
    "print(is_multiple_elements(result))"
   ]
  },
  {
   "cell_type": "markdown",
   "id": "1f9817be-59fb-46ed-9ee8-0a9d6c5a4cb5",
   "metadata": {},
   "source": [
    "### `B: 나도 모르겠어`"
   ]
  },
  {
   "cell_type": "markdown",
   "id": "52360fa1-4a67-41e6-bd1f-7ed212177675",
   "metadata": {},
   "source": [
    "- 합이 $T$인 $x, y$ 조합을 찾자"
   ]
  },
  {
   "cell_type": "code",
   "execution_count": 3,
   "id": "4a29abe7-87ff-4f49-af19-4a247677f187",
   "metadata": {},
   "outputs": [
    {
     "name": "stdout",
     "output_type": "stream",
     "text": [
      "[(2, 8), (3, 7), (4, 6), (5, 5)]\n"
     ]
    }
   ],
   "source": [
    "def find_sum_pairs(T, min_val, max_val):\n",
    "    pairs = []\n",
    "    for x in range(min_val, max_val + 1):\n",
    "        y = T - x\n",
    "        if not (min_val <= y <= max_val and x <= y):\n",
    "            continue\n",
    "        pairs.append((x, y))\n",
    "    return pairs\n",
    "\n",
    "# 예시 실행\n",
    "T = 10\n",
    "min_val = 2\n",
    "max_val = 50\n",
    "print(find_sum_pairs(T, min_val, max_val))"
   ]
  },
  {
   "cell_type": "markdown",
   "id": "15caabed-7d2c-4180-9f76-62ace30a4b8a",
   "metadata": {},
   "source": [
    "- 각 조합에 대해 곱의 조합쌍이 2개 이상인지 파악하자"
   ]
  },
  {
   "cell_type": "code",
   "execution_count": 4,
   "id": "22fa8049-3ae1-47c6-a232-76e69533f2a9",
   "metadata": {},
   "outputs": [
    {
     "name": "stdout",
     "output_type": "stream",
     "text": [
      "합: 10, B: 나도 모르겠어\n"
     ]
    }
   ],
   "source": [
    "def filter_sum_pairs(T, min_val, max_val):\n",
    "    sum_pairs = find_sum_pairs(T, min_val, max_val)\n",
    "    selected_pairs = []\n",
    "    for x, y in sum_pairs:\n",
    "        xy = x * y\n",
    "        product_pairs = find_product_pairs(xy, min_val, max_val)\n",
    "        if not is_multiple_elements(product_pairs):\n",
    "            continue\n",
    "        selected_pairs.append((x, y))\n",
    "    return selected_pairs\n",
    "\n",
    "\n",
    "def is_valid_sum(T, min_val, max_val):\n",
    "    \"\"\"B가 모르겠다고 한 것이 타당한지 확인\"\"\"\n",
    "    selected_pairs = filter_sum_pairs(T, min_val, max_val)\n",
    "    return is_multiple_elements(selected_pairs)\n",
    "\n",
    "\n",
    "# 예시 실행\n",
    "T = 10\n",
    "min_val = 2\n",
    "max_val = 50\n",
    "if is_valid_sum(T, min_val, max_val):\n",
    "    print(f\"합: {T}, B: 나도 모르겠어\")\n",
    "else:\n",
    "    print(f\"합: {T}, B: 나는 알겠어!\")"
   ]
  },
  {
   "cell_type": "markdown",
   "id": "fe74ea54-c577-44e8-8d20-41c289b60317",
   "metadata": {},
   "source": [
    "`-` 조합이 2개 이상이면 B는 정답을 알 수 없다"
   ]
  },
  {
   "cell_type": "markdown",
   "id": "8ecf2a06-c5a7-42ce-b449-3190fce518eb",
   "metadata": {},
   "source": [
    "### `A: 두 수가 뭔지 알겠어!`"
   ]
  },
  {
   "cell_type": "markdown",
   "id": "707dc379-0ba6-4414-af79-ec2c9ebbef8c",
   "metadata": {},
   "source": [
    "- 주어진 곱을 $x, y$ 쌍으로 나누고 합을 구하자\n",
    "\n",
    "- 각 합에 대해 곱의 쌍이 2개 이상이면 B가 정답을 모르는게 합리적이다"
   ]
  },
  {
   "cell_type": "code",
   "execution_count": 7,
   "id": "ad3290f2-9a84-49e4-b84c-f5f269afdcd8",
   "metadata": {},
   "outputs": [
    {
     "name": "stdout",
     "output_type": "stream",
     "text": [
      "[(2, 6)]\n",
      "A: 두 수가 뭔지 알겠어!\n"
     ]
    }
   ],
   "source": [
    "def filter_product_pairs(n, min_val, max_val):\n",
    "    product_pairs = find_product_pairs(n, min_val, max_val)\n",
    "    selected_pairs = []\n",
    "    for x, y in product_pairs:\n",
    "        T = x + y\n",
    "        sum_pairs = filter_sum_pairs(T, min_val, max_val)\n",
    "        if not is_multiple_elements(sum_pairs):\n",
    "            continue\n",
    "        selected_pairs.append((x, y))\n",
    "    return selected_pairs\n",
    "\n",
    "\n",
    "def is_valid_product(n, min_val, max_val):\n",
    "    \"\"\"A가 두 수가 무엇인지 알겠다고 한 것이 타당한지 확인\"\"\"\n",
    "    selected_pairs = filter_product_pairs(n, min_val, max_val)\n",
    "    return len(selected_pairs) == 1\n",
    "\n",
    "\n",
    "# 예시\n",
    "n = 12\n",
    "min_val = 2\n",
    "max_val = 50\n",
    "print(filter_product_pairs(n, min_val, max_val))\n",
    "if is_valid_product(n, min_val, max_val):\n",
    "    print(f\"A: 두 수가 뭔지 알겠어!\")\n",
    "else:\n",
    "    print(f\"A: 두 수가 뭔지 모르겠어\")"
   ]
  },
  {
   "cell_type": "markdown",
   "id": "e3362938-670a-4b2f-9ba5-d7abd3fb2c78",
   "metadata": {},
   "source": [
    "### `B: 나도 알겠어!`"
   ]
  },
  {
   "cell_type": "code",
   "execution_count": null,
   "id": "5013a809-fe08-4bdd-a80c-5b939f99a656",
   "metadata": {},
   "outputs": [],
   "source": []
  },
  {
   "cell_type": "markdown",
   "id": "4f75eb9a-8750-455f-9704-94df3e6eb2d6",
   "metadata": {},
   "source": [
    "## 다른 버전의 문제\n",
    "\n",
    "`-` `P: 도저히 모르겠는데요`\n",
    "\n",
    "`-` `S: 당신이 모를 거란 것쯤은 이미 알고 있었어요`\n",
    "\n",
    "`-` `P: 아, 두 수가 뭔지 알겠습니다`\n",
    "\n",
    "`-` `S: 저도 두 수가 뭔지 알겠습니다`"
   ]
  },
  {
   "cell_type": "code",
   "execution_count": null,
   "id": "c08da30b-493c-426c-ab51-94fc0922bb82",
   "metadata": {},
   "outputs": [],
   "source": []
  }
 ],
 "metadata": {
  "kernelspec": {
   "display_name": "Python 3 (ipykernel)",
   "language": "python",
   "name": "python3"
  },
  "language_info": {
   "codemirror_mode": {
    "name": "ipython",
    "version": 3
   },
   "file_extension": ".py",
   "mimetype": "text/x-python",
   "name": "python",
   "nbconvert_exporter": "python",
   "pygments_lexer": "ipython3",
   "version": "3.8.11"
  }
 },
 "nbformat": 4,
 "nbformat_minor": 5
}
