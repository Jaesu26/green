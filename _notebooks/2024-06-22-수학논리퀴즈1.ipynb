{
 "cells": [
  {
   "cell_type": "markdown",
   "id": "620598d1-c6e1-4706-a493-3630dd5a7071",
   "metadata": {},
   "source": [
    "# 수학 논리 퀴즈\n",
    "\n",
    "> \"작성 중\"\n",
    "\n",
    "- toc: true\n",
    "- branch: master\n",
    "- badges: true\n",
    "- comments: true\n",
    "- hide: true\n",
    "- author: 한재수\n",
    "- categories: [Math]"
   ]
  },
  {
   "cell_type": "markdown",
   "id": "e7c9db14-46f2-45d9-9426-8f60821e1b6e",
   "metadata": {},
   "source": [
    "# 문제"
   ]
  },
  {
   "cell_type": "markdown",
   "id": "4b66fa77-ddde-469c-935f-4323fd0c7ce4",
   "metadata": {},
   "source": [
    "`-` 2 이상 50 이하의 두 수 $x, y$를 고려하자\n",
    "\n",
    "`-` A에게는 두 수의 곱을 B에게는 두 수의 합을 알려주었다\n",
    "\n",
    "`-` 아래 A와 B의 대화를 바탕으로 $x, y$를 맞혀라"
   ]
  },
  {
   "cell_type": "markdown",
   "id": "51e8c14f-aebb-4ca6-8198-35b08dc038f3",
   "metadata": {},
   "source": [
    "`A: 두 수가 뭔지 모르겠어`\n",
    "\n",
    "`B: 나도 모르겠어`\n",
    "\n",
    "`A: 두 수가 뭔지 알겠어!`\n",
    "\n",
    "`B: 나도 알겠어!`"
   ]
  },
  {
   "cell_type": "markdown",
   "id": "c40f6e5f-0244-4757-a3de-64f4de28c23e",
   "metadata": {},
   "source": [
    "`-` 유명한 문제로 문제적 남자에 출제되기도 했다"
   ]
  },
  {
   "cell_type": "markdown",
   "id": "7771ad4a-0326-4626-ac18-efc4d0007169",
   "metadata": {},
   "source": [
    "# 풀이"
   ]
  },
  {
   "cell_type": "markdown",
   "id": "7b241816-7457-46ef-97d6-d902b0c6ca4c",
   "metadata": {},
   "source": [
    "#### `A: 두 수가 뭔지 모르겠어`"
   ]
  },
  {
   "cell_type": "markdown",
   "id": "1f3f9229-ecc0-401c-abf7-a5d9b038beab",
   "metadata": {},
   "source": [
    "`-` A가 처음에 두 수가 뭔지 모르겠다고 했다\n",
    "\n",
    "`-` 그런데 두 수의 곱만을 알고서 두 수가 무엇인지 바로 알 수 있을까?\n",
    "\n",
    "`-` 예컨대 $xy$가 34라고 해보자\n",
    "\n",
    "`-` 34는 2와 17의 곱으로만 만들어지므로 A는 두 수가 무엇인지 바로 알 수 있다\n",
    "\n",
    "`-` 하지만 만약 $xy$가 12라면 어떨까\n",
    "\n",
    "`-` A의 입장에서는 12가 3과 4의 곱인지 2와 6의 곱인지 현재로선 알 수 없다\n",
    "\n",
    "`-` 왜 1과 12는 고려하지 않는거지? ---> 2 이상 50 이하의 수여야 하는데 1은 해당 범위에 포함되지 않음\n",
    "\n",
    "`-` $xy$에 대하여 1과 자기 자신을 제외한 약수가 2개를 초과한다면 A는 두 수가 무엇인지 알 수 없다\n",
    "\n",
    "`-` 즉 $xy$에 대하여 약수가 4개를 초과한다면 A는 두 수가 무엇인지 알 수 없다"
   ]
  },
  {
   "cell_type": "markdown",
   "id": "9c76bb83-5893-4898-af9c-66f739119a0d",
   "metadata": {},
   "source": [
    "#### `B: 나도 모르겠어`"
   ]
  },
  {
   "cell_type": "markdown",
   "id": "30c9f7a4-ec5c-42f0-9707-a6f2cf471088",
   "metadata": {},
   "source": [
    "`-` B는 A의 답변을 듣고 추가 정보를 얻어도 두 수가 뭔지 모르겠다고 했다\n",
    "\n",
    "`-` 그런데 A의 답변과 두 수의 합을 알고서 두 수가 무엇인지 알 수 있을까?\n",
    "\n",
    "`-` A의 답변을 듣지 않아도 두 수가 무엇인지 알 수 있는 경우가 존재한다\n",
    "\n",
    "`-` 만약 $x+y$가 4또는 5라고 해보자\n",
    "\n",
    "`-` $x+y$가 4라면 두 수는 2와 2이고 $x+y$가 5라면 두 수는 2와 3이다\n",
    "\n",
    "`-` $x+y$가 이보다 큰 6부터는 두 수를 무엇인지 바로 알 수 없게 된다 (2와 4 또는 3과 3) \n",
    "\n",
    "`-` 이제 A의 답변 정보도 추가로 사용해보자\n",
    "\n",
    "`-` 일단 두 수는 2이상 50이하이므로 $x+y$의 범위는 4 이상 100 이하이다\n",
    "\n",
    "`-` $x+y$를 $T$라고 하자, $T$는 6 이상이다\n",
    "\n",
    "`-` 그러면 $T$가 홀수일 때 두 수 $x,y$로 가능한 조합은 $(2, T-2), \\cdots, \\left(\\big\\lfloor\\frac{T}{2}\\big\\rfloor, \\big\\lfloor\\frac{T}{2}\\big\\rfloor + 1 \\right)$이고\n",
    "\n",
    "`-` $T$가 짝수일 때 두 수 $x,y$로 가능한 조합은 $(2, T-2), \\cdots, \\left(\\frac{T}{2}, \\frac{T}{2}\\right)$이다\n",
    "\n",
    "`-` 가능한 조합 각각에 대하여 $xy$를 계산하고 약수의 개수를 확인하자\n",
    "\n",
    "`-` 약수의 개수가 4개 이하라면 정답이 아니므로 제외하면 된다\n",
    "\n",
    "`-` 만약 4개 이하라면 A가 답을 맞혔을 것이다\n",
    "\n",
    "`-` 그렇게 해서 남아있는 조합이 1개 뿐이라면 B가 정답을 맞혔을 것이다\n",
    "\n",
    "`-` 예컨대 $x+y$가 8이라고 하자\n",
    "\n",
    "`-` 그러면 가능한 $x,y$의 조합은 $(2, 6), (3, 5), (4,4)$이다\n",
    "\n",
    "`-` 각 조합에 대하여 $xy$를 계산하면 $12, 15, 16$이다\n",
    "\n",
    "`-` 12의 약수의 개수는 $1,2,3,4,6,12$로 6개이다\n",
    "\n",
    "`-` 15의 약수의 개수는 $1,3,5,15$로 4개이다\n",
    "\n",
    "`-` 16의 약수의 개수는 $1,2,4,8,16$으로 5개이다\n",
    "\n",
    "`-` 만약 $x,y$가 3과 5라면 $xy$는 15이고 15는 3과 5의 곱으로만 이루어지므로 A가 처음에 답을 맞혔을 것이다\n",
    "\n",
    "`-` 따라서 약수의 개수가 4개 이하인 15는 $xy$로 가능하지 않다\n",
    "\n",
    "`-` 하지만 12와 16은 약수의 개수가 4개 초과이므로 $xy$로 가능하다\n",
    "\n",
    "`-` 즉 B는 A의 답변을 듣고서도 $x,y$가 2와 6인지 3과 5인지 알아낼 수 없다"
   ]
  },
  {
   "cell_type": "markdown",
   "id": "b7091003-a945-4be4-b718-f010fb7c6ee1",
   "metadata": {},
   "source": [
    "#### `A: 두 수가 뭔지 알겠어!`"
   ]
  },
  {
   "cell_type": "code",
   "execution_count": null,
   "id": "735006f6-3ced-40c1-99da-cf0847b881c4",
   "metadata": {},
   "outputs": [],
   "source": []
  }
 ],
 "metadata": {
  "kernelspec": {
   "display_name": "Python 3 (ipykernel)",
   "language": "python",
   "name": "python3"
  },
  "language_info": {
   "codemirror_mode": {
    "name": "ipython",
    "version": 3
   },
   "file_extension": ".py",
   "mimetype": "text/x-python",
   "name": "python",
   "nbconvert_exporter": "python",
   "pygments_lexer": "ipython3",
   "version": "3.8.11"
  }
 },
 "nbformat": 4,
 "nbformat_minor": 5
}
