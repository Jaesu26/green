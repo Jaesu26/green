{
 "cells": [
  {
   "cell_type": "markdown",
   "id": "ac7b621f-5ffe-49ca-b5ea-ca725bdc34fb",
   "metadata": {},
   "source": [
    "# 수학 논리 퀴즈 2\n",
    "\n",
    "> \"작성 중\"\n",
    "\n",
    "- toc: true\n",
    "- branch: master\n",
    "- badges: true\n",
    "- comments: true\n",
    "- hide: true\n",
    "- author: 한재수\n",
    "- categories: [Math, Python]"
   ]
  },
  {
   "cell_type": "markdown",
   "id": "e1ca9f97-6a41-46ab-8ba7-62961700da13",
   "metadata": {},
   "source": [
    "`-` [수학 논리 퀴즈](https://jaesu26.github.io/study-blog/math/python/2024/06/22/%EC%88%98%ED%95%99%EB%85%BC%EB%A6%AC%ED%80%B4%EC%A6%881.html)와 같은 부류의 또 다른 문제이다\n",
    "\n",
    "`-` 파이썬 풀이 부분에서 [수학 논리 퀴즈](https://jaesu26.github.io/study-blog/math/python/2024/06/22/%EC%88%98%ED%95%99%EB%85%BC%EB%A6%AC%ED%80%B4%EC%A6%881.html)에서 사용한 코드를 참고했다\n",
    "\n",
    "`-` 유명한 문제이다: https://en.wikipedia.org/wiki/Sum_and_Product_Puzzle\n",
    "\n",
    "`-` 위 링크에선 $y > x$인 조건이 있는데 나는 무시했다"
   ]
  },
  {
   "cell_type": "markdown",
   "id": "016e4dae-19f3-4257-9fd3-8df6b7e70695",
   "metadata": {},
   "source": [
    "## 문제 상황"
   ]
  },
  {
   "cell_type": "markdown",
   "id": "ea0b7f1c-dc30-4760-a01b-650dbc5fec9c",
   "metadata": {},
   "source": [
    "`-` 2 이상 100 이하의 두 수 $x, y$를 고려하자\n",
    "\n",
    "`-` A에게는 두 수의 곱을 B에게는 두 수의 합을 알려주었다\n",
    "\n",
    "`-` 아래 A와 B의 대화를 바탕으로 $x, y$를 맞혀라\n",
    "\n",
    "`-` `A: 도저히 모르겠는데요`\n",
    "\n",
    "`-` `B: 당신이 모를 거란 것쯤은 이미 알고 있었어요`\n",
    "\n",
    "`-` `A: 아, 두 수가 뭔지 알겠습니다`\n",
    "\n",
    "`-` `B: 저도 두 수가 뭔지 알겠습니다`"
   ]
  },
  {
   "cell_type": "markdown",
   "id": "5325da1e-36f2-4cad-aa3f-ff238a187d5e",
   "metadata": {},
   "source": [
    "## 풀이"
   ]
  },
  {
   "cell_type": "markdown",
   "id": "6409e84e-d73e-445c-89c9-f470b066fa79",
   "metadata": {},
   "source": [
    "### `A: 도저히 모르겠는데요`"
   ]
  },
  {
   "cell_type": "markdown",
   "id": "25274a96-6121-400f-a875-ddb30b3e6a53",
   "metadata": {},
   "source": [
    "`-` 두 수의 곱을 $P$라고 하자\n",
    "\n",
    "`-` A가 정답을 모르겠다는 것은 $P=xy$를 만족하는 $(x,y)$ 쌍이 2개 이상임을 뜻한다"
   ]
  },
  {
   "cell_type": "markdown",
   "id": "9ae39e0b-e6ae-44c6-9115-e5827d1d0af4",
   "metadata": {},
   "source": [
    "### `B: 당신이 모를 거란 것쯤은 이미 알고 있었어요`"
   ]
  },
  {
   "cell_type": "markdown",
   "id": "ca006f7f-00e0-4e96-9723-de784f292c0a",
   "metadata": {
    "tags": []
   },
   "source": [
    "`-` 두 수의 합을 $S$라고 하자\n",
    "\n",
    "`-` 일단 $S$는 6 이상 198 이하이다\n",
    "\n",
    "`-` 그렇지 않다면 B는 A의 답변을 듣지 않고도 정답을 바로 맞힐 수 있다\n",
    "\n",
    "`-` $S=x+y$를 만족하는 $(x,y)$쌍을 찾아보자\n",
    "\n",
    "`-` $S$가 홀수일 때 두 수 $x,y$로 가능한 조합은 $(2, S-2), \\cdots, \\left(\\big\\lfloor\\frac{S}{2}\\big\\rfloor, \\big\\lfloor\\frac{S}{2}\\big\\rfloor + 1 \\right)$이고\n",
    "\n",
    "`-` $S$가 짝수일 때 두 수 $x,y$로 가능한 조합은 $(2, S-2), \\cdots, \\left(\\frac{S}{2}, \\frac{S}{2}\\right)$이다\n",
    "\n",
    "`-` 그런데 B는 A가 정답을 모를거라고 확신했다\n",
    "\n",
    "`-` 가능한 모든 $(x,y)$쌍에 대해 $xy$를 계산해보자\n",
    "\n",
    "`-` 만약 $xy$ 중에 두 소수의 곱이 존재한다면 B는 A가 정답을 알지 못한다고 확신할 수 없다\n",
    "\n",
    "`-` 왜냐하면 두 수의 곱이 $P$인 두 수 $(x, y)$ 쌍은 1개만 존재하기 때문이다\n",
    "\n",
    "`-` 예컨대 A가 $P=21$을 알고 있다면 두 수는 3과 7뿐이므로 바로 정답을 맞힐 수 있다\n",
    "\n",
    "`-` 그런데 어떻게 $S=x+y$를 만족하는 소수 $x,y$가 존재하는지 판단할 수 있을까?\n",
    "\n",
    "`-` 쉬운 방법으론 다음이 있다. $S=x+y$를 만족하는 가능한 모든 $(x,y)$ 쌍을 고려하자\n",
    "\n",
    "`-` 그리고 $x$와 $y$의 곱을 $P$라고 하자\n",
    "\n",
    "`-` 이때 $P=ab$를 만족하는 2 이상 100 이하의 $(a,b)$ 쌍이 단 1개라면 $x,y$는 소수이다\n",
    "\n",
    "`-` 즉, B는 `당신이 모를 거란 것쯤은 이미 알고 있었어요`와 같이 대답할 수 없으므로 모순이다"
   ]
  },
  {
   "cell_type": "markdown",
   "id": "6f02293f-6670-447e-8e5b-8b4a70a67f2a",
   "metadata": {},
   "source": [
    "- 아래는 탐색 시간을 줄이는 알고리즘이다\n",
    "\n",
    "`-` 일단 임의의 짝수 $S = x + y$에 대해선 소수 $x,y$가 항상 존재한다 \n",
    "\n",
    "`-` 여기에는 골드바흐의 추측이 사용된다 (한 번쯤 들어봤을 법하다)\n",
    "\n",
    "`-` 밀레니엄 7대 난제 중 하나인 골드바흐의 추측은 $4$이상의 모든 짝수는 두 소수의 합으로 표현 가능함을 뜻한다 \n",
    "\n",
    "`-` 물론 완전히 증명된건 아니지만 충분히 큰 영역까지 성립함이 보여졌다\n",
    "\n",
    "`-` 따라서 이 문제에서 다루는 영역은 당연히 성립한다\n",
    "\n",
    "`-` 그럼 $S$가 홀수일 땐 괜찮을까?\n",
    "\n",
    "`-` $S$가 홀수일려면 필연적으로 $x,y$ 중 하나는 짝수, 다른 하나는 홀수여야 한다\n",
    "\n",
    "`-` 둘 다 짝수이거나 홀수라면 $x+y$는 짝수이기 때문에 그렇다\n",
    "\n",
    "`-` $x$와 $y$는 서로 대칭적이므로 임의로 $x$를 짝수 $y$를 홀수라 가정하겠다\n",
    "\n",
    "`-` $x$가 만약 2이고 $y$가 소수라면 $xy$는 2와 y의 곱으로만 이루어진다\n",
    "\n",
    "`-` 하지만 $x$가 4이상의 짝수라면 $xy$는 합성수이다\n",
    "\n",
    "`-` 그런데 이는 상한 100을 고려하지 않은 것으로 $x$가 4이상의 짝수라도 $y$가 50이상의 소수라면 $xy$는 유일한 해 1개를 가진다 (곱의 쌍이 단 1개)\n",
    "\n",
    "`-` 그런데 $x$가 4 이상의 짝수이고 $y$가 소수가 아닌 홀수여도 하한과 상한 조건에 의해 $xy$를 나타내는 곱의 쌍이 1개만 존재할 수 있을까?\n",
    "\n",
    "`-` $x$가 98, $y$가 95이면 가능하다\n",
    "\n",
    "`-` 9310은 95와 98의 곱으로만 가능하다\n",
    "\n",
    "`-` 짝수인 $S$는 두 소수의 합으로 표현되므로 정답에서 제외하고 홀수인 $S$에 대해선 브루트 포스로 정답 여부를 판단하자\n",
    "\n",
    "`-` 즉, 홀수 $S(=x+y)$를 만족하는 $(x,y)$ 쌍에 대해 $xy$가 $x$와 $y$의 곱으로만 표현된다면 정답이 될 수 없다\n",
    "\n",
    "`-` 이 과정을 거쳐 정답으로 가능한 두 수의 합을 $S^*$라고 정의하겠다"
   ]
  },
  {
   "cell_type": "markdown",
   "id": "bed31b8f-4605-4e32-92fb-98a1f6c2a5bc",
   "metadata": {},
   "source": [
    "### `A: 아, 두 수가 뭔지 알겠습니다`"
   ]
  },
  {
   "cell_type": "markdown",
   "id": "8f1f6f52-7b15-4e1e-8581-3b37cc3d9e3e",
   "metadata": {},
   "source": [
    "`-` 기본적으로 곱의 쌍이 1개뿐인 수는 배제한다 (첫 단계에서 A가 정답을 맞혔을 것이다)\n",
    "\n",
    "`-` $P=xy$를 만족하는 모든 $(x,y)$ 쌍에 대해 다음을 계산하자\n",
    "\n",
    "`-` $S=x+y$라 하고 $S=a+b$을 만족시키는 모든 $(a,b)$에 대해 $ab$을 계산하자 \n",
    "\n",
    "`-` 만약 $ab$중 곱의 쌍이 1개뿐인 수가 존재한다면 `B는 A가 모를거라고 확신할 수 없다`\n",
    "\n",
    "`-` 즉, 해당 $x,y$는 정답이 아닌 것이다\n",
    "\n",
    "`-` 그런데 위를 만족하는 $(x,y)$ 조합이 단 1개뿐이라면 A는 두 수가 뭔지 안다\n",
    "\n",
    "`-` 예컨대 A가 처음에 전달 받은 $P$가 18이라고 해보자\n",
    "\n",
    "`-` 그럼 $x,y$는 2와 9 또는 3과 6이다\n",
    "\n",
    "`-` 따라서 `A는 도저히 알 수 없다`\n",
    "\n",
    "`-` 그런데 B는 A가 모를걸 알고 있었다\n",
    "\n",
    "`-` 곱이 18이므로 합은 9 아니면 11이다\n",
    "\n",
    "`-` 만약 두 수의 합 $S$가 $9$라면 $2,7$이 가능하다\n",
    "\n",
    "`-` 그러면 두 수의 곱은 14가 되는데 14는 오직 2와 7의 곱으로만 이루어진다\n",
    "\n",
    "`-` 따라서 `B`는 `당신이 모를 거란 것쯤은 이미 알고 있었어요`라고 생각할 수 없다\n",
    "\n",
    "`-` 이제 두 수의 합이 11이라고 해보자\n",
    "\n",
    "`-` 두 수의 합이 11인 쌍은 $(2,9), (3,8),(4,7),(5,6)$이다\n",
    "\n",
    "`-` 각 쌍의 원소 곱은 $18, 24, 28, 30$이다\n",
    "\n",
    "`-` 이들은 모두 합성수 이므로 A는 정답을 알지 못한다\n",
    "\n",
    "`-` 즉, `B`는 `당신이 모를 거란 것쯤은 이미 알고 있었어요`라고 생각할 수 있다\n",
    "\n",
    "`-` 따라서 A가 전달 받은 두 수의 곱이 18이라면 가능한 합은 11뿐이고 이 때의 $x,y$는 2와 9이다\n",
    "\n",
    "`-` 경우의 수가 1개뿐이므로 `A는 두 수가 무엇인지 알 수 있다`"
   ]
  },
  {
   "cell_type": "markdown",
   "id": "b060482d-5d6f-4fd8-8df5-f879434b1454",
   "metadata": {},
   "source": [
    "### `B: 저도 두 수가 뭔지 알겠습니다`"
   ]
  },
  {
   "cell_type": "markdown",
   "id": "177a553c-f618-4955-a0b8-98097ed2e92c",
   "metadata": {},
   "source": [
    "`-` A가 `아, 두 수가 뭔지 알겠습니다`라고 말한 정보를 이용해보자\n",
    "\n",
    "`-` 일단 B는 `당신이 모를 거란 것쯤은 이미 알고 있었어요`라고 말했으므로 두 수의 합으로 가능한 것들은 $S^*$이다\n",
    "\n",
    "`-` $S^* = x+y$를 만족하는 $(x, y)$에 대해 $xy$를 계산하면 $xy=ab$를 만족하는 $(a,b)$쌍은 2개 이상이다 (만약 1개뿐이라면 $S^*$일 수 없다)\n",
    "\n",
    "`-` 가능한 $(a,b)$쌍 각각에 대해 $a+b$가 $S^*$에 포함되는지 확인하자\n",
    "\n",
    "`-` 만약 $a+b$가 $S^*$에 포함되지 않는다면 해당 $(a,b)$는 정답이 될 수 없다 (B가 `당신이 모를 거란 것쯤은 이미 알고 있었어요`라고 말할 수 없다)\n",
    "\n",
    "`-` 가능한 $(a,b)$쌍 중에서 $S^*$에 포함되는 $(a,b)$쌍이 단 1개뿐이라면 A는 `아, 두 수가 뭔지 알겠습니다`라고 말할 수 있다\n",
    "\n",
    "`-` 이 과정을 가능한 모든 $(x,y)$쌍에 적용한 후 단 하나의 $(x,y)$쌍에 대해서만 A가 `아, 두 수가 뭔지 알겠습니다`라고 말할 수 있다면\n",
    "\n",
    "`-` B는 `저도 두 수가 뭔지 알겠습니다`라고 말할 수 있다"
   ]
  },
  {
   "cell_type": "markdown",
   "id": "1bc5aceb-4d94-4508-b76e-df93af96d3da",
   "metadata": {},
   "source": [
    "## 파이썬으로 풀어보자"
   ]
  },
  {
   "cell_type": "markdown",
   "id": "062d2884-7f97-4d3c-9f1d-6cefe3364801",
   "metadata": {},
   "source": [
    "### `A: 도저히 모르겠네요`"
   ]
  },
  {
   "cell_type": "markdown",
   "id": "8c66374d-8f62-4e56-82c9-7baa6554d665",
   "metadata": {},
   "source": [
    "`-` 로직을 정리하고 가자\n",
    "\n",
    "`-` 일단 두 수의 곱 $P$가 주어지면 $P = xy$를 만족하는 $(x,y)$ 쌍을 찾는다\n",
    "\n",
    "`-` 단, $\\min \\leq x \\leq y \\leq \\max$ (여기서 $\\min=2, \\max=100$)\n",
    "\n",
    "`-` 곱의 조합 쌍이 2개 이상이면 A는 두 수가 무엇인지 알 수 없다"
   ]
  },
  {
   "cell_type": "markdown",
   "id": "0cdab0cd-7721-4464-996f-d971f89c2cb0",
   "metadata": {},
   "source": [
    "- 곱의 조합 쌍을 찾자"
   ]
  },
  {
   "cell_type": "code",
   "execution_count": 17,
   "id": "32501a1f-9b28-4cac-a121-e3fd514eeb68",
   "metadata": {},
   "outputs": [
    {
     "name": "stdout",
     "output_type": "stream",
     "text": [
      "[(2, 21), (3, 14), (6, 7)]\n"
     ]
    }
   ],
   "source": [
    "import math\n",
    "\n",
    "\n",
    "def find_product_pairs(n, minimum, maximum):\n",
    "    product_pairs = []\n",
    "    for x in range(minimum, math.isqrt(n) + 1):\n",
    "        if n % x != 0:\n",
    "            continue\n",
    "        y = n // x\n",
    "        if not (x <= y and minimum <= x <= maximum and minimum <= y <= maximum):\n",
    "            continue\n",
    "        product_pairs.append((x, y))\n",
    "    return product_pairs\n",
    "\n",
    "\n",
    "# 예시\n",
    "n = 42\n",
    "minimum = 2\n",
    "maximum = 100\n",
    "product_pairs = find_product_pairs(n, minimum, maximum)\n",
    "print(product_pairs)"
   ]
  },
  {
   "cell_type": "markdown",
   "id": "b8010682-df2c-403d-be5b-d208297bdc01",
   "metadata": {},
   "source": [
    "- 곱의 조합쌍이 2개 이상이면 A는 정답을 맞힐 수 없다"
   ]
  },
  {
   "cell_type": "code",
   "execution_count": 18,
   "id": "49c56e7d-948d-4f41-ba78-6117d849e334",
   "metadata": {},
   "outputs": [
    {
     "name": "stdout",
     "output_type": "stream",
     "text": [
      "두 수의 곱으로 20이(가) 주어졌을 때 A는 두 수가 무엇인지 압니까?: 모릅니다\n",
      "현재 A가 정답으로 고려하고 있는 후보군: [(2, 10), (4, 5)]\n"
     ]
    }
   ],
   "source": [
    "def has_elements(sequence):\n",
    "    return len(sequence) >= 2\n",
    "\n",
    "\n",
    "def step1(n, minimum, maximum):\n",
    "    return find_product_pairs(n, minimum, maximum)\n",
    "\n",
    "\n",
    "def check_step1(pairs):\n",
    "    \"\"\"A가 모르겠다고 한 것이 타당한지 확인\"\"\"\n",
    "    return has_elements(pairs)\n",
    "\n",
    "\n",
    "# 예시\n",
    "n = 20\n",
    "minimum = 2\n",
    "maximum = 100\n",
    "pairs = step1(n, minimum, maximum)\n",
    "result = check_step1(pairs)\n",
    "answer = \"압니다\" * (1 - result) + \"모릅니다\" * result\n",
    "print(f\"두 수의 곱으로 {n}이(가) 주어졌을 때 A는 두 수가 무엇인지 압니까?: {answer}\")\n",
    "print(f\"현재 A가 정답으로 고려하고 있는 후보군: {pairs}\")"
   ]
  },
  {
   "cell_type": "markdown",
   "id": "d3d39ecd-27dd-4bd0-b617-2dfd1faca0eb",
   "metadata": {},
   "source": [
    "### `B: 당신이 모를 거란 것은 이미 알고 있었어요`"
   ]
  },
  {
   "cell_type": "markdown",
   "id": "f5919d5b-22f3-409c-af5b-60048071315a",
   "metadata": {},
   "source": [
    "`-` 짝수 $S$는 골드바흐의 추측에 의해 정답이 될 수 없다 \n",
    "\n",
    "`-` 홀수 $S=x+y$를 만족하는 가능한 모든 $(x,y)$ 쌍을 고려하자\n",
    "\n",
    "`-` 모든 $(x,y)$쌍에 대해 $xy$를 계산하고 $xy$중에 곱의 쌍이 1개 뿐인 $xy$가 존재한다면\n",
    "\n",
    "`-` 해당 $S$는 처음에 B가 받은 수가 될 수 없다"
   ]
  },
  {
   "cell_type": "markdown",
   "id": "7a940206-f2b5-45eb-9b68-fd6d9eec74cc",
   "metadata": {},
   "source": [
    "#### 두 번째 정보"
   ]
  },
  {
   "cell_type": "code",
   "execution_count": 19,
   "id": "ed2eda78-07a7-40ea-8bd0-f6ef010b5b5f",
   "metadata": {},
   "outputs": [],
   "source": [
    "def use_goldbach_conjecture(num):\n",
    "    if num <= 2:\n",
    "        return False\n",
    "    return is_even(num)\n",
    "\n",
    "\n",
    "def is_even(num):\n",
    "    return num % 2 == 0\n",
    "\n",
    "\n",
    "def find_sum_pairs(n, minimum, maximum):\n",
    "    sum_pairs = []\n",
    "    for x in range(minimum, maximum + 1):\n",
    "        y = n - x\n",
    "        if not (minimum <= y <= maximum and x <= y):\n",
    "            continue\n",
    "        sum_pairs.append((x, y))\n",
    "    return sum_pairs\n",
    "\n",
    "\n",
    "def filter_sum_pairs_step2(sum_pairs, minimum, maximum):\n",
    "    selected_pairs = []\n",
    "    for x, y in sum_pairs:\n",
    "        n = x * y\n",
    "        pairs = step1(n, minimum, maximum)\n",
    "        if not check_step1(pairs):\n",
    "            continue\n",
    "        selected_pairs.append((x, y))\n",
    "    return selected_pairs\n",
    "\n",
    "\n",
    "def calculate_s_star(minimum, maximum):\n",
    "    s_star_set = set()\n",
    "    possible_summations = range(minimum * 2, maximum * 2 + 1)\n",
    "    for sum_ in possible_summations:\n",
    "        if use_goldbach_conjecture(sum_):\n",
    "            continue\n",
    "        sum_pairs = find_sum_pairs(sum_, minimum, maximum)\n",
    "        selected_pairs = filter_sum_pairs_step2(sum_pairs, minimum, maximum)\n",
    "        if len(sum_pairs) != len(selected_pairs):  # B는 A의 답변을 듣기 전부터 A가 정답을 맞히지 못 할 것을 알고 있었다\n",
    "            continue\n",
    "        s_star_set.add(sum_)\n",
    "    return s_star_set\n",
    "\n",
    "\n",
    "def check_step2(num):\n",
    "    \"\"\"B가 `A는 정답을 못 맞힐 거라고` 말한 것이 타당한지 확인\"\"\"\n",
    "    return num in S_STAR"
   ]
  },
  {
   "cell_type": "code",
   "execution_count": 28,
   "id": "af3b73e7-dc1a-4296-8366-9677b2a2a522",
   "metadata": {},
   "outputs": [],
   "source": [
    "minimum = 2\n",
    "maximum = 100\n",
    "S_STAR = calculate_s_star(minimum, maximum)"
   ]
  },
  {
   "cell_type": "code",
   "execution_count": 29,
   "id": "b4ae8c74-644b-427e-8fa4-58b62ab99b06",
   "metadata": {},
   "outputs": [
    {
     "data": {
      "text/plain": [
       "{11, 17, 23, 27, 29, 35, 37, 41, 47, 53}"
      ]
     },
     "execution_count": 29,
     "metadata": {},
     "output_type": "execute_result"
    }
   ],
   "source": [
    "S_STAR"
   ]
  },
  {
   "cell_type": "markdown",
   "id": "4bec01b2-3c73-4cd0-83f8-ed49cf283101",
   "metadata": {},
   "source": [
    "### `A: 아, 두 수가 뭔지 알았습니다`"
   ]
  },
  {
   "cell_type": "markdown",
   "id": "15c7df9f-b234-4c00-933b-e6c391f0b1a5",
   "metadata": {},
   "source": [
    "`-` 주어진 곱을 $(x, y)$ 쌍으로 나눈다\n",
    "\n",
    "`-` 각 곱에 대해 `A: 도저히 모르겠네요`에서 사용한 알고리즘을 적용한다 (15, 21과 같은 수를 스킵하기 위함이다)\n",
    "\n",
    "`-` 남은 곱에 대해 합을 구한다\n",
    "\n",
    "`-` 각 합에 대해 `B: 당신이 모를 거란 것은 이미 알고 있었어요`에서 사용한 알고리즘을 적용한다\n",
    "\n",
    "`-` 합이 $S^*$에 속해야 한다, 그렇지 않으면 제외한다\n",
    "\n",
    "`-` 하지만 A는 두 수가 무엇인지 알아냈으므로 이를 만족하는 곱의 쌍이 단 1개 뿐인 것을 의미한다"
   ]
  },
  {
   "cell_type": "markdown",
   "id": "bf6019d6-cf94-4ebd-b18a-a1ff911e6c95",
   "metadata": {},
   "source": [
    "- 주어진 곱을 $(x, y)$ 쌍으로 나누자\n",
    "\n",
    "- 각 쌍에 대해 step1 함수의 알고리즘를 적용하고 남은 쌍에 대해 합을 구하자\n",
    "\n",
    "- 각 합에 대해 $S^*$에 속하는지 계산하자\n",
    "\n",
    "- $S^*$에 속하는 합이 1개만 남았다면 A는 정답을 맞힐 수 있다"
   ]
  },
  {
   "cell_type": "code",
   "execution_count": 45,
   "id": "10eb152b-784b-4d83-a0ed-1c15d625e8eb",
   "metadata": {},
   "outputs": [
    {
     "name": "stdout",
     "output_type": "stream",
     "text": [
      "두 수의 곱으로 52이(가) 주어졌을 때 B의 답변을 들은 A는 두 수가 무엇인지 압니까?: 압니다\n",
      "현재 A가 정답으로 고려하고 있는 후보군: [(4, 13)]\n"
     ]
    }
   ],
   "source": [
    "def filter_product_pairs_step3(product_pairs, minimum, maximum):\n",
    "    selected_pairs = []\n",
    "    for x, y in product_pairs:\n",
    "        s = x + y\n",
    "        if not check_step2(s):\n",
    "            continue\n",
    "        selected_pairs.append((x, y))\n",
    "    return selected_pairs\n",
    "\n",
    "\n",
    "def step3(n, minimum, maximum):\n",
    "    pairs = step1(n, minimum, maximum)\n",
    "    if not check_step1(pairs):\n",
    "        return []\n",
    "    selected_pairs = filter_product_pairs_step3(pairs, minimum, maximum)\n",
    "    return selected_pairs\n",
    "\n",
    "\n",
    "def check_step3(pairs):\n",
    "    \"\"\"A가 두 수가 무엇인지 알겠다고 한 것이 타당한지 확인\"\"\"\n",
    "    return len(pairs) == 1\n",
    "\n",
    "\n",
    "# 예시\n",
    "n = 52\n",
    "minimum = 2\n",
    "maximum = 100\n",
    "pairs = step3(n, minimum, maximum)\n",
    "result = check_step3(pairs)\n",
    "answer = \"압니다\" * result + \"모릅니다\" * (1 - result)\n",
    "print(f\"두 수의 곱으로 {n}이(가) 주어졌을 때 B의 답변을 들은 A는 두 수가 무엇인지 압니까?: {answer}\")\n",
    "print(f\"현재 A가 정답으로 고려하고 있는 후보군: {pairs}\")"
   ]
  },
  {
   "cell_type": "markdown",
   "id": "2887de24-2157-4711-97e0-e5975da4ca59",
   "metadata": {},
   "source": [
    "`-` `A: 아, 두 수가 뭔지 알았습니다` 상황까지 모순이 없음을 가정한다\n",
    "\n",
    "`-` 즉, 모든 step 함수에 대해 이전 step 함수까지 모순이 없음을 가정한다"
   ]
  },
  {
   "cell_type": "code",
   "execution_count": 31,
   "id": "650d5b6b-c09b-459d-990d-b1129397b2ca",
   "metadata": {},
   "outputs": [
    {
     "name": "stdout",
     "output_type": "stream",
     "text": [
      "두 수의 곱으로 15이(가) 주어졌을 때 B의 답변을 들은 A는 두 수가 무엇인지 압니까?: 모릅니다\n",
      "현재 A가 정답으로 고려하고 있는 후보군: []\n"
     ]
    }
   ],
   "source": [
    "# 예시\n",
    "n = 15\n",
    "minimum = 2\n",
    "maximum = 100\n",
    "pairs = step3(n, minimum, maximum)\n",
    "result = check_step3(pairs)\n",
    "answer = \"압니다\" * result + \"모릅니다\" * (1 - result)\n",
    "print(f\"두 수의 곱으로 {n}이(가) 주어졌을 때 B의 답변을 들은 A는 두 수가 무엇인지 압니까?: {answer}\")\n",
    "print(f\"현재 A가 정답으로 고려하고 있는 후보군: {pairs}\")"
   ]
  },
  {
   "cell_type": "markdown",
   "id": "b170bad9-63da-4ee8-90f4-e6aab94ae917",
   "metadata": {},
   "source": [
    "`-` 두 수의 곱이 15라면 사실 A는 정답을 안다 (두 수는 3과 5이다)\n",
    "\n",
    "`-` 하지만 이는 `A: 아, 두 수가 뭔지 알았습니다` 단계가 아닌 최초에 알았어야 하므로 `모른다`로 답변하게 설계했다"
   ]
  },
  {
   "cell_type": "markdown",
   "id": "3048f9ec-9967-4093-8ff0-cba88c96d5a2",
   "metadata": {},
   "source": [
    "### `B: 저도 두 수가 뭔지 알겠습니다`"
   ]
  },
  {
   "cell_type": "markdown",
   "id": "17bb4e2a-0c0b-4b19-8bb8-4b12d0a42421",
   "metadata": {},
   "source": [
    "`-` 주어진 합을 $(x, y)$ 쌍으로 나누고 곱을 구한다\n",
    "\n",
    "`-` 이제 각 곱에 대해 생각해보자\n",
    "\n",
    "`-` 각 곱에 대해 `A: 아, 두 수가 뭔지 알았습니다`에서 사용한 알고리즘을 적용한다\n",
    "\n",
    "`-` 남은 곱이 단 하나뿐이라면 B는 정답을 맞힐 수 있다\n",
    "\n",
    "`-` 쉽게 말해 각 곱에 대해 다음을 생각하자\n",
    "\n",
    "`-` 내가 A라면 `A: 아, 두 수가 뭔지 알았습니다`라고 말하며 정답을 맞힐 수 있었을까?\n",
    "\n",
    "`-` 그렇다면 통과시키고 아니라면 제외한다\n",
    "\n",
    "`-` 남은 곱이 1개뿐이면 B도 정답을 맞힐 수 있다"
   ]
  },
  {
   "cell_type": "code",
   "execution_count": 32,
   "id": "7ef28cd3-f1e3-450f-94dd-c0f6d2c1e99b",
   "metadata": {},
   "outputs": [
    {
     "name": "stdout",
     "output_type": "stream",
     "text": [
      "두 수의 합으로 41이(가) 주어졌을 때 A의 답변을 들은 B는 두 수가 무엇인지 압니까?: 모릅니다\n",
      "현재 B가 정답으로 고려하고 있는 후보군: [(3, 38), (4, 37), (7, 34), (9, 32), (10, 31), (12, 29), (13, 28), (14, 27), (15, 26), (16, 25), (17, 24), (18, 23), (19, 22)]\n"
     ]
    }
   ],
   "source": [
    "def filter_sum_pairs_step4(sum_pairs, minimum, maximum):\n",
    "    selected_pairs = []\n",
    "    for x, y in sum_pairs:\n",
    "        n = x * y\n",
    "        pair = step3(n, minimum, maximum)\n",
    "        if not check_step3(pair):\n",
    "            continue\n",
    "        selected_pairs.append((x, y))\n",
    "    return selected_pairs\n",
    "\n",
    "\n",
    "def step4(n, minimum, maximum):\n",
    "    if not check_step2(n):\n",
    "        return []\n",
    "    sum_pairs = find_sum_pairs(n, minimum, maximum)\n",
    "    selected_pairs = filter_sum_pairs_step4(sum_pairs, minimum, maximum)\n",
    "    return selected_pairs\n",
    "    \n",
    "    \n",
    "def check_step4(pairs):\n",
    "    \"\"\"B가 두 수가 무엇인지 알겠다고 한 것이 타당한지 확인\"\"\"\n",
    "    return len(pairs) == 1\n",
    "\n",
    "\n",
    "# 예시\n",
    "n = 41\n",
    "minimum = 2\n",
    "maximum = 100\n",
    "pairs = step4(n, minimum, maximum)\n",
    "result = check_step4(pairs)\n",
    "answer = \"압니다\" * result + \"모릅니다\" * (1 - result)\n",
    "print(f\"두 수의 합으로 {n}이(가) 주어졌을 때 A의 답변을 들은 B는 두 수가 무엇인지 압니까?: {answer}\")\n",
    "print(f\"현재 B가 정답으로 고려하고 있는 후보군: {pairs}\")"
   ]
  },
  {
   "cell_type": "code",
   "execution_count": 33,
   "id": "f85a3281-8f0b-44b4-9599-caad7a8dd044",
   "metadata": {},
   "outputs": [],
   "source": [
    "def solve(minimum, maximum, log=True):\n",
    "    if log:\n",
    "        print(\"#### 두 수의 합과 숫자 쌍 ####\")\n",
    "    answer = []\n",
    "    for n in range(minimum * 2, maximum * 2 + 1):\n",
    "        pairs = step4(n, minimum, maximum)\n",
    "        if log:\n",
    "            print(f\"{n}: {pairs}\")\n",
    "        if not check_step4(pairs):\n",
    "            continue\n",
    "        pair = pairs[0]\n",
    "        answer.append(pair)\n",
    "    return answer"
   ]
  },
  {
   "cell_type": "code",
   "execution_count": 44,
   "id": "c62438c8-3215-463c-8450-89087c4b4723",
   "metadata": {},
   "outputs": [
    {
     "name": "stdout",
     "output_type": "stream",
     "text": [
      "#### 두 수의 합과 숫자 쌍 ####\n",
      "4: []\n",
      "5: []\n",
      "6: []\n",
      "7: []\n",
      "8: []\n",
      "9: []\n",
      "10: []\n",
      "11: [(2, 9), (3, 8), (4, 7)]\n",
      "12: []\n",
      "13: []\n",
      "14: []\n",
      "15: []\n",
      "16: []\n",
      "17: [(4, 13)]\n",
      "18: []\n",
      "19: []\n",
      "20: []\n",
      "21: []\n",
      "22: []\n",
      "23: [(4, 19), (7, 16), (10, 13)]\n",
      "24: []\n",
      "25: []\n",
      "26: []\n",
      "27: [(2, 25), (4, 23), (5, 22), (7, 20), (8, 19), (9, 18), (10, 17), (11, 16), (13, 14)]\n",
      "28: []\n",
      "29: [(2, 27), (4, 25), (6, 23), (7, 22), (8, 21), (10, 19), (11, 18), (12, 17), (13, 16)]\n",
      "30: []\n",
      "31: []\n",
      "32: []\n",
      "33: []\n",
      "34: []\n",
      "35: [(3, 32), (4, 31), (6, 29), (8, 27), (9, 26), (10, 25), (12, 23), (14, 21), (16, 19), (17, 18)]\n",
      "36: []\n",
      "37: [(5, 32), (6, 31), (8, 29), (9, 28), (10, 27), (16, 21), (17, 20)]\n",
      "38: []\n",
      "39: []\n",
      "40: []\n",
      "41: [(3, 38), (4, 37), (7, 34), (9, 32), (10, 31), (12, 29), (13, 28), (14, 27), (15, 26), (16, 25), (17, 24), (18, 23), (19, 22)]\n",
      "42: []\n",
      "43: []\n",
      "44: []\n",
      "45: []\n",
      "46: []\n",
      "47: [(4, 43), (6, 41), (7, 40), (10, 37), (13, 34), (15, 32), (16, 31), (17, 30), (18, 29), (19, 28), (20, 27), (22, 25), (23, 24)]\n",
      "48: []\n",
      "49: []\n",
      "50: []\n",
      "51: []\n",
      "52: []\n",
      "53: [(5, 48), (6, 47), (8, 45), (10, 43), (12, 41), (13, 40), (15, 38), (16, 37), (17, 36), (18, 35), (19, 34), (20, 33), (21, 32), (22, 31), (23, 30), (24, 29), (25, 28), (26, 27)]\n",
      "54: []\n",
      "55: []\n",
      "56: []\n",
      "57: []\n",
      "58: []\n",
      "59: []\n",
      "60: []\n",
      "61: []\n",
      "62: []\n",
      "63: []\n",
      "64: []\n",
      "65: []\n",
      "66: []\n",
      "67: []\n",
      "68: []\n",
      "69: []\n",
      "70: []\n",
      "71: []\n",
      "72: []\n",
      "73: []\n",
      "74: []\n",
      "75: []\n",
      "76: []\n",
      "77: []\n",
      "78: []\n",
      "79: []\n",
      "80: []\n",
      "81: []\n",
      "82: []\n",
      "83: []\n",
      "84: []\n",
      "85: []\n",
      "86: []\n",
      "87: []\n",
      "88: []\n",
      "89: []\n",
      "90: []\n",
      "91: []\n",
      "92: []\n",
      "93: []\n",
      "94: []\n",
      "95: []\n",
      "96: []\n",
      "97: []\n",
      "98: []\n",
      "99: []\n",
      "100: []\n",
      "101: []\n",
      "102: []\n",
      "103: []\n",
      "104: []\n",
      "105: []\n",
      "106: []\n",
      "107: []\n",
      "108: []\n",
      "109: []\n",
      "110: []\n",
      "111: []\n",
      "112: []\n",
      "113: []\n",
      "114: []\n",
      "115: []\n",
      "116: []\n",
      "117: []\n",
      "118: []\n",
      "119: []\n",
      "120: []\n",
      "121: []\n",
      "122: []\n",
      "123: []\n",
      "124: []\n",
      "125: []\n",
      "126: []\n",
      "127: []\n",
      "128: []\n",
      "129: []\n",
      "130: []\n",
      "131: []\n",
      "132: []\n",
      "133: []\n",
      "134: []\n",
      "135: []\n",
      "136: []\n",
      "137: []\n",
      "138: []\n",
      "139: []\n",
      "140: []\n",
      "141: []\n",
      "142: []\n",
      "143: []\n",
      "144: []\n",
      "145: []\n",
      "146: []\n",
      "147: []\n",
      "148: []\n",
      "149: []\n",
      "150: []\n",
      "151: []\n",
      "152: []\n",
      "153: []\n",
      "154: []\n",
      "155: []\n",
      "156: []\n",
      "157: []\n",
      "158: []\n",
      "159: []\n",
      "160: []\n",
      "161: []\n",
      "162: []\n",
      "163: []\n",
      "164: []\n",
      "165: []\n",
      "166: []\n",
      "167: []\n",
      "168: []\n",
      "169: []\n",
      "170: []\n",
      "171: []\n",
      "172: []\n",
      "173: []\n",
      "174: []\n",
      "175: []\n",
      "176: []\n",
      "177: []\n",
      "178: []\n",
      "179: []\n",
      "180: []\n",
      "181: []\n",
      "182: []\n",
      "183: []\n",
      "184: []\n",
      "185: []\n",
      "186: []\n",
      "187: []\n",
      "188: []\n",
      "189: []\n",
      "190: []\n",
      "191: []\n",
      "192: []\n",
      "193: []\n",
      "194: []\n",
      "195: []\n",
      "196: []\n",
      "197: []\n",
      "198: []\n",
      "199: []\n",
      "200: []\n"
     ]
    }
   ],
   "source": [
    "minimum = 2\n",
    "maximum = 100\n",
    "S_STAR = calculate_s_star(minimum, maximum)\n",
    "solution = solve(minimum, maximum)"
   ]
  },
  {
   "cell_type": "code",
   "execution_count": 39,
   "id": "d8a3c973-3399-4fe4-b4eb-c096f71a7486",
   "metadata": {},
   "outputs": [
    {
     "name": "stdout",
     "output_type": "stream",
     "text": [
      "문제의 정답: [(4, 13)]\n"
     ]
    }
   ],
   "source": [
    "print(\"문제의 정답:\", solution)"
   ]
  },
  {
   "cell_type": "markdown",
   "id": "f54b5af0-92d7-482f-9534-ec6193fffaa7",
   "metadata": {},
   "source": [
    "`-` 빈 리스트는 중간에 모순이 발견되어 `B: 저도 두 수가 뭔지 알겠습니다`까지 도달하지 못한 것을 의미한다\n",
    "\n",
    "`-` 11과 같이 숫자 쌍이 2개 이상 존재하는 수는 `B: 저도 두 수가 뭔지 알겠습니다`에 모순되는 것을 의미한다 (B는 답이 어느 것인지 알지 못한다)\n",
    "\n",
    "`-` 17처럼 숫자 쌍이 하나만 존재하는 것은 `B: 저도 두 수가 뭔지 알겠습니다`를 포함한 모든 대화가 모순 없이 이루어졌음을 뜻한다 (즉, 문제의 정답을 의미한다)\n",
    "\n",
    "`-` 따라서 문제의 정답은 $((4,13)$이다"
   ]
  },
  {
   "cell_type": "code",
   "execution_count": null,
   "id": "14a434eb-7617-4702-a050-65b5f86fbf00",
   "metadata": {},
   "outputs": [],
   "source": []
  }
 ],
 "metadata": {
  "kernelspec": {
   "display_name": "Python 3 (ipykernel)",
   "language": "python",
   "name": "python3"
  },
  "language_info": {
   "codemirror_mode": {
    "name": "ipython",
    "version": 3
   },
   "file_extension": ".py",
   "mimetype": "text/x-python",
   "name": "python",
   "nbconvert_exporter": "python",
   "pygments_lexer": "ipython3",
   "version": "3.8.11"
  }
 },
 "nbformat": 4,
 "nbformat_minor": 5
}
