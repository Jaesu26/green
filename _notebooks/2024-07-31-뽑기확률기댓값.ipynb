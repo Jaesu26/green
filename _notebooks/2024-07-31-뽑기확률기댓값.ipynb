{
 "cells": [
  {
   "cell_type": "markdown",
   "id": "cf2c7db4-b660-45c3-93aa-aed76c263b3c",
   "metadata": {},
   "source": [
    "# 뽑기를 기댓값만큼 시도해도 약 36.8%의 사람은 실패한다\n",
    "\n",
    "> \"작성 완료\"\n",
    "\n",
    "- toc: true\n",
    "- branch: master\n",
    "- badges: true\n",
    "- comments: true\n",
    "- hide: false\n",
    "- author: 한재수\n",
    "- categories: [Statistics]"
   ]
  },
  {
   "cell_type": "markdown",
   "id": "1c498fd9-e1f4-4795-a34a-bb1e18a21448",
   "metadata": {},
   "source": [
    "## 상황 가정"
   ]
  },
  {
   "cell_type": "markdown",
   "id": "59e8ac13-ca1b-4e40-9a50-0e22a988bfc6",
   "metadata": {},
   "source": [
    "`-` 어떤 아이템 상자가 있는데 내가 원하는 아이템 A는 $10\\%$ 확률로 등장한다고 해보자\n",
    "\n",
    "`-` 아이템 A를 뽑을 때까지 시도한 횟수는 기하 분포를 따른다\n",
    "\n",
    "`-` 뽑을 확률이 $0.1$이니까 10번 하면 뽑겠지(?)라고 생각할 수 있지만 현실은 그렇지 않다 "
   ]
  },
  {
   "cell_type": "markdown",
   "id": "506f7dda-6d92-4394-8f48-d482d6ba20d1",
   "metadata": {},
   "source": [
    "- 기댓값은 10번이 맞는데..."
   ]
  },
  {
   "cell_type": "code",
   "execution_count": 2,
   "id": "fe2fd1be-7372-4e01-9838-52c132c4850d",
   "metadata": {},
   "outputs": [],
   "source": [
    "def f(p):\n",
    "    return 1 - (1 - p)**(1 / p)"
   ]
  },
  {
   "cell_type": "code",
   "execution_count": 103,
   "id": "ae46d3bb-4236-49ee-a5b0-8c52b2da6354",
   "metadata": {},
   "outputs": [
    {
     "data": {
      "text/plain": [
       "0.6513215599"
      ]
     },
     "execution_count": 103,
     "metadata": {},
     "output_type": "execute_result"
    }
   ],
   "source": [
    "f(p=0.1)"
   ]
  },
  {
   "cell_type": "markdown",
   "id": "aeef75b9-e439-4f12-82c3-01e8b82958cc",
   "metadata": {},
   "source": [
    "`-` $P(\\text{10번 안에 뽑음}) = 1 - P(\\text{10번 모두 실패})$\n",
    "\n",
    "`-` 이 값은 약 $0.65$이다\n",
    "\n",
    "`-` 즉, 아이템 뽑기를 시도한 $35\\%$의 사람들은 기댓값안에 원하는 아이템 A를 뽑지 못한다\n",
    "\n",
    "`-` 애초에 모두가 기댓값안에 아이템을 뽑으면 기댓값이 그렇게 형성될 수가 없다..."
   ]
  },
  {
   "cell_type": "markdown",
   "id": "b1981d4d-3122-49e7-bddf-e36e6bd2e0e1",
   "metadata": {},
   "source": [
    "## 확률에 따른 변화"
   ]
  },
  {
   "cell_type": "markdown",
   "id": "fef298f1-7272-4e60-8ee4-82f330642aad",
   "metadata": {},
   "source": [
    "- 확률이 더 낮아진다면?"
   ]
  },
  {
   "cell_type": "markdown",
   "id": "e2fbe154-8066-446f-9ebc-21d74a75d780",
   "metadata": {},
   "source": [
    "`-` 더 희귀한 아이템 B가 있는데 B를 뽑을 확률은 $1\\%$라고 한다\n",
    "\n",
    "`-` 100번 안에 아이템 B를 뽑을 확률은 몇 일까?"
   ]
  },
  {
   "cell_type": "code",
   "execution_count": 104,
   "id": "b40afb1f-c25f-42af-bd61-f451866dca3d",
   "metadata": {},
   "outputs": [
    {
     "data": {
      "text/plain": [
       "0.6339676587267709"
      ]
     },
     "execution_count": 104,
     "metadata": {},
     "output_type": "execute_result"
    }
   ],
   "source": [
    "f(p=0.01)"
   ]
  },
  {
   "cell_type": "markdown",
   "id": "05985e8b-4a0b-469b-b121-c537978e5a55",
   "metadata": {},
   "source": [
    "`-` $10\\%$일 땐 약 $65\\%$였는데 $1\\%$가 되니 약 $63.4\\%$가 됐다\n",
    "\n",
    "`-` $63.4\\%$라고 하니 생각보다 할 만한 것 같다(?)\n",
    "\n",
    "`-` 아이템 뽑기 확률이 더 낮아지면 어떻게 될까?\n",
    "\n",
    "`-` 이번엔 더 희귀한 아이템 C를 고려하자\n",
    "\n",
    "`-` C는 정말 희귀해서 $0.1\\%$의 확률로 등장한다\n",
    "\n",
    "`-` 1000번 시도해서 C를 뽑을 확률, 그러니까 적어도 한 개 뽑을 확률은 얼마일까?"
   ]
  },
  {
   "cell_type": "code",
   "execution_count": 105,
   "id": "d8f65fe0-30b5-43f2-8c92-c985e7b0d64f",
   "metadata": {},
   "outputs": [
    {
     "data": {
      "text/plain": [
       "0.6323045752290363"
      ]
     },
     "execution_count": 105,
     "metadata": {},
     "output_type": "execute_result"
    }
   ],
   "source": [
    "f(p=0.001)"
   ]
  },
  {
   "cell_type": "markdown",
   "id": "2ae263da-4f13-48a4-b67f-e0cd759b0501",
   "metadata": {},
   "source": [
    "`-` ?? 확률이 $1\\%$일 때랑 차이가 거의 나지 않는다\n",
    "\n",
    "`-` 생각해보면 확률이 낮아져도 시도 횟수는 올라가니까 엄청난 차이가 생길 것 같지는 않다\n",
    "\n",
    "`-` 그럼 확률을 더욱 낮게 해보자\n",
    "\n",
    "`-` 그래프로 비교할 수 있으면 더 좋을 것 같다"
   ]
  },
  {
   "cell_type": "code",
   "execution_count": 7,
   "id": "9a11d0d5-3845-4242-a1a3-9e288fc22a83",
   "metadata": {},
   "outputs": [
    {
     "data": {
      "image/png": "[encoded data removed]",
      "text/plain": [
       "<Figure size 720x432 with 1 Axes>"
      ]
     },
     "metadata": {
      "needs_background": "light"
     },
     "output_type": "display_data"
    }
   ],
   "source": [
    "#collapse\n",
    "import matplotlib.pyplot as plt\n",
    "import numpy as np\n",
    "\n",
    "p = np.arange(1e-4, 1, 1e-4)\n",
    "fp = f(p)\n",
    "convergence_value = 1 - 1 / np.e\n",
    "\n",
    "plt.figure(figsize=(10, 6))\n",
    "plt.plot(p, fp, color=\"blue\", linestyle=\"-\", label=\"$f(p) = 1 - (1 - p)^{1 / p}$\")\n",
    "plt.axhline(y=convergence_value, color=\"r\", linestyle=\"--\", label=\"$1 - \\\\frac{1}{e}$\")\n",
    "plt.xlabel(\"$p$\")\n",
    "plt.ylabel(\"$f(p)$\")\n",
    "plt.ylim(0.6, 1)\n",
    "plt.title(\"Graph of $f(p) = 1 - (1 - p)^{1 / p}$\")\n",
    "plt.xlim(0.0001, 1)\n",
    "plt.xscale(\"log\")\n",
    "plt.gca().invert_xaxis()\n",
    "plt.xticks([1, 0.1, 0.01, 0.001, 0.0001], [\"1\", \"0.1\", \"0.01\", \"0.001\", \"0.0001\"])\n",
    "plt.minorticks_off()\n",
    "plt.tight_layout()\n",
    "plt.legend()\n",
    "plt.show()"
   ]
  },
  {
   "cell_type": "markdown",
   "id": "4e2ec723-9d53-418e-8771-e95c01438bcc",
   "metadata": {},
   "source": [
    "## 진실"
   ]
  },
  {
   "cell_type": "markdown",
   "id": "27f195dd-f26e-497f-b84c-bbbb09505cd3",
   "metadata": {},
   "source": [
    "`-` 위의 그래프를 보면 $f(p)$가 어느 한 점으로 수렴하는 것 같다\n",
    "\n",
    "`-` 우리가 고려하고 있는 상황을 복기해보자\n",
    "\n",
    "`-` 당첨 확률이 $p$인 뽑기를 $n = \\frac{1}{p}$번 하는 것을 고려하자\n",
    "\n",
    "`-` 이때 당첨 확률이 $p$인 뽑기를 $n$번 시도해서 1개도 못 뽑을 확률을 $P(A)$라 하고 이를 계산하자\n",
    "\n",
    "`-` $P(A)=(1-p)^{\\frac{1}{p}}$이다\n",
    "\n",
    "`-` 그런데 어디서 본 것 같은 모양이다?\n",
    "\n",
    "`-` 자연로그의 밑 $e=\\lim\\limits_{n \\to \\infty}\\left(1+\\frac{1}{n}\\right)^n$\n",
    "\n",
    "`-` $\\lim\\limits_{p\\to 0+}(1-p)^{\\frac{1}{p}} = \\lim\\limits_{n\\to \\infty}\\left(1-\\frac{1}{n}\\right)^{n},\\quad n \\to \\infty\\; \\text{as}\\; p\\to {0+}$\n",
    "\n",
    "`-` $ \\lim\\limits_{n\\to \\infty}\\left(1-\\frac{1}{n}\\right)^{n} =  \\lim\\limits_{n\\to \\infty}\\left(\\frac{n-1}{n}\\right)^{n}$\n",
    "\n",
    "`-` $n = t+1$로 치환하면 $\\lim\\limits_{t\\to \\infty}\\left(\\frac{t}{t+1}\\right)^{t+1} = \\lim\\limits_{t\\to \\infty}\\left(\\frac{t+1}{t}\\right)^{-(t+1)} = \\lim\\limits_{t\\to \\infty}\\left(1+\\frac{1}{t}\\right)^{-t}\\left(1+\\frac{1}{t}\\right)^{-1}$\n",
    "\n",
    "`-` 극한의 성질에 의해 $\\lim\\limits_{t\\to \\infty}\\left(1+\\frac{1}{t}\\right)^{-t}=\\left(\\lim\\limits_{t\\to \\infty}\\left(1+\\frac{1}{t}\\right)^t\\right)^{-1}=e^{-1},\\quad \\lim\\limits_{t\\to \\infty}\\left(1+\\frac{1}{t}\\right)^{-1} = 1$\n",
    "\n",
    "`-` 따라서 극한의 성질에 의해\n",
    "\n",
    "`-` $\\lim\\limits_{t\\to \\infty}\\left(1+\\frac{1}{t}\\right)^{-t}\\left(1+\\frac{1}{t}\\right)^{-1}=\\lim\\limits_{t\\to \\infty}\\left(1+\\frac{1}{t}\\right)^{-t} \\times\\lim\\limits_{t\\to \\infty}\\left(1+\\frac{1}{t}\\right)^{-1}=\\frac{1}{e}$\n",
    "\n",
    "`-` 즉, $p$가 적당히 작으면 $P(A)$를 $\\frac{1}{e}$에 근사할 수 있다"
   ]
  },
  {
   "cell_type": "markdown",
   "id": "f2a45391-1b13-44b3-ac3a-6634a500efd1",
   "metadata": {},
   "source": [
    "## 활용"
   ]
  },
  {
   "cell_type": "markdown",
   "id": "2d4dd949-4831-42a1-a14b-4126235c03bb",
   "metadata": {},
   "source": [
    "`-` 어떤 사람이 당첨 확률이 $p=0.1$인 아이템을 35번 사용했는데도 당첨 안됐다고 해보자\n",
    "\n",
    "`-` $p=0.1$이므로 당첨되기 위해 시도하는 횟수의 기댓값은 $10$이다\n",
    "\n",
    "`-` 기댓값만큼 시도해서 안될 확률은 약 $0.368$였다\n",
    "\n",
    "`-` 아이템을 사용하는 것은 독립시행이므로 35번 시도해서 안될 확률은 $0.368^{\\frac{35}{10}}\\approx 0.03$이다\n",
    "\n",
    "`-` 추가로 내가 다른 사람들보다 운이 얼마나 없는지도 평가할 수 있다\n",
    "\n",
    "`-` 당첨되기까지의 시도 횟수를 오름차순 정렬해보자\n",
    "\n",
    "`-` 35번 쓰고도 당첨 안된 사람은 하위 $3\\%$안에 든다\n",
    "\n",
    "`-` 물론 아직 당첨된 게 아니므로 운이 더 나빠질 가능성이 남아있다\n",
    "\n",
    "`-` 참고로 이러한 접근 방법은 `당첨 될 때까지 시도`하는 모든 것에 가능하다\n",
    "\n",
    "`-` 즉, 확률 변수가 2개의 결과 (ex: $0$ or $1$, 당첨 or 실패)를 가지며 원하는 결과가 나올 때까지 시도하는 것에 바로 적용 가능하다\n",
    "\n",
    "`-` 이러한 확률 변수는 [기하 분포](https://jaesu26.github.io/study-blog/statistics/2021/06/30/%ED%99%95%EB%A5%A0%EB%B6%84%ED%8F%AC.html#%EA%B8%B0%ED%95%98-%EB%B6%84%ED%8F%AC)를 따른다"
   ]
  },
  {
   "cell_type": "markdown",
   "id": "924ce6e0-cb69-4310-b138-6a7c7b0526b4",
   "metadata": {},
   "source": [
    "## 부록"
   ]
  },
  {
   "cell_type": "markdown",
   "id": "b53b4123-1585-41b1-8bbe-d748a745ebde",
   "metadata": {},
   "source": [
    "### $\\lim\\limits_{x\\to a}f(x) = f\\left(\\lim\\limits_{x\\to a}x\\right)$"
   ]
  },
  {
   "cell_type": "markdown",
   "id": "9058e6b8-4d15-4748-9a99-a1b77ea2a93e",
   "metadata": {},
   "source": [
    "`-` 함수 $f$가 $x=a$에서 연속이면 아래가 성립한다\n",
    "\n",
    "`-` $\\lim\\limits_{x\\to a}f(x)=f\\left(\\lim\\limits_{x\\to a}x\\right)$\n",
    "\n",
    "`-` 연속 함수의 정의에 따라 $\\lim\\limits_{x\\to a}f(x)=f(a)$\n",
    "\n",
    "`-` $y=x$는 당연히 연속 함수이므로 $\\lim\\limits_{x\\to a}x=a$\n",
    "\n",
    "`-` 따라서 $f(a)$에 $a$ 대신 $\\lim\\limits_{x\\to a}x$를 대입할 수 있다\n",
    "\n",
    "`-` 즉, $\\lim\\limits_{x\\to a}f(x)=f(a)=f\\left(\\lim\\limits_{x\\to a}x\\right)$\n",
    "\n",
    "`-` 참고로 $x\\to a$는 $x$가 발산하는 경우($x\\to\\infty$ or $x\\to-\\infty$)를 포함하는 게 아니다"
   ]
  },
  {
   "cell_type": "markdown",
   "id": "887529a9-efeb-42ac-99e1-cf5e667c80ed",
   "metadata": {},
   "source": [
    "### $\\lim\\limits_{x\\to a}\\{f(x)g(x)\\} = \\left\\{\\lim\\limits_{x\\to a}f(x)\\right\\}\\left\\{\\lim\\limits_{x\\to a}g(x)\\right\\}$"
   ]
  },
  {
   "cell_type": "markdown",
   "id": "50f98da2-e4f6-4478-a652-8932cac48f7d",
   "metadata": {},
   "source": [
    "`-` $\\lim\\limits_{x\\to a}f(x) = \\alpha, \\, \\lim\\limits_{x\\to a}g(x) = \\beta$라고 하자\n",
    "\n",
    "`-` 그러면 $\\lim\\limits_{x\\to a}\\{f(x)g(x)\\} = \\left\\{\\lim\\limits_{x\\to a}f(x)\\right\\}\\left\\{\\lim\\limits_{x\\to a}g(x)\\right\\}$이 성립한다\n",
    "\n",
    "`-` 단, 함수 $f(x)g(x),\\, f(x),\\, g(x)$가 $x=a$에서 극한값을 가져야 성립한다\n",
    "\n",
    "`-` 참고로 $\\alpha,\\beta$는 실수이다\n",
    "\n",
    "`-` 만약 이를 어기면 $\\lim\\limits_{x\\to 0+}x=0,\\lim\\limits_{x\\to0+}\\frac{1}{x}=\\infty$이므로\n",
    "\n",
    "`-` $\\lim\\limits_{x\\to 0+}\\frac{x}{x} =1,\\, \\left\\{\\lim\\limits_{x\\to 0+}x\\right\\}\\left\\{\\lim\\limits_{x\\to0+}\\frac{1}{x}\\right\\}=0\\cdot\\infty$\n",
    "\n",
    "`-` 하지만 $1\\neq 0 \\cdot \\infty$이고 애초에 $\\infty$은 수가 아니므로 곱셈과 같은 연산을 할 수 없다"
   ]
  },
  {
   "cell_type": "code",
   "execution_count": null,
   "id": "8cc8c8c2-79ac-4952-8396-1b0b71de2df4",
   "metadata": {},
   "outputs": [],
   "source": []
  }
 ],
 "metadata": {
  "kernelspec": {
   "display_name": "Python 3 (ipykernel)",
   "language": "python",
   "name": "python3"
  },
  "language_info": {
   "codemirror_mode": {
    "name": "ipython",
    "version": 3
   },
   "file_extension": ".py",
   "mimetype": "text/x-python",
   "name": "python",
   "nbconvert_exporter": "python",
   "pygments_lexer": "ipython3",
   "version": "3.8.11"
  }
 },
 "nbformat": 4,
 "nbformat_minor": 5
}
