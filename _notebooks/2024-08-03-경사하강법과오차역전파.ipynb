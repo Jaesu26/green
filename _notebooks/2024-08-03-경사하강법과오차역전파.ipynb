{
 "cells": [
  {
   "cell_type": "markdown",
   "id": "b63178db-37d3-41df-b621-b56a64e50241",
   "metadata": {},
   "source": [
    "# 파이토치는 답을 알고 있다\n",
    "\n",
    "> \"경사하강법, 역전파\"\n",
    "\n",
    "- toc: true\n",
    "- branch: master\n",
    "- badges: true\n",
    "- comments: true\n",
    "- hide: true\n",
    "- author: 한재수\n",
    "- categories: [Statistics]"
   ]
  },
  {
   "cell_type": "code",
   "execution_count": null,
   "id": "4dfb1fdd-ed4d-4e85-b247-8271097c1e6e",
   "metadata": {},
   "outputs": [],
   "source": [
    "import torch"
   ]
  },
  {
   "cell_type": "markdown",
   "id": "85435b9a-d2cd-4c4e-82a9-4a8ab24bf978",
   "metadata": {},
   "source": [
    "## 목표 "
   ]
  },
  {
   "cell_type": "markdown",
   "id": "2625d48a-5029-4956-a6ed-4b342ac2fd70",
   "metadata": {},
   "source": [
    "- 아래의 코드가 무엇을 하는지 이해하는 것"
   ]
  },
  {
   "cell_type": "markdown",
   "id": "e38b231f-53b3-457f-8747-344b6d45973f",
   "metadata": {},
   "source": [
    "```python\n",
    "for epoch in range(10):\n",
    "    y_hat = model(X)\n",
    "    loss = loss_fn(y_hat, y)  \n",
    "    optimizer.zero_grad()\n",
    "    loss.backward()\n",
    "    optimizer.step()\n",
    "```"
   ]
  },
  {
   "cell_type": "markdown",
   "id": "d0481b60-4291-49aa-91c2-f5e0d5f0e215",
   "metadata": {},
   "source": [
    "`-` 파이토치로 모델을 학습시킬 때 위와 같은 코드 형태를 자주 본다\n",
    "\n",
    "`-` 두루뭉실하게 알고 있던 내용을 확립시키고 싶다"
   ]
  },
  {
   "cell_type": "markdown",
   "id": "be34e33c-68b5-41ae-a8b0-5754cb516732",
   "metadata": {},
   "source": [
    "## 모델을 학습시킨다는 것?"
   ]
  },
  {
   "cell_type": "markdown",
   "id": "8edb875e-5036-42fb-b040-79846bd1e4dc",
   "metadata": {},
   "source": [
    "`-` 주어진 데이터 $(X, y)$를 잘 분석하여 $X$를 $y$로 맵핑하는 함수 $f$를 추정하는 것이다 ($y\\approx f(x)$인 $f$를 찾는 것)\n",
    "\n",
    "`-` $X$는 설명 변수, $y$는 반응 변수이다\n",
    "\n",
    "`-` 예컨대 $(X,y)$는 (이미지, 카테고리)일 수 있고 (유저 로그, 매크로 유무)일 수도 있다\n",
    "\n",
    "`-` 중요한 건 데이터는 $(X,y)$의 형태이며 $X$를 바탕으로 $y$를 추정하고 싶다는 것이다\n",
    "\n",
    "`-` 즉, 어떤 모델이 있다고 하자\n",
    "\n",
    "`-` 모델에 인풋으로 $X$를 넣으면 $\\hat{y}$이 출력될 텐데 모델이 잘 학습됐다면 $\\hat{y}$이 $y$값과 비슷할 것이다\n",
    "\n",
    "`-` 위 코드에서 `y_hat = model(X)` 부분을 나타낸다"
   ]
  },
  {
   "cell_type": "markdown",
   "id": "e555e235-8ebf-4cfa-9d5a-ab09f5ef64bf",
   "metadata": {},
   "source": [
    "## 회귀모형 가정"
   ]
  },
  {
   "cell_type": "markdown",
   "id": "33264129-8f62-42f5-a15f-59bb08b01fbe",
   "metadata": {},
   "source": [
    "`-` 실제로 모델을 학습시키기 위해 간단한 회귀모형을 가정하자\n",
    "\n",
    "`-` model: $y_i = f(x) = w_0 + w_1x_i + \\epsilon_i = 3.5 + 2x_i + \\epsilon_i, \\quad i = 1,2,\\cdots,n$\n",
    "\n",
    "`-` 벡터로 표현한다면 model: $\\mathbf y =  \\mathbf X  \\mathbf W + \\boldsymbol{\\epsilon}$\n",
    "\n",
    "$$\\mathbf y = \\begin{bmatrix} \n",
    "y_1\\\\ \n",
    "y_2\\\\ \n",
    "\\vdots\\\\\n",
    "y_n\n",
    "\\end{bmatrix},\\quad\n",
    "\\mathbf X = \\begin{bmatrix} \n",
    "1 & x_1\\\\ \n",
    "1 & x_2\\\\ \n",
    "\\vdots & \\vdots\\\\\n",
    "1 & x_n\n",
    "\\end{bmatrix}, \\quad\n",
    "\\mathbf W = \\begin{bmatrix} \n",
    "3.5\\\\ \n",
    "2\\\\ \n",
    "\\end{bmatrix},\\quad\n",
    "\\boldsymbol \\epsilon = \\begin{bmatrix} \n",
    "\\epsilon_1\\\\ \n",
    "\\epsilon_2\\\\ \n",
    "\\vdots\\\\\n",
    "\\epsilon_n\n",
    "\\end{bmatrix}\n",
    "$$\n",
    "\n",
    "`-` $\\mathbf X$: $n\\times 2$ 행렬\n",
    "\n",
    "`-` $\\mathbf y$: $n \\times 1$ 열벡터\n",
    "\n",
    "`-` $\\mathbf W$: $2\\times 1$ 열벡터\n",
    "\n",
    "`-` $\\boldsymbol \\epsilon$: $n\\times 1$ 열벡터"
   ]
  },
  {
   "cell_type": "markdown",
   "id": "0b2957a8-322c-4f04-9f14-9fa61363dff0",
   "metadata": {},
   "source": [
    "### 데이터 생성"
   ]
  },
  {
   "cell_type": "code",
   "execution_count": 29,
   "id": "f79b0692-1099-4c17-b4a5-0d9ff8ed985a",
   "metadata": {},
   "outputs": [],
   "source": [
    "import matplotlib.pyplot as plt\n",
    "import torch"
   ]
  },
  {
   "cell_type": "code",
   "execution_count": 44,
   "id": "5225bf95-b55f-4814-944b-f711933b82b9",
   "metadata": {},
   "outputs": [],
   "source": [
    "torch.manual_seed(26)\n",
    "n = 100\n",
    "ones = torch.ones(n)\n",
    "x, _ = torch.randn(n).sort()\n",
    "X = torch.stack([ones, x], dim=1)\n",
    "W = torch.tensor([3.5, 2])\n",
    "ϵ = torch.randn(n) * 0.5\n",
    "y = X@W + ϵ\n",
    "y_without_error = X@W"
   ]
  },
  {
   "cell_type": "code",
   "execution_count": 45,
   "id": "ec3a5c43-130c-44a5-b763-c25f88e662ff",
   "metadata": {},
   "outputs": [
    {
     "data": {
      "text/plain": [
       "[<matplotlib.lines.Line2D at 0x17f03038fa0>]"
      ]
     },
     "execution_count": 45,
     "metadata": {},
     "output_type": "execute_result"
    },
    {
     "data": {
      "image/png": "[encoded data removed]",
      "text/plain": [
       "<Figure size 432x288 with 1 Axes>"
      ]
     },
     "metadata": {
      "needs_background": "light"
     },
     "output_type": "display_data"
    }
   ],
   "source": [
    "plt.plot(x, y, \"o\")\n",
    "plt.plot(x, y_without_error, \"--\")"
   ]
  },
  {
   "cell_type": "code",
   "execution_count": null,
   "id": "4aebab46-0cd8-4404-bfe9-6fd6f18f77d9",
   "metadata": {},
   "outputs": [],
   "source": []
  }
 ],
 "metadata": {
  "kernelspec": {
   "display_name": "Python 3 (ipykernel)",
   "language": "python",
   "name": "python3"
  },
  "language_info": {
   "codemirror_mode": {
    "name": "ipython",
    "version": 3
   },
   "file_extension": ".py",
   "mimetype": "text/x-python",
   "name": "python",
   "nbconvert_exporter": "python",
   "pygments_lexer": "ipython3",
   "version": "3.8.11"
  }
 },
 "nbformat": 4,
 "nbformat_minor": 5
}
