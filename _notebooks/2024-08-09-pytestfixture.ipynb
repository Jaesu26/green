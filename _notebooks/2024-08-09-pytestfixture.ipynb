{
 "cells": [
  {
   "cell_type": "markdown",
   "id": "40331a70-6a0b-48f9-bcf2-18ce3b3ce899",
   "metadata": {},
   "source": [
    "# @pytest.fixture와 @pytest.fixture()의 차이\n",
    "\n",
    "> \"파이썬 데코레이터\"\n",
    "\n",
    "- toc: true\n",
    "- branch: master\n",
    "- badges: true\n",
    "- comments: true\n",
    "- hide: false\n",
    "- author: 한재수\n",
    "- categories: [Python]"
   ]
  },
  {
   "cell_type": "markdown",
   "id": "b4b15a28-c471-4aa5-ba76-e985ff48b0d7",
   "metadata": {},
   "source": [
    "`-` pytest.fixture: https://github.com/pytest-dev/pytest/blob/8.3.2/src/_pytest/fixtures.py#L1242"
   ]
  },
  {
   "cell_type": "markdown",
   "id": "a9189f39-e921-4344-81d0-f78571c441e5",
   "metadata": {},
   "source": [
    "## 둘이 무슨 차이인데?"
   ]
  },
  {
   "cell_type": "markdown",
   "id": "5f5b33ee-c358-487d-a2ad-e092bb9ba232",
   "metadata": {},
   "source": [
    "- **@pytest.fixture**"
   ]
  },
  {
   "cell_type": "markdown",
   "id": "44b3eb32-8ee9-42c3-823e-5cf71da1e24f",
   "metadata": {},
   "source": [
    "```python\n",
    "@pytest.fixture\n",
    "def f():\n",
    "    # do something\n",
    "    \n",
    "\n",
    "# 위의 코드는 다음과 동일함\n",
    "f = pytest.fixture(f)\n",
    "```"
   ]
  },
  {
   "cell_type": "markdown",
   "id": "1d0cdca2-1660-4151-b751-594e2e28169c",
   "metadata": {},
   "source": [
    "`-` 반면에"
   ]
  },
  {
   "cell_type": "markdown",
   "id": "fe423910-0a91-4aa3-846f-ff5a0c84105a",
   "metadata": {},
   "source": [
    "- **@pytest.fixture()**"
   ]
  },
  {
   "cell_type": "markdown",
   "id": "e4d6154b-94f3-4f38-b361-19f94241c45e",
   "metadata": {},
   "source": [
    "```python\n",
    "@pytest.fixture()\n",
    "def f():\n",
    "    # do something\n",
    "\n",
    "    \n",
    "# 위의 코드는 다음과 동일함\n",
    "pyfixture = pytest.fixture()\n",
    "f = pyfixture(f)\n",
    "\n",
    "# 또는\n",
    "f = pytest.fixture()(f)\n",
    "```"
   ]
  },
  {
   "cell_type": "markdown",
   "id": "55b385a7-4540-43a6-a826-935bf888ed33",
   "metadata": {},
   "source": [
    "`-` 둘은 방식의 차이가 분명히 존재한다\n",
    "\n",
    "`-` 하지만 실제로 사용해보면 둘의 결과가 같다는 것을 알 수 있다\n",
    "\n",
    "`-` 어떻게 가능한 걸까?\n",
    "\n",
    "`-` pytest에서 fixture 함수(=데코레이터 함수)는 기본적으로 2가지 형태로 오버로딩 되어있다"
   ]
  },
  {
   "cell_type": "markdown",
   "id": "a204ae0b-c1c0-457c-9f0a-1175829a16ef",
   "metadata": {},
   "source": [
    "```python\n",
    "def deco(func):\n",
    "    # do something\n",
    "```"
   ]
  },
  {
   "cell_type": "markdown",
   "id": "24f86e78-2b7f-4dd2-9075-b9a23f4da5bb",
   "metadata": {},
   "source": [
    "`-` 참고로 데코레이터 함수의 첫 번째 인자는 당연하게도 데코레이터에 넣을 함수이다"
   ]
  },
  {
   "cell_type": "markdown",
   "id": "c881c3ca-f5c7-49d5-8412-8f691d24a1a9",
   "metadata": {},
   "source": [
    "## pytest.fixture 함수"
   ]
  },
  {
   "cell_type": "markdown",
   "id": "e96d644f-0a03-4bde-a9c1-e0cbe0059f22",
   "metadata": {},
   "source": [
    "```python\n",
    "@overload\n",
    "def fixture(\n",
    "    fixture_function: FixtureFunction,\n",
    "    *,\n",
    "    scope: _ScopeName | Callable[[str, Config], _ScopeName] = ...,\n",
    "    params: Iterable[object] | None = ...,\n",
    "    autouse: bool = ...,\n",
    "    ids: Sequence[object | None] | Callable[[Any], object | None] | None = ...,\n",
    "    name: str | None = ...,\n",
    ") -> FixtureFunction: ...\n",
    "```"
   ]
  },
  {
   "cell_type": "markdown",
   "id": "1aa11ada-60b9-4897-b479-de5fcaded8db",
   "metadata": {},
   "source": [
    "`-` 첫 번째 인자인 ```fixture_function```은 데코레이터에 넣을 함수를 뜻한다 (그냥 func이라 해도 되는데 풀네임으로 적었다 생각하면 됨)\n",
    "\n",
    "`-` 그리고 타입은 **FixtureFunction**이다 (이거 그냥 **Callable TypeVar**임)\n",
    "\n",
    "`-` 그리고 리턴 타입도 **FixtureFunction**이다\n",
    "\n",
    "`-` 일반적인 데코레이터 함수와 동일하다\n",
    "\n",
    "`-` 그럼 이제 두 번째 형태를 보자"
   ]
  },
  {
   "cell_type": "markdown",
   "id": "311dc6ed-e09a-40f6-8890-58d9b54ef12b",
   "metadata": {},
   "source": [
    "```python\n",
    "@overload\n",
    "def fixture(\n",
    "    fixture_function: None = ...,\n",
    "    *,\n",
    "    scope: _ScopeName | Callable[[str, Config], _ScopeName] = ...,\n",
    "    params: Iterable[object] | None = ...,\n",
    "    autouse: bool = ...,\n",
    "    ids: Sequence[object | None] | Callable[[Any], object | None] | None = ...,\n",
    "    name: str | None = None,\n",
    ") -> FixtureFunctionMarker: ...\n",
    "```"
   ]
  },
  {
   "cell_type": "markdown",
   "id": "6b3d280c-e33a-44d5-bf7d-af8127025751",
   "metadata": {},
   "source": [
    "`-` 첫 번째 꼴과 다름 점은 2가지가 존재한다\n",
    "\n",
    "`1.` `fixture_function`의 타입이 **None**이다\n",
    "\n",
    "`2.` 리턴 타입이 **FixtureFunctionMarker**이다\n",
    "\n",
    "`-` 참고로 **FixtureFunctionMarker**는 `클래스`이다\n",
    "\n",
    "`-` 자 이제 함수 내부를 살펴보자 (매우 간단함)"
   ]
  },
  {
   "cell_type": "markdown",
   "id": "c78453a2-1c14-4fd6-a17d-0da69d85c36b",
   "metadata": {},
   "source": [
    "```python\n",
    "def fixture(\n",
    "    fixture_function=None,\n",
    "    *,\n",
    "    scope=\"function\",\n",
    "    params=None,\n",
    "    autouse=False,\n",
    "    ids=None,\n",
    "    name=None,\n",
    "):\n",
    "    fixture_marker = FixtureFunctionMarker(\n",
    "        scope=scope,\n",
    "        params=tuple(params) if params is not None else None,\n",
    "        autouse=autouse,\n",
    "        ids=None if ids is None else ids if callable(ids) else tuple(ids),\n",
    "        name=name,\n",
    "        _ispytest=True,\n",
    "    )\n",
    "    # Direct decoration\n",
    "    if fixture_function:\n",
    "        return fixture_marker(fixture_function)\n",
    "    return fixture_marker\n",
    "```"
   ]
  },
  {
   "cell_type": "markdown",
   "id": "ce8f3506-c22f-4bfb-92e3-92802a78f259",
   "metadata": {
    "tags": []
   },
   "source": [
    "`-` 주석과 타입은 가독성을 위해 생략했다\n",
    "\n",
    "`-` 일단 `fixture_marker를 생성`하고 시작한다\n",
    "\n",
    "`-` 그리고 입력으로 `fixture_function`이 들어온다면(**None이 아니라면**) `fixture_marker(fixture_function)`을 리턴한다\n",
    "\n",
    "`-` `fixture_function`이 **None이면** `fixture_marker`를 리턴한다\n",
    "\n",
    "`-` [$\\star$] 즉, 데코레이터로 `@pytest.fixture`를 쓰든 `@pytest.fixture()`를 쓰든 결국 `fixture_marker(fixture_function)`을 리턴한다 [$\\star$]\n",
    "\n",
    "`-` 여기서 끝내도 되지만 각 경우 어떤 일이 일어나는지 조금 더 자세히 알아보자"
   ]
  },
  {
   "cell_type": "markdown",
   "id": "5ed72cdd-abd8-4a6d-ac9b-1d345fddd79e",
   "metadata": {},
   "source": [
    "## @pytest.fixture"
   ]
  },
  {
   "cell_type": "markdown",
   "id": "c9ac3b8b-73eb-4b2d-832e-4e34248e6589",
   "metadata": {},
   "source": [
    "`-` `@pytest.fixture`인 경우 `f = pytest.fixture(f)`라고 했다\n",
    "\n",
    "`-` 그러면 **if문**에서 `fixture_function`이 **None**이 아니고 `f`이다\n",
    "\n",
    "`-` 그래서 `fixture_marker(f)`를 리턴한다\n",
    "\n",
    "`-` 여기서 궁금한건 **fixture_marker**는 뭐냐는 거다\n",
    "\n",
    "`-` 일단 fixture_marker는 **FixtureFunctionMarker** 클래스의 인스턴스다\n",
    "\n",
    "`-` `fixture_marker(f)`는 **FixtureFunctionMarker** 클래스의 **\\_\\_call\\_\\_** 메서드를 호출한 것이다\n",
    "\n",
    "`-` 이제 궁금한건 이 클래스의 **\\_\\_call\\_\\_** 메서드가 반환하는게 무엇이냐이다"
   ]
  },
  {
   "cell_type": "markdown",
   "id": "4fd920a5-b77b-47ff-9ec0-99b80a76dc8e",
   "metadata": {},
   "source": [
    "```python\n",
    "@final\n",
    "@dataclasses.dataclass(frozen=True)\n",
    "class FixtureFunctionMarker:\n",
    "    def __call__(self, function: FixtureFunction) -> FixtureFunction:\n",
    "        ...\n",
    "```"
   ]
  },
  {
   "cell_type": "markdown",
   "id": "e92e9daa-fea2-4c6d-b2fb-e7b9eff2041c",
   "metadata": {},
   "source": [
    "`-` 위는 **FixtureFunctionMarker**에서 **\\_\\_call\\_\\_** 메서드 부분만 따온 것이다\n",
    "\n",
    "`-` **\\_\\_call\\_\\_** 메서드는 **FixtureFunction** 타입을 반환하고 이는 아까 말했듯이 그냥 함수이다\n",
    "\n",
    "`-` 즉, `@pytest.fixture`인 경우 **그냥 일반적인 데코레이터와 다를바가 없다**"
   ]
  },
  {
   "cell_type": "markdown",
   "id": "41bd1886-3f87-4890-93ec-a08ee4b9db93",
   "metadata": {},
   "source": [
    "## @pytest.fixture()"
   ]
  },
  {
   "cell_type": "markdown",
   "id": "32869165-8cca-463f-92e5-e61bcc28c8cd",
   "metadata": {},
   "source": [
    "```python\n",
    "pyfixture = pytest.fixture()\n",
    "f = pyfixture(f)\n",
    "```"
   ]
  },
  {
   "cell_type": "markdown",
   "id": "4a80f571-40b1-4d74-9829-7f56f9b11823",
   "metadata": {},
   "source": [
    "`-` `pyfixture = pytest.fixture()`를 잘보자\n",
    "\n",
    "`-` `pytest.fixture()`는 사실 `pytest.fixture(fixture_function=None)`과 같다 (함수의 **default**값을 생각하면 당연함)\n",
    "\n",
    "`-` 함수 내부를 보면 `if fixture_function` 코드가 있음. 근데 여기선 fixture_function이 **None**이다\n",
    "\n",
    "`-` 따라서 해당 `if문은 스킵된다`\n",
    "\n",
    "`-` 그래서 그냥 `fixture_marker만 리턴`한다\n",
    "\n",
    "`-` 데코레이터가 `@pytest.fixture`일 땐 `pytest.fixture(f) == fixture_marker(f)`였다\n",
    "\n",
    "`-` 즉, `pytest.fixture()(f) == fixture_marker(f)`이고 `pytest.fixture(f) == fixture_marker(f)`이다\n",
    "\n",
    "`-` `pytest.fixture()`로 입력 안하고 `pytest.fixture`로 입력하니 **자체적으로** `pytest.fixture()과 동일한 기능`을 하게 만들어준다\n",
    "\n",
    "`-` **따라서 @pytest.fixture()나 @pytest.fixture나 동일한 기능을 수행한다**"
   ]
  },
  {
   "cell_type": "code",
   "execution_count": null,
   "id": "d1216a91-1ad7-4edc-920a-63dc3ee45915",
   "metadata": {},
   "outputs": [],
   "source": []
  }
 ],
 "metadata": {
  "kernelspec": {
   "display_name": "Python 3 (ipykernel)",
   "language": "python",
   "name": "python3"
  },
  "language_info": {
   "codemirror_mode": {
    "name": "ipython",
    "version": 3
   },
   "file_extension": ".py",
   "mimetype": "text/x-python",
   "name": "python",
   "nbconvert_exporter": "python",
   "pygments_lexer": "ipython3",
   "version": "3.8.11"
  }
 },
 "nbformat": 4,
 "nbformat_minor": 5
}
