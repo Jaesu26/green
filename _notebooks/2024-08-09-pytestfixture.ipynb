{
 "cells": [
  {
   "cell_type": "markdown",
   "id": "40331a70-6a0b-48f9-bcf2-18ce3b3ce899",
   "metadata": {},
   "source": [
    "# @pytest.fixture와 @pytest.fixture()의 차이\n",
    "\n",
    "> \"파이썬 데코레이터\"\n",
    "\n",
    "- toc: true\n",
    "- branch: master\n",
    "- badges: true\n",
    "- comments: true\n",
    "- hide: true\n",
    "- author: 한재수\n",
    "- categories: [Python]"
   ]
  },
  {
   "cell_type": "markdown",
   "id": "b4b15a28-c471-4aa5-ba76-e985ff48b0d7",
   "metadata": {},
   "source": [
    "https://github.com/pytest-dev/pytest/blob/8.3.2/src/_pytest/fixtures.py#L1242"
   ]
  },
  {
   "cell_type": "markdown",
   "id": "44b3eb32-8ee9-42c3-823e-5cf71da1e24f",
   "metadata": {},
   "source": [
    "```python\n",
    "@pytest.fixture\n",
    "def f():\n",
    "    # do something\n",
    "    \n",
    "\n",
    "# 위의 코드는 다음과 동일함\n",
    "f = pytest.fixture(f)\n",
    "```"
   ]
  },
  {
   "cell_type": "markdown",
   "id": "cd14fa2d-584e-44f2-a090-ea29d4bc351b",
   "metadata": {},
   "source": [
    "`-` 반면에"
   ]
  },
  {
   "cell_type": "markdown",
   "id": "e4d6154b-94f3-4f38-b361-19f94241c45e",
   "metadata": {},
   "source": [
    "```python\n",
    "@pytest.fixture()\n",
    "def f():\n",
    "    # do something\n",
    "\n",
    "    \n",
    "# 위의 코드는 다음과 동일함\n",
    "pyfixture = pytest.fixture()\n",
    "f = pyfixture(f)\n",
    "```"
   ]
  },
  {
   "cell_type": "markdown",
   "id": "55b385a7-4540-43a6-a826-935bf888ed33",
   "metadata": {},
   "source": [
    "`-` 내 궁금증은 다음과 같음\n",
    "\n",
    "`-` 어 근데 실제로 코딩할 땐 arguments 없는 상황 가정한다면\n",
    "\n",
    "`-` 데코레이터로 @pytest.fixture라고 하든\n",
    "\n",
    "`-` @pytest.fixture()라고 하든 동일한 기능을 수행했음\n",
    "\n",
    "`-` 이거 어떻게 가능한 거임?????\n",
    "\n",
    "`-` pytest에서 fixture 함수(=데코레이터 함수)는 기본적으로 2가지 형태로 오버로딩 되어있음\n",
    "\n",
    "`-` 이를 설명하기 앞서 기본적인 데코레이터를 살펴보자"
   ]
  },
  {
   "cell_type": "markdown",
   "id": "a204ae0b-c1c0-457c-9f0a-1175829a16ef",
   "metadata": {},
   "source": [
    "```python\n",
    "def deco(func):\n",
    "    # do something\n",
    "```"
   ]
  },
  {
   "cell_type": "markdown",
   "id": "24f86e78-2b7f-4dd2-9075-b9a23f4da5bb",
   "metadata": {},
   "source": [
    "`-` 데코레이터 함수의 첫 번째 인자는 당연히 데코레이터에 넣을 함수임. ㅇㅈ? 이걸 알면 끝났음\n",
    "\n",
    "`-` 위에서 fixture 함수는 오버로딩이 2가지 형태로 되어있다 했음\n",
    "\n",
    "`-` 첫 번째 경우를 보자"
   ]
  },
  {
   "cell_type": "markdown",
   "id": "e96d644f-0a03-4bde-a9c1-e0cbe0059f22",
   "metadata": {},
   "source": [
    "```python\n",
    "@overload\n",
    "def fixture(\n",
    "    fixture_function: FixtureFunction,\n",
    "    *,\n",
    "    scope: _ScopeName | Callable[[str, Config], _ScopeName] = ...,\n",
    "    params: Iterable[object] | None = ...,\n",
    "    autouse: bool = ...,\n",
    "    ids: Sequence[object | None] | Callable[[Any], object | None] | None = ...,\n",
    "    name: str | None = ...,\n",
    ") -> FixtureFunction: ...\n",
    "```"
   ]
  },
  {
   "cell_type": "markdown",
   "id": "1aa11ada-60b9-4897-b479-de5fcaded8db",
   "metadata": {},
   "source": [
    "`-` 첫 번째 인자인 fixture_function은 데코레이터에 넣을 함수를 뜻함 (그냥 func이라 해도 되는데 풀네임으로 적었다 생각하면 됨)\n",
    "\n",
    "`-` 그리고 type은 FixtureFunction이다 ---> 이거 그냥  Callable TypeVar임.\n",
    "\n",
    "`-` 그리고 리턴 type은 FixtureFunction이다 ---> 마찬가지로 그냥 Callable 오브젝트임 ㅇㅇ\n",
    "\n",
    "`-` 그럼 이제 두 번째 형태를 보자"
   ]
  },
  {
   "cell_type": "markdown",
   "id": "311dc6ed-e09a-40f6-8890-58d9b54ef12b",
   "metadata": {},
   "source": [
    "```python\n",
    "@overload\n",
    "def fixture(\n",
    "    fixture_function: None = ...,\n",
    "    *,\n",
    "    scope: _ScopeName | Callable[[str, Config], _ScopeName] = ...,\n",
    "    params: Iterable[object] | None = ...,\n",
    "    autouse: bool = ...,\n",
    "    ids: Sequence[object | None] | Callable[[Any], object | None] | None = ...,\n",
    "    name: str | None = None,\n",
    ") -> FixtureFunctionMarker: ...\n",
    "```"
   ]
  },
  {
   "cell_type": "markdown",
   "id": "6b3d280c-e33a-44d5-bf7d-af8127025751",
   "metadata": {},
   "source": [
    "`-` 첫 번째 꼴과 다름 점은 2가지가 존재함\n",
    "\n",
    "`-` 1) fixture_function의 타입이 None이다\n",
    "\n",
    "`-` 2) 리턴 타입이 FixtureFunctionMarker이다\n",
    "\n",
    "`-` 참고로 FixtureFunctionMarker는 클래스임\n",
    "\n",
    "`-` 자 이제 함수 내부를 살펴보자 (매우 간단함)"
   ]
  },
  {
   "cell_type": "markdown",
   "id": "c78453a2-1c14-4fd6-a17d-0da69d85c36b",
   "metadata": {},
   "source": [
    "```python\n",
    "def fixture(\n",
    "    fixture_function=None,\n",
    "    *,\n",
    "    scope=\"function\",\n",
    "    params=None,\n",
    "    autouse=False,\n",
    "    ids=None,\n",
    "    name=None,\n",
    "):\n",
    "    fixture_marker = FixtureFunctionMarker(\n",
    "        scope=scope,\n",
    "        params=tuple(params) if params is not None else None,\n",
    "        autouse=autouse,\n",
    "        ids=None if ids is None else ids if callable(ids) else tuple(ids),\n",
    "        name=name,\n",
    "        _ispytest=True,\n",
    "    )\n",
    "    # Direct decoration\n",
    "    if fixture_function:\n",
    "        return fixture_marker(fixture_function)\n",
    "    return fixture_marker\n",
    "```"
   ]
  },
  {
   "cell_type": "markdown",
   "id": "c9ac3b8b-73eb-4b2d-832e-4e34248e6589",
   "metadata": {},
   "source": [
    "`-` 주석은 생략했음, 타입도 생략\n",
    "\n",
    "`-` 일단 fixture_marker를 생성하고 시작함\n",
    "\n",
    "`-` 그리고 입력으로 fixture_function이 들어온다면 (None이 아니라면) fixture_marker(fixture_function)을 리턴함\n",
    "\n",
    "`-` fixture_function이 None이라면 fixture_marker를 리턴함\n",
    "\n",
    "`-` @pytest.fixture인 경우 f = pytest.fixture(f)가 된다\n",
    "\n",
    "`-` 그럼 fixture_marker를 만듦\n",
    "\n",
    "`-` if문에서 fixture_function이 None이 아니고 f임\n",
    "\n",
    "`-` 그래서 아까 만들어둔 fixture_marker(f)를 리턴함\n",
    "\n",
    "`-` 여기서 궁금한건 fixture_marker는 뭐냐는 거임\n",
    "\n",
    "`-` 일단 fixture_marker는 FixtureFunctionMarker 클래스의 인스턴스다\n",
    "\n",
    "`-` 이제 궁금한건 이 클래스의 __call__ 메서드가 반환하는게 무엇이냐임\n",
    "\n",
    "`-` __call__ 메서드는 FixtureFunction 타입을 반홤함 ---> 아까 말했듯이 이거 그냥 함수임\n",
    "\n",
    "`-` 즉, @pytest.fixture인 경우 그냥 일반적인 데코레이터와 다를바 없다\n",
    "\n",
    "`-` 진짜 궁금한 건 @pytest.fixture()임\n",
    "\n",
    "`-` 이건 코드상으로 다음과 같음"
   ]
  },
  {
   "cell_type": "markdown",
   "id": "32869165-8cca-463f-92e5-e61bcc28c8cd",
   "metadata": {},
   "source": [
    "```python\n",
    "pyfixture = pytest.fixture()\n",
    "f = pyfixture(f)\n",
    "```"
   ]
  },
  {
   "cell_type": "markdown",
   "id": "4a80f571-40b1-4d74-9829-7f56f9b11823",
   "metadata": {},
   "source": [
    "`-` 여기서의 f와 pytest.fixture(f)가 동일함 (내 궁금증 설명하는 부분에서 말했다)\n",
    "\n",
    "`-` 어떻게 동일할 수가 있지?????"
   ]
  },
  {
   "cell_type": "markdown",
   "id": "1d384a2d-f703-44d7-b68f-9424c995b4f0",
   "metadata": {
    "tags": []
   },
   "source": [
    "`-` pyfixture = pytest.fixture()를 잘보자\n",
    "\n",
    "`-` pytest.fixture()는 사실 pytest.fixture(fixture_function=None)과 같음 (함수의 default값을 생각하면 당연함)\n",
    "\n",
    "`-` 함수 내부를 보면 `if fixture_function` 코드가 있음. 근데 None임\n",
    "\n",
    "`-` 따라서 해당 if문은 스킵됨. (if fixture_function이 아니라 if fixture_function is not None이 더 좋을 것 같은데 이렇게 안한 이유가 있겠지?)\n",
    "\n",
    "`-` 그래서 그냥 fixture_marker만 리턴함. 데코레이터가 @pytest.fixture일땐 fixture_marker(f)였음.\n",
    "\n",
    "`-` 즉 pytest.fixture()(f) = fixture_marker(f)이고 pytest.fixture(f)도 fixture_marker(f)이다\n",
    "\n",
    "`-` pytest.fixture()로 입력안하고 pytest.fixture로 입력하니 자체적으로 pytest.fixture()과 동일한 기능을 하게 만들어줌\n",
    "\n",
    "`-` 따라서 @pytest.fixture()나 @pytest.fixture나 동일한 기능을 수행함"
   ]
  },
  {
   "cell_type": "code",
   "execution_count": null,
   "id": "d1216a91-1ad7-4edc-920a-63dc3ee45915",
   "metadata": {},
   "outputs": [],
   "source": []
  }
 ],
 "metadata": {
  "kernelspec": {
   "display_name": "Python 3 (ipykernel)",
   "language": "python",
   "name": "python3"
  },
  "language_info": {
   "codemirror_mode": {
    "name": "ipython",
    "version": 3
   },
   "file_extension": ".py",
   "mimetype": "text/x-python",
   "name": "python",
   "nbconvert_exporter": "python",
   "pygments_lexer": "ipython3",
   "version": "3.8.11"
  }
 },
 "nbformat": 4,
 "nbformat_minor": 5
}
