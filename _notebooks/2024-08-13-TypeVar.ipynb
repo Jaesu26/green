{
 "cells": [
  {
   "cell_type": "markdown",
   "id": "f86c436f-fc11-4d46-8633-ac4d9fe7b949",
   "metadata": {},
   "source": [
    "# 파이썬 TypeVar\n",
    "\n",
    "> \"type annotation\"\n",
    "\n",
    "- toc: true\n",
    "- branch: master\n",
    "- badges: true\n",
    "- comments: true\n",
    "- hide: true\n",
    "- author: 한재수\n",
    "- categories: [Python]"
   ]
  },
  {
   "cell_type": "markdown",
   "id": "b0cfb3f9-59dc-43ae-b98e-9242b02da22d",
   "metadata": {},
   "source": [
    "`-` 참고: https://docs.python.org/3.11/library/typing.html#typing.TypeVar"
   ]
  },
  {
   "cell_type": "markdown",
   "id": "394d9f6e-340e-43c0-8fae-34e0e1dae39d",
   "metadata": {},
   "source": [
    "## TypeVar 파헤치기"
   ]
  },
  {
   "cell_type": "markdown",
   "id": "4b829a42-7d74-4b68-901f-17f1777e748f",
   "metadata": {},
   "source": [
    "```python\n",
    "class typing.TypeVar(name, *constraints, bound=None, covariant=False, contravariant=False)\n",
    "```"
   ]
  },
  {
   "cell_type": "markdown",
   "id": "73ee4017-30e7-4222-aff3-026a1d24a9e7",
   "metadata": {},
   "source": [
    "`-` TypeVar는 어떨 때 사용하는지, 각 파라미터가 무슨 역할을 하는지 알아보자"
   ]
  },
  {
   "cell_type": "markdown",
   "id": "eae1a676-3744-4792-96e5-b99fb3cde256",
   "metadata": {},
   "source": [
    "## 왜 사용해?"
   ]
  },
  {
   "cell_type": "markdown",
   "id": "b4e06abb-76a0-4ad6-9908-be9d91868697",
   "metadata": {},
   "source": [
    "```python\n",
    "def repeat(x: str, n: int) -> list[str]:\n",
    "    \"\"\"Return a list containing n references to x.\"\"\"\n",
    "    return [x] * n\n",
    "``` "
   ]
  },
  {
   "cell_type": "markdown",
   "id": "fbe5ea83-3408-4f2f-8b86-cfd434582bf3",
   "metadata": {},
   "source": [
    "`-` 위와 같은 함수를 고려해보자\n",
    "\n",
    "`-` 입력으로 `x`가 들어오면 `x`를 `n`개 담은 리스트를 반환한다 (참고로 참조라 원소의 id는 동일함)\n",
    "\n",
    "`-` 이 때 `x`의 타입은 **str**이길 기대한다\n",
    "\n",
    "`-` 물론 **str**이 아니어도 함수는 문제없이 작동하긴 한다\n",
    "\n",
    "`-` 그런데 만약 `x`의 타입으로 **int**도 가능하게 하고 싶으면 어떻게 해야 할까?"
   ]
  },
  {
   "cell_type": "markdown",
   "id": "e7fde3dd-530f-420b-adad-271df87c671c",
   "metadata": {},
   "source": [
    "```python\n",
    "def repeat(x: str | int, n: int) -> list[str | int]:\n",
    "    \"\"\"Return a list containing n references to x.\"\"\"\n",
    "    return [x] * n\n",
    "``` "
   ]
  },
  {
   "cell_type": "markdown",
   "id": "5079dd8b-e36f-4e01-8760-28fd63665df3",
   "metadata": {},
   "source": [
    "`-` 위와 같이 `|` 또는  `typing.Union[str, int]`를 사용해 나타내는 걸 생각해볼 수 있다\n",
    "\n",
    "`-` 근데 이러한 표기법엔 치명적인 문제가 존재한다\n",
    "\n",
    "`-` `x` 타입이 **str**이라면 반환 타입은 당연히 `list[str]`여야 될 것 같지만 `list[int]`여도 문제 없다 (mypy같은 타입 검사기에 오류가 발생하지 않음)\n",
    "\n",
    "`-` 물론 위 함수는 동작 상 반환 값의 타입이 `list[x]`의 타입을 따라가지만 다른 경우엔 문제가 될 수 있다"
   ]
  },
  {
   "cell_type": "markdown",
   "id": "27a5de5a-3cf2-481a-8582-29ac4f5a61eb",
   "metadata": {},
   "source": [
    "```python\n",
    "def add(a: str | int, b: str | int) -> str | int:\n",
    "    return a + b\n",
    "```"
   ]
  },
  {
   "cell_type": "markdown",
   "id": "cb145589-1f8d-4d59-8c81-527a038b5d4f",
   "metadata": {},
   "source": [
    "`-` 위의 `add` 함수를 고려하자\n",
    "\n",
    "`-` a, b, 반환 값 모두 **str**이거나 **int**이라는 첫 번째 경우의 의도와 같이 작성한 것이지만\n",
    "\n",
    "`-` 실제론 a와 b의 타입이 달라도 타입 검사기에 문제가 생기지 않는다\n",
    "\n",
    "`-` 하지만 둘의 타입이 다르면 실행 시 오류가 발생한다\n",
    "\n",
    "`-` 즉, a가 **str**이면 b도 **str**이면 좋겠고 a가 **int**라면 b도 **int**이면 좋겠다\n",
    "\n",
    "`-` 이러한 소망은 `Union`을 사용해선 이룰 수 없다\n",
    "\n",
    "`-` 이를 가능하게 하는 것이 `TypeVar`이다"
   ]
  },
  {
   "cell_type": "markdown",
   "id": "02e47940-b667-4e45-8569-f507d111d36c",
   "metadata": {},
   "source": [
    "## 기본 용법"
   ]
  },
  {
   "cell_type": "markdown",
   "id": "39514a49-1cc5-445e-9b56-abd83628f062",
   "metadata": {},
   "source": [
    "```python\n",
    "T = TypeVar(\"T\")  # Can be anything\n",
    "S = TypeVar(\"S\", bound=str)  # Can be any subtype of str\n",
    "A = TypeVar(\"A\", str, bytes)  # Must be exactly str or bytes\n",
    "\n",
    "\n",
    "def repeat(x: T, n: int) -> Sequence[T]:\n",
    "    \"\"\"Return a list containing n references to x.\"\"\"\n",
    "    return [x] * n\n",
    "\n",
    "\n",
    "def print_capitalized(x: S) -> S:\n",
    "    \"\"\"Print x capitalized, and return x.\"\"\"\n",
    "    print(x.capitalize())\n",
    "    return x\n",
    "\n",
    "\n",
    "def concatenate(x: A, y: A) -> A:\n",
    "    \"\"\"Add two strings or bytes objects together.\"\"\"\n",
    "    return x + y\n",
    "```"
   ]
  },
  {
   "cell_type": "code",
   "execution_count": null,
   "id": "e3e16bcb-6afe-4202-9acc-e3a9ab75c7e8",
   "metadata": {},
   "outputs": [],
   "source": []
  }
 ],
 "metadata": {
  "kernelspec": {
   "display_name": "Python 3 (ipykernel)",
   "language": "python",
   "name": "python3"
  },
  "language_info": {
   "codemirror_mode": {
    "name": "ipython",
    "version": 3
   },
   "file_extension": ".py",
   "mimetype": "text/x-python",
   "name": "python",
   "nbconvert_exporter": "python",
   "pygments_lexer": "ipython3",
   "version": "3.8.11"
  }
 },
 "nbformat": 4,
 "nbformat_minor": 5
}
