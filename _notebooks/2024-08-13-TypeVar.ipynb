{
 "cells": [
  {
   "cell_type": "markdown",
   "id": "f86c436f-fc11-4d46-8633-ac4d9fe7b949",
   "metadata": {},
   "source": [
    "# 파이썬 TypeVar\n",
    "\n",
    "> \"type annotations\"\n",
    "\n",
    "- toc: true\n",
    "- branch: master\n",
    "- badges: true\n",
    "- comments: true\n",
    "- hide: true\n",
    "- author: 한재수\n",
    "- categories: [Python]"
   ]
  },
  {
   "cell_type": "markdown",
   "id": "b0cfb3f9-59dc-43ae-b98e-9242b02da22d",
   "metadata": {},
   "source": [
    "`-` 참고: https://docs.python.org/3.11/library/typing.html#typing.TypeVar\n",
    "\n",
    "`-` 참고: https://peps.python.org/pep-0483/\n",
    "\n",
    "`-` 참고: https://peps.python.org/pep-0484/"
   ]
  },
  {
   "cell_type": "markdown",
   "id": "394d9f6e-340e-43c0-8fae-34e0e1dae39d",
   "metadata": {},
   "source": [
    "## TypeVar 파헤치기"
   ]
  },
  {
   "cell_type": "markdown",
   "id": "4b829a42-7d74-4b68-901f-17f1777e748f",
   "metadata": {},
   "source": [
    "```python\n",
    "class typing.TypeVar(name, *constraints, bound=None, covariant=False, contravariant=False)\n",
    "```"
   ]
  },
  {
   "cell_type": "markdown",
   "id": "73ee4017-30e7-4222-aff3-026a1d24a9e7",
   "metadata": {},
   "source": [
    "`-` TypeVar는 어떨 때 사용하는지, 각 파라미터가 무슨 역할을 하는지 알아보자"
   ]
  },
  {
   "cell_type": "markdown",
   "id": "eae1a676-3744-4792-96e5-b99fb3cde256",
   "metadata": {},
   "source": [
    "## 왜 사용해?"
   ]
  },
  {
   "cell_type": "markdown",
   "id": "b4e06abb-76a0-4ad6-9908-be9d91868697",
   "metadata": {},
   "source": [
    "```python\n",
    "def repeat(x: str, n: int) -> list[str]:\n",
    "    \"\"\"Return a list containing n references to x.\"\"\"\n",
    "    return [x] * n\n",
    "``` "
   ]
  },
  {
   "cell_type": "markdown",
   "id": "fbe5ea83-3408-4f2f-8b86-cfd434582bf3",
   "metadata": {},
   "source": [
    "`-` 위와 같은 함수를 고려해보자\n",
    "\n",
    "`-` 입력으로 `x`가 들어오면 `x`를 `n`개 담은 리스트를 반환한다 (참고로 참조라 원소의 id는 동일함)\n",
    "\n",
    "`-` 이 때 `x`의 타입은 **str**이길 기대한다\n",
    "\n",
    "`-` 물론 **str**이 아니어도 함수는 문제없이 작동하긴 한다\n",
    "\n",
    "`-` 그런데 만약 `x`의 타입으로 **int**도 가능하게 하고 싶으면 어떻게 해야 할까?"
   ]
  },
  {
   "cell_type": "markdown",
   "id": "e7fde3dd-530f-420b-adad-271df87c671c",
   "metadata": {},
   "source": [
    "```python\n",
    "def repeat(x: str | int, n: int) -> list[str | int]:\n",
    "    \"\"\"Return a list containing n references to x.\"\"\"\n",
    "    return [x] * n\n",
    "``` "
   ]
  },
  {
   "cell_type": "markdown",
   "id": "5079dd8b-e36f-4e01-8760-28fd63665df3",
   "metadata": {},
   "source": [
    "`-` 위와 같이 `|` 또는  `typing.Union[str, int]`를 사용해 나타내는 걸 생각해볼 수 있다\n",
    "\n",
    "`-` 그런데 이러한 표기법엔 조금의 문제가 존재한다\n",
    "\n",
    "`-` `x` 타입이 **str**이라면 반환 타입은 당연히 `list[str]`여야 될 것 같지만 `list[int]`여도 문제 없다 (mypy같은 타입 검사기에 오류가 발생하지 않음)\n",
    "\n",
    "`-` 표기법의 의미 그대로 `str 또는 int`이기 때문이다\n",
    "\n",
    "`-` 물론 위 함수는 동작 상 반환 값의 타입이 `list[x]`의 타입을 따라가지만 다른 경우엔 문제가 될 수 있다"
   ]
  },
  {
   "cell_type": "markdown",
   "id": "27a5de5a-3cf2-481a-8582-29ac4f5a61eb",
   "metadata": {},
   "source": [
    "```python\n",
    "def add(a: str | int, b: str | int) -> str | int:\n",
    "    return a + b\n",
    "```"
   ]
  },
  {
   "cell_type": "markdown",
   "id": "cb145589-1f8d-4d59-8c81-527a038b5d4f",
   "metadata": {},
   "source": [
    "`-` 위의 `add` 함수를 고려하자\n",
    "\n",
    "`-` a, b, 반환 값의 타입 모두 **str**이거나 **int**이라는 첫 번째 경우의 의도와 같이 작성한 것이지만\n",
    "\n",
    "`-` 실제론 a와 b의 타입이 달라도 타입 검사기에 문제가 생기지 않는다\n",
    "\n",
    "`-` 하지만 둘의 타입이 다르면 실행 시 오류가 발생한다\n",
    "\n",
    "`-` 즉, a의 타입이 **str**이면 b도 **str**이면 좋겠고 a가 **int**라면 b도 **int**이면 좋겠다\n",
    "\n",
    "`-` 이러한 소망은 `Union`을 사용해선 이룰 수 없다\n",
    "\n",
    "`-` 이를 가능하게 하는 것이 `TypeVar`이다"
   ]
  },
  {
   "cell_type": "markdown",
   "id": "c9616662-1b68-4010-addd-f5649efe6eaa",
   "metadata": {},
   "source": [
    "## 들어가기에 앞서"
   ]
  },
  {
   "cell_type": "markdown",
   "id": "5cd2b5f3-6285-49c3-bab2-5dcbaec6a82c",
   "metadata": {},
   "source": [
    "### 서브 타입에 대해 알아보자"
   ]
  },
  {
   "cell_type": "markdown",
   "id": "6232fd07-caf3-4d46-99e7-5b17c1ef1b36",
   "metadata": {},
   "source": [
    "```python\n",
    "def greeting(name: str) -> str:\n",
    "    return \"Hello \" + name\n",
    "\n",
    "\n",
    "class MyStr(str): ...\n",
    "\n",
    "\n",
    "greeting(\"abc\")  # Possible\n",
    "greeting(MyStr(\"abc\"))  # Also possible\n",
    "```"
   ]
  },
  {
   "cell_type": "markdown",
   "id": "42c9d9f4-6822-467f-af9f-cbb8015662c8",
   "metadata": {},
   "source": [
    "`-` 기본적으로 특정 타입의 서브 타입도 허용된다 (name은 str 타입뿐만 아니라 str의 서브 타입도 가질 수 있다)\n",
    "\n",
    "`-` 그렇다면 서브 타입이란게 정확히 무엇일까?\n",
    "\n",
    "`-` `first_var`가 `first_type` 타입을 가지고 `second_var`가 `second_type` 타입을 가진다고 해보자\n",
    "\n",
    "`-` `first_var`에 `second_var`를 할당해도 문제가 없을까? (즉, `first_var = second_var`가 문제 없이 가능한가?)\n",
    "\n",
    "`-` 다음 두 조건을 만족하면 문제 없이 가능하다고 하자\n",
    "\n",
    "`1.` `second_type`의 모든 값은 `first_type`의 값 집합에도 존재한다\n",
    "\n",
    "`2.` `first_type`의 모든 함수는 `second_type`의 함수 집합에도 존재한다\n",
    "\n",
    "`-` 이 두 조건을 만족한다면 `second_type`은 `first_type`의 서브 타입으로 정의된다\n",
    "\n",
    "`-` 위 두 조건에 의해 아래 두 문장이 성립한다\n",
    "\n",
    "`1.` 모든 타입은 자기 자신의 서브 타입이다\n",
    "\n",
    "`2.` 값 집합은 서브 타입으로 대체하는 과정에서 더 작아지지만 함수 집합은 더 커진다\n",
    "\n",
    "`-` 직관적인 예시로 Dog 클래스와 Animal 클래스를 생각해보자\n",
    "\n",
    "`-` 모든 Dog는 Animal이므로 당연하게도 Dog는 Animal보다 더 많은 함수를 가지고 있다 (2번째 정의)\n",
    "\n",
    "`-` 예컨대 Dog가 bark 함수를 가지고 있을 수 있는데 Animal은 bark 함수를 가지고 있지 않다 (모든 Animal이 짖을 수 있는 건 아니다)"
   ]
  },
  {
   "cell_type": "markdown",
   "id": "4ea27c4a-5fb1-4efa-91b6-959c09660704",
   "metadata": {},
   "source": [
    "- 또 다른 예시\n",
    "\n",
    "`-` `int`는 `float`의 서브 타입이다 (직관적으로 당연해 보인다)\n",
    "\n",
    "`-` 모든 정수는 실수에 속하며 더욱 많은 연산자를 지원한다 (예컨대 비트 쉬프트 연산이 있다)\n",
    "\n",
    "```python\n",
    "lucky_number = 3.14    # type: float\n",
    "lucky_number = 42      # Safe\n",
    "lucky_number * 2       # This works\n",
    "lucky_number << 5      # Fails\n",
    "\n",
    "unlucky_number = 13    # type: int\n",
    "unlucky_number << 5    # This works\n",
    "unlucky_number = 2.72  # Unsafe\n",
    "```"
   ]
  },
  {
   "cell_type": "markdown",
   "id": "aaced4cf-bc3d-459c-a130-a54b0b4b2624",
   "metadata": {},
   "source": [
    "`-` lucky_number는 float 타입이다\n",
    "\n",
    "`-` int는 float의 서브 타입이므로 할당 가능하다\n",
    "\n",
    "`-` 하지만 float 타입 변수에는 int 타입 변수에만 적용할 수 있는 비트 쉬프트 연산을 적용할 수 없다\n",
    "\n",
    "`-` unluck_number는 int 타입이다\n",
    "\n",
    "`-` 비트 쉬프트 연산은 당연히 작동한다\n",
    "\n",
    "`-` 하지만 float은 int의 서브 타입이 아니므로 값을 할당할 수 없다"
   ]
  },
  {
   "cell_type": "markdown",
   "id": "20560f42-f890-41af-b671-692ddcfbe185",
   "metadata": {},
   "source": [
    "- 또 다른 예시 2"
   ]
  },
  {
   "cell_type": "markdown",
   "id": "3d3e3b10-c7dc-4e1b-b813-c1d17f54edae",
   "metadata": {},
   "source": [
    "```python\n",
    "def append_pi(lst: list[float]) -> None:\n",
    "    lst += [3.14]\n",
    "\n",
    "    \n",
    "my_list = [1, 3, 5]  # type: list[int]\n",
    "append_pi(my_list)   # Naively, this should be safe...\n",
    "my_list[-1] << 5     # ... but this fails\n",
    "```\n",
    "\n",
    "`-` `int`는 `float`의 서브 타입이지만 `list[int]`는 `list[float]`의 서브 타입이 아니다\n",
    "\n",
    "`-` `list[int]`가 `list[float]`의 서브 타입이려면 위에서 언급했던 두 조건을 만족해야 한다\n",
    "\n",
    "`-` `list[float]`로부터 파생될 수 있는 모든 값은 `list[int]`를 포함하므로 첫 번째 조건은 만족한다\n",
    "\n",
    "`-` 하지만 `append_pi` 함수에 `list[int]`를 인자로 전달하면 기존의 가능한 연산을 적용할 수 없다\n",
    "\n",
    "`-` `my_list`의 타입은 `list[int]`이므로 각 원소에 대해 비트 연산이 가능해야 한다\n",
    "\n",
    "`-` 하지만 `append_pi` 함수로 $\\pi$를 마지막 원소에 추가하면 해당 원소에 대해 비트 연산이 불가능해진다\n",
    "\n",
    "`-` 즉, 원해 가능한 연산자를 적용하지 못해 함수 집합이 오히려 더 작아졌으므로 두 번째 조건을 만족하지 못한다"
   ]
  },
  {
   "cell_type": "markdown",
   "id": "e5354507-a4d6-4dfe-9cf9-5a2786c9af54",
   "metadata": {},
   "source": [
    "# 여기서부터 다시 작성해야 됨"
   ]
  },
  {
   "cell_type": "markdown",
   "id": "02e47940-b667-4e45-8569-f507d111d36c",
   "metadata": {},
   "source": [
    "## 기본 용법"
   ]
  },
  {
   "cell_type": "markdown",
   "id": "bfe8b000-2092-4cfc-8922-bcd9003b6444",
   "metadata": {},
   "source": [
    "- 첫 번째 예시"
   ]
  },
  {
   "cell_type": "markdown",
   "id": "27d5d842-5fe0-4f45-b5dd-fd97eb8a1588",
   "metadata": {},
   "source": [
    "```python\n",
    "T = TypeVar(\"T\")  # Can be anything\n",
    "\n",
    "\n",
    "def repeat(x: T, n: int) -> list[T]:\n",
    "    return [x] * n\n",
    "\n",
    "\n",
    "def multiply(x: T, n: int) -> T:\n",
    "    return x * n\n",
    "```"
   ]
  },
  {
   "cell_type": "markdown",
   "id": "7dcb7015-9264-4b2d-9443-247a90e81423",
   "metadata": {},
   "source": [
    "`-` `T = TypeVar(\"T\")`와 같이 변수명과 name 인자명을 동일하게 작성해야 한다\n",
    "\n",
    "`-` 이제부터 `T`는 함수 내에서 임의의 타입을 의미한다\n",
    "\n",
    "`-` 만약 `repeat` 함수에서 `x`의 타입이 `int`라면 반환값의 타입은 `List[int]`이다\n",
    "\n",
    "`-` 참고로 `T`의 타입은 동일한 함수내에서만 일치하면 된다\n",
    "\n",
    "`-` repeat 함수에서 T의 타입으로 int를 사용했다고 multiply 함수에서도 int로만 사용해야 된다는 것은 아니다\n",
    "\n",
    "`-` 그런데 모든 타입이 가능하게 하기 보단 특정 타입만 가능하게 하고 싶을 수 있다\n",
    "\n",
    "`-` 이런 경우엔 제한하고 싶은 타입을 `*constraints`로 전달하면 된다"
   ]
  },
  {
   "cell_type": "markdown",
   "id": "f0b15bf0-b206-4d00-8d5a-8f25fbca4446",
   "metadata": {},
   "source": [
    "- 두 번째 예시"
   ]
  },
  {
   "cell_type": "markdown",
   "id": "9481bfa7-c66c-47e5-a0b9-9a4ff0d16c25",
   "metadata": {},
   "source": [
    "```python\n",
    "A = TypeVar(\"A\", str, bytes)  # Must be exactly str or bytes\n",
    "\n",
    "\n",
    "class MyStr(str):\n",
    "    ...\n",
    "\n",
    "\n",
    "def concatenate(x: A, y: A) -> A:\n",
    "    return x + y\n",
    "\n",
    "\n",
    "def do_nothing(x: A) -> A:\n",
    "    return x\n",
    "\n",
    "\n",
    "res1 = concatenate(\"a\", \"b\")  # Type of res1 is str\n",
    "res2 = concatenate(MyStr(\"a\"), \"b\")  # Type of res2 is str\n",
    "res3 = concatenate(b\"a\", b\"b\")  # Type of res3 is bytes\n",
    "res4 = concatenate(\"a\", b\"b\")  # Error, type variable \"A\" can not be object\n",
    "res5 = do_nothing(MyStr(\"ab\"))\n",
    "reveal_type(res5)  # Type of res5 is str\n",
    "```"
   ]
  },
  {
   "cell_type": "markdown",
   "id": "65db1ac3-c9e9-4489-949b-40cb28899386",
   "metadata": {},
   "source": [
    "`-` `A = TypeVar(\"A\", str, bytes)`라면 `A`의 타입으론 str 또는 bytes만 가능하다\n",
    "\n",
    "`-` 여기서 `Must be exactly str or bytes`란 표현이 오해를 불러올 수 있다\n",
    "\n",
    "`-` 파이썬은 기본적으로 서브 타입을 허용한다\n",
    "\n",
    "`-` 즉, A 타입을 가지는 변수에 str의 서브 타입인 MyStr을 대입해도 문제없다\n",
    "\n",
    "`-` 대신 str의 서브 타입인 MyStr을 사용하더라도 타입 검사기는 해당 변수의 타입이 MyStr이 아닌 str인 것으로 간주한다\n",
    "\n",
    "`-` `res5 = do_nothing(MyStr(\"ab\"))`의 경우 `res5`의 타입을 검사하면 MyStr여야 될 것 같지만 실제로는 str이다\n",
    "\n",
    "`-` `concatenate(\"a\", b\"b\")`는 오류를 발생시킨다\n",
    "\n",
    "`-` 왜냐하면 str과 bytes의 공통 슈퍼 타입은 object인데 TypeVar를 사용해 str과 bytes만 가능하도록 제한을 걸었기 때문이다\n",
    "\n",
    "`-` 한편, 제한하는 타입은 2개 이상부터 가능하다 (예컨대 `S = TypeVar(\"S\", str)`과 같이 할 수 없다)"
   ]
  },
  {
   "cell_type": "markdown",
   "id": "03d2625d-616d-487d-acaa-85f89e3d828b",
   "metadata": {},
   "source": [
    "- 세 번째 예시"
   ]
  },
  {
   "cell_type": "markdown",
   "id": "f3620be8-36f2-4a20-aa79-e62b92c639f7",
   "metadata": {},
   "source": [
    "```python\n",
    "S = TypeVar(\"S\", bound=str)  # Can be any subtype of str\n",
    "\n",
    "\n",
    "def print_capitalized(x: S) -> S:\n",
    "    print(x.capitalize())\n",
    "    return x\n",
    "\n",
    "\n",
    "res1 = print_capitalized(MyStr(\"abc\"))  # Type of res1 is MyStr\n",
    "```"
   ]
  },
  {
   "cell_type": "markdown",
   "id": "7dfe07c3-cc61-4ba1-971b-41c07af32790",
   "metadata": {},
   "source": [
    "`-` 대신 `bound`를 사용할 수 있다\n",
    "\n",
    "`-` `S = TypeVar(\"S\", bound=str)`와 같이 할당하면 `S`는 타입으로 `str 또는 str의 sub type`을 취할 수 있다\n",
    "\n",
    "`-` constraints와 달리 bound는 서브 타입을 허용한다\n",
    "\n",
    "`-` `res1 = print_capitalized(MyStr(\"abc\"))`에서 타입 검사기로 res1의 타입을 검사하면 str이 아닌 MyStr이다\n",
    "\n",
    "`-` 하위 타입 말고 정확히 str 타입으로 강제하는 것은 불가능하다 (이런 경우라면 런타입에서 타입이 str인지 검사하자)"
   ]
  },
  {
   "cell_type": "markdown",
   "id": "acd4dc08-6f73-406a-968c-437223fee910",
   "metadata": {},
   "source": [
    "- 네 번째 예시"
   ]
  },
  {
   "cell_type": "markdown",
   "id": "39514a49-1cc5-445e-9b56-abd83628f062",
   "metadata": {},
   "source": [
    "```python\n",
    "T = TypeVar(\"T\")  # Can be anything\n",
    "\n",
    "\n",
    "class UserID(int):\n",
    "    ...\n",
    "\n",
    "\n",
    "def do_nothing(one_arg: T, other_arg: T) -> None:\n",
    "    pass\n",
    "\n",
    "\n",
    "do_nothing(1, 2)               # Ok, T is int\n",
    "do_nothing(\"abc\", UserID(42))  # Also Ok, T is object\n",
    "\n",
    "\n",
    "def do_something1(one_arg: T, other_arg: T) -> None:  # Error\n",
    "    print(one_arg.jungsanghwa())\n",
    "    print(other_arg.letsgo())\n",
    "\n",
    "\n",
    "def do_something2(one_arg: Any, other_arg: Any) -> None:  # OK\n",
    "    print(one_arg.jungsanghwa())\n",
    "    print(other_arg.letsgo())\n",
    "```"
   ]
  },
  {
   "cell_type": "markdown",
   "id": "1a99e399-cfc7-4e72-af11-458c2c87abf7",
   "metadata": {},
   "source": [
    "`-` `T = TypeVar(\"T\")`는 정말 모든 것이 될 수 있을 것 같지만 그렇지는 않다"
   ]
  },
  {
   "cell_type": "markdown",
   "id": "a609ceea-21d6-40b0-bbc4-77d4227d6f47",
   "metadata": {},
   "source": [
    "## covariant, contravariant"
   ]
  },
  {
   "cell_type": "markdown",
   "id": "d92e6245-168e-4d1e-a3b0-21ea4dc136f2",
   "metadata": {},
   "source": [
    "`-` `예시 완전 잘못됨`\n",
    "\n",
    "`-` covariant (공변성): 타입이 상속 계층을 따라 동일한 방향으로 변경된다\n",
    "\n",
    "`-` contravariant (반공변성): 타입이 상속 계층을 따라 반대 방향으로 변경된다\n",
    "\n",
    "`-` 위 두 파라미터를 사용한 타입 변수는 단독으로는 사용 불가능하고 `List`같은 `제네릭 타입`에만 사용할 수 있다\n",
    "\n",
    "`-` 위 두 파라미터는 타입 변수의 파라미터가 아니라 제네릭의 파라미터이다\n",
    "\n",
    "`-` 그렇기 때문에 일반 함수에는 사용 불가능하다"
   ]
  },
  {
   "cell_type": "code",
   "execution_count": 25,
   "id": "6cff5f44-aae8-4f38-9b57-0ba9651f91dc",
   "metadata": {},
   "outputs": [],
   "source": [
    "class Animal:\n",
    "    def speak(self) -> str:\n",
    "        return \"Animal sound.\"\n",
    "\n",
    "class Dog(Animal):\n",
    "    def speak(self) -> str:\n",
    "        return \"Woof!\"\n",
    "\n",
    "class Cat(Animal):\n",
    "    def speak(self) -> str:\n",
    "        return \"Meow!\"\n",
    "\n",
    "class SuperCutyCat(Cat):\n",
    "    def speak(self) -> str:\n",
    "        return \"Purr! I'm super cute!\""
   ]
  },
  {
   "cell_type": "code",
   "execution_count": null,
   "id": "24508eed-24ae-4b77-a06e-6f8f52f02e34",
   "metadata": {},
   "outputs": [],
   "source": [
    "T = "
   ]
  },
  {
   "cell_type": "markdown",
   "id": "52490b9f-4f70-46f3-93d4-8faaa3381fab",
   "metadata": {},
   "source": [
    "### covariant"
   ]
  },
  {
   "cell_type": "markdown",
   "id": "52ad2ba7-56ac-4aa1-9b23-5adce51e781a",
   "metadata": {},
   "source": [
    "`-` 공변성은 상위 타입이 필요한 곳에 하위 타입을 사용할 수 있음을 의미한다"
   ]
  },
  {
   "cell_type": "code",
   "execution_count": 21,
   "id": "a8ff9c40-e8f6-4c86-b734-5177150a3acc",
   "metadata": {},
   "outputs": [],
   "source": [
    "from typing import TypeVar, Generic\n",
    "\n",
    "T_co = TypeVar('T_co', covariant=True)\n",
    "\n",
    "\n",
    "class AnimalContainer(Generic[T_co]):\n",
    "    def __init__(self, animal: T_co):\n",
    "        self.animal = animal\n",
    "    \n",
    "    def get_animal(self) -> T_co:\n",
    "        return self.animal"
   ]
  },
  {
   "cell_type": "code",
   "execution_count": 22,
   "id": "249555f6-d579-4f96-b6cc-47bd05fb08c5",
   "metadata": {},
   "outputs": [
    {
     "name": "stdout",
     "output_type": "stream",
     "text": [
      "Woof!\n"
     ]
    }
   ],
   "source": [
    "# Create instances\n",
    "dog_container = AnimalContainer(Dog())\n",
    "cat_container = AnimalContainer(Cat())\n",
    "\n",
    "# Covariance allows assigning AnimalContainer[Dog] to AnimalContainer[Animal]\n",
    "animal_container: AnimalContainer[Animal] = dog_container\n",
    "print(animal_container.get_animal().speak())  # Output: \"Woof!\""
   ]
  },
  {
   "cell_type": "markdown",
   "id": "55ecd14e-6412-4829-9d32-290e9643ee6c",
   "metadata": {},
   "source": [
    "`-` `AnimalContainer[Animal]`에 `AnimalContainer[Dog]` 또는 `AnimalContainer[Cat]`도 대입할 수 있다"
   ]
  },
  {
   "cell_type": "markdown",
   "id": "292a641e-6a1d-4ae3-a222-1fe62e7e3530",
   "metadata": {},
   "source": [
    "### contravariant"
   ]
  },
  {
   "cell_type": "markdown",
   "id": "84e303f5-bb1d-4e90-b66b-aefbea15ee04",
   "metadata": {},
   "source": [
    "`-` 반공변성은 상위 타입을 필요로 하는 곳에 하위 타입을 사용할 수 없다는 것을 의미한다\n",
    "\n",
    "`-` 대신, 하위 타입이 필요한 곳에 상위 타입을 사용할 수 있다."
   ]
  },
  {
   "cell_type": "code",
   "execution_count": 23,
   "id": "076ede36-544f-481a-8289-923467015842",
   "metadata": {},
   "outputs": [
    {
     "name": "stdout",
     "output_type": "stream",
     "text": [
      "Handling Woof!\n",
      "Handling Purr! I'm super cute!\n"
     ]
    }
   ],
   "source": [
    "T_contra = TypeVar('T_contra', contravariant=True)\n",
    "\n",
    "\n",
    "class AnimalHandler(Generic[T_contra]):\n",
    "    def handle(self, animal: T_contra) -> None:\n",
    "        print(f\"Handling {animal.speak()}\")\n",
    "\n",
    "\n",
    "# Create an instance of a handler that can handle any Animal\n",
    "animal_handler: AnimalHandler[Dog] = AnimalHandler[Animal]()  # Contravariance allows this\n",
    "\n",
    "# Handle a Dog\n",
    "animal_handler.handle(Dog())  # Output: \"Woof!\"\n",
    "animal_handler.handle(SuperCutyCat())  # Output: \"Purr! I'm super cute!\""
   ]
  },
  {
   "cell_type": "markdown",
   "id": "6b4563dd-a73c-4344-8497-11434b14e467",
   "metadata": {},
   "source": [
    "`-` `AnimalContainer[Dog]`에 `AnimalContainer[Animal]`도 대입할 수 있다"
   ]
  },
  {
   "cell_type": "markdown",
   "id": "92504c1a-9ea8-4020-9e50-982d557396c9",
   "metadata": {},
   "source": [
    "## 추가로 생각해 볼 것"
   ]
  },
  {
   "cell_type": "markdown",
   "id": "847d1d18-206a-4f0a-853b-38d3ad14d887",
   "metadata": {},
   "source": [
    "`-` `Animal = TypeVar(\"Animal\", bound=Animal)`은 Animal뿐만 아니라 Animal의 하위 타입도 가능하다\n",
    "\n",
    "`-` `Animal_co = TypeVar(\"Animal_co\", bound=Animal, covariant=True)`는 Animal뿐만 아니라 Animal의 하위 타입도 가능하며 추가로 covariant하다\n",
    "\n",
    "`-` 그게 그거 아니야???\n",
    "\n",
    "`-` 둘의 차이는 타입 계층 간의 대체 가능성에 영향을 미친다\n",
    "\n",
    "`-` `Animal = TypeVar(\"Animal\", bound=Animal)`는 상위 타입만 제한할 뿐 불변성을 가져 하위 타입이어도 자유롭게 대체할 수는 없다"
   ]
  },
  {
   "cell_type": "code",
   "execution_count": 14,
   "id": "97fbb38f-b886-4711-91c7-96e59d406d62",
   "metadata": {},
   "outputs": [],
   "source": [
    "from typing import TypeVar, List\n",
    "\n",
    "AnimalType = TypeVar(\"AnimalType\", bound=Animal)\n",
    "\n",
    "\n",
    "def sound_all_cats(animals: List[AnimalType]) -> None:\n",
    "    for animal in animals:\n",
    "        print(animal.sound())"
   ]
  },
  {
   "cell_type": "code",
   "execution_count": 15,
   "id": "3bc09795-bf4d-4580-87a0-9b570ef39aca",
   "metadata": {},
   "outputs": [
    {
     "name": "stdout",
     "output_type": "stream",
     "text": [
      "Meow\n",
      "Woof\n"
     ]
    }
   ],
   "source": [
    "cat = Cat()\n",
    "dog = Dog()\n",
    "animals = [cat, dog]\n",
    "sound_all_animals(animals)  # 오류: 타입이 불변성을 가지므로 고양이면 고양이만, 강아지면 강아지만 가져야 한다"
   ]
  },
  {
   "cell_type": "code",
   "execution_count": 16,
   "id": "3c2e7bb9-5854-4743-9a00-3eb74f20adda",
   "metadata": {},
   "outputs": [
    {
     "name": "stdout",
     "output_type": "stream",
     "text": [
      "Woof\n",
      "Woof\n",
      "Woof\n"
     ]
    }
   ],
   "source": [
    "dogs = [dog, dog, dog]\n",
    "sound_all_animals(dogs)  # 이렇게 하면 문제 없다"
   ]
  },
  {
   "cell_type": "markdown",
   "id": "78d70aab-7e2e-438b-9d86-5a491ee7ed65",
   "metadata": {},
   "source": [
    "`-` 하지만 `Animal_co = TypeVar(\"Animal_co\", bound=Animal, covariant=True)`는 공변성을 가지므로 마음대로 대체할 수 있다"
   ]
  },
  {
   "cell_type": "code",
   "execution_count": 17,
   "id": "2bad361b-1eb6-4ed3-abed-f052892b0bdb",
   "metadata": {},
   "outputs": [
    {
     "name": "stdout",
     "output_type": "stream",
     "text": [
      "...\n",
      "Meow\n",
      "Woof\n"
     ]
    }
   ],
   "source": [
    "animal = Animal()\n",
    "cat = Cat()\n",
    "dog = Dog()\n",
    "animals = [animal, cat, dog]\n",
    "sound_all_animals(animals)  # 강아지든 고양이든 Animal 또는 Animal의 하위 타입이면 섞어서 사용해도 무방하다"
   ]
  },
  {
   "cell_type": "markdown",
   "id": "e514460c-f0ef-431a-979c-50a67c065eec",
   "metadata": {},
   "source": [
    "`-` contravariant도 동일한 매커니즘이다"
   ]
  },
  {
   "cell_type": "markdown",
   "id": "06a418d3-bab5-42cf-a90c-9808927e7533",
   "metadata": {},
   "source": [
    "## 부록"
   ]
  },
  {
   "cell_type": "markdown",
   "id": "2e43750c-0db6-4af1-8598-509446bce42c",
   "metadata": {},
   "source": [
    "`-` int는 float의 서브 타입일 뿐 인스턴스는 아니다"
   ]
  },
  {
   "cell_type": "code",
   "execution_count": 19,
   "id": "9e50e44e-1125-4cd9-8026-01e0ffb7007e",
   "metadata": {},
   "outputs": [
    {
     "name": "stdout",
     "output_type": "stream",
     "text": [
      "False\n"
     ]
    }
   ],
   "source": [
    "x = 1\n",
    "print(isinstance(x, float))\n",
    "# False"
   ]
  },
  {
   "cell_type": "markdown",
   "id": "3e1c7c8e-096f-48db-919b-caaea50d369a",
   "metadata": {},
   "source": [
    "`-` 참고로 bool은 int의 인스턴스이다 (True는 1, False는 0)"
   ]
  },
  {
   "cell_type": "code",
   "execution_count": 18,
   "id": "e24e697b-b50f-4754-ab32-ce77c5aba40e",
   "metadata": {},
   "outputs": [
    {
     "name": "stdout",
     "output_type": "stream",
     "text": [
      "True\n"
     ]
    }
   ],
   "source": [
    "x = True\n",
    "print(isinstance(x, int))\n",
    "# True"
   ]
  },
  {
   "cell_type": "markdown",
   "id": "95024577-ab96-4d30-949a-477af82b4753",
   "metadata": {},
   "source": [
    "`-` bool은 int를 상속 받은 클래스이므로 당연하게도 int의 서브 타입이다\n",
    "\n",
    "`-` int는 float의 서브 타입이고 bool은 int의 서브 타입이므로 bool은 float의 서브 타입이다"
   ]
  },
  {
   "cell_type": "code",
   "execution_count": null,
   "id": "3bc3329e-49f4-4a15-aafd-35e6ca4d49e5",
   "metadata": {},
   "outputs": [],
   "source": []
  }
 ],
 "metadata": {
  "kernelspec": {
   "display_name": "Python 3 (ipykernel)",
   "language": "python",
   "name": "python3"
  },
  "language_info": {
   "codemirror_mode": {
    "name": "ipython",
    "version": 3
   },
   "file_extension": ".py",
   "mimetype": "text/x-python",
   "name": "python",
   "nbconvert_exporter": "python",
   "pygments_lexer": "ipython3",
   "version": "3.8.11"
  }
 },
 "nbformat": 4,
 "nbformat_minor": 5
}
