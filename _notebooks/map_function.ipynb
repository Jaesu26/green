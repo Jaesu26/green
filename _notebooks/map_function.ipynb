{
 "cells": [
  {
   "cell_type": "markdown",
   "id": "inside-habitat",
   "metadata": {},
   "source": [
    "# map함수(작성 완료)\n",
    "\n",
    "> \"map 함수란?\"\n",
    "\n",
    "- toc: true\n",
    "- branch: master\n",
    "- badges: true\n",
    "- comments: true\n",
    "- author: 한재수\n",
    "- categories: [python]"
   ]
  },
  {
   "cell_type": "markdown",
   "id": "prime-editing",
   "metadata": {},
   "source": [
    "## map함수 특징"
   ]
  },
  {
   "cell_type": "markdown",
   "id": "specific-guard",
   "metadata": {},
   "source": [
    "- map 함수는 리스트의 요소를 지정된 함수로 처리한다.\n",
    "- 여러 개의 데이터를 한 번에 다른 형태로 변화하기 위해 사용한다.\n",
    "- map 함수는 원본 리스트를 변경하지 않고 새 리스트를 생성한다.\n",
    "- map 함수는 map 타입으로 결과를 리턴하기 때문에 리스트나 튜플 등으로 변환해야 한다."
   ]
  },
  {
   "cell_type": "markdown",
   "id": "otherwise-morgan",
   "metadata": {},
   "source": [
    "## map함수 사용법"
   ]
  },
  {
   "cell_type": "markdown",
   "id": "preliminary-aluminum",
   "metadata": {},
   "source": [
    "- `map(함수, 반복가능한 객체)`"
   ]
  },
  {
   "cell_type": "code",
   "execution_count": 1,
   "id": "false-tracker",
   "metadata": {},
   "outputs": [
    {
     "name": "stdout",
     "output_type": "stream",
     "text": [
      "<map object at 0x0000023B6D93D040>\n"
     ]
    }
   ],
   "source": [
    "x = [1.1, 2.1, 3.1, 4.1]\n",
    "y = map(int, x)\n",
    "print(y)"
   ]
  },
  {
   "cell_type": "markdown",
   "id": "comparable-reduction",
   "metadata": {},
   "source": [
    "- map 함수는 map 타입으로 결과를 리턴하기 때문에 리스트나 튜플 등으로 변환한다. $\\rightarrow  [\\star$]  **변환하지 않으면 위와 같은 결과를 출력한다.** [$\\star$]\n",
    "- `print(y)`하지 않고 그냥 `y`만 입력해도 된다."
   ]
  },
  {
   "cell_type": "code",
   "execution_count": 2,
   "id": "attended-trial",
   "metadata": {},
   "outputs": [
    {
     "data": {
      "text/plain": [
       "[1, 2, 3, 4]"
      ]
     },
     "execution_count": 2,
     "metadata": {},
     "output_type": "execute_result"
    }
   ],
   "source": [
    "x = [1.1, 2.1, 3.1, 4.1]\n",
    "y = list(map(int, x))\n",
    "y"
   ]
  },
  {
   "cell_type": "code",
   "execution_count": 3,
   "id": "aging-vatican",
   "metadata": {},
   "outputs": [],
   "source": [
    "def minus(a):\n",
    "    return a - 0.1"
   ]
  },
  {
   "cell_type": "code",
   "execution_count": 4,
   "id": "pursuant-appliance",
   "metadata": {},
   "outputs": [
    {
     "data": {
      "text/plain": [
       "[1.0, 2.0, 3.0, 3.9999999999999996]"
      ]
     },
     "execution_count": 4,
     "metadata": {},
     "output_type": "execute_result"
    }
   ],
   "source": [
    "list(map(minus, x))"
   ]
  },
  {
   "cell_type": "markdown",
   "id": "postal-springer",
   "metadata": {},
   "source": [
    "- minus 함수는 map함수를 위해 한 번 쓰고 버려질 운명이다. 만드는게 귀찮음..."
   ]
  },
  {
   "cell_type": "markdown",
   "id": "clinical-sound",
   "metadata": {},
   "source": [
    "### map 함수에 람다 식 사용"
   ]
  },
  {
   "cell_type": "code",
   "execution_count": 5,
   "id": "canadian-accent",
   "metadata": {},
   "outputs": [
    {
     "data": {
      "text/plain": [
       "[1.0, 2.0, 3.0, 3.9999999999999996]"
      ]
     },
     "execution_count": 5,
     "metadata": {},
     "output_type": "execute_result"
    }
   ],
   "source": [
    "x = [1.1, 2.1, 3.1, 4.1]\n",
    "list(map(lambda a: a - 0.1, x))"
   ]
  },
  {
   "cell_type": "markdown",
   "id": "needed-symphony",
   "metadata": {},
   "source": [
    "### input().split()과 map"
   ]
  },
  {
   "cell_type": "markdown",
   "id": "solved-speed",
   "metadata": {},
   "source": [
    "- `input()`함수는 c언어의 `scanf()`함수와 비슷하다."
   ]
  },
  {
   "cell_type": "code",
   "execution_count": 7,
   "id": "equivalent-astrology",
   "metadata": {},
   "outputs": [
    {
     "name": "stdin",
     "output_type": "stream",
     "text": [
      " hello\n"
     ]
    }
   ],
   "source": [
    "z = input()"
   ]
  },
  {
   "cell_type": "code",
   "execution_count": 8,
   "id": "quiet-belfast",
   "metadata": {},
   "outputs": [
    {
     "data": {
      "text/plain": [
       "'hello'"
      ]
     },
     "execution_count": 8,
     "metadata": {},
     "output_type": "execute_result"
    }
   ],
   "source": [
    "z"
   ]
  },
  {
   "cell_type": "markdown",
   "id": "altered-ethics",
   "metadata": {},
   "source": [
    "- `input()`으로 입력받은 값은 `문자열`이다."
   ]
  },
  {
   "cell_type": "code",
   "execution_count": 9,
   "id": "virtual-wesley",
   "metadata": {},
   "outputs": [
    {
     "name": "stdin",
     "output_type": "stream",
     "text": [
      " 123\n"
     ]
    }
   ],
   "source": [
    "n = input()"
   ]
  },
  {
   "cell_type": "code",
   "execution_count": 10,
   "id": "broken-animal",
   "metadata": {},
   "outputs": [
    {
     "data": {
      "text/plain": [
       "str"
      ]
     },
     "execution_count": 10,
     "metadata": {},
     "output_type": "execute_result"
    }
   ],
   "source": [
    "type(n)"
   ]
  },
  {
   "cell_type": "markdown",
   "id": "peripheral-expense",
   "metadata": {},
   "source": [
    "- `input()`함수에서 `안내문구`를 추가할 수 도 있다."
   ]
  },
  {
   "cell_type": "code",
   "execution_count": 11,
   "id": "accessory-plant",
   "metadata": {},
   "outputs": [
    {
     "name": "stdin",
     "output_type": "stream",
     "text": [
      "숫자 하나를 입력하세요: 26\n"
     ]
    }
   ],
   "source": [
    "Q = input('숫자 하나를 입력하세요:')"
   ]
  },
  {
   "cell_type": "code",
   "execution_count": 12,
   "id": "tender-ocean",
   "metadata": {},
   "outputs": [
    {
     "data": {
      "text/plain": [
       "'26'"
      ]
     },
     "execution_count": 12,
     "metadata": {},
     "output_type": "execute_result"
    }
   ],
   "source": [
    "Q"
   ]
  },
  {
   "cell_type": "markdown",
   "id": "difficult-marking",
   "metadata": {},
   "source": [
    "- input()함수의 출력값을 문자열이 아닌 다른 자료형으로 바꾸고 싶다면?"
   ]
  },
  {
   "cell_type": "code",
   "execution_count": 13,
   "id": "great-kingdom",
   "metadata": {},
   "outputs": [
    {
     "name": "stdin",
     "output_type": "stream",
     "text": [
      "숫자 하나를 입력하세요: 123\n"
     ]
    }
   ],
   "source": [
    "w = int(input('숫자 하나를 입력하세요:'))"
   ]
  },
  {
   "cell_type": "code",
   "execution_count": 14,
   "id": "saving-football",
   "metadata": {},
   "outputs": [
    {
     "data": {
      "text/plain": [
       "int"
      ]
     },
     "execution_count": 14,
     "metadata": {},
     "output_type": "execute_result"
    }
   ],
   "source": [
    "type(w)"
   ]
  },
  {
   "cell_type": "markdown",
   "id": "extraordinary-reply",
   "metadata": {},
   "source": [
    "- `input().split(\"기준문자열\")`을 사용하면 입력값을 변수 여러 개에 저장할 수 있다.\n",
    "- `split()`에서 `\"기준문자열\"`이 없는 즉 `default`는 `공백`이다."
   ]
  },
  {
   "cell_type": "code",
   "execution_count": 27,
   "id": "mighty-state",
   "metadata": {},
   "outputs": [
    {
     "name": "stdin",
     "output_type": "stream",
     "text": [
      " 10    20\n"
     ]
    }
   ],
   "source": [
    "a, b = input().split() # 입력받은 값을 공백(스페이스, 탭, 엔터 등)을 기준으로 분리"
   ]
  },
  {
   "cell_type": "code",
   "execution_count": 28,
   "id": "inside-lounge",
   "metadata": {},
   "outputs": [
    {
     "data": {
      "text/plain": [
       "('10', '20')"
      ]
     },
     "execution_count": 28,
     "metadata": {},
     "output_type": "execute_result"
    }
   ],
   "source": [
    "a, b"
   ]
  },
  {
   "cell_type": "code",
   "execution_count": 31,
   "id": "piano-cleveland",
   "metadata": {},
   "outputs": [
    {
     "data": {
      "text/plain": [
       "tuple"
      ]
     },
     "execution_count": 31,
     "metadata": {},
     "output_type": "execute_result"
    }
   ],
   "source": [
    "c = a, b\n",
    "type(c)"
   ]
  },
  {
   "cell_type": "markdown",
   "id": "impaired-durham",
   "metadata": {},
   "source": [
    "- a와b가 문자열이다.\n",
    "- `int형`으로 바꾸고 싶다면?"
   ]
  },
  {
   "cell_type": "code",
   "execution_count": 17,
   "id": "available-acting",
   "metadata": {},
   "outputs": [
    {
     "name": "stdin",
     "output_type": "stream",
     "text": [
      " 10 20\n"
     ]
    },
    {
     "ename": "TypeError",
     "evalue": "int() argument must be a string, a bytes-like object or a number, not 'list'",
     "output_type": "error",
     "traceback": [
      "\u001b[1;31m---------------------------------------------------------------------------\u001b[0m",
      "\u001b[1;31mTypeError\u001b[0m                                 Traceback (most recent call last)",
      "\u001b[1;32m<ipython-input-17-0de5d52cb787>\u001b[0m in \u001b[0;36m<module>\u001b[1;34m\u001b[0m\n\u001b[1;32m----> 1\u001b[1;33m \u001b[0ma\u001b[0m\u001b[1;33m,\u001b[0m \u001b[0mb\u001b[0m \u001b[1;33m=\u001b[0m \u001b[0mint\u001b[0m\u001b[1;33m(\u001b[0m\u001b[0minput\u001b[0m\u001b[1;33m(\u001b[0m\u001b[1;33m)\u001b[0m\u001b[1;33m.\u001b[0m\u001b[0msplit\u001b[0m\u001b[1;33m(\u001b[0m\u001b[1;33m)\u001b[0m\u001b[1;33m)\u001b[0m\u001b[1;33m\u001b[0m\u001b[1;33m\u001b[0m\u001b[0m\n\u001b[0m",
      "\u001b[1;31mTypeError\u001b[0m: int() argument must be a string, a bytes-like object or a number, not 'list'"
     ]
    }
   ],
   "source": [
    "a, b = int(input().split())"
   ]
  },
  {
   "cell_type": "markdown",
   "id": "mexican-dominant",
   "metadata": {},
   "source": [
    "- int()함수를 쓰면 될 것 같았는데 오류가 나온다\n",
    "- error메시지를 읽어보니 int()함수는 무조건 a string, a bytes-like object or a number 여야 한다.(not 'list')\n",
    "- a, b는 tuple인 것 같다.\n",
    "- 그러면 어떻게 하지? $\\longrightarrow$ `map()함수`를 쓰면 된다."
   ]
  },
  {
   "cell_type": "code",
   "execution_count": 37,
   "id": "documented-provincial",
   "metadata": {},
   "outputs": [
    {
     "name": "stdin",
     "output_type": "stream",
     "text": [
      " 10 20\n"
     ]
    }
   ],
   "source": [
    "a, b = map(int, input().split()) # 입력받은 값을 정수로 변환"
   ]
  },
  {
   "cell_type": "code",
   "execution_count": 38,
   "id": "designed-today",
   "metadata": {},
   "outputs": [
    {
     "data": {
      "text/plain": [
       "(10, 20)"
      ]
     },
     "execution_count": 38,
     "metadata": {},
     "output_type": "execute_result"
    }
   ],
   "source": [
    "a, b"
   ]
  },
  {
   "cell_type": "code",
   "execution_count": 39,
   "id": "bound-impossible",
   "metadata": {},
   "outputs": [
    {
     "data": {
      "text/plain": [
       "int"
      ]
     },
     "execution_count": 39,
     "metadata": {},
     "output_type": "execute_result"
    }
   ],
   "source": [
    "type(a)"
   ]
  },
  {
   "cell_type": "code",
   "execution_count": 40,
   "id": "registered-marketplace",
   "metadata": {},
   "outputs": [
    {
     "data": {
      "text/plain": [
       "int"
      ]
     },
     "execution_count": 40,
     "metadata": {},
     "output_type": "execute_result"
    }
   ],
   "source": [
    "type(b)"
   ]
  },
  {
   "cell_type": "markdown",
   "id": "composite-stone",
   "metadata": {},
   "source": [
    "- a, b = `map(int, input().split())`을 풀어서 쓰면 다음과 같은 코드이다.\n",
    "```python\n",
    " x = input().split()     # input().split()의 결과는 문자열 리스트\n",
    " m = map(int, x)         # 리스트의 요소를 int형으로 변환, 결과는 맵 객체\n",
    " a, b = m                # 맵 객체는 변수 여러 개에 저장 가능\n",
    "```"
   ]
  },
  {
   "cell_type": "code",
   "execution_count": null,
   "id": "treated-notification",
   "metadata": {},
   "outputs": [],
   "source": []
  }
 ],
 "metadata": {
  "kernelspec": {
   "display_name": "Python 3",
   "language": "python",
   "name": "python3"
  },
  "language_info": {
   "codemirror_mode": {
    "name": "ipython",
    "version": 3
   },
   "file_extension": ".py",
   "mimetype": "text/x-python",
   "name": "python",
   "nbconvert_exporter": "python",
   "pygments_lexer": "ipython3",
   "version": "3.8.8"
  }
 },
 "nbformat": 4,
 "nbformat_minor": 5
}
