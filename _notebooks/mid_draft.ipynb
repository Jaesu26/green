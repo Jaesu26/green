{
 "cells": [
  {
   "cell_type": "markdown",
   "id": "gentle-promotion",
   "metadata": {},
   "source": [
    "# 파이썬 입문 중간고사 (draft)"
   ]
  },
  {
   "cell_type": "markdown",
   "id": "three-clerk",
   "metadata": {},
   "source": [
    "### `# 1.` 다음을 읽고 참 거짓을 판단하여라. "
   ]
  },
  {
   "cell_type": "markdown",
   "id": "automated-canberra",
   "metadata": {},
   "source": [
    "(a) 딕셔너리는 key와 value가 하나의 쌍으로 되어 {}로 둘러싸여 있다. \n",
    "\n",
    "(b) `abs(-20)`의 실행결과는 `20`이다. \n",
    "\n",
    "(c) `[1]+[2]`의 실행결과는 `[3]` 이다. "
   ]
  },
  {
   "cell_type": "markdown",
   "id": "million-density",
   "metadata": {},
   "source": [
    "### `# 2.` 아래의 실행결과 중 올바른 것은? "
   ]
  },
  {
   "cell_type": "code",
   "execution_count": null,
   "id": "juvenile-connecticut",
   "metadata": {},
   "outputs": [],
   "source": [
    "a=1.0\n",
    "b=2\n",
    "type(a+b)"
   ]
  },
  {
   "cell_type": "markdown",
   "id": "oriental-directive",
   "metadata": {},
   "source": [
    "(ㄱ) int (ㄴ) float (ㄷ) bool (ㄹ) complex "
   ]
  },
  {
   "cell_type": "markdown",
   "id": "permanent-brooks",
   "metadata": {},
   "source": [
    "### `# 3.` 원주율을 출력하는 방법 중 올바른 것을 `모두` 고르시오?"
   ]
  },
  {
   "cell_type": "markdown",
   "id": "sunrise-cemetery",
   "metadata": {},
   "source": [
    "(ㄱ)"
   ]
  },
  {
   "cell_type": "code",
   "execution_count": null,
   "id": "necessary-handy",
   "metadata": {},
   "outputs": [],
   "source": [
    "import math\n",
    "math.pi"
   ]
  },
  {
   "cell_type": "markdown",
   "id": "lined-warehouse",
   "metadata": {},
   "source": [
    "(ㄴ) "
   ]
  },
  {
   "cell_type": "code",
   "execution_count": null,
   "id": "blocked-consolidation",
   "metadata": {},
   "outputs": [],
   "source": [
    "import math\n",
    "pi "
   ]
  },
  {
   "cell_type": "markdown",
   "id": "burning-maldives",
   "metadata": {},
   "source": [
    "(ㄷ)"
   ]
  },
  {
   "cell_type": "code",
   "execution_count": null,
   "id": "destroyed-christopher",
   "metadata": {},
   "outputs": [],
   "source": [
    "from math import pi\n",
    "pi"
   ]
  },
  {
   "cell_type": "markdown",
   "id": "inner-adventure",
   "metadata": {},
   "source": [
    "(ㄹ)"
   ]
  },
  {
   "cell_type": "code",
   "execution_count": null,
   "id": "victorian-rendering",
   "metadata": {},
   "outputs": [],
   "source": [
    "from math import *\n",
    "pi"
   ]
  },
  {
   "cell_type": "markdown",
   "id": "agreed-scientist",
   "metadata": {},
   "source": [
    "### `# 4.` 아래의 에러메시지가 나오는 (잘못된) 코드는?"
   ]
  },
  {
   "attachments": {
    "af057be2-4976-4603-9fd0-5a74559a5683.png": {
     "image/png": "[encoded data removed]"
    }
   },
   "cell_type": "markdown",
   "id": "dramatic-hearing",
   "metadata": {},
   "source": [
    "![image.png](attachment:af057be2-4976-4603-9fd0-5a74559a5683.png)"
   ]
  },
  {
   "cell_type": "markdown",
   "id": "appropriate-unemployment",
   "metadata": {},
   "source": [
    "(ㄱ) "
   ]
  },
  {
   "cell_type": "code",
   "execution_count": null,
   "id": "western-precipitation",
   "metadata": {},
   "outputs": [],
   "source": [
    "len(3.14) "
   ]
  },
  {
   "cell_type": "markdown",
   "id": "conventional-breath",
   "metadata": {},
   "source": [
    "(ㄴ)"
   ]
  },
  {
   "cell_type": "code",
   "execution_count": null,
   "id": "successful-final",
   "metadata": {},
   "outputs": [],
   "source": [
    "len([3.14])"
   ]
  },
  {
   "cell_type": "markdown",
   "id": "experienced-paraguay",
   "metadata": {},
   "source": [
    "(ㄷ)"
   ]
  },
  {
   "cell_type": "code",
   "execution_count": null,
   "id": "intense-narrative",
   "metadata": {},
   "outputs": [],
   "source": [
    "len((3.14,))"
   ]
  },
  {
   "cell_type": "markdown",
   "id": "nasty-signature",
   "metadata": {},
   "source": [
    "(ㄹ)"
   ]
  },
  {
   "cell_type": "code",
   "execution_count": null,
   "id": "antique-korean",
   "metadata": {},
   "outputs": [],
   "source": [
    "len('3.14')"
   ]
  },
  {
   "cell_type": "markdown",
   "id": "union-affair",
   "metadata": {},
   "source": [
    "### `# 5.` 아래와 같이 `a`를 선언하였다고 하자. "
   ]
  },
  {
   "cell_type": "code",
   "execution_count": null,
   "id": "mediterranean-movie",
   "metadata": {},
   "outputs": [],
   "source": [
    "a='guebin'"
   ]
  },
  {
   "cell_type": "markdown",
   "id": "spare-confidentiality",
   "metadata": {},
   "source": [
    "#### 아래 중 옳은 설명을 **모두** 골라라. "
   ]
  },
  {
   "cell_type": "markdown",
   "id": "future-forestry",
   "metadata": {},
   "source": [
    "(ㄱ) a의 자료형은 `str`이다. 즉 `type(a)`의 출력결과는 `str`이다. "
   ]
  },
  {
   "cell_type": "markdown",
   "id": "lonely-marks",
   "metadata": {},
   "source": [
    "(ㄴ) `len(a)`의 실행결과는 1이다. "
   ]
  },
  {
   "cell_type": "markdown",
   "id": "linear-coordination",
   "metadata": {},
   "source": [
    "(ㄷ) `a[0]='G'`와 같은 방법으로 첫글자를 대문자로 바꿀 수 있다. "
   ]
  },
  {
   "cell_type": "markdown",
   "id": "elegant-assurance",
   "metadata": {},
   "source": [
    "(ㄹ) `a*2` 의 실행결과는 `'guebinguebin'`이다. "
   ]
  },
  {
   "cell_type": "markdown",
   "id": "pacific-occasions",
   "metadata": {},
   "source": [
    "### `# 6.` [예제코드]의 결과를 관찰하고 물음에 답하라. "
   ]
  },
  {
   "cell_type": "markdown",
   "id": "aging-watts",
   "metadata": {},
   "source": [
    "#### **[예제코드]**"
   ]
  },
  {
   "cell_type": "code",
   "execution_count": 1,
   "id": "hundred-movement",
   "metadata": {
    "colab": {
     "base_uri": "https://localhost:8080/"
    },
    "id": "1R1VJ1N9HwKE",
    "outputId": "3b14401f-7133-4158-b038-034d64ecba71"
   },
   "outputs": [
    {
     "data": {
      "text/plain": [
       "['u', 'e', 'b', 'i', 'n']"
      ]
     },
     "execution_count": 1,
     "metadata": {},
     "output_type": "execute_result"
    }
   ],
   "source": [
    "a=['G','u','e','b','i','n']\n",
    "del a[0]\n",
    "a"
   ]
  },
  {
   "cell_type": "markdown",
   "id": "prostate-contents",
   "metadata": {
    "id": "EPLZ82oEHyuX"
   },
   "source": [
    "#### 아래코드의 출력결과 중 올바른 것은? "
   ]
  },
  {
   "cell_type": "code",
   "execution_count": null,
   "id": "specified-catalog",
   "metadata": {
    "colab": {
     "base_uri": "https://localhost:8080/"
    },
    "id": "NSEXd4MNH3G4",
    "outputId": "c215dbd5-9890-43f2-f97f-38f830f2dcad"
   },
   "outputs": [],
   "source": [
    "b=['1','2','3']\n",
    "del b[-1]\n",
    "b"
   ]
  },
  {
   "cell_type": "markdown",
   "id": "bronze-wholesale",
   "metadata": {},
   "source": [
    "(ㄱ) `['1', '2']`\n",
    "\n",
    "(ㄴ) `['2', '3']`\n",
    "\n",
    "(ㄷ) `['1', '3']`\n",
    "\n",
    "(ㄹ) 에러메시지로 출력할 수 없음. "
   ]
  },
  {
   "cell_type": "markdown",
   "id": "spectacular-stick",
   "metadata": {},
   "source": [
    "### `# 7.` 아래의 코드의 출력결과를 쓰라"
   ]
  },
  {
   "cell_type": "code",
   "execution_count": null,
   "id": "unknown-athens",
   "metadata": {},
   "outputs": [],
   "source": [
    "x=[]\n",
    "for i in [0,1,2,3,4,5]:\n",
    "    x.append(2**i)\n",
    "x"
   ]
  },
  {
   "cell_type": "markdown",
   "id": "editorial-cosmetic",
   "metadata": {},
   "source": [
    "### `# 8.` `a`,`b`에 저장된 두 값을 교환하고 싶다고 하자. 아래의 `[빈칸]`에 알맞은 내용을 적으시오. "
   ]
  },
  {
   "cell_type": "markdown",
   "id": "social-hopkins",
   "metadata": {},
   "source": [
    "#### **[조건]**"
   ]
  },
  {
   "cell_type": "code",
   "execution_count": null,
   "id": "norman-password",
   "metadata": {
    "id": "TpX9kkOnQb3w"
   },
   "outputs": [],
   "source": [
    "a=10\n",
    "b=20"
   ]
  },
  {
   "cell_type": "markdown",
   "id": "spare-bandwidth",
   "metadata": {},
   "source": [
    "#### **[빈칸]**"
   ]
  },
  {
   "cell_type": "markdown",
   "id": "threatened-familiar",
   "metadata": {},
   "source": [
    "???"
   ]
  },
  {
   "cell_type": "markdown",
   "id": "chubby-genealogy",
   "metadata": {},
   "source": [
    "#### **[결과]**"
   ]
  },
  {
   "cell_type": "code",
   "execution_count": null,
   "id": "robust-mason",
   "metadata": {},
   "outputs": [],
   "source": [
    "a"
   ]
  },
  {
   "cell_type": "code",
   "execution_count": null,
   "id": "interracial-pencil",
   "metadata": {},
   "outputs": [],
   "source": [
    "b"
   ]
  },
  {
   "cell_type": "markdown",
   "id": "embedded-former",
   "metadata": {},
   "source": [
    "### `# 9.` 적당한 과정을 통하여 아래와 같은 데이터를 얻었다고 가정하자. "
   ]
  },
  {
   "cell_type": "code",
   "execution_count": null,
   "id": "amended-newman",
   "metadata": {},
   "outputs": [],
   "source": [
    "import pandas as pd\n",
    "#...적당한과정...\n",
    "df"
   ]
  },
  {
   "attachments": {
    "5ad13487-650e-4c7b-9331-3bfd0fdd03ef.png": {
     "image/png": "[encoded data removed]"
    }
   },
   "cell_type": "markdown",
   "id": "coordinate-canvas",
   "metadata": {},
   "source": [
    "![image.png](attachment:5ad13487-650e-4c7b-9331-3bfd0fdd03ef.png)"
   ]
  },
  {
   "cell_type": "markdown",
   "id": "bound-albuquerque",
   "metadata": {},
   "source": [
    "#### `(a)` 두번째 컬럼 (toeic) 에 접근하는 코드를 써라. "
   ]
  },
  {
   "cell_type": "markdown",
   "id": "imperial-shirt",
   "metadata": {},
   "source": [
    "#### `(b)` 토익점수가 800이상인 사람을 불러오는 코드를 써라. "
   ]
  },
  {
   "cell_type": "markdown",
   "id": "stretch-causing",
   "metadata": {},
   "source": [
    "### `# 10.` 아래를 보고 적절한 설명을 한 사람을 모두 고르라. "
   ]
  },
  {
   "attachments": {
    "d7620e36-f8b7-45b2-8f5e-b0d7144f86a9.png": {
     "image/png": "[encoded data removed]"
    }
   },
   "cell_type": "markdown",
   "id": "mounted-price",
   "metadata": {},
   "source": [
    "![image.png](attachment:d7620e36-f8b7-45b2-8f5e-b0d7144f86a9.png)"
   ]
  },
  {
   "cell_type": "markdown",
   "id": "resident-serbia",
   "metadata": {},
   "source": [
    "**(새로이)** `import vec`이 실행되는 것을 보니 (1) 사용자가 `vec`이라는 패키지를 설치했거나 (2) 사용자가 현재 작업중인 폴더에 `vec.py`파일을 만들었거나 (3) 사용자가 현재 작업중인 폴더 아래 `vec`이라는 폴더가 존재하는 경우중 하나라고 볼 수 있겠군. "
   ]
  },
  {
   "cell_type": "markdown",
   "id": "systematic-andrew",
   "metadata": {},
   "source": [
    "**(이서)** 네, 그런데 `vec?`의 실행 결과중 `File:`을 확인해 보니 사용자가 작업중인 폴더아래 `vec`이라는 폴더가 있는것으로 판단됩니다. "
   ]
  },
  {
   "cell_type": "markdown",
   "id": "yellow-spirituality",
   "metadata": {},
   "source": [
    "**(일권)** 이서가 말한대로 `File:`을 확인해보니 사용자가 `vec`폴더에 `__init__.py`도 만들어 놓았음을 알수 있군. `__init__.py`는 `import vec`을 수행하면 암시적으로 실행된다고 했었지? "
   ]
  },
  {
   "cell_type": "markdown",
   "id": "specialized-portable",
   "metadata": {},
   "source": [
    "**(현이)** 그렇지, 그런데 사실 파일 이름이 꼭 `__init__.py`이어야 하는것은 아니야. "
   ]
  },
  {
   "cell_type": "markdown",
   "id": "greek-classic",
   "metadata": {},
   "source": [
    "**(수아)** `vec?`의 실행결과 `Docstring:`이 있는것으로 보아 `__init__.py`상단에 \n",
    "```\n",
    "'''\n",
    "이 패키지는 현재 길이가 2,3인 벡터의 연산만 지원하지만 추후 업데이트하여 더욱 발전할 예정\n",
    "'''\n",
    "```\n",
    "이라는 내용이 있다고 유추할 수 있어. "
   ]
  }
 ],
 "metadata": {
  "kernelspec": {
   "display_name": "Python 3",
   "language": "python",
   "name": "python3"
  },
  "language_info": {
   "codemirror_mode": {
    "name": "ipython",
    "version": 3
   },
   "file_extension": ".py",
   "mimetype": "text/x-python",
   "name": "python",
   "nbconvert_exporter": "python",
   "pygments_lexer": "ipython3",
   "version": "3.8.5"
  }
 },
 "nbformat": 4,
 "nbformat_minor": 5
}
