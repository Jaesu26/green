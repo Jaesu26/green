{
 "cells": [
  {
   "cell_type": "markdown",
   "id": "quantitative-workstation",
   "metadata": {},
   "source": [
    "# map함수(작성 중)\n",
    "\n",
    "> \"map 함수란?\"\n",
    "\n",
    "- toc: true\n",
    "- branch: master\n",
    "- badges: true\n",
    "- comments: true\n",
    "- author: 한재수\n",
    "- categories: [python]"
   ]
  },
  {
   "cell_type": "markdown",
   "id": "suffering-boston",
   "metadata": {},
   "source": [
    "- map 함수는 리스트의 요소를 지정된 함수로 처리한다.\n",
    "- 여러 개의 데이터를 한 번에 다른 형태로 변화하기 위해 사용한다."
   ]
  },
  {
   "cell_type": "markdown",
   "id": "closing-finding",
   "metadata": {},
   "source": [
    "## map함수 특징"
   ]
  },
  {
   "cell_type": "markdown",
   "id": "intellectual-exposure",
   "metadata": {},
   "source": [
    "- map 함수는 원본 리스트를 변경하지 않고 새 리스트를 생성한다.\n",
    "- map 함수는 map 타입으로 결과를 리턴하기 때문에 리스트나 튜플 등으로 변환한다."
   ]
  },
  {
   "cell_type": "markdown",
   "id": "threaded-cloud",
   "metadata": {},
   "source": [
    "### map함수 사용법"
   ]
  },
  {
   "cell_type": "markdown",
   "id": "widespread-beijing",
   "metadata": {},
   "source": [
    "- `map(함수, 반복가능한 객체)`"
   ]
  },
  {
   "cell_type": "code",
   "execution_count": 1,
   "id": "vanilla-instrument",
   "metadata": {},
   "outputs": [
    {
     "name": "stdout",
     "output_type": "stream",
     "text": [
      "<map object at 0x0000023B6D93D040>\n"
     ]
    }
   ],
   "source": [
    "x = [1.1, 2.1, 3.1, 4.1]\n",
    "y = map(int, x)\n",
    "print(y)"
   ]
  },
  {
   "cell_type": "markdown",
   "id": "animated-white",
   "metadata": {},
   "source": [
    "- map 함수는 map 타입으로 결과를 리턴하기 때문에 리스트나 튜플 등으로 변환한다. $\\rightarrow  [\\star$]  **변환하지 않으면 위와 같은 결과를 출력한다.** [$\\star$]\n",
    "- `print(y)`하지 않고 그냥 `y`만 입력해도 된다."
   ]
  },
  {
   "cell_type": "code",
   "execution_count": 2,
   "id": "artificial-surrey",
   "metadata": {},
   "outputs": [
    {
     "data": {
      "text/plain": [
       "[1, 2, 3, 4]"
      ]
     },
     "execution_count": 2,
     "metadata": {},
     "output_type": "execute_result"
    }
   ],
   "source": [
    "x = [1.1, 2.1, 3.1, 4.1]\n",
    "y = list(map(int, x))\n",
    "y"
   ]
  },
  {
   "cell_type": "code",
   "execution_count": 3,
   "id": "constitutional-platinum",
   "metadata": {},
   "outputs": [],
   "source": [
    "def minus(a):\n",
    "    return a - 0.1"
   ]
  },
  {
   "cell_type": "code",
   "execution_count": 4,
   "id": "primary-rugby",
   "metadata": {},
   "outputs": [
    {
     "data": {
      "text/plain": [
       "[1.0, 2.0, 3.0, 3.9999999999999996]"
      ]
     },
     "execution_count": 4,
     "metadata": {},
     "output_type": "execute_result"
    }
   ],
   "source": [
    "list(map(minus, x))"
   ]
  },
  {
   "cell_type": "markdown",
   "id": "western-football",
   "metadata": {},
   "source": [
    "- minus 함수는 map함수를 위해 한 번 쓰고 버려질 운명이다. 만드는게 귀찮음..."
   ]
  },
  {
   "cell_type": "markdown",
   "id": "available-fortune",
   "metadata": {},
   "source": [
    "#### map 함수에 람다 식 사용"
   ]
  },
  {
   "cell_type": "code",
   "execution_count": 5,
   "id": "frozen-strand",
   "metadata": {},
   "outputs": [
    {
     "data": {
      "text/plain": [
       "[1.0, 2.0, 3.0, 3.9999999999999996]"
      ]
     },
     "execution_count": 5,
     "metadata": {},
     "output_type": "execute_result"
    }
   ],
   "source": [
    "x = [1.1, 2.1, 3.1, 4.1]\n",
    "list(map(lambda a: a - 0.1, x))"
   ]
  },
  {
   "cell_type": "markdown",
   "id": "exposed-transparency",
   "metadata": {},
   "source": [
    "#### input().split()과 map"
   ]
  },
  {
   "cell_type": "markdown",
   "id": "korean-hungarian",
   "metadata": {},
   "source": [
    "- `input()`함수는 c언어의 `scanf()`함수와 비슷하다."
   ]
  },
  {
   "cell_type": "code",
   "execution_count": 7,
   "id": "secret-peter",
   "metadata": {},
   "outputs": [
    {
     "name": "stdin",
     "output_type": "stream",
     "text": [
      " hello\n"
     ]
    }
   ],
   "source": [
    "z = input()"
   ]
  },
  {
   "cell_type": "code",
   "execution_count": 8,
   "id": "guilty-instruction",
   "metadata": {},
   "outputs": [
    {
     "data": {
      "text/plain": [
       "'hello'"
      ]
     },
     "execution_count": 8,
     "metadata": {},
     "output_type": "execute_result"
    }
   ],
   "source": [
    "z"
   ]
  },
  {
   "cell_type": "markdown",
   "id": "fewer-example",
   "metadata": {},
   "source": [
    "- `input()`으로 입력받은 값은 `문자열`이다."
   ]
  },
  {
   "cell_type": "code",
   "execution_count": 9,
   "id": "tracked-blowing",
   "metadata": {},
   "outputs": [
    {
     "name": "stdin",
     "output_type": "stream",
     "text": [
      " 123\n"
     ]
    }
   ],
   "source": [
    "n = input()"
   ]
  },
  {
   "cell_type": "code",
   "execution_count": 10,
   "id": "valuable-subscription",
   "metadata": {},
   "outputs": [
    {
     "data": {
      "text/plain": [
       "str"
      ]
     },
     "execution_count": 10,
     "metadata": {},
     "output_type": "execute_result"
    }
   ],
   "source": [
    "type(n)"
   ]
  },
  {
   "cell_type": "markdown",
   "id": "guided-newman",
   "metadata": {},
   "source": [
    "- `input()`함수에서 `안내문구`를 추가할 수 도 있다."
   ]
  },
  {
   "cell_type": "code",
   "execution_count": 11,
   "id": "distinct-desperate",
   "metadata": {},
   "outputs": [
    {
     "name": "stdin",
     "output_type": "stream",
     "text": [
      "숫자 하나를 입력하세요: 26\n"
     ]
    }
   ],
   "source": [
    "Q = input('숫자 하나를 입력하세요:')"
   ]
  },
  {
   "cell_type": "code",
   "execution_count": 12,
   "id": "premier-translation",
   "metadata": {},
   "outputs": [
    {
     "data": {
      "text/plain": [
       "'26'"
      ]
     },
     "execution_count": 12,
     "metadata": {},
     "output_type": "execute_result"
    }
   ],
   "source": [
    "Q"
   ]
  },
  {
   "cell_type": "markdown",
   "id": "residential-october",
   "metadata": {},
   "source": [
    "- input()함수의 출력값을 문자열이 아닌 다른 자료형으로 바꾸고 싶다면?"
   ]
  },
  {
   "cell_type": "code",
   "execution_count": 13,
   "id": "rotary-bacon",
   "metadata": {},
   "outputs": [
    {
     "name": "stdin",
     "output_type": "stream",
     "text": [
      "숫자 하나를 입력하세요: 123\n"
     ]
    }
   ],
   "source": [
    "w = int(input('숫자 하나를 입력하세요:'))"
   ]
  },
  {
   "cell_type": "code",
   "execution_count": 14,
   "id": "guided-courage",
   "metadata": {},
   "outputs": [
    {
     "data": {
      "text/plain": [
       "int"
      ]
     },
     "execution_count": 14,
     "metadata": {},
     "output_type": "execute_result"
    }
   ],
   "source": [
    "type(w)"
   ]
  },
  {
   "cell_type": "code",
   "execution_count": null,
   "id": "wireless-underground",
   "metadata": {},
   "outputs": [],
   "source": []
  }
 ],
 "metadata": {
  "kernelspec": {
   "display_name": "Python 3",
   "language": "python",
   "name": "python3"
  },
  "language_info": {
   "codemirror_mode": {
    "name": "ipython",
    "version": 3
   },
   "file_extension": ".py",
   "mimetype": "text/x-python",
   "name": "python",
   "nbconvert_exporter": "python",
   "pygments_lexer": "ipython3",
   "version": "3.8.8"
  }
 },
 "nbformat": 4,
 "nbformat_minor": 5
}
