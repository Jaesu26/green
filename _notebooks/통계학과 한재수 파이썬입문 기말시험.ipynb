{
 "cells": [
  {
   "cell_type": "code",
   "execution_count": 18,
   "id": "surprised-irrigation",
   "metadata": {},
   "outputs": [],
   "source": [
    "import pandas as pd\n",
    "import numpy as np\n",
    "\n",
    "class nexon():\n",
    "    '''\n",
    "    202016248 통계학과 한재수 파이썬 기말시험 1번 문제에 대한 코드\n",
    "    '''\n",
    "    \n",
    "    def __init__(self):\n",
    "        self.upgradestate = pd.DataFrame({'day0':[0]*100})\n",
    "        self.prob = 0.3\n",
    "        self.i = 1\n",
    "        \n",
    "    def attempt(self):\n",
    "        self.attemptresult = np.random.binomial(n=1, p=self.prob, size=100) \n",
    "           \n",
    "    def update(self):\n",
    "        self.upgradestate['day%s' % self.i] = np.minimum(self.upgradestate['day%s' % (self.i-1)] + self.attemptresult, 5) ## +5이후로는 증가하지 않는다  \n",
    "        self.ratio = sum(self.upgradestate.loc[:,'day%s' % self.i] == 5) / 100\n",
    "        \n",
    "    \n",
    "\n",
    "        \n",
    "    "
   ]
  },
  {
   "cell_type": "code",
   "execution_count": 19,
   "id": "enclosed-defensive",
   "metadata": {},
   "outputs": [
    {
     "data": {
      "text/plain": [
       "100.0"
      ]
     },
     "execution_count": 19,
     "metadata": {},
     "output_type": "execute_result"
    }
   ],
   "source": [
    "## 시뮬레이션\n",
    "#1-(1)\n",
    "test1=nexon()\n",
    "for test1.i in range(1,63):\n",
    "    test1.attempt()\n",
    "    test1.update()\n",
    "    \n",
    "100*test1.ratio ## 62일후 100명중 몇명이 +5강화 상태인가?\n",
    "\n",
    "## 시뮬레이션 결과 100명이였다\n",
    "    "
   ]
  },
  {
   "cell_type": "code",
   "execution_count": 20,
   "id": "first-monroe",
   "metadata": {},
   "outputs": [],
   "source": [
    "class nexon2(nexon):\n",
    "    '''\n",
    "    202016248 통계학과 한재수 파이썬 기말시험 2번 문제에 대한 코드\n",
    "    '''\n",
    "    \n",
    "    def __init__(self):\n",
    "        nexon.__init__(self)\n",
    "        self.prob = 0.7\n",
    "        self.failstate = pd.DataFrame({'day0':[0]*100})\n",
    "        \n",
    "    def update(self):\n",
    "        nexon.update(self)\n",
    "        self.failstate['day%s' % self.i] = self.failstate['day%s' % (self.i-1)] + (self.attemptresult==0)*1\n",
    "        for j in range(100):\n",
    "            if (self.upgradestate.iloc[j,self.i] == 0) and (self.upgradestate.iloc[j,(self.i-1)]) == 0:\n",
    "                self.failstate.iloc[j,self.i] = self.failstate.iloc[j,self.i]-1 \n",
    "            ## i-1번째 + 강화시도(0 or 1) = i번째\n",
    "            ## i,i-1번째 강화상태가 0이라는 의미는 i-1째에 시도한 강화가 실패했다는 의미.\n",
    "            ## upgradestate가 0이라는 의미는 실패했다는 것이므로 실패횟수가 하나 쌓인다. \n",
    "            ## +0에서는 실패횟수가 쌓이지 않으므로 failstate값을 하나 뺀다.\n",
    "            \n",
    "            if (self.upgradestate.iloc[j,self.i] == 5) and (self.attemptresult[j] == 0):\n",
    "            ## i-1번째 + 강화시도(0 or 1) = i번째 \n",
    "            ## i번째가 +5강화이면서 i-1번째 시도한 강화가 실패라는 의미는\n",
    "            ## i-1번째가 +5강화였다는 의미이다. 그러므로 i번째 실패횟수가 +1 됐을것이다.\n",
    "            ## +5강화에서는 강화를 도전하지 않을 것이다.\n",
    "            ## 그러므로 i번째 실패횟수를 1을 감소시킨다.\n",
    "                self.failstate.iloc[j,self.i] = self.failstate.iloc[j,self.i]-1 \n",
    "            ## +5에서는 강화를 시도하지 않을것이므로 \n",
    "            ## 만약 실패했다면 failstate값을 하나 뺀다.\n",
    "                \n",
    "    def reset(self): \n",
    "        for j in range(100):\n",
    "            if (self.upgradestate.iloc[j,self.i] >0) and (self.upgradestate.iloc[j,self.i] < 5):\n",
    "            ## 위에 코드는 update()에서 검증하였으므로 주석표시로 바꾼다\n",
    "            ## 더 정확하게 하기 위해 코드로 냅두자(update함수를 사용하지 않으면 오류가 생길수도?)\n",
    "                if self.failstate.iloc[j,self.i] == 2:\n",
    "                    self.failstate.iloc[j,self.i] = 0\n",
    "                    self.upgradestate.iloc[j,self.i] = 0\n",
    "            ## 실패스택이 2라면 실패스택을 0으로 바꾸고 강화상태를 +0으로 바꾼다 \n",
    "            \n",
    "    def arrangeprobt(self):\n",
    "        if self.ratio >= 0.5:\n",
    "            self.prob = 0.9\n",
    "            \n",
    "        ## +5강 비율이 50%이상이라면 전체유저의 강화 성공확률을 90%로 바꾼다.\n",
    "                    \n",
    "            \n",
    "\n",
    "        \n",
    "        \n",
    "    \n",
    "        \n",
    "    "
   ]
  },
  {
   "cell_type": "code",
   "execution_count": 22,
   "id": "combined-lithuania",
   "metadata": {},
   "outputs": [
    {
     "data": {
      "text/plain": [
       "100.0"
      ]
     },
     "execution_count": 22,
     "metadata": {},
     "output_type": "execute_result"
    }
   ],
   "source": [
    "## 시뮬레이션 \n",
    "#2-(1)\n",
    "test2=nexon2()\n",
    "for test2.i in range(1,63):\n",
    "    test2.attempt()\n",
    "    test2.update()\n",
    "    test2.reset()\n",
    "    \n",
    "100*test2.ratio  ## 62일후 100명중 몇명이 +5강화 상태인가?\n",
    "\n",
    "## 시뮬레이션 결과 100명이였다.\n",
    "\n",
    "\n",
    "                \n",
    "            \n",
    "            "
   ]
  },
  {
   "cell_type": "code",
   "execution_count": 38,
   "id": "mighty-round",
   "metadata": {},
   "outputs": [
    {
     "data": {
      "text/plain": [
       "100.0"
      ]
     },
     "execution_count": 38,
     "metadata": {},
     "output_type": "execute_result"
    }
   ],
   "source": [
    "## 시뮬레이션\n",
    "#2-(2)\n",
    "test3=nexon2()\n",
    "for test3.i in range(1,32):\n",
    "    test3.attempt()\n",
    "    test3.update()\n",
    "    test3.reset()\n",
    "\n",
    "100*test3.ratio  ## 31일후 100명중 몇명이 +5강화 상태인가?\n",
    "\n",
    "## 시뮬레이션 결과 100명이였다.\n",
    "\n",
    "\n",
    "    "
   ]
  },
  {
   "cell_type": "code",
   "execution_count": 37,
   "id": "martial-mortality",
   "metadata": {},
   "outputs": [
    {
     "data": {
      "text/plain": [
       "100.0"
      ]
     },
     "execution_count": 37,
     "metadata": {},
     "output_type": "execute_result"
    }
   ],
   "source": [
    "## 시뮬레이션\n",
    "#2-(3)\n",
    "test4=nexon2()\n",
    "for test4.i in range(1,63):\n",
    "    test4.attempt()\n",
    "    test4.update()\n",
    "    test4.reset()\n",
    "    test4.arrangeprobt()\n",
    "    \n",
    "100*test4.ratio  ## 과반수가 +5강화 일때 성공확률을 0.9로 바꾼다,62일후 100명중 몇명이 +5강화 상태인가?\n",
    "\n",
    "## 시뮬레이션 결과 100명이였다.\n"
   ]
  },
  {
   "cell_type": "markdown",
   "id": "immediate-dining",
   "metadata": {},
   "source": [
    "#3 다음문장을 잘 읽고 참 거짓을 판단하여라. (10점)\n",
    "\n",
    "(1) tuple은 원소의 값을 임의로 바꿀 수 있다.=> '거짓'\n",
    "\n",
    "(2) class 에 정의된 함수(=메서드)는 self 만을 인자로 받을수 있다.=> '거짓'\n"
   ]
  },
  {
   "cell_type": "code",
   "execution_count": null,
   "id": "handed-paradise",
   "metadata": {},
   "outputs": [],
   "source": []
  }
 ],
 "metadata": {
  "kernelspec": {
   "display_name": "Python 3",
   "language": "python",
   "name": "python3"
  },
  "language_info": {
   "codemirror_mode": {
    "name": "ipython",
    "version": 3
   },
   "file_extension": ".py",
   "mimetype": "text/x-python",
   "name": "python",
   "nbconvert_exporter": "python",
   "pygments_lexer": "ipython3",
   "version": "3.8.8"
  }
 },
 "nbformat": 4,
 "nbformat_minor": 5
}
